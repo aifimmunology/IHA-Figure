{
 "cells": [
  {
   "cell_type": "code",
   "execution_count": 1,
   "id": "88077f10-4662-4194-9660-ae4f3871df46",
   "metadata": {},
   "outputs": [
    {
     "name": "stderr",
     "output_type": "stream",
     "text": [
      "Loading required package: tidyverse\n",
      "\n",
      "── \u001b[1mAttaching core tidyverse packages\u001b[22m ──────────────────────── tidyverse 2.0.0 ──\n",
      "\u001b[32m✔\u001b[39m \u001b[34mdplyr    \u001b[39m 1.1.4     \u001b[32m✔\u001b[39m \u001b[34mreadr    \u001b[39m 2.1.4\n",
      "\u001b[32m✔\u001b[39m \u001b[34mforcats  \u001b[39m 1.0.0     \u001b[32m✔\u001b[39m \u001b[34mstringr  \u001b[39m 1.5.1\n",
      "\u001b[32m✔\u001b[39m \u001b[34mggplot2  \u001b[39m 3.5.0     \u001b[32m✔\u001b[39m \u001b[34mtibble   \u001b[39m 3.2.1\n",
      "\u001b[32m✔\u001b[39m \u001b[34mlubridate\u001b[39m 1.9.3     \u001b[32m✔\u001b[39m \u001b[34mtidyr    \u001b[39m 1.3.1\n",
      "\u001b[32m✔\u001b[39m \u001b[34mpurrr    \u001b[39m 1.0.2     \n",
      "── \u001b[1mConflicts\u001b[22m ────────────────────────────────────────── tidyverse_conflicts() ──\n",
      "\u001b[31m✖\u001b[39m \u001b[34mdplyr\u001b[39m::\u001b[32mfilter()\u001b[39m masks \u001b[34mstats\u001b[39m::filter()\n",
      "\u001b[31m✖\u001b[39m \u001b[34mdplyr\u001b[39m::\u001b[32mlag()\u001b[39m    masks \u001b[34mstats\u001b[39m::lag()\n",
      "\u001b[36mℹ\u001b[39m Use the conflicted package (\u001b[3m\u001b[34m<http://conflicted.r-lib.org/>\u001b[39m\u001b[23m) to force all conflicts to become errors\n",
      "Loading required package: data.table\n",
      "\n",
      "\n",
      "Attaching package: ‘data.table’\n",
      "\n",
      "\n",
      "The following objects are masked from ‘package:lubridate’:\n",
      "\n",
      "    hour, isoweek, mday, minute, month, quarter, second, wday, week,\n",
      "    yday, year\n",
      "\n",
      "\n",
      "The following objects are masked from ‘package:dplyr’:\n",
      "\n",
      "    between, first, last\n",
      "\n",
      "\n",
      "The following object is masked from ‘package:purrr’:\n",
      "\n",
      "    transpose\n",
      "\n",
      "\n",
      "Loading required package: viridis\n",
      "\n",
      "Loading required package: viridisLite\n",
      "\n",
      "Loading required package: corrplot\n",
      "\n",
      "corrplot 0.85 loaded\n",
      "\n",
      "Loading required package: reshape2\n",
      "\n",
      "\n",
      "Attaching package: ‘reshape2’\n",
      "\n",
      "\n",
      "The following objects are masked from ‘package:data.table’:\n",
      "\n",
      "    dcast, melt\n",
      "\n",
      "\n",
      "The following object is masked from ‘package:tidyr’:\n",
      "\n",
      "    smiths\n",
      "\n",
      "\n",
      "Loading required package: RSpectra\n",
      "\n",
      "Loading required package: calecopal\n",
      "\n",
      "Loading required package: PNWColors\n",
      "\n",
      "Loading required package: ggbeeswarm\n",
      "\n",
      "Loading required package: ggrepel\n",
      "\n",
      "Loading required package: ggsignif\n",
      "\n",
      "Loading required package: UpSetR\n",
      "\n",
      "Loading required package: ggpubr\n",
      "\n"
     ]
    }
   ],
   "source": [
    "require(tidyverse)\n",
    "require(ggplot2)\n",
    "require(data.table)\n",
    "require(viridis)\n",
    "require(corrplot)\n",
    "require(reshape2)\n",
    "require(RSpectra)\n",
    "require(viridis)\n",
    "require(calecopal)\n",
    "require(PNWColors)\n",
    "require(corrplot)\n",
    "require(reshape2)\n",
    "require(ggbeeswarm)\n",
    "require(ggrepel)\n",
    "require(ggsignif)\n",
    "require(UpSetR)\n",
    "require(ggpubr)\n",
    "source('Marla_function.r')\n",
    "source('/home//jupyter/BRI_Figures_Final_V2/helper_function/helper_function_IHA.r')"
   ]
  },
  {
   "cell_type": "code",
   "execution_count": 2,
   "id": "e762c68a-c952-4392-905b-13892dec04f7",
   "metadata": {},
   "outputs": [],
   "source": [
    "###### USER INPUTS ######\n",
    "\n",
    "images.path <- \"\"\n",
    "dat.path <- \"/home/jupyter/BRI_Figures_Final_V2/Dataset/B_cell_clustered_flow/IHA_01089_PBMC_flow_bcell_clustered_dat.csv\"\n",
    "path <- \"\"\n",
    "\n",
    "factors <- c(\"cell_type\", \"donor\", \"timepoint\", \"group\", \"isotype\", \"cluster\", \"meta\", \"non_B\")\n",
    "\n",
    "donors <- c(\"BR1025\",\"BR1031\",\"BR1032\",\"BR1047\",\"BR1050\",\"BR1057\",\n",
    "            \"BR2013\",\"BR2021\",\"BR2023\",\"BR2039\",\"BR2044\",\"BR2051\")\n",
    "\n",
    "times <- c(\"day0\", \"day7\", \"day90\")\n",
    "time.colors <- c(\"#3E5641\", \"#A84D38\", \"#DE8A68\") %>% setNames(times) \n",
    "\n",
    "groups <- c(\"BR1\", \"BR2\")\n",
    "group.colors <- c(\"#C8E8C4\", \"#34236E\") %>% setNames(groups) \n",
    "\n",
    "active.factors <- c(\"CD69_pos\", \"CXCR3_pos\")\n",
    "active.colors <- pnw_palette(\"Bay\", 2) %>% as.vector() %>% setNames(active.factors)\n",
    "\n",
    "all.cols <- c(\"CD183\", \"CD69\",\t\"Lin\", \"CD19\", \"CD45RB\", \"CD24\", \"CD20\", \"HLA_DR\",\t\"CD27\",\t\"CD10\",\t\n",
    "              \"CD21\", \"CD73\", \"CD95\", \"CD11c\", \"CD23\", \"CD32\", \"CD38\",\n",
    "              \"IgG\", \"IgA\", \"IgD\", \"IgM\")\n",
    "\n",
    "surface.markers <- c(\"CD183\", \"CD69\",\t\"Lin\", \"CD19\", \"CD45RB\",\t\"CD24\", \"CD20\",\t\"HLA_DR\",\t\"CD27\",\t\"CD10\",\t\n",
    "                     \"CD21\", \"CD73\", \"CD95\", \"CD11c\", \"CD23\", \"CD32\", \"CD38\",\n",
    "                     \"IgG\", \"IgA\", \"IgD\", \"IgM\")\n",
    "\n",
    "pal <- cal_palette(name=\"lupinus\", n=6, type=\"continuous\")\n",
    "pal2 <- cal_palette(name=\"canary\", n=6, type=\"continuous\")\n",
    "donor.colors <- c(pal, pal2) %>% setNames(donors)\n",
    "\n",
    "subsets.orig <- c(\"CD11c_Effector\", \"Early_Memory\", \"Core_Memory\", \"CD95_Memory\", \"T2MBC\",\n",
    "             \"Transitional\", \"Naive\", \n",
    "             \"Plasma\")\n",
    "subsets <- c(\"CD27_neg_Effector\", \"CD27_pos_Effector\", \"Early_Memory\", \"Core_Memory\", \"CD95_Memory\", \"T2MBC\",\n",
    "             \"Transitional\", \"Naive\", \n",
    "             \"Plasma\")\n",
    "subset.colors <- c(\"#F9B5AC\", \"#861D31\", \"#C4E2E1\", \"#338481\", \"#263FA6\", \"#02F2BE\", \"#805D93\", \"#CF7C63\", \"#323949\") %>% setNames(subsets)\n",
    "\n",
    "isotypes <- c(\"IgD\", \"IgMD\", \"IgM\", \"IgG\", \"IgA\", \"ND\", \"surface_Ig-\")\n",
    "isotype.colors <- c(\"#664A5B\", \"#C05746\", \"#4D7184\", \"#8DB979\", \"#012A36\", \"#D1D2D4\", \"#ED7D3B\") %>% setNames(isotypes)\n",
    "isotype.channels <- isotypes[c(1, 3, 4, 5)]"
   ]
  },
  {
   "cell_type": "code",
   "execution_count": 22,
   "id": "2ca0ce8e-5e42-44ce-b1bf-30d433c1bb80",
   "metadata": {},
   "outputs": [
    {
     "name": "stdout",
     "output_type": "stream",
     "text": [
      "[1] \"Setting cutoffs CXCR3+ B cells\"\n"
     ]
    },
    {
     "name": "stderr",
     "output_type": "stream",
     "text": [
      "Warning message:\n",
      "“\u001b[1m\u001b[22mRemoved 765 rows containing missing values or values outside the scale range\n",
      "(`geom_point()`).”\n",
      "Warning message:\n",
      "“\u001b[1m\u001b[22mRemoved 765 rows containing missing values or values outside the scale range\n",
      "(`geom_point()`).”\n"
     ]
    },
    {
     "name": "stdout",
     "output_type": "stream",
     "text": [
      "[1] \"Setting cutoffs CD69+ B cells\"\n"
     ]
    },
    {
     "name": "stderr",
     "output_type": "stream",
     "text": [
      "Warning message:\n",
      "“\u001b[1m\u001b[22mRemoved 5 rows containing missing values or values outside the scale range\n",
      "(`geom_point()`).”\n",
      "Warning message:\n",
      "“\u001b[1m\u001b[22mRemoved 5 rows containing missing values or values outside the scale range\n",
      "(`geom_point()`).”\n"
     ]
    },
    {
     "name": "stdout",
     "output_type": "stream",
     "text": [
      "[1] \"Setting cutoffs CD27+ B cells\"\n"
     ]
    },
    {
     "name": "stderr",
     "output_type": "stream",
     "text": [
      "Warning message:\n",
      "“\u001b[1m\u001b[22mRemoved 1 row containing missing values or values outside the scale range\n",
      "(`geom_point()`).”\n",
      "Warning message:\n",
      "“\u001b[1m\u001b[22mRemoved 1 row containing missing values or values outside the scale range\n",
      "(`geom_point()`).”\n",
      "Warning message:\n",
      "“\u001b[1m\u001b[22mRemoved 1 row containing missing values or values outside the scale range\n",
      "(`geom_point()`).”\n",
      "Warning message in grid.Call.graphics(C_points, x$x, x$y, x$pch, x$size):\n",
      "“semi-transparency is not supported on this device: reported only once per page”\n",
      "Warning message:\n",
      "“\u001b[1m\u001b[22mRemoved 1 row containing missing values or values outside the scale range\n",
      "(`geom_point()`).”\n"
     ]
    }
   ],
   "source": [
    "# upload data\n",
    "dat <- fread(dat.path) %>%\n",
    "  as.data.table() %>%\n",
    "  .[non_B==T, meta:=\"NA\"] %>% \n",
    "  .[meta==\"RBposCD27neg_Early_Memory\", meta:=\"Early_Memory\"] %>%\n",
    "  .[meta==\"RBposCD27pos_Memory\", meta:=\"Core_Memory\"] %>% \n",
    "  .[, `:=`(donor=factor(donor, levels=donors),\n",
    "           cell_type=factor(cell_type), \n",
    "           timepoint=factor(timepoint, levels=times), \n",
    "           group=factor(group, levels=groups),\n",
    "           isotype=factor(isotype, levels=isotypes), \n",
    "           meta=factor(meta, levels=subsets.orig))] %>%\n",
    "  setCutoffsMarkers() %>% \n",
    "  .[, `:=`(donor=factor(donor, levels=donors),\n",
    "           cell_type=factor(cell_type), \n",
    "           timepoint=factor(timepoint, levels=times), \n",
    "           group=factor(group, levels=groups),\n",
    "           isotype=factor(isotype, levels=isotypes), \n",
    "           meta=factor(meta, levels=subsets.orig))] %>% \n",
    "  .[meta==\"CD11c_Effector\" & CD27_pos==F, meta:=\"CD27_neg_Effector\"] %>%\n",
    "  .[meta==\"CD11c_Effector\" & CD27_pos==T, meta:=\"CD27_pos_Effector\"] %>% \n",
    "  .[, `:=`(donor=factor(donor, levels=donors),\n",
    "           cell_type=factor(cell_type), \n",
    "           timepoint=factor(timepoint, levels=times), \n",
    "           group=factor(group, levels=groups),\n",
    "           isotype=factor(isotype, levels=isotypes), \n",
    "           meta=factor(meta, levels=subsets))]\n"
   ]
  },
  {
   "cell_type": "code",
   "execution_count": 4,
   "id": "8d41c3f1-e3ee-4758-95d6-a69a2d60d327",
   "metadata": {},
   "outputs": [],
   "source": [
    "dat<-dat[is.na(meta), meta:=\"non_B\"]"
   ]
  },
  {
   "cell_type": "code",
   "execution_count": 5,
   "id": "914edac1-d1d3-4aa7-b3d4-dc63711e2ffc",
   "metadata": {},
   "outputs": [],
   "source": [
    "df_freq<-as.data.frame(table(dat$donor,dat$timepoint,dat$meta))"
   ]
  },
  {
   "cell_type": "code",
   "execution_count": 6,
   "id": "957ab1ea-1cd6-4d73-a771-31e084700372",
   "metadata": {},
   "outputs": [],
   "source": [
    "colnames(df_freq)<-c(\"donor\",\"timepoint\",'celltype',\"Counts\")"
   ]
  },
  {
   "cell_type": "code",
   "execution_count": 7,
   "id": "ede23913-a7da-4336-8a88-97acdc9c2309",
   "metadata": {},
   "outputs": [],
   "source": [
    "df_freq<-df_freq %>% group_by(donor,timepoint) %>% mutate(frequency=Counts/sum(Counts)*100) %>% mutate(frequency_clr=clr_transform(frequency))"
   ]
  },
  {
   "cell_type": "code",
   "execution_count": 8,
   "id": "6c3a3510-14b8-45e9-8cb0-2016e1c8c6e6",
   "metadata": {},
   "outputs": [],
   "source": [
    "write.csv(df_freq,\"Flow_Frequency.csv\")"
   ]
  },
  {
   "cell_type": "markdown",
   "id": "47061654-1295-4610-b9d3-0a99505706d1",
   "metadata": {},
   "source": [
    "# Get Frequency of IgG in CD27 neg effector B"
   ]
  },
  {
   "cell_type": "code",
   "execution_count": 58,
   "id": "98292308-57ef-4bf5-a4cf-7c61c2ac92d8",
   "metadata": {},
   "outputs": [],
   "source": [
    "dat_subet<-dat %>% filter(meta=='CD27_neg_Effector')#,isotype %in% c(\"IgG\", \"IgA\"))"
   ]
  },
  {
   "cell_type": "code",
   "execution_count": 59,
   "id": "2082ecc6-3958-4148-bdaf-37fff767d193",
   "metadata": {},
   "outputs": [],
   "source": [
    "df_freq<-as.data.frame(table(dat_subet$donor,dat_subet$timepoint,dat_subet$isotype))"
   ]
  },
  {
   "cell_type": "code",
   "execution_count": 60,
   "id": "49ec46d3-78a7-4fa6-86a8-a20128eff52b",
   "metadata": {},
   "outputs": [],
   "source": [
    "colnames(df_freq)<-c(\"donor\",\"timepoint\",'Isotype',\"Counts\")"
   ]
  },
  {
   "cell_type": "code",
   "execution_count": 61,
   "id": "3ad9970f-63a0-4d96-9316-fe6582fb5cd8",
   "metadata": {},
   "outputs": [],
   "source": [
    "df_freq<-df_freq%>% filter(!Counts==0)"
   ]
  },
  {
   "cell_type": "code",
   "execution_count": 62,
   "id": "99391943-3054-499d-bf33-04fd45aeb6e2",
   "metadata": {},
   "outputs": [],
   "source": [
    "df_freq<-df_freq %>% group_by(donor,timepoint) %>% mutate(frequency=Counts/sum(Counts)*100) %>% mutate(frequency_clr=clr_transform(frequency))"
   ]
  },
  {
   "cell_type": "code",
   "execution_count": 63,
   "id": "a852d0a8-ae4c-4d89-b813-2ff5fb2f6038",
   "metadata": {},
   "outputs": [],
   "source": [
    "write.csv(df_freq,\"Flow_Frequency_CD27neg_effector_B_Isotye.csv\")"
   ]
  },
  {
   "cell_type": "code",
   "execution_count": null,
   "id": "62eeb42f-13a2-4b75-b981-9c2a61ec8d29",
   "metadata": {},
   "outputs": [],
   "source": []
  },
  {
   "cell_type": "markdown",
   "id": "dcf955ff-1f97-490b-b5b5-f1f6daee31bf",
   "metadata": {},
   "source": [
    "# Get Frequency of IgG in CD27 pos effector B"
   ]
  },
  {
   "cell_type": "code",
   "execution_count": 64,
   "id": "79aad860-a732-4a67-a5dd-fb9e08a08bcf",
   "metadata": {},
   "outputs": [],
   "source": [
    "dat_subet<-dat %>% filter(meta=='CD27_pos_Effector')#,isotype %in% c(\"IgG\", \"IgA\"))"
   ]
  },
  {
   "cell_type": "code",
   "execution_count": 65,
   "id": "9f7bedfd-1a09-49ed-beb9-05e3c5c9ba64",
   "metadata": {},
   "outputs": [],
   "source": [
    "df_freq<-as.data.frame(table(dat_subet$donor,dat_subet$timepoint,dat_subet$isotype))"
   ]
  },
  {
   "cell_type": "code",
   "execution_count": 66,
   "id": "84bec89b-584d-4072-a486-39fc7b52e96a",
   "metadata": {},
   "outputs": [],
   "source": [
    "colnames(df_freq)<-c(\"donor\",\"timepoint\",'Isotype',\"Counts\")"
   ]
  },
  {
   "cell_type": "code",
   "execution_count": 67,
   "id": "58d53795-74f4-4f88-844e-9681c130ad80",
   "metadata": {},
   "outputs": [],
   "source": [
    "df_freq<-df_freq%>% filter(!Counts==0)"
   ]
  },
  {
   "cell_type": "code",
   "execution_count": 68,
   "id": "036f9424-0bb0-4726-8bc0-5a0f573efe46",
   "metadata": {},
   "outputs": [],
   "source": [
    "df_freq<-df_freq %>% group_by(donor,timepoint) %>% mutate(frequency=Counts/sum(Counts)*100) %>% mutate(frequency_clr=clr_transform(frequency))"
   ]
  },
  {
   "cell_type": "code",
   "execution_count": 69,
   "id": "34a9642b-faee-4925-94ca-a6762a3a4a70",
   "metadata": {},
   "outputs": [],
   "source": [
    "write.csv(df_freq,\"Flow_Frequency_CD27pos_effector_B_Isotye.csv\")"
   ]
  },
  {
   "cell_type": "code",
   "execution_count": null,
   "id": "03bd107b-afc5-41bf-9635-e566d0fb7064",
   "metadata": {},
   "outputs": [],
   "source": []
  }
 ],
 "metadata": {
  "kernelspec": {
   "display_name": "R 4",
   "language": "R",
   "name": "ir4"
  },
  "language_info": {
   "codemirror_mode": "r",
   "file_extension": ".r",
   "mimetype": "text/x-r-source",
   "name": "R",
   "pygments_lexer": "r",
   "version": "4.3.2"
  }
 },
 "nbformat": 4,
 "nbformat_minor": 5
}
