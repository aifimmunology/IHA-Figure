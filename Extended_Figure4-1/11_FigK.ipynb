{
 "cells": [
  {
   "cell_type": "code",
   "execution_count": 2,
   "id": "5566ae19-f3e8-47a8-9d54-74b80513496a",
   "metadata": {},
   "outputs": [],
   "source": [
    "suppressPackageStartupMessages(library(dplyr))\n",
    "suppressPackageStartupMessages(library(tidyr))\n",
    "suppressPackageStartupMessages(library(tibble))\n",
    "suppressPackageStartupMessages(library(stringr))\n",
    "library(plyr)\n",
    "library(purrr)\n",
    "library(rstatix)\n",
    "library(ggpubr)\n",
    "library(ggrepel)"
   ]
  },
  {
   "cell_type": "code",
   "execution_count": 4,
   "id": "a26e5e8e-8c5c-4d4b-b116-99b0e6b925a3",
   "metadata": {},
   "outputs": [],
   "source": [
    "df<-read.csv('05_HAI/FC_phuket.csv')"
   ]
  },
  {
   "cell_type": "code",
   "execution_count": 5,
   "id": "1ff77028-3c08-4ad5-9b9c-c30d90dcda9b",
   "metadata": {},
   "outputs": [],
   "source": [
    "df <- df %>% dplyr::mutate(`Age Group` = case_when(\n",
    "  cohort.cohortGuid == \"BR1\" ~ \"Young\",\n",
    "  cohort.cohortGuid == \"BR2\" ~ \"Older\",\n",
    "  TRUE ~ NA_character_\n",
    "))\n",
    "df$`Age Group`<-factor(df$`Age Group`,levels=c(\"Young\",\"Older\"))"
   ]
  },
  {
   "cell_type": "code",
   "execution_count": 14,
   "id": "b3721702-8e24-4e36-b4fb-1ff820766f0f",
   "metadata": {},
   "outputs": [
    {
     "data": {
      "image/png": "[encoded data removed]",
      "text/plain": [
       "plot without title"
      ]
     },
     "metadata": {
      "image/png": {
       "height": 106.2992,
       "width": 94.4882
      }
     },
     "output_type": "display_data"
    }
   ],
   "source": [
    "options(repr.plot.width = 40/25.4, repr.plot.height = 45/25.4)\n",
    "\n",
    "\n",
    "p<-ggplot(df,aes(x=`Age Group`, y=fold_change, fill=`Age Group`)) +\n",
    "   geom_boxplot(outlier.shape = NA,lwd=0.3) +\n",
    "geom_point(position = position_jitter(width = 0.2),color=\"black\", size=0.8,stroke=0) +\n",
    "theme_classic(base_size=6)+  \n",
    "stat_compare_means( label = \"p.format\",method='wilcox.test',paired=FALSE,size=2.5,\n",
    "  comparisons = list(c(\"Older\", \"Young\")))+  \n",
    "\n",
    "    scale_fill_manual(values = c(\"Older\" = '#bf812d', \"Young\" = '#35978f'))+\n",
    "    scale_y_continuous(limits = c(NA, NA),\n",
    "                       expand = expansion(mult = c(0.1, 0.15)))+\n",
    "theme(legend.position=\"none\")+\n",
    "xlab('')+\n",
    "ylab('Delta Change (Day 7 - Day 0)')+\n",
    "theme(\n",
    "panel.border = element_blank())   + \n",
    "    theme(axis.line = element_line(colour = \"black\", linewidth = 0.1),\n",
    "          legend.position = \"top\",\n",
    "          legend.title = element_blank(),\n",
    "          panel.grid.major = element_blank(),\n",
    "          panel.grid.minor = element_blank(),\n",
    "          panel.border = element_blank(),\n",
    "          panel.background = element_blank(),\n",
    "          axis.title.x = element_text(margin = margin(t = 1)))\n",
    "p\n",
    "ggsave('FigureK.pdf',p,width = 40/25.4,height = 45/25.4)"
   ]
  },
  {
   "cell_type": "code",
   "execution_count": null,
   "id": "b4d981bf-7c31-4b07-9f2a-040e9396bf91",
   "metadata": {},
   "outputs": [],
   "source": []
  }
 ],
 "metadata": {
  "kernelspec": {
   "display_name": "R 4",
   "language": "R",
   "name": "ir4"
  },
  "language_info": {
   "codemirror_mode": "r",
   "file_extension": ".r",
   "mimetype": "text/x-r-source",
   "name": "R",
   "pygments_lexer": "r",
   "version": "4.3.2"
  }
 },
 "nbformat": 4,
 "nbformat_minor": 5
}
