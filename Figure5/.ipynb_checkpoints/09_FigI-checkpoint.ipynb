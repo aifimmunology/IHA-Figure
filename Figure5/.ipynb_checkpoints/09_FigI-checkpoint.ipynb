{
 "cells": [
  {
   "cell_type": "code",
   "execution_count": 61,
   "id": "65eb7c74-8017-4ac8-ad76-2cb473068dbb",
   "metadata": {},
   "outputs": [],
   "source": [
    "library(arrow)\n",
    "library(tidyverse)\n",
    "library(data.table)\n",
    "library(ggplot2)\n",
    "library(patchwork)\n",
    "library(reshape2)\n",
    "library(gridExtra)\n",
    "library(parallel)\n",
    "library(ggpubr)\n",
    "library(pheatmap)\n",
    "library(RColorBrewer)\n",
    "library(viridis)\n",
    "set.seed(42)"
   ]
  },
  {
   "cell_type": "code",
   "execution_count": 62,
   "id": "5f5f1f07-bc25-41ab-bddf-a0e49f362811",
   "metadata": {},
   "outputs": [],
   "source": [
    "clr_transform <- function(x) {\n",
    "  if (length(x) == 0) {\n",
    "    return(NA)  # return NA for empty vectors\n",
    "  }\n",
    "  geom_mean <- exp(mean(log(x)))\n",
    "  return(log(x / geom_mean))\n",
    "}\n",
    "\n",
    "save_pheatmap <- function(x, filename, width=12, height=12){\n",
    "  stopifnot(!missing(x))\n",
    "  stopifnot(!missing(filename))\n",
    "  if(grepl(\".png\",filename)){\n",
    "    png(filename, width=width, height=height, units = \"in\", res=300)\n",
    "    grid::grid.newpage()\n",
    "    grid::grid.draw(x$gtable)\n",
    "    dev.off()\n",
    "  }\n",
    "  else if(grepl(\".pdf\",filename)){\n",
    "    pdf(filename, width=width, height=height)\n",
    "    grid::grid.newpage()\n",
    "    grid::grid.draw(x$gtable)\n",
    "    dev.off()\n",
    "  }\n",
    "  else{\n",
    "    print(\"Filename did not contain '.png' or '.pdf'\")\n",
    "  }}"
   ]
  },
  {
   "cell_type": "code",
   "execution_count": 3,
   "id": "19798e23-a27c-4c9f-9357-e392919638bd",
   "metadata": {},
   "outputs": [],
   "source": [
    "meta_data <- read.csv(\"/home//workspace/IHA_Figure_Revision/Dataset/scRNA_meta_data-2024-05-09.csv\")"
   ]
  },
  {
   "cell_type": "code",
   "execution_count": 4,
   "id": "a47714e2-a555-48ce-9d7c-3e313fb491e0",
   "metadata": {},
   "outputs": [
    {
     "name": "stderr",
     "output_type": "stream",
     "text": [
      "\u001b[1mRows: \u001b[22m\u001b[34m6937027\u001b[39m \u001b[1mColumns: \u001b[22m\u001b[34m32\u001b[39m\n",
      "\u001b[36m──\u001b[39m \u001b[1mColumn specification\u001b[22m \u001b[36m────────────────────────────────────────────────────────\u001b[39m\n",
      "\u001b[1mDelimiter:\u001b[22m \",\"\n",
      "\u001b[31mchr\u001b[39m (10): condition, donor, time, group, cell_type, L1, L2, L3, L4, Final_Ce...\n",
      "\u001b[32mdbl\u001b[39m (22): FSC, FSC-H, SSC, SSC-B, SSC-B-H, SSC-H, CCR7, IFNg, CD3, CD45RA, C...\n",
      "\n",
      "\u001b[36mℹ\u001b[39m Use `spec()` to retrieve the full column specification for this data.\n",
      "\u001b[36mℹ\u001b[39m Specify the column types or set `show_col_types = FALSE` to quiet this message.\n"
     ]
    }
   ],
   "source": [
    "df<-readr::read_csv('04_TCR_Stim_Exp/annotated1.csv')"
   ]
  },
  {
   "cell_type": "code",
   "execution_count": 5,
   "id": "62cd2d24-2e72-427c-81cf-507de8fd9156",
   "metadata": {},
   "outputs": [
    {
     "name": "stderr",
     "output_type": "stream",
     "text": [
      "\u001b[1m\u001b[22m`summarise()` has grouped output by 'donor', 'condition'. You can override\n",
      "using the `.groups` argument.\n"
     ]
    }
   ],
   "source": [
    "freq_df<-df %>%\n",
    "    group_by(donor, condition, Final_Celltype) %>%\n",
    "    summarise(count = n()) %>%\n",
    "    group_by(donor, condition) %>%\n",
    "    dplyr::mutate(percentage = (count/sum(count)) * 100) %>%\n",
    "    dplyr::mutate(percentage_clr = clr_transform((percentage)))"
   ]
  },
  {
   "cell_type": "code",
   "execution_count": 6,
   "id": "eed73fdf-6ac8-433b-9cfa-ce6721d65bdd",
   "metadata": {},
   "outputs": [],
   "source": [
    "freq_df$cohort<-substr(freq_df$donor,1,3)"
   ]
  },
  {
   "cell_type": "code",
   "execution_count": 7,
   "id": "b65b2fac-f11e-476e-a9af-da332a3c3eef",
   "metadata": {},
   "outputs": [],
   "source": [
    "freq_df<-left_join(freq_df,unique(meta_data[c('subjectGuid','CMV')]),by =c(\"donor\"=\"subjectGuid\"))"
   ]
  },
  {
   "cell_type": "code",
   "execution_count": 8,
   "id": "e0cb28a3-d444-4c81-b9bf-8a96dcaada42",
   "metadata": {},
   "outputs": [],
   "source": [
    "freq_df_subset<-freq_df %>%\n",
    "    filter(grepl(\"IL4\\\\+\", Final_Celltype), \n",
    "           grepl(\"IFNg\\\\-\", Final_Celltype),\n",
    "           grepl(\"Unstimulated\", condition),\n",
    "           !grepl(\"Other\", Final_Celltype)) %>% ungroup()"
   ]
  },
  {
   "cell_type": "code",
   "execution_count": 44,
   "id": "048c9e7a-d554-4414-a4f2-6f6ba404a75a",
   "metadata": {},
   "outputs": [],
   "source": [
    "freq_df_subset_wide <- freq_df_subset %>%\n",
    "    select(Final_Celltype, percentage_clr, donor) %>%\n",
    "    pivot_wider(names_from = donor, values_from = percentage_clr) %>% \n",
    "    as.data.frame()"
   ]
  },
  {
   "cell_type": "code",
   "execution_count": 45,
   "id": "251ec61a-afb8-46da-a81b-bb70dfb1be5f",
   "metadata": {},
   "outputs": [],
   "source": [
    "rownames(freq_df_subset_wide)<-freq_df_subset_wide$Final_Celltype\n",
    "freq_df_subset_wide<-freq_df_subset_wide %>% select(-Final_Celltype)"
   ]
  },
  {
   "cell_type": "code",
   "execution_count": 46,
   "id": "56777135-8ee4-40d9-837e-b34aff1d67ec",
   "metadata": {},
   "outputs": [],
   "source": [
    "freq_df_subset_wide<-freq_df_subset_wide %>% select(where(~ all(!is.na(.))))\n",
    "#freq_df_subset_wide <- freq_df_subset_wide %>% mutate(across(everything(), ~ replace_na(., 0)))"
   ]
  },
  {
   "cell_type": "code",
   "execution_count": 47,
   "id": "7d592dda-a3d2-45ac-b624-b803792395c1",
   "metadata": {},
   "outputs": [],
   "source": [
    "annotation_df <-as.data.frame(substr(colnames(freq_df_subset_wide),1,3))\n",
    "colnames(annotation_df)<-\"cohort.cohortGuid\"\n"
   ]
  },
  {
   "cell_type": "code",
   "execution_count": 48,
   "id": "6d745a82-5e04-41e6-9aaf-9d0e7700519f",
   "metadata": {},
   "outputs": [],
   "source": [
    "# Create the annotation dataframe with only the cohort.cohortGuid\n",
    "\n",
    "annotation_df <- annotation_df %>%\n",
    "  mutate(`Age Group` = ifelse(cohort.cohortGuid\t == \"BR1\", \"Young\", \"Older\"))%>% \n",
    "select(`Age Group`)\n",
    "# Set custom colors for the cohorts\n",
    "annotation_colors <- list(`Age Group` = c(Young = \"#35978F\", Older = \"#BF812D\"))"
   ]
  },
  {
   "cell_type": "code",
   "execution_count": 49,
   "id": "a4050669-5054-4d4b-9551-c916d094e8a9",
   "metadata": {},
   "outputs": [],
   "source": [
    "breaks_sequence <- seq(-1, 1, length.out = 100)"
   ]
  },
  {
   "cell_type": "code",
   "execution_count": 50,
   "id": "92b71c60-9076-4d87-b238-f3c062aa3fbe",
   "metadata": {},
   "outputs": [],
   "source": [
    "column_labels<-rownames(freq_df_subset_wide)"
   ]
  },
  {
   "cell_type": "code",
   "execution_count": 51,
   "id": "d7fa19f5-6848-4b7c-8deb-b62f6abd9598",
   "metadata": {},
   "outputs": [],
   "source": [
    "rownames(annotation_df)<-colnames(freq_df_subset_wide)"
   ]
  },
  {
   "cell_type": "code",
   "execution_count": 68,
   "id": "803e289b-8480-45ef-bc4f-0d0e6ea5de02",
   "metadata": {},
   "outputs": [
    {
     "data": {
      "text/html": [
       "<strong>pdf:</strong> 2"
      ],
      "text/latex": [
       "\\textbf{pdf:} 2"
      ],
      "text/markdown": [
       "**pdf:** 2"
      ],
      "text/plain": [
       "pdf \n",
       "  2 "
      ]
     },
     "metadata": {},
     "output_type": "display_data"
    },
    {
     "data": {
      "image/png": "[encoded data removed]",
      "text/plain": [
       "plot without title"
      ]
     },
     "metadata": {
      "image/png": {
       "height": 165.3543,
       "width": 307.0866
      }
     },
     "output_type": "display_data"
    }
   ],
   "source": [
    "options(repr.plot.width = 130/25.4, repr.plot.height = 70/25.4)\n",
    "p<-heatmap_plot <- pheatmap(freq_df_subset_wide, \n",
    "         scale = \"row\", \n",
    "         cluster_cols = FALSE, \n",
    "         cluster_rows = FALSE, \n",
    "         fontsize = 6,\n",
    "         gaps_col = c(12),\n",
    "          annotation_col = annotation_df,  \n",
    "                         breaks=breaks_sequence,\n",
    "         annotation_colors = annotation_colors,\n",
    "                         border_color=NA,\n",
    "         color= inferno(100))\n",
    "p\n",
    "save_pheatmap(p,'FigureI.pdf', width=120/25.4, height=70/25.4)"
   ]
  },
  {
   "cell_type": "code",
   "execution_count": null,
   "id": "5a2c31ff-06bb-4253-8ebf-94b44b2505ce",
   "metadata": {},
   "outputs": [],
   "source": []
  },
  {
   "cell_type": "code",
   "execution_count": null,
   "id": "3cf7d188-8eb3-46b0-9cda-8108125f7603",
   "metadata": {},
   "outputs": [],
   "source": []
  }
 ],
 "metadata": {
  "kernelspec": {
   "display_name": "R_BRI_Figures",
   "language": "R",
   "name": "r_bri_figures"
  },
  "language_info": {
   "codemirror_mode": "r",
   "file_extension": ".r",
   "mimetype": "text/x-r-source",
   "name": "R",
   "pygments_lexer": "r",
   "version": "4.3.2"
  }
 },
 "nbformat": 4,
 "nbformat_minor": 5
}
