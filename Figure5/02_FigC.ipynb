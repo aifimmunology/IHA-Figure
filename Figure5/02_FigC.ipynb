{
 "cells": [
  {
   "cell_type": "code",
   "execution_count": 1,
   "id": "5305b2ef-f348-4ae9-a3ad-05e30dd9fe16",
   "metadata": {},
   "outputs": [
    {
     "name": "stderr",
     "output_type": "stream",
     "text": [
      "\n",
      "Attaching package: ‘rstatix’\n",
      "\n",
      "\n",
      "The following object is masked from ‘package:stats’:\n",
      "\n",
      "    filter\n",
      "\n",
      "\n"
     ]
    }
   ],
   "source": [
    "suppressPackageStartupMessages(library(dplyr))\n",
    "suppressPackageStartupMessages(library(tidyr))\n",
    "suppressPackageStartupMessages(library(tibble))\n",
    "suppressPackageStartupMessages(library(ggplot2))\n",
    "suppressPackageStartupMessages(library(stringr))\n",
    "library(rstatix)\n",
    "library(ggh4x)\n",
    "library(geomtextpath)\n",
    "\n",
    "is_dark_color <- function(hex) {\n",
    "  rgb <- col2rgb(hex)\n",
    "  \n",
    "  luminance <- 0.299 * rgb[1,] + 0.587 * rgb[2,] + 0.114 * rgb[3,]\n",
    "  if(luminance < 128){\n",
    "  return('white')\n",
    "  }else{return('black')}\n",
    "}\n",
    "   "
   ]
  },
  {
   "cell_type": "code",
   "execution_count": 2,
   "id": "9cfd337f-9f5d-40fb-b868-8fd20f716521",
   "metadata": {},
   "outputs": [],
   "source": [
    "\n",
    "color_annotation <- read.csv('../Color_hex_codes/Cell_Type_Color_Annotation_and_Order.csv')\n",
    "color_vector <- setNames(color_annotation$color, color_annotation$label)"
   ]
  },
  {
   "cell_type": "markdown",
   "id": "2118da87-58b7-4465-bf94-58bcfd6a205d",
   "metadata": {},
   "source": [
    "# Read CXCR5 expression for Confirmation Cohorts(SF4)"
   ]
  },
  {
   "cell_type": "code",
   "execution_count": 3,
   "id": "fc2c69f2-1db6-4005-8747-b6ada8eb99d3",
   "metadata": {},
   "outputs": [],
   "source": [
    "df1<-read.csv('02_NMF_CD4_T_cell_Projection/CD40_CoreB_SF4.csv')\n",
    "df2<-read.csv('02_NMF_CD4_T_cell_Projection/CD40LG_CM_CD4T_SF4.csv')\n",
    "\n",
    "df<-rbind(df1,df2)"
   ]
  },
  {
   "cell_type": "markdown",
   "id": "133170d9-c748-4120-a1fc-119d544643fb",
   "metadata": {},
   "source": [
    "# Plotting"
   ]
  },
  {
   "cell_type": "code",
   "execution_count": 4,
   "id": "84eea85e-1081-4cd6-8a74-44e4cf5429d2",
   "metadata": {},
   "outputs": [
    {
     "name": "stderr",
     "output_type": "stream",
     "text": [
      "Warning message:\n",
      "“\u001b[1m\u001b[22mThere were 2 warnings in `dplyr::summarise()`.\n",
      "The first warning was:\n",
      "\u001b[1m\u001b[22m\u001b[36mℹ\u001b[39m In argument: `p_value = cor.test(Ages, Mean_Expression, method =\n",
      "  \"spearman\")$p.value`.\n",
      "\u001b[36mℹ\u001b[39m In group 1: `celltype = \"CM CD4 T cell\"`.\n",
      "Caused by warning in `cor.test.default()`:\n",
      "\u001b[33m!\u001b[39m Cannot compute exact p-value with ties\n",
      "\u001b[1m\u001b[22m\u001b[36mℹ\u001b[39m Run `dplyr::last_dplyr_warnings()` to see the 1 remaining warning.”\n"
     ]
    }
   ],
   "source": [
    "correlation_tests <- df %>% group_by(celltype) %>% \n",
    "  dplyr::summarise(\n",
    "    correlation = cor(Ages, Mean_Expression, method = 'spearman'),\n",
    "    p_value = cor.test(Ages, Mean_Expression, method = 'spearman')$p.value\n",
    "  )"
   ]
  },
  {
   "cell_type": "code",
   "execution_count": 5,
   "id": "1933f300-a83f-412d-a951-aa1f2b9f1bb1",
   "metadata": {},
   "outputs": [
    {
     "data": {
      "text/html": [
       "<table class=\"dataframe\">\n",
       "<caption>A tibble: 2 × 3</caption>\n",
       "<thead>\n",
       "\t<tr><th scope=col>celltype</th><th scope=col>correlation</th><th scope=col>p_value</th></tr>\n",
       "\t<tr><th scope=col>&lt;chr&gt;</th><th scope=col>&lt;dbl&gt;</th><th scope=col>&lt;dbl&gt;</th></tr>\n",
       "</thead>\n",
       "<tbody>\n",
       "\t<tr><td>CM CD4 T cell     </td><td>-0.26662268</td><td>3.742821e-05</td></tr>\n",
       "\t<tr><td>Core memory B cell</td><td>-0.03571568</td><td>5.875311e-01</td></tr>\n",
       "</tbody>\n",
       "</table>\n"
      ],
      "text/latex": [
       "A tibble: 2 × 3\n",
       "\\begin{tabular}{lll}\n",
       " celltype & correlation & p\\_value\\\\\n",
       " <chr> & <dbl> & <dbl>\\\\\n",
       "\\hline\n",
       "\t CM CD4 T cell      & -0.26662268 & 3.742821e-05\\\\\n",
       "\t Core memory B cell & -0.03571568 & 5.875311e-01\\\\\n",
       "\\end{tabular}\n"
      ],
      "text/markdown": [
       "\n",
       "A tibble: 2 × 3\n",
       "\n",
       "| celltype &lt;chr&gt; | correlation &lt;dbl&gt; | p_value &lt;dbl&gt; |\n",
       "|---|---|---|\n",
       "| CM CD4 T cell      | -0.26662268 | 3.742821e-05 |\n",
       "| Core memory B cell | -0.03571568 | 5.875311e-01 |\n",
       "\n"
      ],
      "text/plain": [
       "  celltype           correlation p_value     \n",
       "1 CM CD4 T cell      -0.26662268 3.742821e-05\n",
       "2 Core memory B cell -0.03571568 5.875311e-01"
      ]
     },
     "metadata": {},
     "output_type": "display_data"
    }
   ],
   "source": [
    "correlation_tests"
   ]
  },
  {
   "cell_type": "code",
   "execution_count": 6,
   "id": "eefbab9e-24b0-4fbe-aec0-a30d8f63b6db",
   "metadata": {},
   "outputs": [],
   "source": [
    "df <- df %>% group_by(celltype)%>%\n",
    "  arrange(desc(Ages))%>%\n",
    "  mutate(label = ifelse(row_number() == 1 & \n",
    "                        Ages == max(Ages), \n",
    "                        as.character(Gene), \n",
    "                        NA_character_))"
   ]
  },
  {
   "cell_type": "code",
   "execution_count": 9,
   "id": "1c82c3ed-d929-486e-85bc-e66623053ebf",
   "metadata": {},
   "outputs": [
    {
     "name": "stderr",
     "output_type": "stream",
     "text": [
      "\u001b[1m\u001b[22m`geom_smooth()` using method = 'loess' and formula = 'y ~ x'\n",
      "\u001b[1m\u001b[22m`geom_smooth()` using method = 'loess' and formula = 'y ~ x'\n"
     ]
    },
    {
     "data": {
      "image/png": "[encoded data removed]",
      "text/plain": [
       "plot without title"
      ]
     },
     "metadata": {
      "image/png": {
       "height": 94.4882,
       "width": 188.9764
      }
     },
     "output_type": "display_data"
    }
   ],
   "source": [
    "options(repr.plot.width = 80/25.4, repr.plot.height = 40/25.4)\n",
    "\n",
    "p <- ggplot(df, \n",
    "            aes(Ages, Mean_Expression,color=celltype,group=celltype)) +\n",
    "    geom_point(size = 0.8, stroke = 0) +\n",
    "    geom_smooth(se=TRUE, linewidth=0.5,span=1) +\n",
    "    theme_classic(base_size = 8)  +\n",
    "    xlab('Ages (years)') + \n",
    "    ylab('RNA Expression')+theme(strip.background = element_rect(linewidth = 0))+\n",
    "  geom_text(\n",
    "    data = correlation_tests,\n",
    "    aes(\n",
    "      x = Inf, y = Inf,\n",
    "      label = paste(\"r =\", round(correlation, 2), \"\\np =\", format.pval(p_value, digits = 3, eps = 0.0000000000000001)),\n",
    "      hjust = 1.1, vjust = 1.1\n",
    "    ),\n",
    "    inherit.aes = FALSE,\n",
    "    size = 2,\n",
    "    color = \"blue\"\n",
    "  )+\n",
    "  scale_color_manual(values = color_vector)+\n",
    "    scale_y_continuous(limits = c(NA, NA), \n",
    "                       expand = expansion(mult = c(0.2, 0.2)))\n",
    "p\n",
    "ggsave('FigureC.pdf',p,width = 80/25.4,height = 40/25.4)"
   ]
  },
  {
   "cell_type": "code",
   "execution_count": null,
   "id": "885ae61c-711c-4b71-9e43-be58768badf6",
   "metadata": {},
   "outputs": [],
   "source": []
  }
 ],
 "metadata": {
  "kernelspec": {
   "display_name": "R 4",
   "language": "R",
   "name": "ir4"
  },
  "language_info": {
   "codemirror_mode": "r",
   "file_extension": ".r",
   "mimetype": "text/x-r-source",
   "name": "R",
   "pygments_lexer": "r",
   "version": "4.3.2"
  }
 },
 "nbformat": 4,
 "nbformat_minor": 5
}
