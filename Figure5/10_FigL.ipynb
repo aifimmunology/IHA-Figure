{
 "cells": [
  {
   "cell_type": "code",
   "execution_count": 1,
   "id": "c46d861c-f6bf-48b6-b26f-860596aa3bb3",
   "metadata": {},
   "outputs": [
    {
     "name": "stderr",
     "output_type": "stream",
     "text": [
      "------------------------------------------------------------------------------\n",
      "\n",
      "You have loaded plyr after dplyr - this is likely to cause problems.\n",
      "If you need functions from both plyr and dplyr, please load plyr first, then dplyr:\n",
      "library(plyr); library(dplyr)\n",
      "\n",
      "------------------------------------------------------------------------------\n",
      "\n",
      "\n",
      "Attaching package: ‘plyr’\n",
      "\n",
      "\n",
      "The following objects are masked from ‘package:dplyr’:\n",
      "\n",
      "    arrange, count, desc, failwith, id, mutate, rename, summarise,\n",
      "    summarize\n",
      "\n",
      "\n",
      "\n",
      "Attaching package: ‘purrr’\n",
      "\n",
      "\n",
      "The following object is masked from ‘package:plyr’:\n",
      "\n",
      "    compact\n",
      "\n",
      "\n",
      "\n",
      "Attaching package: ‘rstatix’\n",
      "\n",
      "\n",
      "The following objects are masked from ‘package:plyr’:\n",
      "\n",
      "    desc, mutate\n",
      "\n",
      "\n",
      "The following object is masked from ‘package:stats’:\n",
      "\n",
      "    filter\n",
      "\n",
      "\n",
      "Loading required package: ggplot2\n",
      "\n",
      "\n",
      "Attaching package: ‘ggpubr’\n",
      "\n",
      "\n",
      "The following object is masked from ‘package:plyr’:\n",
      "\n",
      "    mutate\n",
      "\n",
      "\n"
     ]
    }
   ],
   "source": [
    "suppressPackageStartupMessages(library(dplyr))\n",
    "suppressPackageStartupMessages(library(tidyr))\n",
    "suppressPackageStartupMessages(library(tibble))\n",
    "suppressPackageStartupMessages(library(stringr))\n",
    "library(plyr)\n",
    "library(purrr)\n",
    "library(rstatix)\n",
    "library(ggpubr)\n",
    "library(ggrepel)\n"
   ]
  },
  {
   "cell_type": "code",
   "execution_count": 3,
   "id": "552fb7c5-2afb-461e-a548-0e0d079db63d",
   "metadata": {},
   "outputs": [],
   "source": [
    "df<-read.csv(\"05_HAI/HAI_Y2020-2021.csv\")"
   ]
  },
  {
   "cell_type": "code",
   "execution_count": 4,
   "id": "4dce7760-ed40-45ae-901a-72204d10de38",
   "metadata": {},
   "outputs": [],
   "source": [
    "df <- df %>% dplyr::mutate(`Age Group` = case_when(\n",
    "  cohort.cohortGuid == \"BR1\" ~ \"Young\",\n",
    "  cohort.cohortGuid == \"BR2\" ~ \"Older\",\n",
    "  TRUE ~ NA_character_\n",
    "))\n",
    "df$`Age Group`<-factor(df$`Age Group`,levels=c(\"Young\",\"Older\"))"
   ]
  },
  {
   "cell_type": "code",
   "execution_count": null,
   "id": "464fe893-4b2e-446a-aa41-51a3f2a33d77",
   "metadata": {},
   "outputs": [],
   "source": []
  },
  {
   "cell_type": "code",
   "execution_count": 5,
   "id": "2ff0f043-2897-4c92-aa4a-dd2a2663b5b3",
   "metadata": {},
   "outputs": [],
   "source": [
    "df$Group<-paste0(df$`Age Group`,'_',df$Flu_Day)\n",
    "df$Group<-factor(df$Group,levels=c('Young_Day 0','Young_Day 7',\n",
    "                                       'Older_Day 0','Older_Day 7'))"
   ]
  },
  {
   "cell_type": "code",
   "execution_count": null,
   "id": "af14dab9-0c41-40e5-84ee-4340040cadf3",
   "metadata": {},
   "outputs": [],
   "source": []
  },
  {
   "cell_type": "code",
   "execution_count": 6,
   "id": "f1836f6f-6df6-42b6-a860-bb743f52a8dd",
   "metadata": {},
   "outputs": [],
   "source": [
    "df<-df%>% filter(Assay=='B/Washington')"
   ]
  },
  {
   "cell_type": "code",
   "execution_count": 8,
   "id": "dc6367a7-0155-433e-a843-a955ba2269ee",
   "metadata": {},
   "outputs": [
    {
     "data": {
      "image/png": "[encoded data removed]",
      "text/plain": [
       "plot without title"
      ]
     },
     "metadata": {
      "image/png": {
       "height": 118.1102,
       "width": 106.2992
      }
     },
     "output_type": "display_data"
    }
   ],
   "source": [
    "options(repr.plot.width = 45/25.4, repr.plot.height = 50/25.4)\n",
    "\n",
    "\n",
    "p<-ggplot(df %>% arrange(subject.subjectGuid,Flu_Day), aes(x=Group, y=Mean_Perc_Inhib, fill=`Age Group`)) +\n",
    "   geom_boxplot(outlier.shape = NA,lwd=0.3) +\n",
    "geom_point(color=\"black\", size=0.8,stroke=0) +\n",
    "theme_classic(base_size=6)+  \n",
    "stat_compare_means( label = \"p.format\",method='wilcox.test',paired=TRUE,size=2.2,\n",
    "  comparisons = list(c(\"Older_Day 0\", \"Older_Day 7\")))+  \n",
    "stat_compare_means( label = \"p.format\",method='wilcox.test',paired=TRUE,size=2.2,\n",
    "  comparisons = list(c(\"Young_Day 0\", \"Young_Day 7\")))+  \n",
    "stat_compare_means( label = \"p.format\",method='wilcox.test',paired=FALSE,size=2.2,\n",
    "                   label.y=110,\n",
    "  comparisons = list(c(\"Older_Day 7\", \"Young_Day 7\")))+  \n",
    "    scale_fill_manual(values = c(\"Older\" = '#bf812d', \"Young\" = '#35978f'))+\n",
    "    scale_y_continuous(limits = c(NA, NA),\n",
    "                       expand = expansion(mult = c(0.1, 0.15)))+\n",
    "theme(legend.position=\"none\")+\n",
    "xlab('')+\n",
    "ylab('Mean\\nPercent Inhibition')+theme(\n",
    "panel.border = element_blank())   + \n",
    "scale_x_discrete(labels = c(\"Older_Day 0\" = \"Older\\nDay 0\", \n",
    "                              \"Older_Day 7\" = \"Older\\nDay 7\",\n",
    "                              \"Young_Day 0\" = \"Young\\nDay 0\",\n",
    "                              \"Young_Day 7\" = \"Young\\nDay 7\")) +\n",
    "    theme(axis.line = element_line(colour = \"black\"),\n",
    "          legend.position = \"top\",\n",
    "          legend.title = element_blank(),\n",
    "          panel.grid.major = element_blank(),\n",
    "          panel.grid.minor = element_blank(),\n",
    "          panel.border = element_blank(),\n",
    "          panel.background = element_blank(),\n",
    "          strip.background = element_rect(linewidth = 0),\n",
    "          axis.title.x = element_text(margin = margin(t = 1)))+\n",
    "     geom_line(aes(group = interaction(`Age Group`, subject.subjectGuid)),\n",
    "              color = \"black\", \n",
    "              linewidth=0.1, \n",
    "              linetype =4)\n",
    "p\n",
    "ggsave('FigureL.pdf',p,width = 45/25.4,height = 50/25.4)"
   ]
  },
  {
   "cell_type": "code",
   "execution_count": null,
   "id": "1cfb8303-378e-4d35-b780-9f729795f711",
   "metadata": {},
   "outputs": [],
   "source": []
  },
  {
   "cell_type": "code",
   "execution_count": null,
   "id": "540d565b-45e1-46c3-b25b-9a85e34ef60a",
   "metadata": {},
   "outputs": [],
   "source": []
  }
 ],
 "metadata": {
  "kernelspec": {
   "display_name": "R 4",
   "language": "R",
   "name": "ir4"
  },
  "language_info": {
   "codemirror_mode": "r",
   "file_extension": ".r",
   "mimetype": "text/x-r-source",
   "name": "R",
   "pygments_lexer": "r",
   "version": "4.3.2"
  }
 },
 "nbformat": 4,
 "nbformat_minor": 5
}
