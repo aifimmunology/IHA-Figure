{
 "cells": [
  {
   "cell_type": "code",
   "execution_count": 110,
   "id": "d135e713-7a1f-48b2-957c-e5892640d757",
   "metadata": {},
   "outputs": [],
   "source": [
    "library(tidyr)\n",
    "library(ggplot2)\n",
    "library(ggpubr)\n",
    "library(dplyr)"
   ]
  },
  {
   "cell_type": "code",
   "execution_count": 111,
   "id": "4ca16264-314d-467e-8c3b-82185ef15f36",
   "metadata": {},
   "outputs": [],
   "source": [
    "df<-read.csv(\"05_Correlation_Analysis/selected_pairs_set1.csv\",check.names = FALSE)"
   ]
  },
  {
   "cell_type": "code",
   "execution_count": 112,
   "id": "d1ed2962-c2fd-44f0-b830-bce3f3a6a855",
   "metadata": {},
   "outputs": [],
   "source": [
    "names(df)[is.na(names(df)) | names(df) == \"\"] <- paste0(\"V\", which(is.na(names(df)) | names(df) == \"\"))"
   ]
  },
  {
   "cell_type": "code",
   "execution_count": 113,
   "id": "391706aa-3e47-4661-bcdf-23101e36aab7",
   "metadata": {},
   "outputs": [],
   "source": [
    "df_filtered <- df %>% filter(rowSums(is.na(.)) == 0)"
   ]
  },
  {
   "cell_type": "code",
   "execution_count": 106,
   "id": "0a541499-07e3-40b8-82fa-5d9c78378fb7",
   "metadata": {},
   "outputs": [],
   "source": [
    "#df_filtered<-df_filtered %>% filter (!(variable==\"IgG2_to_Total_Ratio_D7_Phuket_2020-2021\" &value>0.015))"
   ]
  },
  {
   "cell_type": "code",
   "execution_count": 115,
   "id": "ad70d97f-9bda-4f9c-92bf-83f710ffa300",
   "metadata": {},
   "outputs": [],
   "source": [
    "df_filtered$variable<-factor(df_filtered$variable,levels=c('Unstimulated-IFNg- IL4+ CD27+ CM Memory CD4+',\"IgG2_to_Total_Ratio_D7_Phuket_2020-2021\"))"
   ]
  },
  {
   "cell_type": "code",
   "execution_count": 116,
   "id": "52d87aad-78ef-4d04-8ad6-8f9314c72733",
   "metadata": {
    "scrolled": true
   },
   "outputs": [
    {
     "name": "stderr",
     "output_type": "stream",
     "text": [
      "\u001b[1m\u001b[22m`geom_smooth()` using formula = 'y ~ x'\n",
      "\u001b[1m\u001b[22m`geom_smooth()` using formula = 'y ~ x'\n"
     ]
    },
    {
     "data": {
      "image/png": "[encoded data removed]",
      "text/plain": [
       "plot without title"
      ]
     },
     "metadata": {
      "image/png": {
       "height": 94.4882,
       "width": 94.4882
      }
     },
     "output_type": "display_data"
    }
   ],
   "source": [
    "\n",
    "\n",
    "options(repr.plot.width = 40/25.4, repr.plot.height =  40/25.4)\n",
    "\n",
    "p <- ggplot(df_filtered, aes(x = `Cytokine_Profiling_IL4_4hr`, y = value)) +\n",
    "  geom_point(size = 0.6, stroke = 0.25) +\n",
    "  geom_smooth(method = 'loess', color = \"black\", se = FALSE,span = 1.8, linewidth = 0.5) +\n",
    "  stat_cor(\n",
    "    method = \"spearman\",\n",
    "    aes(label = paste0(\"R = \", ..r.., \"\\nP = \", ..p..)),\n",
    "    label.x.npc = \"left\", \n",
    "    label.y.npc = \"top\",   output.type = \"text\",\n",
    "color =\"blue\",\n",
    "    size = 1.76\n",
    "  ) +\n",
    "  facet_wrap(~ variable, ncol = 1, scales = \"free\",labeller = labeller(variable = c(\n",
    "      \"IgG2_to_Total_Ratio_D7_Phuket_2020-2021\"=\"log10-IgG2/Total IgG Ratio\\n BYam 2020-2021\",\n",
    "      \"Unstimulated-IFNg- IL4+ CD27+ CM Memory CD4+\"=\"IFNg- IL4+ CD27+ CM CD4\\nFrequency (of T cells)\"\n",
    "  ))) +\n",
    "  theme_bw(base_size = 6) + scale_y_continuous(expand = expansion(mult = c(0.05, 0.35))) + theme(\n",
    "  axis.title   = element_text(color = \"black\"),\n",
    "  axis.text    = element_text(color = \"black\"),\n",
    "    strip.text.x      = element_text(margin = margin(t = 1, b = 1))\n",
    "\n",
    "\n",
    ")+xlab(\"TCR-Induced IL-4 Secretion\")\n",
    "\n",
    "p\n",
    "ggsave('FigureJ1.pdf',\n",
    "       p, \n",
    "       width = 45/25.4,\n",
    "       height = 40/25.4)"
   ]
  },
  {
   "cell_type": "code",
   "execution_count": null,
   "id": "56a9ea59-8aaa-43ab-9661-ff132d2bf97a",
   "metadata": {},
   "outputs": [],
   "source": []
  },
  {
   "cell_type": "code",
   "execution_count": 82,
   "id": "00d32761-b126-4e4b-9e22-eb17b6358e64",
   "metadata": {},
   "outputs": [],
   "source": [
    "df<-read.csv(\"05_Correlation_Analysis/selected_pairs_set2.csv\",check.names = FALSE)"
   ]
  },
  {
   "cell_type": "code",
   "execution_count": 83,
   "id": "e9ffe52e-518b-46fd-98b0-65c57246cd3a",
   "metadata": {},
   "outputs": [],
   "source": [
    "names(df)[is.na(names(df)) | names(df) == \"\"] <- paste0(\"V\", which(is.na(names(df)) | names(df) == \"\"))"
   ]
  },
  {
   "cell_type": "code",
   "execution_count": 84,
   "id": "3a9a7c70-ac64-4678-a024-8488dde7d0bd",
   "metadata": {},
   "outputs": [],
   "source": [
    "df_filtered <- df %>% filter(rowSums(is.na(.)) == 0)"
   ]
  },
  {
   "cell_type": "code",
   "execution_count": 85,
   "id": "7b32e657-7aa5-4a82-921a-91227861939d",
   "metadata": {},
   "outputs": [
    {
     "data": {
      "text/html": [
       "<table class=\"dataframe\">\n",
       "<caption>A data.frame: 6 × 5</caption>\n",
       "<thead>\n",
       "\t<tr><th></th><th scope=col>V1</th><th scope=col>subjectGuid</th><th scope=col>CompositeScore_Up_CM CD4 T cell</th><th scope=col>variable</th><th scope=col>value</th></tr>\n",
       "\t<tr><th></th><th scope=col>&lt;int&gt;</th><th scope=col>&lt;chr&gt;</th><th scope=col>&lt;dbl&gt;</th><th scope=col>&lt;chr&gt;</th><th scope=col>&lt;dbl&gt;</th></tr>\n",
       "</thead>\n",
       "<tbody>\n",
       "\t<tr><th scope=row>1</th><td> 7</td><td>BR1008</td><td> 10.920892</td><td>Unstimulated-IFNg- IL4+ CD27+ CM Memory CD4+</td><td>0.02013444</td></tr>\n",
       "\t<tr><th scope=row>2</th><td>11</td><td>BR1010</td><td> 14.903810</td><td>Unstimulated-IFNg- IL4+ CD27+ CM Memory CD4+</td><td>0.01967505</td></tr>\n",
       "\t<tr><th scope=row>3</th><td>17</td><td>BR1018</td><td> 17.447720</td><td>Unstimulated-IFNg- IL4+ CD27+ CM Memory CD4+</td><td>0.01650056</td></tr>\n",
       "\t<tr><th scope=row>4</th><td>24</td><td>BR1031</td><td>-10.357914</td><td>Unstimulated-IFNg- IL4+ CD27+ CM Memory CD4+</td><td>0.01449495</td></tr>\n",
       "\t<tr><th scope=row>5</th><td>26</td><td>BR1025</td><td> 18.616976</td><td>Unstimulated-IFNg- IL4+ CD27+ CM Memory CD4+</td><td>0.03038221</td></tr>\n",
       "\t<tr><th scope=row>6</th><td>27</td><td>BR1024</td><td> -2.457984</td><td>Unstimulated-IFNg- IL4+ CD27+ CM Memory CD4+</td><td>0.03927523</td></tr>\n",
       "</tbody>\n",
       "</table>\n"
      ],
      "text/latex": [
       "A data.frame: 6 × 5\n",
       "\\begin{tabular}{r|lllll}\n",
       "  & V1 & subjectGuid & CompositeScore\\_Up\\_CM CD4 T cell & variable & value\\\\\n",
       "  & <int> & <chr> & <dbl> & <chr> & <dbl>\\\\\n",
       "\\hline\n",
       "\t1 &  7 & BR1008 &  10.920892 & Unstimulated-IFNg- IL4+ CD27+ CM Memory CD4+ & 0.02013444\\\\\n",
       "\t2 & 11 & BR1010 &  14.903810 & Unstimulated-IFNg- IL4+ CD27+ CM Memory CD4+ & 0.01967505\\\\\n",
       "\t3 & 17 & BR1018 &  17.447720 & Unstimulated-IFNg- IL4+ CD27+ CM Memory CD4+ & 0.01650056\\\\\n",
       "\t4 & 24 & BR1031 & -10.357914 & Unstimulated-IFNg- IL4+ CD27+ CM Memory CD4+ & 0.01449495\\\\\n",
       "\t5 & 26 & BR1025 &  18.616976 & Unstimulated-IFNg- IL4+ CD27+ CM Memory CD4+ & 0.03038221\\\\\n",
       "\t6 & 27 & BR1024 &  -2.457984 & Unstimulated-IFNg- IL4+ CD27+ CM Memory CD4+ & 0.03927523\\\\\n",
       "\\end{tabular}\n"
      ],
      "text/markdown": [
       "\n",
       "A data.frame: 6 × 5\n",
       "\n",
       "| <!--/--> | V1 &lt;int&gt; | subjectGuid &lt;chr&gt; | CompositeScore_Up_CM CD4 T cell &lt;dbl&gt; | variable &lt;chr&gt; | value &lt;dbl&gt; |\n",
       "|---|---|---|---|---|---|\n",
       "| 1 |  7 | BR1008 |  10.920892 | Unstimulated-IFNg- IL4+ CD27+ CM Memory CD4+ | 0.02013444 |\n",
       "| 2 | 11 | BR1010 |  14.903810 | Unstimulated-IFNg- IL4+ CD27+ CM Memory CD4+ | 0.01967505 |\n",
       "| 3 | 17 | BR1018 |  17.447720 | Unstimulated-IFNg- IL4+ CD27+ CM Memory CD4+ | 0.01650056 |\n",
       "| 4 | 24 | BR1031 | -10.357914 | Unstimulated-IFNg- IL4+ CD27+ CM Memory CD4+ | 0.01449495 |\n",
       "| 5 | 26 | BR1025 |  18.616976 | Unstimulated-IFNg- IL4+ CD27+ CM Memory CD4+ | 0.03038221 |\n",
       "| 6 | 27 | BR1024 |  -2.457984 | Unstimulated-IFNg- IL4+ CD27+ CM Memory CD4+ | 0.03927523 |\n",
       "\n"
      ],
      "text/plain": [
       "  V1 subjectGuid CompositeScore_Up_CM CD4 T cell\n",
       "1  7 BR1008       10.920892                     \n",
       "2 11 BR1010       14.903810                     \n",
       "3 17 BR1018       17.447720                     \n",
       "4 24 BR1031      -10.357914                     \n",
       "5 26 BR1025       18.616976                     \n",
       "6 27 BR1024       -2.457984                     \n",
       "  variable                                     value     \n",
       "1 Unstimulated-IFNg- IL4+ CD27+ CM Memory CD4+ 0.02013444\n",
       "2 Unstimulated-IFNg- IL4+ CD27+ CM Memory CD4+ 0.01967505\n",
       "3 Unstimulated-IFNg- IL4+ CD27+ CM Memory CD4+ 0.01650056\n",
       "4 Unstimulated-IFNg- IL4+ CD27+ CM Memory CD4+ 0.01449495\n",
       "5 Unstimulated-IFNg- IL4+ CD27+ CM Memory CD4+ 0.03038221\n",
       "6 Unstimulated-IFNg- IL4+ CD27+ CM Memory CD4+ 0.03927523"
      ]
     },
     "metadata": {},
     "output_type": "display_data"
    }
   ],
   "source": [
    "head(df_filtered)"
   ]
  },
  {
   "cell_type": "code",
   "execution_count": 86,
   "id": "d3cad462-4f28-4e5a-88b8-c1cf5b615bea",
   "metadata": {
    "scrolled": true
   },
   "outputs": [
    {
     "name": "stderr",
     "output_type": "stream",
     "text": [
      "\u001b[1m\u001b[22m`geom_smooth()` using formula = 'y ~ x'\n",
      "\u001b[1m\u001b[22m`geom_smooth()` using formula = 'y ~ x'\n"
     ]
    },
    {
     "data": {
      "image/png": "[encoded data removed]",
      "text/plain": [
       "plot without title"
      ]
     },
     "metadata": {
      "image/png": {
       "height": 47.2441,
       "width": 94.4882
      }
     },
     "output_type": "display_data"
    }
   ],
   "source": [
    "\n",
    "\n",
    "options(repr.plot.width = 40/25.4, repr.plot.height =  20/25.4)\n",
    "\n",
    "p <- ggplot(df_filtered, aes(x = `CompositeScore_Up_CM CD4 T cell`, y = value)) +\n",
    "  geom_point(size = 0.6, stroke = 0.25) +\n",
    "  geom_smooth(method = 'loess', color = \"black\", se = FALSE,span = 1.8, linewidth = 0.5) +\n",
    "  stat_cor(\n",
    "    method = \"spearman\",\n",
    "    aes(label = paste0(\"R = \", ..r.., \"\\nP = \", ..p..)),\n",
    "    label.x.npc = \"left\", \n",
    "    label.y.npc = \"top\",   output.type = \"text\",\n",
    "color =\"blue\",\n",
    "    size = 1.76\n",
    "  ) +\n",
    "  facet_wrap(~ variable, ncol = 1, scales = \"free\",labeller = labeller(variable = c(\n",
    "      \"Unstimulated-IFNg- IL4+ CD27+ CM Memory CD4+\"=\"IFNg- IL4+ CD27+ CM CD4\\nFrequency (of T cells)\"\n",
    "  ))) +\n",
    "  theme_bw(base_size = 6) + scale_y_continuous(expand = expansion(mult = c(0.05, 0.35))) + theme(\n",
    "  axis.title   = element_text(color = \"black\"),\n",
    "  axis.text    = element_text(color = \"black\"),\n",
    "    strip.text.x      = element_text(margin = margin(t = 1, b = 1))\n",
    "\n",
    "\n",
    ")+xlab(\"RNA Age Metric (Up) CM CD4 T \")\n",
    "\n",
    "p\n",
    "ggsave('FigureJ2.pdf',\n",
    "       p, \n",
    "       width = 45/25.4,\n",
    "       height = 20/25.4)"
   ]
  },
  {
   "cell_type": "code",
   "execution_count": null,
   "id": "2f39a15f-b788-43fb-8707-7d45fa111c7b",
   "metadata": {},
   "outputs": [],
   "source": []
  }
 ],
 "metadata": {
  "kernelspec": {
   "display_name": "R_BRI_Figures",
   "language": "R",
   "name": "r_bri_figures"
  },
  "language_info": {
   "codemirror_mode": "r",
   "file_extension": ".r",
   "mimetype": "text/x-r-source",
   "name": "R",
   "pygments_lexer": "r",
   "version": "4.3.2"
  }
 },
 "nbformat": 4,
 "nbformat_minor": 5
}
