{
 "cells": [
  {
   "cell_type": "code",
   "execution_count": 19,
   "id": "d135e713-7a1f-48b2-957c-e5892640d757",
   "metadata": {},
   "outputs": [],
   "source": [
    "library(tidyr)\n",
    "library(ggplot2)\n",
    "library(ggpubr)\n",
    "library(dplyr)"
   ]
  },
  {
   "cell_type": "code",
   "execution_count": 20,
   "id": "4ca16264-314d-467e-8c3b-82185ef15f36",
   "metadata": {},
   "outputs": [],
   "source": [
    "df<-read.csv(\"05_Correlation_Analysis/selected_pairs_set1.csv\",check.names = FALSE)"
   ]
  },
  {
   "cell_type": "code",
   "execution_count": 21,
   "id": "d1ed2962-c2fd-44f0-b830-bce3f3a6a855",
   "metadata": {},
   "outputs": [],
   "source": [
    "names(df)[is.na(names(df)) | names(df) == \"\"] <- paste0(\"V\", which(is.na(names(df)) | names(df) == \"\"))"
   ]
  },
  {
   "cell_type": "code",
   "execution_count": 22,
   "id": "391706aa-3e47-4661-bcdf-23101e36aab7",
   "metadata": {},
   "outputs": [],
   "source": [
    "df_filtered <- df %>% filter(rowSums(is.na(.)) == 0)"
   ]
  },
  {
   "cell_type": "code",
   "execution_count": null,
   "id": "0a541499-07e3-40b8-82fa-5d9c78378fb7",
   "metadata": {},
   "outputs": [],
   "source": []
  },
  {
   "cell_type": "code",
   "execution_count": 23,
   "id": "ad70d97f-9bda-4f9c-92bf-83f710ffa300",
   "metadata": {},
   "outputs": [],
   "source": [
    "df_filtered$variable<-factor(df_filtered$variable,levels=c('Unstimulated-IFNg- IL4+ CD27+ CM Memory CD4+',\"IgG2_to_Total_Ratio_D7_Phuket_2020-2021\"))"
   ]
  },
  {
   "cell_type": "code",
   "execution_count": 24,
   "id": "2c17c359-08ea-4709-934c-97f86f690f37",
   "metadata": {},
   "outputs": [],
   "source": [
    "write.csv(df_filtered %>% select(subjectGuid,Cytokine_Profiling_IL4_4hr,variable,value) ,\n",
    "          \"/home/workspace/Source_Data/Fig5j_2.csv\", row.names=FALSE)"
   ]
  },
  {
   "cell_type": "code",
   "execution_count": 25,
   "id": "52d87aad-78ef-4d04-8ad6-8f9314c72733",
   "metadata": {
    "scrolled": true
   },
   "outputs": [
    {
     "name": "stderr",
     "output_type": "stream",
     "text": [
      "\u001b[1m\u001b[22m`geom_smooth()` using formula = 'y ~ x'\n",
      "\u001b[1m\u001b[22m`geom_smooth()` using formula = 'y ~ x'\n"
     ]
    },
    {
     "data": {
      "image/png": "[encoded data removed]",
      "text/plain": [
       "plot without title"
      ]
     },
     "metadata": {
      "image/png": {
       "height": 94.4882,
       "width": 94.4882
      }
     },
     "output_type": "display_data"
    }
   ],
   "source": [
    "\n",
    "\n",
    "options(repr.plot.width = 40/25.4, repr.plot.height =  40/25.4)\n",
    "\n",
    "p <- ggplot(df_filtered, aes(x = `Cytokine_Profiling_IL4_4hr`, y = value)) +\n",
    "  geom_point(size = 0.6, stroke = 0.25) +\n",
    "  geom_smooth(method = 'loess', color = \"black\", se = FALSE,span = 1.8, linewidth = 0.5) +\n",
    "  stat_cor(\n",
    "    method = \"spearman\",\n",
    "    aes(label = paste0(\"R = \", ..r.., \"\\nP = \", ..p..)),\n",
    "    label.x.npc = \"left\", \n",
    "    label.y.npc = \"top\",   output.type = \"text\",\n",
    "color =\"blue\",\n",
    "    size = 1.76\n",
    "  ) +\n",
    "  facet_wrap(~ variable, ncol = 1, scales = \"free\",labeller = labeller(variable = c(\n",
    "      \"IgG2_to_Total_Ratio_D7_Phuket_2020-2021\"=\"log10-IgG2/Total IgG Ratio\\n BYam 2020-2021\",\n",
    "      \"Unstimulated-IFNg- IL4+ CD27+ CM Memory CD4+\"=\"IFNg- IL4+ CD27+ CM CD4\\nFrequency (of T cells)\"\n",
    "  ))) +\n",
    "  theme_bw(base_size = 6) + scale_y_continuous(expand = expansion(mult = c(0.05, 0.35))) + theme(\n",
    "  axis.title   = element_text(color = \"black\"),\n",
    "  axis.text    = element_text(color = \"black\"),\n",
    "    strip.text.x      = element_text(margin = margin(t = 1, b = 1))\n",
    "\n",
    "\n",
    ")+xlab(\"TCR-Induced IL-4 Secretion\")\n",
    "\n",
    "p\n",
    "ggsave('FigureJ1.pdf',\n",
    "       p, \n",
    "       width = 45/25.4,\n",
    "       height = 40/25.4)"
   ]
  },
  {
   "cell_type": "code",
   "execution_count": null,
   "id": "56a9ea59-8aaa-43ab-9661-ff132d2bf97a",
   "metadata": {},
   "outputs": [],
   "source": []
  },
  {
   "cell_type": "code",
   "execution_count": 26,
   "id": "00d32761-b126-4e4b-9e22-eb17b6358e64",
   "metadata": {},
   "outputs": [],
   "source": [
    "df<-read.csv(\"05_Correlation_Analysis/selected_pairs_set2.csv\",check.names = FALSE)"
   ]
  },
  {
   "cell_type": "code",
   "execution_count": 27,
   "id": "e9ffe52e-518b-46fd-98b0-65c57246cd3a",
   "metadata": {},
   "outputs": [],
   "source": [
    "names(df)[is.na(names(df)) | names(df) == \"\"] <- paste0(\"V\", which(is.na(names(df)) | names(df) == \"\"))\n",
    "df_filtered <- df %>% filter(rowSums(is.na(.)) == 0)"
   ]
  },
  {
   "cell_type": "code",
   "execution_count": 30,
   "id": "b3353982-483f-49f6-9a15-dda2eb055389",
   "metadata": {},
   "outputs": [],
   "source": [
    "df_filtered$RNA_Age_Metric_Up_CM_CD4T<-df_filtered$`CompositeScore_Up_CM CD4 T cell`\n",
    "write.csv(df_filtered %>% select(subjectGuid,RNA_Age_Metric_Up_CM_CD4T\t,variable,value) ,\n",
    "          \"/home/workspace/Source_Data/Fig5j_1.csv\", row.names=FALSE)"
   ]
  },
  {
   "cell_type": "code",
   "execution_count": 31,
   "id": "d3cad462-4f28-4e5a-88b8-c1cf5b615bea",
   "metadata": {
    "scrolled": true
   },
   "outputs": [
    {
     "name": "stderr",
     "output_type": "stream",
     "text": [
      "\u001b[1m\u001b[22m`geom_smooth()` using formula = 'y ~ x'\n",
      "\u001b[1m\u001b[22m`geom_smooth()` using formula = 'y ~ x'\n"
     ]
    },
    {
     "data": {
      "image/png": "[encoded data removed]",
      "text/plain": [
       "plot without title"
      ]
     },
     "metadata": {
      "image/png": {
       "height": 47.2441,
       "width": 94.4882
      }
     },
     "output_type": "display_data"
    }
   ],
   "source": [
    "\n",
    "\n",
    "options(repr.plot.width = 40/25.4, repr.plot.height =  20/25.4)\n",
    "\n",
    "p <- ggplot(df_filtered, aes(x = `CompositeScore_Up_CM CD4 T cell`, y = value)) +\n",
    "  geom_point(size = 0.6, stroke = 0.25) +\n",
    "  geom_smooth(method = 'loess', color = \"black\", se = FALSE,span = 1.8, linewidth = 0.5) +\n",
    "  stat_cor(\n",
    "    method = \"spearman\",\n",
    "    aes(label = paste0(\"R = \", ..r.., \"\\nP = \", ..p..)),\n",
    "    label.x.npc = \"left\", \n",
    "    label.y.npc = \"top\",   output.type = \"text\",\n",
    "color =\"blue\",\n",
    "    size = 1.76\n",
    "  ) +\n",
    "  facet_wrap(~ variable, ncol = 1, scales = \"free\",labeller = labeller(variable = c(\n",
    "      \"Unstimulated-IFNg- IL4+ CD27+ CM Memory CD4+\"=\"IFNg- IL4+ CD27+ CM CD4\\nFrequency (of T cells)\"\n",
    "  ))) +\n",
    "  theme_bw(base_size = 6) + scale_y_continuous(expand = expansion(mult = c(0.05, 0.35))) + theme(\n",
    "  axis.title   = element_text(color = \"black\"),\n",
    "  axis.text    = element_text(color = \"black\"),\n",
    "    strip.text.x      = element_text(margin = margin(t = 1, b = 1))\n",
    "\n",
    "\n",
    ")+xlab(\"RNA Age Metric (Up) CM CD4 T \")\n",
    "\n",
    "p\n",
    "ggsave('FigureJ2.pdf',\n",
    "       p, \n",
    "       width = 45/25.4,\n",
    "       height = 20/25.4)"
   ]
  },
  {
   "cell_type": "code",
   "execution_count": null,
   "id": "2f39a15f-b788-43fb-8707-7d45fa111c7b",
   "metadata": {},
   "outputs": [],
   "source": []
  },
  {
   "cell_type": "code",
   "execution_count": null,
   "id": "95528b27-ec28-4c0c-a7a5-468661c4ad6c",
   "metadata": {},
   "outputs": [],
   "source": []
  },
  {
   "cell_type": "code",
   "execution_count": null,
   "id": "cd945a74-d2dd-4e49-ab52-e6acf5a24203",
   "metadata": {},
   "outputs": [],
   "source": []
  },
  {
   "cell_type": "code",
   "execution_count": null,
   "id": "ca85f584-d2c7-4064-af03-112087851325",
   "metadata": {},
   "outputs": [],
   "source": []
  }
 ],
 "metadata": {
  "kernelspec": {
   "display_name": "R_BRI_Figures",
   "language": "R",
   "name": "r_bri_figures"
  },
  "language_info": {
   "codemirror_mode": "r",
   "file_extension": ".r",
   "mimetype": "text/x-r-source",
   "name": "R",
   "pygments_lexer": "r",
   "version": "4.3.2"
  }
 },
 "nbformat": 4,
 "nbformat_minor": 5
}
