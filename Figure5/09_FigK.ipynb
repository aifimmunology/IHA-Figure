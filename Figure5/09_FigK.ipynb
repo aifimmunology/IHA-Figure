{
 "cells": [
  {
   "cell_type": "code",
   "execution_count": 1,
   "id": "cceda57a-cc9b-4533-b833-65269ccdf8d8",
   "metadata": {},
   "outputs": [
    {
     "name": "stderr",
     "output_type": "stream",
     "text": [
      "------------------------------------------------------------------------------\n",
      "\n",
      "You have loaded plyr after dplyr - this is likely to cause problems.\n",
      "If you need functions from both plyr and dplyr, please load plyr first, then dplyr:\n",
      "library(plyr); library(dplyr)\n",
      "\n",
      "------------------------------------------------------------------------------\n",
      "\n",
      "\n",
      "Attaching package: ‘plyr’\n",
      "\n",
      "\n",
      "The following objects are masked from ‘package:dplyr’:\n",
      "\n",
      "    arrange, count, desc, failwith, id, mutate, rename, summarise,\n",
      "    summarize\n",
      "\n",
      "\n",
      "\n",
      "Attaching package: ‘purrr’\n",
      "\n",
      "\n",
      "The following object is masked from ‘package:plyr’:\n",
      "\n",
      "    compact\n",
      "\n",
      "\n",
      "\n",
      "Attaching package: ‘rstatix’\n",
      "\n",
      "\n",
      "The following objects are masked from ‘package:plyr’:\n",
      "\n",
      "    desc, mutate\n",
      "\n",
      "\n",
      "The following object is masked from ‘package:stats’:\n",
      "\n",
      "    filter\n",
      "\n",
      "\n",
      "Loading required package: ggplot2\n",
      "\n",
      "\n",
      "Attaching package: ‘ggpubr’\n",
      "\n",
      "\n",
      "The following object is masked from ‘package:plyr’:\n",
      "\n",
      "    mutate\n",
      "\n",
      "\n"
     ]
    }
   ],
   "source": [
    "suppressPackageStartupMessages(library(dplyr))\n",
    "suppressPackageStartupMessages(library(tidyr))\n",
    "suppressPackageStartupMessages(library(tibble))\n",
    "suppressPackageStartupMessages(library(stringr))\n",
    "library(plyr)\n",
    "library(purrr)\n",
    "library(rstatix)\n",
    "library(ggpubr)\n",
    "library(ggrepel)\n"
   ]
  },
  {
   "cell_type": "code",
   "execution_count": 2,
   "id": "55a80a21-daa5-4648-991a-d7c8ad4cebee",
   "metadata": {},
   "outputs": [],
   "source": [
    "df<-read.csv(\"04_MSD/MSD_Normalized_Y2020-2021_Washington.csv\")"
   ]
  },
  {
   "cell_type": "code",
   "execution_count": 3,
   "id": "481f7380-7e10-43df-a55d-f3e09d5af307",
   "metadata": {},
   "outputs": [],
   "source": [
    "df <- df %>% dplyr::mutate(`Age Group` = case_when(\n",
    "  cohort.cohortGuid == \"BR1\" ~ \"Young\",\n",
    "  cohort.cohortGuid == \"BR2\" ~ \"Older\",\n",
    "  TRUE ~ NA_character_\n",
    "))\n",
    "df$`Age Group`<-factor(df$`Age Group`,levels=c(\"Young\",\"Older\"))"
   ]
  },
  {
   "cell_type": "code",
   "execution_count": 4,
   "id": "0964299f-68cd-415f-8311-722bba26b7fc",
   "metadata": {},
   "outputs": [],
   "source": [
    "df$Group<-paste0(df$`Age Group`,'_',df$Flu_Day)"
   ]
  },
  {
   "cell_type": "code",
   "execution_count": 5,
   "id": "b81dcc30-155e-4525-8d3b-ebc1909637b1",
   "metadata": {},
   "outputs": [],
   "source": [
    "df$Group<-factor(df$Group,levels=c('Young_Day 0','Young_Day 7',\n",
    "                                       'Older_Day 0','Older_Day 7'))"
   ]
  },
  {
   "cell_type": "code",
   "execution_count": 7,
   "id": "03ebc498-8771-4718-adb3-2ecd87b37999",
   "metadata": {},
   "outputs": [
    {
     "data": {
      "image/png": "[encoded data removed]",
      "text/plain": [
       "plot without title"
      ]
     },
     "metadata": {
      "image/png": {
       "height": 118.1102,
       "width": 106.2992
      }
     },
     "output_type": "display_data"
    }
   ],
   "source": [
    "options(repr.plot.width = 45/25.4, repr.plot.height = 50/25.4)\n",
    "\n",
    "\n",
    "p<-ggplot(df %>% arrange(subject.subjectGuid,Flu_Day), aes(x=Group, y=Normalized_Concentration, fill=`Age Group`)) +\n",
    "   geom_boxplot(outlier.shape = NA,lwd=0.3) +\n",
    "geom_point(color=\"black\", size=0.8,stroke=0) +\n",
    "theme_classic(base_size=6)+  \n",
    "stat_compare_means( label = \"p.format\",method='wilcox.test',\n",
    "                   paired=FALSE,size=2.5,\n",
    "  comparisons = list(c(\"Young_Day 7\", \"Older_Day 7\")))+  \n",
    "    scale_fill_manual(values = c(\"Older\" = '#bf812d', \"Young\" = '#35978f'))+\n",
    "    scale_y_continuous(limits = c(NA, NA),\n",
    "                       expand = expansion(mult = c(0.1, 0.15)))+\n",
    "theme(legend.position=\"none\")+\n",
    "xlab('')+\n",
    "ylab('Normalized\\nConcentration')+theme(\n",
    "panel.border = element_blank())   + \n",
    "scale_x_discrete(labels = c(\"Older_Day 0\" = \"Older\\nDay 0\", \n",
    "                              \"Older_Day 7\" = \"Older\\nDay 7\",\n",
    "                              \"Young_Day 0\" = \"Young\\nDay 0\",\n",
    "                              \"Young_Day 7\" = \"Young\\nDay 7\")) +\n",
    "    theme(axis.line = element_line(colour = \"black\"),\n",
    "          legend.position = \"top\",\n",
    "          legend.title = element_blank(),\n",
    "          panel.grid.major = element_blank(),\n",
    "          panel.grid.minor = element_blank(),\n",
    "          panel.border = element_blank(),\n",
    "          panel.background = element_blank(),\n",
    "          strip.background = element_rect(linewidth = 0),\n",
    "          axis.title.x = element_text(margin = margin(t = 1)))+geom_line(aes(group = interaction(`Age Group`, subject.subjectGuid)), \n",
    "              color = \"black\", \n",
    "              linewidth=0.1, \n",
    "              linetype =4)\n",
    "p\n",
    "ggsave('FigureK.pdf',p,width = 45/25.4,height = 50/25.4)"
   ]
  },
  {
   "cell_type": "code",
   "execution_count": null,
   "id": "d2f46f12-dc5f-4ac9-9f04-8db05276359c",
   "metadata": {},
   "outputs": [],
   "source": []
  },
  {
   "cell_type": "code",
   "execution_count": null,
   "id": "322326f4-65f7-424b-8f62-57bd154adcf7",
   "metadata": {},
   "outputs": [],
   "source": []
  }
 ],
 "metadata": {
  "kernelspec": {
   "display_name": "R 4",
   "language": "R",
   "name": "ir4"
  },
  "language_info": {
   "codemirror_mode": "r",
   "file_extension": ".r",
   "mimetype": "text/x-r-source",
   "name": "R",
   "pygments_lexer": "r",
   "version": "4.3.2"
  }
 },
 "nbformat": 4,
 "nbformat_minor": 5
}
