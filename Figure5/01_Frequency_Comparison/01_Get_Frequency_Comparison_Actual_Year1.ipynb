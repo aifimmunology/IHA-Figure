{
 "cells": [
  {
   "cell_type": "code",
   "execution_count": 1,
   "id": "e4fb9cff-1e93-4843-8ae7-2e3d1faf433b",
   "metadata": {
    "scrolled": true
   },
   "outputs": [
    {
     "name": "stderr",
     "output_type": "stream",
     "text": [
      "\n",
      "Attaching package: ‘reshape2’\n",
      "\n",
      "\n",
      "The following object is masked from ‘package:tidyr’:\n",
      "\n",
      "    smiths\n",
      "\n",
      "\n",
      "\n",
      "Attaching package: ‘data.table’\n",
      "\n",
      "\n",
      "The following objects are masked from ‘package:reshape2’:\n",
      "\n",
      "    dcast, melt\n",
      "\n",
      "\n",
      "The following objects are masked from ‘package:dplyr’:\n",
      "\n",
      "    between, first, last\n",
      "\n",
      "\n",
      "\n",
      "Attaching package: ‘purrr’\n",
      "\n",
      "\n",
      "The following object is masked from ‘package:data.table’:\n",
      "\n",
      "    transpose\n",
      "\n",
      "\n"
     ]
    }
   ],
   "source": [
    "suppressPackageStartupMessages(library(dplyr))\n",
    "suppressPackageStartupMessages(library(tidyr))\n",
    "suppressPackageStartupMessages(library(tibble))\n",
    "suppressPackageStartupMessages(library(stringr))\n",
    "library(reshape2)\n",
    "library(data.table)\n",
    "library(parallel)\n",
    "library(purrr)\n",
    "source('/home//jupyter/BRI_Figures_Final_V2/helper_function/helper_function_IHA.r')"
   ]
  },
  {
   "cell_type": "markdown",
   "id": "6f991079-6ab3-4d78-90db-88ddd11eb7e9",
   "metadata": {},
   "source": [
    "# Read Meta Data"
   ]
  },
  {
   "cell_type": "code",
   "execution_count": 2,
   "id": "ba5951a3-0560-4653-9bf7-00f4d54da85f",
   "metadata": {},
   "outputs": [],
   "source": [
    "meta_data_selected_RNA <- read.csv('/home/jupyter/BRI_Figures_Final_V1/Dataset/scRNA_meta_data-2024-05-09.csv')\n",
    "\n",
    "meta_data_selected_RNA$sample.drawDate <- as.Date(meta_data_selected_RNA$sample.drawDate)\n",
    "\n",
    "meta_data_selected_RNA <- meta_data_selected_RNA %>%\n",
    "  mutate(Flu_Year = case_when(\n",
    "    sample.drawDate <= as.Date('2020-07-01') ~ '2019-2020',\n",
    "    sample.drawDate > as.Date('2020-07-01') & sample.drawDate <= as.Date('2021-07-01') ~ '2020-2021',\n",
    "    sample.drawDate > as.Date('2021-07-01') & sample.drawDate <= as.Date('2022-07-01') ~ '2021-2022',\n",
    "    sample.drawDate > as.Date('2022-07-01') & sample.drawDate <= as.Date('2023-07-01') ~ '2022-2023',\n",
    "    TRUE ~ NA_character_\n",
    "  ))\n",
    "\n",
    "meta_data_selected_RNA <- meta_data_selected_RNA %>%\n",
    "  mutate(Flu_Day = case_when(\n",
    "    sample.visitName\t%in% c(\"Flu Year 1 Day 0\",\"Flu Year 2 Day 0\") ~ 'Day 0',\n",
    "    sample.visitName\t%in% c(\"Flu Year 1 Day 7\",\"Flu Year 2 Day 7\") ~ 'Day 7',\n",
    "    sample.visitName\t%in% c(\"Flu Year 1 Day 90\",\"Flu Year 2 Day 90\") ~ 'Day 90',\n",
    "    TRUE ~ sample.visitName\n",
    "  ))"
   ]
  },
  {
   "cell_type": "code",
   "execution_count": 3,
   "id": "749edae4-5fa7-4d2f-be8f-48966e7c0c4b",
   "metadata": {},
   "outputs": [],
   "source": [
    "meta_data_selected_RNA_D0_D7<-meta_data_selected_RNA %>% filter(Flu_Year%in% c(\"2021-2022\",\"2020-2021\")) %>% filter(Flu_Day %in% c(\"Day 0\",'Day 7'))"
   ]
  },
  {
   "cell_type": "code",
   "execution_count": 4,
   "id": "d6f7050f-d855-4a7c-86c8-96a9e65468ed",
   "metadata": {},
   "outputs": [],
   "source": [
    "selected_donor<-as.data.frame(table(meta_data_selected_RNA_D0_D7$subject.subjectGuid)) %>% filter(Freq==4)"
   ]
  },
  {
   "cell_type": "code",
   "execution_count": 5,
   "id": "aa366f75-54c6-4772-bd9c-e351bc8fc0e9",
   "metadata": {},
   "outputs": [],
   "source": [
    "meta_data_selected<-meta_data_selected_RNA_D0_D7 %>% filter(subject.subjectGuid %in% selected_donor$Var1)\n",
    "write.csv(meta_data_selected,\"selected_samples_with_acutal_flu_year.csv\")"
   ]
  },
  {
   "cell_type": "code",
   "execution_count": 6,
   "id": "4904bbc7-f3b3-47fe-8fe2-10ad6c2b22b6",
   "metadata": {},
   "outputs": [],
   "source": [
    "meta_data_selected_RNA_D0_D7<-meta_data_selected_RNA_D0_D7 %>% filter(subject.subjectGuid %in% selected_donor$Var1,Flu_Year%in% c(\"2020-2021\"))"
   ]
  },
  {
   "cell_type": "markdown",
   "id": "e15727b5-4e0c-4f6e-acec-d82e82a2836a",
   "metadata": {},
   "source": [
    "# Read Freq Files and do subsetting"
   ]
  },
  {
   "cell_type": "code",
   "execution_count": 7,
   "id": "596dd962-40ba-4e58-a271-b55c5401460e",
   "metadata": {},
   "outputs": [],
   "source": [
    "df_freq<-read.csv(\"/home/jupyter/BRI_Figures_Final_V2/Dataset/diha_AIFI_L3_frequencies_2024-05-05.csv\")"
   ]
  },
  {
   "cell_type": "code",
   "execution_count": 8,
   "id": "5ec965f9-253a-47c9-b792-92ee978b37ff",
   "metadata": {},
   "outputs": [],
   "source": [
    "df_freq_Y1<-df_freq %>% filter(specimen.specimenGuid %in% meta_data_selected_RNA_D0_D7$pbmc_sample_id)"
   ]
  },
  {
   "cell_type": "code",
   "execution_count": 9,
   "id": "2a443e83-6627-495c-840d-107db58f8be1",
   "metadata": {},
   "outputs": [],
   "source": [
    "df_freq_Y1<-df_freq_Y1 %>% filter(AIFI_L3 %in% c(\"CD27+ effector B cell\", \n",
    "                    \"CD27- effector B cell\", \n",
    "                    \"Core memory B cell\", \n",
    "                    \"Plasma cell\"))"
   ]
  },
  {
   "cell_type": "code",
   "execution_count": 10,
   "id": "638a731c-504b-4b29-b6b2-11e576483748",
   "metadata": {},
   "outputs": [],
   "source": [
    "df_freq_Y1<-left_join(df_freq_Y1,meta_data_selected_RNA_D0_D7[c('pbmc_sample_id','Flu_Year','Flu_Day')],by=c(\"specimen.specimenGuid\"=\"pbmc_sample_id\"))"
   ]
  },
  {
   "cell_type": "code",
   "execution_count": 13,
   "id": "e085ecd4-5dd7-4393-be9e-94ffd2b0c067",
   "metadata": {},
   "outputs": [],
   "source": [
    "write.csv(df_freq_Y1,\"freq_actual_flu_year_1_D0_D7.csv\")"
   ]
  },
  {
   "cell_type": "code",
   "execution_count": null,
   "id": "fee3b702-94c7-40c7-b7aa-19525900ce67",
   "metadata": {},
   "outputs": [],
   "source": []
  }
 ],
 "metadata": {
  "kernelspec": {
   "display_name": "R 4",
   "language": "R",
   "name": "ir4"
  },
  "language_info": {
   "codemirror_mode": "r",
   "file_extension": ".r",
   "mimetype": "text/x-r-source",
   "name": "R",
   "pygments_lexer": "r",
   "version": "4.3.2"
  }
 },
 "nbformat": 4,
 "nbformat_minor": 5
}
