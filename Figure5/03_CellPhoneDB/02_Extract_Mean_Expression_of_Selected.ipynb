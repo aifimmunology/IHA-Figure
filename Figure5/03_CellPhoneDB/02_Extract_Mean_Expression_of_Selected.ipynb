{
 "cells": [
  {
   "cell_type": "code",
   "execution_count": 2,
   "id": "232b50cb-0860-40e7-b8a5-14308ad337e7",
   "metadata": {},
   "outputs": [],
   "source": [
    "suppressPackageStartupMessages(library(dplyr))\n",
    "suppressPackageStartupMessages(library(tidyr))\n",
    "suppressPackageStartupMessages(library(tibble))\n",
    "suppressPackageStartupMessages(library(ggplot2))\n",
    "suppressPackageStartupMessages(library(stringr))\n",
    "library(parallel)\n",
    "library(pheatmap)\n",
    "library(ggsci)\n",
    "library(RColorBrewer)\n",
    "library(viridis)\n",
    "library(reshape2)\n",
    "library(ggpubr)\n",
    "library(tidyverse)\n",
    "\n",
    "source('/home/jupyter/BRI_Figures_Final_V2/helper_function/helper_function_IHA.r')"
   ]
  },
  {
   "cell_type": "markdown",
   "id": "cfcd05d2-4c84-414d-9e7e-137237b0b7ea",
   "metadata": {},
   "source": [
    "# BRI"
   ]
  },
  {
   "cell_type": "code",
   "execution_count": 5,
   "id": "a3ba31e2-fc9d-42ad-ba1e-f0a37e4eb1db",
   "metadata": {},
   "outputs": [],
   "source": [
    "meta_data=read.csv(\"/home/jupyter/BRI_Figures_Final_V2/Dataset/scRNA_meta_data-2024-05-09.csv\")\n",
    "meta_data_subset<-meta_data  %>% filter (sample.visitName%in% c('Flu Year 1 Day 0')) \n"
   ]
  },
  {
   "cell_type": "code",
   "execution_count": 6,
   "id": "0d376b9c-d061-454b-8eee-c9ff8abe131d",
   "metadata": {},
   "outputs": [],
   "source": [
    "aggregated_count_file_list<-paste0(\"/home/jupyter/BRI_Figures/Dataset/scRNA/BRI/Average_LogNormalized_Expression/Average_LogNormalized_Expression_of_Celltypes_by_Sample_AIFI_L3/\",meta_data_subset$pbmc_sample_id,\".csv\")\n",
    "df_list<-mclapply(aggregated_count_file_list,function(x){\n",
    "df<-read.csv(x,check.names = FALSE, row.names = 1)\n",
    "colnames(df)<-paste0(gsub(\"^.*/(.*)\\\\.csv$\", \"\\\\1\", x),\":\",colnames(df))\n",
    "return (df)    \n",
    "},mc.cores=60)"
   ]
  },
  {
   "cell_type": "code",
   "execution_count": 13,
   "id": "be584339-147b-428f-98e2-849f9e89d860",
   "metadata": {},
   "outputs": [],
   "source": []
  },
  {
   "cell_type": "code",
   "execution_count": null,
   "id": "78fbfaa9-fb83-4b48-ab67-4e8aeddeee05",
   "metadata": {},
   "outputs": [],
   "source": [
    "#selected_genes<-c(\"CXCR5\",'TIGIT','PDCD1','LGALS3','CCR4',\"SLAMF1\",\"GATA3\",\"KLRB1\", \"ITGA4\", \"TOX\", \"CD84\",\"CCR8\", \"IL4R\", \"NOTCH1\")#TH2 activity\n",
    "selected_genes<-c(\"CD40\")\n",
    "\n",
    "\n",
    "df<-filter_genes_and_celltype(df_list, selected_genes, c('Core memory B cell'), longformat = TRUE)\n",
    "\n",
    "\n",
    "df<-left_join(df,meta_data_subset)\n",
    "\n",
    "df<-df %>% \n",
    "mutate(AgeGroup=case_when(cohort.cohortGuid==\"BR1\"~\"Young\", TRUE~'Older'))\n",
    "\n",
    "df$AgeGroup<-factor(df$AgeGroup,levels=c(\"Young\",\"Older\"))\n",
    "df_CD40<-df"
   ]
  },
  {
   "cell_type": "code",
   "execution_count": 14,
   "id": "0994b328-96ef-415e-b3f5-3b1e327d3d0c",
   "metadata": {},
   "outputs": [
    {
     "name": "stderr",
     "output_type": "stream",
     "text": [
      "\u001b[1m\u001b[22mJoining with `by = join_by(pbmc_sample_id)`\n"
     ]
    }
   ],
   "source": [
    "selected_genes<-c(\"CD40LG\")\n",
    "\n",
    "\n",
    "df<-filter_genes_and_celltype(df_list, selected_genes, c('CM CD4 T cell'), longformat = TRUE)\n",
    "\n",
    "\n",
    "df<-left_join(df,meta_data_subset)\n",
    "\n",
    "df<-df %>% \n",
    "mutate(AgeGroup=case_when(cohort.cohortGuid==\"BR1\"~\"Young\", TRUE~'Older'))\n",
    "\n",
    "df$AgeGroup<-factor(df$AgeGroup,levels=c(\"Young\",\"Older\"))\n",
    "df_CD40LG<-df"
   ]
  },
  {
   "cell_type": "code",
   "execution_count": 15,
   "id": "2df41239-f1e4-4a6c-aa2a-9a6442e1ccd8",
   "metadata": {},
   "outputs": [],
   "source": [
    "df<-rbind(df_CD40LG,df_CD40)"
   ]
  },
  {
   "cell_type": "code",
   "execution_count": 16,
   "id": "3c2fb5a4-06d6-443a-a16b-5d1967e8248c",
   "metadata": {},
   "outputs": [],
   "source": [
    "write.csv(df,\"mean_exp_selected.csv\")"
   ]
  },
  {
   "cell_type": "code",
   "execution_count": null,
   "id": "cb24b2cb-a3dd-422e-a6da-4da19b8a8d5a",
   "metadata": {},
   "outputs": [],
   "source": []
  }
 ],
 "metadata": {
  "kernelspec": {
   "display_name": "R 4",
   "language": "R",
   "name": "ir4"
  },
  "language_info": {
   "codemirror_mode": "r",
   "file_extension": ".r",
   "mimetype": "text/x-r-source",
   "name": "R",
   "pygments_lexer": "r",
   "version": "4.3.2"
  }
 },
 "nbformat": 4,
 "nbformat_minor": 5
}
