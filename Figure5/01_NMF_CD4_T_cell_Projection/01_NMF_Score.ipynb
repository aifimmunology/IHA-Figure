{
 "cells": [
  {
   "cell_type": "code",
   "execution_count": 3,
   "id": "52fc2bc1-d506-4c83-8241-b99fc983dbbd",
   "metadata": {},
   "outputs": [],
   "source": [
    "#install package from this github https://github.com/yyoshiaki/NMFprojection\n",
    "from NMFproj import *"
   ]
  },
  {
   "cell_type": "code",
   "execution_count": 4,
   "id": "e8742fa4-f124-41c4-a649-ee64899ee979",
   "metadata": {},
   "outputs": [],
   "source": [
    "import pandas as pd \n",
    "import numpy as np \n",
    "import scanpy as sc\n",
    "import matplotlib.pyplot as plt\n",
    "import concurrent.futures\n",
    "import warnings\n",
    "from datetime import date\n",
    "import os\n",
    "import shutil\n",
    "from concurrent.futures import ThreadPoolExecutor, as_completed,ProcessPoolExecutor\n",
    "from tqdm import tqdm\n",
    "import anndata\n",
    "import gc\n",
    "\n",
    "warnings.filterwarnings(\"ignore\")\n",
    "sc.settings.n_jobs = 60"
   ]
  },
  {
   "cell_type": "code",
   "execution_count": 5,
   "id": "af53f395-af0a-4632-a573-8467a0f86ed1",
   "metadata": {},
   "outputs": [],
   "source": [
    "# Read NMF projection matrix\n",
    "fixed_W=pd.read_csv(\"NMF.W.CD4T.csv\")\n",
    "fixed_W = fixed_W.rename(columns={'Unnamed: 0': ''})\n",
    "fixed_W.set_index(fixed_W.columns[0], inplace=True)"
   ]
  },
  {
   "cell_type": "code",
   "execution_count": 1,
   "id": "734c4ff8-2823-4aae-9ed8-89d5389a36f3",
   "metadata": {},
   "outputs": [],
   "source": []
  },
  {
   "cell_type": "code",
   "execution_count": 13,
   "id": "11076f9d-b642-483f-9487-834e89e44d48",
   "metadata": {},
   "outputs": [],
   "source": [
    "# only select CD4 T cell to perform projection\n",
    "selected_celltype =['Core naive CD4 T cell',\n",
    " 'CM CD4 T cell',\n",
    " 'GZMB- CD27+ EM CD4 T cell',\n",
    " 'CD4 MAIT',\n",
    " 'KLRB1+ memory CD4 Treg',\n",
    " 'KLRF1- GZMB+ CD27- memory CD4 T cell',\n",
    " 'Naive CD4 Treg',\n",
    " 'GZMB- CD27- EM CD4 T cell',\n",
    " 'ISG+ naive CD4 T cell',\n",
    " 'Memory CD4 Treg',\n",
    " 'ISG+ memory CD4 T cell',\n",
    " 'GZMK+ memory CD4 Treg',\n",
    " 'SOX4+ naive CD4 T cell']"
   ]
  },
  {
   "cell_type": "markdown",
   "id": "10521ecb-55fe-4dbb-862e-94d3e7f2be0a",
   "metadata": {},
   "source": [
    "# BRI"
   ]
  },
  {
   "cell_type": "code",
   "execution_count": 4,
   "id": "f2415ba5-82a7-4583-a6aa-889174039d59",
   "metadata": {},
   "outputs": [],
   "source": [
    "meta_data=pd.read_csv(\"/home/jupyter/BRI_Figures_Final_V2/Dataset/scRNA_meta_data-2024-05-09.csv\")"
   ]
  },
  {
   "cell_type": "code",
   "execution_count": 5,
   "id": "327c5e12-a8af-406e-823a-4b40278eccd0",
   "metadata": {},
   "outputs": [],
   "source": [
    "file_names= ['/home/jupyter/BRI_Figures_Final_V2/Dataset/scRNA/BRI/h5ad/sample_h5ad/'+x+\".h5ad\" for x in meta_data['pbmc_sample_id'].tolist()]\n"
   ]
  },
  {
   "cell_type": "code",
   "execution_count": 6,
   "id": "4208a546-5e97-4c1d-a070-4a25d356383b",
   "metadata": {},
   "outputs": [],
   "source": [
    "def process_file(i, selected_celltype, fixed_W):\n",
    "    adata = sc.read_h5ad(i)\n",
    "    \n",
    "    sc.pp.normalize_total(adata, target_sum=1e4)\n",
    "    sc.pp.log1p(adata)\n",
    "    \n",
    "    adata_subset = adata[adata.obs['AIFI_L3'].isin(selected_celltype)]\n",
    "    \n",
    "    input_df = pd.DataFrame(adata_subset.X.todense().T)\n",
    "    input_df.index = adata_subset.var_names\n",
    "    input_df.columns = adata_subset.obs['barcodes'].tolist()\n",
    "    \n",
    "    X_norm, X_trunc, df_H, fixed_W_trunc = NMFproj(input_df, fixed_W, return_truncated=True, normalized=True)\n",
    "    index_mapping = {\n",
    "        'NMF_0': 'NMF0_Cytotoxic',\n",
    "        'NMF_1': 'NMF1_Treg',\n",
    "        'NMF_2': 'NMF2_Th17',\n",
    "        'NMF_3': 'NMF3_Naive',\n",
    "        'NMF_4': 'NMF4_Act',\n",
    "        'NMF_5': 'NMF5_Th2',\n",
    "        'NMF_6': 'NMF6_Tfh',\n",
    "        'NMF_7': 'NMF7_IFN',\n",
    "        'NMF_8': 'NMF8_Cent_Mem',\n",
    "        'NMF_9': 'NMF9_Thymic_Emi',\n",
    "        'NMF_10': 'NMF10_Tissue',\n",
    "        'NMF_11': 'NMF11_Th1'\n",
    "    }\n",
    "    \n",
    "    df_H.index = df_H.index.map(index_mapping)\n",
    "    output_filename = \"NMF_Score_BRI/\" + adata.obs['specimen.specimenGuid'][0] + \".csv\"\n",
    "    df_H=df_H.T\n",
    "    df_H['AIFI_L3']=adata_subset.obs['AIFI_L3'].tolist()\n",
    "    df_H.to_csv(output_filename)"
   ]
  },
  {
   "cell_type": "code",
   "execution_count": 15,
   "id": "e7757f9f-8b4f-43a1-b8d7-04484ab5884e",
   "metadata": {
    "collapsed": true,
    "jupyter": {
     "outputs_hidden": true
    },
    "scrolled": true
   },
   "outputs": [
    {
     "ename": "FileExistsError",
     "evalue": "[Errno 17] File exists: 'NMF_Score_BRI'",
     "output_type": "error",
     "traceback": [
      "\u001b[0;31m---------------------------------------------------------------------------\u001b[0m",
      "\u001b[0;31mFileExistsError\u001b[0m                           Traceback (most recent call last)",
      "Cell \u001b[0;32mIn[15], line 1\u001b[0m\n\u001b[0;32m----> 1\u001b[0m \u001b[43mos\u001b[49m\u001b[38;5;241;43m.\u001b[39;49m\u001b[43mmkdir\u001b[49m\u001b[43m(\u001b[49m\u001b[38;5;124;43m'\u001b[39;49m\u001b[38;5;124;43mNMF_Score_BRI\u001b[39;49m\u001b[38;5;124;43m'\u001b[39;49m\u001b[43m)\u001b[49m\n\u001b[1;32m      2\u001b[0m \u001b[38;5;66;03m# Parallel processing\u001b[39;00m\n\u001b[1;32m      3\u001b[0m \u001b[38;5;28;01mwith\u001b[39;00m concurrent\u001b[38;5;241m.\u001b[39mfutures\u001b[38;5;241m.\u001b[39mProcessPoolExecutor(max_workers\u001b[38;5;241m=\u001b[39m\u001b[38;5;241m60\u001b[39m) \u001b[38;5;28;01mas\u001b[39;00m executor:\n",
      "\u001b[0;31mFileExistsError\u001b[0m: [Errno 17] File exists: 'NMF_Score_BRI'"
     ]
    }
   ],
   "source": [
    "os.mkdir('NMF_Score_BRI')"
   ]
  },
  {
   "cell_type": "code",
   "execution_count": 16,
   "id": "2dcd6444-cda3-4d4c-b2e5-c87da66d7d9b",
   "metadata": {},
   "outputs": [
    {
     "name": "stderr",
     "output_type": "stream",
     "text": [
      "100% 868/868 [05:29<00:00,  2.63it/s]\n"
     ]
    }
   ],
   "source": [
    "# Parallel processing\n",
    "with concurrent.futures.ProcessPoolExecutor(max_workers=60) as executor:\n",
    "    futures = [executor.submit(process_file, i, selected_celltype, fixed_W) for i in file_names]\n",
    "    for future in tqdm(concurrent.futures.as_completed(futures), total=len(file_names)):\n",
    "        future.result()"
   ]
  },
  {
   "cell_type": "markdown",
   "id": "c6f6ac6b-1f4c-47e4-ad8a-48ebfd03d754",
   "metadata": {},
   "source": [
    "# SF4"
   ]
  },
  {
   "cell_type": "code",
   "execution_count": 17,
   "id": "25a7775b-2160-467a-abe3-99b88ca39799",
   "metadata": {},
   "outputs": [],
   "source": [
    "meta_data=pd.read_csv(\"/home/jupyter/BRI_Figures_Final_V1/Dataset/SF4_meta_data-2024-05-05.csv\")"
   ]
  },
  {
   "cell_type": "code",
   "execution_count": 18,
   "id": "7b7cf513-8392-40de-9765-6667a5c211ac",
   "metadata": {},
   "outputs": [],
   "source": [
    "file_names= ['/home/jupyter/BRI_Figures_Final_V1/Dataset/scRNA/SF4/h5ad/'+x+\".h5ad\" for x in meta_data['pbmc_sample_id'].tolist()]"
   ]
  },
  {
   "cell_type": "code",
   "execution_count": 19,
   "id": "367ba22a-0999-4415-9b43-f5da125abbbc",
   "metadata": {},
   "outputs": [],
   "source": [
    "def process_file(i, selected_celltype, fixed_W):\n",
    "    adata = sc.read_h5ad(i)\n",
    "    \n",
    "    sc.pp.normalize_total(adata, target_sum=1e4)\n",
    "    sc.pp.log1p(adata)\n",
    "    \n",
    "    adata_subset = adata[adata.obs['celltypist_l3'].isin(selected_celltype)]\n",
    "    \n",
    "    input_df = pd.DataFrame(adata_subset.X.todense().T)\n",
    "    input_df.index = adata_subset.var_names\n",
    "    input_df.columns = adata_subset.obs['barcodes'].tolist()\n",
    "    \n",
    "    X_norm, X_trunc, df_H, fixed_W_trunc = NMFproj(input_df, fixed_W, return_truncated=True, normalized=True)\n",
    "    index_mapping = {\n",
    "        'NMF_0': 'NMF0_Cytotoxic',\n",
    "        'NMF_1': 'NMF1_Treg',\n",
    "        'NMF_2': 'NMF2_Th17',\n",
    "        'NMF_3': 'NMF3_Naive',\n",
    "        'NMF_4': 'NMF4_Act',\n",
    "        'NMF_5': 'NMF5_Th2',\n",
    "        'NMF_6': 'NMF6_Tfh',\n",
    "        'NMF_7': 'NMF7_IFN',\n",
    "        'NMF_8': 'NMF8_Cent_Mem',\n",
    "        'NMF_9': 'NMF9_Thymic_Emi',\n",
    "        'NMF_10': 'NMF10_Tissue',\n",
    "        'NMF_11': 'NMF11_Th1'\n",
    "    }\n",
    "    \n",
    "    df_H.index = df_H.index.map(index_mapping)\n",
    "    output_filename = \"NMF_Score_SF4/\" + adata.obs['sampleID'][0] + \".csv\"\n",
    "    df_H=df_H.T\n",
    "    df_H['AIFI_L3']=adata_subset.obs['celltypist_l3'].tolist()\n",
    "    df_H.to_csv(output_filename)"
   ]
  },
  {
   "cell_type": "code",
   "execution_count": 20,
   "id": "beaf1476-9088-4285-af64-883b55a916d0",
   "metadata": {},
   "outputs": [],
   "source": [
    "os.mkdir('NMF_Score_SF4')"
   ]
  },
  {
   "cell_type": "code",
   "execution_count": 21,
   "id": "615d5596-e0dd-4616-b513-168ced62949f",
   "metadata": {},
   "outputs": [
    {
     "name": "stderr",
     "output_type": "stream",
     "text": [
      "100% 235/235 [05:08<00:00,  1.31s/it]\n"
     ]
    }
   ],
   "source": [
    "# Parallel processing\n",
    "with concurrent.futures.ProcessPoolExecutor(max_workers=60) as executor:\n",
    "    futures = [executor.submit(process_file, i, selected_celltype, fixed_W) for i in file_names]\n",
    "    for future in tqdm(concurrent.futures.as_completed(futures), total=len(file_names)):\n",
    "        future.result()"
   ]
  },
  {
   "cell_type": "markdown",
   "id": "ac806542-5e70-46fd-97cf-900067e03a61",
   "metadata": {},
   "source": [
    "# Write Out Top 20 genes for NMF factor"
   ]
  },
  {
   "cell_type": "code",
   "execution_count": 6,
   "id": "3991a70d-cfea-48d9-837a-afc74a98f343",
   "metadata": {},
   "outputs": [],
   "source": [
    "#write out top genes for each factor\n",
    "index_mapping = {\n",
    "        'NMF_0': 'NMF0_Cytotoxic',\n",
    "        'NMF_1': 'NMF1_Treg',\n",
    "        'NMF_2': 'NMF2_Th17',\n",
    "        'NMF_3': 'NMF3_Naive',\n",
    "        'NMF_4': 'NMF4_Act',\n",
    "        'NMF_5': 'NMF5_Th2',\n",
    "        'NMF_6': 'NMF6_Tfh',\n",
    "        'NMF_7': 'NMF7_IFN',\n",
    "        'NMF_8': 'NMF8_Cent_Mem',\n",
    "        'NMF_9': 'NMF9_Thymic_Emi',\n",
    "        'NMF_10': 'NMF10_Tissue',\n",
    "        'NMF_11': 'NMF11_Th1'\n",
    "    }\n",
    "    \n",
    "fixed_W.columns = fixed_W.columns.map(index_mapping)"
   ]
  },
  {
   "cell_type": "code",
   "execution_count": 7,
   "id": "b7b67340-a81b-48ec-99f5-47116a240149",
   "metadata": {},
   "outputs": [],
   "source": [
    "n = 20\n",
    "\n",
    "top_genes_dict = {}\n",
    "\n",
    "for group_col in fixed_W.columns:\n",
    "    sorted_df = fixed_W[[group_col]].dropna().sort_values(by=group_col, ascending=False)\n",
    "    \n",
    "    top_n_indices = sorted_df.head(n).index.tolist()\n",
    "    \n",
    "    top_genes_dict[group_col] = top_n_indices"
   ]
  },
  {
   "cell_type": "code",
   "execution_count": 8,
   "id": "ecb3b25a-bc4d-4141-ad98-404eea431c98",
   "metadata": {},
   "outputs": [],
   "source": [
    "import json\n",
    "\n",
    "with open('NMF_dict_Top20.json', 'w') as jsonfile:\n",
    "    json.dump(top_genes_dict, jsonfile)"
   ]
  },
  {
   "cell_type": "code",
   "execution_count": 4,
   "id": "13f8123d-fbb9-43ad-8f48-cac4aaf57e1a",
   "metadata": {},
   "outputs": [
    {
     "data": {
      "text/html": [
       "<details>\n",
       "<summary>Click to view session information</summary>\n",
       "<pre>\n",
       "-----\n",
       "session_info        1.0.0\n",
       "-----\n",
       "</pre>\n",
       "<details>\n",
       "<summary>Click to view modules imported as dependencies</summary>\n",
       "<pre>\n",
       "PIL                         10.0.1\n",
       "anyio                       NA\n",
       "arrow                       1.3.0\n",
       "asttokens                   NA\n",
       "attr                        23.2.0\n",
       "attrs                       23.2.0\n",
       "babel                       2.14.0\n",
       "beatrix_jupyterlab          NA\n",
       "brotli                      NA\n",
       "cachetools                  5.3.1\n",
       "certifi                     2024.02.02\n",
       "cffi                        1.16.0\n",
       "charset_normalizer          3.3.2\n",
       "cloudpickle                 2.2.1\n",
       "colorama                    0.4.6\n",
       "comm                        0.1.4\n",
       "cryptography                41.0.7\n",
       "cycler                      0.10.0\n",
       "cython_runtime              NA\n",
       "dateutil                    2.8.2\n",
       "db_dtypes                   1.1.1\n",
       "debugpy                     1.8.0\n",
       "decorator                   5.1.1\n",
       "defusedxml                  0.7.1\n",
       "deprecated                  1.2.14\n",
       "exceptiongroup              1.2.0\n",
       "executing                   2.0.1\n",
       "fastjsonschema              NA\n",
       "fqdn                        NA\n",
       "google                      NA\n",
       "greenlet                    2.0.2\n",
       "grpc                        1.58.0\n",
       "grpc_status                 NA\n",
       "idna                        3.6\n",
       "importlib_metadata          NA\n",
       "ipykernel                   6.28.0\n",
       "ipython_genutils            0.2.0\n",
       "ipywidgets                  8.1.1\n",
       "isoduration                 NA\n",
       "jedi                        0.19.1\n",
       "jinja2                      3.1.2\n",
       "json5                       NA\n",
       "jsonpointer                 2.4\n",
       "jsonschema                  4.20.0\n",
       "jsonschema_specifications   NA\n",
       "jupyter_events              0.9.0\n",
       "jupyter_server              2.12.1\n",
       "jupyterlab_server           2.25.2\n",
       "jwt                         2.8.0\n",
       "kiwisolver                  1.4.5\n",
       "markupsafe                  2.1.3\n",
       "matplotlib                  3.8.0\n",
       "matplotlib_inline           0.1.6\n",
       "mpl_toolkits                NA\n",
       "nbformat                    5.9.2\n",
       "numpy                       1.26.4\n",
       "opentelemetry               NA\n",
       "overrides                   NA\n",
       "packaging                   23.2\n",
       "pandas                      2.2.2\n",
       "parso                       0.8.3\n",
       "pexpect                     4.8.0\n",
       "pickleshare                 0.7.5\n",
       "pkg_resources               NA\n",
       "platformdirs                4.1.0\n",
       "prettytable                 3.9.0\n",
       "prometheus_client           NA\n",
       "prompt_toolkit              3.0.42\n",
       "proto                       NA\n",
       "psutil                      NA\n",
       "ptyprocess                  0.7.0\n",
       "pure_eval                   0.2.2\n",
       "pyarrow                     13.0.0\n",
       "pydev_ipython               NA\n",
       "pydevconsole                NA\n",
       "pydevd                      2.9.5\n",
       "pydevd_file_utils           NA\n",
       "pydevd_plugins              NA\n",
       "pydevd_tracing              NA\n",
       "pygments                    2.17.2\n",
       "pyparsing                   3.1.1\n",
       "pythonjsonlogger            NA\n",
       "pytz                        2023.3.post1\n",
       "referencing                 NA\n",
       "requests                    2.31.0\n",
       "rfc3339_validator           0.1.4\n",
       "rfc3986_validator           0.1.1\n",
       "rpds                        NA\n",
       "send2trash                  NA\n",
       "shapely                     1.8.5.post1\n",
       "six                         1.16.0\n",
       "sniffio                     1.3.0\n",
       "socks                       1.7.1\n",
       "sql                         NA\n",
       "sqlalchemy                  2.0.21\n",
       "sqlparse                    0.4.4\n",
       "stack_data                  0.6.2\n",
       "tornado                     6.3.3\n",
       "tqdm                        4.66.4\n",
       "traitlets                   5.9.0\n",
       "typing_extensions           NA\n",
       "uri_template                NA\n",
       "urllib3                     1.26.18\n",
       "wcwidth                     0.2.12\n",
       "webcolors                   1.13\n",
       "websocket                   1.7.0\n",
       "wrapt                       1.15.0\n",
       "yaml                        6.0.1\n",
       "zipp                        NA\n",
       "zmq                         25.1.2\n",
       "zoneinfo                    NA\n",
       "</pre>\n",
       "</details> <!-- seems like this ends pre, so might as well be explicit -->\n",
       "<pre>\n",
       "-----\n",
       "IPython             8.19.0\n",
       "jupyter_client      8.6.0\n",
       "jupyter_core        5.6.1\n",
       "jupyterlab          4.1.5\n",
       "notebook            6.5.4\n",
       "-----\n",
       "Python 3.10.13 | packaged by conda-forge | (main, Dec 23 2023, 15:36:39) [GCC 12.3.0]\n",
       "Linux-5.15.0-1062-gcp-x86_64-with-glibc2.31\n",
       "-----\n",
       "Session information updated at 2024-07-09 16:04\n",
       "</pre>\n",
       "</details>"
      ],
      "text/plain": [
       "<IPython.core.display.HTML object>"
      ]
     },
     "execution_count": 4,
     "metadata": {},
     "output_type": "execute_result"
    }
   ],
   "source": [
    "import session_info\n",
    "\n",
    "\n",
    "session_info.show()"
   ]
  },
  {
   "cell_type": "code",
   "execution_count": null,
   "id": "65110c30-a9c8-469c-aee7-95c9bf72a887",
   "metadata": {},
   "outputs": [],
   "source": []
  }
 ],
 "metadata": {
  "kernelspec": {
   "display_name": "Python [conda env:root] *",
   "language": "python",
   "name": "conda-root-py"
  },
  "language_info": {
   "codemirror_mode": {
    "name": "ipython",
    "version": 3
   },
   "file_extension": ".py",
   "mimetype": "text/x-python",
   "name": "python",
   "nbconvert_exporter": "python",
   "pygments_lexer": "ipython3",
   "version": "3.10.13"
  }
 },
 "nbformat": 4,
 "nbformat_minor": 5
}
