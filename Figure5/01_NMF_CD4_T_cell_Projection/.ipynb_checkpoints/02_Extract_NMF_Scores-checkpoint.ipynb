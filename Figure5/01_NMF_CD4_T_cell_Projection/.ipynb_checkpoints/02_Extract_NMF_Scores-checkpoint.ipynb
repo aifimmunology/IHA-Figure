{
 "cells": [
  {
   "cell_type": "code",
   "execution_count": 5,
   "id": "a8afee0a-aa5b-4d14-96cb-7648b351cc38",
   "metadata": {},
   "outputs": [],
   "source": [
    "suppressPackageStartupMessages(library(plyr))\n",
    "suppressPackageStartupMessages(library(dplyr))\n",
    "suppressPackageStartupMessages(library(tidyr))\n",
    "suppressPackageStartupMessages(library(tibble))\n",
    "library(parallel)"
   ]
  },
  {
   "cell_type": "markdown",
   "id": "0f778e4c-fd62-44e5-9980-6523d65ab50c",
   "metadata": {},
   "source": [
    "# BR1"
   ]
  },
  {
   "cell_type": "code",
   "execution_count": 13,
   "id": "4962f177-644b-46f3-8173-94825efaef90",
   "metadata": {},
   "outputs": [],
   "source": [
    "meta_data=read.csv(\"/home/jupyter/BRI_Figures_Final_V2/Dataset/scRNA_meta_data-2024-05-09.csv\")\n",
    "meta_data_subset<-meta_data %>% filter(Covid_exclusion=='no',\n",
    "                                       sample.visitName%in% c('Flu Year 1 Day 0'))"
   ]
  },
  {
   "cell_type": "code",
   "execution_count": 14,
   "id": "e55d8685-efab-4694-a8ba-750ed3bebf05",
   "metadata": {},
   "outputs": [],
   "source": [
    "df_list<-mclapply(meta_data_subset$pbmc_sample_id,function(x){\n",
    "df<-read.csv(paste0(\"NMF_Score_BRI/\",x,\".csv\"))\n",
    "df$pbmc_sample_id=x\n",
    "return(df)\n",
    "},mc.cores=60)"
   ]
  },
  {
   "cell_type": "code",
   "execution_count": 15,
   "id": "a16dd325-6d57-41b3-8dde-1b33f5476e1e",
   "metadata": {},
   "outputs": [],
   "source": [
    "df_combined<-do.call(rbind,df_list)\n",
    "df_combined_longformat<- pivot_longer(df_combined, cols = starts_with(\"NMF\"), names_to = \"NMF_Scores\", values_to = \"value\")"
   ]
  },
  {
   "cell_type": "markdown",
   "id": "f0a9eda4-0d30-4e9c-bc79-ca3c01de9c44",
   "metadata": {},
   "source": [
    "### Get Mean NMF scores"
   ]
  },
  {
   "cell_type": "code",
   "execution_count": 16,
   "id": "af16a16e-b058-4761-a724-d33e95d8c910",
   "metadata": {},
   "outputs": [
    {
     "name": "stderr",
     "output_type": "stream",
     "text": [
      "\u001b[1m\u001b[22m`summarise()` has grouped output by 'pbmc_sample_id', 'NMF_Scores'. You can\n",
      "override using the `.groups` argument.\n"
     ]
    }
   ],
   "source": [
    "df_combined_longformat<-df_combined_longformat %>% group_by(pbmc_sample_id,NMF_Scores,AIFI_L3) %>% summarise(AverageScore=mean(value))"
   ]
  },
  {
   "cell_type": "code",
   "execution_count": 18,
   "id": "6bc5ec3d-b796-49ac-8560-d79f05a82721",
   "metadata": {},
   "outputs": [],
   "source": [
    "write.csv(df_combined_longformat,'NMF_Scores_Y1D0_BRI.csv')"
   ]
  },
  {
   "cell_type": "markdown",
   "id": "367b187b-f698-409c-a718-cb9631c958e0",
   "metadata": {},
   "source": [
    "# SF4"
   ]
  },
  {
   "cell_type": "code",
   "execution_count": 7,
   "id": "3ed37aca-bc55-4f81-b64d-862de50a1ca6",
   "metadata": {},
   "outputs": [],
   "source": [
    "meta_data=read.csv(\"/home/jupyter/BRI_Figures_Final_V2/Dataset/SF4_meta_data-2024-05-05.csv\")\n",
    "meta_data$ageAtEnrollment[meta_data$ageAtEnrollment == '89+'] <- '90'\n",
    "meta_data$ageAtEnrollment<-as.numeric(meta_data$ageAtEnrollment)\n",
    "meta_data<-meta_data[!is.na(meta_data$ageAtEnrollment),]\n",
    "meta_data$Ages<-meta_data$ageAtEnrollment"
   ]
  },
  {
   "cell_type": "code",
   "execution_count": 8,
   "id": "6854318c-5a79-4541-8185-a17178325a8c",
   "metadata": {},
   "outputs": [],
   "source": [
    "df_list<-mclapply(meta_data$pbmc_sample_id,function(x){\n",
    "df<-read.csv(paste0(\"NMF_Score_SF4/\",x,\".csv\"))\n",
    "df$pbmc_sample_id=x\n",
    "return(df)\n",
    "},mc.cores=60)"
   ]
  },
  {
   "cell_type": "code",
   "execution_count": 9,
   "id": "4895b5a7-4a6d-4a15-9b0e-0737bffffea1",
   "metadata": {},
   "outputs": [],
   "source": [
    "df_combined<-do.call(rbind,df_list)\n",
    "df_combined_longformat<- pivot_longer(df_combined, cols = starts_with(\"NMF\"), names_to = \"NMF_Scores\", values_to = \"value\")"
   ]
  },
  {
   "cell_type": "markdown",
   "id": "4adcf457-380c-472f-921a-3b7bfb92051e",
   "metadata": {},
   "source": [
    "### Get Mean NMF scores"
   ]
  },
  {
   "cell_type": "code",
   "execution_count": 10,
   "id": "da52959c-e0db-4415-890c-d80134a2128e",
   "metadata": {},
   "outputs": [
    {
     "name": "stderr",
     "output_type": "stream",
     "text": [
      "\u001b[1m\u001b[22m`summarise()` has grouped output by 'pbmc_sample_id', 'NMF_Scores'. You can\n",
      "override using the `.groups` argument.\n"
     ]
    }
   ],
   "source": [
    "df_combined_longformat<-df_combined_longformat %>% group_by(pbmc_sample_id,NMF_Scores,AIFI_L3) %>% summarise(AverageScore=mean(value))"
   ]
  },
  {
   "cell_type": "code",
   "execution_count": 12,
   "id": "9dac3dde-4c44-4e62-bca8-a39fdac46472",
   "metadata": {},
   "outputs": [],
   "source": [
    "write.csv(df_combined_longformat,'NMF_Scores_SF4.csv')"
   ]
  },
  {
   "cell_type": "code",
   "execution_count": null,
   "id": "a7e059aa-785c-4a84-93c1-088cb4cce7b6",
   "metadata": {},
   "outputs": [],
   "source": []
  }
 ],
 "metadata": {
  "kernelspec": {
   "display_name": "R 4",
   "language": "R",
   "name": "ir4"
  },
  "language_info": {
   "codemirror_mode": "r",
   "file_extension": ".r",
   "mimetype": "text/x-r-source",
   "name": "R",
   "pygments_lexer": "r",
   "version": "4.3.2"
  }
 },
 "nbformat": 4,
 "nbformat_minor": 5
}
