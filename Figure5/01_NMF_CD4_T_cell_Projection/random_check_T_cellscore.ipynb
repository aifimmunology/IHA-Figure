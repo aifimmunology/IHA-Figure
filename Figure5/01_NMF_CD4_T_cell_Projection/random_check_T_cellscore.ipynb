{
 "cells": [
  {
   "cell_type": "code",
   "execution_count": 1,
   "id": "56f92b07-f265-46e4-aa79-8e6495c309f3",
   "metadata": {},
   "outputs": [
    {
     "name": "stderr",
     "output_type": "stream",
     "text": [
      "Warning message:\n",
      "“package ‘plyr’ was built under R version 4.3.3”\n",
      "Warning message:\n",
      "“package ‘dplyr’ was built under R version 4.3.3”\n",
      "Warning message:\n",
      "“package ‘tidyr’ was built under R version 4.3.3”\n",
      "Warning message:\n",
      "“package ‘tibble’ was built under R version 4.3.3”\n"
     ]
    }
   ],
   "source": [
    "suppressPackageStartupMessages(library(plyr))\n",
    "suppressPackageStartupMessages(library(dplyr))\n",
    "suppressPackageStartupMessages(library(tidyr))\n",
    "suppressPackageStartupMessages(library(tibble))\n",
    "library(parallel)"
   ]
  },
  {
   "cell_type": "code",
   "execution_count": 2,
   "id": "2a66f26c-f041-48d8-bd33-53d9616ce831",
   "metadata": {},
   "outputs": [],
   "source": [
    "meta_data=read.csv(\"/home/workspace/IHA_Figure_Revision/Dataset/scRNA_meta_data-2024-05-09.csv\")\n",
    "meta_data_subset<-meta_data %>% \n",
    "filter(Covid_exclusion=='no',sample.daysSinceFirstVisit<600) %>%\n",
    "filter(!sample.visitName%in% c('Flu Year 1 Day 7',\n",
    "                              'Flu Year 2 Day 7'))"
   ]
  },
  {
   "cell_type": "code",
   "execution_count": 3,
   "id": "086e151d-7c84-404d-9529-ff1b25a5f729",
   "metadata": {},
   "outputs": [],
   "source": [
    "df_list<-mclapply(meta_data_subset$pbmc_sample_id,function(x){\n",
    "df<-read.csv(paste0(\"/home/workspace/IHA_Figure_Revision/Figure5/01_NMF_CD4_T_cell_Projection/NMF_Score_BRI/\",x,\".csv\"))\n",
    "df$pbmc_sample_id=x\n",
    "return(df)\n",
    "},mc.cores=60)"
   ]
  },
  {
   "cell_type": "code",
   "execution_count": 4,
   "id": "696ec9d2-838d-4313-8e43-6db57dbf8eb3",
   "metadata": {},
   "outputs": [],
   "source": [
    "df_combined<-do.call(rbind,df_list)\n",
    "df_combined_longformat<- pivot_longer(df_combined, cols = starts_with(\"NMF\"), names_to = \"NMF_Scores\", values_to = \"value\")"
   ]
  },
  {
   "cell_type": "code",
   "execution_count": 5,
   "id": "a79da11a-8dab-45e0-9dde-82905e87a8cc",
   "metadata": {},
   "outputs": [
    {
     "name": "stderr",
     "output_type": "stream",
     "text": [
      "\u001b[1m\u001b[22m`summarise()` has grouped output by 'pbmc_sample_id', 'NMF_Scores'. You can\n",
      "override using the `.groups` argument.\n"
     ]
    }
   ],
   "source": [
    "df_combined_longformat<-df_combined_longformat %>% group_by(pbmc_sample_id,NMF_Scores,AIFI_L3) %>% summarise(AverageScore=mean(value))"
   ]
  },
  {
   "cell_type": "code",
   "execution_count": 6,
   "id": "3bcb6e46-e0cc-479b-95a4-a8f840e4d2b4",
   "metadata": {},
   "outputs": [
    {
     "data": {
      "text/html": [
       "<style>\n",
       ".list-inline {list-style: none; margin:0; padding: 0}\n",
       ".list-inline>li {display: inline-block}\n",
       ".list-inline>li:not(:last-child)::after {content: \"\\00b7\"; padding: 0 .5ex}\n",
       "</style>\n",
       "<ol class=list-inline><li>'NMF0_Cytotoxic'</li><li>'NMF10_Tissue'</li><li>'NMF11_Th1'</li><li>'NMF1_Treg'</li><li>'NMF2_Th17'</li><li>'NMF3_Naive'</li><li>'NMF4_Act'</li><li>'NMF5_Th2'</li><li>'NMF6_Tfh'</li><li>'NMF7_IFN'</li><li>'NMF8_Cent_Mem'</li><li>'NMF9_Thymic_Emi'</li></ol>\n"
      ],
      "text/latex": [
       "\\begin{enumerate*}\n",
       "\\item 'NMF0\\_Cytotoxic'\n",
       "\\item 'NMF10\\_Tissue'\n",
       "\\item 'NMF11\\_Th1'\n",
       "\\item 'NMF1\\_Treg'\n",
       "\\item 'NMF2\\_Th17'\n",
       "\\item 'NMF3\\_Naive'\n",
       "\\item 'NMF4\\_Act'\n",
       "\\item 'NMF5\\_Th2'\n",
       "\\item 'NMF6\\_Tfh'\n",
       "\\item 'NMF7\\_IFN'\n",
       "\\item 'NMF8\\_Cent\\_Mem'\n",
       "\\item 'NMF9\\_Thymic\\_Emi'\n",
       "\\end{enumerate*}\n"
      ],
      "text/markdown": [
       "1. 'NMF0_Cytotoxic'\n",
       "2. 'NMF10_Tissue'\n",
       "3. 'NMF11_Th1'\n",
       "4. 'NMF1_Treg'\n",
       "5. 'NMF2_Th17'\n",
       "6. 'NMF3_Naive'\n",
       "7. 'NMF4_Act'\n",
       "8. 'NMF5_Th2'\n",
       "9. 'NMF6_Tfh'\n",
       "10. 'NMF7_IFN'\n",
       "11. 'NMF8_Cent_Mem'\n",
       "12. 'NMF9_Thymic_Emi'\n",
       "\n",
       "\n"
      ],
      "text/plain": [
       " [1] \"NMF0_Cytotoxic\"  \"NMF10_Tissue\"    \"NMF11_Th1\"       \"NMF1_Treg\"      \n",
       " [5] \"NMF2_Th17\"       \"NMF3_Naive\"      \"NMF4_Act\"        \"NMF5_Th2\"       \n",
       " [9] \"NMF6_Tfh\"        \"NMF7_IFN\"        \"NMF8_Cent_Mem\"   \"NMF9_Thymic_Emi\""
      ]
     },
     "metadata": {},
     "output_type": "display_data"
    }
   ],
   "source": [
    "unique(df_combined_longformat$NMF_Scores)"
   ]
  },
  {
   "cell_type": "code",
   "execution_count": 7,
   "id": "3f2ba3ae-74d5-4ec5-a1a7-baa48e6a79d3",
   "metadata": {},
   "outputs": [],
   "source": [
    "df_combined_longformat_filtered<-df_combined_longformat %>% filter(NMF_Scores %in% c('NMF5_Th2',\"NMF11_Th1\",'NMF6_Tfh')) %>% \n",
    "filter(AIFI_L3 %in% c('GZMB- CD27+ EM CD4 T cell'))"
   ]
  },
  {
   "cell_type": "code",
   "execution_count": 8,
   "id": "af9487b1-4f54-4921-81ae-6323992c0b85",
   "metadata": {},
   "outputs": [
    {
     "name": "stderr",
     "output_type": "stream",
     "text": [
      "\u001b[1m\u001b[22mJoining with `by = join_by(pbmc_sample_id)`\n"
     ]
    }
   ],
   "source": [
    "df<-left_join(df_combined_longformat_filtered,meta_data_subset)"
   ]
  },
  {
   "cell_type": "code",
   "execution_count": 9,
   "id": "f9bd36b5-eaf4-40a8-b83b-2b80c9dce73a",
   "metadata": {},
   "outputs": [],
   "source": [
    "write.csv(df,'Th2_Th1_Tfh_Baseline_Samples_BRI_GZMB-CD27+EMCD4Tcell.csv')"
   ]
  },
  {
   "cell_type": "code",
   "execution_count": null,
   "id": "6f27e907-2410-4503-906d-83b0ffaf407e",
   "metadata": {},
   "outputs": [],
   "source": []
  }
 ],
 "metadata": {
  "kernelspec": {
   "display_name": "R_BRI_Figures",
   "language": "R",
   "name": "r_bri_figures"
  },
  "language_info": {
   "codemirror_mode": "r",
   "file_extension": ".r",
   "mimetype": "text/x-r-source",
   "name": "R",
   "pygments_lexer": "r",
   "version": "4.3.2"
  }
 },
 "nbformat": 4,
 "nbformat_minor": 5
}
