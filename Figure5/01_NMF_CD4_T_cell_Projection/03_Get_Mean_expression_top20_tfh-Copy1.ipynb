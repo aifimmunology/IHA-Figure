{
 "cells": [
  {
   "cell_type": "code",
   "execution_count": 3,
   "id": "17367ad9-5c7b-4fec-b8fb-ce4c2fc02acc",
   "metadata": {},
   "outputs": [],
   "source": [
    "suppressPackageStartupMessages(library(dplyr))\n",
    "suppressPackageStartupMessages(library(tidyr))\n",
    "suppressPackageStartupMessages(library(tibble))\n",
    "suppressPackageStartupMessages(library(stringr))\n",
    "library(parallel)\n",
    "library(jsonlite)\n",
    "\n"
   ]
  },
  {
   "cell_type": "code",
   "execution_count": 4,
   "id": "ee79ef99-6d84-4f55-b4d9-dbbdbc02cf7d",
   "metadata": {},
   "outputs": [],
   "source": [
    "meta_data=read.csv(\"/home/jupyter/BRI_Figures_Final_V1/Dataset/scRNA_meta_data-2024-05-09.csv\")\n",
    "meta_data_subset<-meta_data %>% filter(Covid_exclusion=='no',\n",
    "                                       sample.visitName%in% c('Flu Year 1 Day 0'))"
   ]
  },
  {
   "cell_type": "code",
   "execution_count": 5,
   "id": "56757709-6d5c-4582-b6c2-709d51a10ecd",
   "metadata": {},
   "outputs": [],
   "source": [
    "aggregated_count_file_list<-paste0(\"/home/jupyter/BRI_Figures_Final_V1/Dataset/scRNA/BRI/Average_LogNormalized_Expression/Average_LogNormalized_Expression_of_Celltypes_by_Sample_AIFI_L3/\",meta_data_subset$pbmc_sample_id,\".csv\")\n",
    "df_list<-mclapply(aggregated_count_file_list,function(x){\n",
    "df<-read.csv(x,check.names = FALSE, row.names = 1)\n",
    "colnames(df)<-paste0(gsub(\"^.*/(.*)\\\\.csv$\", \"\\\\1\", x),\":\",colnames(df))\n",
    "return (df)\n",
    "},mc.cores=60)"
   ]
  },
  {
   "cell_type": "markdown",
   "id": "53701ce7-38ba-4a33-9f21-7bd1c7a5975e",
   "metadata": {},
   "source": [
    "# Read Top Genes in NMF"
   ]
  },
  {
   "cell_type": "code",
   "execution_count": 6,
   "id": "384dc5d5-4b68-463f-aff6-393e693648db",
   "metadata": {},
   "outputs": [],
   "source": [
    "NMF_dict <- fromJSON('NMF_dict_Top20.json')"
   ]
  },
  {
   "cell_type": "code",
   "execution_count": 7,
   "id": "bae92a59-9501-4d0e-9e8c-4f2016f2cece",
   "metadata": {},
   "outputs": [],
   "source": [
    "celltype_list <- lapply(df_list, function(df) { df <- df[NMF_dict[['NMF6_Tfh']][1:20], grep(\"CM CD4 T cell\", names(df), fixed = TRUE),drop=FALSE] })\n",
    "exp_matrix<-do.call(cbind,celltype_list)"
   ]
  },
  {
   "cell_type": "code",
   "execution_count": 8,
   "id": "36a9d51a-390e-433a-9802-eff93bfd0d34",
   "metadata": {},
   "outputs": [],
   "source": [
    "colnames(exp_matrix)<-sub(\":.*\", \"\", colnames(exp_matrix))\n",
    "rownames(meta_data_subset)<-meta_data_subset$pbmc_sample_id\n",
    "write.csv(exp_matrix,'Top20_Gex_Tfh_NMF.csv')"
   ]
  },
  {
   "cell_type": "code",
   "execution_count": null,
   "id": "9db57053-1e8a-48c4-a639-4d70f85dee6c",
   "metadata": {},
   "outputs": [],
   "source": []
  }
 ],
 "metadata": {
  "kernelspec": {
   "display_name": "R 4",
   "language": "R",
   "name": "ir4"
  },
  "language_info": {
   "codemirror_mode": "r",
   "file_extension": ".r",
   "mimetype": "text/x-r-source",
   "name": "R",
   "pygments_lexer": "r",
   "version": "4.3.2"
  }
 },
 "nbformat": 4,
 "nbformat_minor": 5
}
