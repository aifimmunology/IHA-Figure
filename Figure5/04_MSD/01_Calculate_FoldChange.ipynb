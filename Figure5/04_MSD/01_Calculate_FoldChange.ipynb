{
 "cells": [
  {
   "cell_type": "code",
   "execution_count": 1,
   "id": "699e2f94-a1ac-4af6-b9b3-837db3fede09",
   "metadata": {},
   "outputs": [
    {
     "name": "stderr",
     "output_type": "stream",
     "text": [
      "\n",
      "Attaching package: ‘dplyr’\n",
      "\n",
      "\n",
      "The following objects are masked from ‘package:stats’:\n",
      "\n",
      "    filter, lag\n",
      "\n",
      "\n",
      "The following objects are masked from ‘package:base’:\n",
      "\n",
      "    intersect, setdiff, setequal, union\n",
      "\n",
      "\n",
      "── \u001b[1mAttaching core tidyverse packages\u001b[22m ──────────────────────── tidyverse 2.0.0 ──\n",
      "\u001b[32m✔\u001b[39m \u001b[34mforcats  \u001b[39m 1.0.0     \u001b[32m✔\u001b[39m \u001b[34mstringr  \u001b[39m 1.5.1\n",
      "\u001b[32m✔\u001b[39m \u001b[34mlubridate\u001b[39m 1.9.3     \u001b[32m✔\u001b[39m \u001b[34mtibble   \u001b[39m 3.2.1\n",
      "\u001b[32m✔\u001b[39m \u001b[34mpurrr    \u001b[39m 1.0.2     \u001b[32m✔\u001b[39m \u001b[34mtidyr    \u001b[39m 1.3.1\n",
      "\u001b[32m✔\u001b[39m \u001b[34mreadr    \u001b[39m 2.1.4     \n",
      "── \u001b[1mConflicts\u001b[22m ────────────────────────────────────────── tidyverse_conflicts() ──\n",
      "\u001b[31m✖\u001b[39m \u001b[34mdplyr\u001b[39m::\u001b[32mfilter()\u001b[39m masks \u001b[34mstats\u001b[39m::filter()\n",
      "\u001b[31m✖\u001b[39m \u001b[34mdplyr\u001b[39m::\u001b[32mlag()\u001b[39m    masks \u001b[34mstats\u001b[39m::lag()\n",
      "\u001b[36mℹ\u001b[39m Use the conflicted package (\u001b[3m\u001b[34m<http://conflicted.r-lib.org/>\u001b[39m\u001b[23m) to force all conflicts to become errors\n"
     ]
    }
   ],
   "source": [
    "library(hise)\n",
    "library(dplyr)\n",
    "library(ggplot2)\n",
    "library(stats)\n",
    "library(tidyverse)"
   ]
  },
  {
   "cell_type": "code",
   "execution_count": 2,
   "id": "6b48215f-39c2-4b38-b353-3ed75e34284b",
   "metadata": {},
   "outputs": [],
   "source": [
    "df<-read.csv(\"/home//jupyter/BRI_Figures_Final_V2/Dataset/MSD/MSD Recent_20231026_092142.csv\")"
   ]
  },
  {
   "cell_type": "code",
   "execution_count": 3,
   "id": "f1e2c684-fdcb-4bc9-aaf6-3f0ac352281e",
   "metadata": {},
   "outputs": [],
   "source": [
    "#subset on BR1 and BR2 cohort, drop NAs and make everythign else into numerics\n",
    "BR1_BR2_subset <- subset(df, df$Cohort %in% c(\"BR1\", \"BR2\"))\n",
    "BR1_BR2_subset<-BR1_BR2_subset[!is.na(BR1_BR2_subset$Calc..Conc..Mean),]\n",
    "BR1_BR2_subset$Calc..Conc..Mean <- gsub(\",\", \"\", BR1_BR2_subset$Calc..Conc..Mean)\n",
    "BR1_BR2_subset$Calc..Conc..Mean <- as.numeric(BR1_BR2_subset$Calc..Conc..Mean)"
   ]
  },
  {
   "cell_type": "code",
   "execution_count": 4,
   "id": "0244e474-486b-45a8-8588-29e39769cb1e",
   "metadata": {},
   "outputs": [],
   "source": [
    "#Load meta data (flu antigen specific meta data)\n",
    "metadata <- read.csv(\"/home//jupyter/BRI_Figures_Final_V2/Figure5/01_Frequency_Comparison/selected_samples_with_acutal_flu_year.csv\")\n"
   ]
  },
  {
   "cell_type": "code",
   "execution_count": 5,
   "id": "a239a1a4-f89d-4a9d-8215-bc685f815aaf",
   "metadata": {},
   "outputs": [],
   "source": [
    "BR1_BR2_subset <- BR1_BR2_subset %>%\n",
    "  semi_join(metadata, by = c(\"Subject\" = \"subject.subjectGuid\"))"
   ]
  },
  {
   "cell_type": "code",
   "execution_count": 6,
   "id": "a3e1d01e-3bcc-4f1f-93da-c2d6615ef231",
   "metadata": {},
   "outputs": [],
   "source": [
    "#create subsets for year-flu specific serology\n",
    "one_yearflu_only <- c(\"Flu Year 1 Day 0\", \"Flu Year 1 Day 7\")\n",
    "BR1_BR2_subset <- BR1_BR2_subset[BR1_BR2_subset$Visit %in% one_yearflu_only, ]\n",
    "\n",
    "# specific to flu year, kept hongkong out because HAI only has washington and Phuket\n",
    "flu_year_specific <- c(\"Flu B/Phuket HA\")\n",
    "BR1_BR2_subset_flu_specific <- BR1_BR2_subset[BR1_BR2_subset$Assay %in% flu_year_specific, ]\n"
   ]
  },
  {
   "cell_type": "code",
   "execution_count": 7,
   "id": "6dad5b51-fd28-4321-8f9f-58eb057cc0b1",
   "metadata": {},
   "outputs": [],
   "source": [
    "#get rid of the duplicate rows (because we are only looking at the mean, not replicates)\n",
    "BR1_BR2_subset_flu_specific <- BR1_BR2_subset_flu_specific %>%\n",
    "  distinct(Subject, Visit, Assay, Cohort, .keep_all = TRUE)\n",
    "#split based on different assays, so that we can normalize to each assay later\n",
    "BR1_BR2_subset_flu_specific_split <- split(BR1_BR2_subset_flu_specific, \n",
    "                                           f = BR1_BR2_subset_flu_specific$Assay)"
   ]
  },
  {
   "cell_type": "code",
   "execution_count": 8,
   "id": "83df2be6-bc39-4f34-bd5a-1d5cb828499a",
   "metadata": {},
   "outputs": [],
   "source": [
    "# normalize to each assay\n",
    "normalized_BR1_BR2_subset_flu_specific_split <- list()\n",
    "for (i in 1:length(BR1_BR2_subset_flu_specific_split)) {\n",
    "  df <- as.data.frame(BR1_BR2_subset_flu_specific_split[[i]])\n",
    "   df<- left_join(df,metadata,by=c(\"Sample.Kit.Barcode\"=\"sample.sampleKitGuid\"))\n",
    "    normalized_df <- df %>%\n",
    "      group_by(Subject) %>% arrange(Visit) %>%\n",
    "      mutate(Normalized_Concentration = Calc..Conc..Mean / first(Calc..Conc..Mean[Flu_Year == \"2020-2021\"])) %>%\n",
    "      ungroup()\n",
    "    \n",
    "  normalized_BR1_BR2_subset_flu_specific_split[[i]] <- normalized_df\n",
    "}"
   ]
  },
  {
   "cell_type": "code",
   "execution_count": 9,
   "id": "a77092f1-9561-4148-9923-4f51847a6140",
   "metadata": {},
   "outputs": [],
   "source": [
    "df_normalized<-normalized_BR1_BR2_subset_flu_specific_split[[1]]"
   ]
  },
  {
   "cell_type": "code",
   "execution_count": 10,
   "id": "90cdd0da-e2ff-4eb6-ba9a-029377480258",
   "metadata": {},
   "outputs": [],
   "source": [
    "df_normalized<-df_normalized[!is.na(df_normalized$Normalized_Concentration),]"
   ]
  },
  {
   "cell_type": "code",
   "execution_count": 11,
   "id": "1ef897d0-9277-474b-a4ef-3e7df9c49b28",
   "metadata": {},
   "outputs": [],
   "source": [
    "write.csv(df_normalized,\"MSD_Normalized_Y2020-2021_Phuket.csv\")"
   ]
  },
  {
   "cell_type": "code",
   "execution_count": null,
   "id": "f0d1eaf2-c21a-4398-9160-f347adfd7708",
   "metadata": {},
   "outputs": [],
   "source": []
  }
 ],
 "metadata": {
  "kernelspec": {
   "display_name": "R 4",
   "language": "R",
   "name": "ir4"
  },
  "language_info": {
   "codemirror_mode": "r",
   "file_extension": ".r",
   "mimetype": "text/x-r-source",
   "name": "R",
   "pygments_lexer": "r",
   "version": "4.3.2"
  }
 },
 "nbformat": 4,
 "nbformat_minor": 5
}
