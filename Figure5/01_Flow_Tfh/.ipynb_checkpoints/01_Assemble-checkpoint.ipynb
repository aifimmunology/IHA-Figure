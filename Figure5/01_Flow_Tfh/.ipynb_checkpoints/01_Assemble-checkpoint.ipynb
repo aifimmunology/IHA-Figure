{
 "cells": [
  {
   "cell_type": "code",
   "execution_count": 14,
   "id": "be2f718d-03a2-4577-9bde-d784481f2deb",
   "metadata": {
    "tags": []
   },
   "outputs": [],
   "source": [
    "import pandas as pd\n",
    "import numpy as np\n",
    "import re\n",
    "import scanpy as sc\n",
    "import anndata\n",
    "from concurrent.futures import ThreadPoolExecutor, as_completed\n",
    "from tqdm import tqdm\n",
    "import scanpy.external as sce\n",
    "import scyan\n",
    "from concurrent.futures import ProcessPoolExecutor\n",
    "import copy\n",
    "import os\n",
    "import gc\n",
    "sc.settings.n_jobs = 60"
   ]
  },
  {
   "cell_type": "code",
   "execution_count": 2,
   "id": "d4d37686-98a4-4708-8ec2-97c20e4798d8",
   "metadata": {
    "tags": []
   },
   "outputs": [],
   "source": [
    "def leiden_new(\n",
    "    adata,\n",
    "    resolution: float = 1,\n",
    "    key_added: str = \"leiden\",\n",
    "    n_neighbors: int = 15,\n",
    ") -> None:\n",
    "    \"\"\"Leiden clustering\n",
    "\n",
    "    Args:\n",
    "        adata: AnnData object.\n",
    "        resolution: Resolution of the clustering.\n",
    "        key_added: Name of the key of adata.obs where clusters will be saved.\n",
    "        n_neighbors: Number of neighbors.\n",
    "    \"\"\"\n",
    "    try:\n",
    "        import leidenalg\n",
    "    except:\n",
    "        raise ImportError(\n",
    "            \"\"\"To run leiden, you need to have 'leidenalg' installed. You can install the population discovery extra with \"pip install 'scyan[discovery]'\", or directly install leidenalg with \"conda install -c conda-forge leidenalg\".\"\"\"\n",
    "        )\n",
    "\n",
    "    import igraph as ig\n",
    "    from sklearn.neighbors import kneighbors_graph\n",
    "\n",
    "    if not \"knn_graph\" in adata.obsp:\n",
    "        adata.obsp[\"knn_graph\"] = kneighbors_graph(\n",
    "            adata.obsm['X_pca_harmony'][:,0:10], n_neighbors=n_neighbors, metric=\"euclidean\", include_self=False\n",
    "        )\n",
    "\n",
    "    # TODO (improvement): add weights according to euclidean distance\n",
    "    graph = ig.Graph.Weighted_Adjacency(adata.obsp[\"knn_graph\"], mode=\"DIRECTED\")\n",
    "\n",
    "    partition = leidenalg.find_partition(\n",
    "        graph,\n",
    "        leidenalg.RBConfigurationVertexPartition,\n",
    "        resolution_parameter=resolution,\n",
    "    )\n",
    "    adata.obs[key_added] = pd.Categorical([str(x) for x in partition.membership])\n",
    "\n",
    "def run_leiden(adata, resolution, key_added):\n",
    "    # Make a copy of adata for thread safety\n",
    "    adata_copy = copy.deepcopy(adata)\n",
    "    leiden_new(adata_copy, resolution=resolution, key_added=key_added)\n",
    "    return adata_copy.obs\n",
    " \n",
    "def run_leiden_parallel(adata, tasks):\n",
    "    with ProcessPoolExecutor(max_workers=5) as executor:\n",
    "        # Make deep copies of adata for each task to ensure thread safety\n",
    "        futures = [executor.submit(run_leiden, copy.deepcopy(adata), resolution, key_added) for resolution, key_added in tasks]\n",
    "        \n",
    "        results = [future.result() for future in futures]\n",
    " \n",
    "    # Assign the results back to the original AnnData object\n",
    "    for result, (_, key_added) in zip(results, tasks):\n",
    "        adata.obs[key_added] = result[key_added]\n",
    " \n",
    "    return adata\n",
    "def read_one(file_path):\n",
    "    adata = scyan.read_csv(file_path,\n",
    "                        marker_regex='^cd|^hla|tcr|ig|^ccr|klrg|^cx', \n",
    "                        exclude_markers=None)\n",
    "    adata.obs[\"batch\"] = re.findall( 'B\\\\d\\\\d\\\\d', file_path)[0]\n",
    "    adata.obs[\"panel\"] = re.findall( 'PB1|PT1|PM1|PS1', file_path)[0]\n",
    "\n",
    "    return adata"
   ]
  },
  {
   "cell_type": "markdown",
   "id": "fc777e93-960b-41b3-bb57-33ace646fb36",
   "metadata": {},
   "source": [
    "# Read Flow MetaData and scRNA MetaData"
   ]
  },
  {
   "cell_type": "code",
   "execution_count": 3,
   "id": "a23e45a0-06d4-408b-91ba-07238b73e3de",
   "metadata": {
    "tags": []
   },
   "outputs": [],
   "source": [
    "meta_data=pd.read_csv('/home/jupyter/BRI_Figures/Dataset/FlowCyto_BRI_uuid.csv')"
   ]
  },
  {
   "cell_type": "code",
   "execution_count": 4,
   "id": "28bddcaf-6116-4c84-8d28-d2d74a4f3159",
   "metadata": {},
   "outputs": [],
   "source": [
    "meta_data['pbmc_sample_id'] = meta_data['file.name'].apply(lambda x: re.search(r'PB([^_]+)', x).group(1) if re.search(r'PB([^_]+)', x) else None)\n",
    "\n",
    "meta_data = meta_data.drop_duplicates(subset=['sample.sampleKitGuid'], keep='last').sort_values(by='sample.sampleKitGuid').reset_index(drop=True)\n"
   ]
  },
  {
   "cell_type": "code",
   "execution_count": 5,
   "id": "c5d2c571-7f0a-48f2-8c70-8af3aa5a0b8a",
   "metadata": {
    "tags": []
   },
   "outputs": [],
   "source": [
    "meta_data_selected_RNA=pd.read_csv('/home/jupyter/BRI_Figures/Dataset/scRNA_meta_data-2024-05-09.csv')"
   ]
  },
  {
   "cell_type": "code",
   "execution_count": 6,
   "id": "69655d00-c500-422c-898d-11248ece2f0e",
   "metadata": {},
   "outputs": [],
   "source": [
    "conditions = [\n",
    "    (meta_data_selected_RNA['sample.drawDate'] <= '2020-07-01'),\n",
    "    (meta_data_selected_RNA['sample.drawDate'] > '2020-07-01') & (meta_data_selected_RNA['sample.drawDate'] <= '2021-07-01'),\n",
    "    (meta_data_selected_RNA['sample.drawDate'] > '2021-07-01') & (meta_data_selected_RNA['sample.drawDate'] <= '2022-07-01'),\n",
    "    (meta_data_selected_RNA['sample.drawDate'] > '2022-07-01') & (meta_data_selected_RNA['sample.drawDate'] <= '2023-07-01')\n",
    "]\n",
    "\n",
    "choices = ['2019', '2020', '2021', '2022']\n",
    "\n",
    "meta_data_selected_RNA['Flu_Year'] = np.select(conditions, choices, default=np.nan)"
   ]
  },
  {
   "cell_type": "code",
   "execution_count": 7,
   "id": "e23afa73-a05b-47e2-b359-b931f65a243d",
   "metadata": {},
   "outputs": [],
   "source": [
    "meta_data_selected_RNA=meta_data_selected_RNA.query(\"Flu_Year.isin(['2020','2021']) &`sample.visitName`.isin(['Flu Year 1 Day 0','Flu Year 1 Day 7','Flu Year 2 Day 0','Flu Year 2 Day 7'])\")"
   ]
  },
  {
   "cell_type": "code",
   "execution_count": 8,
   "id": "bbc6e5cc-68d4-4527-8f9d-a5a61b499aff",
   "metadata": {},
   "outputs": [],
   "source": [
    "meta_data_selected_RNA = pd.merge(meta_data_selected_RNA, meta_data, how='left', left_on=['sample.visitName', 'subject.subjectGuid'], right_on=['sample.visitName', 'subject.subjectGuid'])"
   ]
  },
  {
   "cell_type": "code",
   "execution_count": 9,
   "id": "0fcfb480-eb34-4672-b834-91d03333f4ba",
   "metadata": {},
   "outputs": [],
   "source": [
    "meta_data=meta_data[meta_data['pbmc_sample_id'].isin(meta_data_selected_RNA['pbmc_sample_id_y'])]\n"
   ]
  },
  {
   "cell_type": "code",
   "execution_count": 10,
   "id": "e9d65ca4-7ce3-4cdc-9e69-c27132000fb5",
   "metadata": {
    "tags": []
   },
   "outputs": [],
   "source": [
    "meta_data=meta_data.query(\"~(`subject.subjectGuid`=='BR1026' & `sample.visitName`=='Flu Year 1 Day 0')\")"
   ]
  },
  {
   "cell_type": "markdown",
   "id": "157aa04d-4096-47db-af20-7ac9ab05f85f",
   "metadata": {
    "tags": []
   },
   "source": [
    "# Read Data"
   ]
  },
  {
   "cell_type": "code",
   "execution_count": 11,
   "id": "a23e296c-5370-419f-a38d-4b78d71eb0fe",
   "metadata": {
    "tags": []
   },
   "outputs": [
    {
     "name": "stderr",
     "output_type": "stream",
     "text": [
      "100% 314/314 [05:47<00:00,  1.11s/it]"
     ]
    },
    {
     "name": "stdout",
     "output_type": "stream",
     "text": [
      "CPU times: user 14min 21s, sys: 1min 55s, total: 16min 17s\n",
      "Wall time: 5min 47s\n"
     ]
    },
    {
     "name": "stderr",
     "output_type": "stream",
     "text": [
      "\n"
     ]
    }
   ],
   "source": [
    "%%time\n",
    "file_names= [\"/home/jupyter/BRI_Figures/Dataset/FlowCyto/\"+ os.path.basename(x) for x in meta_data.reset_index()[\"file.name\"]]\n",
    "adata_list = []\n",
    "with ThreadPoolExecutor(max_workers=60) as executor:\n",
    "    future_to_file = {executor.submit(read_one, file_name): file_name for file_name in file_names}\n",
    "    for future in tqdm(as_completed(future_to_file), total=len(file_names)):\n",
    "        result = future.result()\n",
    "        if result is not None:\n",
    "            adata_list.append(result)"
   ]
  },
  {
   "cell_type": "code",
   "execution_count": 12,
   "id": "43035ac4-724c-4942-a8b1-925f1f48c2af",
   "metadata": {
    "tags": []
   },
   "outputs": [
    {
     "name": "stderr",
     "output_type": "stream",
     "text": [
      "/opt/conda/lib/python3.10/site-packages/anndata/_core/anndata.py:1828: UserWarning: Observation names are not unique. To make them unique, call `.obs_names_make_unique`.\n",
      "  utils.warn_names_duplicates(\"obs\")\n"
     ]
    }
   ],
   "source": [
    "adata = anndata.concat(adata_list)\n",
    "adata.obs.index=adata.obs[\"barcode\"].tolist()"
   ]
  },
  {
   "cell_type": "markdown",
   "id": "2283937a-411d-46f7-bad7-d93989133b23",
   "metadata": {},
   "source": [
    "# Subset CM CD4 and Processing "
   ]
  },
  {
   "cell_type": "code",
   "execution_count": 13,
   "id": "0c31d729-f70d-41ca-8e2a-70ff48a3067b",
   "metadata": {
    "tags": []
   },
   "outputs": [],
   "source": [
    "adata_sub=adata[adata.obs['labels'].isin(['cm_cd4_t_cells'])]\n",
    "#make sure pdcd1 and cxcr5 is on the variable list\n",
    "#sc.pp.highly_variable_genes(adata_sub, n_top_genes=16, batch_key=\"batch\")"
   ]
  },
  {
   "cell_type": "code",
   "execution_count": 15,
   "id": "a075ba42-143e-46d5-b6d8-f7d11b747d38",
   "metadata": {},
   "outputs": [
    {
     "data": {
      "text/plain": [
       "20803"
      ]
     },
     "execution_count": 15,
     "metadata": {},
     "output_type": "execute_result"
    }
   ],
   "source": [
    "del adata\n",
    "del adata_list\n",
    "gc.collect()"
   ]
  },
  {
   "cell_type": "code",
   "execution_count": 16,
   "id": "647abfad-b939-4fbf-81bc-776e3ba18f67",
   "metadata": {},
   "outputs": [],
   "source": [
    "selected_markers=['CD127 (IL7Ra)_logicle', 'CD185 (CXCR5)_logicle',\n",
    "       'CD197 (CCR7)_logicle', 'CD278 (ICOS)_logicle', 'CD279 (PD-1)_logicle',\n",
    "       'CD27_logicle', 'CD38_logicle', 'CD39_logicle', 'CD3_logicle',\n",
    "       'CD45_logicle', 'CD4_logicle', 'CD95_logicle', 'HLA-DR_logicle',\n",
    "       'KLRG1_logicle', 'TIGIT_logicle']"
   ]
  },
  {
   "cell_type": "code",
   "execution_count": 17,
   "id": "d652f7ad-75e0-4cc5-be30-223a7c171793",
   "metadata": {},
   "outputs": [
    {
     "name": "stderr",
     "output_type": "stream",
     "text": [
      "\u001b[36;20m[INFO] (scyan.preprocess)\u001b[0m Data will be centered and standardised. This is advised only when using spectral/flow data (if this is not your case, consider running 'asinh_transform' instead of 'auto_logicle_transform').\n"
     ]
    }
   ],
   "source": [
    "adata_sub.raw=adata_sub\n",
    "adata_sub = adata_sub[:, selected_markers]\n",
    "scyan.preprocess.scale(adata_sub)\n",
    "sc.pp.pca(adata_sub, svd_solver=\"arpack\")"
   ]
  },
  {
   "cell_type": "code",
   "execution_count": null,
   "id": "bf037182-e29d-456d-85aa-02fe2a6cf197",
   "metadata": {
    "tags": []
   },
   "outputs": [
    {
     "name": "stderr",
     "output_type": "stream",
     "text": [
      "2024-06-03 16:41:22,101 - harmonypy - INFO - Computing initial centroids with sklearn.KMeans...\n",
      "2024-06-03 17:07:46,369 - harmonypy - INFO - sklearn.KMeans initialization complete.\n",
      "2024-06-03 17:08:21,793 - harmonypy - INFO - Iteration 1 of 20\n"
     ]
    }
   ],
   "source": [
    "%%time\n",
    "sce.pp.harmony_integrate(adata_sub, 'batch',max_iter_harmony = 20)"
   ]
  },
  {
   "cell_type": "code",
   "execution_count": null,
   "id": "41327edf-f8b8-47e8-8a87-040568562f4e",
   "metadata": {},
   "outputs": [],
   "source": [
    "adata_sub.write_h5ad('adata_cm_cd4_harmonized.h5ad')"
   ]
  },
  {
   "cell_type": "code",
   "execution_count": null,
   "id": "6bec5638-bcfa-4229-b76c-10b761f70578",
   "metadata": {},
   "outputs": [],
   "source": [
    "#adata_sub=read_h5ad('adata_cm_cd4_harmonized.h5ad')"
   ]
  },
  {
   "cell_type": "code",
   "execution_count": null,
   "id": "70de85fb-6986-46c3-93e3-7b9a55a1afa4",
   "metadata": {
    "scrolled": true,
    "tags": []
   },
   "outputs": [],
   "source": [
    "%%time\n",
    "tasks = [(0.25, \"leiden_res_0.25\"),(0.5, \"leiden_res_0.5\"),(1.5, \"leiden_res_1.5\"),(2, \"leiden_res_2\"),(0.75, \"leiden_res_0.75\")]\n",
    "leiden_res = [\"leiden_res_0.25\",\"leiden_res_0.5\", \"leiden_res_1.5\", \"leiden_res_2\",  \"leiden_res_0.75\"]\n",
    "\n",
    "adata_sub = run_leiden_parallel(adata_sub, tasks)"
   ]
  },
  {
   "cell_type": "code",
   "execution_count": null,
   "id": "d27ba7e3-027f-4a31-a39b-832a2cdd2ad3",
   "metadata": {
    "tags": []
   },
   "outputs": [],
   "source": [
    "sc.pp.neighbors(adata_sub,use_rep='X_pca_harmony')"
   ]
  },
  {
   "cell_type": "code",
   "execution_count": null,
   "id": "753e535f-2117-4363-960a-a69bba30f7a9",
   "metadata": {
    "tags": []
   },
   "outputs": [],
   "source": [
    "sc.tl.umap(adata_sub)"
   ]
  },
  {
   "cell_type": "code",
   "execution_count": null,
   "id": "42992f59-cc31-46e7-88b3-33b74a441415",
   "metadata": {
    "tags": []
   },
   "outputs": [],
   "source": [
    "adata_sub.write_h5ad('adata_cm_cd4_processed.h5ad')"
   ]
  },
  {
   "cell_type": "code",
   "execution_count": null,
   "id": "dcc4adc6-baa1-49aa-9ec7-0c0066adf58d",
   "metadata": {},
   "outputs": [],
   "source": [
    "adata_sub"
   ]
  },
  {
   "cell_type": "code",
   "execution_count": null,
   "id": "8fb6b1ed-d233-4b2b-8861-16ef4c4c2784",
   "metadata": {},
   "outputs": [],
   "source": []
  }
 ],
 "metadata": {
  "kernelspec": {
   "display_name": "Python [conda env:root] *",
   "language": "python",
   "name": "conda-root-py"
  },
  "language_info": {
   "codemirror_mode": {
    "name": "ipython",
    "version": 3
   },
   "file_extension": ".py",
   "mimetype": "text/x-python",
   "name": "python",
   "nbconvert_exporter": "python",
   "pygments_lexer": "ipython3",
   "version": "3.10.13"
  }
 },
 "nbformat": 4,
 "nbformat_minor": 5
}
