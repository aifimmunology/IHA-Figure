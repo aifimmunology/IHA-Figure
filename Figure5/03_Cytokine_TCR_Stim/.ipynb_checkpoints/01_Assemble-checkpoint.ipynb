{
 "cells": [
  {
   "cell_type": "code",
   "execution_count": 3,
   "id": "5044081d-da02-467f-ae19-ddeeac3b4c2b",
   "metadata": {},
   "outputs": [
    {
     "name": "stderr",
     "output_type": "stream",
     "text": [
      "Warning message:\n",
      "“package ‘dplyr’ was built under R version 4.3.3”\n",
      "\n",
      "Attaching package: ‘dplyr’\n",
      "\n",
      "\n",
      "The following objects are masked from ‘package:stats’:\n",
      "\n",
      "    filter, lag\n",
      "\n",
      "\n",
      "The following objects are masked from ‘package:base’:\n",
      "\n",
      "    intersect, setdiff, setequal, union\n",
      "\n",
      "\n",
      "Warning message:\n",
      "“package ‘stringr’ was built under R version 4.3.3”\n",
      "Warning message:\n",
      "“package ‘tidyverse’ was built under R version 4.3.3”\n",
      "Warning message:\n",
      "“package ‘tibble’ was built under R version 4.3.3”\n",
      "Warning message:\n",
      "“package ‘tidyr’ was built under R version 4.3.3”\n",
      "Warning message:\n",
      "“package ‘readr’ was built under R version 4.3.3”\n",
      "Warning message:\n",
      "“package ‘purrr’ was built under R version 4.3.3”\n",
      "Warning message:\n",
      "“package ‘forcats’ was built under R version 4.3.3”\n",
      "Warning message:\n",
      "“package ‘lubridate’ was built under R version 4.3.3”\n",
      "── \u001b[1mAttaching core tidyverse packages\u001b[22m ──────────────────────── tidyverse 2.0.0 ──\n",
      "\u001b[32m✔\u001b[39m \u001b[34mforcats  \u001b[39m 1.0.0     \u001b[32m✔\u001b[39m \u001b[34mreadr    \u001b[39m 2.1.5\n",
      "\u001b[32m✔\u001b[39m \u001b[34mlubridate\u001b[39m 1.9.3     \u001b[32m✔\u001b[39m \u001b[34mtibble   \u001b[39m 3.2.1\n",
      "\u001b[32m✔\u001b[39m \u001b[34mpurrr    \u001b[39m 1.0.2     \u001b[32m✔\u001b[39m \u001b[34mtidyr    \u001b[39m 1.3.1\n",
      "── \u001b[1mConflicts\u001b[22m ────────────────────────────────────────── tidyverse_conflicts() ──\n",
      "\u001b[31m✖\u001b[39m \u001b[34mdplyr\u001b[39m::\u001b[32mfilter()\u001b[39m masks \u001b[34mstats\u001b[39m::filter()\n",
      "\u001b[31m✖\u001b[39m \u001b[34mdplyr\u001b[39m::\u001b[32mlag()\u001b[39m    masks \u001b[34mstats\u001b[39m::lag()\n",
      "\u001b[36mℹ\u001b[39m Use the conflicted package (\u001b[3m\u001b[34m<http://conflicted.r-lib.org/>\u001b[39m\u001b[23m) to force all conflicts to become errors\n",
      "Warning message:\n",
      "“package ‘RColorBrewer’ was built under R version 4.3.3”\n"
     ]
    }
   ],
   "source": [
    "library(ggplot2)\n",
    "library(dplyr)\n",
    "library(stringr)\n",
    "library(tidyverse)\n",
    "library(RColorBrewer)\n",
    "library(ggpubr)"
   ]
  },
  {
   "cell_type": "markdown",
   "id": "5e6d4bad-1137-4780-8729-b7494eef6dda",
   "metadata": {},
   "source": [
    "# 24hrs"
   ]
  },
  {
   "cell_type": "code",
   "execution_count": 4,
   "id": "7d74a783-af39-46e5-b785-e981aa1279f8",
   "metadata": {},
   "outputs": [],
   "source": [
    "df<-read.csv('MSD - Sheet1.csv')\n"
   ]
  },
  {
   "cell_type": "code",
   "execution_count": 5,
   "id": "e1522512-8795-4a5c-911b-a2f4eec6ba81",
   "metadata": {},
   "outputs": [],
   "source": [
    "colnames(df)[8:17]<-c( \"IFNy\",\"IL10\",\"IL12p70\",\"IL13\",\"IL1\",\"IL2\",\"IL4\",\"IL6\" ,\"IL8\",\"TNFa\")\n"
   ]
  },
  {
   "cell_type": "code",
   "execution_count": 6,
   "id": "246e1246-f005-41dd-81e1-f529d39cfaea",
   "metadata": {},
   "outputs": [],
   "source": [
    "df$donor<-str_extract(df$well, \"BR\\\\d{4}\")\n",
    "df$cohort<-substr(df$donor,1,3)\n",
    "df$timepoint <- as.numeric(str_extract(df$well, \"(?<=\\\\s)\\\\d+\"))\n",
    "df[8:17]<-as.data.frame(lapply(df[8:17],as.character))\n"
   ]
  },
  {
   "cell_type": "code",
   "execution_count": 7,
   "id": "504b05aa-773d-4253-8c4d-e9c218f5f1cb",
   "metadata": {},
   "outputs": [],
   "source": [
    "df_wide<-df%>%\n",
    "  pivot_longer(cols = colnames(df)[8:17], \n",
    "               names_to = \"Cytokine\", \n",
    "               values_to = \"Value\")\n"
   ]
  },
  {
   "cell_type": "code",
   "execution_count": 8,
   "id": "9e7f340b-caac-45ea-8b0a-5f28d928d999",
   "metadata": {
    "scrolled": true
   },
   "outputs": [
    {
     "data": {
      "text/html": [
       "<table class=\"dataframe\">\n",
       "<caption>A tibble: 6 × 12</caption>\n",
       "<thead>\n",
       "\t<tr><th scope=col>experiment</th><th scope=col>well</th><th scope=col>X</th><th scope=col>dilution</th><th scope=col>replicate</th><th scope=col>sample_type</th><th scope=col>X.1</th><th scope=col>donor</th><th scope=col>cohort</th><th scope=col>timepoint</th><th scope=col>Cytokine</th><th scope=col>Value</th></tr>\n",
       "\t<tr><th scope=col>&lt;chr&gt;</th><th scope=col>&lt;chr&gt;</th><th scope=col>&lt;lgl&gt;</th><th scope=col>&lt;int&gt;</th><th scope=col>&lt;int&gt;</th><th scope=col>&lt;chr&gt;</th><th scope=col>&lt;lgl&gt;</th><th scope=col>&lt;chr&gt;</th><th scope=col>&lt;chr&gt;</th><th scope=col>&lt;dbl&gt;</th><th scope=col>&lt;chr&gt;</th><th scope=col>&lt;dbl&gt;</th></tr>\n",
       "</thead>\n",
       "<tbody>\n",
       "\t<tr><td>EXP-01523_W4</td><td>EXP-01503_w3-Samples-BR1008-A2 24.fcs</td><td>NA</td><td>1</td><td>1</td><td>Sample</td><td>NA</td><td>BR1008</td><td>BR1</td><td>24</td><td>IL1 </td><td>  31.52840</td></tr>\n",
       "\t<tr><td>EXP-01523_W4</td><td>EXP-01503_w3-Samples-BR1008-A2 24.fcs</td><td>NA</td><td>1</td><td>1</td><td>Sample</td><td>NA</td><td>BR1008</td><td>BR1</td><td>24</td><td>IL2 </td><td>2233.38003</td></tr>\n",
       "\t<tr><td>EXP-01523_W4</td><td>EXP-01503_w3-Samples-BR1008-A2 24.fcs</td><td>NA</td><td>1</td><td>1</td><td>Sample</td><td>NA</td><td>BR1008</td><td>BR1</td><td>24</td><td>IL4 </td><td> 148.78496</td></tr>\n",
       "\t<tr><td>EXP-01523_W4</td><td>EXP-01503_w3-Samples-BR1008-A2 24.fcs</td><td>NA</td><td>1</td><td>1</td><td>Sample</td><td>NA</td><td>BR1008</td><td>BR1</td><td>24</td><td>IL6 </td><td>  22.74331</td></tr>\n",
       "\t<tr><td>EXP-01523_W4</td><td>EXP-01503_w3-Samples-BR1008-A2 24.fcs</td><td>NA</td><td>1</td><td>1</td><td>Sample</td><td>NA</td><td>BR1008</td><td>BR1</td><td>24</td><td>IL8 </td><td> 453.79639</td></tr>\n",
       "\t<tr><td>EXP-01523_W4</td><td>EXP-01503_w3-Samples-BR1008-A2 24.fcs</td><td>NA</td><td>1</td><td>1</td><td>Sample</td><td>NA</td><td>BR1008</td><td>BR1</td><td>24</td><td>TNFa</td><td> 914.05214</td></tr>\n",
       "</tbody>\n",
       "</table>\n"
      ],
      "text/latex": [
       "A tibble: 6 × 12\n",
       "\\begin{tabular}{llllllllllll}\n",
       " experiment & well & X & dilution & replicate & sample\\_type & X.1 & donor & cohort & timepoint & Cytokine & Value\\\\\n",
       " <chr> & <chr> & <lgl> & <int> & <int> & <chr> & <lgl> & <chr> & <chr> & <dbl> & <chr> & <dbl>\\\\\n",
       "\\hline\n",
       "\t EXP-01523\\_W4 & EXP-01503\\_w3-Samples-BR1008-A2 24.fcs & NA & 1 & 1 & Sample & NA & BR1008 & BR1 & 24 & IL1  &   31.52840\\\\\n",
       "\t EXP-01523\\_W4 & EXP-01503\\_w3-Samples-BR1008-A2 24.fcs & NA & 1 & 1 & Sample & NA & BR1008 & BR1 & 24 & IL2  & 2233.38003\\\\\n",
       "\t EXP-01523\\_W4 & EXP-01503\\_w3-Samples-BR1008-A2 24.fcs & NA & 1 & 1 & Sample & NA & BR1008 & BR1 & 24 & IL4  &  148.78496\\\\\n",
       "\t EXP-01523\\_W4 & EXP-01503\\_w3-Samples-BR1008-A2 24.fcs & NA & 1 & 1 & Sample & NA & BR1008 & BR1 & 24 & IL6  &   22.74331\\\\\n",
       "\t EXP-01523\\_W4 & EXP-01503\\_w3-Samples-BR1008-A2 24.fcs & NA & 1 & 1 & Sample & NA & BR1008 & BR1 & 24 & IL8  &  453.79639\\\\\n",
       "\t EXP-01523\\_W4 & EXP-01503\\_w3-Samples-BR1008-A2 24.fcs & NA & 1 & 1 & Sample & NA & BR1008 & BR1 & 24 & TNFa &  914.05214\\\\\n",
       "\\end{tabular}\n"
      ],
      "text/markdown": [
       "\n",
       "A tibble: 6 × 12\n",
       "\n",
       "| experiment &lt;chr&gt; | well &lt;chr&gt; | X &lt;lgl&gt; | dilution &lt;int&gt; | replicate &lt;int&gt; | sample_type &lt;chr&gt; | X.1 &lt;lgl&gt; | donor &lt;chr&gt; | cohort &lt;chr&gt; | timepoint &lt;dbl&gt; | Cytokine &lt;chr&gt; | Value &lt;dbl&gt; |\n",
       "|---|---|---|---|---|---|---|---|---|---|---|---|\n",
       "| EXP-01523_W4 | EXP-01503_w3-Samples-BR1008-A2 24.fcs | NA | 1 | 1 | Sample | NA | BR1008 | BR1 | 24 | IL1  |   31.52840 |\n",
       "| EXP-01523_W4 | EXP-01503_w3-Samples-BR1008-A2 24.fcs | NA | 1 | 1 | Sample | NA | BR1008 | BR1 | 24 | IL2  | 2233.38003 |\n",
       "| EXP-01523_W4 | EXP-01503_w3-Samples-BR1008-A2 24.fcs | NA | 1 | 1 | Sample | NA | BR1008 | BR1 | 24 | IL4  |  148.78496 |\n",
       "| EXP-01523_W4 | EXP-01503_w3-Samples-BR1008-A2 24.fcs | NA | 1 | 1 | Sample | NA | BR1008 | BR1 | 24 | IL6  |   22.74331 |\n",
       "| EXP-01523_W4 | EXP-01503_w3-Samples-BR1008-A2 24.fcs | NA | 1 | 1 | Sample | NA | BR1008 | BR1 | 24 | IL8  |  453.79639 |\n",
       "| EXP-01523_W4 | EXP-01503_w3-Samples-BR1008-A2 24.fcs | NA | 1 | 1 | Sample | NA | BR1008 | BR1 | 24 | TNFa |  914.05214 |\n",
       "\n"
      ],
      "text/plain": [
       "  experiment   well                                  X  dilution replicate\n",
       "1 EXP-01523_W4 EXP-01503_w3-Samples-BR1008-A2 24.fcs NA 1        1        \n",
       "2 EXP-01523_W4 EXP-01503_w3-Samples-BR1008-A2 24.fcs NA 1        1        \n",
       "3 EXP-01523_W4 EXP-01503_w3-Samples-BR1008-A2 24.fcs NA 1        1        \n",
       "4 EXP-01523_W4 EXP-01503_w3-Samples-BR1008-A2 24.fcs NA 1        1        \n",
       "5 EXP-01523_W4 EXP-01503_w3-Samples-BR1008-A2 24.fcs NA 1        1        \n",
       "6 EXP-01523_W4 EXP-01503_w3-Samples-BR1008-A2 24.fcs NA 1        1        \n",
       "  sample_type X.1 donor  cohort timepoint Cytokine Value     \n",
       "1 Sample      NA  BR1008 BR1    24        IL1        31.52840\n",
       "2 Sample      NA  BR1008 BR1    24        IL2      2233.38003\n",
       "3 Sample      NA  BR1008 BR1    24        IL4       148.78496\n",
       "4 Sample      NA  BR1008 BR1    24        IL6        22.74331\n",
       "5 Sample      NA  BR1008 BR1    24        IL8       453.79639\n",
       "6 Sample      NA  BR1008 BR1    24        TNFa      914.05214"
      ]
     },
     "metadata": {},
     "output_type": "display_data"
    }
   ],
   "source": [
    "df_wide <- df_wide %>%\n",
    "  mutate(Value = case_when(\n",
    "    grepl(\">\", Value) ~ NA_real_,     # if '>' replace with NA\n",
    "    grepl(\"<\", Value) ~ 0,            # if '<' replace with 0\n",
    "    TRUE ~ as.numeric(Value)          # otherwise convert to numeric\n",
    "  ))\n",
    "tail(df_wide)"
   ]
  },
  {
   "cell_type": "code",
   "execution_count": 9,
   "id": "144c2a73-e91f-4cc8-af81-b56cd777cc25",
   "metadata": {},
   "outputs": [],
   "source": [
    "df_24hr<-df_wide %>% filter(timepoint==24)"
   ]
  },
  {
   "cell_type": "markdown",
   "id": "b915dcd4-f436-451e-9b96-c20a7261140b",
   "metadata": {},
   "source": [
    "# 4hr"
   ]
  },
  {
   "cell_type": "code",
   "execution_count": null,
   "id": "973ba5cb-b3e6-44b5-ac55-befd1540f26b",
   "metadata": {},
   "outputs": [],
   "source": []
  },
  {
   "cell_type": "code",
   "execution_count": 10,
   "id": "248c3220-eb3e-4241-a375-bd2d50a6a8e2",
   "metadata": {},
   "outputs": [],
   "source": [
    "df<-read.csv('MSD-IL13_UNSTIM.csv',skip=1)\n"
   ]
  },
  {
   "cell_type": "code",
   "execution_count": 11,
   "id": "d17b00ba-d47d-426b-9dcf-51202486f966",
   "metadata": {},
   "outputs": [],
   "source": [
    "colnames(df)[3:12]<-c( \"IFNy\",\"IL10\",\"IL12p70\",\"IL13\",\"IL1\",\"IL2\",\"IL4\",\"IL6\" ,\"IL8\",\"TNFa\")\n"
   ]
  },
  {
   "cell_type": "code",
   "execution_count": 12,
   "id": "af30581c-84c0-43f9-9742-2a9112a211ad",
   "metadata": {},
   "outputs": [],
   "source": [
    "df$donor<-str_extract(df$Sample, \"BR\\\\d{4}\")\n",
    "df$cohort<-substr(df$donor,1,3)\n",
    "df$timepoint<-substring(df$Sample,8)\n",
    "\n"
   ]
  },
  {
   "cell_type": "code",
   "execution_count": 13,
   "id": "4cd0b0ab-b708-47da-8837-8ce9ef0705b7",
   "metadata": {},
   "outputs": [],
   "source": [
    "df[3:12]<-as.data.frame(lapply(df[3:12],as.character))"
   ]
  },
  {
   "cell_type": "code",
   "execution_count": null,
   "id": "405ebe87-bc87-4c7f-936c-c20820678046",
   "metadata": {},
   "outputs": [],
   "source": []
  },
  {
   "cell_type": "code",
   "execution_count": 14,
   "id": "0ab0fbc9-7698-42b8-920f-dc4a44a359e8",
   "metadata": {},
   "outputs": [
    {
     "data": {
      "text/html": [
       "<table class=\"dataframe\">\n",
       "<caption>A tibble: 6 × 7</caption>\n",
       "<thead>\n",
       "\t<tr><th scope=col>X</th><th scope=col>Sample</th><th scope=col>donor</th><th scope=col>cohort</th><th scope=col>timepoint</th><th scope=col>Cytokine</th><th scope=col>Value</th></tr>\n",
       "\t<tr><th scope=col>&lt;lgl&gt;</th><th scope=col>&lt;chr&gt;</th><th scope=col>&lt;chr&gt;</th><th scope=col>&lt;chr&gt;</th><th scope=col>&lt;chr&gt;</th><th scope=col>&lt;chr&gt;</th><th scope=col>&lt;chr&gt;</th></tr>\n",
       "</thead>\n",
       "<tbody>\n",
       "\t<tr><td>NA</td><td>BR1008 4</td><td>BR1008</td><td>BR1</td><td>4</td><td>IFNy   </td><td>4093.619612</td></tr>\n",
       "\t<tr><td>NA</td><td>BR1008 4</td><td>BR1008</td><td>BR1</td><td>4</td><td>IL10   </td><td>13.02643802</td></tr>\n",
       "\t<tr><td>NA</td><td>BR1008 4</td><td>BR1008</td><td>BR1</td><td>4</td><td>IL12p70</td><td>0.078038816</td></tr>\n",
       "\t<tr><td>NA</td><td>BR1008 4</td><td>BR1008</td><td>BR1</td><td>4</td><td>IL13   </td><td>7.415123597</td></tr>\n",
       "\t<tr><td>NA</td><td>BR1008 4</td><td>BR1008</td><td>BR1</td><td>4</td><td>IL1    </td><td>2.242143473</td></tr>\n",
       "\t<tr><td>NA</td><td>BR1008 4</td><td>BR1008</td><td>BR1</td><td>4</td><td>IL2    </td><td>2290.419082</td></tr>\n",
       "</tbody>\n",
       "</table>\n"
      ],
      "text/latex": [
       "A tibble: 6 × 7\n",
       "\\begin{tabular}{lllllll}\n",
       " X & Sample & donor & cohort & timepoint & Cytokine & Value\\\\\n",
       " <lgl> & <chr> & <chr> & <chr> & <chr> & <chr> & <chr>\\\\\n",
       "\\hline\n",
       "\t NA & BR1008 4 & BR1008 & BR1 & 4 & IFNy    & 4093.619612\\\\\n",
       "\t NA & BR1008 4 & BR1008 & BR1 & 4 & IL10    & 13.02643802\\\\\n",
       "\t NA & BR1008 4 & BR1008 & BR1 & 4 & IL12p70 & 0.078038816\\\\\n",
       "\t NA & BR1008 4 & BR1008 & BR1 & 4 & IL13    & 7.415123597\\\\\n",
       "\t NA & BR1008 4 & BR1008 & BR1 & 4 & IL1     & 2.242143473\\\\\n",
       "\t NA & BR1008 4 & BR1008 & BR1 & 4 & IL2     & 2290.419082\\\\\n",
       "\\end{tabular}\n"
      ],
      "text/markdown": [
       "\n",
       "A tibble: 6 × 7\n",
       "\n",
       "| X &lt;lgl&gt; | Sample &lt;chr&gt; | donor &lt;chr&gt; | cohort &lt;chr&gt; | timepoint &lt;chr&gt; | Cytokine &lt;chr&gt; | Value &lt;chr&gt; |\n",
       "|---|---|---|---|---|---|---|\n",
       "| NA | BR1008 4 | BR1008 | BR1 | 4 | IFNy    | 4093.619612 |\n",
       "| NA | BR1008 4 | BR1008 | BR1 | 4 | IL10    | 13.02643802 |\n",
       "| NA | BR1008 4 | BR1008 | BR1 | 4 | IL12p70 | 0.078038816 |\n",
       "| NA | BR1008 4 | BR1008 | BR1 | 4 | IL13    | 7.415123597 |\n",
       "| NA | BR1008 4 | BR1008 | BR1 | 4 | IL1     | 2.242143473 |\n",
       "| NA | BR1008 4 | BR1008 | BR1 | 4 | IL2     | 2290.419082 |\n",
       "\n"
      ],
      "text/plain": [
       "  X  Sample   donor  cohort timepoint Cytokine Value      \n",
       "1 NA BR1008 4 BR1008 BR1    4         IFNy     4093.619612\n",
       "2 NA BR1008 4 BR1008 BR1    4         IL10     13.02643802\n",
       "3 NA BR1008 4 BR1008 BR1    4         IL12p70  0.078038816\n",
       "4 NA BR1008 4 BR1008 BR1    4         IL13     7.415123597\n",
       "5 NA BR1008 4 BR1008 BR1    4         IL1      2.242143473\n",
       "6 NA BR1008 4 BR1008 BR1    4         IL2      2290.419082"
      ]
     },
     "metadata": {},
     "output_type": "display_data"
    }
   ],
   "source": [
    "# convert wide format to long format for plotting\n",
    "df_wide<-df%>%\n",
    "  pivot_longer(cols = colnames(df)[3:12], \n",
    "               names_to = \"Cytokine\", \n",
    "               values_to = \"Value\")\n",
    "head(df_wide)"
   ]
  },
  {
   "cell_type": "code",
   "execution_count": 15,
   "id": "271f12df-d6eb-4f35-820f-8fdcc386bbd7",
   "metadata": {
    "scrolled": true
   },
   "outputs": [
    {
     "name": "stderr",
     "output_type": "stream",
     "text": [
      "Warning message:\n",
      "“\u001b[1m\u001b[22mThere was 1 warning in `mutate()`.\n",
      "\u001b[1m\u001b[22m\u001b[36mℹ\u001b[39m In argument: `Value = case_when(grepl(\"DIV\", Value) ~ NA_real_, TRUE ~\n",
      "  as.numeric(Value))`.\n",
      "Caused by warning:\n",
      "\u001b[33m!\u001b[39m NAs introduced by coercion”\n"
     ]
    },
    {
     "data": {
      "text/html": [
       "<table class=\"dataframe\">\n",
       "<caption>A tibble: 6 × 7</caption>\n",
       "<thead>\n",
       "\t<tr><th scope=col>X</th><th scope=col>Sample</th><th scope=col>donor</th><th scope=col>cohort</th><th scope=col>timepoint</th><th scope=col>Cytokine</th><th scope=col>Value</th></tr>\n",
       "\t<tr><th scope=col>&lt;lgl&gt;</th><th scope=col>&lt;chr&gt;</th><th scope=col>&lt;chr&gt;</th><th scope=col>&lt;chr&gt;</th><th scope=col>&lt;chr&gt;</th><th scope=col>&lt;chr&gt;</th><th scope=col>&lt;dbl&gt;</th></tr>\n",
       "</thead>\n",
       "<tbody>\n",
       "\t<tr><td>NA</td><td>BR1008 4</td><td>BR1008</td><td>BR1</td><td>4</td><td>IFNy   </td><td>4.093620e+03</td></tr>\n",
       "\t<tr><td>NA</td><td>BR1008 4</td><td>BR1008</td><td>BR1</td><td>4</td><td>IL10   </td><td>1.302644e+01</td></tr>\n",
       "\t<tr><td>NA</td><td>BR1008 4</td><td>BR1008</td><td>BR1</td><td>4</td><td>IL12p70</td><td>7.803882e-02</td></tr>\n",
       "\t<tr><td>NA</td><td>BR1008 4</td><td>BR1008</td><td>BR1</td><td>4</td><td>IL13   </td><td>7.415124e+00</td></tr>\n",
       "\t<tr><td>NA</td><td>BR1008 4</td><td>BR1008</td><td>BR1</td><td>4</td><td>IL1    </td><td>2.242143e+00</td></tr>\n",
       "\t<tr><td>NA</td><td>BR1008 4</td><td>BR1008</td><td>BR1</td><td>4</td><td>IL2    </td><td>2.290419e+03</td></tr>\n",
       "</tbody>\n",
       "</table>\n"
      ],
      "text/latex": [
       "A tibble: 6 × 7\n",
       "\\begin{tabular}{lllllll}\n",
       " X & Sample & donor & cohort & timepoint & Cytokine & Value\\\\\n",
       " <lgl> & <chr> & <chr> & <chr> & <chr> & <chr> & <dbl>\\\\\n",
       "\\hline\n",
       "\t NA & BR1008 4 & BR1008 & BR1 & 4 & IFNy    & 4.093620e+03\\\\\n",
       "\t NA & BR1008 4 & BR1008 & BR1 & 4 & IL10    & 1.302644e+01\\\\\n",
       "\t NA & BR1008 4 & BR1008 & BR1 & 4 & IL12p70 & 7.803882e-02\\\\\n",
       "\t NA & BR1008 4 & BR1008 & BR1 & 4 & IL13    & 7.415124e+00\\\\\n",
       "\t NA & BR1008 4 & BR1008 & BR1 & 4 & IL1     & 2.242143e+00\\\\\n",
       "\t NA & BR1008 4 & BR1008 & BR1 & 4 & IL2     & 2.290419e+03\\\\\n",
       "\\end{tabular}\n"
      ],
      "text/markdown": [
       "\n",
       "A tibble: 6 × 7\n",
       "\n",
       "| X &lt;lgl&gt; | Sample &lt;chr&gt; | donor &lt;chr&gt; | cohort &lt;chr&gt; | timepoint &lt;chr&gt; | Cytokine &lt;chr&gt; | Value &lt;dbl&gt; |\n",
       "|---|---|---|---|---|---|---|\n",
       "| NA | BR1008 4 | BR1008 | BR1 | 4 | IFNy    | 4.093620e+03 |\n",
       "| NA | BR1008 4 | BR1008 | BR1 | 4 | IL10    | 1.302644e+01 |\n",
       "| NA | BR1008 4 | BR1008 | BR1 | 4 | IL12p70 | 7.803882e-02 |\n",
       "| NA | BR1008 4 | BR1008 | BR1 | 4 | IL13    | 7.415124e+00 |\n",
       "| NA | BR1008 4 | BR1008 | BR1 | 4 | IL1     | 2.242143e+00 |\n",
       "| NA | BR1008 4 | BR1008 | BR1 | 4 | IL2     | 2.290419e+03 |\n",
       "\n"
      ],
      "text/plain": [
       "  X  Sample   donor  cohort timepoint Cytokine Value       \n",
       "1 NA BR1008 4 BR1008 BR1    4         IFNy     4.093620e+03\n",
       "2 NA BR1008 4 BR1008 BR1    4         IL10     1.302644e+01\n",
       "3 NA BR1008 4 BR1008 BR1    4         IL12p70  7.803882e-02\n",
       "4 NA BR1008 4 BR1008 BR1    4         IL13     7.415124e+00\n",
       "5 NA BR1008 4 BR1008 BR1    4         IL1      2.242143e+00\n",
       "6 NA BR1008 4 BR1008 BR1    4         IL2      2.290419e+03"
      ]
     },
     "metadata": {},
     "output_type": "display_data"
    }
   ],
   "source": [
    "df_wide <- df_wide %>%\n",
    "  mutate(Value = case_when(\n",
    "    grepl(\"DIV\", Value) ~ NA_real_,     # if '>' replace with NA\n",
    "    TRUE ~ as.numeric(Value)          # otherwise convert to numeric\n",
    "  ))\n",
    "head(df_wide)"
   ]
  },
  {
   "cell_type": "code",
   "execution_count": 16,
   "id": "f387319f-dee6-45db-a563-e65540f7017c",
   "metadata": {},
   "outputs": [],
   "source": [
    "df_4hr<-df_wide %>% filter(timepoint==4)"
   ]
  },
  {
   "cell_type": "markdown",
   "id": "a81f4cec-15cf-466f-b6e2-98b835ab9713",
   "metadata": {},
   "source": [
    "# Combine"
   ]
  },
  {
   "cell_type": "code",
   "execution_count": 17,
   "id": "9de5319a-7b82-4c05-ade9-d0adeadde3b9",
   "metadata": {},
   "outputs": [],
   "source": [
    "df_4hr<-df_4hr %>% select(donor,cohort,timepoint,Cytokine,Value)\n",
    "df_24hr<-df_24hr %>% select(donor,cohort,timepoint,Cytokine,Value)"
   ]
  },
  {
   "cell_type": "code",
   "execution_count": 18,
   "id": "228d9766-fdba-4e5f-965d-d97035b239ed",
   "metadata": {},
   "outputs": [],
   "source": [
    "df_combined<-rbind(df_4hr,df_24hr)"
   ]
  },
  {
   "cell_type": "code",
   "execution_count": 19,
   "id": "d6cdb674-ee0b-4942-945e-e49b3b9252a8",
   "metadata": {},
   "outputs": [],
   "source": [
    "df_combined<-df_combined %>% mutate(Age_Group=case_when(cohort==\"BR1\"~\"Young\", TRUE ~\"Older\"))\n",
    "df_combined$Age_Group<-factor(df_combined$Age_Group,levels=c(\"Young\",\"Older\"))"
   ]
  },
  {
   "cell_type": "code",
   "execution_count": 20,
   "id": "299e9ede-0027-4273-9fa8-71f612b03916",
   "metadata": {},
   "outputs": [],
   "source": [
    "df_combined<-df_combined %>% mutate(timepoint = case_when(timepoint ==4~\"4 hrs\", TRUE ~\"24 hrs\"))"
   ]
  },
  {
   "cell_type": "code",
   "execution_count": 21,
   "id": "09f75e0e-9d30-4018-b9b5-589e912de536",
   "metadata": {},
   "outputs": [],
   "source": [
    "df_combined$timepoint<-factor(df_combined$timepoint,levels=c(\"4 hrs\",\"24 hrs\"))"
   ]
  },
  {
   "cell_type": "code",
   "execution_count": 22,
   "id": "1e7d712f-2119-45ae-a937-6fcc8c0609ed",
   "metadata": {},
   "outputs": [
    {
     "data": {
      "image/png": "[encoded data removed]",
      "text/plain": [
       "plot without title"
      ]
     },
     "metadata": {
      "image/png": {
       "height": 240,
       "width": 360
      }
     },
     "output_type": "display_data"
    }
   ],
   "source": [
    "options(repr.plot.width =6, repr.plot.height = 4)\n",
    "\n",
    "ggplot(data = df_combined %>% filter(Cytokine==\"IFNy\"), \n",
    "       aes(x = Age_Group, y = log10(Value), color = Age_Group)) +\n",
    "  geom_point() +\n",
    "  geom_boxplot(aes(fill = Age_Group), alpha = 0.4, outlier.shape = NA,\n",
    "               position = position_dodge(width = 0.75)) +\n",
    "\n",
    "labs(title = \"\", x = \"Cohort\", y = \"log10(Concentration)\") +\n",
    "  stat_compare_means(label.y=5) +\n",
    "  scale_fill_manual(values = c(\"Older\" = \"#bf812d\", \"Young\" = \"#35978f\")) +\n",
    "  scale_color_manual(values = c(\"Older\" = \"#bf812d\", \"Young\" = \"#35978f\")) +\n",
    "  scale_y_continuous(limits = c(NA, max(log10(df_combined$Value[df_combined$Cytokine==\"IFNy\"])) * 1.1))+\n",
    "theme_bw(base_size=16)+facet_wrap(~timepoint)"
   ]
  },
  {
   "cell_type": "code",
   "execution_count": 23,
   "id": "21d42897-8484-49cd-82a6-0c726e931107",
   "metadata": {},
   "outputs": [],
   "source": [
    "write.csv(df_combined,\"Cytokine_Profile.csv\")"
   ]
  },
  {
   "cell_type": "code",
   "execution_count": null,
   "id": "23e0394e-db32-4e7d-8618-87ec8e8f7e42",
   "metadata": {},
   "outputs": [],
   "source": []
  }
 ],
 "metadata": {
  "kernelspec": {
   "display_name": "R_BRI_Figures",
   "language": "R",
   "name": "r_bri_figures"
  },
  "language_info": {
   "codemirror_mode": "r",
   "file_extension": ".r",
   "mimetype": "text/x-r-source",
   "name": "R",
   "pygments_lexer": "r",
   "version": "4.3.2"
  }
 },
 "nbformat": 4,
 "nbformat_minor": 5
}
