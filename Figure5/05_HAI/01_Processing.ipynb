{
 "cells": [
  {
   "cell_type": "code",
   "execution_count": 1,
   "id": "4f38ffee-c8b0-466e-832b-877f89c5072f",
   "metadata": {},
   "outputs": [
    {
     "name": "stderr",
     "output_type": "stream",
     "text": [
      "\n",
      "Attaching package: ‘dplyr’\n",
      "\n",
      "\n",
      "The following objects are masked from ‘package:stats’:\n",
      "\n",
      "    filter, lag\n",
      "\n",
      "\n",
      "The following objects are masked from ‘package:base’:\n",
      "\n",
      "    intersect, setdiff, setequal, union\n",
      "\n",
      "\n",
      "── \u001b[1mAttaching core tidyverse packages\u001b[22m ──────────────────────── tidyverse 2.0.0 ──\n",
      "\u001b[32m✔\u001b[39m \u001b[34mforcats  \u001b[39m 1.0.0     \u001b[32m✔\u001b[39m \u001b[34mstringr  \u001b[39m 1.5.1\n",
      "\u001b[32m✔\u001b[39m \u001b[34mlubridate\u001b[39m 1.9.3     \u001b[32m✔\u001b[39m \u001b[34mtibble   \u001b[39m 3.2.1\n",
      "\u001b[32m✔\u001b[39m \u001b[34mpurrr    \u001b[39m 1.0.2     \u001b[32m✔\u001b[39m \u001b[34mtidyr    \u001b[39m 1.3.1\n",
      "\u001b[32m✔\u001b[39m \u001b[34mreadr    \u001b[39m 2.1.5     \n",
      "── \u001b[1mConflicts\u001b[22m ────────────────────────────────────────── tidyverse_conflicts() ──\n",
      "\u001b[31m✖\u001b[39m \u001b[34mdplyr\u001b[39m::\u001b[32mfilter()\u001b[39m masks \u001b[34mstats\u001b[39m::filter()\n",
      "\u001b[31m✖\u001b[39m \u001b[34mdplyr\u001b[39m::\u001b[32mlag()\u001b[39m    masks \u001b[34mstats\u001b[39m::lag()\n",
      "\u001b[36mℹ\u001b[39m Use the conflicted package (\u001b[3m\u001b[34m<http://conflicted.r-lib.org/>\u001b[39m\u001b[23m) to force all conflicts to become errors\n"
     ]
    }
   ],
   "source": [
    "library(hise)\n",
    "library(dplyr)\n",
    "library(ggplot2)\n",
    "library(stats)\n",
    "library(tidyverse)\n",
    "library(readxl)"
   ]
  },
  {
   "cell_type": "code",
   "execution_count": 2,
   "id": "82544398-c104-4d44-9784-f164fd9079d7",
   "metadata": {},
   "outputs": [],
   "source": [
    "# load metadata\n",
    "metadata <- read.csv(\"/home//jupyter/BRI_Figures_Final_V2/Figure5/01_Frequency_Comparison/selected_samples_with_acutal_flu_year.csv\")\n",
    "metadata$pbmc_sample_id <- sub(\"-.*\", \"\", metadata$pbmc_sample_id)"
   ]
  },
  {
   "cell_type": "code",
   "execution_count": 3,
   "id": "c5f59958-94d3-424c-afb1-d924a2f79f68",
   "metadata": {},
   "outputs": [],
   "source": [
    " # function to load plate layout csv for the three plates and convert to long format to later merge with raw data\n",
    "reshape_to_long_format <- function(file_path) {\n",
    "  # load csv\n",
    "  data <- read.csv(file_path, header = FALSE)\n",
    "  \n",
    "  # add row and column names A01 to H12\n",
    "  colnames(data) <- sprintf(\"%02d\", 1:12)\n",
    "  rownames(data) <- LETTERS[1:8]\n",
    "  \n",
    "  # long format\n",
    "  long_format <- data %>%\n",
    "    rownames_to_column(var = \"Row\") %>%\n",
    "    gather(key = \"Column\", value = \"pbmc_sample_id\", -Row) %>%\n",
    "    mutate(Well = paste0(Row, Column)) %>%\n",
    "    select(pbmc_sample_id, Well)\n",
    "  \n",
    "  return(long_format)\n",
    "}\n",
    "\n",
    "# Define file paths and corresponding data frame names\n",
    "file_paths <- c('/home//jupyter/BRI_Figures_Final_V2/Dataset/HAI/EXP-01111 MSD Plate1 Plate_2BMACAI036 worklist.csv',\n",
    "                '/home//jupyter/BRI_Figures_Final_V2/Dataset/HAI/EXP-01111 MSD Plate2 Plate_2BMACAI037 worklist.csv',\n",
    "                '/home//jupyter/BRI_Figures_Final_V2/Dataset/HAI/EXP-01111 MSD Plate3 Plate_2BMACA7038 worklist.csv')\n",
    "data_frame_names <- c('Plate_2BMACAI036', 'Plate_2BMACAI037', 'Plate_2BMACA7038')\n",
    "\n",
    "# Initialize an empty list to store the data frames\n",
    "data_frames <- list()\n",
    "\n",
    "# Apply the function to each file and assign to named data frames\n",
    "for (i in 1:length(file_paths)) {\n",
    "  data_frames[[data_frame_names[i]]] <- reshape_to_long_format(file_paths[i])\n",
    "}\n",
    "\n",
    "# Assign data frames to the global environment with custom names\n",
    "for (i in 1:length(data_frame_names)) {\n",
    "  assign(data_frame_names[i], data_frames[[data_frame_names[i]]])\n",
    "}"
   ]
  },
  {
   "cell_type": "code",
   "execution_count": 4,
   "id": "03b32e48-7292-4dbe-8429-581ed3d9ea7f",
   "metadata": {},
   "outputs": [],
   "source": [
    "# load HAI data\n",
    "MSD_HAI <- read.csv(\"/home//jupyter/BRI_Figures_Final_V2/Dataset/HAI/EXP-01111 MSD HAI Data.csv\", skip = 1)\n",
    "\n",
    "#add a percent inhibition column. use H01, G01, H02 and G02 as the blank columns. average them for calibration zero\n",
    "MSD_HAI_good <- MSD_HAI %>%\n",
    "  group_by(Plate.Name, Assay) %>%\n",
    "  mutate(calib_mean = mean(Mean[Well %in% c(\"H01\", \"G01\", \"H02\", \"G02\")], na.rm = TRUE)) %>%\n",
    "  mutate(perc_inhib = (1 - (Mean / calib_mean)) * 100)"
   ]
  },
  {
   "cell_type": "code",
   "execution_count": 6,
   "id": "e0393e24-4bb6-4f3b-ae6b-44132b1e5cbf",
   "metadata": {},
   "outputs": [],
   "source": [
    "# Get plate names\n",
    "plate_names <- unique(MSD_HAI_good$Plate.Name)\n",
    "\n",
    "# Initialize\n",
    "plate_dfs <- list()\n",
    "\n",
    "# Split the data frame by the Plate.Name column and store in the list\n",
    "for (plate in plate_names) {\n",
    "  # Create a subset for each plate\n",
    "  subset_df <- MSD_HAI_good %>% filter(Plate.Name == plate)\n",
    "  \n",
    "  # Create a valid list name by replacing spaces and such\n",
    "  valid_plate_name <- make.names(plate)\n",
    "  \n",
    "  # Store the subset data frame in the list\n",
    "  plate_dfs[[valid_plate_name]] <- subset_df\n",
    "}"
   ]
  },
  {
   "cell_type": "code",
   "execution_count": 7,
   "id": "253635ed-1676-4858-a799-19f4cecde817",
   "metadata": {},
   "outputs": [],
   "source": [
    "# Rename each plate accordingly and make into dataframe\n",
    "Plate_2BMACA7038_data <- as.data.frame(plate_dfs[[make.names(plate_names[3])]])\n",
    "Plate_2BMACA7037_data <- as.data.frame(plate_dfs[[make.names(plate_names[1])]])\n",
    "Plate_2BMACA7036_data <- as.data.frame(plate_dfs[[make.names(plate_names[2])]])"
   ]
  },
  {
   "cell_type": "code",
   "execution_count": 8,
   "id": "0763451e-1444-403a-9e51-984fd043b2a4",
   "metadata": {},
   "outputs": [],
   "source": [
    "# Merge with PBMC-ID data from plate layout\n",
    "plate_7036 <- left_join(Plate_2BMACA7036_data, Plate_2BMACAI036, by = \"Well\")\n",
    "plate_7037 <- left_join(Plate_2BMACA7037_data, Plate_2BMACAI037, by = \"Well\")\n",
    "plate_7038 <- left_join(Plate_2BMACA7038_data, Plate_2BMACA7038, by = \"Well\")"
   ]
  },
  {
   "cell_type": "code",
   "execution_count": 9,
   "id": "82d978ff-1b1f-4373-ad8f-af0cc22e0621",
   "metadata": {},
   "outputs": [
    {
     "name": "stderr",
     "output_type": "stream",
     "text": [
      "\u001b[1m\u001b[22mNew names:\n",
      "\u001b[36m•\u001b[39m `` -> `...1`\n"
     ]
    }
   ],
   "source": [
    "## load pilot data (7 samples each cohort)\n",
    "MSD_pilot_HAI <- read.csv(\"/home//jupyter/BRI_Figures_Final_V2/Dataset/HAI/EXP-01072 MSD Raw Data_pilot2.csv\", skip = 1)\n",
    "\n",
    "#add a percent inhibition column\n",
    "MSD_pilot_HAI_good <- MSD_pilot_HAI %>%\n",
    "                        group_by(Plate.Name, Assay) %>%\n",
    "                        mutate(calib_mean = mean(Mean[Well %in% c(\"H01\", \"H02\")], na.rm = TRUE)) %>%\n",
    "                        mutate(perc_inhib = (1- (Mean / calib_mean))*100)\n",
    "\n",
    "# load plate layout\n",
    "sampleinfo <- \"/home//jupyter/BRI_Figures_Final_V2/Dataset/HAI//HAI_pilot_Sample_Info_031924.xlsx\"\n",
    "data_sheet2 <- read_excel(sampleinfo, sheet = 2)\n",
    "data_sheet2_top <- head(data_sheet2, n = 8)\n",
    "data_sheet2_top <- as.data.frame(data_sheet2_top)\n",
    "rownames(data_sheet2_top) <- data_sheet2_top[[1]]\n",
    "data_sheet2_top <- data_sheet2_top[-1]\n",
    "\n",
    "colnames(data_sheet2_top) <- sprintf(\"%02d\", 1:12)\n",
    "rownames(data_sheet2_top) <- LETTERS[1:8]\n",
    "\n",
    "long_format <- data_sheet2_top %>%\n",
    "    rownames_to_column(var = \"Row\") %>%\n",
    "    gather(key = \"Column\", value = \"pbmc_sample_id\", -Row) %>%\n",
    "    mutate(Well = paste0(Row, Column)) %>%\n",
    "    select(pbmc_sample_id, Well)\n",
    "\n",
    "MSD_pilot_HAI_PBMCs <- left_join(MSD_pilot_HAI_good, long_format, by = \"Well\")\n",
    "\n",
    "MSD_pilot_HAI_PBMCs <- MSD_pilot_HAI_PBMCs %>%\n",
    "  filter(Plate.Name %in% c(\"Plate_2BMACAF015\", \"Plate_2BMACAP012\", \"Plate_2BMACAZ010\"))"
   ]
  },
  {
   "cell_type": "code",
   "execution_count": null,
   "id": "b062e0f2-8bb7-455d-9ad8-48ad6929322f",
   "metadata": {},
   "outputs": [],
   "source": []
  },
  {
   "cell_type": "code",
   "execution_count": 10,
   "id": "8123c681-e69d-4b63-a404-f0d89b56fe71",
   "metadata": {},
   "outputs": [],
   "source": [
    "# combine all three plates\n",
    "plates_combined <- rbind(plate_7036, plate_7037, plate_7038, MSD_pilot_HAI_PBMCs)\n",
    "\n",
    "# change the way pbmc_sample_id are labelled for merging with metadata later\n",
    "plates_combined$pbmc_sample_id <- sub(\"-.*\", \"\", plates_combined$pbmc_sample_id)\n",
    "plates_combined$pbmc_sample_id <- gsub(\"^PL\", \"PB\", plates_combined$pbmc_sample_id)"
   ]
  },
  {
   "cell_type": "code",
   "execution_count": 11,
   "id": "7ea7f126-f62c-41e2-be43-cce8bb6fdb75",
   "metadata": {},
   "outputs": [],
   "source": [
    "# process each plate. keep the mean perc_inhib, and single value\n",
    "plates_combined <- plates_combined %>%\n",
    "  group_by(Assay, pbmc_sample_id) %>%\n",
    "  mutate(Mean_Perc_Inhib = mean(perc_inhib, na.rm = TRUE)) %>%\n",
    "  ungroup()\n",
    "\n",
    "plates_combined <- plates_combined %>%\n",
    "  distinct(Assay, pbmc_sample_id, .keep_all = TRUE)"
   ]
  },
  {
   "cell_type": "code",
   "execution_count": 12,
   "id": "8c4af89e-d656-4346-bbb0-f0a2fb1a6949",
   "metadata": {},
   "outputs": [],
   "source": [
    "plates_combined_merge <- merge(plates_combined, metadata, by = \"pbmc_sample_id\")\n"
   ]
  },
  {
   "cell_type": "code",
   "execution_count": 12,
   "id": "f7f73651-9ed0-44de-87a0-07e1a3850a03",
   "metadata": {},
   "outputs": [],
   "source": [
    "write.csv(plates_combined_merge,\"HAI_Y2020-2021_Phuket.csv\")"
   ]
  },
  {
   "cell_type": "code",
   "execution_count": null,
   "id": "3ce38237-2e43-4c18-931c-2a892d48a738",
   "metadata": {},
   "outputs": [],
   "source": []
  }
 ],
 "metadata": {
  "kernelspec": {
   "display_name": "R 4",
   "language": "R",
   "name": "ir4"
  },
  "language_info": {
   "codemirror_mode": "r",
   "file_extension": ".r",
   "mimetype": "text/x-r-source",
   "name": "R",
   "pygments_lexer": "r",
   "version": "4.3.2"
  }
 },
 "nbformat": 4,
 "nbformat_minor": 5
}
