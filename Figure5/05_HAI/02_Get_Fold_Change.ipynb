{
 "cells": [
  {
   "cell_type": "code",
   "execution_count": 1,
   "id": "79660710-d7b9-4475-9253-6bcb580fcad1",
   "metadata": {},
   "outputs": [
    {
     "name": "stderr",
     "output_type": "stream",
     "text": [
      "\n",
      "Attaching package: ‘dplyr’\n",
      "\n",
      "\n",
      "The following objects are masked from ‘package:stats’:\n",
      "\n",
      "    filter, lag\n",
      "\n",
      "\n",
      "The following objects are masked from ‘package:base’:\n",
      "\n",
      "    intersect, setdiff, setequal, union\n",
      "\n",
      "\n",
      "── \u001b[1mAttaching core tidyverse packages\u001b[22m ──────────────────────── tidyverse 2.0.0 ──\n",
      "\u001b[32m✔\u001b[39m \u001b[34mforcats  \u001b[39m 1.0.0     \u001b[32m✔\u001b[39m \u001b[34mstringr  \u001b[39m 1.5.1\n",
      "\u001b[32m✔\u001b[39m \u001b[34mlubridate\u001b[39m 1.9.3     \u001b[32m✔\u001b[39m \u001b[34mtibble   \u001b[39m 3.2.1\n",
      "\u001b[32m✔\u001b[39m \u001b[34mpurrr    \u001b[39m 1.0.2     \u001b[32m✔\u001b[39m \u001b[34mtidyr    \u001b[39m 1.3.1\n",
      "\u001b[32m✔\u001b[39m \u001b[34mreadr    \u001b[39m 2.1.5     \n",
      "── \u001b[1mConflicts\u001b[22m ────────────────────────────────────────── tidyverse_conflicts() ──\n",
      "\u001b[31m✖\u001b[39m \u001b[34mdplyr\u001b[39m::\u001b[32mfilter()\u001b[39m masks \u001b[34mstats\u001b[39m::filter()\n",
      "\u001b[31m✖\u001b[39m \u001b[34mdplyr\u001b[39m::\u001b[32mlag()\u001b[39m    masks \u001b[34mstats\u001b[39m::lag()\n",
      "\u001b[36mℹ\u001b[39m Use the conflicted package (\u001b[3m\u001b[34m<http://conflicted.r-lib.org/>\u001b[39m\u001b[23m) to force all conflicts to become errors\n",
      "\n",
      "Attaching package: ‘rstatix’\n",
      "\n",
      "\n",
      "The following object is masked from ‘package:stats’:\n",
      "\n",
      "    filter\n",
      "\n",
      "\n"
     ]
    }
   ],
   "source": [
    "library(hise)\n",
    "library(dplyr)\n",
    "library(ggplot2)\n",
    "library(stats)\n",
    "library(tidyverse)\n",
    "library(readxl)\n",
    "library(rstatix)"
   ]
  },
  {
   "cell_type": "code",
   "execution_count": 2,
   "id": "698c5345-5954-40c5-a93d-38590e1acf9c",
   "metadata": {},
   "outputs": [],
   "source": [
    "df <-read.csv('HAI_Y2020-2021.csv')"
   ]
  },
  {
   "cell_type": "code",
   "execution_count": 3,
   "id": "3c102ff0-9557-4a72-913f-e54de1e8c7fd",
   "metadata": {},
   "outputs": [],
   "source": [
    "df<-df %>% filter(Assay=='B/Phuket')"
   ]
  },
  {
   "cell_type": "code",
   "execution_count": 4,
   "id": "a0ce6a49-1ede-41bb-bb63-cfb8361d2575",
   "metadata": {},
   "outputs": [],
   "source": [
    "fold_change_df <- df %>%\n",
    "  select(subject.subjectGuid, sample.visitName, Mean_Perc_Inhib, cohort.cohortGuid) %>%\n",
    "  spread(key = sample.visitName, value = Mean_Perc_Inhib) %>%\n",
    "  rename(Day0 = `Flu Year 1 Day 0`, Day7 = `Flu Year 1 Day 7`) %>%\n",
    "  mutate(fold_change = Day7 - Day0) %>%\n",
    "  select(subject.subjectGuid, fold_change, cohort.cohortGuid,Day7,Day0)"
   ]
  },
  {
   "cell_type": "code",
   "execution_count": 11,
   "id": "b3e7886e-1235-4554-b62d-e7d292b58495",
   "metadata": {},
   "outputs": [],
   "source": [
    "write.csv(fold_change_df,\"FC_phuket.csv\")"
   ]
  },
  {
   "cell_type": "code",
   "execution_count": 8,
   "id": "22b9b7d7-761c-4e52-8a2a-ad43ce05e0e9",
   "metadata": {},
   "outputs": [],
   "source": [
    "df <-read.csv('HAI_Y2020-2021.csv')"
   ]
  },
  {
   "cell_type": "code",
   "execution_count": 9,
   "id": "b15d45fb-47fc-4ba3-afee-40be1305fe14",
   "metadata": {},
   "outputs": [],
   "source": [
    "df<-df %>% filter(Assay=='B/Washington')"
   ]
  },
  {
   "cell_type": "code",
   "execution_count": 10,
   "id": "9e3f929d-bd2c-4978-ad02-e0758a727624",
   "metadata": {},
   "outputs": [],
   "source": [
    "fold_change_df <- df %>%\n",
    "  select(subject.subjectGuid, sample.visitName, Mean_Perc_Inhib, cohort.cohortGuid) %>%\n",
    "  spread(key = sample.visitName, value = Mean_Perc_Inhib) %>%\n",
    "  rename(Day0 = `Flu Year 1 Day 0`, Day7 = `Flu Year 1 Day 7`) %>%\n",
    "  mutate(fold_change = Day7 - Day0) %>%\n",
    "  select(subject.subjectGuid, fold_change, cohort.cohortGuid,Day7,Day0)"
   ]
  },
  {
   "cell_type": "code",
   "execution_count": 11,
   "id": "fc3195c7-51e1-4ff3-b6d6-d2f177a3d31f",
   "metadata": {},
   "outputs": [],
   "source": [
    "write.csv(fold_change_df,\"FC_Washington.csv\")"
   ]
  },
  {
   "cell_type": "code",
   "execution_count": null,
   "id": "c57bf9a9-ed8d-43b4-acc5-c833d3d39aa5",
   "metadata": {},
   "outputs": [],
   "source": []
  }
 ],
 "metadata": {
  "kernelspec": {
   "display_name": "R 4",
   "language": "R",
   "name": "ir4"
  },
  "language_info": {
   "codemirror_mode": "r",
   "file_extension": ".r",
   "mimetype": "text/x-r-source",
   "name": "R",
   "pygments_lexer": "r",
   "version": "4.3.2"
  }
 },
 "nbformat": 4,
 "nbformat_minor": 5
}
