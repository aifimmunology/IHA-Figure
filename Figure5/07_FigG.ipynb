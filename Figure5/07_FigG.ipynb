{
 "cells": [
  {
   "cell_type": "code",
   "execution_count": 1,
   "id": "c4176bed-2209-4a77-87fc-a55f3ae29495",
   "metadata": {},
   "outputs": [
    {
     "name": "stderr",
     "output_type": "stream",
     "text": [
      "Warning message:\n",
      "“package ‘plyr’ was built under R version 4.3.3”\n",
      "Warning message:\n",
      "“package ‘dplyr’ was built under R version 4.3.3”\n",
      "Warning message:\n",
      "“package ‘tidyr’ was built under R version 4.3.3”\n",
      "Warning message:\n",
      "“package ‘tibble’ was built under R version 4.3.3”\n",
      "Loading required package: ggplot2\n",
      "\n",
      "\n",
      "Attaching package: ‘ggpubr’\n",
      "\n",
      "\n",
      "The following object is masked from ‘package:plyr’:\n",
      "\n",
      "    mutate\n",
      "\n",
      "\n"
     ]
    }
   ],
   "source": [
    "suppressPackageStartupMessages(library(plyr))\n",
    "suppressPackageStartupMessages(library(dplyr))\n",
    "suppressPackageStartupMessages(library(tidyr))\n",
    "suppressPackageStartupMessages(library(tibble))\n",
    "library(ggpubr)\n",
    "library(ggplot2)\n"
   ]
  },
  {
   "cell_type": "code",
   "execution_count": 2,
   "id": "da75f379-91aa-4db4-b525-1589e42a38b2",
   "metadata": {},
   "outputs": [],
   "source": [
    "df<-read.csv(\"03_Cytokine_TCR_Stim/Cytokine_Profile.csv\")\n",
    "df$timepoint<-factor(df$timepoint,levels=c(\"4 hrs\", \"24 hrs\"))\n",
    "df$Age_Group<-factor(df$Age_Group,levels=c(\"Young\", \"Older\"))"
   ]
  },
  {
   "cell_type": "code",
   "execution_count": 5,
   "id": "3a8dbed2-3df7-4eb2-b51f-71c9faeb7a00",
   "metadata": {},
   "outputs": [],
   "source": [
    "write.csv(df %>% filter(Cytokine %in% c(\"IL4\"))%>% select(donor,Cytokine,timepoint,Age_Group,Value),\n",
    "          \"/home/workspace/Source_Data/Fig5g.csv\", row.names=FALSE)"
   ]
  },
  {
   "cell_type": "code",
   "execution_count": 4,
   "id": "3aa74bfd-d68d-441d-922d-d00dda8c297f",
   "metadata": {},
   "outputs": [
    {
     "data": {
      "image/png": "[encoded data removed]",
      "text/plain": [
       "plot without title"
      ]
     },
     "metadata": {
      "image/png": {
       "height": 82.6772,
       "width": 129.9213
      }
     },
     "output_type": "display_data"
    }
   ],
   "source": [
    "p<-ggplot(df %>% filter(Cytokine %in% c(\"IL4\")), aes(x = Age_Group, y = log10(Value), \n",
    "                                       fill = `Age_Group`)) +\n",
    "    geom_boxplot(outlier.shape = NA, lwd = 0.3) +\n",
    "    geom_point(color = \"black\", size = 0.5, stroke = 0) +\n",
    "    theme_classic(base_size = 6) +\n",
    "    scale_fill_manual(values = c(Older = \"#bf812d\", \n",
    "                                 Young = \"#35978f\")) +\n",
    "    xlab(\"\") +\n",
    "    ylab(\"\") +\n",
    "    scale_y_continuous(expand = expansion(mult = c(0.1, 0.15))) +\n",
    "    theme(\n",
    "        legend.position = \"top\", legend.title = element_blank(), axis.line = element_line(colour = \"black\"), \n",
    "        panel.grid.major = element_blank(), panel.grid.minor = element_blank(),\n",
    "        panel.border = element_blank(), panel.background = element_blank(), \n",
    "        strip.background = element_rect(linewidth = 0), \n",
    "        axis.title.x = element_text(margin = margin(t = 1))\n",
    "    ) +\n",
    "    stat_compare_means( size = 1.76, label = \"p.format\",bracket.size = 0.2)+ theme(\n",
    "  axis.title   = element_text(color = \"black\"),\n",
    "  axis.text    = element_text(color = \"black\")\n",
    ")+facet_wrap(~timepoint,scale=\"free_y\")\n",
    "options(repr.plot.width = 55/25.4, repr.plot.height = 35/25.4)\n",
    "\n",
    "p\n",
    "ggsave('FigureG.pdf', p, \n",
    "       width = 55/25.4, \n",
    "       height = 35/25.4)"
   ]
  },
  {
   "cell_type": "code",
   "execution_count": null,
   "id": "c4a0716f-33a1-4651-b48b-92b5c04eba6d",
   "metadata": {},
   "outputs": [],
   "source": []
  }
 ],
 "metadata": {
  "kernelspec": {
   "display_name": "R_BRI_Figures",
   "language": "R",
   "name": "r_bri_figures"
  },
  "language_info": {
   "codemirror_mode": "r",
   "file_extension": ".r",
   "mimetype": "text/x-r-source",
   "name": "R",
   "pygments_lexer": "r",
   "version": "4.3.2"
  }
 },
 "nbformat": 4,
 "nbformat_minor": 5
}
