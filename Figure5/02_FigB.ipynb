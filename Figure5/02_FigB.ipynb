{
 "cells": [
  {
   "cell_type": "code",
   "execution_count": 2,
   "id": "ddf02144-a277-49fc-8f54-500c183e21f4",
   "metadata": {},
   "outputs": [
    {
     "name": "stderr",
     "output_type": "stream",
     "text": [
      "Warning message:\n",
      "“package ‘dplyr’ was built under R version 4.3.3”\n",
      "Warning message:\n",
      "“package ‘tidyr’ was built under R version 4.3.3”\n",
      "Warning message:\n",
      "“package ‘tibble’ was built under R version 4.3.3”\n",
      "Warning message:\n",
      "“package ‘stringr’ was built under R version 4.3.3”\n",
      "Warning message:\n",
      "“package ‘gridExtra’ was built under R version 4.3.3”\n",
      "\n",
      "Attaching package: ‘gridExtra’\n",
      "\n",
      "\n",
      "The following object is masked from ‘package:dplyr’:\n",
      "\n",
      "    combine\n",
      "\n",
      "\n",
      "Warning message:\n",
      "“package ‘cowplot’ was built under R version 4.3.3”\n",
      "Warning message:\n",
      "“package ‘patchwork’ was built under R version 4.3.3”\n",
      "\n",
      "Attaching package: ‘patchwork’\n",
      "\n",
      "\n",
      "The following object is masked from ‘package:cowplot’:\n",
      "\n",
      "    align_plots\n",
      "\n",
      "\n",
      "\n",
      "Attaching package: ‘ggpubr’\n",
      "\n",
      "\n",
      "The following object is masked from ‘package:cowplot’:\n",
      "\n",
      "    get_legend\n",
      "\n",
      "\n"
     ]
    }
   ],
   "source": [
    "suppressPackageStartupMessages(library(dplyr))\n",
    "suppressPackageStartupMessages(library(tidyr))\n",
    "suppressPackageStartupMessages(library(tibble))\n",
    "suppressPackageStartupMessages(library(ggplot2))\n",
    "suppressPackageStartupMessages(library(stringr))\n",
    "library(gridExtra)\n",
    "library('ggh4x')\n",
    "library(\"cowplot\")\n",
    "library(patchwork)\n",
    "library(ggpubr)\n",
    "\n",
    "is_dark_color <- function(hex) {\n",
    "  rgb <- col2rgb(hex)\n",
    "  \n",
    "  luminance <- 0.299 * rgb[1,] + 0.587 * rgb[2,] + 0.114 * rgb[3,]\n",
    "  if(luminance < 128){\n",
    "  return('white')\n",
    "  }else{return('black')}\n",
    "}"
   ]
  },
  {
   "cell_type": "code",
   "execution_count": 3,
   "id": "6a57b0f2-342f-4739-b8f4-05af279e30c5",
   "metadata": {},
   "outputs": [],
   "source": [
    "color_annotation <- read.csv('../Color_hex_codes/Cell_Type_Color_Annotation_and_Order.csv')\n",
    "color_vector <- setNames(color_annotation$color, color_annotation$label)"
   ]
  },
  {
   "cell_type": "markdown",
   "id": "0d737201-fbfd-481e-b450-30701ca69a03",
   "metadata": {},
   "source": [
    "# Read NMF Scores"
   ]
  },
  {
   "cell_type": "code",
   "execution_count": 4,
   "id": "22291e4b-abf5-4653-b14e-53a9ed8a6dae",
   "metadata": {},
   "outputs": [],
   "source": [
    "df<-read.csv('01_NMF_CD4_T_cell_Projection//Th2_Th1_Tfh_Baseline_Samples_BRI.csv')"
   ]
  },
  {
   "cell_type": "code",
   "execution_count": 5,
   "id": "7922b04c-65c4-47da-8658-6bbf6a969ff8",
   "metadata": {},
   "outputs": [],
   "source": [
    "df <- df %>% dplyr::mutate(`Age Group` = case_when(\n",
    "  cohort.cohortGuid == \"BR1\" ~ \"Young\",\n",
    "  cohort.cohortGuid == \"BR2\" ~ \"Older\",\n",
    "  TRUE ~ NA_character_\n",
    "))\n",
    "df$`Age Group`<-factor(df$`Age Group`,levels=c(\"Young\",\"Older\"))"
   ]
  },
  {
   "cell_type": "code",
   "execution_count": 6,
   "id": "84efeeba-ccc0-46ba-b9b5-aeaa0a6bbc0b",
   "metadata": {},
   "outputs": [
    {
     "data": {
      "text/html": [
       "<style>\n",
       ".list-inline {list-style: none; margin:0; padding: 0}\n",
       ".list-inline>li {display: inline-block}\n",
       ".list-inline>li:not(:last-child)::after {content: \"\\00b7\"; padding: 0 .5ex}\n",
       "</style>\n",
       "<ol class=list-inline><li>'NMF11_Th1'</li><li>'NMF5_Th2'</li><li>'NMF6_Tfh'</li></ol>\n"
      ],
      "text/latex": [
       "\\begin{enumerate*}\n",
       "\\item 'NMF11\\_Th1'\n",
       "\\item 'NMF5\\_Th2'\n",
       "\\item 'NMF6\\_Tfh'\n",
       "\\end{enumerate*}\n"
      ],
      "text/markdown": [
       "1. 'NMF11_Th1'\n",
       "2. 'NMF5_Th2'\n",
       "3. 'NMF6_Tfh'\n",
       "\n",
       "\n"
      ],
      "text/plain": [
       "[1] \"NMF11_Th1\" \"NMF5_Th2\"  \"NMF6_Tfh\" "
      ]
     },
     "metadata": {},
     "output_type": "display_data"
    }
   ],
   "source": [
    "unique(df$NMF_Scores)"
   ]
  },
  {
   "cell_type": "code",
   "execution_count": 7,
   "id": "456c86f2-fe43-48b1-a57f-4f77fcbe44e4",
   "metadata": {},
   "outputs": [],
   "source": [
    "df_sub_Th2<-df %>% filter(NMF_Scores=='NMF5_Th2',AverageScore<0.1)\n",
    "df_sub_Th1<-df %>% filter(NMF_Scores=='NMF11_Th1')"
   ]
  },
  {
   "cell_type": "code",
   "execution_count": 8,
   "id": "3f91f6b9-e63e-4581-af35-e991af044834",
   "metadata": {},
   "outputs": [
    {
     "data": {
      "text/html": [
       "<table class=\"dataframe\">\n",
       "<caption>A data.frame: 6 × 37</caption>\n",
       "<thead>\n",
       "\t<tr><th></th><th scope=col>X.1</th><th scope=col>pbmc_sample_id</th><th scope=col>NMF_Scores</th><th scope=col>AIFI_L3</th><th scope=col>AverageScore</th><th scope=col>X</th><th scope=col>Unnamed..0</th><th scope=col>lastUpdated</th><th scope=col>sample.id</th><th scope=col>sample.bridgingControl</th><th scope=col>⋯</th><th scope=col>subject.race</th><th scope=col>subject.subjectGuid</th><th scope=col>cohort.cohortGuid</th><th scope=col>sample.diseaseStatesRecordedAtVisit</th><th scope=col>subject.covidVaxDose1.daysSinceFirstVisit</th><th scope=col>subject.covidVaxDose2.daysSinceFirstVisit</th><th scope=col>Covid_exclusion</th><th scope=col>subjectGuid</th><th scope=col>CMV</th><th scope=col>Age Group</th></tr>\n",
       "\t<tr><th></th><th scope=col>&lt;int&gt;</th><th scope=col>&lt;chr&gt;</th><th scope=col>&lt;chr&gt;</th><th scope=col>&lt;chr&gt;</th><th scope=col>&lt;dbl&gt;</th><th scope=col>&lt;int&gt;</th><th scope=col>&lt;int&gt;</th><th scope=col>&lt;chr&gt;</th><th scope=col>&lt;chr&gt;</th><th scope=col>&lt;chr&gt;</th><th scope=col>⋯</th><th scope=col>&lt;chr&gt;</th><th scope=col>&lt;chr&gt;</th><th scope=col>&lt;chr&gt;</th><th scope=col>&lt;lgl&gt;</th><th scope=col>&lt;int&gt;</th><th scope=col>&lt;int&gt;</th><th scope=col>&lt;chr&gt;</th><th scope=col>&lt;chr&gt;</th><th scope=col>&lt;chr&gt;</th><th scope=col>&lt;fct&gt;</th></tr>\n",
       "</thead>\n",
       "<tbody>\n",
       "\t<tr><th scope=row>1</th><td> 2</td><td>PB00001-01</td><td>NMF5_Th2</td><td>CM CD4 T cell</td><td>0.02702291</td><td>0</td><td>1</td><td>2024-05-10T17:12:44.959Z</td><td>f499ff83-e513-4d24-a10f-151348269fff</td><td>False</td><td>⋯</td><td>Caucasian</td><td>BR1001</td><td>BR1</td><td>NA</td><td> NA</td><td> NA</td><td>no</td><td>BR1001</td><td>Negative</td><td>Young</td></tr>\n",
       "\t<tr><th scope=row>2</th><td> 5</td><td>PB00002-01</td><td>NMF5_Th2</td><td>CM CD4 T cell</td><td>0.02641466</td><td>1</td><td>2</td><td>2024-05-10T17:12:44.959Z</td><td>750e90a9-a296-4f0f-969f-60225c2bca17</td><td>False</td><td>⋯</td><td>Caucasian</td><td>BR1002</td><td>BR1</td><td>NA</td><td>440</td><td>461</td><td>no</td><td>BR1002</td><td>Negative</td><td>Young</td></tr>\n",
       "\t<tr><th scope=row>3</th><td> 8</td><td>PB00003-01</td><td>NMF5_Th2</td><td>CM CD4 T cell</td><td>0.02087501</td><td>2</td><td>3</td><td>2024-05-10T17:12:44.959Z</td><td>2db6fb3f-e3f4-454b-891b-9b068541b51d</td><td>False</td><td>⋯</td><td>Caucasian</td><td>BR1003</td><td>BR1</td><td>NA</td><td>440</td><td>461</td><td>no</td><td>BR1003</td><td>Negative</td><td>Young</td></tr>\n",
       "\t<tr><th scope=row>4</th><td>11</td><td>PB00004-01</td><td>NMF5_Th2</td><td>CM CD4 T cell</td><td>0.01579497</td><td>3</td><td>4</td><td>2024-05-10T17:12:44.959Z</td><td>f04693c5-563c-4b5b-ae58-877d0d9ae2fe</td><td>False</td><td>⋯</td><td>Caucasian</td><td>BR1004</td><td>BR1</td><td>NA</td><td>543</td><td>563</td><td>no</td><td>BR1004</td><td>Negative</td><td>Young</td></tr>\n",
       "\t<tr><th scope=row>5</th><td>14</td><td>PB00006-01</td><td>NMF5_Th2</td><td>CM CD4 T cell</td><td>0.03070205</td><td>4</td><td>5</td><td>2024-05-10T17:12:44.959Z</td><td>eb5b3a3d-002e-40a6-aa19-aa0e6a7fff8f</td><td>False</td><td>⋯</td><td>Caucasian</td><td>BR1005</td><td>BR1</td><td>NA</td><td>451</td><td>492</td><td>no</td><td>BR1005</td><td>Negative</td><td>Young</td></tr>\n",
       "\t<tr><th scope=row>6</th><td>17</td><td>PB00010-02</td><td>NMF5_Th2</td><td>CM CD4 T cell</td><td>0.01994635</td><td>8</td><td>9</td><td>2024-05-10T17:12:44.959Z</td><td>f32ac061-0ede-4040-8d8c-35229ea5229c</td><td>False</td><td>⋯</td><td>Caucasian</td><td>BR1006</td><td>BR1</td><td>NA</td><td>510</td><td>538</td><td>no</td><td>BR1006</td><td>Negative</td><td>Young</td></tr>\n",
       "</tbody>\n",
       "</table>\n"
      ],
      "text/latex": [
       "A data.frame: 6 × 37\n",
       "\\begin{tabular}{r|lllllllllllllllllllll}\n",
       "  & X.1 & pbmc\\_sample\\_id & NMF\\_Scores & AIFI\\_L3 & AverageScore & X & Unnamed..0 & lastUpdated & sample.id & sample.bridgingControl & ⋯ & subject.race & subject.subjectGuid & cohort.cohortGuid & sample.diseaseStatesRecordedAtVisit & subject.covidVaxDose1.daysSinceFirstVisit & subject.covidVaxDose2.daysSinceFirstVisit & Covid\\_exclusion & subjectGuid & CMV & Age Group\\\\\n",
       "  & <int> & <chr> & <chr> & <chr> & <dbl> & <int> & <int> & <chr> & <chr> & <chr> & ⋯ & <chr> & <chr> & <chr> & <lgl> & <int> & <int> & <chr> & <chr> & <chr> & <fct>\\\\\n",
       "\\hline\n",
       "\t1 &  2 & PB00001-01 & NMF5\\_Th2 & CM CD4 T cell & 0.02702291 & 0 & 1 & 2024-05-10T17:12:44.959Z & f499ff83-e513-4d24-a10f-151348269fff & False & ⋯ & Caucasian & BR1001 & BR1 & NA &  NA &  NA & no & BR1001 & Negative & Young\\\\\n",
       "\t2 &  5 & PB00002-01 & NMF5\\_Th2 & CM CD4 T cell & 0.02641466 & 1 & 2 & 2024-05-10T17:12:44.959Z & 750e90a9-a296-4f0f-969f-60225c2bca17 & False & ⋯ & Caucasian & BR1002 & BR1 & NA & 440 & 461 & no & BR1002 & Negative & Young\\\\\n",
       "\t3 &  8 & PB00003-01 & NMF5\\_Th2 & CM CD4 T cell & 0.02087501 & 2 & 3 & 2024-05-10T17:12:44.959Z & 2db6fb3f-e3f4-454b-891b-9b068541b51d & False & ⋯ & Caucasian & BR1003 & BR1 & NA & 440 & 461 & no & BR1003 & Negative & Young\\\\\n",
       "\t4 & 11 & PB00004-01 & NMF5\\_Th2 & CM CD4 T cell & 0.01579497 & 3 & 4 & 2024-05-10T17:12:44.959Z & f04693c5-563c-4b5b-ae58-877d0d9ae2fe & False & ⋯ & Caucasian & BR1004 & BR1 & NA & 543 & 563 & no & BR1004 & Negative & Young\\\\\n",
       "\t5 & 14 & PB00006-01 & NMF5\\_Th2 & CM CD4 T cell & 0.03070205 & 4 & 5 & 2024-05-10T17:12:44.959Z & eb5b3a3d-002e-40a6-aa19-aa0e6a7fff8f & False & ⋯ & Caucasian & BR1005 & BR1 & NA & 451 & 492 & no & BR1005 & Negative & Young\\\\\n",
       "\t6 & 17 & PB00010-02 & NMF5\\_Th2 & CM CD4 T cell & 0.01994635 & 8 & 9 & 2024-05-10T17:12:44.959Z & f32ac061-0ede-4040-8d8c-35229ea5229c & False & ⋯ & Caucasian & BR1006 & BR1 & NA & 510 & 538 & no & BR1006 & Negative & Young\\\\\n",
       "\\end{tabular}\n"
      ],
      "text/markdown": [
       "\n",
       "A data.frame: 6 × 37\n",
       "\n",
       "| <!--/--> | X.1 &lt;int&gt; | pbmc_sample_id &lt;chr&gt; | NMF_Scores &lt;chr&gt; | AIFI_L3 &lt;chr&gt; | AverageScore &lt;dbl&gt; | X &lt;int&gt; | Unnamed..0 &lt;int&gt; | lastUpdated &lt;chr&gt; | sample.id &lt;chr&gt; | sample.bridgingControl &lt;chr&gt; | ⋯ ⋯ | subject.race &lt;chr&gt; | subject.subjectGuid &lt;chr&gt; | cohort.cohortGuid &lt;chr&gt; | sample.diseaseStatesRecordedAtVisit &lt;lgl&gt; | subject.covidVaxDose1.daysSinceFirstVisit &lt;int&gt; | subject.covidVaxDose2.daysSinceFirstVisit &lt;int&gt; | Covid_exclusion &lt;chr&gt; | subjectGuid &lt;chr&gt; | CMV &lt;chr&gt; | Age Group &lt;fct&gt; |\n",
       "|---|---|---|---|---|---|---|---|---|---|---|---|---|---|---|---|---|---|---|---|---|---|\n",
       "| 1 |  2 | PB00001-01 | NMF5_Th2 | CM CD4 T cell | 0.02702291 | 0 | 1 | 2024-05-10T17:12:44.959Z | f499ff83-e513-4d24-a10f-151348269fff | False | ⋯ | Caucasian | BR1001 | BR1 | NA |  NA |  NA | no | BR1001 | Negative | Young |\n",
       "| 2 |  5 | PB00002-01 | NMF5_Th2 | CM CD4 T cell | 0.02641466 | 1 | 2 | 2024-05-10T17:12:44.959Z | 750e90a9-a296-4f0f-969f-60225c2bca17 | False | ⋯ | Caucasian | BR1002 | BR1 | NA | 440 | 461 | no | BR1002 | Negative | Young |\n",
       "| 3 |  8 | PB00003-01 | NMF5_Th2 | CM CD4 T cell | 0.02087501 | 2 | 3 | 2024-05-10T17:12:44.959Z | 2db6fb3f-e3f4-454b-891b-9b068541b51d | False | ⋯ | Caucasian | BR1003 | BR1 | NA | 440 | 461 | no | BR1003 | Negative | Young |\n",
       "| 4 | 11 | PB00004-01 | NMF5_Th2 | CM CD4 T cell | 0.01579497 | 3 | 4 | 2024-05-10T17:12:44.959Z | f04693c5-563c-4b5b-ae58-877d0d9ae2fe | False | ⋯ | Caucasian | BR1004 | BR1 | NA | 543 | 563 | no | BR1004 | Negative | Young |\n",
       "| 5 | 14 | PB00006-01 | NMF5_Th2 | CM CD4 T cell | 0.03070205 | 4 | 5 | 2024-05-10T17:12:44.959Z | eb5b3a3d-002e-40a6-aa19-aa0e6a7fff8f | False | ⋯ | Caucasian | BR1005 | BR1 | NA | 451 | 492 | no | BR1005 | Negative | Young |\n",
       "| 6 | 17 | PB00010-02 | NMF5_Th2 | CM CD4 T cell | 0.01994635 | 8 | 9 | 2024-05-10T17:12:44.959Z | f32ac061-0ede-4040-8d8c-35229ea5229c | False | ⋯ | Caucasian | BR1006 | BR1 | NA | 510 | 538 | no | BR1006 | Negative | Young |\n",
       "\n"
      ],
      "text/plain": [
       "  X.1 pbmc_sample_id NMF_Scores AIFI_L3       AverageScore X Unnamed..0\n",
       "1  2  PB00001-01     NMF5_Th2   CM CD4 T cell 0.02702291   0 1         \n",
       "2  5  PB00002-01     NMF5_Th2   CM CD4 T cell 0.02641466   1 2         \n",
       "3  8  PB00003-01     NMF5_Th2   CM CD4 T cell 0.02087501   2 3         \n",
       "4 11  PB00004-01     NMF5_Th2   CM CD4 T cell 0.01579497   3 4         \n",
       "5 14  PB00006-01     NMF5_Th2   CM CD4 T cell 0.03070205   4 5         \n",
       "6 17  PB00010-02     NMF5_Th2   CM CD4 T cell 0.01994635   8 9         \n",
       "  lastUpdated              sample.id                           \n",
       "1 2024-05-10T17:12:44.959Z f499ff83-e513-4d24-a10f-151348269fff\n",
       "2 2024-05-10T17:12:44.959Z 750e90a9-a296-4f0f-969f-60225c2bca17\n",
       "3 2024-05-10T17:12:44.959Z 2db6fb3f-e3f4-454b-891b-9b068541b51d\n",
       "4 2024-05-10T17:12:44.959Z f04693c5-563c-4b5b-ae58-877d0d9ae2fe\n",
       "5 2024-05-10T17:12:44.959Z eb5b3a3d-002e-40a6-aa19-aa0e6a7fff8f\n",
       "6 2024-05-10T17:12:44.959Z f32ac061-0ede-4040-8d8c-35229ea5229c\n",
       "  sample.bridgingControl ⋯ subject.race subject.subjectGuid cohort.cohortGuid\n",
       "1 False                  ⋯ Caucasian    BR1001              BR1              \n",
       "2 False                  ⋯ Caucasian    BR1002              BR1              \n",
       "3 False                  ⋯ Caucasian    BR1003              BR1              \n",
       "4 False                  ⋯ Caucasian    BR1004              BR1              \n",
       "5 False                  ⋯ Caucasian    BR1005              BR1              \n",
       "6 False                  ⋯ Caucasian    BR1006              BR1              \n",
       "  sample.diseaseStatesRecordedAtVisit subject.covidVaxDose1.daysSinceFirstVisit\n",
       "1 NA                                   NA                                      \n",
       "2 NA                                  440                                      \n",
       "3 NA                                  440                                      \n",
       "4 NA                                  543                                      \n",
       "5 NA                                  451                                      \n",
       "6 NA                                  510                                      \n",
       "  subject.covidVaxDose2.daysSinceFirstVisit Covid_exclusion subjectGuid\n",
       "1  NA                                       no              BR1001     \n",
       "2 461                                       no              BR1002     \n",
       "3 461                                       no              BR1003     \n",
       "4 563                                       no              BR1004     \n",
       "5 492                                       no              BR1005     \n",
       "6 538                                       no              BR1006     \n",
       "  CMV      Age Group\n",
       "1 Negative Young    \n",
       "2 Negative Young    \n",
       "3 Negative Young    \n",
       "4 Negative Young    \n",
       "5 Negative Young    \n",
       "6 Negative Young    "
      ]
     },
     "metadata": {},
     "output_type": "display_data"
    }
   ],
   "source": [
    "head(df_sub_Th2)"
   ]
  },
  {
   "cell_type": "code",
   "execution_count": 11,
   "id": "8f7288ce-9b0f-41e9-8da4-7502f73276ea",
   "metadata": {},
   "outputs": [],
   "source": [
    "write.csv(rbind(df_sub_Th2,df_sub_Th1) %>% select(subject.subjectGuid,sample.daysSinceFirstVisit,pbmc_sample_id,AIFI_L3,NMF_Scores, `Age Group`,AverageScore) ,\n",
    "          \"/home/workspace/Source_Data/Fig5b.csv\", row.names=FALSE)"
   ]
  },
  {
   "cell_type": "code",
   "execution_count": 7,
   "id": "1c4d6c81-0c44-4cec-8bac-1a4edc79d2ee",
   "metadata": {},
   "outputs": [],
   "source": [
    "selected_celltype<-\"CM CD4 T cell\""
   ]
  },
  {
   "cell_type": "code",
   "execution_count": 19,
   "id": "7919afdc-db88-4ea2-8d79-1b090d0186eb",
   "metadata": {},
   "outputs": [
    {
     "name": "stderr",
     "output_type": "stream",
     "text": [
      "\u001b[1m\u001b[22m`geom_smooth()` using formula = 'y ~ x'\n"
     ]
    },
    {
     "data": {
      "image/png": "[encoded data removed]",
      "text/plain": [
       "plot without title"
      ]
     },
     "metadata": {
      "image/png": {
       "height": 66.1417,
       "width": 111.0236
      }
     },
     "output_type": "display_data"
    }
   ],
   "source": [
    "\n",
    "p1 <- ggplot(df_sub_Th1 , aes(sample.daysSinceFirstVisit, AverageScore, color = `Age Group`)) +\n",
    "geom_line(aes(group = interaction(`Age Group`, subject.subjectGuid)), \n",
    "              linewidth=0.1, \n",
    "              alpha=0.5,\n",
    "              linetype =1)+\n",
    "  ylab('Th1 Score') +xlab('Days since First Draw') +\n",
    "  theme_bw(base_size = 6) +\n",
    "  theme(\n",
    "    axis.line = element_line(colour = \"black\"),\n",
    "    panel.grid.major = element_blank(),\n",
    "    panel.grid.minor = element_blank(),\n",
    "    panel.border = element_blank(),\n",
    "    panel.background = element_blank()\n",
    "  ) + \n",
    "  scale_color_manual(values = c(\"Older\" = '#bf812d', \"Young\" = '#35978f')) +\n",
    "  geom_smooth(method = \"lm\", se = TRUE, \n",
    "              linewidth = 0.3) +\n",
    "  facet_wrap2(~AIFI_L3, axes = \"all\", \n",
    "              remove_labels = \"all\", ncol = 1, scale = 'free_y') +\n",
    "  theme(\n",
    "    panel.grid.major = element_blank(),\n",
    "    panel.grid.minor = element_blank(),\n",
    "    strip.background = element_rect(fill = adjustcolor(color_vector[selected_celltype], alpha.f = 0.8), color = NA),\n",
    "    strip.text = element_text(color = is_dark_color(adjustcolor(color_vector[selected_celltype], alpha.f = 0.8)))\n",
    "  ) +\n",
    "  xlab('') +\n",
    "  theme(legend.position = \"none\") +\n",
    "  stat_cor(data = df_sub_Th1 %>% filter( `Age Group` == \"Older\"),\n",
    "           method = \"spearman\",\n",
    "           label.x.npc = \"left\",\n",
    "            label.y = 0.12 * 1.1,\n",
    "           size = 2.1, color = '#bf812d') +\n",
    "  stat_cor(data = df_sub_Th1 %>% filter( `Age Group` == \"Young\"),\n",
    "           method = \"spearman\",\n",
    "           label.x.npc = \"left\",\n",
    "           label.y = 0.12 * 1.25,\n",
    "           size = 2.1, color = '#35978f')+  \n",
    "scale_x_continuous(expand = expansion(mult = c(0.1, 0.15))) \n",
    "\n",
    "\n",
    "p2 <- ggplot(df_sub_Th1 , aes(AverageScore, fill = `Age Group`, color = `Age Group`)) +\n",
    "  geom_density(alpha = 0.5, linewidth = 0.5) +\n",
    "  scale_fill_manual(values = c(\"Older\" = '#bf812d', \"Young\" = '#35978f')) +\n",
    "  scale_color_manual(values = c(\"Older\" = '#bf812d', \"Young\" = '#35978f')) +\n",
    "  coord_flip() +\n",
    "  theme_void(base_size = 8) +\n",
    "  theme(legend.position = \"none\") +\n",
    "  theme(plot.margin = margin(0, 0, 0, -1, \"mm\"))+  \n",
    "scale_x_continuous(expand = expansion(mult = c(0.1, 0.15))) \n",
    "\n",
    "\n",
    "combined_plot <- plot_grid(p1,\n",
    "                           p2,\n",
    "                           ncol = 2, \n",
    "                           rel_widths = c(10, 0.4), \n",
    "                           align = 'h', \n",
    "                           axis = 'tb')\n",
    "options(repr.plot.width = 47/25.4, repr.plot.height = 28/25.4)\n",
    "\n",
    "combined_plot\n",
    "ggsave('FigureE-1.pdf',combined_plot,width = 47/25.4,\n",
    "       height = 28/25.4)"
   ]
  },
  {
   "cell_type": "code",
   "execution_count": 20,
   "id": "28b1ae98-cf69-4c3e-99b4-e4d267db7b5c",
   "metadata": {},
   "outputs": [
    {
     "name": "stderr",
     "output_type": "stream",
     "text": [
      "\u001b[1m\u001b[22m`geom_smooth()` using formula = 'y ~ x'\n"
     ]
    },
    {
     "data": {
      "image/png": "[encoded data removed]",
      "text/plain": [
       "plot without title"
      ]
     },
     "metadata": {
      "image/png": {
       "height": 66.1417,
       "width": 111.0236
      }
     },
     "output_type": "display_data"
    }
   ],
   "source": [
    "p1 <- ggplot(df_sub_Th2 , aes(sample.daysSinceFirstVisit, AverageScore, color = `Age Group`)) +\n",
    "geom_line(aes(group = interaction(`Age Group`, subject.subjectGuid)), \n",
    "              linewidth=0.1, \n",
    "              alpha=0.5,\n",
    "              linetype =1)+\n",
    "  ylab('Th2 Score') +xlab('Days since First Draw') +\n",
    "  theme_bw(base_size = 6) +\n",
    "  theme(\n",
    "    axis.line = element_line(colour = \"black\"),\n",
    "    panel.grid.major = element_blank(),\n",
    "    panel.grid.minor = element_blank(),\n",
    "    panel.border = element_blank(),\n",
    "    panel.background = element_blank()\n",
    "  ) + \n",
    "  scale_color_manual(values = c(\"Older\" = '#bf812d', \"Young\" = '#35978f')) +\n",
    "  geom_smooth(method = \"lm\", se = TRUE, \n",
    "              linewidth = 0.3) +\n",
    "  facet_wrap2(~AIFI_L3, axes = \"all\", \n",
    "              remove_labels = \"all\", ncol = 1, scale = 'free_y') +\n",
    "  theme(\n",
    "    panel.grid.major = element_blank(),\n",
    "    panel.grid.minor = element_blank(),\n",
    "    strip.background = element_rect(fill = adjustcolor(color_vector[selected_celltype], alpha.f = 0.8), color = NA),\n",
    "    strip.text = element_text(color = is_dark_color(adjustcolor(color_vector[selected_celltype], alpha.f = 0.8)))\n",
    "  ) +\n",
    "  xlab('') +\n",
    "  theme(legend.position = \"none\") +\n",
    "  stat_cor(data = df_sub_Th2 %>% filter( `Age Group` == \"Older\"),\n",
    "           method = \"spearman\",\n",
    "           label.x.npc = \"left\",\n",
    "            label.y = 0.05 * 1.1,\n",
    "           size = 2.1, color = '#bf812d') +\n",
    "  stat_cor(data = df_sub_Th2 %>% filter( `Age Group` == \"Young\"),\n",
    "           method = \"spearman\",\n",
    "           label.x.npc = \"left\",\n",
    "           label.y = 0.05 * 1.25,\n",
    "           size = 2.1, color = '#35978f')+  \n",
    "scale_x_continuous(expand = expansion(mult = c(0.1, 0.2))) \n",
    "\n",
    "\n",
    "p2 <- ggplot(df_sub_Th2 , aes(AverageScore, fill = `Age Group`, color = `Age Group`)) +\n",
    "  geom_density(alpha = 0.5, linewidth = 0.5) +\n",
    "  scale_fill_manual(values = c(\"Older\" = '#bf812d', \"Young\" = '#35978f')) +\n",
    "  scale_color_manual(values = c(\"Older\" = '#bf812d', \"Young\" = '#35978f')) +\n",
    "  coord_flip() +\n",
    "  theme_void(base_size = 8) +\n",
    "  theme(legend.position = \"none\") +\n",
    "  theme(plot.margin = margin(0, 0, 0, -1, \"mm\"))+  \n",
    "scale_x_continuous(expand = expansion(mult = c(0.1, 0.15))) \n",
    "\n",
    "\n",
    "combined_plot <- plot_grid(p1,\n",
    "                           p2,\n",
    "                           ncol = 2, \n",
    "                           rel_widths = c(10, 0.4), \n",
    "                           align = 'h', \n",
    "                           axis = 'tb')\n",
    "options(repr.plot.width = 47/25.4, repr.plot.height = 28/25.4)\n",
    "\n",
    "combined_plot\n",
    "ggsave('FigureE-2.pdf',combined_plot,width = 47/25.4,height = 28/25.4)"
   ]
  },
  {
   "cell_type": "code",
   "execution_count": null,
   "id": "4149753b-7684-418b-a459-705bce5f8714",
   "metadata": {},
   "outputs": [],
   "source": []
  }
 ],
 "metadata": {
  "kernelspec": {
   "display_name": "R_BRI_Figures",
   "language": "R",
   "name": "r_bri_figures"
  },
  "language_info": {
   "codemirror_mode": "r",
   "file_extension": ".r",
   "mimetype": "text/x-r-source",
   "name": "R",
   "pygments_lexer": "r",
   "version": "4.3.2"
  }
 },
 "nbformat": 4,
 "nbformat_minor": 5
}
