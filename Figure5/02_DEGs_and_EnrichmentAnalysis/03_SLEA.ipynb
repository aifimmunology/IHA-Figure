{
 "cells": [
  {
   "cell_type": "code",
   "execution_count": 83,
   "id": "2ad6fd00-c222-47ca-9dbe-34ea44fee937",
   "metadata": {},
   "outputs": [],
   "source": [
    "suppressPackageStartupMessages(library(dplyr))\n",
    "suppressPackageStartupMessages(library(tidyr))\n",
    "suppressPackageStartupMessages(library(tibble))\n",
    "suppressPackageStartupMessages(library(stringr))\n",
    "library(parallel)\n",
    "library(fgsea)\n",
    "library(data.table)\n",
    "source('/home//jupyter/BRI_Figures_Final_V2/helper_function/helper_function_IHA.r')"
   ]
  },
  {
   "cell_type": "code",
   "execution_count": 84,
   "id": "564d1f09-9cb2-4df0-a7a3-34b01ff286ac",
   "metadata": {},
   "outputs": [],
   "source": [
    "meta_data=read.csv(\"/home/jupyter/BRI_Figures_Final_V2/Figure5/01_Frequency_Comparison/selected_samples_with_acutal_flu_year.csv\")"
   ]
  },
  {
   "cell_type": "code",
   "execution_count": 85,
   "id": "8c91f889-e387-4ffa-9860-87fe549c140d",
   "metadata": {},
   "outputs": [
    {
     "name": "stdout",
     "output_type": "stream",
     "text": [
      "[1] \"Total reading time: 15.9849999999997 seconds\"\n",
      "[1] \"The length of the list matches the length of the input path.\"\n"
     ]
    }
   ],
   "source": [
    "file_list<-paste0(\"/home/jupyter/BRI_Figures_Final_V2/Dataset/scRNA/BRI/Average_LogNormalized_Expression/Average_LogNormalized_Expression_of_Celltypes_by_Sample_AIFI_L3/\",meta_data$pbmc_sample_id,\".csv\")\n",
    "\n",
    "df_list<-read_pseudobulk_expression(file_list)\n"
   ]
  },
  {
   "cell_type": "code",
   "execution_count": 86,
   "id": "861860de-f801-4d87-87aa-c4aeb6df7908",
   "metadata": {},
   "outputs": [],
   "source": [
    "background_gene<-read.csv('filtered_gene_Y2020-2021_Y2021-2022_D7.csv') %>% filter(AIFI_L3=='CD27- effector B cell')"
   ]
  },
  {
   "cell_type": "code",
   "execution_count": 87,
   "id": "26b7203f-48cd-486c-a563-7b0857f325ad",
   "metadata": {},
   "outputs": [],
   "source": [
    "gene_set<-read.csv('gsea_result.csv') %>% filter(pathway=='HALLMARK_REACTIVE_OXYGEN_SPECIES_PATHWAY',celltype=='CD27- effector B cell')\n",
    "gene_vector <- eval(parse(text = gene_set$leadingEdge))"
   ]
  },
  {
   "cell_type": "code",
   "execution_count": 88,
   "id": "45aa526c-4d9a-403d-8eb4-a8bbce8c60f3",
   "metadata": {},
   "outputs": [],
   "source": [
    "  \n",
    "celltype_list <- lapply(df_list, function(df) { df <- df[background_gene$gene, grep('CD27- effector B cell', names(df), fixed = TRUE),drop=FALSE] })\n"
   ]
  },
  {
   "cell_type": "code",
   "execution_count": 89,
   "id": "1ae2fc74-532f-4d10-890c-e635a22db1ed",
   "metadata": {},
   "outputs": [],
   "source": [
    "exp_matrix<-do.call(cbind,celltype_list)\n",
    "\n",
    "colnames(exp_matrix)<-sub(\":.*\", \"\", colnames(exp_matrix))\n",
    "rownames(meta_data)<-meta_data$pbmc_sample_id"
   ]
  },
  {
   "cell_type": "code",
   "execution_count": 92,
   "id": "1236582b-0716-4029-85f9-833d950929a0",
   "metadata": {},
   "outputs": [],
   "source": [
    "# SLEA - assigning pathway scores\n",
    "doSLEA <- function(expressionSet, geneSet) {\n",
    "  # scale expression\n",
    "  exprsMat <- expressionSet\n",
    "  # exprsMat <- t(scale(t(exprsMat)))\n",
    "  # extract expression of leGenes of each geneset\n",
    "  comm <- intersect(geneSet, rownames(expressionSet))\n",
    "  gsDF <- exprsMat[comm, ]\n",
    "  # calculate mean expression per sample\n",
    "  gsM <- colMeans(gsDF)\n",
    "  # extract random genes of size of the geneSet from full probeset and calculate mean\n",
    "  # and perform this for 'n' permutations\n",
    "  nperm <- lapply(1:1000, function(j) {\n",
    "    # set seed for every permutation\n",
    "    set.seed(j)\n",
    "    rGSDF <- exprsMat[sample.int(nrow(exprsMat),length(comm)), ]\n",
    "    rGSM <- colMeans(rGSDF)\n",
    "    return(value = rGSM)\n",
    "  })\n",
    "  permDF <- do.call(rbind, nperm)\n",
    "  zscore <- (gsM - colMeans(permDF)) / apply(permDF,2,sd)\n",
    "  sleaDF <- zscore %>% as.data.frame()\n",
    "  return(value = sleaDF)\n",
    "}"
   ]
  },
  {
   "cell_type": "code",
   "execution_count": 93,
   "id": "39bc2366-23ba-4977-b519-a6e774a415c3",
   "metadata": {},
   "outputs": [],
   "source": [
    "res<-doSLEA(exp_matrix,gene_vector)"
   ]
  },
  {
   "cell_type": "code",
   "execution_count": 94,
   "id": "6bd30a9c-34e2-4f52-a57d-2dc359bbe5c2",
   "metadata": {},
   "outputs": [],
   "source": [
    "colnames(res)<-\"pathway_score\""
   ]
  },
  {
   "cell_type": "code",
   "execution_count": 95,
   "id": "5be52f19-fbbe-446d-88c9-d03f42f20e01",
   "metadata": {},
   "outputs": [
    {
     "name": "stderr",
     "output_type": "stream",
     "text": [
      "\u001b[1m\u001b[22mJoining with `by = join_by(pbmc_sample_id)`\n"
     ]
    }
   ],
   "source": [
    "res$pbmc_sample_id<-rownames(res)\n",
    "res<-left_join(res,meta_data)"
   ]
  },
  {
   "cell_type": "code",
   "execution_count": 96,
   "id": "a3aa0cd7-105b-4010-a82f-94fc8e76058c",
   "metadata": {},
   "outputs": [
    {
     "name": "stderr",
     "output_type": "stream",
     "text": [
      "\u001b[1m\u001b[22m`summarise()` has grouped output by 'Flu_Year', 'Flu_Day'. You can override\n",
      "using the `.groups` argument.\n"
     ]
    }
   ],
   "source": [
    "res_summary<-res %>% group_by(Flu_Year,Flu_Day,cohort.cohortGuid) %>% summarise(mean_pathway_score=mean(pathway_score) )"
   ]
  },
  {
   "cell_type": "code",
   "execution_count": 97,
   "id": "4fa54223-3555-483e-95fb-52b75ded7fbf",
   "metadata": {},
   "outputs": [],
   "source": [
    "res_summary<-res_summary %>% arrange(cohort.cohortGuid,Flu_Year)"
   ]
  },
  {
   "cell_type": "code",
   "execution_count": 98,
   "id": "2d562c72-6b9d-404c-a1ec-0209d8b2aebe",
   "metadata": {},
   "outputs": [],
   "source": [
    "write.csv(res_summary,\"SLEA_CD27neg_Effector_B.csv\")"
   ]
  },
  {
   "cell_type": "code",
   "execution_count": null,
   "id": "706a270a-c601-455f-9c24-1a2a7ec0e03b",
   "metadata": {},
   "outputs": [],
   "source": []
  }
 ],
 "metadata": {
  "kernelspec": {
   "display_name": "R 4",
   "language": "R",
   "name": "ir4"
  },
  "language_info": {
   "codemirror_mode": "r",
   "file_extension": ".r",
   "mimetype": "text/x-r-source",
   "name": "R",
   "pygments_lexer": "r",
   "version": "4.3.2"
  }
 },
 "nbformat": 4,
 "nbformat_minor": 5
}
