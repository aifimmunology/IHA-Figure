{
 "cells": [
  {
   "cell_type": "code",
   "execution_count": 2,
   "id": "a801cf21-3a50-497e-9deb-45b9b60faac6",
   "metadata": {},
   "outputs": [
    {
     "name": "stderr",
     "output_type": "stream",
     "text": [
      "Setting default genome to Hg38.\n",
      "\n",
      "Input threads is equal to or greater than ncores minus 1 (31)\n",
      "Setting cores to ncores minus 2. Set force = TRUE to set above this number!\n",
      "\n",
      "Setting default number of Parallel threads to 30.\n",
      "\n"
     ]
    }
   ],
   "source": [
    "library(ArchR)\n",
    "quiet_library <- function(...) {\n",
    "    suppressPackageStartupMessages(library(...))\n",
    "}\n",
    "quiet_library('tidyverse')\n",
    "quiet_library(\"hise\")\n",
    "quiet_library('data.table')\n",
    "quiet_library('parallel')\n",
    "quiet_library('dplyr')\n",
    "library(anndata)\n",
    "library(BSgenome.Hsapiens.UCSC.hg38)\n",
    "options(future.globals.maxSize = 1000 * 1024^5)\n",
    "Sys.setenv( TZ=\"Etc/GMT+1\" )\n",
    "addArchRGenome(\"hg38\")\n",
    "addArchRThreads(threads = 60)\n",
    "\n",
    "pal <- c(RColorBrewer::brewer.pal(9, \"Set1\"), RColorBrewer::brewer.pal(8, \"Set2\"))\n",
    "set.seed(123)"
   ]
  },
  {
   "cell_type": "code",
   "execution_count": 2,
   "id": "32d9afbf-3d51-4e45-a9a5-c93154698e6f",
   "metadata": {},
   "outputs": [],
   "source": [
    "meta<-read.csv('/home//workspace/private/bri_figure_all_files_test/jupyter/BRI_Figures_Final_V2/Figure5/03_TEAseq_PenSenior/meta_data_GEO.csv')"
   ]
  },
  {
   "cell_type": "code",
   "execution_count": 3,
   "id": "65482103-b092-49aa-b3b1-7086e207f048",
   "metadata": {},
   "outputs": [
    {
     "name": "stderr",
     "output_type": "stream",
     "text": [
      "Successfully loaded ArchRProject!\n",
      "\n",
      "\n",
      "                                                   / |\n",
      "                                                 /    \\\n",
      "            .                                  /      |.\n",
      "            \\\\\\                              /        |.\n",
      "              \\\\\\                          /           `|.\n",
      "                \\\\\\                      /              |.\n",
      "                  \\                    /                |\\\n",
      "                  \\\\#####\\           /                  ||\n",
      "                ==###########>      /                   ||\n",
      "                 \\\\##==......\\    /                     ||\n",
      "            ______ =       =|__ /__                     ||      \\\\\\\n",
      "        ,--' ,----`-,__ ___/'  --,-`-===================##========>\n",
      "       \\               '        ##_______ _____ ,--,__,=##,__   ///\n",
      "        ,    __==    ___,-,__,--'#'  ==='      `-'    | ##,-/\n",
      "        -,____,---'       \\\\####\\\\________________,--\\\\_##,/\n",
      "           ___      .______        ______  __    __  .______      \n",
      "          /   \\     |   _  \\      /      ||  |  |  | |   _  \\     \n",
      "         /  ^  \\    |  |_)  |    |  ,----'|  |__|  | |  |_)  |    \n",
      "        /  /_\\  \\   |      /     |  |     |   __   | |      /     \n",
      "       /  _____  \\  |  |\\  \\\\___ |  `----.|  |  |  | |  |\\  \\\\___.\n",
      "      /__/     \\__\\ | _| `._____| \\______||__|  |__| | _| `._____|\n",
      "    \n",
      "\n"
     ]
    }
   ],
   "source": [
    "proj1 <- loadArchRProject(path = '/home//workspace/private/bri_figure_all_files_test/jupyter/BRI_Figures_Final_V2/Figure5/03_TEAseq_PenSenior/PenSen_ATAC/')\n"
   ]
  },
  {
   "cell_type": "code",
   "execution_count": 5,
   "id": "bff70044-6cb8-47af-9279-84b558ca675f",
   "metadata": {},
   "outputs": [],
   "source": [
    "# Read scRNA data\n",
    "adata_scRNA <- anndata::read_h5ad('/home//workspace/private/bri_figure_all_files_test/jupyter/BRI_Figures_Final_V2/Figure5/03_TEAseq_PenSenior/TEA_scRNA.h5ad', backed='r')\n",
    "\n",
    "# Extract and process scRNA labels\n",
    "scRNA_labels <- adata_scRNA$obs\n",
    "scRNA_labels$real_barcodes <- paste0(scRNA_labels$well_id, '-', scRNA_labels$original_barcodes, '-1')\n",
    "\n",
    "# Extract and process scATAC labels\n",
    "scATAC_labels <- as.data.frame(proj1@cellColData)\n",
    "scATAC_labels$barcodes <- str_extract(rownames(scATAC_labels), \"(?<=#).*$\")\n",
    "\n",
    "# Generate metadata file paths\n",
    "scATAC_meta_data_files <- paste0(\"/home//workspace/private/bri_figure_all_files_test/jupyter/BRI_Figures_Final_V2/Figure5/03_TEAseq_PenSenior/GSE214546_Data/\", meta$combined_sample_id, '_filtered_metadata.csv.gz')\n",
    "\n",
    "# Read and combine metadata for scATAC\n",
    "meta_data_list_ATAC <- mclapply(scATAC_meta_data_files, function(x) {\n",
    "  metadata <- read.csv(gzfile(x))\n",
    "  return(metadata)\n",
    "}, mc.cores = 16)\n",
    "\n",
    "meta_data_ATAC <- do.call(rbind, meta_data_list_ATAC)\n",
    "\n",
    "# Merge scATAC labels with metadata\n",
    "scATAC_labels <- left_join(scATAC_labels, meta_data_ATAC, by = 'barcodes')\n",
    "\n",
    "# Create real barcodes for scATAC labels\n",
    "scATAC_labels$real_barcodes <- paste0(gsub('-A', '-', scATAC_labels$well_id), '-', scATAC_labels$original_barcodes)\n",
    "\n",
    "# Merge scATAC labels with scRNA labels\n",
    "scATAC_labels <- left_join(scATAC_labels, scRNA_labels, by = 'real_barcodes')\n",
    "\n",
    "# Extract barcodes for projHeme1\n",
    "#projHeme1@cellColData$barcodes <- str_extract(rownames(as.data.frame(proj1@cellColData)), \"(?<=#).*$\")\n",
    "\n",
    "# Create ATAC barcodes for scATAC labels\n",
    "scATAC_labels$ATAC_barcodes <- paste0(scATAC_labels$Sample, '#', scATAC_labels$barcodes.x)\n",
    "\n",
    "# Filter scATAC labels to make sure it is pure enough\n",
    "\n"
   ]
  },
  {
   "cell_type": "code",
   "execution_count": 7,
   "id": "83682794-df8b-457a-9e06-09d8898a2725",
   "metadata": {},
   "outputs": [],
   "source": [
    "scATAC_labels<-scATAC_labels[c(\"real_barcodes\",\"ATAC_barcodes\",\"barcodes.y\",\"AIFI_L3.y\",\"barcodes.x\")]"
   ]
  },
  {
   "cell_type": "code",
   "execution_count": 8,
   "id": "2c9aca88-1c8f-4bc5-8973-4d6040a8e9e8",
   "metadata": {},
   "outputs": [],
   "source": [
    "colnames(scATAC_labels)<-c(\"real_barcodes\",\"ATAC_barcodes\",\"barcodes_scRNA\",\"AIFI_L3\",\"barcodes_scATAC\")"
   ]
  },
  {
   "cell_type": "code",
   "execution_count": 9,
   "id": "f7c702e9-721e-44de-b90a-e94df5717cb7",
   "metadata": {},
   "outputs": [],
   "source": [
    "write.csv(scATAC_labels,\"barcodes_matching.csv\")"
   ]
  },
  {
   "cell_type": "code",
   "execution_count": null,
   "id": "c1965fa3-b156-4c0a-8d23-706a2a98218a",
   "metadata": {},
   "outputs": [],
   "source": []
  }
 ],
 "metadata": {
  "kernelspec": {
   "display_name": "R_BRI_Figures",
   "language": "R",
   "name": "r_bri_figures"
  },
  "language_info": {
   "codemirror_mode": "r",
   "file_extension": ".r",
   "mimetype": "text/x-r-source",
   "name": "R",
   "pygments_lexer": "r",
   "version": "4.3.2"
  }
 },
 "nbformat": 4,
 "nbformat_minor": 5
}
