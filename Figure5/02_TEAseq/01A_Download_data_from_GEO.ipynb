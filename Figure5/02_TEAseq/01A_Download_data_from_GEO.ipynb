{
 "cells": [
  {
   "cell_type": "code",
   "execution_count": 2,
   "id": "240b7998-bc01-4016-9f67-2d4ee3f4b11f",
   "metadata": {
    "scrolled": true,
    "tags": []
   },
   "outputs": [],
   "source": [
    "# load libraries\n",
    "library(dplyr)\n",
    "library(GEOquery)"
   ]
  },
  {
   "cell_type": "markdown",
   "id": "9ac741a1-5bcd-4198-9f0a-0856762dcfc9",
   "metadata": {},
   "source": [
    "# Download TEAseq Data"
   ]
  },
  {
   "cell_type": "code",
   "execution_count": 6,
   "id": "a36d9771-a48f-4c91-be0e-32faab89662e",
   "metadata": {},
   "outputs": [
    {
     "ename": "ERROR",
     "evalue": "Error in download.file(url, destfile, method = \"wget\"): 'wget' call had nonzero exit status\n",
     "output_type": "error",
     "traceback": [
      "Error in download.file(url, destfile, method = \"wget\"): 'wget' call had nonzero exit status\nTraceback:\n",
      "1. download.file(url, destfile, method = \"wget\")",
      "2. stop(\"'wget' call had nonzero exit status\")"
     ]
    }
   ],
   "source": [
    "options(timeout = 2000)  \n",
    "# stop this if file size is 29.9GB\n",
    "url <- 'ftp://ftp.ncbi.nlm.nih.gov/geo/series/GSE214nnn/GSE214546/suppl/GSE214546_RAW.tar'\n",
    "destfile <- 'GSE214546_RAW.tar'\n",
    "download.file(url, destfile, method = 'wget')"
   ]
  },
  {
   "cell_type": "code",
   "execution_count": 7,
   "id": "07c1a091-0d0d-4c72-89c4-2a5d60a54fdd",
   "metadata": {},
   "outputs": [],
   "source": [
    "untar(\"GSE214546_RAW.tar\", exdir = \"GSE214546_Data\")"
   ]
  },
  {
   "cell_type": "markdown",
   "id": "3aa995fc-245f-463a-9877-3cc44d423f09",
   "metadata": {},
   "source": [
    "# Get MetaData"
   ]
  },
  {
   "cell_type": "code",
   "execution_count": 8,
   "id": "d7c81797-f92d-4647-b8e0-9e280768a46e",
   "metadata": {
    "tags": []
   },
   "outputs": [
    {
     "name": "stderr",
     "output_type": "stream",
     "text": [
      "Found 1 file(s)\n",
      "\n",
      "GSE214546_series_matrix.txt.gz\n",
      "\n"
     ]
    }
   ],
   "source": [
    "eList <- getGEO(\"GSE214546\")\n",
    "df_meta<-as.data.frame(eList$GSE214546_series_matrix.txt.gz) %>% arrange(geo_accession)\n",
    "df_meta<-df_meta[c('geo_accession','age.ch1',\n",
    "                   'birth.year.ch1','cell.type.ch1',\n",
    "                   'library.type.ch1','race.ch1',\n",
    "                   'Sex.ch1','subject_id.ch1')]\n",
    "colnames(df_meta)[1]<-'GEO_Accession'"
   ]
  },
  {
   "cell_type": "code",
   "execution_count": 18,
   "id": "37b00f27-535f-4a9b-96d0-853f8ddd559a",
   "metadata": {
    "tags": []
   },
   "outputs": [],
   "source": [
    "##only tea seq library has h5 with frag file\n",
    "all_h5 <- list.files(path = 'GSE214546_Data/', pattern = '*frag*', full.names = TRUE)\n",
    "all_h5<-all_h5[1:16]\n",
    "extracted_pattern <- sub(\".*/(.*?)_[^_]*$\", \"\\\\1\", all_h5)"
   ]
  },
  {
   "cell_type": "code",
   "execution_count": 19,
   "id": "7113da04-874f-4eef-acee-af9c1504f869",
   "metadata": {},
   "outputs": [],
   "source": [
    "split_list <- strsplit(extracted_pattern, \"_\", fixed = TRUE)\n",
    "split_df <- do.call(rbind, sapply(split_list, function(x) as.data.frame(t(x)), simplify = FALSE))\n",
    "df <- as.data.frame(split_df, stringsAsFactors = FALSE)"
   ]
  },
  {
   "cell_type": "code",
   "execution_count": 22,
   "id": "5a2e8cd2-4e4b-46fb-911a-6ab81f388056",
   "metadata": {},
   "outputs": [],
   "source": [
    "colnames(df)<-c('GEO_Accession','Batch','pbmc_sample_id')\n",
    "df$combined_sample_id<-extracted_pattern"
   ]
  },
  {
   "cell_type": "code",
   "execution_count": 23,
   "id": "ab299f71-7346-4117-9a92-25e7decad154",
   "metadata": {
    "tags": []
   },
   "outputs": [
    {
     "name": "stderr",
     "output_type": "stream",
     "text": [
      "\u001b[1m\u001b[22mJoining with `by = join_by(GEO_Accession)`\n"
     ]
    }
   ],
   "source": [
    "df<-left_join(df,df_meta)"
   ]
  },
  {
   "cell_type": "code",
   "execution_count": 25,
   "id": "dec3a453-e101-49b7-9136-7c4df87285c2",
   "metadata": {
    "tags": []
   },
   "outputs": [],
   "source": [
    "write.csv(df,'meta_data_GEO.csv')"
   ]
  },
  {
   "cell_type": "code",
   "execution_count": null,
   "id": "0aef9e99-c6d5-4791-af5c-ad7e4a564ae6",
   "metadata": {},
   "outputs": [],
   "source": []
  }
 ],
 "metadata": {
  "kernelspec": {
   "display_name": "R 4",
   "language": "R",
   "name": "ir4"
  },
  "language_info": {
   "codemirror_mode": "r",
   "file_extension": ".r",
   "mimetype": "text/x-r-source",
   "name": "R",
   "pygments_lexer": "r",
   "version": "4.3.2"
  }
 },
 "nbformat": 4,
 "nbformat_minor": 5
}
