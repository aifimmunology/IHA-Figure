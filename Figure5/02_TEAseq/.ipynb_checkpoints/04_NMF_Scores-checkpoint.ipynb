{
 "cells": [
  {
   "cell_type": "code",
   "execution_count": 1,
   "id": "06acc6d8-50ae-4081-8549-94af71386345",
   "metadata": {},
   "outputs": [],
   "source": [
    "import sys\n",
    "import matplotlib.pyplot as plt\n",
    "import numpy as np\n",
    "import pandas as pd\n",
    "import scanpy as sc\n",
    "import celltypist\n",
    "import gc\n",
    "import anndata\n",
    "from celltypist import models\n",
    "import h5py\n",
    "import scipy.sparse as scs\n",
    "from multiprocessing import Pool\n",
    "from concurrent.futures import ThreadPoolExecutor, as_completed\n",
    "from tqdm import tqdm\n",
    "from adjustText import adjust_text\n",
    "import scanpy.external as sce\n",
    "from NMFproj import *"
   ]
  },
  {
   "cell_type": "code",
   "execution_count": 2,
   "id": "0ffda1f5-a114-4072-a835-449f5d6b0a38",
   "metadata": {},
   "outputs": [],
   "source": [
    "# Please read 02_NMF_CD4_T_cell_Projection/00_Download_NMFprojection_Matrix.ipynb about how to downloading files\n",
    "fixed_W=pd.read_csv(\"NMF.W.CD4T.csv\")\n",
    "fixed_W = fixed_W.rename(columns={'Unnamed: 0': ''})\n",
    "fixed_W.set_index(fixed_W.columns[0], inplace=True)"
   ]
  },
  {
   "cell_type": "code",
   "execution_count": 3,
   "id": "480e0bd7-6501-4968-b664-49619d153e17",
   "metadata": {},
   "outputs": [],
   "source": [
    "def read_mat(h5_con):\n",
    "    mat = scs.csc_matrix(\n",
    "        (h5_con['matrix']['data'][:], # Count values\n",
    "         h5_con['matrix']['indices'][:], # Row indices\n",
    "         h5_con['matrix']['indptr'][:]), # Pointers for column positions\n",
    "        shape = tuple(h5_con['matrix']['shape'][:]) # Matrix dimensions\n",
    "    )\n",
    "    return mat\n",
    "\n",
    "\n",
    "def read_obs(h5con):\n",
    "    bc = h5con['matrix']['barcodes'][:]\n",
    "    bc = [x.decode('UTF-8') for x in bc]\n",
    "\n",
    "    # Initialized the DataFrame with cell barcodes\n",
    "    obs_df = pd.DataFrame({ 'barcodes' : bc })\n",
    "\n",
    "    # Get the list of available metadata columns\n",
    "    obs_columns = h5con['matrix']['observations'].keys()\n",
    "\n",
    "    # For each column\n",
    "    for col in obs_columns:\n",
    "        # Read the values\n",
    "        values = h5con['matrix']['observations'][col][:]\n",
    "        # Check for byte storage\n",
    "        if(isinstance(values[0], (bytes, bytearray))):\n",
    "            # Decode byte strings\n",
    "            values = [x.decode('UTF-8') for x in values]\n",
    "        # Add column to the DataFrame\n",
    "        obs_df[col] = values\n",
    "    \n",
    "    return obs_df\n",
    "# define a function to construct anndata object from a h5 file\n",
    "def read_h5_anndata(h5_file):\n",
    "    h5_con = h5py.File(h5_file, mode = 'r')\n",
    "    # extract the expression matrix\n",
    "    mat = read_mat(h5_con)\n",
    "    # extract gene names\n",
    "    genes = h5_con['matrix']['features']['name'][:]\n",
    "    genes = [x.decode('UTF-8') for x in genes]\n",
    "    # extract metadata\n",
    "    obs_df = read_obs(h5_con)\n",
    "    # construct anndata\n",
    "    adata = anndata.AnnData(mat.T,\n",
    "                             obs = obs_df)\n",
    "    # make sure the gene names aligned\n",
    "    adata.var_names = genes\n",
    "\n",
    "    adata.var_names_make_unique()\n",
    "    return adata\n",
    "def get_last_pattern(inputstr):\n",
    "    pattern = r\"[^/]+(?=$)\"\n",
    "    match = re.search(pattern, inputstr)\n",
    "    if match:\n",
    "        return match.group(0)\n",
    "    else:\n",
    "        return \"\"\n",
    "def process_file(file_name):\n",
    "    adata = read_h5_anndata(file_name)\n",
    "\n",
    "    doublet_scores=pd.read_csv('Doublet_Scores/'+adata.obs['pbmc_sample_id'][0]+'.csv', index_col=0)\n",
    "    L1_labels=pd.read_csv('Labels/'+adata.obs['pbmc_sample_id'][0]+'_L1_predicted_labels.csv', index_col=0)\n",
    "    L2_labels=pd.read_csv('Labels/'+adata.obs['pbmc_sample_id'][0]+'_L2_predicted_labels.csv', index_col=0)\n",
    "    L3_labels=pd.read_csv('Labels/'+adata.obs['pbmc_sample_id'][0]+'_L3_predicted_labels.csv', index_col=0)\n",
    "    L1_labels.columns=[ 'barcodes', 'AIFI_L1']\n",
    "    L2_labels.columns=[ 'barcodes', 'AIFI_L2']\n",
    "    L3_labels.columns=[ 'barcodes', 'AIFI_L3']\n",
    "    print(doublet_scores['barcodes'].tolist()==adata.obs['barcodes'].tolist(),\n",
    "          L1_labels['barcodes'].tolist()==adata.obs['barcodes'].tolist(),\n",
    "          L2_labels['barcodes'].tolist()==adata.obs['barcodes'].tolist(),\n",
    "          L3_labels['barcodes'].tolist()==adata.obs['barcodes'].tolist())\n",
    "    adata.obs= pd.merge(adata.obs, doublet_scores, on='barcodes', how='left')\n",
    "    adata.obs= pd.merge(adata.obs, L1_labels, on='barcodes', how='left')\n",
    "    adata.obs= pd.merge(adata.obs, L2_labels, on='barcodes', how='left')\n",
    "    adata.obs= pd.merge(adata.obs, L3_labels, on='barcodes', how='left')\n",
    "    adata.obs.index=adata.obs['barcodes']\n",
    "    adata.var[\"mito\"] = adata.var_names.str.startswith(\"MT-\")\n",
    "    sc.pp.calculate_qc_metrics(adata, qc_vars=[\"mito\"], inplace=True)\n",
    "\n",
    "    return adata"
   ]
  },
  {
   "cell_type": "code",
   "execution_count": 4,
   "id": "a0871c32-3eae-4769-9784-e5e87cd6321d",
   "metadata": {},
   "outputs": [],
   "source": [
    "meta_data=pd.read_csv('meta_data_GEO.csv')\n",
    "file_list=[\"GSE214546_Data/\"+x+'.h5' for x in meta_data['combined_sample_id']]\n"
   ]
  },
  {
   "cell_type": "markdown",
   "id": "596edb64-434a-454d-ad04-94ce0929496c",
   "metadata": {},
   "source": [
    "# Combine RNA data"
   ]
  },
  {
   "cell_type": "code",
   "execution_count": 5,
   "id": "17a94f15-30f8-4c78-8725-7f3ad0b475ed",
   "metadata": {
    "tags": []
   },
   "outputs": [
    {
     "name": "stderr",
     "output_type": "stream",
     "text": [
      "  0% 0/16 [00:00<?, ?it/s]"
     ]
    },
    {
     "name": "stdout",
     "output_type": "stream",
     "text": [
      "True True True True\n",
      "True True True True\n",
      "True True True True\n",
      "True True True True\n",
      "True True True True\n",
      "True True True True\n",
      "True True True True\n",
      "True True True True\n",
      "True True True True\n",
      "True True True True\n",
      "True True True True\n",
      "True True True True\n",
      "True True True True\n",
      "True True True True\n",
      "True True True True\n",
      "True True True True\n"
     ]
    },
    {
     "name": "stderr",
     "output_type": "stream",
     "text": [
      "100% 16/16 [02:03<00:00,  7.73s/it]"
     ]
    },
    {
     "name": "stdout",
     "output_type": "stream",
     "text": [
      "CPU times: user 1min 5s, sys: 19.1 s, total: 1min 24s\n",
      "Wall time: 2min 3s\n"
     ]
    },
    {
     "name": "stderr",
     "output_type": "stream",
     "text": [
      "\n"
     ]
    }
   ],
   "source": [
    "%%time\n",
    "file_names= file_list\n",
    "h5_list = []\n",
    "with ThreadPoolExecutor(max_workers=16) as executor:\n",
    "    future_to_file = {executor.submit(process_file, file_name): file_name for file_name in file_names}\n",
    "    for future in tqdm(as_completed(future_to_file), total=len(file_names)):\n",
    "        result = future.result()\n",
    "        if result is not None:\n",
    "            h5_list.append(result)"
   ]
  },
  {
   "cell_type": "code",
   "execution_count": 6,
   "id": "9d65cc6b-68d6-4319-af28-c12ae277585b",
   "metadata": {
    "tags": []
   },
   "outputs": [],
   "source": [
    "combined= anndata.concat(h5_list)"
   ]
  },
  {
   "cell_type": "code",
   "execution_count": 7,
   "id": "7979623a-2236-4a39-a625-de18d668b8eb",
   "metadata": {
    "tags": []
   },
   "outputs": [],
   "source": [
    "combined=combined[(combined.obs[\"pct_counts_mito\"] <15) & (combined.obs[\"n_genes_by_counts\"] <2500) &(combined.obs[\"n_genes\"] >200) ]\n",
    "combined=combined[combined.obs['predicted_doublet']==False]"
   ]
  },
  {
   "cell_type": "markdown",
   "id": "71a27c5b-2359-4000-8aba-35d76db0e2b5",
   "metadata": {},
   "source": [
    "# Filter CD4 T cell only"
   ]
  },
  {
   "cell_type": "code",
   "execution_count": 8,
   "id": "f882f306-6db2-4592-9294-7c3a75c5db1f",
   "metadata": {},
   "outputs": [],
   "source": [
    "selected_celltype =['Core naive CD4 T cell',\n",
    " 'CM CD4 T cell',\n",
    " 'GZMB- CD27+ EM CD4 T cell',\n",
    " 'CD4 MAIT',\n",
    " 'KLRB1+ memory CD4 Treg',\n",
    " 'KLRF1- GZMB+ CD27- memory CD4 T cell',\n",
    " 'Naive CD4 Treg',\n",
    " 'GZMB- CD27- EM CD4 T cell',\n",
    " 'ISG+ naive CD4 T cell',\n",
    " 'Memory CD4 Treg',\n",
    " 'ISG+ memory CD4 T cell',\n",
    " 'GZMK+ memory CD4 Treg',\n",
    " 'SOX4+ naive CD4 T cell']\n",
    "combined_CD4_T=combined[combined.obs['AIFI_L3'].isin(selected_celltype)]"
   ]
  },
  {
   "cell_type": "code",
   "execution_count": 9,
   "id": "f8b1bf4f-63a7-40a9-b80a-ba645d9de5d8",
   "metadata": {},
   "outputs": [],
   "source": [
    "combined_CD4_T.raw=combined_CD4_T"
   ]
  },
  {
   "cell_type": "code",
   "execution_count": 10,
   "id": "f302de6f-0b06-443e-89f0-f754e614ad47",
   "metadata": {},
   "outputs": [],
   "source": [
    "sc.pp.normalize_total(combined_CD4_T, target_sum=1e4)\n",
    "sc.pp.log1p(combined_CD4_T)"
   ]
  },
  {
   "cell_type": "code",
   "execution_count": 11,
   "id": "7e90da2b-0eb0-470f-aa7d-ef2cfb00242f",
   "metadata": {},
   "outputs": [
    {
     "name": "stdout",
     "output_type": "stream",
     "text": [
      "CPU times: user 1min 27s, sys: 1min 21s, total: 2min 48s\n",
      "Wall time: 1min 31s\n"
     ]
    }
   ],
   "source": [
    "%%time\n",
    "input_df = pd.DataFrame(combined_CD4_T.X.todense().T)\n",
    "input_df.index = combined_CD4_T.var_names\n",
    "input_df.columns = combined_CD4_T.obs['barcodes'].tolist()\n",
    "\n",
    "X_norm, X_trunc, df_H, fixed_W_trunc = NMFproj(input_df, fixed_W, return_truncated=True, normalized=True)\n",
    "index_mapping = {\n",
    "    'NMF_0': 'NMF0_Cytotoxic',\n",
    "    'NMF_1': 'NMF1_Treg',\n",
    "    'NMF_2': 'NMF2_Th17',\n",
    "    'NMF_3': 'NMF3_Naive',\n",
    "    'NMF_4': 'NMF4_Act',\n",
    "    'NMF_5': 'NMF5_Th2',\n",
    "    'NMF_6': 'NMF6_Tfh',\n",
    "    'NMF_7': 'NMF7_IFN',\n",
    "    'NMF_8': 'NMF8_Cent_Mem',\n",
    "    'NMF_9': 'NMF9_Thymic_Emi',\n",
    "    'NMF_10': 'NMF10_Tissue',\n",
    "    'NMF_11': 'NMF11_Th1'\n",
    "}\n",
    "\n",
    "df_H.index = df_H.index.map(index_mapping)\n",
    "df_H=df_H.T\n",
    "df_H['AIFI_L3']=combined_CD4_T.obs['AIFI_L3'].tolist()"
   ]
  },
  {
   "cell_type": "code",
   "execution_count": 12,
   "id": "aff9394b-d753-4187-9139-3380f737589d",
   "metadata": {},
   "outputs": [
    {
     "data": {
      "text/plain": [
       "array([ True])"
      ]
     },
     "execution_count": 12,
     "metadata": {},
     "output_type": "execute_result"
    }
   ],
   "source": [
    "np.unique(combined_CD4_T.obs.index.tolist()==df_H.index.tolist())"
   ]
  },
  {
   "cell_type": "code",
   "execution_count": 13,
   "id": "b0ee6a5c-f5c0-4a29-8d9a-e99454cc587a",
   "metadata": {},
   "outputs": [],
   "source": [
    "df_H['pbmc_sample_id']=combined_CD4_T.obs['pbmc_sample_id'].tolist()"
   ]
  },
  {
   "cell_type": "code",
   "execution_count": 14,
   "id": "78c9bd4f-c553-4ad9-a613-477625408823",
   "metadata": {},
   "outputs": [],
   "source": [
    "df_H.to_csv('NMF_Score_CD4_T.csv')"
   ]
  },
  {
   "cell_type": "code",
   "execution_count": null,
   "id": "10b75c54-575a-4111-ac0f-e33caff11b3a",
   "metadata": {},
   "outputs": [],
   "source": []
  }
 ],
 "metadata": {
  "kernelspec": {
   "display_name": "Python [conda env:root] *",
   "language": "python",
   "name": "conda-root-py"
  },
  "language_info": {
   "codemirror_mode": {
    "name": "ipython",
    "version": 3
   },
   "file_extension": ".py",
   "mimetype": "text/x-python",
   "name": "python",
   "nbconvert_exporter": "python",
   "pygments_lexer": "ipython3",
   "version": "3.10.13"
  }
 },
 "nbformat": 4,
 "nbformat_minor": 5
}
