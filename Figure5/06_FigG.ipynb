{
 "cells": [
  {
   "cell_type": "code",
   "execution_count": 19,
   "id": "d5141aac-cb44-4222-9fb1-2ecaf9153bc3",
   "metadata": {},
   "outputs": [],
   "source": [
    "suppressPackageStartupMessages(library(dplyr))\n",
    "suppressPackageStartupMessages(library(tidyr))\n",
    "suppressPackageStartupMessages(library(tibble))\n",
    "suppressPackageStartupMessages(library(stringr))\n",
    "suppressPackageStartupMessages(library(patchwork))\n",
    "library(plyr)\n",
    "library(ggbeeswarm)\n",
    "library(rstatix)\n",
    "library(ggpubr)\n",
    "library(ggplot2)"
   ]
  },
  {
   "cell_type": "code",
   "execution_count": 20,
   "id": "23edc64f-b03d-4048-b299-668da35fe18b",
   "metadata": {},
   "outputs": [],
   "source": [
    "df<-read.csv('03_CD27neg_Effector_B_subtype/memory_b_freq.csv')"
   ]
  },
  {
   "cell_type": "code",
   "execution_count": 21,
   "id": "bfc32d36-1f23-477a-99e2-ff209def94b8",
   "metadata": {},
   "outputs": [],
   "source": [
    "df <- df %>% dplyr::mutate(`Age Group` = case_when(\n",
    "  cohort.cohortGuid == \"BR1\" ~ \"Young\",\n",
    "  cohort.cohortGuid == \"BR2\" ~ \"Older\",\n",
    "  TRUE ~ NA_character_\n",
    "))\n",
    "df$`Age Group`<-factor(df$`Age Group`,levels=c(\"Young\",\"Older\"))"
   ]
  },
  {
   "cell_type": "code",
   "execution_count": 22,
   "id": "7dbad80c-3882-4b54-8354-d544e07f1b69",
   "metadata": {},
   "outputs": [],
   "source": [
    "df$Flu_Year<-df$Flu_Year.y"
   ]
  },
  {
   "cell_type": "code",
   "execution_count": 23,
   "id": "e71c58c6-8f43-4fbc-b8e9-19423693865f",
   "metadata": {},
   "outputs": [],
   "source": [
    "df<-df %>% filter(AIFI_L3==\"CD27- effector B-nonswitched\")"
   ]
  },
  {
   "cell_type": "code",
   "execution_count": 44,
   "id": "7d7b3250-8342-4577-9764-7e3d5517a482",
   "metadata": {},
   "outputs": [
    {
     "data": {
      "image/png": "[encoded data removed]",
      "text/plain": [
       "plot without title"
      ]
     },
     "metadata": {
      "image/png": {
       "height": 153.5433,
       "width": 82.6772
      }
     },
     "output_type": "display_data"
    }
   ],
   "source": [
    "options(repr.plot.width = 35/25.4, repr.plot.height = 65/25.4)\n",
    "\n",
    "\n",
    "p<-ggplot(df,aes(x=`Age Group`, y=frequency_clr, fill=`Age Group`)) +\n",
    "   geom_boxplot(outlier.shape = NA,lwd=0.3) +\n",
    "geom_point(position = position_jitter(width = 0.2),color=\"black\", size=0.8,stroke=0) +\n",
    "theme_classic(base_size=6)+  \n",
    "stat_compare_means( label = \"p.format\",method='wilcox.test',paired=FALSE,size=2.5,\n",
    "  comparisons = list(c(\"Older\", \"Young\")))+  \n",
    "\n",
    "    scale_fill_manual(values = c(\"Older\" = '#bf812d', \"Young\" = '#35978f'))+\n",
    "    scale_y_continuous(limits = c(NA, NA),\n",
    "                       expand = expansion(mult = c(0.1, 0.15)))+\n",
    "theme(legend.position=\"none\")+\n",
    "xlab('')+\n",
    "ylab('Frequency-CLR')+\n",
    "facet_wrap(~Flu_Year,  ncol=1, scale='free_y') +theme(\n",
    "panel.border = element_blank())   + \n",
    "    theme(axis.line = element_line(colour = \"black\", linewidth = 0.1),\n",
    "          legend.position = \"top\",\n",
    "          legend.title = element_blank(),\n",
    "          panel.grid.major = element_blank(),\n",
    "          panel.grid.minor = element_blank(),\n",
    "          panel.border = element_blank(),\n",
    "          panel.background = element_blank(),\n",
    "          axis.title.x = element_text(margin = margin(t = 1)))\n",
    "p\n",
    "ggsave('FigureG.pdf',p,width = 35/25.4,height = 65/25.4)"
   ]
  },
  {
   "cell_type": "code",
   "execution_count": null,
   "id": "68eaff1d-50c8-4cf2-87d3-269303b49e6d",
   "metadata": {},
   "outputs": [],
   "source": []
  }
 ],
 "metadata": {
  "kernelspec": {
   "display_name": "R 4",
   "language": "R",
   "name": "ir4"
  },
  "language_info": {
   "codemirror_mode": "r",
   "file_extension": ".r",
   "mimetype": "text/x-r-source",
   "name": "R",
   "pygments_lexer": "r",
   "version": "4.3.2"
  }
 },
 "nbformat": 4,
 "nbformat_minor": 5
}
