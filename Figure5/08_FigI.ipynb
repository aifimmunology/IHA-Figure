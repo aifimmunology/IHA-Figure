{
 "cells": [
  {
   "cell_type": "code",
   "execution_count": 15,
   "id": "42efc40c-d941-43c4-8ac0-1582af84e679",
   "metadata": {},
   "outputs": [],
   "source": [
    "suppressPackageStartupMessages(library(plyr))\n",
    "suppressPackageStartupMessages(library(dplyr))\n",
    "suppressPackageStartupMessages(library(tidyr))\n",
    "suppressPackageStartupMessages(library(tibble))\n",
    "library(ggplot2)\n",
    "library(ggpubr)\n",
    "library(ggExtra)\n",
    "library(ggridges)"
   ]
  },
  {
   "cell_type": "code",
   "execution_count": 9,
   "id": "e6856534-3407-4a77-8d3d-13e81ae51aec",
   "metadata": {},
   "outputs": [],
   "source": [
    "meta_data<-read.csv('03_TEAseq_PenSenior/meta_data_GEO.csv')\n",
    "meta_data<-meta_data[c('combined_sample_id','subject_id.ch1')]\n",
    "colnames(meta_data)[1]<-'Sample'"
   ]
  },
  {
   "cell_type": "markdown",
   "id": "9bc76123-1764-43bf-8907-db3551392405",
   "metadata": {},
   "source": [
    "# Violin Plot"
   ]
  },
  {
   "cell_type": "code",
   "execution_count": 4,
   "id": "2c0e77d4-8a2d-4355-8ee5-26201413e949",
   "metadata": {},
   "outputs": [],
   "source": [
    "df<-read.table('03_TEAseq_PenSenior/motif_score_all_cell.csv',sep=',',header=TRUE)"
   ]
  },
  {
   "cell_type": "code",
   "execution_count": 11,
   "id": "1d70ffe1-4504-4ddd-afd4-4e22986c8716",
   "metadata": {},
   "outputs": [],
   "source": [
    "df_subset<-as.data.frame(df) %>% select (Sample,AIFI_L3,motif_GATA3_384)"
   ]
  },
  {
   "cell_type": "code",
   "execution_count": 12,
   "id": "c18e32a0-e438-4154-8cf1-b7992513c8c6",
   "metadata": {},
   "outputs": [],
   "source": [
    "selected_celltype<-c('Core naive CD4 T cell','Core naive CD8 T cell',\n",
    "'CM CD8 T cell','GZMK+ CD27+ EM CD8 T cell')\n",
    "df_subset<-df_subset %>% filter(AIFI_L3 %in% selected_celltype)"
   ]
  },
  {
   "cell_type": "code",
   "execution_count": 13,
   "id": "ab1cc088-5ca7-4bf4-ad87-85681abc98a3",
   "metadata": {},
   "outputs": [
    {
     "name": "stderr",
     "output_type": "stream",
     "text": [
      "\u001b[1m\u001b[22mJoining with `by = join_by(Sample)`\n"
     ]
    }
   ],
   "source": [
    "df_subset <- df_subset %>%\n",
    "  left_join(meta_data) %>%\n",
    "  mutate('Age Group' = case_when(\n",
    "    startsWith(subject_id.ch1, \"BR2\") ~ \"Older\",\n",
    "    TRUE ~ 'Childern' \n",
    "  ))"
   ]
  },
  {
   "cell_type": "code",
   "execution_count": 24,
   "id": "c10ed889-2b66-4f1e-8ff6-dd315e21c176",
   "metadata": {},
   "outputs": [],
   "source": [
    "df_subset$AIFI_L3<-factor(df_subset$AIFI_L3,level=rev(c('Core naive CD4 T cell','Core naive CD8 T cell',\n",
    "'CM CD8 T cell','GZMK+ CD27+ EM CD8 T cell')))"
   ]
  },
  {
   "cell_type": "code",
   "execution_count": 27,
   "id": "9dafda44-2d5a-416c-a2df-8a26b6e4e4a9",
   "metadata": {},
   "outputs": [
    {
     "name": "stderr",
     "output_type": "stream",
     "text": [
      "Picking joint bandwidth of 0.0129\n",
      "\n",
      "Picking joint bandwidth of 0.0129\n",
      "\n"
     ]
    },
    {
     "data": {
      "image/png": "[encoded data removed]",
      "text/plain": [
       "plot without title"
      ]
     },
     "metadata": {
      "image/png": {
       "height": 106.2992,
       "width": 141.7323
      }
     },
     "output_type": "display_data"
    }
   ],
   "source": [
    "options(repr.plot.width = 60/25.4, repr.plot.height = 45/25.4)\n",
    "\n",
    "P<-ggplot(df_subset) +\n",
    "    geom_density_ridges(linewidth=0.1,\n",
    "        aes(x = motif_GATA3_384,\n",
    "            y = AIFI_L3,\n",
    "            fill = `Age Group`,alpha=0.9999)) +\n",
    "    ylab(NULL) +\n",
    "theme_classic(base_size=6)+\n",
    "theme(axis.text.x = element_text(angle = 90, vjust = 0.5, hjust=1))+\n",
    "scale_fill_manual(values = c(\"Older\" = '#bf812d', \"Childern\" = '#205B56'))#+theme(legend.position=\"none\")\n",
    "P\n",
    "ggsave('FigureI.pdf',P,width = 50/25.4,height = 45/25.4)"
   ]
  },
  {
   "cell_type": "code",
   "execution_count": null,
   "id": "988e6a90-d75c-41ee-af59-2920de015dc7",
   "metadata": {},
   "outputs": [],
   "source": []
  }
 ],
 "metadata": {
  "kernelspec": {
   "display_name": "R 4",
   "language": "R",
   "name": "ir4"
  },
  "language_info": {
   "codemirror_mode": "r",
   "file_extension": ".r",
   "mimetype": "text/x-r-source",
   "name": "R",
   "pygments_lexer": "r",
   "version": "4.3.2"
  }
 },
 "nbformat": 4,
 "nbformat_minor": 5
}
