{
 "cells": [
  {
   "cell_type": "code",
   "execution_count": 1,
   "id": "eaa58f71-d7a2-419a-ac9f-943ec2e7abbf",
   "metadata": {},
   "outputs": [
    {
     "name": "stderr",
     "output_type": "stream",
     "text": [
      "------------------------------------------------------------------------------\n",
      "\n",
      "You have loaded plyr after dplyr - this is likely to cause problems.\n",
      "If you need functions from both plyr and dplyr, please load plyr first, then dplyr:\n",
      "library(plyr); library(dplyr)\n",
      "\n",
      "------------------------------------------------------------------------------\n",
      "\n",
      "\n",
      "Attaching package: ‘plyr’\n",
      "\n",
      "\n",
      "The following objects are masked from ‘package:dplyr’:\n",
      "\n",
      "    arrange, count, desc, failwith, id, mutate, rename, summarise,\n",
      "    summarize\n",
      "\n",
      "\n",
      "\n",
      "Attaching package: ‘data.table’\n",
      "\n",
      "\n",
      "The following objects are masked from ‘package:dplyr’:\n",
      "\n",
      "    between, first, last\n",
      "\n",
      "\n",
      "\n",
      "Attaching package: ‘purrr’\n",
      "\n",
      "\n",
      "The following object is masked from ‘package:data.table’:\n",
      "\n",
      "    transpose\n",
      "\n",
      "\n",
      "The following object is masked from ‘package:plyr’:\n",
      "\n",
      "    compact\n",
      "\n",
      "\n",
      "\n",
      "Attaching package: ‘rstatix’\n",
      "\n",
      "\n",
      "The following objects are masked from ‘package:plyr’:\n",
      "\n",
      "    desc, mutate\n",
      "\n",
      "\n",
      "The following object is masked from ‘package:stats’:\n",
      "\n",
      "    filter\n",
      "\n",
      "\n"
     ]
    }
   ],
   "source": [
    "suppressPackageStartupMessages(library(dplyr))\n",
    "suppressPackageStartupMessages(library(tidyr))\n",
    "suppressPackageStartupMessages(library(tibble))\n",
    "suppressPackageStartupMessages(library(stringr))\n",
    "library(plyr)\n",
    "library(data.table)\n",
    "library(parallel)\n",
    "library(purrr)\n",
    "library(rstatix)\n",
    "source('/home//jupyter/BRI_Figures/helper_function/helper_function_IHA.r')"
   ]
  },
  {
   "cell_type": "markdown",
   "id": "6d609cdd-636e-4472-a0a7-83b69da4df66",
   "metadata": {},
   "source": [
    "# Read meta data"
   ]
  },
  {
   "cell_type": "code",
   "execution_count": 2,
   "id": "0fff377d-dac5-4eac-95fa-96c7f35bd7a7",
   "metadata": {},
   "outputs": [],
   "source": [
    "meta_data<-read.csv('/home//jupyter/BRI_Figures_Final_V2/Figure5/01_Frequency_Comparison/selected_samples_with_acutal_flu_year.csv')"
   ]
  },
  {
   "cell_type": "markdown",
   "id": "f94d0cff-5fca-4548-8f21-a45949f69a27",
   "metadata": {},
   "source": [
    "# Read Freq Files and do subsetting"
   ]
  },
  {
   "cell_type": "code",
   "execution_count": 3,
   "id": "e9fa7033-dab6-4196-9a0e-ef6fb918bed7",
   "metadata": {},
   "outputs": [],
   "source": [
    "df_freq<-read.csv(\"/home/jupyter/BRI_Figures_Final_V2/Dataset/diha_AIFI_L3_frequencies_2024-05-05.csv\")"
   ]
  },
  {
   "cell_type": "code",
   "execution_count": 4,
   "id": "9b1b2372-0086-44d0-8491-236d1e361971",
   "metadata": {},
   "outputs": [],
   "source": [
    "df_freq_Y1<-df_freq %>% filter(specimen.specimenGuid %in% meta_data$pbmc_sample_id)"
   ]
  },
  {
   "cell_type": "code",
   "execution_count": 5,
   "id": "e420f2d0-5d3f-4c77-a852-06bd1f7e6f91",
   "metadata": {},
   "outputs": [],
   "source": [
    "df_freq_Y1<-left_join(df_freq_Y1,meta_data[c('pbmc_sample_id','Flu_Year','Flu_Day')],by=c(\"specimen.specimenGuid\"=\"pbmc_sample_id\"))"
   ]
  },
  {
   "cell_type": "markdown",
   "id": "edce862e-4367-46bf-9857-f872217c247d",
   "metadata": {},
   "source": [
    "# Read Freq of CD27- subtypes"
   ]
  },
  {
   "cell_type": "code",
   "execution_count": null,
   "id": "76087dbc-35af-40ed-9db6-3d21f541961e",
   "metadata": {},
   "outputs": [],
   "source": []
  },
  {
   "cell_type": "code",
   "execution_count": 6,
   "id": "a61be835-fdd8-4389-a139-8e717ab70001",
   "metadata": {},
   "outputs": [],
   "source": [
    "df_subtype<-read.csv('CD27neg_effector_B_subtype.csv')"
   ]
  },
  {
   "cell_type": "code",
   "execution_count": 7,
   "id": "0f6655bc-1f6a-4fb3-9169-3f4cc6a63f3e",
   "metadata": {},
   "outputs": [],
   "source": [
    "df_subtype$AIFI_L3<-paste0(\"CD27- effector B-\",df_subtype$switched_status)"
   ]
  },
  {
   "cell_type": "code",
   "execution_count": 8,
   "id": "a2cc21e1-4ab6-4d86-9757-2e219420c7ae",
   "metadata": {},
   "outputs": [],
   "source": [
    "df_subtype$AIFI_L3_count<-df_subtype$count"
   ]
  },
  {
   "cell_type": "markdown",
   "id": "961b5b23-4312-4f1a-bd0b-733d03fac4b9",
   "metadata": {},
   "source": [
    "# Overlaps"
   ]
  },
  {
   "cell_type": "code",
   "execution_count": 9,
   "id": "1c71b1ea-7762-4343-8bd1-11e64caa4460",
   "metadata": {},
   "outputs": [],
   "source": [
    "df_freq_Y1<-df_freq_Y1 %>% filter(Flu_Day =='Day 0')"
   ]
  },
  {
   "cell_type": "code",
   "execution_count": 10,
   "id": "200071dc-f929-41be-80ce-0a821c09c30d",
   "metadata": {},
   "outputs": [
    {
     "data": {
      "text/html": [
       "136"
      ],
      "text/latex": [
       "136"
      ],
      "text/markdown": [
       "136"
      ],
      "text/plain": [
       "[1] 136"
      ]
     },
     "metadata": {},
     "output_type": "display_data"
    }
   ],
   "source": [
    "n_distinct(df_freq_Y1$sample.sampleKitGuid)"
   ]
  },
  {
   "cell_type": "code",
   "execution_count": 11,
   "id": "5361f531-8297-49d4-b819-39e0f39a0c20",
   "metadata": {},
   "outputs": [],
   "source": [
    "df_freq_Y1<-df_freq_Y1 %>% filter(!AIFI_L3==\"CD27- effector B cell\")"
   ]
  },
  {
   "cell_type": "code",
   "execution_count": 12,
   "id": "e8a31a47-f3d5-4439-b870-a6bd4c4e349f",
   "metadata": {},
   "outputs": [],
   "source": [
    "df<-rbind.fill(df_freq_Y1,df_subtype)"
   ]
  },
  {
   "cell_type": "code",
   "execution_count": 13,
   "id": "0c8703cb-ee92-43d6-bcb6-2bb0105bd5c2",
   "metadata": {},
   "outputs": [],
   "source": [
    "df<-df %>% filter(AIFI_L3%in% c('CD27- effector B-nonswitched',\n",
    "                            'CD27- effector B-switched',\n",
    "                            'CD27- effector B-undetermined',\n",
    "                            'Activated memory B cell',\n",
    "                            'CD95 memory B cell',\n",
    "                            'Core memory B cell',\n",
    "                            'Early memory B cell',\n",
    "                       'CD27+ effector B cell',\n",
    "                            'Type 2 polarized memory B cell'))"
   ]
  },
  {
   "cell_type": "code",
   "execution_count": 14,
   "id": "aabe9041-de0a-42f1-9594-dfea7dfb6a8d",
   "metadata": {},
   "outputs": [],
   "source": [
    "df <- df %>% \n",
    "dplyr::group_by(specimen.specimenGuid)%>% \n",
    "dplyr::mutate(sum_counts = sum(AIFI_L3_count))%>% \n",
    "dplyr::mutate(frequency = AIFI_L3_count/sum_counts*100)%>% \n",
    "ungroup()%>% dplyr::group_by(specimen.specimenGuid)%>% \n",
    "dplyr::mutate(frequency_clr = clr_transform(frequency)) %>% ungroup()\n"
   ]
  },
  {
   "cell_type": "code",
   "execution_count": 15,
   "id": "c5d80514-3040-40d2-9706-f5f36cc9f5ee",
   "metadata": {},
   "outputs": [],
   "source": [
    "df<-left_join(df ,meta_data[c(\"sample.sampleKitGuid\",\"Flu_Year\")],by=c(\"sample.sampleKitGuid\"))"
   ]
  },
  {
   "cell_type": "code",
   "execution_count": 19,
   "id": "b38b983b-5695-46ab-926d-bdf5d3dde2bf",
   "metadata": {},
   "outputs": [],
   "source": [
    "write.csv(df,'memory_b_freq.csv')"
   ]
  },
  {
   "cell_type": "code",
   "execution_count": 17,
   "id": "a672bd76-15dc-4b41-8002-2228ad8875bf",
   "metadata": {},
   "outputs": [
    {
     "data": {
      "text/html": [
       "<table class=\"dataframe\">\n",
       "<caption>A rstatix_test: 6 × 9</caption>\n",
       "<thead>\n",
       "\t<tr><th scope=col>AIFI_L3</th><th scope=col>Flu_Year.y</th><th scope=col>.y.</th><th scope=col>group1</th><th scope=col>group2</th><th scope=col>n1</th><th scope=col>n2</th><th scope=col>statistic</th><th scope=col>p</th></tr>\n",
       "\t<tr><th scope=col>&lt;chr&gt;</th><th scope=col>&lt;chr&gt;</th><th scope=col>&lt;chr&gt;</th><th scope=col>&lt;chr&gt;</th><th scope=col>&lt;chr&gt;</th><th scope=col>&lt;int&gt;</th><th scope=col>&lt;int&gt;</th><th scope=col>&lt;dbl&gt;</th><th scope=col>&lt;dbl&gt;</th></tr>\n",
       "</thead>\n",
       "<tbody>\n",
       "\t<tr><td>CD27- effector B-nonswitched </td><td>2020-2021</td><td>frequency_clr</td><td>BR1</td><td>BR2</td><td>26</td><td>42</td><td>357</td><td>0.01660</td></tr>\n",
       "\t<tr><td>CD27- effector B-switched    </td><td>2020-2021</td><td>frequency_clr</td><td>BR1</td><td>BR2</td><td>26</td><td>42</td><td>517</td><td>0.72100</td></tr>\n",
       "\t<tr><td>CD27- effector B-undetermined</td><td>2020-2021</td><td>frequency_clr</td><td>BR1</td><td>BR2</td><td> 4</td><td> 4</td><td>  9</td><td>0.88600</td></tr>\n",
       "\t<tr><td>CD27- effector B-nonswitched </td><td>2021-2022</td><td>frequency_clr</td><td>BR1</td><td>BR2</td><td>26</td><td>42</td><td>327</td><td>0.00527</td></tr>\n",
       "\t<tr><td>CD27- effector B-switched    </td><td>2021-2022</td><td>frequency_clr</td><td>BR1</td><td>BR2</td><td>26</td><td>39</td><td>492</td><td>0.84700</td></tr>\n",
       "\t<tr><td>CD27- effector B-undetermined</td><td>2021-2022</td><td>frequency_clr</td><td>BR1</td><td>BR2</td><td> 3</td><td> 2</td><td>  4</td><td>0.80000</td></tr>\n",
       "</tbody>\n",
       "</table>\n"
      ],
      "text/latex": [
       "A rstatix\\_test: 6 × 9\n",
       "\\begin{tabular}{lllllllll}\n",
       " AIFI\\_L3 & Flu\\_Year.y & .y. & group1 & group2 & n1 & n2 & statistic & p\\\\\n",
       " <chr> & <chr> & <chr> & <chr> & <chr> & <int> & <int> & <dbl> & <dbl>\\\\\n",
       "\\hline\n",
       "\t CD27- effector B-nonswitched  & 2020-2021 & frequency\\_clr & BR1 & BR2 & 26 & 42 & 357 & 0.01660\\\\\n",
       "\t CD27- effector B-switched     & 2020-2021 & frequency\\_clr & BR1 & BR2 & 26 & 42 & 517 & 0.72100\\\\\n",
       "\t CD27- effector B-undetermined & 2020-2021 & frequency\\_clr & BR1 & BR2 &  4 &  4 &   9 & 0.88600\\\\\n",
       "\t CD27- effector B-nonswitched  & 2021-2022 & frequency\\_clr & BR1 & BR2 & 26 & 42 & 327 & 0.00527\\\\\n",
       "\t CD27- effector B-switched     & 2021-2022 & frequency\\_clr & BR1 & BR2 & 26 & 39 & 492 & 0.84700\\\\\n",
       "\t CD27- effector B-undetermined & 2021-2022 & frequency\\_clr & BR1 & BR2 &  3 &  2 &   4 & 0.80000\\\\\n",
       "\\end{tabular}\n"
      ],
      "text/markdown": [
       "\n",
       "A rstatix_test: 6 × 9\n",
       "\n",
       "| AIFI_L3 &lt;chr&gt; | Flu_Year.y &lt;chr&gt; | .y. &lt;chr&gt; | group1 &lt;chr&gt; | group2 &lt;chr&gt; | n1 &lt;int&gt; | n2 &lt;int&gt; | statistic &lt;dbl&gt; | p &lt;dbl&gt; |\n",
       "|---|---|---|---|---|---|---|---|---|\n",
       "| CD27- effector B-nonswitched  | 2020-2021 | frequency_clr | BR1 | BR2 | 26 | 42 | 357 | 0.01660 |\n",
       "| CD27- effector B-switched     | 2020-2021 | frequency_clr | BR1 | BR2 | 26 | 42 | 517 | 0.72100 |\n",
       "| CD27- effector B-undetermined | 2020-2021 | frequency_clr | BR1 | BR2 |  4 |  4 |   9 | 0.88600 |\n",
       "| CD27- effector B-nonswitched  | 2021-2022 | frequency_clr | BR1 | BR2 | 26 | 42 | 327 | 0.00527 |\n",
       "| CD27- effector B-switched     | 2021-2022 | frequency_clr | BR1 | BR2 | 26 | 39 | 492 | 0.84700 |\n",
       "| CD27- effector B-undetermined | 2021-2022 | frequency_clr | BR1 | BR2 |  3 |  2 |   4 | 0.80000 |\n",
       "\n"
      ],
      "text/plain": [
       "  AIFI_L3                       Flu_Year.y .y.           group1 group2 n1 n2\n",
       "1 CD27- effector B-nonswitched  2020-2021  frequency_clr BR1    BR2    26 42\n",
       "2 CD27- effector B-switched     2020-2021  frequency_clr BR1    BR2    26 42\n",
       "3 CD27- effector B-undetermined 2020-2021  frequency_clr BR1    BR2     4  4\n",
       "4 CD27- effector B-nonswitched  2021-2022  frequency_clr BR1    BR2    26 42\n",
       "5 CD27- effector B-switched     2021-2022  frequency_clr BR1    BR2    26 39\n",
       "6 CD27- effector B-undetermined 2021-2022  frequency_clr BR1    BR2     3  2\n",
       "  statistic p      \n",
       "1 357       0.01660\n",
       "2 517       0.72100\n",
       "3   9       0.88600\n",
       "4 327       0.00527\n",
       "5 492       0.84700\n",
       "6   4       0.80000"
      ]
     },
     "metadata": {},
     "output_type": "display_data"
    }
   ],
   "source": [
    "df %>% dplyr::group_by(Flu_Year.y,AIFI_L3)%>% wilcox_test(frequency_clr~cohort.cohortGuid)%>% filter(AIFI_L3%in% c('CD27- effector B-nonswitched',\n",
    "                            'CD27- effector B-switched',\n",
    "                            'CD27- effector B-undetermined'))"
   ]
  },
  {
   "cell_type": "code",
   "execution_count": null,
   "id": "55d78b75-3eb6-4087-b203-0ad1a4ac0907",
   "metadata": {},
   "outputs": [],
   "source": [
    "df"
   ]
  },
  {
   "cell_type": "code",
   "execution_count": null,
   "id": "7c723efd-cec9-4c11-8e0a-e32aa2eab72f",
   "metadata": {},
   "outputs": [],
   "source": []
  }
 ],
 "metadata": {
  "kernelspec": {
   "display_name": "R 4",
   "language": "R",
   "name": "ir4"
  },
  "language_info": {
   "codemirror_mode": "r",
   "file_extension": ".r",
   "mimetype": "text/x-r-source",
   "name": "R",
   "pygments_lexer": "r",
   "version": "4.3.2"
  }
 },
 "nbformat": 4,
 "nbformat_minor": 5
}
