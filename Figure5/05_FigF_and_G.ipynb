{
 "cells": [
  {
   "cell_type": "code",
   "execution_count": 12,
   "id": "b5ea442c-5c2a-438a-bad6-3c9db57d7d7c",
   "metadata": {},
   "outputs": [],
   "source": [
    "suppressPackageStartupMessages(library(dplyr))\n",
    "suppressPackageStartupMessages(library(tidyr))\n",
    "suppressPackageStartupMessages(library(tibble))\n",
    "suppressPackageStartupMessages(library(stringr))\n",
    "library(pheatmap)\n",
    "library(RColorBrewer)\n",
    "library(viridis)"
   ]
  },
  {
   "cell_type": "code",
   "execution_count": 13,
   "id": "8af74ee6-03f2-4dd2-9b21-a132da6c561b",
   "metadata": {},
   "outputs": [],
   "source": [
    "save_pheatmap <- function(x, filename, width=12, height=12){\n",
    "  stopifnot(!missing(x))\n",
    "  stopifnot(!missing(filename))\n",
    "  if(grepl(\".png\",filename)){\n",
    "    png(filename, width=width, height=height, units = \"in\", res=300)\n",
    "    grid::grid.newpage()\n",
    "    grid::grid.draw(x$gtable)\n",
    "    dev.off()\n",
    "  }\n",
    "  else if(grepl(\".pdf\",filename)){\n",
    "    pdf(filename, width=width, height=height)\n",
    "    grid::grid.newpage()\n",
    "    grid::grid.draw(x$gtable)\n",
    "    dev.off()\n",
    "  }\n",
    "  else{\n",
    "    print(\"Filename did not contain '.png' or '.pdf'\")\n",
    "  }}"
   ]
  },
  {
   "cell_type": "code",
   "execution_count": null,
   "id": "c657143b-2104-4818-8577-909db3427177",
   "metadata": {},
   "outputs": [],
   "source": []
  },
  {
   "cell_type": "code",
   "execution_count": 14,
   "id": "f4f365fd-7bbc-4bef-bc3d-da54b3503127",
   "metadata": {},
   "outputs": [],
   "source": [
    "df<-read.csv(\"02_DEGs_and_EnrichmentAnalysis/selected_gene_CD27neg_effector_B.csv\")\n",
    "rownames(df)<-paste0(df$Flu_Day,df$Flu_Year,df$cohort.cohortGuid)\n"
   ]
  },
  {
   "cell_type": "code",
   "execution_count": 15,
   "id": "3d91a4fc-6027-4740-9df8-471d658bb60a",
   "metadata": {},
   "outputs": [],
   "source": [
    "df_input<-t(df[5:19])\n"
   ]
  },
  {
   "cell_type": "code",
   "execution_count": 16,
   "id": "e412f7b1-a887-4de0-9d30-7ea7c90c1bb1",
   "metadata": {},
   "outputs": [],
   "source": [
    "rownames(df_input) <- gsub(\"Gene_\",\"\", rownames(df_input))\n"
   ]
  },
  {
   "cell_type": "code",
   "execution_count": 17,
   "id": "70a9df81-9356-40a9-8132-36ebf8f064fd",
   "metadata": {},
   "outputs": [],
   "source": [
    "column_labels <- c(\"Year 1 Day 0\", \"Year 1 Day 7\", \"Year 2 Day 0\", \"Year 2 Day 7\", \"Year 1 Day 0\", \"Year 1 Day 7\", \"Year 2 Day 0\", \"Year 2 Day 7\")\n"
   ]
  },
  {
   "cell_type": "code",
   "execution_count": 18,
   "id": "6a444ac3-0715-474d-bbb6-5fd8acb8001a",
   "metadata": {},
   "outputs": [],
   "source": [
    "# Create the annotation dataframe with only the cohort.cohortGuid\n",
    "annotation_df <-df[c('cohort.cohortGuid')]\n",
    "\n",
    "annotation_df <- annotation_df %>%\n",
    "  mutate(`Age Group` = ifelse(cohort.cohortGuid\t == \"BR1\", \"Young\", \"Older\"))%>% select(`Age Group`)\n",
    "# Set custom colors for the cohorts\n",
    "annotation_colors <- list(`Age Group` = c(Young = \"#35978F\", Older = \"#BF812D\"))"
   ]
  },
  {
   "cell_type": "code",
   "execution_count": 19,
   "id": "c5014cac-e307-46f4-8344-672c1f1d4087",
   "metadata": {},
   "outputs": [],
   "source": [
    "colnames(df_input)<-paste0(df$Flu_Day,df$Flu_Year,df$cohort.cohortGuid)"
   ]
  },
  {
   "cell_type": "code",
   "execution_count": 20,
   "id": "3ea62dc9-f6cd-42d4-a80a-cbddee017d7a",
   "metadata": {},
   "outputs": [],
   "source": [
    "breaks_sequence <- seq(-1, 1, length.out = 100)"
   ]
  },
  {
   "cell_type": "code",
   "execution_count": 21,
   "id": "22bf7c07-a271-45db-bd5d-327b1ba22b51",
   "metadata": {},
   "outputs": [
    {
     "data": {
      "text/html": [
       "<strong>png:</strong> 2"
      ],
      "text/latex": [
       "\\textbf{png:} 2"
      ],
      "text/markdown": [
       "**png:** 2"
      ],
      "text/plain": [
       "png \n",
       "  2 "
      ]
     },
     "metadata": {},
     "output_type": "display_data"
    },
    {
     "data": {
      "image/png": "[encoded data removed]",
      "text/plain": [
       "plot without title"
      ]
     },
     "metadata": {
      "image/png": {
       "height": 141.7323,
       "width": 165.3543
      }
     },
     "output_type": "display_data"
    }
   ],
   "source": [
    "options(repr.plot.width = 70/25.4, repr.plot.height = 60/25.4)\n",
    "heatmap_plot <- pheatmap(df_input, \n",
    "         scale = \"row\", \n",
    "         cluster_cols = FALSE, \n",
    "         cluster_rows = FALSE, \n",
    "         fontsize = 6,\n",
    "         gaps_col = c(4),\n",
    "                         gaps_row = c(6), \n",
    "          annotation_col = annotation_df,  \n",
    "                         breaks=breaks_sequence,\n",
    "         annotation_colors = annotation_colors,\n",
    "                         border_color=NA,\n",
    "         labels_col = column_labels, color= inferno(100))\n",
    "save_pheatmap(heatmap_plot,'FigureF.pdf', width=70/25.4, height=60/25.4)"
   ]
  },
  {
   "cell_type": "code",
   "execution_count": null,
   "id": "da06ca01-d8a9-47e9-ad6d-e3c82aec28fc",
   "metadata": {},
   "outputs": [],
   "source": []
  },
  {
   "cell_type": "code",
   "execution_count": null,
   "id": "ba534c36-d480-472b-aa4a-5d53ccdf3954",
   "metadata": {},
   "outputs": [],
   "source": []
  },
  {
   "cell_type": "code",
   "execution_count": null,
   "id": "a64ab1fb-39fe-4ccb-9121-7466737990fa",
   "metadata": {},
   "outputs": [],
   "source": []
  }
 ],
 "metadata": {
  "kernelspec": {
   "display_name": "R 4",
   "language": "R",
   "name": "ir4"
  },
  "language_info": {
   "codemirror_mode": "r",
   "file_extension": ".r",
   "mimetype": "text/x-r-source",
   "name": "R",
   "pygments_lexer": "r",
   "version": "4.3.2"
  }
 },
 "nbformat": 4,
 "nbformat_minor": 5
}
