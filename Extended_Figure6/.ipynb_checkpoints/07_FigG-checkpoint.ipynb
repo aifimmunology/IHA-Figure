{
 "cells": [
  {
   "cell_type": "code",
   "execution_count": 3,
   "id": "b23132c5-7342-4d56-888b-7ef556a33cf2",
   "metadata": {},
   "outputs": [],
   "source": [
    "suppressPackageStartupMessages(library(dplyr))\n",
    "suppressPackageStartupMessages(library(tidyr))\n",
    "suppressPackageStartupMessages(library(tibble))\n",
    "suppressPackageStartupMessages(library(stringr))\n",
    "suppressPackageStartupMessages(library(patchwork))\n",
    "\n",
    "library(plyr)\n",
    "library(ggbeeswarm)\n",
    "library(rstatix)\n",
    "library(ggpubr)\n",
    "library(ggplot2)"
   ]
  },
  {
   "cell_type": "code",
   "execution_count": 4,
   "id": "4ed25ce7-c65b-469f-ba12-29b2c35848de",
   "metadata": {},
   "outputs": [],
   "source": [
    "df<-read.csv(\"04_B_cell_flow/Flow_Frequency_CD27neg_effector_B_Isotye.csv\")"
   ]
  },
  {
   "cell_type": "code",
   "execution_count": null,
   "id": "2ba0a626-5640-4b0b-abc2-87db564cadbe",
   "metadata": {},
   "outputs": [],
   "source": []
  },
  {
   "cell_type": "code",
   "execution_count": 5,
   "id": "c4472fc4-a11e-4a40-917d-5781bcfd99b7",
   "metadata": {},
   "outputs": [],
   "source": [
    "df <- df %>%\n",
    "  mutate(`Age Group` = case_when(\n",
    "    startsWith(donor, \"BR1\") ~ 'Young',\n",
    "    TRUE ~ 'Older'\n",
    "  ))"
   ]
  },
  {
   "cell_type": "code",
   "execution_count": 6,
   "id": "a46c7645-5139-4ac7-b7a7-54dbb4e66ead",
   "metadata": {},
   "outputs": [],
   "source": [
    "df<-df %>% mutate(Flu_Day=case_when(timepoint==\"day0\"~\"Day 0\", TRUE~\"Day 7\"))\n",
    "\n",
    "df$`Age Group`<-factor(df$`Age Group`,levels=c(\"Young\",\"Older\"))"
   ]
  },
  {
   "cell_type": "code",
   "execution_count": 7,
   "id": "f192d9c0-c178-4619-98c9-79958eda1428",
   "metadata": {},
   "outputs": [],
   "source": [
    "df<-df %>%filter(Isotype=='IgG')"
   ]
  },
  {
   "cell_type": "code",
   "execution_count": 8,
   "id": "f98b52a8-4ca9-46ac-b740-b012d0837485",
   "metadata": {},
   "outputs": [],
   "source": [
    "df$Group<-paste0(df$`Age Group`,'_',df$Flu_Day)\n",
    "df$Group<-factor(df$Group,levels=c('Young_Day 0', 'Older_Day 0','Young_Day 7',\n",
    "                                      'Older_Day 7'))"
   ]
  },
  {
   "cell_type": "code",
   "execution_count": 13,
   "id": "aa912157-f743-4fde-abae-eeecd8c43ccd",
   "metadata": {},
   "outputs": [
    {
     "name": "stderr",
     "output_type": "stream",
     "text": [
      "Warning message in geom_point(alpha = 1, size = 0.8, width = 0.3):\n",
      "“\u001b[1m\u001b[22mIgnoring unknown parameters: `width`”\n",
      "Warning message in stat_summary(fun = \"median\", aes(fill = \"Median\"), geom = \"crossbar\", :\n",
      "“\u001b[1m\u001b[22mIgnoring unknown parameters: `shape`”\n"
     ]
    },
    {
     "data": {
      "image/png": "[encoded data removed]",
      "text/plain": [
       "plot without title"
      ]
     },
     "metadata": {
      "image/png": {
       "height": 70.8661,
       "width": 118.1102
      }
     },
     "output_type": "display_data"
    }
   ],
   "source": [
    "options(repr.plot.width = 40/25.4, repr.plot.height = 45/25.4)\n",
    "\n",
    "p1<-ggplot(df %>% filter(timepoint %in% c('day7')), aes(Group, frequency_clr, color=`Age Group`)) + \n",
    "geom_point(alpha=1.0, size=0.8, width=0.3) +\n",
    "stat_summary(fun=\"median\", aes(fill=\"Median\"),geom=\"crossbar\", shape=18, size=0.2, \n",
    "           color='black', na.rm=T) + \n",
    "theme_classic(base_size=6) +  \n",
    "stat_compare_means( label = \"p.format\",method='wilcox.test',paired=FALSE,size=2.2,method.args = list(alternative = \"less\"),\n",
    "                   label.y=2.5,\n",
    "  comparisons = list(c(\"Older_Day 7\", \"Young_Day 7\")))+  \n",
    "\n",
    "scale_fill_manual(values=\"black\", name=\"\") + \n",
    "xlab(\"\") +\n",
    "scale_color_manual(values = c(\"Older\" = '#bf812d', \"Young\" = '#35978f'))+\n",
    "scale_y_continuous(limits = c(NA, NA),\n",
    "               expand = expansion(mult = c(0.1, 0.1)))+\n",
    "xlab('')+\n",
    "ylab('Frequency-CLR') + \n",
    "scale_x_discrete(labels = c(\n",
    "                              \"Older_Day 7\" = \"Older\\nDay 7\",\n",
    "                \n",
    "                              \"Young_Day 7\" = \"Young\\nDay 7\"))+theme(\n",
    "panel.border = element_blank())   +\n",
    "theme(axis.line = element_line(colour = \"black\"),\n",
    "  legend.position = \"none\",\n",
    "  legend.title = element_blank(),\n",
    "  panel.grid.major = element_blank(),\n",
    "  panel.grid.minor = element_blank(),\n",
    "  panel.border = element_blank(),\n",
    "  panel.background = element_blank(),\n",
    "  strip.background = element_rect(linewidth = 0),\n",
    "  axis.title.x = element_text(margin = margin(t = 1)))+\n",
    "  theme(plot.title = element_text(hjust = 0.5))\n",
    "\n",
    "\n",
    "options(repr.plot.width = 50/25.4, repr.plot.height = 30/25.4)\n",
    "\n",
    "p1\n",
    "\n",
    "ggsave('FigureG.pdf',\n",
    "       p1,\n",
    "       width = 40/25.4,\n",
    "       height = 30/25.4)"
   ]
  },
  {
   "cell_type": "code",
   "execution_count": null,
   "id": "2ca32f90-24c4-4a13-bf9e-3622dc7092f2",
   "metadata": {},
   "outputs": [],
   "source": []
  },
  {
   "cell_type": "code",
   "execution_count": null,
   "id": "c103ff7b-8a82-41ac-a5ad-a01ead1f1d47",
   "metadata": {},
   "outputs": [],
   "source": []
  },
  {
   "cell_type": "code",
   "execution_count": null,
   "id": "950df483-21c6-491e-8545-e7ae47522c38",
   "metadata": {},
   "outputs": [],
   "source": []
  },
  {
   "cell_type": "code",
   "execution_count": null,
   "id": "66126c20-bd80-4e1b-9172-595e2bccad7c",
   "metadata": {},
   "outputs": [],
   "source": []
  }
 ],
 "metadata": {
  "kernelspec": {
   "display_name": "R_BRI_Figures",
   "language": "R",
   "name": "r_bri_figures"
  },
  "language_info": {
   "codemirror_mode": "r",
   "file_extension": ".r",
   "mimetype": "text/x-r-source",
   "name": "R",
   "pygments_lexer": "r",
   "version": "4.3.2"
  }
 },
 "nbformat": 4,
 "nbformat_minor": 5
}
