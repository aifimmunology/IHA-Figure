{
 "cells": [
  {
   "cell_type": "code",
   "execution_count": 61,
   "id": "a9109043-97a5-4f35-83a4-ece3eba48a03",
   "metadata": {},
   "outputs": [],
   "source": [
    "suppressPackageStartupMessages(library(dplyr))\n",
    "suppressPackageStartupMessages(library(tidyr))\n",
    "suppressPackageStartupMessages(library(tibble))\n",
    "suppressPackageStartupMessages(library(stringr))\n",
    "library(pheatmap)\n"
   ]
  },
  {
   "cell_type": "code",
   "execution_count": 62,
   "id": "4f917fdd-ef1d-4d5d-9a34-dfe11927564f",
   "metadata": {},
   "outputs": [],
   "source": [
    "save_pheatmap <- function(x, filename, width=12, height=12){\n",
    "  stopifnot(!missing(x))\n",
    "  stopifnot(!missing(filename))\n",
    "  if(grepl(\".png\",filename)){\n",
    "    png(filename, width=width, height=height, units = \"in\", res=300)\n",
    "    grid::grid.newpage()\n",
    "    grid::grid.draw(x$gtable)\n",
    "    dev.off()\n",
    "  }\n",
    "  else if(grepl(\".pdf\",filename)){\n",
    "    pdf(filename, width=width, height=height)\n",
    "    grid::grid.newpage()\n",
    "    grid::grid.draw(x$gtable)\n",
    "    dev.off()\n",
    "  }\n",
    "  else{\n",
    "    print(\"Filename did not contain '.png' or '.pdf'\")\n",
    "  }}"
   ]
  },
  {
   "cell_type": "code",
   "execution_count": 72,
   "id": "fed15c1a-cc53-482f-861a-a700170166d0",
   "metadata": {},
   "outputs": [],
   "source": [
    "df<-read.csv(\"02_DEGs_and_EnrichmentAnalysis/SLEA_CD27neg_Effector_B.csv\")\n",
    "rownames(df)<-paste0(df$Flu_Day,df$Flu_Year,df$cohort.cohortGuid)\n"
   ]
  },
  {
   "cell_type": "code",
   "execution_count": 73,
   "id": "8814c881-3fac-4020-a740-ae37699daeab",
   "metadata": {},
   "outputs": [],
   "source": [
    "df_input<-t(df[c('mean_pathway_score')])\n"
   ]
  },
  {
   "cell_type": "code",
   "execution_count": 74,
   "id": "c717fc31-a7b2-480b-8ee4-225c81143604",
   "metadata": {},
   "outputs": [],
   "source": [
    "rownames(df_input) <- \"HALLMARK REACTIVE\\nOXYGEN\\nSPECIES PATHWAY\""
   ]
  },
  {
   "cell_type": "code",
   "execution_count": 75,
   "id": "d49e9ffe-5349-4bf0-9528-29addcb6fc3f",
   "metadata": {},
   "outputs": [],
   "source": [
    "column_labels <- c(\"Year 1 Day 0\", \"Year 1 Day 7\", \"Year 2 Day 0\", \"Year 2 Day 7\", \"Year 1 Day 0\", \"Year 1 Day 7\", \"Year 2 Day 0\", \"Year 2 Day 7\")"
   ]
  },
  {
   "cell_type": "code",
   "execution_count": 76,
   "id": "662372a6-2a2f-4e60-9a95-79378a53c1b1",
   "metadata": {},
   "outputs": [],
   "source": [
    "# Create the annotation dataframe with only the cohort.cohortGuid\n",
    "annotation_df <-df[c('cohort.cohortGuid')]\n",
    "\n",
    "annotation_df <- annotation_df %>%\n",
    "  mutate(`Age Group` = ifelse(cohort.cohortGuid\t == \"BR1\", \"Young\", \"Older\"))%>% select(`Age Group`)\n",
    "# Set custom colors for the cohorts\n",
    "annotation_colors <- list(`Age Group` = c(Young = \"#35978F\", Older = \"#BF812D\"))"
   ]
  },
  {
   "cell_type": "code",
   "execution_count": 77,
   "id": "b8644839-03f7-41a9-98c1-a4e3e56fd052",
   "metadata": {},
   "outputs": [],
   "source": [
    "colnames(df_input)<-paste0(df$Flu_Day,df$Flu_Year,df$cohort.cohortGuid)"
   ]
  },
  {
   "cell_type": "code",
   "execution_count": 80,
   "id": "6e3b1c78-dd16-4a55-a583-7ae64553ebb9",
   "metadata": {},
   "outputs": [
    {
     "data": {
      "text/html": [
       "<strong>png:</strong> 2"
      ],
      "text/latex": [
       "\\textbf{png:} 2"
      ],
      "text/markdown": [
       "**png:** 2"
      ],
      "text/plain": [
       "png \n",
       "  2 "
      ]
     },
     "metadata": {},
     "output_type": "display_data"
    },
    {
     "data": {
      "image/png": "[encoded data removed]",
      "text/plain": [
       "plot without title"
      ]
     },
     "metadata": {
      "image/png": {
       "height": 70.8661,
       "width": 236.2205
      }
     },
     "output_type": "display_data"
    }
   ],
   "source": [
    "options(repr.plot.width = 100/25.4, repr.plot.height = 30/25.4)\n",
    "heatmap_plot <- pheatmap(df_input, \n",
    "         scale = \"row\", \n",
    "         cluster_cols = FALSE, \n",
    "         border_color=NA,\n",
    "         cluster_rows = FALSE, \n",
    "         fontsize = 6,\n",
    "         gaps_col = c(4), \n",
    "         clustering_method = \"ward.D\", \n",
    "          annotation_col = annotation_df, \n",
    "         annotation_colors = annotation_colors, \n",
    "         labels_col = column_labels)\n",
    "save_pheatmap(heatmap_plot,'FigureD.pdf', width=100/25.4, height=30/25.4)"
   ]
  },
  {
   "cell_type": "code",
   "execution_count": null,
   "id": "6dffb909-59ed-4e6c-aafc-324dc173af51",
   "metadata": {},
   "outputs": [],
   "source": []
  }
 ],
 "metadata": {
  "kernelspec": {
   "display_name": "R 4",
   "language": "R",
   "name": "ir4"
  },
  "language_info": {
   "codemirror_mode": "r",
   "file_extension": ".r",
   "mimetype": "text/x-r-source",
   "name": "R",
   "pygments_lexer": "r",
   "version": "4.3.2"
  }
 },
 "nbformat": 4,
 "nbformat_minor": 5
}
