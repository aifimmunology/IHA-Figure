{
 "cells": [
  {
   "cell_type": "code",
   "execution_count": 25,
   "id": "71034ecb-1987-4265-874a-895f558871e8",
   "metadata": {},
   "outputs": [],
   "source": [
    "suppressPackageStartupMessages(library(dplyr))\n",
    "suppressPackageStartupMessages(library(tidyr))\n",
    "suppressPackageStartupMessages(library(tibble))\n",
    "suppressPackageStartupMessages(library(stringr))\n",
    "suppressPackageStartupMessages(library(patchwork))\n",
    "\n",
    "library(plyr)\n",
    "library(ggbeeswarm)\n",
    "library(rstatix)\n",
    "library(ggpubr)\n",
    "library(ggplot2)"
   ]
  },
  {
   "cell_type": "code",
   "execution_count": 26,
   "id": "e96c1471-8245-4aba-9ca7-8d7c80062458",
   "metadata": {},
   "outputs": [],
   "source": [
    "df<-read.csv(\"06_B_cell_flow/Median_Expression_CD19_CD11c_in_CD27neg_effector_B.csv\")"
   ]
  },
  {
   "cell_type": "code",
   "execution_count": 27,
   "id": "aa37d8b4-43b6-4a12-81a4-e4567257c067",
   "metadata": {},
   "outputs": [],
   "source": [
    "df<-df %>% mutate(Flu_Day=case_when(timepoint==\"day0\"~\"Day 0\", TRUE~\"Day 7\"))\n",
    "df <- df %>% mutate(`Age Group` = case_when(\n",
    "  group == \"BR1\" ~ \"Young\",\n",
    "  group == \"BR2\" ~ \"Older\",\n",
    "  TRUE ~ NA_character_\n",
    "))\n",
    "df$`Age Group`<-factor(df$`Age Group`,levels=c(\"Young\",\"Older\"))"
   ]
  },
  {
   "cell_type": "code",
   "execution_count": 28,
   "id": "0677b023-ad79-4676-8501-8c6c7b719ab7",
   "metadata": {},
   "outputs": [],
   "source": [
    "df$Group<-paste0(df$`Age Group`,'_',df$Flu_Day)"
   ]
  },
  {
   "cell_type": "code",
   "execution_count": 29,
   "id": "8041f2f4-b5bf-4ffb-9cf4-dd66ee694e55",
   "metadata": {},
   "outputs": [],
   "source": [
    "df$Group<-factor(df$Group,levels=c('Young_Day 0','Older_Day 0',\n",
    "                                   'Young_Day 7','Older_Day 7'))"
   ]
  },
  {
   "cell_type": "code",
   "execution_count": 36,
   "id": "c3d2353e-c469-4431-bae9-1da1809f3da0",
   "metadata": {},
   "outputs": [
    {
     "name": "stderr",
     "output_type": "stream",
     "text": [
      "Warning message in geom_point(alpha = 1, size = 0.8, width = 0.3):\n",
      "“\u001b[1m\u001b[22mIgnoring unknown parameters: `width`”\n",
      "Warning message in stat_summary(fun = \"median\", aes(fill = \"Median\"), geom = \"crossbar\", :\n",
      "“\u001b[1m\u001b[22mIgnoring unknown parameters: `shape`”\n"
     ]
    },
    {
     "data": {
      "image/png": "[encoded data removed]",
      "text/plain": [
       "plot without title"
      ]
     },
     "metadata": {
      "image/png": {
       "height": 141.7323,
       "width": 106.2992
      }
     },
     "output_type": "display_data"
    }
   ],
   "source": [
    "options(repr.plot.width = 45/25.4, repr.plot.height = 60/25.4)\n",
    "\n",
    "p1<-ggplot(df %>% filter(timepoint %in% c('day0','day7')), aes(Group, meadian_CD19, color=`Age Group`)) + \n",
    "geom_point(alpha=1.0, size=0.8, width=0.3) +\n",
    "stat_summary(fun=\"median\", aes(fill=\"Median\"),geom=\"crossbar\", shape=18, size=0.2, \n",
    "           color='black', na.rm=T) + \n",
    "theme_classic(base_size=6) +  \n",
    "stat_compare_means( label = \"p.format\",method='wilcox.test',paired=FALSE,size=2.2,method.args = list(alternative = \"less\"),\n",
    "                   label.y=1.01,\n",
    "  comparisons = list(c(\"Older_Day 7\", \"Young_Day 7\")))+  \n",
    "stat_compare_means( label = \"p.format\",method='wilcox.test',paired=FALSE,size=2.2,method.args = list(alternative = \"less\"),\n",
    "                   label.y=1.01,\n",
    "  comparisons = list(c(\"Older_Day 0\", \"Young_Day 0\")))+\n",
    "scale_fill_manual(values=\"black\", name=\"\")  + \n",
    "scale_x_discrete(labels = c(\"Older_Day 0\" = \"Older\\nDay 0\", \n",
    "                              \"Older_Day 7\" = \"Older\\nDay 7\",\n",
    "                              \"Young_Day 0\" = \"Young\\nDay 0\",\n",
    "                              \"Young_Day 7\" = \"Young\\nDay 7\"))+ \n",
    "xlab(\"\") +\n",
    "scale_color_manual(values = c(\"Older\" = '#bf812d', \"Young\" = '#35978f'))+\n",
    "scale_y_continuous(limits = c(NA, NA),\n",
    "               expand = expansion(mult = c(0.1, 0.1)))+\n",
    "xlab('')+\n",
    "ylab('Median CD19 Protein Exp')+theme(\n",
    "panel.border = element_blank())   +\n",
    "theme(axis.line = element_line(colour = \"black\"),\n",
    "  legend.position = \"none\",\n",
    "  legend.title = element_blank(),\n",
    "  panel.grid.major = element_blank(),\n",
    "  panel.grid.minor = element_blank(),\n",
    "  panel.border = element_blank(),\n",
    "  panel.background = element_blank(),\n",
    "  strip.background = element_rect(linewidth = 0),\n",
    "  axis.title.x = element_text(margin = margin(t = 1)))+\n",
    "  theme(plot.title = element_text(hjust = 0.5))\n",
    "p1\n",
    "ggsave('FigureN.pdf',\n",
    "       p1,\n",
    "       width = 40/25.4,\n",
    "       height = 45/25.4)"
   ]
  },
  {
   "cell_type": "code",
   "execution_count": null,
   "id": "d7918b68-1d3b-4ade-8703-f1de26df9351",
   "metadata": {},
   "outputs": [],
   "source": []
  },
  {
   "cell_type": "code",
   "execution_count": null,
   "id": "ecbe867b-b317-4119-9f43-e8043fe945f3",
   "metadata": {},
   "outputs": [],
   "source": []
  },
  {
   "cell_type": "code",
   "execution_count": null,
   "id": "f044605e-476d-4da6-b54c-c340a82a7144",
   "metadata": {},
   "outputs": [],
   "source": []
  }
 ],
 "metadata": {
  "kernelspec": {
   "display_name": "R 4",
   "language": "R",
   "name": "ir4"
  },
  "language_info": {
   "codemirror_mode": "r",
   "file_extension": ".r",
   "mimetype": "text/x-r-source",
   "name": "R",
   "pygments_lexer": "r",
   "version": "4.3.2"
  }
 },
 "nbformat": 4,
 "nbformat_minor": 5
}
