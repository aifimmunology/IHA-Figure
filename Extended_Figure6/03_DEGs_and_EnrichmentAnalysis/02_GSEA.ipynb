{
 "cells": [
  {
   "cell_type": "code",
   "execution_count": 1,
   "id": "2bcb2860-c088-4753-ad0b-d16d3a4ef9ae",
   "metadata": {},
   "outputs": [
    {
     "name": "stderr",
     "output_type": "stream",
     "text": [
      "\n",
      "Attaching package: ‘data.table’\n",
      "\n",
      "\n",
      "The following objects are masked from ‘package:dplyr’:\n",
      "\n",
      "    between, first, last\n",
      "\n",
      "\n"
     ]
    }
   ],
   "source": [
    "suppressPackageStartupMessages(library(dplyr))\n",
    "suppressPackageStartupMessages(library(tidyr))\n",
    "suppressPackageStartupMessages(library(tibble))\n",
    "suppressPackageStartupMessages(library(stringr))\n",
    "library(parallel)\n",
    "library(fgsea)\n",
    "library(data.table)\n",
    "source('/home//jupyter/BRI_Figures_Final_V2/helper_function/helper_function_IHA.r')"
   ]
  },
  {
   "cell_type": "code",
   "execution_count": 2,
   "id": "c5506087-186a-4d09-adc1-871a36768b0f",
   "metadata": {},
   "outputs": [],
   "source": [
    "df<-read.csv(\"Deseq2_Result_Y2020-2021_Y2021-2022_D7.csv\")"
   ]
  },
  {
   "cell_type": "code",
   "execution_count": 3,
   "id": "0e7a0b30-68b2-4e8b-80f8-00bc2b2cddf9",
   "metadata": {},
   "outputs": [],
   "source": [
    "keep_celltypes <- c(\"Activated memory B cell\", \n",
    "                    \"CD27+ effector B cell\", \n",
    "                    \"CD27- effector B cell\", \n",
    "                    \"CD95 memory B cell\",\n",
    "                    \"Core memory B cell\",\n",
    "                    \"Core naive B cell\", \n",
    "                    \"Early memory B cell\",\n",
    "                    \"ISG+ naive B cell\",\n",
    "                    \"Plasma cell\",\n",
    "                    \"Transitional B cell\", \n",
    "                    \"Type 2 polarized memory B cell\")\n",
    "\n",
    "df_filtered<-df%>% filter(celltype %in% keep_celltypes)"
   ]
  },
  {
   "cell_type": "code",
   "execution_count": null,
   "id": "052479d0-8621-4f8a-b586-89a8520bcaef",
   "metadata": {},
   "outputs": [],
   "source": []
  },
  {
   "cell_type": "code",
   "execution_count": 12,
   "id": "c0ceef68-2711-4846-b3b4-805dc84c1ab5",
   "metadata": {},
   "outputs": [],
   "source": [
    "df_filtered<-df_filtered %>%\n",
    "    dplyr::mutate(rank_metric = ifelse(is.na(padj), NA, -log10(pvalue) * sign(log2FoldChange)))%>%\n",
    "    filter(!is.na(rank_metric))\n",
    "\n"
   ]
  },
  {
   "cell_type": "code",
   "execution_count": 13,
   "id": "50af108e-62f2-4bd2-927c-59c41e33fa40",
   "metadata": {},
   "outputs": [
    {
     "name": "stdout",
     "output_type": "stream",
     "text": [
      "[1] \"Activated memory B cell\"\n",
      "[1] 1\n",
      "[1] \"CD27+ effector B cell\"\n",
      "[1] 1\n",
      "[1] \"CD27- effector B cell\"\n",
      "[1] 1\n",
      "[1] \"CD95 memory B cell\"\n",
      "[1] \"Core memory B cell\"\n",
      "[1] 1\n",
      "[1] \"Core naive B cell\"\n",
      "[1] 1\n",
      "[1] \"Early memory B cell\"\n",
      "[1] \"ISG+ naive B cell\"\n",
      "[1] \"Plasma cell\"\n",
      "[1] 1\n",
      "[1] \"Transitional B cell\"\n",
      "[1] 1\n",
      "[1] \"Type 2 polarized memory B cell\"\n"
     ]
    }
   ],
   "source": [
    "all_combined_dfs <- list()\n",
    "pathway_df <- list()\n",
    "\n",
    "# Loop over each dataframe in deseq2_results\n",
    "for (cell_type in unique(df_filtered$celltype)) {\n",
    "  print(cell_type)\n",
    "\n",
    "  x <- df_filtered %>% filter(celltype==cell_type)\n",
    "  rownames(x)<-x$gene\n",
    "\n",
    "  ranked_genes <- setNames(x$rank_metric, rownames(x))\n",
    "  \n",
    "  # Load pathway file\n",
    "  pathways <- gmtPathways(\"Hallmark_pathways.gmt\")\n",
    "\n",
    "\n",
    "  # Run GSEA\n",
    "  set.seed(42)\n",
    "  fgseaResults <- fgsea(pathways = pathways, stats = ranked_genes)\n",
    "  significantPathways <- fgseaResults[fgseaResults$padj < 0.05,]\n",
    "  \n",
    "  # Skip if no significant pathways\n",
    "  if (nrow(significantPathways) == 0) next\n",
    "  \n",
    "  df <- as.data.frame(significantPathways)\n",
    "  df <- setorder(df, -NES)\n",
    "  df <- as.data.frame(df)\n",
    "    print(1)\n",
    "  pathway_df[[cell_type]] <- df\n",
    "  \n",
    "  # Make a dataframe of the leading edge genes\n",
    "  pathway_names <- df$pathway\n",
    "  leadingEdges <- df$leadingEdge\n",
    "    \n",
    "  # Filter out leading edges with length less than 6\n",
    "  filteredIndices <- sapply(leadingEdges, function(le) length(unlist(le)) >= 6)\n",
    "  filteredPathwayNames <- pathway_names[filteredIndices]\n",
    "  filteredLeadingEdges <- leadingEdges[filteredIndices]\n",
    "                          \n",
    "  significantPathways$celltype<-cell_type                      \n",
    "\n",
    "  \n",
    "  # Add the combinedDf to the list\n",
    "  all_combined_dfs[[cell_type]] <- significantPathways\n",
    "}\n",
    "                        "
   ]
  },
  {
   "cell_type": "code",
   "execution_count": 14,
   "id": "89036924-190b-4b61-9b72-f4dca7aab024",
   "metadata": {},
   "outputs": [],
   "source": [
    "df<-do.call(rbind,all_combined_dfs)\n"
   ]
  },
  {
   "cell_type": "code",
   "execution_count": 18,
   "id": "22368387-98ee-4697-9c94-2af9b07cdf69",
   "metadata": {},
   "outputs": [],
   "source": [
    "df$leadingEdge<-as.character(df$leadingEdge)\n"
   ]
  },
  {
   "cell_type": "code",
   "execution_count": 19,
   "id": "64300f9f-4e4c-4de6-8fea-9993c5c402d1",
   "metadata": {},
   "outputs": [],
   "source": [
    "write.csv(df,\"gsea_result.csv\")"
   ]
  },
  {
   "cell_type": "code",
   "execution_count": 23,
   "id": "6c9cbf55-76e3-44f6-b183-9e1f7668c4b7",
   "metadata": {},
   "outputs": [],
   "source": [
    "df_filtered_cd27pos_effector_B<-df_filtered%>% filter(celltype==\"CD27+ effector B cell\")"
   ]
  },
  {
   "cell_type": "code",
   "execution_count": 24,
   "id": "449f7ca7-192a-4df4-86db-953a4c5e1a4c",
   "metadata": {},
   "outputs": [],
   "source": [
    "write.csv(df_filtered_cd27pos_effector_B,\"df_filtered_cd27pos_effector_B.csv\")"
   ]
  },
  {
   "cell_type": "code",
   "execution_count": 2,
   "id": "2ffd7c83-a5bc-4fdd-bfbd-470a541a077f",
   "metadata": {},
   "outputs": [
    {
     "data": {
      "text/plain": [
       "R version 4.3.2 (2023-10-31)\n",
       "Platform: x86_64-conda-linux-gnu (64-bit)\n",
       "Running under: Ubuntu 20.04.6 LTS\n",
       "\n",
       "Matrix products: default\n",
       "BLAS/LAPACK: /opt/conda/lib/libopenblasp-r0.3.25.so;  LAPACK version 3.11.0\n",
       "\n",
       "locale:\n",
       " [1] LC_CTYPE=C.UTF-8       LC_NUMERIC=C           LC_TIME=C.UTF-8       \n",
       " [4] LC_COLLATE=C.UTF-8     LC_MONETARY=C.UTF-8    LC_MESSAGES=C.UTF-8   \n",
       " [7] LC_PAPER=C.UTF-8       LC_NAME=C              LC_ADDRESS=C          \n",
       "[10] LC_TELEPHONE=C         LC_MEASUREMENT=C.UTF-8 LC_IDENTIFICATION=C   \n",
       "\n",
       "time zone: Etc/UTC\n",
       "tzcode source: system (glibc)\n",
       "\n",
       "attached base packages:\n",
       "[1] parallel  stats     graphics  grDevices utils     datasets  methods  \n",
       "[8] base     \n",
       "\n",
       "other attached packages:\n",
       "[1] data.table_1.15.4 fgsea_1.28.0      stringr_1.5.1     tibble_3.2.1     \n",
       "[5] tidyr_1.3.1       dplyr_1.1.4      \n",
       "\n",
       "loaded via a namespace (and not attached):\n",
       " [1] Matrix_1.6-3        gtable_0.3.5        jsonlite_1.8.8     \n",
       " [4] compiler_4.3.2      crayon_1.5.2        tidyselect_1.2.1   \n",
       " [7] Rcpp_1.0.12         IRdisplay_1.1       scales_1.3.0       \n",
       "[10] uuid_1.2-0          BiocParallel_1.36.0 fastmap_1.2.0      \n",
       "[13] IRkernel_1.3.2      lattice_0.22-5      ggplot2_3.5.0      \n",
       "[16] R6_2.5.1            generics_0.1.3      munsell_0.5.1      \n",
       "[19] pillar_1.9.0        rlang_1.1.4         fastmatch_1.1-4    \n",
       "[22] utf8_1.2.4          stringi_1.8.4       repr_1.1.7         \n",
       "[25] cli_3.6.3           magrittr_2.0.3      digest_0.6.35      \n",
       "[28] grid_4.3.2          base64enc_0.1-3     cowplot_1.1.3      \n",
       "[31] pbdZMQ_0.3-10       lifecycle_1.0.4     vctrs_0.6.5        \n",
       "[34] evaluate_0.24.0     glue_1.7.0          codetools_0.2-19   \n",
       "[37] colorspace_2.1-0    fansi_1.0.6         purrr_1.0.2        \n",
       "[40] tools_4.3.2         pkgconfig_2.0.3     htmltools_0.5.8.1  "
      ]
     },
     "metadata": {},
     "output_type": "display_data"
    }
   ],
   "source": [
    "sessionInfo()"
   ]
  },
  {
   "cell_type": "code",
   "execution_count": null,
   "id": "3c965b98-1d0e-4116-8bbd-6b24676e54f4",
   "metadata": {},
   "outputs": [],
   "source": []
  }
 ],
 "metadata": {
  "kernelspec": {
   "display_name": "R 4",
   "language": "R",
   "name": "ir4"
  },
  "language_info": {
   "codemirror_mode": "r",
   "file_extension": ".r",
   "mimetype": "text/x-r-source",
   "name": "R",
   "pygments_lexer": "r",
   "version": "4.3.2"
  }
 },
 "nbformat": 4,
 "nbformat_minor": 5
}
