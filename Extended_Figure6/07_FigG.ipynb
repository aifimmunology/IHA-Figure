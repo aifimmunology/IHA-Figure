{
 "cells": [
  {
   "cell_type": "code",
   "execution_count": 1,
   "id": "b23132c5-7342-4d56-888b-7ef556a33cf2",
   "metadata": {},
   "outputs": [
    {
     "name": "stderr",
     "output_type": "stream",
     "text": [
      "Warning message:\n",
      "“package ‘dplyr’ was built under R version 4.3.3”\n",
      "Warning message:\n",
      "“package ‘tidyr’ was built under R version 4.3.3”\n",
      "Warning message:\n",
      "“package ‘tibble’ was built under R version 4.3.3”\n",
      "Warning message:\n",
      "“package ‘stringr’ was built under R version 4.3.3”\n",
      "Warning message:\n",
      "“package ‘patchwork’ was built under R version 4.3.3”\n",
      "Warning message:\n",
      "“package ‘plyr’ was built under R version 4.3.3”\n",
      "------------------------------------------------------------------------------\n",
      "\n",
      "You have loaded plyr after dplyr - this is likely to cause problems.\n",
      "If you need functions from both plyr and dplyr, please load plyr first, then dplyr:\n",
      "library(plyr); library(dplyr)\n",
      "\n",
      "------------------------------------------------------------------------------\n",
      "\n",
      "\n",
      "Attaching package: ‘plyr’\n",
      "\n",
      "\n",
      "The following objects are masked from ‘package:dplyr’:\n",
      "\n",
      "    arrange, count, desc, failwith, id, mutate, rename, summarise,\n",
      "    summarize\n",
      "\n",
      "\n",
      "Warning message:\n",
      "“package ‘ggbeeswarm’ was built under R version 4.3.3”\n",
      "Loading required package: ggplot2\n",
      "\n",
      "Warning message:\n",
      "“package ‘rstatix’ was built under R version 4.3.3”\n",
      "\n",
      "Attaching package: ‘rstatix’\n",
      "\n",
      "\n",
      "The following objects are masked from ‘package:plyr’:\n",
      "\n",
      "    desc, mutate\n",
      "\n",
      "\n",
      "The following object is masked from ‘package:stats’:\n",
      "\n",
      "    filter\n",
      "\n",
      "\n",
      "\n",
      "Attaching package: ‘ggpubr’\n",
      "\n",
      "\n",
      "The following object is masked from ‘package:plyr’:\n",
      "\n",
      "    mutate\n",
      "\n",
      "\n"
     ]
    }
   ],
   "source": [
    "suppressPackageStartupMessages(library(dplyr))\n",
    "suppressPackageStartupMessages(library(tidyr))\n",
    "suppressPackageStartupMessages(library(tibble))\n",
    "suppressPackageStartupMessages(library(stringr))\n",
    "suppressPackageStartupMessages(library(patchwork))\n",
    "\n",
    "library(plyr)\n",
    "library(ggbeeswarm)\n",
    "library(rstatix)\n",
    "library(ggpubr)\n",
    "library(ggplot2)"
   ]
  },
  {
   "cell_type": "code",
   "execution_count": 2,
   "id": "4ed25ce7-c65b-469f-ba12-29b2c35848de",
   "metadata": {},
   "outputs": [],
   "source": [
    "df<-read.csv(\"04_B_cell_flow/Flow_Frequency_CD27neg_effector_B_Isotye.csv\")"
   ]
  },
  {
   "cell_type": "code",
   "execution_count": null,
   "id": "2ba0a626-5640-4b0b-abc2-87db564cadbe",
   "metadata": {},
   "outputs": [],
   "source": []
  },
  {
   "cell_type": "code",
   "execution_count": 3,
   "id": "c4472fc4-a11e-4a40-917d-5781bcfd99b7",
   "metadata": {},
   "outputs": [],
   "source": [
    "df <- df %>%\n",
    "  mutate(`Age Group` = case_when(\n",
    "    startsWith(donor, \"BR1\") ~ 'Young',\n",
    "    TRUE ~ 'Older'\n",
    "  ))"
   ]
  },
  {
   "cell_type": "code",
   "execution_count": 4,
   "id": "a46c7645-5139-4ac7-b7a7-54dbb4e66ead",
   "metadata": {},
   "outputs": [],
   "source": [
    "df<-df %>% mutate(Flu_Day=case_when(timepoint==\"day0\"~\"Day 0\", TRUE~\"Day 7\"))\n",
    "\n",
    "df$`Age Group`<-factor(df$`Age Group`,levels=c(\"Young\",\"Older\"))"
   ]
  },
  {
   "cell_type": "code",
   "execution_count": 5,
   "id": "f192d9c0-c178-4619-98c9-79958eda1428",
   "metadata": {},
   "outputs": [],
   "source": [
    "df<-df %>%filter(Isotype=='IgG')"
   ]
  },
  {
   "cell_type": "code",
   "execution_count": 6,
   "id": "f98b52a8-4ca9-46ac-b740-b012d0837485",
   "metadata": {},
   "outputs": [],
   "source": [
    "df$Group<-paste0(df$`Age Group`,'_',df$Flu_Day)\n",
    "df$Group<-factor(df$Group,levels=c('Young_Day 0', 'Older_Day 0','Young_Day 7',\n",
    "                                      'Older_Day 7'))"
   ]
  },
  {
   "cell_type": "code",
   "execution_count": 7,
   "id": "2d9b713f-69e6-4ac1-8a10-5d5d177bcce0",
   "metadata": {},
   "outputs": [],
   "source": [
    "\n",
    "write.csv(df %>% filter(timepoint %in% c('day7')) %>% select(donor,Group,`Age Group`,timepoint,frequency_clr),\n",
    "          \"/home//workspace/Source_Data/Extended_Fig6g.csv\",row.names=FALSE)"
   ]
  },
  {
   "cell_type": "code",
   "execution_count": 8,
   "id": "50a11cfc-ec1a-476d-8350-65a8297b9d00",
   "metadata": {},
   "outputs": [
    {
     "data": {
      "text/html": [
       "<table class=\"dataframe\">\n",
       "<caption>A data.frame: 12 × 10</caption>\n",
       "<thead>\n",
       "\t<tr><th scope=col>X</th><th scope=col>donor</th><th scope=col>timepoint</th><th scope=col>Isotype</th><th scope=col>Counts</th><th scope=col>frequency</th><th scope=col>frequency_clr</th><th scope=col>Age Group</th><th scope=col>Flu_Day</th><th scope=col>Group</th></tr>\n",
       "\t<tr><th scope=col>&lt;int&gt;</th><th scope=col>&lt;chr&gt;</th><th scope=col>&lt;chr&gt;</th><th scope=col>&lt;chr&gt;</th><th scope=col>&lt;int&gt;</th><th scope=col>&lt;dbl&gt;</th><th scope=col>&lt;dbl&gt;</th><th scope=col>&lt;fct&gt;</th><th scope=col>&lt;chr&gt;</th><th scope=col>&lt;fct&gt;</th></tr>\n",
       "</thead>\n",
       "<tbody>\n",
       "\t<tr><td>103</td><td>BR1025</td><td>day7</td><td>IgG</td><td> 131</td><td>37.21591</td><td>1.2411841</td><td>Young</td><td>Day 7</td><td>Young_Day 7</td></tr>\n",
       "\t<tr><td>104</td><td>BR1031</td><td>day7</td><td>IgG</td><td>1381</td><td>58.54175</td><td>2.4180307</td><td>Young</td><td>Day 7</td><td>Young_Day 7</td></tr>\n",
       "\t<tr><td>105</td><td>BR1032</td><td>day7</td><td>IgG</td><td>  90</td><td>51.72414</td><td>1.4988373</td><td>Young</td><td>Day 7</td><td>Young_Day 7</td></tr>\n",
       "\t<tr><td>106</td><td>BR1047</td><td>day7</td><td>IgG</td><td> 118</td><td>23.93509</td><td>1.4116662</td><td>Young</td><td>Day 7</td><td>Young_Day 7</td></tr>\n",
       "\t<tr><td>107</td><td>BR1050</td><td>day7</td><td>IgG</td><td> 400</td><td>39.25417</td><td>1.2495390</td><td>Young</td><td>Day 7</td><td>Young_Day 7</td></tr>\n",
       "\t<tr><td>108</td><td>BR1057</td><td>day7</td><td>IgG</td><td>  77</td><td>21.32964</td><td>1.3213360</td><td>Young</td><td>Day 7</td><td>Young_Day 7</td></tr>\n",
       "\t<tr><td>109</td><td>BR2013</td><td>day7</td><td>IgG</td><td>  90</td><td>31.46853</td><td>0.9900922</td><td>Older</td><td>Day 7</td><td>Older_Day 7</td></tr>\n",
       "\t<tr><td>110</td><td>BR2021</td><td>day7</td><td>IgG</td><td>  67</td><td>23.02405</td><td>1.1846152</td><td>Older</td><td>Day 7</td><td>Older_Day 7</td></tr>\n",
       "\t<tr><td>111</td><td>BR2023</td><td>day7</td><td>IgG</td><td>  30</td><td>12.00000</td><td>0.8921383</td><td>Older</td><td>Day 7</td><td>Older_Day 7</td></tr>\n",
       "\t<tr><td>112</td><td>BR2039</td><td>day7</td><td>IgG</td><td>  51</td><td>20.98765</td><td>0.6755245</td><td>Older</td><td>Day 7</td><td>Older_Day 7</td></tr>\n",
       "\t<tr><td>113</td><td>BR2044</td><td>day7</td><td>IgG</td><td> 145</td><td>19.20530</td><td>1.3740088</td><td>Older</td><td>Day 7</td><td>Older_Day 7</td></tr>\n",
       "\t<tr><td>114</td><td>BR2051</td><td>day7</td><td>IgG</td><td> 145</td><td>25.21739</td><td>0.9242947</td><td>Older</td><td>Day 7</td><td>Older_Day 7</td></tr>\n",
       "</tbody>\n",
       "</table>\n"
      ],
      "text/latex": [
       "A data.frame: 12 × 10\n",
       "\\begin{tabular}{llllllllll}\n",
       " X & donor & timepoint & Isotype & Counts & frequency & frequency\\_clr & Age Group & Flu\\_Day & Group\\\\\n",
       " <int> & <chr> & <chr> & <chr> & <int> & <dbl> & <dbl> & <fct> & <chr> & <fct>\\\\\n",
       "\\hline\n",
       "\t 103 & BR1025 & day7 & IgG &  131 & 37.21591 & 1.2411841 & Young & Day 7 & Young\\_Day 7\\\\\n",
       "\t 104 & BR1031 & day7 & IgG & 1381 & 58.54175 & 2.4180307 & Young & Day 7 & Young\\_Day 7\\\\\n",
       "\t 105 & BR1032 & day7 & IgG &   90 & 51.72414 & 1.4988373 & Young & Day 7 & Young\\_Day 7\\\\\n",
       "\t 106 & BR1047 & day7 & IgG &  118 & 23.93509 & 1.4116662 & Young & Day 7 & Young\\_Day 7\\\\\n",
       "\t 107 & BR1050 & day7 & IgG &  400 & 39.25417 & 1.2495390 & Young & Day 7 & Young\\_Day 7\\\\\n",
       "\t 108 & BR1057 & day7 & IgG &   77 & 21.32964 & 1.3213360 & Young & Day 7 & Young\\_Day 7\\\\\n",
       "\t 109 & BR2013 & day7 & IgG &   90 & 31.46853 & 0.9900922 & Older & Day 7 & Older\\_Day 7\\\\\n",
       "\t 110 & BR2021 & day7 & IgG &   67 & 23.02405 & 1.1846152 & Older & Day 7 & Older\\_Day 7\\\\\n",
       "\t 111 & BR2023 & day7 & IgG &   30 & 12.00000 & 0.8921383 & Older & Day 7 & Older\\_Day 7\\\\\n",
       "\t 112 & BR2039 & day7 & IgG &   51 & 20.98765 & 0.6755245 & Older & Day 7 & Older\\_Day 7\\\\\n",
       "\t 113 & BR2044 & day7 & IgG &  145 & 19.20530 & 1.3740088 & Older & Day 7 & Older\\_Day 7\\\\\n",
       "\t 114 & BR2051 & day7 & IgG &  145 & 25.21739 & 0.9242947 & Older & Day 7 & Older\\_Day 7\\\\\n",
       "\\end{tabular}\n"
      ],
      "text/markdown": [
       "\n",
       "A data.frame: 12 × 10\n",
       "\n",
       "| X &lt;int&gt; | donor &lt;chr&gt; | timepoint &lt;chr&gt; | Isotype &lt;chr&gt; | Counts &lt;int&gt; | frequency &lt;dbl&gt; | frequency_clr &lt;dbl&gt; | Age Group &lt;fct&gt; | Flu_Day &lt;chr&gt; | Group &lt;fct&gt; |\n",
       "|---|---|---|---|---|---|---|---|---|---|\n",
       "| 103 | BR1025 | day7 | IgG |  131 | 37.21591 | 1.2411841 | Young | Day 7 | Young_Day 7 |\n",
       "| 104 | BR1031 | day7 | IgG | 1381 | 58.54175 | 2.4180307 | Young | Day 7 | Young_Day 7 |\n",
       "| 105 | BR1032 | day7 | IgG |   90 | 51.72414 | 1.4988373 | Young | Day 7 | Young_Day 7 |\n",
       "| 106 | BR1047 | day7 | IgG |  118 | 23.93509 | 1.4116662 | Young | Day 7 | Young_Day 7 |\n",
       "| 107 | BR1050 | day7 | IgG |  400 | 39.25417 | 1.2495390 | Young | Day 7 | Young_Day 7 |\n",
       "| 108 | BR1057 | day7 | IgG |   77 | 21.32964 | 1.3213360 | Young | Day 7 | Young_Day 7 |\n",
       "| 109 | BR2013 | day7 | IgG |   90 | 31.46853 | 0.9900922 | Older | Day 7 | Older_Day 7 |\n",
       "| 110 | BR2021 | day7 | IgG |   67 | 23.02405 | 1.1846152 | Older | Day 7 | Older_Day 7 |\n",
       "| 111 | BR2023 | day7 | IgG |   30 | 12.00000 | 0.8921383 | Older | Day 7 | Older_Day 7 |\n",
       "| 112 | BR2039 | day7 | IgG |   51 | 20.98765 | 0.6755245 | Older | Day 7 | Older_Day 7 |\n",
       "| 113 | BR2044 | day7 | IgG |  145 | 19.20530 | 1.3740088 | Older | Day 7 | Older_Day 7 |\n",
       "| 114 | BR2051 | day7 | IgG |  145 | 25.21739 | 0.9242947 | Older | Day 7 | Older_Day 7 |\n",
       "\n"
      ],
      "text/plain": [
       "   X   donor  timepoint Isotype Counts frequency frequency_clr Age Group\n",
       "1  103 BR1025 day7      IgG      131   37.21591  1.2411841     Young    \n",
       "2  104 BR1031 day7      IgG     1381   58.54175  2.4180307     Young    \n",
       "3  105 BR1032 day7      IgG       90   51.72414  1.4988373     Young    \n",
       "4  106 BR1047 day7      IgG      118   23.93509  1.4116662     Young    \n",
       "5  107 BR1050 day7      IgG      400   39.25417  1.2495390     Young    \n",
       "6  108 BR1057 day7      IgG       77   21.32964  1.3213360     Young    \n",
       "7  109 BR2013 day7      IgG       90   31.46853  0.9900922     Older    \n",
       "8  110 BR2021 day7      IgG       67   23.02405  1.1846152     Older    \n",
       "9  111 BR2023 day7      IgG       30   12.00000  0.8921383     Older    \n",
       "10 112 BR2039 day7      IgG       51   20.98765  0.6755245     Older    \n",
       "11 113 BR2044 day7      IgG      145   19.20530  1.3740088     Older    \n",
       "12 114 BR2051 day7      IgG      145   25.21739  0.9242947     Older    \n",
       "   Flu_Day Group      \n",
       "1  Day 7   Young_Day 7\n",
       "2  Day 7   Young_Day 7\n",
       "3  Day 7   Young_Day 7\n",
       "4  Day 7   Young_Day 7\n",
       "5  Day 7   Young_Day 7\n",
       "6  Day 7   Young_Day 7\n",
       "7  Day 7   Older_Day 7\n",
       "8  Day 7   Older_Day 7\n",
       "9  Day 7   Older_Day 7\n",
       "10 Day 7   Older_Day 7\n",
       "11 Day 7   Older_Day 7\n",
       "12 Day 7   Older_Day 7"
      ]
     },
     "metadata": {},
     "output_type": "display_data"
    }
   ],
   "source": [
    "df %>% filter(timepoint %in% c('day7'))"
   ]
  },
  {
   "cell_type": "code",
   "execution_count": 10,
   "id": "aa912157-f743-4fde-abae-eeecd8c43ccd",
   "metadata": {},
   "outputs": [
    {
     "name": "stderr",
     "output_type": "stream",
     "text": [
      "Warning message in geom_point(alpha = 1, size = 0.8, width = 0.3):\n",
      "“\u001b[1m\u001b[22mIgnoring unknown parameters: `width`”\n",
      "Warning message:\n",
      "“\u001b[1m\u001b[22mUsing `size` aesthetic for lines was deprecated in ggplot2 3.4.0.\n",
      "\u001b[36mℹ\u001b[39m Please use `linewidth` instead.”\n",
      "Warning message in stat_summary(fun = \"median\", aes(fill = \"Median\"), geom = \"crossbar\", :\n",
      "“\u001b[1m\u001b[22mIgnoring unknown parameters: `shape`”\n"
     ]
    },
    {
     "data": {
      "image/png": "[encoded data removed]",
      "text/plain": [
       "plot without title"
      ]
     },
     "metadata": {
      "image/png": {
       "height": 70.8661,
       "width": 118.1102
      }
     },
     "output_type": "display_data"
    }
   ],
   "source": [
    "options(repr.plot.width = 40/25.4, repr.plot.height = 45/25.4)\n",
    "\n",
    "p1<-ggplot(df %>% filter(timepoint %in% c('day7')), aes(Group, frequency_clr, color=`Age Group`)) + \n",
    "geom_point(alpha=1.0, size=0.8, width=0.3) +\n",
    "stat_summary(fun=\"median\", aes(fill=\"Median\"),geom=\"crossbar\", shape=18, size=0.2, \n",
    "           color='black', na.rm=T) + \n",
    "theme_classic(base_size=6) +  \n",
    "stat_compare_means( label = \"p.format\",method='wilcox.test',paired=FALSE,size=2.2,method.args = list(alternative = \"less\"),\n",
    "                   label.y=2.5,\n",
    "  comparisons = list(c(\"Older_Day 7\", \"Young_Day 7\")))+  \n",
    "\n",
    "scale_fill_manual(values=\"black\", name=\"\") + \n",
    "xlab(\"\") +\n",
    "scale_color_manual(values = c(\"Older\" = '#bf812d', \"Young\" = '#35978f'))+\n",
    "scale_y_continuous(limits = c(NA, NA),\n",
    "               expand = expansion(mult = c(0.1, 0.1)))+\n",
    "xlab('')+\n",
    "ylab('Frequency-CLR') + \n",
    "scale_x_discrete(labels = c(\n",
    "                              \"Older_Day 7\" = \"Older\\nDay 7\",\n",
    "                \n",
    "                              \"Young_Day 7\" = \"Young\\nDay 7\"))+theme(\n",
    "panel.border = element_blank())   +\n",
    "theme(axis.line = element_line(colour = \"black\"),\n",
    "  legend.position = \"none\",\n",
    "  legend.title = element_blank(),\n",
    "  panel.grid.major = element_blank(),\n",
    "  panel.grid.minor = element_blank(),\n",
    "  panel.border = element_blank(),\n",
    "  panel.background = element_blank(),\n",
    "  strip.background = element_rect(linewidth = 0),\n",
    "  axis.title.x = element_text(margin = margin(t = 1)))+\n",
    "  theme(plot.title = element_text(hjust = 0.5))\n",
    "\n",
    "\n",
    "options(repr.plot.width = 50/25.4, repr.plot.height = 30/25.4)\n",
    "\n",
    "p1\n",
    "\n",
    "ggsave('FigureG.pdf',\n",
    "       p1,\n",
    "       width = 40/25.4,\n",
    "       height = 30/25.4)"
   ]
  },
  {
   "cell_type": "code",
   "execution_count": null,
   "id": "2ca32f90-24c4-4a13-bf9e-3622dc7092f2",
   "metadata": {},
   "outputs": [],
   "source": []
  },
  {
   "cell_type": "code",
   "execution_count": null,
   "id": "c103ff7b-8a82-41ac-a5ad-a01ead1f1d47",
   "metadata": {},
   "outputs": [],
   "source": []
  },
  {
   "cell_type": "code",
   "execution_count": null,
   "id": "950df483-21c6-491e-8545-e7ae47522c38",
   "metadata": {},
   "outputs": [],
   "source": []
  },
  {
   "cell_type": "code",
   "execution_count": null,
   "id": "66126c20-bd80-4e1b-9172-595e2bccad7c",
   "metadata": {},
   "outputs": [],
   "source": []
  }
 ],
 "metadata": {
  "kernelspec": {
   "display_name": "R_BRI_Figures",
   "language": "R",
   "name": "r_bri_figures"
  },
  "language_info": {
   "codemirror_mode": "r",
   "file_extension": ".r",
   "mimetype": "text/x-r-source",
   "name": "R",
   "pygments_lexer": "r",
   "version": "4.3.2"
  }
 },
 "nbformat": 4,
 "nbformat_minor": 5
}
