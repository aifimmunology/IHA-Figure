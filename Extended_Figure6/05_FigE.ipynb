{
 "cells": [
  {
   "cell_type": "code",
   "execution_count": 1,
   "id": "d8ecddf9-e8f1-4abc-9adc-f1ef3be227a3",
   "metadata": {},
   "outputs": [
    {
     "name": "stderr",
     "output_type": "stream",
     "text": [
      "Warning message:\n",
      "“package ‘dplyr’ was built under R version 4.3.3”\n",
      "Warning message:\n",
      "“package ‘tidyr’ was built under R version 4.3.3”\n",
      "Warning message:\n",
      "“package ‘tibble’ was built under R version 4.3.3”\n",
      "Warning message:\n",
      "“package ‘stringr’ was built under R version 4.3.3”\n",
      "Warning message:\n",
      "“package ‘fgsea’ was built under R version 4.3.3”\n",
      "Warning message:\n",
      "“package ‘data.table’ was built under R version 4.3.3”\n",
      "\n",
      "Attaching package: ‘data.table’\n",
      "\n",
      "\n",
      "The following objects are masked from ‘package:dplyr’:\n",
      "\n",
      "    between, first, last\n",
      "\n",
      "\n"
     ]
    }
   ],
   "source": [
    "suppressPackageStartupMessages(library(dplyr))\n",
    "suppressPackageStartupMessages(library(tidyr))\n",
    "suppressPackageStartupMessages(library(tibble))\n",
    "suppressPackageStartupMessages(library(stringr))\n",
    "library(ggplot2)\n",
    "library(fgsea)\n",
    "library(data.table)"
   ]
  },
  {
   "cell_type": "code",
   "execution_count": 3,
   "id": "09837c25-1c14-423d-9e3d-17c1d86b555f",
   "metadata": {},
   "outputs": [],
   "source": [
    "ranked_genes_cd27neg_effector_b<-read.csv(\"03_DEGs_and_EnrichmentAnalysis/df_filtered_cd27neg_effector_B.csv\")\n",
    "gmt<-gmtPathways(\"03_DEGs_and_EnrichmentAnalysis/Hallmark_pathways.gmt\")"
   ]
  },
  {
   "cell_type": "code",
   "execution_count": 14,
   "id": "b4c5988a-43ab-4f5c-8ec7-42a77273d0c2",
   "metadata": {},
   "outputs": [],
   "source": [
    "ranked_genes <- setNames(ranked_genes_cd27neg_effector_b$rank_metric,ranked_genes_cd27neg_effector_b$gene)\n",
    "source_data<-as.data.frame(ranked_genes)\n",
    "colnames(source_data)<-c(\"rank\")\n",
    "write.csv(source_data,\n",
    "          \"/home//workspace/Source_Data/Extended_Fig6e.csv\")"
   ]
  },
  {
   "cell_type": "code",
   "execution_count": 6,
   "id": "90d781e5-d08c-43cb-bbd4-c067be7614b1",
   "metadata": {},
   "outputs": [],
   "source": [
    "\n",
    "enrichmentPlot <- plotEnrichment(gmt[['HALLMARK_REACTIVE_OXYGEN_SPECIES_PATHWAY']], ranked_genes) \n",
    "  \n",
    "data <- ggplot_build(enrichmentPlot)$data"
   ]
  },
  {
   "cell_type": "code",
   "execution_count": null,
   "id": "dc2f5043-b4f9-46a8-85f5-8a2dc285d5d7",
   "metadata": {},
   "outputs": [],
   "source": [
    "options(repr.plot.width = 60/25.4, repr.plot.height = 30/25.4)\n",
    "\n",
    "  \n",
    "  # Create a new plot with custom line color and retaining other elements\n",
    "  p <- ggplot() +\n",
    "    geom_line(data = data[[1]], \n",
    "              aes(x = x, y = y), \n",
    "              color = \"maroon\") +\n",
    "    geom_segment(data = data[[1]], \n",
    "                 aes(x = x, xend = x, y = -0.1, yend = 0), \n",
    "                 color = \"black\", \n",
    "                 size = 0.5) +\n",
    "    ggtitle('HALLMARK REACTIVE\\nOXYGEN SPECIES PATHWAY') +\n",
    "    labs(\n",
    "      x = \"Ranked Genes at Day 7\",\n",
    "      y = \"Enrichment\\nScore\",\n",
    "      caption = \"Young  \\u27F5\\u2500\\u2500\\u2500\\u2500\\u2500\\u2500\\u2500\\u2500\\u2500\\u2500\\u2500\\u2500\\u2500\\u2500\\u27F6 Older\"\n",
    "    ) +\n",
    "    theme_minimal(base_size=6) +\n",
    "    theme(\n",
    "      plot.title = element_text(hjust = 0.5), # Center the title\n",
    "      plot.caption = element_text(hjust = 0.5, vjust = -0.5, size = 6),\n",
    "      panel.grid.major = element_line(colour = \"grey\", linewidth = 0.15),  \n",
    "      panel.grid.minor = element_line(colour = \"grey\", linewidth = 0.05), \n",
    "    )\n",
    "\n",
    "p\n",
    "ggsave('FigureC.pdf',p,width = 60/25.4,height = 30/25.4)"
   ]
  },
  {
   "cell_type": "code",
   "execution_count": null,
   "id": "d6180cc2-c385-4e7d-b84a-96019ddd574b",
   "metadata": {},
   "outputs": [],
   "source": []
  }
 ],
 "metadata": {
  "kernelspec": {
   "display_name": "R_BRI_Figures",
   "language": "R",
   "name": "r_bri_figures"
  },
  "language_info": {
   "codemirror_mode": "r",
   "file_extension": ".r",
   "mimetype": "text/x-r-source",
   "name": "R",
   "pygments_lexer": "r",
   "version": "4.3.2"
  }
 },
 "nbformat": 4,
 "nbformat_minor": 5
}
