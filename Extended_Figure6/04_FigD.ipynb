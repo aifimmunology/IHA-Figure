{
 "cells": [
  {
   "cell_type": "code",
   "execution_count": 1,
   "id": "5be72d02-6ce9-4d46-a51b-03251b073480",
   "metadata": {},
   "outputs": [
    {
     "name": "stderr",
     "output_type": "stream",
     "text": [
      "Warning message:\n",
      "“package ‘dplyr’ was built under R version 4.3.3”\n",
      "Warning message:\n",
      "“package ‘tidyr’ was built under R version 4.3.3”\n",
      "Warning message:\n",
      "“package ‘tibble’ was built under R version 4.3.3”\n",
      "Warning message:\n",
      "“package ‘stringr’ was built under R version 4.3.3”\n",
      "Warning message:\n",
      "“package ‘pheatmap’ was built under R version 4.3.3”\n"
     ]
    }
   ],
   "source": [
    "suppressPackageStartupMessages(library(dplyr))\n",
    "suppressPackageStartupMessages(library(tidyr))\n",
    "suppressPackageStartupMessages(library(tibble))\n",
    "suppressPackageStartupMessages(library(stringr))\n",
    "library(pheatmap)\n"
   ]
  },
  {
   "cell_type": "code",
   "execution_count": 2,
   "id": "e9043e21-c72f-4a7b-9873-29f113d12f35",
   "metadata": {},
   "outputs": [],
   "source": [
    "save_pheatmap <- function(x, filename, width=12, height=12){\n",
    "  stopifnot(!missing(x))\n",
    "  stopifnot(!missing(filename))\n",
    "  if(grepl(\".png\",filename)){\n",
    "    png(filename, width=width, height=height, units = \"in\", res=300)\n",
    "    grid::grid.newpage()\n",
    "    grid::grid.draw(x$gtable)\n",
    "    dev.off()\n",
    "  }\n",
    "  else if(grepl(\".pdf\",filename)){\n",
    "    pdf(filename, width=width, height=height)\n",
    "    grid::grid.newpage()\n",
    "    grid::grid.draw(x$gtable)\n",
    "    dev.off()\n",
    "  }\n",
    "  else{\n",
    "    print(\"Filename did not contain '.png' or '.pdf'\")\n",
    "  }}"
   ]
  },
  {
   "cell_type": "code",
   "execution_count": 3,
   "id": "b24d1999-6eff-4395-8001-a8b1e593edf9",
   "metadata": {},
   "outputs": [],
   "source": [
    "df<-read.csv(\"03_DEGs_and_EnrichmentAnalysis/SLEA_3_Bcells.csv\") %>% filter(celltype=='Core memory B cell')\n",
    "df<-df %>% arrange(cohort.cohortGuid,Flu_Year,Flu_Day)"
   ]
  },
  {
   "cell_type": "code",
   "execution_count": 4,
   "id": "877345a7-6fbe-43bd-852d-00f91e035e4d",
   "metadata": {},
   "outputs": [],
   "source": [
    "df_wide<-df[2:7] %>%\n",
    "  pivot_wider(names_from = c(Flu_Day, cohort.cohortGuid\t,Flu_Year), values_from = mean_pathway_score) %>% as.data.frame()"
   ]
  },
  {
   "cell_type": "code",
   "execution_count": 5,
   "id": "9e6bb449-a5a2-4cd9-9ca8-38fd594a5b6f",
   "metadata": {},
   "outputs": [],
   "source": [
    "rownames(df_wide)<-gsub(\"HALLMARK_\",\"\",df_wide$pathway)"
   ]
  },
  {
   "cell_type": "code",
   "execution_count": 6,
   "id": "fbcd82fc-65ab-4c9b-b275-931809876a36",
   "metadata": {},
   "outputs": [],
   "source": [
    "df_wide<-df_wide[3:10]"
   ]
  },
  {
   "cell_type": "code",
   "execution_count": 7,
   "id": "06d51f57-3226-4af3-984a-d79787836f3c",
   "metadata": {},
   "outputs": [],
   "source": [
    "column_labels <- c(\"Year 1 Day 0\", \"Year 1 Day 7\", \"Year 2 Day 0\", \"Year 2 Day 7\", \n",
    "                   \"Year 1 Day 0\", \"Year 1 Day 7\", \"Year 2 Day 0\", \"Year 2 Day 7\")"
   ]
  },
  {
   "cell_type": "code",
   "execution_count": 8,
   "id": "4916ee96-5aa2-4d22-b2bd-054b48241199",
   "metadata": {},
   "outputs": [],
   "source": [
    "# Create the annotation dataframe with only the cohort.cohortGuid\n",
    "annotation_df <-as.data.frame(colnames(df_wide))\n",
    "rownames(annotation_df)<-colnames(df_wide)\n",
    "annotation_df$cohort.cohortGuid <-substr(colnames(df_wide),7,9)"
   ]
  },
  {
   "cell_type": "code",
   "execution_count": 9,
   "id": "70dea7b8-aa2d-4dd0-bd03-86a248ad5e8a",
   "metadata": {},
   "outputs": [],
   "source": [
    "annotation_df <- annotation_df %>%\n",
    "  mutate(`Age Group` = ifelse(cohort.cohortGuid\t == \"BR1\", \"Young\", \"Older\"))%>% select(`Age Group`)\n",
    "# Set custom colors for the cohorts\n",
    "annotation_colors <- list(`Age Group` = c(Young = \"#35978F\", Older = \"#BF812D\"))"
   ]
  },
  {
   "cell_type": "code",
   "execution_count": 10,
   "id": "0a5f6411-5fea-4e91-8234-6bc5b0f5f61f",
   "metadata": {},
   "outputs": [],
   "source": [
    "#breaks_sequence <- seq(-1, 1, length.out = 100)"
   ]
  },
  {
   "cell_type": "code",
   "execution_count": 11,
   "id": "ad6f525c-526b-4086-8db1-9e9474aa77e5",
   "metadata": {},
   "outputs": [
    {
     "data": {
      "text/html": [
       "<strong>pdf:</strong> 2"
      ],
      "text/latex": [
       "\\textbf{pdf:} 2"
      ],
      "text/markdown": [
       "**pdf:** 2"
      ],
      "text/plain": [
       "pdf \n",
       "  2 "
      ]
     },
     "metadata": {},
     "output_type": "display_data"
    },
    {
     "data": {
      "image/png": "[encoded data removed]",
      "text/plain": [
       "plot without title"
      ]
     },
     "metadata": {
      "image/png": {
       "height": 64.9606,
       "width": 236.2205
      }
     },
     "output_type": "display_data"
    }
   ],
   "source": [
    "options(repr.plot.width = 100/25.4, repr.plot.height = 27.5/25.4)\n",
    "heatmap_plot <- pheatmap(df_wide, \n",
    "         scale = \"row\", \n",
    "         cluster_cols = FALSE, \n",
    "         border_color=NA,\n",
    "         cluster_rows = FALSE, \n",
    "         fontsize = 6,\n",
    "         gaps_col = c(4),\n",
    "         clustering_method = \"ward.D\", \n",
    "          annotation_col = annotation_df, \n",
    "         annotation_colors = annotation_colors, \n",
    "         labels_col = column_labels)\n",
    "save_pheatmap(heatmap_plot,'FigureD.pdf', \n",
    "              width=100/25.4, height=27.5/25.4)"
   ]
  },
  {
   "cell_type": "code",
   "execution_count": 12,
   "id": "e924c236-7f2e-4380-9314-9d555c0ae22b",
   "metadata": {},
   "outputs": [],
   "source": [
    "colnames(df_wide)<-gsub(\"BR1\",\"Young\",colnames(df_wide))\n",
    "colnames(df_wide)<-gsub(\"BR2\",\"Older\",colnames(df_wide))\n",
    "\n",
    "write.csv(df_wide,\n",
    "          \"/home//workspace/Source_Data/Extended_Fig6d.csv\")"
   ]
  },
  {
   "cell_type": "code",
   "execution_count": null,
   "id": "cf4430a4-aeb7-4c0a-94c4-ac02b7cda3af",
   "metadata": {},
   "outputs": [],
   "source": []
  }
 ],
 "metadata": {
  "kernelspec": {
   "display_name": "R_BRI_Figures",
   "language": "R",
   "name": "r_bri_figures"
  },
  "language_info": {
   "codemirror_mode": "r",
   "file_extension": ".r",
   "mimetype": "text/x-r-source",
   "name": "R",
   "pygments_lexer": "r",
   "version": "4.3.2"
  }
 },
 "nbformat": 4,
 "nbformat_minor": 5
}
