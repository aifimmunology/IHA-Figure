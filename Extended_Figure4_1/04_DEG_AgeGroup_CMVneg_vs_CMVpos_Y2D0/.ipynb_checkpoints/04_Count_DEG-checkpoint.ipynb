{
 "cells": [
  {
   "cell_type": "code",
   "execution_count": 33,
   "id": "366015a2-e32d-4b21-abe9-265269ccd50e",
   "metadata": {},
   "outputs": [],
   "source": [
    "suppressPackageStartupMessages(library(dplyr))\n",
    "suppressPackageStartupMessages(library(tidyr))\n",
    "suppressPackageStartupMessages(library(tibble))\n",
    "suppressPackageStartupMessages(library(stringr))\n",
    "library(parallel)\n"
   ]
  },
  {
   "cell_type": "code",
   "execution_count": 34,
   "id": "2e77406b-80cc-4ae1-82ca-bd7bdea6f7ad",
   "metadata": {},
   "outputs": [],
   "source": [
    "df_BR1 <- read.csv(\"Deseq2_Result_BR1_CMVpos_vs_CMVneg.csv\")\n",
    "df_BR2 <- read.csv(\"Deseq2_Result_BR2_CMVpos_vs_CMVneg.csv\")\n",
    "\n",
    "df_BR1_filtered <- df_BR1 %>% filter(abs(log2FoldChange) > 0.1, padj < 0.05)\n",
    "df_BR2_filtered <- df_BR2 %>% filter(abs(log2FoldChange) > 0.1, padj < 0.05)\n",
    "\n",
    "BR1_DEG_counts <- df_BR1_filtered %>% count(celltype)\n",
    "BR2_DEG_counts <- df_BR2_filtered %>% count(celltype)\n",
    "\n",
    "combined_counts <- full_join(BR1_DEG_counts, BR2_DEG_counts, by = \"celltype\", suffix = c(\"_BR1\", \"_BR2\"))\n",
    "\n",
    "common_DEGs <- inner_join(df_BR1_filtered, df_BR2_filtered, by = c(\"gene\", \"celltype\"))\n",
    "\n",
    "common_DEG_counts <- common_DEGs %>% count(celltype)\n",
    "\n",
    "combined_counts <- left_join(combined_counts, common_DEG_counts, by = \"celltype\")\n",
    "combined_counts <- combined_counts %>% rename(Common_DEGs = n)\n",
    "\n",
    "combined_counts[is.na(combined_counts)] <- 0"
   ]
  },
  {
   "cell_type": "code",
   "execution_count": 35,
   "id": "a72c9edc-a8f4-4fa0-af0c-fa262df10139",
   "metadata": {},
   "outputs": [],
   "source": [
    "colnames(combined_counts)<-c(\"celltype\",'BR1_counts','BR2_counts','Common_counts')"
   ]
  },
  {
   "cell_type": "code",
   "execution_count": 36,
   "id": "1a9e083f-e22c-439f-bcca-3acbe4479531",
   "metadata": {},
   "outputs": [],
   "source": [
    "write.csv(combined_counts,'DEG_Counts.csv')"
   ]
  },
  {
   "cell_type": "code",
   "execution_count": null,
   "id": "83831c5b-a8c9-4fc0-9c5f-cbad83447ce1",
   "metadata": {},
   "outputs": [],
   "source": []
  }
 ],
 "metadata": {
  "kernelspec": {
   "display_name": "R 4",
   "language": "R",
   "name": "ir4"
  },
  "language_info": {
   "codemirror_mode": "r",
   "file_extension": ".r",
   "mimetype": "text/x-r-source",
   "name": "R",
   "pygments_lexer": "r",
   "version": "4.3.2"
  }
 },
 "nbformat": 4,
 "nbformat_minor": 5
}
