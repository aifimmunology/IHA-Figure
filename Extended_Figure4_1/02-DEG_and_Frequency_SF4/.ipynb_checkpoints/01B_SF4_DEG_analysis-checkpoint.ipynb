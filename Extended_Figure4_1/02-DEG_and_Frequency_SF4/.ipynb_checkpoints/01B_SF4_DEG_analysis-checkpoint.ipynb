{
 "cells": [
  {
   "cell_type": "code",
   "execution_count": 204,
   "id": "a607278e-8546-4885-b030-be2b0e304815",
   "metadata": {},
   "outputs": [],
   "source": [
    "suppressPackageStartupMessages(library(dplyr))\n",
    "suppressPackageStartupMessages(library(tidyr))\n",
    "suppressPackageStartupMessages(library(tibble))\n",
    "suppressPackageStartupMessages(library(stringr))\n",
    "library(parallel)\n",
    "library(DESeq2)\n",
    "library(hise)\n",
    "source('/home//jupyter/BRI_Figures/helper_function/helper_function_IHA.r')"
   ]
  },
  {
   "cell_type": "markdown",
   "id": "4be5c0b9-7368-416b-8c16-0f7c22875f18",
   "metadata": {},
   "source": [
    "# Read Meta Data"
   ]
  },
  {
   "cell_type": "code",
   "execution_count": 207,
   "id": "e68d98b3-3160-4b4f-97d9-1e13c0da81ef",
   "metadata": {},
   "outputs": [],
   "source": [
    "meta_data=read.csv(\"/home/jupyter/BRI_Figures/Dataset/SF4_meta_data-2024-05-05.csv\")"
   ]
  },
  {
   "cell_type": "code",
   "execution_count": 208,
   "id": "402f843c-e730-43d5-af85-c5b7acce30bc",
   "metadata": {},
   "outputs": [],
   "source": [
    "meta_data$ageAtEnrollment[meta_data$ageAtEnrollment == '89+'] <- '90'\n",
    "meta_data$ageAtEnrollment<-as.numeric(meta_data$ageAtEnrollment)"
   ]
  },
  {
   "cell_type": "code",
   "execution_count": 209,
   "id": "f1d37389-c8d4-424d-860c-d91b68e96a97",
   "metadata": {},
   "outputs": [],
   "source": [
    "meta_data$AgeGroup <- as.character(cut(meta_data$ageAtEnrollment, breaks=seq(40, 90, by=10), include.lowest=TRUE, right=FALSE, labels=FALSE))\n",
    "\n",
    "# Convert the group to a factor with meaningful labels\n",
    "#meta_data$AgeGroup <- factor(meta_data$AgeGroup, labels = c(\"40-50\", \"50-60\", \"60-70\", \"70-80\", \"80-90\"))\n"
   ]
  },
  {
   "cell_type": "code",
   "execution_count": 131,
   "id": "7908b476-6b3a-4e02-a8c8-8ce1e81f652d",
   "metadata": {},
   "outputs": [
    {
     "data": {
      "text/plain": [
       "\n",
       "[40,50] (50,60] (60,70] (70,80] (80,90] \n",
       "     60      65      33      46      30 "
      ]
     },
     "metadata": {},
     "output_type": "display_data"
    }
   ],
   "source": [
    "num_bins <- 5\n",
    "sample_counts <- table(cut(meta_data$ageAtEnrollment, seq(min(meta_data$ageAtEnrollment), max(meta_data$ageAtEnrollment), length.out = num_bins + 1), include.lowest = TRUE))\n",
    "sample_counts"
   ]
  },
  {
   "cell_type": "markdown",
   "id": "4f43a8bb-2e29-4066-adbf-d4619be3acb8",
   "metadata": {},
   "source": [
    "# Perform Deseq2 on Year 1 Day 0 samples"
   ]
  },
  {
   "cell_type": "code",
   "execution_count": 14,
   "id": "e3dd9eb4-7405-43b0-b3fb-78e1c1f2a616",
   "metadata": {},
   "outputs": [],
   "source": [
    "filtered_gene_set<-read.csv(\"fitlered_gene_SF4.csv\")"
   ]
  },
  {
   "cell_type": "code",
   "execution_count": 11,
   "id": "b81c0e7e-5360-44ab-a955-763f62507555",
   "metadata": {},
   "outputs": [
    {
     "name": "stdout",
     "output_type": "stream",
     "text": [
      "[1] \"Total reading time: 19.847 seconds\"\n"
     ]
    }
   ],
   "source": [
    "aggregated_count_file_list<-paste0(\"/home/jupyter/BRI_Figures/Dataset/scRNA/SF4/Aggregated_Count/Aggregated_Raw_Expression_of_Celltypes_by_Sample_AIFI_L3/\",meta_data$pbmc_sample_id,\".csv\")\n",
    "\n",
    "df_list<-read_pseudobulk_expression(aggregated_count_file_list)"
   ]
  },
  {
   "cell_type": "code",
   "execution_count": 12,
   "id": "91ac94b4-ae3f-419b-b6fa-b64b8c996bb9",
   "metadata": {},
   "outputs": [],
   "source": [
    "celltypes <- unique(unlist(lapply(df_list, names)))\n",
    "celltypes<-unique(sub(\".*:\", \"\", celltypes))"
   ]
  },
  {
   "cell_type": "code",
   "execution_count": 15,
   "id": "bd6b2461-617c-4907-8286-6154a4b93cec",
   "metadata": {},
   "outputs": [
    {
     "data": {
      "text/html": [
       "234"
      ],
      "text/latex": [
       "234"
      ],
      "text/markdown": [
       "234"
      ],
      "text/plain": [
       "[1] 234"
      ]
     },
     "metadata": {},
     "output_type": "display_data"
    }
   ],
   "source": [
    "length(celltypes)"
   ]
  },
  {
   "cell_type": "code",
   "execution_count": 20,
   "id": "010ae0e6-2d6f-495d-ad5c-403c5bace42c",
   "metadata": {},
   "outputs": [],
   "source": []
  },
  {
   "cell_type": "code",
   "execution_count": 23,
   "id": "60fb5fc6-ac25-4e07-bd04-586ff03a7791",
   "metadata": {
    "scrolled": true
   },
   "outputs": [],
   "source": [
    "res_list<-mclapply(celltypes, function(celltype){\n",
    "    celltype_list <- lapply(df_list, function(df) { df <- df[, grep(celltype, names(df), fixed = TRUE),drop=FALSE] })\n",
    "    exp_matrix<-do.call(cbind,celltype_list)\n",
    "    colnames(exp_matrix)<-sub(\":.*\", \"\", colnames(exp_matrix))\n",
    "    rownames(meta_data)<-meta_data$pbmc_sample_id\n",
    "    filtered_gene_set_filtered<-filtered_gene_set%>% filter(AIFI_L3==celltype)%>% select(gene) %>%pull()\n",
    "    \n",
    "    res=deseq2_analysis(exp_matrix,\n",
    "                     meta_data=meta_data,\n",
    "                     filtered_gene_set=filtered_gene_set_filtered,\n",
    "                     formula= ~  ageAtEnrollment+subject.biologicalSex+CMV,\n",
    "                     comparisons=list(c(\"CMV\", \"Positive\", \"Negative\")),\n",
    "                     celltype=celltype)\n",
    "    return(res)\n",
    "},mc.cores=60)"
   ]
  },
  {
   "cell_type": "code",
   "execution_count": 24,
   "id": "c42430f2-e644-41ea-bb8e-48dcff413cec",
   "metadata": {
    "scrolled": true
   },
   "outputs": [],
   "source": [
    "res_all<-do.call(rbind,res_list)"
   ]
  },
  {
   "cell_type": "code",
   "execution_count": 25,
   "id": "d1521d60-5802-426c-a247-a9bd32bf876a",
   "metadata": {},
   "outputs": [],
   "source": [
    "write.csv(res_all,\"Deseq2_Result_SF4.csv\")"
   ]
  },
  {
   "cell_type": "code",
   "execution_count": 163,
   "id": "1797adb5-f946-4aae-82b8-4e5128399167",
   "metadata": {},
   "outputs": [],
   "source": [
    "res_all_signi<-res_all %>% filter (padj<0.05,abs(log2FoldChange)>0.1)"
   ]
  },
  {
   "cell_type": "code",
   "execution_count": 164,
   "id": "26195901-e772-4052-a849-e6769eb0dded",
   "metadata": {},
   "outputs": [
    {
     "data": {
      "text/plain": [
       "\n",
       "                    Adaptive NK cell                CD27- effector B cell \n",
       "                                 239                                   86 \n",
       "                            CD4 MAIT                             CD8 MAIT \n",
       "                                   3                                    2 \n",
       "                                cDC1            GZMB- CD27+ EM CD4 T cell \n",
       "                                   1                                    2 \n",
       "               GZMK- CD56dim NK cell            GZMK+ CD27+ EM CD8 T cell \n",
       "                                  19                                   25 \n",
       "               GZMK+ CD56dim NK cell                  IL1B+ CD14 monocyte \n",
       "                                   3                                    1 \n",
       "                ISG+ CD56dim NK cell               KLRB1+ memory CD8 Treg \n",
       "                                   3                                    1 \n",
       "             KLRF1- effector Vd1 gdT     KLRF1- GZMB+ CD27- EM CD8 T cell \n",
       "                                 110                                  458 \n",
       "KLRF1- GZMB+ CD27- memory CD4 T cell              KLRF1+ effector Vd1 gdT \n",
       "                                 545                                   34 \n",
       "    KLRF1+ GZMB+ CD27- EM CD8 T cell                          Plasma cell \n",
       "                                 312                                    1 \n",
       "               Proliferating NK cell                 Proliferating T cell \n",
       "                                  66                                  511 "
      ]
     },
     "metadata": {},
     "output_type": "display_data"
    }
   ],
   "source": [
    "table(res_all_signi$celltype)"
   ]
  },
  {
   "cell_type": "code",
   "execution_count": 165,
   "id": "62983197-cae6-4c4d-be15-6782079bc2ab",
   "metadata": {},
   "outputs": [],
   "source": [
    "celltype=\"KLRF1- GZMB+ CD27- memory CD4 T cell\""
   ]
  },
  {
   "cell_type": "code",
   "execution_count": 166,
   "id": "2be08069-a065-4d2d-86b7-d69a14e1f2fd",
   "metadata": {},
   "outputs": [],
   "source": [
    "    celltype_list <- lapply(df_list, function(df) { df <- df[, grep(celltype, names(df), fixed = TRUE),drop=FALSE] })\n",
    "    exp_matrix<-do.call(cbind,celltype_list)\n",
    "    colnames(exp_matrix)<-sub(\":.*\", \"\", colnames(exp_matrix))\n",
    "    rownames(meta_data)<-meta_data$pbmc_sample_id\n",
    "    filtered_gene_set_filtered<-filtered_gene_set%>% filter(AIFI_L3==celltype)%>% select(gene) %>%pull()"
   ]
  },
  {
   "cell_type": "code",
   "execution_count": null,
   "id": "87fcdc63-eb64-4451-8417-c0d1c6fe733e",
   "metadata": {},
   "outputs": [],
   "source": []
  },
  {
   "cell_type": "markdown",
   "id": "c47bb7ea-f159-43af-8aad-84a2bc43e604",
   "metadata": {},
   "source": [
    "# Upload Files"
   ]
  },
  {
   "cell_type": "code",
   "execution_count": 8,
   "id": "429954ab-56a3-4f92-bf8a-f35a1ce585f5",
   "metadata": {},
   "outputs": [],
   "source": [
    "input_uuid_1<-read.csv(\"/home//jupyter/BRI_Figures/Dataset/scRNA_BRI_Aggregated_Count_uuid.csv\")\n",
    "input_uuid_2<-read.csv(\"/home//jupyter/BRI_Figures/Dataset/scRNA_BRI_meta_data_uuid.csv\")"
   ]
  },
  {
   "cell_type": "code",
   "execution_count": 9,
   "id": "55533536-a61a-4262-baf0-b1e330b855a4",
   "metadata": {},
   "outputs": [],
   "source": [
    "input_uuid<-c(input_uuid_1$id,input_uuid_2$id)"
   ]
  },
  {
   "cell_type": "code",
   "execution_count": 16,
   "id": "e82c23af-640b-40f7-b46f-cec58d27bca5",
   "metadata": {},
   "outputs": [
    {
     "name": "stderr",
     "output_type": "stream",
     "text": [
      "You are trying to upload the following files:  /home/jupyter/BRI_Figures/Figure2/Deseq2_Result_Y1D0.csv\n",
      "\n"
     ]
    },
    {
     "name": "stdin",
     "output_type": "stream",
     "text": [
      "(y/n) y\n"
     ]
    },
    {
     "data": {
      "text/html": [
       "<dl>\n",
       "\t<dt>$files</dt>\n",
       "\t\t<dd><ol>\n",
       "\t<li>'/home/jupyter/BRI_Figures/Figure2/Deseq2_Result_Y1D0.csv'</li>\n",
       "</ol>\n",
       "</dd>\n",
       "\t<dt>$traceId</dt>\n",
       "\t\t<dd>'8dc3494e-1779-4394-87d4-f48ff4a05e1e'</dd>\n",
       "</dl>\n"
      ],
      "text/latex": [
       "\\begin{description}\n",
       "\\item[\\$files] \\begin{enumerate}\n",
       "\\item '/home/jupyter/BRI\\_Figures/Figure2/Deseq2\\_Result\\_Y1D0.csv'\n",
       "\\end{enumerate}\n",
       "\n",
       "\\item[\\$traceId] '8dc3494e-1779-4394-87d4-f48ff4a05e1e'\n",
       "\\end{description}\n"
      ],
      "text/markdown": [
       "$files\n",
       ":   1. '/home/jupyter/BRI_Figures/Figure2/Deseq2_Result_Y1D0.csv'\n",
       "\n",
       "\n",
       "\n",
       "$traceId\n",
       ":   '8dc3494e-1779-4394-87d4-f48ff4a05e1e'\n",
       "\n",
       "\n"
      ],
      "text/plain": [
       "$files\n",
       "$files[[1]]\n",
       "[1] \"/home/jupyter/BRI_Figures/Figure2/Deseq2_Result_Y1D0.csv\"\n",
       "\n",
       "\n",
       "$traceId\n",
       "[1] \"8dc3494e-1779-4394-87d4-f48ff4a05e1e\"\n"
      ]
     },
     "metadata": {},
     "output_type": "display_data"
    }
   ],
   "source": [
    "uploadFiles(\n",
    "  list('/home/jupyter/BRI_Figures/Figure2/Deseq2_Result_Y1D0.csv'),\n",
    "  studySpaceId = 'de025812-5e73-4b3c-9c3b-6d0eac412f2a',\n",
    "  title = paste0('Cert_Pro_Deseq2_Result_Y1D0-2024-05-17-QG'), fileTypes = list('csv'),\n",
    "  inputFileIds = as.list(input_uuid)\n",
    ")"
   ]
  },
  {
   "cell_type": "code",
   "execution_count": 17,
   "id": "00e9a01e-f356-4fc2-9263-00a5f5d7e56b",
   "metadata": {},
   "outputs": [
    {
     "name": "stderr",
     "output_type": "stream",
     "text": [
      "You are trying to upload the following files:  /home/jupyter/BRI_Figures/Figure2/Deseq2_Result_Y1D0_Y1D7.csv\n",
      "\n"
     ]
    },
    {
     "name": "stdin",
     "output_type": "stream",
     "text": [
      "(y/n) Y\n"
     ]
    },
    {
     "data": {
      "text/html": [
       "<dl>\n",
       "\t<dt>$files</dt>\n",
       "\t\t<dd><ol>\n",
       "\t<li>'/home/jupyter/BRI_Figures/Figure2/Deseq2_Result_Y1D0_Y1D7.csv'</li>\n",
       "</ol>\n",
       "</dd>\n",
       "\t<dt>$traceId</dt>\n",
       "\t\t<dd>'e08adea2-016f-4ae9-b3d0-61e925070ce8'</dd>\n",
       "</dl>\n"
      ],
      "text/latex": [
       "\\begin{description}\n",
       "\\item[\\$files] \\begin{enumerate}\n",
       "\\item '/home/jupyter/BRI\\_Figures/Figure2/Deseq2\\_Result\\_Y1D0\\_Y1D7.csv'\n",
       "\\end{enumerate}\n",
       "\n",
       "\\item[\\$traceId] 'e08adea2-016f-4ae9-b3d0-61e925070ce8'\n",
       "\\end{description}\n"
      ],
      "text/markdown": [
       "$files\n",
       ":   1. '/home/jupyter/BRI_Figures/Figure2/Deseq2_Result_Y1D0_Y1D7.csv'\n",
       "\n",
       "\n",
       "\n",
       "$traceId\n",
       ":   'e08adea2-016f-4ae9-b3d0-61e925070ce8'\n",
       "\n",
       "\n"
      ],
      "text/plain": [
       "$files\n",
       "$files[[1]]\n",
       "[1] \"/home/jupyter/BRI_Figures/Figure2/Deseq2_Result_Y1D0_Y1D7.csv\"\n",
       "\n",
       "\n",
       "$traceId\n",
       "[1] \"e08adea2-016f-4ae9-b3d0-61e925070ce8\"\n"
      ]
     },
     "metadata": {},
     "output_type": "display_data"
    }
   ],
   "source": [
    "uploadFiles(\n",
    "  list('/home/jupyter/BRI_Figures/Figure2/Deseq2_Result_Y1D0_Y1D7.csv'),\n",
    "  studySpaceId = 'de025812-5e73-4b3c-9c3b-6d0eac412f2a',\n",
    "  title = paste0('Cert_Pro_Deseq2_Result_Y1D0_Y1D7-2024-05-17-QG'), fileTypes = list('csv'),\n",
    "  inputFileIds = as.list(input_uuid)\n",
    ")"
   ]
  },
  {
   "cell_type": "code",
   "execution_count": null,
   "id": "feb1288d-c4b8-4502-bd5e-38b7843013d9",
   "metadata": {},
   "outputs": [],
   "source": []
  }
 ],
 "metadata": {
  "kernelspec": {
   "display_name": "R 4",
   "language": "R",
   "name": "ir4"
  },
  "language_info": {
   "codemirror_mode": "r",
   "file_extension": ".r",
   "mimetype": "text/x-r-source",
   "name": "R",
   "pygments_lexer": "r",
   "version": "4.3.2"
  }
 },
 "nbformat": 4,
 "nbformat_minor": 5
}
