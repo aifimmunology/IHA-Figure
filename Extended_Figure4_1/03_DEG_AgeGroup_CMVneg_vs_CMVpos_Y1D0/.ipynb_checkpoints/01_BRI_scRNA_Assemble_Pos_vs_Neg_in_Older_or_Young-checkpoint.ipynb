{
 "cells": [
  {
   "cell_type": "code",
   "execution_count": 15,
   "id": "52352535-53de-4786-91e8-1238e5dd1b71",
   "metadata": {},
   "outputs": [
    {
     "name": "stdout",
     "output_type": "stream",
     "text": [
      "Current working directory: /home/jupyter/BRI_Figures_Final_V1/Figure4/04_DEG_AgeGroup_CMVneg_vs_CMVpos\n"
     ]
    }
   ],
   "source": [
    "import pandas as pd \n",
    "import numpy as np \n",
    "import scanpy as sc\n",
    "import matplotlib.pyplot as plt\n",
    "import concurrent.futures\n",
    "import pickle\n",
    "import warnings\n",
    "from datetime import date\n",
    "import hisepy\n",
    "import os\n",
    "import shutil\n",
    "from concurrent.futures import ThreadPoolExecutor, as_completed,ProcessPoolExecutor\n",
    "from tqdm import tqdm\n",
    "import anndata\n",
    "import gc\n",
    "warnings.filterwarnings(\"ignore\")\n",
    "sc.settings.n_jobs = 60\n",
    "print(\"Current working directory:\", os.getcwd())"
   ]
  },
  {
   "cell_type": "code",
   "execution_count": 16,
   "id": "f7044fe8-7882-4e1d-bfd8-9c0a6f4e9940",
   "metadata": {},
   "outputs": [],
   "source": [
    "meta_data=pd.read_csv(\"/home/jupyter/BRI_Figures_Final_V1//Dataset/scRNA_meta_data-2024-05-09.csv\")"
   ]
  },
  {
   "cell_type": "code",
   "execution_count": 17,
   "id": "c7d7de33-b68d-4b31-8ef3-323ad4eca6f3",
   "metadata": {},
   "outputs": [],
   "source": [
    "meta_data=meta_data[meta_data['sample.visitName'].isin(['Flu Year 1 Day 0'])]"
   ]
  },
  {
   "cell_type": "markdown",
   "id": "e0cf1c65-53ae-4d21-a32b-43e8ec52216c",
   "metadata": {},
   "source": [
    "# Young"
   ]
  },
  {
   "cell_type": "code",
   "execution_count": 18,
   "id": "2e76a03b-18b2-4f0a-be9f-cfd17cab076f",
   "metadata": {},
   "outputs": [],
   "source": [
    "meta_data_subset=meta_data[meta_data[\"cohort.cohortGuid\"]==\"BR1\"]"
   ]
  },
  {
   "cell_type": "code",
   "execution_count": 19,
   "id": "f9dc5e97-5513-4066-ba6c-128495551cf4",
   "metadata": {},
   "outputs": [
    {
     "name": "stderr",
     "output_type": "stream",
     "text": [
      "100% 40/40 [00:51<00:00,  1.28s/it]"
     ]
    },
    {
     "name": "stdout",
     "output_type": "stream",
     "text": [
      "CPU times: user 4.89 s, sys: 5.89 s, total: 10.8 s\n",
      "Wall time: 51.5 s\n"
     ]
    },
    {
     "name": "stderr",
     "output_type": "stream",
     "text": [
      "\n"
     ]
    }
   ],
   "source": [
    "%%time\n",
    "file_names= ['/home/jupyter/BRI_Figures_Final_V1/Dataset/scRNA/BRI/h5ad/sample_h5ad/'+x+\".h5ad\" for x in meta_data_subset['pbmc_sample_id'].tolist()]\n",
    "adata_list = []\n",
    "with ThreadPoolExecutor(max_workers=10) as executor:\n",
    "    future_to_file = {executor.submit(sc.read_h5ad, file_name): file_name for file_name in file_names}\n",
    "    for future in tqdm(as_completed(future_to_file), total=len(file_names)):\n",
    "        result = future.result()\n",
    "        if result is not None:\n",
    "            adata_list.append(result)"
   ]
  },
  {
   "cell_type": "code",
   "execution_count": 20,
   "id": "7518b6ed-0fd8-4a6e-8d12-c7b46a258153",
   "metadata": {},
   "outputs": [],
   "source": [
    "adata = anndata.concat(adata_list)"
   ]
  },
  {
   "cell_type": "code",
   "execution_count": 21,
   "id": "5abbf850-b4dd-4feb-9765-639d74f977d2",
   "metadata": {},
   "outputs": [
    {
     "name": "stdout",
     "output_type": "stream",
     "text": [
      "GZMB- CD27+ EM CD4 T cell\n",
      "ISG+ CD14 monocyte\n",
      "GZMK+ Vd2 gdT\n",
      "GZMB- CD27- EM CD4 T cell\n",
      "CD56bright NK cell\n",
      "Early memory B cell\n",
      "Core naive B cell\n",
      "ISG+ memory CD8 T cell\n",
      "IL1B+ CD14 monocyte\n",
      "Proliferating T cell\n",
      "Activated memory B cell\n",
      "KLRF1+ GZMB+ CD27- EM CD8 T cell\n",
      "C1Q+ CD16 monocyte\n",
      "ISG+ naive CD4 T cell\n",
      "ASDC\n",
      "CM CD4 T cell\n",
      "CD8aa\n",
      "Intermediate monocyte\n",
      "Type 2 polarized memory B cell\n",
      "ISG+ CD16 monocyte\n",
      "Core naive CD8 T cell\n",
      "GZMK+ CD56dim NK cell\n",
      "KLRF1+ effector Vd1 gdT\n",
      "Core CD14 monocyte\n",
      "ISG+ naive B cell\n",
      "Naive Vd1 gdT\n",
      "Transitional B cell\n",
      "Core naive CD4 T cell\n",
      "ISG+ MAIT\n",
      "CM CD8 T cell\n",
      "HLA-DRhi cDC2\n",
      "Core memory B cell\n",
      "ISG+ CD56dim NK cell\n",
      "pDC\n",
      "GZMK+ CD27+ EM CD8 T cell\n",
      "Core CD16 monocyte\n",
      "CD95 memory B cell\n",
      "cDC1\n",
      "Memory CD8 Treg\n",
      "GZMK- CD56dim NK cell\n",
      "Platelet\n",
      "CD27+ effector B cell\n",
      "GZMB+ Vd2 gdT\n",
      "ISG+ cDC2\n",
      "Naive CD4 Treg\n",
      "SOX4+ naive CD8 T cell\n",
      "Adaptive NK cell\n",
      "Memory CD4 Treg\n",
      "GZMK- CD27+ EM CD8 T cell\n",
      "CD14+ cDC2\n",
      "SOX4+ naive CD4 T cell\n",
      "ILC\n",
      "Plasma cell\n",
      "KLRF1- GZMB+ CD27- EM CD8 T cell\n",
      "Proliferating NK cell\n",
      "KLRF1- GZMB+ CD27- memory CD4 T cell\n",
      "KLRB1+ memory CD8 Treg\n",
      "ISG+ naive CD8 T cell\n",
      "CD27- effector B cell\n",
      "GZMK+ memory CD4 Treg\n",
      "CD8 MAIT\n",
      "ISG+ memory CD4 T cell\n",
      "BaEoMaP cell\n",
      "KLRB1+ memory CD4 Treg\n",
      "DN T cell\n",
      "CD4 MAIT\n",
      "CMP cell\n",
      "SOX4+ Vd1 gdT\n",
      "CLP cell\n",
      "KLRF1- effector Vd1 gdT\n",
      "Erythrocyte\n"
     ]
    }
   ],
   "source": [
    "fitlered_gene=pd.DataFrame()\n",
    "for i in adata.obs['AIFI_L3'].unique():\n",
    "    print(i)\n",
    "    adata_subset=adata[adata.obs['AIFI_L3']==i]\n",
    "    sc.pp.filter_genes(adata_subset, min_cells=round(np.shape(adata_subset.X)[0]*0.1))\n",
    "    gene_list=pd.DataFrame(list(adata_subset.var.index))\n",
    "    gene_list.columns=['gene']\n",
    "    gene_list['AIFI_L3']=i\n",
    "    fitlered_gene=pd.concat([fitlered_gene,gene_list])"
   ]
  },
  {
   "cell_type": "code",
   "execution_count": 22,
   "id": "17ca6f7b-563c-4797-a20a-8b7683a7771d",
   "metadata": {},
   "outputs": [],
   "source": [
    "fitlered_gene.to_csv(\"fitlered_gene_BR1.csv\")"
   ]
  },
  {
   "cell_type": "code",
   "execution_count": null,
   "id": "fc05d6ae-277e-4788-bf0b-63824d8a783b",
   "metadata": {},
   "outputs": [],
   "source": []
  },
  {
   "cell_type": "markdown",
   "id": "56d3610d-972b-48c9-b4c9-adb37846600e",
   "metadata": {},
   "source": [
    "# Older"
   ]
  },
  {
   "cell_type": "code",
   "execution_count": 23,
   "id": "13c3a285-8d8a-4e91-ba6d-98e35fd63886",
   "metadata": {},
   "outputs": [],
   "source": [
    "meta_data_subset=meta_data[meta_data[\"cohort.cohortGuid\"]==\"BR2\"]"
   ]
  },
  {
   "cell_type": "code",
   "execution_count": 26,
   "id": "9f32891c-9f33-4785-af94-aba92e2726c5",
   "metadata": {},
   "outputs": [
    {
     "name": "stderr",
     "output_type": "stream",
     "text": [
      "100% 44/44 [01:00<00:00,  1.38s/it]"
     ]
    },
    {
     "name": "stdout",
     "output_type": "stream",
     "text": [
      "CPU times: user 6.64 s, sys: 7.54 s, total: 14.2 s\n",
      "Wall time: 1min 1s\n"
     ]
    },
    {
     "name": "stderr",
     "output_type": "stream",
     "text": [
      "\n"
     ]
    }
   ],
   "source": [
    "%%time\n",
    "file_names= ['/home/jupyter/BRI_Figures_Final_V1/Dataset/scRNA/BRI/h5ad/sample_h5ad/'+x+\".h5ad\" for x in meta_data_subset['pbmc_sample_id'].tolist()]\n",
    "adata_list = []\n",
    "with ThreadPoolExecutor(max_workers=10) as executor:\n",
    "    future_to_file = {executor.submit(sc.read_h5ad, file_name): file_name for file_name in file_names}\n",
    "    for future in tqdm(as_completed(future_to_file), total=len(file_names)):\n",
    "        result = future.result()\n",
    "        if result is not None:\n",
    "            adata_list.append(result)"
   ]
  },
  {
   "cell_type": "code",
   "execution_count": 27,
   "id": "9fdbed96-d131-4afc-ab6c-923d28b33e69",
   "metadata": {},
   "outputs": [],
   "source": [
    "adata = anndata.concat(adata_list)"
   ]
  },
  {
   "cell_type": "code",
   "execution_count": 28,
   "id": "a999d0a2-349f-4c20-8b03-4780ae540c50",
   "metadata": {},
   "outputs": [
    {
     "name": "stdout",
     "output_type": "stream",
     "text": [
      "GZMB- CD27+ EM CD4 T cell\n",
      "ISG+ CD14 monocyte\n",
      "GZMK+ Vd2 gdT\n",
      "GZMB- CD27- EM CD4 T cell\n",
      "CD56bright NK cell\n",
      "Early memory B cell\n",
      "Core naive B cell\n",
      "CLP cell\n",
      "ISG+ memory CD8 T cell\n",
      "IL1B+ CD14 monocyte\n",
      "Proliferating T cell\n",
      "Activated memory B cell\n",
      "KLRF1+ GZMB+ CD27- EM CD8 T cell\n",
      "C1Q+ CD16 monocyte\n",
      "ISG+ naive CD4 T cell\n",
      "ASDC\n",
      "CM CD4 T cell\n",
      "CD8aa\n",
      "Intermediate monocyte\n",
      "Type 2 polarized memory B cell\n",
      "ISG+ CD16 monocyte\n",
      "Core naive CD8 T cell\n",
      "GZMK+ CD56dim NK cell\n",
      "KLRF1+ effector Vd1 gdT\n",
      "Core CD14 monocyte\n",
      "ISG+ naive B cell\n",
      "Naive Vd1 gdT\n",
      "Transitional B cell\n",
      "Core naive CD4 T cell\n",
      "ISG+ MAIT\n",
      "CM CD8 T cell\n",
      "HLA-DRhi cDC2\n",
      "Core memory B cell\n",
      "ISG+ CD56dim NK cell\n",
      "pDC\n",
      "GZMK+ CD27+ EM CD8 T cell\n",
      "Core CD16 monocyte\n",
      "CD95 memory B cell\n",
      "cDC1\n",
      "Memory CD8 Treg\n",
      "GZMK- CD56dim NK cell\n",
      "Platelet\n",
      "CD27+ effector B cell\n",
      "GZMB+ Vd2 gdT\n",
      "ISG+ cDC2\n",
      "Naive CD4 Treg\n",
      "SOX4+ naive CD8 T cell\n",
      "Adaptive NK cell\n",
      "Memory CD4 Treg\n",
      "GZMK- CD27+ EM CD8 T cell\n",
      "CD14+ cDC2\n",
      "SOX4+ naive CD4 T cell\n",
      "ILC\n",
      "Plasma cell\n",
      "KLRF1- GZMB+ CD27- EM CD8 T cell\n",
      "Proliferating NK cell\n",
      "KLRF1- GZMB+ CD27- memory CD4 T cell\n",
      "Erythrocyte\n",
      "KLRB1+ memory CD8 Treg\n",
      "CD27- effector B cell\n",
      "GZMK+ memory CD4 Treg\n",
      "CD8 MAIT\n",
      "ISG+ memory CD4 T cell\n",
      "BaEoMaP cell\n",
      "KLRB1+ memory CD4 Treg\n",
      "DN T cell\n",
      "CD4 MAIT\n",
      "CMP cell\n",
      "SOX4+ Vd1 gdT\n",
      "KLRF1- effector Vd1 gdT\n",
      "ISG+ naive CD8 T cell\n"
     ]
    }
   ],
   "source": [
    "fitlered_gene=pd.DataFrame()\n",
    "for i in adata.obs['AIFI_L3'].unique():\n",
    "    print(i)\n",
    "    adata_subset=adata[adata.obs['AIFI_L3']==i]\n",
    "    sc.pp.filter_genes(adata_subset, min_cells=round(np.shape(adata_subset.X)[0]*0.1))\n",
    "    gene_list=pd.DataFrame(list(adata_subset.var.index))\n",
    "    gene_list.columns=['gene']\n",
    "    gene_list['AIFI_L3']=i\n",
    "    fitlered_gene=pd.concat([fitlered_gene,gene_list])"
   ]
  },
  {
   "cell_type": "code",
   "execution_count": 29,
   "id": "5ff3843a-15cb-47cf-b027-389b9a5fba07",
   "metadata": {},
   "outputs": [],
   "source": [
    "fitlered_gene.to_csv(\"fitlered_gene_BR2.csv\")"
   ]
  },
  {
   "cell_type": "code",
   "execution_count": null,
   "id": "4a990b3b-bc45-4fca-af42-d9ffbbcc77aa",
   "metadata": {},
   "outputs": [],
   "source": []
  }
 ],
 "metadata": {
  "kernelspec": {
   "display_name": "Python [conda env:root] *",
   "language": "python",
   "name": "conda-root-py"
  },
  "language_info": {
   "codemirror_mode": {
    "name": "ipython",
    "version": 3
   },
   "file_extension": ".py",
   "mimetype": "text/x-python",
   "name": "python",
   "nbconvert_exporter": "python",
   "pygments_lexer": "ipython3",
   "version": "3.10.13"
  }
 },
 "nbformat": 4,
 "nbformat_minor": 5
}
