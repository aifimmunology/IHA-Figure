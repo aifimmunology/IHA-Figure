{
 "cells": [
  {
   "cell_type": "code",
   "execution_count": 1,
   "id": "29eb472e-eb87-482c-b9d8-0bda31be96a3",
   "metadata": {},
   "outputs": [
    {
     "name": "stderr",
     "output_type": "stream",
     "text": [
      "------------------------------------------------------------------------------\n",
      "\n",
      "You have loaded plyr after dplyr - this is likely to cause problems.\n",
      "If you need functions from both plyr and dplyr, please load plyr first, then dplyr:\n",
      "library(plyr); library(dplyr)\n",
      "\n",
      "------------------------------------------------------------------------------\n",
      "\n",
      "\n",
      "Attaching package: ‘plyr’\n",
      "\n",
      "\n",
      "The following objects are masked from ‘package:dplyr’:\n",
      "\n",
      "    arrange, count, desc, failwith, id, mutate, rename, summarise,\n",
      "    summarize\n",
      "\n",
      "\n",
      "\n",
      "Attaching package: ‘purrr’\n",
      "\n",
      "\n",
      "The following object is masked from ‘package:plyr’:\n",
      "\n",
      "    compact\n",
      "\n",
      "\n"
     ]
    }
   ],
   "source": [
    "suppressPackageStartupMessages(library(dplyr))\n",
    "suppressPackageStartupMessages(library(tidyr))\n",
    "suppressPackageStartupMessages(library(stringr))\n",
    "library(plyr)\n",
    "library(purrr)\n",
    "library(ggplot2)\n",
    "library(patchwork)"
   ]
  },
  {
   "cell_type": "code",
   "execution_count": 2,
   "id": "15476e9d-001d-4f9b-9435-b422a9b0d651",
   "metadata": {},
   "outputs": [],
   "source": [
    "color_annotation<-read.csv('../Color_hex_codes/Cell_Type_Color_Annotation_and_Order.csv')\n",
    "color_vector <- setNames(color_annotation$color, color_annotation$label)"
   ]
  },
  {
   "cell_type": "code",
   "execution_count": 3,
   "id": "9a9e4c56-8a77-447e-9f81-03e39f01c16c",
   "metadata": {},
   "outputs": [],
   "source": [
    "df<-read.csv(\"03_DEG_AgeGroup_CMVneg_vs_CMVpos_Y1D0/DEG_Counts.csv\")"
   ]
  },
  {
   "cell_type": "code",
   "execution_count": 4,
   "id": "688e1738-7efb-4eb6-81bc-97a8bb9270b2",
   "metadata": {},
   "outputs": [],
   "source": [
    "df_BR1<-df[c('celltype','BR1_counts')]\n",
    "df_BR2<-df[c('celltype','BR2_counts')]\n",
    "df_BR1$`Age Group`<-'Young'\n",
    "df_BR2$`Age Group`<-'Older'\n",
    "\n",
    "\n",
    "colnames(df_BR1)<-c('celltype','counts','Age Group')\n",
    "colnames(df_BR2)<-c('celltype','counts','Age Group')\n",
    "df<-rbind(df_BR1,df_BR2)"
   ]
  },
  {
   "cell_type": "code",
   "execution_count": 5,
   "id": "6f0f6cb1-914d-4329-9d5e-9d25f4a4c272",
   "metadata": {},
   "outputs": [],
   "source": [
    "df$celltype<-factor(df$celltype,levels=color_annotation$label)"
   ]
  },
  {
   "cell_type": "code",
   "execution_count": 6,
   "id": "be241d35-bb62-41a8-a7fb-dcc5aa83938d",
   "metadata": {},
   "outputs": [
    {
     "data": {
      "text/html": [
       "16"
      ],
      "text/latex": [
       "16"
      ],
      "text/markdown": [
       "16"
      ],
      "text/plain": [
       "[1] 16"
      ]
     },
     "metadata": {},
     "output_type": "display_data"
    }
   ],
   "source": [
    "n_distinct(df$celltype)"
   ]
  },
  {
   "cell_type": "code",
   "execution_count": 8,
   "id": "6ff4eaf0-f076-4d3f-b30d-0fdabd78df0b",
   "metadata": {
    "scrolled": true
   },
   "outputs": [
    {
     "data": {
      "image/png": "[encoded data removed]",
      "text/plain": [
       "plot without title"
      ]
     },
     "metadata": {
      "image/png": {
       "height": 188.9764,
       "width": 118.1102
      }
     },
     "output_type": "display_data"
    }
   ],
   "source": [
    "options(repr.plot.width = 50/25.4, repr.plot.height =  80/25.4)\n",
    "df$`Age Group`<-factor(df$`Age Group`,levels=c(\"Young\",\"Older\"))\n",
    "\n",
    "p <- ggplot(df, aes(x = celltype, y =counts, fill = celltype)) +\n",
    "  geom_bar(stat = \"identity\", width = 0.7) +\n",
    "  scale_fill_manual(values = color_vector) +  \n",
    "theme_classic(base_size=6)+\n",
    "theme(axis.text.x = element_text(angle = 90, vjust = 0.5, hjust=1))+\n",
    "theme(plot.margin=grid::unit(c(0,0,0,-.25), \"mm\"))+   \n",
    "\n",
    "ylab('Total DEG Counts')+xlab('')+\n",
    "theme(legend.position=\"none\")+\n",
    "  theme(legend.key.size = unit(2, 'mm'))+facet_wrap(~`Age Group`,ncol=1)+scale_x_discrete(labels = function(x) gsub(\" cell\", \"\", x))\n",
    "p\n",
    "ggsave('FigureD.pdf',p,width = 50/25.4,height = 80/25.4)"
   ]
  },
  {
   "cell_type": "code",
   "execution_count": null,
   "id": "67b1d219-dd72-48be-b630-1ca4ddf6947d",
   "metadata": {},
   "outputs": [],
   "source": []
  }
 ],
 "metadata": {
  "kernelspec": {
   "display_name": "R 4",
   "language": "R",
   "name": "ir4"
  },
  "language_info": {
   "codemirror_mode": "r",
   "file_extension": ".r",
   "mimetype": "text/x-r-source",
   "name": "R",
   "pygments_lexer": "r",
   "version": "4.3.2"
  }
 },
 "nbformat": 4,
 "nbformat_minor": 5
}
