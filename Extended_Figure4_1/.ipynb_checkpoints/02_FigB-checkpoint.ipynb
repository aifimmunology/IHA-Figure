{
 "cells": [
  {
   "cell_type": "code",
   "execution_count": 88,
   "id": "316843af-8f81-4ee4-b593-e5f26962bcef",
   "metadata": {},
   "outputs": [],
   "source": [
    "suppressPackageStartupMessages(library(dplyr))\n",
    "suppressPackageStartupMessages(library(tidyr))\n",
    "suppressPackageStartupMessages(library(tibble))\n",
    "suppressPackageStartupMessages(library(ggplot2))\n",
    "suppressPackageStartupMessages(library(stringr))\n",
    "library(parallel)\n",
    "library(reshape2)\n",
    "library(ggsci)\n",
    "library(rstatix)\n",
    "library(ggpubr)\n",
    "library(ggplot2) \n",
    "library(GGally) \n",
    "library(pheatmap)\n"
   ]
  },
  {
   "cell_type": "code",
   "execution_count": null,
   "id": "1b26b706-02e2-47e7-b25f-243a212887dc",
   "metadata": {},
   "outputs": [],
   "source": []
  },
  {
   "cell_type": "code",
   "execution_count": 89,
   "id": "87832b91-5df2-420c-bb5a-e931eec499e1",
   "metadata": {},
   "outputs": [],
   "source": [
    "\n",
    "is_dark_color <- function(hex) {\n",
    "  rgb <- col2rgb(hex)\n",
    "  \n",
    "  luminance <- 0.299 * rgb[1,] + 0.587 * rgb[2,] + 0.114 * rgb[3,]\n",
    "  if(luminance < 128){\n",
    "  return('white')\n",
    "  } else {return('black')}\n",
    "}"
   ]
  },
  {
   "cell_type": "code",
   "execution_count": 90,
   "id": "ecb2e81b-0bbb-4dee-bcda-b58fbc70c801",
   "metadata": {},
   "outputs": [],
   "source": [
    "color_annotation<-read.csv('../Color_hex_codes/Cell_Type_Color_Annotation_and_Order.csv')\n",
    "color_vector <- setNames(color_annotation$color, color_annotation$label)"
   ]
  },
  {
   "cell_type": "markdown",
   "id": "426110d0-e1fb-49d6-b33d-c86d1061743c",
   "metadata": {},
   "source": [
    "# Read composite score"
   ]
  },
  {
   "cell_type": "code",
   "execution_count": 91,
   "id": "c6a9e8d2-01a4-4c68-8ba1-910e26eed65b",
   "metadata": {},
   "outputs": [],
   "source": [
    "df<-read.csv('01_CompositeScore/BRI_CompositeScore.csv') %>% filter(sample.visitName=='Flu Year 1 Day 0')"
   ]
  },
  {
   "cell_type": "code",
   "execution_count": 92,
   "id": "2e68bef4-89da-4508-a170-4ea0dfd42078",
   "metadata": {},
   "outputs": [
    {
     "data": {
      "text/html": [
       "<style>\n",
       ".list-inline {list-style: none; margin:0; padding: 0}\n",
       ".list-inline>li {display: inline-block}\n",
       ".list-inline>li:not(:last-child)::after {content: \"\\00b7\"; padding: 0 .5ex}\n",
       "</style>\n",
       "<ol class=list-inline><li>'X.1'</li><li>'pbmc_sample_id'</li><li>'composite_score_sum_mean'</li><li>'composite_score_sum_scaled_mean'</li><li>'X'</li><li>'Unnamed..0'</li><li>'lastUpdated'</li><li>'sample.id'</li><li>'sample.bridgingControl'</li><li>'sample.sampleKitGuid'</li><li>'sample.visitName'</li><li>'sample.visitDetails'</li><li>'sample.drawDate'</li><li>'sample.daysSinceFirstVisit'</li><li>'file.id'</li><li>'file.name'</li><li>'file.batchID'</li><li>'file.panel'</li><li>'file.pool'</li><li>'file.fileType'</li><li>'file.majorVersion'</li><li>'subject.id'</li><li>'subject.biologicalSex'</li><li>'subject.birthYear'</li><li>'subject.ethnicity'</li><li>'subject.partnerCode'</li><li>'subject.race'</li><li>'subject.subjectGuid'</li><li>'cohort.cohortGuid'</li><li>'sample.diseaseStatesRecordedAtVisit'</li><li>'subject.covidVaxDose1.daysSinceFirstVisit'</li><li>'subject.covidVaxDose2.daysSinceFirstVisit'</li><li>'Covid_exclusion'</li><li>'subjectGuid'</li><li>'CMV'</li><li>'Ages'</li><li>'celltype'</li><li>'AgeGroup'</li></ol>\n"
      ],
      "text/latex": [
       "\\begin{enumerate*}\n",
       "\\item 'X.1'\n",
       "\\item 'pbmc\\_sample\\_id'\n",
       "\\item 'composite\\_score\\_sum\\_mean'\n",
       "\\item 'composite\\_score\\_sum\\_scaled\\_mean'\n",
       "\\item 'X'\n",
       "\\item 'Unnamed..0'\n",
       "\\item 'lastUpdated'\n",
       "\\item 'sample.id'\n",
       "\\item 'sample.bridgingControl'\n",
       "\\item 'sample.sampleKitGuid'\n",
       "\\item 'sample.visitName'\n",
       "\\item 'sample.visitDetails'\n",
       "\\item 'sample.drawDate'\n",
       "\\item 'sample.daysSinceFirstVisit'\n",
       "\\item 'file.id'\n",
       "\\item 'file.name'\n",
       "\\item 'file.batchID'\n",
       "\\item 'file.panel'\n",
       "\\item 'file.pool'\n",
       "\\item 'file.fileType'\n",
       "\\item 'file.majorVersion'\n",
       "\\item 'subject.id'\n",
       "\\item 'subject.biologicalSex'\n",
       "\\item 'subject.birthYear'\n",
       "\\item 'subject.ethnicity'\n",
       "\\item 'subject.partnerCode'\n",
       "\\item 'subject.race'\n",
       "\\item 'subject.subjectGuid'\n",
       "\\item 'cohort.cohortGuid'\n",
       "\\item 'sample.diseaseStatesRecordedAtVisit'\n",
       "\\item 'subject.covidVaxDose1.daysSinceFirstVisit'\n",
       "\\item 'subject.covidVaxDose2.daysSinceFirstVisit'\n",
       "\\item 'Covid\\_exclusion'\n",
       "\\item 'subjectGuid'\n",
       "\\item 'CMV'\n",
       "\\item 'Ages'\n",
       "\\item 'celltype'\n",
       "\\item 'AgeGroup'\n",
       "\\end{enumerate*}\n"
      ],
      "text/markdown": [
       "1. 'X.1'\n",
       "2. 'pbmc_sample_id'\n",
       "3. 'composite_score_sum_mean'\n",
       "4. 'composite_score_sum_scaled_mean'\n",
       "5. 'X'\n",
       "6. 'Unnamed..0'\n",
       "7. 'lastUpdated'\n",
       "8. 'sample.id'\n",
       "9. 'sample.bridgingControl'\n",
       "10. 'sample.sampleKitGuid'\n",
       "11. 'sample.visitName'\n",
       "12. 'sample.visitDetails'\n",
       "13. 'sample.drawDate'\n",
       "14. 'sample.daysSinceFirstVisit'\n",
       "15. 'file.id'\n",
       "16. 'file.name'\n",
       "17. 'file.batchID'\n",
       "18. 'file.panel'\n",
       "19. 'file.pool'\n",
       "20. 'file.fileType'\n",
       "21. 'file.majorVersion'\n",
       "22. 'subject.id'\n",
       "23. 'subject.biologicalSex'\n",
       "24. 'subject.birthYear'\n",
       "25. 'subject.ethnicity'\n",
       "26. 'subject.partnerCode'\n",
       "27. 'subject.race'\n",
       "28. 'subject.subjectGuid'\n",
       "29. 'cohort.cohortGuid'\n",
       "30. 'sample.diseaseStatesRecordedAtVisit'\n",
       "31. 'subject.covidVaxDose1.daysSinceFirstVisit'\n",
       "32. 'subject.covidVaxDose2.daysSinceFirstVisit'\n",
       "33. 'Covid_exclusion'\n",
       "34. 'subjectGuid'\n",
       "35. 'CMV'\n",
       "36. 'Ages'\n",
       "37. 'celltype'\n",
       "38. 'AgeGroup'\n",
       "\n",
       "\n"
      ],
      "text/plain": [
       " [1] \"X.1\"                                      \n",
       " [2] \"pbmc_sample_id\"                           \n",
       " [3] \"composite_score_sum_mean\"                 \n",
       " [4] \"composite_score_sum_scaled_mean\"          \n",
       " [5] \"X\"                                        \n",
       " [6] \"Unnamed..0\"                               \n",
       " [7] \"lastUpdated\"                              \n",
       " [8] \"sample.id\"                                \n",
       " [9] \"sample.bridgingControl\"                   \n",
       "[10] \"sample.sampleKitGuid\"                     \n",
       "[11] \"sample.visitName\"                         \n",
       "[12] \"sample.visitDetails\"                      \n",
       "[13] \"sample.drawDate\"                          \n",
       "[14] \"sample.daysSinceFirstVisit\"               \n",
       "[15] \"file.id\"                                  \n",
       "[16] \"file.name\"                                \n",
       "[17] \"file.batchID\"                             \n",
       "[18] \"file.panel\"                               \n",
       "[19] \"file.pool\"                                \n",
       "[20] \"file.fileType\"                            \n",
       "[21] \"file.majorVersion\"                        \n",
       "[22] \"subject.id\"                               \n",
       "[23] \"subject.biologicalSex\"                    \n",
       "[24] \"subject.birthYear\"                        \n",
       "[25] \"subject.ethnicity\"                        \n",
       "[26] \"subject.partnerCode\"                      \n",
       "[27] \"subject.race\"                             \n",
       "[28] \"subject.subjectGuid\"                      \n",
       "[29] \"cohort.cohortGuid\"                        \n",
       "[30] \"sample.diseaseStatesRecordedAtVisit\"      \n",
       "[31] \"subject.covidVaxDose1.daysSinceFirstVisit\"\n",
       "[32] \"subject.covidVaxDose2.daysSinceFirstVisit\"\n",
       "[33] \"Covid_exclusion\"                          \n",
       "[34] \"subjectGuid\"                              \n",
       "[35] \"CMV\"                                      \n",
       "[36] \"Ages\"                                     \n",
       "[37] \"celltype\"                                 \n",
       "[38] \"AgeGroup\"                                 "
      ]
     },
     "metadata": {},
     "output_type": "display_data"
    }
   ],
   "source": [
    "colnames(df)"
   ]
  },
  {
   "cell_type": "code",
   "execution_count": 94,
   "id": "fce2692d-2075-4b04-a00f-3d8a1e04d8fe",
   "metadata": {},
   "outputs": [],
   "source": [
    "celltype_order <- c(\"Core naive CD8 T cell\" )\n",
    "df<-df %>% filter(celltype %in% celltype_order)\n"
   ]
  },
  {
   "cell_type": "code",
   "execution_count": 95,
   "id": "0943b172-dc54-4e13-97b4-df6df1a91a86",
   "metadata": {},
   "outputs": [],
   "source": [
    "df$celltype <- factor(df$celltype,levels=celltype_order)\n",
    "#df$celltype<-gsub(' cell','',df$celltype)"
   ]
  },
  {
   "cell_type": "markdown",
   "id": "19d63445-48ed-4623-86df-b3f9a9c0e0b2",
   "metadata": {},
   "source": [
    "# Plotting"
   ]
  },
  {
   "cell_type": "code",
   "execution_count": 96,
   "id": "ac1f4a7a-3b12-49a4-bd1c-dfd163bc0a41",
   "metadata": {},
   "outputs": [],
   "source": [
    "df$`Age Group`<-df$`AgeGroup`"
   ]
  },
  {
   "cell_type": "code",
   "execution_count": 97,
   "id": "977c3b31-5c93-4945-8505-4fcaeb10dee9",
   "metadata": {},
   "outputs": [],
   "source": [
    "df$`Age Group`<-factor(df$`Age Group`,level=c('Young','Older'))"
   ]
  },
  {
   "cell_type": "code",
   "execution_count": 114,
   "id": "29ae352b-46b4-4e43-905f-17488d6900cb",
   "metadata": {},
   "outputs": [
    {
     "data": {
      "image/png": "[encoded data removed]",
      "text/plain": [
       "plot without title"
      ]
     },
     "metadata": {
      "image/png": {
       "height": 118.1102,
       "width": 188.9764
      }
     },
     "output_type": "display_data"
    }
   ],
   "source": [
    "options(repr.plot.width = 80/25.4, repr.plot.height =  50/25.4)\n",
    "df$group=paste0(df$CMV,'-',df$`Age Group`)\n",
    "df$group=factor(df$group,levels=c(\"Negative-Young\",\"Positive-Young\",\"Negative-Older\", \"Positive-Older\"))\n",
    "my_comparisons <- list(c(\"Negative-Young\", \"Positive-Young\"),c(\"Negative-Older\", \"Positive-Older\"))\n",
    "p <- ggplot(df  ,\n",
    "              aes(x = group, y = composite_score_sum_scaled_mean)) +\n",
    "    geom_boxplot( lwd=0.3, outlier.shape = NA,aes(fill = `Age Group`))+\n",
    "    geom_point(aes(y = composite_score_sum_scaled_mean), \n",
    "               position = position_jitter(width = 0.2), color=\"black\", size=1, stroke=0) +\n",
    "    facet_wrap(~ celltype, scales = 'free_y', ncol = 4)   +\n",
    "stat_compare_means(aes(label = paste0(\"p=\", after_stat(p.format))),comparisons=my_comparisons[1],\n",
    "    size=2.2,label.y=100,\n",
    "    vjust = -0.5)+  \n",
    "stat_compare_means(aes(label = paste0(\"p=\", after_stat(p.format))),comparisons=my_comparisons[2],\n",
    "    size=2.2,label.y=150,\n",
    "    vjust = -0.5)+\n",
    "    theme_classic(base_size = 7) +\n",
    "    scale_fill_manual(values = c(\"Older\" = '#bf812d', \n",
    "                                 \"Young\" = '#35978f')) +\n",
    "    scale_y_continuous(limits = c(NA, NA), \n",
    "                       expand = expansion(mult = c(0.1, 0.15)))+\n",
    "ylab('Age Composite Metric')+ \n",
    "guides(shape = guide_legend(override.aes = list(size = 0.5)))+\n",
    "    theme(axis.line = element_line(colour = \"black\"),\n",
    "          legend.position = \"none\",\n",
    "          legend.title = element_blank(),\n",
    "          panel.grid.major = element_blank(),\n",
    "          panel.grid.minor = element_blank(),\n",
    "          panel.border = element_blank(),\n",
    "          panel.background = element_blank(),\n",
    "          strip.background = element_rect(linewidth = 0),\n",
    "          axis.title.x = element_text(margin = margin(t = 2)))\n",
    "p\n"
   ]
  },
  {
   "cell_type": "code",
   "execution_count": 115,
   "id": "3a026b60-7dbb-446d-8eab-88121e057c90",
   "metadata": {},
   "outputs": [
    {
     "data": {
      "image/png": "[encoded data removed]",
      "text/plain": [
       "plot without title"
      ]
     },
     "metadata": {
      "image/png": {
       "height": 118.1102,
       "width": 188.9764
      }
     },
     "output_type": "display_data"
    }
   ],
   "source": [
    "plot <- ggplot_gtable(ggplot_build(p))\n",
    "\n",
    "strips <- which(grepl('strip-', plot$layout$name))\n",
    "\n",
    "pal <- color_vector[celltype_order]\n",
    "text_color <- sapply(color_vector[celltype_order], is_dark_color)\n",
    "\n",
    "for (i in seq_along(strips)) {\n",
    "  k <- which(grepl('rect', plot$grobs[[strips[i]]]$grobs[[1]]$childrenOrder))\n",
    "  l <- which(grepl('titleGrob', plot$grobs[[strips[i]]]$grobs[[1]]$childrenOrder))\n",
    "  plot$grobs[[strips[i]]]$grobs[[1]]$children[[k]]$gp$fill <- adjustcolor(pal[i], alpha.f = 0.8)\n",
    "  plot$grobs[[strips[i]]]$grobs[[1]]$children[[l]]$children[[1]]$gp$col <- text_color[i]\n",
    "}\n",
    "\n",
    "plot(plot)\n",
    "ggsave('FigureA.pdf',plot,width = 80/25.4, height =  50/25.4)"
   ]
  },
  {
   "cell_type": "code",
   "execution_count": null,
   "id": "bf1b8ae6-b746-466f-9bc5-49e9656af081",
   "metadata": {},
   "outputs": [],
   "source": []
  }
 ],
 "metadata": {
  "kernelspec": {
   "display_name": "R 4",
   "language": "R",
   "name": "ir4"
  },
  "language_info": {
   "codemirror_mode": "r",
   "file_extension": ".r",
   "mimetype": "text/x-r-source",
   "name": "R",
   "pygments_lexer": "r",
   "version": "4.3.2"
  }
 },
 "nbformat": 4,
 "nbformat_minor": 5
}
