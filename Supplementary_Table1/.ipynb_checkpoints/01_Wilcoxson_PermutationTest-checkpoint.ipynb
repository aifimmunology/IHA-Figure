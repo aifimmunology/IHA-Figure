{
 "cells": [
  {
   "cell_type": "code",
   "execution_count": 1,
   "id": "6249f58a-5f58-4f74-8d4f-9f4bfde8c722",
   "metadata": {},
   "outputs": [
    {
     "name": "stderr",
     "output_type": "stream",
     "text": [
      "Warning message:\n",
      "“package ‘dplyr’ was built under R version 4.3.3”\n",
      "Warning message:\n",
      "“package ‘tidyr’ was built under R version 4.3.3”\n",
      "Warning message:\n",
      "“package ‘tibble’ was built under R version 4.3.3”\n",
      "Warning message:\n",
      "“package ‘stringr’ was built under R version 4.3.3”\n",
      "Warning message:\n",
      "“package ‘reshape2’ was built under R version 4.3.3”\n",
      "\n",
      "Attaching package: ‘reshape2’\n",
      "\n",
      "\n",
      "The following object is masked from ‘package:tidyr’:\n",
      "\n",
      "    smiths\n",
      "\n",
      "\n",
      "Warning message:\n",
      "“package ‘rstatix’ was built under R version 4.3.3”\n",
      "\n",
      "Attaching package: ‘rstatix’\n",
      "\n",
      "\n",
      "The following object is masked from ‘package:stats’:\n",
      "\n",
      "    filter\n",
      "\n",
      "\n",
      "Loading required package: ggplot2\n",
      "\n"
     ]
    }
   ],
   "source": [
    "suppressPackageStartupMessages(library(dplyr))\n",
    "suppressPackageStartupMessages(library(tidyr))\n",
    "suppressPackageStartupMessages(library(tibble))\n",
    "suppressPackageStartupMessages(library(stringr))\n",
    "library(reshape2)\n",
    "library(rstatix)\n",
    "library(ggpubr)\n",
    "library(parallel)"
   ]
  },
  {
   "cell_type": "markdown",
   "id": "a38a70c9-b0a5-4f84-82bb-522fc67e867f",
   "metadata": {},
   "source": [
    "# Main Cohort"
   ]
  },
  {
   "cell_type": "code",
   "execution_count": 2,
   "id": "8af1ad09-5622-45bb-9166-3d0f720c6a81",
   "metadata": {},
   "outputs": [],
   "source": [
    "BRI_Freq_Data<-read.csv(\"../Dataset/diha_AIFI_L3_frequencies_2024-05-05.csv\")\n"
   ]
  },
  {
   "cell_type": "code",
   "execution_count": 3,
   "id": "0f8dcf51-05ea-4481-96b7-eac3895da2a5",
   "metadata": {},
   "outputs": [],
   "source": [
    "\n",
    "BRI_Freq_Data<-BRI_Freq_Data %>% group_by(sample.sampleKitGuid) %>%\n",
    "  dplyr::mutate(percentage = (AIFI_L3_count / sum(AIFI_L3_count)) * 100) %>% ungroup()"
   ]
  },
  {
   "cell_type": "code",
   "execution_count": 4,
   "id": "93c1305f-365e-4747-9e8b-122527e573a2",
   "metadata": {},
   "outputs": [],
   "source": [
    "BRI_Freq_Data_subset<-BRI_Freq_Data %>% filter(sample.visitName==\"Flu Year 1 Day 0\")"
   ]
  },
  {
   "cell_type": "code",
   "execution_count": null,
   "id": "3da31cad-3000-4039-b550-5cf2d8e06fa0",
   "metadata": {},
   "outputs": [],
   "source": []
  },
  {
   "cell_type": "code",
   "execution_count": 5,
   "id": "8ff330f0-d674-416e-a9f5-bc4ae6b24d93",
   "metadata": {},
   "outputs": [
    {
     "name": "stderr",
     "output_type": "stream",
     "text": [
      "\u001b[1m\u001b[22m`summarise()` has grouped output by 'AIFI_L3'. You can override using the\n",
      "`.groups` argument.\n"
     ]
    }
   ],
   "source": [
    "freq_changes <- BRI_Freq_Data_subset %>%\n",
    "  select(percentage, AIFI_L3, AIFI_L3_clr, cohort.cohortGuid, subject.biologicalSex, subject.cmv) %>%\n",
    "  group_by(AIFI_L3, subject.cmv) %>%\n",
    "  summarise(mean_AIFI_L3_clr = median(AIFI_L3_clr, na.rm = TRUE)) %>%\n",
    "  spread(subject.cmv, mean_AIFI_L3_clr) %>%\n",
    "  mutate(delta_change = `Positive` - `Negative`)\n",
    "\n",
    "observed_delta_change <- freq_changes"
   ]
  },
  {
   "cell_type": "code",
   "execution_count": 6,
   "id": "55157bad-de71-455d-b86b-16ff435e5d9e",
   "metadata": {},
   "outputs": [],
   "source": [
    "n_perm <- 100000\n",
    "\n",
    "\n",
    "permute_single_iteration <- function(seed) {\n",
    "  set.seed(seed)\n",
    "  permuted_data <- BRI_Freq_Data_subset %>%\n",
    "    mutate(subject.cmv = sample(subject.cmv)) %>%\n",
    "    group_by(AIFI_L3, subject.cmv) %>%\n",
    "    summarise(mean_AIFI_L3_clr = median(AIFI_L3_clr, na.rm = TRUE)) %>%\n",
    "    spread(subject.cmv, mean_AIFI_L3_clr) %>%\n",
    "    mutate(delta_change = `Positive` - `Negative`)%>% ungroup() %>% as.data.frame()\n",
    "  permuted_data$iteration<-seed\n",
    "  return(permuted_data)\n",
    "}"
   ]
  },
  {
   "cell_type": "code",
   "execution_count": 7,
   "id": "af5229e5-9b2e-48fc-9058-bf2e6d69600f",
   "metadata": {},
   "outputs": [],
   "source": [
    "permuted_delta_change <- do.call(\n",
    "  rbind,\n",
    "  suppressMessages(suppressWarnings(mclapply(1:n_perm, permute_single_iteration, mc.cores = 30)))\n",
    ")"
   ]
  },
  {
   "cell_type": "code",
   "execution_count": 8,
   "id": "faf0f44b-160c-4eec-8fff-3cab2cb34cb9",
   "metadata": {},
   "outputs": [],
   "source": [
    "observed_delta_map <- observed_delta_change %>%\n",
    "  select(AIFI_L3, delta_change) %>%\n",
    "  rename(observed_delta_change = delta_change)"
   ]
  },
  {
   "cell_type": "code",
   "execution_count": 9,
   "id": "e9cee13c-adaf-42b5-b16a-727e6da3d34e",
   "metadata": {},
   "outputs": [],
   "source": [
    "p_values_main <- permuted_delta_change %>%\n",
    "  left_join(observed_delta_map, by = \"AIFI_L3\") %>%\n",
    "  group_by(AIFI_L3) %>%\n",
    "  summarise(\n",
    "    p_value = (sum(abs(delta_change) >= abs(observed_delta_change)) + 1) /\n",
    "              (n() + 1)\n",
    "  )"
   ]
  },
  {
   "cell_type": "markdown",
   "id": "3f4bef62-823b-4734-afd7-5c1800f35e7c",
   "metadata": {},
   "source": [
    "# Follow Up Cohort"
   ]
  },
  {
   "cell_type": "code",
   "execution_count": 10,
   "id": "056f3a00-73c1-4394-9f29-29c284789689",
   "metadata": {},
   "outputs": [],
   "source": [
    "SF4_Freq_Data<-read.csv(\"../Figure2/03_Get_Counts/SF4_Freq.csv\")\n"
   ]
  },
  {
   "cell_type": "code",
   "execution_count": 11,
   "id": "42078e1d-5861-479b-8348-47042b45c8d2",
   "metadata": {},
   "outputs": [
    {
     "name": "stderr",
     "output_type": "stream",
     "text": [
      "\u001b[1m\u001b[22m`summarise()` has grouped output by 'celltypist_l3'. You can override using the\n",
      "`.groups` argument.\n"
     ]
    }
   ],
   "source": [
    "freq_changes <- SF4_Freq_Data %>%\n",
    "  select(percentage,celltypist_l3, percentage_clr, cohort.cohortGuid, subject.biologicalSex, CMV) %>%\n",
    "  group_by(celltypist_l3, CMV) %>%\n",
    "  summarise(mean_AIFI_L3_clr = median(percentage_clr, na.rm = TRUE)) %>%\n",
    "  spread(CMV, mean_AIFI_L3_clr) %>%\n",
    "  mutate(delta_change = `Positive` - `Negative`)\n",
    "\n",
    "observed_delta_change <- freq_changes"
   ]
  },
  {
   "cell_type": "code",
   "execution_count": 12,
   "id": "7900dfd1-003b-483e-88ad-27225a9515c9",
   "metadata": {},
   "outputs": [],
   "source": [
    "n_perm <- 100000\n",
    "\n",
    "permute_single_iteration <- function(seed) {\n",
    "  set.seed(seed)\n",
    "  permuted_data <- SF4_Freq_Data %>%\n",
    "    mutate(CMV = sample(CMV)) %>%\n",
    "    group_by(celltypist_l3, CMV) %>%\n",
    "    summarise(mean_AIFI_L3_clr = median(percentage_clr, na.rm = TRUE)) %>%\n",
    "    spread(CMV, mean_AIFI_L3_clr) %>%\n",
    "    mutate(delta_change = `Positive` - `Negative`)%>% ungroup() %>% as.data.frame()\n",
    "  permuted_data$iteration<-seed\n",
    "  return(permuted_data)\n",
    "}"
   ]
  },
  {
   "cell_type": "code",
   "execution_count": 13,
   "id": "f64bec21-6d50-4986-9e0c-0e740b80c60d",
   "metadata": {},
   "outputs": [],
   "source": [
    "permuted_delta_change <- do.call(\n",
    "  rbind,\n",
    "  suppressMessages(suppressWarnings(mclapply(1:n_perm, permute_single_iteration, mc.cores = 30)))\n",
    ")"
   ]
  },
  {
   "cell_type": "code",
   "execution_count": 14,
   "id": "278d07e9-86d9-4708-9803-714baff4546a",
   "metadata": {},
   "outputs": [],
   "source": [
    "observed_delta_map <- observed_delta_change %>%\n",
    "  select(celltypist_l3, delta_change) %>%\n",
    "  rename(observed_delta_change = delta_change)"
   ]
  },
  {
   "cell_type": "code",
   "execution_count": 15,
   "id": "0d383466-78b0-42b1-8554-dcdc1537f8b5",
   "metadata": {},
   "outputs": [],
   "source": [
    "p_values_follow_up <- permuted_delta_change %>%\n",
    "  left_join(observed_delta_map, by = \"celltypist_l3\") %>%\n",
    "  group_by(celltypist_l3) %>%\n",
    "  summarise(\n",
    "    p_value = (sum(abs(delta_change) >= abs(observed_delta_change)) + 1) /\n",
    "              (n() + 1)\n",
    "  )"
   ]
  },
  {
   "cell_type": "markdown",
   "id": "bdb67837-f1e3-4410-bbd5-606f3f219ddb",
   "metadata": {},
   "source": [
    "# Combine"
   ]
  },
  {
   "cell_type": "code",
   "execution_count": 21,
   "id": "000d1479-1811-4a5a-90fa-ea406f3486d7",
   "metadata": {},
   "outputs": [],
   "source": [
    "df<-left_join(p_values_main,p_values_follow_up,by=c(\"AIFI_L3\"=\"celltypist_l3\"))"
   ]
  },
  {
   "cell_type": "code",
   "execution_count": 22,
   "id": "a7abf3fc-6cf4-4b96-9e7a-1c9268c5e2fc",
   "metadata": {},
   "outputs": [],
   "source": [
    "colnames(df)[2:3]<-c(\"Main Cohort\",\"Follow Up Cohort\")"
   ]
  },
  {
   "cell_type": "code",
   "execution_count": 23,
   "id": "d64567a2-eddb-4f35-93e0-1a4a8d5b3056",
   "metadata": {},
   "outputs": [],
   "source": [
    "write.csv(df,\"Permutation_P_values.csv\")"
   ]
  },
  {
   "cell_type": "code",
   "execution_count": null,
   "id": "7a56127f-e13a-4ef6-bbd5-06551a74910d",
   "metadata": {},
   "outputs": [],
   "source": []
  }
 ],
 "metadata": {
  "kernelspec": {
   "display_name": "R_BRI_Figures",
   "language": "R",
   "name": "r_bri_figures"
  },
  "language_info": {
   "codemirror_mode": "r",
   "file_extension": ".r",
   "mimetype": "text/x-r-source",
   "name": "R",
   "pygments_lexer": "r",
   "version": "4.3.2"
  }
 },
 "nbformat": 4,
 "nbformat_minor": 5
}
