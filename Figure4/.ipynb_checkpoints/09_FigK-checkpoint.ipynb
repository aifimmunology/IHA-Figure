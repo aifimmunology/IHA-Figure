{
 "cells": [
  {
   "cell_type": "code",
   "execution_count": 1,
   "id": "49429daf-a7ec-4871-8b8d-c08db2471ee7",
   "metadata": {},
   "outputs": [
    {
     "name": "stderr",
     "output_type": "stream",
     "text": [
      "Warning message:\n",
      "“package ‘performance’ was built under R version 4.3.3”\n",
      "Warning message:\n",
      "“package ‘dplyr’ was built under R version 4.3.3”\n",
      "\n",
      "Attaching package: ‘dplyr’\n",
      "\n",
      "\n",
      "The following objects are masked from ‘package:stats’:\n",
      "\n",
      "    filter, lag\n",
      "\n",
      "\n",
      "The following objects are masked from ‘package:base’:\n",
      "\n",
      "    intersect, setdiff, setequal, union\n",
      "\n",
      "\n",
      "Warning message:\n",
      "“package ‘rstatix’ was built under R version 4.3.3”\n",
      "\n",
      "Attaching package: ‘rstatix’\n",
      "\n",
      "\n",
      "The following object is masked from ‘package:stats’:\n",
      "\n",
      "    filter\n",
      "\n",
      "\n",
      "Warning message:\n",
      "“package ‘ggbreak’ was built under R version 4.3.3”\n",
      "ggbreak v0.1.4 Learn more at https://yulab-smu.top/\n",
      "\n",
      "\n",
      "\n",
      "\u001b[90mIf you use ggbreak in published research, please cite the following\n",
      "paper:\n",
      "\n",
      "S Xu, M Chen, T Feng, L Zhan, L Zhou, G Yu. Use ggbreak to effectively\n",
      "utilize plotting space to deal with large datasets and outliers.\n",
      "Frontiers in Genetics. 2021, 12:774846. doi: 10.3389/fgene.2021.774846\n",
      "\u001b[39m\n",
      "\n"
     ]
    }
   ],
   "source": [
    "library(performance)\n",
    "library(ggplot2)\n",
    "library(dplyr)\n",
    "library(rstatix)\n",
    "library(ggpubr)\n",
    "library(ggbreak)"
   ]
  },
  {
   "cell_type": "markdown",
   "id": "7d33f85d-6939-4606-89f8-2047e83442af",
   "metadata": {},
   "source": [
    "# Reading input"
   ]
  },
  {
   "cell_type": "code",
   "execution_count": 2,
   "id": "6dba8a81-5e45-408a-b06f-3c170ec61985",
   "metadata": {},
   "outputs": [],
   "source": [
    "df<-read.csv(\"10_Isotype_MSD/Isotype_Singal_IgG2_IgG3_Phuket.csv\")"
   ]
  },
  {
   "cell_type": "code",
   "execution_count": 3,
   "id": "dce65636-8a32-412d-9a5c-7fbf5d3e8d20",
   "metadata": {},
   "outputs": [],
   "source": [
    "df<-df %>% filter(Flu_Year==\"2020-2021\",Flu_Day==\"Day_7\")"
   ]
  },
  {
   "cell_type": "code",
   "execution_count": 4,
   "id": "28077042-cf6d-4b79-ad65-7df7cb496574",
   "metadata": {},
   "outputs": [],
   "source": [
    "df<-df %>% mutate(AgeGroup= case_when(cohort.cohortGuid==\"BR1\"~\"Young\", TRUE ~\"Older\"))"
   ]
  },
  {
   "cell_type": "code",
   "execution_count": 5,
   "id": "1769f746-f178-438a-b08e-1f9636eeefcd",
   "metadata": {},
   "outputs": [],
   "source": [
    "df$Group <- paste0(df$`AgeGroup`, \"_\", df$Flu_Day)\n",
    "df$Group <- factor(df$Group, levels = c(\n",
    "    \"Young_Day_7\", \"Older_Day_7\"))"
   ]
  },
  {
   "cell_type": "markdown",
   "id": "b53ca0f4-d730-4891-87ed-97ebbee49597",
   "metadata": {},
   "source": [
    "# Plotting"
   ]
  },
  {
   "cell_type": "code",
   "execution_count": 8,
   "id": "3c66d5b7-3658-419d-90d8-7c879d5ec740",
   "metadata": {},
   "outputs": [
    {
     "data": {
      "text/plain": [
       "       \n",
       "        IgG2 IgG3\n",
       "  Older   14   15\n",
       "  Young   10   10"
      ]
     },
     "metadata": {},
     "output_type": "display_data"
    }
   ],
   "source": [
    "table(df$AgeGroup,df$Isotype)"
   ]
  },
  {
   "cell_type": "code",
   "execution_count": 6,
   "id": "06d8c258-5041-4833-bfe4-4ea61bedf2bb",
   "metadata": {},
   "outputs": [
    {
     "data": {
      "image/png": "[encoded data removed]",
      "text/plain": [
       "plot without title"
      ]
     },
     "metadata": {
      "image/png": {
       "height": 118.1102,
       "width": 94.4882
      }
     },
     "output_type": "display_data"
    }
   ],
   "source": [
    "options(repr.plot.width = 20, repr.plot.height = 8)\n",
    "\n",
    "\n",
    "p <- ggplot(df %>%\n",
    "    arrange(subjectGuid, Flu_Day), aes(x = Group, y = Isotype_to_Total_Singal_Ratio, \n",
    "                                       fill = `AgeGroup`)) +\n",
    "    geom_boxplot(outlier.shape = NA, lwd = 0.3) +\n",
    "    geom_point(color = \"black\", size = 0.5, stroke = 0) +\n",
    "    theme_classic(base_size = 6) +\n",
    "    scale_fill_manual(values = c(Older = \"#bf812d\", \n",
    "                                 Young = \"#35978f\")) +\n",
    "    xlab(\"\") +\n",
    "    ylab(\"Percentage of Singal\") +\n",
    "    scale_y_continuous(expand = expansion(mult = c(0.1, 0.15))) +\n",
    "\n",
    "    scale_x_discrete(labels = c(\n",
    "        Older_Day_7 = \"D7\\nOA\", \n",
    "        Young_Day_7 = \"D7\\nYA\"\n",
    "    )) +\n",
    "    theme(\n",
    "        legend.position = \"top\", legend.title = element_blank(), axis.line = element_line(colour = \"black\"), \n",
    "        panel.grid.major = element_blank(), panel.grid.minor = element_blank(),\n",
    "        panel.border = element_blank(), panel.background = element_blank(), \n",
    "        strip.background = element_rect(linewidth = 0), \n",
    "        axis.title.x = element_text(margin = margin(t = 1))\n",
    "    ) +\n",
    "    stat_compare_means( size = 1.76, label = \"p.format\",bracket.size = 0.2)+ theme(\n",
    "  axis.title   = element_text(color = \"black\"),\n",
    "  axis.text    = element_text(color = \"black\")\n",
    ")+facet_wrap(~Isotype,scale=\"free_y\")\n",
    "options(repr.plot.width = 40/25.4, repr.plot.height = 50/25.4)\n",
    "\n",
    "p\n",
    "ggsave('FigureM.pdf', p, \n",
    "       width = 40/25.4, \n",
    "       height = 50/25.4)"
   ]
  },
  {
   "cell_type": "code",
   "execution_count": null,
   "id": "e014d250-7306-43de-b416-9f53fc79d110",
   "metadata": {},
   "outputs": [],
   "source": []
  }
 ],
 "metadata": {
  "kernelspec": {
   "display_name": "R_BRI_Figures",
   "language": "R",
   "name": "r_bri_figures"
  },
  "language_info": {
   "codemirror_mode": "r",
   "file_extension": ".r",
   "mimetype": "text/x-r-source",
   "name": "R",
   "pygments_lexer": "r",
   "version": "4.3.2"
  }
 },
 "nbformat": 4,
 "nbformat_minor": 5
}
