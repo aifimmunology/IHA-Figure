{
 "cells": [
  {
   "cell_type": "code",
   "execution_count": 2,
   "id": "5865e6ec-db14-419a-a256-10b0ccb842c1",
   "metadata": {},
   "outputs": [],
   "source": [
    "library(ggplot2)\n",
    "library(stats)\n",
    "library(dplyr)\n",
    "library(tidyverse)\n",
    "library(RColorBrewer)\n",
    "library(paletteer)\n",
    "library(ComplexHeatmap)\n",
    "library(circlize)\n",
    "library(grid)"
   ]
  },
  {
   "cell_type": "markdown",
   "id": "32c8d5ff-32cd-45b8-b9e4-204904049cb4",
   "metadata": {},
   "source": [
    "# Reading input"
   ]
  },
  {
   "cell_type": "code",
   "execution_count": 26,
   "id": "9d3ef202-a0c6-433a-8b45-40e53e7f77dd",
   "metadata": {},
   "outputs": [],
   "source": [
    "mat<-read.csv(\"06_Arc_Plot_Data_Prepprocessing/mat.csv\",row.names=1,check.names = FALSE)\n",
    "row_annot<-read.csv(\"06_Arc_Plot_Data_Prepprocessing//row_anno.csv\",row.names=1,check.names = FALSE)"
   ]
  },
  {
   "cell_type": "code",
   "execution_count": 27,
   "id": "2fbdc53a-4fcc-4875-b7d5-18c97cff474c",
   "metadata": {},
   "outputs": [],
   "source": [
    "row_annot<-row_annot %>% filter(V2==\"2020-2021\")"
   ]
  },
  {
   "cell_type": "code",
   "execution_count": 28,
   "id": "3c6196da-129b-4bd3-9254-acfe1b9a72d1",
   "metadata": {},
   "outputs": [],
   "source": [
    "rownames(row_annot)<-paste0(row_annot$V1,\"_\",row_annot$V2,\"_\",row_annot$V3)"
   ]
  },
  {
   "cell_type": "code",
   "execution_count": 29,
   "id": "a11103b5-3a06-49f6-8c94-a689e0bf26a1",
   "metadata": {},
   "outputs": [],
   "source": [
    "mat<-t(mat)"
   ]
  },
  {
   "cell_type": "code",
   "execution_count": 30,
   "id": "fd7ad93a-0758-42e1-a6fa-704ba6bbd91f",
   "metadata": {},
   "outputs": [],
   "source": [
    "mat<-mat[1:3,grepl(\"2020-2021\",colnames(mat))]"
   ]
  },
  {
   "cell_type": "code",
   "execution_count": 31,
   "id": "dc6b027c-a4ba-46fa-844b-eb476e0e61b4",
   "metadata": {},
   "outputs": [],
   "source": [
    "mat <- t(scale(t(mat)))\n",
    "mat <- t(apply(mat, 1, function(x) {\n",
    "  m <- mad(x, na.rm = TRUE)\n",
    "  pmax(pmin(x, 2*m), -2*m)\n",
    "}))"
   ]
  },
  {
   "cell_type": "code",
   "execution_count": 38,
   "id": "7133f75d-4cb2-4d48-9cac-ba750c5e7814",
   "metadata": {},
   "outputs": [
    {
     "ename": "ERROR",
     "evalue": "Error in sum(l_simple_anno): invalid 'type' (list) of argument\n",
     "output_type": "error",
     "traceback": [
      "Error in sum(l_simple_anno): invalid 'type' (list) of argument\nTraceback:\n",
      "1. .handleSimpleError(function (cnd) \n . {\n .     watcher$capture_plot_and_output()\n .     cnd <- sanitize_call(cnd)\n .     watcher$push(cnd)\n .     switch(on_error, continue = invokeRestart(\"eval_continue\"), \n .         stop = invokeRestart(\"eval_stop\"), error = invokeRestart(\"eval_error\", \n .             cnd))\n . }, \"invalid 'type' (list) of argument\", base::quote(sum(l_simple_anno)))"
     ]
    }
   ],
   "source": [
    "ha <- HeatmapAnnotation(\n",
    "  df = df,\n",
    "  annotation_name_gp = gpar(fontsize = 6),\n",
    "  annotation_legend_param = list(\n",
    "    title_gp = gpar(fontsize = 6),\n",
    "    labels_gp = gpar(fontsize = 6)\n",
    "  )\n",
    ")"
   ]
  },
  {
   "cell_type": "code",
   "execution_count": 33,
   "id": "ff54a41e-5c13-42f9-a379-6e96a8f9ccaf",
   "metadata": {},
   "outputs": [
    {
     "ename": "ERROR",
     "evalue": "Error in UseMethod(\"height\", x): no applicable method for 'height' applied to an object of class \"data.frame\"\n",
     "output_type": "error",
     "traceback": [
      "Error in UseMethod(\"height\", x): no applicable method for 'height' applied to an object of class \"data.frame\"\nTraceback:\n",
      "1. height(top_annotation)",
      "2. .handleSimpleError(function (cnd) \n . {\n .     watcher$capture_plot_and_output()\n .     cnd <- sanitize_call(cnd)\n .     watcher$push(cnd)\n .     switch(on_error, continue = invokeRestart(\"eval_continue\"), \n .         stop = invokeRestart(\"eval_stop\"), error = invokeRestart(\"eval_error\", \n .             cnd))\n . }, \"no applicable method for 'height' applied to an object of class \\\"data.frame\\\"\", \n .     base::quote(UseMethod(\"height\", x)))"
     ]
    }
   ],
   "source": [
    "options(repr.plot.width = 100/25.4, repr.plot.height = 55/25.4)\n",
    "col_fun <- colorRamp2(\n",
    "  seq(min(mat, na.rm = TRUE), max(mat, na.rm = TRUE), length.out = 11),\n",
    "  brewer.pal(11, \"Spectral\")\n",
    ")\n",
    "Heatmap(\n",
    "  mat,\n",
    "      col= col_fun,\n",
    "  top_annotation    = row_annot,\n",
    "\n",
    "  show_row_names      = TRUE,\n",
    "  show_column_names   = FALSE,\n",
    "  cluster_rows        = FALSE,\n",
    "  cluster_columns     = FALSE,\n",
    "  row_names_gp        = gpar(fontsize = 6),\n",
    "  column_names_gp     = gpar(fontsize = 6)\n",
    ")\n",
    "\n"
   ]
  },
  {
   "cell_type": "markdown",
   "id": "d808a522-a964-49eb-9aba-3ac0aa71508e",
   "metadata": {},
   "source": [
    "# Plotting"
   ]
  },
  {
   "cell_type": "code",
   "execution_count": 5,
   "id": "9e765dfa-6ca2-4de7-8669-e40dcb6198fe",
   "metadata": {},
   "outputs": [
    {
     "data": {
      "text/html": [
       "<strong>pdf:</strong> 2"
      ],
      "text/latex": [
       "\\textbf{pdf:} 2"
      ],
      "text/markdown": [
       "**pdf:** 2"
      ],
      "text/plain": [
       "pdf \n",
       "  2 "
      ]
     },
     "metadata": {},
     "output_type": "display_data"
    }
   ],
   "source": [
    "\n",
    "\n",
    "pdf('FigureB.pdf', width = 200/25.4, height = 120/25.4)\n",
    "\n",
    "# color functions for each continuous column\n",
    "col_fun1 <- colorRamp2(\n",
    "  seq(median(mat[,1], na.rm=TRUE) - 2*mad(mat[,1], na.rm=TRUE),\n",
    "      median(mat[,1], na.rm=TRUE) + 2*mad(mat[,1], na.rm=TRUE),\n",
    "      length.out = 11),\n",
    "  rev(brewer.pal(11, \"Spectral\"))\n",
    ")\n",
    "col_fun2 <- colorRamp2(\n",
    "  seq(median(mat[,2], na.rm=TRUE) - 2*mad(mat[,2], na.rm=TRUE),\n",
    "      median(mat[,2], na.rm=TRUE) + 2*mad(mat[,2], na.rm=TRUE),\n",
    "      length.out = 11),\n",
    "  rev(brewer.pal(11, \"Spectral\"))\n",
    ")\n",
    "col_fun3 <- colorRamp2(\n",
    "  seq(median(mat[,3], na.rm=TRUE) - 2*mad(mat[,3], na.rm=TRUE),\n",
    "      median(mat[,3], na.rm=TRUE) + 2*mad(mat[,3], na.rm=TRUE),\n",
    "      length.out = 11),\n",
    "  rev(brewer.pal(11, \"Spectral\"))\n",
    ")\n",
    "col_fun4 <- colorRamp2(\n",
    "  seq(median(mat[,4], na.rm=TRUE) - 2*mad(mat[,4], na.rm=TRUE),\n",
    "      median(mat[,4], na.rm=TRUE) + 2*mad(mat[,4], na.rm=TRUE),\n",
    "      length.out = 11),\n",
    "  rev(brewer.pal(11, \"Spectral\"))\n",
    ")\n",
    "\n",
    "# prepare group colors\n",
    "annotation_levels <- unique(row_annot$V2)\n",
    "if(length(annotation_levels) < 3) {\n",
    "  colors_group <- brewer.pal(3, \"Set2\")[1:length(annotation_levels)]\n",
    "} else {\n",
    "  colors_group <- brewer.pal(length(annotation_levels), \"Set2\")\n",
    "}\n",
    "names(colors_group) <- annotation_levels\n",
    "\n",
    "# other categorical palettes\n",
    "cohort_colors <- c(BR1 = \"#35978f\", BR2 = \"#bf812d\")\n",
    "sex_colors    <- c(Male = \"#5aae61\", Female = \"#9970ab\")\n",
    "CMV_colors    <- c(Positive = \"#d6604d\", Negative = \"#4393c3\")\n",
    "flu_colors    <- c(`low responder`    = \"#bdd7e7\",\n",
    "                   `middle responder` = \"#6baed6\",\n",
    "                   `high responder`   = \"#08519c\")\n",
    "\n",
    "# row annotation object\n",
    "row_ha <- rowAnnotation(\n",
    "  group          = row_annot$V2,\n",
    "  cohort         = row_annot$cohort.cohortGuid,\n",
    "  sex            = row_annot$subject.biologicalSex,\n",
    "  CMV            = row_annot$CMV,\n",
    "  FluPhuketHA    = row_annot$`Flu B/Phuket HA`,\n",
    "  FluWashingtonHA= row_annot$`Flu B/Washington HA`,\n",
    "  AGuangdong     = row_annot$`A/Guangdong`,\n",
    "  ACambodia      = row_annot$`A/Cambodia`,\n",
    "  col = list(\n",
    "    group           = colors_group,\n",
    "    cohort          = cohort_colors,\n",
    "    sex             = sex_colors,\n",
    "    CMV             = CMV_colors,\n",
    "    FluPhuketHA     = flu_colors,\n",
    "    FluWashingtonHA = flu_colors,\n",
    "    AGuangdong      = flu_colors,\n",
    "    ACambodia       = flu_colors\n",
    "  ),\n",
    "  show_annotation_name = FALSE,\n",
    "  width = unit(1, \"cm\")\n",
    ")\n",
    "\n",
    "# individual heatmaps for each mat column\n",
    "ht1 <- Heatmap(mat[,1],\n",
    "               name = colnames(mat)[1],\n",
    "               col = col_fun1,\n",
    "               cluster_rows     = FALSE,\n",
    "               show_row_names   = FALSE,\n",
    "               show_column_names= FALSE)\n",
    "\n",
    "ht2 <- Heatmap(mat[,2],\n",
    "               name = colnames(mat)[2],\n",
    "               col = col_fun2,\n",
    "               cluster_rows     = FALSE,\n",
    "               show_row_names   = FALSE,\n",
    "               show_column_names= FALSE)\n",
    "\n",
    "ht3 <- Heatmap(mat[,3],\n",
    "               name = colnames(mat)[3],\n",
    "               col = col_fun3,\n",
    "               cluster_rows     = FALSE,\n",
    "               show_row_names   = FALSE,\n",
    "               show_column_names= FALSE)\n",
    "\n",
    "ht4 <- Heatmap(mat[,4],\n",
    "               name = colnames(mat)[4],\n",
    "               col = col_fun4,\n",
    "               cluster_rows     = FALSE,\n",
    "               show_row_names   = FALSE,\n",
    "               show_column_names= FALSE)\n",
    "\n",
    "# draw everything together\n",
    "draw(row_ha + ht1 + ht2 + ht3 + ht4,\n",
    "     heatmap_legend_side     = \"right\",\n",
    "     annotation_legend_side  = \"right\")\n",
    "\n",
    "dev.off()"
   ]
  },
  {
   "cell_type": "code",
   "execution_count": null,
   "id": "dc3c960c-93ec-43bf-8d8d-7294f3395b06",
   "metadata": {},
   "outputs": [],
   "source": []
  },
  {
   "cell_type": "code",
   "execution_count": null,
   "id": "d780f5d1-7c54-47d2-9edd-103951f0e9db",
   "metadata": {},
   "outputs": [],
   "source": []
  },
  {
   "cell_type": "code",
   "execution_count": 29,
   "id": "b4983c90-5748-436e-9200-88c5081b93a2",
   "metadata": {},
   "outputs": [
    {
     "name": "stderr",
     "output_type": "stream",
     "text": [
      "Warning message:\n",
      "“`convert_length()` only works when aspect of the coordinate is 1.”\n",
      "Note: 44 points are out of plotting region in sector '2020-2021', track\n",
      "'5'.\n",
      "\n",
      "Note: 46 points are out of plotting region in sector '2021-2022', track\n",
      "'5'.\n",
      "\n"
     ]
    },
    {
     "data": {
      "text/html": [
       "<strong>pdf:</strong> 2"
      ],
      "text/latex": [
       "\\textbf{pdf:} 2"
      ],
      "text/markdown": [
       "**pdf:** 2"
      ],
      "text/plain": [
       "pdf \n",
       "  2 "
      ]
     },
     "metadata": {},
     "output_type": "display_data"
    }
   ],
   "source": [
    "pdf('FigureB.pdf', width =200/25.4, height = 120/25.4)\n",
    "\n",
    "circos.clear()\n",
    "circos.par(track.height = 0.1, start.degree = 180, gap.after = c(3.5, 180))\n",
    "col_fun1 <- colorRamp2(seq(median(mat[, 1], na.rm = TRUE) - 2 * mad(mat[, 1], na.rm = TRUE), median(mat[, 1], na.rm = TRUE) + 2 * mad(mat[, 1], na.rm = TRUE),\n",
    "    length.out = 11\n",
    "), rev(brewer.pal(11, \"Spectral\")))\n",
    "col_fun2 <- colorRamp2(seq(median(mat[, 2], na.rm = TRUE) - 2 * mad(mat[, 2], na.rm = TRUE), median(mat[, 2], na.rm = TRUE) + 2 * mad(mat[, 2], na.rm = TRUE),\n",
    "    length.out = 11\n",
    "), rev(brewer.pal(11, \"Spectral\")))\n",
    "col_fun3 <- colorRamp2(seq(median(mat[, 3], na.rm = TRUE) - 2 * mad(mat[, 3], na.rm = TRUE), median(mat[, 3], na.rm = TRUE) + 2 * mad(mat[, 3], na.rm = TRUE),\n",
    "    length.out = 11\n",
    "), rev(brewer.pal(11, \"Spectral\")))\n",
    "col_fun4 <- colorRamp2(seq(median(mat[, 4], na.rm = TRUE) - 2 * mad(mat[, 4], na.rm = TRUE), median(mat[, 4], na.rm = TRUE) + 2 * mad(mat[, 4], na.rm = TRUE),\n",
    "    length.out = 11\n",
    "), rev(brewer.pal(11, \"Spectral\")))\n",
    "\n",
    "\n",
    "set_track_gap(cm_h(0.1))\n",
    "\n",
    "annotation_levels <- unique(row_annot$V2)\n",
    "if (length(annotation_levels) < 3) {\n",
    "    annotation_colors <- setNames(brewer.pal(3, \"Set2\")[1:length(annotation_levels)], annotation_levels)\n",
    "} else {\n",
    "    annotation_colors <- setNames(brewer.pal(length(annotation_levels), \"Set2\"), annotation_levels)\n",
    "}\n",
    "anno_mat <- as.matrix(as.numeric(factor(row_annot$V2, levels = annotation_levels)))\n",
    "col_fun_anno <- colorRamp2(seq(1, length(annotation_levels)), annotation_colors)\n",
    "circos.heatmap(anno_mat, col = col_fun_anno, cluster = FALSE, split = row_annot$V2, track.height = 0.01)\n",
    "\n",
    "\n",
    "annotation_levels <- unique(row_annot$cohort.cohortGuid)\n",
    "annotation_colors <- c(BR1 = \"#35978f\", BR2 = \"#bf812d\")[levels(factor(row_annot$cohort.cohortGuid))]\n",
    "anno_mat <- as.matrix(as.numeric(factor(row_annot$cohort.cohortGuid)))\n",
    "col_fun_anno <- colorRamp2(seq(1, length(annotation_levels)), annotation_colors)\n",
    "circos.heatmap(anno_mat, col = col_fun_anno, cluster = FALSE, cell.border = \"white\", cell.lwd = 0.1,  track.height = 0.02)\n",
    "\n",
    "annotation_levels <- unique(row_annot$subject.biologicalSex)\n",
    "annotation_colors <- c(Male = \"#5aae61\", Female = \"#9970ab\")[levels(factor(row_annot$subject.biologicalSex))]\n",
    "anno_mat <- as.matrix(as.numeric(factor(row_annot$subject.biologicalSex)))\n",
    "col_fun_anno <- colorRamp2(seq(1, length(annotation_levels)), annotation_colors)\n",
    "circos.heatmap(anno_mat, col = col_fun_anno, cluster = FALSE, cell.border = \"white\", cell.lwd = 0.2, track.height = 0.02)\n",
    "\n",
    "annotation_levels <- unique(row_annot$CMV)\n",
    "annotation_colors <- c(Positive = \"#d6604d\", Negative = \"#4393c3\")[levels(factor(row_annot$CMV))]\n",
    "anno_mat <- as.matrix(as.numeric(factor(row_annot$CMV)))\n",
    "col_fun_anno <- colorRamp2(seq(1, length(annotation_levels)), annotation_colors)\n",
    "circos.heatmap(anno_mat, col = col_fun_anno, cluster = FALSE, cell.border = \"white\", cell.lwd = 0.2,  track.height = 0.02)\n",
    "\n",
    "\n",
    "circos.trackPlotRegion(\n",
    "  factors = row_annot$V2,\n",
    "  ylim = c(0, max(row_annot$`Plasma cell`, na.rm = TRUE)), \n",
    "  track.height = 0.06,\n",
    "  panel.fun = function(x, y) {\n",
    "    sector.name <- get.cell.meta.data(\"sector.index\")\n",
    "    \n",
    "    idx <- row_annot$V2 == sector.name\n",
    "    \n",
    "    x_val <- seq_len(sum(idx)) - 0.5\n",
    "    \n",
    "    y_val <- row_annot$`Plasma cell`[idx]\n",
    "    \n",
    "    # now draw bars in this sector\n",
    "    circos.barplot(\n",
    "      y_val, \n",
    "      x_val, \n",
    "      col = 'black', \n",
    "      border = 'black'\n",
    "    )\n",
    "  }\n",
    ")\n",
    "\n",
    "set_track_gap(cm_h(0.3))\n",
    "\n",
    "annotation_colors <- c(`low responder` = \"#bdd7e7\",`middle responder` = \"#6baed6\",`high responder` = \"#08519c\")\n",
    "\n",
    "annotation_levels <- intersect(unique(row_annot$`Flu B/Phuket HA`), names(annotation_colors))\n",
    "row_annot$`Flu B/Phuket HA` <- factor(row_annot$`Flu B/Phuket HA`, levels = annotation_levels)\n",
    "anno_mat <- matrix(as.numeric(row_annot$`Flu B/Phuket HA`))\n",
    "col_fun_anno <- colorRamp2(seq_along(annotation_levels), annotation_colors[annotation_levels])\n",
    "\n",
    "circos.heatmap(anno_mat, col = col_fun_anno, cluster = FALSE, cell.border = \"white\", cell.lwd = 0.8, track.height = 0.02)\n",
    "set_track_gap(cm_h(0.1))\n",
    "\n",
    "circos.heatmap(mat[, 1], col = col_fun1, cluster = FALSE, split = row_annot$V2, track.height = 0.06)\n",
    "set_track_gap(cm_h(0.2))\n",
    "\n",
    "annotation_levels <- intersect(unique(row_annot$`Flu B/Washington HA`), names(annotation_colors))\n",
    "row_annot$`Flu B/Washington HA` <- factor(row_annot$`Flu B/Washington HA`, levels = annotation_levels)\n",
    "anno_mat <- matrix(as.numeric(row_annot$`Flu B/Washington HA`))\n",
    "col_fun_anno <- colorRamp2(seq_along(annotation_levels), annotation_colors[annotation_levels])\n",
    "\n",
    "circos.heatmap(anno_mat, col = col_fun_anno, cluster = FALSE, cell.border = \"white\", cell.lwd = 0.8,  track.height = 0.02)\n",
    "set_track_gap(cm_h(0.1))\n",
    "\n",
    "circos.heatmap(mat[, 2], col = col_fun2, cluster = FALSE, split = row_annot$V2, track.height = 0.06)\n",
    "set_track_gap(cm_h(0.2))\n",
    "\n",
    "annotation_levels <- intersect(unique(row_annot$`A/Guangdong`), names(annotation_colors))\n",
    "row_annot$`A/Guangdong` <- factor(row_annot$`A/Guangdong`, levels = annotation_levels)\n",
    "anno_mat <- matrix(as.numeric(row_annot$`A/Guangdong`))\n",
    "col_fun_anno <- colorRamp2(seq_along(annotation_levels), annotation_colors[annotation_levels])\n",
    "\n",
    "circos.heatmap(anno_mat, col = col_fun_anno, cluster = FALSE, cell.border = \"white\", cell.lwd = 0.8,  track.height = 0.02)\n",
    "set_track_gap(cm_h(0.1))\n",
    "\n",
    "circos.heatmap(mat[, 3], col = col_fun3, cluster = FALSE, split = row_annot$V2, track.height = 0.06)\n",
    "set_track_gap(cm_h(0.2))\n",
    "\n",
    "\n",
    "annotation_levels <- intersect(unique(row_annot$`A/Cambodia`), names(annotation_colors))\n",
    "row_annot$`A/Cambodia` <- factor(row_annot$`A/Cambodia`, levels = annotation_levels)\n",
    "anno_mat <- matrix(as.numeric(row_annot$`A/Cambodia`))\n",
    "col_fun_anno <- colorRamp2(seq_along(annotation_levels), annotation_colors[annotation_levels])\n",
    "\n",
    "circos.heatmap(anno_mat, col = col_fun_anno, cluster = FALSE, cell.border = \"white\", cell.lwd = 0.8,  track.height = 0.02)\n",
    "set_track_gap(cm_h(0.1))\n",
    "\n",
    "\n",
    "\n",
    "circos.heatmap(mat[, 4], col = col_fun4, cluster = FALSE, split = row_annot$V2, track.height = 0.06)\n",
    "set_track_gap(cm_h(0.2))\n",
    "\n",
    "circos.clear()\n",
    "\n",
    "dev.off()\n"
   ]
  },
  {
   "cell_type": "code",
   "execution_count": 32,
   "id": "da4c8db3-3986-4356-86fd-f5243bb8990f",
   "metadata": {},
   "outputs": [
    {
     "data": {
      "text/html": [
       "<strong>pdf:</strong> 2"
      ],
      "text/latex": [
       "\\textbf{pdf:} 2"
      ],
      "text/markdown": [
       "**pdf:** 2"
      ],
      "text/plain": [
       "pdf \n",
       "  2 "
      ]
     },
     "metadata": {},
     "output_type": "display_data"
    }
   ],
   "source": [
    "pdf('FigureB_Legend.pdf', width =200/25.4, height = 120/25.4)\n",
    "\n",
    "\n",
    "annotation_colors_v2 <- if(length(unique(row_annot$V2)) < 3) {\n",
    "  setNames(brewer.pal(3, \"Set2\")[1:length(unique(row_annot$V2))], unique(row_annot$V2))\n",
    "} else {\n",
    "  setNames(brewer.pal(length(unique(row_annot$V2)), \"Set2\"), unique(row_annot$V2))\n",
    "}\n",
    "annotation_colors_cohort <- c(BR1 = \"#35978f\", BR2 = \"#bf812d\")[levels(factor(row_annot$cohort.cohortGuid))]\n",
    "annotation_colors_sex <- c(Male = \"#5aae61\", Female = \"#9970ab\")[levels(factor(row_annot$subject.biologicalSex))]\n",
    "annotation_colors_CMV <- c(Positive = \"#d6604d\", Negative = \"#4393c3\")[levels(factor(row_annot$CMV))]\n",
    "annotation_colors_fluPhuket <- annotation_colors[intersect(unique(row_annot$`Flu B/Phuket HA`), names(annotation_colors))]\n",
    "annotation_colors_fluWash <- annotation_colors[intersect(unique(row_annot$`Flu B/Washington HA`), names(annotation_colors))]\n",
    "annotation_colors_guangdong <- annotation_colors[intersect(unique(row_annot$`A/Guangdong`), names(annotation_colors))]\n",
    "annotation_colors_cambodia <- annotation_colors[intersect(unique(row_annot$`A/Cambodia`), names(annotation_colors))]\n",
    "\n",
    "lgd1 <- Legend(title = \"mat[,1]\", col_fun = col_fun1)\n",
    "lgd2 <- Legend(title = \"mat[,2]\", col_fun = col_fun2)\n",
    "lgd3 <- Legend(title = \"mat[,3]\", col_fun = col_fun3)\n",
    "lgd4 <- Legend(title = \"mat[,4]\", col_fun = col_fun4)\n",
    "lgd_v2 <- Legend(title = \"V2\", at = names(annotation_colors_v2), legend_gp = gpar(fill = annotation_colors_v2))\n",
    "lgd_cohort <- Legend(title = \"cohort\", at = names(annotation_colors_cohort), legend_gp = gpar(fill = annotation_colors_cohort))\n",
    "lgd_sex <- Legend(title = \"sex\", at = names(annotation_colors_sex), legend_gp = gpar(fill = annotation_colors_sex))\n",
    "lgd_CMV <- Legend(title = \"CMV\", at = names(annotation_colors_CMV), legend_gp = gpar(fill = annotation_colors_CMV))\n",
    "lgd_fluPhuket <- Legend(title = \"Flu B/Phuket HA\", at = names(annotation_colors_fluPhuket), legend_gp = gpar(fill = annotation_colors_fluPhuket))\n",
    "lgd_fluWash <- Legend(title = \"Flu B/Washington HA\", at = names(annotation_colors_fluWash), legend_gp = gpar(fill = annotation_colors_fluWash))\n",
    "lgd_guangdong <- Legend(title = \"A/Guangdong\", at = names(annotation_colors_guangdong), legend_gp = gpar(fill = annotation_colors_guangdong))\n",
    "lgd_cambodia <- Legend(title = \"A/Cambodia\", at = names(annotation_colors_cambodia), legend_gp = gpar(fill = annotation_colors_cambodia))\n",
    "\n",
    "all_lgd <- packLegend(lgd1, lgd2, lgd3, lgd4, lgd_v2, lgd_cohort, lgd_sex, lgd_CMV,\n",
    "                      lgd_fluPhuket, lgd_fluWash, lgd_guangdong, lgd_cambodia,\n",
    "                      direction = \"horizontal\")\n",
    "draw(all_lgd, x = unit(0.5, \"npc\"), y = unit(0.5, \"npc\"), just = \"center\")\n",
    "\n",
    "dev.off()"
   ]
  },
  {
   "cell_type": "code",
   "execution_count": null,
   "id": "ec53342c-1e40-47cf-afde-060e85ee15ab",
   "metadata": {},
   "outputs": [],
   "source": []
  }
 ],
 "metadata": {
  "kernelspec": {
   "display_name": "R_BRI_Figures",
   "language": "R",
   "name": "r_bri_figures"
  },
  "language_info": {
   "codemirror_mode": "r",
   "file_extension": ".r",
   "mimetype": "text/x-r-source",
   "name": "R",
   "pygments_lexer": "r",
   "version": "4.3.2"
  }
 },
 "nbformat": 4,
 "nbformat_minor": 5
}
