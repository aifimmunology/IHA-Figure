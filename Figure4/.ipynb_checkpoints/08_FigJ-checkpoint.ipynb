{
 "cells": [
  {
   "cell_type": "code",
   "execution_count": 1,
   "id": "a0e54ba4-352e-4688-a393-0b4620c25415",
   "metadata": {},
   "outputs": [
    {
     "name": "stderr",
     "output_type": "stream",
     "text": [
      "Warning message:\n",
      "“package ‘performance’ was built under R version 4.3.3”\n",
      "Warning message:\n",
      "“package ‘dplyr’ was built under R version 4.3.3”\n",
      "\n",
      "Attaching package: ‘dplyr’\n",
      "\n",
      "\n",
      "The following objects are masked from ‘package:stats’:\n",
      "\n",
      "    filter, lag\n",
      "\n",
      "\n",
      "The following objects are masked from ‘package:base’:\n",
      "\n",
      "    intersect, setdiff, setequal, union\n",
      "\n",
      "\n",
      "Warning message:\n",
      "“package ‘rstatix’ was built under R version 4.3.3”\n",
      "\n",
      "Attaching package: ‘rstatix’\n",
      "\n",
      "\n",
      "The following object is masked from ‘package:stats’:\n",
      "\n",
      "    filter\n",
      "\n",
      "\n",
      "Warning message:\n",
      "“package ‘cluster’ was built under R version 4.3.3”\n"
     ]
    }
   ],
   "source": [
    "library(performance)\n",
    "library(ggplot2)\n",
    "library(dplyr)\n",
    "library(rstatix)\n",
    "library(ggpubr)\n",
    "library(cluster)"
   ]
  },
  {
   "cell_type": "markdown",
   "id": "b5544f41-09e7-4944-8cff-42b5b096cfc2",
   "metadata": {},
   "source": [
    "# Reading Input"
   ]
  },
  {
   "cell_type": "code",
   "execution_count": 2,
   "id": "a7f29818-dc3c-48d0-9061-37f998ea5492",
   "metadata": {},
   "outputs": [],
   "source": [
    "Total_IgG_MSD<-read.csv(\"02_Total_IgG_MSD_Assay/MSD_All.csv\")"
   ]
  },
  {
   "cell_type": "code",
   "execution_count": 3,
   "id": "8631fa0d-a8cf-433d-9932-a7de3c304d35",
   "metadata": {},
   "outputs": [],
   "source": [
    "Total_IgG_MSD<-Total_IgG_MSD %>% filter(Assay==\"Flu B/Phuket HA\",Flu_Year==\"2020-2021\")%>%\n",
    "    ungroup() %>%\n",
    "    group_by(subjectGuid, Flu_Year, Assay) %>%\n",
    "    mutate(entry_count = n()) %>%\n",
    "    filter(entry_count == 3) %>%\n",
    "    ungroup()"
   ]
  },
  {
   "cell_type": "code",
   "execution_count": 4,
   "id": "79f34ef5-8795-462b-b89d-57c0d48a16f1",
   "metadata": {},
   "outputs": [],
   "source": [
    "Total_IgG_MSD<-Total_IgG_MSD %>% mutate(AgeGroup= case_when(cohort.cohortGuid==\"BR1\"~\"Young\", TRUE ~\"Older\"))"
   ]
  },
  {
   "cell_type": "code",
   "execution_count": 5,
   "id": "3c7bacf4-35d0-44e9-8b73-6b2d8c9a607a",
   "metadata": {},
   "outputs": [],
   "source": [
    "Total_IgG_MSD$Group <- paste0(Total_IgG_MSD$`AgeGroup`, \"_\", Total_IgG_MSD$Flu_Day)\n",
    "Total_IgG_MSD$Group <- factor(Total_IgG_MSD$Group, levels = c(\n",
    "    \"Young_Day_0\", \"Young_Day_7\", \"Young_Day_90\", \n",
    "    \"Older_Day_0\", \"Older_Day_7\",\"Older_Day_90\"))"
   ]
  },
  {
   "cell_type": "code",
   "execution_count": 6,
   "id": "68d6f5cf-6576-4db9-826c-bfa949746a25",
   "metadata": {},
   "outputs": [],
   "source": [
    "Total_IgG_MSD$log10_Cal_Con_Mean=log10(Total_IgG_MSD$Calc..Conc..Mean)"
   ]
  },
  {
   "cell_type": "code",
   "execution_count": 7,
   "id": "a1bb1023-c13e-43fa-90d2-c7db7db35351",
   "metadata": {},
   "outputs": [],
   "source": [
    "df_max <- Total_IgG_MSD %>%\n",
    "    group_by(Flu_Year) %>%\n",
    "    summarise(max_overall = max(log10_Cal_Con_Mean), .groups = \"drop\")"
   ]
  },
  {
   "cell_type": "code",
   "execution_count": 8,
   "id": "df858295-078d-42d9-bff1-27566ae9a807",
   "metadata": {},
   "outputs": [],
   "source": [
    "create_comp <- function(groups, multiplier, paired,df) {\n",
    "    res <- if (paired) {\n",
    "        compare_means(log10_Cal_Con_Mean ~ Group, data = df %>%\n",
    "            filter(Group %in% groups) %>%\n",
    "            arrange(subjectGuid, Group), method = \"wilcox.test\", paired = TRUE, paired_by = \"subject.subjectGuid\", \n",
    "                      comparisons = list(groups), group.by = c(\"Flu_Year\"))\n",
    "    } else {\n",
    "        compare_means(log10_Cal_Con_Mean ~ Group, data = df %>%\n",
    "            filter(Group %in% groups) %>%\n",
    "            arrange(subjectGuid, Group), method = \"wilcox.test\", paired = FALSE, comparisons = list(groups), \n",
    "                      group.by = c( \"Flu_Year\"))\n",
    "    }\n",
    "\n",
    "    res %>%\n",
    "        left_join(df_max ) %>%\n",
    "        mutate(y.position = max_overall * multiplier)\n",
    "}"
   ]
  },
  {
   "cell_type": "code",
   "execution_count": 9,
   "id": "2a1b4667-0c6d-42b9-8429-82f3c23d0c25",
   "metadata": {},
   "outputs": [
    {
     "name": "stderr",
     "output_type": "stream",
     "text": [
      "\u001b[1m\u001b[22mJoining with `by = join_by(Flu_Year)`\n",
      "\u001b[1m\u001b[22mJoining with `by = join_by(Flu_Year)`\n",
      "\u001b[1m\u001b[22mJoining with `by = join_by(Flu_Year)`\n",
      "\u001b[1m\u001b[22mJoining with `by = join_by(Flu_Year)`\n",
      "\u001b[1m\u001b[22mJoining with `by = join_by(Flu_Year)`\n",
      "\u001b[1m\u001b[22mJoining with `by = join_by(Flu_Year)`\n",
      "\u001b[1m\u001b[22mJoining with `by = join_by(Flu_Year)`\n",
      "\u001b[1m\u001b[22mJoining with `by = join_by(Flu_Year)`\n"
     ]
    }
   ],
   "source": [
    "comp_list <- list(\n",
    "    create_comp(c(\"Older_Day_0\", \"Older_Day_7\"), 1.05, TRUE,df=Total_IgG_MSD), \n",
    "    create_comp(c(\"Young_Day_0\", \"Young_Day_7\"), 1.05, TRUE,df=Total_IgG_MSD), \n",
    "    create_comp(c(\"Older_Day_7\",\"Young_Day_7\"),  1.33, FALSE,df=Total_IgG_MSD), \n",
    "    create_comp(c(\"Older_Day_0\", \"Young_Day_0\"), 1.27, FALSE,df=Total_IgG_MSD), \n",
    "    create_comp(c(\"Older_Day_0\", \"Older_Day_90\"), 1.2, TRUE,df=Total_IgG_MSD),\n",
    "    create_comp(c(\"Older_Day_7\", \"Older_Day_90\"), 1.12, TRUE,df=Total_IgG_MSD), \n",
    "    create_comp(c(\"Young_Day_0\", \"Young_Day_90\"), 1.2, TRUE,df=Total_IgG_MSD), \n",
    "    create_comp(c(\"Young_Day_7\", \"Young_Day_90\"), 1.12, TRUE,df=Total_IgG_MSD)\n",
    ")\n",
    "\n",
    "comp_all <- bind_rows(comp_list)"
   ]
  },
  {
   "cell_type": "code",
   "execution_count": 13,
   "id": "a1c4a1e3-1e1a-4466-8e8a-c348670b2b89",
   "metadata": {},
   "outputs": [
    {
     "data": {
      "text/plain": [
       "\n",
       "BR1 BR2 \n",
       " 43  45 "
      ]
     },
     "metadata": {},
     "output_type": "display_data"
    }
   ],
   "source": [
    "table(Total_IgG_MSD$Cohort)/3"
   ]
  },
  {
   "cell_type": "code",
   "execution_count": 10,
   "id": "bb7a0d9b-9638-4da7-adb8-e57e849150b4",
   "metadata": {},
   "outputs": [
    {
     "data": {
      "image/png": "[encoded data removed]",
      "text/plain": [
       "plot without title"
      ]
     },
     "metadata": {
      "image/png": {
       "height": 118.1102,
       "width": 118.1102
      }
     },
     "output_type": "display_data"
    }
   ],
   "source": [
    "comp_all$p.label <- paste0(\"p=\", comp_all$p.format)\n",
    "comp_all <- comp_all %>%\n",
    "  mutate(\n",
    "    p.label = paste0(\"p=\", signif(p, 2))\n",
    "  )\n",
    "\n",
    "p <- ggplot(Total_IgG_MSD %>%\n",
    "    arrange(subjectGuid, Flu_Day), aes(x = Group, y = log10_Cal_Con_Mean, fill = `AgeGroup`)) +\n",
    "    geom_boxplot(outlier.shape = NA, lwd = 0.3) +\n",
    "    geom_point(color = \"black\", size = 0.5, stroke = 0) +\n",
    "    theme_classic(base_size = 6) +\n",
    "    scale_fill_manual(values = c(Older = \"#bf812d\", \n",
    "                                 Young = \"#35978f\")) +\n",
    "    scale_y_continuous(expand = expansion(mult = c(0.1, 0.15))) +\n",
    "    xlab(\"\") +\n",
    "    ylab(\"MSD Total IgG Inhibition\") +\n",
    "    scale_x_discrete(labels = c(\n",
    "        Older_Day_0 = \"D0\\nOA\",\n",
    "        Older_Day_7 = \"D7\\nOA\", \n",
    "        Older_Day_90 = \"D90\\nOA\", \n",
    "        Young_Day_0 = \"D0\\nYA\", \n",
    "        Young_Day_7 = \"D7\\nYA\", \n",
    "        Young_Day_90 = \"D90\\nYA\"\n",
    "    )) +\n",
    "    theme(\n",
    "        legend.position = \"top\", legend.title = element_blank(), axis.line = element_line(colour = \"black\"), \n",
    "        panel.grid.major = element_blank(), panel.grid.minor = element_blank(),\n",
    "        panel.border = element_blank(), panel.background = element_blank(), \n",
    "        strip.background = element_rect(linewidth = 0), \n",
    "        axis.title.x = element_text(margin = margin(t = 1))\n",
    "    ) +\n",
    "    geom_line(aes(group = interaction(`AgeGroup`, subjectGuid)), color = \"black\", linewidth = 0.1, linetype = 4) +\n",
    "    stat_pvalue_manual(comp_all, label = \"p.label\", \n",
    "                       size = 1.76, bracket.size = 0.2,\n",
    "                       inherit.aes = FALSE)+ theme(\n",
    "  axis.title   = element_text(color = \"black\"),\n",
    "  axis.text    = element_text(color = \"black\")\n",
    ")\n",
    "\n",
    "options(repr.plot.width = 50/25.4, repr.plot.height = 50/25.4)\n",
    "\n",
    "p\n",
    "\n",
    "ggsave('FigureL.pdf', p, width = 50/25.4, height = 50/25.4)"
   ]
  },
  {
   "cell_type": "code",
   "execution_count": null,
   "id": "366e965b-7298-4aba-9f4b-9b70d79442db",
   "metadata": {},
   "outputs": [],
   "source": []
  }
 ],
 "metadata": {
  "kernelspec": {
   "display_name": "R_BRI_Figures",
   "language": "R",
   "name": "r_bri_figures"
  },
  "language_info": {
   "codemirror_mode": "r",
   "file_extension": ".r",
   "mimetype": "text/x-r-source",
   "name": "R",
   "pygments_lexer": "r",
   "version": "4.3.2"
  }
 },
 "nbformat": 4,
 "nbformat_minor": 5
}
