{
 "cells": [
  {
   "cell_type": "code",
   "execution_count": 22,
   "id": "d3f5dfbe-9bef-4c28-acd6-49a04849473e",
   "metadata": {},
   "outputs": [
    {
     "name": "stdout",
     "output_type": "stream",
     "text": [
      "Current working directory: /home/workspace/IHA_Figure_Revision/Figure4\n"
     ]
    }
   ],
   "source": [
    "import pandas as pd \n",
    "import numpy as np \n",
    "import scanpy as sc\n",
    "import matplotlib.pyplot as plt\n",
    "from datetime import date\n",
    "import shutil\n",
    "from adjustText import adjust_text\n",
    "import warnings\n",
    "import anndata\n",
    "import gc\n",
    "import os\n",
    "import matplotlib as mpl\n",
    "\n",
    "warnings.filterwarnings(\"ignore\")\n",
    "sc.settings.n_jobs = 60\n",
    "sc._settings.settings._vector_friendly=True\n",
    "\n",
    "print(\"Current working directory:\", os.getcwd())\n",
    "\n",
    "\n",
    "def gen_mpl_labels(adata, groupby, exclude=(), ax=None, adjust_kwargs=None, text_kwargs=None, offset=(0.05, 0.05)):\n",
    "    if adjust_kwargs is None:\n",
    "        adjust_kwargs = {\n",
    "            \"arrowprops\": {\"arrowstyle\": \"->\", \"color\": 'r'}, \n",
    "            \"expand_points\": (1.2, 1.2), \n",
    "            \"force_points\": 0.5\n",
    "        }\n",
    "    if text_kwargs is None:\n",
    "        text_kwargs = {}\n",
    "\n",
    "    highest_density_points = {}\n",
    "\n",
    "    for g, g_idx in adata.obs.groupby(groupby).groups.items():\n",
    "        if g in exclude:\n",
    "            continue\n",
    "        points = adata[g_idx].obsm[\"X_umap\"]\n",
    "        hist, xedges, yedges = np.histogram2d(points[:, 0], points[:, 1], bins=[50, 50])\n",
    "        max_bin = np.unravel_index(np.argmax(hist), hist.shape)\n",
    "        highest_density_point = [\n",
    "            (xedges[max_bin[0]] + xedges[max_bin[0]+1])/2 + offset[0], \n",
    "            (yedges[max_bin[1]] + yedges[max_bin[1]+1])/2 + offset[1]\n",
    "        ]\n",
    "        highest_density_points[g] = highest_density_point\n",
    "\n",
    "    if ax is None:\n",
    "        ax = plt.gca()\n",
    "\n",
    "    texts = [\n",
    "        ax.text(x=x, y=y, s=k, **text_kwargs) for k, (x, y) in highest_density_points.items()\n",
    "    ]\n",
    "\n",
    "    adjust_text(texts, **adjust_kwargs)\n",
    "\n",
    "def plot_nhood_graph(adata,alpha: float = 0.1,min_logFC: float = 0,cmap='RdBu_r',min_size: int = 10,plot_edges: bool = False,title: str = \"DA log-Fold Change\"):\n",
    "    nhood_adata = adata.uns[\"nhood_adata\"].copy()\n",
    "\n",
    "    if \"Nhood_size\" not in nhood_adata.obs.columns:\n",
    "        raise KeyError(\n",
    "            'Cannot find \"Nhood_size\" column in adata.uns[\"nhood_adata\"].obs -- \\\n",
    "                please run milopy.utils.build_nhood_graph(adata)'\n",
    "        )\n",
    "\n",
    "    nhood_adata.obs[\"graph_color\"] = nhood_adata.obs[\"logFC\"]\n",
    "    nhood_adata.obs.loc[nhood_adata.obs[\"SpatialFDR\"]\n",
    "                        > alpha, \"graph_color\"] = np.nan\n",
    "    nhood_adata.obs[\"abs_logFC\"] = abs(nhood_adata.obs[\"logFC\"])\n",
    "    nhood_adata.obs.loc[nhood_adata.obs[\"abs_logFC\"]\n",
    "                        < min_logFC, \"graph_color\"] = np.nan\n",
    "\n",
    "    # Plotting order - extreme logFC on top\n",
    "    nhood_adata.obs.loc[nhood_adata.obs[\"graph_color\"].isna(),\n",
    "                        \"abs_logFC\"] = np.nan\n",
    "    ordered = nhood_adata.obs.sort_values(\n",
    "        'abs_logFC', na_position='first').index\n",
    "    nhood_adata = nhood_adata[ordered]\n",
    "\n",
    "    vmax = np.max([nhood_adata.obs[\"graph_color\"].max(),\n",
    "                  abs(nhood_adata.obs[\"graph_color\"].min())])\n",
    "    vmin = - vmax\n",
    "\n",
    "    fig=sc.pl.embedding(nhood_adata, \"X_milo_graph\",\n",
    "                    color=\"graph_color\", \n",
    "                        cmap=cmap,\n",
    "                    size=adata.uns[\"nhood_adata\"].obs[\"Nhood_size\"]*min_size,\n",
    "                    edges=plot_edges, neighbors_key=\"nhood\",na_color='lightGray',edges_color='lightGray',\n",
    "                    sort_order=False,\n",
    "                    frameon=False,show=False,\n",
    "                    vmax=vmax, vmin=vmin,return_fig=True,\n",
    "                    title=title)\n",
    "    \n",
    "    return(fig)"
   ]
  },
  {
   "cell_type": "code",
   "execution_count": 2,
   "id": "33371c76-7909-4359-bab3-f48363c24c2a",
   "metadata": {},
   "outputs": [],
   "source": [
    "colors=pd.read_csv('/home/workspace/IHA_Figure_Revision/Color_hex_codes/Cell_Type_Color_Annotation_and_Order.csv')\n",
    "color_dict=dict(zip(colors.label, colors.color))"
   ]
  },
  {
   "cell_type": "code",
   "execution_count": 3,
   "id": "1c12d150-813d-4ae4-820e-17eebeda7b76",
   "metadata": {},
   "outputs": [],
   "source": [
    "adata=sc.read_h5ad(\"07_B_cell_UMAP/adata_processed_IgG_removed.h5ad\")"
   ]
  },
  {
   "cell_type": "code",
   "execution_count": 4,
   "id": "fd0c5374-c5ab-431d-a78d-a96f70fa6128",
   "metadata": {},
   "outputs": [
    {
     "data": {
      "text/plain": [
       "array(['Activated memory B cell', 'CD27+ effector B cell',\n",
       "       'CD27- effector B cell', 'CD95 memory B cell',\n",
       "       'Core memory B cell', 'Early memory B cell', 'Plasma cell',\n",
       "       'Type 2 polarized memory B cell'], dtype=object)"
      ]
     },
     "execution_count": 4,
     "metadata": {},
     "output_type": "execute_result"
    }
   ],
   "source": [
    "np.unique(adata.obs[\"AIFI_L3\"])"
   ]
  },
  {
   "cell_type": "code",
   "execution_count": 5,
   "id": "de0b12ce-16d9-44c8-a623-75727ab27c4c",
   "metadata": {},
   "outputs": [],
   "source": [
    "selected_celltype = [\n",
    "    'CD95 memory B cell',\n",
    "    'CD27+ effector B cell',\n",
    "    'Plasma cell',\n",
    "    'CD27- effector B cell',\n",
    "    'Core memory B cell'\n",
    "]\n",
    "\n",
    "with plt.rc_context({\n",
    "    'figure.figsize': (60/25.4, 60/25.4),\n",
    "    'figure.dpi': 500,\n",
    "    'figure.frameon': False\n",
    "}):\n",
    "    adata.obs['AIFI_L3_Highlight'] = np.where(\n",
    "        adata.obs['AIFI_L3'].isin(selected_celltype),\n",
    "        adata.obs['AIFI_L3'],\n",
    "        'other'\n",
    "    )\n",
    "    color_dict['other'] = '#a9a9a9'\n",
    "    sc.pl.umap(\n",
    "        adata,\n",
    "        color='AIFI_L3_Highlight',\n",
    "        size=1,\n",
    "        show=False,\n",
    "        palette=color_dict,\n",
    "        frameon=False,\n",
    "        legend_loc=None\n",
    "    )\n",
    "    plt.savefig(\n",
    "        \"FigureE-1.pdf\",\n",
    "        format=\"pdf\",\n",
    "        bbox_inches=\"tight\",\n",
    "        dpi=1000\n",
    "    )\n",
    "    plt.close()"
   ]
  },
  {
   "cell_type": "code",
   "execution_count": 6,
   "id": "a08863a3-f7ad-48b2-9406-6b05a9efc174",
   "metadata": {},
   "outputs": [
    {
     "name": "stdout",
     "output_type": "stream",
     "text": [
      "WARNING: adata.X seems to be already log-transformed.\n",
      "CPU times: user 2.66 s, sys: 520 ms, total: 3.18 s\n",
      "Wall time: 3.18 s\n"
     ]
    }
   ],
   "source": [
    "%%time\n",
    "adata=adata.raw.to_adata()\n",
    "sc.pp.normalize_total(adata, target_sum=1e4)\n",
    "sc.pp.log1p(adata)"
   ]
  },
  {
   "cell_type": "code",
   "execution_count": 8,
   "id": "13d753ea-145b-4c72-a854-0ef502caa2da",
   "metadata": {},
   "outputs": [],
   "source": [
    "visit_list = ['Flu Year 1 Day 0','Flu Year 1 Day 7']\n"
   ]
  },
  {
   "cell_type": "code",
   "execution_count": 11,
   "id": "3b083046-2dfc-49c2-88c3-2f2093b2bbd9",
   "metadata": {},
   "outputs": [],
   "source": [
    "mpl.rcParams.update({\n",
    "    'font.size': 6,\n",
    "    'axes.linewidth': 0.53\n",
    "})\n",
    "nrows = 1\n",
    "ncols = 2\n",
    "fig, axes = plt.subplots(\n",
    "    nrows, ncols,\n",
    "    figsize=(40 / 25.4, 18 / 25.4),\n",
    "    gridspec_kw={'wspace': 0, 'hspace': 0}\n",
    ")\n",
    "\n",
    "plot_idx = 0\n",
    "for visit in visit_list:\n",
    "    br1_sub = adata[adata.obs[\"sample.visitName\"] == visit].copy()\n",
    "    ax = axes.flat[plot_idx]\n",
    "    sc.pl.umap(\n",
    "        br1_sub,\n",
    "        color=\"AIFI_L3_Highlight\",\n",
    "        ax=ax, title='', size=0.08,\n",
    "        show=False\n",
    "    )\n",
    "    if ax.legend_:\n",
    "        ax.legend_.remove()\n",
    "    plot_idx += 1\n",
    "\n",
    "for ax in axes.flat[plot_idx:]:\n",
    "    ax.set_visible(False)\n",
    "\n",
    "for i, ax in enumerate(axes.flat):\n",
    "    row = i // ncols\n",
    "    col = i % ncols\n",
    "    if row != nrows - 1:\n",
    "        ax.set_xticks([])\n",
    "        ax.set_xticklabels([])\n",
    "        ax.set_xlabel('')\n",
    "    if col != 0:\n",
    "        ax.set_yticks([])\n",
    "        ax.set_yticklabels([])\n",
    "        ax.set_ylabel('')\n",
    "\n",
    "plt.subplots_adjust(wspace=0, hspace=0)\n",
    "plt.savefig(\"FigureE-2.pdf\", format=\"pdf\", bbox_inches=\"tight\", dpi=1000)\n",
    "plt.close()"
   ]
  },
  {
   "cell_type": "code",
   "execution_count": 41,
   "id": "4d368591-4aa2-4df0-ac95-387eaef736bd",
   "metadata": {},
   "outputs": [],
   "source": [
    "mpl.rcParams.update({\n",
    "    'font.size': 6,\n",
    "    'axes.linewidth': 0.53\n",
    "})\n",
    "nrows = 1\n",
    "ncols = 2\n",
    "fig, axes = plt.subplots(\n",
    "    nrows, ncols,\n",
    "    figsize=(40 / 25.4, 18 / 25.4),\n",
    "    gridspec_kw={'wspace': 0, 'hspace': 0}\n",
    ")\n",
    "\n",
    "plot_idx = 0\n",
    "for visit in visit_list:\n",
    "    br1_sub = adata[adata.obs[\"sample.visitName\"] == visit].copy()\n",
    "    ax = axes.flat[plot_idx]\n",
    "    sc.pl.umap(\n",
    "        br1_sub,    \n",
    "\n",
    "        color=\"AIFI_L3_Highlight\",\n",
    "        ax=ax, title='', size=0.2,use_raw=False,\n",
    "        show=False\n",
    "    )\n",
    "    if ax.legend_:\n",
    "        ax.legend_.remove()\n",
    "    plot_idx += 1\n",
    "\n",
    "for ax in axes.flat[plot_idx:]:\n",
    "    ax.set_visible(False)\n",
    "\n",
    "for i, ax in enumerate(axes.flat):\n",
    "    row = i // ncols\n",
    "    col = i % ncols\n",
    "    if row != nrows - 1:\n",
    "        ax.set_xticks([])\n",
    "        ax.set_xticklabels([])\n",
    "        ax.set_xlabel('')\n",
    "    if col != 0:\n",
    "        ax.set_yticks([])\n",
    "        ax.set_yticklabels([])\n",
    "        ax.set_ylabel('')\n",
    "\n",
    "plt.subplots_adjust(wspace=0, hspace=0)\n",
    "plt.savefig(\"FigureE-3.pdf\", format=\"pdf\", bbox_inches=\"tight\", dpi=1000)\n",
    "plt.close()"
   ]
  },
  {
   "cell_type": "code",
   "execution_count": 31,
   "id": "cd63c737-1331-4dab-a699-824a0030331f",
   "metadata": {},
   "outputs": [
    {
     "ename": "ValueError",
     "evalue": "Number of dimensions is greater than number of samples. This results in a singular data covariance matrix, which cannot be treated using the algorithms implemented in `gaussian_kde`. Note that `gaussian_kde` interprets each *column* of `dataset` to be a point; consider transposing the input to `dataset`.",
     "output_type": "error",
     "traceback": [
      "\u001b[0;31m---------------------------------------------------------------------------\u001b[0m",
      "\u001b[0;31mValueError\u001b[0m                                Traceback (most recent call last)",
      "Cell \u001b[0;32mIn[31], line 22\u001b[0m\n\u001b[1;32m     19\u001b[0m xx, yy \u001b[38;5;241m=\u001b[39m np\u001b[38;5;241m.\u001b[39mmeshgrid(x, y)\n\u001b[1;32m     20\u001b[0m grid \u001b[38;5;241m=\u001b[39m np\u001b[38;5;241m.\u001b[39mvstack([xx\u001b[38;5;241m.\u001b[39mravel(), yy\u001b[38;5;241m.\u001b[39mravel()])\n\u001b[0;32m---> 22\u001b[0m kde1 \u001b[38;5;241m=\u001b[39m \u001b[43mgaussian_kde\u001b[49m\u001b[43m(\u001b[49m\u001b[43mcoords1\u001b[49m\u001b[43m)\u001b[49m\n\u001b[1;32m     23\u001b[0m kde2 \u001b[38;5;241m=\u001b[39m gaussian_kde(coords2)\n\u001b[1;32m     25\u001b[0m d1 \u001b[38;5;241m=\u001b[39m kde1(grid)\u001b[38;5;241m.\u001b[39mreshape(xx\u001b[38;5;241m.\u001b[39mshape)\n",
      "File \u001b[0;32m~/Aux_Envir/Python_BRI_Figures/lib/python3.11/site-packages/scipy/stats/_kde.py:223\u001b[0m, in \u001b[0;36mgaussian_kde.__init__\u001b[0;34m(self, dataset, bw_method, weights)\u001b[0m\n\u001b[1;32m    216\u001b[0m \u001b[38;5;28;01mif\u001b[39;00m \u001b[38;5;28mself\u001b[39m\u001b[38;5;241m.\u001b[39md \u001b[38;5;241m>\u001b[39m \u001b[38;5;28mself\u001b[39m\u001b[38;5;241m.\u001b[39mn:\n\u001b[1;32m    217\u001b[0m     msg \u001b[38;5;241m=\u001b[39m (\u001b[38;5;124m\"\u001b[39m\u001b[38;5;124mNumber of dimensions is greater than number of samples. \u001b[39m\u001b[38;5;124m\"\u001b[39m\n\u001b[1;32m    218\u001b[0m            \u001b[38;5;124m\"\u001b[39m\u001b[38;5;124mThis results in a singular data covariance matrix, which \u001b[39m\u001b[38;5;124m\"\u001b[39m\n\u001b[1;32m    219\u001b[0m            \u001b[38;5;124m\"\u001b[39m\u001b[38;5;124mcannot be treated using the algorithms implemented in \u001b[39m\u001b[38;5;124m\"\u001b[39m\n\u001b[1;32m    220\u001b[0m            \u001b[38;5;124m\"\u001b[39m\u001b[38;5;124m`gaussian_kde`. Note that `gaussian_kde` interprets each \u001b[39m\u001b[38;5;124m\"\u001b[39m\n\u001b[1;32m    221\u001b[0m            \u001b[38;5;124m\"\u001b[39m\u001b[38;5;124m*column* of `dataset` to be a point; consider transposing \u001b[39m\u001b[38;5;124m\"\u001b[39m\n\u001b[1;32m    222\u001b[0m            \u001b[38;5;124m\"\u001b[39m\u001b[38;5;124mthe input to `dataset`.\u001b[39m\u001b[38;5;124m\"\u001b[39m)\n\u001b[0;32m--> 223\u001b[0m     \u001b[38;5;28;01mraise\u001b[39;00m \u001b[38;5;167;01mValueError\u001b[39;00m(msg)\n\u001b[1;32m    225\u001b[0m \u001b[38;5;28;01mtry\u001b[39;00m:\n\u001b[1;32m    226\u001b[0m     \u001b[38;5;28mself\u001b[39m\u001b[38;5;241m.\u001b[39mset_bandwidth(bw_method\u001b[38;5;241m=\u001b[39mbw_method)\n",
      "\u001b[0;31mValueError\u001b[0m: Number of dimensions is greater than number of samples. This results in a singular data covariance matrix, which cannot be treated using the algorithms implemented in `gaussian_kde`. Note that `gaussian_kde` interprets each *column* of `dataset` to be a point; consider transposing the input to `dataset`."
     ]
    }
   ],
   "source": [
    "import numpy as np\n",
    "from scipy.stats import gaussian_kde\n",
    "import matplotlib.pyplot as plt\n",
    "\n",
    "visit1 = 'Flu Year 1 Day 0'\n",
    "visit2 = 'Flu Year 1 Day 7'\n",
    "\n",
    "br1 = adata[adata.obs['sample.visitName'] == visit1]\n",
    "br2 = adata[adata.obs['sample.visitName'] == visit2]\n",
    "\n",
    "coords1 = br1.obsm['X_umap']\n",
    "coords2 = br2.obsm['X_umap']\n",
    "\n",
    "xmin, ymin = np.min(np.vstack([coords1, coords2]), axis=0)\n",
    "xmax, ymax = np.max(np.vstack([coords1, coords2]), axis=0)\n",
    "\n",
    "x = np.linspace(xmin, xmax, 100)\n",
    "y = np.linspace(ymin, ymax, 100)\n",
    "xx, yy = np.meshgrid(x, y)\n",
    "grid = np.vstack([xx.ravel(), yy.ravel()])\n",
    "\n",
    "kde1 = gaussian_kde(coords1.T)\n",
    "kde2 = gaussian_kde(coords2.T)\n",
    "\n",
    "d1 = kde1(grid).reshape(xx.shape)\n",
    "d2 = kde2(grid).reshape(xx.shape)\n",
    "\n",
    "diff = d1 - d2\n",
    "\n",
    "fig, ax = plt.subplots()\n",
    "im = ax.imshow(\n",
    "    diff.T,\n",
    "    origin='lower',\n",
    "    extent=(xmin, xmax, ymin, ymax),\n",
    "    cmap='bwr',   # blue-white-red\n",
    "    norm=norm\n",
    ")\n",
    "ax.set_title(f'{visit1} − {visit2}')\n",
    "ax.set_xticks([])\n",
    "ax.set_yticks([])\n",
    "fig.colorbar(im, ax=ax)\n",
    "plt.show()"
   ]
  },
  {
   "cell_type": "code",
   "execution_count": 27,
   "id": "8a67de2c-7f2a-49b0-900d-54ffbf81594b",
   "metadata": {},
   "outputs": [],
   "source": []
  },
  {
   "cell_type": "code",
   "execution_count": 33,
   "id": "197cdb64-e788-429a-96c6-66170a1d3527",
   "metadata": {},
   "outputs": [
    {
     "name": "stdout",
     "output_type": "stream",
     "text": [
      "Current working directory: /home/workspace/IHA_Figure_Revision/Figure4\n"
     ]
    }
   ],
   "source": [
    "import pandas as pd \n",
    "import numpy as np \n",
    "import scanpy as sc\n",
    "import matplotlib.pyplot as plt\n",
    "from adjustText import adjust_text\n",
    "import concurrent.futures\n",
    "import pickle\n",
    "import warnings\n",
    "frddom datetime import date\n",
    "import hisepy\n",
    "import os\n",
    "import shutil\n",
    "import milopy   \n",
    "import milopy.core as milo\n",
    "from matplotlib.colors import LinearSegmentedColormap\n",
    "\n",
    "warnings.filterwarnings(\"ignore\")\n",
    "sc._settings.settings._vector_friendly=True\n",
    "sc.settings.n_jobs = 60\n",
    "print(\"Current working directory:\", os.getcwd())"
   ]
  },
  {
   "cell_type": "code",
   "execution_count": 14,
   "id": "341b4d25-ca20-4e22-8b4c-79848946e8d4",
   "metadata": {},
   "outputs": [
    {
     "name": "stdout",
     "output_type": "stream",
     "text": [
      "Current working directory: /home/workspace/IHA_Figure_Revision/Figure4\n"
     ]
    }
   ],
   "source": [
    "import pandas as pd \n",
    "import numpy as np \n",
    "import scanpy as sc\n",
    "import matplotlib.pyplot as plt\n",
    "from adjustText import adjust_text\n",
    "import concurrent.futures\n",
    "import pickle\n",
    "import warnings\n",
    "from datetime import date\n",
    "import hisepy\n",
    "import os\n",
    "import shutil\n",
    "import milopy   \n",
    "import milopy.core as milo\n",
    "from matplotlib.colors import LinearSegmentedColormap\n",
    "\n",
    "warnings.filterwarnings(\"ignore\")\n",
    "sc._settings.settings._vector_friendly=True\n",
    "sc.settings.n_jobs = 60\n",
    "print(\"Current working directory:\", os.getcwd())"
   ]
  },
  {
   "cell_type": "code",
   "execution_count": 12,
   "id": "86142528-58d9-4a2c-81cf-dede34bf3fc6",
   "metadata": {},
   "outputs": [],
   "source": [
    "import os\n",
    "os.environ['R_HOME']  = '/home/workspace/Aux_Envir/Python_BRI_Figures/lib/R'\n",
    "os.environ['R_LIBS']  = '/home/workspace/Aux_Envir/Python_BRI_Figures/lib/R/library'\n",
    "os.environ['PATH']    = os.environ['PATH'] + ':/home/workspace/Aux_Envir/Python_BRI_Figure/bin'\n"
   ]
  },
  {
   "cell_type": "code",
   "execution_count": 17,
   "id": "45bd725d-fa47-486c-9bab-4c8363379ee9",
   "metadata": {},
   "outputs": [
    {
     "data": {
      "text/plain": [
       "AnnData object with n_obs × n_vars = 104019 × 33538\n",
       "    obs: 'original_barcodes', 'cell_name', 'batch_id', 'pool_id', 'chip_id', 'well_id', 'n_genes', 'n_reads', 'n_umis', 'total_counts_mito', 'pct_counts_mito', 'doublet_score', 'predicted_AIFI_L1', 'AIFI_L1_score', 'AIFI_L1', 'predicted_AIFI_L2', 'AIFI_L2_score', 'AIFI_L2', 'predicted_AIFI_L3', 'AIFI_L3_score', 'AIFI_L3', 'sample.sampleKitGuid', 'cohort.cohortGuid', 'subject.subjectGuid', 'subject.biologicalSex', 'subject.cmv', 'subject.bmi', 'subject.race', 'subject.ethnicity', 'subject.birthYear', 'subject.ageAtFirstDraw', 'sample.visitName', 'sample.drawDate', 'sample.subjectAgeAtDraw', 'specimen.specimenGuid', 'pipeline.fileGuid', 'AIFI_L3_Highlight', 'nhood_ixs_random', 'nhood_ixs_refined', 'nhood_kth_distance'\n",
       "    uns: 'hvg', 'log1p', 'neighbors', 'pca', 'umap', 'AIFI_L3_Highlight_colors', 'nhood_neighbors_key'\n",
       "    obsm: 'X_pca', 'X_umap', 'nhoods'\n",
       "    obsp: 'connectivities', 'distances'"
      ]
     },
     "execution_count": 17,
     "metadata": {},
     "output_type": "execute_result"
    }
   ],
   "source": [
    "adata"
   ]
  },
  {
   "cell_type": "code",
   "execution_count": 16,
   "id": "e743be06-c750-40f5-b39c-6a17dca0a7df",
   "metadata": {
    "collapsed": true,
    "jupyter": {
     "outputs_hidden": true
    }
   },
   "outputs": [
    {
     "ename": "KeyError",
     "evalue": "'pbmc_sample_id'",
     "output_type": "error",
     "traceback": [
      "\u001b[0;31m---------------------------------------------------------------------------\u001b[0m",
      "\u001b[0;31mKeyError\u001b[0m                                  Traceback (most recent call last)",
      "File \u001b[0;32m~/Aux_Envir/Python_BRI_Figures/lib/python3.11/site-packages/pandas/core/indexes/base.py:3805\u001b[0m, in \u001b[0;36mIndex.get_loc\u001b[0;34m(self, key)\u001b[0m\n\u001b[1;32m   3804\u001b[0m \u001b[38;5;28;01mtry\u001b[39;00m:\n\u001b[0;32m-> 3805\u001b[0m     \u001b[38;5;28;01mreturn\u001b[39;00m \u001b[38;5;28;43mself\u001b[39;49m\u001b[38;5;241;43m.\u001b[39;49m\u001b[43m_engine\u001b[49m\u001b[38;5;241;43m.\u001b[39;49m\u001b[43mget_loc\u001b[49m\u001b[43m(\u001b[49m\u001b[43mcasted_key\u001b[49m\u001b[43m)\u001b[49m\n\u001b[1;32m   3806\u001b[0m \u001b[38;5;28;01mexcept\u001b[39;00m \u001b[38;5;167;01mKeyError\u001b[39;00m \u001b[38;5;28;01mas\u001b[39;00m err:\n",
      "File \u001b[0;32mindex.pyx:167\u001b[0m, in \u001b[0;36mpandas._libs.index.IndexEngine.get_loc\u001b[0;34m()\u001b[0m\n",
      "File \u001b[0;32mindex.pyx:196\u001b[0m, in \u001b[0;36mpandas._libs.index.IndexEngine.get_loc\u001b[0;34m()\u001b[0m\n",
      "File \u001b[0;32mpandas/_libs/hashtable_class_helper.pxi:7081\u001b[0m, in \u001b[0;36mpandas._libs.hashtable.PyObjectHashTable.get_item\u001b[0;34m()\u001b[0m\n",
      "File \u001b[0;32mpandas/_libs/hashtable_class_helper.pxi:7089\u001b[0m, in \u001b[0;36mpandas._libs.hashtable.PyObjectHashTable.get_item\u001b[0;34m()\u001b[0m\n",
      "\u001b[0;31mKeyError\u001b[0m: 'pbmc_sample_id'",
      "\nThe above exception was the direct cause of the following exception:\n",
      "\u001b[0;31mKeyError\u001b[0m                                  Traceback (most recent call last)",
      "Cell \u001b[0;32mIn[16], line 5\u001b[0m\n\u001b[1;32m      2\u001b[0m milo\u001b[38;5;241m.\u001b[39mmake_nhoods(adata)\n\u001b[1;32m      4\u001b[0m \u001b[38;5;66;03m## Count cells from each sample in each nhood\u001b[39;00m\n\u001b[0;32m----> 5\u001b[0m \u001b[43mmilo\u001b[49m\u001b[38;5;241;43m.\u001b[39;49m\u001b[43mcount_nhoods\u001b[49m\u001b[43m(\u001b[49m\u001b[43madata\u001b[49m\u001b[43m,\u001b[49m\u001b[43m \u001b[49m\u001b[43msample_col\u001b[49m\u001b[38;5;241;43m=\u001b[39;49m\u001b[38;5;124;43m\"\u001b[39;49m\u001b[38;5;124;43mpbmc_sample_id\u001b[39;49m\u001b[38;5;124;43m\"\u001b[39;49m\u001b[43m)\u001b[49m\n\u001b[1;32m      7\u001b[0m \u001b[38;5;66;03m## Test for differential abundance between conditions\u001b[39;00m\n\u001b[1;32m      8\u001b[0m milo\u001b[38;5;241m.\u001b[39mDA_nhoods(adata, design\u001b[38;5;241m=\u001b[39m\u001b[38;5;124m\"\u001b[39m\u001b[38;5;124m~ sample.visitName\u001b[39m\u001b[38;5;124m\"\u001b[39m)\n",
      "File \u001b[0;32m~/Aux_Envir/Python_BRI_Figures/lib/python3.11/site-packages/milopy/core.py:157\u001b[0m, in \u001b[0;36mcount_nhoods\u001b[0;34m(adata, sample_col)\u001b[0m\n\u001b[1;32m    153\u001b[0m     \u001b[38;5;28;01mraise\u001b[39;00m \u001b[38;5;167;01mKeyError\u001b[39;00m(\n\u001b[1;32m    154\u001b[0m         \u001b[38;5;124m'\u001b[39m\u001b[38;5;124mCannot find \u001b[39m\u001b[38;5;124m\"\u001b[39m\u001b[38;5;124mnhoods\u001b[39m\u001b[38;5;124m\"\u001b[39m\u001b[38;5;124m slot in adata.obsm -- please run milopy.make_nhoods(adata)\u001b[39m\u001b[38;5;124m'\u001b[39m\n\u001b[1;32m    155\u001b[0m     )\n\u001b[1;32m    156\u001b[0m \u001b[38;5;66;03m#  Make nhood abundance matrix\u001b[39;00m\n\u001b[0;32m--> 157\u001b[0m sample_dummies \u001b[38;5;241m=\u001b[39m pd\u001b[38;5;241m.\u001b[39mget_dummies(\u001b[43madata\u001b[49m\u001b[38;5;241;43m.\u001b[39;49m\u001b[43mobs\u001b[49m\u001b[43m[\u001b[49m\u001b[43msample_col\u001b[49m\u001b[43m]\u001b[49m)\n\u001b[1;32m    158\u001b[0m all_samples \u001b[38;5;241m=\u001b[39m sample_dummies\u001b[38;5;241m.\u001b[39mcolumns\n\u001b[1;32m    159\u001b[0m sample_dummies \u001b[38;5;241m=\u001b[39m scipy\u001b[38;5;241m.\u001b[39msparse\u001b[38;5;241m.\u001b[39mcsr_matrix(sample_dummies\u001b[38;5;241m.\u001b[39mvalues)\n",
      "File \u001b[0;32m~/Aux_Envir/Python_BRI_Figures/lib/python3.11/site-packages/pandas/core/frame.py:4102\u001b[0m, in \u001b[0;36mDataFrame.__getitem__\u001b[0;34m(self, key)\u001b[0m\n\u001b[1;32m   4100\u001b[0m \u001b[38;5;28;01mif\u001b[39;00m \u001b[38;5;28mself\u001b[39m\u001b[38;5;241m.\u001b[39mcolumns\u001b[38;5;241m.\u001b[39mnlevels \u001b[38;5;241m>\u001b[39m \u001b[38;5;241m1\u001b[39m:\n\u001b[1;32m   4101\u001b[0m     \u001b[38;5;28;01mreturn\u001b[39;00m \u001b[38;5;28mself\u001b[39m\u001b[38;5;241m.\u001b[39m_getitem_multilevel(key)\n\u001b[0;32m-> 4102\u001b[0m indexer \u001b[38;5;241m=\u001b[39m \u001b[38;5;28;43mself\u001b[39;49m\u001b[38;5;241;43m.\u001b[39;49m\u001b[43mcolumns\u001b[49m\u001b[38;5;241;43m.\u001b[39;49m\u001b[43mget_loc\u001b[49m\u001b[43m(\u001b[49m\u001b[43mkey\u001b[49m\u001b[43m)\u001b[49m\n\u001b[1;32m   4103\u001b[0m \u001b[38;5;28;01mif\u001b[39;00m is_integer(indexer):\n\u001b[1;32m   4104\u001b[0m     indexer \u001b[38;5;241m=\u001b[39m [indexer]\n",
      "File \u001b[0;32m~/Aux_Envir/Python_BRI_Figures/lib/python3.11/site-packages/pandas/core/indexes/base.py:3812\u001b[0m, in \u001b[0;36mIndex.get_loc\u001b[0;34m(self, key)\u001b[0m\n\u001b[1;32m   3807\u001b[0m     \u001b[38;5;28;01mif\u001b[39;00m \u001b[38;5;28misinstance\u001b[39m(casted_key, \u001b[38;5;28mslice\u001b[39m) \u001b[38;5;129;01mor\u001b[39;00m (\n\u001b[1;32m   3808\u001b[0m         \u001b[38;5;28misinstance\u001b[39m(casted_key, abc\u001b[38;5;241m.\u001b[39mIterable)\n\u001b[1;32m   3809\u001b[0m         \u001b[38;5;129;01mand\u001b[39;00m \u001b[38;5;28many\u001b[39m(\u001b[38;5;28misinstance\u001b[39m(x, \u001b[38;5;28mslice\u001b[39m) \u001b[38;5;28;01mfor\u001b[39;00m x \u001b[38;5;129;01min\u001b[39;00m casted_key)\n\u001b[1;32m   3810\u001b[0m     ):\n\u001b[1;32m   3811\u001b[0m         \u001b[38;5;28;01mraise\u001b[39;00m InvalidIndexError(key)\n\u001b[0;32m-> 3812\u001b[0m     \u001b[38;5;28;01mraise\u001b[39;00m \u001b[38;5;167;01mKeyError\u001b[39;00m(key) \u001b[38;5;28;01mfrom\u001b[39;00m \u001b[38;5;21;01merr\u001b[39;00m\n\u001b[1;32m   3813\u001b[0m \u001b[38;5;28;01mexcept\u001b[39;00m \u001b[38;5;167;01mTypeError\u001b[39;00m:\n\u001b[1;32m   3814\u001b[0m     \u001b[38;5;66;03m# If we have a listlike key, _check_indexing_error will raise\u001b[39;00m\n\u001b[1;32m   3815\u001b[0m     \u001b[38;5;66;03m#  InvalidIndexError. Otherwise we fall through and re-raise\u001b[39;00m\n\u001b[1;32m   3816\u001b[0m     \u001b[38;5;66;03m#  the TypeError.\u001b[39;00m\n\u001b[1;32m   3817\u001b[0m     \u001b[38;5;28mself\u001b[39m\u001b[38;5;241m.\u001b[39m_check_indexing_error(key)\n",
      "\u001b[0;31mKeyError\u001b[0m: 'pbmc_sample_id'"
     ]
    }
   ],
   "source": [
    "## Assign cells to neighbourhoods\n",
    "milo.make_nhoods(adata)\n",
    "\n",
    "## Count cells from each sample in each nhood\n",
    "\n"
   ]
  },
  {
   "cell_type": "code",
   "execution_count": 18,
   "id": "24088634-9815-4ddb-8a25-a340dbebf43d",
   "metadata": {},
   "outputs": [],
   "source": [
    "milo.count_nhoods(adata, sample_col=\"specimen.specimenGuid\")\n",
    "\n",
    "## Test for differential abundance between conditions\n",
    "milo.DA_nhoods(adata, design=\"~ sample.visitName\")"
   ]
  },
  {
   "cell_type": "code",
   "execution_count": 42,
   "id": "014cf9e2-5331-40dc-ae8b-f281ebebcf69",
   "metadata": {},
   "outputs": [
    {
     "data": {
      "image/png": "[encoded data removed]",
      "text/plain": [
       "<Figure size 640x480 with 2 Axes>"
      ]
     },
     "execution_count": 42,
     "metadata": {},
     "output_type": "execute_result"
    }
   ],
   "source": [
    "plot_nhood_graph(adata,min_size=0.6, cmap=cmap, title='')  "
   ]
  },
  {
   "cell_type": "code",
   "execution_count": 44,
   "id": "a78943f4-ebdc-495a-9e09-1cb26949bd67",
   "metadata": {},
   "outputs": [],
   "source": [
    "with plt.rc_context({\"figure.figsize\": (3, 3), \"figure.dpi\": 300, \"figure.frameon\": False}):\n",
    "    colors = [\"#7F3B08\", \"#B35806\", \"white\", \"#998EC3\", \"#5E3C99\"]\n",
    "    cmap = LinearSegmentedColormap.from_list(\"name\", colors)\n",
    "    fig=  plot_nhood_graph(adata, alpha=0.05, min_size=0.2, cmap=cmap, title='')  \n",
    "    fig = plt.gcf()\n",
    "    fig.savefig(\"FigureC-1.pdf\", bbox_inches='tight')"
   ]
  },
  {
   "cell_type": "code",
   "execution_count": null,
   "id": "046664d8-dd04-4501-8bd2-4c670d00da66",
   "metadata": {},
   "outputs": [],
   "source": []
  }
 ],
 "metadata": {
  "kernelspec": {
   "display_name": "Python_BRI_Figures",
   "language": "python",
   "name": "python_bri_figures"
  },
  "language_info": {
   "codemirror_mode": {
    "name": "ipython",
    "version": 3
   },
   "file_extension": ".py",
   "mimetype": "text/x-python",
   "name": "python",
   "nbconvert_exporter": "python",
   "pygments_lexer": "ipython3",
   "version": "3.11.0"
  }
 },
 "nbformat": 4,
 "nbformat_minor": 5
}
