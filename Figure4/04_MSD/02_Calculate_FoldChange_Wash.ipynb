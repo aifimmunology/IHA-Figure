{
 "cells": [
  {
   "cell_type": "code",
   "execution_count": 16,
   "id": "699e2f94-a1ac-4af6-b9b3-837db3fede09",
   "metadata": {},
   "outputs": [],
   "source": [
    "library(hise)\n",
    "library(dplyr)\n",
    "library(ggplot2)\n",
    "library(stats)\n",
    "library(tidyverse)"
   ]
  },
  {
   "cell_type": "code",
   "execution_count": 17,
   "id": "6b48215f-39c2-4b38-b353-3ed75e34284b",
   "metadata": {},
   "outputs": [],
   "source": [
    "df<-read.csv(\"/home//jupyter/BRI_Figures_Final_V2/Dataset/MSD/MSD Recent_20231026_092142.csv\")"
   ]
  },
  {
   "cell_type": "code",
   "execution_count": 18,
   "id": "f1e2c684-fdcb-4bc9-aaf6-3f0ac352281e",
   "metadata": {},
   "outputs": [],
   "source": [
    "#subset on BR1 and BR2 cohort, drop NAs and make everythign else into numerics\n",
    "BR1_BR2_subset <- subset(df, df$Cohort %in% c(\"BR1\", \"BR2\"))\n",
    "BR1_BR2_subset<-BR1_BR2_subset[!is.na(BR1_BR2_subset$Calc..Conc..Mean),]\n",
    "BR1_BR2_subset$Calc..Conc..Mean <- gsub(\",\", \"\", BR1_BR2_subset$Calc..Conc..Mean)\n",
    "BR1_BR2_subset$Calc..Conc..Mean <- as.numeric(BR1_BR2_subset$Calc..Conc..Mean)"
   ]
  },
  {
   "cell_type": "code",
   "execution_count": 19,
   "id": "0244e474-486b-45a8-8588-29e39769cb1e",
   "metadata": {},
   "outputs": [],
   "source": [
    "#Load meta data (flu antigen specific meta data)\n",
    "metadata <- read.csv(\"/home//jupyter/BRI_Figures_Final_V2/Figure5/01_Frequency_Comparison/selected_samples_with_acutal_flu_year.csv\")\n"
   ]
  },
  {
   "cell_type": "code",
   "execution_count": 20,
   "id": "a239a1a4-f89d-4a9d-8215-bc685f815aaf",
   "metadata": {},
   "outputs": [],
   "source": [
    "BR1_BR2_subset <- BR1_BR2_subset %>%\n",
    "  semi_join(metadata, by = c(\"Subject\" = \"subject.subjectGuid\"))"
   ]
  },
  {
   "cell_type": "code",
   "execution_count": 21,
   "id": "4e45b947-adea-4146-af26-0288b217a646",
   "metadata": {},
   "outputs": [
    {
     "data": {
      "text/html": [
       "<style>\n",
       ".list-inline {list-style: none; margin:0; padding: 0}\n",
       ".list-inline>li {display: inline-block}\n",
       ".list-inline>li:not(:last-child)::after {content: \"\\00b7\"; padding: 0 .5ex}\n",
       "</style>\n",
       "<ol class=list-inline><li>'Flu B/Brisbane HA'</li><li>'Flu A/Shanghai H7'</li><li>'Flu A/Michigan H1'</li><li>'RSV Pre-Fusion F'</li><li>'Flu A/Hong Kong H3'</li><li>'Flu B/Phuket HA'</li><li>'Flu A/Victoria (H1N1)'</li><li>'Flu A/Hong Kong (H3N2)'</li><li>'Flu A/Brisbane (H1N1)'</li><li>'Flu A/Michigan (H1N1)'</li><li>'Flu B/Washington HA'</li><li>'Flu B/Colorado HA'</li></ol>\n"
      ],
      "text/latex": [
       "\\begin{enumerate*}\n",
       "\\item 'Flu B/Brisbane HA'\n",
       "\\item 'Flu A/Shanghai H7'\n",
       "\\item 'Flu A/Michigan H1'\n",
       "\\item 'RSV Pre-Fusion F'\n",
       "\\item 'Flu A/Hong Kong H3'\n",
       "\\item 'Flu B/Phuket HA'\n",
       "\\item 'Flu A/Victoria (H1N1)'\n",
       "\\item 'Flu A/Hong Kong (H3N2)'\n",
       "\\item 'Flu A/Brisbane (H1N1)'\n",
       "\\item 'Flu A/Michigan (H1N1)'\n",
       "\\item 'Flu B/Washington HA'\n",
       "\\item 'Flu B/Colorado HA'\n",
       "\\end{enumerate*}\n"
      ],
      "text/markdown": [
       "1. 'Flu B/Brisbane HA'\n",
       "2. 'Flu A/Shanghai H7'\n",
       "3. 'Flu A/Michigan H1'\n",
       "4. 'RSV Pre-Fusion F'\n",
       "5. 'Flu A/Hong Kong H3'\n",
       "6. 'Flu B/Phuket HA'\n",
       "7. 'Flu A/Victoria (H1N1)'\n",
       "8. 'Flu A/Hong Kong (H3N2)'\n",
       "9. 'Flu A/Brisbane (H1N1)'\n",
       "10. 'Flu A/Michigan (H1N1)'\n",
       "11. 'Flu B/Washington HA'\n",
       "12. 'Flu B/Colorado HA'\n",
       "\n",
       "\n"
      ],
      "text/plain": [
       " [1] \"Flu B/Brisbane HA\"      \"Flu A/Shanghai H7\"      \"Flu A/Michigan H1\"     \n",
       " [4] \"RSV Pre-Fusion F\"       \"Flu A/Hong Kong H3\"     \"Flu B/Phuket HA\"       \n",
       " [7] \"Flu A/Victoria (H1N1)\"  \"Flu A/Hong Kong (H3N2)\" \"Flu A/Brisbane (H1N1)\" \n",
       "[10] \"Flu A/Michigan (H1N1)\"  \"Flu B/Washington HA\"    \"Flu B/Colorado HA\"     "
      ]
     },
     "metadata": {},
     "output_type": "display_data"
    }
   ],
   "source": [
    "unique(BR1_BR2_subset$Assay)"
   ]
  },
  {
   "cell_type": "code",
   "execution_count": 22,
   "id": "a3e1d01e-3bcc-4f1f-93da-c2d6615ef231",
   "metadata": {},
   "outputs": [],
   "source": [
    "#create subsets for year-flu specific serology\n",
    "one_yearflu_only <- c(\"Flu Year 1 Day 0\", \"Flu Year 1 Day 7\")\n",
    "BR1_BR2_subset <- BR1_BR2_subset[BR1_BR2_subset$Visit %in% one_yearflu_only, ]\n",
    "\n",
    "# specific to flu year, kept hongkong out because HAI only has washington and Phuket\n",
    "flu_year_specific <- c(\"Flu B/Washington HA\")\n",
    "BR1_BR2_subset_flu_specific <- BR1_BR2_subset[BR1_BR2_subset$Assay %in% flu_year_specific, ]\n"
   ]
  },
  {
   "cell_type": "code",
   "execution_count": 23,
   "id": "6dad5b51-fd28-4321-8f9f-58eb057cc0b1",
   "metadata": {},
   "outputs": [],
   "source": [
    "#get rid of the duplicate rows (because we are only looking at the mean, not replicates)\n",
    "BR1_BR2_subset_flu_specific <- BR1_BR2_subset_flu_specific %>%\n",
    "  distinct(Subject, Visit, Assay, Cohort, .keep_all = TRUE)\n",
    "#split based on different assays, so that we can normalize to each assay later\n",
    "BR1_BR2_subset_flu_specific_split <- split(BR1_BR2_subset_flu_specific, \n",
    "                                           f = BR1_BR2_subset_flu_specific$Assay)"
   ]
  },
  {
   "cell_type": "code",
   "execution_count": 24,
   "id": "83df2be6-bc39-4f34-bd5a-1d5cb828499a",
   "metadata": {},
   "outputs": [],
   "source": [
    "# normalize to each assay\n",
    "normalized_BR1_BR2_subset_flu_specific_split <- list()\n",
    "for (i in 1:length(BR1_BR2_subset_flu_specific_split)) {\n",
    "  df <- as.data.frame(BR1_BR2_subset_flu_specific_split[[i]])\n",
    "   df<- left_join(df,metadata,by=c(\"Sample.Kit.Barcode\"=\"sample.sampleKitGuid\"))\n",
    "    normalized_df <- df %>%\n",
    "      group_by(Subject) %>% arrange(Visit) %>%\n",
    "      mutate(Normalized_Concentration = Calc..Conc..Mean / first(Calc..Conc..Mean[Flu_Year == \"2020-2021\"])) %>%\n",
    "      ungroup()\n",
    "    \n",
    "  normalized_BR1_BR2_subset_flu_specific_split[[i]] <- normalized_df\n",
    "}"
   ]
  },
  {
   "cell_type": "code",
   "execution_count": 25,
   "id": "a77092f1-9561-4148-9923-4f51847a6140",
   "metadata": {},
   "outputs": [],
   "source": [
    "df_normalized<-normalized_BR1_BR2_subset_flu_specific_split[[1]]"
   ]
  },
  {
   "cell_type": "code",
   "execution_count": 26,
   "id": "90cdd0da-e2ff-4eb6-ba9a-029377480258",
   "metadata": {},
   "outputs": [],
   "source": [
    "df_normalized<-df_normalized[!is.na(df_normalized$Normalized_Concentration),]"
   ]
  },
  {
   "cell_type": "code",
   "execution_count": 27,
   "id": "1ef897d0-9277-474b-a4ef-3e7df9c49b28",
   "metadata": {},
   "outputs": [],
   "source": [
    "write.csv(df_normalized,\"MSD_Normalized_Y2020-2021_Washington.csv\")"
   ]
  },
  {
   "cell_type": "code",
   "execution_count": null,
   "id": "b18863b5-5c84-47b6-9936-ae7ec9d703ff",
   "metadata": {},
   "outputs": [],
   "source": []
  }
 ],
 "metadata": {
  "kernelspec": {
   "display_name": "R 4",
   "language": "R",
   "name": "ir4"
  },
  "language_info": {
   "codemirror_mode": "r",
   "file_extension": ".r",
   "mimetype": "text/x-r-source",
   "name": "R",
   "pygments_lexer": "r",
   "version": "4.3.2"
  }
 },
 "nbformat": 4,
 "nbformat_minor": 5
}
