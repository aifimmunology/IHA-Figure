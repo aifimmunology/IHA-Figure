{
 "cells": [
  {
   "cell_type": "code",
   "execution_count": 3,
   "id": "5865e6ec-db14-419a-a256-10b0ccb842c1",
   "metadata": {},
   "outputs": [],
   "source": [
    "library(ggplot2)\n",
    "library(stats)\n",
    "library(dplyr)\n",
    "library(tidyverse)\n",
    "library(RColorBrewer)\n",
    "library(paletteer)\n",
    "library(ComplexHeatmap)\n",
    "library(circlize)\n",
    "library(grid)"
   ]
  },
  {
   "cell_type": "markdown",
   "id": "32c8d5ff-32cd-45b8-b9e4-204904049cb4",
   "metadata": {},
   "source": [
    "# Reading input"
   ]
  },
  {
   "cell_type": "code",
   "execution_count": 24,
   "id": "9d3ef202-a0c6-433a-8b45-40e53e7f77dd",
   "metadata": {},
   "outputs": [],
   "source": [
    "mat<-read.csv(\"06_Arc_Plot_Data_Prepprocessing/mat.csv\",row.names=1,check.names = FALSE)\n",
    "row_annot<-read.csv(\"06_Arc_Plot_Data_Prepprocessing//row_anno.csv\",row.names=1,check.names = FALSE)"
   ]
  },
  {
   "cell_type": "code",
   "execution_count": 25,
   "id": "ef318105-071c-4abf-95f2-b9c7ef839c02",
   "metadata": {},
   "outputs": [],
   "source": [
    "df<-cbind(row_annot,mat)\n",
    "colnames(df)[12]<-\"Plasma Cell Freq Changes\"\n",
    "colnames(df)[1:3]<-c(\"subjectGuid\",\"Flu_Year\",\"Flu_Day\")\n",
    "colnames(df)[7:10]<-paste0(\"Response_Group-\",colnames(df)[7:10])\n",
    "colnames(df)[13:16]<-paste0(\"Response_Score-\",colnames(df)[13:16])\n",
    "write.csv(df ,\"/home/workspace/Source_Data/Fig4b.csv\", row.names=FALSE)"
   ]
  },
  {
   "cell_type": "code",
   "execution_count": 3,
   "id": "1e104c73-4139-45af-807e-b1cc74135976",
   "metadata": {},
   "outputs": [],
   "source": [
    "\n",
    "\n",
    "\n"
   ]
  },
  {
   "cell_type": "code",
   "execution_count": 40,
   "id": "b4983c90-5748-436e-9200-88c5081b93a2",
   "metadata": {},
   "outputs": [
    {
     "name": "stderr",
     "output_type": "stream",
     "text": [
      "Warning message:\n",
      "“`convert_length()` only works when aspect of the coordinate is 1.”\n",
      "Note: 44 points are out of plotting region in sector '2020-2021', track\n",
      "'5'.\n",
      "\n",
      "Note: 46 points are out of plotting region in sector '2021-2022', track\n",
      "'5'.\n",
      "\n"
     ]
    },
    {
     "data": {
      "text/html": [
       "<strong>pdf:</strong> 2"
      ],
      "text/latex": [
       "\\textbf{pdf:} 2"
      ],
      "text/markdown": [
       "**pdf:** 2"
      ],
      "text/plain": [
       "pdf \n",
       "  2 "
      ]
     },
     "metadata": {},
     "output_type": "display_data"
    }
   ],
   "source": [
    "pdf('FigureB.pdf', width =200/25.4, height = 120/25.4)\n",
    "\n",
    "circos.clear()\n",
    "circos.par(track.height = 0.1, start.degree = 180, gap.after = c(3.5, 180))\n",
    "col_fun1 <- colorRamp2(seq(median(mat[, 1], na.rm = TRUE) - 2 * mad(mat[, 1], na.rm = TRUE), median(mat[, 1], na.rm = TRUE) + 2 * mad(mat[, 1], na.rm = TRUE),\n",
    "    length.out = 11\n",
    "), rev(brewer.pal(11, \"Spectral\")))\n",
    "col_fun2 <- colorRamp2(seq(median(mat[, 2], na.rm = TRUE) - 2 * mad(mat[, 2], na.rm = TRUE), median(mat[, 2], na.rm = TRUE) + 2 * mad(mat[, 2], na.rm = TRUE),\n",
    "    length.out = 11\n",
    "), rev(brewer.pal(11, \"Spectral\")))\n",
    "col_fun3 <- colorRamp2(seq(median(mat[, 3], na.rm = TRUE) - 2 * mad(mat[, 3], na.rm = TRUE), median(mat[, 3], na.rm = TRUE) + 2 * mad(mat[, 3], na.rm = TRUE),\n",
    "    length.out = 11\n",
    "), rev(brewer.pal(11, \"Spectral\")))\n",
    "col_fun4 <- colorRamp2(seq(median(mat[, 4], na.rm = TRUE) - 2 * mad(mat[, 4], na.rm = TRUE), median(mat[, 4], na.rm = TRUE) + 2 * mad(mat[, 4], na.rm = TRUE),\n",
    "    length.out = 11\n",
    "), rev(brewer.pal(11, \"Spectral\")))\n",
    "\n",
    "\n",
    "set_track_gap(cm_h(0.1))\n",
    "\n",
    "annotation_levels <- unique(row_annot$V2)\n",
    "if (length(annotation_levels) < 3) {\n",
    "    annotation_colors <- setNames(brewer.pal(3, \"Set2\")[1:length(annotation_levels)], annotation_levels)\n",
    "} else {\n",
    "    annotation_colors <- setNames(brewer.pal(length(annotation_levels), \"Set2\"), annotation_levels)\n",
    "}\n",
    "anno_mat <- as.matrix(as.numeric(factor(row_annot$V2, levels = annotation_levels)))\n",
    "col_fun_anno <- colorRamp2(seq(1, length(annotation_levels)), annotation_colors)\n",
    "circos.heatmap(anno_mat, col = col_fun_anno, cluster = FALSE, split = row_annot$V2, track.height = 0.01)\n",
    "\n",
    "\n",
    "annotation_levels <- unique(row_annot$cohort.cohortGuid)\n",
    "annotation_colors <- c(BR1 = \"#35978f\", BR2 = \"#bf812d\")[levels(factor(row_annot$cohort.cohortGuid))]\n",
    "anno_mat <- as.matrix(as.numeric(factor(row_annot$cohort.cohortGuid)))\n",
    "col_fun_anno <- colorRamp2(seq(1, length(annotation_levels)), annotation_colors)\n",
    "circos.heatmap(anno_mat, col = col_fun_anno, cluster = FALSE, cell.border = \"white\", cell.lwd = 0.1,  track.height = 0.02)\n",
    "\n",
    "annotation_levels <- unique(row_annot$subject.biologicalSex)\n",
    "annotation_colors <- c(Male = \"#5aae61\", Female = \"#9970ab\")[levels(factor(row_annot$subject.biologicalSex))]\n",
    "anno_mat <- as.matrix(as.numeric(factor(row_annot$subject.biologicalSex)))\n",
    "col_fun_anno <- colorRamp2(seq(1, length(annotation_levels)), annotation_colors)\n",
    "circos.heatmap(anno_mat, col = col_fun_anno, cluster = FALSE, cell.border = \"white\", cell.lwd = 0.2, track.height = 0.02)\n",
    "\n",
    "annotation_levels <- unique(row_annot$CMV)\n",
    "annotation_colors <- c(Positive = \"#d6604d\", Negative = \"#4393c3\")[levels(factor(row_annot$CMV))]\n",
    "anno_mat <- as.matrix(as.numeric(factor(row_annot$CMV)))\n",
    "col_fun_anno <- colorRamp2(seq(1, length(annotation_levels)), annotation_colors)\n",
    "circos.heatmap(anno_mat, col = col_fun_anno, cluster = FALSE, cell.border = \"white\", cell.lwd = 0.2,  track.height = 0.02)\n",
    "\n",
    "\n",
    "circos.trackPlotRegion(\n",
    "  factors = row_annot$V2,\n",
    "  ylim = c(0, max(row_annot$`Plasma cell`, na.rm = TRUE)), \n",
    "  track.height = 0.06,\n",
    "  panel.fun = function(x, y) {\n",
    "    sector.name <- get.cell.meta.data(\"sector.index\")\n",
    "    \n",
    "    idx <- row_annot$V2 == sector.name\n",
    "    \n",
    "    x_val <- seq_len(sum(idx)) - 0.5\n",
    "    \n",
    "    y_val <- row_annot$`Plasma cell`[idx]\n",
    "    \n",
    "    # now draw bars in this sector\n",
    "    circos.barplot(\n",
    "      y_val, \n",
    "      x_val, \n",
    "      col = 'black', \n",
    "      border = 'black'\n",
    "    )\n",
    "  }\n",
    ")\n",
    "\n",
    "set_track_gap(cm_h(0.3))\n",
    "\n",
    "annotation_colors <- c(`low responder` = \"#bdd7e7\",`middle responder` = \"#6baed6\",`high responder` = \"#08519c\")\n",
    "\n",
    "annotation_levels <- intersect(unique(row_annot$`Flu B/Phuket HA`), names(annotation_colors))\n",
    "row_annot$`Flu B/Phuket HA` <- factor(row_annot$`Flu B/Phuket HA`, levels = annotation_levels)\n",
    "anno_mat <- matrix(as.numeric(row_annot$`Flu B/Phuket HA`))\n",
    "col_fun_anno <- colorRamp2(seq_along(annotation_levels), annotation_colors[annotation_levels])\n",
    "\n",
    "circos.heatmap(anno_mat, col = col_fun_anno, cluster = FALSE, cell.border = \"white\", cell.lwd = 0.8, track.height = 0.02)\n",
    "set_track_gap(cm_h(0.1))\n",
    "\n",
    "circos.heatmap(mat[, 1], col = col_fun1, cluster = FALSE, split = row_annot$V2, track.height = 0.06)\n",
    "set_track_gap(cm_h(0.2))\n",
    "\n",
    "annotation_levels <- intersect(unique(row_annot$`Flu B/Washington HA`), names(annotation_colors))\n",
    "row_annot$`Flu B/Washington HA` <- factor(row_annot$`Flu B/Washington HA`, levels = annotation_levels)\n",
    "anno_mat <- matrix(as.numeric(row_annot$`Flu B/Washington HA`))\n",
    "col_fun_anno <- colorRamp2(seq_along(annotation_levels), annotation_colors[annotation_levels])\n",
    "\n",
    "circos.heatmap(anno_mat, col = col_fun_anno, cluster = FALSE, cell.border = \"white\", cell.lwd = 0.8,  track.height = 0.02)\n",
    "set_track_gap(cm_h(0.1))\n",
    "\n",
    "circos.heatmap(mat[, 2], col = col_fun2, cluster = FALSE, split = row_annot$V2, track.height = 0.06)\n",
    "set_track_gap(cm_h(0.2))\n",
    "\n",
    "annotation_levels <- intersect(unique(row_annot$`A/Guangdong`), names(annotation_colors))\n",
    "row_annot$`A/Guangdong` <- factor(row_annot$`A/Guangdong`, levels = annotation_levels)\n",
    "anno_mat <- matrix(as.numeric(row_annot$`A/Guangdong`))\n",
    "col_fun_anno <- colorRamp2(seq_along(annotation_levels), annotation_colors[annotation_levels])\n",
    "\n",
    "circos.heatmap(anno_mat, col = col_fun_anno, cluster = FALSE, cell.border = \"white\", cell.lwd = 0.8,  track.height = 0.02)\n",
    "set_track_gap(cm_h(0.1))\n",
    "\n",
    "circos.heatmap(mat[, 3], col = col_fun3, cluster = FALSE, split = row_annot$V2, track.height = 0.06)\n",
    "set_track_gap(cm_h(0.2))\n",
    "\n",
    "\n",
    "annotation_levels <- intersect(unique(row_annot$`A/Cambodia`), names(annotation_colors))\n",
    "row_annot$`A/Cambodia` <- factor(row_annot$`A/Cambodia`, levels = annotation_levels)\n",
    "anno_mat <- matrix(as.numeric(row_annot$`A/Cambodia`))\n",
    "col_fun_anno <- colorRamp2(seq_along(annotation_levels), annotation_colors[annotation_levels])\n",
    "\n",
    "circos.heatmap(anno_mat, col = col_fun_anno, cluster = FALSE, cell.border = \"white\", cell.lwd = 0.8,  track.height = 0.02)\n",
    "set_track_gap(cm_h(0.1))\n",
    "\n",
    "\n",
    "\n",
    "circos.heatmap(mat[, 4], col = col_fun4, cluster = FALSE, split = row_annot$V2, track.height = 0.06)\n",
    "set_track_gap(cm_h(0.2))\n",
    "\n",
    "circos.clear()\n",
    "\n",
    "dev.off()\n"
   ]
  },
  {
   "cell_type": "code",
   "execution_count": 41,
   "id": "da4c8db3-3986-4356-86fd-f5243bb8990f",
   "metadata": {},
   "outputs": [
    {
     "data": {
      "text/html": [
       "<strong>pdf:</strong> 2"
      ],
      "text/latex": [
       "\\textbf{pdf:} 2"
      ],
      "text/markdown": [
       "**pdf:** 2"
      ],
      "text/plain": [
       "pdf \n",
       "  2 "
      ]
     },
     "metadata": {},
     "output_type": "display_data"
    }
   ],
   "source": [
    "pdf('FigureB_Legend.pdf', width =200/25.4, height = 120/25.4)\n",
    "\n",
    "\n",
    "annotation_colors_v2 <- if(length(unique(row_annot$V2)) < 3) {\n",
    "  setNames(brewer.pal(3, \"Set2\")[1:length(unique(row_annot$V2))], unique(row_annot$V2))\n",
    "} else {\n",
    "  setNames(brewer.pal(length(unique(row_annot$V2)), \"Set2\"), unique(row_annot$V2))\n",
    "}\n",
    "annotation_colors_cohort <- c(BR1 = \"#35978f\", BR2 = \"#bf812d\")[levels(factor(row_annot$cohort.cohortGuid))]\n",
    "annotation_colors_sex <- c(Male = \"#5aae61\", Female = \"#9970ab\")[levels(factor(row_annot$subject.biologicalSex))]\n",
    "annotation_colors_CMV <- c(Positive = \"#d6604d\", Negative = \"#4393c3\")[levels(factor(row_annot$CMV))]\n",
    "annotation_colors_fluPhuket <- annotation_colors[intersect(unique(row_annot$`Flu B/Phuket HA`), names(annotation_colors))]\n",
    "annotation_colors_fluWash <- annotation_colors[intersect(unique(row_annot$`Flu B/Washington HA`), names(annotation_colors))]\n",
    "annotation_colors_guangdong <- annotation_colors[intersect(unique(row_annot$`A/Guangdong`), names(annotation_colors))]\n",
    "annotation_colors_cambodia <- annotation_colors[intersect(unique(row_annot$`A/Cambodia`), names(annotation_colors))]\n",
    "\n",
    "lgd1 <- Legend(title = \"mat[,1]\", col_fun = col_fun1)\n",
    "lgd2 <- Legend(title = \"mat[,2]\", col_fun = col_fun2)\n",
    "lgd3 <- Legend(title = \"mat[,3]\", col_fun = col_fun3)\n",
    "lgd4 <- Legend(title = \"mat[,4]\", col_fun = col_fun4)\n",
    "lgd_v2 <- Legend(title = \"V2\", at = names(annotation_colors_v2), legend_gp = gpar(fill = annotation_colors_v2))\n",
    "lgd_cohort <- Legend(title = \"cohort\", at = names(annotation_colors_cohort), legend_gp = gpar(fill = annotation_colors_cohort))\n",
    "lgd_sex <- Legend(title = \"sex\", at = names(annotation_colors_sex), legend_gp = gpar(fill = annotation_colors_sex))\n",
    "lgd_CMV <- Legend(title = \"CMV\", at = names(annotation_colors_CMV), legend_gp = gpar(fill = annotation_colors_CMV))\n",
    "lgd_fluPhuket <- Legend(title = \"Flu B/Phuket HA\", at = names(annotation_colors_fluPhuket), legend_gp = gpar(fill = annotation_colors_fluPhuket))\n",
    "lgd_fluWash <- Legend(title = \"Flu B/Washington HA\", at = names(annotation_colors_fluWash), legend_gp = gpar(fill = annotation_colors_fluWash))\n",
    "lgd_guangdong <- Legend(title = \"A/Guangdong\", at = names(annotation_colors_guangdong), legend_gp = gpar(fill = annotation_colors_guangdong))\n",
    "lgd_cambodia <- Legend(title = \"A/Cambodia\", at = names(annotation_colors_cambodia), legend_gp = gpar(fill = annotation_colors_cambodia))\n",
    "\n",
    "all_lgd <- packLegend(lgd1, lgd2, lgd3, lgd4, lgd_v2, lgd_cohort, lgd_sex, lgd_CMV,\n",
    "                      lgd_fluPhuket, lgd_fluWash, lgd_guangdong, lgd_cambodia,\n",
    "                      direction = \"horizontal\")\n",
    "draw(all_lgd, x = unit(0.5, \"npc\"), y = unit(0.5, \"npc\"), just = \"center\")\n",
    "\n",
    "dev.off()\n"
   ]
  },
  {
   "cell_type": "code",
   "execution_count": null,
   "id": "ec53342c-1e40-47cf-afde-060e85ee15ab",
   "metadata": {},
   "outputs": [],
   "source": []
  }
 ],
 "metadata": {
  "kernelspec": {
   "display_name": "R_BRI_Figures",
   "language": "R",
   "name": "r_bri_figures"
  },
  "language_info": {
   "codemirror_mode": "r",
   "file_extension": ".r",
   "mimetype": "text/x-r-source",
   "name": "R",
   "pygments_lexer": "r",
   "version": "4.3.2"
  }
 },
 "nbformat": 4,
 "nbformat_minor": 5
}
