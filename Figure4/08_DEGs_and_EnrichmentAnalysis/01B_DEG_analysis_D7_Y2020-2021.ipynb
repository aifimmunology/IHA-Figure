{
 "cells": [
  {
   "cell_type": "code",
   "execution_count": 1,
   "id": "a607278e-8546-4885-b030-be2b0e304815",
   "metadata": {},
   "outputs": [
    {
     "name": "stderr",
     "output_type": "stream",
     "text": [
      "Loading required package: S4Vectors\n",
      "\n",
      "Loading required package: stats4\n",
      "\n",
      "Loading required package: BiocGenerics\n",
      "\n",
      "\n",
      "Attaching package: ‘BiocGenerics’\n",
      "\n",
      "\n",
      "The following objects are masked from ‘package:dplyr’:\n",
      "\n",
      "    combine, intersect, setdiff, union\n",
      "\n",
      "\n",
      "The following objects are masked from ‘package:stats’:\n",
      "\n",
      "    IQR, mad, sd, var, xtabs\n",
      "\n",
      "\n",
      "The following objects are masked from ‘package:base’:\n",
      "\n",
      "    anyDuplicated, aperm, append, as.data.frame, basename, cbind,\n",
      "    colnames, dirname, do.call, duplicated, eval, evalq, Filter, Find,\n",
      "    get, grep, grepl, intersect, is.unsorted, lapply, Map, mapply,\n",
      "    match, mget, order, paste, pmax, pmax.int, pmin, pmin.int,\n",
      "    Position, rank, rbind, Reduce, rownames, sapply, setdiff, sort,\n",
      "    table, tapply, union, unique, unsplit, which.max, which.min\n",
      "\n",
      "\n",
      "\n",
      "Attaching package: ‘S4Vectors’\n",
      "\n",
      "\n",
      "The following object is masked from ‘package:tidyr’:\n",
      "\n",
      "    expand\n",
      "\n",
      "\n",
      "The following objects are masked from ‘package:dplyr’:\n",
      "\n",
      "    first, rename\n",
      "\n",
      "\n",
      "The following object is masked from ‘package:utils’:\n",
      "\n",
      "    findMatches\n",
      "\n",
      "\n",
      "The following objects are masked from ‘package:base’:\n",
      "\n",
      "    expand.grid, I, unname\n",
      "\n",
      "\n",
      "Loading required package: IRanges\n",
      "\n",
      "\n",
      "Attaching package: ‘IRanges’\n",
      "\n",
      "\n",
      "The following objects are masked from ‘package:dplyr’:\n",
      "\n",
      "    collapse, desc, slice\n",
      "\n",
      "\n",
      "Loading required package: GenomicRanges\n",
      "\n",
      "Loading required package: GenomeInfoDb\n",
      "\n",
      "Loading required package: SummarizedExperiment\n",
      "\n",
      "Loading required package: MatrixGenerics\n",
      "\n",
      "Loading required package: matrixStats\n",
      "\n",
      "\n",
      "Attaching package: ‘matrixStats’\n",
      "\n",
      "\n",
      "The following object is masked from ‘package:dplyr’:\n",
      "\n",
      "    count\n",
      "\n",
      "\n",
      "\n",
      "Attaching package: ‘MatrixGenerics’\n",
      "\n",
      "\n",
      "The following objects are masked from ‘package:matrixStats’:\n",
      "\n",
      "    colAlls, colAnyNAs, colAnys, colAvgsPerRowSet, colCollapse,\n",
      "    colCounts, colCummaxs, colCummins, colCumprods, colCumsums,\n",
      "    colDiffs, colIQRDiffs, colIQRs, colLogSumExps, colMadDiffs,\n",
      "    colMads, colMaxs, colMeans2, colMedians, colMins, colOrderStats,\n",
      "    colProds, colQuantiles, colRanges, colRanks, colSdDiffs, colSds,\n",
      "    colSums2, colTabulates, colVarDiffs, colVars, colWeightedMads,\n",
      "    colWeightedMeans, colWeightedMedians, colWeightedSds,\n",
      "    colWeightedVars, rowAlls, rowAnyNAs, rowAnys, rowAvgsPerColSet,\n",
      "    rowCollapse, rowCounts, rowCummaxs, rowCummins, rowCumprods,\n",
      "    rowCumsums, rowDiffs, rowIQRDiffs, rowIQRs, rowLogSumExps,\n",
      "    rowMadDiffs, rowMads, rowMaxs, rowMeans2, rowMedians, rowMins,\n",
      "    rowOrderStats, rowProds, rowQuantiles, rowRanges, rowRanks,\n",
      "    rowSdDiffs, rowSds, rowSums2, rowTabulates, rowVarDiffs, rowVars,\n",
      "    rowWeightedMads, rowWeightedMeans, rowWeightedMedians,\n",
      "    rowWeightedSds, rowWeightedVars\n",
      "\n",
      "\n",
      "Loading required package: Biobase\n",
      "\n",
      "Welcome to Bioconductor\n",
      "\n",
      "    Vignettes contain introductory material; view with\n",
      "    'browseVignettes()'. To cite Bioconductor, see\n",
      "    'citation(\"Biobase\")', and for packages 'citation(\"pkgname\")'.\n",
      "\n",
      "\n",
      "\n",
      "Attaching package: ‘Biobase’\n",
      "\n",
      "\n",
      "The following object is masked from ‘package:MatrixGenerics’:\n",
      "\n",
      "    rowMedians\n",
      "\n",
      "\n",
      "The following objects are masked from ‘package:matrixStats’:\n",
      "\n",
      "    anyMissing, rowMedians\n",
      "\n",
      "\n"
     ]
    }
   ],
   "source": [
    "suppressPackageStartupMessages(library(dplyr))\n",
    "suppressPackageStartupMessages(library(tidyr))\n",
    "suppressPackageStartupMessages(library(tibble))\n",
    "suppressPackageStartupMessages(library(stringr))\n",
    "library(parallel)\n",
    "library(DESeq2)\n",
    "library(hise)\n",
    "source('/home//jupyter/BRI_Figures_Final_V2/helper_function/helper_function_IHA.r')"
   ]
  },
  {
   "cell_type": "markdown",
   "id": "4be5c0b9-7368-416b-8c16-0f7c22875f18",
   "metadata": {},
   "source": [
    "# Read Meta Data"
   ]
  },
  {
   "cell_type": "code",
   "execution_count": 2,
   "id": "e68d98b3-3160-4b4f-97d9-1e13c0da81ef",
   "metadata": {},
   "outputs": [],
   "source": [
    "meta_data=read.csv(\"/home/jupyter/BRI_Figures_Final_V2/Figure5/01_Frequency_Comparison/selected_samples_with_acutal_flu_year.csv\")"
   ]
  },
  {
   "cell_type": "markdown",
   "id": "4f43a8bb-2e29-4066-adbf-d4619be3acb8",
   "metadata": {},
   "source": [
    "# Perform Deseq2 on Year 1 Day 0 samples"
   ]
  },
  {
   "cell_type": "code",
   "execution_count": 3,
   "id": "e3dd9eb4-7405-43b0-b3fb-78e1c1f2a616",
   "metadata": {},
   "outputs": [],
   "source": [
    "filtered_gene_set<-read.csv(\"filtered_gene_Y2020-2021_Y2021-2022_D7.csv\")"
   ]
  },
  {
   "cell_type": "code",
   "execution_count": 4,
   "id": "b81c0e7e-5360-44ab-a955-763f62507555",
   "metadata": {},
   "outputs": [
    {
     "name": "stdout",
     "output_type": "stream",
     "text": [
      "[1] \"Total reading time: 15.158 seconds\"\n",
      "[1] \"The length of the list matches the length of the input path.\"\n"
     ]
    }
   ],
   "source": [
    "meta_data_subset=meta_data %>% filter(Flu_Day=='Day 7')\n",
    "\n",
    "aggregated_count_file_list<-paste0(\"/home/jupyter/BRI_Figures_Final_V2/Dataset/scRNA/BRI/Aggregated_Count/Aggregated_Raw_Expression_of_Celltypes_by_Sample_AIFI_L3/\",meta_data_subset$pbmc_sample_id,\".csv\")\n",
    "\n",
    "df_list<-read_pseudobulk_expression(aggregated_count_file_list)"
   ]
  },
  {
   "cell_type": "code",
   "execution_count": 5,
   "id": "91ac94b4-ae3f-419b-b6fa-b64b8c996bb9",
   "metadata": {},
   "outputs": [],
   "source": [
    "celltypes <- unique(unlist(lapply(df_list, names)))\n",
    "celltypes<-unique(sub(\".*:\", \"\", celltypes))"
   ]
  },
  {
   "cell_type": "code",
   "execution_count": 6,
   "id": "60fb5fc6-ac25-4e07-bd04-586ff03a7791",
   "metadata": {
    "scrolled": true
   },
   "outputs": [],
   "source": [
    "res_list<-mclapply(celltypes, function(celltype){\n",
    "    print(celltype)\n",
    "    celltype_list <- lapply(df_list, function(df) { df <- df[, grep(celltype, names(df), fixed = TRUE),drop=FALSE] })\n",
    "    exp_matrix<-do.call(cbind,celltype_list)\n",
    "    colnames(exp_matrix)<-sub(\":.*\", \"\", colnames(exp_matrix))\n",
    "    rownames(meta_data_subset)<-meta_data_subset$pbmc_sample_id\n",
    "    filtered_gene_set_filtered<-filtered_gene_set%>% filter(AIFI_L3==celltype)%>% select(gene) %>%pull()\n",
    "    \n",
    "    res=deseq2_analysis(exp_matrix,\n",
    "                     meta_data=meta_data_subset,\n",
    "                     filtered_gene_set=filtered_gene_set_filtered,\n",
    "                     formula= ~  cohort.cohortGuid+subject.biologicalSex+CMV+Flu_Year,\n",
    "                     comparisons=list(c(\"cohort.cohortGuid\", \"BR1\", \"BR2\")),\n",
    "                     celltype=celltype)\n",
    "    return(res)\n",
    "},mc.cores=60)"
   ]
  },
  {
   "cell_type": "code",
   "execution_count": 7,
   "id": "c42430f2-e644-41ea-bb8e-48dcff413cec",
   "metadata": {
    "scrolled": true
   },
   "outputs": [],
   "source": [
    "res_all<-do.call(rbind,res_list)"
   ]
  },
  {
   "cell_type": "code",
   "execution_count": 8,
   "id": "47c9e8b6-c676-426e-8b0f-844baff32a6a",
   "metadata": {},
   "outputs": [
    {
     "data": {
      "text/html": [
       "<table class=\"dataframe\">\n",
       "<caption>A data.frame: 6 × 10</caption>\n",
       "<thead>\n",
       "\t<tr><th></th><th scope=col>baseMean</th><th scope=col>log2FoldChange</th><th scope=col>lfcSE</th><th scope=col>stat</th><th scope=col>pvalue</th><th scope=col>padj</th><th scope=col>contrast</th><th scope=col>Direction</th><th scope=col>gene</th><th scope=col>celltype</th></tr>\n",
       "\t<tr><th></th><th scope=col>&lt;dbl&gt;</th><th scope=col>&lt;dbl&gt;</th><th scope=col>&lt;dbl&gt;</th><th scope=col>&lt;dbl&gt;</th><th scope=col>&lt;dbl&gt;</th><th scope=col>&lt;dbl&gt;</th><th scope=col>&lt;chr&gt;</th><th scope=col>&lt;chr&gt;</th><th scope=col>&lt;chr&gt;</th><th scope=col>&lt;chr&gt;</th></tr>\n",
       "</thead>\n",
       "<tbody>\n",
       "\t<tr><th scope=row>1</th><td>0.4041447</td><td> 0.213540577</td><td>0.3423002</td><td> 0.62384007</td><td>0.53273262</td><td>0.9995678</td><td>cohort.cohortGuid</td><td>HigherInBR1</td><td>AL669831.5</td><td>ASDC</td></tr>\n",
       "\t<tr><th scope=row>2</th><td>1.8930982</td><td> 0.004231346</td><td>0.1970302</td><td> 0.02147563</td><td>0.98286625</td><td>0.9995678</td><td>cohort.cohortGuid</td><td>HigherInBR1</td><td>NOC2L     </td><td>ASDC</td></tr>\n",
       "\t<tr><th scope=row>3</th><td>1.2124276</td><td>-0.208204059</td><td>0.3104029</td><td>-0.67075425</td><td>0.50237710</td><td>0.9995678</td><td>cohort.cohortGuid</td><td>HigherInBR2</td><td>ISG15     </td><td>ASDC</td></tr>\n",
       "\t<tr><th scope=row>4</th><td>2.4409849</td><td> 0.160380580</td><td>0.1695837</td><td> 0.94573132</td><td>0.34428565</td><td>0.9995678</td><td>cohort.cohortGuid</td><td>HigherInBR1</td><td>SDF4      </td><td>ASDC</td></tr>\n",
       "\t<tr><th scope=row>5</th><td>0.8935068</td><td>-0.031199783</td><td>0.2809857</td><td>-0.11103689</td><td>0.91158709</td><td>0.9995678</td><td>cohort.cohortGuid</td><td>HigherInBR2</td><td>B3GALT6   </td><td>ASDC</td></tr>\n",
       "\t<tr><th scope=row>6</th><td>2.3720525</td><td> 0.316309879</td><td>0.1710183</td><td> 1.84956791</td><td>0.06437585</td><td>0.9995678</td><td>cohort.cohortGuid</td><td>HigherInBR1</td><td>UBE2J2    </td><td>ASDC</td></tr>\n",
       "</tbody>\n",
       "</table>\n"
      ],
      "text/latex": [
       "A data.frame: 6 × 10\n",
       "\\begin{tabular}{r|llllllllll}\n",
       "  & baseMean & log2FoldChange & lfcSE & stat & pvalue & padj & contrast & Direction & gene & celltype\\\\\n",
       "  & <dbl> & <dbl> & <dbl> & <dbl> & <dbl> & <dbl> & <chr> & <chr> & <chr> & <chr>\\\\\n",
       "\\hline\n",
       "\t1 & 0.4041447 &  0.213540577 & 0.3423002 &  0.62384007 & 0.53273262 & 0.9995678 & cohort.cohortGuid & HigherInBR1 & AL669831.5 & ASDC\\\\\n",
       "\t2 & 1.8930982 &  0.004231346 & 0.1970302 &  0.02147563 & 0.98286625 & 0.9995678 & cohort.cohortGuid & HigherInBR1 & NOC2L      & ASDC\\\\\n",
       "\t3 & 1.2124276 & -0.208204059 & 0.3104029 & -0.67075425 & 0.50237710 & 0.9995678 & cohort.cohortGuid & HigherInBR2 & ISG15      & ASDC\\\\\n",
       "\t4 & 2.4409849 &  0.160380580 & 0.1695837 &  0.94573132 & 0.34428565 & 0.9995678 & cohort.cohortGuid & HigherInBR1 & SDF4       & ASDC\\\\\n",
       "\t5 & 0.8935068 & -0.031199783 & 0.2809857 & -0.11103689 & 0.91158709 & 0.9995678 & cohort.cohortGuid & HigherInBR2 & B3GALT6    & ASDC\\\\\n",
       "\t6 & 2.3720525 &  0.316309879 & 0.1710183 &  1.84956791 & 0.06437585 & 0.9995678 & cohort.cohortGuid & HigherInBR1 & UBE2J2     & ASDC\\\\\n",
       "\\end{tabular}\n"
      ],
      "text/markdown": [
       "\n",
       "A data.frame: 6 × 10\n",
       "\n",
       "| <!--/--> | baseMean &lt;dbl&gt; | log2FoldChange &lt;dbl&gt; | lfcSE &lt;dbl&gt; | stat &lt;dbl&gt; | pvalue &lt;dbl&gt; | padj &lt;dbl&gt; | contrast &lt;chr&gt; | Direction &lt;chr&gt; | gene &lt;chr&gt; | celltype &lt;chr&gt; |\n",
       "|---|---|---|---|---|---|---|---|---|---|---|\n",
       "| 1 | 0.4041447 |  0.213540577 | 0.3423002 |  0.62384007 | 0.53273262 | 0.9995678 | cohort.cohortGuid | HigherInBR1 | AL669831.5 | ASDC |\n",
       "| 2 | 1.8930982 |  0.004231346 | 0.1970302 |  0.02147563 | 0.98286625 | 0.9995678 | cohort.cohortGuid | HigherInBR1 | NOC2L      | ASDC |\n",
       "| 3 | 1.2124276 | -0.208204059 | 0.3104029 | -0.67075425 | 0.50237710 | 0.9995678 | cohort.cohortGuid | HigherInBR2 | ISG15      | ASDC |\n",
       "| 4 | 2.4409849 |  0.160380580 | 0.1695837 |  0.94573132 | 0.34428565 | 0.9995678 | cohort.cohortGuid | HigherInBR1 | SDF4       | ASDC |\n",
       "| 5 | 0.8935068 | -0.031199783 | 0.2809857 | -0.11103689 | 0.91158709 | 0.9995678 | cohort.cohortGuid | HigherInBR2 | B3GALT6    | ASDC |\n",
       "| 6 | 2.3720525 |  0.316309879 | 0.1710183 |  1.84956791 | 0.06437585 | 0.9995678 | cohort.cohortGuid | HigherInBR1 | UBE2J2     | ASDC |\n",
       "\n"
      ],
      "text/plain": [
       "  baseMean  log2FoldChange lfcSE     stat        pvalue     padj     \n",
       "1 0.4041447  0.213540577   0.3423002  0.62384007 0.53273262 0.9995678\n",
       "2 1.8930982  0.004231346   0.1970302  0.02147563 0.98286625 0.9995678\n",
       "3 1.2124276 -0.208204059   0.3104029 -0.67075425 0.50237710 0.9995678\n",
       "4 2.4409849  0.160380580   0.1695837  0.94573132 0.34428565 0.9995678\n",
       "5 0.8935068 -0.031199783   0.2809857 -0.11103689 0.91158709 0.9995678\n",
       "6 2.3720525  0.316309879   0.1710183  1.84956791 0.06437585 0.9995678\n",
       "  contrast          Direction   gene       celltype\n",
       "1 cohort.cohortGuid HigherInBR1 AL669831.5 ASDC    \n",
       "2 cohort.cohortGuid HigherInBR1 NOC2L      ASDC    \n",
       "3 cohort.cohortGuid HigherInBR2 ISG15      ASDC    \n",
       "4 cohort.cohortGuid HigherInBR1 SDF4       ASDC    \n",
       "5 cohort.cohortGuid HigherInBR2 B3GALT6    ASDC    \n",
       "6 cohort.cohortGuid HigherInBR1 UBE2J2     ASDC    "
      ]
     },
     "metadata": {},
     "output_type": "display_data"
    }
   ],
   "source": [
    "head(res_all)"
   ]
  },
  {
   "cell_type": "code",
   "execution_count": 9,
   "id": "d1521d60-5802-426c-a247-a9bd32bf876a",
   "metadata": {},
   "outputs": [],
   "source": [
    "write.csv(res_all,\"Deseq2_Result_Y2020-2021_Y2021-2022_D7.csv\")"
   ]
  },
  {
   "cell_type": "code",
   "execution_count": null,
   "id": "652b95f7-8564-4e24-82f5-ecc947ac6891",
   "metadata": {},
   "outputs": [],
   "source": []
  }
 ],
 "metadata": {
  "kernelspec": {
   "display_name": "R 4",
   "language": "R",
   "name": "ir4"
  },
  "language_info": {
   "codemirror_mode": "r",
   "file_extension": ".r",
   "mimetype": "text/x-r-source",
   "name": "R",
   "pygments_lexer": "r",
   "version": "4.3.2"
  }
 },
 "nbformat": 4,
 "nbformat_minor": 5
}
