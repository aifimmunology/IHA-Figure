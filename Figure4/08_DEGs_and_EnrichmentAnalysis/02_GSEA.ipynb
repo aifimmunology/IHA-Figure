{
 "cells": [
  {
   "cell_type": "code",
   "execution_count": 1,
   "id": "2bcb2860-c088-4753-ad0b-d16d3a4ef9ae",
   "metadata": {},
   "outputs": [
    {
     "name": "stderr",
     "output_type": "stream",
     "text": [
      "\n",
      "Attaching package: ‘data.table’\n",
      "\n",
      "\n",
      "The following objects are masked from ‘package:dplyr’:\n",
      "\n",
      "    between, first, last\n",
      "\n",
      "\n"
     ]
    }
   ],
   "source": [
    "suppressPackageStartupMessages(library(dplyr))\n",
    "suppressPackageStartupMessages(library(tidyr))\n",
    "suppressPackageStartupMessages(library(tibble))\n",
    "suppressPackageStartupMessages(library(stringr))\n",
    "library(parallel)\n",
    "library(fgsea)\n",
    "library(data.table)\n",
    "source('/home//jupyter/BRI_Figures_Final_V2/helper_function/helper_function_IHA.r')"
   ]
  },
  {
   "cell_type": "code",
   "execution_count": 2,
   "id": "c5506087-186a-4d09-adc1-871a36768b0f",
   "metadata": {},
   "outputs": [],
   "source": [
    "df<-read.csv(\"Deseq2_Result_Y2020-2021_Y2021-2022_D7.csv\")"
   ]
  },
  {
   "cell_type": "code",
   "execution_count": 3,
   "id": "0e7a0b30-68b2-4e8b-80f8-00bc2b2cddf9",
   "metadata": {},
   "outputs": [],
   "source": [
    "keep_celltypes <- c(\"Activated memory B cell\", \n",
    "                    \"CD27+ effector B cell\", \n",
    "                    \"CD27- effector B cell\", \n",
    "                    \"CD95 memory B cell\",\n",
    "                    \"Core memory B cell\",\n",
    "                    \"Core naive B cell\", \n",
    "                    \"Early memory B cell\",\n",
    "                    \"ISG+ naive B cell\",\n",
    "                    \"Plasma cell\",\n",
    "                    \"Transitional B cell\", \n",
    "                    \"Type 2 polarized memory B cell\")\n",
    "\n",
    "df_filtered<-df%>% filter(celltype %in% keep_celltypes)"
   ]
  },
  {
   "cell_type": "code",
   "execution_count": null,
   "id": "052479d0-8621-4f8a-b586-89a8520bcaef",
   "metadata": {},
   "outputs": [],
   "source": []
  },
  {
   "cell_type": "code",
   "execution_count": 4,
   "id": "c0ceef68-2711-4846-b3b4-805dc84c1ab5",
   "metadata": {},
   "outputs": [],
   "source": [
    "df_filtered<-df_filtered %>%\n",
    "    dplyr::mutate(rank_metric = ifelse(is.na(padj), NA, -log10(pvalue) * sign(log2FoldChange)))%>%\n",
    "    filter(!is.na(rank_metric))\n",
    "\n"
   ]
  },
  {
   "cell_type": "code",
   "execution_count": 18,
   "id": "50af108e-62f2-4bd2-927c-59c41e33fa40",
   "metadata": {},
   "outputs": [
    {
     "name": "stdout",
     "output_type": "stream",
     "text": [
      "[1] \"Activated memory B cell\"\n",
      "[1] 1\n",
      "[1] \"CD27+ effector B cell\"\n",
      "[1] 1\n",
      "[1] \"CD27- effector B cell\"\n",
      "[1] 1\n",
      "[1] \"CD95 memory B cell\"\n",
      "[1] \"Core memory B cell\"\n",
      "[1] 1\n",
      "[1] \"Core naive B cell\"\n",
      "[1] 1\n",
      "[1] \"Early memory B cell\"\n",
      "[1] \"ISG+ naive B cell\"\n",
      "[1] \"Plasma cell\"\n",
      "[1] 1\n",
      "[1] \"Transitional B cell\"\n",
      "[1] 1\n",
      "[1] \"Type 2 polarized memory B cell\"\n"
     ]
    }
   ],
   "source": [
    "all_combined_dfs <- list()\n",
    "pathway_df <- list()\n",
    "all_combined_dfs_ALL<-list()\n",
    "# Loop over each dataframe in deseq2_results\n",
    "for (cell_type in unique(df_filtered$celltype)) {\n",
    "  print(cell_type)\n",
    "\n",
    "  x <- df_filtered %>% filter(celltype==cell_type)\n",
    "  rownames(x)<-x$gene\n",
    "\n",
    "  ranked_genes <- setNames(x$rank_metric, rownames(x))\n",
    "  \n",
    "  # Load pathway file\n",
    "  pathways <- gmtPathways(\"Hallmark_pathways.gmt\")\n",
    "\n",
    "\n",
    "  # Run GSEA\n",
    "  set.seed(42)\n",
    "  fgseaResults <- fgsea(pathways = pathways, stats = ranked_genes)\n",
    "  significantPathways <- fgseaResults[fgseaResults$padj < 0.05,]\n",
    "  ALLPathways <- fgseaResults\n",
    "  # Skip if no significant pathways\n",
    "  if (nrow(significantPathways) == 0) next\n",
    "  \n",
    "  df <- as.data.frame(significantPathways)\n",
    "  df <- setorder(df, -NES)\n",
    "  df <- as.data.frame(df)\n",
    "    print(1)\n",
    "  pathway_df[[cell_type]] <- df\n",
    "  \n",
    "  # Make a dataframe of the leading edge genes\n",
    "  pathway_names <- df$pathway\n",
    "  leadingEdges <- df$leadingEdge\n",
    "    \n",
    "  # Filter out leading edges with length less than 6\n",
    "  filteredIndices <- sapply(leadingEdges, function(le) length(unlist(le)) >= 6)\n",
    "  filteredPathwayNames <- pathway_names[filteredIndices]\n",
    "  filteredLeadingEdges <- leadingEdges[filteredIndices]\n",
    "                          \n",
    "  significantPathways$celltype<-    cell_type                      \n",
    "ALLPathways$celltype<-    cell_type      \n",
    "  \n",
    "  # Add the combinedDf to the list\n",
    "  all_combined_dfs[[cell_type]] <- significantPathways\n",
    "  all_combined_dfs_ALL[[cell_type]] <- ALLPathways                          \n",
    "}\n",
    "                        "
   ]
  },
  {
   "cell_type": "code",
   "execution_count": 9,
   "id": "89036924-190b-4b61-9b72-f4dca7aab024",
   "metadata": {},
   "outputs": [],
   "source": [
    "df<-do.call(rbind,all_combined_dfs)\n",
    "df$leadingEdge<-as.character(df$leadingEdge)\n",
    "write.csv(df,\"gsea_result.csv\")"
   ]
  },
  {
   "cell_type": "code",
   "execution_count": null,
   "id": "c7c0c1a7-ed9e-46b6-8bf6-f937b1e3b258",
   "metadata": {},
   "outputs": [],
   "source": [
    "df<-do.call(rbind,all_combined_dfs_ALL)\n",
    "df$leadingEdge<-as.character(df$leadingEdge)\n",
    "write.csv(df,\"gsea_result_all.csv\")"
   ]
  },
  {
   "cell_type": "code",
   "execution_count": null,
   "id": "7e393987-56ad-4abc-8b11-da994598c913",
   "metadata": {},
   "outputs": [],
   "source": []
  },
  {
   "cell_type": "code",
   "execution_count": null,
   "id": "72507cc8-c687-46f5-a60b-8aca449b0581",
   "metadata": {},
   "outputs": [],
   "source": []
  },
  {
   "cell_type": "code",
   "execution_count": null,
   "id": "f02d3143-da13-4544-a7bf-266ade2ea471",
   "metadata": {},
   "outputs": [],
   "source": []
  },
  {
   "cell_type": "code",
   "execution_count": 12,
   "id": "6c9cbf55-76e3-44f6-b183-9e1f7668c4b7",
   "metadata": {},
   "outputs": [],
   "source": [
    "df_filtered_cd27neg_effector_B<-df_filtered%>% filter(celltype==\"CD27- effector B cell\")"
   ]
  },
  {
   "cell_type": "code",
   "execution_count": 13,
   "id": "449f7ca7-192a-4df4-86db-953a4c5e1a4c",
   "metadata": {},
   "outputs": [],
   "source": [
    "write.csv(df_filtered_cd27neg_effector_B,\"df_filtered_cd27neg_effector_B.csv\")"
   ]
  },
  {
   "cell_type": "code",
   "execution_count": null,
   "id": "2ffd7c83-a5bc-4fdd-bfbd-470a541a077f",
   "metadata": {},
   "outputs": [],
   "source": []
  }
 ],
 "metadata": {
  "kernelspec": {
   "display_name": "R 4",
   "language": "R",
   "name": "ir4"
  },
  "language_info": {
   "codemirror_mode": "r",
   "file_extension": ".r",
   "mimetype": "text/x-r-source",
   "name": "R",
   "pygments_lexer": "r",
   "version": "4.3.2"
  }
 },
 "nbformat": 4,
 "nbformat_minor": 5
}
