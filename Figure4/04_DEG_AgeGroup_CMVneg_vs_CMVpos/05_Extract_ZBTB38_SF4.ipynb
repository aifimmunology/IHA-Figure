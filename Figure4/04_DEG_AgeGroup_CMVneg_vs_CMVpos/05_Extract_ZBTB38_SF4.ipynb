{
 "cells": [
  {
   "cell_type": "code",
   "execution_count": 3,
   "id": "729e0963-01df-4903-aaf2-77138058d137",
   "metadata": {},
   "outputs": [],
   "source": [
    "suppressPackageStartupMessages(library(dplyr))\n",
    "suppressPackageStartupMessages(library(tidyr))\n",
    "suppressPackageStartupMessages(library(tibble))\n",
    "suppressPackageStartupMessages(library(ggplot2))\n",
    "suppressPackageStartupMessages(library(stringr))\n",
    "library(parallel)\n",
    "library(pheatmap)\n",
    "library(ggsci)\n",
    "library(RColorBrewer)\n",
    "library(viridis)\n",
    "library(reshape2)\n",
    "library(ggpubr)\n",
    "library(tidyverse)\n",
    "\n",
    "source('/home/jupyter/BRI_Figures_Final_V1/helper_function/helper_function_IHA.r')"
   ]
  },
  {
   "cell_type": "code",
   "execution_count": 4,
   "id": "60fed4b4-5727-4902-80f4-04a9798deb1b",
   "metadata": {},
   "outputs": [],
   "source": [
    "meta_data=read.csv(\"/home/jupyter/BRI_Figures_Final_V1/Dataset/SF4_meta_data-2024-05-05.csv\")\n",
    "meta_data$ageAtEnrollment[meta_data$ageAtEnrollment == '89+'] <- '90'\n",
    "meta_data$ageAtEnrollment<-as.numeric(meta_data$ageAtEnrollment)\n",
    "meta_data<-meta_data[!is.na(meta_data$ageAtEnrollment),]\n",
    "meta_data$Ages<-meta_data$ageAtEnrollment\n",
    "meta_data <- meta_data[!duplicated(meta_data$sample.sampleKitGuid, fromLast = TRUE), ]"
   ]
  },
  {
   "cell_type": "code",
   "execution_count": 5,
   "id": "b5d23589-9d48-4119-8ffa-c7db6aee9940",
   "metadata": {},
   "outputs": [],
   "source": [
    "file_list<-paste0(\"/home/jupyter/BRI_Figures/Dataset/scRNA/SF4/Average_LogNormalized_Expression/Average_LogNormalized_Expression_of_Celltypes_by_Sample_AIFI_L3/\", meta_data$pbmc_sample_id, \".csv\")"
   ]
  },
  {
   "cell_type": "code",
   "execution_count": 6,
   "id": "0a0b23b1-8e39-4921-9f39-eba30c09a5c5",
   "metadata": {},
   "outputs": [
    {
     "name": "stdout",
     "output_type": "stream",
     "text": [
      "[1] \"Total reading time: 10.425 seconds\"\n",
      "[1] \"The length of the list matches the length of the input path.\"\n"
     ]
    }
   ],
   "source": [
    "df_list<-read_pseudobulk_expression(file_list, mc_cores = 60)"
   ]
  },
  {
   "cell_type": "code",
   "execution_count": 7,
   "id": "156e2ae3-7797-4d39-99ce-e845c061bac7",
   "metadata": {},
   "outputs": [],
   "source": [
    "selected_genes <-c('ZBTB38')\n",
    "#selected_genes<-c('KLRC1', 'JAK1', 'MXRA7', 'RAP2A', 'KMT2A' )"
   ]
  },
  {
   "cell_type": "code",
   "execution_count": 8,
   "id": "ee2fc97d-80d0-4b29-a8d1-48736ba02e50",
   "metadata": {},
   "outputs": [
    {
     "name": "stderr",
     "output_type": "stream",
     "text": [
      "Warning message in FUN(X[[i]], ...):\n",
      "“Cell type Adaptive not found in the dataframe.”\n",
      "Warning message in FUN(X[[i]], ...):\n",
      "“Cell type Adaptive not found in the dataframe.”\n"
     ]
    }
   ],
   "source": [
    "#df<-filter_genes_and_celltype(df_list, selected_genes, c('KLRF1- GZMB+ CD27- EM CD8'), longformat = TRUE)\n",
    "df<-filter_genes_and_celltype(df_list, selected_genes, c('Adaptive'), longformat = TRUE)\n"
   ]
  },
  {
   "cell_type": "code",
   "execution_count": 9,
   "id": "31facfc4-a260-4c01-b833-7cb676b586c3",
   "metadata": {},
   "outputs": [
    {
     "name": "stderr",
     "output_type": "stream",
     "text": [
      "\u001b[1m\u001b[22mJoining with `by = join_by(pbmc_sample_id)`\n"
     ]
    }
   ],
   "source": [
    "df<-left_join(df,meta_data)"
   ]
  },
  {
   "cell_type": "code",
   "execution_count": 10,
   "id": "ffef079f-7dbc-4690-aff4-bb02f18fbab6",
   "metadata": {},
   "outputs": [],
   "source": [
    "df$CMV<-df$lab.revisionHistory.dataHistory.CMV.Ab.Screen.Result..CMVRES..newValue\n"
   ]
  },
  {
   "cell_type": "code",
   "execution_count": 11,
   "id": "ed455e08-252f-4737-9e11-47f543d46eb1",
   "metadata": {},
   "outputs": [],
   "source": [
    "write.csv(df,'ZBTB38_Adaptive_NK_SF4.csv')"
   ]
  },
  {
   "cell_type": "code",
   "execution_count": null,
   "id": "0ec57a59-1204-4097-930f-2b8af2868051",
   "metadata": {},
   "outputs": [],
   "source": []
  }
 ],
 "metadata": {
  "kernelspec": {
   "display_name": "R 4",
   "language": "R",
   "name": "ir4"
  },
  "language_info": {
   "codemirror_mode": "r",
   "file_extension": ".r",
   "mimetype": "text/x-r-source",
   "name": "R",
   "pygments_lexer": "r",
   "version": "4.3.2"
  }
 },
 "nbformat": 4,
 "nbformat_minor": 5
}
