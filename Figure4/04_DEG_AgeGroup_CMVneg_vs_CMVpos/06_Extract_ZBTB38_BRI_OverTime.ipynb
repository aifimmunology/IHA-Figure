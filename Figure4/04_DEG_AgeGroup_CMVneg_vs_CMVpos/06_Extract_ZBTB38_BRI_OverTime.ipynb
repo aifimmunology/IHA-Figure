{
 "cells": [
  {
   "cell_type": "code",
   "execution_count": 1,
   "id": "e5744b50-c586-47e9-a725-76d1604694bd",
   "metadata": {},
   "outputs": [
    {
     "name": "stderr",
     "output_type": "stream",
     "text": [
      "Loading required package: viridisLite\n",
      "\n",
      "\n",
      "Attaching package: ‘reshape2’\n",
      "\n",
      "\n",
      "The following object is masked from ‘package:tidyr’:\n",
      "\n",
      "    smiths\n",
      "\n",
      "\n",
      "── \u001b[1mAttaching core tidyverse packages\u001b[22m ──────────────────────── tidyverse 2.0.0 ──\n",
      "\u001b[32m✔\u001b[39m \u001b[34mforcats  \u001b[39m 1.0.0     \u001b[32m✔\u001b[39m \u001b[34mpurrr    \u001b[39m 1.0.2\n",
      "\u001b[32m✔\u001b[39m \u001b[34mlubridate\u001b[39m 1.9.3     \u001b[32m✔\u001b[39m \u001b[34mreadr    \u001b[39m 2.1.4\n",
      "── \u001b[1mConflicts\u001b[22m ────────────────────────────────────────── tidyverse_conflicts() ──\n",
      "\u001b[31m✖\u001b[39m \u001b[34mdplyr\u001b[39m::\u001b[32mfilter()\u001b[39m masks \u001b[34mstats\u001b[39m::filter()\n",
      "\u001b[31m✖\u001b[39m \u001b[34mdplyr\u001b[39m::\u001b[32mlag()\u001b[39m    masks \u001b[34mstats\u001b[39m::lag()\n",
      "\u001b[36mℹ\u001b[39m Use the conflicted package (\u001b[3m\u001b[34m<http://conflicted.r-lib.org/>\u001b[39m\u001b[23m) to force all conflicts to become errors\n"
     ]
    }
   ],
   "source": [
    "suppressPackageStartupMessages(library(dplyr))\n",
    "suppressPackageStartupMessages(library(tidyr))\n",
    "suppressPackageStartupMessages(library(tibble))\n",
    "suppressPackageStartupMessages(library(ggplot2))\n",
    "suppressPackageStartupMessages(library(stringr))\n",
    "library(parallel)\n",
    "library(pheatmap)\n",
    "library(ggsci)\n",
    "library(RColorBrewer)\n",
    "library(viridis)\n",
    "library(reshape2)\n",
    "library(ggpubr)\n",
    "library(tidyverse)\n",
    "\n",
    "source('/home/jupyter/BRI_Figures_Final_V1/helper_function/helper_function_IHA.r')"
   ]
  },
  {
   "cell_type": "markdown",
   "id": "6b5eb973-003d-422c-9548-8c13e1db11c6",
   "metadata": {},
   "source": [
    "# BRI"
   ]
  },
  {
   "cell_type": "code",
   "execution_count": 2,
   "id": "8f31a014-3881-4b19-a607-bde738eff895",
   "metadata": {},
   "outputs": [],
   "source": [
    "meta_data=read.csv(\"/home/jupyter/BRI_Figures_Final_V1/Dataset/scRNA_meta_data-2024-05-09.csv\")\n",
    "meta_data_subset<-meta_data  %>% filter (!sample.visitName%in% c('Flu Year 1 Day 7',\n",
    "                                                              'Flu Year 2 Day 7'))%>% \n",
    "filter(Covid_exclusion=='no',sample.daysSinceFirstVisit<600)"
   ]
  },
  {
   "cell_type": "code",
   "execution_count": 4,
   "id": "26959304-12f4-4332-82be-4c5c35ef6178",
   "metadata": {},
   "outputs": [],
   "source": [
    "aggregated_count_file_list<-paste0(\"/home/jupyter/BRI_Figures_Final_V1/Dataset/scRNA/BRI/Average_LogNormalized_Expression/Average_LogNormalized_Expression_of_Celltypes_by_Sample_AIFI_L3/\",meta_data_subset$pbmc_sample_id,\".csv\")\n",
    "df_list<-mclapply(aggregated_count_file_list,function(x){\n",
    "df<-read.csv(x,check.names = FALSE, row.names = 1)\n",
    "colnames(df)<-paste0(gsub(\"^.*/(.*)\\\\.csv$\", \"\\\\1\", x),\":\",colnames(df))\n",
    "return (df)    \n",
    "},mc.cores=60)"
   ]
  },
  {
   "cell_type": "code",
   "execution_count": 5,
   "id": "1dd7bc21-7366-45ea-b6f7-c2545c9cbc8a",
   "metadata": {},
   "outputs": [],
   "source": [
    "#selected_genes<-c(\"CXCR5\",'TIGIT','PDCD1','LGALS3','CCR4',\"SLAMF1\",\"GATA3\",\"KLRB1\", \"ITGA4\", \"TOX\", \"CD84\",\"CCR8\", \"IL4R\", \"NOTCH1\")#TH2 activity\n",
    "selected_genes<-c(\"ZBTB38\")\n"
   ]
  },
  {
   "cell_type": "code",
   "execution_count": 6,
   "id": "3a903e57-962d-49e7-802d-a4c95923a863",
   "metadata": {},
   "outputs": [
    {
     "name": "stderr",
     "output_type": "stream",
     "text": [
      "Warning message in FUN(X[[i]], ...):\n",
      "“Cell type Adaptive NK cell not found in the dataframe.”\n"
     ]
    }
   ],
   "source": [
    "df<-filter_genes_and_celltype(df_list, selected_genes, c('Adaptive NK cell'), longformat = TRUE)\n"
   ]
  },
  {
   "cell_type": "code",
   "execution_count": 7,
   "id": "83539be5-9316-4623-a0e6-1d3838caf95b",
   "metadata": {},
   "outputs": [
    {
     "name": "stderr",
     "output_type": "stream",
     "text": [
      "\u001b[1m\u001b[22mJoining with `by = join_by(pbmc_sample_id)`\n"
     ]
    }
   ],
   "source": [
    "df<-left_join(df,meta_data_subset)"
   ]
  },
  {
   "cell_type": "code",
   "execution_count": 8,
   "id": "a4e3faae-ef89-4d2a-bdfb-7fc200fd551b",
   "metadata": {},
   "outputs": [],
   "source": [
    "df<-df %>% \n",
    "mutate(AgeGroup=case_when(cohort.cohortGuid==\"BR1\"~\"Young\", TRUE~'Older'))"
   ]
  },
  {
   "cell_type": "code",
   "execution_count": 9,
   "id": "297a630e-f76a-438c-81c9-3f3618d349d3",
   "metadata": {},
   "outputs": [],
   "source": [
    "write.csv(df,'ZBTB38_Addaptive_NK_BRI_OverTime.csv')"
   ]
  },
  {
   "cell_type": "code",
   "execution_count": null,
   "id": "31e963c6-1782-422f-9eb6-fbd4402ec24b",
   "metadata": {},
   "outputs": [],
   "source": []
  }
 ],
 "metadata": {
  "kernelspec": {
   "display_name": "R 4",
   "language": "R",
   "name": "ir4"
  },
  "language_info": {
   "codemirror_mode": "r",
   "file_extension": ".r",
   "mimetype": "text/x-r-source",
   "name": "R",
   "pygments_lexer": "r",
   "version": "4.3.2"
  }
 },
 "nbformat": 4,
 "nbformat_minor": 5
}
