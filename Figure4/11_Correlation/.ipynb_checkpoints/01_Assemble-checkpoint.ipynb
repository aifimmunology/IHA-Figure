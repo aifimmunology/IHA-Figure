{
 "cells": [
  {
   "cell_type": "code",
   "execution_count": 1,
   "id": "6e80fede-4440-4bf5-a73e-4e3c0e1a9a2f",
   "metadata": {},
   "outputs": [
    {
     "name": "stderr",
     "output_type": "stream",
     "text": [
      "Warning message:\n",
      "“package ‘ggplot2’ was built under R version 4.4.3”\n",
      "\n",
      "Attaching package: ‘dplyr’\n",
      "\n",
      "\n",
      "The following objects are masked from ‘package:stats’:\n",
      "\n",
      "    filter, lag\n",
      "\n",
      "\n",
      "The following objects are masked from ‘package:base’:\n",
      "\n",
      "    intersect, setdiff, setequal, union\n",
      "\n",
      "\n",
      "corrplot 0.95 loaded\n",
      "\n"
     ]
    }
   ],
   "source": [
    "library(ggplot2)\n",
    "library(stats)\n",
    "library(parallel)\n",
    "library(dplyr)\n",
    "library(linkET)\n",
    "library(tidyr)\n",
    "library(corrplot)"
   ]
  },
  {
   "cell_type": "code",
   "execution_count": 2,
   "id": "c7011238-68ea-4f50-9299-a0c579b0a271",
   "metadata": {},
   "outputs": [],
   "source": [
    "meta_data<-read.csv(\"/home/workspace/IHA_Figure_Revision/Figure4/00_Flu_Year_Specific_Meta_Data/meta_data.csv\")\n"
   ]
  },
  {
   "cell_type": "markdown",
   "id": "c87786b9-17e1-4bef-a8f9-3c19977e267b",
   "metadata": {},
   "source": [
    "# Response Score"
   ]
  },
  {
   "cell_type": "code",
   "execution_count": 3,
   "id": "d587646c-5090-495e-957f-142a4e10b6ca",
   "metadata": {},
   "outputs": [],
   "source": [
    "df_response_phuket<-read.csv(\"/home//workspace//IHA_Figure_Revision//Figure4//03_Reponse_Grouping_HAI_MSD//lm_res.csv\")"
   ]
  },
  {
   "cell_type": "code",
   "execution_count": 4,
   "id": "ec73ef97-13bb-41d8-b09b-99d8187009b8",
   "metadata": {},
   "outputs": [],
   "source": [
    "df_response_phuket<-df_response_phuket %>% filter(Flu_Year==\"2020-2021\",Assay==\"Flu B/Phuket HA\")"
   ]
  },
  {
   "cell_type": "markdown",
   "id": "efde142e-a6b0-4aef-a536-fd6d1396fb53",
   "metadata": {},
   "source": [
    "# Total IgG"
   ]
  },
  {
   "cell_type": "code",
   "execution_count": 5,
   "id": "44a76b35-8a37-4770-abbb-12062032b2d7",
   "metadata": {},
   "outputs": [],
   "source": [
    "df_Total_IgG_MSD<-read.csv(\"/home//workspace//IHA_Figure_Revision//Figure4/02_Total_IgG_MSD_Assay/MSD_All.csv\")\n",
    "df_Total_IgG_MSD<-df_Total_IgG_MSD %>% filter(Assay==\"Flu B/Phuket HA\",Flu_Year==\"2020-2021\")%>%\n",
    "    ungroup() %>%\n",
    "    group_by(subjectGuid, Flu_Year, Assay) %>%\n",
    "    mutate(entry_count = n()) %>%\n",
    "    filter(entry_count == 3) %>%\n",
    "    ungroup()"
   ]
  },
  {
   "cell_type": "code",
   "execution_count": 6,
   "id": "bcfbaa80-3227-485d-8c7f-6e3a86ae34b4",
   "metadata": {},
   "outputs": [],
   "source": [
    "df_Total_IgG_MSD_Day7<-df_Total_IgG_MSD %>% filter(Flu_Day==\"Day_7\")\n",
    "df_Total_IgG_MSD_Day0<-df_Total_IgG_MSD %>% filter(Flu_Day==\"Day_0\")"
   ]
  },
  {
   "cell_type": "markdown",
   "id": "b9878050-e918-4a66-8ae3-e0919b451a7b",
   "metadata": {},
   "source": [
    "# Isotype IgG2/3 Ratio"
   ]
  },
  {
   "cell_type": "code",
   "execution_count": 7,
   "id": "fd177353-3545-4ac3-ba10-49b368fc0c7e",
   "metadata": {},
   "outputs": [],
   "source": [
    "df_Isotype<-read.csv(\"/home//workspace/IHA_Figure_Revision/Figure4/10_Isotype_MSD/Isotype_MSD_Processed.csv\")"
   ]
  },
  {
   "cell_type": "code",
   "execution_count": 8,
   "id": "b9020815-3bb1-42b8-aebd-63eb59521b95",
   "metadata": {},
   "outputs": [],
   "source": [
    "df_Isotype<-df_Isotype  %>% filter(Isotype %in% c(\"IgG2\",\"IgG3\")) %>%\n",
    "    dplyr::group_by(Assay, Flu_Day, subjectGuid) %>%\n",
    "    mutate(count = n()) %>%\n",
    "    filter(count == 2)%>% ungroup() %>% as.data.frame()"
   ]
  },
  {
   "cell_type": "code",
   "execution_count": 9,
   "id": "f624e533-3578-476c-9086-c8f61c9dbc6e",
   "metadata": {},
   "outputs": [
    {
     "data": {
      "text/html": [
       "<style>\n",
       ".list-inline {list-style: none; margin:0; padding: 0}\n",
       ".list-inline>li {display: inline-block}\n",
       ".list-inline>li:not(:last-child)::after {content: \"\\00b7\"; padding: 0 .5ex}\n",
       "</style>\n",
       "<ol class=list-inline><li>'X'</li><li>'Sample'</li><li>'Assay'</li><li>'sample.sampleKitGuid'</li><li>'Isotype_Signal'</li><li>'log.10.Calc..Conc..Mean'</li><li>'Calc.Conc.Mean.Isotype'</li><li>'Isotype'</li><li>'Mean'</li><li>'Calc..Conc..Mean'</li><li>'subject.biologicalSex'</li><li>'cohort.cohortGuid'</li><li>'subjectGuid'</li><li>'CMV'</li><li>'Flu_Year'</li><li>'Flu_Day'</li><li>'Visit_Type'</li><li>'Year_N'</li><li>'Visit_Flu_Year'</li><li>'Total_Singal'</li><li>'count'</li></ol>\n"
      ],
      "text/latex": [
       "\\begin{enumerate*}\n",
       "\\item 'X'\n",
       "\\item 'Sample'\n",
       "\\item 'Assay'\n",
       "\\item 'sample.sampleKitGuid'\n",
       "\\item 'Isotype\\_Signal'\n",
       "\\item 'log.10.Calc..Conc..Mean'\n",
       "\\item 'Calc.Conc.Mean.Isotype'\n",
       "\\item 'Isotype'\n",
       "\\item 'Mean'\n",
       "\\item 'Calc..Conc..Mean'\n",
       "\\item 'subject.biologicalSex'\n",
       "\\item 'cohort.cohortGuid'\n",
       "\\item 'subjectGuid'\n",
       "\\item 'CMV'\n",
       "\\item 'Flu\\_Year'\n",
       "\\item 'Flu\\_Day'\n",
       "\\item 'Visit\\_Type'\n",
       "\\item 'Year\\_N'\n",
       "\\item 'Visit\\_Flu\\_Year'\n",
       "\\item 'Total\\_Singal'\n",
       "\\item 'count'\n",
       "\\end{enumerate*}\n"
      ],
      "text/markdown": [
       "1. 'X'\n",
       "2. 'Sample'\n",
       "3. 'Assay'\n",
       "4. 'sample.sampleKitGuid'\n",
       "5. 'Isotype_Signal'\n",
       "6. 'log.10.Calc..Conc..Mean'\n",
       "7. 'Calc.Conc.Mean.Isotype'\n",
       "8. 'Isotype'\n",
       "9. 'Mean'\n",
       "10. 'Calc..Conc..Mean'\n",
       "11. 'subject.biologicalSex'\n",
       "12. 'cohort.cohortGuid'\n",
       "13. 'subjectGuid'\n",
       "14. 'CMV'\n",
       "15. 'Flu_Year'\n",
       "16. 'Flu_Day'\n",
       "17. 'Visit_Type'\n",
       "18. 'Year_N'\n",
       "19. 'Visit_Flu_Year'\n",
       "20. 'Total_Singal'\n",
       "21. 'count'\n",
       "\n",
       "\n"
      ],
      "text/plain": [
       " [1] \"X\"                       \"Sample\"                 \n",
       " [3] \"Assay\"                   \"sample.sampleKitGuid\"   \n",
       " [5] \"Isotype_Signal\"          \"log.10.Calc..Conc..Mean\"\n",
       " [7] \"Calc.Conc.Mean.Isotype\"  \"Isotype\"                \n",
       " [9] \"Mean\"                    \"Calc..Conc..Mean\"       \n",
       "[11] \"subject.biologicalSex\"   \"cohort.cohortGuid\"      \n",
       "[13] \"subjectGuid\"             \"CMV\"                    \n",
       "[15] \"Flu_Year\"                \"Flu_Day\"                \n",
       "[17] \"Visit_Type\"              \"Year_N\"                 \n",
       "[19] \"Visit_Flu_Year\"          \"Total_Singal\"           \n",
       "[21] \"count\"                  "
      ]
     },
     "metadata": {},
     "output_type": "display_data"
    }
   ],
   "source": [
    "colnames(df_Isotype)"
   ]
  },
  {
   "cell_type": "code",
   "execution_count": 10,
   "id": "988c3bbb-cf0a-4b1e-a732-d978781692c3",
   "metadata": {},
   "outputs": [],
   "source": [
    "Ratio<-df_Isotype %>%\n",
    "dplyr::group_by(subjectGuid,Flu_Day,Assay) %>% \n",
    "dplyr::arrange(Isotype) %>%\n",
    "dplyr::mutate(IgG2_IgG3_Ratio= first(Calc.Conc.Mean.Isotype)/Calc.Conc.Mean.Isotype )%>%\n",
    "dplyr::filter(Isotype==\"IgG3\",Assay==\"Flu B/Phuket HA\",Flu_Year==\"2020-2021\") %>% ungroup()"
   ]
  },
  {
   "cell_type": "markdown",
   "id": "b9e37cc8-9ef1-4c9a-ae70-a3f1fb549555",
   "metadata": {},
   "source": [
    "# Age Score"
   ]
  },
  {
   "cell_type": "code",
   "execution_count": 11,
   "id": "18229a83-c986-481a-b24e-1809992ec155",
   "metadata": {},
   "outputs": [],
   "source": [
    "BRI_CompositeScore_Up<-read.csv(\"/home//workspace/IHA_Figure_Revision/Figure1//04_CompositeScore/BRI_CompositeScore_Up.csv\")\n",
    "BRI_CompositeScore_Up<-BRI_CompositeScore_Up %>% select(pbmc_sample_id,composite_score_sum_scaled_mean,celltype)\n",
    "colnames(BRI_CompositeScore_Up)[2]<-\"BRI_CompositeScore_Up\"\n",
    "BRI_CompositeScore_Up <- pivot_wider(BRI_CompositeScore_Up, names_from =celltype, values_from = BRI_CompositeScore_Up)\n",
    "colnames(BRI_CompositeScore_Up)[2:9]<-paste0(\"CompositeScore_Up_\",colnames(BRI_CompositeScore_Up)[2:9])\n"
   ]
  },
  {
   "cell_type": "code",
   "execution_count": 12,
   "id": "4646caab-512a-4cf0-884e-8907b10316f6",
   "metadata": {},
   "outputs": [],
   "source": [
    "BRI_CompositeScore_Up$sample.sampleKitGuid<-paste0(\"KT\",substr(BRI_CompositeScore_Up$pbmc_sample_id,3,7))"
   ]
  },
  {
   "cell_type": "code",
   "execution_count": 13,
   "id": "c6c6e053-e2b6-4b18-a8d1-d77e1510b431",
   "metadata": {},
   "outputs": [],
   "source": [
    "meta_data_subset<-meta_data %>% filter(sample.visitName\t==\"Flu Year 1 Day 0\") #filter(Flu_Day==\"Day_0\",Flu_Year==\"2020-2021\",Visit_Type==\"FluYear\") "
   ]
  },
  {
   "cell_type": "code",
   "execution_count": 14,
   "id": "cb745a22-7edb-4937-b39d-58c4d61d5f46",
   "metadata": {},
   "outputs": [],
   "source": [
    "BRI_CompositeScore_Up<-BRI_CompositeScore_Up %>% filter(sample.sampleKitGuid %in%meta_data_subset$sample.sampleKitGuid )"
   ]
  },
  {
   "cell_type": "code",
   "execution_count": 15,
   "id": "973fb041-0835-4102-bc8f-702986c50b01",
   "metadata": {},
   "outputs": [
    {
     "data": {
      "text/html": [
       "<style>\n",
       ".list-inline {list-style: none; margin:0; padding: 0}\n",
       ".list-inline>li {display: inline-block}\n",
       ".list-inline>li:not(:last-child)::after {content: \"\\00b7\"; padding: 0 .5ex}\n",
       "</style>\n",
       "<ol class=list-inline><li>'X.1'</li><li>'X'</li><li>'Unnamed..0'</li><li>'lastUpdated'</li><li>'sample.id'</li><li>'sample.bridgingControl'</li><li>'sample.sampleKitGuid'</li><li>'sample.visitName'</li><li>'sample.visitDetails'</li><li>'sample.drawDate'</li><li>'sample.daysSinceFirstVisit'</li><li>'file.id'</li><li>'file.name'</li><li>'file.batchID'</li><li>'file.panel'</li><li>'file.pool'</li><li>'file.fileType'</li><li>'file.majorVersion'</li><li>'subject.id'</li><li>'subject.biologicalSex'</li><li>'subject.birthYear'</li><li>'subject.ethnicity'</li><li>'subject.partnerCode'</li><li>'subject.race'</li><li>'subject.subjectGuid'</li><li>'cohort.cohortGuid'</li><li>'sample.diseaseStatesRecordedAtVisit'</li><li>'pbmc_sample_id'</li><li>'subject.covidVaxDose1.daysSinceFirstVisit'</li><li>'subject.covidVaxDose2.daysSinceFirstVisit'</li><li>'Covid_exclusion'</li><li>'subjectGuid'</li><li>'CMV'</li><li>'Flu_Year'</li><li>'Flu_Day'</li><li>'Visit_Type'</li><li>'Year_N'</li><li>'Visit_Flu_Year'</li></ol>\n"
      ],
      "text/latex": [
       "\\begin{enumerate*}\n",
       "\\item 'X.1'\n",
       "\\item 'X'\n",
       "\\item 'Unnamed..0'\n",
       "\\item 'lastUpdated'\n",
       "\\item 'sample.id'\n",
       "\\item 'sample.bridgingControl'\n",
       "\\item 'sample.sampleKitGuid'\n",
       "\\item 'sample.visitName'\n",
       "\\item 'sample.visitDetails'\n",
       "\\item 'sample.drawDate'\n",
       "\\item 'sample.daysSinceFirstVisit'\n",
       "\\item 'file.id'\n",
       "\\item 'file.name'\n",
       "\\item 'file.batchID'\n",
       "\\item 'file.panel'\n",
       "\\item 'file.pool'\n",
       "\\item 'file.fileType'\n",
       "\\item 'file.majorVersion'\n",
       "\\item 'subject.id'\n",
       "\\item 'subject.biologicalSex'\n",
       "\\item 'subject.birthYear'\n",
       "\\item 'subject.ethnicity'\n",
       "\\item 'subject.partnerCode'\n",
       "\\item 'subject.race'\n",
       "\\item 'subject.subjectGuid'\n",
       "\\item 'cohort.cohortGuid'\n",
       "\\item 'sample.diseaseStatesRecordedAtVisit'\n",
       "\\item 'pbmc\\_sample\\_id'\n",
       "\\item 'subject.covidVaxDose1.daysSinceFirstVisit'\n",
       "\\item 'subject.covidVaxDose2.daysSinceFirstVisit'\n",
       "\\item 'Covid\\_exclusion'\n",
       "\\item 'subjectGuid'\n",
       "\\item 'CMV'\n",
       "\\item 'Flu\\_Year'\n",
       "\\item 'Flu\\_Day'\n",
       "\\item 'Visit\\_Type'\n",
       "\\item 'Year\\_N'\n",
       "\\item 'Visit\\_Flu\\_Year'\n",
       "\\end{enumerate*}\n"
      ],
      "text/markdown": [
       "1. 'X.1'\n",
       "2. 'X'\n",
       "3. 'Unnamed..0'\n",
       "4. 'lastUpdated'\n",
       "5. 'sample.id'\n",
       "6. 'sample.bridgingControl'\n",
       "7. 'sample.sampleKitGuid'\n",
       "8. 'sample.visitName'\n",
       "9. 'sample.visitDetails'\n",
       "10. 'sample.drawDate'\n",
       "11. 'sample.daysSinceFirstVisit'\n",
       "12. 'file.id'\n",
       "13. 'file.name'\n",
       "14. 'file.batchID'\n",
       "15. 'file.panel'\n",
       "16. 'file.pool'\n",
       "17. 'file.fileType'\n",
       "18. 'file.majorVersion'\n",
       "19. 'subject.id'\n",
       "20. 'subject.biologicalSex'\n",
       "21. 'subject.birthYear'\n",
       "22. 'subject.ethnicity'\n",
       "23. 'subject.partnerCode'\n",
       "24. 'subject.race'\n",
       "25. 'subject.subjectGuid'\n",
       "26. 'cohort.cohortGuid'\n",
       "27. 'sample.diseaseStatesRecordedAtVisit'\n",
       "28. 'pbmc_sample_id'\n",
       "29. 'subject.covidVaxDose1.daysSinceFirstVisit'\n",
       "30. 'subject.covidVaxDose2.daysSinceFirstVisit'\n",
       "31. 'Covid_exclusion'\n",
       "32. 'subjectGuid'\n",
       "33. 'CMV'\n",
       "34. 'Flu_Year'\n",
       "35. 'Flu_Day'\n",
       "36. 'Visit_Type'\n",
       "37. 'Year_N'\n",
       "38. 'Visit_Flu_Year'\n",
       "\n",
       "\n"
      ],
      "text/plain": [
       " [1] \"X.1\"                                      \n",
       " [2] \"X\"                                        \n",
       " [3] \"Unnamed..0\"                               \n",
       " [4] \"lastUpdated\"                              \n",
       " [5] \"sample.id\"                                \n",
       " [6] \"sample.bridgingControl\"                   \n",
       " [7] \"sample.sampleKitGuid\"                     \n",
       " [8] \"sample.visitName\"                         \n",
       " [9] \"sample.visitDetails\"                      \n",
       "[10] \"sample.drawDate\"                          \n",
       "[11] \"sample.daysSinceFirstVisit\"               \n",
       "[12] \"file.id\"                                  \n",
       "[13] \"file.name\"                                \n",
       "[14] \"file.batchID\"                             \n",
       "[15] \"file.panel\"                               \n",
       "[16] \"file.pool\"                                \n",
       "[17] \"file.fileType\"                            \n",
       "[18] \"file.majorVersion\"                        \n",
       "[19] \"subject.id\"                               \n",
       "[20] \"subject.biologicalSex\"                    \n",
       "[21] \"subject.birthYear\"                        \n",
       "[22] \"subject.ethnicity\"                        \n",
       "[23] \"subject.partnerCode\"                      \n",
       "[24] \"subject.race\"                             \n",
       "[25] \"subject.subjectGuid\"                      \n",
       "[26] \"cohort.cohortGuid\"                        \n",
       "[27] \"sample.diseaseStatesRecordedAtVisit\"      \n",
       "[28] \"pbmc_sample_id\"                           \n",
       "[29] \"subject.covidVaxDose1.daysSinceFirstVisit\"\n",
       "[30] \"subject.covidVaxDose2.daysSinceFirstVisit\"\n",
       "[31] \"Covid_exclusion\"                          \n",
       "[32] \"subjectGuid\"                              \n",
       "[33] \"CMV\"                                      \n",
       "[34] \"Flu_Year\"                                 \n",
       "[35] \"Flu_Day\"                                  \n",
       "[36] \"Visit_Type\"                               \n",
       "[37] \"Year_N\"                                   \n",
       "[38] \"Visit_Flu_Year\"                           "
      ]
     },
     "metadata": {},
     "output_type": "display_data"
    }
   ],
   "source": [
    "colnames(meta_data_subset)"
   ]
  },
  {
   "cell_type": "code",
   "execution_count": 16,
   "id": "981bd9ba-be34-454b-8b2a-8209dbb81be3",
   "metadata": {},
   "outputs": [
    {
     "name": "stderr",
     "output_type": "stream",
     "text": [
      "\u001b[1m\u001b[22mJoining with `by = join_by(sample.sampleKitGuid)`\n"
     ]
    }
   ],
   "source": [
    "BRI_CompositeScore_Up<-left_join(BRI_CompositeScore_Up, meta_data %>% select(sample.sampleKitGuid,subjectGuid))"
   ]
  },
  {
   "cell_type": "markdown",
   "id": "ff871b31-4aa0-43b5-9974-832df321c816",
   "metadata": {},
   "source": [
    "# IgG2 Ratio "
   ]
  },
  {
   "cell_type": "code",
   "execution_count": 17,
   "id": "ebad9892-982d-4b8f-9c41-e03cbc1336d6",
   "metadata": {},
   "outputs": [],
   "source": [
    "df_IgG2_ratio<-read.csv(\"/home//workspace/IHA_Figure_Revision/Figure4/10_Isotype_MSD/Isotype_Singal_IgG2_IgG3_Phuket.csv\")"
   ]
  },
  {
   "cell_type": "code",
   "execution_count": 18,
   "id": "5c3ee71a-509e-493d-9b6f-2404665c0724",
   "metadata": {},
   "outputs": [],
   "source": [
    "df_IgG2_ratio<-df_IgG2_ratio %>% filter(Flu_Year==\"2020-2021\",Flu_Day==\"Day_7\",Isotype==\"IgG2\")"
   ]
  },
  {
   "cell_type": "code",
   "execution_count": 19,
   "id": "51c35729-b430-47e2-83bc-b89da8b966ee",
   "metadata": {},
   "outputs": [],
   "source": [
    "df_IgG2_ratio<-df_IgG2_ratio %>% select(subjectGuid,Isotype_to_Total_Singal_Ratio)"
   ]
  },
  {
   "cell_type": "markdown",
   "id": "37d51068-2f79-4f0b-81a5-671affdb2c56",
   "metadata": {},
   "source": [
    "# Combine all"
   ]
  },
  {
   "cell_type": "code",
   "execution_count": null,
   "id": "5fdfda36-535a-457c-a143-0e8070ba5360",
   "metadata": {},
   "outputs": [],
   "source": []
  },
  {
   "cell_type": "code",
   "execution_count": 20,
   "id": "96c29a17-f5ae-4dc5-9951-74a9b4f1f82a",
   "metadata": {},
   "outputs": [],
   "source": [
    "df_response_phuket<-df_response_phuket %>% select(subjectGuid,residual)\n",
    "colnames(df_response_phuket)<-c(\"subjectGuid\",\"Phuket_Response_Score\")"
   ]
  },
  {
   "cell_type": "code",
   "execution_count": 21,
   "id": "b0a7eae6-ea7c-4442-b7d9-0ac64e491847",
   "metadata": {},
   "outputs": [],
   "source": [
    "df_Total_IgG_MSD_Day7<-df_Total_IgG_MSD_Day7 %>% select(subjectGuid,Calc..Conc..Mean)\n",
    "colnames(df_Total_IgG_MSD_Day7)<-c(\"subjectGuid\",\"Phuket_Total_IgG_D7\")\n",
    "df_Total_IgG_MSD_Day0<-df_Total_IgG_MSD_Day0 %>% select(subjectGuid,Calc..Conc..Mean)\n",
    "colnames(df_Total_IgG_MSD_Day0)<-c(\"subjectGuid\",\"Phuket_Total_IgG_D0\")"
   ]
  },
  {
   "cell_type": "code",
   "execution_count": 22,
   "id": "1403e202-d4b1-4f0e-a8e3-35689711a8e8",
   "metadata": {},
   "outputs": [],
   "source": [
    "Ratio_Day0<-Ratio%>% ungroup()%>%filter(Flu_Day==\"Day_0\") %>% select(subjectGuid,IgG2_IgG3_Ratio)\n",
    "colnames(Ratio_Day0)<-c(\"subjectGuid\",\"Phuket_IgG2_IgG3_Ratio_D0\")\n",
    "Ratio_Day7<-Ratio%>% ungroup()%>%filter(Flu_Day==\"Day_7\") %>% select(subjectGuid,IgG2_IgG3_Ratio)\n",
    "colnames(Ratio_Day7)<-c(\"subjectGuid\",\"Phuket_IgG2_IgG3_Ratio_D7\")"
   ]
  },
  {
   "cell_type": "code",
   "execution_count": 23,
   "id": "ff7dc738-c237-492b-98ad-ab73d5139522",
   "metadata": {},
   "outputs": [],
   "source": [
    "BRI_CompositeScore_Up<-BRI_CompositeScore_Up[grepl(\"subjectGuid|CM CD4 T|CM CD8 T\",colnames(BRI_CompositeScore_Up))]"
   ]
  },
  {
   "cell_type": "code",
   "execution_count": 24,
   "id": "14930b73-97ba-4190-9799-beb3110f8b52",
   "metadata": {},
   "outputs": [],
   "source": [
    "BRI_CompositeScore_Up<-BRI_CompositeScore_Up[c(\"subjectGuid\",\"CompositeScore_Up_CM CD4 T cell\",\"CompositeScore_Up_CM CD8 T cell\")]"
   ]
  },
  {
   "cell_type": "code",
   "execution_count": 25,
   "id": "93f4f206-a75f-4552-93c0-89ec323bf8b6",
   "metadata": {},
   "outputs": [
    {
     "name": "stderr",
     "output_type": "stream",
     "text": [
      "\u001b[1m\u001b[22mJoining with `by = join_by(subjectGuid)`\n",
      "\u001b[1m\u001b[22mJoining with `by = join_by(subjectGuid)`\n",
      "\u001b[1m\u001b[22mJoining with `by = join_by(subjectGuid)`\n",
      "\u001b[1m\u001b[22mJoining with `by = join_by(subjectGuid)`\n",
      "\u001b[1m\u001b[22mJoining with `by = join_by(subjectGuid)`\n",
      "\u001b[1m\u001b[22mJoining with `by = join_by(subjectGuid)`\n"
     ]
    }
   ],
   "source": [
    "df_combined<-left_join(BRI_CompositeScore_Up, df_Total_IgG_MSD_Day7)\n",
    "df_combined<-left_join(df_combined, df_Total_IgG_MSD_Day0)\n",
    "df_combined<-left_join(df_combined, Ratio_Day0)\n",
    "df_combined<-left_join(df_combined, Ratio_Day7)\n",
    "df_combined<-left_join(df_combined, df_response_phuket)\n",
    "df_combined<-left_join(df_combined, df_IgG2_ratio)"
   ]
  },
  {
   "cell_type": "code",
   "execution_count": 26,
   "id": "83452d7f-d6b8-4402-9ee1-b1799063c14f",
   "metadata": {},
   "outputs": [],
   "source": [
    "source_data<-df_combined\n",
    "colnames(source_data)[1:2]<-c(\"RNA_Age_Metric_Up_CM CD4 T cell\",\"RNA_Age_Metric_Up_CM CD8 T cel\")\n",
    "colnames(source_data)[9]<-c(\"IgG2_Isotype_to_Total_Singal_Ratio\")"
   ]
  },
  {
   "cell_type": "code",
   "execution_count": 27,
   "id": "bd78fbe9-7925-427b-abe9-5244a96e1acd",
   "metadata": {},
   "outputs": [],
   "source": [
    "write.csv(source_data%>%\n",
    "  mutate(across(everything(), ~ gsub(\"[\\r\\n]+\", \" \", .))) ,\"/home/workspace/Source_Data/Fig4l.csv\", row.names=FALSE)"
   ]
  },
  {
   "cell_type": "code",
   "execution_count": 28,
   "id": "e43e78ac-0559-45ee-ab8f-6df317c42440",
   "metadata": {},
   "outputs": [],
   "source": [
    "\n",
    "cor.mtest <- function(mat, conf.level = 0.95) {\n",
    "  mat <- as.matrix(mat)\n",
    "  n <- ncol(mat)\n",
    "  p.mat <- matrix(NA, n, n)\n",
    "  diag(p.mat) <- 0\n",
    "  for (i in 1:(n - 1)) {\n",
    "    for (j in (i + 1):n) {\n",
    "      tmp <- cor.test(mat[, i], mat[, j], method = \"spearman\", conf.level = conf.level)\n",
    "      p.mat[i, j] <- p.mat[j, i] <- tmp$p.value\n",
    "    }\n",
    "  }\n",
    "  colnames(p.mat) <- rownames(p.mat) <- colnames(mat)\n",
    "  p.mat\n",
    "}"
   ]
  },
  {
   "cell_type": "code",
   "execution_count": 29,
   "id": "bc23b922-e82d-4110-a71b-2cfd8f974ff6",
   "metadata": {},
   "outputs": [],
   "source": [
    "\n",
    "\n",
    "# Step 2: Calculate the p-value matrix\n",
    "p_matrix <- cor.mtest(df_combined[2:dim(df_combined)[2]])\n",
    "\n",
    "\n",
    "log10_p_matrix <- -log10(p_matrix)\n",
    "log10_p_matrix[is.na(log10_p_matrix) | log10_p_matrix == Inf] <- 0  # Handle -Inf properly\n",
    "upper_tri <- p_matrix[upper.tri(p_matrix, diag = T)]\n",
    "\n",
    "\n",
    "transform_p <- function(x) {\n",
    "    y <- 0.91 - (0.82) * (1 - exp(-3.82 * x))\n",
    "    y\n",
    "}"
   ]
  },
  {
   "cell_type": "code",
   "execution_count": 30,
   "id": "3f14790a-eb07-4cd7-9abf-97d9a73e14b4",
   "metadata": {},
   "outputs": [
    {
     "name": "stderr",
     "output_type": "stream",
     "text": [
      "Warning message in text.default(pos.xlabel[, 1], pos.xlabel[, 2], newcolnames, srt = tl.srt, :\n",
      "“\"size_vector\" is not a graphical parameter”\n",
      "Warning message in text.default(pos.ylabel[, 1], pos.ylabel[, 2], newrownames, col = tl.col, :\n",
      "“\"size_vector\" is not a graphical parameter”\n",
      "Warning message in title(title, ...):\n",
      "“\"size_vector\" is not a graphical parameter”\n"
     ]
    },
    {
     "data": {
      "text/html": [
       "<strong>pdf:</strong> 2"
      ],
      "text/latex": [
       "\\textbf{pdf:} 2"
      ],
      "text/markdown": [
       "**pdf:** 2"
      ],
      "text/plain": [
       "pdf \n",
       "  2 "
      ]
     },
     "metadata": {},
     "output_type": "display_data"
    }
   ],
   "source": [
    "pdf(\"corrplot.pdf\",\n",
    "    width  = 60/25.4,\n",
    "    height = 60/25.4)\n",
    "options(repr.plot.width = 150/25.4, repr.plot.height = 150/25.4)\n",
    "\n",
    "par(ps = 6)\n",
    "\n",
    "corrplot(\n",
    "  cor(df_combined[2:dim(df_combined)[2]], \n",
    "      method = \"spearman\",\n",
    "      use    = \"pairwise.complete.obs\"),\n",
    "  p.mat       = p_matrix,\n",
    "  sig.level   = 0.05,\n",
    "  insig       = \"blank\",\n",
    "  tl.col      = \"black\",\n",
    "  tl.cex      = 1.0,  # 1 × 6 pt\n",
    "  cl.cex      = 1.0,  # legend tick labels\n",
    "  number.cex  = 1.0,  # corr numbers, if shown\n",
    "  col         = colorRampPalette(\n",
    "                  rev(c(\n",
    "                    '#67001F','#B2182B','#D6604D','#F4A582',\n",
    "                    '#FDDBC7','#FFFFFF','#D1E5F0','#92C5DE',\n",
    "                    '#4393C3','#2166AC','#053061'\n",
    "                  ))\n",
    "                )(100),\n",
    "  size_vector = transform_p(upper_tri),\n",
    "  type        = \"lower\"\n",
    ")\n",
    "dev.off()"
   ]
  },
  {
   "cell_type": "code",
   "execution_count": 31,
   "id": "5ddba4d0-d4f9-4c73-88db-69ee0ba90c9e",
   "metadata": {},
   "outputs": [
    {
     "name": "stderr",
     "output_type": "stream",
     "text": [
      "Warning message in text.default(pos.xlabel[, 1], pos.xlabel[, 2], newcolnames, srt = tl.srt, :\n",
      "“\"size_vector\" is not a graphical parameter”\n",
      "Warning message in text.default(pos.ylabel[, 1], pos.ylabel[, 2], newrownames, col = tl.col, :\n",
      "“\"size_vector\" is not a graphical parameter”\n",
      "Warning message in title(title, ...):\n",
      "“\"size_vector\" is not a graphical parameter”\n"
     ]
    },
    {
     "data": {
      "text/html": [
       "<strong>pdf:</strong> 2"
      ],
      "text/latex": [
       "\\textbf{pdf:} 2"
      ],
      "text/markdown": [
       "**pdf:** 2"
      ],
      "text/plain": [
       "pdf \n",
       "  2 "
      ]
     },
     "metadata": {},
     "output_type": "display_data"
    }
   ],
   "source": [
    "pdf(\"corrplot.pdf\",\n",
    "    width  = 60/25.4,\n",
    "    height = 60/25.4)\n",
    "\n",
    "corrplot(\n",
    "  cor(df_combined[, 2:ncol(df_combined)],\n",
    "      method = \"spearman\",\n",
    "      use    = \"pairwise.complete.obs\"),\n",
    "  p.mat       = p_matrix,\n",
    "  #order       = \"hclust\",\n",
    "  sig.level   = 0.05,\n",
    "  insig       = \"blank\",\n",
    "  tl.col      = \"black\",\n",
    "  tl.cex      = 0.1,\n",
    "  cl.cex      = 0.1,\n",
    "  col         = colorRampPalette(\n",
    "                  rev(c('#67001F','#B2182B','#D6604D','#F4A582',\n",
    "                        '#FDDBC7','#FFFFFF','#D1E5F0','#92C5DE',\n",
    "                        '#4393C3','#2166AC','#053061'))\n",
    "                )(100),\n",
    "  type        = \"lower\",\n",
    "  size_vector = transform_p(upper_tri)\n",
    ")\n",
    "\n",
    "dev.off()"
   ]
  },
  {
   "cell_type": "code",
   "execution_count": 32,
   "id": "a6d07acb-72bb-43bd-9832-3891a5eb3c53",
   "metadata": {},
   "outputs": [],
   "source": [
    "df_B<-df_combined[, 4:ncol(df_combined)]"
   ]
  },
  {
   "cell_type": "code",
   "execution_count": 33,
   "id": "711de4bd-3318-4db7-a23c-e766b77e8e0b",
   "metadata": {},
   "outputs": [],
   "source": [
    "df_T<-df_combined[, 2:3]"
   ]
  },
  {
   "cell_type": "code",
   "execution_count": 34,
   "id": "c1bbd068-743e-45fd-990a-f334a70baf7a",
   "metadata": {},
   "outputs": [],
   "source": [
    "# 1 compute spearman correlations and p‐values\n",
    "r_mat <- cor(\n",
    "  df_combined[, 2:ncol(df_combined)],\n",
    "  method = \"spearman\",\n",
    "  use    = \"pairwise.complete.obs\"\n",
    ")\n",
    "p_mat <- cor.mtest(df_combined[, 2:ncol(df_combined)])\n",
    "\n",
    "# 2 blank out any non‐significant ρ\n",
    "r_mat[p_mat > 0.05] <- 0\n",
    "\n"
   ]
  },
  {
   "cell_type": "code",
   "execution_count": 35,
   "id": "2ac766c9-2c7f-4eda-aac2-7c86778acedc",
   "metadata": {},
   "outputs": [],
   "source": [
    "\n",
    "r_mat_B<-r_mat[3:8,3:8]"
   ]
  },
  {
   "cell_type": "code",
   "execution_count": 36,
   "id": "afe0a997-31d5-457f-9fa6-caa9b68786f1",
   "metadata": {},
   "outputs": [
    {
     "data": {
      "text/html": [
       "<table class=\"dataframe\">\n",
       "<caption>A matrix: 6 × 6 of type dbl</caption>\n",
       "<thead>\n",
       "\t<tr><th></th><th scope=col>Phuket_Total_IgG_D7</th><th scope=col>Phuket_Total_IgG_D0</th><th scope=col>Phuket_IgG2_IgG3_Ratio_D0</th><th scope=col>Phuket_IgG2_IgG3_Ratio_D7</th><th scope=col>Phuket_Response_Score</th><th scope=col>Isotype_to_Total_Singal_Ratio</th></tr>\n",
       "</thead>\n",
       "<tbody>\n",
       "\t<tr><th scope=row>Phuket_Total_IgG_D7</th><td> 1.0000000</td><td>0.8211933</td><td>0.0000000</td><td>-0.3882784</td><td>0.5140714</td><td>-0.6027668</td></tr>\n",
       "\t<tr><th scope=row>Phuket_Total_IgG_D0</th><td> 0.8211933</td><td>1.0000000</td><td>0.0000000</td><td> 0.0000000</td><td>0.2716706</td><td> 0.0000000</td></tr>\n",
       "\t<tr><th scope=row>Phuket_IgG2_IgG3_Ratio_D0</th><td> 0.0000000</td><td>0.0000000</td><td>1.0000000</td><td> 0.8664477</td><td>0.0000000</td><td> 0.6695652</td></tr>\n",
       "\t<tr><th scope=row>Phuket_IgG2_IgG3_Ratio_D7</th><td>-0.3882784</td><td>0.0000000</td><td>0.8664477</td><td> 1.0000000</td><td>0.0000000</td><td> 0.7252174</td></tr>\n",
       "\t<tr><th scope=row>Phuket_Response_Score</th><td> 0.5140714</td><td>0.2716706</td><td>0.0000000</td><td> 0.0000000</td><td>1.0000000</td><td> 0.0000000</td></tr>\n",
       "\t<tr><th scope=row>Isotype_to_Total_Singal_Ratio</th><td>-0.6027668</td><td>0.0000000</td><td>0.6695652</td><td> 0.7252174</td><td>0.0000000</td><td> 1.0000000</td></tr>\n",
       "</tbody>\n",
       "</table>\n"
      ],
      "text/latex": [
       "A matrix: 6 × 6 of type dbl\n",
       "\\begin{tabular}{r|llllll}\n",
       "  & Phuket\\_Total\\_IgG\\_D7 & Phuket\\_Total\\_IgG\\_D0 & Phuket\\_IgG2\\_IgG3\\_Ratio\\_D0 & Phuket\\_IgG2\\_IgG3\\_Ratio\\_D7 & Phuket\\_Response\\_Score & Isotype\\_to\\_Total\\_Singal\\_Ratio\\\\\n",
       "\\hline\n",
       "\tPhuket\\_Total\\_IgG\\_D7 &  1.0000000 & 0.8211933 & 0.0000000 & -0.3882784 & 0.5140714 & -0.6027668\\\\\n",
       "\tPhuket\\_Total\\_IgG\\_D0 &  0.8211933 & 1.0000000 & 0.0000000 &  0.0000000 & 0.2716706 &  0.0000000\\\\\n",
       "\tPhuket\\_IgG2\\_IgG3\\_Ratio\\_D0 &  0.0000000 & 0.0000000 & 1.0000000 &  0.8664477 & 0.0000000 &  0.6695652\\\\\n",
       "\tPhuket\\_IgG2\\_IgG3\\_Ratio\\_D7 & -0.3882784 & 0.0000000 & 0.8664477 &  1.0000000 & 0.0000000 &  0.7252174\\\\\n",
       "\tPhuket\\_Response\\_Score &  0.5140714 & 0.2716706 & 0.0000000 &  0.0000000 & 1.0000000 &  0.0000000\\\\\n",
       "\tIsotype\\_to\\_Total\\_Singal\\_Ratio & -0.6027668 & 0.0000000 & 0.6695652 &  0.7252174 & 0.0000000 &  1.0000000\\\\\n",
       "\\end{tabular}\n"
      ],
      "text/markdown": [
       "\n",
       "A matrix: 6 × 6 of type dbl\n",
       "\n",
       "| <!--/--> | Phuket_Total_IgG_D7 | Phuket_Total_IgG_D0 | Phuket_IgG2_IgG3_Ratio_D0 | Phuket_IgG2_IgG3_Ratio_D7 | Phuket_Response_Score | Isotype_to_Total_Singal_Ratio |\n",
       "|---|---|---|---|---|---|---|\n",
       "| Phuket_Total_IgG_D7 |  1.0000000 | 0.8211933 | 0.0000000 | -0.3882784 | 0.5140714 | -0.6027668 |\n",
       "| Phuket_Total_IgG_D0 |  0.8211933 | 1.0000000 | 0.0000000 |  0.0000000 | 0.2716706 |  0.0000000 |\n",
       "| Phuket_IgG2_IgG3_Ratio_D0 |  0.0000000 | 0.0000000 | 1.0000000 |  0.8664477 | 0.0000000 |  0.6695652 |\n",
       "| Phuket_IgG2_IgG3_Ratio_D7 | -0.3882784 | 0.0000000 | 0.8664477 |  1.0000000 | 0.0000000 |  0.7252174 |\n",
       "| Phuket_Response_Score |  0.5140714 | 0.2716706 | 0.0000000 |  0.0000000 | 1.0000000 |  0.0000000 |\n",
       "| Isotype_to_Total_Singal_Ratio | -0.6027668 | 0.0000000 | 0.6695652 |  0.7252174 | 0.0000000 |  1.0000000 |\n",
       "\n"
      ],
      "text/plain": [
       "                              Phuket_Total_IgG_D7 Phuket_Total_IgG_D0\n",
       "Phuket_Total_IgG_D7            1.0000000          0.8211933          \n",
       "Phuket_Total_IgG_D0            0.8211933          1.0000000          \n",
       "Phuket_IgG2_IgG3_Ratio_D0      0.0000000          0.0000000          \n",
       "Phuket_IgG2_IgG3_Ratio_D7     -0.3882784          0.0000000          \n",
       "Phuket_Response_Score          0.5140714          0.2716706          \n",
       "Isotype_to_Total_Singal_Ratio -0.6027668          0.0000000          \n",
       "                              Phuket_IgG2_IgG3_Ratio_D0\n",
       "Phuket_Total_IgG_D7           0.0000000                \n",
       "Phuket_Total_IgG_D0           0.0000000                \n",
       "Phuket_IgG2_IgG3_Ratio_D0     1.0000000                \n",
       "Phuket_IgG2_IgG3_Ratio_D7     0.8664477                \n",
       "Phuket_Response_Score         0.0000000                \n",
       "Isotype_to_Total_Singal_Ratio 0.6695652                \n",
       "                              Phuket_IgG2_IgG3_Ratio_D7 Phuket_Response_Score\n",
       "Phuket_Total_IgG_D7           -0.3882784                0.5140714            \n",
       "Phuket_Total_IgG_D0            0.0000000                0.2716706            \n",
       "Phuket_IgG2_IgG3_Ratio_D0      0.8664477                0.0000000            \n",
       "Phuket_IgG2_IgG3_Ratio_D7      1.0000000                0.0000000            \n",
       "Phuket_Response_Score          0.0000000                1.0000000            \n",
       "Isotype_to_Total_Singal_Ratio  0.7252174                0.0000000            \n",
       "                              Isotype_to_Total_Singal_Ratio\n",
       "Phuket_Total_IgG_D7           -0.6027668                   \n",
       "Phuket_Total_IgG_D0            0.0000000                   \n",
       "Phuket_IgG2_IgG3_Ratio_D0      0.6695652                   \n",
       "Phuket_IgG2_IgG3_Ratio_D7      0.7252174                   \n",
       "Phuket_Response_Score          0.0000000                   \n",
       "Isotype_to_Total_Singal_Ratio  1.0000000                   "
      ]
     },
     "metadata": {},
     "output_type": "display_data"
    }
   ],
   "source": [
    "r_mat_B"
   ]
  },
  {
   "cell_type": "code",
   "execution_count": 37,
   "id": "e134896f-0780-4355-9211-b2e51e6d6f7d",
   "metadata": {},
   "outputs": [],
   "source": [
    "T<-as.data.frame(r_mat[,1:2])"
   ]
  },
  {
   "cell_type": "code",
   "execution_count": 38,
   "id": "b54862b1-ffaf-435e-8046-1a6efd5c09f8",
   "metadata": {},
   "outputs": [],
   "source": [
    "T$ID<-rownames(T)"
   ]
  },
  {
   "cell_type": "code",
   "execution_count": 39,
   "id": "776e25fc-8120-4bcd-a538-86bfe7e1cba6",
   "metadata": {},
   "outputs": [],
   "source": [
    "long_df <- T %>%\n",
    "  pivot_longer(\n",
    "    cols       = -ID,\n",
    "    names_to   = \"variable\",\n",
    "    values_to  = \"value\"\n",
    "  )"
   ]
  },
  {
   "cell_type": "code",
   "execution_count": 40,
   "id": "73dbd300-46ef-4800-85ed-579ef9d8aff1",
   "metadata": {
    "scrolled": true
   },
   "outputs": [],
   "source": [
    "long_df<-long_df %>% filter(value!=1,value!=0) %>% select(variable,ID,value)"
   ]
  },
  {
   "cell_type": "code",
   "execution_count": 41,
   "id": "16ad89d9-84d9-442e-a318-02342d617b83",
   "metadata": {},
   "outputs": [
    {
     "name": "stderr",
     "output_type": "stream",
     "text": [
      "The input data is a correlation matrix,\n",
      "you can override this behavior by setting the `is_corr` parameter.\n",
      "\n",
      "Warning message:\n",
      "“\u001b[1m\u001b[22mRemoved 4 rows containing missing values or values outside the scale range\n",
      "(`geom_curve2()`).”\n"
     ]
    },
    {
     "data": {
      "text/html": [
       "<strong>pdf:</strong> 2"
      ],
      "text/latex": [
       "\\textbf{pdf:} 2"
      ],
      "text/markdown": [
       "**pdf:** 2"
      ],
      "text/plain": [
       "pdf \n",
       "  2 "
      ]
     },
     "metadata": {},
     "output_type": "display_data"
    }
   ],
   "source": [
    "pdf(\"corrplot.pdf\",\n",
    "    width  = 200/25.4,\n",
    "    height = 200/25.4)\n",
    "lims <- c(-1, 1)\n",
    "\n",
    "qcorrplot(r_mat_B, type = \"upper\", diag = FALSE) +\n",
    "  geom_square() +\n",
    "  geom_couple(\n",
    "    aes(from = variable, to = ID, colour = value),\n",
    "    data = long_df,\n",
    "    curvature = nice_curvature()\n",
    "  ) +\n",
    "  scale_fill_gradientn(\n",
    "    colours = rev(RColorBrewer::brewer.pal(11, \"RdBu\")),\n",
    "    limits = lims,\n",
    "    name   = \"Spearman's r\"\n",
    "  ) +\n",
    "  scale_colour_gradientn(\n",
    "    colours = rev(RColorBrewer::brewer.pal(11, \"RdBu\")),\n",
    "    limits = lims,\n",
    "    name   = \"Spearman's r\"\n",
    "  ) +\n",
    "  guides(\n",
    "    colour = guide_colorbar(order = 1),\n",
    "    fill   = guide_colorbar(order = 2)\n",
    "\n",
    "  )\n",
    "dev.off()"
   ]
  },
  {
   "cell_type": "code",
   "execution_count": null,
   "id": "36606769-b077-416d-9f7d-c50d8b5174ed",
   "metadata": {},
   "outputs": [],
   "source": []
  },
  {
   "cell_type": "code",
   "execution_count": null,
   "id": "69008ab8-4f0a-4c7b-8f6f-9cf405864cfa",
   "metadata": {},
   "outputs": [],
   "source": []
  }
 ],
 "metadata": {
  "kernelspec": {
   "display_name": "R (minimal)",
   "language": "R",
   "name": "r-minimal"
  },
  "language_info": {
   "codemirror_mode": "r",
   "file_extension": ".r",
   "mimetype": "text/x-r-source",
   "name": "R",
   "pygments_lexer": "r",
   "version": "4.4.1"
  }
 },
 "nbformat": 4,
 "nbformat_minor": 5
}
