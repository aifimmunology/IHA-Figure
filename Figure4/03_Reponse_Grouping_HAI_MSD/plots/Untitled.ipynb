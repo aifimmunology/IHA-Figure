{
 "cells": [
  {
   "cell_type": "code",
   "execution_count": 8,
   "id": "6c4c0580-c2f8-4a12-b6b5-454753613555",
   "metadata": {},
   "outputs": [],
   "source": [
    "from pptx import Presentation\n",
    "from pptx.util import Inches\n",
    "import os\n",
    "from pptx.dml.color import RGBColor\n",
    "import glob\n",
    "from pptx.util import Inches, Pt\n"
   ]
  },
  {
   "cell_type": "code",
   "execution_count": 9,
   "id": "7b86cd0e-1ddb-4c8e-a7b7-21763ec4d8d7",
   "metadata": {},
   "outputs": [],
   "source": [
    "prs = Presentation()\n",
    "prs.slide_width = Inches(10)\n",
    "prs.slide_height = Inches(5.5)\n"
   ]
  },
  {
   "cell_type": "code",
   "execution_count": 10,
   "id": "afa95471-5ef0-44d9-95d9-72fb4bda5a54",
   "metadata": {},
   "outputs": [
    {
     "name": "stdout",
     "output_type": "stream",
     "text": [
      "['Delta_2021-2022_Flu B-Washington HA.png', 'Delta_2020-2021_A-Guangdong.png', 'Delta_2020-2021_Flu B-Washington HA.png', 'Raw_2021-2022_Flu B-Phuket HA.png', 'Raw_2020-2021_Flu B-Washington HA.png', 'Raw_2020-2021_A-Guangdong.png', 'Raw_2020-2021_Flu B-Phuket HA.png', 'Raw_2021-2022_Flu B-Washington HA.png', 'Delta_2021-2022_Flu B-Phuket HA.png', 'Raw_2021-2022_A-Cambodia.png', 'Delta_2020-2021_Flu B-Phuket HA.png', 'Delta_2021-2022_A-Cambodia.png']\n"
     ]
    }
   ],
   "source": [
    "\n",
    "png_files = glob.glob(\"*.png\")\n",
    "print(png_files)"
   ]
  },
  {
   "cell_type": "code",
   "execution_count": 11,
   "id": "fea560a9-0f05-4eed-93ff-763c980e01e9",
   "metadata": {},
   "outputs": [],
   "source": [
    "for file in png_files:\n",
    "    slide = prs.slides.add_slide(prs.slide_layouts[6])  # blank slide\n",
    "\n",
    "    # manually add title box\n",
    "    title_box = slide.shapes.add_textbox(Inches(0.5), Inches(0.2), Inches(9), Inches(1))\n",
    "    frame = title_box.text_frame\n",
    "    frame.text = file\n",
    "\n",
    "    para = frame.paragraphs[0]\n",
    "    para.font.size = Pt(24)\n",
    "    para.font.bold = True\n",
    "    para.font.color.rgb = RGBColor(0, 0, 0)  # black\n",
    "\n",
    "    # add image below the title\n",
    "    slide.shapes.add_picture(file, Inches(0), Inches(1.2), width=Inches(10), height=Inches(3.5))\n",
    "\n",
    "prs.save(\"output.pptx\")"
   ]
  },
  {
   "cell_type": "code",
   "execution_count": null,
   "id": "83a807ae-3e9a-4256-960a-c3f484f727ff",
   "metadata": {},
   "outputs": [],
   "source": []
  },
  {
   "cell_type": "code",
   "execution_count": null,
   "id": "d5f78b92-0b14-473f-8fa0-8ca738f4ac8f",
   "metadata": {},
   "outputs": [],
   "source": []
  }
 ],
 "metadata": {
  "kernelspec": {
   "display_name": "Python (minimal)",
   "language": "python",
   "name": "python-minimal"
  },
  "language_info": {
   "codemirror_mode": {
    "name": "ipython",
    "version": 3
   },
   "file_extension": ".py",
   "mimetype": "text/x-python",
   "name": "python",
   "nbconvert_exporter": "python",
   "pygments_lexer": "ipython3",
   "version": "3.11.11"
  }
 },
 "nbformat": 4,
 "nbformat_minor": 5
}
