{
 "cells": [
  {
   "cell_type": "code",
   "execution_count": 21,
   "id": "bada131e-2be9-4835-a43b-a139df5fc9ea",
   "metadata": {
    "scrolled": true
   },
   "outputs": [],
   "source": [
    "library(performance)\n",
    "library(ggplot2)\n",
    "library(stats)\n",
    "library(parallel)\n",
    "library(dplyr)\n",
    "library(readxl)\n",
    "library(tidyverse)\n",
    "library(rstatix)\n",
    "library(ggpubr)\n",
    "library(cluster)\n",
    "library(factoextra)\n",
    "library(lmerTest)\n",
    "library(lme4)\n",
    "library(splines)"
   ]
  },
  {
   "cell_type": "code",
   "execution_count": null,
   "id": "fe27285f-f4e4-4bcc-9564-5354beb35bc7",
   "metadata": {},
   "outputs": [],
   "source": []
  },
  {
   "cell_type": "code",
   "execution_count": 24,
   "id": "658a51e5-d86a-43fe-bd65-4c353c1a0607",
   "metadata": {},
   "outputs": [],
   "source": [
    "df_HAI <- read.csv(\"/home/workspace/IHA_Figure_Revision/Figure4/01_HAI_MSD_Assay/HAI_Processed.csv\")"
   ]
  },
  {
   "cell_type": "code",
   "execution_count": 25,
   "id": "4fb5f37a-6f9c-4ce3-bc51-fc8fa1e1999c",
   "metadata": {},
   "outputs": [],
   "source": [
    "df_HAI <- df_HAI %>%\n",
    "    group_by(Assay, Batch) %>%\n",
    "    mutate(Adjusted_HAI.Mean_Perc_Inhib = Mean_Perc_Inhib - min(Mean_Perc_Inhib) * 1.00001)"
   ]
  },
  {
   "cell_type": "code",
   "execution_count": 26,
   "id": "4bbee29f-8f09-4c65-84ce-acc9054f9e0f",
   "metadata": {},
   "outputs": [
    {
     "data": {
      "text/plain": [
       "              \n",
       "               2019-2020 2020-2021 2021-2022\n",
       "  A/Brisbane         117       484       267\n",
       "  A/Cambodia         117       484       267\n",
       "  A/Guangdong        117       484       267\n",
       "  A/HongKong         117       484       267\n",
       "  A/Kansas           117       484       267\n",
       "  A/Shanghai         117       484       267\n",
       "  A/Wisconsin        117       484       267\n",
       "  B/Phuket           117       484       267\n",
       "  B/Washington       117       484       267\n",
       "  BSA                117       484       267"
      ]
     },
     "metadata": {},
     "output_type": "display_data"
    }
   ],
   "source": [
    "table(df_HAI$Assay, df_HAI$Flu_Year)"
   ]
  },
  {
   "cell_type": "code",
   "execution_count": 27,
   "id": "78fbb44c-feff-4a8b-998c-5d7da4cd4fe2",
   "metadata": {},
   "outputs": [],
   "source": [
    "df_HAI <- df_HAI %>%\n",
    "    mutate(Assay = case_when(\n",
    "        Assay == \"A/Shanghai\" ~ \"Flu A/Shanghai H7\", Assay == \"A/Brisbane\" ~ \"Flu A/Brisbane (H1N1)\", Assay == \"B/Washington\" ~ \"Flu B/Washington HA\",\n",
    "        Assay == \"B/Phuket\" ~ \"Flu B/Phuket HA\", Assay == \"A/HongKong\" ~ \"Flu A/Hong Kong H3\", TRUE ~ Assay\n",
    "    ))"
   ]
  },
  {
   "cell_type": "code",
   "execution_count": 28,
   "id": "29242b79-960b-4103-85fe-e6d13e23bbcc",
   "metadata": {
    "scrolled": true
   },
   "outputs": [
    {
     "data": {
      "text/plain": [
       "                       \n",
       "                        2019-2020 2020-2021 2021-2022\n",
       "  A/Cambodia                  117       484       267\n",
       "  A/Guangdong                 117       484       267\n",
       "  A/Kansas                    117       484       267\n",
       "  A/Wisconsin                 117       484       267\n",
       "  BSA                         117       484       267\n",
       "  Flu A/Brisbane (H1N1)       117       484       267\n",
       "  Flu A/Hong Kong H3          117       484       267\n",
       "  Flu A/Shanghai H7           117       484       267\n",
       "  Flu B/Phuket HA             117       484       267\n",
       "  Flu B/Washington HA         117       484       267"
      ]
     },
     "metadata": {},
     "output_type": "display_data"
    }
   ],
   "source": [
    "table(df_HAI$Assay, df_HAI$Flu_Year)"
   ]
  },
  {
   "cell_type": "code",
   "execution_count": 29,
   "id": "b684bcd8-a621-4095-baea-2afeb00c697b",
   "metadata": {},
   "outputs": [],
   "source": [
    "df_HAI <- df_HAI[c(\n",
    "    \"sample.sampleKitGuid\", \"Assay\", \"Mean_Perc_Inhib\", \"Adjusted_HAI.Mean_Perc_Inhib\", \"cohort.cohortGuid\", \"subjectGuid\", \"CMV\", \"Flu_Year\",\n",
    "    \"Flu_Day\", \"Visit_Type\", \"Year_N\", \"Visit_Flu_Year\", \"subject.biologicalSex\"\n",
    ")]"
   ]
  },
  {
   "cell_type": "code",
   "execution_count": 30,
   "id": "677b80fa-e768-4701-968e-1718f0f2d13f",
   "metadata": {},
   "outputs": [],
   "source": [
    "colnames(df_HAI)[1:3] <- c(\"sample.sampleKitGuid\", \"Assay\", \"HAI.Mean_Perc_Inhib\")"
   ]
  },
  {
   "cell_type": "code",
   "execution_count": 31,
   "id": "cee48989-1937-4796-8f42-1c14da768e3e",
   "metadata": {},
   "outputs": [],
   "source": [
    "df_HAI <- df_HAI %>%\n",
    "    filter(Visit_Type == \"FluYear\", Flu_Day != \"Stand-Alone\") %>%\n",
    "    dplyr::mutate(`Age Group` = case_when(cohort.cohortGuid == \"BR1\" ~ \"Young\", cohort.cohortGuid == \"BR2\" ~ \"Older\", TRUE ~ NA_character_)) %>%\n",
    "    group_by(subjectGuid, Assay, Flu_Year) %>%\n",
    "    arrange(Flu_Day) %>%\n",
    "    dplyr::mutate(across(starts_with(\"Adjusted_HAI.Mean_Perc_Inhib\"), ~ . - first(.), .names = \"DeltaDiff_{col}\")) %>%\n",
    "    ungroup() %>%\n",
    "    group_by(subjectGuid, Assay, Flu_Year) %>%\n",
    "    arrange(Flu_Day) %>%\n",
    "    mutate(Day0_Inhibition = first(Adjusted_HAI.Mean_Perc_Inhib)) %>%\n",
    "    ungroup() %>%\n",
    "    group_by(subjectGuid, Flu_Year, Assay) %>%\n",
    "    mutate(entry_count = n()) %>%\n",
    "    filter(entry_count == 3) %>%\n",
    "    ungroup()"
   ]
  },
  {
   "cell_type": "code",
   "execution_count": 32,
   "id": "29c143c1-773c-4ba9-82d7-d4189e887d07",
   "metadata": {},
   "outputs": [],
   "source": [
    "write.csv(df_HAI,\"HAI_Plotting.csv\")"
   ]
  },
  {
   "cell_type": "code",
   "execution_count": 14,
   "id": "1f089a58-3c5a-4468-9455-7eba0ff015b7",
   "metadata": {},
   "outputs": [],
   "source": [
    "intercept_list <- list()\n",
    "\n",
    "df_HAI_subset <- df_HAI %>%\n",
    "  filter(\n",
    "    Flu_Day %in% c(\"Day_7\"),\n",
    "    Assay %in% c(\"A/Guangdong\", \"A/Cambodia\", \"Flu B/Phuket HA\", \"Flu B/Washington HA\"),\n",
    "    Visit_Type == \"FluYear\"\n",
    "  ) %>%\n",
    "  filter(\n",
    "    !(Assay == \"A/Guangdong\" & Flu_Year == \"2021-2022\"),\n",
    "    !(Assay == \"A/Cambodia\" & Flu_Year == \"2020-2021\")\n",
    "  ) %>%\n",
    "  group_by(Assay, Flu_Day) %>%\n",
    "  mutate(\n",
    "    Day0_Inhibition = as.numeric(datawizard::standardize(Day0_Inhibition)),\n",
    "    DeltaDiff_Adjusted_HAI.Mean_Perc_Inhib = as.numeric(datawizard::standardize(DeltaDiff_Adjusted_HAI.Mean_Perc_Inhib))\n",
    "  ) %>%\n",
    "  filter(Flu_Year %in% c(\"2020-2021\", \"2021-2022\"))\n",
    "\n",
    "for (year in c(\"2020-2021\", \"2021-2022\")) {\n",
    "  \n",
    "  strains <- if (year == \"2020-2021\") {\n",
    "    c(\"A/Guangdong\", \"Flu B/Phuket HA\", \"Flu B/Washington HA\")\n",
    "  } else {\n",
    "    c(\"A/Cambodia\", \"Flu B/Phuket HA\", \"Flu B/Washington HA\")\n",
    "  }\n",
    "  \n",
    "  for (STRAIN in strains) {\n",
    "      df_HAI_subset_single_strain<-df_HAI_subset %>% filter(Assay == STRAIN, Flu_Year == year)\n",
    "   fit <- lm(DeltaDiff_Adjusted_HAI.Mean_Perc_Inhib ~   Day0_Inhibition + subject.biologicalSex + CMV , data =df_HAI_subset_single_strain)\n",
    "    \n",
    "    df_HAI_subset_single_strain$residual <- resid(fit)\n",
    "    df_HAI_subset_single_strain$responder <- ifelse(df_HAI_subset_single_strain$residual <= quantile(df_HAI_subset_single_strain$residual, 0.25), \"low responder\", ifelse(df_HAI_subset_single_strain$residual>=\n",
    "    quantile(df_HAI_subset_single_strain$residual, 0.75), \"high responder\", \"middle responder\"))\n",
    "    df_res<-df_HAI_subset_single_strain %>% ungroup() %>% select(subjectGuid,residual,responder,cohort.cohortGuid)\n",
    "    df_res$Assay <- STRAIN\n",
    "    df_res$Flu_Year <- year\n",
    "    \n",
    "    intercept_list[[paste0(STRAIN, '-', year)]] <- df_res\n",
    "  }\n",
    "}\n"
   ]
  },
  {
   "cell_type": "code",
   "execution_count": 15,
   "id": "eb4a6595-4df7-4e6f-bd85-3af318db0b37",
   "metadata": {},
   "outputs": [],
   "source": [
    "df_res <- do.call(rbind, intercept_list)"
   ]
  },
  {
   "cell_type": "code",
   "execution_count": 16,
   "id": "fd0d5480-a08c-4bd9-9ded-a5631d1c7ed7",
   "metadata": {},
   "outputs": [],
   "source": [
    "write.csv(df_res,\"lm_res.csv\")"
   ]
  },
  {
   "cell_type": "code",
   "execution_count": 17,
   "id": "8c114f65-234d-4ab2-917c-499f5426b15c",
   "metadata": {},
   "outputs": [
    {
     "data": {
      "text/plain": [
       ", ,  = A/Cambodia,  = 2020-2021\n",
       "\n",
       "     \n",
       "      high responder low responder middle responder\n",
       "  BR1              0             0                0\n",
       "  BR2              0             0                0\n",
       "\n",
       ", ,  = A/Guangdong,  = 2020-2021\n",
       "\n",
       "     \n",
       "      high responder low responder middle responder\n",
       "  BR1             14             9               20\n",
       "  BR2              8            13               24\n",
       "\n",
       ", ,  = Flu B/Phuket HA,  = 2020-2021\n",
       "\n",
       "     \n",
       "      high responder low responder middle responder\n",
       "  BR1             15             5               23\n",
       "  BR2              7            17               21\n",
       "\n",
       ", ,  = Flu B/Washington HA,  = 2020-2021\n",
       "\n",
       "     \n",
       "      high responder low responder middle responder\n",
       "  BR1             11             8               24\n",
       "  BR2             11            14               20\n",
       "\n",
       ", ,  = A/Cambodia,  = 2021-2022\n",
       "\n",
       "     \n",
       "      high responder low responder middle responder\n",
       "  BR1              4             5               15\n",
       "  BR2             13            12               17\n",
       "\n",
       ", ,  = A/Guangdong,  = 2021-2022\n",
       "\n",
       "     \n",
       "      high responder low responder middle responder\n",
       "  BR1              0             0                0\n",
       "  BR2              0             0                0\n",
       "\n",
       ", ,  = Flu B/Phuket HA,  = 2021-2022\n",
       "\n",
       "     \n",
       "      high responder low responder middle responder\n",
       "  BR1              9             5               10\n",
       "  BR2              8            12               22\n",
       "\n",
       ", ,  = Flu B/Washington HA,  = 2021-2022\n",
       "\n",
       "     \n",
       "      high responder low responder middle responder\n",
       "  BR1              7             4               13\n",
       "  BR2             10            13               19\n"
      ]
     },
     "metadata": {},
     "output_type": "display_data"
    }
   ],
   "source": [
    "table(df_res$cohort.cohortGuid, df_res$responder, df_res$Assay, df_res$Flu_Year)"
   ]
  },
  {
   "cell_type": "code",
   "execution_count": null,
   "id": "7624a1f1-0dc6-4a50-ac7d-ed1fb3b9f571",
   "metadata": {},
   "outputs": [],
   "source": []
  },
  {
   "cell_type": "code",
   "execution_count": null,
   "id": "454cf85e-e553-4227-b5e6-788e36f17b12",
   "metadata": {},
   "outputs": [],
   "source": []
  }
 ],
 "metadata": {
  "kernelspec": {
   "display_name": "R_BRI_Figures",
   "language": "R",
   "name": "r_bri_figures"
  },
  "language_info": {
   "codemirror_mode": "r",
   "file_extension": ".r",
   "mimetype": "text/x-r-source",
   "name": "R",
   "pygments_lexer": "r",
   "version": "4.3.2"
  }
 },
 "nbformat": 4,
 "nbformat_minor": 5
}
