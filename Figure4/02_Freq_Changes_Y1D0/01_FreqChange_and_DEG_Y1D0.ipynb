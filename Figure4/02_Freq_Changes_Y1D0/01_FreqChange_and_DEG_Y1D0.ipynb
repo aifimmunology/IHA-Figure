{
 "cells": [
  {
   "cell_type": "code",
   "execution_count": 31,
   "id": "2bb275a7-bba3-4f65-8cd3-69d7b385d92c",
   "metadata": {},
   "outputs": [],
   "source": [
    "suppressPackageStartupMessages(library(dplyr))\n",
    "suppressPackageStartupMessages(library(tidyr))\n",
    "suppressPackageStartupMessages(library(tibble))\n",
    "suppressPackageStartupMessages(library(stringr))\n",
    "library(reshape2)\n",
    "library(rstatix)\n",
    "library(ggpubr)\n"
   ]
  },
  {
   "cell_type": "markdown",
   "id": "2e254a0f-61f4-4807-aed7-c09a217590d7",
   "metadata": {},
   "source": [
    "# Get DEG Number"
   ]
  },
  {
   "cell_type": "code",
   "execution_count": 32,
   "id": "2366f4a7-9322-4795-a86e-1173248335fc",
   "metadata": {},
   "outputs": [],
   "source": [
    "DEG_res<-read.csv(\"/home//jupyter/BRI_Figures_Final_V1/Figure4/01_DEG_All_Samples/Deseq2_Result_Y1D0.csv\")"
   ]
  },
  {
   "cell_type": "code",
   "execution_count": 33,
   "id": "aa7a4214-7d7b-43aa-86a1-835d202fa3fa",
   "metadata": {},
   "outputs": [],
   "source": [
    "DEG_res_signi<-DEG_res %>% filter(padj<0.05,abs(log2FoldChange)>0.1)"
   ]
  },
  {
   "cell_type": "code",
   "execution_count": 34,
   "id": "917e6575-9176-4008-a730-789dcf030f43",
   "metadata": {},
   "outputs": [],
   "source": [
    "DEG_counts<-as.data.frame(table(DEG_res_signi$contrast,DEG_res_signi$celltype))"
   ]
  },
  {
   "cell_type": "code",
   "execution_count": 35,
   "id": "b1eed6c7-93ef-4411-9467-85cb249b2dd6",
   "metadata": {},
   "outputs": [],
   "source": [
    "colnames(DEG_counts)<-c(\"factor\",\"AIFI_L3\",\"DEG_Counts\")"
   ]
  },
  {
   "cell_type": "markdown",
   "id": "79bbc57e-8370-472f-a8e1-f365cd99da78",
   "metadata": {},
   "source": [
    "# Get Freq"
   ]
  },
  {
   "cell_type": "code",
   "execution_count": 36,
   "id": "6ac1ba22-6654-4bdb-b7b9-bef468dadbcb",
   "metadata": {},
   "outputs": [],
   "source": [
    "BRI_Freq_Data<-read.csv(\"/home/jupyter/BRI_Figures_Final_V1/Dataset/diha_AIFI_L3_frequencies_2024-05-05.csv\")"
   ]
  },
  {
   "cell_type": "code",
   "execution_count": 37,
   "id": "d87dcc7d-f816-4a8b-9a6e-b7829dcfa3af",
   "metadata": {},
   "outputs": [],
   "source": [
    "BRI_Freq_Data<-BRI_Freq_Data %>% group_by(sample.sampleKitGuid) %>%\n",
    "  dplyr::mutate(percentage = (AIFI_L3_count / sum(AIFI_L3_count)) * 100) %>% ungroup()"
   ]
  },
  {
   "cell_type": "code",
   "execution_count": 38,
   "id": "8a4f88f4-1a3b-4e58-8831-a9b599946566",
   "metadata": {},
   "outputs": [],
   "source": [
    "BRI_Freq_Data_subset<-BRI_Freq_Data %>% filter(sample.visitName==\"Flu Year 1 Day 0\")"
   ]
  },
  {
   "cell_type": "markdown",
   "id": "8bf10440-a0cb-48b3-b70f-a594c1050cf6",
   "metadata": {},
   "source": [
    "### CMV\n"
   ]
  },
  {
   "cell_type": "code",
   "execution_count": 39,
   "id": "b9451860-ee5d-4e3b-b9c0-5bc6c7105669",
   "metadata": {},
   "outputs": [
    {
     "name": "stderr",
     "output_type": "stream",
     "text": [
      "\u001b[1m\u001b[22m`summarise()` has grouped output by 'AIFI_L3'. You can override using the\n",
      "`.groups` argument.\n",
      "\u001b[1m\u001b[22mJoining with `by = join_by(AIFI_L3)`\n"
     ]
    }
   ],
   "source": [
    "#compute freq changes\n",
    "freq_changes<-BRI_Freq_Data_subset %>%\n",
    "  select(percentage, AIFI_L3, cohort.cohortGuid, subject.biologicalSex, subject.cmv) %>%\n",
    "  group_by(AIFI_L3, subject.cmv) %>%\n",
    "  summarise(mean_AIFI_L3_clr = median(percentage, na.rm = TRUE)) %>%\n",
    "  spread(subject.cmv, mean_AIFI_L3_clr) %>%\n",
    "  mutate(log2fc = log2(`Positive` / `Negative`)) %>%\n",
    "  mutate(delta_change = `Positive` - `Negative`) \n",
    "#compute freq changes p values\n",
    "\n",
    "freq_changes_STAT<-BRI_Freq_Data_subset %>%\n",
    "  select(AIFI_L3_clr,AIFI_L3, cohort.cohortGuid,subject.biologicalSex,subject.cmv) %>%\n",
    "  group_by(AIFI_L3)  %>%\n",
    "  wilcox_test(AIFI_L3_clr ~ subject.cmv) %>%\n",
    "  adjust_pvalue(method='BH') %>%\n",
    "  add_significance() %>% as.data.frame()\n",
    "\n",
    "df<-left_join(freq_changes_STAT,freq_changes)"
   ]
  },
  {
   "cell_type": "code",
   "execution_count": 40,
   "id": "c0daf195-a630-4c88-9326-5f9b77e36dcc",
   "metadata": {},
   "outputs": [
    {
     "name": "stderr",
     "output_type": "stream",
     "text": [
      "\u001b[1m\u001b[22mJoining with `by = join_by(AIFI_L3)`\n"
     ]
    }
   ],
   "source": [
    "df<-left_join(df,DEG_counts %>% filter(factor==\"CMV\"))"
   ]
  },
  {
   "cell_type": "code",
   "execution_count": 41,
   "id": "7dedbc8f-2ec5-47df-b006-7fdc5936e402",
   "metadata": {},
   "outputs": [],
   "source": [
    "df<-df%>%\n",
    "  mutate(adjP_degs_combined_value = if_else(DEG_Counts != 0,\n",
    "                                            -log10(p.adj)  * DEG_Counts * 0.1,\n",
    "                                            -log10(p.adj)  * 0.1))"
   ]
  },
  {
   "cell_type": "code",
   "execution_count": 19,
   "id": "2b08cda7-7df1-403e-83a8-8bfbf63a5099",
   "metadata": {},
   "outputs": [],
   "source": [
    "write.csv(df,'FreqChanges_and_DEG_Y1D0.csv')"
   ]
  },
  {
   "cell_type": "markdown",
   "id": "73cc8e43-e2bf-4123-a47a-995fc973fe6f",
   "metadata": {},
   "source": [
    "# Upload Files"
   ]
  },
  {
   "cell_type": "code",
   "execution_count": 7,
   "id": "91b84616-5bed-4cae-a55d-516f1f18b54b",
   "metadata": {},
   "outputs": [],
   "source": [
    "input_uuid=pull(read.csv(\"/home/jupyter/BRI_Figures_Final_V1/Dataset/scRNA_BRI_counts_summary_uuid.csv\")['id'])\n"
   ]
  },
  {
   "cell_type": "code",
   "execution_count": 9,
   "id": "17cba344-27dc-4baa-b0ec-792fe9c369e9",
   "metadata": {},
   "outputs": [
    {
     "data": {
      "text/html": [
       "'Cert-Pro_IHA_Figures_Files_2024-06-10_from_-home-jupyter-BRI_Figures_Final_V1-Figure2-03_Frequency_Changes-01_FreqChange_and_DEG_ipynb'"
      ],
      "text/latex": [
       "'Cert-Pro\\_IHA\\_Figures\\_Files\\_2024-06-10\\_from\\_-home-jupyter-BRI\\_Figures\\_Final\\_V1-Figure2-03\\_Frequency\\_Changes-01\\_FreqChange\\_and\\_DEG\\_ipynb'"
      ],
      "text/markdown": [
       "'Cert-Pro_IHA_Figures_Files_2024-06-10_from_-home-jupyter-BRI_Figures_Final_V1-Figure2-03_Frequency_Changes-01_FreqChange_and_DEG_ipynb'"
      ],
      "text/plain": [
       "[1] \"Cert-Pro_IHA_Figures_Files_2024-06-10_from_-home-jupyter-BRI_Figures_Final_V1-Figure2-03_Frequency_Changes-01_FreqChange_and_DEG_ipynb\""
      ]
     },
     "metadata": {},
     "output_type": "display_data"
    }
   ],
   "source": [
    "study_space_uuid <- 'de025812-5e73-4b3c-9c3b-6d0eac412f2a'\n",
    "date_today <- Sys.Date()\n",
    "working_dir <- getwd()\n",
    "notebook_name <- basename(\"BRI_Figures_Final_V1/Figure2/03_Frequency_Changes/01_FreqChange_and_DEG.ipynb\")  \n",
    "\n",
    "title <- sprintf(\"Cert-Pro_IHA_Figures_Files_%s_from_%s/%s\", date_today, working_dir, notebook_name)\n",
    "title <- str_replace_all(title, c(\"/\" = \"-\", \"\\\\.\" = \"_\"))\n",
    "\n",
    "title"
   ]
  },
  {
   "cell_type": "code",
   "execution_count": 13,
   "id": "1331a288-a461-49b9-b562-b4b08ee62e0a",
   "metadata": {},
   "outputs": [
    {
     "name": "stdout",
     "output_type": "stream",
     "text": [
      "[1] \"Cannot determine the current notebook.\"\n",
      "[1] \"1) /home/jupyter/BRI_Figures_Final_V1/Figure2/03_Frequency_Changes/01_FreqChange_and_DEG.ipynb\"\n",
      "[1] \"2) /home/jupyter/BRI_Figures_Final_V1/Figure2/02_DEG/02B_DEG_analysis.ipynb\"\n",
      "[1] \"3) /home/jupyter/Additional_Analysis/CMV_Tao/02B_BR1_CMVpos_DEG_analysis.ipynb\"\n"
     ]
    },
    {
     "name": "stdin",
     "output_type": "stream",
     "text": [
      "Please select (1-3)  1\n"
     ]
    },
    {
     "name": "stderr",
     "output_type": "stream",
     "text": [
      "You are trying to upload the following files:  /home/jupyter/BRI_Figures_Final_V1/Figure2/03_Frequency_Changes/FreqChanges_and_DEG.csv\n",
      "\n"
     ]
    },
    {
     "name": "stdin",
     "output_type": "stream",
     "text": [
      "(y/n) y\n"
     ]
    },
    {
     "data": {
      "text/html": [
       "<dl>\n",
       "\t<dt>$files</dt>\n",
       "\t\t<dd><ol>\n",
       "\t<li>'/home/jupyter/BRI_Figures_Final_V1/Figure2/03_Frequency_Changes/FreqChanges_and_DEG.csv'</li>\n",
       "</ol>\n",
       "</dd>\n",
       "\t<dt>$traceId</dt>\n",
       "\t\t<dd>'d4dca952-2324-49a8-85aa-5a2a11d89555'</dd>\n",
       "</dl>\n"
      ],
      "text/latex": [
       "\\begin{description}\n",
       "\\item[\\$files] \\begin{enumerate}\n",
       "\\item '/home/jupyter/BRI\\_Figures\\_Final\\_V1/Figure2/03\\_Frequency\\_Changes/FreqChanges\\_and\\_DEG.csv'\n",
       "\\end{enumerate}\n",
       "\n",
       "\\item[\\$traceId] 'd4dca952-2324-49a8-85aa-5a2a11d89555'\n",
       "\\end{description}\n"
      ],
      "text/markdown": [
       "$files\n",
       ":   1. '/home/jupyter/BRI_Figures_Final_V1/Figure2/03_Frequency_Changes/FreqChanges_and_DEG.csv'\n",
       "\n",
       "\n",
       "\n",
       "$traceId\n",
       ":   'd4dca952-2324-49a8-85aa-5a2a11d89555'\n",
       "\n",
       "\n"
      ],
      "text/plain": [
       "$files\n",
       "$files[[1]]\n",
       "[1] \"/home/jupyter/BRI_Figures_Final_V1/Figure2/03_Frequency_Changes/FreqChanges_and_DEG.csv\"\n",
       "\n",
       "\n",
       "$traceId\n",
       "[1] \"d4dca952-2324-49a8-85aa-5a2a11d89555\"\n"
      ]
     },
     "metadata": {},
     "output_type": "display_data"
    }
   ],
   "source": [
    "uploadFiles(\n",
    "  list('/home/jupyter/BRI_Figures_Final_V1/Figure2/03_Frequency_Changes/FreqChanges_and_DEG.csv'),\n",
    "  studySpaceId = 'de025812-5e73-4b3c-9c3b-6d0eac412f2a',\n",
    "  title = title, fileTypes = list('csv'),destination=title,\n",
    "  inputFileIds = as.list(c(input_uuid))\n",
    ")"
   ]
  },
  {
   "cell_type": "code",
   "execution_count": null,
   "id": "847b32ad-a818-484f-9369-3c0b721028d9",
   "metadata": {},
   "outputs": [],
   "source": []
  }
 ],
 "metadata": {
  "kernelspec": {
   "display_name": "R 4",
   "language": "R",
   "name": "ir4"
  },
  "language_info": {
   "codemirror_mode": "r",
   "file_extension": ".r",
   "mimetype": "text/x-r-source",
   "name": "R",
   "pygments_lexer": "r",
   "version": "4.3.2"
  }
 },
 "nbformat": 4,
 "nbformat_minor": 5
}
