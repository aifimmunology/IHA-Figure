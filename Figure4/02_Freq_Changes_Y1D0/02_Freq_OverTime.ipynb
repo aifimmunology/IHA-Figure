{
 "cells": [
  {
   "cell_type": "code",
   "execution_count": 22,
   "id": "abe38698-3a55-4eb3-a7fd-4ad11b40c07b",
   "metadata": {},
   "outputs": [],
   "source": [
    "suppressPackageStartupMessages(library(dplyr))\n",
    "suppressPackageStartupMessages(library(tidyr))\n",
    "suppressPackageStartupMessages(library(tibble))\n",
    "suppressPackageStartupMessages(library(stringr))\n",
    "library(reshape2)\n"
   ]
  },
  {
   "cell_type": "markdown",
   "id": "9715247c-bc16-4ebd-819a-c57b6ce0c912",
   "metadata": {},
   "source": [
    "# Get Meta Data"
   ]
  },
  {
   "cell_type": "code",
   "execution_count": 23,
   "id": "31e98104-6069-411d-b09e-a929ded1f497",
   "metadata": {},
   "outputs": [],
   "source": [
    "meta_data<-read.csv(\"/home/jupyter/BRI_Figures_Final_V1/Dataset/scRNA_meta_data-2024-05-09.csv\")\n",
    "meta_data<-meta_data %>% filter(Covid_exclusion=='no')%>% \n",
    "filter(!sample.visitName%in% c('Flu Year 1 Day 7','Flu Year 2 Day 7'))%>% \n",
    "filter(sample.daysSinceFirstVisit<600)%>% \n",
    "filter(CMV=='Positive')"
   ]
  },
  {
   "cell_type": "markdown",
   "id": "2c39206c-35b0-4c80-acb4-9a7059de64ba",
   "metadata": {},
   "source": [
    "# Get Freq"
   ]
  },
  {
   "cell_type": "code",
   "execution_count": null,
   "id": "6ed6aaf8-e614-491e-8fe5-e9ec681ac9ac",
   "metadata": {},
   "outputs": [],
   "source": []
  },
  {
   "cell_type": "code",
   "execution_count": 30,
   "id": "cd81198e-164a-425d-8552-3ac0f646e713",
   "metadata": {},
   "outputs": [],
   "source": [
    "BRI_Freq_Data<-read.csv(\"/home/jupyter/BRI_Figures_Final_V1/Dataset/diha_AIFI_L3_frequencies_2024-05-05.csv\")"
   ]
  },
  {
   "cell_type": "code",
   "execution_count": 31,
   "id": "f2584dac-7da1-4cfe-9ae3-75d56923dcd7",
   "metadata": {},
   "outputs": [],
   "source": [
    "BRI_Freq_Data<-BRI_Freq_Data %>% group_by(sample.sampleKitGuid) %>%\n",
    "  dplyr::mutate(percentage = (AIFI_L3_count / sum(AIFI_L3_count)) * 100) %>% ungroup()"
   ]
  },
  {
   "cell_type": "code",
   "execution_count": null,
   "id": "aba0adb2-2ee2-41c7-b760-0d6d3a103a81",
   "metadata": {},
   "outputs": [],
   "source": []
  },
  {
   "cell_type": "code",
   "execution_count": 37,
   "id": "e081dd50-7eb5-4bba-a60c-8ee7c4679479",
   "metadata": {},
   "outputs": [],
   "source": [
    "selected_celltype<-c('Adaptive NK cell',\n",
    "                     'KLRF1- GZMB+ CD27- EM CD8 T cell',\n",
    "                     'KLRF1- GZMB+ CD27- memory CD4 T cell',\n",
    "                    'KLRF1- effector Vd1 gdT')\n",
    "\n",
    "BRI_Freq_Data_subset<-BRI_Freq_Data %>% filter(specimen.specimenGuid %in% meta_data$pbmc_sample_id) %>% filter(AIFI_L3 %in%selected_celltype )"
   ]
  },
  {
   "cell_type": "code",
   "execution_count": 38,
   "id": "852ce0e8-f864-4d7e-92fd-41305b7fb97b",
   "metadata": {},
   "outputs": [],
   "source": [
    "BRI_Freq_Data_subset<-left_join(BRI_Freq_Data_subset,meta_data[c('pbmc_sample_id','sample.daysSinceFirstVisit')], by=c(\"specimen.specimenGuid\"=\"pbmc_sample_id\"))"
   ]
  },
  {
   "cell_type": "code",
   "execution_count": 39,
   "id": "48f4d72a-47dd-4ce1-bea4-26e838c3dc0a",
   "metadata": {},
   "outputs": [],
   "source": [
    "write.csv(BRI_Freq_Data_subset,'Freq_OverTime_CMVpos.csv')"
   ]
  },
  {
   "cell_type": "code",
   "execution_count": null,
   "id": "ca7a22b0-2195-45da-9f2e-5e03aff9f433",
   "metadata": {},
   "outputs": [],
   "source": []
  }
 ],
 "metadata": {
  "kernelspec": {
   "display_name": "R 4",
   "language": "R",
   "name": "ir4"
  },
  "language_info": {
   "codemirror_mode": "r",
   "file_extension": ".r",
   "mimetype": "text/x-r-source",
   "name": "R",
   "pygments_lexer": "r",
   "version": "4.3.2"
  }
 },
 "nbformat": 4,
 "nbformat_minor": 5
}
