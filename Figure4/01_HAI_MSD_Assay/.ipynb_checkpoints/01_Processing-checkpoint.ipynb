{
 "cells": [
  {
   "cell_type": "code",
   "execution_count": 1,
   "id": "4f38ffee-c8b0-466e-832b-877f89c5072f",
   "metadata": {},
   "outputs": [
    {
     "name": "stderr",
     "output_type": "stream",
     "text": [
      "Warning message:\n",
      "“package ‘dplyr’ was built under R version 4.3.3”\n",
      "\n",
      "Attaching package: ‘dplyr’\n",
      "\n",
      "\n",
      "The following objects are masked from ‘package:stats’:\n",
      "\n",
      "    filter, lag\n",
      "\n",
      "\n",
      "The following objects are masked from ‘package:base’:\n",
      "\n",
      "    intersect, setdiff, setequal, union\n",
      "\n",
      "\n",
      "Warning message:\n",
      "“package ‘tidyverse’ was built under R version 4.3.3”\n",
      "Warning message:\n",
      "“package ‘tibble’ was built under R version 4.3.3”\n",
      "Warning message:\n",
      "“package ‘tidyr’ was built under R version 4.3.3”\n",
      "Warning message:\n",
      "“package ‘readr’ was built under R version 4.3.3”\n",
      "Warning message:\n",
      "“package ‘purrr’ was built under R version 4.3.3”\n",
      "Warning message:\n",
      "“package ‘stringr’ was built under R version 4.3.3”\n",
      "Warning message:\n",
      "“package ‘forcats’ was built under R version 4.3.3”\n",
      "Warning message:\n",
      "“package ‘lubridate’ was built under R version 4.3.3”\n",
      "── \u001b[1mAttaching core tidyverse packages\u001b[22m ──────────────────────── tidyverse 2.0.0 ──\n",
      "\u001b[32m✔\u001b[39m \u001b[34mforcats  \u001b[39m 1.0.0     \u001b[32m✔\u001b[39m \u001b[34mstringr  \u001b[39m 1.5.1\n",
      "\u001b[32m✔\u001b[39m \u001b[34mlubridate\u001b[39m 1.9.3     \u001b[32m✔\u001b[39m \u001b[34mtibble   \u001b[39m 3.2.1\n",
      "\u001b[32m✔\u001b[39m \u001b[34mpurrr    \u001b[39m 1.0.2     \u001b[32m✔\u001b[39m \u001b[34mtidyr    \u001b[39m 1.3.1\n",
      "\u001b[32m✔\u001b[39m \u001b[34mreadr    \u001b[39m 2.1.5     \n",
      "── \u001b[1mConflicts\u001b[22m ────────────────────────────────────────── tidyverse_conflicts() ──\n",
      "\u001b[31m✖\u001b[39m \u001b[34mdplyr\u001b[39m::\u001b[32mfilter()\u001b[39m masks \u001b[34mstats\u001b[39m::filter()\n",
      "\u001b[31m✖\u001b[39m \u001b[34mdplyr\u001b[39m::\u001b[32mlag()\u001b[39m    masks \u001b[34mstats\u001b[39m::lag()\n",
      "\u001b[36mℹ\u001b[39m Use the conflicted package (\u001b[3m\u001b[34m<http://conflicted.r-lib.org/>\u001b[39m\u001b[23m) to force all conflicts to become errors\n",
      "Warning message:\n",
      "“package ‘readxl’ was built under R version 4.3.3”\n"
     ]
    }
   ],
   "source": [
    "library(hise)\n",
    "library(dplyr)\n",
    "library(ggplot2)\n",
    "library(stats)\n",
    "library(tidyverse)\n",
    "library(readxl)\n",
    "library(parallel)"
   ]
  },
  {
   "cell_type": "code",
   "execution_count": 2,
   "id": "82544398-c104-4d44-9784-f164fd9079d7",
   "metadata": {},
   "outputs": [],
   "source": [
    "# load metadata\n",
    "metadata <- read.csv(\"/home//workspace/private//bri_figure_all_files_test//jupyter/BRI_Figures_Final_V2/Figure4/01_Frequency_Comparison/selected_samples_with_acutal_flu_year.csv\")\n",
    "metadata$pbmc_sample_id <- sub(\"-.*\", \"\", metadata$pbmc_sample_id)"
   ]
  },
  {
   "cell_type": "code",
   "execution_count": 3,
   "id": "c5f59958-94d3-424c-afb1-d924a2f79f68",
   "metadata": {},
   "outputs": [],
   "source": [
    " # function to load plate layout csv for the three plates and convert to long format to later merge with raw data\n",
    "reshape_to_long_format <- function(file_path) {\n",
    "  # load csv\n",
    "  data <- read.csv(file_path, header = FALSE)\n",
    "  \n",
    "  # add row and column names A01 to H12\n",
    "  colnames(data) <- sprintf(\"%02d\", 1:12)\n",
    "  rownames(data) <- LETTERS[1:8]\n",
    "  \n",
    "  # long format\n",
    "  long_format <- data %>%\n",
    "    rownames_to_column(var = \"Row\") %>%\n",
    "    gather(key = \"Column\", value = \"pbmc_sample_id\", -Row) %>%\n",
    "    mutate(Well = paste0(Row, Column)) %>%\n",
    "    select(pbmc_sample_id, Well)\n",
    "  \n",
    "  return(long_format)\n",
    "}\n",
    "\n",
    "# Define file paths and corresponding data frame names\n",
    "file_paths <- c('/home//workspace/private//bri_figure_all_files_test//jupyter/BRI_Figures_Final_V2/Dataset/HAI/EXP-01111 MSD Plate1 Plate_2BMACAI036 worklist.csv',\n",
    "                '/home//workspace/private//bri_figure_all_files_test//jupyter/BRI_Figures_Final_V2/Dataset/HAI/EXP-01111 MSD Plate2 Plate_2BMACAI037 worklist.csv',\n",
    "                '/home//workspace/private//bri_figure_all_files_test//jupyter/BRI_Figures_Final_V2/Dataset/HAI/EXP-01111 MSD Plate3 Plate_2BMACA7038 worklist.csv')\n",
    "data_frame_names <- c('Plate_2BMACAI036', 'Plate_2BMACAI037', 'Plate_2BMACA7038')\n",
    "\n",
    "# Initialize an empty list to store the data frames\n",
    "data_frames <- list()\n",
    "\n",
    "# Apply the function to each file and assign to named data frames\n",
    "for (i in 1:length(file_paths)) {\n",
    "  data_frames[[data_frame_names[i]]] <- reshape_to_long_format(file_paths[i])\n",
    "}\n",
    "\n",
    "# Assign data frames to the global environment with custom names\n",
    "for (i in 1:length(data_frame_names)) {\n",
    "  assign(data_frame_names[i], data_frames[[data_frame_names[i]]])\n",
    "}"
   ]
  },
  {
   "cell_type": "code",
   "execution_count": 4,
   "id": "03b32e48-7292-4dbe-8429-581ed3d9ea7f",
   "metadata": {},
   "outputs": [],
   "source": [
    "# load HAI data\n",
    "MSD_HAI <- read.csv(\"/home//workspace/private//bri_figure_all_files_test//jupyter/BRI_Figures_Final_V2/Dataset/HAI/EXP-01111 MSD HAI Data.csv\", skip = 1)\n",
    "\n",
    "#add a percent inhibition column. use H01, G01, H02 and G02 as the blank columns. average them for calibration zero\n",
    "MSD_HAI_good <- MSD_HAI %>%\n",
    "  group_by(Plate.Name, Assay) %>%\n",
    "  mutate(calib_mean = mean(Mean[Well %in% c(\"H01\", \"G01\", \"H02\", \"G02\")], na.rm = TRUE)) %>%\n",
    "  mutate(perc_inhib = (1 - (Mean / calib_mean)) * 100)"
   ]
  },
  {
   "cell_type": "code",
   "execution_count": 83,
   "id": "8eb0bd6f-c813-4b56-a61b-b65b60cbc22c",
   "metadata": {},
   "outputs": [],
   "source": [
    "MSD_HAI_good$Batch<-'EXP-01111'"
   ]
  },
  {
   "cell_type": "code",
   "execution_count": 84,
   "id": "0fd7d307-f662-4e09-b74b-48c5ae2900fb",
   "metadata": {},
   "outputs": [],
   "source": [
    "filtered_data <- MSD_HAI_good %>%\n",
    "  filter(grepl(\"PL\", Sample)) %>%group_by(Sample,Assay)%>%\n",
    "  mutate(Mean = mean(Adjusted.Signal),\n",
    "         CV = ( sd(Adjusted.Signal)/mean(Adjusted.Signal) ) * 100)\n",
    "\n",
    "remaining_data <- MSD_HAI_good %>%\n",
    "  filter(!grepl(\"PL\", Sample))\n",
    "\n",
    "final_data <- bind_rows(remaining_data, filtered_data)"
   ]
  },
  {
   "cell_type": "code",
   "execution_count": 85,
   "id": "90815ab9-4af9-49e0-99ca-29f15e5e8cb2",
   "metadata": {},
   "outputs": [],
   "source": [
    "MSD_HAI_good<-final_data"
   ]
  },
  {
   "cell_type": "code",
   "execution_count": 86,
   "id": "e0393e24-4bb6-4f3b-ae6b-44132b1e5cbf",
   "metadata": {},
   "outputs": [],
   "source": [
    "# Get plate names\n",
    "plate_names <- unique(MSD_HAI_good$Plate.Name)\n",
    "\n",
    "# Initialize\n",
    "plate_dfs <- list()\n",
    "\n",
    "# Split the data frame by the Plate.Name column and store in the list\n",
    "for (plate in plate_names) {\n",
    "  # Create a subset for each plate\n",
    "  subset_df <- MSD_HAI_good %>% filter(Plate.Name == plate)\n",
    "  \n",
    "  # Create a valid list name by replacing spaces and such\n",
    "  valid_plate_name <- make.names(plate)\n",
    "  \n",
    "  # Store the subset data frame in the list\n",
    "  plate_dfs[[valid_plate_name]] <- subset_df\n",
    "}"
   ]
  },
  {
   "cell_type": "code",
   "execution_count": 87,
   "id": "253635ed-1676-4858-a799-19f4cecde817",
   "metadata": {},
   "outputs": [],
   "source": [
    "# Rename each plate accordingly and make into dataframe\n",
    "Plate_2BMACA7038_data <- as.data.frame(plate_dfs[[make.names(plate_names[3])]])\n",
    "Plate_2BMACA7037_data <- as.data.frame(plate_dfs[[make.names(plate_names[1])]])\n",
    "Plate_2BMACA7036_data <- as.data.frame(plate_dfs[[make.names(plate_names[2])]])"
   ]
  },
  {
   "cell_type": "code",
   "execution_count": 88,
   "id": "0763451e-1444-403a-9e51-984fd043b2a4",
   "metadata": {},
   "outputs": [],
   "source": [
    "# Merge with PBMC-ID data from plate layout\n",
    "plate_7036 <- left_join(Plate_2BMACA7036_data, Plate_2BMACAI036, by = \"Well\")\n",
    "plate_7037 <- left_join(Plate_2BMACA7037_data, Plate_2BMACAI037, by = \"Well\")\n",
    "plate_7038 <- left_join(Plate_2BMACA7038_data, Plate_2BMACA7038, by = \"Well\")"
   ]
  },
  {
   "cell_type": "code",
   "execution_count": 89,
   "id": "82d978ff-1b1f-4373-ad8f-af0cc22e0621",
   "metadata": {},
   "outputs": [
    {
     "name": "stderr",
     "output_type": "stream",
     "text": [
      "\u001b[1m\u001b[22mNew names:\n",
      "\u001b[36m•\u001b[39m `` -> `...1`\n"
     ]
    }
   ],
   "source": [
    "## load pilot data (7 samples each cohort)\n",
    "MSD_pilot_HAI <- read.csv(\"/home//workspace/private//bri_figure_all_files_test//jupyter/BRI_Figures_Final_V2/Dataset/HAI/EXP-01072 MSD Raw Data_pilot2.csv\", skip = 1)\n",
    "\n",
    "#add a percent inhibition column\n",
    "MSD_pilot_HAI_good <- MSD_pilot_HAI %>%\n",
    "                        group_by(Plate.Name, Assay) %>%\n",
    "                        mutate(calib_mean = mean(Mean[Well %in% c(\"H01\", \"H02\")], na.rm = TRUE)) %>%\n",
    "                        mutate(perc_inhib = (1- (Mean / calib_mean))*100)\n",
    "\n",
    "# load plate layout\n",
    "sampleinfo <- \"/home//workspace/private//bri_figure_all_files_test//jupyter/BRI_Figures_Final_V2/Dataset/HAI//HAI_pilot_Sample_Info_031924.xlsx\"\n",
    "data_sheet2 <- read_excel(sampleinfo, sheet = 2)\n",
    "data_sheet2_top <- head(data_sheet2, n = 8)\n",
    "data_sheet2_top <- as.data.frame(data_sheet2_top)\n",
    "rownames(data_sheet2_top) <- data_sheet2_top[[1]]\n",
    "data_sheet2_top <- data_sheet2_top[-1]\n",
    "\n",
    "colnames(data_sheet2_top) <- sprintf(\"%02d\", 1:12)\n",
    "rownames(data_sheet2_top) <- LETTERS[1:8]\n",
    "\n",
    "long_format <- data_sheet2_top %>%\n",
    "    rownames_to_column(var = \"Row\") %>%\n",
    "    gather(key = \"Column\", value = \"pbmc_sample_id\", -Row) %>%\n",
    "    mutate(Well = paste0(Row, Column)) %>%\n",
    "    select(pbmc_sample_id, Well)\n",
    "\n",
    "MSD_pilot_HAI_PBMCs <- left_join(MSD_pilot_HAI_good, long_format, by = \"Well\")\n",
    "\n",
    "MSD_pilot_HAI_PBMCs <- MSD_pilot_HAI_PBMCs %>%\n",
    "  filter(Plate.Name %in% c(\"Plate_2BMACAF015\", \"Plate_2BMACAP012\", \"Plate_2BMACAZ010\"))"
   ]
  },
  {
   "cell_type": "code",
   "execution_count": 90,
   "id": "b062e0f2-8bb7-455d-9ad8-48ad6929322f",
   "metadata": {},
   "outputs": [],
   "source": [
    "MSD_pilot_HAI_PBMCs$Batch<-\"EXP-01072\""
   ]
  },
  {
   "cell_type": "code",
   "execution_count": 91,
   "id": "14ac049c-56eb-4f30-88f1-ca57e7175cf6",
   "metadata": {},
   "outputs": [],
   "source": [
    "filtered_data <- MSD_pilot_HAI_PBMCs %>%\n",
    "  filter(grepl(\"PL\", Sample)) %>% group_by(Sample,Assay)%>% \n",
    "  mutate(Mean = mean(Adjusted.Signal),\n",
    "         CV = ( sd(Adjusted.Signal)/mean(Adjusted.Signal) ) * 100)\n",
    "\n",
    "remaining_data <- MSD_pilot_HAI_PBMCs %>%\n",
    "  filter(!grepl(\"PL\", Sample))\n",
    "\n",
    "final_data <- bind_rows(remaining_data, filtered_data)\n",
    "MSD_pilot_HAI_PBMCs<-final_data"
   ]
  },
  {
   "cell_type": "code",
   "execution_count": 92,
   "id": "8123c681-e69d-4b63-a404-f0d89b56fe71",
   "metadata": {},
   "outputs": [],
   "source": [
    "# combine all three plates\n",
    "plates_combined <- rbind(plate_7036, plate_7037, plate_7038, MSD_pilot_HAI_PBMCs)\n",
    "\n",
    "# change the way pbmc_sample_id are labelled for merging with metadata later\n",
    "plates_combined$pbmc_sample_id <- sub(\"-.*\", \"\", plates_combined$pbmc_sample_id)\n",
    "plates_combined$pbmc_sample_id <- gsub(\"^PL\", \"PB\", plates_combined$pbmc_sample_id)"
   ]
  },
  {
   "cell_type": "code",
   "execution_count": 93,
   "id": "7ea7f126-f62c-41e2-be43-cce8bb6fdb75",
   "metadata": {},
   "outputs": [],
   "source": [
    "# process each plate. keep the mean perc_inhib, and single value\n",
    "plates_combined <- plates_combined %>%\n",
    "  group_by(Assay, pbmc_sample_id) %>%\n",
    "  mutate(Mean_Perc_Inhib = mean(perc_inhib, na.rm = TRUE)) %>%\n",
    "  ungroup()\n",
    "\n",
    "plates_combined <- plates_combined %>%\n",
    "  distinct(Assay, pbmc_sample_id, .keep_all = TRUE)"
   ]
  },
  {
   "cell_type": "code",
   "execution_count": 94,
   "id": "1cd3ea43-5956-4ff2-8c10-c9bd44736328",
   "metadata": {},
   "outputs": [
    {
     "data": {
      "text/plain": [
       "             \n",
       "              EXP-01072 EXP-01111\n",
       "  BLANK               0        10\n",
       "  CAL 1              10         0\n",
       "  CAL 2              10         0\n",
       "  CAL 3              10         0\n",
       "  CAL 4              10         0\n",
       "  CAL 5              10         0\n",
       "  CAL 6              10         0\n",
       "  CAL 7              10         0\n",
       "  CAL 8              10         0\n",
       "  PB00338             0        10\n",
       "  PB00345             0        10\n",
       "  PB00347            10         0\n",
       "  PB00349             0        10\n",
       "  PB00356             0        10\n",
       "  PB00357             0        10\n",
       "  PB00359             0        10\n",
       "  PB00362             0        10\n",
       "  PB00363             0        10\n",
       "  PB00365             0        10\n",
       "  PB00367             0        10\n",
       "  PB00368             0        10\n",
       "  PB00370             0        10\n",
       "  PB00374             0        10\n",
       "  PB00375             0        10\n",
       "  PB00377            10         0\n",
       "  PB00380             0        10\n",
       "  PB00382             0        10\n",
       "  PB00383             0        10\n",
       "  PB00384             0        10\n",
       "  PB00385             0        10\n",
       "  PB00386            10         0\n",
       "  PB00387             0        10\n",
       "  PB00393             0        10\n",
       "  PB00394             0        10\n",
       "  PB00395             0        10\n",
       "  PB00396            10         0\n",
       "  PB00398             0        10\n",
       "  PB00501            10         0\n",
       "  PB00503             0        10\n",
       "  PB00505            10         0\n",
       "  PB00506             0        10\n",
       "  PB00507             0        10\n",
       "  PB00509             0        10\n",
       "  PB00510             0        10\n",
       "  PB00512             0        10\n",
       "  PB00513             0        10\n",
       "  PB00517             0        10\n",
       "  PB00518            10         0\n",
       "  PB00519            10         0\n",
       "  PB00523            10         0\n",
       "  PB00524             0        10\n",
       "  PB00525             0        10\n",
       "  PB00526             0        10\n",
       "  PB00527             0        10\n",
       "  PB00529             0        10\n",
       "  PB00533             0        10\n",
       "  PB00535            10         0\n",
       "  PB00536            10         0\n",
       "  PB00540            10         0\n",
       "  PB00543             0        10\n",
       "  PB00545             0        10\n",
       "  PB00546             0        10\n",
       "  PB00547             0        10\n",
       "  PB00550             0        10\n",
       "  PB00554            10         0\n",
       "  PB00559             0        10\n",
       "  PB00561             0        10\n",
       "  PB00562             0        10\n",
       "  PB00564            10         0\n",
       "  PB00565             0        10\n",
       "  PB00566             0        10\n",
       "  PB00569             0        10\n",
       "  PB00574             0        10\n",
       "  PB00575             0        10\n",
       "  PB00577            10         0\n",
       "  PB00578             0        10\n",
       "  PB00579             0        10\n",
       "  PB00580             0        10\n",
       "  PB00584             0        10\n",
       "  PB00585            10         0\n",
       "  PB00588             0        10\n",
       "  PB00589             0        10\n",
       "  PB00592             0        10\n",
       "  PB00596             0        10\n",
       "  PB00597             0        10\n",
       "  PB00599             0        10\n",
       "  PB00600             0        10\n",
       "  PB00602             0        10\n",
       "  PB00604             0        10\n",
       "  PB00605             0        10\n",
       "  PB00614             0        10\n",
       "  PB00617             0        10\n",
       "  PB00620             0        10\n",
       "  PB00621             0        10\n",
       "  PB00622            10         0\n",
       "  PB00627             0        10\n",
       "  PB00628             0        10\n",
       "  PB00629            10         0\n",
       "  PB00630             0        10\n",
       "  PB00631             0        10\n",
       "  PB00633             0        10\n",
       "  PB00635             0        10\n",
       "  PB00638             0        10\n",
       "  PB00640             0        10\n",
       "  PB00641             0        10\n",
       "  PB00645            10         0\n",
       "  PB00646            10         0\n",
       "  PB00648             0        10\n",
       "  PB00649             0        10\n",
       "  PB00650             0        10\n",
       "  PB01410             0        10\n",
       "  PB01412             0        10\n",
       "  PB01413             0        10\n",
       "  PB01414             0        10\n",
       "  PB01415            10         0\n",
       "  PB01417            10         0\n",
       "  PB01418             0        10\n",
       "  PB01419            10         0\n",
       "  PB01421             0        10\n",
       "  PB01425             0        10\n",
       "  PB01428            10         0\n",
       "  PB01430             0        10\n",
       "  PB01431             0        10\n",
       "  PB01434             0        10\n",
       "  PB01435             0        10\n",
       "  PB01436             0        10\n",
       "  PB01439            10         0\n",
       "  PB01441             0        10\n",
       "  PB01442             0        10\n",
       "  PB01444             0        10\n",
       "  PB01446             0        10\n",
       "  PB01448             0        10\n",
       "  PB01453             0        10\n",
       "  PB01454             0        10\n",
       "  PB01455             0        10\n",
       "  PB01507             0        10\n",
       "  PB01509             0        10\n",
       "  PB01512             0        10\n",
       "  PB01514             0        10\n",
       "  PB01548            10         0\n",
       "  PB01585             0        10\n",
       "  PB01587             0        10\n",
       "  PB01978             0        10\n",
       "  STD00002401         0        10\n",
       "  STD00002402         0        10\n",
       "  STD00002403         0        10\n",
       "  STD00002404         0        10\n",
       "  STD00002405         0        10\n",
       "  STD00002406         0        10"
      ]
     },
     "metadata": {},
     "output_type": "display_data"
    }
   ],
   "source": [
    "table(plates_combined$pbmc_sample_id,plates_combined$Batch)"
   ]
  },
  {
   "cell_type": "code",
   "execution_count": 95,
   "id": "3578b2e9-4b87-4eed-a371-c364618ddd59",
   "metadata": {},
   "outputs": [],
   "source": [
    "plates_combined$Sample.Kit.ID<-gsub(\"PB\",\"KT\",plates_combined$pbmc_sample_id)"
   ]
  },
  {
   "cell_type": "code",
   "execution_count": 97,
   "id": "7200e91b-ace9-4e09-8540-7508d86f3537",
   "metadata": {},
   "outputs": [
    {
     "data": {
      "text/plain": [
       "\n",
       "EXP-01072 EXP-01111 \n",
       "      340      1150 "
      ]
     },
     "metadata": {},
     "output_type": "display_data"
    }
   ],
   "source": [
    "table(plates_combined$Batch)"
   ]
  },
  {
   "cell_type": "markdown",
   "id": "f0028481-d40b-4984-9af4-84d1f89c9548",
   "metadata": {},
   "source": [
    "# All Other Batch"
   ]
  },
  {
   "cell_type": "code",
   "execution_count": 98,
   "id": "081d4887-7d99-4dc4-b722-708812eac076",
   "metadata": {},
   "outputs": [],
   "source": [
    "file_list<-list.files(\"/home//workspace/private/bri_figure_all_files_test/jupyter/BRI_Figures_Final_V2/Dataset/HAI/\",pattern=\"Plan\",full.names = TRUE)"
   ]
  },
  {
   "cell_type": "code",
   "execution_count": 100,
   "id": "e0d7be5d-68ec-4438-afaa-58d838ee63ee",
   "metadata": {},
   "outputs": [],
   "source": [
    "df_list<-mclapply(file_list,function(file_path) {\n",
    "df<-read.csv(file_path)\n",
    "\n",
    "df<-df %>%\n",
    "  group_by(Plate.Name, Assay) %>%\n",
    "  mutate(calib_mean = mean(Mean[Sample.Group==\"Blanks\"&Sample==\"BLANK\"], na.rm = TRUE)) %>%\n",
    "  mutate(perc_inhib = (1 - (Mean / calib_mean)) * 100)%>% arrange(Assay,Sample,Plate.Name)\n",
    "\n",
    "df$Batch=str_extract(file_path, \"Plan-\\\\d+_MSD_HAI_Batch\\\\d+\")\n",
    "\n",
    "df$Mean_Perc_Inhib<-df$perc_inhib\n",
    "df<-df%>%\n",
    "  distinct(Assay, Sample.Kit.ID\t,Plate.Name\t, .keep_all = TRUE)\n",
    "return(df)\n",
    "\n",
    "},mc.cores=7)"
   ]
  },
  {
   "cell_type": "code",
   "execution_count": 101,
   "id": "e21a7eba-2e72-4e2c-9aef-f43cd99a8eb0",
   "metadata": {},
   "outputs": [],
   "source": [
    "df_combined<-do.call(plyr::rbind.fill,df_list )"
   ]
  },
  {
   "cell_type": "code",
   "execution_count": 102,
   "id": "be93d86e-8d75-44c5-83a5-5545157cd4ae",
   "metadata": {},
   "outputs": [],
   "source": [
    "df<-read.csv(file_list[1])\n"
   ]
  },
  {
   "cell_type": "code",
   "execution_count": 103,
   "id": "8de6491f-36e7-4040-91d8-8d8dd0dd8bc2",
   "metadata": {},
   "outputs": [],
   "source": [
    "df<-plyr::rbind.fill(df_combined,plates_combined)"
   ]
  },
  {
   "cell_type": "code",
   "execution_count": 104,
   "id": "db096ec7-9f25-44ab-bbcc-610766c2edfd",
   "metadata": {},
   "outputs": [],
   "source": [
    "df<-df %>% select(Sample.Kit.ID,\n",
    "                  Batch,\n",
    "                  Plate.Name,\n",
    "                  Sample.Group,\n",
    "                  Sample,Assay,\n",
    "                  CV,\n",
    "                  calib_mean,\n",
    "                  Signal,Mean,\n",
    "                  Mean_Perc_Inhib)"
   ]
  },
  {
   "cell_type": "code",
   "execution_count": 105,
   "id": "4da4ffed-563a-4ebc-a94f-c4db2c3b6abd",
   "metadata": {},
   "outputs": [],
   "source": [
    "write.csv(df,\"HAI_All_Batch_for_QC.csv\")"
   ]
  },
  {
   "cell_type": "code",
   "execution_count": null,
   "id": "a3590942-50b6-4250-b359-7488ab0f8445",
   "metadata": {},
   "outputs": [],
   "source": []
  },
  {
   "cell_type": "code",
   "execution_count": null,
   "id": "fc3a715a-0b4b-4198-8dba-c1443b565a6e",
   "metadata": {},
   "outputs": [],
   "source": []
  },
  {
   "cell_type": "code",
   "execution_count": null,
   "id": "71849e54-8a96-43c9-aa58-cac1fe1c3d83",
   "metadata": {},
   "outputs": [],
   "source": []
  },
  {
   "cell_type": "code",
   "execution_count": null,
   "id": "c3cc94c6-e0cd-4183-b629-5d15fba362fb",
   "metadata": {},
   "outputs": [],
   "source": []
  },
  {
   "cell_type": "code",
   "execution_count": null,
   "id": "2e976776-49b4-43a2-a5d5-cbee5df09c58",
   "metadata": {},
   "outputs": [],
   "source": []
  },
  {
   "cell_type": "code",
   "execution_count": null,
   "id": "2840a607-020c-4e7a-930c-3ca8cba4feed",
   "metadata": {},
   "outputs": [],
   "source": []
  }
 ],
 "metadata": {
  "kernelspec": {
   "display_name": "R_BRI_Figures",
   "language": "R",
   "name": "r_bri_figures"
  },
  "language_info": {
   "codemirror_mode": "r",
   "file_extension": ".r",
   "mimetype": "text/x-r-source",
   "name": "R",
   "pygments_lexer": "r",
   "version": "4.3.2"
  }
 },
 "nbformat": 4,
 "nbformat_minor": 5
}
