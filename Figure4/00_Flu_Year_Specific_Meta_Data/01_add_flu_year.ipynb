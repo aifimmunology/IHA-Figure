{
 "cells": [
  {
   "cell_type": "code",
   "execution_count": 3,
   "id": "41cb002b-a3a1-446e-98ad-8fab35b7a54e",
   "metadata": {},
   "outputs": [],
   "source": [
    "library(dplyr)"
   ]
  },
  {
   "cell_type": "code",
   "execution_count": 4,
   "id": "591a8722-55a6-478d-8be2-2747425cb2c9",
   "metadata": {},
   "outputs": [],
   "source": [
    "meta_data=read.csv(\"/home//workspace/IHA_Figure_Revision/Dataset/scRNA_meta_data-2024-05-09.csv\")\n",
    "meta_data$sample.drawDate <- as.Date(meta_data$sample.drawDate)\n",
    " \n",
    "meta_data <- meta_data %>%\n",
    "  mutate(Flu_Year = case_when(\n",
    "    sample.drawDate <= as.Date('2020-07-01') ~ '2019-2020',\n",
    "    sample.drawDate > as.Date('2020-07-01') & sample.drawDate <= as.Date('2021-07-01') ~ '2020-2021',\n",
    "    sample.drawDate > as.Date('2021-07-01') & sample.drawDate <= as.Date('2022-07-01') ~ '2021-2022',\n",
    "    sample.drawDate > as.Date('2022-07-01') & sample.drawDate <= as.Date('2023-07-01') ~ '2022-2023',\n",
    "    TRUE ~ \"NA\"\n",
    "  ))\n",
    "\n",
    "meta_data <- meta_data %>%\n",
    "  mutate(Flu_Day = case_when(\n",
    "    sample.visitName\t%in% c(\"Flu Year 1 Day 0\",\"Flu Year 2 Day 0\",\"Immune Variation Day 0\") ~ 'Day_0',\n",
    "    sample.visitName\t%in% c(\"Flu Year 1 Day 7\",\"Flu Year 2 Day 7\",'Immune Variation Day 7') ~ 'Day_7',\n",
    "    sample.visitName\t%in% c(\"Flu Year 1 Day 90\",\"Flu Year 2 Day 90\",'Immune Variation Day 90') ~ 'Day_90',\n",
    "    sample.visitName\t%in% c(\"Flu Year 1 Stand-Alone\",\"Flu Year 2 Stand-Alone\",\"Flu Year 3 Stand-Alone\") ~ 'Stand-Alone',\n",
    "    TRUE ~ sample.visitName\n",
    "  ))\n",
    "\n",
    "meta_data <- meta_data %>%\n",
    "  mutate(Visit_Type = case_when(\n",
    "    startsWith(sample.visitName, \"Flu Year\") ~ \"FluYear\",\n",
    "    startsWith(sample.visitName, \"Immune Variation\") ~ \"ImmVar\",\n",
    "    TRUE ~ sample.visitName  \n",
    "  ))\n",
    "\n",
    "meta_data <- meta_data %>%\n",
    "  mutate(Year_N = case_when(\n",
    "    startsWith(sample.visitName, \"Flu Year 1\") ~ \"Year 1\",\n",
    "    startsWith(sample.visitName, \"Flu Year 2\") ~ \"Year 2\",\n",
    "      startsWith(sample.visitName, \"Flu Year 2\") ~ \"Year 3\",\n",
    "    startsWith(sample.visitName, \"Immune Variation\") ~ \"ImmVar\",\n",
    "    TRUE ~ sample.visitName  \n",
    "  ))\n",
    "\n",
    "meta_data <- meta_data %>% \n",
    "  dplyr::group_by(Year_N, subject.subjectGuid, Visit_Type) %>% \n",
    "  dplyr::arrange(Flu_Day) %>% \n",
    "  dplyr::mutate(Flu_Year = first(Flu_Year))\n",
    "\n",
    "meta_data$Visit_Flu_Year<-paste0(meta_data$Visit_Type,\"_\",meta_data$Flu_Year,\"_\",meta_data$Flu_Day)"
   ]
  },
  {
   "cell_type": "code",
   "execution_count": 6,
   "id": "9c85000a-c0fb-4770-ae9e-713b90c1e1c7",
   "metadata": {},
   "outputs": [],
   "source": [
    "write.csv(meta_data,\"meta_data.csv\")"
   ]
  },
  {
   "cell_type": "code",
   "execution_count": null,
   "id": "4f477c82-9dd3-415f-920e-a7ec06f025f1",
   "metadata": {},
   "outputs": [],
   "source": []
  }
 ],
 "metadata": {
  "kernelspec": {
   "display_name": "R_BRI_Figures",
   "language": "R",
   "name": "r_bri_figures"
  },
  "language_info": {
   "codemirror_mode": "r",
   "file_extension": ".r",
   "mimetype": "text/x-r-source",
   "name": "R",
   "pygments_lexer": "r",
   "version": "4.3.2"
  }
 },
 "nbformat": 4,
 "nbformat_minor": 5
}
