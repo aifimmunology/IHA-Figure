{
 "cells": [
  {
   "cell_type": "code",
   "execution_count": 1,
   "id": "bd9c0721-79d9-45ff-aab1-5ad164e0fe50",
   "metadata": {},
   "outputs": [
    {
     "name": "stderr",
     "output_type": "stream",
     "text": [
      "Warning message:\n",
      "“package ‘dplyr’ was built under R version 4.3.3”\n",
      "Warning message:\n",
      "“package ‘tidyr’ was built under R version 4.3.3”\n",
      "Warning message:\n",
      "“package ‘tibble’ was built under R version 4.3.3”\n",
      "Warning message:\n",
      "“package ‘stringr’ was built under R version 4.3.3”\n",
      "Warning message:\n",
      "“package ‘reshape2’ was built under R version 4.3.3”\n",
      "\n",
      "Attaching package: ‘reshape2’\n",
      "\n",
      "\n",
      "The following object is masked from ‘package:tidyr’:\n",
      "\n",
      "    smiths\n",
      "\n",
      "\n",
      "Warning message:\n",
      "“package ‘ggsci’ was built under R version 4.3.3”\n",
      "Warning message:\n",
      "“package ‘rstatix’ was built under R version 4.3.3”\n",
      "\n",
      "Attaching package: ‘rstatix’\n",
      "\n",
      "\n",
      "The following object is masked from ‘package:stats’:\n",
      "\n",
      "    filter\n",
      "\n",
      "\n",
      "Warning message:\n",
      "“package ‘data.table’ was built under R version 4.3.3”\n",
      "\n",
      "Attaching package: ‘data.table’\n",
      "\n",
      "\n",
      "The following objects are masked from ‘package:reshape2’:\n",
      "\n",
      "    dcast, melt\n",
      "\n",
      "\n",
      "The following objects are masked from ‘package:dplyr’:\n",
      "\n",
      "    between, first, last\n",
      "\n",
      "\n",
      "Warning message:\n",
      "“package ‘viridis’ was built under R version 4.3.3”\n",
      "Loading required package: viridisLite\n",
      "\n",
      "Warning message:\n",
      "“package ‘viridisLite’ was built under R version 4.3.3”\n",
      "Warning message:\n",
      "“package ‘purrr’ was built under R version 4.3.3”\n",
      "\n",
      "Attaching package: ‘purrr’\n",
      "\n",
      "\n",
      "The following object is masked from ‘package:data.table’:\n",
      "\n",
      "    transpose\n",
      "\n",
      "\n"
     ]
    }
   ],
   "source": [
    "suppressPackageStartupMessages(library(dplyr))\n",
    "suppressPackageStartupMessages(library(tidyr))\n",
    "suppressPackageStartupMessages(library(tibble))\n",
    "suppressPackageStartupMessages(library(ggplot2))\n",
    "suppressPackageStartupMessages(library(stringr))\n",
    "library(ggrepel)\n",
    "library(reshape2)\n",
    "library(ggsci)\n",
    "library(rstatix)\n",
    "library(ggpubr)\n",
    "library(data.table)\n",
    "library(viridis)\n",
    "library(parallel)\n",
    "library(purrr)\n",
    "source('/home/workspace/private/bri_figure_all_files_test/jupyter/BRI_Figures_Final_V2/helper_function/helper_function_IHA.r')"
   ]
  },
  {
   "cell_type": "code",
   "execution_count": 2,
   "id": "a28d1a2a-c20f-46ef-ad65-d136c31a890b",
   "metadata": {},
   "outputs": [],
   "source": [
    "meta_data<-read.csv(\"/home/workspace/IHA_Review_Analysis/Other_Analysis/13_MSD_HAI_analysis/meta_data.csv\")\n",
    "meta_data_subset <- meta_data %>%\n",
    "    filter(Visit_Type == \"FluYear\", Flu_Year %in% c(\"2020-2021\", \"2021-2022\"), Flu_Day != \"Stand-Alone\") %>%\n",
    "    group_by(subjectGuid, Flu_Year) %>%\n",
    "    mutate(entry_count = n()) %>%\n",
    "    filter(entry_count == 3) %>%\n",
    "    ungroup()"
   ]
  },
  {
   "cell_type": "markdown",
   "id": "f9776a54-f9df-4ba3-80e7-8ccdc56926e3",
   "metadata": {},
   "source": [
    "# Read mean expression df"
   ]
  },
  {
   "cell_type": "code",
   "execution_count": 3,
   "id": "aead5e7b-1302-4b8a-9d3f-30633ebeecaa",
   "metadata": {},
   "outputs": [
    {
     "name": "stdout",
     "output_type": "stream",
     "text": [
      "[1] \"Total reading time: 53.218 seconds\"\n",
      "[1] \"The length of the list matches the length of the input path.\"\n"
     ]
    }
   ],
   "source": [
    "aggregated_count_file_list<-paste0(\"/home/workspace/private/bri_figure_all_files_test/jupyter/BRI_Figures_Final_V2/Dataset/scRNA/BRI/Average_LogNormalized_Expression/Average_LogNormalized_Expression_of_Celltypes_by_Sample_AIFI_L3/\",meta_data_subset$pbmc_sample_id,\".csv\")\n",
    "df_list<-read_pseudobulk_expression(aggregated_count_file_list,mc_cores=30)"
   ]
  },
  {
   "cell_type": "code",
   "execution_count": 14,
   "id": "dee968ce-ae2b-4220-83c4-b73abf82619d",
   "metadata": {},
   "outputs": [
    {
     "name": "stderr",
     "output_type": "stream",
     "text": [
      "Warning message:\n",
      "“The melt generic in data.table has been passed a data.frame and will attempt to redirect to the relevant reshape2 method; please note that reshape2 is superseded and is no longer actively developed, and this redirection is now deprecated. To continue using melt methods from reshape2 while both libraries are attached, e.g. melt.list, you can prepend the namespace, i.e. reshape2::melt(exp_matrix). In the next version, this warning will become an error.”\n"
     ]
    }
   ],
   "source": [
    "selected_genes<-c(\"IGHG1\",\"IGHG2\",\"IGHG3\",\"IGHG4\",\"IGHM\",\"IGHD\",\"CD19\")\n",
    "celltype<-'CD27- effector B cell'\n",
    "df<-filter_genes_and_celltype(df_list, selected_genes, celltype, longformat = TRUE)\n"
   ]
  },
  {
   "cell_type": "code",
   "execution_count": 15,
   "id": "f1a28aa3-e4ec-4943-8304-d32bb6471081",
   "metadata": {},
   "outputs": [],
   "source": [
    "df <- left_join(df, meta_data_subset[c(\"subject.subjectGuid\",\"pbmc_sample_id\", \"Flu_Day\", \"Flu_Year\")], by = c(pbmc_sample_id = \"pbmc_sample_id\"))\n",
    "\n",
    "df<-df %>% filter(Flu_Day==\"Day_7\")\n",
    "\n",
    "df_wide<-df %>% select(Gene,\tpbmc_sample_id,Mean_Expression)%>% \n",
    "  pivot_wider(names_from = Gene\t, values_from = Mean_Expression)\n",
    "\n",
    "colnames(df_wide)[2:8]<-paste0(celltype,\"-Mean_Exp-\",colnames(df_wide)[2:8],\"_D7\")\n",
    "\n",
    "df_wide <- left_join(df_wide, meta_data_subset[c(\"subject.subjectGuid\",\"pbmc_sample_id\", \"Flu_Day\", \"Flu_Year\")], by = c(pbmc_sample_id = \"pbmc_sample_id\"))"
   ]
  },
  {
   "cell_type": "code",
   "execution_count": 16,
   "id": "04fdc732-b2ea-4f32-94cf-3c95e289f44c",
   "metadata": {},
   "outputs": [],
   "source": [
    "write.csv(df_wide,\"mean_exp_CD27negB.csv\")"
   ]
  },
  {
   "cell_type": "code",
   "execution_count": 17,
   "id": "b980f26f-768f-403b-9bcb-4c37c6048e74",
   "metadata": {},
   "outputs": [
    {
     "name": "stderr",
     "output_type": "stream",
     "text": [
      "Warning message in FUN(X[[i]], ...):\n",
      "“Cell type Plasma cell not found in the dataframe.”\n",
      "Warning message in FUN(X[[i]], ...):\n",
      "“Cell type Plasma cell not found in the dataframe.”\n",
      "Warning message in FUN(X[[i]], ...):\n",
      "“Cell type Plasma cell not found in the dataframe.”\n",
      "Warning message in FUN(X[[i]], ...):\n",
      "“Cell type Plasma cell not found in the dataframe.”\n",
      "Warning message:\n",
      "“The melt generic in data.table has been passed a data.frame and will attempt to redirect to the relevant reshape2 method; please note that reshape2 is superseded and is no longer actively developed, and this redirection is now deprecated. To continue using melt methods from reshape2 while both libraries are attached, e.g. melt.list, you can prepend the namespace, i.e. reshape2::melt(exp_matrix). In the next version, this warning will become an error.”\n"
     ]
    }
   ],
   "source": [
    "selected_genes<-c(\"IGHG1\",\"IGHG2\",\"IGHG3\",\"IGHG4\",\"IGHM\",\"IGHD\")\n",
    "celltype<-'Plasma cell'\n",
    "df<-filter_genes_and_celltype(df_list, selected_genes, celltype, longformat = TRUE)"
   ]
  },
  {
   "cell_type": "code",
   "execution_count": 18,
   "id": "f14affa3-8b51-4a6c-a497-44037c10e2cf",
   "metadata": {},
   "outputs": [],
   "source": [
    "df <- left_join(df, meta_data_subset[c(\"subject.subjectGuid\",\"pbmc_sample_id\", \"Flu_Day\", \"Flu_Year\")], by = c(pbmc_sample_id = \"pbmc_sample_id\"))\n",
    "\n",
    "df<-df %>% filter(Flu_Day==\"Day_7\")\n",
    "\n",
    "df_wide<-df %>% select(Gene,\tpbmc_sample_id,Mean_Expression)%>% \n",
    "  pivot_wider(names_from = Gene\t, values_from = Mean_Expression)\n",
    "\n",
    "colnames(df_wide)[2:7]<-paste0(celltype,\"-Mean_Exp-\",colnames(df_wide)[2:7],\"_D7\")\n",
    "\n",
    "df_wide <- left_join(df_wide, meta_data_subset[c(\"subject.subjectGuid\",\"pbmc_sample_id\", \"Flu_Day\", \"Flu_Year\")], by = c(pbmc_sample_id = \"pbmc_sample_id\"))\n"
   ]
  },
  {
   "cell_type": "code",
   "execution_count": 19,
   "id": "38db9217-7ad6-4efe-9ec7-5143174316ef",
   "metadata": {},
   "outputs": [],
   "source": [
    "write.csv(df_wide,\"mean_exp_PlasmaCells.csv\")"
   ]
  },
  {
   "cell_type": "code",
   "execution_count": null,
   "id": "9f3d179f-1fe3-4de7-bfa7-8674e86565e1",
   "metadata": {},
   "outputs": [],
   "source": []
  }
 ],
 "metadata": {
  "kernelspec": {
   "display_name": "R_BRI_Figures",
   "language": "R",
   "name": "r_bri_figures"
  },
  "language_info": {
   "codemirror_mode": "r",
   "file_extension": ".r",
   "mimetype": "text/x-r-source",
   "name": "R",
   "pygments_lexer": "r",
   "version": "4.3.2"
  }
 },
 "nbformat": 4,
 "nbformat_minor": 5
}
