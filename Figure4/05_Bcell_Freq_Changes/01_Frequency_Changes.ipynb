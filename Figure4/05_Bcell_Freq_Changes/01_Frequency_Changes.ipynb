{
 "cells": [
  {
   "cell_type": "code",
   "execution_count": 58,
   "id": "9287264d-8580-450f-b74f-3ec46ec3bd53",
   "metadata": {},
   "outputs": [],
   "source": [
    "suppressPackageStartupMessages(library(dplyr))\n",
    "suppressPackageStartupMessages(library(tidyr))\n",
    "suppressPackageStartupMessages(library(tibble))\n",
    "suppressPackageStartupMessages(library(ggplot2))\n",
    "suppressPackageStartupMessages(library(stringr))\n",
    "library(reshape2)\n",
    "library(rstatix)\n",
    "library(ggpubr)\n",
    "library(data.table)\n",
    "library(parallel)\n"
   ]
  },
  {
   "cell_type": "code",
   "execution_count": 59,
   "id": "8597c9ce-edfb-4df1-9c29-1be3f1a021a6",
   "metadata": {},
   "outputs": [],
   "source": [
    "meta_data<-read.csv(\"/home/workspace/IHA_Review_Analysis/Other_Analysis/13_MSD_HAI_analysis/meta_data.csv\")\n",
    "meta_data_subset <- meta_data %>%\n",
    "    filter(Visit_Type == \"FluYear\", Flu_Year %in% c(\"2020-2021\", \"2021-2022\"), Flu_Day != \"Stand-Alone\") %>%\n",
    "    group_by(subjectGuid, Flu_Year) %>%\n",
    "    mutate(entry_count = n()) %>%\n",
    "    filter(entry_count == 3) %>%\n",
    "    ungroup()"
   ]
  },
  {
   "cell_type": "code",
   "execution_count": 60,
   "id": "19fc41ba-75c7-46d4-95b9-2636186741e3",
   "metadata": {},
   "outputs": [],
   "source": []
  },
  {
   "cell_type": "markdown",
   "id": "36f1a7b8-0474-4143-b025-eec96b5c6951",
   "metadata": {},
   "source": [
    "# Frequency Changes"
   ]
  },
  {
   "cell_type": "code",
   "execution_count": 61,
   "id": "33e36a65-535f-4b7b-be3d-bb95849796a1",
   "metadata": {},
   "outputs": [],
   "source": [
    "df<-read.csv('/home//workspace/private/bri_figure_all_files_test/jupyter/BRI_Figures_Final_V2/Dataset/diha_AIFI_L3_frequencies_2024-05-05.csv')"
   ]
  },
  {
   "cell_type": "code",
   "execution_count": 62,
   "id": "b0aa9dbe-6f22-4e3c-b26a-fd1a15590a7e",
   "metadata": {},
   "outputs": [],
   "source": [
    "df_subset<-df %>% filter(specimen.specimenGuid %in% meta_data_subset$pbmc_sample_id)"
   ]
  },
  {
   "cell_type": "code",
   "execution_count": 63,
   "id": "31a6b5f3-f360-451d-99c3-2dcb61419f02",
   "metadata": {},
   "outputs": [],
   "source": [
    "df_subset <- left_join(df_subset, meta_data_subset[c(\"pbmc_sample_id\", \"Flu_Day\", \"Flu_Year\")], by = c(specimen.specimenGuid = \"pbmc_sample_id\"))"
   ]
  },
  {
   "cell_type": "code",
   "execution_count": 64,
   "id": "a0e4c8d9-446d-4892-9ac2-c3456b23d3f3",
   "metadata": {},
   "outputs": [
    {
     "name": "stderr",
     "output_type": "stream",
     "text": [
      "\u001b[1m\u001b[22mAdding missing grouping variables: `AIFI_L3`, `Flu_Year`\n"
     ]
    }
   ],
   "source": [
    "freq_changes <- df_subset %>%\n",
    "    group_by(AIFI_L3, Flu_Year, subject.subjectGuid) %>%\n",
    "    select(subject.subjectGuid, AIFI_L3_clr, Flu_Day) %>%\n",
    "    tidyr::pivot_wider(names_from = Flu_Day, values_from = AIFI_L3_clr) %>%\n",
    "    mutate(Freq_Fold_Changes_D7_D0 = Day_7 - Day_0) %>%\n",
    "    mutate(Freq_Fold_Changes_D90_D0 = Day_90 - Day_0) %>%\n",
    "    select(subject.subjectGuid,AIFI_L3, Flu_Year, Freq_Fold_Changes_D7_D0,Freq_Fold_Changes_D90_D0)"
   ]
  },
  {
   "cell_type": "code",
   "execution_count": 65,
   "id": "43fb9038-9a10-4657-9770-85b30978d880",
   "metadata": {},
   "outputs": [],
   "source": [
    "write.csv(freq_changes,\"freq_changes.csv\") "
   ]
  },
  {
   "cell_type": "code",
   "execution_count": null,
   "id": "fb3c4e4a-5a59-4e76-98e1-8bdc459ae6da",
   "metadata": {},
   "outputs": [],
   "source": []
  },
  {
   "cell_type": "code",
   "execution_count": null,
   "id": "4cb52356-d275-46ca-9d18-addbf76d985e",
   "metadata": {},
   "outputs": [],
   "source": []
  },
  {
   "cell_type": "code",
   "execution_count": null,
   "id": "93d40fdb-2936-4bd5-a782-5d5cddafe1b3",
   "metadata": {},
   "outputs": [],
   "source": []
  },
  {
   "cell_type": "code",
   "execution_count": null,
   "id": "3363250e-6733-4d00-a378-9f74787c56a3",
   "metadata": {},
   "outputs": [],
   "source": []
  }
 ],
 "metadata": {
  "kernelspec": {
   "display_name": "R_BRI_Figures",
   "language": "R",
   "name": "r_bri_figures"
  },
  "language_info": {
   "codemirror_mode": "r",
   "file_extension": ".r",
   "mimetype": "text/x-r-source",
   "name": "R",
   "pygments_lexer": "r",
   "version": "4.3.2"
  }
 },
 "nbformat": 4,
 "nbformat_minor": 5
}
