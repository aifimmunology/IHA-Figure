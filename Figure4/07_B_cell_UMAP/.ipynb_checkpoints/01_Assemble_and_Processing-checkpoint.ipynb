{
 "cells": [
  {
   "cell_type": "code",
   "execution_count": 1,
   "id": "2c14b73f-6015-48ee-a309-f86dd9daa734",
   "metadata": {
    "scrolled": true
   },
   "outputs": [
    {
     "name": "stderr",
     "output_type": "stream",
     "text": [
      "/home/workspace/Aux_Envir/Python_BRI_Figures/lib/python3.11/site-packages/anndata/utils.py:429: FutureWarning: Importing read_csv from `anndata` is deprecated. Import anndata.io.read_csv instead.\n",
      "  warnings.warn(msg, FutureWarning)\n",
      "/home/workspace/Aux_Envir/Python_BRI_Figures/lib/python3.11/site-packages/anndata/utils.py:429: FutureWarning: Importing read_excel from `anndata` is deprecated. Import anndata.io.read_excel instead.\n",
      "  warnings.warn(msg, FutureWarning)\n",
      "/home/workspace/Aux_Envir/Python_BRI_Figures/lib/python3.11/site-packages/anndata/utils.py:429: FutureWarning: Importing read_hdf from `anndata` is deprecated. Import anndata.io.read_hdf instead.\n",
      "  warnings.warn(msg, FutureWarning)\n",
      "/home/workspace/Aux_Envir/Python_BRI_Figures/lib/python3.11/site-packages/anndata/utils.py:429: FutureWarning: Importing read_loom from `anndata` is deprecated. Import anndata.io.read_loom instead.\n",
      "  warnings.warn(msg, FutureWarning)\n",
      "/home/workspace/Aux_Envir/Python_BRI_Figures/lib/python3.11/site-packages/anndata/utils.py:429: FutureWarning: Importing read_mtx from `anndata` is deprecated. Import anndata.io.read_mtx instead.\n",
      "  warnings.warn(msg, FutureWarning)\n",
      "/home/workspace/Aux_Envir/Python_BRI_Figures/lib/python3.11/site-packages/anndata/utils.py:429: FutureWarning: Importing read_text from `anndata` is deprecated. Import anndata.io.read_text instead.\n",
      "  warnings.warn(msg, FutureWarning)\n",
      "/home/workspace/Aux_Envir/Python_BRI_Figures/lib/python3.11/site-packages/anndata/utils.py:429: FutureWarning: Importing read_umi_tools from `anndata` is deprecated. Import anndata.io.read_umi_tools instead.\n",
      "  warnings.warn(msg, FutureWarning)\n"
     ]
    }
   ],
   "source": [
    "import scanpy as sc\n",
    "import pandas as pd\n",
    "import os \n",
    "import anndata \n",
    "from concurrent.futures import ThreadPoolExecutor, as_completed,ProcessPoolExecutor\n",
    "from tqdm import tqdm\n",
    "import matplotlib.pyplot as plt\n",
    "sc.settings.n_jobs = 30\n"
   ]
  },
  {
   "cell_type": "code",
   "execution_count": 2,
   "id": "6ebfc3e6-fee1-42c3-bed4-4707bb734c2e",
   "metadata": {},
   "outputs": [],
   "source": [
    "meta_data=pd.read_csv(\"/home/workspace/IHA_Figure_Revision/Dataset/scRNA_meta_data-2024-05-09.csv\")"
   ]
  },
  {
   "cell_type": "code",
   "execution_count": 3,
   "id": "99a5f42e-d208-4b45-81cf-0201c7dbd627",
   "metadata": {},
   "outputs": [],
   "source": [
    "meta_data=meta_data[meta_data[\"sample.visitName\"].isin([\"Flu Year 1 Day 0\",\"Flu Year 1 Day 7\"])]"
   ]
  },
  {
   "cell_type": "code",
   "execution_count": 4,
   "id": "049514e1-201a-41e4-a80e-25495ace17e1",
   "metadata": {},
   "outputs": [
    {
     "name": "stdout",
     "output_type": "stream",
     "text": [
      "CPU times: user 88 μs, sys: 7 μs, total: 95 μs\n",
      "Wall time: 99.7 μs\n"
     ]
    }
   ],
   "source": [
    "%%time\n",
    "file_names= ['/home/workspace/IHA_Figure_Revision/Dataset/scRNA/BRI/h5ad/sample_h5ad/'+x+\".h5ad\" for x in meta_data['pbmc_sample_id'].tolist()]\n",
    "adata_list = []"
   ]
  },
  {
   "cell_type": "code",
   "execution_count": 22,
   "id": "ea5511be-cd97-4266-b19c-6275cb59cd67",
   "metadata": {},
   "outputs": [
    {
     "name": "stderr",
     "output_type": "stream",
     "text": [
      "100%|██████████| 184/184 [00:05<00:00, 35.53it/s]\n"
     ]
    }
   ],
   "source": [
    "def load_and_subsample(fp):\n",
    "    adata = sc.read_h5ad(fp)\n",
    "    pattern = 'effector B cell|Plasma|memory B'\n",
    "    mask = (\n",
    "        adata.obs['AIFI_L3']\n",
    "        .astype(str)\n",
    "        .str.contains(pattern, regex=True, case=False, na=False)\n",
    "    )\n",
    "    adata = adata[mask, :].copy()\n",
    "    if adata.shape[0] > 2000:\n",
    "        sc.pp.subsample(adata, n_obs=2000, random_state=3030)\n",
    "    return adata\n",
    "\n",
    "with ProcessPoolExecutor(max_workers=30) as executor:\n",
    "    futures = [executor.submit(load_and_subsample,file) for file in file_names]\n",
    "    \n",
    "    for future in tqdm(as_completed(futures), total=len(futures)):\n",
    "        adata = future.result()\n",
    "        if adata is not None:\n",
    "            adata_list.append(adata)"
   ]
  },
  {
   "cell_type": "code",
   "execution_count": 23,
   "id": "324a90bd-a03c-454d-b729-d7bf175f543e",
   "metadata": {},
   "outputs": [
    {
     "name": "stdout",
     "output_type": "stream",
     "text": [
      "CPU times: user 27.9 s, sys: 971 ms, total: 28.8 s\n",
      "Wall time: 29.1 s\n"
     ]
    },
    {
     "name": "stderr",
     "output_type": "stream",
     "text": [
      "/home/workspace/Aux_Envir/Python_BRI_Figures/lib/python3.11/site-packages/anndata/_core/anndata.py:1756: UserWarning: Observation names are not unique. To make them unique, call `.obs_names_make_unique`.\n",
      "  utils.warn_names_duplicates(\"obs\")\n"
     ]
    }
   ],
   "source": [
    "%%time\n",
    "def chunked_concat(lst, chunk_size=10):\n",
    "    chunks = [lst[i:i + chunk_size] for i in range(0, len(lst), chunk_size)]\n",
    "    merged = [anndata.concat(chunk, axis=0, merge=\"same\", index_unique=None) for chunk in chunks]\n",
    "    return anndata.concat(merged, axis=0, merge=\"same\", index_unique=None)\n",
    "\n",
    "sampled_adata = chunked_concat(adata_list, chunk_size=4)"
   ]
  },
  {
   "cell_type": "code",
   "execution_count": 24,
   "id": "a4b1b273-da2c-4c7c-9dbf-9b440074c017",
   "metadata": {},
   "outputs": [
    {
     "name": "stderr",
     "output_type": "stream",
     "text": [
      "/home/workspace/Aux_Envir/Python_BRI_Figures/lib/python3.11/site-packages/scanpy/preprocessing/_highly_variable_genes.py:696: ImplicitModificationWarning: Trying to modify attribute `._uns` of view, initializing view as actual.\n",
      "  adata.uns[\"hvg\"] = {\"flavor\": flavor}\n",
      "/home/workspace/Aux_Envir/Python_BRI_Figures/lib/python3.11/site-packages/anndata/_core/anndata.py:1756: UserWarning: Observation names are not unique. To make them unique, call `.obs_names_make_unique`.\n",
      "  utils.warn_names_duplicates(\"obs\")\n",
      "/home/workspace/Aux_Envir/Python_BRI_Figures/lib/python3.11/site-packages/anndata/_core/anndata.py:1756: UserWarning: Observation names are not unique. To make them unique, call `.obs_names_make_unique`.\n",
      "  utils.warn_names_duplicates(\"obs\")\n",
      "/home/workspace/Aux_Envir/Python_BRI_Figures/lib/python3.11/site-packages/scanpy/preprocessing/_scale.py:318: UserWarning: Received a view of an AnnData. Making a copy.\n",
      "  view_to_actual(adata)\n",
      "/home/workspace/Aux_Envir/Python_BRI_Figures/lib/python3.11/site-packages/anndata/_core/anndata.py:1756: UserWarning: Observation names are not unique. To make them unique, call `.obs_names_make_unique`.\n",
      "  utils.warn_names_duplicates(\"obs\")\n",
      "/home/workspace/Aux_Envir/Python_BRI_Figures/lib/python3.11/site-packages/anndata/_core/anndata.py:1756: UserWarning: Observation names are not unique. To make them unique, call `.obs_names_make_unique`.\n",
      "  utils.warn_names_duplicates(\"obs\")\n"
     ]
    },
    {
     "name": "stdout",
     "output_type": "stream",
     "text": [
      "CPU times: user 50min 54s, sys: 2min 56s, total: 53min 50s\n",
      "Wall time: 7min 9s\n"
     ]
    }
   ],
   "source": [
    "%%time\n",
    "sampled_adata.raw=sampled_adata\n",
    "sc.pp.normalize_total(sampled_adata, target_sum=1e4)\n",
    "sc.pp.log1p(sampled_adata)\n",
    "\n",
    "igl_genes = [gene for gene in sampled_adata.var_names if gene.startswith(\"IGL\")]\n",
    "igk_genes = [gene for gene in sampled_adata.var_names if gene.startswith(\"IGK\")]\n",
    "ighc_genes = [gene for gene in sampled_adata.var_names if gene.startswith(\"IGH\")]\n",
    "exl_genes = igl_genes + igk_genes + ighc_genes\n",
    "\n",
    "mask = ~sampled_adata.var_names.isin(exl_genes)\n",
    "sampled_adata = sampled_adata[:, mask]\n",
    "sc.pp.highly_variable_genes(sampled_adata)\n",
    "sampled_adata = sampled_adata[:, sampled_adata.var_names[sampled_adata.var['highly_variable']]]\n",
    "\n",
    "sc.pp.scale(sampled_adata)\n",
    "sc.tl.pca(sampled_adata, svd_solver='arpack')\n",
    "sc.pp.neighbors(sampled_adata, n_neighbors=50, use_rep='X_pca', n_pcs=20)\n",
    "sc.tl.umap(sampled_adata,random_state=3030)"
   ]
  },
  {
   "cell_type": "code",
   "execution_count": 25,
   "id": "9d770c82-423a-4fb0-afe5-82815ce9b338",
   "metadata": {},
   "outputs": [],
   "source": [
    "del sampled_adata.obs['barcodes']"
   ]
  },
  {
   "cell_type": "code",
   "execution_count": 27,
   "id": "70f8aae1-6d31-4b81-9562-518c4f9404dd",
   "metadata": {},
   "outputs": [
    {
     "data": {
      "text/plain": [
       "AnnData object with n_obs × n_vars = 358180 × 1574\n",
       "    obs: 'original_barcodes', 'cell_name', 'batch_id', 'pool_id', 'chip_id', 'well_id', 'n_genes', 'n_reads', 'n_umis', 'total_counts_mito', 'pct_counts_mito', 'doublet_score', 'predicted_AIFI_L1', 'AIFI_L1_score', 'AIFI_L1', 'predicted_AIFI_L2', 'AIFI_L2_score', 'AIFI_L2', 'predicted_AIFI_L3', 'AIFI_L3_score', 'AIFI_L3', 'sample.sampleKitGuid', 'cohort.cohortGuid', 'subject.subjectGuid', 'subject.biologicalSex', 'subject.cmv', 'subject.bmi', 'subject.race', 'subject.ethnicity', 'subject.birthYear', 'subject.ageAtFirstDraw', 'sample.visitName', 'sample.drawDate', 'sample.subjectAgeAtDraw', 'specimen.specimenGuid', 'pipeline.fileGuid'\n",
       "    var: 'highly_variable', 'means', 'dispersions', 'dispersions_norm', 'mean', 'std'\n",
       "    uns: 'log1p', 'hvg', 'pca', 'neighbors', 'umap'\n",
       "    obsm: 'X_pca', 'X_umap'\n",
       "    varm: 'PCs'\n",
       "    obsp: 'distances', 'connectivities'"
      ]
     },
     "execution_count": 27,
     "metadata": {},
     "output_type": "execute_result"
    }
   ],
   "source": [
    "sampled_adata"
   ]
  },
  {
   "cell_type": "code",
   "execution_count": 26,
   "id": "1c416236-3ae8-4ac7-ae7f-107c70d30aa9",
   "metadata": {},
   "outputs": [],
   "source": [
    "sampled_adata.write_h5ad(\"adata_processed_IgG_removed.h5ad\")"
   ]
  },
  {
   "cell_type": "code",
   "execution_count": null,
   "id": "c7af9d8f-6831-4d25-a9d9-78e01c45a4e6",
   "metadata": {},
   "outputs": [],
   "source": [
    "%%time\n",
    "sampled_adata=sampled_adata.raw.to_adata()\n",
    "sc.pp.normalize_total(sampled_adata, target_sum=1e4)\n",
    "sc.pp.log1p(sampled_adata)"
   ]
  },
  {
   "cell_type": "code",
   "execution_count": null,
   "id": "38612b6d-8552-4d7e-8b2f-3f006781d267",
   "metadata": {},
   "outputs": [],
   "source": [
    "sampled_adata_D0=sampled_adata[sampled_adata.obs[\"sample.visitName\"]==\"Flu Year 1 Day 0\"]\n",
    "sampled_adata_D7=sampled_adata[sampled_adata.obs[\"sample.visitName\"]==\"Flu Year 1 Day 7\"]"
   ]
  },
  {
   "cell_type": "code",
   "execution_count": null,
   "id": "1be31e2e-095b-42e5-8f90-83be42721239",
   "metadata": {},
   "outputs": [],
   "source": [
    "sc.pl.umap(sampled_adata_D0,color='DAPP1',size=5,show=False,frameon=False,legend_loc=None,vmax=4.5)\n",
    "\n",
    "sc.pl.umap(sampled_adata_D7,color='DAPP1',size=5,show=False,frameon=False,legend_loc=None,vmax=4.5)\n"
   ]
  },
  {
   "cell_type": "code",
   "execution_count": null,
   "id": "d9a368e1-3575-4fa1-bf2a-aaeff2ca66c0",
   "metadata": {},
   "outputs": [],
   "source": [
    "sc.pl.umap(sampled_adata_D0,color='CD38',size=5,show=False,use_raw=False,frameon=False,legend_loc=None)\n",
    "\n",
    "sc.pl.umap(sampled_adata_D7,color='CD38',size=5,show=False,use_raw=False,frameon=False,legend_loc=None)\n"
   ]
  },
  {
   "cell_type": "code",
   "execution_count": null,
   "id": "18199d53-966c-46ae-9a9b-ccd4ae2021c2",
   "metadata": {},
   "outputs": [],
   "source": [
    "sc.pl.umap(\n",
    "    sampled_adata,\n",
    "        color='AIFI_L3',\n",
    "        size=1,\n",
    "        show=False,\n",
    "        frameon=False,\n",
    "        legend_loc=None)"
   ]
  },
  {
   "cell_type": "code",
   "execution_count": null,
   "id": "4cd0bbeb-188f-494c-a36e-14b739b49310",
   "metadata": {},
   "outputs": [],
   "source": []
  },
  {
   "cell_type": "code",
   "execution_count": null,
   "id": "c8b1b156-acb5-4cd1-94cf-3fe6fd2d5308",
   "metadata": {},
   "outputs": [],
   "source": []
  },
  {
   "cell_type": "code",
   "execution_count": null,
   "id": "9adef155-d55c-4d8e-aaa9-934fb555e8f7",
   "metadata": {},
   "outputs": [],
   "source": []
  }
 ],
 "metadata": {
  "kernelspec": {
   "display_name": "Python_BRI_Figures",
   "language": "python",
   "name": "python_bri_figures"
  },
  "language_info": {
   "codemirror_mode": {
    "name": "ipython",
    "version": 3
   },
   "file_extension": ".py",
   "mimetype": "text/x-python",
   "name": "python",
   "nbconvert_exporter": "python",
   "pygments_lexer": "ipython3",
   "version": "3.11.0"
  }
 },
 "nbformat": 4,
 "nbformat_minor": 5
}
