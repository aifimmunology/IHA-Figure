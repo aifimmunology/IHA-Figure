{
 "cells": [
  {
   "cell_type": "code",
   "execution_count": 5,
   "id": "bada131e-2be9-4835-a43b-a139df5fc9ea",
   "metadata": {
    "scrolled": true
   },
   "outputs": [
    {
     "name": "stderr",
     "output_type": "stream",
     "text": [
      "Warning message:\n",
      "“package ‘performance’ was built under R version 4.3.3”\n",
      "Warning message:\n",
      "“package ‘dplyr’ was built under R version 4.3.3”\n",
      "\n",
      "Attaching package: ‘dplyr’\n",
      "\n",
      "\n",
      "The following objects are masked from ‘package:stats’:\n",
      "\n",
      "    filter, lag\n",
      "\n",
      "\n",
      "The following objects are masked from ‘package:base’:\n",
      "\n",
      "    intersect, setdiff, setequal, union\n",
      "\n",
      "\n",
      "Warning message:\n",
      "“package ‘readxl’ was built under R version 4.3.3”\n",
      "Warning message:\n",
      "“package ‘tidyverse’ was built under R version 4.3.3”\n",
      "Warning message:\n",
      "“package ‘tibble’ was built under R version 4.3.3”\n",
      "Warning message:\n",
      "“package ‘tidyr’ was built under R version 4.3.3”\n",
      "Warning message:\n",
      "“package ‘readr’ was built under R version 4.3.3”\n",
      "Warning message:\n",
      "“package ‘purrr’ was built under R version 4.3.3”\n",
      "Warning message:\n",
      "“package ‘stringr’ was built under R version 4.3.3”\n",
      "Warning message:\n",
      "“package ‘forcats’ was built under R version 4.3.3”\n",
      "Warning message:\n",
      "“package ‘lubridate’ was built under R version 4.3.3”\n",
      "── \u001b[1mAttaching core tidyverse packages\u001b[22m ──────────────────────── tidyverse 2.0.0 ──\n",
      "\u001b[32m✔\u001b[39m \u001b[34mforcats  \u001b[39m 1.0.0     \u001b[32m✔\u001b[39m \u001b[34mstringr  \u001b[39m 1.5.1\n",
      "\u001b[32m✔\u001b[39m \u001b[34mlubridate\u001b[39m 1.9.3     \u001b[32m✔\u001b[39m \u001b[34mtibble   \u001b[39m 3.2.1\n",
      "\u001b[32m✔\u001b[39m \u001b[34mpurrr    \u001b[39m 1.0.2     \u001b[32m✔\u001b[39m \u001b[34mtidyr    \u001b[39m 1.3.1\n",
      "\u001b[32m✔\u001b[39m \u001b[34mreadr    \u001b[39m 2.1.5     \n",
      "── \u001b[1mConflicts\u001b[22m ────────────────────────────────────────── tidyverse_conflicts() ──\n",
      "\u001b[31m✖\u001b[39m \u001b[34mdplyr\u001b[39m::\u001b[32mfilter()\u001b[39m masks \u001b[34mstats\u001b[39m::filter()\n",
      "\u001b[31m✖\u001b[39m \u001b[34mdplyr\u001b[39m::\u001b[32mlag()\u001b[39m    masks \u001b[34mstats\u001b[39m::lag()\n",
      "\u001b[36mℹ\u001b[39m Use the conflicted package (\u001b[3m\u001b[34m<http://conflicted.r-lib.org/>\u001b[39m\u001b[23m) to force all conflicts to become errors\n",
      "Warning message:\n",
      "“package ‘rstatix’ was built under R version 4.3.3”\n",
      "\n",
      "Attaching package: ‘rstatix’\n",
      "\n",
      "\n",
      "The following object is masked from ‘package:stats’:\n",
      "\n",
      "    filter\n",
      "\n",
      "\n",
      "Warning message:\n",
      "“package ‘cluster’ was built under R version 4.3.3”\n",
      "Warning message:\n",
      "“package ‘factoextra’ was built under R version 4.3.3”\n",
      "Welcome! Want to learn more? See two factoextra-related books at https://goo.gl/ve3WBa\n",
      "\n",
      "Warning message:\n",
      "“package ‘lmerTest’ was built under R version 4.3.3”\n",
      "Loading required package: lme4\n",
      "\n",
      "Warning message:\n",
      "“package ‘lme4’ was built under R version 4.3.3”\n",
      "Loading required package: Matrix\n",
      "\n",
      "Warning message:\n",
      "“package ‘Matrix’ was built under R version 4.3.3”\n",
      "\n",
      "Attaching package: ‘Matrix’\n",
      "\n",
      "\n",
      "The following objects are masked from ‘package:tidyr’:\n",
      "\n",
      "    expand, pack, unpack\n",
      "\n",
      "\n",
      "\n",
      "Attaching package: ‘lmerTest’\n",
      "\n",
      "\n",
      "The following object is masked from ‘package:lme4’:\n",
      "\n",
      "    lmer\n",
      "\n",
      "\n",
      "The following object is masked from ‘package:stats’:\n",
      "\n",
      "    step\n",
      "\n",
      "\n"
     ]
    }
   ],
   "source": [
    "library(performance)\n",
    "library(ggplot2)\n",
    "library(stats)\n",
    "library(parallel)\n",
    "library(dplyr)\n",
    "library(readxl)\n",
    "library(tidyverse)\n",
    "library(rstatix)\n",
    "library(ggpubr)\n",
    "library(cluster)\n",
    "library(factoextra)\n",
    "library(lmerTest)\n",
    "library(lme4)\n",
    "library(splines)"
   ]
  },
  {
   "cell_type": "code",
   "execution_count": 1,
   "id": "658a51e5-d86a-43fe-bd65-4c353c1a0607",
   "metadata": {},
   "outputs": [],
   "source": [
    "df_HAI <- read.csv(\"/home/workspace/IHA_Figure_Revision//Figure4//02_HAI_MSD_Assay/HAI_Processed.csv\")"
   ]
  },
  {
   "cell_type": "code",
   "execution_count": 6,
   "id": "4fb5f37a-6f9c-4ce3-bc51-fc8fa1e1999c",
   "metadata": {},
   "outputs": [],
   "source": [
    "df_HAI <- df_HAI %>%\n",
    "    group_by(Assay, Batch) %>%\n",
    "    mutate(Adjusted_HAI.Mean_Perc_Inhib = Mean_Perc_Inhib - min(Mean_Perc_Inhib) * 1.00001)\n",
    "# mutate(Adjusted_HAI.Mean_Perc_Inhib=Mean_Perc_Inhib-min(Mean_Perc_Inhib)/(max(Mean_Perc_Inhib) - min(Mean_Perc_Inhib)))\n",
    "\n",
    "# (df_HAI$Mean_Perc_Inhib - min(df_HAI$Mean_Perc_Inhib)) / (max(df_HAI$Mean_Perc_Inhib) - min(df_HAI$Mean_Perc_Inhib))"
   ]
  },
  {
   "cell_type": "code",
   "execution_count": 7,
   "id": "4bbee29f-8f09-4c65-84ce-acc9054f9e0f",
   "metadata": {},
   "outputs": [
    {
     "data": {
      "text/plain": [
       "              \n",
       "               2019-2020 2020-2021 2021-2022\n",
       "  A/Brisbane         117       484       267\n",
       "  A/Cambodia         117       484       267\n",
       "  A/Guangdong        117       484       267\n",
       "  A/HongKong         117       484       267\n",
       "  A/Kansas           117       484       267\n",
       "  A/Shanghai         117       484       267\n",
       "  A/Wisconsin        117       484       267\n",
       "  B/Phuket           117       484       267\n",
       "  B/Washington       117       484       267\n",
       "  BSA                117       484       267"
      ]
     },
     "metadata": {},
     "output_type": "display_data"
    }
   ],
   "source": [
    "table(df_HAI$Assay, df_HAI$Flu_Year)"
   ]
  },
  {
   "cell_type": "code",
   "execution_count": 8,
   "id": "78fbb44c-feff-4a8b-998c-5d7da4cd4fe2",
   "metadata": {},
   "outputs": [],
   "source": [
    "df_HAI <- df_HAI %>%\n",
    "    mutate(Assay = case_when(\n",
    "        Assay == \"A/Shanghai\" ~ \"Flu A/Shanghai H7\", Assay == \"A/Brisbane\" ~ \"Flu A/Brisbane (H1N1)\", Assay == \"B/Washington\" ~ \"Flu B/Washington HA\",\n",
    "        Assay == \"B/Phuket\" ~ \"Flu B/Phuket HA\", Assay == \"A/HongKong\" ~ \"Flu A/Hong Kong H3\", TRUE ~ Assay\n",
    "    ))"
   ]
  },
  {
   "cell_type": "code",
   "execution_count": 9,
   "id": "29242b79-960b-4103-85fe-e6d13e23bbcc",
   "metadata": {
    "scrolled": true
   },
   "outputs": [
    {
     "data": {
      "text/plain": [
       "                       \n",
       "                        2019-2020 2020-2021 2021-2022\n",
       "  A/Cambodia                  117       484       267\n",
       "  A/Guangdong                 117       484       267\n",
       "  A/Kansas                    117       484       267\n",
       "  A/Wisconsin                 117       484       267\n",
       "  BSA                         117       484       267\n",
       "  Flu A/Brisbane (H1N1)       117       484       267\n",
       "  Flu A/Hong Kong H3          117       484       267\n",
       "  Flu A/Shanghai H7           117       484       267\n",
       "  Flu B/Phuket HA             117       484       267\n",
       "  Flu B/Washington HA         117       484       267"
      ]
     },
     "metadata": {},
     "output_type": "display_data"
    }
   ],
   "source": [
    "table(df_HAI$Assay, df_HAI$Flu_Year)"
   ]
  },
  {
   "cell_type": "code",
   "execution_count": 10,
   "id": "b684bcd8-a621-4095-baea-2afeb00c697b",
   "metadata": {},
   "outputs": [],
   "source": [
    "df_HAI <- df_HAI[c(\n",
    "    \"sample.sampleKitGuid\", \"Assay\", \"Mean_Perc_Inhib\", \"Adjusted_HAI.Mean_Perc_Inhib\", \"cohort.cohortGuid\", \"subjectGuid\", \"CMV\", \"Flu_Year\",\n",
    "    \"Flu_Day\", \"Visit_Type\", \"Year_N\", \"Visit_Flu_Year\", \"subject.biologicalSex\"\n",
    ")]"
   ]
  },
  {
   "cell_type": "code",
   "execution_count": 11,
   "id": "677b80fa-e768-4701-968e-1718f0f2d13f",
   "metadata": {},
   "outputs": [],
   "source": [
    "colnames(df_HAI)[1:3] <- c(\"sample.sampleKitGuid\", \"Assay\", \"HAI.Mean_Perc_Inhib\")"
   ]
  },
  {
   "cell_type": "markdown",
   "id": "972cc93f-2447-432c-927e-8ca2328d5a8a",
   "metadata": {},
   "source": [
    "# Day 7 and Day 90 - HAI"
   ]
  },
  {
   "cell_type": "code",
   "execution_count": 12,
   "id": "5c8cd7b4-d56f-4174-abe2-29c8096ae66f",
   "metadata": {},
   "outputs": [],
   "source": [
    "df_HAI <- df_HAI %>%\n",
    "  filter(Visit_Type == \"FluYear\", Flu_Day != \"Stand-Alone\") %>%\n",
    "  mutate(`Age Group` = case_when(\n",
    "    cohort.cohortGuid == \"BR1\" ~ \"Young\",\n",
    "    cohort.cohortGuid == \"BR2\" ~ \"Older\",\n",
    "    TRUE ~ NA_character_\n",
    "  )) %>%\n",
    "  group_by(subjectGuid, Assay, Flu_Year) %>%\n",
    "  arrange(Flu_Day) %>%\n",
    "  mutate(\n",
    "    across(starts_with(\"Adjusted_HAI.Mean_Perc_Inhib\"), ~ . - nth(., 2), .names = \"DeltaDiff_{col}\"),\n",
    "    Day0_Inhibition = first(Adjusted_HAI.Mean_Perc_Inhib),\n",
    "    Day7_Inhibition = nth(Adjusted_HAI.Mean_Perc_Inhib, 2)\n",
    "  ) %>%\n",
    "  ungroup() %>%\n",
    "  group_by(subjectGuid, Flu_Year, Assay) %>%\n",
    "  mutate(entry_count = n()) %>%\n",
    "  filter(entry_count == 3) %>%\n",
    "  ungroup()"
   ]
  },
  {
   "cell_type": "markdown",
   "id": "18940930-f0e8-4ef1-ae1f-0cbba2361fd8",
   "metadata": {},
   "source": [
    "# all four HAI strains"
   ]
  },
  {
   "cell_type": "code",
   "execution_count": 13,
   "id": "1f089a58-3c5a-4468-9455-7eba0ff015b7",
   "metadata": {},
   "outputs": [],
   "source": [
    "intercept_list <- list()\n",
    "\n",
    "df_HAI_subset <- df_HAI %>%\n",
    "  filter(\n",
    "    Flu_Day %in% c(\"Day_90\"),\n",
    "    Assay %in% c(\"A/Guangdong\", \"A/Cambodia\", \"Flu B/Phuket HA\", \"Flu B/Washington HA\"),\n",
    "    Visit_Type == \"FluYear\"\n",
    "  ) %>%\n",
    "  filter(\n",
    "    !(Assay == \"A/Guangdong\" & Flu_Year == \"2021-2022\"),\n",
    "    !(Assay == \"A/Cambodia\" & Flu_Year == \"2020-2021\")\n",
    "  ) %>%\n",
    "  group_by(Assay, Flu_Day) %>%\n",
    "  mutate(\n",
    "    Day0_Inhibition = as.numeric(datawizard::standardize(Day0_Inhibition)),\n",
    "    DeltaDiff_Adjusted_HAI.Mean_Perc_Inhib = as.numeric(datawizard::standardize(DeltaDiff_Adjusted_HAI.Mean_Perc_Inhib))\n",
    "  ) %>%\n",
    "  filter(Flu_Year %in% c(\"2020-2021\", \"2021-2022\"))\n",
    "\n",
    "for (year in c(\"2020-2021\", \"2021-2022\")) {\n",
    "  \n",
    "  strains <- if (year == \"2020-2021\") {\n",
    "    c(\"A/Guangdong\", \"Flu B/Phuket HA\", \"Flu B/Washington HA\")\n",
    "  } else {\n",
    "    c(\"A/Cambodia\", \"Flu B/Phuket HA\", \"Flu B/Washington HA\")\n",
    "  }\n",
    "  \n",
    "  for (STRAIN in strains) {\n",
    "      df_HAI_subset_single_strain<-df_HAI_subset %>% filter(Assay == STRAIN, Flu_Year == year)\n",
    "   fit <- lm(DeltaDiff_Adjusted_HAI.Mean_Perc_Inhib ~   Day7_Inhibition + subject.biologicalSex + CMV , data =df_HAI_subset_single_strain)\n",
    "    \n",
    "    df_HAI_subset_single_strain$residual <- resid(fit)\n",
    "    df_HAI_subset_single_strain$responder <- ifelse(df_HAI_subset_single_strain$residual <= quantile(df_HAI_subset_single_strain$residual, 0.25), \"low responder\", ifelse(df_HAI_subset_single_strain$residual>=\n",
    "    quantile(df_HAI_subset_single_strain$residual, 0.75), \"high responder\", \"middle responder\"))\n",
    "    df_res<-df_HAI_subset_single_strain %>% ungroup() %>% select(subjectGuid,residual,responder,cohort.cohortGuid)\n",
    "    df_res$Assay <- STRAIN\n",
    "    df_res$Flu_Year <- year\n",
    "    \n",
    "    intercept_list[[paste0(STRAIN, '-', year)]] <- df_res\n",
    "  }\n",
    "}\n"
   ]
  },
  {
   "cell_type": "code",
   "execution_count": 14,
   "id": "eb4a6595-4df7-4e6f-bd85-3af318db0b37",
   "metadata": {},
   "outputs": [],
   "source": [
    "df_res <- do.call(rbind, intercept_list)"
   ]
  },
  {
   "cell_type": "code",
   "execution_count": 15,
   "id": "fd0d5480-a08c-4bd9-9ded-a5631d1c7ed7",
   "metadata": {},
   "outputs": [],
   "source": [
    "write.csv(df_res,\"lm_res.csv\")"
   ]
  },
  {
   "cell_type": "code",
   "execution_count": 16,
   "id": "aa75b871-08c3-4b41-b353-d5387550ef5a",
   "metadata": {},
   "outputs": [
    {
     "data": {
      "text/plain": [
       ", ,  = A/Cambodia,  = 2020-2021\n",
       "\n",
       "     \n",
       "      high responder low responder middle responder\n",
       "  BR1              0             0                0\n",
       "  BR2              0             0                0\n",
       "\n",
       ", ,  = A/Guangdong,  = 2020-2021\n",
       "\n",
       "     \n",
       "      high responder low responder middle responder\n",
       "  BR1             11            11               21\n",
       "  BR2             11            11               23\n",
       "\n",
       ", ,  = Flu B/Phuket HA,  = 2020-2021\n",
       "\n",
       "     \n",
       "      high responder low responder middle responder\n",
       "  BR1             10            11               22\n",
       "  BR2             12            11               22\n",
       "\n",
       ", ,  = Flu B/Washington HA,  = 2020-2021\n",
       "\n",
       "     \n",
       "      high responder low responder middle responder\n",
       "  BR1              8            14               21\n",
       "  BR2             14             8               23\n",
       "\n",
       ", ,  = A/Cambodia,  = 2021-2022\n",
       "\n",
       "     \n",
       "      high responder low responder middle responder\n",
       "  BR1              6             6               12\n",
       "  BR2             11            11               20\n",
       "\n",
       ", ,  = A/Guangdong,  = 2021-2022\n",
       "\n",
       "     \n",
       "      high responder low responder middle responder\n",
       "  BR1              0             0                0\n",
       "  BR2              0             0                0\n",
       "\n",
       ", ,  = Flu B/Phuket HA,  = 2021-2022\n",
       "\n",
       "     \n",
       "      high responder low responder middle responder\n",
       "  BR1              7             7               10\n",
       "  BR2             10            10               22\n",
       "\n",
       ", ,  = Flu B/Washington HA,  = 2021-2022\n",
       "\n",
       "     \n",
       "      high responder low responder middle responder\n",
       "  BR1              2             6               16\n",
       "  BR2             15            11               16\n"
      ]
     },
     "metadata": {},
     "output_type": "display_data"
    }
   ],
   "source": [
    "table(df_res$cohort.cohortGuid, df_res$responder, df_res$Assay, df_res$Flu_Year)"
   ]
  }
 ],
 "metadata": {
  "kernelspec": {
   "display_name": "R_BRI_Figures",
   "language": "R",
   "name": "r_bri_figures"
  },
  "language_info": {
   "codemirror_mode": "r",
   "file_extension": ".r",
   "mimetype": "text/x-r-source",
   "name": "R",
   "pygments_lexer": "r",
   "version": "4.3.2"
  }
 },
 "nbformat": 4,
 "nbformat_minor": 5
}
