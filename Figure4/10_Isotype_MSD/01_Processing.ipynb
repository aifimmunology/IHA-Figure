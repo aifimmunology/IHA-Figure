{
 "cells": [
  {
   "cell_type": "code",
   "execution_count": 1,
   "id": "a5c02dd5-4c6c-4133-992e-92acd0d28013",
   "metadata": {},
   "outputs": [
    {
     "name": "stderr",
     "output_type": "stream",
     "text": [
      "Loading required package: ggplot2\n",
      "\n",
      "Warning message:\n",
      "“package ‘dplyr’ was built under R version 4.3.3”\n",
      "\n",
      "Attaching package: ‘dplyr’\n",
      "\n",
      "\n",
      "The following objects are masked from ‘package:stats’:\n",
      "\n",
      "    filter, lag\n",
      "\n",
      "\n",
      "The following objects are masked from ‘package:base’:\n",
      "\n",
      "    intersect, setdiff, setequal, union\n",
      "\n",
      "\n",
      "Warning message:\n",
      "“package ‘readxl’ was built under R version 4.3.3”\n",
      "Warning message:\n",
      "“package ‘tidyverse’ was built under R version 4.3.3”\n",
      "Warning message:\n",
      "“package ‘tibble’ was built under R version 4.3.3”\n",
      "Warning message:\n",
      "“package ‘tidyr’ was built under R version 4.3.3”\n",
      "Warning message:\n",
      "“package ‘readr’ was built under R version 4.3.3”\n",
      "Warning message:\n",
      "“package ‘purrr’ was built under R version 4.3.3”\n",
      "Warning message:\n",
      "“package ‘stringr’ was built under R version 4.3.3”\n",
      "Warning message:\n",
      "“package ‘forcats’ was built under R version 4.3.3”\n",
      "Warning message:\n",
      "“package ‘lubridate’ was built under R version 4.3.3”\n",
      "── \u001b[1mAttaching core tidyverse packages\u001b[22m ──────────────────────── tidyverse 2.0.0 ──\n",
      "\u001b[32m✔\u001b[39m \u001b[34mforcats  \u001b[39m 1.0.0     \u001b[32m✔\u001b[39m \u001b[34mstringr  \u001b[39m 1.5.1\n",
      "\u001b[32m✔\u001b[39m \u001b[34mlubridate\u001b[39m 1.9.3     \u001b[32m✔\u001b[39m \u001b[34mtibble   \u001b[39m 3.2.1\n",
      "\u001b[32m✔\u001b[39m \u001b[34mpurrr    \u001b[39m 1.0.2     \u001b[32m✔\u001b[39m \u001b[34mtidyr    \u001b[39m 1.3.1\n",
      "\u001b[32m✔\u001b[39m \u001b[34mreadr    \u001b[39m 2.1.5     \n",
      "── \u001b[1mConflicts\u001b[22m ────────────────────────────────────────── tidyverse_conflicts() ──\n",
      "\u001b[31m✖\u001b[39m \u001b[34mdplyr\u001b[39m::\u001b[32mfilter()\u001b[39m masks \u001b[34mstats\u001b[39m::filter()\n",
      "\u001b[31m✖\u001b[39m \u001b[34mdplyr\u001b[39m::\u001b[32mlag()\u001b[39m    masks \u001b[34mstats\u001b[39m::lag()\n",
      "\u001b[36mℹ\u001b[39m Use the conflicted package (\u001b[3m\u001b[34m<http://conflicted.r-lib.org/>\u001b[39m\u001b[23m) to force all conflicts to become errors\n",
      "Warning message:\n",
      "“package ‘rstatix’ was built under R version 4.3.3”\n",
      "\n",
      "Attaching package: ‘rstatix’\n",
      "\n",
      "\n",
      "The following object is masked from ‘package:stats’:\n",
      "\n",
      "    filter\n",
      "\n",
      "\n",
      "Warning message:\n",
      "“package ‘corrplot’ was built under R version 4.3.3”\n",
      "corrplot 0.95 loaded\n",
      "\n"
     ]
    }
   ],
   "source": [
    "library(hise)\n",
    "library(ggh4x)\n",
    "library(ggplot2)\n",
    "library(stats)\n",
    "library(parallel)\n",
    "library(dplyr)\n",
    "library(readxl)\n",
    "library(tidyverse)\n",
    "library(rstatix)\n",
    "library(ggpubr)\n",
    "library(corrplot)"
   ]
  },
  {
   "cell_type": "code",
   "execution_count": 2,
   "id": "1a792e73-e41b-4f33-9a82-bd665bb38363",
   "metadata": {},
   "outputs": [],
   "source": [
    "meta_data<-read.csv(\"/home/workspace/IHA_Figure_Revision/Figure4/00_Flu_Year_Specific_Meta_Data/meta_data.csv\")\n"
   ]
  },
  {
   "cell_type": "code",
   "execution_count": 3,
   "id": "15195d8d-e558-4891-85ac-831cbccba10d",
   "metadata": {},
   "outputs": [],
   "source": [
    "df_MSD<-read.csv(\"/home/workspace/IHA_Figure_Revision/Figure4/02_Total_IgG_MSD_Assay/MSD_All.csv\")\n",
    "df_MSD<-df_MSD[c(\"Sample.Kit.Barcode\",\"Assay\",\"Mean\",\"Calc..Conc..Mean\",\"subject.biologicalSex\",\n",
    "             'cohort.cohortGuid', 'subjectGuid','CMV','Flu_Year','Flu_Day','Visit_Type','Year_N','Visit_Flu_Year')]"
   ]
  },
  {
   "cell_type": "code",
   "execution_count": 4,
   "id": "bfdf7180-44a3-4933-9641-c7d6ebfd7a43",
   "metadata": {},
   "outputs": [
    {
     "data": {
      "text/html": [
       "<style>\n",
       ".list-inline {list-style: none; margin:0; padding: 0}\n",
       ".list-inline>li {display: inline-block}\n",
       ".list-inline>li:not(:last-child)::after {content: \"\\00b7\"; padding: 0 .5ex}\n",
       "</style>\n",
       "<ol class=list-inline><li>'MSD Recent_20231026_092142.csv'</li><li>'Plate 2BLHSAU095_mouse_anti-human_IgG3.xlsx'</li><li>'Plate_2BLHSA1081_mouse_anti-human_IgG1.xlsx'</li><li>'Plate_2BLHSA4100_mouse_anti-human_IgG4.xlsx'</li><li>'Plate_2BLHSAW094_mouse_anti-human_IgG2.xlsx'</li></ol>\n"
      ],
      "text/latex": [
       "\\begin{enumerate*}\n",
       "\\item 'MSD Recent\\_20231026\\_092142.csv'\n",
       "\\item 'Plate 2BLHSAU095\\_mouse\\_anti-human\\_IgG3.xlsx'\n",
       "\\item 'Plate\\_2BLHSA1081\\_mouse\\_anti-human\\_IgG1.xlsx'\n",
       "\\item 'Plate\\_2BLHSA4100\\_mouse\\_anti-human\\_IgG4.xlsx'\n",
       "\\item 'Plate\\_2BLHSAW094\\_mouse\\_anti-human\\_IgG2.xlsx'\n",
       "\\end{enumerate*}\n"
      ],
      "text/markdown": [
       "1. 'MSD Recent_20231026_092142.csv'\n",
       "2. 'Plate 2BLHSAU095_mouse_anti-human_IgG3.xlsx'\n",
       "3. 'Plate_2BLHSA1081_mouse_anti-human_IgG1.xlsx'\n",
       "4. 'Plate_2BLHSA4100_mouse_anti-human_IgG4.xlsx'\n",
       "5. 'Plate_2BLHSAW094_mouse_anti-human_IgG2.xlsx'\n",
       "\n",
       "\n"
      ],
      "text/plain": [
       "[1] \"MSD Recent_20231026_092142.csv\"             \n",
       "[2] \"Plate 2BLHSAU095_mouse_anti-human_IgG3.xlsx\"\n",
       "[3] \"Plate_2BLHSA1081_mouse_anti-human_IgG1.xlsx\"\n",
       "[4] \"Plate_2BLHSA4100_mouse_anti-human_IgG4.xlsx\"\n",
       "[5] \"Plate_2BLHSAW094_mouse_anti-human_IgG2.xlsx\""
      ]
     },
     "metadata": {},
     "output_type": "display_data"
    }
   ],
   "source": [
    "file_list<-list.files(\"/home/workspace/IHA_Figure_Revision/Dataset/MSD/\")\n",
    "file_list"
   ]
  },
  {
   "cell_type": "code",
   "execution_count": 5,
   "id": "b6fb05f0-d405-447b-8e46-1a8044924ac3",
   "metadata": {},
   "outputs": [],
   "source": [
    "df_list<-mclapply(file_list[2:5],function(x){\n",
    "\n",
    "\n",
    "df<-readxl::read_excel(paste0(\"/home/workspace/IHA_Figure_Revision/Dataset/MSD/\",x), skip = 1) %>% as.data.frame()\n",
    "df$Isotype<-sub(\".*_([^_]+)\\\\.xlsx$\", \"\\\\1\", x, perl = TRUE)\n",
    "df_filtered<- df %>% filter(grepl(\"PL\",Sample)) %>% filter(`Calc. Conc. Mean`!=\"NaN\")\n",
    "return(df_filtered)\n",
    "})\n",
    "df<-do.call(rbind,df_list)"
   ]
  },
  {
   "cell_type": "code",
   "execution_count": 6,
   "id": "df79c3df-924e-4072-a3c3-b6b04c2e32d8",
   "metadata": {},
   "outputs": [],
   "source": [
    "df$sample.sampleKitGuid<-paste0(\"KT\",substr(df$Sample,3,7))"
   ]
  },
  {
   "cell_type": "code",
   "execution_count": 7,
   "id": "f8bd02ce-9f2f-4b2d-aa16-c941d8108df5",
   "metadata": {},
   "outputs": [
    {
     "name": "stderr",
     "output_type": "stream",
     "text": [
      "\u001b[1m\u001b[22mJoining with `by = join_by(sample.sampleKitGuid)`\n"
     ]
    }
   ],
   "source": [
    "df<-left_join(df,meta_data)"
   ]
  },
  {
   "cell_type": "code",
   "execution_count": 8,
   "id": "ff00ebb5-d8b9-49e8-80dc-5b540eeb43e7",
   "metadata": {},
   "outputs": [],
   "source": [
    "df$`Calc.Conc.Mean.Isotype`<-as.numeric(df$`Calc. Conc. Mean`)\n",
    "df$`log 10 Calc. Conc. Mean`<-log10(as.numeric(df$`Calc. Conc. Mean`))"
   ]
  },
  {
   "cell_type": "code",
   "execution_count": 9,
   "id": "fe67bc67-91e1-4c92-8a6b-42f3f88bf7c7",
   "metadata": {},
   "outputs": [],
   "source": [
    "df_Isotype <- df %>%\n",
    "    select(Sample, \n",
    "           Assay, \n",
    "           sample.sampleKitGuid, \n",
    "           `Signal`,`log 10 Calc. Conc. Mean`, `Calc.Conc.Mean.Isotype`,\n",
    "           Isotype)"
   ]
  },
  {
   "cell_type": "code",
   "execution_count": 10,
   "id": "91031468-5e77-4da8-87af-b5226e23d518",
   "metadata": {},
   "outputs": [],
   "source": [
    "colnames(df_Isotype)[4]<-\"Isotype_Signal\"\n",
    "df_combined <- left_join(df_Isotype, df_MSD, by = c(Assay = \"Assay\", \n",
    "                                                    sample.sampleKitGuid = \"Sample.Kit.Barcode\"))"
   ]
  },
  {
   "cell_type": "code",
   "execution_count": 11,
   "id": "9d00bd30-442c-4c5e-b50e-887361f73f7b",
   "metadata": {},
   "outputs": [],
   "source": [
    "df_combined<-df_combined %>% mutate(Total_Singal=Mean)"
   ]
  },
  {
   "cell_type": "code",
   "execution_count": 12,
   "id": "49a34ee9-3dee-477f-8dac-00f58f8d8221",
   "metadata": {},
   "outputs": [],
   "source": [
    "write.csv(df_combined,\"Isotype_MSD_Processed.csv\")"
   ]
  },
  {
   "cell_type": "markdown",
   "id": "2c380785-ce06-4bc2-8a5b-8b95485706bd",
   "metadata": {},
   "source": [
    "# Calculate Ratio"
   ]
  },
  {
   "cell_type": "code",
   "execution_count": 13,
   "id": "482f03a8-4e69-496b-bf36-60438065f1cf",
   "metadata": {},
   "outputs": [],
   "source": [
    "df_combined$Isotype_to_Total_Singal_Ratio<-df_combined$Isotype_Signal/df_combined$Total_Singal"
   ]
  },
  {
   "cell_type": "code",
   "execution_count": 14,
   "id": "4d0991eb-11da-4e7a-baca-9524252a2523",
   "metadata": {},
   "outputs": [],
   "source": [
    "df_combined<-df_combined %>% filter(Isotype_Signal>10,Total_Singal>10)%>% \n",
    "filter(Isotype_Signal<1000000,Total_Singal<1000000)"
   ]
  },
  {
   "cell_type": "code",
   "execution_count": 15,
   "id": "fa168283-98f5-405f-9c95-10d7a7f0a2f8",
   "metadata": {},
   "outputs": [],
   "source": [
    "df_combined_subset<-df_combined %>% filter(Isotype %in% c(\"IgG3\",\"IgG2\"), Assay ==\"Flu B/Phuket HA\") "
   ]
  },
  {
   "cell_type": "code",
   "execution_count": 16,
   "id": "e80cc3e7-fa4d-4130-a5b5-5502bcd5f8fb",
   "metadata": {},
   "outputs": [],
   "source": [
    "write.csv(df_combined_subset,\"Isotype_Singal_IgG2_IgG3_Phuket.csv\")"
   ]
  },
  {
   "cell_type": "code",
   "execution_count": 32,
   "id": "aad0601b-e60b-43d6-85fc-238037b84641",
   "metadata": {},
   "outputs": [],
   "source": [
    "df<-read.csv(\"Isotype_Singal_IgG2_IgG3_Phuket.csv\")"
   ]
  },
  {
   "cell_type": "code",
   "execution_count": 50,
   "id": "201d22ca-6e1c-4a1f-b642-9b7f08738bd6",
   "metadata": {},
   "outputs": [],
   "source": [
    "df_subet<-df %>% filter(Flu_Day==\"Day_7\",Flu_Year==\"2020-2021\")"
   ]
  },
  {
   "cell_type": "code",
   "execution_count": 51,
   "id": "fadbda51-3f10-48df-a051-46bd4c66b164",
   "metadata": {},
   "outputs": [],
   "source": [
    "df_subet<-df_subet %>% \n",
    "    group_by(subjectGuid) %>%\n",
    "    mutate(entry_count = n()) %>%\n",
    "    filter(entry_count == 2) %>% ungroup()"
   ]
  },
  {
   "cell_type": "code",
   "execution_count": 52,
   "id": "c0c6c19c-ba8e-485d-bd88-f5cbd16e6416",
   "metadata": {},
   "outputs": [
    {
     "data": {
      "text/html": [
       "<style>\n",
       ".list-inline {list-style: none; margin:0; padding: 0}\n",
       ".list-inline>li {display: inline-block}\n",
       ".list-inline>li:not(:last-child)::after {content: \"\\00b7\"; padding: 0 .5ex}\n",
       "</style>\n",
       "<ol class=list-inline><li>'X'</li><li>'Sample'</li><li>'Assay'</li><li>'sample.sampleKitGuid'</li><li>'Isotype_Signal'</li><li>'log.10.Calc..Conc..Mean'</li><li>'Calc.Conc.Mean.Isotype'</li><li>'Isotype'</li><li>'Mean'</li><li>'Calc..Conc..Mean'</li><li>'subject.biologicalSex'</li><li>'cohort.cohortGuid'</li><li>'subjectGuid'</li><li>'CMV'</li><li>'Flu_Year'</li><li>'Flu_Day'</li><li>'Visit_Type'</li><li>'Year_N'</li><li>'Visit_Flu_Year'</li><li>'Total_Singal'</li><li>'Isotype_to_Total_Singal_Ratio'</li><li>'entry_count'</li></ol>\n"
      ],
      "text/latex": [
       "\\begin{enumerate*}\n",
       "\\item 'X'\n",
       "\\item 'Sample'\n",
       "\\item 'Assay'\n",
       "\\item 'sample.sampleKitGuid'\n",
       "\\item 'Isotype\\_Signal'\n",
       "\\item 'log.10.Calc..Conc..Mean'\n",
       "\\item 'Calc.Conc.Mean.Isotype'\n",
       "\\item 'Isotype'\n",
       "\\item 'Mean'\n",
       "\\item 'Calc..Conc..Mean'\n",
       "\\item 'subject.biologicalSex'\n",
       "\\item 'cohort.cohortGuid'\n",
       "\\item 'subjectGuid'\n",
       "\\item 'CMV'\n",
       "\\item 'Flu\\_Year'\n",
       "\\item 'Flu\\_Day'\n",
       "\\item 'Visit\\_Type'\n",
       "\\item 'Year\\_N'\n",
       "\\item 'Visit\\_Flu\\_Year'\n",
       "\\item 'Total\\_Singal'\n",
       "\\item 'Isotype\\_to\\_Total\\_Singal\\_Ratio'\n",
       "\\item 'entry\\_count'\n",
       "\\end{enumerate*}\n"
      ],
      "text/markdown": [
       "1. 'X'\n",
       "2. 'Sample'\n",
       "3. 'Assay'\n",
       "4. 'sample.sampleKitGuid'\n",
       "5. 'Isotype_Signal'\n",
       "6. 'log.10.Calc..Conc..Mean'\n",
       "7. 'Calc.Conc.Mean.Isotype'\n",
       "8. 'Isotype'\n",
       "9. 'Mean'\n",
       "10. 'Calc..Conc..Mean'\n",
       "11. 'subject.biologicalSex'\n",
       "12. 'cohort.cohortGuid'\n",
       "13. 'subjectGuid'\n",
       "14. 'CMV'\n",
       "15. 'Flu_Year'\n",
       "16. 'Flu_Day'\n",
       "17. 'Visit_Type'\n",
       "18. 'Year_N'\n",
       "19. 'Visit_Flu_Year'\n",
       "20. 'Total_Singal'\n",
       "21. 'Isotype_to_Total_Singal_Ratio'\n",
       "22. 'entry_count'\n",
       "\n",
       "\n"
      ],
      "text/plain": [
       " [1] \"X\"                             \"Sample\"                       \n",
       " [3] \"Assay\"                         \"sample.sampleKitGuid\"         \n",
       " [5] \"Isotype_Signal\"                \"log.10.Calc..Conc..Mean\"      \n",
       " [7] \"Calc.Conc.Mean.Isotype\"        \"Isotype\"                      \n",
       " [9] \"Mean\"                          \"Calc..Conc..Mean\"             \n",
       "[11] \"subject.biologicalSex\"         \"cohort.cohortGuid\"            \n",
       "[13] \"subjectGuid\"                   \"CMV\"                          \n",
       "[15] \"Flu_Year\"                      \"Flu_Day\"                      \n",
       "[17] \"Visit_Type\"                    \"Year_N\"                       \n",
       "[19] \"Visit_Flu_Year\"                \"Total_Singal\"                 \n",
       "[21] \"Isotype_to_Total_Singal_Ratio\" \"entry_count\"                  "
      ]
     },
     "metadata": {},
     "output_type": "display_data"
    }
   ],
   "source": [
    "colnames(df_subet)"
   ]
  },
  {
   "cell_type": "code",
   "execution_count": 53,
   "id": "d5c72bb5-317b-429c-8415-f9fcb33a6cf6",
   "metadata": {},
   "outputs": [],
   "source": [
    "df_summay<-df_subet %>%\n",
    "  arrange(subjectGuid, cohort.cohortGuid, Isotype) %>%\n",
    "  group_by(subjectGuid, cohort.cohortGuid) %>%\n",
    "  summarise(IgG2_IgG3_Ratio = first(log.10.Calc..Conc..Mean\t) / last(log.10.Calc..Conc..Mean), .groups = \"drop\")"
   ]
  },
  {
   "cell_type": "code",
   "execution_count": 55,
   "id": "2d5fae3f-dd85-49fd-a10e-c0b4c2f4744c",
   "metadata": {},
   "outputs": [
    {
     "data": {
      "image/png": "[encoded data removed]",
      "text/plain": [
       "plot without title"
      ]
     },
     "metadata": {
      "image/png": {
       "height": 420,
       "width": 420
      }
     },
     "output_type": "display_data"
    }
   ],
   "source": [
    " ggboxplot(df_summay, x = \"cohort.cohortGuid\", y = \"IgG2_IgG3_Ratio\",\n",
    "          color = \"cohort.cohortGuid\", palette = \"jco\",\n",
    "          add = \"jitter\") + stat_compare_means()"
   ]
  },
  {
   "cell_type": "code",
   "execution_count": null,
   "id": "5c2c6ccf-51f5-47b4-9f08-587e472d0259",
   "metadata": {},
   "outputs": [],
   "source": []
  },
  {
   "cell_type": "code",
   "execution_count": null,
   "id": "a82d9dc2-81b6-4bb5-b3c6-0cf3ca5ff8cc",
   "metadata": {},
   "outputs": [],
   "source": []
  }
 ],
 "metadata": {
  "kernelspec": {
   "display_name": "R_BRI_Figures",
   "language": "R",
   "name": "r_bri_figures"
  },
  "language_info": {
   "codemirror_mode": "r",
   "file_extension": ".r",
   "mimetype": "text/x-r-source",
   "name": "R",
   "pygments_lexer": "r",
   "version": "4.3.2"
  }
 },
 "nbformat": 4,
 "nbformat_minor": 5
}
