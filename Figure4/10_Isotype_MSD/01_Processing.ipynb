{
 "cells": [
  {
   "cell_type": "code",
   "execution_count": 2,
   "id": "a5c02dd5-4c6c-4133-992e-92acd0d28013",
   "metadata": {},
   "outputs": [],
   "source": [
    "library(hise)\n",
    "library(ggh4x)\n",
    "library(ggplot2)\n",
    "library(stats)\n",
    "library(parallel)\n",
    "library(dplyr)\n",
    "library(readxl)\n",
    "library(tidyverse)\n",
    "library(rstatix)\n",
    "library(ggpubr)\n",
    "library(corrplot)"
   ]
  },
  {
   "cell_type": "code",
   "execution_count": 72,
   "id": "1a792e73-e41b-4f33-9a82-bd665bb38363",
   "metadata": {},
   "outputs": [],
   "source": [
    "meta_data<-read.csv(\"/home/workspace/IHA_Figure_Revision/Figure4/00_Flu_Year_Specific_Meta_Data/meta_data.csv\")\n"
   ]
  },
  {
   "cell_type": "code",
   "execution_count": 73,
   "id": "15195d8d-e558-4891-85ac-831cbccba10d",
   "metadata": {},
   "outputs": [],
   "source": [
    "df_MSD<-read.csv(\"/home/workspace/IHA_Figure_Revision/Figure4/02_Total_IgG_MSD_Assay/MSD_All.csv\")\n",
    "df_MSD<-df_MSD[c(\"Sample.Kit.Barcode\",\"Assay\",\"Mean\",\"Calc..Conc..Mean\",\"subject.biologicalSex\",\n",
    "             'cohort.cohortGuid', 'subjectGuid','CMV','Flu_Year','Flu_Day','Visit_Type','Year_N','Visit_Flu_Year')]"
   ]
  },
  {
   "cell_type": "code",
   "execution_count": 74,
   "id": "bfdf7180-44a3-4933-9641-c7d6ebfd7a43",
   "metadata": {},
   "outputs": [
    {
     "data": {
      "text/html": [
       "<style>\n",
       ".list-inline {list-style: none; margin:0; padding: 0}\n",
       ".list-inline>li {display: inline-block}\n",
       ".list-inline>li:not(:last-child)::after {content: \"\\00b7\"; padding: 0 .5ex}\n",
       "</style>\n",
       "<ol class=list-inline><li>'MSD Recent_20231026_092142.csv'</li><li>'Plate 2BLHSAU095_mouse_anti-human_IgG3.xlsx'</li><li>'Plate_2BLHSA1081_mouse_anti-human_IgG1.xlsx'</li><li>'Plate_2BLHSA4100_mouse_anti-human_IgG4.xlsx'</li><li>'Plate_2BLHSAW094_mouse_anti-human_IgG2.xlsx'</li></ol>\n"
      ],
      "text/latex": [
       "\\begin{enumerate*}\n",
       "\\item 'MSD Recent\\_20231026\\_092142.csv'\n",
       "\\item 'Plate 2BLHSAU095\\_mouse\\_anti-human\\_IgG3.xlsx'\n",
       "\\item 'Plate\\_2BLHSA1081\\_mouse\\_anti-human\\_IgG1.xlsx'\n",
       "\\item 'Plate\\_2BLHSA4100\\_mouse\\_anti-human\\_IgG4.xlsx'\n",
       "\\item 'Plate\\_2BLHSAW094\\_mouse\\_anti-human\\_IgG2.xlsx'\n",
       "\\end{enumerate*}\n"
      ],
      "text/markdown": [
       "1. 'MSD Recent_20231026_092142.csv'\n",
       "2. 'Plate 2BLHSAU095_mouse_anti-human_IgG3.xlsx'\n",
       "3. 'Plate_2BLHSA1081_mouse_anti-human_IgG1.xlsx'\n",
       "4. 'Plate_2BLHSA4100_mouse_anti-human_IgG4.xlsx'\n",
       "5. 'Plate_2BLHSAW094_mouse_anti-human_IgG2.xlsx'\n",
       "\n",
       "\n"
      ],
      "text/plain": [
       "[1] \"MSD Recent_20231026_092142.csv\"             \n",
       "[2] \"Plate 2BLHSAU095_mouse_anti-human_IgG3.xlsx\"\n",
       "[3] \"Plate_2BLHSA1081_mouse_anti-human_IgG1.xlsx\"\n",
       "[4] \"Plate_2BLHSA4100_mouse_anti-human_IgG4.xlsx\"\n",
       "[5] \"Plate_2BLHSAW094_mouse_anti-human_IgG2.xlsx\""
      ]
     },
     "metadata": {},
     "output_type": "display_data"
    }
   ],
   "source": [
    "file_list<-list.files(\"/home/workspace/IHA_Figure_Revision/Dataset/MSD/\")\n",
    "file_list"
   ]
  },
  {
   "cell_type": "code",
   "execution_count": 75,
   "id": "b6fb05f0-d405-447b-8e46-1a8044924ac3",
   "metadata": {},
   "outputs": [],
   "source": [
    "df_list<-mclapply(file_list[2:5],function(x){\n",
    "\n",
    "\n",
    "df<-readxl::read_excel(paste0(\"/home/workspace/IHA_Figure_Revision/Dataset/MSD/\",x), skip = 1) %>% as.data.frame()\n",
    "df$Isotype<-sub(\".*_([^_]+)\\\\.xlsx$\", \"\\\\1\", x, perl = TRUE)\n",
    "df_filtered<- df %>% filter(grepl(\"PL\",Sample)) %>% filter(`Calc. Conc. Mean`!=\"NaN\")\n",
    "return(df_filtered)\n",
    "})\n",
    "df<-do.call(rbind,df_list)"
   ]
  },
  {
   "cell_type": "code",
   "execution_count": 76,
   "id": "df79c3df-924e-4072-a3c3-b6b04c2e32d8",
   "metadata": {},
   "outputs": [],
   "source": [
    "df$sample.sampleKitGuid<-paste0(\"KT\",substr(df$Sample,3,7))"
   ]
  },
  {
   "cell_type": "code",
   "execution_count": 77,
   "id": "f8bd02ce-9f2f-4b2d-aa16-c941d8108df5",
   "metadata": {},
   "outputs": [
    {
     "name": "stderr",
     "output_type": "stream",
     "text": [
      "\u001b[1m\u001b[22mJoining with `by = join_by(sample.sampleKitGuid)`\n"
     ]
    }
   ],
   "source": [
    "df<-left_join(df,meta_data)"
   ]
  },
  {
   "cell_type": "code",
   "execution_count": 78,
   "id": "34b426c4-378a-4e01-93eb-b2727d4c7e18",
   "metadata": {},
   "outputs": [
    {
     "data": {
      "text/html": [
       "<style>\n",
       ".list-inline {list-style: none; margin:0; padding: 0}\n",
       ".list-inline>li {display: inline-block}\n",
       ".list-inline>li:not(:last-child)::after {content: \"\\00b7\"; padding: 0 .5ex}\n",
       "</style>\n",
       "<ol class=list-inline><li>'Sample'</li><li>'Assay'</li><li>'sample.sampleKitGuid'</li><li>'Isotype_Signal'</li><li>'Signal'</li><li>'log 10 Calc. Conc. Mean'</li><li>'Isotype'</li><li>'Mean'</li><li>'Calc..Conc..Mean'</li><li>'subject.biologicalSex'</li><li>'cohort.cohortGuid'</li><li>'subjectGuid'</li><li>'CMV'</li><li>'Flu_Year'</li><li>'Flu_Day'</li><li>'Visit_Type'</li><li>'Year_N'</li><li>'Visit_Flu_Year'</li><li>'Total_Singal'</li></ol>\n"
      ],
      "text/latex": [
       "\\begin{enumerate*}\n",
       "\\item 'Sample'\n",
       "\\item 'Assay'\n",
       "\\item 'sample.sampleKitGuid'\n",
       "\\item 'Isotype\\_Signal'\n",
       "\\item 'Signal'\n",
       "\\item 'log 10 Calc. Conc. Mean'\n",
       "\\item 'Isotype'\n",
       "\\item 'Mean'\n",
       "\\item 'Calc..Conc..Mean'\n",
       "\\item 'subject.biologicalSex'\n",
       "\\item 'cohort.cohortGuid'\n",
       "\\item 'subjectGuid'\n",
       "\\item 'CMV'\n",
       "\\item 'Flu\\_Year'\n",
       "\\item 'Flu\\_Day'\n",
       "\\item 'Visit\\_Type'\n",
       "\\item 'Year\\_N'\n",
       "\\item 'Visit\\_Flu\\_Year'\n",
       "\\item 'Total\\_Singal'\n",
       "\\end{enumerate*}\n"
      ],
      "text/markdown": [
       "1. 'Sample'\n",
       "2. 'Assay'\n",
       "3. 'sample.sampleKitGuid'\n",
       "4. 'Isotype_Signal'\n",
       "5. 'Signal'\n",
       "6. 'log 10 Calc. Conc. Mean'\n",
       "7. 'Isotype'\n",
       "8. 'Mean'\n",
       "9. 'Calc..Conc..Mean'\n",
       "10. 'subject.biologicalSex'\n",
       "11. 'cohort.cohortGuid'\n",
       "12. 'subjectGuid'\n",
       "13. 'CMV'\n",
       "14. 'Flu_Year'\n",
       "15. 'Flu_Day'\n",
       "16. 'Visit_Type'\n",
       "17. 'Year_N'\n",
       "18. 'Visit_Flu_Year'\n",
       "19. 'Total_Singal'\n",
       "\n",
       "\n"
      ],
      "text/plain": [
       " [1] \"Sample\"                  \"Assay\"                  \n",
       " [3] \"sample.sampleKitGuid\"    \"Isotype_Signal\"         \n",
       " [5] \"Signal\"                  \"log 10 Calc. Conc. Mean\"\n",
       " [7] \"Isotype\"                 \"Mean\"                   \n",
       " [9] \"Calc..Conc..Mean\"        \"subject.biologicalSex\"  \n",
       "[11] \"cohort.cohortGuid\"       \"subjectGuid\"            \n",
       "[13] \"CMV\"                     \"Flu_Year\"               \n",
       "[15] \"Flu_Day\"                 \"Visit_Type\"             \n",
       "[17] \"Year_N\"                  \"Visit_Flu_Year\"         \n",
       "[19] \"Total_Singal\"           "
      ]
     },
     "metadata": {},
     "output_type": "display_data"
    }
   ],
   "source": [
    "colnames(df_combined)"
   ]
  },
  {
   "cell_type": "code",
   "execution_count": 79,
   "id": "ff00ebb5-d8b9-49e8-80dc-5b540eeb43e7",
   "metadata": {},
   "outputs": [],
   "source": [
    "df$`Calc.Conc.Mean.Isotype`<-as.numeric(df$`Calc. Conc. Mean`)\n",
    "df$`log 10 Calc. Conc. Mean`<-log10(as.numeric(df$`Calc. Conc. Mean`))"
   ]
  },
  {
   "cell_type": "code",
   "execution_count": 81,
   "id": "fe67bc67-91e1-4c92-8a6b-42f3f88bf7c7",
   "metadata": {},
   "outputs": [],
   "source": [
    "df_Isotype <- df %>%\n",
    "    select(Sample, \n",
    "           Assay, \n",
    "           sample.sampleKitGuid, \n",
    "           `Signal`,`log 10 Calc. Conc. Mean`, `Calc.Conc.Mean.Isotype`,\n",
    "           Isotype)"
   ]
  },
  {
   "cell_type": "code",
   "execution_count": 82,
   "id": "91031468-5e77-4da8-87af-b5226e23d518",
   "metadata": {},
   "outputs": [],
   "source": [
    "colnames(df_Isotype)[4]<-\"Isotype_Signal\"\n",
    "df_combined <- left_join(df_Isotype, df_MSD, by = c(Assay = \"Assay\", \n",
    "                                                    sample.sampleKitGuid = \"Sample.Kit.Barcode\"))"
   ]
  },
  {
   "cell_type": "code",
   "execution_count": 83,
   "id": "9d00bd30-442c-4c5e-b50e-887361f73f7b",
   "metadata": {},
   "outputs": [],
   "source": [
    "df_combined<-df_combined %>% mutate(Total_Singal=Mean)"
   ]
  },
  {
   "cell_type": "code",
   "execution_count": 84,
   "id": "49a34ee9-3dee-477f-8dac-00f58f8d8221",
   "metadata": {},
   "outputs": [],
   "source": [
    "write.csv(df_combined,\"Isotype_MSD_Processed.csv\")"
   ]
  },
  {
   "cell_type": "markdown",
   "id": "2c380785-ce06-4bc2-8a5b-8b95485706bd",
   "metadata": {},
   "source": [
    "# Calculate Ratio"
   ]
  },
  {
   "cell_type": "code",
   "execution_count": 16,
   "id": "482f03a8-4e69-496b-bf36-60438065f1cf",
   "metadata": {},
   "outputs": [],
   "source": [
    "df_combined$Isotype_to_Total_Singal_Ratio<-df_combined$Isotype_Signal/df_combined$Total_Singal"
   ]
  },
  {
   "cell_type": "code",
   "execution_count": 17,
   "id": "4d0991eb-11da-4e7a-baca-9524252a2523",
   "metadata": {},
   "outputs": [],
   "source": [
    "df_combined<-df_combined %>% filter(Isotype_Signal>10,Total_Singal>10)%>% \n",
    "filter(Isotype_Signal<1000000,Total_Singal<1000000)"
   ]
  },
  {
   "cell_type": "code",
   "execution_count": 20,
   "id": "fa168283-98f5-405f-9c95-10d7a7f0a2f8",
   "metadata": {},
   "outputs": [],
   "source": [
    "df_combined_subset<-df_combined %>% filter(Isotype %in% c(\"IgG3\",\"IgG2\"), Assay ==\"Flu B/Phuket HA\") "
   ]
  },
  {
   "cell_type": "code",
   "execution_count": 21,
   "id": "e80cc3e7-fa4d-4130-a5b5-5502bcd5f8fb",
   "metadata": {},
   "outputs": [],
   "source": [
    "write.csv(df_combined_subset,\"Isotype_Singal_IgG2_IgG3_Phuket.csv\")"
   ]
  },
  {
   "cell_type": "code",
   "execution_count": 3,
   "id": "aad0601b-e60b-43d6-85fc-238037b84641",
   "metadata": {},
   "outputs": [],
   "source": [
    "df<-read.csv(\"Isotype_Singal_IgG2_IgG3_Phuket.csv\")"
   ]
  },
  {
   "cell_type": "code",
   "execution_count": 6,
   "id": "201d22ca-6e1c-4a1f-b642-9b7f08738bd6",
   "metadata": {},
   "outputs": [],
   "source": [
    "df_subet<-df %>% filter(Flu_Day==\"Day_0\",Flu_Year==\"2020-2021\")"
   ]
  },
  {
   "cell_type": "code",
   "execution_count": 8,
   "id": "fadbda51-3f10-48df-a051-46bd4c66b164",
   "metadata": {},
   "outputs": [],
   "source": [
    "df_subet<-df_subet %>% \n",
    "    group_by(subjectGuid) %>%\n",
    "    mutate(entry_count = n()) %>%\n",
    "    filter(entry_count == 2) %>% ungroup()"
   ]
  },
  {
   "cell_type": "code",
   "execution_count": 11,
   "id": "c0c6c19c-ba8e-485d-bd88-f5cbd16e6416",
   "metadata": {},
   "outputs": [
    {
     "data": {
      "text/html": [
       "<style>\n",
       ".list-inline {list-style: none; margin:0; padding: 0}\n",
       ".list-inline>li {display: inline-block}\n",
       ".list-inline>li:not(:last-child)::after {content: \"\\00b7\"; padding: 0 .5ex}\n",
       "</style>\n",
       "<ol class=list-inline><li>'X.2'</li><li>'Sample.x'</li><li>'Assay'</li><li>'sample.sampleKitGuid'</li><li>'Isotype_Signal'</li><li>'log.10.Calc..Conc..Mean'</li><li>'Isotype'</li><li>'X.1'</li><li>'Sample.y'</li><li>'Type'</li><li>'Subject'</li><li>'Cohort'</li><li>'Visit'</li><li>'Batch.ID'</li><li>'well'</li><li>'Dilution'</li><li>'Concentration'</li><li>'Signal'</li><li>'Adjusted.Signal'</li><li>'Mean'</li><li>'Adj..Sig..Mean'</li><li>'CV'</li><li>'X..Recovery'</li><li>'X..Recovery.Mean'</li><li>'Calc..Concentration'</li><li>'Calc..Conc..Mean'</li><li>'Calc..Conc..CV'</li><li>'Notes'</li><li>'Batch'</li><li>'X'</li><li>'Unnamed..0'</li><li>'lastUpdated'</li><li>'sample.id'</li><li>'sample.bridgingControl'</li><li>'sample.visitName'</li><li>'sample.visitDetails'</li><li>'sample.drawDate'</li><li>'sample.daysSinceFirstVisit'</li><li>'file.id'</li><li>'file.name'</li><li>'file.batchID'</li><li>'file.panel'</li><li>'file.pool'</li><li>'file.fileType'</li><li>'file.majorVersion'</li><li>'subject.id'</li><li>'subject.biologicalSex'</li><li>'subject.birthYear'</li><li>'subject.ethnicity'</li><li>'subject.partnerCode'</li><li>'subject.race'</li><li>'subject.subjectGuid'</li><li>'cohort.cohortGuid'</li><li>'sample.diseaseStatesRecordedAtVisit'</li><li>'pbmc_sample_id'</li><li>'subject.covidVaxDose1.daysSinceFirstVisit'</li><li>'subject.covidVaxDose2.daysSinceFirstVisit'</li><li>'Covid_exclusion'</li><li>'subjectGuid'</li><li>'CMV'</li><li>'Flu_Year'</li><li>'Flu_Day'</li><li>'Visit_Type'</li><li>'Year_N'</li><li>'Visit_Flu_Year'</li><li>'Total_Singal'</li><li>'Isotype_to_Total_Singal_Ratio'</li><li>'entry_count'</li></ol>\n"
      ],
      "text/latex": [
       "\\begin{enumerate*}\n",
       "\\item 'X.2'\n",
       "\\item 'Sample.x'\n",
       "\\item 'Assay'\n",
       "\\item 'sample.sampleKitGuid'\n",
       "\\item 'Isotype\\_Signal'\n",
       "\\item 'log.10.Calc..Conc..Mean'\n",
       "\\item 'Isotype'\n",
       "\\item 'X.1'\n",
       "\\item 'Sample.y'\n",
       "\\item 'Type'\n",
       "\\item 'Subject'\n",
       "\\item 'Cohort'\n",
       "\\item 'Visit'\n",
       "\\item 'Batch.ID'\n",
       "\\item 'well'\n",
       "\\item 'Dilution'\n",
       "\\item 'Concentration'\n",
       "\\item 'Signal'\n",
       "\\item 'Adjusted.Signal'\n",
       "\\item 'Mean'\n",
       "\\item 'Adj..Sig..Mean'\n",
       "\\item 'CV'\n",
       "\\item 'X..Recovery'\n",
       "\\item 'X..Recovery.Mean'\n",
       "\\item 'Calc..Concentration'\n",
       "\\item 'Calc..Conc..Mean'\n",
       "\\item 'Calc..Conc..CV'\n",
       "\\item 'Notes'\n",
       "\\item 'Batch'\n",
       "\\item 'X'\n",
       "\\item 'Unnamed..0'\n",
       "\\item 'lastUpdated'\n",
       "\\item 'sample.id'\n",
       "\\item 'sample.bridgingControl'\n",
       "\\item 'sample.visitName'\n",
       "\\item 'sample.visitDetails'\n",
       "\\item 'sample.drawDate'\n",
       "\\item 'sample.daysSinceFirstVisit'\n",
       "\\item 'file.id'\n",
       "\\item 'file.name'\n",
       "\\item 'file.batchID'\n",
       "\\item 'file.panel'\n",
       "\\item 'file.pool'\n",
       "\\item 'file.fileType'\n",
       "\\item 'file.majorVersion'\n",
       "\\item 'subject.id'\n",
       "\\item 'subject.biologicalSex'\n",
       "\\item 'subject.birthYear'\n",
       "\\item 'subject.ethnicity'\n",
       "\\item 'subject.partnerCode'\n",
       "\\item 'subject.race'\n",
       "\\item 'subject.subjectGuid'\n",
       "\\item 'cohort.cohortGuid'\n",
       "\\item 'sample.diseaseStatesRecordedAtVisit'\n",
       "\\item 'pbmc\\_sample\\_id'\n",
       "\\item 'subject.covidVaxDose1.daysSinceFirstVisit'\n",
       "\\item 'subject.covidVaxDose2.daysSinceFirstVisit'\n",
       "\\item 'Covid\\_exclusion'\n",
       "\\item 'subjectGuid'\n",
       "\\item 'CMV'\n",
       "\\item 'Flu\\_Year'\n",
       "\\item 'Flu\\_Day'\n",
       "\\item 'Visit\\_Type'\n",
       "\\item 'Year\\_N'\n",
       "\\item 'Visit\\_Flu\\_Year'\n",
       "\\item 'Total\\_Singal'\n",
       "\\item 'Isotype\\_to\\_Total\\_Singal\\_Ratio'\n",
       "\\item 'entry\\_count'\n",
       "\\end{enumerate*}\n"
      ],
      "text/markdown": [
       "1. 'X.2'\n",
       "2. 'Sample.x'\n",
       "3. 'Assay'\n",
       "4. 'sample.sampleKitGuid'\n",
       "5. 'Isotype_Signal'\n",
       "6. 'log.10.Calc..Conc..Mean'\n",
       "7. 'Isotype'\n",
       "8. 'X.1'\n",
       "9. 'Sample.y'\n",
       "10. 'Type'\n",
       "11. 'Subject'\n",
       "12. 'Cohort'\n",
       "13. 'Visit'\n",
       "14. 'Batch.ID'\n",
       "15. 'well'\n",
       "16. 'Dilution'\n",
       "17. 'Concentration'\n",
       "18. 'Signal'\n",
       "19. 'Adjusted.Signal'\n",
       "20. 'Mean'\n",
       "21. 'Adj..Sig..Mean'\n",
       "22. 'CV'\n",
       "23. 'X..Recovery'\n",
       "24. 'X..Recovery.Mean'\n",
       "25. 'Calc..Concentration'\n",
       "26. 'Calc..Conc..Mean'\n",
       "27. 'Calc..Conc..CV'\n",
       "28. 'Notes'\n",
       "29. 'Batch'\n",
       "30. 'X'\n",
       "31. 'Unnamed..0'\n",
       "32. 'lastUpdated'\n",
       "33. 'sample.id'\n",
       "34. 'sample.bridgingControl'\n",
       "35. 'sample.visitName'\n",
       "36. 'sample.visitDetails'\n",
       "37. 'sample.drawDate'\n",
       "38. 'sample.daysSinceFirstVisit'\n",
       "39. 'file.id'\n",
       "40. 'file.name'\n",
       "41. 'file.batchID'\n",
       "42. 'file.panel'\n",
       "43. 'file.pool'\n",
       "44. 'file.fileType'\n",
       "45. 'file.majorVersion'\n",
       "46. 'subject.id'\n",
       "47. 'subject.biologicalSex'\n",
       "48. 'subject.birthYear'\n",
       "49. 'subject.ethnicity'\n",
       "50. 'subject.partnerCode'\n",
       "51. 'subject.race'\n",
       "52. 'subject.subjectGuid'\n",
       "53. 'cohort.cohortGuid'\n",
       "54. 'sample.diseaseStatesRecordedAtVisit'\n",
       "55. 'pbmc_sample_id'\n",
       "56. 'subject.covidVaxDose1.daysSinceFirstVisit'\n",
       "57. 'subject.covidVaxDose2.daysSinceFirstVisit'\n",
       "58. 'Covid_exclusion'\n",
       "59. 'subjectGuid'\n",
       "60. 'CMV'\n",
       "61. 'Flu_Year'\n",
       "62. 'Flu_Day'\n",
       "63. 'Visit_Type'\n",
       "64. 'Year_N'\n",
       "65. 'Visit_Flu_Year'\n",
       "66. 'Total_Singal'\n",
       "67. 'Isotype_to_Total_Singal_Ratio'\n",
       "68. 'entry_count'\n",
       "\n",
       "\n"
      ],
      "text/plain": [
       " [1] \"X.2\"                                      \n",
       " [2] \"Sample.x\"                                 \n",
       " [3] \"Assay\"                                    \n",
       " [4] \"sample.sampleKitGuid\"                     \n",
       " [5] \"Isotype_Signal\"                           \n",
       " [6] \"log.10.Calc..Conc..Mean\"                  \n",
       " [7] \"Isotype\"                                  \n",
       " [8] \"X.1\"                                      \n",
       " [9] \"Sample.y\"                                 \n",
       "[10] \"Type\"                                     \n",
       "[11] \"Subject\"                                  \n",
       "[12] \"Cohort\"                                   \n",
       "[13] \"Visit\"                                    \n",
       "[14] \"Batch.ID\"                                 \n",
       "[15] \"well\"                                     \n",
       "[16] \"Dilution\"                                 \n",
       "[17] \"Concentration\"                            \n",
       "[18] \"Signal\"                                   \n",
       "[19] \"Adjusted.Signal\"                          \n",
       "[20] \"Mean\"                                     \n",
       "[21] \"Adj..Sig..Mean\"                           \n",
       "[22] \"CV\"                                       \n",
       "[23] \"X..Recovery\"                              \n",
       "[24] \"X..Recovery.Mean\"                         \n",
       "[25] \"Calc..Concentration\"                      \n",
       "[26] \"Calc..Conc..Mean\"                         \n",
       "[27] \"Calc..Conc..CV\"                           \n",
       "[28] \"Notes\"                                    \n",
       "[29] \"Batch\"                                    \n",
       "[30] \"X\"                                        \n",
       "[31] \"Unnamed..0\"                               \n",
       "[32] \"lastUpdated\"                              \n",
       "[33] \"sample.id\"                                \n",
       "[34] \"sample.bridgingControl\"                   \n",
       "[35] \"sample.visitName\"                         \n",
       "[36] \"sample.visitDetails\"                      \n",
       "[37] \"sample.drawDate\"                          \n",
       "[38] \"sample.daysSinceFirstVisit\"               \n",
       "[39] \"file.id\"                                  \n",
       "[40] \"file.name\"                                \n",
       "[41] \"file.batchID\"                             \n",
       "[42] \"file.panel\"                               \n",
       "[43] \"file.pool\"                                \n",
       "[44] \"file.fileType\"                            \n",
       "[45] \"file.majorVersion\"                        \n",
       "[46] \"subject.id\"                               \n",
       "[47] \"subject.biologicalSex\"                    \n",
       "[48] \"subject.birthYear\"                        \n",
       "[49] \"subject.ethnicity\"                        \n",
       "[50] \"subject.partnerCode\"                      \n",
       "[51] \"subject.race\"                             \n",
       "[52] \"subject.subjectGuid\"                      \n",
       "[53] \"cohort.cohortGuid\"                        \n",
       "[54] \"sample.diseaseStatesRecordedAtVisit\"      \n",
       "[55] \"pbmc_sample_id\"                           \n",
       "[56] \"subject.covidVaxDose1.daysSinceFirstVisit\"\n",
       "[57] \"subject.covidVaxDose2.daysSinceFirstVisit\"\n",
       "[58] \"Covid_exclusion\"                          \n",
       "[59] \"subjectGuid\"                              \n",
       "[60] \"CMV\"                                      \n",
       "[61] \"Flu_Year\"                                 \n",
       "[62] \"Flu_Day\"                                  \n",
       "[63] \"Visit_Type\"                               \n",
       "[64] \"Year_N\"                                   \n",
       "[65] \"Visit_Flu_Year\"                           \n",
       "[66] \"Total_Singal\"                             \n",
       "[67] \"Isotype_to_Total_Singal_Ratio\"            \n",
       "[68] \"entry_count\"                              "
      ]
     },
     "metadata": {},
     "output_type": "display_data"
    }
   ],
   "source": [
    "colnames(df_subet)"
   ]
  },
  {
   "cell_type": "code",
   "execution_count": null,
   "id": "1fb821f1-a140-4552-831b-c6c5ac0ef8d2",
   "metadata": {},
   "outputs": [],
   "source": []
  },
  {
   "cell_type": "code",
   "execution_count": 35,
   "id": "27de9e1d-7980-4933-9df8-a5510be60841",
   "metadata": {},
   "outputs": [
    {
     "data": {
      "text/html": [
       "<table class=\"dataframe\">\n",
       "<caption>A tibble: 2 × 1</caption>\n",
       "<thead>\n",
       "\t<tr><th scope=col>Isotype_Signal</th></tr>\n",
       "\t<tr><th scope=col>&lt;int&gt;</th></tr>\n",
       "</thead>\n",
       "<tbody>\n",
       "\t<tr><td>4586</td></tr>\n",
       "\t<tr><td> 590</td></tr>\n",
       "</tbody>\n",
       "</table>\n"
      ],
      "text/latex": [
       "A tibble: 2 × 1\n",
       "\\begin{tabular}{l}\n",
       " Isotype\\_Signal\\\\\n",
       " <int>\\\\\n",
       "\\hline\n",
       "\t 4586\\\\\n",
       "\t  590\\\\\n",
       "\\end{tabular}\n"
      ],
      "text/markdown": [
       "\n",
       "A tibble: 2 × 1\n",
       "\n",
       "| Isotype_Signal &lt;int&gt; |\n",
       "|---|\n",
       "| 4586 |\n",
       "|  590 |\n",
       "\n"
      ],
      "text/plain": [
       "  Isotype_Signal\n",
       "1 4586          \n",
       "2  590          "
      ]
     },
     "metadata": {},
     "output_type": "display_data"
    }
   ],
   "source": [
    "df_subet %>% filter(subjectGuid==\"BR1019\") %>% select(Isotype_Signal)"
   ]
  },
  {
   "cell_type": "code",
   "execution_count": 37,
   "id": "d5c72bb5-317b-429c-8415-f9fcb33a6cf6",
   "metadata": {},
   "outputs": [],
   "source": [
    "df_summay<-df_subet %>%\n",
    "  arrange(subjectGuid, Cohort, Isotype) %>%\n",
    "  group_by(subjectGuid, Cohort) %>%\n",
    "  summarise(IgG2_IgG3_Ratio = first(log.10.Calc..Conc..Mean\t) / last(log.10.Calc..Conc..Mean), .groups = \"drop\")"
   ]
  },
  {
   "cell_type": "code",
   "execution_count": 39,
   "id": "2d5fae3f-dd85-49fd-a10e-c0b4c2f4744c",
   "metadata": {},
   "outputs": [
    {
     "data": {
      "image/png": "[encoded data removed]",
      "text/plain": [
       "plot without title"
      ]
     },
     "metadata": {
      "image/png": {
       "height": 420,
       "width": 420
      }
     },
     "output_type": "display_data"
    }
   ],
   "source": [
    " ggboxplot(df_summay, x = \"Cohort\", y = \"IgG2_IgG3_Ratio\",\n",
    "          color = \"Cohort\", palette = \"jco\",\n",
    "          add = \"jitter\") + stat_compare_means()"
   ]
  },
  {
   "cell_type": "code",
   "execution_count": null,
   "id": "5c2c6ccf-51f5-47b4-9f08-587e472d0259",
   "metadata": {},
   "outputs": [],
   "source": []
  }
 ],
 "metadata": {
  "kernelspec": {
   "display_name": "R_BRI_Figures",
   "language": "R",
   "name": "r_bri_figures"
  },
  "language_info": {
   "codemirror_mode": "r",
   "file_extension": ".r",
   "mimetype": "text/x-r-source",
   "name": "R",
   "pygments_lexer": "r",
   "version": "4.3.2"
  }
 },
 "nbformat": 4,
 "nbformat_minor": 5
}
