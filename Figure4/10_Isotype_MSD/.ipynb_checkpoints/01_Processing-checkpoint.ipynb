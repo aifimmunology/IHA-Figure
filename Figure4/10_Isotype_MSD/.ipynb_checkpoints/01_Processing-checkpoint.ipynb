{
 "cells": [
  {
   "cell_type": "code",
   "execution_count": 71,
   "id": "a5c02dd5-4c6c-4133-992e-92acd0d28013",
   "metadata": {},
   "outputs": [],
   "source": [
    "library(hise)\n",
    "library(ggh4x)\n",
    "library(ggplot2)\n",
    "library(stats)\n",
    "library(parallel)\n",
    "library(dplyr)\n",
    "library(readxl)\n",
    "library(tidyverse)\n",
    "library(rstatix)\n",
    "library(ggpubr)\n",
    "library(corrplot)"
   ]
  },
  {
   "cell_type": "code",
   "execution_count": 72,
   "id": "1a792e73-e41b-4f33-9a82-bd665bb38363",
   "metadata": {},
   "outputs": [],
   "source": [
    "meta_data<-read.csv(\"/home/workspace/IHA_Figure_Revision/Figure4/00_Flu_Year_Specific_Meta_Data/meta_data.csv\")\n"
   ]
  },
  {
   "cell_type": "code",
   "execution_count": 73,
   "id": "15195d8d-e558-4891-85ac-831cbccba10d",
   "metadata": {},
   "outputs": [],
   "source": [
    "df_MSD<-read.csv(\"/home/workspace/IHA_Figure_Revision/Figure4/02_Total_IgG_MSD_Assay/MSD_All.csv\")\n",
    "df_MSD<-df_MSD[c(\"Sample.Kit.Barcode\",\"Assay\",\"Mean\",\"Calc..Conc..Mean\",\"subject.biologicalSex\",\n",
    "             'cohort.cohortGuid', 'subjectGuid','CMV','Flu_Year','Flu_Day','Visit_Type','Year_N','Visit_Flu_Year')]"
   ]
  },
  {
   "cell_type": "code",
   "execution_count": 74,
   "id": "bfdf7180-44a3-4933-9641-c7d6ebfd7a43",
   "metadata": {},
   "outputs": [
    {
     "data": {
      "text/html": [
       "<style>\n",
       ".list-inline {list-style: none; margin:0; padding: 0}\n",
       ".list-inline>li {display: inline-block}\n",
       ".list-inline>li:not(:last-child)::after {content: \"\\00b7\"; padding: 0 .5ex}\n",
       "</style>\n",
       "<ol class=list-inline><li>'MSD Recent_20231026_092142.csv'</li><li>'Plate 2BLHSAU095_mouse_anti-human_IgG3.xlsx'</li><li>'Plate_2BLHSA1081_mouse_anti-human_IgG1.xlsx'</li><li>'Plate_2BLHSA4100_mouse_anti-human_IgG4.xlsx'</li><li>'Plate_2BLHSAW094_mouse_anti-human_IgG2.xlsx'</li></ol>\n"
      ],
      "text/latex": [
       "\\begin{enumerate*}\n",
       "\\item 'MSD Recent\\_20231026\\_092142.csv'\n",
       "\\item 'Plate 2BLHSAU095\\_mouse\\_anti-human\\_IgG3.xlsx'\n",
       "\\item 'Plate\\_2BLHSA1081\\_mouse\\_anti-human\\_IgG1.xlsx'\n",
       "\\item 'Plate\\_2BLHSA4100\\_mouse\\_anti-human\\_IgG4.xlsx'\n",
       "\\item 'Plate\\_2BLHSAW094\\_mouse\\_anti-human\\_IgG2.xlsx'\n",
       "\\end{enumerate*}\n"
      ],
      "text/markdown": [
       "1. 'MSD Recent_20231026_092142.csv'\n",
       "2. 'Plate 2BLHSAU095_mouse_anti-human_IgG3.xlsx'\n",
       "3. 'Plate_2BLHSA1081_mouse_anti-human_IgG1.xlsx'\n",
       "4. 'Plate_2BLHSA4100_mouse_anti-human_IgG4.xlsx'\n",
       "5. 'Plate_2BLHSAW094_mouse_anti-human_IgG2.xlsx'\n",
       "\n",
       "\n"
      ],
      "text/plain": [
       "[1] \"MSD Recent_20231026_092142.csv\"             \n",
       "[2] \"Plate 2BLHSAU095_mouse_anti-human_IgG3.xlsx\"\n",
       "[3] \"Plate_2BLHSA1081_mouse_anti-human_IgG1.xlsx\"\n",
       "[4] \"Plate_2BLHSA4100_mouse_anti-human_IgG4.xlsx\"\n",
       "[5] \"Plate_2BLHSAW094_mouse_anti-human_IgG2.xlsx\""
      ]
     },
     "metadata": {},
     "output_type": "display_data"
    }
   ],
   "source": [
    "file_list<-list.files(\"/home/workspace/IHA_Figure_Revision/Dataset/MSD/\")\n",
    "file_list"
   ]
  },
  {
   "cell_type": "code",
   "execution_count": 75,
   "id": "b6fb05f0-d405-447b-8e46-1a8044924ac3",
   "metadata": {},
   "outputs": [],
   "source": [
    "df_list<-mclapply(file_list[2:5],function(x){\n",
    "\n",
    "\n",
    "df<-readxl::read_excel(paste0(\"/home/workspace/IHA_Figure_Revision/Dataset/MSD/\",x), skip = 1) %>% as.data.frame()\n",
    "df$Isotype<-sub(\".*_([^_]+)\\\\.xlsx$\", \"\\\\1\", x, perl = TRUE)\n",
    "df_filtered<- df %>% filter(grepl(\"PL\",Sample)) %>% filter(`Calc. Conc. Mean`!=\"NaN\")\n",
    "return(df_filtered)\n",
    "})\n",
    "df<-do.call(rbind,df_list)"
   ]
  },
  {
   "cell_type": "code",
   "execution_count": 76,
   "id": "df79c3df-924e-4072-a3c3-b6b04c2e32d8",
   "metadata": {},
   "outputs": [],
   "source": [
    "df$sample.sampleKitGuid<-paste0(\"KT\",substr(df$Sample,3,7))"
   ]
  },
  {
   "cell_type": "code",
   "execution_count": 77,
   "id": "f8bd02ce-9f2f-4b2d-aa16-c941d8108df5",
   "metadata": {},
   "outputs": [
    {
     "name": "stderr",
     "output_type": "stream",
     "text": [
      "\u001b[1m\u001b[22mJoining with `by = join_by(sample.sampleKitGuid)`\n"
     ]
    }
   ],
   "source": [
    "df<-left_join(df,meta_data)"
   ]
  },
  {
   "cell_type": "code",
   "execution_count": 78,
   "id": "34b426c4-378a-4e01-93eb-b2727d4c7e18",
   "metadata": {},
   "outputs": [
    {
     "data": {
      "text/html": [
       "<style>\n",
       ".list-inline {list-style: none; margin:0; padding: 0}\n",
       ".list-inline>li {display: inline-block}\n",
       ".list-inline>li:not(:last-child)::after {content: \"\\00b7\"; padding: 0 .5ex}\n",
       "</style>\n",
       "<ol class=list-inline><li>'Sample'</li><li>'Assay'</li><li>'sample.sampleKitGuid'</li><li>'Isotype_Signal'</li><li>'Signal'</li><li>'log 10 Calc. Conc. Mean'</li><li>'Isotype'</li><li>'Mean'</li><li>'Calc..Conc..Mean'</li><li>'subject.biologicalSex'</li><li>'cohort.cohortGuid'</li><li>'subjectGuid'</li><li>'CMV'</li><li>'Flu_Year'</li><li>'Flu_Day'</li><li>'Visit_Type'</li><li>'Year_N'</li><li>'Visit_Flu_Year'</li><li>'Total_Singal'</li></ol>\n"
      ],
      "text/latex": [
       "\\begin{enumerate*}\n",
       "\\item 'Sample'\n",
       "\\item 'Assay'\n",
       "\\item 'sample.sampleKitGuid'\n",
       "\\item 'Isotype\\_Signal'\n",
       "\\item 'Signal'\n",
       "\\item 'log 10 Calc. Conc. Mean'\n",
       "\\item 'Isotype'\n",
       "\\item 'Mean'\n",
       "\\item 'Calc..Conc..Mean'\n",
       "\\item 'subject.biologicalSex'\n",
       "\\item 'cohort.cohortGuid'\n",
       "\\item 'subjectGuid'\n",
       "\\item 'CMV'\n",
       "\\item 'Flu\\_Year'\n",
       "\\item 'Flu\\_Day'\n",
       "\\item 'Visit\\_Type'\n",
       "\\item 'Year\\_N'\n",
       "\\item 'Visit\\_Flu\\_Year'\n",
       "\\item 'Total\\_Singal'\n",
       "\\end{enumerate*}\n"
      ],
      "text/markdown": [
       "1. 'Sample'\n",
       "2. 'Assay'\n",
       "3. 'sample.sampleKitGuid'\n",
       "4. 'Isotype_Signal'\n",
       "5. 'Signal'\n",
       "6. 'log 10 Calc. Conc. Mean'\n",
       "7. 'Isotype'\n",
       "8. 'Mean'\n",
       "9. 'Calc..Conc..Mean'\n",
       "10. 'subject.biologicalSex'\n",
       "11. 'cohort.cohortGuid'\n",
       "12. 'subjectGuid'\n",
       "13. 'CMV'\n",
       "14. 'Flu_Year'\n",
       "15. 'Flu_Day'\n",
       "16. 'Visit_Type'\n",
       "17. 'Year_N'\n",
       "18. 'Visit_Flu_Year'\n",
       "19. 'Total_Singal'\n",
       "\n",
       "\n"
      ],
      "text/plain": [
       " [1] \"Sample\"                  \"Assay\"                  \n",
       " [3] \"sample.sampleKitGuid\"    \"Isotype_Signal\"         \n",
       " [5] \"Signal\"                  \"log 10 Calc. Conc. Mean\"\n",
       " [7] \"Isotype\"                 \"Mean\"                   \n",
       " [9] \"Calc..Conc..Mean\"        \"subject.biologicalSex\"  \n",
       "[11] \"cohort.cohortGuid\"       \"subjectGuid\"            \n",
       "[13] \"CMV\"                     \"Flu_Year\"               \n",
       "[15] \"Flu_Day\"                 \"Visit_Type\"             \n",
       "[17] \"Year_N\"                  \"Visit_Flu_Year\"         \n",
       "[19] \"Total_Singal\"           "
      ]
     },
     "metadata": {},
     "output_type": "display_data"
    }
   ],
   "source": [
    "colnames(df_combined)"
   ]
  },
  {
   "cell_type": "code",
   "execution_count": 79,
   "id": "ff00ebb5-d8b9-49e8-80dc-5b540eeb43e7",
   "metadata": {},
   "outputs": [],
   "source": [
    "df$`Calc.Conc.Mean.Isotype`<-as.numeric(df$`Calc. Conc. Mean`)\n",
    "df$`log 10 Calc. Conc. Mean`<-log10(as.numeric(df$`Calc. Conc. Mean`))"
   ]
  },
  {
   "cell_type": "code",
   "execution_count": 81,
   "id": "fe67bc67-91e1-4c92-8a6b-42f3f88bf7c7",
   "metadata": {},
   "outputs": [],
   "source": [
    "df_Isotype <- df %>%\n",
    "    select(Sample, \n",
    "           Assay, \n",
    "           sample.sampleKitGuid, \n",
    "           `Signal`,`log 10 Calc. Conc. Mean`, `Calc.Conc.Mean.Isotype`,\n",
    "           Isotype)"
   ]
  },
  {
   "cell_type": "code",
   "execution_count": 82,
   "id": "91031468-5e77-4da8-87af-b5226e23d518",
   "metadata": {},
   "outputs": [],
   "source": [
    "colnames(df_Isotype)[4]<-\"Isotype_Signal\"\n",
    "df_combined <- left_join(df_Isotype, df_MSD, by = c(Assay = \"Assay\", \n",
    "                                                    sample.sampleKitGuid = \"Sample.Kit.Barcode\"))"
   ]
  },
  {
   "cell_type": "code",
   "execution_count": 83,
   "id": "9d00bd30-442c-4c5e-b50e-887361f73f7b",
   "metadata": {},
   "outputs": [],
   "source": [
    "df_combined<-df_combined %>% mutate(Total_Singal=Mean)"
   ]
  },
  {
   "cell_type": "code",
   "execution_count": 84,
   "id": "49a34ee9-3dee-477f-8dac-00f58f8d8221",
   "metadata": {},
   "outputs": [],
   "source": [
    "write.csv(df_combined,\"Isotype_MSD_Processed.csv\")"
   ]
  },
  {
   "cell_type": "markdown",
   "id": "2c380785-ce06-4bc2-8a5b-8b95485706bd",
   "metadata": {},
   "source": [
    "# Calculate Ratio"
   ]
  },
  {
   "cell_type": "code",
   "execution_count": 16,
   "id": "482f03a8-4e69-496b-bf36-60438065f1cf",
   "metadata": {},
   "outputs": [],
   "source": [
    "df_combined$Isotype_to_Total_Singal_Ratio<-df_combined$Isotype_Signal/df_combined$Total_Singal"
   ]
  },
  {
   "cell_type": "code",
   "execution_count": 17,
   "id": "4d0991eb-11da-4e7a-baca-9524252a2523",
   "metadata": {},
   "outputs": [],
   "source": [
    "df_combined<-df_combined %>% filter(Isotype_Signal>10,Total_Singal>10)%>% \n",
    "filter(Isotype_Signal<1000000,Total_Singal<1000000)"
   ]
  },
  {
   "cell_type": "code",
   "execution_count": 20,
   "id": "fa168283-98f5-405f-9c95-10d7a7f0a2f8",
   "metadata": {},
   "outputs": [],
   "source": [
    "df_combined_subset<-df_combined %>% filter(Isotype %in% c(\"IgG3\",\"IgG2\"), Assay ==\"Flu B/Phuket HA\") "
   ]
  },
  {
   "cell_type": "code",
   "execution_count": 21,
   "id": "e80cc3e7-fa4d-4130-a5b5-5502bcd5f8fb",
   "metadata": {},
   "outputs": [],
   "source": [
    "write.csv(df_combined_subset,\"Isotype_Singal_IgG2_IgG3_Phuket.csv\")"
   ]
  },
  {
   "cell_type": "code",
   "execution_count": null,
   "id": "aad0601b-e60b-43d6-85fc-238037b84641",
   "metadata": {},
   "outputs": [],
   "source": []
  }
 ],
 "metadata": {
  "kernelspec": {
   "display_name": "R_BRI_Figures",
   "language": "R",
   "name": "r_bri_figures"
  },
  "language_info": {
   "codemirror_mode": "r",
   "file_extension": ".r",
   "mimetype": "text/x-r-source",
   "name": "R",
   "pygments_lexer": "r",
   "version": "4.3.2"
  }
 },
 "nbformat": 4,
 "nbformat_minor": 5
}
