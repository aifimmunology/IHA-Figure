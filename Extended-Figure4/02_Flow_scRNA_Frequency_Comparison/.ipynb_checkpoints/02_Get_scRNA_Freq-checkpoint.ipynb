{
 "cells": [
  {
   "cell_type": "code",
   "execution_count": 20,
   "id": "72315da6-7486-4472-b572-d21d8ff0bb34",
   "metadata": {},
   "outputs": [],
   "source": [
    "suppressPackageStartupMessages(library(dplyr))\n",
    "suppressPackageStartupMessages(library(tidyr))\n",
    "suppressPackageStartupMessages(library(tibble))\n",
    "suppressPackageStartupMessages(library(stringr))\n",
    "library(reshape2)\n",
    "library(data.table)\n",
    "library(parallel)\n",
    "library(purrr)\n",
    "source('/home//jupyter/BRI_Figures_Final_V2/helper_function/helper_function_IHA.r')"
   ]
  },
  {
   "cell_type": "code",
   "execution_count": null,
   "id": "73c597cf-7cd6-40d4-bba0-f7f164333e98",
   "metadata": {},
   "outputs": [],
   "source": []
  },
  {
   "cell_type": "markdown",
   "id": "b41efab7-2183-4831-b55a-c59d7b0a102b",
   "metadata": {},
   "source": [
    "# Read meta data and subset matched sample"
   ]
  },
  {
   "cell_type": "code",
   "execution_count": 21,
   "id": "a1fba35f-39c4-4ed4-b4b1-0b43a9609e6d",
   "metadata": {},
   "outputs": [],
   "source": [
    "meta_data<-read.csv(\"/home//jupyter/BRI_Figures_Final_V2/Extended-Figure4/01_Frequency_Comparison/selected_samples_with_acutal_flu_year.csv\")"
   ]
  },
  {
   "cell_type": "code",
   "execution_count": 22,
   "id": "c7f527ef-7dee-42e1-9892-ce9bbfcb1ebb",
   "metadata": {},
   "outputs": [],
   "source": [
    "donors <- c(\"BR1025\",\"BR1031\",\"BR1032\",\"BR1047\",\"BR1050\",\"BR1057\",\n",
    "            \"BR2013\",\"BR2021\",\"BR2023\",\"BR2039\",\"BR2044\",\"BR2051\")"
   ]
  },
  {
   "cell_type": "code",
   "execution_count": 23,
   "id": "a5d1e1bb-4ceb-47b4-81b6-d7c42e79e1db",
   "metadata": {},
   "outputs": [],
   "source": [
    "meta_data_filtered<-meta_data %>% filter(subject.subjectGuid  %in% donors ,Flu_Year=='2020-2021',Flu_Day %in% c('Day 0','Day 7'))"
   ]
  },
  {
   "cell_type": "markdown",
   "id": "3b3e212e-6bef-4176-b72c-321097b15c99",
   "metadata": {},
   "source": [
    "# Read Freq Files and do subsetting"
   ]
  },
  {
   "cell_type": "code",
   "execution_count": 24,
   "id": "5023bcab-17ed-478a-ae84-e3b72f4e5baf",
   "metadata": {},
   "outputs": [],
   "source": [
    "df_freq<-read.csv(\"/home/jupyter/BRI_Figures_Final_V2/Dataset/diha_AIFI_L3_frequencies_2024-05-05.csv\")"
   ]
  },
  {
   "cell_type": "code",
   "execution_count": 25,
   "id": "1596a211-8415-44ec-a1b5-5e03ddf1a59c",
   "metadata": {},
   "outputs": [],
   "source": [
    "df_freq_Y1<-df_freq %>% filter(specimen.specimenGuid %in% meta_data_filtered$pbmc_sample_id)"
   ]
  },
  {
   "cell_type": "code",
   "execution_count": 26,
   "id": "01f2c502-dffd-47e5-81b0-454dcf34abfe",
   "metadata": {},
   "outputs": [],
   "source": [
    "df_freq_Y1<-left_join(df_freq_Y1,meta_data_filtered[c('pbmc_sample_id','Flu_Year','Flu_Day')],by=c(\"specimen.specimenGuid\"=\"pbmc_sample_id\"))"
   ]
  },
  {
   "cell_type": "code",
   "execution_count": 27,
   "id": "b6a547b4-e84e-4748-a448-e3469fd5a66e",
   "metadata": {},
   "outputs": [],
   "source": [
    "write.csv(df_freq_Y1,\"freq_actual_flu_year_1_D0_D7.csv\")"
   ]
  },
  {
   "cell_type": "code",
   "execution_count": null,
   "id": "79b94189-5fe7-48c2-9db9-208a93103288",
   "metadata": {},
   "outputs": [],
   "source": []
  }
 ],
 "metadata": {
  "kernelspec": {
   "display_name": "R 4",
   "language": "R",
   "name": "ir4"
  },
  "language_info": {
   "codemirror_mode": "r",
   "file_extension": ".r",
   "mimetype": "text/x-r-source",
   "name": "R",
   "pygments_lexer": "r",
   "version": "4.3.2"
  }
 },
 "nbformat": 4,
 "nbformat_minor": 5
}
