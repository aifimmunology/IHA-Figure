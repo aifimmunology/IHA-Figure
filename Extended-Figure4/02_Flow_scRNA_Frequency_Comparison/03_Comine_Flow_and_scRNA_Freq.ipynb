{
 "cells": [
  {
   "cell_type": "code",
   "execution_count": 13,
   "id": "aa9ab0af-87b8-4531-aac8-44283512b9be",
   "metadata": {},
   "outputs": [],
   "source": [
    "suppressPackageStartupMessages(library(dplyr))\n",
    "suppressPackageStartupMessages(library(tidyr))\n",
    "suppressPackageStartupMessages(library(tibble))\n",
    "suppressPackageStartupMessages(library(stringr))\n",
    "source('/home//jupyter/BRI_Figures_Final_V2/helper_function/helper_function_IHA.r')"
   ]
  },
  {
   "cell_type": "code",
   "execution_count": null,
   "id": "99ea44dc-f147-44bd-b281-a070e5866a1e",
   "metadata": {},
   "outputs": [],
   "source": []
  },
  {
   "cell_type": "code",
   "execution_count": 23,
   "id": "4fde374c-e55c-4971-937d-8a95a88f7cfa",
   "metadata": {},
   "outputs": [],
   "source": [
    "Flow_Freq<-read.csv(\"Flow_Frequency.csv\")\n",
    "scRNA_Freq<-read.csv(\"freq_actual_flu_year_1_D0_D7.csv\")"
   ]
  },
  {
   "cell_type": "code",
   "execution_count": 24,
   "id": "3c4b676d-6f4f-41a9-81d8-2c911906aac1",
   "metadata": {},
   "outputs": [],
   "source": [
    "Flow_Freq <- Flow_Freq %>%\n",
    "  dplyr::mutate(AIFI_L3_matched = case_when(\n",
    "    celltype == 'CD27_neg_Effector' ~ 'CD27- effector B cell',\n",
    "    celltype == 'CD27_pos_Effector' ~ 'CD27+ effector B cell',\n",
    "    celltype == 'Early_Memory' ~ 'Early memory B cell',\n",
    "    celltype == 'Core_Memory' ~ 'Core memory B cell',\n",
    "    celltype == 'CD95_Memory' ~ 'CD95 memory B cell',\n",
    "    celltype == 'Transitional' ~ 'Transitional B cell',\n",
    "    celltype == 'Naive' ~ 'Core naive B cell',\n",
    "    celltype == 'Plasma' ~ 'Plasma cell',\n",
    "    celltype == 'T2MBC' ~ 'Type 2 polarized memory B cell',\n",
    "    TRUE ~ as.character(celltype)\n",
    "  )) %>% filter(!timepoint=='day90')"
   ]
  },
  {
   "cell_type": "code",
   "execution_count": 25,
   "id": "a17bdaa7-1b73-4b61-8c9a-883e3cc3bd19",
   "metadata": {},
   "outputs": [],
   "source": [
    "Flow_Freq <- Flow_Freq %>%\n",
    "  dplyr::mutate(sample.visitName = case_when(\n",
    "    timepoint == 'day0' ~ 'Flu Year 1 Day 0',\n",
    "    timepoint == 'day7' ~ 'Flu Year 1 Day 7',\n",
    "    TRUE ~ as.character(timepoint)\n",
    "  )) "
   ]
  },
  {
   "cell_type": "code",
   "execution_count": 26,
   "id": "e101a5dc-2b1e-4d98-86a8-9facee55d80c",
   "metadata": {},
   "outputs": [],
   "source": [
    "scRNA_Freq<-scRNA_Freq %>%\n",
    "  dplyr::mutate(AIFI_L3_matched = case_when(\n",
    "    AIFI_L3 %in% c( unique(scRNA_Freq$AIFI_L3)[grepl('B cell',unique(scRNA_Freq$AIFI_L3))],'Plasma cell') ~ as.character(AIFI_L3),\n",
    "    TRUE ~ 'non_B'\n",
    "  )) %>%\n",
    "  dplyr::mutate(AIFI_L3_matched = case_when(\n",
    "    AIFI_L3_matched %in% c( 'Activated memory B cell') ~ 'Core memory B cell',\n",
    "    AIFI_L3_matched %in% c( 'ISG+ naive B cell') ~ 'Core naive B cell',  \n",
    "    TRUE ~ as.character(AIFI_L3_matched)\n",
    "  ))"
   ]
  },
  {
   "cell_type": "code",
   "execution_count": 27,
   "id": "d88a93b2-f6ee-41c9-9df1-fbf1818be327",
   "metadata": {},
   "outputs": [],
   "source": [
    "scRNA_Freq_agg <- scRNA_Freq %>%\n",
    "  group_by(subject.subjectGuid, sample.visitName,AIFI_L3_matched) %>%\n",
    "  summarize(Counts = sum(AIFI_L3_count), .groups = 'drop')"
   ]
  },
  {
   "cell_type": "code",
   "execution_count": 28,
   "id": "443ed0f3-5e8d-482f-9296-7898ecb9d8e2",
   "metadata": {},
   "outputs": [],
   "source": [
    "scRNA_Freq_agg<-scRNA_Freq_agg %>% group_by(subject.subjectGuid,sample.visitName) %>% mutate(frequency=Counts/sum(Counts)*100) %>% mutate(frequency_clr=clr_transform(frequency))"
   ]
  },
  {
   "cell_type": "code",
   "execution_count": 29,
   "id": "ab83d342-3228-471f-bedd-df3ce9e7b887",
   "metadata": {},
   "outputs": [],
   "source": [
    "colnames(scRNA_Freq_agg)<-c('subject.subjectGuid','sample.visitName','AIFI_L3_matched','Counts_scRNA','frequency_scRNA','frequency_clr_scRNA')\n",
    "colnames(Flow_Freq)<-c('row','subject.subjectGuid','timepoint','celltype','Counts_Flow','frequency_Flow','frequency_clr_Flow','AIFI_L3_matched','sample.visitName')"
   ]
  },
  {
   "cell_type": "code",
   "execution_count": 32,
   "id": "3eb1271f-7ded-43aa-ae29-935ac97231c4",
   "metadata": {},
   "outputs": [
    {
     "name": "stderr",
     "output_type": "stream",
     "text": [
      "\u001b[1m\u001b[22mJoining with `by = join_by(subject.subjectGuid, AIFI_L3_matched,\n",
      "sample.visitName)`\n"
     ]
    }
   ],
   "source": [
    "df_combined<-left_join(Flow_Freq,scRNA_Freq_agg)"
   ]
  },
  {
   "cell_type": "code",
   "execution_count": 34,
   "id": "b5153b4d-6740-4ab6-a9a6-7f9b70a0af6d",
   "metadata": {},
   "outputs": [],
   "source": [
    "write.csv(df_combined,'flow_scRNA_Freq.csv')"
   ]
  },
  {
   "cell_type": "code",
   "execution_count": null,
   "id": "3c337e8d-b4f3-4fe0-903a-d3e24ab23847",
   "metadata": {},
   "outputs": [],
   "source": []
  }
 ],
 "metadata": {
  "kernelspec": {
   "display_name": "R 4",
   "language": "R",
   "name": "ir4"
  },
  "language_info": {
   "codemirror_mode": "r",
   "file_extension": ".r",
   "mimetype": "text/x-r-source",
   "name": "R",
   "pygments_lexer": "r",
   "version": "4.3.2"
  }
 },
 "nbformat": 4,
 "nbformat_minor": 5
}
