{
 "cells": [
  {
   "cell_type": "code",
   "execution_count": 3,
   "id": "79660710-d7b9-4475-9253-6bcb580fcad1",
   "metadata": {},
   "outputs": [
    {
     "name": "stderr",
     "output_type": "stream",
     "text": [
      "\n",
      "Attaching package: ‘dplyr’\n",
      "\n",
      "\n",
      "The following objects are masked from ‘package:stats’:\n",
      "\n",
      "    filter, lag\n",
      "\n",
      "\n",
      "The following objects are masked from ‘package:base’:\n",
      "\n",
      "    intersect, setdiff, setequal, union\n",
      "\n",
      "\n",
      "── \u001b[1mAttaching core tidyverse packages\u001b[22m ──────────────────────── tidyverse 2.0.0 ──\n",
      "\u001b[32m✔\u001b[39m \u001b[34mforcats  \u001b[39m 1.0.0     \u001b[32m✔\u001b[39m \u001b[34mstringr  \u001b[39m 1.5.1\n",
      "\u001b[32m✔\u001b[39m \u001b[34mlubridate\u001b[39m 1.9.3     \u001b[32m✔\u001b[39m \u001b[34mtibble   \u001b[39m 3.2.1\n",
      "\u001b[32m✔\u001b[39m \u001b[34mpurrr    \u001b[39m 1.0.2     \u001b[32m✔\u001b[39m \u001b[34mtidyr    \u001b[39m 1.3.1\n",
      "\u001b[32m✔\u001b[39m \u001b[34mreadr    \u001b[39m 2.1.4     \n",
      "── \u001b[1mConflicts\u001b[22m ────────────────────────────────────────── tidyverse_conflicts() ──\n",
      "\u001b[31m✖\u001b[39m \u001b[34mdplyr\u001b[39m::\u001b[32mfilter()\u001b[39m masks \u001b[34mstats\u001b[39m::filter()\n",
      "\u001b[31m✖\u001b[39m \u001b[34mdplyr\u001b[39m::\u001b[32mlag()\u001b[39m    masks \u001b[34mstats\u001b[39m::lag()\n",
      "\u001b[36mℹ\u001b[39m Use the conflicted package (\u001b[3m\u001b[34m<http://conflicted.r-lib.org/>\u001b[39m\u001b[23m) to force all conflicts to become errors\n",
      "\n",
      "Attaching package: ‘rstatix’\n",
      "\n",
      "\n",
      "The following object is masked from ‘package:stats’:\n",
      "\n",
      "    filter\n",
      "\n",
      "\n"
     ]
    }
   ],
   "source": [
    "library(hise)\n",
    "library(dplyr)\n",
    "library(ggplot2)\n",
    "library(stats)\n",
    "library(tidyverse)\n",
    "library(readxl)\n",
    "library(rstatix)"
   ]
  },
  {
   "cell_type": "code",
   "execution_count": 4,
   "id": "698c5345-5954-40c5-a93d-38590e1acf9c",
   "metadata": {},
   "outputs": [],
   "source": [
    "df <-read.csv('HAI_Y2020-2021.csv')"
   ]
  },
  {
   "cell_type": "code",
   "execution_count": 5,
   "id": "3c102ff0-9557-4a72-913f-e54de1e8c7fd",
   "metadata": {},
   "outputs": [],
   "source": [
    "df<-df %>% filter(Assay=='B/Phuket')"
   ]
  },
  {
   "cell_type": "code",
   "execution_count": 12,
   "id": "a0ce6a49-1ede-41bb-bb63-cfb8361d2575",
   "metadata": {},
   "outputs": [],
   "source": [
    "fold_change_df <- df %>%\n",
    "  select(subject.subjectGuid, sample.visitName, Mean_Perc_Inhib, cohort.cohortGuid) %>%\n",
    "  spread(key = sample.visitName, value = Mean_Perc_Inhib) %>%\n",
    "  rename(Day0 = `Flu Year 1 Day 0`, Day7 = `Flu Year 1 Day 7`) %>%\n",
    "  mutate(fold_change = Day7 - Day0) %>%\n",
    "  select(subject.subjectGuid, fold_change, cohort.cohortGuid)"
   ]
  },
  {
   "cell_type": "code",
   "execution_count": 14,
   "id": "b3e7886e-1235-4554-b62d-e7d292b58495",
   "metadata": {},
   "outputs": [],
   "source": [
    "write.csv(fold_change_df,\"FC_phuket.csv\")"
   ]
  },
  {
   "cell_type": "code",
   "execution_count": 18,
   "id": "2f7d6347-8bb3-4afe-919f-069a3d1cfba1",
   "metadata": {},
   "outputs": [
    {
     "data": {
      "text/html": [
       "<table class=\"dataframe\">\n",
       "<caption>A rstatix_test: 1 × 7</caption>\n",
       "<thead>\n",
       "\t<tr><th></th><th scope=col>.y.</th><th scope=col>group1</th><th scope=col>group2</th><th scope=col>n1</th><th scope=col>n2</th><th scope=col>statistic</th><th scope=col>p</th></tr>\n",
       "\t<tr><th></th><th scope=col>&lt;chr&gt;</th><th scope=col>&lt;chr&gt;</th><th scope=col>&lt;chr&gt;</th><th scope=col>&lt;int&gt;</th><th scope=col>&lt;int&gt;</th><th scope=col>&lt;dbl&gt;</th><th scope=col>&lt;dbl&gt;</th></tr>\n",
       "</thead>\n",
       "<tbody>\n",
       "\t<tr><th scope=row>W</th><td>fold_change</td><td>BR1</td><td>BR2</td><td>21</td><td>22</td><td>334</td><td>0.0117</td></tr>\n",
       "</tbody>\n",
       "</table>\n"
      ],
      "text/latex": [
       "A rstatix\\_test: 1 × 7\n",
       "\\begin{tabular}{r|lllllll}\n",
       "  & .y. & group1 & group2 & n1 & n2 & statistic & p\\\\\n",
       "  & <chr> & <chr> & <chr> & <int> & <int> & <dbl> & <dbl>\\\\\n",
       "\\hline\n",
       "\tW & fold\\_change & BR1 & BR2 & 21 & 22 & 334 & 0.0117\\\\\n",
       "\\end{tabular}\n"
      ],
      "text/markdown": [
       "\n",
       "A rstatix_test: 1 × 7\n",
       "\n",
       "| <!--/--> | .y. &lt;chr&gt; | group1 &lt;chr&gt; | group2 &lt;chr&gt; | n1 &lt;int&gt; | n2 &lt;int&gt; | statistic &lt;dbl&gt; | p &lt;dbl&gt; |\n",
       "|---|---|---|---|---|---|---|---|\n",
       "| W | fold_change | BR1 | BR2 | 21 | 22 | 334 | 0.0117 |\n",
       "\n"
      ],
      "text/plain": [
       "  .y.         group1 group2 n1 n2 statistic p     \n",
       "W fold_change BR1    BR2    21 22 334       0.0117"
      ]
     },
     "metadata": {},
     "output_type": "display_data"
    }
   ],
   "source": [
    "fold_change_df %>% wilcox_test(fold_change~cohort.cohortGuid)"
   ]
  },
  {
   "cell_type": "code",
   "execution_count": null,
   "id": "c57bf9a9-ed8d-43b4-acc5-c833d3d39aa5",
   "metadata": {},
   "outputs": [],
   "source": []
  }
 ],
 "metadata": {
  "kernelspec": {
   "display_name": "R 4",
   "language": "R",
   "name": "ir4"
  },
  "language_info": {
   "codemirror_mode": "r",
   "file_extension": ".r",
   "mimetype": "text/x-r-source",
   "name": "R",
   "pygments_lexer": "r",
   "version": "4.3.2"
  }
 },
 "nbformat": 4,
 "nbformat_minor": 5
}
