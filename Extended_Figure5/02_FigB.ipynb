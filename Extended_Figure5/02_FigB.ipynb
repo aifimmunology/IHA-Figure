{
 "cells": [
  {
   "cell_type": "code",
   "execution_count": 20,
   "id": "63ee9f9d-7e6b-4313-bccb-900fa4057506",
   "metadata": {},
   "outputs": [],
   "source": [
    "library(dplyr)\n",
    "library(tidyr)\n",
    "library(tibble)\n",
    "library(ggplot2)\n",
    "library(stringr)\n",
    "library(ggrepel)\n",
    "library(ggh4x)\n",
    "library(grid)\n",
    "library(\"cowplot\")\n",
    "library(patchwork)\n",
    "is_dark_color <- function(hex) {\n",
    "  rgb <- col2rgb(hex)\n",
    "  \n",
    "  luminance <- 0.299 * rgb[1,] + 0.587 * rgb[2,] + 0.114 * rgb[3,]\n",
    "  if(luminance < 128){\n",
    "  return('white')\n",
    "  }else{return('black')}\n",
    "}"
   ]
  },
  {
   "cell_type": "code",
   "execution_count": 21,
   "id": "3b211600-2c78-4dba-b2f8-c69ba02b8945",
   "metadata": {},
   "outputs": [],
   "source": [
    "color_annotation<-read.csv('../Color_hex_codes/Cell_Type_Color_Annotation_and_Order.csv')\n",
    "color_vector <- setNames(color_annotation$color, color_annotation$label)"
   ]
  },
  {
   "cell_type": "code",
   "execution_count": 22,
   "id": "4b7fcb94-30c9-4805-b678-57456b305f40",
   "metadata": {},
   "outputs": [],
   "source": [
    "df<-read.csv('/home//jupyter/BRI_Figures_Final_V2/Figure4/02_Freq_Changes_Y1D0/Freq_OverTime_CMVpos_Supp.csv')"
   ]
  },
  {
   "cell_type": "code",
   "execution_count": 23,
   "id": "2c9bfc91-9834-46ab-94f8-a13923515f06",
   "metadata": {},
   "outputs": [],
   "source": [
    "df <- df %>% dplyr::mutate(`Age Group` = case_when(\n",
    "  cohort.cohortGuid == \"BR1\" ~ \"Young\",\n",
    "  cohort.cohortGuid == \"BR2\" ~ \"Older\",\n",
    "  TRUE ~ NA_character_\n",
    "))\n",
    "df$`Age Group`<-factor(df$`Age Group`,levels=c(\"Young\",\"Older\"))"
   ]
  },
  {
   "cell_type": "code",
   "execution_count": 24,
   "id": "5dd058f5-7715-49d5-831e-0027bcdc80ec",
   "metadata": {},
   "outputs": [],
   "source": [
    "options(repr.plot.width = 50/25.4, repr.plot.height = 70/25.4)\n",
    "\n",
    "p <- ggplot(df, \n",
    "            aes(sample.daysSinceFirstVisit, AIFI_L3_clr,color=`Age Group`)) +\n",
    "    geom_point(size = 0.75,  stroke = 0) +\n",
    "    geom_smooth(method=\"lm\",se=FALSE, linewidth=0.2) + \n",
    "scale_color_manual(values = c(\"Older\"='#bf812d',  \"Young\"='#35978f'))+\n",
    "    theme_bw(base_size = 6) +\n",
    "    theme(axis.line = element_line(colour = \"black\", linewidth = 0.1),\n",
    "          legend.position = \"top\",\n",
    "          legend.title = element_blank(),\n",
    "          panel.grid.major = element_blank(),\n",
    "          panel.grid.minor = element_blank(),\n",
    "          panel.border = element_blank(),\n",
    "          panel.background = element_blank(),\n",
    "          strip.background = element_rect(linewidth = 0),\n",
    "          axis.title.x = element_text(margin = margin(t = 2))) +\n",
    "    facet_wrap2(~AIFI_L3, axes = \"all\", remove_labels = \"all\", ncol=1, scale='free_y')  + theme(\n",
    "    panel.spacing = unit(-0.4,'lines')\n",
    "  )\n"
   ]
  },
  {
   "cell_type": "code",
   "execution_count": 34,
   "id": "6baa72a5-9ee0-4b0a-9047-b04aff200035",
   "metadata": {},
   "outputs": [],
   "source": [
    "celltype_order<-c(\"KLRF1+ effector Vd1 gdT\",\n",
    "                    'GZMK+ CD27+ EM CD8 T cell')"
   ]
  },
  {
   "cell_type": "code",
   "execution_count": 35,
   "id": "9c0544eb-ebd3-4572-86f0-6746eee6549e",
   "metadata": {},
   "outputs": [
    {
     "ename": "ERROR",
     "evalue": "\u001b[1m\u001b[33mError\u001b[39m in `combine_vars()`:\u001b[22m\n\u001b[1m\u001b[22m\u001b[33m!\u001b[39m Faceting variables must have at least one value.\n",
     "output_type": "error",
     "traceback": [
      "\u001b[1m\u001b[33mError\u001b[39m in `combine_vars()`:\u001b[22m\n\u001b[1m\u001b[22m\u001b[33m!\u001b[39m Faceting variables must have at least one value.\nTraceback:\n",
      "1. plot_grid(p1, p2, ncol = 2, rel_widths = c(10, 0.4), align = \"h\", \n .     axis = \"tb\")",
      "2. align_plots(plotlist = plots, align = align, axis = axis, greedy = greedy)",
      "3. lapply(plots, function(x) {\n .     if (!is.null(x)) \n .         as_gtable(x)\n .     else NULL\n . })",
      "4. FUN(X[[i]], ...)",
      "5. as_gtable(x)",
      "6. as_gtable.default(x)",
      "7. as_grob(plot)",
      "8. as_grob.ggplot(plot)",
      "9. ggplot2::ggplotGrob(plot)",
      "10. ggplot_gtable(ggplot_build(x))",
      "11. attach_plot_env(data$plot$plot_env)",
      "12. options(ggplot2_plot_env = env)",
      "13. ggplot_build(x)",
      "14. ggplot_build.ggplot(x)",
      "15. layout$setup(data, plot$data, plot$plot_env)",
      "16. setup(..., self = self)",
      "17. self$facet$compute_layout(data, self$facet_params)",
      "18. compute_layout(..., self = self)",
      "19. combine_vars(data, params$plot_env, vars, drop = params$drop)",
      "20. cli::cli_abort(\"Faceting variables must have at least one value.\")",
      "21. rlang::abort(message, ..., call = call, use_cli_format = TRUE, \n  .     .frame = .frame)",
      "22. signal_abort(cnd, .file)"
     ]
    }
   ],
   "source": [
    "plot_list<-list()\n",
    "for (selected_celltype in celltype_order){\n",
    "df_sub <- df %>% filter(AIFI_L3 == selected_celltype)\n",
    "\n",
    "p1 <- ggplot(df_sub, aes(sample.daysSinceFirstVisit, AIFI_L3_clr, color = `Age Group`)) +\n",
    "geom_line(aes(group = interaction(`Age Group`, subject.subjectGuid)), \n",
    "              linewidth=0.1, \n",
    "              alpha=0.4,\n",
    "              linetype =1)+\n",
    "  ylab('') +\n",
    "  theme_bw(base_size = 6) +\n",
    "  theme(\n",
    "    axis.line = element_line(colour = \"black\"),\n",
    "    panel.grid.major = element_blank(),\n",
    "    panel.grid.minor = element_blank(),\n",
    "    panel.border = element_blank(),\n",
    "    panel.background = element_blank()\n",
    "  ) + \n",
    "  scale_color_manual(values = c(\"Older\" = '#bf812d', \"Young\" = '#35978f')) +\n",
    "  geom_smooth(method = \"lm\", se = TRUE, linewidth = 0.3) +\n",
    "  facet_wrap2(~AIFI_L3, axes = \"all\", remove_labels = \"all\", ncol = 1, scale = 'free_y') +\n",
    "  theme(\n",
    "    panel.grid.major = element_blank(),\n",
    "    panel.grid.minor = element_blank(),\n",
    "    strip.background = element_rect(fill = adjustcolor(color_vector[selected_celltype], alpha.f = 0.8), color = NA),\n",
    "    strip.text = element_text(color = is_dark_color(adjustcolor(color_vector[selected_celltype], alpha.f = 0.8)))\n",
    "  ) +\n",
    "  xlab('') +\n",
    "  theme(legend.position = \"none\")\n",
    "\n",
    "p2 <- ggplot(df_sub, aes(AIFI_L3_clr, fill = `Age Group`, color = `Age Group`)) +\n",
    "  geom_density(alpha = 0.5, linewidth = 0.5) +\n",
    "  scale_fill_manual(values = c(\"Older\" = '#bf812d', \"Young\" = '#35978f')) +\n",
    "  scale_color_manual(values = c(\"Older\" = '#bf812d', \"Young\" = '#35978f')) +\n",
    "  coord_flip() +\n",
    "  theme_void(base_size = 6) +\n",
    "  theme(legend.position = \"none\") +\n",
    "  theme(plot.margin = margin(0, 0, 0, -1, \"mm\"))\n",
    "\n",
    "combined_plot <- plot_grid(p1, p2, ncol = 2, rel_widths = c(10, 0.4), align = 'h', axis = 'tb')\n",
    "plot_list[[selected_celltype]]<-combined_plot\n",
    "}\n"
   ]
  },
  {
   "cell_type": "code",
   "execution_count": 36,
   "id": "33d6b23d-3398-4cfc-bf21-c3d06d92ae1e",
   "metadata": {},
   "outputs": [
    {
     "ename": "ERROR",
     "evalue": "Error in plot_list[[1]]: subscript out of bounds\n",
     "output_type": "error",
     "traceback": [
      "Error in plot_list[[1]]: subscript out of bounds\nTraceback:\n"
     ]
    }
   ],
   "source": [
    "options(repr.plot.width = 120/25.4, repr.plot.height = 25/25.4)\n",
    "\n",
    "p<-plot_grid(plot_list[[1]],plot_list[[2]], \n",
    "             ncol = 2, rel_widths = c(10, 10), \n",
    "             align = 'h', axis = 'tb')\n",
    "p\n",
    "ggsave('FigureB.pdf',p,width = 120/25.4,height = 25/25.4)"
   ]
  },
  {
   "cell_type": "code",
   "execution_count": null,
   "id": "c32159b7-b641-4a28-95a6-be1ef6a7b383",
   "metadata": {},
   "outputs": [],
   "source": []
  },
  {
   "cell_type": "code",
   "execution_count": null,
   "id": "3f2278cb-c658-4e98-94c5-5356d574fd2f",
   "metadata": {},
   "outputs": [],
   "source": []
  }
 ],
 "metadata": {
  "kernelspec": {
   "display_name": "R 4",
   "language": "R",
   "name": "ir4"
  },
  "language_info": {
   "codemirror_mode": "r",
   "file_extension": ".r",
   "mimetype": "text/x-r-source",
   "name": "R",
   "pygments_lexer": "r",
   "version": "4.3.2"
  }
 },
 "nbformat": 4,
 "nbformat_minor": 5
}
