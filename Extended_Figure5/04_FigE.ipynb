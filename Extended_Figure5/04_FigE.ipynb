{
 "cells": [
  {
   "cell_type": "code",
   "execution_count": 34,
   "id": "20321e89-6bd3-495e-8d46-c7c97d42bc7e",
   "metadata": {},
   "outputs": [],
   "source": [
    "library(ggplot2)\n",
    "library(dplyr)\n"
   ]
  },
  {
   "cell_type": "code",
   "execution_count": 35,
   "id": "51a7be3a-2b99-4cf0-bccf-4d6a033d9685",
   "metadata": {},
   "outputs": [],
   "source": [
    "df<-read.csv(\"../Figure4/04_Durability_Grouping_HAI_MSD/lm_res.csv\")"
   ]
  },
  {
   "cell_type": "code",
   "execution_count": 36,
   "id": "73f03105-f8a4-4de8-b0ee-7854fd25c503",
   "metadata": {},
   "outputs": [
    {
     "data": {
      "text/html": [
       "<style>\n",
       ".list-inline {list-style: none; margin:0; padding: 0}\n",
       ".list-inline>li {display: inline-block}\n",
       ".list-inline>li:not(:last-child)::after {content: \"\\00b7\"; padding: 0 .5ex}\n",
       "</style>\n",
       "<ol class=list-inline><li>'A/Guangdong'</li><li>'Flu B/Phuket HA'</li><li>'Flu B/Washington HA'</li><li>'A/Cambodia'</li></ol>\n"
      ],
      "text/latex": [
       "\\begin{enumerate*}\n",
       "\\item 'A/Guangdong'\n",
       "\\item 'Flu B/Phuket HA'\n",
       "\\item 'Flu B/Washington HA'\n",
       "\\item 'A/Cambodia'\n",
       "\\end{enumerate*}\n"
      ],
      "text/markdown": [
       "1. 'A/Guangdong'\n",
       "2. 'Flu B/Phuket HA'\n",
       "3. 'Flu B/Washington HA'\n",
       "4. 'A/Cambodia'\n",
       "\n",
       "\n"
      ],
      "text/plain": [
       "[1] \"A/Guangdong\"         \"Flu B/Phuket HA\"     \"Flu B/Washington HA\"\n",
       "[4] \"A/Cambodia\"         "
      ]
     },
     "metadata": {},
     "output_type": "display_data"
    }
   ],
   "source": [
    "unique(df$Assay)"
   ]
  },
  {
   "cell_type": "code",
   "execution_count": 37,
   "id": "ac2cbe00-cb80-4181-85f0-6cfa2417728c",
   "metadata": {},
   "outputs": [],
   "source": [
    "df_subset<-df %>% filter(Assay==\"Flu B/Phuket HA\")"
   ]
  },
  {
   "cell_type": "code",
   "execution_count": 38,
   "id": "44f10190-e61d-4336-91b4-8a7f5fbdcd4c",
   "metadata": {},
   "outputs": [],
   "source": [
    "\n",
    "df_table <- as.data.frame(table(df_subset$cohort.cohortGuid, df_subset$responder, df_subset$Assay, df_subset$Flu_Year))\n",
    "colnames(df_table) <- c(\"Cohort\", \"Responder\", \"Assay\", \"Flu_Year\", \"Count\")\n",
    "\n",
    "df_table <- df_table %>%\n",
    "    group_by(Assay, Flu_Year) %>%\n",
    "    filter(sum(Count) > 0) %>%\n",
    "    ungroup() %>%\n",
    "\n",
    "    group_by(Cohort,Flu_Year, Assay) %>%\n",
    "\n",
    "    mutate(Percentage = Count / sum(Count) * 100) %>%\n",
    "    ungroup()\n",
    "\n",
    "df_table$Responder <- factor(df_table$Responder, levels = c(\"low responder\", \"middle responder\", \"high responder\"))\n"
   ]
  },
  {
   "cell_type": "code",
   "execution_count": 39,
   "id": "cdbd2564-a725-4b8a-93f8-5a348f7aa475",
   "metadata": {},
   "outputs": [],
   "source": [
    "df_table <-df_table %>% mutate(Responder=case_when(Responder==\"low responder\"~\"Lower\\nSustainer\",\n",
    "                                                   Responder==\"high responder\"~\"Higher\\nSustainer\",\n",
    "                                                   TRUE~\"Middle\\nSustainer\"))\n",
    "df_table$Responder <- factor(df_table$Responder, levels = c(\"Lower\\nSustainer\",\"Middle\\nSustainer\", \"Higher\\nSustainer\"))\n"
   ]
  },
  {
   "cell_type": "code",
   "execution_count": 40,
   "id": "fa7d4b5f-37f6-4caf-afe4-150a048c8d03",
   "metadata": {},
   "outputs": [
    {
     "data": {
      "text/html": [
       "<table class=\"dataframe\">\n",
       "<caption>A tibble: 12 × 6</caption>\n",
       "<thead>\n",
       "\t<tr><th scope=col>Cohort</th><th scope=col>Responder</th><th scope=col>Assay</th><th scope=col>Flu_Year</th><th scope=col>Count</th><th scope=col>Percentage</th></tr>\n",
       "\t<tr><th scope=col>&lt;fct&gt;</th><th scope=col>&lt;fct&gt;</th><th scope=col>&lt;fct&gt;</th><th scope=col>&lt;fct&gt;</th><th scope=col>&lt;int&gt;</th><th scope=col>&lt;dbl&gt;</th></tr>\n",
       "</thead>\n",
       "<tbody>\n",
       "\t<tr><td>BR1</td><td>Higher\n",
       "Sustainer</td><td>Flu B/Phuket HA</td><td>2020-2021</td><td>10</td><td>23.25581</td></tr>\n",
       "\t<tr><td>BR2</td><td>Higher\n",
       "Sustainer</td><td>Flu B/Phuket HA</td><td>2020-2021</td><td>12</td><td>26.66667</td></tr>\n",
       "\t<tr><td>BR1</td><td>Lower\n",
       "Sustainer </td><td>Flu B/Phuket HA</td><td>2020-2021</td><td>11</td><td>25.58140</td></tr>\n",
       "\t<tr><td>BR2</td><td>Lower\n",
       "Sustainer </td><td>Flu B/Phuket HA</td><td>2020-2021</td><td>11</td><td>24.44444</td></tr>\n",
       "\t<tr><td>BR1</td><td>Middle\n",
       "Sustainer</td><td>Flu B/Phuket HA</td><td>2020-2021</td><td>22</td><td>51.16279</td></tr>\n",
       "\t<tr><td>BR2</td><td>Middle\n",
       "Sustainer</td><td>Flu B/Phuket HA</td><td>2020-2021</td><td>22</td><td>48.88889</td></tr>\n",
       "\t<tr><td>BR1</td><td>Higher\n",
       "Sustainer</td><td>Flu B/Phuket HA</td><td>2021-2022</td><td> 7</td><td>29.16667</td></tr>\n",
       "\t<tr><td>BR2</td><td>Higher\n",
       "Sustainer</td><td>Flu B/Phuket HA</td><td>2021-2022</td><td>10</td><td>23.80952</td></tr>\n",
       "\t<tr><td>BR1</td><td>Lower\n",
       "Sustainer </td><td>Flu B/Phuket HA</td><td>2021-2022</td><td> 7</td><td>29.16667</td></tr>\n",
       "\t<tr><td>BR2</td><td>Lower\n",
       "Sustainer </td><td>Flu B/Phuket HA</td><td>2021-2022</td><td>10</td><td>23.80952</td></tr>\n",
       "\t<tr><td>BR1</td><td>Middle\n",
       "Sustainer</td><td>Flu B/Phuket HA</td><td>2021-2022</td><td>10</td><td>41.66667</td></tr>\n",
       "\t<tr><td>BR2</td><td>Middle\n",
       "Sustainer</td><td>Flu B/Phuket HA</td><td>2021-2022</td><td>22</td><td>52.38095</td></tr>\n",
       "</tbody>\n",
       "</table>\n"
      ],
      "text/latex": [
       "A tibble: 12 × 6\n",
       "\\begin{tabular}{llllll}\n",
       " Cohort & Responder & Assay & Flu\\_Year & Count & Percentage\\\\\n",
       " <fct> & <fct> & <fct> & <fct> & <int> & <dbl>\\\\\n",
       "\\hline\n",
       "\t BR1 & Higher\n",
       "Sustainer & Flu B/Phuket HA & 2020-2021 & 10 & 23.25581\\\\\n",
       "\t BR2 & Higher\n",
       "Sustainer & Flu B/Phuket HA & 2020-2021 & 12 & 26.66667\\\\\n",
       "\t BR1 & Lower\n",
       "Sustainer  & Flu B/Phuket HA & 2020-2021 & 11 & 25.58140\\\\\n",
       "\t BR2 & Lower\n",
       "Sustainer  & Flu B/Phuket HA & 2020-2021 & 11 & 24.44444\\\\\n",
       "\t BR1 & Middle\n",
       "Sustainer & Flu B/Phuket HA & 2020-2021 & 22 & 51.16279\\\\\n",
       "\t BR2 & Middle\n",
       "Sustainer & Flu B/Phuket HA & 2020-2021 & 22 & 48.88889\\\\\n",
       "\t BR1 & Higher\n",
       "Sustainer & Flu B/Phuket HA & 2021-2022 &  7 & 29.16667\\\\\n",
       "\t BR2 & Higher\n",
       "Sustainer & Flu B/Phuket HA & 2021-2022 & 10 & 23.80952\\\\\n",
       "\t BR1 & Lower\n",
       "Sustainer  & Flu B/Phuket HA & 2021-2022 &  7 & 29.16667\\\\\n",
       "\t BR2 & Lower\n",
       "Sustainer  & Flu B/Phuket HA & 2021-2022 & 10 & 23.80952\\\\\n",
       "\t BR1 & Middle\n",
       "Sustainer & Flu B/Phuket HA & 2021-2022 & 10 & 41.66667\\\\\n",
       "\t BR2 & Middle\n",
       "Sustainer & Flu B/Phuket HA & 2021-2022 & 22 & 52.38095\\\\\n",
       "\\end{tabular}\n"
      ],
      "text/markdown": [
       "\n",
       "A tibble: 12 × 6\n",
       "\n",
       "| Cohort &lt;fct&gt; | Responder &lt;fct&gt; | Assay &lt;fct&gt; | Flu_Year &lt;fct&gt; | Count &lt;int&gt; | Percentage &lt;dbl&gt; |\n",
       "|---|---|---|---|---|---|\n",
       "| BR1 | Higher\n",
       "Sustainer | Flu B/Phuket HA | 2020-2021 | 10 | 23.25581 |\n",
       "| BR2 | Higher\n",
       "Sustainer | Flu B/Phuket HA | 2020-2021 | 12 | 26.66667 |\n",
       "| BR1 | Lower\n",
       "Sustainer  | Flu B/Phuket HA | 2020-2021 | 11 | 25.58140 |\n",
       "| BR2 | Lower\n",
       "Sustainer  | Flu B/Phuket HA | 2020-2021 | 11 | 24.44444 |\n",
       "| BR1 | Middle\n",
       "Sustainer | Flu B/Phuket HA | 2020-2021 | 22 | 51.16279 |\n",
       "| BR2 | Middle\n",
       "Sustainer | Flu B/Phuket HA | 2020-2021 | 22 | 48.88889 |\n",
       "| BR1 | Higher\n",
       "Sustainer | Flu B/Phuket HA | 2021-2022 |  7 | 29.16667 |\n",
       "| BR2 | Higher\n",
       "Sustainer | Flu B/Phuket HA | 2021-2022 | 10 | 23.80952 |\n",
       "| BR1 | Lower\n",
       "Sustainer  | Flu B/Phuket HA | 2021-2022 |  7 | 29.16667 |\n",
       "| BR2 | Lower\n",
       "Sustainer  | Flu B/Phuket HA | 2021-2022 | 10 | 23.80952 |\n",
       "| BR1 | Middle\n",
       "Sustainer | Flu B/Phuket HA | 2021-2022 | 10 | 41.66667 |\n",
       "| BR2 | Middle\n",
       "Sustainer | Flu B/Phuket HA | 2021-2022 | 22 | 52.38095 |\n",
       "\n"
      ],
      "text/plain": [
       "   Cohort Responder         Assay           Flu_Year  Count Percentage\n",
       "1  BR1    Higher\\nSustainer Flu B/Phuket HA 2020-2021 10    23.25581  \n",
       "2  BR2    Higher\\nSustainer Flu B/Phuket HA 2020-2021 12    26.66667  \n",
       "3  BR1    Lower\\nSustainer  Flu B/Phuket HA 2020-2021 11    25.58140  \n",
       "4  BR2    Lower\\nSustainer  Flu B/Phuket HA 2020-2021 11    24.44444  \n",
       "5  BR1    Middle\\nSustainer Flu B/Phuket HA 2020-2021 22    51.16279  \n",
       "6  BR2    Middle\\nSustainer Flu B/Phuket HA 2020-2021 22    48.88889  \n",
       "7  BR1    Higher\\nSustainer Flu B/Phuket HA 2021-2022  7    29.16667  \n",
       "8  BR2    Higher\\nSustainer Flu B/Phuket HA 2021-2022 10    23.80952  \n",
       "9  BR1    Lower\\nSustainer  Flu B/Phuket HA 2021-2022  7    29.16667  \n",
       "10 BR2    Lower\\nSustainer  Flu B/Phuket HA 2021-2022 10    23.80952  \n",
       "11 BR1    Middle\\nSustainer Flu B/Phuket HA 2021-2022 10    41.66667  \n",
       "12 BR2    Middle\\nSustainer Flu B/Phuket HA 2021-2022 22    52.38095  "
      ]
     },
     "metadata": {},
     "output_type": "display_data"
    }
   ],
   "source": [
    "df_table"
   ]
  },
  {
   "cell_type": "code",
   "execution_count": 41,
   "id": "9d941510-b9bf-45cb-86f3-097bdce46357",
   "metadata": {},
   "outputs": [],
   "source": [
    "df_table<-df_table%>% mutate(Cohort=case_when(Cohort==\"BR1\"~\"Young\",TRUE~\"Older\"))"
   ]
  },
  {
   "cell_type": "code",
   "execution_count": 42,
   "id": "3b6db289-e7ad-4413-ba26-43e07751daee",
   "metadata": {},
   "outputs": [],
   "source": [
    "df_table$Cohort <- factor(df_table$Cohort, levels = c(\"Young\",\"Older\"))\n"
   ]
  },
  {
   "cell_type": "code",
   "execution_count": 43,
   "id": "156104f1-72c4-4d52-8368-a7038c6abd4f",
   "metadata": {
    "scrolled": true
   },
   "outputs": [
    {
     "data": {
      "image/png": "[encoded data removed]",
      "text/plain": [
       "plot without title"
      ]
     },
     "metadata": {
      "image/png": {
       "height": 94.4882,
       "width": 165.3543
      }
     },
     "output_type": "display_data"
    }
   ],
   "source": [
    "df_table <- df_table %>%\n",
    "  mutate(TextColor = ifelse(Percentage > 40, \"white\", \"black\"))\n",
    "\n",
    "options(repr.plot.width = 70/25.4, repr.plot.height = 40/25.4)\n",
    "\n",
    "p <- ggplot(df_table, aes(x = Cohort, y = Responder, fill = Percentage)) +\n",
    "  geom_tile(color = \"white\") +\n",
    "  geom_text(aes(label = sprintf(\"%.1f%%\", Percentage), color = TextColor),\n",
    "            size = 2.1, show.legend = FALSE) +\n",
    "  facet_wrap(~Assay + Flu_Year) +\n",
    "  scale_fill_gradientn(colors = hcl.colors(50, \"Blues 2\", rev = TRUE)) +\n",
    "  scale_color_identity() +\n",
    "  theme_minimal(base_size = 6) +\n",
    "  labs(\n",
    "    title = \"Heatmap of Percentage Distribution\",\n",
    "    x = \"Cohort\", y = \"Responder\", fill = \"Percentage\"\n",
    "  )\n",
    "\n",
    "p\n",
    "ggsave('FigureC.pdf', p, width = 70/25.4, height = 40/25.4)"
   ]
  },
  {
   "cell_type": "code",
   "execution_count": null,
   "id": "740f07e3-aa73-4822-847b-6974e47b8158",
   "metadata": {},
   "outputs": [],
   "source": []
  },
  {
   "cell_type": "code",
   "execution_count": null,
   "id": "8876ea09-75b8-4440-ac4c-ad165d6f02f1",
   "metadata": {},
   "outputs": [],
   "source": []
  }
 ],
 "metadata": {
  "kernelspec": {
   "display_name": "R_BRI_Figures",
   "language": "R",
   "name": "r_bri_figures"
  },
  "language_info": {
   "codemirror_mode": "r",
   "file_extension": ".r",
   "mimetype": "text/x-r-source",
   "name": "R",
   "pygments_lexer": "r",
   "version": "4.3.2"
  }
 },
 "nbformat": 4,
 "nbformat_minor": 5
}
