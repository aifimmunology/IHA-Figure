{
 "cells": [
  {
   "cell_type": "code",
   "execution_count": 1,
   "id": "7fb859e5-6c26-4367-b875-02dae3a08feb",
   "metadata": {},
   "outputs": [
    {
     "name": "stderr",
     "output_type": "stream",
     "text": [
      "Warning message:\n",
      "“package ‘dplyr’ was built under R version 4.3.3”\n",
      "\n",
      "Attaching package: ‘dplyr’\n",
      "\n",
      "\n",
      "The following objects are masked from ‘package:stats’:\n",
      "\n",
      "    filter, lag\n",
      "\n",
      "\n",
      "The following objects are masked from ‘package:base’:\n",
      "\n",
      "    intersect, setdiff, setequal, union\n",
      "\n",
      "\n"
     ]
    }
   ],
   "source": [
    "library(ggplot2)\n",
    "library(dplyr)\n"
   ]
  },
  {
   "cell_type": "code",
   "execution_count": 2,
   "id": "a2460549-170d-42ce-b9cf-778ccf4060bd",
   "metadata": {},
   "outputs": [],
   "source": [
    "df<-read.csv(\"../Figure4//04_Durability_Grouping_HAI_MSD/lm_res.csv\")"
   ]
  },
  {
   "cell_type": "code",
   "execution_count": 3,
   "id": "bc420970-4b92-4a89-8b18-8eaef54cc87a",
   "metadata": {},
   "outputs": [
    {
     "data": {
      "text/html": [
       "<style>\n",
       ".list-inline {list-style: none; margin:0; padding: 0}\n",
       ".list-inline>li {display: inline-block}\n",
       ".list-inline>li:not(:last-child)::after {content: \"\\00b7\"; padding: 0 .5ex}\n",
       "</style>\n",
       "<ol class=list-inline><li>'A/Guangdong'</li><li>'Flu B/Phuket HA'</li><li>'Flu B/Washington HA'</li><li>'A/Cambodia'</li></ol>\n"
      ],
      "text/latex": [
       "\\begin{enumerate*}\n",
       "\\item 'A/Guangdong'\n",
       "\\item 'Flu B/Phuket HA'\n",
       "\\item 'Flu B/Washington HA'\n",
       "\\item 'A/Cambodia'\n",
       "\\end{enumerate*}\n"
      ],
      "text/markdown": [
       "1. 'A/Guangdong'\n",
       "2. 'Flu B/Phuket HA'\n",
       "3. 'Flu B/Washington HA'\n",
       "4. 'A/Cambodia'\n",
       "\n",
       "\n"
      ],
      "text/plain": [
       "[1] \"A/Guangdong\"         \"Flu B/Phuket HA\"     \"Flu B/Washington HA\"\n",
       "[4] \"A/Cambodia\"         "
      ]
     },
     "metadata": {},
     "output_type": "display_data"
    }
   ],
   "source": [
    "unique(df$Assay)"
   ]
  },
  {
   "cell_type": "code",
   "execution_count": 4,
   "id": "ca112737-d42c-4a01-87b6-2c1fe8f795a9",
   "metadata": {},
   "outputs": [],
   "source": [
    "df_subset<-df %>% filter(Assay==\"Flu B/Washington HA\")"
   ]
  },
  {
   "cell_type": "code",
   "execution_count": 5,
   "id": "a1eeb88e-6f1e-4f6b-b8d1-75342a3b3a90",
   "metadata": {},
   "outputs": [],
   "source": [
    "\n",
    "df_table <- as.data.frame(table(df_subset$cohort.cohortGuid, df_subset$responder, df_subset$Assay, df_subset$Flu_Year))\n",
    "colnames(df_table) <- c(\"Cohort\", \"Responder\", \"Assay\", \"Flu_Year\", \"Count\")\n",
    "\n",
    "df_table <- df_table %>%\n",
    "    group_by(Assay, Flu_Year) %>%\n",
    "    filter(sum(Count) > 0) %>%\n",
    "    ungroup() %>%\n",
    "\n",
    "    group_by(Cohort,Flu_Year, Assay) %>%\n",
    "\n",
    "    mutate(Percentage = Count / sum(Count) * 100) %>%\n",
    "    ungroup()\n",
    "\n",
    "df_table$Responder <- factor(df_table$Responder, levels = c(\"low responder\", \"middle responder\", \"high responder\"))\n"
   ]
  },
  {
   "cell_type": "code",
   "execution_count": 6,
   "id": "38c8a1b0-35ce-4fac-91c2-183233f276aa",
   "metadata": {},
   "outputs": [],
   "source": [
    "df_table <-df_table %>% mutate(Responder=case_when(Responder==\"low responder\"~\"Lower\\nResponder\",\n",
    "                                                   Responder==\"high responder\"~\"Higher\\nResponder\",\n",
    "                                                   TRUE~\"Middle\\nResponder\"))\n",
    "df_table$Responder <- factor(df_table$Responder, levels = c(\"Lower\\nResponder\",\"Middle\\nResponder\", \"Higher\\nResponder\"))\n"
   ]
  },
  {
   "cell_type": "code",
   "execution_count": 7,
   "id": "6611d947-f07a-4187-adb0-90d19284be8f",
   "metadata": {},
   "outputs": [],
   "source": [
    "df_table<-df_table%>% mutate(Cohort=case_when(Cohort==\"BR1\"~\"Young\",TRUE~\"Older\"))"
   ]
  },
  {
   "cell_type": "code",
   "execution_count": 8,
   "id": "053745e4-54e2-4371-a9be-9252a3d1ed7d",
   "metadata": {},
   "outputs": [],
   "source": [
    "df_table$Cohort <- factor(df_table$Cohort, levels = c(\"Young\",\"Older\"))\n"
   ]
  },
  {
   "cell_type": "code",
   "execution_count": 9,
   "id": "c1da1dbc-a1c4-49da-8695-0bfefe6daf31",
   "metadata": {},
   "outputs": [
    {
     "data": {
      "image/png": "[encoded data removed]",
      "text/plain": [
       "plot without title"
      ]
     },
     "metadata": {
      "image/png": {
       "height": 94.4882,
       "width": 165.3543
      }
     },
     "output_type": "display_data"
    }
   ],
   "source": [
    "df_table <- df_table %>%\n",
    "  mutate(TextColor = ifelse(Percentage > 40, \"white\", \"black\"))\n",
    "\n",
    "options(repr.plot.width = 70/25.4, repr.plot.height = 40/25.4)\n",
    "\n",
    "p <- ggplot(df_table, aes(x = Cohort, y = Responder, fill = Percentage)) +\n",
    "  geom_tile(color = \"white\") +\n",
    "  geom_text(aes(label = sprintf(\"%.1f%%\", Percentage), color = TextColor),\n",
    "            size = 2.1, show.legend = FALSE) +\n",
    "  facet_wrap(~Assay + Flu_Year) +\n",
    "  scale_fill_gradientn(colors = hcl.colors(50, \"Blues 2\", rev = TRUE)) +\n",
    "  scale_color_identity() +\n",
    "  theme_minimal(base_size = 6) +\n",
    "  labs(\n",
    "    title = \"Heatmap of Percentage Distribution\",\n",
    "    x = \"Cohort\", y = \"Responder\", fill = \"Percentage\"\n",
    "  )\n",
    "\n",
    "p\n",
    "ggsave('FigureG.pdf', p, width = 70/25.4, height = 40/25.4)"
   ]
  },
  {
   "cell_type": "code",
   "execution_count": null,
   "id": "5fcb162a-0097-4706-83c5-75a487ad8133",
   "metadata": {},
   "outputs": [],
   "source": []
  }
 ],
 "metadata": {
  "kernelspec": {
   "display_name": "R_BRI_Figures",
   "language": "R",
   "name": "r_bri_figures"
  },
  "language_info": {
   "codemirror_mode": "r",
   "file_extension": ".r",
   "mimetype": "text/x-r-source",
   "name": "R",
   "pygments_lexer": "r",
   "version": "4.3.2"
  }
 },
 "nbformat": 4,
 "nbformat_minor": 5
}
