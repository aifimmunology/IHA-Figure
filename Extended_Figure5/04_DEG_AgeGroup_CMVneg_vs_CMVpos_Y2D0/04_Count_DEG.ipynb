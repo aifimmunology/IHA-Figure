{
 "cells": [
  {
   "cell_type": "code",
   "execution_count": 1,
   "id": "366015a2-e32d-4b21-abe9-265269ccd50e",
   "metadata": {},
   "outputs": [],
   "source": [
    "suppressPackageStartupMessages(library(dplyr))\n",
    "suppressPackageStartupMessages(library(tidyr))\n",
    "suppressPackageStartupMessages(library(tibble))\n",
    "suppressPackageStartupMessages(library(stringr))\n",
    "library(parallel)"
   ]
  },
  {
   "cell_type": "markdown",
   "id": "209556dc-b189-4999-84d3-78cc75d33bc6",
   "metadata": {},
   "source": [
    "# Y2D0"
   ]
  },
  {
   "cell_type": "code",
   "execution_count": 5,
   "id": "b6fadf90-214a-4b88-8737-9ae2bd20e8cc",
   "metadata": {},
   "outputs": [],
   "source": [
    "df_BR1 <- read.csv(\"Deseq2_Result_BR1_Y2D0_CMVpos_vs_CMVneg.csv\")\n",
    "df_BR2 <- read.csv(\"Deseq2_Result_BR2_Y2D0_CMVpos_vs_CMVneg.csv\")\n",
    "\n",
    "df_BR1_filtered <- df_BR1 %>% filter(abs(log2FoldChange) > 0.1, padj < 0.05)\n",
    "df_BR2_filtered <- df_BR2 %>% filter(abs(log2FoldChange) > 0.1, padj < 0.05)\n",
    "\n",
    "BR1_DEG_counts <- df_BR1_filtered %>% count(celltype)\n",
    "BR2_DEG_counts <- df_BR2_filtered %>% count(celltype)\n",
    "\n",
    "combined_counts <- full_join(BR1_DEG_counts, BR2_DEG_counts, by = \"celltype\", suffix = c(\"_BR1\", \"_BR2\"))\n",
    "\n",
    "common_DEGs <- inner_join(df_BR1_filtered, df_BR2_filtered, by = c(\"gene\", \"celltype\"))\n",
    "\n",
    "common_DEG_counts <- common_DEGs %>% count(celltype)\n",
    "\n",
    "combined_counts <- left_join(combined_counts, common_DEG_counts, by = \"celltype\")\n",
    "combined_counts <- combined_counts %>% rename(Common_DEGs = n)\n",
    "\n",
    "combined_counts[is.na(combined_counts)] <- 0"
   ]
  },
  {
   "cell_type": "code",
   "execution_count": 6,
   "id": "327b11e6-f03f-4abf-8058-d0f44d5466fa",
   "metadata": {},
   "outputs": [],
   "source": [
    "colnames(combined_counts)<-c(\"celltype\",'BR1_counts','BR2_counts','Common_counts')"
   ]
  },
  {
   "cell_type": "code",
   "execution_count": 7,
   "id": "11c3590c-2198-44e8-8a3b-379291775fb4",
   "metadata": {},
   "outputs": [],
   "source": [
    "write.csv(combined_counts,'DEG_Counts_Y2D0.csv')"
   ]
  },
  {
   "cell_type": "code",
   "execution_count": null,
   "id": "ee28437c-05c8-4698-97f3-d7a1ef978724",
   "metadata": {},
   "outputs": [],
   "source": []
  }
 ],
 "metadata": {
  "kernelspec": {
   "display_name": "R 4",
   "language": "R",
   "name": "ir4"
  },
  "language_info": {
   "codemirror_mode": "r",
   "file_extension": ".r",
   "mimetype": "text/x-r-source",
   "name": "R",
   "pygments_lexer": "r",
   "version": "4.3.2"
  }
 },
 "nbformat": 4,
 "nbformat_minor": 5
}
