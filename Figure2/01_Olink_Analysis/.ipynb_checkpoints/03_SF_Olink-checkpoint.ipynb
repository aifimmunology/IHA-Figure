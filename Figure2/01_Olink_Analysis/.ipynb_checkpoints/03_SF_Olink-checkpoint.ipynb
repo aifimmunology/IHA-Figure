{
 "cells": [
  {
   "cell_type": "code",
   "execution_count": 1,
   "id": "d24de5d0-8b8a-4649-935d-370e27a28801",
   "metadata": {},
   "outputs": [
    {
     "name": "stderr",
     "output_type": "stream",
     "text": [
      "Loading required package: viridisLite\n",
      "\n"
     ]
    }
   ],
   "source": [
    "\n",
    "suppressPackageStartupMessages(library(dplyr))\n",
    "suppressPackageStartupMessages(library(tidyr))\n",
    "suppressPackageStartupMessages(library(tibble))\n",
    "suppressPackageStartupMessages(library(ggplot2))\n",
    "suppressPackageStartupMessages(library(pheatmap))\n",
    "suppressPackageStartupMessages(library(plyr))\n",
    "library(pheatmap)\n",
    "library(RColorBrewer)\n",
    "library(viridis)"
   ]
  },
  {
   "cell_type": "code",
   "execution_count": 2,
   "id": "96594578-5fe6-4b66-bff1-20ab03630e90",
   "metadata": {},
   "outputs": [],
   "source": [
    "Olink<-read.csv(\"/home//jupyter/BRI_Figures_Final_V1/Figure4/05_Olink/Olink_SF4.csv\")"
   ]
  },
  {
   "cell_type": "code",
   "execution_count": null,
   "id": "adf85ce7-3287-4c46-a6b9-8b1617556f29",
   "metadata": {},
   "outputs": [],
   "source": []
  },
  {
   "cell_type": "code",
   "execution_count": 3,
   "id": "89ae37d4-2f96-403d-9eba-db18a6219c68",
   "metadata": {},
   "outputs": [],
   "source": [
    "meta_data=read.csv(\"/home/jupyter/BRI_Figures_Final_V2/Dataset/SF4_meta_data-2024-05-05.csv\")\n",
    "meta_data$ageAtEnrollment[meta_data$ageAtEnrollment == '89+'] <- '90'\n",
    "meta_data$ageAtEnrollment<-as.numeric(meta_data$ageAtEnrollment)\n",
    "meta_data<-meta_data[!is.na(meta_data$ageAtEnrollment),]\n",
    "meta_data$Ages<-meta_data$ageAtEnrollment\n",
    "meta_data <- meta_data[!duplicated(meta_data$sample.sampleKitGuid, fromLast = TRUE), ]"
   ]
  },
  {
   "cell_type": "code",
   "execution_count": 4,
   "id": "7c781d8e-49e9-48f6-a5f2-1bf668bd78b1",
   "metadata": {},
   "outputs": [],
   "source": [
    "rownames(meta_data)<-meta_data$sample.sampleKitGuid"
   ]
  },
  {
   "cell_type": "code",
   "execution_count": 5,
   "id": "17d00059-39f9-4b69-9bd1-024ca91c7ca7",
   "metadata": {},
   "outputs": [],
   "source": [
    "Olink<-Olink %>% filter(SampleKitGuid %in% meta_data$sample.sampleKitGuid)"
   ]
  },
  {
   "cell_type": "code",
   "execution_count": 6,
   "id": "1676f797-a29d-4266-9995-60e42d9ea677",
   "metadata": {},
   "outputs": [],
   "source": [
    "Olink <- Olink %>%\n",
    "  distinct(Assay, SampleKitGuid, .keep_all = TRUE)"
   ]
  },
  {
   "cell_type": "code",
   "execution_count": 7,
   "id": "c6d4d911-c892-470e-97b4-666bd6fed653",
   "metadata": {},
   "outputs": [],
   "source": [
    "Olink_wide<-Olink[c(\"SampleKitGuid\",\"Assay\",\"NPX_bridged\")] %>%\n",
    "  pivot_wider(names_from = c(SampleKitGuid), values_from = NPX_bridged) %>% as.data.frame()"
   ]
  },
  {
   "cell_type": "code",
   "execution_count": 8,
   "id": "a951016c-db10-421a-9054-1e9d9f6f6e53",
   "metadata": {},
   "outputs": [],
   "source": [
    "rownames(Olink_wide)<-Olink_wide$Assay"
   ]
  },
  {
   "cell_type": "code",
   "execution_count": 9,
   "id": "3ff818bd-5063-486f-b564-ca681ad60500",
   "metadata": {},
   "outputs": [],
   "source": [
    "Olink_wide<-Olink_wide[-1]"
   ]
  },
  {
   "cell_type": "markdown",
   "id": "853edacc-6d1b-47bc-8a30-e73bf335c50e",
   "metadata": {},
   "source": [
    "# Read LM result Y1D0"
   ]
  },
  {
   "cell_type": "code",
   "execution_count": 10,
   "id": "268c3eab-09b4-4a66-b57c-d10691097f31",
   "metadata": {},
   "outputs": [],
   "source": [
    "lm_res_Y1D0<-read.csv(\"Olink_lm_Result.csv\")"
   ]
  },
  {
   "cell_type": "code",
   "execution_count": 11,
   "id": "a36ec593-0318-42bc-b5b5-577cede36ee8",
   "metadata": {},
   "outputs": [],
   "source": [
    "res_all_single_factor<-lm_res_Y1D0 %>% filter(factor=='Age')"
   ]
  },
  {
   "cell_type": "code",
   "execution_count": 12,
   "id": "fc73e080-3382-422b-96dd-f138e5cae314",
   "metadata": {},
   "outputs": [],
   "source": [
    "res_all_single_factor <- res_all_single_factor%>% mutate(Expression = case_when(delta_changes_Ages >=0.1 & padj <= 0.05 ~ \"Up-Older\",\n",
    "                                                     delta_changes_Ages <= -0.1 & padj <= 0.05 ~ \"Up-Young\",\n",
    "                                                     TRUE ~ \"Unchanged\"))\n"
   ]
  },
  {
   "cell_type": "code",
   "execution_count": 127,
   "id": "cadede2d-0ea3-422f-9307-e7d11f0a80d0",
   "metadata": {},
   "outputs": [
    {
     "data": {
      "text/html": [
       "<style>\n",
       ".list-inline {list-style: none; margin:0; padding: 0}\n",
       ".list-inline>li {display: inline-block}\n",
       ".list-inline>li:not(:last-child)::after {content: \"\\00b7\"; padding: 0 .5ex}\n",
       "</style>\n",
       "<ol class=list-inline><li>'TNFSF8'</li><li>'TNFSF9'</li><li>'TNFRSF17'</li><li>'C1QTNF5'</li><li>'C1QTNF9'</li><li>'TNFAIP8L2'</li><li>'C1QTNF6'</li><li>'TNFAIP2'</li><li>'TNF'</li><li>'TNFSF14'</li><li>'TNFRSF6B'</li><li>'TNFRSF10A'</li><li>'TNFRSF10B'</li><li>'TNFRSF9'</li><li>'TNFRSF8'</li><li>'TNFRSF21'</li><li>'TNFRSF1B'</li><li>'TNFRSF1A'</li><li>'TNFRSF10C'</li><li>'TNFSF13B'</li><li>'C1QTNF1'</li><li>'TNFRSF19'</li><li>'TNFRSF12A'</li><li>'TNFAIP8'</li><li>'TNFRSF13C'</li><li>'TNFSF11'</li><li>'TNFSF10'</li><li>'TNFSF12'</li><li>'TNFRSF11A'</li><li>'TNFRSF4'</li><li>'TNFRSF13B'</li><li>'TNFSF13'</li><li>'TNFRSF11B'</li><li>'TNFRSF14'</li></ol>\n"
      ],
      "text/latex": [
       "\\begin{enumerate*}\n",
       "\\item 'TNFSF8'\n",
       "\\item 'TNFSF9'\n",
       "\\item 'TNFRSF17'\n",
       "\\item 'C1QTNF5'\n",
       "\\item 'C1QTNF9'\n",
       "\\item 'TNFAIP8L2'\n",
       "\\item 'C1QTNF6'\n",
       "\\item 'TNFAIP2'\n",
       "\\item 'TNF'\n",
       "\\item 'TNFSF14'\n",
       "\\item 'TNFRSF6B'\n",
       "\\item 'TNFRSF10A'\n",
       "\\item 'TNFRSF10B'\n",
       "\\item 'TNFRSF9'\n",
       "\\item 'TNFRSF8'\n",
       "\\item 'TNFRSF21'\n",
       "\\item 'TNFRSF1B'\n",
       "\\item 'TNFRSF1A'\n",
       "\\item 'TNFRSF10C'\n",
       "\\item 'TNFSF13B'\n",
       "\\item 'C1QTNF1'\n",
       "\\item 'TNFRSF19'\n",
       "\\item 'TNFRSF12A'\n",
       "\\item 'TNFAIP8'\n",
       "\\item 'TNFRSF13C'\n",
       "\\item 'TNFSF11'\n",
       "\\item 'TNFSF10'\n",
       "\\item 'TNFSF12'\n",
       "\\item 'TNFRSF11A'\n",
       "\\item 'TNFRSF4'\n",
       "\\item 'TNFRSF13B'\n",
       "\\item 'TNFSF13'\n",
       "\\item 'TNFRSF11B'\n",
       "\\item 'TNFRSF14'\n",
       "\\end{enumerate*}\n"
      ],
      "text/markdown": [
       "1. 'TNFSF8'\n",
       "2. 'TNFSF9'\n",
       "3. 'TNFRSF17'\n",
       "4. 'C1QTNF5'\n",
       "5. 'C1QTNF9'\n",
       "6. 'TNFAIP8L2'\n",
       "7. 'C1QTNF6'\n",
       "8. 'TNFAIP2'\n",
       "9. 'TNF'\n",
       "10. 'TNFSF14'\n",
       "11. 'TNFRSF6B'\n",
       "12. 'TNFRSF10A'\n",
       "13. 'TNFRSF10B'\n",
       "14. 'TNFRSF9'\n",
       "15. 'TNFRSF8'\n",
       "16. 'TNFRSF21'\n",
       "17. 'TNFRSF1B'\n",
       "18. 'TNFRSF1A'\n",
       "19. 'TNFRSF10C'\n",
       "20. 'TNFSF13B'\n",
       "21. 'C1QTNF1'\n",
       "22. 'TNFRSF19'\n",
       "23. 'TNFRSF12A'\n",
       "24. 'TNFAIP8'\n",
       "25. 'TNFRSF13C'\n",
       "26. 'TNFSF11'\n",
       "27. 'TNFSF10'\n",
       "28. 'TNFSF12'\n",
       "29. 'TNFRSF11A'\n",
       "30. 'TNFRSF4'\n",
       "31. 'TNFRSF13B'\n",
       "32. 'TNFSF13'\n",
       "33. 'TNFRSF11B'\n",
       "34. 'TNFRSF14'\n",
       "\n",
       "\n"
      ],
      "text/plain": [
       " [1] \"TNFSF8\"    \"TNFSF9\"    \"TNFRSF17\"  \"C1QTNF5\"   \"C1QTNF9\"   \"TNFAIP8L2\"\n",
       " [7] \"C1QTNF6\"   \"TNFAIP2\"   \"TNF\"       \"TNFSF14\"   \"TNFRSF6B\"  \"TNFRSF10A\"\n",
       "[13] \"TNFRSF10B\" \"TNFRSF9\"   \"TNFRSF8\"   \"TNFRSF21\"  \"TNFRSF1B\"  \"TNFRSF1A\" \n",
       "[19] \"TNFRSF10C\" \"TNFSF13B\"  \"C1QTNF1\"   \"TNFRSF19\"  \"TNFRSF12A\" \"TNFAIP8\"  \n",
       "[25] \"TNFRSF13C\" \"TNFSF11\"   \"TNFSF10\"   \"TNFSF12\"   \"TNFRSF11A\" \"TNFRSF4\"  \n",
       "[31] \"TNFRSF13B\" \"TNFSF13\"   \"TNFRSF11B\" \"TNFRSF14\" "
      ]
     },
     "metadata": {},
     "output_type": "display_data"
    }
   ],
   "source": [
    "rownames(Olink_wide)[grepl(\"TNF\",rownames(Olink_wide))]"
   ]
  },
  {
   "cell_type": "code",
   "execution_count": 149,
   "id": "ae53f1e0-fc62-4bb4-90a3-34642f69fe7a",
   "metadata": {},
   "outputs": [],
   "source": [
    "ADDITIONAL<-c(\n",
    "              'TNF','IL6','IL1B','IFNG',#break\n",
    "              'CXCL9','CXCL10','IL11','TGFB1')"
   ]
  },
  {
   "cell_type": "code",
   "execution_count": null,
   "id": "8c7b5f71-89d3-415e-8e6d-e52d69dc921c",
   "metadata": {},
   "outputs": [],
   "source": []
  },
  {
   "cell_type": "markdown",
   "id": "5855a5d5-419a-4b6d-9010-f002aaf0b5ea",
   "metadata": {},
   "source": [
    "# Plotting"
   ]
  },
  {
   "cell_type": "code",
   "execution_count": 159,
   "id": "d735687e-ffc7-456d-966a-bcf823dbf8d6",
   "metadata": {},
   "outputs": [],
   "source": [
    "Older_topn_protein<-res_all_single_factor %>% \n",
    "filter(padj<0.05,delta_changes_Ages>0) %>% \n",
    "arrange(padj,delta_changes_Ages) %>% head(11) %>% select(Assay) %>% pull()\n",
    "Young_topn_protein<-res_all_single_factor %>% \n",
    "filter(padj<0.05,delta_changes_Ages<0) %>% \n",
    "arrange(padj,delta_changes_Ages) %>% head(10) %>% select(Assay) %>% pull()"
   ]
  },
  {
   "cell_type": "code",
   "execution_count": 160,
   "id": "adb4d275-c5a4-41ad-9a06-3d9a06be326c",
   "metadata": {},
   "outputs": [],
   "source": [
    "selected_protein<-c(Older_topn_protein,Young_topn_protein,ADDITIONAL)"
   ]
  },
  {
   "cell_type": "code",
   "execution_count": 161,
   "id": "435d209a-f0ad-45b1-9b53-bc66dd240977",
   "metadata": {},
   "outputs": [],
   "source": [
    "df_input<-Olink_wide[selected_protein,]"
   ]
  },
  {
   "cell_type": "code",
   "execution_count": 162,
   "id": "917e68e6-ec2a-4db9-96f0-a5dd76726248",
   "metadata": {},
   "outputs": [],
   "source": [
    "column_order<-meta_data %>% filter(lab.sampleKitGuid %in% colnames(df_input)) %>% arrange(Ages)"
   ]
  },
  {
   "cell_type": "code",
   "execution_count": 163,
   "id": "49370cbb-1f16-4968-9725-785b8ef6dfc2",
   "metadata": {},
   "outputs": [],
   "source": [
    "df_input<-df_input[,column_order$sample.sampleKitGuid]"
   ]
  },
  {
   "cell_type": "code",
   "execution_count": 164,
   "id": "e702a888-d459-4ae7-ab0c-1f2088be7c95",
   "metadata": {},
   "outputs": [],
   "source": [
    "df_input<-df_input %>% drop_na()"
   ]
  },
  {
   "cell_type": "code",
   "execution_count": 165,
   "id": "768fccc3-362d-4846-ab69-cdb73d4d6b4d",
   "metadata": {},
   "outputs": [],
   "source": [
    "annotation<-column_order %>% select(Ages)\n",
    "rownames(annotation)<-column_order$sample.sampleKitGuid"
   ]
  },
  {
   "cell_type": "code",
   "execution_count": 166,
   "id": "d0d5c44c-9a76-4935-a915-07a2131d3a1e",
   "metadata": {},
   "outputs": [],
   "source": [
    "breaks_sequence <- seq(-1, 1, length.out = 100)"
   ]
  },
  {
   "cell_type": "code",
   "execution_count": 169,
   "id": "79c9c9f7-fd22-4c38-8eb6-51a59333eb33",
   "metadata": {},
   "outputs": [
    {
     "data": {
      "text/html": [
       "<table class=\"dataframe\">\n",
       "<caption>A data.frame: 22 × 228</caption>\n",
       "<thead>\n",
       "\t<tr><th></th><th scope=col>KT03165</th><th scope=col>KT03781</th><th scope=col>KT03554</th><th scope=col>KT03756</th><th scope=col>KT03160</th><th scope=col>KT03335</th><th scope=col>KT03438</th><th scope=col>KT03525</th><th scope=col>KT03695</th><th scope=col>KT03729</th><th scope=col>⋯</th><th scope=col>KT03582</th><th scope=col>KT03482</th><th scope=col>KT03489</th><th scope=col>KT03514</th><th scope=col>KT03624</th><th scope=col>KT03650</th><th scope=col>KT03833</th><th scope=col>KT03403</th><th scope=col>KT03373</th><th scope=col>KT03296</th></tr>\n",
       "\t<tr><th></th><th scope=col>&lt;dbl&gt;</th><th scope=col>&lt;dbl&gt;</th><th scope=col>&lt;dbl&gt;</th><th scope=col>&lt;dbl&gt;</th><th scope=col>&lt;dbl&gt;</th><th scope=col>&lt;dbl&gt;</th><th scope=col>&lt;dbl&gt;</th><th scope=col>&lt;dbl&gt;</th><th scope=col>&lt;dbl&gt;</th><th scope=col>&lt;dbl&gt;</th><th scope=col>⋯</th><th scope=col>&lt;dbl&gt;</th><th scope=col>&lt;dbl&gt;</th><th scope=col>&lt;dbl&gt;</th><th scope=col>&lt;dbl&gt;</th><th scope=col>&lt;dbl&gt;</th><th scope=col>&lt;dbl&gt;</th><th scope=col>&lt;dbl&gt;</th><th scope=col>&lt;dbl&gt;</th><th scope=col>&lt;dbl&gt;</th><th scope=col>&lt;dbl&gt;</th></tr>\n",
       "</thead>\n",
       "<tbody>\n",
       "\t<tr><th scope=row>CXCL17</th><td> 0.05050</td><td>-0.6125</td><td>-0.5666</td><td>-1.04610</td><td>-1.0667</td><td>-0.2282</td><td>-2.69650</td><td>-1.1815</td><td>-0.28810</td><td>-0.8561</td><td>⋯</td><td> 1.13000</td><td> 0.2683</td><td> 0.38870</td><td> 0.4622</td><td> 1.22970</td><td> 0.1744</td><td> 1.04970</td><td> 1.01020</td><td> 0.33410</td><td> 0.4814</td></tr>\n",
       "\t<tr><th scope=row>LTBP2</th><td> 0.22130</td><td>-1.1732</td><td>-0.3080</td><td>-0.35300</td><td>-0.5843</td><td>-1.0973</td><td>-0.52720</td><td>-1.1496</td><td> 0.01800</td><td>-1.2736</td><td>⋯</td><td> 0.41200</td><td> 0.7295</td><td> 0.44940</td><td>-0.0053</td><td> 1.87750</td><td>-0.3942</td><td> 1.25230</td><td> 1.48270</td><td> 0.68450</td><td> 1.6725</td></tr>\n",
       "\t<tr><th scope=row>EDA2R</th><td>-0.56580</td><td>-1.4556</td><td>-0.5091</td><td>-0.91560</td><td>-1.1269</td><td>-0.3551</td><td>-2.04250</td><td>-0.6518</td><td>-0.34140</td><td>-1.4173</td><td>⋯</td><td> 0.92540</td><td> 1.3204</td><td> 1.50730</td><td> 1.0405</td><td> 2.46450</td><td> 0.6464</td><td> 0.96520</td><td> 0.80590</td><td> 1.56850</td><td> 0.9950</td></tr>\n",
       "\t<tr><th scope=row>WNT9A</th><td> 0.12700</td><td>-1.1045</td><td>-0.1246</td><td> 0.29490</td><td>-1.3428</td><td> 0.1588</td><td>-1.13500</td><td>-0.0747</td><td>-0.99050</td><td> 0.0977</td><td>⋯</td><td> 0.76430</td><td> 0.5957</td><td>-0.02130</td><td> 0.5860</td><td> 1.51420</td><td> 0.5769</td><td> 1.66090</td><td> 0.82380</td><td> 1.15200</td><td> 1.7707</td></tr>\n",
       "\t<tr><th scope=row>SCARF2</th><td> 0.47730</td><td>-1.2534</td><td>-1.0268</td><td>-0.07350</td><td>-0.4670</td><td>-0.6913</td><td>-0.23140</td><td>-0.9169</td><td> 0.25330</td><td>-1.4595</td><td>⋯</td><td> 0.41780</td><td> 0.4777</td><td> 1.13800</td><td> 0.0179</td><td> 2.08330</td><td>-0.1053</td><td> 1.09760</td><td> 0.76430</td><td> 0.45960</td><td> 0.7160</td></tr>\n",
       "\t<tr><th scope=row>GDF15</th><td>-0.44470</td><td>-1.0628</td><td>-0.6800</td><td>-0.52840</td><td>-0.7643</td><td>-0.6181</td><td>-0.79710</td><td>-0.5555</td><td>-0.31720</td><td>-1.1027</td><td>⋯</td><td> 1.29540</td><td> 0.7963</td><td> 0.60440</td><td> 0.8631</td><td> 2.18050</td><td> 0.7267</td><td> 1.00050</td><td> 1.06800</td><td> 0.43580</td><td> 1.3993</td></tr>\n",
       "\t<tr><th scope=row>SOST</th><td>-0.14115</td><td> 0.0789</td><td>-0.2230</td><td>-0.40615</td><td>-0.6174</td><td> 0.0462</td><td>-1.19105</td><td>-0.1324</td><td>-0.36175</td><td>-0.5137</td><td>⋯</td><td>-0.11245</td><td>-0.5649</td><td>-0.62755</td><td>-1.0169</td><td> 1.03915</td><td>-0.1829</td><td> 1.24625</td><td>-0.12855</td><td>-0.30545</td><td> 0.1958</td></tr>\n",
       "\t<tr><th scope=row>WFDC2</th><td>-0.09920</td><td>-1.1379</td><td>-0.1054</td><td>-0.06310</td><td>-0.5314</td><td>-0.2593</td><td>-0.28420</td><td>-0.0442</td><td>-0.50260</td><td>-1.0138</td><td>⋯</td><td> 1.49990</td><td> 1.5145</td><td> 1.41770</td><td> 0.6713</td><td> 3.00690</td><td> 1.3825</td><td> 1.27170</td><td> 0.95440</td><td> 1.29680</td><td> 0.2388</td></tr>\n",
       "\t<tr><th scope=row>ACTA2</th><td>-0.46885</td><td>-0.2858</td><td>-0.9472</td><td> 0.01595</td><td> 0.1808</td><td>-0.4035</td><td>-0.54265</td><td>-0.4495</td><td>-0.22385</td><td>-1.4853</td><td>⋯</td><td> 0.37695</td><td> 1.1954</td><td> 1.47835</td><td> 0.4124</td><td> 3.30935</td><td> 0.9078</td><td> 1.45185</td><td> 0.77315</td><td> 1.10355</td><td> 1.1495</td></tr>\n",
       "\t<tr><th scope=row>NEFL</th><td>-0.46340</td><td>-3.2820</td><td>-1.4995</td><td>-0.92190</td><td>-1.0641</td><td>-0.1313</td><td>-0.94720</td><td>-0.5279</td><td> 0.15110</td><td>-2.1177</td><td>⋯</td><td> 0.48300</td><td> 1.6061</td><td> 1.42720</td><td> 1.5164</td><td> 1.61240</td><td> 0.9742</td><td> 1.62810</td><td> 0.38330</td><td> 1.09100</td><td> 0.6574</td></tr>\n",
       "\t<tr><th scope=row>CTSV</th><td> 0.58360</td><td> 0.5764</td><td> 1.8706</td><td> 0.88400</td><td> 0.7121</td><td> 0.6011</td><td> 0.45480</td><td> 0.5927</td><td> 1.23240</td><td> 0.8034</td><td>⋯</td><td>-0.01040</td><td>-1.4396</td><td>-0.22280</td><td>-0.0194</td><td>-0.07120</td><td>-1.6554</td><td>-0.57740</td><td> 0.16080</td><td>-0.78240</td><td>-0.1063</td></tr>\n",
       "\t<tr><th scope=row>RET</th><td>-0.70420</td><td> 0.0716</td><td> 0.0612</td><td> 0.29270</td><td> 0.0727</td><td> 0.0856</td><td> 0.21940</td><td> 0.0437</td><td> 0.63670</td><td>-0.3852</td><td>⋯</td><td>-1.08950</td><td>-0.5242</td><td>-0.44520</td><td>-1.1349</td><td>-0.45250</td><td>-1.7340</td><td>-0.98100</td><td>-0.80500</td><td>-0.40800</td><td>-1.0892</td></tr>\n",
       "\t<tr><th scope=row>PROK1</th><td> 0.26920</td><td> 2.8922</td><td> 1.6536</td><td>-0.89720</td><td>-0.4898</td><td>-0.3616</td><td> 1.08630</td><td> 1.5918</td><td> 1.79840</td><td> 0.7289</td><td>⋯</td><td> 1.25960</td><td> 0.4018</td><td> 0.31150</td><td> 0.4509</td><td> 0.42890</td><td> 0.7851</td><td>-0.90610</td><td>-0.53630</td><td> 0.80180</td><td>-0.7757</td></tr>\n",
       "\t<tr><th scope=row>PAEP</th><td> 3.57530</td><td> 5.4417</td><td> 1.9613</td><td> 5.63860</td><td> 4.9471</td><td> 4.1939</td><td>-0.72730</td><td> 0.2122</td><td>-0.24450</td><td> 0.2455</td><td>⋯</td><td> 0.91250</td><td>-0.4180</td><td>-0.07390</td><td>-0.1994</td><td> 0.25760</td><td> 0.7315</td><td>-0.22490</td><td> 0.48110</td><td> 0.66210</td><td>-0.6228</td></tr>\n",
       "\t<tr><th scope=row>TNF</th><td> 0.19550</td><td>-0.5876</td><td> 0.3149</td><td>-0.69500</td><td>-0.2338</td><td>-0.2081</td><td>-0.40620</td><td>-0.6159</td><td> 0.39370</td><td> 0.0655</td><td>⋯</td><td> 0.21550</td><td> 0.0021</td><td> 0.08700</td><td>-0.1101</td><td> 0.69370</td><td>-0.3284</td><td> 0.02110</td><td> 1.50600</td><td> 0.99070</td><td>-1.6186</td></tr>\n",
       "\t<tr><th scope=row>IL6</th><td>-0.52490</td><td>-0.3503</td><td>-0.8587</td><td>-0.66700</td><td>-0.8683</td><td>-0.1197</td><td>-0.78980</td><td>-0.6536</td><td> 0.74110</td><td>-0.2856</td><td>⋯</td><td> 1.65850</td><td> 0.5087</td><td> 0.28340</td><td>-0.3032</td><td> 1.24720</td><td> 0.3726</td><td> 0.68830</td><td> 0.78080</td><td>-0.44210</td><td> 1.9666</td></tr>\n",
       "\t<tr><th scope=row>IL1B</th><td> 0.26600</td><td>-0.5292</td><td> 1.0969</td><td>-0.31930</td><td> 0.0570</td><td>-1.3277</td><td> 0.49300</td><td> 0.0402</td><td> 1.26170</td><td> 0.1018</td><td>⋯</td><td> 0.10380</td><td> 0.0780</td><td>-0.21100</td><td>-1.2624</td><td>-0.90680</td><td> 0.1401</td><td> 0.83400</td><td>-0.47750</td><td> 0.83740</td><td>-0.9091</td></tr>\n",
       "\t<tr><th scope=row>IFNG</th><td> 0.28400</td><td>-0.0324</td><td>-0.2236</td><td> 0.10960</td><td> 1.6197</td><td>-1.3846</td><td>-0.82840</td><td>-1.3861</td><td> 0.19200</td><td> 0.8148</td><td>⋯</td><td> 1.56840</td><td> 3.1491</td><td>-1.90590</td><td> 1.7670</td><td> 0.60080</td><td>-0.3184</td><td> 1.57780</td><td> 1.73500</td><td> 1.36010</td><td>-2.0497</td></tr>\n",
       "\t<tr><th scope=row>CXCL9</th><td>-0.76730</td><td>-1.4481</td><td>-1.1190</td><td>-0.98060</td><td>-0.8913</td><td>-0.9739</td><td> 0.12320</td><td>-0.6497</td><td>-0.41960</td><td>-0.7043</td><td>⋯</td><td> 2.72980</td><td> 1.6212</td><td> 1.56210</td><td> 2.8524</td><td> 1.75790</td><td>-0.3742</td><td> 1.00080</td><td> 1.26730</td><td> 1.00550</td><td> 0.0012</td></tr>\n",
       "\t<tr><th scope=row>CXCL10</th><td>-0.18100</td><td>-0.5755</td><td> 0.4407</td><td> 0.22820</td><td>-0.1185</td><td>-0.7769</td><td> 0.35840</td><td>-0.4462</td><td>-0.19170</td><td> 0.1873</td><td>⋯</td><td> 1.29370</td><td> 1.1378</td><td> 0.67930</td><td> 0.6645</td><td> 0.82780</td><td>-0.9615</td><td>-0.09560</td><td> 1.53480</td><td> 1.41940</td><td>-0.4221</td></tr>\n",
       "\t<tr><th scope=row>IL11</th><td>-1.05150</td><td>-1.7954</td><td> 0.5046</td><td>-1.49190</td><td> 0.3172</td><td> 0.0993</td><td> 0.17600</td><td>-0.0950</td><td> 0.36410</td><td>-2.5527</td><td>⋯</td><td>-0.60450</td><td>-1.4834</td><td> 0.52440</td><td> 0.4085</td><td> 2.86500</td><td> 0.3364</td><td>-0.19000</td><td> 0.01800</td><td> 0.48780</td><td> 0.2383</td></tr>\n",
       "\t<tr><th scope=row>TGFB1</th><td> 0.06750</td><td>-0.2653</td><td>-0.0155</td><td> 0.09320</td><td>-0.3482</td><td> 0.2294</td><td> 0.05980</td><td>-0.3340</td><td> 0.47790</td><td>-0.4132</td><td>⋯</td><td>-0.25260</td><td>-0.1612</td><td>-0.25180</td><td>-0.4110</td><td> 0.17520</td><td>-0.6460</td><td> 0.36370</td><td> 0.29250</td><td> 0.85250</td><td>-0.0951</td></tr>\n",
       "</tbody>\n",
       "</table>\n"
      ],
      "text/latex": [
       "A data.frame: 22 × 228\n",
       "\\begin{tabular}{r|lllllllllllllllllllll}\n",
       "  & KT03165 & KT03781 & KT03554 & KT03756 & KT03160 & KT03335 & KT03438 & KT03525 & KT03695 & KT03729 & ⋯ & KT03582 & KT03482 & KT03489 & KT03514 & KT03624 & KT03650 & KT03833 & KT03403 & KT03373 & KT03296\\\\\n",
       "  & <dbl> & <dbl> & <dbl> & <dbl> & <dbl> & <dbl> & <dbl> & <dbl> & <dbl> & <dbl> & ⋯ & <dbl> & <dbl> & <dbl> & <dbl> & <dbl> & <dbl> & <dbl> & <dbl> & <dbl> & <dbl>\\\\\n",
       "\\hline\n",
       "\tCXCL17 &  0.05050 & -0.6125 & -0.5666 & -1.04610 & -1.0667 & -0.2282 & -2.69650 & -1.1815 & -0.28810 & -0.8561 & ⋯ &  1.13000 &  0.2683 &  0.38870 &  0.4622 &  1.22970 &  0.1744 &  1.04970 &  1.01020 &  0.33410 &  0.4814\\\\\n",
       "\tLTBP2 &  0.22130 & -1.1732 & -0.3080 & -0.35300 & -0.5843 & -1.0973 & -0.52720 & -1.1496 &  0.01800 & -1.2736 & ⋯ &  0.41200 &  0.7295 &  0.44940 & -0.0053 &  1.87750 & -0.3942 &  1.25230 &  1.48270 &  0.68450 &  1.6725\\\\\n",
       "\tEDA2R & -0.56580 & -1.4556 & -0.5091 & -0.91560 & -1.1269 & -0.3551 & -2.04250 & -0.6518 & -0.34140 & -1.4173 & ⋯ &  0.92540 &  1.3204 &  1.50730 &  1.0405 &  2.46450 &  0.6464 &  0.96520 &  0.80590 &  1.56850 &  0.9950\\\\\n",
       "\tWNT9A &  0.12700 & -1.1045 & -0.1246 &  0.29490 & -1.3428 &  0.1588 & -1.13500 & -0.0747 & -0.99050 &  0.0977 & ⋯ &  0.76430 &  0.5957 & -0.02130 &  0.5860 &  1.51420 &  0.5769 &  1.66090 &  0.82380 &  1.15200 &  1.7707\\\\\n",
       "\tSCARF2 &  0.47730 & -1.2534 & -1.0268 & -0.07350 & -0.4670 & -0.6913 & -0.23140 & -0.9169 &  0.25330 & -1.4595 & ⋯ &  0.41780 &  0.4777 &  1.13800 &  0.0179 &  2.08330 & -0.1053 &  1.09760 &  0.76430 &  0.45960 &  0.7160\\\\\n",
       "\tGDF15 & -0.44470 & -1.0628 & -0.6800 & -0.52840 & -0.7643 & -0.6181 & -0.79710 & -0.5555 & -0.31720 & -1.1027 & ⋯ &  1.29540 &  0.7963 &  0.60440 &  0.8631 &  2.18050 &  0.7267 &  1.00050 &  1.06800 &  0.43580 &  1.3993\\\\\n",
       "\tSOST & -0.14115 &  0.0789 & -0.2230 & -0.40615 & -0.6174 &  0.0462 & -1.19105 & -0.1324 & -0.36175 & -0.5137 & ⋯ & -0.11245 & -0.5649 & -0.62755 & -1.0169 &  1.03915 & -0.1829 &  1.24625 & -0.12855 & -0.30545 &  0.1958\\\\\n",
       "\tWFDC2 & -0.09920 & -1.1379 & -0.1054 & -0.06310 & -0.5314 & -0.2593 & -0.28420 & -0.0442 & -0.50260 & -1.0138 & ⋯ &  1.49990 &  1.5145 &  1.41770 &  0.6713 &  3.00690 &  1.3825 &  1.27170 &  0.95440 &  1.29680 &  0.2388\\\\\n",
       "\tACTA2 & -0.46885 & -0.2858 & -0.9472 &  0.01595 &  0.1808 & -0.4035 & -0.54265 & -0.4495 & -0.22385 & -1.4853 & ⋯ &  0.37695 &  1.1954 &  1.47835 &  0.4124 &  3.30935 &  0.9078 &  1.45185 &  0.77315 &  1.10355 &  1.1495\\\\\n",
       "\tNEFL & -0.46340 & -3.2820 & -1.4995 & -0.92190 & -1.0641 & -0.1313 & -0.94720 & -0.5279 &  0.15110 & -2.1177 & ⋯ &  0.48300 &  1.6061 &  1.42720 &  1.5164 &  1.61240 &  0.9742 &  1.62810 &  0.38330 &  1.09100 &  0.6574\\\\\n",
       "\tCTSV &  0.58360 &  0.5764 &  1.8706 &  0.88400 &  0.7121 &  0.6011 &  0.45480 &  0.5927 &  1.23240 &  0.8034 & ⋯ & -0.01040 & -1.4396 & -0.22280 & -0.0194 & -0.07120 & -1.6554 & -0.57740 &  0.16080 & -0.78240 & -0.1063\\\\\n",
       "\tRET & -0.70420 &  0.0716 &  0.0612 &  0.29270 &  0.0727 &  0.0856 &  0.21940 &  0.0437 &  0.63670 & -0.3852 & ⋯ & -1.08950 & -0.5242 & -0.44520 & -1.1349 & -0.45250 & -1.7340 & -0.98100 & -0.80500 & -0.40800 & -1.0892\\\\\n",
       "\tPROK1 &  0.26920 &  2.8922 &  1.6536 & -0.89720 & -0.4898 & -0.3616 &  1.08630 &  1.5918 &  1.79840 &  0.7289 & ⋯ &  1.25960 &  0.4018 &  0.31150 &  0.4509 &  0.42890 &  0.7851 & -0.90610 & -0.53630 &  0.80180 & -0.7757\\\\\n",
       "\tPAEP &  3.57530 &  5.4417 &  1.9613 &  5.63860 &  4.9471 &  4.1939 & -0.72730 &  0.2122 & -0.24450 &  0.2455 & ⋯ &  0.91250 & -0.4180 & -0.07390 & -0.1994 &  0.25760 &  0.7315 & -0.22490 &  0.48110 &  0.66210 & -0.6228\\\\\n",
       "\tTNF &  0.19550 & -0.5876 &  0.3149 & -0.69500 & -0.2338 & -0.2081 & -0.40620 & -0.6159 &  0.39370 &  0.0655 & ⋯ &  0.21550 &  0.0021 &  0.08700 & -0.1101 &  0.69370 & -0.3284 &  0.02110 &  1.50600 &  0.99070 & -1.6186\\\\\n",
       "\tIL6 & -0.52490 & -0.3503 & -0.8587 & -0.66700 & -0.8683 & -0.1197 & -0.78980 & -0.6536 &  0.74110 & -0.2856 & ⋯ &  1.65850 &  0.5087 &  0.28340 & -0.3032 &  1.24720 &  0.3726 &  0.68830 &  0.78080 & -0.44210 &  1.9666\\\\\n",
       "\tIL1B &  0.26600 & -0.5292 &  1.0969 & -0.31930 &  0.0570 & -1.3277 &  0.49300 &  0.0402 &  1.26170 &  0.1018 & ⋯ &  0.10380 &  0.0780 & -0.21100 & -1.2624 & -0.90680 &  0.1401 &  0.83400 & -0.47750 &  0.83740 & -0.9091\\\\\n",
       "\tIFNG &  0.28400 & -0.0324 & -0.2236 &  0.10960 &  1.6197 & -1.3846 & -0.82840 & -1.3861 &  0.19200 &  0.8148 & ⋯ &  1.56840 &  3.1491 & -1.90590 &  1.7670 &  0.60080 & -0.3184 &  1.57780 &  1.73500 &  1.36010 & -2.0497\\\\\n",
       "\tCXCL9 & -0.76730 & -1.4481 & -1.1190 & -0.98060 & -0.8913 & -0.9739 &  0.12320 & -0.6497 & -0.41960 & -0.7043 & ⋯ &  2.72980 &  1.6212 &  1.56210 &  2.8524 &  1.75790 & -0.3742 &  1.00080 &  1.26730 &  1.00550 &  0.0012\\\\\n",
       "\tCXCL10 & -0.18100 & -0.5755 &  0.4407 &  0.22820 & -0.1185 & -0.7769 &  0.35840 & -0.4462 & -0.19170 &  0.1873 & ⋯ &  1.29370 &  1.1378 &  0.67930 &  0.6645 &  0.82780 & -0.9615 & -0.09560 &  1.53480 &  1.41940 & -0.4221\\\\\n",
       "\tIL11 & -1.05150 & -1.7954 &  0.5046 & -1.49190 &  0.3172 &  0.0993 &  0.17600 & -0.0950 &  0.36410 & -2.5527 & ⋯ & -0.60450 & -1.4834 &  0.52440 &  0.4085 &  2.86500 &  0.3364 & -0.19000 &  0.01800 &  0.48780 &  0.2383\\\\\n",
       "\tTGFB1 &  0.06750 & -0.2653 & -0.0155 &  0.09320 & -0.3482 &  0.2294 &  0.05980 & -0.3340 &  0.47790 & -0.4132 & ⋯ & -0.25260 & -0.1612 & -0.25180 & -0.4110 &  0.17520 & -0.6460 &  0.36370 &  0.29250 &  0.85250 & -0.0951\\\\\n",
       "\\end{tabular}\n"
      ],
      "text/markdown": [
       "\n",
       "A data.frame: 22 × 228\n",
       "\n",
       "| <!--/--> | KT03165 &lt;dbl&gt; | KT03781 &lt;dbl&gt; | KT03554 &lt;dbl&gt; | KT03756 &lt;dbl&gt; | KT03160 &lt;dbl&gt; | KT03335 &lt;dbl&gt; | KT03438 &lt;dbl&gt; | KT03525 &lt;dbl&gt; | KT03695 &lt;dbl&gt; | KT03729 &lt;dbl&gt; | ⋯ ⋯ | KT03582 &lt;dbl&gt; | KT03482 &lt;dbl&gt; | KT03489 &lt;dbl&gt; | KT03514 &lt;dbl&gt; | KT03624 &lt;dbl&gt; | KT03650 &lt;dbl&gt; | KT03833 &lt;dbl&gt; | KT03403 &lt;dbl&gt; | KT03373 &lt;dbl&gt; | KT03296 &lt;dbl&gt; |\n",
       "|---|---|---|---|---|---|---|---|---|---|---|---|---|---|---|---|---|---|---|---|---|---|\n",
       "| CXCL17 |  0.05050 | -0.6125 | -0.5666 | -1.04610 | -1.0667 | -0.2282 | -2.69650 | -1.1815 | -0.28810 | -0.8561 | ⋯ |  1.13000 |  0.2683 |  0.38870 |  0.4622 |  1.22970 |  0.1744 |  1.04970 |  1.01020 |  0.33410 |  0.4814 |\n",
       "| LTBP2 |  0.22130 | -1.1732 | -0.3080 | -0.35300 | -0.5843 | -1.0973 | -0.52720 | -1.1496 |  0.01800 | -1.2736 | ⋯ |  0.41200 |  0.7295 |  0.44940 | -0.0053 |  1.87750 | -0.3942 |  1.25230 |  1.48270 |  0.68450 |  1.6725 |\n",
       "| EDA2R | -0.56580 | -1.4556 | -0.5091 | -0.91560 | -1.1269 | -0.3551 | -2.04250 | -0.6518 | -0.34140 | -1.4173 | ⋯ |  0.92540 |  1.3204 |  1.50730 |  1.0405 |  2.46450 |  0.6464 |  0.96520 |  0.80590 |  1.56850 |  0.9950 |\n",
       "| WNT9A |  0.12700 | -1.1045 | -0.1246 |  0.29490 | -1.3428 |  0.1588 | -1.13500 | -0.0747 | -0.99050 |  0.0977 | ⋯ |  0.76430 |  0.5957 | -0.02130 |  0.5860 |  1.51420 |  0.5769 |  1.66090 |  0.82380 |  1.15200 |  1.7707 |\n",
       "| SCARF2 |  0.47730 | -1.2534 | -1.0268 | -0.07350 | -0.4670 | -0.6913 | -0.23140 | -0.9169 |  0.25330 | -1.4595 | ⋯ |  0.41780 |  0.4777 |  1.13800 |  0.0179 |  2.08330 | -0.1053 |  1.09760 |  0.76430 |  0.45960 |  0.7160 |\n",
       "| GDF15 | -0.44470 | -1.0628 | -0.6800 | -0.52840 | -0.7643 | -0.6181 | -0.79710 | -0.5555 | -0.31720 | -1.1027 | ⋯ |  1.29540 |  0.7963 |  0.60440 |  0.8631 |  2.18050 |  0.7267 |  1.00050 |  1.06800 |  0.43580 |  1.3993 |\n",
       "| SOST | -0.14115 |  0.0789 | -0.2230 | -0.40615 | -0.6174 |  0.0462 | -1.19105 | -0.1324 | -0.36175 | -0.5137 | ⋯ | -0.11245 | -0.5649 | -0.62755 | -1.0169 |  1.03915 | -0.1829 |  1.24625 | -0.12855 | -0.30545 |  0.1958 |\n",
       "| WFDC2 | -0.09920 | -1.1379 | -0.1054 | -0.06310 | -0.5314 | -0.2593 | -0.28420 | -0.0442 | -0.50260 | -1.0138 | ⋯ |  1.49990 |  1.5145 |  1.41770 |  0.6713 |  3.00690 |  1.3825 |  1.27170 |  0.95440 |  1.29680 |  0.2388 |\n",
       "| ACTA2 | -0.46885 | -0.2858 | -0.9472 |  0.01595 |  0.1808 | -0.4035 | -0.54265 | -0.4495 | -0.22385 | -1.4853 | ⋯ |  0.37695 |  1.1954 |  1.47835 |  0.4124 |  3.30935 |  0.9078 |  1.45185 |  0.77315 |  1.10355 |  1.1495 |\n",
       "| NEFL | -0.46340 | -3.2820 | -1.4995 | -0.92190 | -1.0641 | -0.1313 | -0.94720 | -0.5279 |  0.15110 | -2.1177 | ⋯ |  0.48300 |  1.6061 |  1.42720 |  1.5164 |  1.61240 |  0.9742 |  1.62810 |  0.38330 |  1.09100 |  0.6574 |\n",
       "| CTSV |  0.58360 |  0.5764 |  1.8706 |  0.88400 |  0.7121 |  0.6011 |  0.45480 |  0.5927 |  1.23240 |  0.8034 | ⋯ | -0.01040 | -1.4396 | -0.22280 | -0.0194 | -0.07120 | -1.6554 | -0.57740 |  0.16080 | -0.78240 | -0.1063 |\n",
       "| RET | -0.70420 |  0.0716 |  0.0612 |  0.29270 |  0.0727 |  0.0856 |  0.21940 |  0.0437 |  0.63670 | -0.3852 | ⋯ | -1.08950 | -0.5242 | -0.44520 | -1.1349 | -0.45250 | -1.7340 | -0.98100 | -0.80500 | -0.40800 | -1.0892 |\n",
       "| PROK1 |  0.26920 |  2.8922 |  1.6536 | -0.89720 | -0.4898 | -0.3616 |  1.08630 |  1.5918 |  1.79840 |  0.7289 | ⋯ |  1.25960 |  0.4018 |  0.31150 |  0.4509 |  0.42890 |  0.7851 | -0.90610 | -0.53630 |  0.80180 | -0.7757 |\n",
       "| PAEP |  3.57530 |  5.4417 |  1.9613 |  5.63860 |  4.9471 |  4.1939 | -0.72730 |  0.2122 | -0.24450 |  0.2455 | ⋯ |  0.91250 | -0.4180 | -0.07390 | -0.1994 |  0.25760 |  0.7315 | -0.22490 |  0.48110 |  0.66210 | -0.6228 |\n",
       "| TNF |  0.19550 | -0.5876 |  0.3149 | -0.69500 | -0.2338 | -0.2081 | -0.40620 | -0.6159 |  0.39370 |  0.0655 | ⋯ |  0.21550 |  0.0021 |  0.08700 | -0.1101 |  0.69370 | -0.3284 |  0.02110 |  1.50600 |  0.99070 | -1.6186 |\n",
       "| IL6 | -0.52490 | -0.3503 | -0.8587 | -0.66700 | -0.8683 | -0.1197 | -0.78980 | -0.6536 |  0.74110 | -0.2856 | ⋯ |  1.65850 |  0.5087 |  0.28340 | -0.3032 |  1.24720 |  0.3726 |  0.68830 |  0.78080 | -0.44210 |  1.9666 |\n",
       "| IL1B |  0.26600 | -0.5292 |  1.0969 | -0.31930 |  0.0570 | -1.3277 |  0.49300 |  0.0402 |  1.26170 |  0.1018 | ⋯ |  0.10380 |  0.0780 | -0.21100 | -1.2624 | -0.90680 |  0.1401 |  0.83400 | -0.47750 |  0.83740 | -0.9091 |\n",
       "| IFNG |  0.28400 | -0.0324 | -0.2236 |  0.10960 |  1.6197 | -1.3846 | -0.82840 | -1.3861 |  0.19200 |  0.8148 | ⋯ |  1.56840 |  3.1491 | -1.90590 |  1.7670 |  0.60080 | -0.3184 |  1.57780 |  1.73500 |  1.36010 | -2.0497 |\n",
       "| CXCL9 | -0.76730 | -1.4481 | -1.1190 | -0.98060 | -0.8913 | -0.9739 |  0.12320 | -0.6497 | -0.41960 | -0.7043 | ⋯ |  2.72980 |  1.6212 |  1.56210 |  2.8524 |  1.75790 | -0.3742 |  1.00080 |  1.26730 |  1.00550 |  0.0012 |\n",
       "| CXCL10 | -0.18100 | -0.5755 |  0.4407 |  0.22820 | -0.1185 | -0.7769 |  0.35840 | -0.4462 | -0.19170 |  0.1873 | ⋯ |  1.29370 |  1.1378 |  0.67930 |  0.6645 |  0.82780 | -0.9615 | -0.09560 |  1.53480 |  1.41940 | -0.4221 |\n",
       "| IL11 | -1.05150 | -1.7954 |  0.5046 | -1.49190 |  0.3172 |  0.0993 |  0.17600 | -0.0950 |  0.36410 | -2.5527 | ⋯ | -0.60450 | -1.4834 |  0.52440 |  0.4085 |  2.86500 |  0.3364 | -0.19000 |  0.01800 |  0.48780 |  0.2383 |\n",
       "| TGFB1 |  0.06750 | -0.2653 | -0.0155 |  0.09320 | -0.3482 |  0.2294 |  0.05980 | -0.3340 |  0.47790 | -0.4132 | ⋯ | -0.25260 | -0.1612 | -0.25180 | -0.4110 |  0.17520 | -0.6460 |  0.36370 |  0.29250 |  0.85250 | -0.0951 |\n",
       "\n"
      ],
      "text/plain": [
       "       KT03165  KT03781 KT03554 KT03756  KT03160 KT03335 KT03438  KT03525\n",
       "CXCL17  0.05050 -0.6125 -0.5666 -1.04610 -1.0667 -0.2282 -2.69650 -1.1815\n",
       "LTBP2   0.22130 -1.1732 -0.3080 -0.35300 -0.5843 -1.0973 -0.52720 -1.1496\n",
       "EDA2R  -0.56580 -1.4556 -0.5091 -0.91560 -1.1269 -0.3551 -2.04250 -0.6518\n",
       "WNT9A   0.12700 -1.1045 -0.1246  0.29490 -1.3428  0.1588 -1.13500 -0.0747\n",
       "SCARF2  0.47730 -1.2534 -1.0268 -0.07350 -0.4670 -0.6913 -0.23140 -0.9169\n",
       "GDF15  -0.44470 -1.0628 -0.6800 -0.52840 -0.7643 -0.6181 -0.79710 -0.5555\n",
       "SOST   -0.14115  0.0789 -0.2230 -0.40615 -0.6174  0.0462 -1.19105 -0.1324\n",
       "WFDC2  -0.09920 -1.1379 -0.1054 -0.06310 -0.5314 -0.2593 -0.28420 -0.0442\n",
       "ACTA2  -0.46885 -0.2858 -0.9472  0.01595  0.1808 -0.4035 -0.54265 -0.4495\n",
       "NEFL   -0.46340 -3.2820 -1.4995 -0.92190 -1.0641 -0.1313 -0.94720 -0.5279\n",
       "CTSV    0.58360  0.5764  1.8706  0.88400  0.7121  0.6011  0.45480  0.5927\n",
       "RET    -0.70420  0.0716  0.0612  0.29270  0.0727  0.0856  0.21940  0.0437\n",
       "PROK1   0.26920  2.8922  1.6536 -0.89720 -0.4898 -0.3616  1.08630  1.5918\n",
       "PAEP    3.57530  5.4417  1.9613  5.63860  4.9471  4.1939 -0.72730  0.2122\n",
       "TNF     0.19550 -0.5876  0.3149 -0.69500 -0.2338 -0.2081 -0.40620 -0.6159\n",
       "IL6    -0.52490 -0.3503 -0.8587 -0.66700 -0.8683 -0.1197 -0.78980 -0.6536\n",
       "IL1B    0.26600 -0.5292  1.0969 -0.31930  0.0570 -1.3277  0.49300  0.0402\n",
       "IFNG    0.28400 -0.0324 -0.2236  0.10960  1.6197 -1.3846 -0.82840 -1.3861\n",
       "CXCL9  -0.76730 -1.4481 -1.1190 -0.98060 -0.8913 -0.9739  0.12320 -0.6497\n",
       "CXCL10 -0.18100 -0.5755  0.4407  0.22820 -0.1185 -0.7769  0.35840 -0.4462\n",
       "IL11   -1.05150 -1.7954  0.5046 -1.49190  0.3172  0.0993  0.17600 -0.0950\n",
       "TGFB1   0.06750 -0.2653 -0.0155  0.09320 -0.3482  0.2294  0.05980 -0.3340\n",
       "       KT03695  KT03729 ⋯ KT03582  KT03482 KT03489  KT03514 KT03624  KT03650\n",
       "CXCL17 -0.28810 -0.8561 ⋯  1.13000  0.2683  0.38870  0.4622  1.22970  0.1744\n",
       "LTBP2   0.01800 -1.2736 ⋯  0.41200  0.7295  0.44940 -0.0053  1.87750 -0.3942\n",
       "EDA2R  -0.34140 -1.4173 ⋯  0.92540  1.3204  1.50730  1.0405  2.46450  0.6464\n",
       "WNT9A  -0.99050  0.0977 ⋯  0.76430  0.5957 -0.02130  0.5860  1.51420  0.5769\n",
       "SCARF2  0.25330 -1.4595 ⋯  0.41780  0.4777  1.13800  0.0179  2.08330 -0.1053\n",
       "GDF15  -0.31720 -1.1027 ⋯  1.29540  0.7963  0.60440  0.8631  2.18050  0.7267\n",
       "SOST   -0.36175 -0.5137 ⋯ -0.11245 -0.5649 -0.62755 -1.0169  1.03915 -0.1829\n",
       "WFDC2  -0.50260 -1.0138 ⋯  1.49990  1.5145  1.41770  0.6713  3.00690  1.3825\n",
       "ACTA2  -0.22385 -1.4853 ⋯  0.37695  1.1954  1.47835  0.4124  3.30935  0.9078\n",
       "NEFL    0.15110 -2.1177 ⋯  0.48300  1.6061  1.42720  1.5164  1.61240  0.9742\n",
       "CTSV    1.23240  0.8034 ⋯ -0.01040 -1.4396 -0.22280 -0.0194 -0.07120 -1.6554\n",
       "RET     0.63670 -0.3852 ⋯ -1.08950 -0.5242 -0.44520 -1.1349 -0.45250 -1.7340\n",
       "PROK1   1.79840  0.7289 ⋯  1.25960  0.4018  0.31150  0.4509  0.42890  0.7851\n",
       "PAEP   -0.24450  0.2455 ⋯  0.91250 -0.4180 -0.07390 -0.1994  0.25760  0.7315\n",
       "TNF     0.39370  0.0655 ⋯  0.21550  0.0021  0.08700 -0.1101  0.69370 -0.3284\n",
       "IL6     0.74110 -0.2856 ⋯  1.65850  0.5087  0.28340 -0.3032  1.24720  0.3726\n",
       "IL1B    1.26170  0.1018 ⋯  0.10380  0.0780 -0.21100 -1.2624 -0.90680  0.1401\n",
       "IFNG    0.19200  0.8148 ⋯  1.56840  3.1491 -1.90590  1.7670  0.60080 -0.3184\n",
       "CXCL9  -0.41960 -0.7043 ⋯  2.72980  1.6212  1.56210  2.8524  1.75790 -0.3742\n",
       "CXCL10 -0.19170  0.1873 ⋯  1.29370  1.1378  0.67930  0.6645  0.82780 -0.9615\n",
       "IL11    0.36410 -2.5527 ⋯ -0.60450 -1.4834  0.52440  0.4085  2.86500  0.3364\n",
       "TGFB1   0.47790 -0.4132 ⋯ -0.25260 -0.1612 -0.25180 -0.4110  0.17520 -0.6460\n",
       "       KT03833  KT03403  KT03373  KT03296\n",
       "CXCL17  1.04970  1.01020  0.33410  0.4814\n",
       "LTBP2   1.25230  1.48270  0.68450  1.6725\n",
       "EDA2R   0.96520  0.80590  1.56850  0.9950\n",
       "WNT9A   1.66090  0.82380  1.15200  1.7707\n",
       "SCARF2  1.09760  0.76430  0.45960  0.7160\n",
       "GDF15   1.00050  1.06800  0.43580  1.3993\n",
       "SOST    1.24625 -0.12855 -0.30545  0.1958\n",
       "WFDC2   1.27170  0.95440  1.29680  0.2388\n",
       "ACTA2   1.45185  0.77315  1.10355  1.1495\n",
       "NEFL    1.62810  0.38330  1.09100  0.6574\n",
       "CTSV   -0.57740  0.16080 -0.78240 -0.1063\n",
       "RET    -0.98100 -0.80500 -0.40800 -1.0892\n",
       "PROK1  -0.90610 -0.53630  0.80180 -0.7757\n",
       "PAEP   -0.22490  0.48110  0.66210 -0.6228\n",
       "TNF     0.02110  1.50600  0.99070 -1.6186\n",
       "IL6     0.68830  0.78080 -0.44210  1.9666\n",
       "IL1B    0.83400 -0.47750  0.83740 -0.9091\n",
       "IFNG    1.57780  1.73500  1.36010 -2.0497\n",
       "CXCL9   1.00080  1.26730  1.00550  0.0012\n",
       "CXCL10 -0.09560  1.53480  1.41940 -0.4221\n",
       "IL11   -0.19000  0.01800  0.48780  0.2383\n",
       "TGFB1   0.36370  0.29250  0.85250 -0.0951"
      ]
     },
     "metadata": {},
     "output_type": "display_data"
    }
   ],
   "source": [
    "df_input"
   ]
  },
  {
   "cell_type": "code",
   "execution_count": 168,
   "id": "a3f94413-0466-439f-b689-b4837f4459f2",
   "metadata": {},
   "outputs": [
    {
     "data": {
      "image/png": "[encoded data removed]",
      "text/plain": [
       "plot without title"
      ]
     },
     "metadata": {
      "image/png": {
       "height": 236.2205,
       "width": 283.4646
      }
     },
     "output_type": "display_data"
    }
   ],
   "source": [
    "options(repr.plot.width = 120/25.4, repr.plot.height =  100/25.4)\n",
    "\n",
    "p<-pheatmap(df_input, \n",
    "         breaks=breaks_sequence,\n",
    "         cluster_rows=FALSE, \n",
    "         annotation=annotation,         \n",
    "        fontsize = 6,\n",
    "         cluster_cols=TRUE,\n",
    "         gaps_row = c(10,14,18),\n",
    "         show_colnames=FALSE,color= cividis(100),\n",
    "         border_color=NA,\n",
    "         scale='row')\n",
    "p\n",
    "#save_pheatmap(p,'FigureG.pdf', width=200/25.4, height=80/25.4)"
   ]
  },
  {
   "cell_type": "code",
   "execution_count": null,
   "id": "f00f562a-25da-4a3d-88ec-730bbaf26541",
   "metadata": {},
   "outputs": [],
   "source": []
  },
  {
   "cell_type": "code",
   "execution_count": null,
   "id": "f880b9e9-fb27-463b-9c6e-180b6307879c",
   "metadata": {},
   "outputs": [],
   "source": []
  }
 ],
 "metadata": {
  "kernelspec": {
   "display_name": "R 4",
   "language": "R",
   "name": "ir4"
  },
  "language_info": {
   "codemirror_mode": "r",
   "file_extension": ".r",
   "mimetype": "text/x-r-source",
   "name": "R",
   "pygments_lexer": "r",
   "version": "4.3.2"
  }
 },
 "nbformat": 4,
 "nbformat_minor": 5
}
