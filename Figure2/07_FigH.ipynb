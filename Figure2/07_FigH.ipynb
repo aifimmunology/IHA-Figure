{
 "cells": [
  {
   "cell_type": "code",
   "execution_count": 7,
   "id": "10b5e5dc-78d8-42b5-8ef5-5e75bf455f12",
   "metadata": {
    "scrolled": true
   },
   "outputs": [
    {
     "name": "stderr",
     "output_type": "stream",
     "text": [
      "\n",
      "Attaching package: ‘patchwork’\n",
      "\n",
      "\n",
      "The following object is masked from ‘package:cowplot’:\n",
      "\n",
      "    align_plots\n",
      "\n",
      "\n"
     ]
    }
   ],
   "source": [
    "suppressPackageStartupMessages(library(dplyr))\n",
    "suppressPackageStartupMessages(library(tidyr))\n",
    "suppressPackageStartupMessages(library(tibble))\n",
    "suppressPackageStartupMessages(library(ggplot2))\n",
    "suppressPackageStartupMessages(library(stringr))\n",
    "library(grid)\n",
    "library('ggh4x')\n",
    "library(\"cowplot\")\n",
    "library(patchwork)"
   ]
  },
  {
   "cell_type": "code",
   "execution_count": 8,
   "id": "5fbedc84-c7da-4870-b102-8b1ea2cd7a65",
   "metadata": {},
   "outputs": [],
   "source": [
    "is_dark_color <- function(hex) {\n",
    "  rgb <- col2rgb(hex)\n",
    "  \n",
    "  luminance <- 0.299 * rgb[1,] + 0.587 * rgb[2,] + 0.114 * rgb[3,]\n",
    "  \n",
    "  if(luminance < 128){\n",
    "  \n",
    "  return('white')\n",
    "      \n",
    "  }else{return('black')}\n",
    "}"
   ]
  },
  {
   "cell_type": "markdown",
   "id": "2bbee14c-bbb7-4f50-8cc6-445bd8922e62",
   "metadata": {},
   "source": [
    "# Read color hex code for cell types"
   ]
  },
  {
   "cell_type": "code",
   "execution_count": 9,
   "id": "1f5cbc41-d165-42a5-a1ff-5a9cbc485ac9",
   "metadata": {},
   "outputs": [],
   "source": [
    "color_annotation<-read.csv('/home/jupyter/BRI_Figures_Final_V2/Color_hex_codes/Cell_Type_Color_Annotation_and_Order.csv')\n",
    "color_vector <- setNames(color_annotation$color, color_annotation$label)"
   ]
  },
  {
   "cell_type": "markdown",
   "id": "d577c8ad-b01f-4487-aafa-dcef868e5c74",
   "metadata": {},
   "source": [
    "# Read CompositeScore"
   ]
  },
  {
   "cell_type": "code",
   "execution_count": 10,
   "id": "98e6e8c4-d088-45bd-914f-cf91938ad1f9",
   "metadata": {},
   "outputs": [],
   "source": [
    "df<-read.csv('04_CompositeScore/BRI_CompositeScore_Down.csv')"
   ]
  },
  {
   "cell_type": "markdown",
   "id": "a89f0daf-57a5-42fb-a3b1-06d02b65722a",
   "metadata": {},
   "source": [
    "# Plotting"
   ]
  },
  {
   "cell_type": "code",
   "execution_count": 11,
   "id": "bd780a72-627b-4c8d-a685-0a9b4c6a7990",
   "metadata": {},
   "outputs": [],
   "source": [
    "celltype_order<-c(\"Core naive CD8 T cell\",\"CM CD8 T cell\",\"GZMK+ CD27+ EM CD8 T cell\",\"Naive CD4 Treg\",\n",
    "                 \"Core naive CD4 T cell\",\"CM CD4 T cell\",\"GZMB- CD27- EM CD4 T cell\",\"GZMB- CD27+ EM CD4 T cell\")\n",
    "df$celltype<-factor(df$celltype,levels=celltype_order)"
   ]
  },
  {
   "cell_type": "code",
   "execution_count": 12,
   "id": "c3fd1c8b-86f2-4277-83fd-4fbe50803db8",
   "metadata": {},
   "outputs": [],
   "source": [
    "df$`Age Group`=df$`AgeGroup`\n",
    "df$`Age Group`=factor(df$`Age Group`,level=c('Young','Older'))\n"
   ]
  },
  {
   "cell_type": "code",
   "execution_count": 13,
   "id": "3b750c1f-e614-45a7-804a-938759c69392",
   "metadata": {},
   "outputs": [
    {
     "name": "stderr",
     "output_type": "stream",
     "text": [
      "\u001b[1m\u001b[22m`geom_smooth()` using formula = 'y ~ x'\n",
      "\u001b[1m\u001b[22m`geom_smooth()` using formula = 'y ~ x'\n",
      "\u001b[1m\u001b[22m`geom_smooth()` using formula = 'y ~ x'\n",
      "\u001b[1m\u001b[22m`geom_smooth()` using formula = 'y ~ x'\n",
      "\u001b[1m\u001b[22m`geom_smooth()` using formula = 'y ~ x'\n",
      "\u001b[1m\u001b[22m`geom_smooth()` using formula = 'y ~ x'\n",
      "\u001b[1m\u001b[22m`geom_smooth()` using formula = 'y ~ x'\n",
      "\u001b[1m\u001b[22m`geom_smooth()` using formula = 'y ~ x'\n"
     ]
    }
   ],
   "source": [
    "plot_list<-list()\n",
    "for (selected_celltype in celltype_order){\n",
    "df_sub <- df %>% filter(celltype == selected_celltype)\n",
    "\n",
    "p1 <- ggplot(df_sub, aes(sample.daysSinceFirstVisit, composite_score_sum_scaled_mean, color = AgeGroup)) +\n",
    "geom_line(aes(group = interaction(`Age Group`, subject.subjectGuid)), \n",
    "              linewidth=0.1, \n",
    "              alpha=0.5,\n",
    "              linetype =1)+\n",
    "  ylab('') +\n",
    "  theme_bw(base_size = 8) +\n",
    "  theme(\n",
    "    axis.line = element_line(colour = \"black\"),\n",
    "    panel.grid.major = element_blank(),\n",
    "    panel.grid.minor = element_blank(),\n",
    "    panel.border = element_blank(),\n",
    "    panel.background = element_blank()\n",
    "  ) + \n",
    "  scale_color_manual(values = c(\"Older\" = '#bf812d', \"Young\" = '#35978f')) +\n",
    "  geom_smooth(method = \"lm\", se = TRUE, linewidth = 0.3) +\n",
    "  facet_wrap2(~celltype, axes = \"all\", remove_labels = \"all\", ncol = 1, scale = 'free_y') +\n",
    "  theme(\n",
    "    panel.grid.major = element_blank(),\n",
    "    panel.grid.minor = element_blank(),\n",
    "    strip.background = element_rect(fill = adjustcolor(color_vector[selected_celltype], alpha.f = 0.8), color = NA),\n",
    "    strip.text = element_text(color = is_dark_color(adjustcolor(color_vector[selected_celltype], alpha.f = 0.8)))\n",
    "  ) +\n",
    "  xlab('') +\n",
    "  theme(legend.position = \"none\")\n",
    "\n",
    "p2 <- ggplot(df_sub, aes(composite_score_sum_scaled_mean, fill = `Age Group`, color = `Age Group`)) +\n",
    "  geom_density(alpha = 0.5, linewidth = 0.5) +\n",
    "  scale_fill_manual(values = c(\"Older\" = '#bf812d', \"Young\" = '#35978f')) +\n",
    "  scale_color_manual(values = c(\"Older\" = '#bf812d', \"Young\" = '#35978f')) +\n",
    "  coord_flip() +\n",
    "  theme_void(base_size = 8) +\n",
    "  theme(legend.position = \"none\") +\n",
    "  theme(plot.margin = margin(0, 0, 0, -1, \"mm\"))\n",
    "\n",
    "combined_plot <- plot_grid(p1, p2, ncol = 2, rel_widths = c(10, 0.4), align = 'h', axis = 'tb')\n",
    "plot_list[[selected_celltype]]<-combined_plot\n",
    "}\n",
    "\n"
   ]
  },
  {
   "cell_type": "code",
   "execution_count": 15,
   "id": "6a82deb1-ebb1-4fa5-b405-e0611854e284",
   "metadata": {},
   "outputs": [
    {
     "data": {
      "image/png": "[encoded data removed]",
      "text/plain": [
       "plot without title"
      ]
     },
     "metadata": {
      "image/png": {
       "height": 70.8661,
       "width": 141.7323
      }
     },
     "output_type": "display_data"
    }
   ],
   "source": [
    "options(repr.plot.width = 60/25.4, repr.plot.height = 30/25.4)\n",
    "\n",
    "p<-plot_grid(plot_list[[1]],plot_list[[5]], \n",
    "             ncol = 2, rel_widths = c(10, 10), align = 'h', axis = 'tb')\n",
    "p\n",
    "ggsave('FigureH.pdf',p,width = 62/25.4,height = 30/25.4)"
   ]
  },
  {
   "cell_type": "code",
   "execution_count": null,
   "id": "5c0f77df-2cda-49d2-84b9-5c7cfd895574",
   "metadata": {},
   "outputs": [],
   "source": []
  }
 ],
 "metadata": {
  "kernelspec": {
   "display_name": "R 4",
   "language": "R",
   "name": "ir4"
  },
  "language_info": {
   "codemirror_mode": "r",
   "file_extension": ".r",
   "mimetype": "text/x-r-source",
   "name": "R",
   "pygments_lexer": "r",
   "version": "4.3.2"
  }
 },
 "nbformat": 4,
 "nbformat_minor": 5
}
