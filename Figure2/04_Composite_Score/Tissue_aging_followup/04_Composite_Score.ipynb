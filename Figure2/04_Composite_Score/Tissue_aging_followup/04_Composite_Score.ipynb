{
 "cells": [
  {
   "cell_type": "code",
   "execution_count": 72,
   "id": "d12b55e7-961a-49c6-b4f0-087f88e6b430",
   "metadata": {},
   "outputs": [],
   "source": [
    "suppressPackageStartupMessages(library(dplyr))\n",
    "suppressPackageStartupMessages(library(tidyr))\n",
    "suppressPackageStartupMessages(library(tibble))\n",
    "suppressPackageStartupMessages(library(ggplot2))\n",
    "suppressPackageStartupMessages(library(stringr))\n",
    "library(parallel)\n",
    "library(reshape2)\n",
    "library(ggrepel)\n",
    "library(ggh4x)\n",
    "library(broom)\n",
    "source('/home//workspace/private/bri_figure_all_files_test/jupyter//IHA-Figures_Final_V2/helper_function/helper_function_IHA.r')"
   ]
  },
  {
   "cell_type": "code",
   "execution_count": 73,
   "id": "035827de-70d4-4e31-9484-a78e7559c412",
   "metadata": {},
   "outputs": [],
   "source": [
    "deseq2_result_Y1D0<-read.csv('/home//workspace/private/bri_figure_all_files_test/jupyter/IHA_Figure_Revision_V1/Figure1/02_DEG/Deseq2_Result_Y1D0.csv')"
   ]
  },
  {
   "cell_type": "code",
   "execution_count": 74,
   "id": "6f9e0805-1913-4b9f-a4ca-1f828ead7f5b",
   "metadata": {},
   "outputs": [],
   "source": [
    "name_map <- c(\"naive thymus-derived CD4-positive, alpha-beta T cell\" = \"Core naive CD4 T cell\", \n",
    "              \"naive thymus-derived CD8-positive, alpha-beta T cell\" = \"Core naive CD8 T cell\",\n",
    "              \"central memory CD4-positive, alpha-beta T cell\" = \"CM CD4 T cell\", \n",
    "              \"central memory CD8-positive, alpha-beta T cell\" = \"CM CD8 T cell\")"
   ]
  },
  {
   "cell_type": "code",
   "execution_count": 75,
   "id": "38a2445a-fb57-4f5e-8609-369fc630d703",
   "metadata": {},
   "outputs": [],
   "source": [
    "convert_age <- function(age_str) {\n",
    "  nums <- as.numeric(unlist(regmatches(age_str, gregexpr(\"\\\\d+\", age_str))))\n",
    "  if (length(nums) == 1) {\n",
    "    return(nums)\n",
    "  } else {\n",
    "    return(median(nums))\n",
    "  }}\n",
    "read_pseudobulk_expression<-function (file_list, mc_cores = 60) \n",
    "{\n",
    "    total_time <- system.time({\n",
    "        df_list <- mclapply(file_list, function(x) {\n",
    "            df <- read.csv(x, check.names = FALSE)\n",
    "            rownames(df) <- make.unique(as.character(df[[1]]))\n",
    "            df <- df[, -1, drop = FALSE]\n",
    "            colnames(df) <- ifelse(colnames(df) %in% names(name_map),\n",
    "                         name_map[colnames(df)],\n",
    "                         colnames(df))\n",
    "            colnames(df) <- paste0(gsub(\"^.*/(.*)\\\\.csv$\", \"\\\\1\", \n",
    "                x), \":\", colnames(df))\n",
    "            return(df)\n",
    "        }, mc.cores = mc_cores)\n",
    "    })\n",
    "    print(paste(\"Total reading time:\", total_time[\"elapsed\"], \n",
    "        \"seconds\"))\n",
    "    if (length(df_list) == length(file_list)) {\n",
    "        print(\"The length of the list matches the length of the input path.\")\n",
    "    }\n",
    "    else {\n",
    "        warning(\"The length of the list does not match the length of the input path.\")\n",
    "    }\n",
    "    return(df_list)\n",
    "}\n",
    "is_dark_color <- function(hex) {\n",
    "  rgb <- col2rgb(hex)\n",
    "  \n",
    "  luminance <- 0.299 * rgb[1,] + 0.587 * rgb[2,] + 0.114 * rgb[3,]\n",
    "  \n",
    "  if(luminance < 128){\n",
    "  \n",
    "  return('white')\n",
    "      \n",
    "  }else{return('black')}\n",
    "}"
   ]
  },
  {
   "cell_type": "code",
   "execution_count": 76,
   "id": "80d89d7a-0324-40dd-a976-a1be6b03c174",
   "metadata": {},
   "outputs": [],
   "source": [
    "color_annotation<-read.csv('/home//workspace/private/bri_figure_all_files_test/jupyter//IHA-Figures_Final_V2/Color_hex_codes/Cell_Type_Color_Annotation_and_Order.csv')\n",
    "color_annotation$label<-gsub(\" cell\",'',color_annotation$label)\n",
    "color_vector <- setNames(color_annotation$color, color_annotation$label)"
   ]
  },
  {
   "cell_type": "code",
   "execution_count": 77,
   "id": "e934b0b2-d289-4ea5-9e88-a41aff1aa08d",
   "metadata": {},
   "outputs": [],
   "source": [
    "meta_data=read.csv(\"meta_data.csv\")"
   ]
  },
  {
   "cell_type": "code",
   "execution_count": 78,
   "id": "6139c6d8-555e-4005-9f80-1f90471e02ea",
   "metadata": {},
   "outputs": [],
   "source": [
    "meta_data<-meta_data%>% filter(assay==\"10x 5' v2\")"
   ]
  },
  {
   "cell_type": "code",
   "execution_count": 79,
   "id": "deccf6d8-e98d-41e1-8238-cd8960dc39fa",
   "metadata": {},
   "outputs": [
    {
     "data": {
      "text/plain": [
       "\n",
       "                            blood                       bone marrow \n",
       "                               17                                18 \n",
       "               colonic epithelium           epithelial lining fluid \n",
       "                                1                                 9 \n",
       "              inguinal lymph node                jejunal epithelium \n",
       "                                9                                17 \n",
       "           jejunum lamina propria lamina propria of mucosa of colon \n",
       "                               19                                 1 \n",
       "                            liver                              lung \n",
       "                                3                                17 \n",
       "            mesenteric lymph node                      skin of body \n",
       "                               21                                 8 \n",
       "                           spleen               thoracic lymph node \n",
       "                               20                                21 "
      ]
     },
     "metadata": {},
     "output_type": "display_data"
    }
   ],
   "source": [
    "table(meta_data$tissue)"
   ]
  },
  {
   "cell_type": "code",
   "execution_count": null,
   "id": "98f0e6aa-beb0-46f7-84f2-2497a335f1ad",
   "metadata": {},
   "outputs": [],
   "source": []
  },
  {
   "cell_type": "markdown",
   "id": "a02ab170-b4c4-49a8-91a3-d5fa092d70b3",
   "metadata": {},
   "source": [
    "# Thoracic Lymph Node"
   ]
  },
  {
   "cell_type": "code",
   "execution_count": 116,
   "id": "6a2945d4-b264-4a0d-b919-5ac00ac4877d",
   "metadata": {},
   "outputs": [],
   "source": [
    "meta_data_subset<-meta_data %>% filter(tissue==\"thoracic lymph node\",assay==\"10x 5' v2\")"
   ]
  },
  {
   "cell_type": "code",
   "execution_count": 117,
   "id": "98c514bd-6539-4d27-99ff-b9c488da430f",
   "metadata": {},
   "outputs": [
    {
     "data": {
      "text/html": [
       "<style>\n",
       ".list-inline {list-style: none; margin:0; padding: 0}\n",
       ".list-inline>li {display: inline-block}\n",
       ".list-inline>li:not(:last-child)::after {content: \"\\00b7\"; padding: 0 .5ex}\n",
       "</style>\n",
       "<ol class=list-inline><li>21</li><li>12</li></ol>\n"
      ],
      "text/latex": [
       "\\begin{enumerate*}\n",
       "\\item 21\n",
       "\\item 12\n",
       "\\end{enumerate*}\n"
      ],
      "text/markdown": [
       "1. 21\n",
       "2. 12\n",
       "\n",
       "\n"
      ],
      "text/plain": [
       "[1] 21 12"
      ]
     },
     "metadata": {},
     "output_type": "display_data"
    }
   ],
   "source": [
    "dim(meta_data_subset)"
   ]
  },
  {
   "cell_type": "code",
   "execution_count": 118,
   "id": "d71cdbfb-fab7-4d62-83d1-e61d84240bcc",
   "metadata": {},
   "outputs": [],
   "source": [
    "meta_data_subset$numeric_ages <- sapply(meta_data_subset$age, convert_age)\n"
   ]
  },
  {
   "cell_type": "code",
   "execution_count": 119,
   "id": "3574f786-1c32-4f5d-a475-1dcbfafd46e5",
   "metadata": {},
   "outputs": [],
   "source": [
    "meta_data_subset$pbmc_sample_id<-meta_data_subset$sample_id"
   ]
  },
  {
   "cell_type": "code",
   "execution_count": 120,
   "id": "e743090d-f4b1-4e29-a3e1-01bd709f39b8",
   "metadata": {},
   "outputs": [],
   "source": [
    "file_list<-paste0(\"sample_normalized_count_average/\", meta_data_subset$pbmc_sample_id, \".csv\")"
   ]
  },
  {
   "cell_type": "code",
   "execution_count": 121,
   "id": "35df03f9-007d-4146-bb16-9d71d146c74c",
   "metadata": {},
   "outputs": [
    {
     "name": "stdout",
     "output_type": "stream",
     "text": [
      "[1] \"Total reading time: 1.50999999999999 seconds\"\n",
      "[1] \"The length of the list matches the length of the input path.\"\n"
     ]
    }
   ],
   "source": [
    "df_list<-read_pseudobulk_expression(file_list,\n",
    "                                    mc_cores = 10)"
   ]
  },
  {
   "cell_type": "code",
   "execution_count": null,
   "id": "9fea4497-e832-443e-baa7-8ad9aa48b8ce",
   "metadata": {},
   "outputs": [],
   "source": []
  },
  {
   "cell_type": "code",
   "execution_count": 122,
   "id": "4ecab7d4-99bc-40a8-b492-69dd7bb6c906",
   "metadata": {},
   "outputs": [],
   "source": [
    "# filter significant genes \n",
    "deseq2_result_Y1D0_AgeGroup_sig<-deseq2_result_Y1D0 %>% \n",
    "  filter(contrast == \"cohort.cohortGuid\") %>%\n",
    "  filter(padj < 0.05, \n",
    "         abs(log2FoldChange) > 0.1)"
   ]
  },
  {
   "cell_type": "code",
   "execution_count": 123,
   "id": "a24ed717-53eb-4e3c-932a-985818c8cbd5",
   "metadata": {},
   "outputs": [],
   "source": [
    "df_degs_counts<-as.data.frame(table(deseq2_result_Y1D0_AgeGroup_sig$celltype,\n",
    "                                    deseq2_result_Y1D0_AgeGroup_sig$Direction))"
   ]
  },
  {
   "cell_type": "code",
   "execution_count": 124,
   "id": "9a813984-4007-41d4-bcf6-c122133f62dd",
   "metadata": {},
   "outputs": [],
   "source": [
    "df_degs_counts_filtered<-df_degs_counts %>% filter(Var2==\"HigherInBR2\") %>% arrange(Var1)   %>% filter(Freq>20)"
   ]
  },
  {
   "cell_type": "code",
   "execution_count": 125,
   "id": "4918a255-0bd2-4f09-abca-6830cd5ffb8a",
   "metadata": {},
   "outputs": [],
   "source": [
    "celltype_list<- c( \"Core naive CD4 T cell\", \"Core naive CD8 T cell\",\n",
    "                             \"CM CD4 T cell\", \"CM CD8 T cell\")"
   ]
  },
  {
   "cell_type": "code",
   "execution_count": null,
   "id": "39feb5f0-38d5-4927-b05f-f9ed48a56479",
   "metadata": {},
   "outputs": [],
   "source": []
  },
  {
   "cell_type": "code",
   "execution_count": 126,
   "id": "27e35b91-6d6a-4a5e-aedb-1c336fc5102b",
   "metadata": {},
   "outputs": [
    {
     "name": "stdout",
     "output_type": "stream",
     "text": [
      "[1] 100\n",
      "[1] 99\n",
      "[1] 100\n",
      "[1] 99\n",
      "[1] 100\n",
      "[1] 98\n",
      "[1] 82\n",
      "[1] 77\n"
     ]
    }
   ],
   "source": [
    "for (celltype_single in celltype_list){\n",
    "\n",
    "\n",
    "    top_n <- 100\n",
    "    Direction_of_DEG <- \"HigherInBR2\"\n",
    "    \n",
    "    selected_genes <- deseq2_result_Y1D0_AgeGroup_sig %>%\n",
    "        filter(celltype == celltype_single, Direction == Direction_of_DEG) %>%\n",
    "        arrange(padj, desc(abs(log2FoldChange))) %>% \n",
    "        slice_head(n = top_n) %>%\n",
    "        select(gene) %>%\n",
    "        pull()\n",
    "\n",
    "    print(length(selected_genes))\n",
    "\n",
    "    selected_genes<-intersect(selected_genes,rownames(df_list[[1]]))\n",
    "    print(length(selected_genes))\n",
    "}"
   ]
  },
  {
   "cell_type": "code",
   "execution_count": 127,
   "id": "ac4363ed-b90c-4f22-ad36-58a7fa678b81",
   "metadata": {},
   "outputs": [],
   "source": [
    "score_df_list <- mclapply(celltype_list, function(celltype_single) {\n",
    "    top_n <- 100\n",
    "    Direction_of_DEG <- \"HigherInBR2\"\n",
    "    \n",
    "    selected_genes <- deseq2_result_Y1D0_AgeGroup_sig %>%\n",
    "        filter(celltype == celltype_single, Direction == Direction_of_DEG) %>%\n",
    "        arrange(padj, desc(abs(log2FoldChange))) %>% \n",
    "        slice_head(n = top_n) %>%\n",
    "        select(gene) %>%\n",
    "        pull()\n",
    "    selected_genes<-intersect(selected_genes,rownames(df_list[[1]]))\n",
    "    print(length(selected_genes))\n",
    "    long_format <- filter_genes_and_celltype(df_list, selected_genes, celltype_single, longformat = TRUE) %>%\n",
    "        left_join(meta_data_subset) %>%\n",
    "        filter(!is.na(Mean_Expression)) %>%\n",
    "        group_by(Gene) %>%\n",
    "        mutate(Z_score_Mean_Expression = scale(Mean_Expression)) %>%\n",
    "        ungroup()\n",
    "    \n",
    "    composite_score_df <- long_format %>%\n",
    "        group_by(pbmc_sample_id) %>%\n",
    "        summarise(\n",
    "            composite_score_sum_mean = sum(Mean_Expression, na.rm = TRUE),\n",
    "            composite_score_sum_scaled_mean = sum(Z_score_Mean_Expression, na.rm = TRUE)\n",
    "        ) %>%\n",
    "        left_join(meta_data_subset) %>%\n",
    "        mutate(celltype = celltype_single) %>%\n",
    "        as.data.frame()\n",
    "    \n",
    "    return(composite_score_df)\n",
    "}, mc.cores = 10)\n"
   ]
  },
  {
   "cell_type": "code",
   "execution_count": 128,
   "id": "378d612c-f604-49fd-bee9-6b0d28ecb905",
   "metadata": {},
   "outputs": [],
   "source": [
    "composite_score_df_all<-do.call(rbind,score_df_list)"
   ]
  },
  {
   "cell_type": "code",
   "execution_count": 129,
   "id": "2c8c0ecf-9350-4b84-9977-0c383c7ac367",
   "metadata": {},
   "outputs": [
    {
     "data": {
      "text/html": [
       "<style>\n",
       ".list-inline {list-style: none; margin:0; padding: 0}\n",
       ".list-inline>li {display: inline-block}\n",
       ".list-inline>li:not(:last-child)::after {content: \"\\00b7\"; padding: 0 .5ex}\n",
       "</style>\n",
       "<ol class=list-inline><li>'pbmc_sample_id'</li><li>'composite_score_sum_mean'</li><li>'composite_score_sum_scaled_mean'</li><li>'X'</li><li>'sample_id'</li><li>'donor_id'</li><li>'tissue'</li><li>'assay'</li><li>'age'</li><li>'development_stage_ontology_term_id'</li><li>'disease'</li><li>'organism'</li><li>'sex'</li><li>'self_reported_ethnicity'</li><li>'development_stage'</li><li>'numeric_ages'</li><li>'celltype'</li></ol>\n"
      ],
      "text/latex": [
       "\\begin{enumerate*}\n",
       "\\item 'pbmc\\_sample\\_id'\n",
       "\\item 'composite\\_score\\_sum\\_mean'\n",
       "\\item 'composite\\_score\\_sum\\_scaled\\_mean'\n",
       "\\item 'X'\n",
       "\\item 'sample\\_id'\n",
       "\\item 'donor\\_id'\n",
       "\\item 'tissue'\n",
       "\\item 'assay'\n",
       "\\item 'age'\n",
       "\\item 'development\\_stage\\_ontology\\_term\\_id'\n",
       "\\item 'disease'\n",
       "\\item 'organism'\n",
       "\\item 'sex'\n",
       "\\item 'self\\_reported\\_ethnicity'\n",
       "\\item 'development\\_stage'\n",
       "\\item 'numeric\\_ages'\n",
       "\\item 'celltype'\n",
       "\\end{enumerate*}\n"
      ],
      "text/markdown": [
       "1. 'pbmc_sample_id'\n",
       "2. 'composite_score_sum_mean'\n",
       "3. 'composite_score_sum_scaled_mean'\n",
       "4. 'X'\n",
       "5. 'sample_id'\n",
       "6. 'donor_id'\n",
       "7. 'tissue'\n",
       "8. 'assay'\n",
       "9. 'age'\n",
       "10. 'development_stage_ontology_term_id'\n",
       "11. 'disease'\n",
       "12. 'organism'\n",
       "13. 'sex'\n",
       "14. 'self_reported_ethnicity'\n",
       "15. 'development_stage'\n",
       "16. 'numeric_ages'\n",
       "17. 'celltype'\n",
       "\n",
       "\n"
      ],
      "text/plain": [
       " [1] \"pbmc_sample_id\"                     \"composite_score_sum_mean\"          \n",
       " [3] \"composite_score_sum_scaled_mean\"    \"X\"                                 \n",
       " [5] \"sample_id\"                          \"donor_id\"                          \n",
       " [7] \"tissue\"                             \"assay\"                             \n",
       " [9] \"age\"                                \"development_stage_ontology_term_id\"\n",
       "[11] \"disease\"                            \"organism\"                          \n",
       "[13] \"sex\"                                \"self_reported_ethnicity\"           \n",
       "[15] \"development_stage\"                  \"numeric_ages\"                      \n",
       "[17] \"celltype\"                          "
      ]
     },
     "metadata": {},
     "output_type": "display_data"
    }
   ],
   "source": [
    "colnames(composite_score_df_all)"
   ]
  },
  {
   "cell_type": "code",
   "execution_count": 130,
   "id": "15f69fa6-3e51-4a01-a3fc-4940dce154f3",
   "metadata": {},
   "outputs": [],
   "source": []
  },
  {
   "cell_type": "code",
   "execution_count": 135,
   "id": "832e0ab4-fd04-41a2-8618-88f2a05d1384",
   "metadata": {},
   "outputs": [],
   "source": [
    "composite_score_df_all$Ages<-composite_score_df_all$numeric_ages"
   ]
  },
  {
   "cell_type": "code",
   "execution_count": 136,
   "id": "162be94f-98f2-44c5-bd85-f2a179ba1e62",
   "metadata": {},
   "outputs": [],
   "source": [
    "composite_score_df_all$Dataset<-\"thoracic lymph node\""
   ]
  },
  {
   "cell_type": "code",
   "execution_count": 137,
   "id": "c3f4d73a-b4dd-4dfe-a280-42fb39f0a280",
   "metadata": {},
   "outputs": [],
   "source": [
    "write.csv(composite_score_df_all,\"thoracic_lymph_node.csv\")"
   ]
  },
  {
   "cell_type": "markdown",
   "id": "753bf3c5-c0c4-431c-aaa8-e153d3531e82",
   "metadata": {},
   "source": [
    "# mesenteric lymph node"
   ]
  },
  {
   "cell_type": "code",
   "execution_count": 139,
   "id": "ba5a3cf5-0f29-454d-95a2-eec8bf263aee",
   "metadata": {},
   "outputs": [],
   "source": [
    "meta_data_subset<-meta_data %>% filter(tissue==\"mesenteric lymph node\",assay==\"10x 5' v2\")"
   ]
  },
  {
   "cell_type": "code",
   "execution_count": 140,
   "id": "7829fe98-b91e-476a-a790-385169ee5138",
   "metadata": {},
   "outputs": [
    {
     "data": {
      "text/html": [
       "<style>\n",
       ".list-inline {list-style: none; margin:0; padding: 0}\n",
       ".list-inline>li {display: inline-block}\n",
       ".list-inline>li:not(:last-child)::after {content: \"\\00b7\"; padding: 0 .5ex}\n",
       "</style>\n",
       "<ol class=list-inline><li>21</li><li>12</li></ol>\n"
      ],
      "text/latex": [
       "\\begin{enumerate*}\n",
       "\\item 21\n",
       "\\item 12\n",
       "\\end{enumerate*}\n"
      ],
      "text/markdown": [
       "1. 21\n",
       "2. 12\n",
       "\n",
       "\n"
      ],
      "text/plain": [
       "[1] 21 12"
      ]
     },
     "metadata": {},
     "output_type": "display_data"
    }
   ],
   "source": [
    "dim(meta_data_subset)"
   ]
  },
  {
   "cell_type": "code",
   "execution_count": 141,
   "id": "d1224daa-9b50-496c-96f2-8bc5d933a363",
   "metadata": {},
   "outputs": [],
   "source": [
    "meta_data_subset$numeric_ages <- sapply(meta_data_subset$age, convert_age)\n"
   ]
  },
  {
   "cell_type": "code",
   "execution_count": 142,
   "id": "b12c2ac6-7aad-4106-988f-ad37edec3475",
   "metadata": {},
   "outputs": [],
   "source": [
    "meta_data_subset$pbmc_sample_id<-meta_data_subset$sample_id"
   ]
  },
  {
   "cell_type": "code",
   "execution_count": 143,
   "id": "6653fa62-c440-4fd9-b89a-3c7493581a59",
   "metadata": {},
   "outputs": [],
   "source": [
    "file_list<-paste0(\"sample_normalized_count_average/\", meta_data_subset$pbmc_sample_id, \".csv\")"
   ]
  },
  {
   "cell_type": "code",
   "execution_count": 144,
   "id": "5bbf61ef-4407-484d-a058-e933872a37ce",
   "metadata": {
    "scrolled": true
   },
   "outputs": [
    {
     "name": "stdout",
     "output_type": "stream",
     "text": [
      "[1] \"Total reading time: 1.35500000000002 seconds\"\n",
      "[1] \"The length of the list matches the length of the input path.\"\n"
     ]
    }
   ],
   "source": [
    "df_list<-read_pseudobulk_expression(file_list,\n",
    "                                    mc_cores = 10)"
   ]
  },
  {
   "cell_type": "code",
   "execution_count": null,
   "id": "ed9ed20f-389f-46d1-99bf-7f91f9cb5912",
   "metadata": {},
   "outputs": [],
   "source": []
  },
  {
   "cell_type": "code",
   "execution_count": 145,
   "id": "f19cd9c4-1c83-42a4-85c6-e33fe3f49093",
   "metadata": {},
   "outputs": [],
   "source": [
    "# filter significant genes \n",
    "deseq2_result_Y1D0_AgeGroup_sig<-deseq2_result_Y1D0 %>% \n",
    "  filter(contrast == \"cohort.cohortGuid\") %>%\n",
    "  filter(padj < 0.05, \n",
    "         abs(log2FoldChange) > 0.1)"
   ]
  },
  {
   "cell_type": "code",
   "execution_count": 146,
   "id": "7293d140-eb00-4782-8a1c-65083eba7714",
   "metadata": {},
   "outputs": [],
   "source": [
    "df_degs_counts<-as.data.frame(table(deseq2_result_Y1D0_AgeGroup_sig$celltype,\n",
    "                                    deseq2_result_Y1D0_AgeGroup_sig$Direction))"
   ]
  },
  {
   "cell_type": "code",
   "execution_count": 147,
   "id": "0add3e15-95b8-4cb9-aa8a-67be619c5933",
   "metadata": {},
   "outputs": [],
   "source": [
    "df_degs_counts_filtered<-df_degs_counts %>% filter(Var2==\"HigherInBR2\") %>% arrange(Var1)   %>% filter(Freq>20)"
   ]
  },
  {
   "cell_type": "code",
   "execution_count": 148,
   "id": "8172a121-e47f-471f-a834-99979547d606",
   "metadata": {},
   "outputs": [],
   "source": [
    "celltype_list<- c( \"Core naive CD4 T cell\", \"Core naive CD8 T cell\",\"CM CD4 T cell\", \"CM CD8 T cell\")"
   ]
  },
  {
   "cell_type": "code",
   "execution_count": null,
   "id": "485f2a61-8259-425c-87d0-b2211e9727ce",
   "metadata": {},
   "outputs": [],
   "source": []
  },
  {
   "cell_type": "code",
   "execution_count": 149,
   "id": "ce6a592f-d52f-432f-9074-3a2022388e44",
   "metadata": {},
   "outputs": [
    {
     "name": "stdout",
     "output_type": "stream",
     "text": [
      "[1] 100\n",
      "[1] 99\n",
      "[1] 100\n",
      "[1] 99\n",
      "[1] 100\n",
      "[1] 98\n",
      "[1] 82\n",
      "[1] 77\n"
     ]
    }
   ],
   "source": [
    "for (celltype_single in celltype_list){\n",
    "\n",
    "\n",
    "    top_n <- 100\n",
    "    Direction_of_DEG <- \"HigherInBR2\"\n",
    "    \n",
    "    selected_genes <- deseq2_result_Y1D0_AgeGroup_sig %>%\n",
    "        filter(celltype == celltype_single, Direction == Direction_of_DEG) %>%\n",
    "        arrange(padj, desc(abs(log2FoldChange))) %>% \n",
    "        slice_head(n = top_n) %>%\n",
    "        select(gene) %>%\n",
    "        pull()\n",
    "\n",
    "    print(length(selected_genes))\n",
    "\n",
    "    selected_genes<-intersect(selected_genes,rownames(df_list[[1]]))\n",
    "    print(length(selected_genes))\n",
    "}"
   ]
  },
  {
   "cell_type": "code",
   "execution_count": 150,
   "id": "9db747d8-898f-497f-b0c9-97443387f70b",
   "metadata": {},
   "outputs": [],
   "source": [
    "score_df_list <- mclapply(celltype_list, function(celltype_single) {\n",
    "    top_n <- 100\n",
    "    Direction_of_DEG <- \"HigherInBR2\"\n",
    "    \n",
    "    selected_genes <- deseq2_result_Y1D0_AgeGroup_sig %>%\n",
    "        filter(celltype == celltype_single, Direction == Direction_of_DEG) %>%\n",
    "        arrange(padj, desc(abs(log2FoldChange))) %>% \n",
    "        slice_head(n = top_n) %>%\n",
    "        select(gene) %>%\n",
    "        pull()\n",
    "    selected_genes<-intersect(selected_genes,rownames(df_list[[1]]))\n",
    "    print(length(selected_genes))\n",
    "    long_format <- filter_genes_and_celltype(df_list, selected_genes, celltype_single, longformat = TRUE) %>%\n",
    "        left_join(meta_data_subset) %>%\n",
    "        filter(!is.na(Mean_Expression)) %>%\n",
    "        group_by(Gene) %>%\n",
    "        mutate(Z_score_Mean_Expression = scale(Mean_Expression)) %>%\n",
    "        ungroup()\n",
    "    \n",
    "    composite_score_df <- long_format %>%\n",
    "        group_by(pbmc_sample_id) %>%\n",
    "        summarise(\n",
    "            composite_score_sum_mean = sum(Mean_Expression, na.rm = TRUE),\n",
    "            composite_score_sum_scaled_mean = sum(Z_score_Mean_Expression, na.rm = TRUE)\n",
    "        ) %>%\n",
    "        left_join(meta_data_subset) %>%\n",
    "        mutate(celltype = celltype_single) %>%\n",
    "        as.data.frame()\n",
    "    \n",
    "    return(composite_score_df)\n",
    "}, mc.cores = 10)\n"
   ]
  },
  {
   "cell_type": "code",
   "execution_count": 151,
   "id": "7e65de97-3175-4b75-ad49-80b3b10ed757",
   "metadata": {},
   "outputs": [],
   "source": [
    "composite_score_df_all<-do.call(rbind,score_df_list)"
   ]
  },
  {
   "cell_type": "code",
   "execution_count": 153,
   "id": "70e6d555-7e1d-4b2b-85c0-e01e80ed4a21",
   "metadata": {},
   "outputs": [],
   "source": [
    "composite_score_df_all$Ages<-composite_score_df_all$numeric_ages"
   ]
  },
  {
   "cell_type": "code",
   "execution_count": 154,
   "id": "e6969c27-d095-4242-930a-ba38170a92cf",
   "metadata": {},
   "outputs": [],
   "source": [
    "composite_score_df_all$Dataset<-\"mesenteric lymph node\""
   ]
  },
  {
   "cell_type": "code",
   "execution_count": 155,
   "id": "6ff71568-e46d-4361-8518-2c5cc3420623",
   "metadata": {},
   "outputs": [],
   "source": [
    "write.csv(composite_score_df_all,\"mesenteric_lymph_node.csv\")"
   ]
  },
  {
   "cell_type": "code",
   "execution_count": null,
   "id": "39715388-8681-46c9-9e89-4fdc13a1d79b",
   "metadata": {},
   "outputs": [],
   "source": []
  }
 ],
 "metadata": {
  "kernelspec": {
   "display_name": "R_BRI_Figures",
   "language": "R",
   "name": "r_bri_figures"
  },
  "language_info": {
   "codemirror_mode": "r",
   "file_extension": ".r",
   "mimetype": "text/x-r-source",
   "name": "R",
   "pygments_lexer": "r",
   "version": "4.3.2"
  }
 },
 "nbformat": 4,
 "nbformat_minor": 5
}
