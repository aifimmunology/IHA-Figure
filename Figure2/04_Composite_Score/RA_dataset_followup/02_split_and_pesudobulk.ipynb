{
 "cells": [
  {
   "cell_type": "code",
   "execution_count": 2,
   "id": "d05097c8-848b-4bff-af9a-d9e7657cdd62",
   "metadata": {},
   "outputs": [
    {
     "name": "stderr",
     "output_type": "stream",
     "text": [
      "/home/workspace/Aux_Envir/Python_BRI_Figures/lib/python3.11/site-packages/anndata/utils.py:429: FutureWarning: Importing read_csv from `anndata` is deprecated. Import anndata.io.read_csv instead.\n",
      "  warnings.warn(msg, FutureWarning)\n",
      "/home/workspace/Aux_Envir/Python_BRI_Figures/lib/python3.11/site-packages/anndata/utils.py:429: FutureWarning: Importing read_excel from `anndata` is deprecated. Import anndata.io.read_excel instead.\n",
      "  warnings.warn(msg, FutureWarning)\n",
      "/home/workspace/Aux_Envir/Python_BRI_Figures/lib/python3.11/site-packages/anndata/utils.py:429: FutureWarning: Importing read_hdf from `anndata` is deprecated. Import anndata.io.read_hdf instead.\n",
      "  warnings.warn(msg, FutureWarning)\n",
      "/home/workspace/Aux_Envir/Python_BRI_Figures/lib/python3.11/site-packages/anndata/utils.py:429: FutureWarning: Importing read_loom from `anndata` is deprecated. Import anndata.io.read_loom instead.\n",
      "  warnings.warn(msg, FutureWarning)\n",
      "/home/workspace/Aux_Envir/Python_BRI_Figures/lib/python3.11/site-packages/anndata/utils.py:429: FutureWarning: Importing read_mtx from `anndata` is deprecated. Import anndata.io.read_mtx instead.\n",
      "  warnings.warn(msg, FutureWarning)\n",
      "/home/workspace/Aux_Envir/Python_BRI_Figures/lib/python3.11/site-packages/anndata/utils.py:429: FutureWarning: Importing read_text from `anndata` is deprecated. Import anndata.io.read_text instead.\n",
      "  warnings.warn(msg, FutureWarning)\n",
      "/home/workspace/Aux_Envir/Python_BRI_Figures/lib/python3.11/site-packages/anndata/utils.py:429: FutureWarning: Importing read_umi_tools from `anndata` is deprecated. Import anndata.io.read_umi_tools instead.\n",
      "  warnings.warn(msg, FutureWarning)\n"
     ]
    }
   ],
   "source": [
    "import scanpy as sc\n",
    "import pandas as pd \n",
    "import numpy as np\n",
    "import sys\n",
    "import matplotlib.pyplot as plt\n",
    "import gc\n",
    "import anndata\n",
    "import glob\n",
    "from multiprocessing import Pool\n",
    "import os\n",
    "from sklearn import metrics\n",
    "from tqdm import tqdm\n",
    "from concurrent.futures import ProcessPoolExecutor\n",
    "import os\n",
    "import warnings\n",
    "warnings.filterwarnings(\"ignore\")"
   ]
  },
  {
   "cell_type": "code",
   "execution_count": 3,
   "id": "9783b3e3-c217-4384-81f0-ccbe57ebb487",
   "metadata": {},
   "outputs": [],
   "source": [
    "def grouped_obs_sum_raw(adata_filt, group_key, layer=None, gene_symbols=None):\n",
    "    if layer is not None:\n",
    "        getX = lambda x: x.layers[layer]\n",
    "    else:\n",
    "        getX = lambda x: x.X\n",
    "    if gene_symbols is not None:\n",
    "        idx = adata_filt.var_names.isin(gene_symbols)\n",
    "        new_idx = adata_filt.var_names[idx]\n",
    "    else:\n",
    "        new_idx = adata_filt.var_names\n",
    "    grouped = adata_filt.obs.groupby(group_key)\n",
    "    out = pd.DataFrame(\n",
    "        np.zeros((len(new_idx), len(grouped)), dtype=np.float64),\n",
    "        columns=list(grouped.groups.keys()),\n",
    "        index=new_idx\n",
    "    )\n",
    "    for group, idx in grouped.indices.items():\n",
    "        X = getX(adata_filt[idx])\n",
    "        out[group] = np.ravel(X.sum(axis=0, dtype=np.float64))\n",
    "    return out\n",
    "\n",
    "def grouped_obs_mean(adata_filt, group_key, layer=None, gene_symbols=None):\n",
    "    if layer is not None:\n",
    "        getX = lambda x: x.layers[layer]\n",
    "    else:\n",
    "        getX = lambda x: x.X\n",
    "    if gene_symbols is not None:\n",
    "        idx = adata_filt.var_names.isin(gene_symbols)\n",
    "        new_idx = adata_filt.var_names[idx]\n",
    "    else:\n",
    "        new_idx = adata_filt.var_names\n",
    "    grouped = adata_filt.obs.groupby(group_key)\n",
    "    out = pd.DataFrame(\n",
    "        np.zeros((len(new_idx), len(grouped)), dtype=np.float64),\n",
    "        columns=list(grouped.groups.keys()),\n",
    "        index=new_idx\n",
    "    )\n",
    "    for group, idx in grouped.indices.items():\n",
    "        X = getX(adata_filt[idx])\n",
    "        out[group] = np.ravel(X.mean(axis=0, dtype=np.float64))\n",
    "    return out"
   ]
  },
  {
   "cell_type": "code",
   "execution_count": 4,
   "id": "9cdf5062-1597-422b-94db-e6deeffc9417",
   "metadata": {},
   "outputs": [],
   "source": [
    "adata=sc.read_h5ad(\"ALTRA_certPro_scRNA_141_samples_combined_adata.h5ad\")"
   ]
  },
  {
   "cell_type": "code",
   "execution_count": 5,
   "id": "5a9d8ac4-bb6e-4559-a600-96f43d6212e4",
   "metadata": {},
   "outputs": [
    {
     "data": {
      "text/plain": [
       "AnnData object with n_obs × n_vars = 2059581 × 33538\n",
       "    obs: 'barcodes', 'batch_id', 'cell_name', 'cell_uuid', 'chip_id', 'hto_barcode', 'hto_category', 'n_genes', 'n_mito_umis', 'n_reads', 'n_umis', 'original_barcodes', 'pbmc_sample_id', 'pool_id', 'well_id', 'sample.sampleKitGuid', 'cohort.cohortGuid', 'subject.subjectGuid', 'subject.biologicalSex', 'subject.race', 'subject.ethnicity', 'subject.birthYear', 'sample.visitName', 'sample.drawDate', 'sample.diseaseStatesRecordedAtVisit', 'sample.daysSinceFirstVisit', 'file.id', 'subset_grp', 'predicted_doublet', 'doublet_score', 'AIFI_L1', 'AIFI_L1_score', 'AIFI_L2', 'AIFI_L2_score', 'AIFI_L3', 'AIFI_L3_score', 'n_genes_by_counts', 'log1p_n_genes_by_counts', 'total_counts', 'log1p_total_counts', 'pct_counts_in_top_50_genes', 'pct_counts_in_top_100_genes', 'pct_counts_in_top_200_genes', 'pct_counts_in_top_500_genes', 'total_counts_mito', 'log1p_total_counts_mito', 'pct_counts_mito', 'leiden_harmony_2', 'doublets_manual', 'AIFI_L3_new', 'Status_Xsec', 'Status_Long', 'anti_ccp3_finalCombined', 'days_to_conversion', 'BMI', 'CMV_Status_Subj', 'age_conv', 'bmi_conv', 'file.batchID', 'status'\n",
       "    obsm: 'X_pca', 'X_pca_harmony', 'X_umap'"
      ]
     },
     "execution_count": 5,
     "metadata": {},
     "output_type": "execute_result"
    }
   ],
   "source": [
    "adata"
   ]
  },
  {
   "cell_type": "code",
   "execution_count": 7,
   "id": "6b8b4335-b2b7-4c8f-881c-9971a4e4cb00",
   "metadata": {},
   "outputs": [],
   "source": [
    "adata_list=[adata[adata.obs['sample.sampleKitGuid']==pbmc_sample_id].copy() for pbmc_sample_id in adata.obs['sample.sampleKitGuid'].unique()]"
   ]
  },
  {
   "cell_type": "code",
   "execution_count": 8,
   "id": "1912d9b7-78af-40d8-9214-83feafb928e6",
   "metadata": {},
   "outputs": [
    {
     "data": {
      "text/plain": [
       "141"
      ]
     },
     "execution_count": 8,
     "metadata": {},
     "output_type": "execute_result"
    }
   ],
   "source": [
    "len(adata_list)"
   ]
  },
  {
   "cell_type": "code",
   "execution_count": 9,
   "id": "f5bd1ef4-aa9f-4013-9f08-f51fb0a66aa5",
   "metadata": {},
   "outputs": [],
   "source": [
    "def process(adata_subset):\n",
    "    adata_subset.write_h5ad(\"sample_adata/\" + adata_subset.obs['sample.sampleKitGuid'][0] + \".h5ad\")\n",
    "    \n",
    "    raw_count_sum = grouped_obs_sum_raw(adata_subset, \"AIFI_L3\")\n",
    "    raw_count_sum.to_csv(\"sample_raw_count_sum/\" + adata_subset.obs['sample.sampleKitGuid'][0] + \".csv\")\n",
    "    \n",
    "    sc.pp.normalize_total(adata_subset, target_sum=1e4)\n",
    "    sc.pp.log1p(adata_subset)\n",
    "\n",
    "    normalized_count_average = grouped_obs_mean(adata_subset, \"AIFI_L3\")\n",
    "    normalized_count_average.to_csv(\"sample_normalized_count_average/\" + adata_subset.obs['sample.sampleKitGuid'][0] + \".csv\")\n",
    "    \n",
    "with ProcessPoolExecutor(max_workers=15) as executor:\n",
    "    executor.map(process, adata_list)"
   ]
  },
  {
   "cell_type": "code",
   "execution_count": null,
   "id": "8f837236-afcf-41bb-b92e-7fd878213662",
   "metadata": {},
   "outputs": [],
   "source": []
  }
 ],
 "metadata": {
  "kernelspec": {
   "display_name": "Python_BRI_Figures",
   "language": "python",
   "name": "python_bri_figures"
  },
  "language_info": {
   "codemirror_mode": {
    "name": "ipython",
    "version": 3
   },
   "file_extension": ".py",
   "mimetype": "text/x-python",
   "name": "python",
   "nbconvert_exporter": "python",
   "pygments_lexer": "ipython3",
   "version": "3.11.0"
  }
 },
 "nbformat": 4,
 "nbformat_minor": 5
}
