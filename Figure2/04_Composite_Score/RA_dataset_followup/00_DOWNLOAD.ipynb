{
 "cells": [
  {
   "cell_type": "code",
   "execution_count": 1,
   "id": "ddcb5c8a-2fac-417d-8731-7af29efc587e",
   "metadata": {},
   "outputs": [
    {
     "name": "stdout",
     "output_type": "stream",
     "text": [
      "Current working directory: /home/workspace/IHA_review_second_round/03_age_score_RA\n"
     ]
    }
   ],
   "source": [
    "import pandas as pd \n",
    "import numpy as np \n",
    "import concurrent.futures\n",
    "from concurrent.futures import ThreadPoolExecutor\n",
    "import warnings\n",
    "from datetime import date\n",
    "import hisepy\n",
    "import os\n",
    "import shutil\n",
    "import tarfile\n",
    "from tqdm import tqdm\n",
    "warnings.filterwarnings(\"ignore\")\n",
    "print(\"Current working directory:\", os.getcwd())"
   ]
  },
  {
   "cell_type": "code",
   "execution_count": 2,
   "id": "cdcca645-5816-4056-bd81-87773c30b4ce",
   "metadata": {},
   "outputs": [],
   "source": [
    "file_uuid=[\"609f7543-d4d5-41e9-a3d2-8e50c3e7c61d\"]"
   ]
  },
  {
   "cell_type": "code",
   "execution_count": 3,
   "id": "96f7cc1b-3eff-4cd5-be3e-25c0753c18dd",
   "metadata": {},
   "outputs": [],
   "source": [
    "hise_res = hisepy.reader.cache_files(file_uuid)\n"
   ]
  },
  {
   "cell_type": "code",
   "execution_count": null,
   "id": "51a31b5e-092d-473b-9fde-c5b38faa31fc",
   "metadata": {},
   "outputs": [],
   "source": []
  }
 ],
 "metadata": {
  "kernelspec": {
   "display_name": "Python_BRI_Figures",
   "language": "python",
   "name": "python_bri_figures"
  },
  "language_info": {
   "codemirror_mode": {
    "name": "ipython",
    "version": 3
   },
   "file_extension": ".py",
   "mimetype": "text/x-python",
   "name": "python",
   "nbconvert_exporter": "python",
   "pygments_lexer": "ipython3",
   "version": "3.11.0"
  }
 },
 "nbformat": 4,
 "nbformat_minor": 5
}
