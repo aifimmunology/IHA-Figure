{
 "cells": [
  {
   "cell_type": "code",
   "execution_count": 1,
   "id": "5ee5749a-c551-473f-9f16-382a3d3fbc15",
   "metadata": {},
   "outputs": [
    {
     "name": "stderr",
     "output_type": "stream",
     "text": [
      "/home/workspace/Aux_Envir/Python_BRI_Figures/lib/python3.11/site-packages/anndata/utils.py:429: FutureWarning: Importing read_csv from `anndata` is deprecated. Import anndata.io.read_csv instead.\n",
      "  warnings.warn(msg, FutureWarning)\n",
      "/home/workspace/Aux_Envir/Python_BRI_Figures/lib/python3.11/site-packages/anndata/utils.py:429: FutureWarning: Importing read_excel from `anndata` is deprecated. Import anndata.io.read_excel instead.\n",
      "  warnings.warn(msg, FutureWarning)\n",
      "/home/workspace/Aux_Envir/Python_BRI_Figures/lib/python3.11/site-packages/anndata/utils.py:429: FutureWarning: Importing read_hdf from `anndata` is deprecated. Import anndata.io.read_hdf instead.\n",
      "  warnings.warn(msg, FutureWarning)\n",
      "/home/workspace/Aux_Envir/Python_BRI_Figures/lib/python3.11/site-packages/anndata/utils.py:429: FutureWarning: Importing read_loom from `anndata` is deprecated. Import anndata.io.read_loom instead.\n",
      "  warnings.warn(msg, FutureWarning)\n",
      "/home/workspace/Aux_Envir/Python_BRI_Figures/lib/python3.11/site-packages/anndata/utils.py:429: FutureWarning: Importing read_mtx from `anndata` is deprecated. Import anndata.io.read_mtx instead.\n",
      "  warnings.warn(msg, FutureWarning)\n",
      "/home/workspace/Aux_Envir/Python_BRI_Figures/lib/python3.11/site-packages/anndata/utils.py:429: FutureWarning: Importing read_text from `anndata` is deprecated. Import anndata.io.read_text instead.\n",
      "  warnings.warn(msg, FutureWarning)\n",
      "/home/workspace/Aux_Envir/Python_BRI_Figures/lib/python3.11/site-packages/anndata/utils.py:429: FutureWarning: Importing read_umi_tools from `anndata` is deprecated. Import anndata.io.read_umi_tools instead.\n",
      "  warnings.warn(msg, FutureWarning)\n"
     ]
    }
   ],
   "source": [
    "import scanpy as sc\n",
    "import pandas as pd \n",
    "import numpy as np\n",
    "import sys\n",
    "import matplotlib.pyplot as plt\n",
    "import gc\n",
    "import anndata\n",
    "import glob\n",
    "from multiprocessing import Pool\n",
    "import os\n",
    "from sklearn import metrics\n"
   ]
  },
  {
   "cell_type": "markdown",
   "id": "9a351c75-ffa7-4e9e-8a44-20eee6b8a355",
   "metadata": {},
   "source": [
    "# AIFI Labels"
   ]
  },
  {
   "cell_type": "code",
   "execution_count": 2,
   "id": "afe8816d-bbea-4548-a80b-b69e25e12ffc",
   "metadata": {},
   "outputs": [],
   "source": [
    "files_list = glob.glob(os.path.join('/home/workspace/private/bri_figure_all_files_test/jupyter/Onek1k_dataset_followup/Labels_AIFI/', \n",
    "                                    \"*L1_predicted_labels.csv\"))\n",
    "AIFI_L1 = pd.concat((pd.read_csv(f) for f in files_list), ignore_index=True)\n",
    "\n",
    "files_list = glob.glob(os.path.join('/home/workspace/private/bri_figure_all_files_test/jupyter/Onek1k_dataset_followup/Labels_AIFI/', \n",
    "                                    \"*L2_predicted_labels.csv\"))\n",
    "AIFI_L2 = pd.concat((pd.read_csv(f) for f in files_list), ignore_index=True)\n",
    "\n",
    "files_list = glob.glob(os.path.join('/home/workspace/private/bri_figure_all_files_test/jupyter/Onek1k_dataset_followup/Labels_AIFI/', \n",
    "                                    \"*L3_predicted_labels.csv\"))\n",
    "AIFI_L3 = pd.concat((pd.read_csv(f) for f in files_list), ignore_index=True)"
   ]
  },
  {
   "cell_type": "code",
   "execution_count": 4,
   "id": "df4f766d-f359-45ed-b41e-b52bce58014d",
   "metadata": {},
   "outputs": [
    {
     "data": {
      "text/html": [
       "<div>\n",
       "<style scoped>\n",
       "    .dataframe tbody tr th:only-of-type {\n",
       "        vertical-align: middle;\n",
       "    }\n",
       "\n",
       "    .dataframe tbody tr th {\n",
       "        vertical-align: top;\n",
       "    }\n",
       "\n",
       "    .dataframe thead th {\n",
       "        text-align: right;\n",
       "    }\n",
       "</style>\n",
       "<table border=\"1\" class=\"dataframe\">\n",
       "  <thead>\n",
       "    <tr style=\"text-align: right;\">\n",
       "      <th></th>\n",
       "      <th>Unnamed: 0</th>\n",
       "      <th>barcode</th>\n",
       "      <th>predicted_labels</th>\n",
       "    </tr>\n",
       "  </thead>\n",
       "  <tbody>\n",
       "    <tr>\n",
       "      <th>0</th>\n",
       "      <td>0</td>\n",
       "      <td>AAACCTGAGTACCGGA-13</td>\n",
       "      <td>GZMB- CD27+ EM CD4 T cell</td>\n",
       "    </tr>\n",
       "    <tr>\n",
       "      <th>1</th>\n",
       "      <td>1</td>\n",
       "      <td>AAACCTGCAAAGCAAT-13</td>\n",
       "      <td>CM CD4 T cell</td>\n",
       "    </tr>\n",
       "    <tr>\n",
       "      <th>2</th>\n",
       "      <td>2</td>\n",
       "      <td>AAACGGGAGTTAAGTG-13</td>\n",
       "      <td>GZMB- CD27- EM CD4 T cell</td>\n",
       "    </tr>\n",
       "    <tr>\n",
       "      <th>3</th>\n",
       "      <td>3</td>\n",
       "      <td>AAACGGGCAGCCTGTG-13</td>\n",
       "      <td>Adaptive NK cell</td>\n",
       "    </tr>\n",
       "    <tr>\n",
       "      <th>4</th>\n",
       "      <td>4</td>\n",
       "      <td>AAACGGGGTCTCGTTC-13</td>\n",
       "      <td>Core naive CD4 T cell</td>\n",
       "    </tr>\n",
       "    <tr>\n",
       "      <th>...</th>\n",
       "      <td>...</td>\n",
       "      <td>...</td>\n",
       "      <td>...</td>\n",
       "    </tr>\n",
       "    <tr>\n",
       "      <th>1248975</th>\n",
       "      <td>1044</td>\n",
       "      <td>TTTGGTTCAAGTCTAC-68</td>\n",
       "      <td>Core naive CD4 T cell</td>\n",
       "    </tr>\n",
       "    <tr>\n",
       "      <th>1248976</th>\n",
       "      <td>1045</td>\n",
       "      <td>TTTGGTTGTGAGGCTA-68</td>\n",
       "      <td>GZMK+ CD27+ EM CD8 T cell</td>\n",
       "    </tr>\n",
       "    <tr>\n",
       "      <th>1248977</th>\n",
       "      <td>1046</td>\n",
       "      <td>TTTGTCAAGTCGAGTG-68</td>\n",
       "      <td>Core naive CD4 T cell</td>\n",
       "    </tr>\n",
       "    <tr>\n",
       "      <th>1248978</th>\n",
       "      <td>1047</td>\n",
       "      <td>TTTGTCATCACTTACT-68</td>\n",
       "      <td>CD56bright NK cell</td>\n",
       "    </tr>\n",
       "    <tr>\n",
       "      <th>1248979</th>\n",
       "      <td>1048</td>\n",
       "      <td>TTTGTCATCGCCTGAG-68</td>\n",
       "      <td>Core naive CD8 T cell</td>\n",
       "    </tr>\n",
       "  </tbody>\n",
       "</table>\n",
       "<p>1248980 rows × 3 columns</p>\n",
       "</div>"
      ],
      "text/plain": [
       "         Unnamed: 0              barcode           predicted_labels\n",
       "0                 0  AAACCTGAGTACCGGA-13  GZMB- CD27+ EM CD4 T cell\n",
       "1                 1  AAACCTGCAAAGCAAT-13              CM CD4 T cell\n",
       "2                 2  AAACGGGAGTTAAGTG-13  GZMB- CD27- EM CD4 T cell\n",
       "3                 3  AAACGGGCAGCCTGTG-13           Adaptive NK cell\n",
       "4                 4  AAACGGGGTCTCGTTC-13      Core naive CD4 T cell\n",
       "...             ...                  ...                        ...\n",
       "1248975        1044  TTTGGTTCAAGTCTAC-68      Core naive CD4 T cell\n",
       "1248976        1045  TTTGGTTGTGAGGCTA-68  GZMK+ CD27+ EM CD8 T cell\n",
       "1248977        1046  TTTGTCAAGTCGAGTG-68      Core naive CD4 T cell\n",
       "1248978        1047  TTTGTCATCACTTACT-68         CD56bright NK cell\n",
       "1248979        1048  TTTGTCATCGCCTGAG-68      Core naive CD8 T cell\n",
       "\n",
       "[1248980 rows x 3 columns]"
      ]
     },
     "execution_count": 4,
     "metadata": {},
     "output_type": "execute_result"
    }
   ],
   "source": [
    "AIFI_L3"
   ]
  },
  {
   "cell_type": "code",
   "execution_count": 3,
   "id": "21eb336b-3299-4ad6-be06-c5041ffd7192",
   "metadata": {},
   "outputs": [],
   "source": [
    "Origional_Labels_L1=pd.read_csv('/home/jupyter/Maxim_dataset_followup/GEX_HTO_processed/all_pbmcs/all_pbmcs_metadata.csv')\n",
    "Origional_Labels_L1=Origional_Labels_L1[[\"Unnamed: 0\",\"Cluster_names\"]]"
   ]
  },
  {
   "cell_type": "code",
   "execution_count": 4,
   "id": "90dfcac3-e12e-4465-b48b-89d2b5283dda",
   "metadata": {},
   "outputs": [],
   "source": [
    "files_list = glob.glob('/home/jupyter/Maxim_dataset_followup/GEX_HTO_processed/**/*meta*.csv', recursive=True)"
   ]
  },
  {
   "cell_type": "code",
   "execution_count": 5,
   "id": "1c1d56c4-5cac-4e8b-87ad-8f1c3e2de4b9",
   "metadata": {},
   "outputs": [],
   "source": [
    "files_list = [item for item in files_list if item != '/home/jupyter/Maxim_dataset_followup/GEX_HTO_processed/all_pbmcs/all_pbmcs_metadata.csv']\n",
    "proj_meta=pd.read_csv(files_list[0])\n",
    "proj_meta[\"Cluster_names\"]='progenitor'\n",
    "proj_meta.to_csv(files_list[0])"
   ]
  },
  {
   "cell_type": "code",
   "execution_count": 6,
   "id": "d169eb00-39f9-47db-ae39-7f3e73446988",
   "metadata": {},
   "outputs": [],
   "source": [
    "Origional_Labels_L2 = pd.concat(\n",
    "    (pd.read_csv(f).assign(filename=os.path.splitext(os.path.basename(f))[0]) for f in files_list),\n",
    "    ignore_index=True\n",
    ")\n"
   ]
  },
  {
   "cell_type": "code",
   "execution_count": 7,
   "id": "2770fed4-8e69-472d-a767-df4870d86f03",
   "metadata": {},
   "outputs": [],
   "source": [
    "Origional_Labels_L2['filename'] = Origional_Labels_L2['filename'].str.replace(\"_metadata\", \"\", regex=False)"
   ]
  },
  {
   "cell_type": "code",
   "execution_count": 8,
   "id": "dc79737b-71bd-45a0-9365-25c59cbef85a",
   "metadata": {},
   "outputs": [],
   "source": [
    "Origional_Labels_L2['filename'] = Origional_Labels_L2['filename'].str.replace(\"_\", \" \", regex=False)"
   ]
  },
  {
   "cell_type": "code",
   "execution_count": 9,
   "id": "d1028049-9b21-44a8-ae11-7f08e04cba86",
   "metadata": {},
   "outputs": [],
   "source": [
    "Origional_Labels_L2[\"Cluster_names\"]= Origional_Labels_L2[\"Cluster_names\"].astype(str)+\" \"+Origional_Labels_L2[\"filename\"].astype(str)"
   ]
  },
  {
   "cell_type": "code",
   "execution_count": 10,
   "id": "87356e28-98bc-42b8-b46f-f3e115bd621e",
   "metadata": {},
   "outputs": [],
   "source": [
    "Origional_Labels_L2=Origional_Labels_L2[[\"Unnamed: 0\",\"Cluster_names\"]]"
   ]
  },
  {
   "cell_type": "markdown",
   "id": "2c0066ba-c581-4827-b19b-1f26aaf24f62",
   "metadata": {},
   "source": [
    "# rename columns"
   ]
  },
  {
   "cell_type": "code",
   "execution_count": 5,
   "id": "7373b2b9-b9fe-4a1a-8363-77fd6973bfa7",
   "metadata": {},
   "outputs": [],
   "source": [
    "overlapping_barcodes=AIFI_L1['barcode'].tolist()"
   ]
  },
  {
   "cell_type": "code",
   "execution_count": 6,
   "id": "bdec9be4-2194-4b49-af56-4d70125d9a33",
   "metadata": {},
   "outputs": [],
   "source": [
    "AIFI_L1.index= AIFI_L1['barcode'].tolist()\n",
    "AIFI_L2.index= AIFI_L2['barcode'].tolist()\n",
    "AIFI_L3.index= AIFI_L3['barcode'].tolist()\n",
    "AIFI_L1=AIFI_L1.loc[list(overlapping_barcodes)]\n",
    "AIFI_L2=AIFI_L2.loc[list(overlapping_barcodes)]\n",
    "AIFI_L3=AIFI_L3.loc[list(overlapping_barcodes)]\n",
    "\n",
    "AIFI_L1=AIFI_L1[['predicted_labels']]\n",
    "AIFI_L2=AIFI_L2[['predicted_labels']]\n",
    "AIFI_L3=AIFI_L3[['predicted_labels']]\n",
    "\n",
    "AIFI_L1.columns= ['AIFI_L1']\n",
    "AIFI_L2.columns= ['AIFI_L2']\n",
    "AIFI_L3.columns= ['AIFI_L3']"
   ]
  },
  {
   "cell_type": "code",
   "execution_count": 14,
   "id": "cf3e4c05-056d-42a8-996a-085dab7e096f",
   "metadata": {},
   "outputs": [],
   "source": []
  },
  {
   "cell_type": "code",
   "execution_count": 15,
   "id": "44aebb97-43ba-4fdf-af87-39b5295245c0",
   "metadata": {},
   "outputs": [],
   "source": []
  },
  {
   "cell_type": "markdown",
   "id": "84df2cb1-c0fb-4bee-b388-6784c0c12b2f",
   "metadata": {},
   "source": [
    "# Compare"
   ]
  },
  {
   "cell_type": "code",
   "execution_count": 7,
   "id": "52afa254-4b76-4452-98c8-a4dfe358f568",
   "metadata": {},
   "outputs": [],
   "source": [
    "merged_df = pd.concat([AIFI_L1, AIFI_L2, AIFI_L3], axis=1)"
   ]
  },
  {
   "cell_type": "code",
   "execution_count": 8,
   "id": "d8f11325-7a9f-47f3-8961-33f6a5747f2c",
   "metadata": {},
   "outputs": [],
   "source": [
    "merged_df.to_csv(\"labels.csv\")"
   ]
  },
  {
   "cell_type": "code",
   "execution_count": null,
   "id": "ea148558-63c3-4a56-9b26-ed1be8effdfc",
   "metadata": {},
   "outputs": [],
   "source": []
  },
  {
   "cell_type": "code",
   "execution_count": null,
   "id": "85a1b44d-3384-48fd-90bb-86536ead4bfe",
   "metadata": {},
   "outputs": [],
   "source": []
  },
  {
   "cell_type": "code",
   "execution_count": null,
   "id": "c60a8d28-db06-4789-b1e1-4288af8408d0",
   "metadata": {},
   "outputs": [],
   "source": []
  }
 ],
 "metadata": {
  "kernelspec": {
   "display_name": "Python_BRI_Figures",
   "language": "python",
   "name": "python_bri_figures"
  },
  "language_info": {
   "codemirror_mode": {
    "name": "ipython",
    "version": 3
   },
   "file_extension": ".py",
   "mimetype": "text/x-python",
   "name": "python",
   "nbconvert_exporter": "python",
   "pygments_lexer": "ipython3",
   "version": "3.11.0"
  }
 },
 "nbformat": 4,
 "nbformat_minor": 5
}
