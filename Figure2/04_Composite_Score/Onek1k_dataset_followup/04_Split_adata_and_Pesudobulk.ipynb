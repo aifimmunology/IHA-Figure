{
 "cells": [
  {
   "cell_type": "code",
   "execution_count": 1,
   "id": "4f204baa-f3a4-4bfe-a9a7-f9b4dd26fdfe",
   "metadata": {},
   "outputs": [
    {
     "name": "stderr",
     "output_type": "stream",
     "text": [
      "/home/workspace/Aux_Envir/Python_BRI_Figures/lib/python3.11/site-packages/anndata/utils.py:429: FutureWarning: Importing read_csv from `anndata` is deprecated. Import anndata.io.read_csv instead.\n",
      "  warnings.warn(msg, FutureWarning)\n",
      "/home/workspace/Aux_Envir/Python_BRI_Figures/lib/python3.11/site-packages/anndata/utils.py:429: FutureWarning: Importing read_excel from `anndata` is deprecated. Import anndata.io.read_excel instead.\n",
      "  warnings.warn(msg, FutureWarning)\n",
      "/home/workspace/Aux_Envir/Python_BRI_Figures/lib/python3.11/site-packages/anndata/utils.py:429: FutureWarning: Importing read_hdf from `anndata` is deprecated. Import anndata.io.read_hdf instead.\n",
      "  warnings.warn(msg, FutureWarning)\n",
      "/home/workspace/Aux_Envir/Python_BRI_Figures/lib/python3.11/site-packages/anndata/utils.py:429: FutureWarning: Importing read_loom from `anndata` is deprecated. Import anndata.io.read_loom instead.\n",
      "  warnings.warn(msg, FutureWarning)\n",
      "/home/workspace/Aux_Envir/Python_BRI_Figures/lib/python3.11/site-packages/anndata/utils.py:429: FutureWarning: Importing read_mtx from `anndata` is deprecated. Import anndata.io.read_mtx instead.\n",
      "  warnings.warn(msg, FutureWarning)\n",
      "/home/workspace/Aux_Envir/Python_BRI_Figures/lib/python3.11/site-packages/anndata/utils.py:429: FutureWarning: Importing read_text from `anndata` is deprecated. Import anndata.io.read_text instead.\n",
      "  warnings.warn(msg, FutureWarning)\n",
      "/home/workspace/Aux_Envir/Python_BRI_Figures/lib/python3.11/site-packages/anndata/utils.py:429: FutureWarning: Importing read_umi_tools from `anndata` is deprecated. Import anndata.io.read_umi_tools instead.\n",
      "  warnings.warn(msg, FutureWarning)\n"
     ]
    }
   ],
   "source": [
    "import scanpy as sc\n",
    "import pandas as pd \n",
    "import numpy as np\n",
    "import sys\n",
    "import matplotlib.pyplot as plt\n",
    "import gc\n",
    "import anndata\n",
    "import glob\n",
    "from multiprocessing import Pool\n",
    "import os\n",
    "from sklearn import metrics\n",
    "from tqdm import tqdm\n",
    "from concurrent.futures import ProcessPoolExecutor\n",
    "import os\n",
    "import warnings\n",
    "warnings.filterwarnings(\"ignore\")"
   ]
  },
  {
   "cell_type": "code",
   "execution_count": 2,
   "id": "dfb1c45a-5e10-41bc-a2e5-77df824212ca",
   "metadata": {},
   "outputs": [],
   "source": [
    "def grouped_obs_sum_raw(adata_filt, group_key, layer=None, gene_symbols=None):\n",
    "    if layer is not None:\n",
    "        getX = lambda x: x.layers[layer]\n",
    "    else:\n",
    "        getX = lambda x: x.X\n",
    "    if gene_symbols is not None:\n",
    "        idx = adata_filt.var_names.isin(gene_symbols)\n",
    "        new_idx = adata_filt.var_names[idx]\n",
    "    else:\n",
    "        new_idx = adata_filt.var_names\n",
    "    grouped = adata_filt.obs.groupby(group_key)\n",
    "    out = pd.DataFrame(\n",
    "        np.zeros((len(new_idx), len(grouped)), dtype=np.float64),\n",
    "        columns=list(grouped.groups.keys()),\n",
    "        index=new_idx\n",
    "    )\n",
    "    for group, idx in grouped.indices.items():\n",
    "        X = getX(adata_filt[idx])\n",
    "        out[group] = np.ravel(X.sum(axis=0, dtype=np.float64))\n",
    "    return out\n",
    "\n",
    "def grouped_obs_mean(adata_filt, group_key, layer=None, gene_symbols=None):\n",
    "    if layer is not None:\n",
    "        getX = lambda x: x.layers[layer]\n",
    "    else:\n",
    "        getX = lambda x: x.X\n",
    "    if gene_symbols is not None:\n",
    "        idx = adata_filt.var_names.isin(gene_symbols)\n",
    "        new_idx = adata_filt.var_names[idx]\n",
    "    else:\n",
    "        new_idx = adata_filt.var_names\n",
    "    grouped = adata_filt.obs.groupby(group_key)\n",
    "    out = pd.DataFrame(\n",
    "        np.zeros((len(new_idx), len(grouped)), dtype=np.float64),\n",
    "        columns=list(grouped.groups.keys()),\n",
    "        index=new_idx\n",
    "    )\n",
    "    for group, idx in grouped.indices.items():\n",
    "        X = getX(adata_filt[idx])\n",
    "        out[group] = np.ravel(X.mean(axis=0, dtype=np.float64))\n",
    "    return out"
   ]
  },
  {
   "cell_type": "code",
   "execution_count": null,
   "id": "be6ca6b5-8570-429d-863d-1ce151c99ce0",
   "metadata": {},
   "outputs": [],
   "source": [
    "adata=sc.read_h5ad('/home/workspace/private/bri_figure_all_files_test/jupyter/Onek1k_dataset_followup/dataset/08984b3c-3189-4732-be22-62f1fe8f15a4.h5ad')"
   ]
  },
  {
   "cell_type": "code",
   "execution_count": null,
   "id": "67786c79-98c5-4f2f-9e06-7a5ce78d7ffc",
   "metadata": {},
   "outputs": [],
   "source": [
    "labels=pd.read_csv(\"labels.csv\",index_col=0)"
   ]
  },
  {
   "cell_type": "code",
   "execution_count": null,
   "id": "5656bf18-7fbd-4890-8d6c-db5a8a2af63f",
   "metadata": {},
   "outputs": [],
   "source": [
    "df=adata.obs.merge(labels, how='inner',left_index=True, right_index=True)"
   ]
  },
  {
   "cell_type": "code",
   "execution_count": null,
   "id": "56afc67d-5829-48e6-8433-c0b2096e7620",
   "metadata": {},
   "outputs": [],
   "source": [
    "adata=adata[df.index]"
   ]
  },
  {
   "cell_type": "code",
   "execution_count": null,
   "id": "fd84c5a5-0cb0-4331-a590-33a5b23ef038",
   "metadata": {},
   "outputs": [],
   "source": [
    "adata.obs=df"
   ]
  },
  {
   "cell_type": "code",
   "execution_count": null,
   "id": "6bf5836b-519d-4a33-8ef5-a6039795e91a",
   "metadata": {},
   "outputs": [],
   "source": [
    "adata.var_names=adata.var['feature_name'].tolist()"
   ]
  },
  {
   "cell_type": "code",
   "execution_count": 9,
   "id": "2c63b420-60f4-4eda-9118-79e0bc0fbec1",
   "metadata": {},
   "outputs": [
    {
     "data": {
      "text/plain": [
       "AnnData object with n_obs × n_vars = 1248980 × 36469\n",
       "    obs: 'orig.ident', 'nCount_RNA', 'nFeature_RNA', 'percent.mt', 'donor_id', 'pool_number', 'predicted.celltype.l2', 'predicted.celltype.l2.score', 'age', 'organism_ontology_term_id', 'tissue_ontology_term_id', 'assay_ontology_term_id', 'disease_ontology_term_id', 'cell_type_ontology_term_id', 'self_reported_ethnicity_ontology_term_id', 'development_stage_ontology_term_id', 'sex_ontology_term_id', 'is_primary_data', 'suspension_type', 'tissue_type', 'cell_type', 'assay', 'disease', 'organism', 'sex', 'tissue', 'self_reported_ethnicity', 'development_stage', 'observation_joinid', 'AIFI_L1', 'AIFI_L2', 'AIFI_L3'\n",
       "    var: 'vst.mean', 'vst.variance', 'vst.variance.expected', 'vst.variance.standardized', 'vst.variable', 'feature_is_filtered', 'feature_name', 'feature_reference', 'feature_biotype', 'feature_length', 'feature_type'\n",
       "    uns: 'cell_type_ontology_term_id_colors', 'citation', 'default_embedding', 'schema_reference', 'schema_version', 'title'\n",
       "    obsm: 'X_azimuth_spca', 'X_azimuth_umap', 'X_harmony', 'X_pca', 'X_umap'\n",
       "    varm: 'PCs'"
      ]
     },
     "execution_count": 9,
     "metadata": {},
     "output_type": "execute_result"
    }
   ],
   "source": [
    "adata"
   ]
  },
  {
   "cell_type": "code",
   "execution_count": 10,
   "id": "b56137f5-7ea6-421f-927c-93f95a70543b",
   "metadata": {},
   "outputs": [],
   "source": [
    "adata_list=[adata[adata.obs['donor_id']==donor].copy() for donor in adata.obs['donor_id'].unique()]\n",
    "\n",
    "def process(adata_subset):\n",
    "    adata_subset.write_h5ad(\"/home/workspace/sample_adata/\" + adata_subset.obs['donor_id'][0] + \".h5ad\")\n",
    "    \n",
    "    raw_count_sum = grouped_obs_sum_raw(adata_subset, \"AIFI_L3\")\n",
    "    raw_count_sum.to_csv(\"/home/workspace/sample_raw_count_sum/\" + adata_subset.obs['donor_id'][0] + \".csv\")\n",
    "    \n",
    "    sc.pp.normalize_total(adata_subset, target_sum=1e4)\n",
    "    sc.pp.log1p(adata_subset)\n",
    "    \n",
    "    normalized_count_average = grouped_obs_mean(adata_subset, \"AIFI_L3\")\n",
    "    normalized_count_average.to_csv(\"/home/workspace/sample_normalized_count_average/\" + adata_subset.obs['donor_id'][0] + \".csv\")\n",
    "    \n",
    "with ProcessPoolExecutor(max_workers=15) as executor:\n",
    "    executor.map(process, adata_list)\n"
   ]
  },
  {
   "cell_type": "code",
   "execution_count": 11,
   "id": "ee98a0ca-53e6-46b7-8e90-409b9369dcb5",
   "metadata": {
    "scrolled": true
   },
   "outputs": [
    {
     "name": "stderr",
     "output_type": "stream",
     "text": [
      "Processing donors: 100%|██████████| 981/981 [1:05:11<00:00,  3.99s/it]\n"
     ]
    }
   ],
   "source": [
    "for i in tqdm(np.unique(adata.obs[\"donor_id\"]), desc=\"Processing donors\"):\n",
    "    adata_subset = adata[adata.obs[\"donor_id\"] == i]\n",
    "    adata_subset.write_h5ad(\"sample_adata/\" + i + \".h5ad\")\n",
    "    \n",
    "    raw_count_sum = grouped_obs_sum_raw(adata_subset, \"AIFI_L3\")\n",
    "    raw_count_sum.to_csv(\"sample_raw_count_sum/\" + i + \".csv\")\n",
    "    \n",
    "    sc.pp.normalize_total(adata_subset, target_sum=1e4)\n",
    "    sc.pp.log1p(adata_subset)\n",
    "    \n",
    "    normalized_count_average = grouped_obs_mean(adata_subset, \"AIFI_L3\")\n",
    "    normalized_count_average.to_csv(\"sample_normalized_count_average/\" + i + \".csv\")"
   ]
  },
  {
   "cell_type": "code",
   "execution_count": 12,
   "id": "f74ec569-a09f-4b6f-8ac0-1b151ce2f88d",
   "metadata": {},
   "outputs": [
    {
     "data": {
      "text/plain": [
       "AnnData object with n_obs × n_vars = 1049 × 36469\n",
       "    obs: 'orig.ident', 'nCount_RNA', 'nFeature_RNA', 'percent.mt', 'donor_id', 'pool_number', 'predicted.celltype.l2', 'predicted.celltype.l2.score', 'age', 'organism_ontology_term_id', 'tissue_ontology_term_id', 'assay_ontology_term_id', 'disease_ontology_term_id', 'cell_type_ontology_term_id', 'self_reported_ethnicity_ontology_term_id', 'development_stage_ontology_term_id', 'sex_ontology_term_id', 'is_primary_data', 'suspension_type', 'tissue_type', 'cell_type', 'assay', 'disease', 'organism', 'sex', 'tissue', 'self_reported_ethnicity', 'development_stage', 'observation_joinid', 'AIFI_L1', 'AIFI_L2', 'AIFI_L3'\n",
       "    var: 'vst.mean', 'vst.variance', 'vst.variance.expected', 'vst.variance.standardized', 'vst.variable', 'feature_is_filtered', 'feature_name', 'feature_reference', 'feature_biotype', 'feature_length', 'feature_type'\n",
       "    uns: 'cell_type_ontology_term_id_colors', 'citation', 'default_embedding', 'schema_reference', 'schema_version', 'title', 'log1p'\n",
       "    obsm: 'X_azimuth_spca', 'X_azimuth_umap', 'X_harmony', 'X_pca', 'X_umap'\n",
       "    varm: 'PCs'"
      ]
     },
     "execution_count": 12,
     "metadata": {},
     "output_type": "execute_result"
    }
   ],
   "source": [
    "adata_subset"
   ]
  },
  {
   "cell_type": "code",
   "execution_count": 13,
   "id": "6a152ba6-9151-4710-b65d-b8239b9c7ce5",
   "metadata": {},
   "outputs": [],
   "source": [
    "meta_data=adata.obs[[\"donor_id\",'age', 'sex', 'organism', 'tissue',  'pool_number']].drop_duplicates().reset_index()"
   ]
  },
  {
   "cell_type": "code",
   "execution_count": 14,
   "id": "277d7b41-6efc-4bee-b9d2-87812e9da175",
   "metadata": {},
   "outputs": [],
   "source": [
    "del meta_data['index']"
   ]
  },
  {
   "cell_type": "code",
   "execution_count": 15,
   "id": "3c37d02a-be74-4949-b156-6874283d1556",
   "metadata": {},
   "outputs": [],
   "source": [
    "pd.DataFrame(meta_data).to_csv(\"sample_meta_data.csv\")"
   ]
  },
  {
   "cell_type": "code",
   "execution_count": null,
   "id": "a27f767c-5f07-487d-bfd0-d09ae235baf6",
   "metadata": {},
   "outputs": [],
   "source": []
  }
 ],
 "metadata": {
  "kernelspec": {
   "display_name": "Python_BRI_Figures",
   "language": "python",
   "name": "python_bri_figures"
  },
  "language_info": {
   "codemirror_mode": {
    "name": "ipython",
    "version": 3
   },
   "file_extension": ".py",
   "mimetype": "text/x-python",
   "name": "python",
   "nbconvert_exporter": "python",
   "pygments_lexer": "ipython3",
   "version": "3.11.0"
  }
 },
 "nbformat": 4,
 "nbformat_minor": 5
}
