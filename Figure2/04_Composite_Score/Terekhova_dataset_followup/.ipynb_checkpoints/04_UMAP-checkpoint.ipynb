{
 "cells": [
  {
   "cell_type": "code",
   "execution_count": 1,
   "id": "4d64baa9-1d2a-449a-b9dc-5b23519bd3c7",
   "metadata": {},
   "outputs": [
    {
     "name": "stderr",
     "output_type": "stream",
     "text": [
      "/home/workspace/Aux_Envir/Python_BRI_Figures/lib/python3.11/site-packages/anndata/utils.py:429: FutureWarning: Importing read_csv from `anndata` is deprecated. Import anndata.io.read_csv instead.\n",
      "  warnings.warn(msg, FutureWarning)\n",
      "/home/workspace/Aux_Envir/Python_BRI_Figures/lib/python3.11/site-packages/anndata/utils.py:429: FutureWarning: Importing read_excel from `anndata` is deprecated. Import anndata.io.read_excel instead.\n",
      "  warnings.warn(msg, FutureWarning)\n",
      "/home/workspace/Aux_Envir/Python_BRI_Figures/lib/python3.11/site-packages/anndata/utils.py:429: FutureWarning: Importing read_hdf from `anndata` is deprecated. Import anndata.io.read_hdf instead.\n",
      "  warnings.warn(msg, FutureWarning)\n",
      "/home/workspace/Aux_Envir/Python_BRI_Figures/lib/python3.11/site-packages/anndata/utils.py:429: FutureWarning: Importing read_loom from `anndata` is deprecated. Import anndata.io.read_loom instead.\n",
      "  warnings.warn(msg, FutureWarning)\n",
      "/home/workspace/Aux_Envir/Python_BRI_Figures/lib/python3.11/site-packages/anndata/utils.py:429: FutureWarning: Importing read_mtx from `anndata` is deprecated. Import anndata.io.read_mtx instead.\n",
      "  warnings.warn(msg, FutureWarning)\n",
      "/home/workspace/Aux_Envir/Python_BRI_Figures/lib/python3.11/site-packages/anndata/utils.py:429: FutureWarning: Importing read_text from `anndata` is deprecated. Import anndata.io.read_text instead.\n",
      "  warnings.warn(msg, FutureWarning)\n",
      "/home/workspace/Aux_Envir/Python_BRI_Figures/lib/python3.11/site-packages/anndata/utils.py:429: FutureWarning: Importing read_umi_tools from `anndata` is deprecated. Import anndata.io.read_umi_tools instead.\n",
      "  warnings.warn(msg, FutureWarning)\n"
     ]
    }
   ],
   "source": [
    "import scanpy as sc\n",
    "import pandas as pd \n",
    "import numpy as np\n",
    "import sys\n",
    "import matplotlib.pyplot as plt\n",
    "import gc\n",
    "import anndata\n",
    "import glob\n",
    "from multiprocessing import Pool\n",
    "import os\n",
    "from sklearn import metrics\n",
    "import matplotlib.pyplot as plt\n",
    "from adjustText import adjust_text"
   ]
  },
  {
   "cell_type": "code",
   "execution_count": 2,
   "id": "12d0c2df-b998-4ec5-8f67-1c7ef79152dc",
   "metadata": {},
   "outputs": [],
   "source": [
    "def gen_mpl_labels(adata, groupby, exclude=(), ax=None, adjust_kwargs=None, text_kwargs=None, offset=(0.05, 0.05)):\n",
    "    if adjust_kwargs is None:\n",
    "        adjust_kwargs = {\n",
    "            \"arrowprops\": {\"arrowstyle\": \"--->\", \"color\": 'r'}, \n",
    "            \"expand_points\": (1.2, 1.2), \n",
    "            \"force_points\": 0.5\n",
    "        }\n",
    "    if text_kwargs is None:\n",
    "        text_kwargs = {}\n",
    "\n",
    "    highest_density_points = {}\n",
    "\n",
    "    for g, g_idx in adata.obs.groupby(groupby).groups.items():\n",
    "        if g in exclude:\n",
    "            continue\n",
    "        points = adata[g_idx].obsm[\"X_umap\"]\n",
    "        hist, xedges, yedges = np.histogram2d(points[:, 0], points[:, 1], bins=[50, 50])\n",
    "        max_bin = np.unravel_index(np.argmax(hist), hist.shape)\n",
    "        highest_density_point = [\n",
    "            (xedges[max_bin[0]] + xedges[max_bin[0]+1])/2 + offset[0], \n",
    "            (yedges[max_bin[1]] + yedges[max_bin[1]+1])/2 + offset[1]\n",
    "        ]\n",
    "        highest_density_points[g] = highest_density_point\n",
    "\n",
    "    if ax is None:\n",
    "        ax = plt.gca()\n",
    "\n",
    "    texts = [\n",
    "        ax.text(x=x, y=y, s=k, **text_kwargs) for k, (x, y) in highest_density_points.items()\n",
    "    ]\n",
    "\n",
    "    adjust_text(texts, **adjust_kwargs)"
   ]
  },
  {
   "cell_type": "code",
   "execution_count": 3,
   "id": "c507b47b-12e3-40a7-9830-783c9ea60e97",
   "metadata": {},
   "outputs": [
    {
     "ename": "FileNotFoundError",
     "evalue": "[Errno 2] Unable to synchronously open file (unable to open file: name = 'adata.h5ad', errno = 2, error message = 'No such file or directory', flags = 0, o_flags = 0)",
     "output_type": "error",
     "traceback": [
      "\u001b[0;31m---------------------------------------------------------------------------\u001b[0m",
      "\u001b[0;31mFileNotFoundError\u001b[0m                         Traceback (most recent call last)",
      "Cell \u001b[0;32mIn[3], line 1\u001b[0m\n\u001b[0;32m----> 1\u001b[0m adata\u001b[38;5;241m=\u001b[39m\u001b[43msc\u001b[49m\u001b[38;5;241;43m.\u001b[39;49m\u001b[43mread_h5ad\u001b[49m\u001b[43m(\u001b[49m\u001b[38;5;124;43m\"\u001b[39;49m\u001b[38;5;124;43madata.h5ad\u001b[39;49m\u001b[38;5;124;43m\"\u001b[39;49m\u001b[43m)\u001b[49m\n\u001b[1;32m      2\u001b[0m labels\u001b[38;5;241m=\u001b[39mpd\u001b[38;5;241m.\u001b[39mread_csv(\u001b[38;5;124m\"\u001b[39m\u001b[38;5;124mlabels.csv\u001b[39m\u001b[38;5;124m\"\u001b[39m,index_col\u001b[38;5;241m=\u001b[39m\u001b[38;5;241m0\u001b[39m)\n\u001b[1;32m      4\u001b[0m df\u001b[38;5;241m=\u001b[39madata\u001b[38;5;241m.\u001b[39mobs\u001b[38;5;241m.\u001b[39mmerge(labels, how\u001b[38;5;241m=\u001b[39m\u001b[38;5;124m'\u001b[39m\u001b[38;5;124minner\u001b[39m\u001b[38;5;124m'\u001b[39m,left_index\u001b[38;5;241m=\u001b[39m\u001b[38;5;28;01mTrue\u001b[39;00m, right_index\u001b[38;5;241m=\u001b[39m\u001b[38;5;28;01mTrue\u001b[39;00m)\n",
      "File \u001b[0;32m~/Aux_Envir/Python_BRI_Figures/lib/python3.11/site-packages/anndata/_io/h5ad.py:236\u001b[0m, in \u001b[0;36mread_h5ad\u001b[0;34m(filename, backed, as_sparse, as_sparse_fmt, chunk_size)\u001b[0m\n\u001b[1;32m    228\u001b[0m         \u001b[38;5;28;01mraise\u001b[39;00m \u001b[38;5;167;01mNotImplementedError\u001b[39;00m(\n\u001b[1;32m    229\u001b[0m             \u001b[38;5;124m\"\u001b[39m\u001b[38;5;124mCurrently only `X` and `raw/X` can be read as sparse.\u001b[39m\u001b[38;5;124m\"\u001b[39m\n\u001b[1;32m    230\u001b[0m         )\n\u001b[1;32m    232\u001b[0m rdasp \u001b[38;5;241m=\u001b[39m partial(\n\u001b[1;32m    233\u001b[0m     read_dense_as_sparse, sparse_format\u001b[38;5;241m=\u001b[39mas_sparse_fmt, axis_chunk\u001b[38;5;241m=\u001b[39mchunk_size\n\u001b[1;32m    234\u001b[0m )\n\u001b[0;32m--> 236\u001b[0m \u001b[38;5;28;01mwith\u001b[39;00m \u001b[43mh5py\u001b[49m\u001b[38;5;241;43m.\u001b[39;49m\u001b[43mFile\u001b[49m\u001b[43m(\u001b[49m\u001b[43mfilename\u001b[49m\u001b[43m,\u001b[49m\u001b[43m \u001b[49m\u001b[38;5;124;43m\"\u001b[39;49m\u001b[38;5;124;43mr\u001b[39;49m\u001b[38;5;124;43m\"\u001b[39;49m\u001b[43m)\u001b[49m \u001b[38;5;28;01mas\u001b[39;00m f:\n\u001b[1;32m    238\u001b[0m     \u001b[38;5;28;01mdef\u001b[39;00m \u001b[38;5;21mcallback\u001b[39m(func, elem_name: \u001b[38;5;28mstr\u001b[39m, elem, iospec):\n\u001b[1;32m    239\u001b[0m         \u001b[38;5;28;01mif\u001b[39;00m iospec\u001b[38;5;241m.\u001b[39mencoding_type \u001b[38;5;241m==\u001b[39m \u001b[38;5;124m\"\u001b[39m\u001b[38;5;124manndata\u001b[39m\u001b[38;5;124m\"\u001b[39m \u001b[38;5;129;01mor\u001b[39;00m elem_name\u001b[38;5;241m.\u001b[39mendswith(\u001b[38;5;124m\"\u001b[39m\u001b[38;5;124m/\u001b[39m\u001b[38;5;124m\"\u001b[39m):\n",
      "File \u001b[0;32m~/Aux_Envir/Python_BRI_Figures/lib/python3.11/site-packages/h5py/_hl/files.py:561\u001b[0m, in \u001b[0;36mFile.__init__\u001b[0;34m(self, name, mode, driver, libver, userblock_size, swmr, rdcc_nslots, rdcc_nbytes, rdcc_w0, track_order, fs_strategy, fs_persist, fs_threshold, fs_page_size, page_buf_size, min_meta_keep, min_raw_keep, locking, alignment_threshold, alignment_interval, meta_block_size, **kwds)\u001b[0m\n\u001b[1;32m    552\u001b[0m     fapl \u001b[38;5;241m=\u001b[39m make_fapl(driver, libver, rdcc_nslots, rdcc_nbytes, rdcc_w0,\n\u001b[1;32m    553\u001b[0m                      locking, page_buf_size, min_meta_keep, min_raw_keep,\n\u001b[1;32m    554\u001b[0m                      alignment_threshold\u001b[38;5;241m=\u001b[39malignment_threshold,\n\u001b[1;32m    555\u001b[0m                      alignment_interval\u001b[38;5;241m=\u001b[39malignment_interval,\n\u001b[1;32m    556\u001b[0m                      meta_block_size\u001b[38;5;241m=\u001b[39mmeta_block_size,\n\u001b[1;32m    557\u001b[0m                      \u001b[38;5;241m*\u001b[39m\u001b[38;5;241m*\u001b[39mkwds)\n\u001b[1;32m    558\u001b[0m     fcpl \u001b[38;5;241m=\u001b[39m make_fcpl(track_order\u001b[38;5;241m=\u001b[39mtrack_order, fs_strategy\u001b[38;5;241m=\u001b[39mfs_strategy,\n\u001b[1;32m    559\u001b[0m                      fs_persist\u001b[38;5;241m=\u001b[39mfs_persist, fs_threshold\u001b[38;5;241m=\u001b[39mfs_threshold,\n\u001b[1;32m    560\u001b[0m                      fs_page_size\u001b[38;5;241m=\u001b[39mfs_page_size)\n\u001b[0;32m--> 561\u001b[0m     fid \u001b[38;5;241m=\u001b[39m \u001b[43mmake_fid\u001b[49m\u001b[43m(\u001b[49m\u001b[43mname\u001b[49m\u001b[43m,\u001b[49m\u001b[43m \u001b[49m\u001b[43mmode\u001b[49m\u001b[43m,\u001b[49m\u001b[43m \u001b[49m\u001b[43muserblock_size\u001b[49m\u001b[43m,\u001b[49m\u001b[43m \u001b[49m\u001b[43mfapl\u001b[49m\u001b[43m,\u001b[49m\u001b[43m \u001b[49m\u001b[43mfcpl\u001b[49m\u001b[43m,\u001b[49m\u001b[43m \u001b[49m\u001b[43mswmr\u001b[49m\u001b[38;5;241;43m=\u001b[39;49m\u001b[43mswmr\u001b[49m\u001b[43m)\u001b[49m\n\u001b[1;32m    563\u001b[0m \u001b[38;5;28;01mif\u001b[39;00m \u001b[38;5;28misinstance\u001b[39m(libver, \u001b[38;5;28mtuple\u001b[39m):\n\u001b[1;32m    564\u001b[0m     \u001b[38;5;28mself\u001b[39m\u001b[38;5;241m.\u001b[39m_libver \u001b[38;5;241m=\u001b[39m libver\n",
      "File \u001b[0;32m~/Aux_Envir/Python_BRI_Figures/lib/python3.11/site-packages/h5py/_hl/files.py:235\u001b[0m, in \u001b[0;36mmake_fid\u001b[0;34m(name, mode, userblock_size, fapl, fcpl, swmr)\u001b[0m\n\u001b[1;32m    233\u001b[0m     \u001b[38;5;28;01mif\u001b[39;00m swmr \u001b[38;5;129;01mand\u001b[39;00m swmr_support:\n\u001b[1;32m    234\u001b[0m         flags \u001b[38;5;241m|\u001b[39m\u001b[38;5;241m=\u001b[39m h5f\u001b[38;5;241m.\u001b[39mACC_SWMR_READ\n\u001b[0;32m--> 235\u001b[0m     fid \u001b[38;5;241m=\u001b[39m \u001b[43mh5f\u001b[49m\u001b[38;5;241;43m.\u001b[39;49m\u001b[43mopen\u001b[49m\u001b[43m(\u001b[49m\u001b[43mname\u001b[49m\u001b[43m,\u001b[49m\u001b[43m \u001b[49m\u001b[43mflags\u001b[49m\u001b[43m,\u001b[49m\u001b[43m \u001b[49m\u001b[43mfapl\u001b[49m\u001b[38;5;241;43m=\u001b[39;49m\u001b[43mfapl\u001b[49m\u001b[43m)\u001b[49m\n\u001b[1;32m    236\u001b[0m \u001b[38;5;28;01melif\u001b[39;00m mode \u001b[38;5;241m==\u001b[39m \u001b[38;5;124m'\u001b[39m\u001b[38;5;124mr+\u001b[39m\u001b[38;5;124m'\u001b[39m:\n\u001b[1;32m    237\u001b[0m     fid \u001b[38;5;241m=\u001b[39m h5f\u001b[38;5;241m.\u001b[39mopen(name, h5f\u001b[38;5;241m.\u001b[39mACC_RDWR, fapl\u001b[38;5;241m=\u001b[39mfapl)\n",
      "File \u001b[0;32mh5py/_objects.pyx:54\u001b[0m, in \u001b[0;36mh5py._objects.with_phil.wrapper\u001b[0;34m()\u001b[0m\n",
      "File \u001b[0;32mh5py/_objects.pyx:55\u001b[0m, in \u001b[0;36mh5py._objects.with_phil.wrapper\u001b[0;34m()\u001b[0m\n",
      "File \u001b[0;32mh5py/h5f.pyx:102\u001b[0m, in \u001b[0;36mh5py.h5f.open\u001b[0;34m()\u001b[0m\n",
      "\u001b[0;31mFileNotFoundError\u001b[0m: [Errno 2] Unable to synchronously open file (unable to open file: name = 'adata.h5ad', errno = 2, error message = 'No such file or directory', flags = 0, o_flags = 0)"
     ]
    }
   ],
   "source": [
    "adata=sc.read_h5ad(\"adata.h5ad\")\n",
    "labels=pd.read_csv(\"labels.csv\",index_col=0)\n",
    "\n",
    "df=adata.obs.merge(labels, how='inner',left_index=True, right_index=True)\n",
    "\n",
    "adata=adata[df.index]\n",
    "\n",
    "adata.obs=df"
   ]
  },
  {
   "cell_type": "code",
   "execution_count": null,
   "id": "b0612f56-b004-402a-a554-463985615e0a",
   "metadata": {},
   "outputs": [],
   "source": [
    "adata.X[1:20,1:20].todense()"
   ]
  },
  {
   "cell_type": "markdown",
   "id": "5201a834-2ec9-4a9d-ace3-38285a1e7554",
   "metadata": {},
   "source": [
    "# CD4 T"
   ]
  },
  {
   "cell_type": "code",
   "execution_count": null,
   "id": "0b25f1b5-62d6-4dcf-9461-e670310a1288",
   "metadata": {},
   "outputs": [],
   "source": [
    "UMAP_Cord=pd.read_csv(\"/home/jupyter/Maxim_dataset_followup/GEX_HTO_processed/cd4_t_cells/cd4_umap.csv\",index_col=0)"
   ]
  },
  {
   "cell_type": "code",
   "execution_count": null,
   "id": "ae35e747-9537-4b47-bc13-751b8890c5b3",
   "metadata": {},
   "outputs": [],
   "source": [
    "adata_subset=adata[UMAP_Cord.index]"
   ]
  },
  {
   "cell_type": "code",
   "execution_count": null,
   "id": "58ebfdce-c8cd-47f5-b841-1a8b68912f33",
   "metadata": {},
   "outputs": [],
   "source": [
    "adata_subset.obsm['X_umap'] =np.array(UMAP_Cord)"
   ]
  },
  {
   "cell_type": "code",
   "execution_count": null,
   "id": "3132e28f-0827-4958-a380-906facc45a27",
   "metadata": {},
   "outputs": [],
   "source": [
    "adata_subset=adata_subset[adata_subset.obs[adata_subset.obs['AIFI_L3'].str.contains(\"CD4\", case=False, na=False)].index]"
   ]
  },
  {
   "cell_type": "code",
   "execution_count": null,
   "id": "24d03775-fdf7-46b5-9727-7b2b9608f2c1",
   "metadata": {},
   "outputs": [],
   "source": [
    "with plt.rc_context({\"figure.figsize\": (5, 5), \"figure.dpi\": 500, \"figure.frameon\": False}):\n",
    "    ax=sc.pl.umap(adata_subset, color=['AIFI_L3'], size=0.5,show=False,legend_loc=None,ncols=1,frameon=False)\n",
    "    gen_mpl_labels(\n",
    "        adata_subset,\n",
    "        \"AIFI_L3\",\n",
    "        exclude=(\"\"),  \n",
    "        ax=ax,\n",
    "        adjust_kwargs=dict(arrowprops=dict(arrowstyle='-', color='black')),\n",
    "        text_kwargs=dict(fontsize=5),)\n",
    "    fig = ax.get_figure()\n",
    "    fig.tight_layout()"
   ]
  },
  {
   "cell_type": "code",
   "execution_count": null,
   "id": "a5c80912-4950-4390-8c09-943d7800e117",
   "metadata": {},
   "outputs": [],
   "source": [
    "with plt.rc_context({\"figure.figsize\": (5, 5), \"figure.dpi\": 500, \"figure.frameon\": False}):\n",
    "    ax=sc.pl.umap(adata_subset, color=['Origional_Labels_L2'], size=0.5,show=False,legend_loc=None,ncols=1,frameon=False)\n",
    "    gen_mpl_labels(\n",
    "        adata_subset,\n",
    "        \"Origional_Labels_L2\",\n",
    "        exclude=(\"\"),  \n",
    "        ax=ax,\n",
    "        adjust_kwargs=dict(arrowprops=dict(arrowstyle='-', color='black')),\n",
    "        text_kwargs=dict(fontsize=5),)\n",
    "    fig = ax.get_figure()\n",
    "    fig.tight_layout()"
   ]
  },
  {
   "cell_type": "code",
   "execution_count": null,
   "id": "af616944-434e-4e50-b372-587a7139fb64",
   "metadata": {},
   "outputs": [],
   "source": []
  },
  {
   "cell_type": "markdown",
   "id": "fd162e08-da04-433a-af23-6d74aca7a602",
   "metadata": {},
   "source": [
    "# Conventional CD8 T"
   ]
  },
  {
   "cell_type": "code",
   "execution_count": null,
   "id": "53e5676e-bd79-4c2b-90f3-93db3ed81e13",
   "metadata": {},
   "outputs": [],
   "source": [
    "UMAP_Cord=pd.read_csv(\"/home/jupyter/Maxim_dataset_followup/GEX_HTO_processed/conventional_cd8_t_cells/conventional_cd8_umap.csv\",index_col=0)"
   ]
  },
  {
   "cell_type": "code",
   "execution_count": null,
   "id": "80b50751-f2d6-40cc-a288-510924dcd454",
   "metadata": {},
   "outputs": [],
   "source": [
    "adata_subset=adata[UMAP_Cord.index]"
   ]
  },
  {
   "cell_type": "code",
   "execution_count": null,
   "id": "111bfe41-6b0d-4162-bc31-f22dadc931a8",
   "metadata": {},
   "outputs": [],
   "source": [
    "adata_subset.obsm['X_umap'] =np.array(UMAP_Cord)"
   ]
  },
  {
   "cell_type": "code",
   "execution_count": null,
   "id": "255dc6a0-b018-4449-887b-99b7574247a6",
   "metadata": {},
   "outputs": [],
   "source": [
    "adata_subset=adata_subset[adata_subset.obs[adata_subset.obs['AIFI_L3'].str.contains(\"CD8|NK\", case=False, na=False)].index]"
   ]
  },
  {
   "cell_type": "code",
   "execution_count": null,
   "id": "12d1f19a-cda7-4a8e-b3a1-08520b9ebc47",
   "metadata": {},
   "outputs": [],
   "source": [
    "adata_subset.obs['AIFI_L3'].value_counts()"
   ]
  },
  {
   "cell_type": "code",
   "execution_count": null,
   "id": "63c38649-7b52-4f96-8f1b-5e403369f5c4",
   "metadata": {},
   "outputs": [],
   "source": [
    "with plt.rc_context({\"figure.figsize\": (5, 5), \"figure.dpi\": 500, \"figure.frameon\": False}):\n",
    "    ax=sc.pl.umap(adata_subset, color=['AIFI_L3'], size=0.5,show=False,legend_loc=None,ncols=1,frameon=False)\n",
    "    gen_mpl_labels(\n",
    "        adata_subset,\n",
    "        \"AIFI_L3\",\n",
    "        exclude=(\"\"),  \n",
    "        ax=ax,\n",
    "        adjust_kwargs=dict(arrowprops=dict(arrowstyle='-', color='black')),\n",
    "        text_kwargs=dict(fontsize=5),)\n",
    "    fig = ax.get_figure()\n",
    "    fig.tight_layout()"
   ]
  },
  {
   "cell_type": "code",
   "execution_count": null,
   "id": "6c1dba5a-81ff-46a9-b6f2-fe052caabbbd",
   "metadata": {},
   "outputs": [],
   "source": [
    "with plt.rc_context({\"figure.figsize\": (5, 5), \"figure.dpi\": 500, \"figure.frameon\": False}):\n",
    "    ax=sc.pl.umap(adata_subset, color=['Origional_Labels_L2'], size=0.5,show=False,legend_loc=None,ncols=1,frameon=False)\n",
    "    gen_mpl_labels(\n",
    "        adata_subset,\n",
    "        \"Origional_Labels_L2\",\n",
    "        exclude=(\"\"),  \n",
    "        ax=ax,\n",
    "        adjust_kwargs=dict(arrowprops=dict(arrowstyle='-', color='black')),\n",
    "        text_kwargs=dict(fontsize=5),)\n",
    "    fig = ax.get_figure()\n",
    "    fig.tight_layout()"
   ]
  },
  {
   "cell_type": "code",
   "execution_count": null,
   "id": "6f0cc810-ff87-40e0-8fbf-e7f83f843b75",
   "metadata": {},
   "outputs": [],
   "source": []
  },
  {
   "cell_type": "markdown",
   "id": "c1892df7-b53d-4aa3-823f-78f692fa0c7a",
   "metadata": {},
   "source": [
    "# CD4 T helper"
   ]
  },
  {
   "cell_type": "code",
   "execution_count": null,
   "id": "f2de4a84-8560-4cca-bc3a-aa613edbd7ea",
   "metadata": {},
   "outputs": [],
   "source": [
    "UMAP_Cord=pd.read_csv(\"/home/jupyter/Maxim_dataset_followup/GEX_HTO_processed/cd4_t_helper_memory_cells/cd4_helper_memory_umap.csv\",index_col=0)"
   ]
  },
  {
   "cell_type": "code",
   "execution_count": null,
   "id": "b3316d08-32f8-48ad-8db5-97f82e841951",
   "metadata": {},
   "outputs": [],
   "source": [
    "adata_subset=adata[UMAP_Cord.index]"
   ]
  },
  {
   "cell_type": "code",
   "execution_count": null,
   "id": "e5a1958e-7208-4b97-a868-038b4c0ee475",
   "metadata": {},
   "outputs": [],
   "source": [
    "adata_subset.obsm['X_umap'] =np.array(UMAP_Cord)"
   ]
  },
  {
   "cell_type": "code",
   "execution_count": null,
   "id": "0873348b-793c-4769-96f0-10338b110c2e",
   "metadata": {},
   "outputs": [],
   "source": [
    "adata_subset=adata_subset[adata_subset.obs[adata_subset.obs['AIFI_L3'].str.contains(\"CD4\", case=False, na=False)].index]"
   ]
  },
  {
   "cell_type": "code",
   "execution_count": null,
   "id": "a0e37378-f466-494c-8304-3e460e957667",
   "metadata": {},
   "outputs": [],
   "source": [
    "adata_subset.obs['AIFI_L3'].value_counts()"
   ]
  },
  {
   "cell_type": "code",
   "execution_count": null,
   "id": "a9c6a918-2fc9-4774-8d10-5717b4dfb5c9",
   "metadata": {},
   "outputs": [],
   "source": [
    "with plt.rc_context({\"figure.figsize\": (5, 5), \"figure.dpi\": 500, \"figure.frameon\": False}):\n",
    "    ax=sc.pl.umap(adata_subset, color=['AIFI_L3'], size=0.5,show=False,legend_loc=None,ncols=1,frameon=False)\n",
    "    gen_mpl_labels(\n",
    "        adata_subset,\n",
    "        \"AIFI_L3\",\n",
    "        exclude=(\"\"),  \n",
    "        ax=ax,\n",
    "        adjust_kwargs=dict(arrowprops=dict(arrowstyle='-', color='black')),\n",
    "        text_kwargs=dict(fontsize=5),)\n",
    "    fig = ax.get_figure()\n",
    "    fig.tight_layout()"
   ]
  },
  {
   "cell_type": "code",
   "execution_count": null,
   "id": "b017e389-0645-4ad3-aeb5-6731a11f3d38",
   "metadata": {},
   "outputs": [],
   "source": [
    "with plt.rc_context({\"figure.figsize\": (5, 5), \"figure.dpi\": 500, \"figure.frameon\": False}):\n",
    "    ax=sc.pl.umap(adata_subset, color=['Origional_Labels_L2'], size=0.5,show=False,legend_loc=None,ncols=1,frameon=False)\n",
    "    gen_mpl_labels(\n",
    "        adata_subset,\n",
    "        \"Origional_Labels_L2\",\n",
    "        exclude=(\"\"),  \n",
    "        ax=ax,\n",
    "        adjust_kwargs=dict(arrowprops=dict(arrowstyle='-', color='black')),\n",
    "        text_kwargs=dict(fontsize=5),)\n",
    "    fig = ax.get_figure()\n",
    "    fig.tight_layout()"
   ]
  },
  {
   "cell_type": "code",
   "execution_count": null,
   "id": "12ce5e73-012b-40f8-a6e1-2e09b9dd7bce",
   "metadata": {},
   "outputs": [],
   "source": []
  },
  {
   "cell_type": "markdown",
   "id": "49e625c5-06b3-48e3-818b-e5c3ceaa0936",
   "metadata": {},
   "source": [
    "# gd T"
   ]
  },
  {
   "cell_type": "code",
   "execution_count": null,
   "id": "939ed947-6dab-49ad-b781-d197f23239f0",
   "metadata": {},
   "outputs": [],
   "source": [
    "UMAP_Cord=pd.read_csv(\"/home/jupyter/Maxim_dataset_followup/GEX_HTO_processed/gd_t_cells/gd_t_cells_umap.csv\",index_col=0)"
   ]
  },
  {
   "cell_type": "code",
   "execution_count": null,
   "id": "b6592232-5a4c-402a-a261-20a768f6f0b0",
   "metadata": {},
   "outputs": [],
   "source": [
    "adata_subset=adata[UMAP_Cord.index]"
   ]
  },
  {
   "cell_type": "code",
   "execution_count": null,
   "id": "fb39d419-3442-47f4-9dd5-31defdd61cc1",
   "metadata": {},
   "outputs": [],
   "source": [
    "adata_subset.obsm['X_umap'] =np.array(UMAP_Cord)"
   ]
  },
  {
   "cell_type": "code",
   "execution_count": null,
   "id": "e7c647ab-73fb-4021-ac66-0d496464400f",
   "metadata": {},
   "outputs": [],
   "source": [
    "adata_subset=adata_subset[adata_subset.obs[adata_subset.obs['AIFI_L3'].str.contains(\"gd\", case=False, na=False)].index]"
   ]
  },
  {
   "cell_type": "code",
   "execution_count": null,
   "id": "2c3cfc86-7ae9-45a5-87d9-e0ed17012cf0",
   "metadata": {},
   "outputs": [],
   "source": [
    "adata_subset.obs['AIFI_L3'].value_counts()"
   ]
  },
  {
   "cell_type": "code",
   "execution_count": null,
   "id": "f6d68503-ccd9-4d7a-bc01-b84098f17162",
   "metadata": {},
   "outputs": [],
   "source": [
    "with plt.rc_context({\"figure.figsize\": (5, 5), \"figure.dpi\": 500, \"figure.frameon\": False}):\n",
    "    ax=sc.pl.umap(adata_subset, color=['AIFI_L3'], size=0.5,show=False,legend_loc=None,ncols=1,frameon=False)\n",
    "    gen_mpl_labels(\n",
    "        adata_subset,\n",
    "        \"AIFI_L3\",\n",
    "        exclude=(\"\"),  \n",
    "        ax=ax,\n",
    "        adjust_kwargs=dict(arrowprops=dict(arrowstyle='-', color='black')),\n",
    "        text_kwargs=dict(fontsize=5),)\n",
    "    fig = ax.get_figure()\n",
    "    fig.tight_layout()"
   ]
  },
  {
   "cell_type": "code",
   "execution_count": null,
   "id": "2b79ea10-4d89-47f1-ac45-d02e552f15ff",
   "metadata": {},
   "outputs": [],
   "source": [
    "with plt.rc_context({\"figure.figsize\": (5, 5), \"figure.dpi\": 500, \"figure.frameon\": False}):\n",
    "    ax=sc.pl.umap(adata_subset, color=['Origional_Labels_L2'], size=0.5,show=False,legend_loc=None,ncols=1,frameon=False)\n",
    "    gen_mpl_labels(\n",
    "        adata_subset,\n",
    "        \"Origional_Labels_L2\",\n",
    "        exclude=(\"\"),  \n",
    "        ax=ax,\n",
    "        adjust_kwargs=dict(arrowprops=dict(arrowstyle='-', color='black')),\n",
    "        text_kwargs=dict(fontsize=5),)\n",
    "    fig = ax.get_figure()\n",
    "    fig.tight_layout()"
   ]
  },
  {
   "cell_type": "code",
   "execution_count": null,
   "id": "bc1c2f1c-a03f-49b7-b38e-2a4b8caaffd4",
   "metadata": {},
   "outputs": [],
   "source": []
  },
  {
   "cell_type": "markdown",
   "id": "e7896fc6-1d7d-4716-8037-13b6a67a069b",
   "metadata": {},
   "source": [
    "# MAIT"
   ]
  },
  {
   "cell_type": "code",
   "execution_count": null,
   "id": "6c457ef1-e0bf-4a46-a882-7cccce1b10c8",
   "metadata": {},
   "outputs": [],
   "source": [
    "UMAP_Cord=pd.read_csv(\"/home/jupyter/Maxim_dataset_followup/GEX_HTO_processed/mait_cells/mait_cells_umap.csv\",index_col=0)"
   ]
  },
  {
   "cell_type": "code",
   "execution_count": null,
   "id": "1bcf2bf2-9661-4554-94dc-d9a75415d045",
   "metadata": {},
   "outputs": [],
   "source": [
    "adata_subset=adata[UMAP_Cord.index]"
   ]
  },
  {
   "cell_type": "code",
   "execution_count": null,
   "id": "1054d5cb-4e05-4f14-bad9-0b495861ccdf",
   "metadata": {},
   "outputs": [],
   "source": [
    "adata_subset.obsm['X_umap'] =np.array(UMAP_Cord)"
   ]
  },
  {
   "cell_type": "code",
   "execution_count": null,
   "id": "d2352e7f-b572-4a91-8a81-a130ce6109eb",
   "metadata": {},
   "outputs": [],
   "source": [
    "adata_subset=adata_subset[adata_subset.obs[adata_subset.obs['AIFI_L3'].str.contains(\"MAIT\", case=False, na=False)].index]"
   ]
  },
  {
   "cell_type": "code",
   "execution_count": null,
   "id": "1fc6632e-2173-4f74-84c9-8434efd8273f",
   "metadata": {},
   "outputs": [],
   "source": [
    "with plt.rc_context({\"figure.figsize\": (5, 5), \"figure.dpi\": 500, \"figure.frameon\": False}):\n",
    "    ax=sc.pl.umap(adata_subset, color=['AIFI_L3'], size=0.5,show=False,legend_loc=None,ncols=1,frameon=False)\n",
    "    gen_mpl_labels(\n",
    "        adata_subset,\n",
    "        \"AIFI_L3\",\n",
    "        exclude=(\"\"),  \n",
    "        ax=ax,\n",
    "        adjust_kwargs=dict(arrowprops=dict(arrowstyle='-', color='black')),\n",
    "        text_kwargs=dict(fontsize=5),)\n",
    "    fig = ax.get_figure()\n",
    "    fig.tight_layout()"
   ]
  },
  {
   "cell_type": "code",
   "execution_count": null,
   "id": "3be72ec2-7465-43c4-af2d-4a088510f144",
   "metadata": {},
   "outputs": [],
   "source": [
    "with plt.rc_context({\"figure.figsize\": (5, 5), \"figure.dpi\": 500, \"figure.frameon\": False}):\n",
    "    ax=sc.pl.umap(adata_subset, color=['Origional_Labels_L2'], size=0.5,show=False,legend_loc=None,ncols=1,frameon=False)\n",
    "    gen_mpl_labels(\n",
    "        adata_subset,\n",
    "        \"Origional_Labels_L2\",\n",
    "        exclude=(\"\"),  \n",
    "        ax=ax,\n",
    "        adjust_kwargs=dict(arrowprops=dict(arrowstyle='-', color='black')),\n",
    "        text_kwargs=dict(fontsize=5),)\n",
    "    fig = ax.get_figure()\n",
    "    fig.tight_layout()"
   ]
  },
  {
   "cell_type": "code",
   "execution_count": null,
   "id": "d4b7044c-3f11-49fc-a023-12e183f5d619",
   "metadata": {},
   "outputs": [],
   "source": []
  },
  {
   "cell_type": "markdown",
   "id": "633cbe0e-1f21-4e20-97b8-b4363f0441ed",
   "metadata": {},
   "source": [
    "# B T"
   ]
  },
  {
   "cell_type": "code",
   "execution_count": null,
   "id": "4f9941f9-72a3-4e95-a9c7-7c2f5978ce1c",
   "metadata": {},
   "outputs": [],
   "source": [
    "UMAP_Cord=pd.read_csv(\"/home/jupyter/Maxim_dataset_followup/GEX_HTO_processed/b_cells/b_cells_umap.csv\",index_col=0)"
   ]
  },
  {
   "cell_type": "code",
   "execution_count": null,
   "id": "3e7aeb0e-44b8-4c79-ae4f-f36cac1d067c",
   "metadata": {},
   "outputs": [],
   "source": [
    "adata_subset=adata[UMAP_Cord.index]"
   ]
  },
  {
   "cell_type": "code",
   "execution_count": null,
   "id": "4db5b09c-75c3-4aa7-8af8-4d94ce300e22",
   "metadata": {},
   "outputs": [],
   "source": [
    "adata_subset.obsm['X_umap'] =np.array(UMAP_Cord)"
   ]
  },
  {
   "cell_type": "code",
   "execution_count": null,
   "id": "61fa4e27-56af-4109-bbce-30eead579702",
   "metadata": {},
   "outputs": [],
   "source": [
    "adata_subset=adata_subset[adata_subset.obs[adata_subset.obs['AIFI_L3'].str.contains(\"B cell|Plasma\", case=False, na=False)].index]"
   ]
  },
  {
   "cell_type": "code",
   "execution_count": null,
   "id": "a306c8b8-f48c-457f-9201-01b813a1b5ed",
   "metadata": {},
   "outputs": [],
   "source": [
    "adata_subset.obs['AIFI_L3'].value_counts()"
   ]
  },
  {
   "cell_type": "code",
   "execution_count": null,
   "id": "d8bffc1e-ca8d-4f1c-b3de-203ea81429a1",
   "metadata": {},
   "outputs": [],
   "source": [
    "with plt.rc_context({\"figure.figsize\": (5, 5), \"figure.dpi\": 500, \"figure.frameon\": False}):\n",
    "    ax=sc.pl.umap(adata_subset, color=['AIFI_L3'], size=0.5,show=False,legend_loc=None,ncols=1,frameon=False)\n",
    "    gen_mpl_labels(\n",
    "        adata_subset,\n",
    "        \"AIFI_L3\",\n",
    "        exclude=(\"\"),  \n",
    "        ax=ax,\n",
    "        adjust_kwargs=dict(arrowprops=dict(arrowstyle='-', color='black')),\n",
    "        text_kwargs=dict(fontsize=5),)\n",
    "    fig = ax.get_figure()\n",
    "    fig.tight_layout()"
   ]
  },
  {
   "cell_type": "code",
   "execution_count": null,
   "id": "c9f03b34-d242-41c1-9fad-68304a8dc0bc",
   "metadata": {},
   "outputs": [],
   "source": []
  },
  {
   "cell_type": "code",
   "execution_count": null,
   "id": "cb961765-179d-4895-b211-51c799ba5336",
   "metadata": {},
   "outputs": [],
   "source": [
    "with plt.rc_context({\"figure.figsize\": (5, 5), \"figure.dpi\": 500, \"figure.frameon\": False}):\n",
    "    ax=sc.pl.umap(adata_subset, color=['Origional_Labels_L2'], size=0.5,show=False,legend_loc=None,ncols=1,frameon=False)\n",
    "    gen_mpl_labels(\n",
    "        adata_subset,\n",
    "        \"Origional_Labels_L2\",\n",
    "        exclude=(\"\"),  \n",
    "        ax=ax,\n",
    "        adjust_kwargs=dict(arrowprops=dict(arrowstyle='-', color='black')),\n",
    "        text_kwargs=dict(fontsize=5),)\n",
    "    fig = ax.get_figure()\n",
    "    fig.tight_layout()"
   ]
  },
  {
   "cell_type": "code",
   "execution_count": null,
   "id": "93486732-97f9-4993-ba00-ac919eaab192",
   "metadata": {},
   "outputs": [],
   "source": []
  },
  {
   "cell_type": "markdown",
   "id": "979bbb9e-67ef-4149-85c2-7737ede8747e",
   "metadata": {},
   "source": [
    "# NK"
   ]
  },
  {
   "cell_type": "code",
   "execution_count": null,
   "id": "38e453d9-0737-4d40-a274-5941aeb2762a",
   "metadata": {},
   "outputs": [],
   "source": [
    "UMAP_Cord=pd.read_csv(\"/home/jupyter/Maxim_dataset_followup/GEX_HTO_processed/nk_cells/nk_cells_umap.csv\",index_col=0)"
   ]
  },
  {
   "cell_type": "code",
   "execution_count": null,
   "id": "da13bfda-452e-42b2-b86b-5281f3a2ce05",
   "metadata": {},
   "outputs": [],
   "source": [
    "adata_subset=adata[UMAP_Cord.index]"
   ]
  },
  {
   "cell_type": "code",
   "execution_count": null,
   "id": "39b3c3cc-536f-422a-bfad-b39e7ed801d4",
   "metadata": {},
   "outputs": [],
   "source": [
    "adata_subset.obsm['X_umap'] =np.array(UMAP_Cord)"
   ]
  },
  {
   "cell_type": "code",
   "execution_count": null,
   "id": "df29dbcc-f300-457a-9ee1-e17a1fb17515",
   "metadata": {},
   "outputs": [],
   "source": [
    "adata_subset=adata_subset[adata_subset.obs[adata_subset.obs['AIFI_L3'].str.contains(\"NK|ILC\", case=False, na=False)].index]"
   ]
  },
  {
   "cell_type": "code",
   "execution_count": null,
   "id": "a50a49d8-8762-4e2e-b704-6fd2ad98eb6c",
   "metadata": {},
   "outputs": [],
   "source": [
    "adata_subset.obs['AIFI_L3'].value_counts()"
   ]
  },
  {
   "cell_type": "code",
   "execution_count": null,
   "id": "50b6f407-de41-412f-9e01-90dd7e4a8be4",
   "metadata": {},
   "outputs": [],
   "source": [
    "with plt.rc_context({\"figure.figsize\": (5, 5), \"figure.dpi\": 500, \"figure.frameon\": False}):\n",
    "    ax=sc.pl.umap(adata_subset, color=['AIFI_L3'], size=0.5,show=False,legend_loc=None,ncols=1,frameon=False)\n",
    "    gen_mpl_labels(\n",
    "        adata_subset,\n",
    "        \"AIFI_L3\",\n",
    "        exclude=(\"\"),  \n",
    "        ax=ax,\n",
    "        adjust_kwargs=dict(arrowprops=dict(arrowstyle='-', color='black')),\n",
    "        text_kwargs=dict(fontsize=5),)\n",
    "    fig = ax.get_figure()\n",
    "    fig.tight_layout()"
   ]
  },
  {
   "cell_type": "code",
   "execution_count": null,
   "id": "3178b663-631f-4904-91fe-a705e68a97f2",
   "metadata": {},
   "outputs": [],
   "source": [
    "with plt.rc_context({\"figure.figsize\": (5, 5), \"figure.dpi\": 500, \"figure.frameon\": False}):\n",
    "    ax=sc.pl.umap(adata_subset, color=['Origional_Labels_L2'], size=0.5,show=False,legend_loc=None,ncols=1,frameon=False)\n",
    "    gen_mpl_labels(\n",
    "        adata_subset,\n",
    "        \"Origional_Labels_L2\",\n",
    "        exclude=(\"\"),  \n",
    "        ax=ax,\n",
    "        adjust_kwargs=dict(arrowprops=dict(arrowstyle='-', color='black')),\n",
    "        text_kwargs=dict(fontsize=5),)\n",
    "    fig = ax.get_figure()\n",
    "    fig.tight_layout()"
   ]
  },
  {
   "cell_type": "code",
   "execution_count": null,
   "id": "bc0b3554-e1ee-4ba9-bf0a-580fa3b6bb59",
   "metadata": {},
   "outputs": [],
   "source": []
  },
  {
   "cell_type": "markdown",
   "id": "3aac6cc4-bd2c-42be-bea2-d2c9289e0147",
   "metadata": {},
   "source": [
    "# Myeloid"
   ]
  },
  {
   "cell_type": "code",
   "execution_count": null,
   "id": "75386022-a151-4e5b-9bb8-0715b1ac6326",
   "metadata": {},
   "outputs": [],
   "source": [
    "UMAP_Cord=pd.read_csv(\"/home/jupyter/Maxim_dataset_followup/GEX_HTO_processed/myeloid_cells/myeloid_cells_umap.csv\",index_col=0)"
   ]
  },
  {
   "cell_type": "code",
   "execution_count": null,
   "id": "97c7566d-fb42-4aab-84c2-6e8450bb116e",
   "metadata": {},
   "outputs": [],
   "source": [
    "adata_subset=adata[UMAP_Cord.index]"
   ]
  },
  {
   "cell_type": "code",
   "execution_count": null,
   "id": "0e125593-9b4a-4661-b927-fc4a65dd7a56",
   "metadata": {},
   "outputs": [],
   "source": [
    "adata_subset.obsm['X_umap'] =np.array(UMAP_Cord)"
   ]
  },
  {
   "cell_type": "code",
   "execution_count": null,
   "id": "9a528541-ac1a-46ee-b94a-8bbd3a4a3d7e",
   "metadata": {},
   "outputs": [],
   "source": [
    "adata_subset=adata_subset[adata_subset.obs[adata_subset.obs['AIFI_L3'].str.contains(\"mono|DC\", case=False, na=False)].index]"
   ]
  },
  {
   "cell_type": "code",
   "execution_count": null,
   "id": "497149b8-394b-4d6f-95f2-0badc607935a",
   "metadata": {},
   "outputs": [],
   "source": [
    "with plt.rc_context({\"figure.figsize\": (5, 5), \"figure.dpi\": 500, \"figure.frameon\": False}):\n",
    "    ax=sc.pl.umap(adata_subset, \n",
    "                  color=['AIFI_L3'], \n",
    "                  size=0.5,\n",
    "                  show=False,\n",
    "                  legend_loc=None,\n",
    "                  ncols=1,\n",
    "                  frameon=False)\n",
    "    gen_mpl_labels(\n",
    "        adata_subset,\n",
    "        \"AIFI_L3\",\n",
    "        exclude=(\"\"),  \n",
    "        ax=ax,\n",
    "        adjust_kwargs=dict(arrowprops=dict(arrowstyle='-', color='black')),\n",
    "        text_kwargs=dict(fontsize=5),)\n",
    "    fig = ax.get_figure()\n",
    "    fig.tight_layout()"
   ]
  },
  {
   "cell_type": "code",
   "execution_count": null,
   "id": "993f12e7-56c9-4784-8a72-eec1cb351edd",
   "metadata": {},
   "outputs": [],
   "source": [
    "with plt.rc_context({\"figure.figsize\": (5, 5), \"figure.dpi\": 500, \"figure.frameon\": False}):\n",
    "    ax=sc.pl.umap(adata_subset, color=['Origional_Labels_L2'], size=0.5,show=False,legend_loc=None,ncols=1,frameon=False)\n",
    "    gen_mpl_labels(\n",
    "        adata_subset,\n",
    "        \"Origional_Labels_L2\",\n",
    "        exclude=(\"\"),  \n",
    "        ax=ax,\n",
    "        adjust_kwargs=dict(arrowprops=dict(arrowstyle='-', color='black')),\n",
    "        text_kwargs=dict(fontsize=5),)\n",
    "    fig = ax.get_figure()\n",
    "    fig.tight_layout()"
   ]
  },
  {
   "cell_type": "code",
   "execution_count": null,
   "id": "a67d0635-38f7-4487-a1c5-bff069f8052e",
   "metadata": {},
   "outputs": [],
   "source": []
  }
 ],
 "metadata": {
  "kernelspec": {
   "display_name": "Python_BRI_Figures",
   "language": "python",
   "name": "python_bri_figures"
  },
  "language_info": {
   "codemirror_mode": {
    "name": "ipython",
    "version": 3
   },
   "file_extension": ".py",
   "mimetype": "text/x-python",
   "name": "python",
   "nbconvert_exporter": "python",
   "pygments_lexer": "ipython3",
   "version": "3.11.0"
  }
 },
 "nbformat": 4,
 "nbformat_minor": 5
}
