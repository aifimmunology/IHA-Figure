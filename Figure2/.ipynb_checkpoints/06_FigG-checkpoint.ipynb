{
 "cells": [
  {
   "cell_type": "code",
   "execution_count": 15,
   "id": "d45aba0d-055c-47f1-b508-f9768178c969",
   "metadata": {},
   "outputs": [],
   "source": [
    "library(dplyr)\n",
    "library(tidyr)\n",
    "library(tibble)\n",
    "library(ggplot2)\n",
    "library(stringr)\n",
    "library(ggstream)\n",
    "library(geomtextpath)\n",
    "library(ggrepel)\n",
    "\n",
    "library(bbplot)\n",
    "source('/home//jupyter/BRI_Figures_Final_V2/helper_function/helper_function_IHA.r')"
   ]
  },
  {
   "cell_type": "code",
   "execution_count": 16,
   "id": "e6d6f425-8369-4afe-bddd-183ae12ce470",
   "metadata": {},
   "outputs": [],
   "source": [
    "color_annotation<-read.csv('../Color_hex_codes/Cell_Type_Color_Annotation_and_Order.csv')\n",
    "color_annotation$label<-gsub(\" cell\",'',color_annotation$label)\n",
    "color_vector <- setNames(color_annotation$color, color_annotation$label)"
   ]
  },
  {
   "cell_type": "code",
   "execution_count": 17,
   "id": "bd3cd10e-5e23-4b8c-90ed-f9d744b2a3c4",
   "metadata": {},
   "outputs": [],
   "source": [
    "df<-read.csv(\"04_Composite_Score/SF4_CompositeScore_Down.csv\")"
   ]
  },
  {
   "cell_type": "code",
   "execution_count": 18,
   "id": "d771abea-67e3-4908-84c0-aee2dde84b78",
   "metadata": {},
   "outputs": [],
   "source": [
    "df$celltype<-gsub(\" cell\",'',df$celltype)"
   ]
  },
  {
   "cell_type": "code",
   "execution_count": 19,
   "id": "7c51ce50-f0ac-42ce-9c92-50b9db82146b",
   "metadata": {},
   "outputs": [],
   "source": [
    "df <- df %>% group_by(celltype)%>%\n",
    "  arrange(desc(Ages))%>%\n",
    "  mutate(label = ifelse(row_number() == 1 & \n",
    "                        Ages == max(Ages), \n",
    "                        as.character(celltype), \n",
    "                        NA_character_))"
   ]
  },
  {
   "cell_type": "code",
   "execution_count": 20,
   "id": "0b452c7c-b06c-4d13-aff9-2f2e00f2930b",
   "metadata": {},
   "outputs": [
    {
     "name": "stderr",
     "output_type": "stream",
     "text": [
      "\u001b[1m\u001b[22m`geom_smooth()` using method = 'loess' and formula = 'y ~ x'\n",
      "\u001b[1m\u001b[22m`geom_smooth()` using method = 'loess' and formula = 'y ~ x'\n"
     ]
    },
    {
     "data": {
      "image/png": "[encoded data removed]",
      "text/plain": [
       "plot without title"
      ]
     },
     "metadata": {
      "image/png": {
       "height": 82.6772,
       "width": 129.9213
      }
     },
     "output_type": "display_data"
    }
   ],
   "source": [
    "options(repr.plot.width = 55/25.4, repr.plot.height = 35/25.4)\n",
    "\n",
    "p <- ggplot(data = df, aes(x = Ages, y = composite_score_sum_scaled_mean, color = celltype, group = celltype)) +\n",
    "  geom_smooth(se = TRUE, fill = \"#E0E0E0\", linewidth = 0.5) +\n",
    "  scale_color_manual(values = color_vector)  +\n",
    "  theme_classic(base_size = 6) +\n",
    "  theme(legend.position = \"none\")+\n",
    " geom_vline(xintercept = 72)+ylab(\"Age Composite Metric\") \n",
    "\n",
    "\n",
    "p\n",
    "\n",
    "ggsave('FigureG.pdf',p,width = 55/25.4,height = 35/25.4)"
   ]
  },
  {
   "cell_type": "code",
   "execution_count": null,
   "id": "4333e75f-c1f8-43aa-9490-c58b90ad274b",
   "metadata": {},
   "outputs": [],
   "source": []
  }
 ],
 "metadata": {
  "kernelspec": {
   "display_name": "R 4",
   "language": "R",
   "name": "ir4"
  },
  "language_info": {
   "codemirror_mode": "r",
   "file_extension": ".r",
   "mimetype": "text/x-r-source",
   "name": "R",
   "pygments_lexer": "r",
   "version": "4.3.2"
  }
 },
 "nbformat": 4,
 "nbformat_minor": 5
}
