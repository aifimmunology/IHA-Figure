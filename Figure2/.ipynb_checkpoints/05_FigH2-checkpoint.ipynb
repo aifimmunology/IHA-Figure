{
 "cells": [
  {
   "cell_type": "code",
   "execution_count": 19,
   "id": "6b9645c3-c2c7-4c06-8bd1-e9f1bae7c09f",
   "metadata": {},
   "outputs": [],
   "source": [
    "suppressPackageStartupMessages(library(dplyr))\n",
    "suppressPackageStartupMessages(library(tidyr))\n",
    "suppressPackageStartupMessages(library(tibble))\n",
    "suppressPackageStartupMessages(library(stringr))\n",
    "library(plyr)\n",
    "library(ggplot2)\n",
    "library(pheatmap)\n",
    "library(RColorBrewer)\n",
    "library(viridis)\n",
    "library(ComplexHeatmap)\n",
    "library(matrixStats)\n",
    "library(circlize)"
   ]
  },
  {
   "cell_type": "code",
   "execution_count": 20,
   "id": "993cd627-3c6f-491d-921a-6d1bfd1139fd",
   "metadata": {},
   "outputs": [],
   "source": [
    "color_annotation<-read.csv('../Color_hex_codes/Cell_Type_Color_Annotation_and_Order.csv')\n",
    "color_annotation$label<-gsub(\" cell\",'',color_annotation$label)\n",
    "color_vector <- setNames(color_annotation$color, color_annotation$label)"
   ]
  },
  {
   "cell_type": "code",
   "execution_count": 21,
   "id": "028e2d53-498a-4505-bc9c-6123e4c5c3fd",
   "metadata": {},
   "outputs": [],
   "source": [
    "df<-read.csv(\"07_Extract_Mean_Experssion_External_Dataset/Up_Selected_Onek1K.csv\",row.name=1)"
   ]
  },
  {
   "cell_type": "code",
   "execution_count": 22,
   "id": "c165ac5c-8302-4a32-b4df-1a078dba4df1",
   "metadata": {},
   "outputs": [],
   "source": [
    "df<-df[grepl(\"SESN3|PTG\",rownames(df)),]"
   ]
  },
  {
   "cell_type": "code",
   "execution_count": 23,
   "id": "5a9154b9-97c6-41ba-8698-4f0c8e1867c4",
   "metadata": {},
   "outputs": [],
   "source": [
    "colnames(df)<-gsub(\"X\",\"Age_\",colnames(df))\n",
    "write.csv(df,\n",
    "          \"/home//workspace/Source_Data/Fig2h_2.csv\")\n",
    "colnames(df)<-gsub(\"Age_\",\"X\",colnames(df))\n"
   ]
  },
  {
   "cell_type": "code",
   "execution_count": 25,
   "id": "f740a6bb-8aae-4d58-ac4b-ecf5d30a7105",
   "metadata": {},
   "outputs": [],
   "source": [
    "rownames(df)<-gsub(\" cell\",\"\",rownames(df))"
   ]
  },
  {
   "cell_type": "code",
   "execution_count": 26,
   "id": "6edc5c2c-43dc-4fe8-9cc6-ce31b22831fc",
   "metadata": {},
   "outputs": [],
   "source": [
    "Top_annotation<-as.data.frame(colnames(df))\n",
    "Top_annotation$Ages<-as.numeric(gsub(\"X\",\"\",colnames(df)))\n",
    "rownames(Top_annotation)<-colnames(df)"
   ]
  },
  {
   "cell_type": "code",
   "execution_count": 27,
   "id": "fe81a957-9b97-4437-81b9-befeafbe8259",
   "metadata": {},
   "outputs": [],
   "source": [
    "\n",
    "breaks_sequence <- seq(-1, 1, length.out = 100)\n",
    "mat_scaled       <- t(scale(t(as.matrix(df))))\n",
    "rownames(mat_scaled)<- sub(\".*?:\", \"\", rownames(mat_scaled))\n",
    "\n",
    "my_row_cols      <- color_vector[rownames(mat_scaled)]\n",
    "ha_top <- HeatmapAnnotation(\n",
    "  Ages = Top_annotation[[2]],\n",
    "  col = list(\n",
    "    Ages = colorRamp2(c(40, 90), c(\"white\", \"dark green\"))\n",
    "  ),\n",
    "  annotation_legend_param = list(\n",
    "    Ages = list(\n",
    "      at = c(40, 65, 90),\n",
    "      title = \"Ages\",\n",
    "      direction = \"horizontal\"\n",
    "    )\n",
    "  ))\n",
    "\n"
   ]
  },
  {
   "cell_type": "code",
   "execution_count": 28,
   "id": "13d0dd74-b9cb-4e2b-b3e1-0bf8f17868e6",
   "metadata": {},
   "outputs": [
    {
     "data": {
      "text/html": [
       "<strong>pdf:</strong> 2"
      ],
      "text/latex": [
       "\\textbf{pdf:} 2"
      ],
      "text/markdown": [
       "**pdf:** 2"
      ],
      "text/plain": [
       "pdf \n",
       "  2 "
      ]
     },
     "metadata": {},
     "output_type": "display_data"
    }
   ],
   "source": [
    "options(repr.plot.width = 70/25.4, repr.plot.height = 40/25.4)\n",
    "\n",
    "ht <- Heatmap(\n",
    "  mat_scaled,\n",
    "  name             = \"value\",\n",
    "  col              = colorRamp2(breaks_sequence, inferno(100)),\n",
    "  top_annotation   = ha_top,\n",
    "  cluster_rows     = FALSE,\n",
    "  cluster_columns  = FALSE,\n",
    "  show_column_names= FALSE,\n",
    "  row_names_gp     = gpar(fontsize = 6, col = my_row_cols),\n",
    "  row_split        = c(rep(\"SESN3\", 4), rep(\"PTGER2\", 4)),\n",
    "  row_title_gp     = gpar(fontsize = 6),\n",
    "  heatmap_legend_param = list(\n",
    "    direction = \"horizontal\"\n",
    "  ))\n",
    "\n",
    "pdf(\"FigureH2.pdf\", width = 60/25.4, height = 40/25.4)  # size in inches\n",
    "draw(\n",
    "  ht,\n",
    "  heatmap_legend_side = \"bottom\",\n",
    "  annotation_legend_side = \"bottom\",\n",
    "  merge_legends = TRUE\n",
    ")\n",
    "dev.off()"
   ]
  }
 ],
 "metadata": {
  "kernelspec": {
   "display_name": "R_BRI_Figures",
   "language": "R",
   "name": "r_bri_figures"
  },
  "language_info": {
   "codemirror_mode": "r",
   "file_extension": ".r",
   "mimetype": "text/x-r-source",
   "name": "R",
   "pygments_lexer": "r",
   "version": "4.3.2"
  }
 },
 "nbformat": 4,
 "nbformat_minor": 5
}
