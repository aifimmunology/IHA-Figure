{
 "cells": [
  {
   "cell_type": "code",
   "execution_count": 1,
   "id": "6b9645c3-c2c7-4c06-8bd1-e9f1bae7c09f",
   "metadata": {},
   "outputs": [
    {
     "name": "stderr",
     "output_type": "stream",
     "text": [
      "Warning message:\n",
      "“package ‘dplyr’ was built under R version 4.3.3”\n",
      "Warning message:\n",
      "“package ‘tidyr’ was built under R version 4.3.3”\n",
      "Warning message:\n",
      "“package ‘tibble’ was built under R version 4.3.3”\n",
      "Warning message:\n",
      "“package ‘stringr’ was built under R version 4.3.3”\n",
      "Warning message:\n",
      "“package ‘plyr’ was built under R version 4.3.3”\n",
      "------------------------------------------------------------------------------\n",
      "\n",
      "You have loaded plyr after dplyr - this is likely to cause problems.\n",
      "If you need functions from both plyr and dplyr, please load plyr first, then dplyr:\n",
      "library(plyr); library(dplyr)\n",
      "\n",
      "------------------------------------------------------------------------------\n",
      "\n",
      "\n",
      "Attaching package: ‘plyr’\n",
      "\n",
      "\n",
      "The following objects are masked from ‘package:dplyr’:\n",
      "\n",
      "    arrange, count, desc, failwith, id, mutate, rename, summarise,\n",
      "    summarize\n",
      "\n",
      "\n",
      "Warning message:\n",
      "“package ‘pheatmap’ was built under R version 4.3.3”\n",
      "Warning message:\n",
      "“package ‘RColorBrewer’ was built under R version 4.3.3”\n",
      "Loading required package: viridisLite\n",
      "\n",
      "Warning message:\n",
      "“package ‘viridisLite’ was built under R version 4.3.3”\n",
      "Loading required package: grid\n",
      "\n",
      "========================================\n",
      "ComplexHeatmap version 2.18.0\n",
      "Bioconductor page: http://bioconductor.org/packages/ComplexHeatmap/\n",
      "Github page: https://github.com/jokergoo/ComplexHeatmap\n",
      "Documentation: http://jokergoo.github.io/ComplexHeatmap-reference\n",
      "\n",
      "If you use it in published research, please cite either one:\n",
      "- Gu, Z. Complex Heatmap Visualization. iMeta 2022.\n",
      "- Gu, Z. Complex heatmaps reveal patterns and correlations in multidimensional \n",
      "    genomic data. Bioinformatics 2016.\n",
      "\n",
      "\n",
      "The new InteractiveComplexHeatmap package can directly export static \n",
      "complex heatmaps into an interactive Shiny app with zero effort. Have a try!\n",
      "\n",
      "This message can be suppressed by:\n",
      "  suppressPackageStartupMessages(library(ComplexHeatmap))\n",
      "========================================\n",
      "! pheatmap() has been masked by ComplexHeatmap::pheatmap(). Most of the arguments\n",
      "   in the original pheatmap() are identically supported in the new function. You \n",
      "   can still use the original function by explicitly calling pheatmap::pheatmap().\n",
      "\n",
      "\n",
      "\n",
      "Attaching package: ‘ComplexHeatmap’\n",
      "\n",
      "\n",
      "The following object is masked from ‘package:pheatmap’:\n",
      "\n",
      "    pheatmap\n",
      "\n",
      "\n",
      "Warning message:\n",
      "“package ‘matrixStats’ was built under R version 4.3.3”\n",
      "\n",
      "Attaching package: ‘matrixStats’\n",
      "\n",
      "\n",
      "The following object is masked from ‘package:plyr’:\n",
      "\n",
      "    count\n",
      "\n",
      "\n",
      "The following object is masked from ‘package:dplyr’:\n",
      "\n",
      "    count\n",
      "\n",
      "\n",
      "Warning message:\n",
      "“package ‘circlize’ was built under R version 4.3.3”\n",
      "========================================\n",
      "circlize version 0.4.16\n",
      "CRAN page: https://cran.r-project.org/package=circlize\n",
      "Github page: https://github.com/jokergoo/circlize\n",
      "Documentation: https://jokergoo.github.io/circlize_book/book/\n",
      "\n",
      "If you use it in published research, please cite:\n",
      "Gu, Z. circlize implements and enhances circular visualization\n",
      "  in R. Bioinformatics 2014.\n",
      "\n",
      "This message can be suppressed by:\n",
      "  suppressPackageStartupMessages(library(circlize))\n",
      "========================================\n",
      "\n",
      "\n"
     ]
    }
   ],
   "source": [
    "suppressPackageStartupMessages(library(dplyr))\n",
    "suppressPackageStartupMessages(library(tidyr))\n",
    "suppressPackageStartupMessages(library(tibble))\n",
    "suppressPackageStartupMessages(library(stringr))\n",
    "library(plyr)\n",
    "library(ggplot2)\n",
    "library(pheatmap)\n",
    "library(RColorBrewer)\n",
    "library(viridis)\n",
    "library(ComplexHeatmap)\n",
    "library(matrixStats)\n",
    "library(circlize)"
   ]
  },
  {
   "cell_type": "code",
   "execution_count": 2,
   "id": "993cd627-3c6f-491d-921a-6d1bfd1139fd",
   "metadata": {},
   "outputs": [],
   "source": [
    "color_annotation<-read.csv('../Color_hex_codes/Cell_Type_Color_Annotation_and_Order.csv')\n",
    "color_annotation$label<-gsub(\" cell\",'',color_annotation$label)\n",
    "color_vector <- setNames(color_annotation$color, color_annotation$label)"
   ]
  },
  {
   "cell_type": "code",
   "execution_count": 4,
   "id": "028e2d53-498a-4505-bc9c-6123e4c5c3fd",
   "metadata": {},
   "outputs": [],
   "source": [
    "df<-read.csv(\"06_Extract_Mean_Expression_SF4/Up_Selected_Genes.csv\",row.name=1)"
   ]
  },
  {
   "cell_type": "code",
   "execution_count": 5,
   "id": "c165ac5c-8302-4a32-b4df-1a078dba4df1",
   "metadata": {},
   "outputs": [],
   "source": [
    "df<-df[grepl(\"SESN3|PTG\",rownames(df)),]"
   ]
  },
  {
   "cell_type": "raw",
   "id": "7735e6fb-6162-47e2-b178-a29754d50cd1",
   "metadata": {},
   "source": [
    "new_rownames <- sub(\".*?:\", \"\", rownames(df))\n",
    "if (any(duplicated(new_rownames))) {\n",
    "  new_rownames <- make.unique(new_rownames)\n",
    "}\n",
    "rownames(df) <- new_rownames"
   ]
  },
  {
   "cell_type": "code",
   "execution_count": 6,
   "id": "f740a6bb-8aae-4d58-ac4b-ecf5d30a7105",
   "metadata": {},
   "outputs": [],
   "source": [
    "rownames(df)<-gsub(\" cell\",\"\",rownames(df))"
   ]
  },
  {
   "cell_type": "code",
   "execution_count": 7,
   "id": "6edc5c2c-43dc-4fe8-9cc6-ce31b22831fc",
   "metadata": {},
   "outputs": [],
   "source": [
    "Top_annotation<-as.data.frame(colnames(df))\n",
    "Top_annotation$Ages<-as.numeric(gsub(\"X\",\"\",colnames(df)))\n",
    "rownames(Top_annotation)<-colnames(df)"
   ]
  },
  {
   "cell_type": "code",
   "execution_count": 8,
   "id": "fe81a957-9b97-4437-81b9-befeafbe8259",
   "metadata": {},
   "outputs": [],
   "source": [
    "\n",
    "breaks_sequence <- seq(-1, 1, length.out = 100)\n",
    "mat_scaled       <- t(scale(t(as.matrix(df))))\n",
    "rownames(mat_scaled)<- sub(\".*?:\", \"\", rownames(mat_scaled))\n",
    "\n",
    "my_row_cols      <- color_vector[rownames(mat_scaled)]\n",
    "ha_top <- HeatmapAnnotation(\n",
    "  Ages = Top_annotation[[2]],\n",
    "  col = list(\n",
    "    Ages = colorRamp2(c(40, 90), c(\"white\", \"dark green\"))\n",
    "  ),\n",
    "  annotation_legend_param = list(\n",
    "    Ages = list(\n",
    "      at = c(40, 65, 90),\n",
    "      title = \"Ages\",\n",
    "      direction = \"horizontal\"\n",
    "    )\n",
    "  ))\n",
    "\n"
   ]
  },
  {
   "cell_type": "code",
   "execution_count": null,
   "id": "7ee6eb8f-cf99-4b45-a0e2-44c1534c506f",
   "metadata": {},
   "outputs": [],
   "source": []
  },
  {
   "cell_type": "code",
   "execution_count": 9,
   "id": "13d0dd74-b9cb-4e2b-b3e1-0bf8f17868e6",
   "metadata": {},
   "outputs": [
    {
     "data": {
      "text/html": [
       "<strong>pdf:</strong> 2"
      ],
      "text/latex": [
       "\\textbf{pdf:} 2"
      ],
      "text/markdown": [
       "**pdf:** 2"
      ],
      "text/plain": [
       "pdf \n",
       "  2 "
      ]
     },
     "metadata": {},
     "output_type": "display_data"
    }
   ],
   "source": [
    "options(repr.plot.width = 70/25.4, repr.plot.height = 40/25.4)\n",
    "\n",
    "ht <- Heatmap(\n",
    "  mat_scaled,\n",
    "  name             = \"value\",\n",
    "  col              = colorRamp2(breaks_sequence, inferno(100)),\n",
    "  top_annotation   = ha_top,\n",
    "  cluster_rows     = FALSE,\n",
    "  cluster_columns  = FALSE,\n",
    "  show_column_names= FALSE,\n",
    "  row_names_gp     = gpar(fontsize = 6, col = my_row_cols),\n",
    "  row_split        = c(rep(\"SESN3\", 4), rep(\"PEGER2\", 4)),\n",
    "  row_title_gp     = gpar(fontsize = 6),\n",
    "  heatmap_legend_param = list(\n",
    "    direction = \"horizontal\"\n",
    "  ))\n",
    "\n",
    "pdf(\"FigureG.pdf\", width = 60/25.4, height = 40/25.4)  # size in inches\n",
    "draw(\n",
    "  ht,\n",
    "  heatmap_legend_side = \"bottom\",\n",
    "  annotation_legend_side = \"bottom\",\n",
    "  merge_legends = TRUE\n",
    ")\n",
    "dev.off()"
   ]
  },
  {
   "cell_type": "code",
   "execution_count": null,
   "id": "4252e348-e83f-4a1d-b969-14234b4dab29",
   "metadata": {},
   "outputs": [],
   "source": []
  }
 ],
 "metadata": {
  "kernelspec": {
   "display_name": "R_BRI_Figures",
   "language": "R",
   "name": "r_bri_figures"
  },
  "language_info": {
   "codemirror_mode": "r",
   "file_extension": ".r",
   "mimetype": "text/x-r-source",
   "name": "R",
   "pygments_lexer": "r",
   "version": "4.3.2"
  }
 },
 "nbformat": 4,
 "nbformat_minor": 5
}
