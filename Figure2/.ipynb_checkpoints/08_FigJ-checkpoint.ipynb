{
 "cells": [
  {
   "cell_type": "code",
   "execution_count": 13,
   "id": "84090040-189c-4efd-b69f-c87bde996b17",
   "metadata": {},
   "outputs": [],
   "source": [
    "suppressPackageStartupMessages(library(dplyr))\n",
    "suppressPackageStartupMessages(library(tidyr))\n",
    "suppressPackageStartupMessages(library(tibble))\n",
    "suppressPackageStartupMessages(library(ggplot2))\n",
    "suppressPackageStartupMessages(library(stringr))\n",
    "library(parallel)\n",
    "library(reshape2)\n",
    "library(ggsci)\n",
    "library(rstatix)\n",
    "library(ggpubr)\n",
    "library(ggplot2) \n",
    "library(GGally) \n",
    "library(pheatmap)\n"
   ]
  },
  {
   "cell_type": "code",
   "execution_count": 14,
   "id": "97c0b032-d7e8-45a2-a6db-3db4af7b1f79",
   "metadata": {},
   "outputs": [],
   "source": [
    "\n",
    "is_dark_color <- function(hex) {\n",
    "  rgb <- col2rgb(hex)\n",
    "  \n",
    "  luminance <- 0.299 * rgb[1,] + 0.587 * rgb[2,] + 0.114 * rgb[3,]\n",
    "  if(luminance < 128){\n",
    "  return('white')\n",
    "  } else {return('black')}\n",
    "}"
   ]
  },
  {
   "cell_type": "code",
   "execution_count": 15,
   "id": "f61d87db-10ff-4ec3-93f3-d4c79180f40a",
   "metadata": {},
   "outputs": [],
   "source": [
    "color_annotation<-read.csv('../Color_hex_codes/Cell_Type_Color_Annotation_and_Order.csv')\n",
    "color_vector <- setNames(color_annotation$color, color_annotation$label)"
   ]
  },
  {
   "cell_type": "markdown",
   "id": "4f094477-756a-4b09-9452-7b8bcf176f0e",
   "metadata": {},
   "source": [
    "# Read composite score"
   ]
  },
  {
   "cell_type": "code",
   "execution_count": 16,
   "id": "4c666703-5a5f-4e18-be24-f98fcbfc6ad7",
   "metadata": {},
   "outputs": [],
   "source": [
    "df<-read.csv('04_Composite_Score/RA_dataset_followup/RA_CompositeScore_Up.csv') "
   ]
  },
  {
   "cell_type": "code",
   "execution_count": 17,
   "id": "5fdcb586-0ebf-4900-98f2-51e39a60e657",
   "metadata": {},
   "outputs": [],
   "source": [
    "df<-df%>% filter(celltype %in% c(\"Core naive CD4 T cell\",\"CM CD4 T cell\",\"Core naive CD8 T cell\",\"CM CD8 T cell\"))"
   ]
  },
  {
   "cell_type": "code",
   "execution_count": 18,
   "id": "b1cc74e4-e13a-4752-bcd0-bcccf0f8a4dd",
   "metadata": {},
   "outputs": [],
   "source": [
    "df<-df%>% mutate(Group=case_when(Group==\"Control (HC1)\"~\"Healthy\\nControl\",\n",
    "                             Group==\"ACPA+ At-risk (ARI)\"~\"pre-RA\"))\n",
    "df$Group<-factor(df$Group,levels=c(\"Healthy\\nControl\",\"pre-RA\"))"
   ]
  },
  {
   "cell_type": "code",
   "execution_count": 19,
   "id": "a8482bf6-76fc-4ae9-9f3c-8110ecf95484",
   "metadata": {},
   "outputs": [],
   "source": [
    "celltype_order<-c(\"Core naive CD4 T cell\",\"Core naive CD8 T cell\",\"CM CD8 T cell\",\"CM CD4 T cell\")\n",
    "df$celltype<-factor(df$celltype,levels=celltype_order)"
   ]
  },
  {
   "cell_type": "code",
   "execution_count": 20,
   "id": "ad587f70-cc44-4c77-a67c-c88f6d5734b0",
   "metadata": {},
   "outputs": [],
   "source": [
    "celltype_order_wrapped <- str_wrap(celltype_order, width = 16)\n"
   ]
  },
  {
   "cell_type": "code",
   "execution_count": null,
   "id": "876fc3f5-eda1-41c3-a64e-3d6838f8dba4",
   "metadata": {},
   "outputs": [],
   "source": []
  },
  {
   "cell_type": "code",
   "execution_count": null,
   "id": "566dd548-9bba-4fb8-a496-b133e19e3de4",
   "metadata": {},
   "outputs": [],
   "source": []
  },
  {
   "cell_type": "code",
   "execution_count": 21,
   "id": "e4773eb3-e283-47b9-ba38-8b2e9bc535b1",
   "metadata": {},
   "outputs": [],
   "source": [
    "df$celltype <- gsub(\" cell\", '', df$celltype)\n",
    "names(color_vector)<-str_wrap(names(color_vector), width = 16)\n",
    "df$celltype_wrapped <- str_wrap(df$celltype, width = 16)\n",
    "strip_colors <- setNames(\n",
    "  color_vector[ unique(df$celltype_wrapped) ],\n",
    "  unique(df$celltype_wrapped)\n",
    ")"
   ]
  },
  {
   "cell_type": "code",
   "execution_count": 22,
   "id": "cec6260a-9807-421a-81e2-f3350be41909",
   "metadata": {},
   "outputs": [],
   "source": [
    "celltype_order<-c(\"Core naive CD4 T\",\"CM CD4 T\",\"Core naive CD8 T\",\"CM CD8 T\")\n",
    "df$celltype_wrapped<-factor(df$celltype_wrapped,levels=celltype_order)"
   ]
  },
  {
   "cell_type": "code",
   "execution_count": 23,
   "id": "c4d5bfde-1531-4992-9a4a-b649b304e5ca",
   "metadata": {},
   "outputs": [
    {
     "data": {
      "image/png": "[encoded data removed]",
      "text/plain": [
       "plot without title"
      ]
     },
     "metadata": {
      "image/png": {
       "height": 94.4882,
       "width": 129.9213
      }
     },
     "output_type": "display_data"
    }
   ],
   "source": [
    "options(repr.plot.width = 55/25.4, repr.plot.height =  40/25.4)\n",
    "group_levels <- levels(factor(df$Group))\n",
    "my_comparisons <- combn(group_levels, 2, simplify = FALSE)\n",
    "p <- ggplot(df  ,\n",
    "              aes(x = Group, y = composite_score_sum_scaled_mean)) +\n",
    "    geom_boxplot( lwd=0.3, outlier.shape = NA,aes(fill = `Group`))+\n",
    "    geom_point(aes(y = composite_score_sum_scaled_mean), \n",
    "               position = position_jitter(width = 0.2), color=\"black\", size=1, stroke=0) +\n",
    "    facet_wrap(~ celltype_wrapped, scales = 'free_y', ncol = 2)+\n",
    "     stat_compare_means(method = \"wilcox.test\", \n",
    "                        comparisons = my_comparisons, \n",
    "                        group.by = \"celltype\",size=2.2)   +\n",
    "\n",
    "    theme_classic(base_size = 6) +\n",
    "    scale_y_continuous(limits = c(NA, NA), \n",
    "                       expand = expansion(mult = c(0.1, 0.35)))+\n",
    "ylab('Age Composite Metric')+ \n",
    "theme(\n",
    "  axis.line = element_line(colour = \"black\"),\n",
    "  legend.position = \"none\",\n",
    "  legend.title = element_blank(),\n",
    "  panel.grid.major = element_blank(),\n",
    "  panel.grid.minor = element_blank(),\n",
    "  panel.border = element_blank(),\n",
    "  panel.background = element_blank(),\n",
    "  strip.background = element_rect(linewidth = 0),\n",
    "  axis.title.x = element_text(margin = margin(t = 2)),\n",
    "  panel.spacing = unit(-0.1, \"mm\"),\n",
    "  strip.text = element_text(margin = margin(b = 1, t = 1))\n",
    ") + \n",
    "        scale_fill_manual( values = c('#4C8CBD', \n",
    "                                       '#FF913D'))\n",
    "\n",
    "plot <- ggplot_gtable(ggplot_build(p))\n",
    "\n",
    "strips <- which(grepl('strip-', plot$layout$name))\n",
    "\n",
    "pal <- color_vector[celltype_order_wrapped]\n",
    "text_color <- sapply(color_vector[celltype_order_wrapped], is_dark_color)\n",
    "\n",
    "for (i in seq_along(strips)) {\n",
    "  k <- which(grepl('rect', plot$grobs[[strips[i]]]$grobs[[1]]$childrenOrder))\n",
    "  l <- which(grepl('titleGrob', plot$grobs[[strips[i]]]$grobs[[1]]$childrenOrder))\n",
    "  plot$grobs[[strips[i]]]$grobs[[1]]$children[[k]]$gp$fill <- adjustcolor(pal[i], alpha.f = 0.8)\n",
    "  plot$grobs[[strips[i]]]$grobs[[1]]$children[[l]]$children[[1]]$gp$col <- text_color[i]\n",
    "}\n",
    "\n",
    "plot(plot)\n",
    "ggsave('FigureJ.pdf',plot,width = 55/25.4, height =  40/25.4)"
   ]
  },
  {
   "cell_type": "code",
   "execution_count": 27,
   "id": "d2c37c8d-c887-4d3f-af07-25e558153207",
   "metadata": {},
   "outputs": [],
   "source": [
    "df$RNA_Age_Metric_Up<-df$composite_score_sum_scaled_mean\n",
    "write.csv(df %>% select(Group,pbmc_sample_id,celltype,RNA_Age_Metric),\n",
    "          \"/home//workspace/Source_Data/Fig2j.csv\", row.names=FALSE)"
   ]
  },
  {
   "cell_type": "code",
   "execution_count": null,
   "id": "94ca8a0b-d200-4d79-b627-086500dd2ade",
   "metadata": {},
   "outputs": [],
   "source": []
  },
  {
   "cell_type": "code",
   "execution_count": null,
   "id": "486025bb-f745-4fb7-b0d4-9ce2fb145a15",
   "metadata": {},
   "outputs": [],
   "source": []
  },
  {
   "cell_type": "code",
   "execution_count": null,
   "id": "cb5dd8be-5c74-402f-baba-2a46034d20b3",
   "metadata": {},
   "outputs": [],
   "source": []
  }
 ],
 "metadata": {
  "kernelspec": {
   "display_name": "R_BRI_Figures",
   "language": "R",
   "name": "r_bri_figures"
  },
  "language_info": {
   "codemirror_mode": "r",
   "file_extension": ".r",
   "mimetype": "text/x-r-source",
   "name": "R",
   "pygments_lexer": "r",
   "version": "4.3.2"
  }
 },
 "nbformat": 4,
 "nbformat_minor": 5
}
