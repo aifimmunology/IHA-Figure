{
 "cells": [
  {
   "cell_type": "code",
   "execution_count": 1,
   "id": "5e6e7a26-4274-4fbc-8fd8-2aecf69ad87f",
   "metadata": {},
   "outputs": [
    {
     "name": "stderr",
     "output_type": "stream",
     "text": [
      "------------------------------------------------------------------------------\n",
      "\n",
      "You have loaded plyr after dplyr - this is likely to cause problems.\n",
      "If you need functions from both plyr and dplyr, please load plyr first, then dplyr:\n",
      "library(plyr); library(dplyr)\n",
      "\n",
      "------------------------------------------------------------------------------\n",
      "\n",
      "\n",
      "Attaching package: ‘plyr’\n",
      "\n",
      "\n",
      "The following objects are masked from ‘package:dplyr’:\n",
      "\n",
      "    arrange, count, desc, failwith, id, mutate, rename, summarise,\n",
      "    summarize\n",
      "\n",
      "\n",
      "\n",
      "Attaching package: ‘data.table’\n",
      "\n",
      "\n",
      "The following objects are masked from ‘package:dplyr’:\n",
      "\n",
      "    between, first, last\n",
      "\n",
      "\n",
      "Loading required package: viridisLite\n",
      "\n"
     ]
    }
   ],
   "source": [
    "suppressPackageStartupMessages(library(dplyr))\n",
    "suppressPackageStartupMessages(library(tidyr))\n",
    "suppressPackageStartupMessages(library(tibble))\n",
    "suppressPackageStartupMessages(library(stringr))\n",
    "library(parallel)\n",
    "library(plyr)\n",
    "library(data.table)\n",
    "library(ggplot2)\n",
    "library(pheatmap)\n",
    "library(RColorBrewer)\n",
    "library(viridis)\n",
    "source('/home//jupyter/BRI_Figures_Final_V2/helper_function/helper_function_IHA.r')"
   ]
  },
  {
   "cell_type": "code",
   "execution_count": 2,
   "id": "a8602732-31dd-4943-a03b-1a2a8fc82d24",
   "metadata": {},
   "outputs": [],
   "source": [
    "meta_data=read.csv(\"/home/jupyter/BRI_Figures_Final_V2/Dataset/SF4_meta_data-2024-05-05.csv\")\n",
    "meta_data$ageAtEnrollment[meta_data$ageAtEnrollment == '89+'] <- '90'\n",
    "meta_data$ageAtEnrollment<-as.numeric(meta_data$ageAtEnrollment)\n",
    "meta_data<-meta_data[!is.na(meta_data$ageAtEnrollment),]\n",
    "meta_data$Ages<-meta_data$ageAtEnrollment\n",
    "meta_data <- meta_data[!duplicated(meta_data$sample.sampleKitGuid, fromLast = TRUE), ]\n",
    "meta_data$CMV<-meta_data$lab.revisionHistory.dataHistory.CMV.Ab.Screen.Result..CMVRES..newValue"
   ]
  },
  {
   "cell_type": "code",
   "execution_count": 3,
   "id": "da839a9b-ae56-45fd-b77e-3e86d937011d",
   "metadata": {},
   "outputs": [
    {
     "name": "stdout",
     "output_type": "stream",
     "text": [
      "[1] \"Total reading time: 11.367 seconds\"\n",
      "[1] \"The length of the list matches the length of the input path.\"\n"
     ]
    }
   ],
   "source": [
    "file_list<-paste0(\"/home/jupyter/BRI_Figures_Final_V2/Dataset/scRNA/SF4/Average_LogNormalized_Expression/Average_LogNormalized_Expression_of_Celltypes_by_Sample_AIFI_L3/\",meta_data$pbmc_sample_id,\".csv\")\n",
    "\n",
    "df_list<-read_pseudobulk_expression(file_list)\n"
   ]
  },
  {
   "cell_type": "code",
   "execution_count": null,
   "id": "96688d44-aa7f-479a-8237-788d652a1a22",
   "metadata": {},
   "outputs": [],
   "source": []
  },
  {
   "cell_type": "code",
   "execution_count": 4,
   "id": "f6fa10b6-8b2a-4c4a-b76a-a0fd3638db18",
   "metadata": {},
   "outputs": [],
   "source": [
    "df<-read.csv(\"/home//jupyter/BRI_Figures_Final_V2/Figure2/02_DEG/Deseq2_Result_Y1D0.csv\")"
   ]
  },
  {
   "cell_type": "code",
   "execution_count": 5,
   "id": "a2db3b0d-0c00-49bf-b7ed-85bca7107544",
   "metadata": {},
   "outputs": [],
   "source": [
    "df<-df %>% filter(contrast=='cohort.cohortGuid')"
   ]
  },
  {
   "cell_type": "code",
   "execution_count": 6,
   "id": "2912c635-1248-4cb4-874f-97c807ad9ab4",
   "metadata": {},
   "outputs": [],
   "source": [
    "df_subset<-df %>% filter(abs(log2FoldChange)>0.1,padj<0.05)"
   ]
  },
  {
   "cell_type": "code",
   "execution_count": 7,
   "id": "b70b14bc-ffc5-41e8-96b7-a250b2717818",
   "metadata": {},
   "outputs": [],
   "source": [
    "selected_celltype<-read.csv(\"/home//jupyter/BRI_Figures_Final_V2/Figure2/04_CompositeScore/BRI_CompositeScore_Down.csv\")"
   ]
  },
  {
   "cell_type": "code",
   "execution_count": 8,
   "id": "513892df-806f-4266-94cc-a24116a504d7",
   "metadata": {},
   "outputs": [],
   "source": [
    "keep_celltypes <- unique(selected_celltype$celltype)\n"
   ]
  },
  {
   "cell_type": "code",
   "execution_count": 9,
   "id": "c3b3c4f5-2369-470a-adff-e8b2af71eeef",
   "metadata": {},
   "outputs": [],
   "source": [
    "df_subset_filtered<-df_subset%>% filter(celltype %in% keep_celltypes)\n"
   ]
  },
  {
   "cell_type": "code",
   "execution_count": 12,
   "id": "f270fde6-6503-4b9e-8f58-4582ee56fdd8",
   "metadata": {},
   "outputs": [],
   "source": [
    "meta_data<-meta_data %>% arrange(Ages)\n",
    "meta_data$pbmc_sample_id_gsubbed<-gsub(\"-\",'.',meta_data$pbmc_sample_id) \n",
    "rownames(meta_data)<-meta_data$pbmc_sample_id_gsubbed"
   ]
  },
  {
   "cell_type": "code",
   "execution_count": 10,
   "id": "c76a2876-4110-47d3-8e00-5bd1aeddd37a",
   "metadata": {},
   "outputs": [],
   "source": [
    "Up_Genes<-c('SESN3','AHNAK','PTGER2')"
   ]
  },
  {
   "cell_type": "code",
   "execution_count": 14,
   "id": "6708f55b-a4d5-4a3d-9cf6-d1f71f58b21c",
   "metadata": {},
   "outputs": [],
   "source": []
  },
  {
   "cell_type": "code",
   "execution_count": 27,
   "id": "34b90e74-385d-4f92-ac25-95d42813ee8f",
   "metadata": {},
   "outputs": [
    {
     "name": "stderr",
     "output_type": "stream",
     "text": [
      "\u001b[1m\u001b[22mJoining with `by = join_by(pbmc_sample_id_gsubbed)`\n",
      "\u001b[1m\u001b[22mJoining with `by = join_by(pbmc_sample_id_gsubbed)`\n",
      "\u001b[1m\u001b[22mJoining with `by = join_by(pbmc_sample_id_gsubbed)`\n",
      "\u001b[1m\u001b[22mJoining with `by = join_by(pbmc_sample_id_gsubbed)`\n",
      "\u001b[1m\u001b[22mJoining with `by = join_by(pbmc_sample_id_gsubbed)`\n",
      "\u001b[1m\u001b[22mJoining with `by = join_by(pbmc_sample_id_gsubbed)`\n",
      "\u001b[1m\u001b[22mJoining with `by = join_by(pbmc_sample_id_gsubbed)`\n",
      "\u001b[1m\u001b[22mJoining with `by = join_by(pbmc_sample_id_gsubbed)`\n",
      "\u001b[1m\u001b[22mJoining with `by = join_by(pbmc_sample_id_gsubbed)`\n",
      "\u001b[1m\u001b[22mJoining with `by = join_by(pbmc_sample_id_gsubbed)`\n",
      "\u001b[1m\u001b[22mJoining with `by = join_by(pbmc_sample_id_gsubbed)`\n",
      "\u001b[1m\u001b[22mJoining with `by = join_by(pbmc_sample_id_gsubbed)`\n"
     ]
    }
   ],
   "source": [
    "exp_all<-list()\n",
    "for (gene_single in Up_Genes) {\n",
    "  celltypes <- unique(df_subset_filtered %>% filter(gene == gene_single) %>%arrange(celltype)%>% select(celltype) %>% pull())\n",
    "  exp_single_gene_all_celtype <- data.frame()\n",
    "  for (celltype_single in celltypes) {\n",
    "    exp <- lapply(df_list, function(df) {\n",
    "      df <- df[gene_single, grep(celltype_single, names(df), fixed = TRUE), drop = FALSE]\n",
    "    })\n",
    "\n",
    "    exp_matrix <- do.call(cbind, exp)\n",
    "    colnames(exp_matrix) <- sub(\":.*\", \"\", colnames(exp_matrix))\n",
    "    \n",
    "    # Convert to data frame and retain row names as a new column\n",
    "    exp_df <- data.frame(exp_matrix)\n",
    "    exp_df<-as.data.frame(t(exp_df))\n",
    "    colnames(exp_df)<-\"mean_exp\"\n",
    "    \n",
    "    exp_df$pbmc_sample_id_gsubbed<-rownames(exp_df)\n",
    "    exp_df<-left_join(exp_df,meta_data)\n",
    "    \n",
    "    \n",
    "    \n",
    "    exp_df<-exp_df %>% group_by(Ages) %>% dplyr::summarise(mean_exp=mean(mean_exp) )\n",
    "    \n",
    "    exp_df<-as.data.frame(exp_df)\n",
    "    \n",
    "    rownames(exp_df)<-exp_df$Ages\n",
    "    \n",
    "    exp_df<-as.data.frame(t(exp_df[2])  )\n",
    "    rownames(exp_matrix)<-gene_single\n",
    "    exp_df$rownames <- paste0(rownames(exp_matrix), \":\", celltype_single)\n",
    "\n",
    "    # Reorder to have rownames first (optional)\n",
    "    exp_df <- exp_df[, c(\"rownames\", setdiff(names(exp_df), \"rownames\"))]\n",
    "\n",
    "    # Bind the data while keeping row names as a column\n",
    "    exp_single_gene_all_celtype <- rbind.fill(exp_single_gene_all_celtype, exp_df)\n",
    "  }\n",
    "  \n",
    "  # Optionally set the row names back if needed\n",
    "rownames(exp_single_gene_all_celtype) <- exp_single_gene_all_celtype$rownames\n",
    "exp_single_gene_all_celtype <- exp_single_gene_all_celtype[, -1]  # Remove the 'rownames' column after setting row names\n",
    "\n",
    "exp_all[[gene_single]]<-exp_single_gene_all_celtype\n",
    "}\n"
   ]
  },
  {
   "cell_type": "code",
   "execution_count": 28,
   "id": "7dd88dcb-760d-451c-a586-72d22d982cef",
   "metadata": {},
   "outputs": [],
   "source": [
    "df<-do.call(rbind,exp_all)"
   ]
  },
  {
   "cell_type": "code",
   "execution_count": 29,
   "id": "d9e2421c-237a-47c7-97d9-c4897852ce2d",
   "metadata": {},
   "outputs": [],
   "source": [
    "write.csv(df,\"Up_Selected_Genes.csv\")"
   ]
  },
  {
   "cell_type": "code",
   "execution_count": null,
   "id": "61b6d0e0-47e0-4b9b-803a-63e82f13f5e3",
   "metadata": {},
   "outputs": [],
   "source": []
  },
  {
   "cell_type": "code",
   "execution_count": 30,
   "id": "c386b488-3c83-402a-9f54-95f65bf882aa",
   "metadata": {},
   "outputs": [],
   "source": [
    "Down_Genes<-c('IL16','STK17A')"
   ]
  },
  {
   "cell_type": "code",
   "execution_count": 31,
   "id": "2270dfe1-17c0-43dd-b03f-09db3a61197c",
   "metadata": {},
   "outputs": [
    {
     "name": "stderr",
     "output_type": "stream",
     "text": [
      "\u001b[1m\u001b[22mJoining with `by = join_by(pbmc_sample_id_gsubbed)`\n",
      "\u001b[1m\u001b[22mJoining with `by = join_by(pbmc_sample_id_gsubbed)`\n",
      "\u001b[1m\u001b[22mJoining with `by = join_by(pbmc_sample_id_gsubbed)`\n",
      "\u001b[1m\u001b[22mJoining with `by = join_by(pbmc_sample_id_gsubbed)`\n",
      "\u001b[1m\u001b[22mJoining with `by = join_by(pbmc_sample_id_gsubbed)`\n",
      "\u001b[1m\u001b[22mJoining with `by = join_by(pbmc_sample_id_gsubbed)`\n",
      "\u001b[1m\u001b[22mJoining with `by = join_by(pbmc_sample_id_gsubbed)`\n",
      "\u001b[1m\u001b[22mJoining with `by = join_by(pbmc_sample_id_gsubbed)`\n",
      "\u001b[1m\u001b[22mJoining with `by = join_by(pbmc_sample_id_gsubbed)`\n",
      "\u001b[1m\u001b[22mJoining with `by = join_by(pbmc_sample_id_gsubbed)`\n",
      "\u001b[1m\u001b[22mJoining with `by = join_by(pbmc_sample_id_gsubbed)`\n",
      "\u001b[1m\u001b[22mJoining with `by = join_by(pbmc_sample_id_gsubbed)`\n",
      "\u001b[1m\u001b[22mJoining with `by = join_by(pbmc_sample_id_gsubbed)`\n"
     ]
    }
   ],
   "source": [
    "exp_all<-list()\n",
    "for (gene_single in Down_Genes) {\n",
    "  celltypes <- unique(df_subset_filtered %>% filter(gene == gene_single) %>%arrange(celltype)%>% select(celltype) %>% pull())\n",
    "  exp_single_gene_all_celtype <- data.frame()\n",
    "  for (celltype_single in celltypes) {\n",
    "    exp <- lapply(df_list, function(df) {\n",
    "      df <- df[gene_single, grep(celltype_single, names(df), fixed = TRUE), drop = FALSE]\n",
    "    })\n",
    "\n",
    "    exp_matrix <- do.call(cbind, exp)\n",
    "    colnames(exp_matrix) <- sub(\":.*\", \"\", colnames(exp_matrix))\n",
    "    \n",
    "    # Convert to data frame and retain row names as a new column\n",
    "    exp_df <- data.frame(exp_matrix)\n",
    "    exp_df<-as.data.frame(t(exp_df))\n",
    "    colnames(exp_df)<-\"mean_exp\"\n",
    "    \n",
    "    exp_df$pbmc_sample_id_gsubbed<-rownames(exp_df)\n",
    "    exp_df<-left_join(exp_df,meta_data)\n",
    "    \n",
    "    \n",
    "    \n",
    "    exp_df<-exp_df %>% group_by(Ages) %>% dplyr::summarise(mean_exp=mean(mean_exp) )\n",
    "    \n",
    "    exp_df<-as.data.frame(exp_df)\n",
    "    \n",
    "    rownames(exp_df)<-exp_df$Ages\n",
    "    \n",
    "    exp_df<-as.data.frame(t(exp_df[2])  )\n",
    "    rownames(exp_matrix)<-gene_single\n",
    "    exp_df$rownames <- paste0(rownames(exp_matrix), \":\", celltype_single)\n",
    "\n",
    "    # Reorder to have rownames first (optional)\n",
    "    exp_df <- exp_df[, c(\"rownames\", setdiff(names(exp_df), \"rownames\"))]\n",
    "\n",
    "    # Bind the data while keeping row names as a column\n",
    "    exp_single_gene_all_celtype <- rbind.fill(exp_single_gene_all_celtype, exp_df)\n",
    "  }\n",
    "  \n",
    "  # Optionally set the row names back if needed\n",
    "rownames(exp_single_gene_all_celtype) <- exp_single_gene_all_celtype$rownames\n",
    "exp_single_gene_all_celtype <- exp_single_gene_all_celtype[, -1]  # Remove the 'rownames' column after setting row names\n",
    "\n",
    "exp_all[[gene_single]]<-exp_single_gene_all_celtype\n",
    "}\n"
   ]
  },
  {
   "cell_type": "code",
   "execution_count": 25,
   "id": "195e5814-064d-406f-a397-694165d1450d",
   "metadata": {},
   "outputs": [],
   "source": [
    "df<-do.call(rbind,exp_all)"
   ]
  },
  {
   "cell_type": "code",
   "execution_count": 26,
   "id": "0340071f-9b7d-4485-b931-3b827e091c3c",
   "metadata": {},
   "outputs": [],
   "source": [
    "write.csv(df,\"Down_Selected_Genes.csv\")"
   ]
  },
  {
   "cell_type": "code",
   "execution_count": null,
   "id": "02d59f24-6142-4b51-8ca1-485493d05429",
   "metadata": {},
   "outputs": [],
   "source": []
  }
 ],
 "metadata": {
  "kernelspec": {
   "display_name": "R 4",
   "language": "R",
   "name": "ir4"
  },
  "language_info": {
   "codemirror_mode": "r",
   "file_extension": ".r",
   "mimetype": "text/x-r-source",
   "name": "R",
   "pygments_lexer": "r",
   "version": "4.3.2"
  }
 },
 "nbformat": 4,
 "nbformat_minor": 5
}
