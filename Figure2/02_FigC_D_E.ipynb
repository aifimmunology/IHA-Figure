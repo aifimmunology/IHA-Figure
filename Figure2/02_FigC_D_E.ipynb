{
 "cells": [
  {
   "cell_type": "code",
   "execution_count": 30,
   "id": "e51da0d9-e4ee-4a71-9324-f46358c93a9c",
   "metadata": {},
   "outputs": [],
   "source": [
    "library(dplyr)\n",
    "library(tidyr)\n",
    "library(tibble)\n",
    "library(ggplot2)\n",
    "library(stringr)\n",
    "library(ggstream)\n",
    "library(ggrepel)\n",
    "source('../helper_function/helper_function_IHA.r')"
   ]
  },
  {
   "cell_type": "code",
   "execution_count": 31,
   "id": "51cde497-8b42-48b7-af61-0c0f889e3939",
   "metadata": {},
   "outputs": [],
   "source": [
    "color_annotation<-read.csv('../Color_hex_codes/Cell_Type_Color_Annotation_and_Order.csv')\n",
    "color_vector <- setNames(color_annotation$color, color_annotation$label)"
   ]
  },
  {
   "cell_type": "code",
   "execution_count": 32,
   "id": "84c0ca78-4d8a-47b8-9edd-f1203af6af54",
   "metadata": {},
   "outputs": [],
   "source": [
    "df<-read.csv(\"03_Get_Counts/SF4_Freq.csv\")"
   ]
  },
  {
   "cell_type": "markdown",
   "id": "f0623828-31b4-401d-91b3-36165717006c",
   "metadata": {},
   "source": [
    "# CD8 T"
   ]
  },
  {
   "cell_type": "code",
   "execution_count": 4,
   "id": "1d45c410-ad36-49b4-9545-26d6777d22c2",
   "metadata": {},
   "outputs": [],
   "source": [
    "selected_celltype<-c('Core naive CD8 T cell',\n",
    "                     'CM CD8 T cell',\n",
    "                     'KLRF1- GZMB+ CD27- EM CD8 T cell',\n",
    "                     'KLRF1+ GZMB+ CD27- EM CD8 T cell',\n",
    "                     'GZMK+ CD27+ EM CD8 T cell',\n",
    "                     'GZMK- CD27+ EM CD8 T cell')"
   ]
  },
  {
   "cell_type": "code",
   "execution_count": 5,
   "id": "bf9769c6-e8c6-4c6d-886c-63422998c9da",
   "metadata": {},
   "outputs": [],
   "source": [
    "df_subset<-df%>% filter(celltypist_l3 %in% selected_celltype)"
   ]
  },
  {
   "cell_type": "code",
   "execution_count": 6,
   "id": "0b10faae-1435-4803-9526-68a782001e3c",
   "metadata": {},
   "outputs": [],
   "source": [
    "df_subset<-df_subset %>%\n",
    "  dplyr::group_by(pbmc_sample_id)%>% \n",
    "  complete_with_pseudocount(sample_col  = \"sample.sampleKitGuid\",\n",
    "  count_col   = \"count\",\n",
    "  var_col     = \"celltypist_l3\",\n",
    "  pseudocount = 1) %>%                       \n",
    "  dplyr::mutate(percentage = (count / sum(count)) * 100) %>% \n",
    "  dplyr::group_by(pbmc_sample_id) %>%     \n",
    "  dplyr::mutate(percentage_clr = clr_transform((percentage))) %>% \n",
    "  dplyr::ungroup() %>% as.data.frame(.)"
   ]
  },
  {
   "cell_type": "code",
   "execution_count": 7,
   "id": "418a1672-bed0-468f-a752-f4b780a07371",
   "metadata": {},
   "outputs": [
    {
     "name": "stderr",
     "output_type": "stream",
     "text": [
      "\u001b[1m\u001b[22m`summarise()` has grouped output by 'Ages'. You can override using the\n",
      "`.groups` argument.\n"
     ]
    }
   ],
   "source": [
    "df_subset<-df_subset %>%\n",
    "  dplyr::group_by(Ages,celltypist_l3) %>%     \n",
    "summarize(mean_count=mean(count)) %>% dplyr::group_by(Ages) %>%     \n",
    "  dplyr::mutate(percentage = (mean_count / sum(mean_count)) ) "
   ]
  },
  {
   "cell_type": "code",
   "execution_count": 8,
   "id": "e043266d-917f-44f7-9d6c-8231d3cb7d24",
   "metadata": {},
   "outputs": [],
   "source": [
    "df_subset_CD8T<-df_subset"
   ]
  },
  {
   "cell_type": "code",
   "execution_count": 9,
   "id": "8fb3f589-8f99-493a-aedc-be0574e5ca58",
   "metadata": {},
   "outputs": [
    {
     "name": "stderr",
     "output_type": "stream",
     "text": [
      "Warning message:\n",
      "“\u001b[1m\u001b[22mThe `size` argument of `element_line()` is deprecated as of ggplot2 3.4.0.\n",
      "\u001b[36mℹ\u001b[39m Please use the `linewidth` argument instead.”\n"
     ]
    },
    {
     "data": {
      "image/png": "[encoded data removed]",
      "text/plain": [
       "plot without title"
      ]
     },
     "metadata": {
      "image/png": {
       "height": 82.6772,
       "width": 141.7323
      }
     },
     "output_type": "display_data"
    }
   ],
   "source": [
    "options(repr.plot.width = 60/25.4, repr.plot.height = 35/25.4)\n",
    "\n",
    "p<-ggplot(df_subset ,aes(x = Ages, \n",
    "             y = percentage,\n",
    "             group = celltypist_l3,\n",
    "             fill = celltypist_l3)) +\n",
    "  ggstream::geom_stream(color = 'black', \n",
    "                        lwd = 0.25,\n",
    "                        bw = 1) + \n",
    "\n",
    "  scale_fill_manual(values = color_vector) +theme_void(base_size=6)+ \n",
    " \n",
    "theme(legend.position = \"none\")+guides(fill=guide_legend(ncol=2))+\n",
    "  theme(axis.title.y=element_blank(),\n",
    "        axis.text.y=element_blank(),\n",
    "        axis.ticks.y=element_blank(),\n",
    "        panel.border = element_blank(),\n",
    "        axis.line.x = element_line(size = 2, linetype = \"solid\", colour = \"lightgrey\"),\n",
    "        axis.line.y = element_blank(),\n",
    "        panel.grid.minor = element_blank(),\n",
    "        panel.grid.major.x = element_blank())\n",
    "\n",
    "\n",
    "p\n",
    "ggsave('FigureD-1.pdf',p,width = 60/25.4,height = 35/25.4)\n"
   ]
  },
  {
   "cell_type": "code",
   "execution_count": null,
   "id": "48766f70-b2b4-4f94-a14f-f0019a4adbcb",
   "metadata": {},
   "outputs": [],
   "source": []
  },
  {
   "cell_type": "markdown",
   "id": "00924f09-2e98-4f14-9ecb-86c732e7ce27",
   "metadata": {},
   "source": [
    "# CD4 T"
   ]
  },
  {
   "cell_type": "code",
   "execution_count": 10,
   "id": "2191905c-9e33-438a-8f5a-38b39654c27b",
   "metadata": {},
   "outputs": [],
   "source": [
    "selected_celltype<-c('CM CD4 T cell',\n",
    "                     'GZMB- CD27+ EM CD4 T cell',\n",
    "                     'GZMB- CD27- EM CD4 T cell',\n",
    "                     'Core naive CD4 T cell',\n",
    "                     'KLRF1- GZMB+ CD27- memory CD4 T cell')"
   ]
  },
  {
   "cell_type": "code",
   "execution_count": 11,
   "id": "d8d679cc-9ac5-42d7-b492-faf0f28e865e",
   "metadata": {},
   "outputs": [],
   "source": [
    "df_subset<-df%>% filter(celltypist_l3 %in% selected_celltype)"
   ]
  },
  {
   "cell_type": "code",
   "execution_count": 12,
   "id": "a3796494-abd8-40b2-a622-ae9ece813354",
   "metadata": {},
   "outputs": [],
   "source": [
    "df_subset<-df_subset %>%\n",
    "  dplyr::group_by(pbmc_sample_id) %>% \n",
    "  complete_with_pseudocount(sample_col  = \"sample.sampleKitGuid\",\n",
    "  count_col   = \"count\",\n",
    "  var_col     = \"celltypist_l3\",\n",
    "  pseudocount = 1)%>%                       \n",
    "  dplyr::mutate(percentage = (count / sum(count)) * 100) %>% \n",
    "  dplyr::group_by(pbmc_sample_id) %>%     \n",
    "  dplyr::mutate(percentage_clr = clr_transform((percentage))) %>% \n",
    "  dplyr::ungroup() %>% as.data.frame(.)"
   ]
  },
  {
   "cell_type": "code",
   "execution_count": 13,
   "id": "570e8fba-e1b7-4510-acc2-5bb027ba5d79",
   "metadata": {},
   "outputs": [
    {
     "name": "stderr",
     "output_type": "stream",
     "text": [
      "\u001b[1m\u001b[22m`summarise()` has grouped output by 'Ages'. You can override using the\n",
      "`.groups` argument.\n"
     ]
    }
   ],
   "source": [
    "df_subset<-df_subset %>%\n",
    "  dplyr::group_by(Ages,celltypist_l3) %>%     \n",
    "summarize(mean_count=mean(count)) %>% dplyr::group_by(Ages) %>%     \n",
    "  dplyr::mutate(percentage = (mean_count / sum(mean_count)) ) "
   ]
  },
  {
   "cell_type": "code",
   "execution_count": 14,
   "id": "d75f798f-8afc-4ae2-9951-ab94b81c3cd1",
   "metadata": {},
   "outputs": [],
   "source": [
    "df_subset_CD4T<-df_subset"
   ]
  },
  {
   "cell_type": "code",
   "execution_count": 15,
   "id": "3c4680ef-26f5-4f03-b73a-e1002d3debd1",
   "metadata": {},
   "outputs": [
    {
     "data": {
      "image/png": "[encoded data removed]",
      "text/plain": [
       "plot without title"
      ]
     },
     "metadata": {
      "image/png": {
       "height": 82.6772,
       "width": 141.7323
      }
     },
     "output_type": "display_data"
    }
   ],
   "source": [
    "options(repr.plot.width = 60/25.4, repr.plot.height = 35/25.4)\n",
    "\n",
    "p<-ggplot(df_subset ,aes(x = Ages, \n",
    "             y = percentage,\n",
    "             group = celltypist_l3,\n",
    "             fill = celltypist_l3)) +\n",
    "  ggstream::geom_stream(color = 'black', \n",
    "                        lwd = 0.25,\n",
    "                        bw = 1) + \n",
    "  scale_fill_manual(values = color_vector) + theme_void(base_size=6)+ \n",
    "theme(legend.position = \"none\")+guides(fill=guide_legend(ncol=2))+\n",
    "theme(axis.title.y=element_blank(),\n",
    "        axis.text.y=element_blank(),\n",
    "        axis.ticks.y=element_blank(),\n",
    "        panel.border = element_blank(),\n",
    "        axis.line.x = element_line(size = 2, linetype = \"solid\", colour = \"lightgrey\"),\n",
    "        axis.line.y = element_blank(),\n",
    "        panel.grid.minor = element_blank(),\n",
    "        panel.grid.major.x = element_blank())\n",
    "\n",
    "\n",
    "p\n",
    "ggsave('FigureD-2.pdf',p,width = 60/25.4,height = 35/25.4)\n"
   ]
  },
  {
   "cell_type": "markdown",
   "id": "52bc5f29-fc27-4a59-a68c-1b0907413d2d",
   "metadata": {},
   "source": [
    "# B cell"
   ]
  },
  {
   "cell_type": "code",
   "execution_count": 16,
   "id": "b32adb8e-a7f0-473c-908b-66434a2cc55e",
   "metadata": {},
   "outputs": [
    {
     "data": {
      "text/html": [
       "<style>\n",
       ".list-inline {list-style: none; margin:0; padding: 0}\n",
       ".list-inline>li {display: inline-block}\n",
       ".list-inline>li:not(:last-child)::after {content: \"\\00b7\"; padding: 0 .5ex}\n",
       "</style>\n",
       "<ol class=list-inline><li>'Activated memory B cell'</li><li>'CD27+ effector B cell'</li><li>'CD27- effector B cell'</li><li>'CD95 memory B cell'</li><li>'Core memory B cell'</li><li>'Core naive B cell'</li><li>'Early memory B cell'</li><li>'ISG+ naive B cell'</li><li>'Transitional B cell'</li><li>'Type 2 polarized memory B cell'</li></ol>\n"
      ],
      "text/latex": [
       "\\begin{enumerate*}\n",
       "\\item 'Activated memory B cell'\n",
       "\\item 'CD27+ effector B cell'\n",
       "\\item 'CD27- effector B cell'\n",
       "\\item 'CD95 memory B cell'\n",
       "\\item 'Core memory B cell'\n",
       "\\item 'Core naive B cell'\n",
       "\\item 'Early memory B cell'\n",
       "\\item 'ISG+ naive B cell'\n",
       "\\item 'Transitional B cell'\n",
       "\\item 'Type 2 polarized memory B cell'\n",
       "\\end{enumerate*}\n"
      ],
      "text/markdown": [
       "1. 'Activated memory B cell'\n",
       "2. 'CD27+ effector B cell'\n",
       "3. 'CD27- effector B cell'\n",
       "4. 'CD95 memory B cell'\n",
       "5. 'Core memory B cell'\n",
       "6. 'Core naive B cell'\n",
       "7. 'Early memory B cell'\n",
       "8. 'ISG+ naive B cell'\n",
       "9. 'Transitional B cell'\n",
       "10. 'Type 2 polarized memory B cell'\n",
       "\n",
       "\n"
      ],
      "text/plain": [
       " [1] \"Activated memory B cell\"        \"CD27+ effector B cell\"         \n",
       " [3] \"CD27- effector B cell\"          \"CD95 memory B cell\"            \n",
       " [5] \"Core memory B cell\"             \"Core naive B cell\"             \n",
       " [7] \"Early memory B cell\"            \"ISG+ naive B cell\"             \n",
       " [9] \"Transitional B cell\"            \"Type 2 polarized memory B cell\""
      ]
     },
     "metadata": {},
     "output_type": "display_data"
    }
   ],
   "source": [
    "unique(df$celltypist_l3)[grepl(\"B cell\",unique(df$celltypist_l3))]"
   ]
  },
  {
   "cell_type": "code",
   "execution_count": 57,
   "id": "238e10d2-78df-4018-8bfb-710c3412d279",
   "metadata": {},
   "outputs": [],
   "source": [
    "selected_celltype<-c('Core naive B cell','Transitional B cell','CD95 memory B cell','Core memory B cell',\n",
    "                    'CD27- effector B cell','CD27+ effector B cell',\n",
    "                     'Type 2 polarized memory B cell','Early memory B cell')"
   ]
  },
  {
   "cell_type": "code",
   "execution_count": 58,
   "id": "3388e1cd-78dc-4be7-8100-d44ea119441c",
   "metadata": {},
   "outputs": [],
   "source": [
    "df_subset<-df%>% filter(celltypist_l3 %in% selected_celltype)"
   ]
  },
  {
   "cell_type": "code",
   "execution_count": 65,
   "id": "69fc1f6b-f6df-46a7-9828-7e1fd2a50e19",
   "metadata": {},
   "outputs": [],
   "source": [
    "df_subset<-df_subset %>%\n",
    "  dplyr::group_by(pbmc_sample_id) %>% \n",
    "  complete_with_pseudocount(sample_col  = \"sample.sampleKitGuid\",\n",
    "  count_col   = \"count\",\n",
    "  var_col     = \"celltypist_l3\",\n",
    "  pseudocount = 1)%>%                       \n",
    "  dplyr::mutate(percentage = (count / sum(count)) * 100) %>% \n",
    "  dplyr::group_by(pbmc_sample_id) %>%     \n",
    "  dplyr::mutate(percentage_clr = clr_transform((percentage))) %>% \n",
    "  dplyr::ungroup() %>% as.data.frame(.)"
   ]
  },
  {
   "cell_type": "code",
   "execution_count": 68,
   "id": "ebee19c3-4eaf-49fa-b2a2-c44c8f95597a",
   "metadata": {},
   "outputs": [
    {
     "name": "stderr",
     "output_type": "stream",
     "text": [
      "Warning message in cor.test.default(df_subset_cd27neg$Ages, df_subset_cd27neg$percentage_clr, :\n",
      "“Cannot compute exact p-value with ties”\n"
     ]
    },
    {
     "data": {
      "text/plain": [
       "\n",
       "\tSpearman's rank correlation rho\n",
       "\n",
       "data:  df_subset_cd27neg$Ages and df_subset_cd27neg$percentage_clr\n",
       "S = 1655984, p-value = 0.0009842\n",
       "alternative hypothesis: true rho is not equal to 0\n",
       "sample estimates:\n",
       "      rho \n",
       "0.2144976 \n"
      ]
     },
     "metadata": {},
     "output_type": "display_data"
    }
   ],
   "source": [
    "df_subset_cd27neg<-df_subset%>% filter(celltypist_l3 ==\"CD27- effector B cell\" )\n",
    "cor.test(df_subset_cd27neg$Ages,df_subset_cd27neg$percentage_clr,method=\"spearman\")"
   ]
  },
  {
   "cell_type": "code",
   "execution_count": 56,
   "id": "08f01bb6-e418-4e7b-bd30-3de42f5b0bd3",
   "metadata": {},
   "outputs": [
    {
     "name": "stderr",
     "output_type": "stream",
     "text": [
      "\u001b[1m\u001b[22m`summarise()` has grouped output by 'Ages'. You can override using the\n",
      "`.groups` argument.\n"
     ]
    },
    {
     "ename": "ERROR",
     "evalue": "\u001b[1m\u001b[33mError\u001b[39m in `dplyr::group_by()`:\u001b[22m\n\u001b[1m\u001b[22m\u001b[33m!\u001b[39m Must group by variables found in `.data`.\n\u001b[31m✖\u001b[39m Column `pbmc_sample_id` is not found.\n",
     "output_type": "error",
     "traceback": [
      "\u001b[1m\u001b[33mError\u001b[39m in `dplyr::group_by()`:\u001b[22m\n\u001b[1m\u001b[22m\u001b[33m!\u001b[39m Must group by variables found in `.data`.\n\u001b[31m✖\u001b[39m Column `pbmc_sample_id` is not found.\nTraceback:\n",
      "1. as.data.frame(.)",
      "2. dplyr::ungroup(.)",
      "3. dplyr::mutate(., percentage_clr = clr_transform((percentage)))",
      "4. dplyr::group_by(., pbmc_sample_id)",
      "5. group_by.data.frame(., pbmc_sample_id)",
      "6. group_by_prepare(.data, ..., .add = .add, error_call = current_env())",
      "7. abort(bullets, call = error_call)",
      "8. signal_abort(cnd, .file)",
      "9. signalCondition(cnd)"
     ]
    }
   ],
   "source": [
    "df_subset<-df_subset %>%\n",
    "  dplyr::group_by(Ages,celltypist_l3) %>%     \n",
    "  summarize(mean_count=mean(count)) %>% dplyr::group_by(Ages) %>%     \n",
    "  dplyr::mutate(percentage = (mean_count / sum(mean_count)) ) "
   ]
  },
  {
   "cell_type": "code",
   "execution_count": 21,
   "id": "479b08fe-1162-4698-8b42-2206891d094b",
   "metadata": {},
   "outputs": [],
   "source": [
    "df_subset_B<-df_subset"
   ]
  },
  {
   "cell_type": "code",
   "execution_count": 22,
   "id": "826448d5-0d5b-45da-a0ee-610825ffcabc",
   "metadata": {},
   "outputs": [
    {
     "data": {
      "image/png": "[encoded data removed]",
      "text/plain": [
       "plot without title"
      ]
     },
     "metadata": {
      "image/png": {
       "height": 82.6772,
       "width": 283.4646
      }
     },
     "output_type": "display_data"
    }
   ],
   "source": [
    "options(repr.plot.width = 120/25.4, repr.plot.height = 35/25.4)\n",
    "\n",
    "p<-ggplot(df_subset ,aes(x = Ages, \n",
    "             y = percentage,\n",
    "             group = celltypist_l3,\n",
    "             fill = celltypist_l3)) +\n",
    "  ggstream::geom_stream(color = 'black', \n",
    "                        lwd = 0.25,\n",
    "                        \n",
    "                        bw = 1) + \n",
    "\n",
    "  scale_fill_manual(values = color_vector) +theme_void(base_size=6)+ \n",
    " \n",
    "guides(fill=guide_legend(ncol=2))+\n",
    "  theme(axis.title.y=element_blank(),\n",
    "        axis.text.y=element_blank(),\n",
    "        axis.ticks.y=element_blank(),\n",
    "        panel.border = element_blank(),\n",
    "        axis.line.x = element_line(size = 2, linetype = \"solid\", colour = \"lightgrey\"),\n",
    "        axis.line.y = element_blank(),\n",
    "        panel.grid.minor = element_blank(),\n",
    "        panel.grid.major.x = element_blank())\n",
    "\n",
    "\n",
    "p\n",
    "ggsave('FigureD-3.pdf',p,width = 60/25.4,height = 35/25.4)\n"
   ]
  },
  {
   "cell_type": "code",
   "execution_count": 23,
   "id": "24e59693-fdd0-474d-9e49-b060f02aaa02",
   "metadata": {},
   "outputs": [],
   "source": [
    "df<-do.call(rbind,list(df_subset_CD8T,df_subset_CD4T,df_subset_B))"
   ]
  },
  {
   "cell_type": "code",
   "execution_count": 24,
   "id": "dc071f7c-0b4a-4c64-95db-c7050e896e10",
   "metadata": {},
   "outputs": [],
   "source": [
    "write.csv(df %>% select(-mean_count),\n",
    "          \"/home//workspace/Source_Data/Fig2c_d_e.csv\", row.names=FALSE) "
   ]
  },
  {
   "cell_type": "code",
   "execution_count": null,
   "id": "af0b4419-fbf5-4aee-92da-907d103d9749",
   "metadata": {},
   "outputs": [],
   "source": []
  }
 ],
 "metadata": {
  "kernelspec": {
   "display_name": "R_BRI_Figures",
   "language": "R",
   "name": "r_bri_figures"
  },
  "language_info": {
   "codemirror_mode": "r",
   "file_extension": ".r",
   "mimetype": "text/x-r-source",
   "name": "R",
   "pygments_lexer": "r",
   "version": "4.3.2"
  }
 },
 "nbformat": 4,
 "nbformat_minor": 5
}
