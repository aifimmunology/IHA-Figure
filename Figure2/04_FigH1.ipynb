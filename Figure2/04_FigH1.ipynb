{
 "cells": [
  {
   "cell_type": "code",
   "execution_count": 4,
   "id": "6b9645c3-c2c7-4c06-8bd1-e9f1bae7c09f",
   "metadata": {},
   "outputs": [],
   "source": [
    "suppressPackageStartupMessages(library(dplyr))\n",
    "suppressPackageStartupMessages(library(tidyr))\n",
    "suppressPackageStartupMessages(library(tibble))\n",
    "suppressPackageStartupMessages(library(stringr))\n",
    "library(plyr)\n",
    "library(ggplot2)\n",
    "library(pheatmap)\n",
    "library(RColorBrewer)\n",
    "library(viridis)\n",
    "library(ComplexHeatmap)\n",
    "library(matrixStats)\n",
    "library(circlize)"
   ]
  },
  {
   "cell_type": "code",
   "execution_count": 14,
   "id": "993cd627-3c6f-491d-921a-6d1bfd1139fd",
   "metadata": {},
   "outputs": [],
   "source": [
    "color_annotation<-read.csv('../Color_hex_codes/Cell_Type_Color_Annotation_and_Order.csv')\n",
    "color_annotation$label<-gsub(\" cell\",'',color_annotation$label)\n",
    "color_vector <- setNames(color_annotation$color, color_annotation$label)"
   ]
  },
  {
   "cell_type": "code",
   "execution_count": 15,
   "id": "028e2d53-498a-4505-bc9c-6123e4c5c3fd",
   "metadata": {},
   "outputs": [],
   "source": [
    "df<-read.csv(\"06_Extract_Mean_Expression_SF4/Up_Selected_Genes.csv\",row.name=1)"
   ]
  },
  {
   "cell_type": "code",
   "execution_count": 16,
   "id": "c165ac5c-8302-4a32-b4df-1a078dba4df1",
   "metadata": {},
   "outputs": [],
   "source": [
    "df<-df[grepl(\"SESN3|PTG\",rownames(df)),]"
   ]
  },
  {
   "cell_type": "code",
   "execution_count": 18,
   "id": "64ebe934-f8c8-4c8a-8bd8-ed9cca3db371",
   "metadata": {},
   "outputs": [],
   "source": [
    "write.csv(df,\n",
    "          \"/home//workspace/Source_Data/Fig2h_1.csv\")"
   ]
  },
  {
   "cell_type": "raw",
   "id": "7735e6fb-6162-47e2-b178-a29754d50cd1",
   "metadata": {},
   "source": [
    "new_rownames <- sub(\".*?:\", \"\", rownames(df))\n",
    "if (any(duplicated(new_rownames))) {\n",
    "  new_rownames <- make.unique(new_rownames)\n",
    "}\n",
    "rownames(df) <- new_rownames"
   ]
  },
  {
   "cell_type": "code",
   "execution_count": 10,
   "id": "f740a6bb-8aae-4d58-ac4b-ecf5d30a7105",
   "metadata": {},
   "outputs": [],
   "source": [
    "rownames(df)<-gsub(\" cell\",\"\",rownames(df))"
   ]
  },
  {
   "cell_type": "code",
   "execution_count": 11,
   "id": "6edc5c2c-43dc-4fe8-9cc6-ce31b22831fc",
   "metadata": {},
   "outputs": [],
   "source": [
    "Top_annotation<-as.data.frame(colnames(df))\n",
    "Top_annotation$Ages<-as.numeric(gsub(\"X\",\"\",colnames(df)))\n",
    "rownames(Top_annotation)<-colnames(df)"
   ]
  },
  {
   "cell_type": "code",
   "execution_count": 12,
   "id": "fe81a957-9b97-4437-81b9-befeafbe8259",
   "metadata": {},
   "outputs": [],
   "source": [
    "\n",
    "breaks_sequence <- seq(-1, 1, length.out = 100)\n",
    "mat_scaled       <- t(scale(t(as.matrix(df))))\n",
    "rownames(mat_scaled)<- sub(\".*?:\", \"\", rownames(mat_scaled))\n",
    "\n",
    "my_row_cols      <- color_vector[rownames(mat_scaled)]\n",
    "ha_top <- HeatmapAnnotation(\n",
    "  Ages = Top_annotation[[2]],\n",
    "  col = list(\n",
    "    Ages = colorRamp2(c(40, 90), c(\"white\", \"dark green\"))\n",
    "  ),\n",
    "  annotation_legend_param = list(\n",
    "    Ages = list(\n",
    "      at = c(40, 65, 90),\n",
    "      title = \"Ages\",\n",
    "      direction = \"horizontal\"\n",
    "    )\n",
    "  ))\n",
    "\n"
   ]
  },
  {
   "cell_type": "code",
   "execution_count": 13,
   "id": "7ee6eb8f-cf99-4b45-a0e2-44c1534c506f",
   "metadata": {},
   "outputs": [
    {
     "data": {
      "text/html": [
       "<table class=\"dataframe\">\n",
       "<caption>A matrix: 8 × 51 of type dbl</caption>\n",
       "<thead>\n",
       "\t<tr><th></th><th scope=col>X40</th><th scope=col>X41</th><th scope=col>X42</th><th scope=col>X43</th><th scope=col>X44</th><th scope=col>X45</th><th scope=col>X46</th><th scope=col>X47</th><th scope=col>X48</th><th scope=col>X49</th><th scope=col>⋯</th><th scope=col>X81</th><th scope=col>X82</th><th scope=col>X83</th><th scope=col>X84</th><th scope=col>X85</th><th scope=col>X86</th><th scope=col>X87</th><th scope=col>X88</th><th scope=col>X89</th><th scope=col>X90</th></tr>\n",
       "</thead>\n",
       "<tbody>\n",
       "\t<tr><th scope=row>CM CD4 T</th><td>-1.0397400</td><td>-1.482054026</td><td>-0.8826073</td><td>-0.5070229</td><td>-0.7490846</td><td>-1.3420959</td><td>-1.3457471</td><td> 0.04209832</td><td>-2.0536718</td><td>-0.2025901</td><td>⋯</td><td> 0.36301871</td><td>1.1558743</td><td> 0.3213029</td><td>-0.1805913</td><td> 0.81949036</td><td>1.519344</td><td>2.2266197</td><td> 0.29718368</td><td>1.11233252</td><td>1.5118711</td></tr>\n",
       "\t<tr><th scope=row>Core naive CD4 T</th><td>-0.6856599</td><td>-1.164178864</td><td>-0.7285215</td><td>-1.0467684</td><td>-0.2093125</td><td>-1.4402494</td><td>-1.3845375</td><td>-0.65378786</td><td>-2.0290259</td><td>-0.7052990</td><td>⋯</td><td>-0.01628392</td><td>0.8866934</td><td> 1.8255320</td><td> 0.5307999</td><td>-0.66407983</td><td>1.184705</td><td>2.5687023</td><td> 0.92158985</td><td>0.72638476</td><td>1.8815265</td></tr>\n",
       "\t<tr><th scope=row>Core naive CD8 T</th><td>-1.3902557</td><td>-0.932626460</td><td>-0.8499424</td><td>-0.5701055</td><td>-0.5009471</td><td>-0.6552882</td><td>-0.8270728</td><td>-0.42443924</td><td>-1.7003036</td><td>-0.5899755</td><td>⋯</td><td> 0.20148592</td><td>1.3727291</td><td> 3.4800488</td><td>-0.2343383</td><td> 0.28401105</td><td>1.560656</td><td>1.9986756</td><td> 0.26929593</td><td>0.07986623</td><td>2.0610787</td></tr>\n",
       "\t<tr><th scope=row>GZMB- CD27- EM CD4 T</th><td>-1.2520345</td><td>-0.677270693</td><td>-1.2330063</td><td>-0.9991595</td><td>-0.5291568</td><td>-0.8919350</td><td>-1.4441475</td><td>-0.85364152</td><td>-1.5410511</td><td>-0.2203944</td><td>⋯</td><td> 0.63091708</td><td>1.0779070</td><td>-1.1058710</td><td> 0.7326123</td><td>-0.29242275</td><td>2.024735</td><td>2.2568202</td><td> 0.03768296</td><td>0.34659524</td><td>1.1949089</td></tr>\n",
       "\t<tr><th scope=row>CM CD4 T</th><td>-2.0796114</td><td>-0.855528573</td><td>-0.9814160</td><td>-0.5415647</td><td>-0.1407002</td><td>-1.6812369</td><td>-0.2079630</td><td>-0.42400351</td><td>-0.6600418</td><td>-0.6738024</td><td>⋯</td><td> 0.73468244</td><td>0.8672356</td><td>-2.1308393</td><td>-0.4149645</td><td> 0.15687908</td><td>2.702148</td><td>2.0811515</td><td>-0.19099443</td><td>0.99737772</td><td>1.6382569</td></tr>\n",
       "\t<tr><th scope=row>CM CD8 T</th><td> 0.4321664</td><td>-0.809175120</td><td>-0.9029010</td><td>-0.4929897</td><td>-0.1441305</td><td>-0.6092834</td><td>-0.5003158</td><td>-1.14607547</td><td>-0.4785058</td><td>-0.1459335</td><td>⋯</td><td> 0.10181810</td><td>1.7522691</td><td>-1.5495447</td><td>-0.3488809</td><td>-0.71893069</td><td>2.333476</td><td>0.5552496</td><td> 3.85164636</td><td>0.42481070</td><td>1.3618910</td></tr>\n",
       "\t<tr><th scope=row>Core naive CD8 T</th><td>-1.0014408</td><td>-0.007902556</td><td>-1.2261779</td><td>-0.9932151</td><td>-0.8805289</td><td>-1.7604052</td><td>-0.9737895</td><td> 0.26291416</td><td>-0.7984156</td><td>-0.3510613</td><td>⋯</td><td>-0.49825531</td><td>0.6002997</td><td>-2.3174240</td><td>-0.7116225</td><td> 0.01387715</td><td>1.208399</td><td>2.3354680</td><td> 1.72125191</td><td>0.51750896</td><td>2.1972889</td></tr>\n",
       "\t<tr><th scope=row>Naive CD4 Treg</th><td>-2.1877003</td><td>-0.514089976</td><td>-0.7884115</td><td>-1.4108041</td><td>-0.7333273</td><td>-1.9685494</td><td>-0.9496921</td><td> 0.06959348</td><td>-1.0733586</td><td>-0.9160575</td><td>⋯</td><td> 0.91382128</td><td>1.0158740</td><td> 0.4158065</td><td>-0.6069310</td><td> 0.21177474</td><td>1.278623</td><td>1.3242602</td><td> 2.49379111</td><td>2.14184613</td><td>0.9737764</td></tr>\n",
       "</tbody>\n",
       "</table>\n"
      ],
      "text/latex": [
       "A matrix: 8 × 51 of type dbl\n",
       "\\begin{tabular}{r|lllllllllllllllllllll}\n",
       "  & X40 & X41 & X42 & X43 & X44 & X45 & X46 & X47 & X48 & X49 & ⋯ & X81 & X82 & X83 & X84 & X85 & X86 & X87 & X88 & X89 & X90\\\\\n",
       "\\hline\n",
       "\tCM CD4 T & -1.0397400 & -1.482054026 & -0.8826073 & -0.5070229 & -0.7490846 & -1.3420959 & -1.3457471 &  0.04209832 & -2.0536718 & -0.2025901 & ⋯ &  0.36301871 & 1.1558743 &  0.3213029 & -0.1805913 &  0.81949036 & 1.519344 & 2.2266197 &  0.29718368 & 1.11233252 & 1.5118711\\\\\n",
       "\tCore naive CD4 T & -0.6856599 & -1.164178864 & -0.7285215 & -1.0467684 & -0.2093125 & -1.4402494 & -1.3845375 & -0.65378786 & -2.0290259 & -0.7052990 & ⋯ & -0.01628392 & 0.8866934 &  1.8255320 &  0.5307999 & -0.66407983 & 1.184705 & 2.5687023 &  0.92158985 & 0.72638476 & 1.8815265\\\\\n",
       "\tCore naive CD8 T & -1.3902557 & -0.932626460 & -0.8499424 & -0.5701055 & -0.5009471 & -0.6552882 & -0.8270728 & -0.42443924 & -1.7003036 & -0.5899755 & ⋯ &  0.20148592 & 1.3727291 &  3.4800488 & -0.2343383 &  0.28401105 & 1.560656 & 1.9986756 &  0.26929593 & 0.07986623 & 2.0610787\\\\\n",
       "\tGZMB- CD27- EM CD4 T & -1.2520345 & -0.677270693 & -1.2330063 & -0.9991595 & -0.5291568 & -0.8919350 & -1.4441475 & -0.85364152 & -1.5410511 & -0.2203944 & ⋯ &  0.63091708 & 1.0779070 & -1.1058710 &  0.7326123 & -0.29242275 & 2.024735 & 2.2568202 &  0.03768296 & 0.34659524 & 1.1949089\\\\\n",
       "\tCM CD4 T & -2.0796114 & -0.855528573 & -0.9814160 & -0.5415647 & -0.1407002 & -1.6812369 & -0.2079630 & -0.42400351 & -0.6600418 & -0.6738024 & ⋯ &  0.73468244 & 0.8672356 & -2.1308393 & -0.4149645 &  0.15687908 & 2.702148 & 2.0811515 & -0.19099443 & 0.99737772 & 1.6382569\\\\\n",
       "\tCM CD8 T &  0.4321664 & -0.809175120 & -0.9029010 & -0.4929897 & -0.1441305 & -0.6092834 & -0.5003158 & -1.14607547 & -0.4785058 & -0.1459335 & ⋯ &  0.10181810 & 1.7522691 & -1.5495447 & -0.3488809 & -0.71893069 & 2.333476 & 0.5552496 &  3.85164636 & 0.42481070 & 1.3618910\\\\\n",
       "\tCore naive CD8 T & -1.0014408 & -0.007902556 & -1.2261779 & -0.9932151 & -0.8805289 & -1.7604052 & -0.9737895 &  0.26291416 & -0.7984156 & -0.3510613 & ⋯ & -0.49825531 & 0.6002997 & -2.3174240 & -0.7116225 &  0.01387715 & 1.208399 & 2.3354680 &  1.72125191 & 0.51750896 & 2.1972889\\\\\n",
       "\tNaive CD4 Treg & -2.1877003 & -0.514089976 & -0.7884115 & -1.4108041 & -0.7333273 & -1.9685494 & -0.9496921 &  0.06959348 & -1.0733586 & -0.9160575 & ⋯ &  0.91382128 & 1.0158740 &  0.4158065 & -0.6069310 &  0.21177474 & 1.278623 & 1.3242602 &  2.49379111 & 2.14184613 & 0.9737764\\\\\n",
       "\\end{tabular}\n"
      ],
      "text/markdown": [
       "\n",
       "A matrix: 8 × 51 of type dbl\n",
       "\n",
       "| <!--/--> | X40 | X41 | X42 | X43 | X44 | X45 | X46 | X47 | X48 | X49 | ⋯ | X81 | X82 | X83 | X84 | X85 | X86 | X87 | X88 | X89 | X90 |\n",
       "|---|---|---|---|---|---|---|---|---|---|---|---|---|---|---|---|---|---|---|---|---|---|\n",
       "| CM CD4 T | -1.0397400 | -1.482054026 | -0.8826073 | -0.5070229 | -0.7490846 | -1.3420959 | -1.3457471 |  0.04209832 | -2.0536718 | -0.2025901 | ⋯ |  0.36301871 | 1.1558743 |  0.3213029 | -0.1805913 |  0.81949036 | 1.519344 | 2.2266197 |  0.29718368 | 1.11233252 | 1.5118711 |\n",
       "| Core naive CD4 T | -0.6856599 | -1.164178864 | -0.7285215 | -1.0467684 | -0.2093125 | -1.4402494 | -1.3845375 | -0.65378786 | -2.0290259 | -0.7052990 | ⋯ | -0.01628392 | 0.8866934 |  1.8255320 |  0.5307999 | -0.66407983 | 1.184705 | 2.5687023 |  0.92158985 | 0.72638476 | 1.8815265 |\n",
       "| Core naive CD8 T | -1.3902557 | -0.932626460 | -0.8499424 | -0.5701055 | -0.5009471 | -0.6552882 | -0.8270728 | -0.42443924 | -1.7003036 | -0.5899755 | ⋯ |  0.20148592 | 1.3727291 |  3.4800488 | -0.2343383 |  0.28401105 | 1.560656 | 1.9986756 |  0.26929593 | 0.07986623 | 2.0610787 |\n",
       "| GZMB- CD27- EM CD4 T | -1.2520345 | -0.677270693 | -1.2330063 | -0.9991595 | -0.5291568 | -0.8919350 | -1.4441475 | -0.85364152 | -1.5410511 | -0.2203944 | ⋯ |  0.63091708 | 1.0779070 | -1.1058710 |  0.7326123 | -0.29242275 | 2.024735 | 2.2568202 |  0.03768296 | 0.34659524 | 1.1949089 |\n",
       "| CM CD4 T | -2.0796114 | -0.855528573 | -0.9814160 | -0.5415647 | -0.1407002 | -1.6812369 | -0.2079630 | -0.42400351 | -0.6600418 | -0.6738024 | ⋯ |  0.73468244 | 0.8672356 | -2.1308393 | -0.4149645 |  0.15687908 | 2.702148 | 2.0811515 | -0.19099443 | 0.99737772 | 1.6382569 |\n",
       "| CM CD8 T |  0.4321664 | -0.809175120 | -0.9029010 | -0.4929897 | -0.1441305 | -0.6092834 | -0.5003158 | -1.14607547 | -0.4785058 | -0.1459335 | ⋯ |  0.10181810 | 1.7522691 | -1.5495447 | -0.3488809 | -0.71893069 | 2.333476 | 0.5552496 |  3.85164636 | 0.42481070 | 1.3618910 |\n",
       "| Core naive CD8 T | -1.0014408 | -0.007902556 | -1.2261779 | -0.9932151 | -0.8805289 | -1.7604052 | -0.9737895 |  0.26291416 | -0.7984156 | -0.3510613 | ⋯ | -0.49825531 | 0.6002997 | -2.3174240 | -0.7116225 |  0.01387715 | 1.208399 | 2.3354680 |  1.72125191 | 0.51750896 | 2.1972889 |\n",
       "| Naive CD4 Treg | -2.1877003 | -0.514089976 | -0.7884115 | -1.4108041 | -0.7333273 | -1.9685494 | -0.9496921 |  0.06959348 | -1.0733586 | -0.9160575 | ⋯ |  0.91382128 | 1.0158740 |  0.4158065 | -0.6069310 |  0.21177474 | 1.278623 | 1.3242602 |  2.49379111 | 2.14184613 | 0.9737764 |\n",
       "\n"
      ],
      "text/plain": [
       "                     X40        X41          X42        X43        X44       \n",
       "CM CD4 T             -1.0397400 -1.482054026 -0.8826073 -0.5070229 -0.7490846\n",
       "Core naive CD4 T     -0.6856599 -1.164178864 -0.7285215 -1.0467684 -0.2093125\n",
       "Core naive CD8 T     -1.3902557 -0.932626460 -0.8499424 -0.5701055 -0.5009471\n",
       "GZMB- CD27- EM CD4 T -1.2520345 -0.677270693 -1.2330063 -0.9991595 -0.5291568\n",
       "CM CD4 T             -2.0796114 -0.855528573 -0.9814160 -0.5415647 -0.1407002\n",
       "CM CD8 T              0.4321664 -0.809175120 -0.9029010 -0.4929897 -0.1441305\n",
       "Core naive CD8 T     -1.0014408 -0.007902556 -1.2261779 -0.9932151 -0.8805289\n",
       "Naive CD4 Treg       -2.1877003 -0.514089976 -0.7884115 -1.4108041 -0.7333273\n",
       "                     X45        X46        X47         X48        X49        ⋯\n",
       "CM CD4 T             -1.3420959 -1.3457471  0.04209832 -2.0536718 -0.2025901 ⋯\n",
       "Core naive CD4 T     -1.4402494 -1.3845375 -0.65378786 -2.0290259 -0.7052990 ⋯\n",
       "Core naive CD8 T     -0.6552882 -0.8270728 -0.42443924 -1.7003036 -0.5899755 ⋯\n",
       "GZMB- CD27- EM CD4 T -0.8919350 -1.4441475 -0.85364152 -1.5410511 -0.2203944 ⋯\n",
       "CM CD4 T             -1.6812369 -0.2079630 -0.42400351 -0.6600418 -0.6738024 ⋯\n",
       "CM CD8 T             -0.6092834 -0.5003158 -1.14607547 -0.4785058 -0.1459335 ⋯\n",
       "Core naive CD8 T     -1.7604052 -0.9737895  0.26291416 -0.7984156 -0.3510613 ⋯\n",
       "Naive CD4 Treg       -1.9685494 -0.9496921  0.06959348 -1.0733586 -0.9160575 ⋯\n",
       "                     X81         X82       X83        X84        X85        \n",
       "CM CD4 T              0.36301871 1.1558743  0.3213029 -0.1805913  0.81949036\n",
       "Core naive CD4 T     -0.01628392 0.8866934  1.8255320  0.5307999 -0.66407983\n",
       "Core naive CD8 T      0.20148592 1.3727291  3.4800488 -0.2343383  0.28401105\n",
       "GZMB- CD27- EM CD4 T  0.63091708 1.0779070 -1.1058710  0.7326123 -0.29242275\n",
       "CM CD4 T              0.73468244 0.8672356 -2.1308393 -0.4149645  0.15687908\n",
       "CM CD8 T              0.10181810 1.7522691 -1.5495447 -0.3488809 -0.71893069\n",
       "Core naive CD8 T     -0.49825531 0.6002997 -2.3174240 -0.7116225  0.01387715\n",
       "Naive CD4 Treg        0.91382128 1.0158740  0.4158065 -0.6069310  0.21177474\n",
       "                     X86      X87       X88         X89        X90      \n",
       "CM CD4 T             1.519344 2.2266197  0.29718368 1.11233252 1.5118711\n",
       "Core naive CD4 T     1.184705 2.5687023  0.92158985 0.72638476 1.8815265\n",
       "Core naive CD8 T     1.560656 1.9986756  0.26929593 0.07986623 2.0610787\n",
       "GZMB- CD27- EM CD4 T 2.024735 2.2568202  0.03768296 0.34659524 1.1949089\n",
       "CM CD4 T             2.702148 2.0811515 -0.19099443 0.99737772 1.6382569\n",
       "CM CD8 T             2.333476 0.5552496  3.85164636 0.42481070 1.3618910\n",
       "Core naive CD8 T     1.208399 2.3354680  1.72125191 0.51750896 2.1972889\n",
       "Naive CD4 Treg       1.278623 1.3242602  2.49379111 2.14184613 0.9737764"
      ]
     },
     "metadata": {},
     "output_type": "display_data"
    }
   ],
   "source": [
    "mat_scaled"
   ]
  },
  {
   "cell_type": "code",
   "execution_count": 9,
   "id": "13d0dd74-b9cb-4e2b-b3e1-0bf8f17868e6",
   "metadata": {},
   "outputs": [
    {
     "data": {
      "text/html": [
       "<strong>pdf:</strong> 2"
      ],
      "text/latex": [
       "\\textbf{pdf:} 2"
      ],
      "text/markdown": [
       "**pdf:** 2"
      ],
      "text/plain": [
       "pdf \n",
       "  2 "
      ]
     },
     "metadata": {},
     "output_type": "display_data"
    }
   ],
   "source": [
    "options(repr.plot.width = 70/25.4, repr.plot.height = 40/25.4)\n",
    "\n",
    "ht <- Heatmap(\n",
    "  mat_scaled,\n",
    "  name             = \"value\",\n",
    "  col              = colorRamp2(breaks_sequence, inferno(100)),\n",
    "  top_annotation   = ha_top,\n",
    "  cluster_rows     = FALSE,\n",
    "  cluster_columns  = FALSE,\n",
    "  show_column_names= FALSE,\n",
    "  row_names_gp     = gpar(fontsize = 6, col = my_row_cols),\n",
    "  row_split        = c(rep(\"SESN3\", 4), rep(\"PTGER2\", 4)),\n",
    "  row_title_gp     = gpar(fontsize = 6),\n",
    "  heatmap_legend_param = list(\n",
    "    direction = \"horizontal\"\n",
    "  ))\n",
    "\n",
    "pdf(\"FigureH1.pdf\", width = 60/25.4, height = 40/25.4)  # size in inches\n",
    "draw(\n",
    "  ht,\n",
    "  heatmap_legend_side = \"bottom\",\n",
    "  annotation_legend_side = \"bottom\",\n",
    "  merge_legends = TRUE\n",
    ")\n",
    "dev.off()"
   ]
  },
  {
   "cell_type": "code",
   "execution_count": null,
   "id": "4252e348-e83f-4a1d-b969-14234b4dab29",
   "metadata": {},
   "outputs": [],
   "source": []
  }
 ],
 "metadata": {
  "kernelspec": {
   "display_name": "R_BRI_Figures",
   "language": "R",
   "name": "r_bri_figures"
  },
  "language_info": {
   "codemirror_mode": "r",
   "file_extension": ".r",
   "mimetype": "text/x-r-source",
   "name": "R",
   "pygments_lexer": "r",
   "version": "4.3.2"
  }
 },
 "nbformat": 4,
 "nbformat_minor": 5
}
