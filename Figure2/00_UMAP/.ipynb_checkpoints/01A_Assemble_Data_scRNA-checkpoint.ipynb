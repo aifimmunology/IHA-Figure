{
 "cells": [
  {
   "cell_type": "code",
   "execution_count": 1,
   "id": "8509aa35-d334-43e6-bc96-65e80b706da4",
   "metadata": {},
   "outputs": [
    {
     "name": "stdout",
     "output_type": "stream",
     "text": [
      "Current working directory: /home/jupyter/BRI_Figures/Figure2\n"
     ]
    }
   ],
   "source": [
    "import pandas as pd \n",
    "import numpy as np \n",
    "import scanpy as sc\n",
    "import matplotlib.pyplot as plt\n",
    "import concurrent.futures\n",
    "import pickle\n",
    "import warnings\n",
    "from datetime import date\n",
    "import hisepy\n",
    "import os\n",
    "import shutil\n",
    "from concurrent.futures import ThreadPoolExecutor, as_completed,ProcessPoolExecutor\n",
    "from tqdm import tqdm\n",
    "import anndata\n",
    "import milopy\n",
    "import milopy.core as milo\n",
    "import gc\n",
    "warnings.filterwarnings(\"ignore\")\n",
    "sc.settings.n_jobs = 60\n",
    "print(\"Current working directory:\", os.getcwd())"
   ]
  },
  {
   "cell_type": "markdown",
   "id": "31eb26ad-7744-4337-b500-f178dadfb092",
   "metadata": {},
   "source": [
    "# Read MetaData"
   ]
  },
  {
   "cell_type": "code",
   "execution_count": 2,
   "id": "9ae55042-e9ef-44bb-929e-833a9d87cefd",
   "metadata": {},
   "outputs": [],
   "source": [
    "meta_data=pd.read_csv(\"/home/jupyter/BRI_Figures/Dataset/scRNA_meta_data-2024-05-09.csv\")"
   ]
  },
  {
   "cell_type": "markdown",
   "id": "c0d7f07a-cfb3-46b9-b494-25538284d333",
   "metadata": {},
   "source": [
    "# Assemble Year 1 Day 0"
   ]
  },
  {
   "cell_type": "code",
   "execution_count": 3,
   "id": "ec4a9d33-cf06-4da5-ad22-dcb5542c41c1",
   "metadata": {},
   "outputs": [],
   "source": [
    "meta_data_subset=meta_data[meta_data['sample.visitName'].isin(['Flu Year 1 Day 0'])]"
   ]
  },
  {
   "cell_type": "code",
   "execution_count": 4,
   "id": "18bb46b5-2f49-4f08-a330-3f3edeba84ef",
   "metadata": {},
   "outputs": [
    {
     "name": "stderr",
     "output_type": "stream",
     "text": [
      "100% 92/92 [00:30<00:00,  3.00it/s]"
     ]
    },
    {
     "name": "stdout",
     "output_type": "stream",
     "text": [
      "CPU times: user 17.4 s, sys: 14.3 s, total: 31.7 s\n",
      "Wall time: 30.7 s\n"
     ]
    },
    {
     "name": "stderr",
     "output_type": "stream",
     "text": [
      "\n"
     ]
    }
   ],
   "source": [
    "%%time\n",
    "file_names= ['/home/jupyter/BRI_Figures/Dataset/scRNA/BRI/h5ad/sample_h5ad/'+x+\".h5ad\" for x in meta_data_subset['pbmc_sample_id'].tolist()]\n",
    "adata_list = []\n",
    "with ThreadPoolExecutor(max_workers=10) as executor:\n",
    "    future_to_file = {executor.submit(sc.read_h5ad, file_name): file_name for file_name in file_names}\n",
    "    for future in tqdm(as_completed(future_to_file), total=len(file_names)):\n",
    "        result = future.result()\n",
    "        if result is not None:\n",
    "            adata_list.append(result)"
   ]
  },
  {
   "cell_type": "code",
   "execution_count": 5,
   "id": "cb6799ed-7674-4977-9c0e-4b50797dca47",
   "metadata": {},
   "outputs": [],
   "source": [
    "adata = anndata.concat(adata_list)"
   ]
  },
  {
   "cell_type": "code",
   "execution_count": 6,
   "id": "f852399a-2107-438e-8050-79c12b45593a",
   "metadata": {},
   "outputs": [
    {
     "data": {
      "application/vnd.jupyter.widget-view+json": {
       "model_id": "a664b15dd4194e2d882fb75a448fa83f",
       "version_major": 2,
       "version_minor": 0
      },
      "text/plain": [
       "  0%|          | 0/200 [00:00<?, ?it/s]"
      ]
     },
     "metadata": {},
     "output_type": "display_data"
    },
    {
     "name": "stdout",
     "output_type": "stream",
     "text": [
      "\tcompleted  0  /  200 epochs\n",
      "\tcompleted  20  /  200 epochs\n",
      "\tcompleted  40  /  200 epochs\n",
      "\tcompleted  60  /  200 epochs\n",
      "\tcompleted  80  /  200 epochs\n",
      "\tcompleted  100  /  200 epochs\n"
     ]
    },
    {
     "name": "stderr",
     "output_type": "stream",
     "text": [
      "IOStream.flush timed out\n",
      "IOStream.flush timed out\n",
      "IOStream.flush timed out\n",
      "IOStream.flush timed out\n",
      "IOStream.flush timed out\n",
      "IOStream.flush timed out\n"
     ]
    },
    {
     "name": "stdout",
     "output_type": "stream",
     "text": [
      "\tcompleted  120  /  200 epochs\n",
      "\tcompleted  140  /  200 epochs\n",
      "\tcompleted  160  /  200 epochs\n",
      "\tcompleted  180  /  200 epochs\n",
      "CPU times: user 11h 50min 33s, sys: 35min 20s, total: 12h 25min 53s\n",
      "Wall time: 1h 18min 15s\n"
     ]
    }
   ],
   "source": [
    "%%time\n",
    "adata.raw=adata\n",
    "sc.pp.normalize_total(adata, target_sum=1e4)\n",
    "sc.pp.log1p(adata)\n",
    "\n",
    "igl_genes = [gene for gene in adata.var_names if gene.startswith(\"IGL\")]\n",
    "igk_genes = [gene for gene in adata.var_names if gene.startswith(\"IGK\")]\n",
    "ighc_genes = [gene for gene in adata.var_names if gene.startswith(\"IGH\")]\n",
    "exl_genes = igl_genes + igk_genes + ighc_genes\n",
    "mask = ~adata.var_names.isin(exl_genes)\n",
    "adata = adata[:, mask]\n",
    "sc.pp.highly_variable_genes(adata)\n",
    "adata = adata[:, adata.var_names[adata.var['highly_variable']]]\n",
    "\n",
    "sc.pp.scale(adata)\n",
    "sc.tl.pca(adata, svd_solver='arpack')\n",
    "sc.pp.neighbors(adata, n_neighbors=50,use_rep='X_pca', n_pcs=20)\n",
    "sc.tl.umap(adata,min_dist=0.45,random_state=0)"
   ]
  },
  {
   "cell_type": "code",
   "execution_count": 8,
   "id": "2384d372-b7b9-4f15-afd7-4068e0dd35fa",
   "metadata": {},
   "outputs": [
    {
     "name": "stdout",
     "output_type": "stream",
     "text": [
      "CPU times: user 1h 56min 15s, sys: 1h 20min 58s, total: 3h 17min 14s\n",
      "Wall time: 51min\n"
     ]
    }
   ],
   "source": [
    "%%time\n",
    "milo.make_nhoods(adata)\n",
    "milo.count_nhoods(adata, sample_col=\"specimen.specimenGuid\")"
   ]
  },
  {
   "cell_type": "code",
   "execution_count": 9,
   "id": "5e8bf952-8a6a-46c3-b666-eaa45a2cfc56",
   "metadata": {},
   "outputs": [],
   "source": [
    "adata=adata.raw.to_adata()\n",
    "adata.write_h5ad('Y1D0_BRI.h5ad')"
   ]
  },
  {
   "cell_type": "markdown",
   "id": "c430ed22-9cd7-40ec-89da-34800b54bb24",
   "metadata": {},
   "source": [
    "# Assemble Year 1 Day 0 and Day 7"
   ]
  },
  {
   "cell_type": "code",
   "execution_count": 3,
   "id": "85b7522e-1abd-438f-810d-d57514cb7e84",
   "metadata": {},
   "outputs": [],
   "source": [
    "meta_data_subset=meta_data[meta_data['sample.visitName'].isin(['Flu Year 1 Day 0','Flu Year 1 Day 7'])]\n",
    "meta_data_subset=meta_data_subset[meta_data_subset['Covid_exclusion']=='no']"
   ]
  },
  {
   "cell_type": "code",
   "execution_count": 4,
   "id": "d36a9996-42f5-4ed9-9929-0a5be7b6c7e2",
   "metadata": {},
   "outputs": [
    {
     "name": "stderr",
     "output_type": "stream",
     "text": [
      "100% 184/184 [06:46<00:00,  2.21s/it]"
     ]
    },
    {
     "name": "stdout",
     "output_type": "stream",
     "text": [
      "CPU times: user 36.9 s, sys: 40.7 s, total: 1min 17s\n",
      "Wall time: 6min 46s\n"
     ]
    },
    {
     "name": "stderr",
     "output_type": "stream",
     "text": [
      "\n"
     ]
    }
   ],
   "source": [
    "%%time\n",
    "file_names= ['/home/jupyter/BRI_Figures/Dataset/scRNA/BRI/h5ad/sample_h5ad/'+x+\".h5ad\" for x in meta_data_subset['pbmc_sample_id'].tolist()]\n",
    "adata_list = []\n",
    "with ThreadPoolExecutor(max_workers=10) as executor:\n",
    "    future_to_file = {executor.submit(sc.read_h5ad, file_name): file_name for file_name in file_names}\n",
    "    for future in tqdm(as_completed(future_to_file), total=len(file_names)):\n",
    "        result = future.result()\n",
    "        if result is not None:\n",
    "            adata_list.append(result)"
   ]
  },
  {
   "cell_type": "code",
   "execution_count": 5,
   "id": "7b60f183-e9aa-44eb-8b72-9b05ad0bb5e9",
   "metadata": {},
   "outputs": [],
   "source": [
    "adata = anndata.concat(adata_list)"
   ]
  },
  {
   "cell_type": "code",
   "execution_count": 6,
   "id": "1c18a917-aa79-4a8f-957e-342fcf3a8f24",
   "metadata": {},
   "outputs": [
    {
     "data": {
      "text/plain": [
       "0"
      ]
     },
     "execution_count": 6,
     "metadata": {},
     "output_type": "execute_result"
    }
   ],
   "source": [
    "del adata_list\n",
    "gc.collect()"
   ]
  },
  {
   "cell_type": "code",
   "execution_count": null,
   "id": "99d670b7-8b25-4e31-ae0f-bb633ac61e07",
   "metadata": {},
   "outputs": [],
   "source": [
    "%%time\n",
    "adata.raw=adata\n",
    "sc.pp.normalize_total(adata, target_sum=1e4)\n",
    "sc.pp.log1p(adata)\n",
    "\n",
    "igl_genes = [gene for gene in adata.var_names if gene.startswith(\"IGL\")]\n",
    "igk_genes = [gene for gene in adata.var_names if gene.startswith(\"IGK\")]\n",
    "ighc_genes = [gene for gene in adata.var_names if gene.startswith(\"IGH\")]\n",
    "exl_genes = igl_genes + igk_genes + ighc_genes\n",
    "mask = ~adata.var_names.isin(exl_genes)\n",
    "adata = adata[:, mask]\n",
    "sc.pp.highly_variable_genes(adata)\n",
    "adata = adata[:, adata.var_names[adata.var['highly_variable']]]\n",
    "\n",
    "sc.pp.scale(adata)\n",
    "sc.tl.pca(adata, svd_solver='arpack')\n",
    "sc.pp.neighbors(adata, n_neighbors=50,use_rep='X_pca', n_pcs=20)\n",
    "sc.tl.umap(adata,min_dist=0.45,random_state=0)"
   ]
  },
  {
   "cell_type": "code",
   "execution_count": null,
   "id": "66b30ecc-4f57-4d0c-b713-c22f462d9029",
   "metadata": {},
   "outputs": [],
   "source": [
    "%%time\n",
    "milo.make_nhoods(adata)\n",
    "milo.count_nhoods(adata, sample_col=\"specimen.specimenGuid\")"
   ]
  },
  {
   "cell_type": "code",
   "execution_count": null,
   "id": "c8ea33df-ef15-4cfd-b740-3822322238c3",
   "metadata": {},
   "outputs": [],
   "source": [
    "adata"
   ]
  },
  {
   "cell_type": "code",
   "execution_count": null,
   "id": "085bc051-7ab2-44ed-a169-d4087fee83d6",
   "metadata": {},
   "outputs": [],
   "source": [
    "adata=adata.raw.to_adata()\n",
    "adata.write_h5ad('Y1D0_Y1D7_BRI.h5ad')"
   ]
  },
  {
   "cell_type": "markdown",
   "id": "37f7fb0a-7eff-436f-934f-2570c99c1201",
   "metadata": {},
   "source": [
    "# Assemble Null Vaccination- Immune-Variation"
   ]
  },
  {
   "cell_type": "code",
   "execution_count": null,
   "id": "2a758044-a2b2-4c93-9e9a-4eff351c5731",
   "metadata": {},
   "outputs": [],
   "source": [
    "meta_data_subset=meta_data[meta_data['sample.visitName'].isin(['Immune Variation Day 0', 'Immune Variation Day 7'])]\n",
    "meta_data_subset=meta_data_subset[meta_data_subset['Covid_exclusion']=='no']"
   ]
  },
  {
   "cell_type": "code",
   "execution_count": null,
   "id": "40e713f1-f773-4854-97c6-f372cba84fcb",
   "metadata": {},
   "outputs": [],
   "source": [
    "%%time\n",
    "file_names= ['/home/jupyter/BRI_Figures/Dataset/scRNA/BRI/h5ad/sample_h5ad/'+x+\".h5ad\" for x in meta_data_subset['pbmc_sample_id'].tolist()]\n",
    "adata_list = []\n",
    "with ThreadPoolExecutor(max_workers=10) as executor:\n",
    "    future_to_file = {executor.submit(sc.read_h5ad, file_name): file_name for file_name in file_names}\n",
    "    for future in tqdm(as_completed(future_to_file), total=len(file_names)):\n",
    "        result = future.result()\n",
    "        if result is not None:\n",
    "            adata_list.append(result)\n"
   ]
  },
  {
   "cell_type": "code",
   "execution_count": null,
   "id": "1258814b-76ca-43ff-a89f-fff8898a5b7b",
   "metadata": {},
   "outputs": [],
   "source": [
    "adata = anndata.concat(adata_list)"
   ]
  },
  {
   "cell_type": "code",
   "execution_count": null,
   "id": "eb5c3c1c-906b-45c8-a85a-96b76f6787c5",
   "metadata": {},
   "outputs": [],
   "source": [
    "%%time\n",
    "adata.raw=adata\n",
    "sc.pp.normalize_total(adata, target_sum=1e4)\n",
    "sc.pp.log1p(adata)\n",
    "\n",
    "igl_genes = [gene for gene in adata.var_names if gene.startswith(\"IGL\")]\n",
    "igk_genes = [gene for gene in adata.var_names if gene.startswith(\"IGK\")]\n",
    "ighc_genes = [gene for gene in adata.var_names if gene.startswith(\"IGH\")]\n",
    "exl_genes = igl_genes + igk_genes + ighc_genes\n",
    "mask = ~adata.var_names.isin(exl_genes)\n",
    "adata = adata[:, mask]\n",
    "sc.pp.highly_variable_genes(adata)\n",
    "adata = adata[:, adata.var_names[adata.var['highly_variable']]]\n",
    "\n",
    "sc.pp.scale(adata)\n",
    "sc.tl.pca(adata, svd_solver='arpack')\n",
    "sc.pp.neighbors(adata, n_neighbors=50,use_rep='X_pca', n_pcs=20)\n",
    "sc.tl.umap(adata,min_dist=0.45,random_state=0)"
   ]
  },
  {
   "cell_type": "code",
   "execution_count": null,
   "id": "794bde13-a5ff-4742-8f5b-05b8a6b2fd43",
   "metadata": {},
   "outputs": [],
   "source": [
    "%%time\n",
    "milo.make_nhoods(adata)\n",
    "milo.count_nhoods(adata, sample_col=\"specimen.specimenGuid\")"
   ]
  },
  {
   "cell_type": "code",
   "execution_count": null,
   "id": "23c6c79e-cb84-447f-bd34-ddb19ff773eb",
   "metadata": {},
   "outputs": [],
   "source": [
    "adata=adata.raw.to_adata()\n",
    "adata.write_h5ad('ImmVarD0_ImmVarD7_BRI.h5ad')"
   ]
  },
  {
   "cell_type": "code",
   "execution_count": null,
   "id": "b32ebc6e-bc5d-4af2-9c73-cfed2727d3e0",
   "metadata": {},
   "outputs": [],
   "source": []
  },
  {
   "cell_type": "code",
   "execution_count": null,
   "id": "ad5c2561-672e-4e09-ab3a-09023889055c",
   "metadata": {},
   "outputs": [],
   "source": []
  },
  {
   "cell_type": "markdown",
   "id": "132f4955-35b5-4ff8-9c37-509fcebd6d12",
   "metadata": {},
   "source": [
    "# Upload the file"
   ]
  },
  {
   "cell_type": "code",
   "execution_count": 2,
   "id": "fbcd1c2f-cbf1-42d0-968a-2b3754a66baf",
   "metadata": {},
   "outputs": [],
   "source": [
    "input_uuid=pd.read_csv(\"/home/jupyter/BRI_Figures/Dataset/scRNA_BRI_h5ad_uuid.csv\")['id'].tolist()"
   ]
  },
  {
   "cell_type": "code",
   "execution_count": 3,
   "id": "845c9a38-3403-4db9-982a-e36ca798390f",
   "metadata": {},
   "outputs": [
    {
     "data": {
      "text/plain": [
       "'Cert-Pro_BRI_Figures_Files_2024-05-21_from_/home/jupyter/BRI_Figures/Figure2/01A_Assemble_Data_scRNA.ipynb\"'"
      ]
     },
     "execution_count": 3,
     "metadata": {},
     "output_type": "execute_result"
    }
   ],
   "source": [
    "study_space_uuid = 'de025812-5e73-4b3c-9c3b-6d0eac412f2a'\n",
    "title =  'Cert-Pro_BRI_Figures_Files_{d}_from_{wd}/{notebook_name}\"'.format(d = date.today(),\n",
    "                                                                      wd=os.getcwd(),\n",
    "                                                                      notebook_name=str(__session__).split('/')[-1])\n",
    "title"
   ]
  },
  {
   "cell_type": "code",
   "execution_count": 4,
   "id": "cd549510-9b64-4d09-a98e-7d9b30c84b6e",
   "metadata": {},
   "outputs": [
    {
     "name": "stdout",
     "output_type": "stream",
     "text": [
      "Cannot determine the current notebook.\n",
      "1) /home/jupyter/IHA-Figures/Figure6/0?_DEG_Visualization.ipynb\n",
      "2) /home/jupyter/IHA-Figures/Figure5/0?_Composition.ipynb\n",
      "3) /home/jupyter/IHA-Figures/Figure3/03B_Aging_CompositeScore_SF4.ipynb\n",
      "Please select (1-3) \n"
     ]
    },
    {
     "name": "stdin",
     "output_type": "stream",
     "text": [
      " 1\n"
     ]
    },
    {
     "name": "stdout",
     "output_type": "stream",
     "text": [
      "you are trying to upload file_ids... ['/home/jupyter/BRI_Figures/Figure2/Y1D0_BRI.h5ad', '/home/jupyter/BRI_Figures/Figure2/Y1D0_Y1D7_BRI.h5ad']. Do you truly want to proceed?\n"
     ]
    },
    {
     "name": "stdin",
     "output_type": "stream",
     "text": [
      "(y/n) Y\n"
     ]
    },
    {
     "data": {
      "text/plain": [
       "{'trace_id': '8e842ef9-394f-4f98-8ad4-8ba1fa7e91fa',\n",
       " 'files': ['/home/jupyter/BRI_Figures/Figure2/Y1D0_BRI.h5ad',\n",
       "  '/home/jupyter/BRI_Figures/Figure2/Y1D0_Y1D7_BRI.h5ad']}"
      ]
     },
     "execution_count": 4,
     "metadata": {},
     "output_type": "execute_result"
    }
   ],
   "source": [
    "hisepy.upload.upload_files(\n",
    "    study_space_id = study_space_uuid,\n",
    "    title = title,\n",
    "    input_file_ids = input_uuid,\n",
    "    files = ['/home/jupyter/BRI_Figures/Figure2/Y1D0_BRI.h5ad','/home/jupyter/BRI_Figures/Figure2/Y1D0_Y1D7_BRI.h5ad'],\n",
    "    destination=\"Cert-Pro_BRI_Figures_Figure2_h5ad_set_{d}\".format(d = date.today())\n",
    ")"
   ]
  },
  {
   "cell_type": "code",
   "execution_count": 5,
   "id": "7104f7e7-df95-404b-9202-7f2cf2c4330f",
   "metadata": {},
   "outputs": [
    {
     "name": "stdout",
     "output_type": "stream",
     "text": [
      "01A_Assemble_Data_scRNA.ipynb\n"
     ]
    }
   ],
   "source": [
    "print(str(__session__).split('/')[-1])\n"
   ]
  },
  {
   "cell_type": "code",
   "execution_count": null,
   "id": "c821b1d6-fd30-40b3-a381-110c75c713ae",
   "metadata": {},
   "outputs": [],
   "source": []
  }
 ],
 "metadata": {
  "kernelspec": {
   "display_name": "Python [conda env:root] *",
   "language": "python",
   "name": "conda-root-py"
  },
  "language_info": {
   "codemirror_mode": {
    "name": "ipython",
    "version": 3
   },
   "file_extension": ".py",
   "mimetype": "text/x-python",
   "name": "python",
   "nbconvert_exporter": "python",
   "pygments_lexer": "ipython3",
   "version": "3.10.13"
  }
 },
 "nbformat": 4,
 "nbformat_minor": 5
}
