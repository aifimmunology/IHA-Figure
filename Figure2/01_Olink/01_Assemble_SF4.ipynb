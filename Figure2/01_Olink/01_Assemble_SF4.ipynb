{
 "cells": [
  {
   "cell_type": "code",
   "execution_count": 1,
   "id": "6fd3a75f-5107-4e9f-b57c-774ca221b5c4",
   "metadata": {},
   "outputs": [],
   "source": [
    "suppressPackageStartupMessages(library(readxl))\n",
    "suppressPackageStartupMessages(library(dplyr))\n",
    "suppressPackageStartupMessages(library(tidyr))\n",
    "suppressPackageStartupMessages(library(tibble))\n",
    "suppressPackageStartupMessages(library(parallel))\n",
    "suppressPackageStartupMessages(library(plyr))\n",
    "suppressPackageStartupMessages(library(stringr))"
   ]
  },
  {
   "cell_type": "code",
   "execution_count": 2,
   "id": "2d4037e5-9d3e-4388-8c59-15f61e4917f5",
   "metadata": {},
   "outputs": [],
   "source": [
    "#load files\n",
    "olink_1 <- \"/home/jupyter/BRI_Figures_Final_V2/Dataset/Olink/Q-09912_olink_bridged_results.csv\"\n",
    "olink_2 <- \"/home/jupyter/BRI_Figures_Final_V2/Dataset/Olink/Q-09913_olink_bridged_results.csv\"\n",
    "olink_3 <- \"/home/jupyter/BRI_Figures_Final_V2/Dataset/Olink/Q-09914_olink_bridged_results.csv\"\n",
    "\n",
    "# Read the CSV files\n",
    "data1 <- read.csv(olink_1, stringsAsFactors = FALSE)\n",
    "data2 <- read.csv(olink_2, stringsAsFactors = FALSE)\n",
    "data3 <- read.csv(olink_3, stringsAsFactors = FALSE)\n",
    "\n",
    "# Combine the data frames using rbind\n",
    "combined_data <- rbind(data1, data2, data3)\n",
    "olink_SF4 <- as.data.frame(combined_data)"
   ]
  },
  {
   "cell_type": "code",
   "execution_count": 3,
   "id": "3ed78e20-9366-4d99-abe6-97a7b939bc30",
   "metadata": {},
   "outputs": [],
   "source": [
    "write.csv(olink_SF4,'Olink_SF4.csv')"
   ]
  },
  {
   "cell_type": "code",
   "execution_count": null,
   "id": "d26314a1-c28b-4894-9519-00e909c6916a",
   "metadata": {},
   "outputs": [],
   "source": []
  }
 ],
 "metadata": {
  "kernelspec": {
   "display_name": "R 4",
   "language": "R",
   "name": "ir4"
  },
  "language_info": {
   "codemirror_mode": "r",
   "file_extension": ".r",
   "mimetype": "text/x-r-source",
   "name": "R",
   "pygments_lexer": "r",
   "version": "4.3.2"
  }
 },
 "nbformat": 4,
 "nbformat_minor": 5
}
