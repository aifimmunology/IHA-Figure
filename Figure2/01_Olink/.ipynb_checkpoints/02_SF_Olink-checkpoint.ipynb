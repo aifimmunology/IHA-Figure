{
 "cells": [
  {
   "cell_type": "code",
   "execution_count": null,
   "id": "d24de5d0-8b8a-4649-935d-370e27a28801",
   "metadata": {},
   "outputs": [],
   "source": [
    "suppressPackageStartupMessages(library(dplyr))\n",
    "suppressPackageStartupMessages(library(tidyr))\n",
    "suppressPackageStartupMessages(library(tibble))\n",
    "suppressPackageStartupMessages(library(ggplot2))\n",
    "suppressPackageStartupMessages(library(pheatmap))\n",
    "suppressPackageStartupMessages(library(plyr))\n",
    "library(pheatmap)\n",
    "library(RColorBrewer)\n",
    "library(viridis)"
   ]
  },
  {
   "cell_type": "code",
   "execution_count": 5,
   "id": "96594578-5fe6-4b66-bff1-20ab03630e90",
   "metadata": {},
   "outputs": [],
   "source": [
    "Olink<-read.csv(\"Olink_SF4.csv\")"
   ]
  },
  {
   "cell_type": "code",
   "execution_count": null,
   "id": "adf85ce7-3287-4c46-a6b9-8b1617556f29",
   "metadata": {},
   "outputs": [],
   "source": []
  },
  {
   "cell_type": "code",
   "execution_count": 3,
   "id": "89ae37d4-2f96-403d-9eba-db18a6219c68",
   "metadata": {},
   "outputs": [],
   "source": [
    "meta_data=read.csv(\"/home/workspace/IHA_Figure_Revision//Dataset/SF4_meta_data-2024-05-05.csv\")\n",
    "meta_data$ageAtEnrollment[meta_data$ageAtEnrollment == '89+'] <- '90'\n",
    "meta_data$ageAtEnrollment<-as.numeric(meta_data$ageAtEnrollment)\n",
    "meta_data<-meta_data[!is.na(meta_data$ageAtEnrollment),]\n",
    "meta_data$Ages<-meta_data$ageAtEnrollment\n",
    "meta_data <- meta_data[!duplicated(meta_data$sample.sampleKitGuid, fromLast = TRUE), ]\n",
    "rownames(meta_data)<-meta_data$sample.sampleKitGuid"
   ]
  },
  {
   "cell_type": "code",
   "execution_count": 4,
   "id": "7c781d8e-49e9-48f6-a5f2-1bf668bd78b1",
   "metadata": {},
   "outputs": [],
   "source": []
  },
  {
   "cell_type": "code",
   "execution_count": 5,
   "id": "17d00059-39f9-4b69-9bd1-024ca91c7ca7",
   "metadata": {},
   "outputs": [],
   "source": [
    "Olink<-Olink %>% filter(SampleKitGuid %in% meta_data$sample.sampleKitGuid)"
   ]
  },
  {
   "cell_type": "code",
   "execution_count": 6,
   "id": "1676f797-a29d-4266-9995-60e42d9ea677",
   "metadata": {},
   "outputs": [],
   "source": [
    "Olink <- Olink %>%\n",
    "  distinct(Assay, SampleKitGuid, .keep_all = TRUE)"
   ]
  },
  {
   "cell_type": "code",
   "execution_count": 7,
   "id": "c6d4d911-c892-470e-97b4-666bd6fed653",
   "metadata": {},
   "outputs": [],
   "source": [
    "Olink_wide<-Olink[c(\"SampleKitGuid\",\"Assay\",\"NPX_bridged\")] %>%\n",
    "  pivot_wider(names_from = c(SampleKitGuid), values_from = NPX_bridged) %>% as.data.frame()"
   ]
  },
  {
   "cell_type": "code",
   "execution_count": 8,
   "id": "a951016c-db10-421a-9054-1e9d9f6f6e53",
   "metadata": {},
   "outputs": [],
   "source": [
    "rownames(Olink_wide)<-Olink_wide$Assay"
   ]
  },
  {
   "cell_type": "code",
   "execution_count": 9,
   "id": "3ff818bd-5063-486f-b564-ca681ad60500",
   "metadata": {},
   "outputs": [],
   "source": [
    "Olink_wide<-Olink_wide[-1]"
   ]
  },
  {
   "cell_type": "markdown",
   "id": "853edacc-6d1b-47bc-8a30-e73bf335c50e",
   "metadata": {},
   "source": [
    "# Read LM result Y1D0"
   ]
  },
  {
   "cell_type": "code",
   "execution_count": 11,
   "id": "268c3eab-09b4-4a66-b57c-d10691097f31",
   "metadata": {},
   "outputs": [],
   "source": [
    "lm_res_Y1D0<-read.csv(\"/home//jupyter/BRI_Figures_Final_V2/Figure2/01_Olink_Analysis/Olink_lm_Result.csv\")"
   ]
  },
  {
   "cell_type": "code",
   "execution_count": 12,
   "id": "a36ec593-0318-42bc-b5b5-577cede36ee8",
   "metadata": {},
   "outputs": [],
   "source": [
    "res_all_single_factor<-lm_res_Y1D0 %>% filter(factor=='Age')"
   ]
  },
  {
   "cell_type": "code",
   "execution_count": 15,
   "id": "fc73e080-3382-422b-96dd-f138e5cae314",
   "metadata": {},
   "outputs": [],
   "source": [
    "res_all_single_factor <- res_all_single_factor%>% mutate(Expression = case_when(delta_changes_Age >=0.1 & padj <= 0.05 ~ \"Up-Older\",\n",
    "                                                     delta_changes_Age <= -0.1 & padj <= 0.05 ~ \"Up-Young\",\n",
    "                                                     TRUE ~ \"Unchanged\"))\n"
   ]
  },
  {
   "cell_type": "code",
   "execution_count": 56,
   "id": "ae53f1e0-fc62-4bb4-90a3-34642f69fe7a",
   "metadata": {},
   "outputs": [],
   "source": [
    "ADDITIONAL<-c('TNF','IL6','IL1B','IL11')"
   ]
  },
  {
   "cell_type": "markdown",
   "id": "5855a5d5-419a-4b6d-9010-f002aaf0b5ea",
   "metadata": {},
   "source": [
    "# Plotting"
   ]
  },
  {
   "cell_type": "code",
   "execution_count": 57,
   "id": "d735687e-ffc7-456d-966a-bcf823dbf8d6",
   "metadata": {},
   "outputs": [],
   "source": [
    "Older_topn_protein<-res_all_single_factor %>% \n",
    "filter(padj<0.05,delta_changes_Age>0) %>% \n",
    "arrange(padj,delta_changes_Age) %>% head(11) %>% select(Assay) %>% pull()\n",
    "Young_topn_protein<-res_all_single_factor %>% \n",
    "filter(padj<0.05,delta_changes_Age<0) %>% \n",
    "arrange(padj,delta_changes_Age) %>% head(10) %>% select(Assay) %>% pull()"
   ]
  },
  {
   "cell_type": "code",
   "execution_count": 58,
   "id": "adb4d275-c5a4-41ad-9a06-3d9a06be326c",
   "metadata": {},
   "outputs": [],
   "source": [
    "selected_protein<-c(Older_topn_protein,Young_topn_protein,ADDITIONAL)"
   ]
  },
  {
   "cell_type": "code",
   "execution_count": 59,
   "id": "435d209a-f0ad-45b1-9b53-bc66dd240977",
   "metadata": {},
   "outputs": [],
   "source": [
    "df_input<-Olink_wide[selected_protein,]"
   ]
  },
  {
   "cell_type": "code",
   "execution_count": 60,
   "id": "917e68e6-ec2a-4db9-96f0-a5dd76726248",
   "metadata": {},
   "outputs": [],
   "source": [
    "column_order<-meta_data %>% filter(lab.sampleKitGuid %in% colnames(df_input)) %>% arrange(Ages)"
   ]
  },
  {
   "cell_type": "code",
   "execution_count": 61,
   "id": "49370cbb-1f16-4968-9725-785b8ef6dfc2",
   "metadata": {},
   "outputs": [],
   "source": [
    "df_input<-df_input[,column_order$sample.sampleKitGuid]"
   ]
  },
  {
   "cell_type": "code",
   "execution_count": 62,
   "id": "e702a888-d459-4ae7-ab0c-1f2088be7c95",
   "metadata": {},
   "outputs": [],
   "source": [
    "df_input<-df_input %>% drop_na()"
   ]
  },
  {
   "cell_type": "code",
   "execution_count": 63,
   "id": "768fccc3-362d-4846-ab69-cdb73d4d6b4d",
   "metadata": {},
   "outputs": [],
   "source": [
    "annotation<-column_order %>% select(Ages)\n",
    "rownames(annotation)<-column_order$sample.sampleKitGuid"
   ]
  },
  {
   "cell_type": "code",
   "execution_count": 69,
   "id": "86044ed7-cb73-48d7-94c0-454bab64900c",
   "metadata": {},
   "outputs": [],
   "source": [
    "write.csv(df_input,\"SF_Selected_Olink.csv\")"
   ]
  }
 ],
 "metadata": {
  "kernelspec": {
   "display_name": "R (minimal)",
   "language": "R",
   "name": "r-minimal"
  },
  "language_info": {
   "codemirror_mode": "r",
   "file_extension": ".r",
   "mimetype": "text/x-r-source",
   "name": "R",
   "pygments_lexer": "r",
   "version": "4.4.1"
  }
 },
 "nbformat": 4,
 "nbformat_minor": 5
}
