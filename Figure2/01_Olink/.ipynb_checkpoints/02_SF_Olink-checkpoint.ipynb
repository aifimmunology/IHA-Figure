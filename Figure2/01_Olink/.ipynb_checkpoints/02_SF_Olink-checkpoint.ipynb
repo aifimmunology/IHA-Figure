{
 "cells": [
  {
   "cell_type": "code",
   "execution_count": 5,
   "id": "d24de5d0-8b8a-4649-935d-370e27a28801",
   "metadata": {},
   "outputs": [
    {
     "name": "stderr",
     "output_type": "stream",
     "text": [
      "Loading required package: viridisLite\n",
      "\n"
     ]
    }
   ],
   "source": [
    "\n",
    "suppressPackageStartupMessages(library(dplyr))\n",
    "suppressPackageStartupMessages(library(tidyr))\n",
    "suppressPackageStartupMessages(library(tibble))\n",
    "suppressPackageStartupMessages(library(ggplot2))\n",
    "suppressPackageStartupMessages(library(pheatmap))\n",
    "suppressPackageStartupMessages(library(plyr))\n",
    "library(pheatmap)\n",
    "library(RColorBrewer)\n",
    "library(viridis)"
   ]
  },
  {
   "cell_type": "code",
   "execution_count": 6,
   "id": "96594578-5fe6-4b66-bff1-20ab03630e90",
   "metadata": {},
   "outputs": [],
   "source": [
    "Olink<-read.csv(\"/home//jupyter/BRI_Figures_Final_V1/Figure4/05_Olink/Olink_SF4.csv\")"
   ]
  },
  {
   "cell_type": "code",
   "execution_count": null,
   "id": "adf85ce7-3287-4c46-a6b9-8b1617556f29",
   "metadata": {},
   "outputs": [],
   "source": []
  },
  {
   "cell_type": "code",
   "execution_count": 7,
   "id": "89ae37d4-2f96-403d-9eba-db18a6219c68",
   "metadata": {},
   "outputs": [],
   "source": [
    "meta_data=read.csv(\"/home/jupyter/BRI_Figures_Final_V2/Dataset/SF4_meta_data-2024-05-05.csv\")\n",
    "meta_data$ageAtEnrollment[meta_data$ageAtEnrollment == '89+'] <- '90'\n",
    "meta_data$ageAtEnrollment<-as.numeric(meta_data$ageAtEnrollment)\n",
    "meta_data<-meta_data[!is.na(meta_data$ageAtEnrollment),]\n",
    "meta_data$Ages<-meta_data$ageAtEnrollment\n",
    "meta_data <- meta_data[!duplicated(meta_data$sample.sampleKitGuid, fromLast = TRUE), ]"
   ]
  },
  {
   "cell_type": "code",
   "execution_count": 8,
   "id": "7c781d8e-49e9-48f6-a5f2-1bf668bd78b1",
   "metadata": {},
   "outputs": [],
   "source": [
    "rownames(meta_data)<-meta_data$sample.sampleKitGuid"
   ]
  },
  {
   "cell_type": "code",
   "execution_count": 9,
   "id": "17d00059-39f9-4b69-9bd1-024ca91c7ca7",
   "metadata": {},
   "outputs": [],
   "source": [
    "Olink<-Olink %>% filter(SampleKitGuid %in% meta_data$sample.sampleKitGuid)"
   ]
  },
  {
   "cell_type": "code",
   "execution_count": 10,
   "id": "1676f797-a29d-4266-9995-60e42d9ea677",
   "metadata": {},
   "outputs": [],
   "source": [
    "Olink <- Olink %>%\n",
    "  distinct(Assay, SampleKitGuid, .keep_all = TRUE)"
   ]
  },
  {
   "cell_type": "code",
   "execution_count": 11,
   "id": "c6d4d911-c892-470e-97b4-666bd6fed653",
   "metadata": {},
   "outputs": [],
   "source": [
    "Olink_wide<-Olink[c(\"SampleKitGuid\",\"Assay\",\"NPX_bridged\")] %>%\n",
    "  pivot_wider(names_from = c(SampleKitGuid), values_from = NPX_bridged) %>% as.data.frame()"
   ]
  },
  {
   "cell_type": "code",
   "execution_count": 12,
   "id": "a951016c-db10-421a-9054-1e9d9f6f6e53",
   "metadata": {},
   "outputs": [],
   "source": [
    "rownames(Olink_wide)<-Olink_wide$Assay"
   ]
  },
  {
   "cell_type": "code",
   "execution_count": 13,
   "id": "3ff818bd-5063-486f-b564-ca681ad60500",
   "metadata": {},
   "outputs": [],
   "source": [
    "Olink_wide<-Olink_wide[-1]"
   ]
  },
  {
   "cell_type": "markdown",
   "id": "853edacc-6d1b-47bc-8a30-e73bf335c50e",
   "metadata": {},
   "source": [
    "# Read LM result Y1D0"
   ]
  },
  {
   "cell_type": "code",
   "execution_count": 1,
   "id": "268c3eab-09b4-4a66-b57c-d10691097f31",
   "metadata": {},
   "outputs": [],
   "source": [
    "lm_res_Y1D0<-read.csv(\"Olink_lm_Result.csv\")"
   ]
  },
  {
   "cell_type": "code",
   "execution_count": 15,
   "id": "a36ec593-0318-42bc-b5b5-577cede36ee8",
   "metadata": {},
   "outputs": [],
   "source": [
    "res_all_single_factor<-lm_res_Y1D0 %>% filter(factor=='Age')"
   ]
  },
  {
   "cell_type": "code",
   "execution_count": 16,
   "id": "fc73e080-3382-422b-96dd-f138e5cae314",
   "metadata": {},
   "outputs": [],
   "source": [
    "res_all_single_factor <- res_all_single_factor%>% mutate(Expression = case_when(delta_changes_Ages >=0.1 & padj <= 0.05 ~ \"Up-Older\",\n",
    "                                                     delta_changes_Ages <= -0.1 & padj <= 0.05 ~ \"Up-Young\",\n",
    "                                                     TRUE ~ \"Unchanged\"))\n"
   ]
  },
  {
   "cell_type": "code",
   "execution_count": 17,
   "id": "cadede2d-0ea3-422f-9307-e7d11f0a80d0",
   "metadata": {},
   "outputs": [
    {
     "data": {
      "text/html": [
       "<style>\n",
       ".list-inline {list-style: none; margin:0; padding: 0}\n",
       ".list-inline>li {display: inline-block}\n",
       ".list-inline>li:not(:last-child)::after {content: \"\\00b7\"; padding: 0 .5ex}\n",
       "</style>\n",
       "<ol class=list-inline><li>'TNFSF8'</li><li>'TNFSF9'</li><li>'TNFRSF17'</li><li>'C1QTNF5'</li><li>'C1QTNF9'</li><li>'TNFAIP8L2'</li><li>'C1QTNF6'</li><li>'TNFAIP2'</li><li>'TNF'</li><li>'TNFSF14'</li><li>'TNFRSF6B'</li><li>'TNFRSF10A'</li><li>'TNFRSF10B'</li><li>'TNFRSF9'</li><li>'TNFRSF8'</li><li>'TNFRSF21'</li><li>'TNFRSF1B'</li><li>'TNFRSF1A'</li><li>'TNFRSF10C'</li><li>'TNFSF13B'</li><li>'C1QTNF1'</li><li>'TNFRSF19'</li><li>'TNFRSF12A'</li><li>'TNFAIP8'</li><li>'TNFRSF13C'</li><li>'TNFSF11'</li><li>'TNFSF10'</li><li>'TNFSF12'</li><li>'TNFRSF11A'</li><li>'TNFRSF4'</li><li>'TNFRSF13B'</li><li>'TNFSF13'</li><li>'TNFRSF11B'</li><li>'TNFRSF14'</li></ol>\n"
      ],
      "text/latex": [
       "\\begin{enumerate*}\n",
       "\\item 'TNFSF8'\n",
       "\\item 'TNFSF9'\n",
       "\\item 'TNFRSF17'\n",
       "\\item 'C1QTNF5'\n",
       "\\item 'C1QTNF9'\n",
       "\\item 'TNFAIP8L2'\n",
       "\\item 'C1QTNF6'\n",
       "\\item 'TNFAIP2'\n",
       "\\item 'TNF'\n",
       "\\item 'TNFSF14'\n",
       "\\item 'TNFRSF6B'\n",
       "\\item 'TNFRSF10A'\n",
       "\\item 'TNFRSF10B'\n",
       "\\item 'TNFRSF9'\n",
       "\\item 'TNFRSF8'\n",
       "\\item 'TNFRSF21'\n",
       "\\item 'TNFRSF1B'\n",
       "\\item 'TNFRSF1A'\n",
       "\\item 'TNFRSF10C'\n",
       "\\item 'TNFSF13B'\n",
       "\\item 'C1QTNF1'\n",
       "\\item 'TNFRSF19'\n",
       "\\item 'TNFRSF12A'\n",
       "\\item 'TNFAIP8'\n",
       "\\item 'TNFRSF13C'\n",
       "\\item 'TNFSF11'\n",
       "\\item 'TNFSF10'\n",
       "\\item 'TNFSF12'\n",
       "\\item 'TNFRSF11A'\n",
       "\\item 'TNFRSF4'\n",
       "\\item 'TNFRSF13B'\n",
       "\\item 'TNFSF13'\n",
       "\\item 'TNFRSF11B'\n",
       "\\item 'TNFRSF14'\n",
       "\\end{enumerate*}\n"
      ],
      "text/markdown": [
       "1. 'TNFSF8'\n",
       "2. 'TNFSF9'\n",
       "3. 'TNFRSF17'\n",
       "4. 'C1QTNF5'\n",
       "5. 'C1QTNF9'\n",
       "6. 'TNFAIP8L2'\n",
       "7. 'C1QTNF6'\n",
       "8. 'TNFAIP2'\n",
       "9. 'TNF'\n",
       "10. 'TNFSF14'\n",
       "11. 'TNFRSF6B'\n",
       "12. 'TNFRSF10A'\n",
       "13. 'TNFRSF10B'\n",
       "14. 'TNFRSF9'\n",
       "15. 'TNFRSF8'\n",
       "16. 'TNFRSF21'\n",
       "17. 'TNFRSF1B'\n",
       "18. 'TNFRSF1A'\n",
       "19. 'TNFRSF10C'\n",
       "20. 'TNFSF13B'\n",
       "21. 'C1QTNF1'\n",
       "22. 'TNFRSF19'\n",
       "23. 'TNFRSF12A'\n",
       "24. 'TNFAIP8'\n",
       "25. 'TNFRSF13C'\n",
       "26. 'TNFSF11'\n",
       "27. 'TNFSF10'\n",
       "28. 'TNFSF12'\n",
       "29. 'TNFRSF11A'\n",
       "30. 'TNFRSF4'\n",
       "31. 'TNFRSF13B'\n",
       "32. 'TNFSF13'\n",
       "33. 'TNFRSF11B'\n",
       "34. 'TNFRSF14'\n",
       "\n",
       "\n"
      ],
      "text/plain": [
       " [1] \"TNFSF8\"    \"TNFSF9\"    \"TNFRSF17\"  \"C1QTNF5\"   \"C1QTNF9\"   \"TNFAIP8L2\"\n",
       " [7] \"C1QTNF6\"   \"TNFAIP2\"   \"TNF\"       \"TNFSF14\"   \"TNFRSF6B\"  \"TNFRSF10A\"\n",
       "[13] \"TNFRSF10B\" \"TNFRSF9\"   \"TNFRSF8\"   \"TNFRSF21\"  \"TNFRSF1B\"  \"TNFRSF1A\" \n",
       "[19] \"TNFRSF10C\" \"TNFSF13B\"  \"C1QTNF1\"   \"TNFRSF19\"  \"TNFRSF12A\" \"TNFAIP8\"  \n",
       "[25] \"TNFRSF13C\" \"TNFSF11\"   \"TNFSF10\"   \"TNFSF12\"   \"TNFRSF11A\" \"TNFRSF4\"  \n",
       "[31] \"TNFRSF13B\" \"TNFSF13\"   \"TNFRSF11B\" \"TNFRSF14\" "
      ]
     },
     "metadata": {},
     "output_type": "display_data"
    }
   ],
   "source": [
    "rownames(Olink_wide)[grepl(\"TNF\",rownames(Olink_wide))]"
   ]
  },
  {
   "cell_type": "code",
   "execution_count": 18,
   "id": "ae53f1e0-fc62-4bb4-90a3-34642f69fe7a",
   "metadata": {},
   "outputs": [],
   "source": [
    "ADDITIONAL<-c(\n",
    "              'TNF','IL6','IL1B','IFNG',#break\n",
    "              'CXCL9','CXCL10','IL11','TGFB1')"
   ]
  },
  {
   "cell_type": "code",
   "execution_count": null,
   "id": "8c7b5f71-89d3-415e-8e6d-e52d69dc921c",
   "metadata": {},
   "outputs": [],
   "source": []
  },
  {
   "cell_type": "markdown",
   "id": "5855a5d5-419a-4b6d-9010-f002aaf0b5ea",
   "metadata": {},
   "source": [
    "# Plotting"
   ]
  },
  {
   "cell_type": "code",
   "execution_count": 19,
   "id": "d735687e-ffc7-456d-966a-bcf823dbf8d6",
   "metadata": {},
   "outputs": [],
   "source": [
    "Older_topn_protein<-res_all_single_factor %>% \n",
    "filter(padj<0.05,delta_changes_Ages>0) %>% \n",
    "arrange(padj,delta_changes_Ages) %>% head(11) %>% select(Assay) %>% pull()\n",
    "Young_topn_protein<-res_all_single_factor %>% \n",
    "filter(padj<0.05,delta_changes_Ages<0) %>% \n",
    "arrange(padj,delta_changes_Ages) %>% head(10) %>% select(Assay) %>% pull()"
   ]
  },
  {
   "cell_type": "code",
   "execution_count": 20,
   "id": "adb4d275-c5a4-41ad-9a06-3d9a06be326c",
   "metadata": {},
   "outputs": [],
   "source": [
    "selected_protein<-c(Older_topn_protein,Young_topn_protein,ADDITIONAL)"
   ]
  },
  {
   "cell_type": "code",
   "execution_count": 41,
   "id": "d8b469d1-9326-4d60-a0dd-1b5056d10f80",
   "metadata": {},
   "outputs": [],
   "source": [
    "selected_protein<-c('CXCL17',\"IL4\", \"IL5\", \"IL13\", \"IFNG\", \"TNF\", \n",
    "                    \"IL2\", \"IL17A\", \"IL17F\", \"IL10\", \"TGFB1\", \n",
    "                    \"IL35\")"
   ]
  },
  {
   "cell_type": "code",
   "execution_count": 42,
   "id": "435d209a-f0ad-45b1-9b53-bc66dd240977",
   "metadata": {},
   "outputs": [],
   "source": [
    "df_input<-Olink_wide[selected_protein,]"
   ]
  },
  {
   "cell_type": "code",
   "execution_count": 43,
   "id": "917e68e6-ec2a-4db9-96f0-a5dd76726248",
   "metadata": {},
   "outputs": [],
   "source": [
    "column_order<-meta_data %>% filter(lab.sampleKitGuid %in% colnames(df_input)) %>% arrange(Ages)"
   ]
  },
  {
   "cell_type": "code",
   "execution_count": 44,
   "id": "49370cbb-1f16-4968-9725-785b8ef6dfc2",
   "metadata": {},
   "outputs": [],
   "source": [
    "df_input<-df_input[,column_order$sample.sampleKitGuid]"
   ]
  },
  {
   "cell_type": "code",
   "execution_count": 45,
   "id": "e702a888-d459-4ae7-ab0c-1f2088be7c95",
   "metadata": {},
   "outputs": [],
   "source": [
    "df_input<-df_input %>% drop_na()"
   ]
  },
  {
   "cell_type": "code",
   "execution_count": 46,
   "id": "768fccc3-362d-4846-ab69-cdb73d4d6b4d",
   "metadata": {},
   "outputs": [],
   "source": [
    "annotation<-column_order %>% select(Ages)\n",
    "rownames(annotation)<-column_order$sample.sampleKitGuid"
   ]
  },
  {
   "cell_type": "code",
   "execution_count": 47,
   "id": "d0d5c44c-9a76-4935-a915-07a2131d3a1e",
   "metadata": {},
   "outputs": [],
   "source": [
    "breaks_sequence <- seq(-1, 1, length.out = 100)"
   ]
  },
  {
   "cell_type": "code",
   "execution_count": 49,
   "id": "a3f94413-0466-439f-b689-b4837f4459f2",
   "metadata": {},
   "outputs": [
    {
     "data": {
      "image/png": "[encoded data removed]",
      "text/plain": [
       "plot without title"
      ]
     },
     "metadata": {
      "image/png": {
       "height": 118.1102,
       "width": 283.4646
      }
     },
     "output_type": "display_data"
    }
   ],
   "source": [
    "options(repr.plot.width = 120/25.4, repr.plot.height =  50/25.4)\n",
    "\n",
    "p<-pheatmap(df_input, \n",
    "         breaks=breaks_sequence,\n",
    "         cluster_rows=TRUE, \n",
    "         annotation=annotation,         \n",
    "        fontsize = 6,\n",
    "         cluster_cols=TRUE,\n",
    "         gaps_row = c(1),\n",
    "         show_colnames=FALSE,color= cividis(100),\n",
    "         border_color=NA,\n",
    "         scale='row')\n",
    "p\n",
    "#save_pheatmap(p,'FigureG.pdf', width=200/25.4, height=80/25.4)"
   ]
  },
  {
   "cell_type": "code",
   "execution_count": null,
   "id": "f00f562a-25da-4a3d-88ec-730bbaf26541",
   "metadata": {},
   "outputs": [],
   "source": []
  },
  {
   "cell_type": "code",
   "execution_count": null,
   "id": "f880b9e9-fb27-463b-9c6e-180b6307879c",
   "metadata": {},
   "outputs": [],
   "source": []
  }
 ],
 "metadata": {
  "kernelspec": {
   "display_name": "R 4",
   "language": "R",
   "name": "ir4"
  },
  "language_info": {
   "codemirror_mode": "r",
   "file_extension": ".r",
   "mimetype": "text/x-r-source",
   "name": "R",
   "pygments_lexer": "r",
   "version": "4.3.2"
  }
 },
 "nbformat": 4,
 "nbformat_minor": 5
}
