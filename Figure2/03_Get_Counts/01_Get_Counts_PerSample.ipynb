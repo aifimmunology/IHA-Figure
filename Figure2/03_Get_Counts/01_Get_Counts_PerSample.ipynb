{
 "cells": [
  {
   "cell_type": "code",
   "execution_count": 1,
   "id": "9090306d-b4b3-4190-8ea7-f99aacee3445",
   "metadata": {},
   "outputs": [
    {
     "name": "stderr",
     "output_type": "stream",
     "text": [
      "/opt/conda/lib/python3.10/site-packages/scanpy/_utils/__init__.py:20: UserWarning: A NumPy version >=1.23.5 and <2.3.0 is required for this version of SciPy (detected version 1.22.4)\n",
      "  from scipy import sparse\n"
     ]
    },
    {
     "name": "stdout",
     "output_type": "stream",
     "text": [
      "Current working directory: /home/jupyter/BRI_Figures_Final_V2/Figure3/03_Get_Counts\n"
     ]
    }
   ],
   "source": [
    "import pandas as pd \n",
    "import numpy as np \n",
    "import scanpy as sc\n",
    "import matplotlib.pyplot as plt\n",
    "import concurrent.futures\n",
    "import pickle\n",
    "import warnings\n",
    "from datetime import date\n",
    "import hisepy\n",
    "import os\n",
    "import shutil\n",
    "from concurrent.futures import ThreadPoolExecutor, as_completed,ProcessPoolExecutor\n",
    "from tqdm import tqdm\n",
    "import anndata\n",
    "import gc\n",
    "warnings.filterwarnings(\"ignore\")\n",
    "sc.settings.n_jobs = 60\n",
    "print(\"Current working directory:\", os.getcwd())"
   ]
  },
  {
   "cell_type": "code",
   "execution_count": null,
   "id": "7965c8df-4a5a-4601-a671-56818ab82784",
   "metadata": {},
   "outputs": [],
   "source": []
  },
  {
   "cell_type": "code",
   "execution_count": 3,
   "id": "8c0da251-2b59-4eb0-841d-857931d59bfd",
   "metadata": {},
   "outputs": [],
   "source": [
    "meta_data_SF4 = pd.read_csv(\"/home/jupyter/BRI_Figures_Final_V2/Dataset/SF4_meta_data-2024-05-05.csv\")"
   ]
  },
  {
   "cell_type": "markdown",
   "id": "cbece63f-a7b0-4132-8415-4a6d85714f45",
   "metadata": {},
   "source": [
    "# Read MetaData"
   ]
  },
  {
   "cell_type": "code",
   "execution_count": 4,
   "id": "33fe3d0b-6a79-47da-a841-c0b7599130b1",
   "metadata": {},
   "outputs": [],
   "source": [
    "meta_data_SF4 = pd.read_csv(\"/home/jupyter/BRI_Figures_Final_V2/Dataset/SF4_meta_data-2024-05-05.csv\")\n",
    "meta_data_SF4['ageAtEnrollment'] = meta_data_SF4['ageAtEnrollment'].replace('89+', '90')\n",
    "meta_data_SF4['ageAtEnrollment'] = pd.to_numeric(meta_data_SF4['ageAtEnrollment'], errors='coerce')\n",
    "meta_data_SF4 = meta_data_SF4.dropna(subset=['ageAtEnrollment'])\n",
    "meta_data_SF4['Ages'] = meta_data_SF4['ageAtEnrollment']\n",
    "meta_data_SF4 = meta_data_SF4.drop_duplicates(subset='sample.sampleKitGuid', keep='last')"
   ]
  },
  {
   "cell_type": "code",
   "execution_count": 5,
   "id": "bf60f628-02e5-4a05-b0b2-7f0111cf6ee9",
   "metadata": {},
   "outputs": [],
   "source": [
    "file_names= ['/home/jupyter/BRI_Figures_Final_V2/Dataset/scRNA/SF4/h5ad/'+x+\".h5ad\" for x in meta_data_SF4['pbmc_sample_id'].tolist()]"
   ]
  },
  {
   "cell_type": "code",
   "execution_count": 6,
   "id": "6c55d70f-5040-4b4c-bebc-f1ac9286a9b9",
   "metadata": {},
   "outputs": [],
   "source": [
    "def get_counts(sample_id):\n",
    "    adata = sc.read_h5ad('/home/jupyter/BRI_Figures_Final_V1/Dataset/scRNA/SF4/h5ad/'+sample_id+\".h5ad\", backed='r')\n",
    "    counts_df = pd.DataFrame(adata.obs[\"celltypist_l3\"].value_counts()).reset_index()\n",
    "    counts_df['pbmc_sample_id'] = sample_id\n",
    "    return counts_df"
   ]
  },
  {
   "cell_type": "code",
   "execution_count": 7,
   "id": "d7a160a5-5edd-4715-9871-52c9c552cfde",
   "metadata": {},
   "outputs": [
    {
     "name": "stderr",
     "output_type": "stream",
     "text": [
      "100% 233/233 [00:07<00:00, 29.28it/s]\n"
     ]
    }
   ],
   "source": [
    "with concurrent.futures.ProcessPoolExecutor(max_workers=60) as executor:\n",
    "    results = list(tqdm(executor.map(get_counts, meta_data_SF4['pbmc_sample_id']), total=len(meta_data_SF4['pbmc_sample_id'])))"
   ]
  },
  {
   "cell_type": "code",
   "execution_count": 8,
   "id": "540ae6d1-48af-4782-84ed-0981809d78c0",
   "metadata": {},
   "outputs": [],
   "source": [
    "final_df = pd.concat(results, ignore_index=True)\n",
    "final_df.to_csv(\"SF4_AIFI_L3_Counts.csv\")"
   ]
  },
  {
   "cell_type": "code",
   "execution_count": null,
   "id": "23b3f0a8-d537-4c8d-9a47-c9d5f3f3c5b1",
   "metadata": {},
   "outputs": [],
   "source": []
  }
 ],
 "metadata": {
  "kernelspec": {
   "display_name": "Python [conda env:root] *",
   "language": "python",
   "name": "conda-root-py"
  },
  "language_info": {
   "codemirror_mode": {
    "name": "ipython",
    "version": 3
   },
   "file_extension": ".py",
   "mimetype": "text/x-python",
   "name": "python",
   "nbconvert_exporter": "python",
   "pygments_lexer": "ipython3",
   "version": "3.10.13"
  }
 },
 "nbformat": 4,
 "nbformat_minor": 5
}
