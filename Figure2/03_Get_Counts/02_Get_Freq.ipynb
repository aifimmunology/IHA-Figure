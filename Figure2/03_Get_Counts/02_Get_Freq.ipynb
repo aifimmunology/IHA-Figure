{
 "cells": [
  {
   "cell_type": "code",
   "execution_count": 35,
   "id": "95089496-9534-4f82-88b3-d4409b420692",
   "metadata": {},
   "outputs": [],
   "source": [
    "suppressPackageStartupMessages(library(dplyr))\n",
    "suppressPackageStartupMessages(library(tidyr))\n",
    "suppressPackageStartupMessages(library(tibble))\n",
    "suppressPackageStartupMessages(library(stringr))\n",
    "source('../../helper_function/helper_function_IHA.r')"
   ]
  },
  {
   "cell_type": "code",
   "execution_count": null,
   "id": "ca863b2c-05c1-41d3-92fe-5dde05009250",
   "metadata": {},
   "outputs": [],
   "source": []
  },
  {
   "cell_type": "code",
   "execution_count": 36,
   "id": "7ca927f9-875e-4d86-8015-7252919cc168",
   "metadata": {},
   "outputs": [],
   "source": [
    "meta_data=read.csv(\"../../Dataset/SF4_meta_data-2024-05-05.csv\")\n",
    "meta_data$ageAtEnrollment[meta_data$ageAtEnrollment == '89+'] <- '90'\n",
    "meta_data$ageAtEnrollment<-as.numeric(meta_data$ageAtEnrollment)\n",
    "meta_data<-meta_data[!is.na(meta_data$ageAtEnrollment),]\n",
    "meta_data$Ages<-meta_data$ageAtEnrollment\n",
    "meta_data <- meta_data[!duplicated(meta_data$sample.sampleKitGuid, fromLast = TRUE), ]\n",
    "meta_data$CMV<-meta_data$lab.revisionHistory.dataHistory.CMV.Ab.Screen.Result..CMVRES..newValue"
   ]
  },
  {
   "cell_type": "code",
   "execution_count": 37,
   "id": "5f2e547e-998b-4c95-99c8-418b3f69095c",
   "metadata": {},
   "outputs": [],
   "source": [
    "df<-read.csv(\"SF4_AIFI_L3_Counts.csv\")"
   ]
  },
  {
   "cell_type": "code",
   "execution_count": 38,
   "id": "950a95c6-15b6-4111-8010-dece98e97901",
   "metadata": {},
   "outputs": [],
   "source": [
    "df<-left_join(df,meta_data,by=c('pbmc_sample_id'))"
   ]
  },
  {
   "cell_type": "code",
   "execution_count": 39,
   "id": "f736ab78-d3ac-41d3-aa7c-ef65239b8fb1",
   "metadata": {},
   "outputs": [
    {
     "data": {
      "text/html": [
       "<table class=\"dataframe\">\n",
       "<caption>A data.frame: 6 × 48</caption>\n",
       "<thead>\n",
       "\t<tr><th></th><th scope=col>X.x</th><th scope=col>celltypist_l3</th><th scope=col>count</th><th scope=col>pbmc_sample_id</th><th scope=col>X.y</th><th scope=col>lastUpdated</th><th scope=col>labLastModified</th><th scope=col>sample.id</th><th scope=col>sample.bridgingControl</th><th scope=col>sample.sampleKitGuid</th><th scope=col>⋯</th><th scope=col>lab.revisionHistory.dataHistory.CMV.Ab.Screen.Result..CMVRES..oldValue</th><th scope=col>lab.revisionHistory.dataHistory.CMV.Ab.Screen.Result..CMVRES..newValue</th><th scope=col>lab.revisionHistory.dataHistory.Volume.oldValue</th><th scope=col>lab.revisionHistory.dataHistory.Volume.newValue</th><th scope=col>lab.revisionNumber</th><th scope=col>ageAtEnrollment</th><th scope=col>Ages</th><th scope=col>CMV</th><th scope=col>percentage</th><th scope=col>percentage_clr</th></tr>\n",
       "\t<tr><th></th><th scope=col>&lt;int&gt;</th><th scope=col>&lt;chr&gt;</th><th scope=col>&lt;int&gt;</th><th scope=col>&lt;chr&gt;</th><th scope=col>&lt;int&gt;</th><th scope=col>&lt;chr&gt;</th><th scope=col>&lt;chr&gt;</th><th scope=col>&lt;chr&gt;</th><th scope=col>&lt;chr&gt;</th><th scope=col>&lt;chr&gt;</th><th scope=col>⋯</th><th scope=col>&lt;lgl&gt;</th><th scope=col>&lt;chr&gt;</th><th scope=col>&lt;lgl&gt;</th><th scope=col>&lt;int&gt;</th><th scope=col>&lt;int&gt;</th><th scope=col>&lt;dbl&gt;</th><th scope=col>&lt;dbl&gt;</th><th scope=col>&lt;chr&gt;</th><th scope=col>&lt;dbl&gt;</th><th scope=col>&lt;dbl&gt;</th></tr>\n",
       "</thead>\n",
       "<tbody>\n",
       "\t<tr><th scope=row>1</th><td>0</td><td>GZMK- CD56dim NK cell    </td><td>2696</td><td>PB03173-001</td><td>1</td><td>2024-05-06T16:36:37.463Z</td><td>2024-04-23T22:43:49.381Z</td><td>a35aeceb-822f-4cfd-a925-3d271ef56392</td><td>false</td><td>KT03173</td><td>⋯</td><td>NA</td><td>Negative</td><td>NA</td><td>200</td><td>1</td><td>52</td><td>52</td><td>Negative</td><td>11.288837</td><td>3.787325</td></tr>\n",
       "\t<tr><th scope=row>2</th><td>1</td><td>Core naive B cell        </td><td>2351</td><td>PB03173-001</td><td>1</td><td>2024-05-06T16:36:37.463Z</td><td>2024-04-23T22:43:49.381Z</td><td>a35aeceb-822f-4cfd-a925-3d271ef56392</td><td>false</td><td>KT03173</td><td>⋯</td><td>NA</td><td>Negative</td><td>NA</td><td>200</td><td>1</td><td>52</td><td>52</td><td>Negative</td><td> 9.844234</td><td>3.650396</td></tr>\n",
       "\t<tr><th scope=row>3</th><td>2</td><td>CM CD4 T cell            </td><td>2341</td><td>PB03173-001</td><td>1</td><td>2024-05-06T16:36:37.463Z</td><td>2024-04-23T22:43:49.381Z</td><td>a35aeceb-822f-4cfd-a925-3d271ef56392</td><td>false</td><td>KT03173</td><td>⋯</td><td>NA</td><td>Negative</td><td>NA</td><td>200</td><td>1</td><td>52</td><td>52</td><td>Negative</td><td> 9.802362</td><td>3.646134</td></tr>\n",
       "\t<tr><th scope=row>4</th><td>3</td><td>GZMB- CD27+ EM CD4 T cell</td><td>2202</td><td>PB03173-001</td><td>1</td><td>2024-05-06T16:36:37.463Z</td><td>2024-04-23T22:43:49.381Z</td><td>a35aeceb-822f-4cfd-a925-3d271ef56392</td><td>false</td><td>KT03173</td><td>⋯</td><td>NA</td><td>Negative</td><td>NA</td><td>200</td><td>1</td><td>52</td><td>52</td><td>Negative</td><td> 9.220333</td><td>3.584922</td></tr>\n",
       "\t<tr><th scope=row>5</th><td>4</td><td>GZMB- CD27- EM CD4 T cell</td><td>2030</td><td>PB03173-001</td><td>1</td><td>2024-05-06T16:36:37.463Z</td><td>2024-04-23T22:43:49.381Z</td><td>a35aeceb-822f-4cfd-a925-3d271ef56392</td><td>false</td><td>KT03173</td><td>⋯</td><td>NA</td><td>Negative</td><td>NA</td><td>200</td><td>1</td><td>52</td><td>52</td><td>Negative</td><td> 8.500126</td><td>3.503591</td></tr>\n",
       "\t<tr><th scope=row>6</th><td>5</td><td>GZMK+ Vd2 gdT            </td><td>1401</td><td>PB03173-001</td><td>1</td><td>2024-05-06T16:36:37.463Z</td><td>2024-04-23T22:43:49.381Z</td><td>a35aeceb-822f-4cfd-a925-3d271ef56392</td><td>false</td><td>KT03173</td><td>⋯</td><td>NA</td><td>Negative</td><td>NA</td><td>200</td><td>1</td><td>52</td><td>52</td><td>Negative</td><td> 5.866343</td><td>3.132742</td></tr>\n",
       "</tbody>\n",
       "</table>\n"
      ],
      "text/latex": [
       "A data.frame: 6 × 48\n",
       "\\begin{tabular}{r|lllllllllllllllllllll}\n",
       "  & X.x & celltypist\\_l3 & count & pbmc\\_sample\\_id & X.y & lastUpdated & labLastModified & sample.id & sample.bridgingControl & sample.sampleKitGuid & ⋯ & lab.revisionHistory.dataHistory.CMV.Ab.Screen.Result..CMVRES..oldValue & lab.revisionHistory.dataHistory.CMV.Ab.Screen.Result..CMVRES..newValue & lab.revisionHistory.dataHistory.Volume.oldValue & lab.revisionHistory.dataHistory.Volume.newValue & lab.revisionNumber & ageAtEnrollment & Ages & CMV & percentage & percentage\\_clr\\\\\n",
       "  & <int> & <chr> & <int> & <chr> & <int> & <chr> & <chr> & <chr> & <chr> & <chr> & ⋯ & <lgl> & <chr> & <lgl> & <int> & <int> & <dbl> & <dbl> & <chr> & <dbl> & <dbl>\\\\\n",
       "\\hline\n",
       "\t1 & 0 & GZMK- CD56dim NK cell     & 2696 & PB03173-001 & 1 & 2024-05-06T16:36:37.463Z & 2024-04-23T22:43:49.381Z & a35aeceb-822f-4cfd-a925-3d271ef56392 & false & KT03173 & ⋯ & NA & Negative & NA & 200 & 1 & 52 & 52 & Negative & 11.288837 & 3.787325\\\\\n",
       "\t2 & 1 & Core naive B cell         & 2351 & PB03173-001 & 1 & 2024-05-06T16:36:37.463Z & 2024-04-23T22:43:49.381Z & a35aeceb-822f-4cfd-a925-3d271ef56392 & false & KT03173 & ⋯ & NA & Negative & NA & 200 & 1 & 52 & 52 & Negative &  9.844234 & 3.650396\\\\\n",
       "\t3 & 2 & CM CD4 T cell             & 2341 & PB03173-001 & 1 & 2024-05-06T16:36:37.463Z & 2024-04-23T22:43:49.381Z & a35aeceb-822f-4cfd-a925-3d271ef56392 & false & KT03173 & ⋯ & NA & Negative & NA & 200 & 1 & 52 & 52 & Negative &  9.802362 & 3.646134\\\\\n",
       "\t4 & 3 & GZMB- CD27+ EM CD4 T cell & 2202 & PB03173-001 & 1 & 2024-05-06T16:36:37.463Z & 2024-04-23T22:43:49.381Z & a35aeceb-822f-4cfd-a925-3d271ef56392 & false & KT03173 & ⋯ & NA & Negative & NA & 200 & 1 & 52 & 52 & Negative &  9.220333 & 3.584922\\\\\n",
       "\t5 & 4 & GZMB- CD27- EM CD4 T cell & 2030 & PB03173-001 & 1 & 2024-05-06T16:36:37.463Z & 2024-04-23T22:43:49.381Z & a35aeceb-822f-4cfd-a925-3d271ef56392 & false & KT03173 & ⋯ & NA & Negative & NA & 200 & 1 & 52 & 52 & Negative &  8.500126 & 3.503591\\\\\n",
       "\t6 & 5 & GZMK+ Vd2 gdT             & 1401 & PB03173-001 & 1 & 2024-05-06T16:36:37.463Z & 2024-04-23T22:43:49.381Z & a35aeceb-822f-4cfd-a925-3d271ef56392 & false & KT03173 & ⋯ & NA & Negative & NA & 200 & 1 & 52 & 52 & Negative &  5.866343 & 3.132742\\\\\n",
       "\\end{tabular}\n"
      ],
      "text/markdown": [
       "\n",
       "A data.frame: 6 × 48\n",
       "\n",
       "| <!--/--> | X.x &lt;int&gt; | celltypist_l3 &lt;chr&gt; | count &lt;int&gt; | pbmc_sample_id &lt;chr&gt; | X.y &lt;int&gt; | lastUpdated &lt;chr&gt; | labLastModified &lt;chr&gt; | sample.id &lt;chr&gt; | sample.bridgingControl &lt;chr&gt; | sample.sampleKitGuid &lt;chr&gt; | ⋯ ⋯ | lab.revisionHistory.dataHistory.CMV.Ab.Screen.Result..CMVRES..oldValue &lt;lgl&gt; | lab.revisionHistory.dataHistory.CMV.Ab.Screen.Result..CMVRES..newValue &lt;chr&gt; | lab.revisionHistory.dataHistory.Volume.oldValue &lt;lgl&gt; | lab.revisionHistory.dataHistory.Volume.newValue &lt;int&gt; | lab.revisionNumber &lt;int&gt; | ageAtEnrollment &lt;dbl&gt; | Ages &lt;dbl&gt; | CMV &lt;chr&gt; | percentage &lt;dbl&gt; | percentage_clr &lt;dbl&gt; |\n",
       "|---|---|---|---|---|---|---|---|---|---|---|---|---|---|---|---|---|---|---|---|---|---|\n",
       "| 1 | 0 | GZMK- CD56dim NK cell     | 2696 | PB03173-001 | 1 | 2024-05-06T16:36:37.463Z | 2024-04-23T22:43:49.381Z | a35aeceb-822f-4cfd-a925-3d271ef56392 | false | KT03173 | ⋯ | NA | Negative | NA | 200 | 1 | 52 | 52 | Negative | 11.288837 | 3.787325 |\n",
       "| 2 | 1 | Core naive B cell         | 2351 | PB03173-001 | 1 | 2024-05-06T16:36:37.463Z | 2024-04-23T22:43:49.381Z | a35aeceb-822f-4cfd-a925-3d271ef56392 | false | KT03173 | ⋯ | NA | Negative | NA | 200 | 1 | 52 | 52 | Negative |  9.844234 | 3.650396 |\n",
       "| 3 | 2 | CM CD4 T cell             | 2341 | PB03173-001 | 1 | 2024-05-06T16:36:37.463Z | 2024-04-23T22:43:49.381Z | a35aeceb-822f-4cfd-a925-3d271ef56392 | false | KT03173 | ⋯ | NA | Negative | NA | 200 | 1 | 52 | 52 | Negative |  9.802362 | 3.646134 |\n",
       "| 4 | 3 | GZMB- CD27+ EM CD4 T cell | 2202 | PB03173-001 | 1 | 2024-05-06T16:36:37.463Z | 2024-04-23T22:43:49.381Z | a35aeceb-822f-4cfd-a925-3d271ef56392 | false | KT03173 | ⋯ | NA | Negative | NA | 200 | 1 | 52 | 52 | Negative |  9.220333 | 3.584922 |\n",
       "| 5 | 4 | GZMB- CD27- EM CD4 T cell | 2030 | PB03173-001 | 1 | 2024-05-06T16:36:37.463Z | 2024-04-23T22:43:49.381Z | a35aeceb-822f-4cfd-a925-3d271ef56392 | false | KT03173 | ⋯ | NA | Negative | NA | 200 | 1 | 52 | 52 | Negative |  8.500126 | 3.503591 |\n",
       "| 6 | 5 | GZMK+ Vd2 gdT             | 1401 | PB03173-001 | 1 | 2024-05-06T16:36:37.463Z | 2024-04-23T22:43:49.381Z | a35aeceb-822f-4cfd-a925-3d271ef56392 | false | KT03173 | ⋯ | NA | Negative | NA | 200 | 1 | 52 | 52 | Negative |  5.866343 | 3.132742 |\n",
       "\n"
      ],
      "text/plain": [
       "  X.x celltypist_l3             count pbmc_sample_id X.y\n",
       "1 0   GZMK- CD56dim NK cell     2696  PB03173-001    1  \n",
       "2 1   Core naive B cell         2351  PB03173-001    1  \n",
       "3 2   CM CD4 T cell             2341  PB03173-001    1  \n",
       "4 3   GZMB- CD27+ EM CD4 T cell 2202  PB03173-001    1  \n",
       "5 4   GZMB- CD27- EM CD4 T cell 2030  PB03173-001    1  \n",
       "6 5   GZMK+ Vd2 gdT             1401  PB03173-001    1  \n",
       "  lastUpdated              labLastModified         \n",
       "1 2024-05-06T16:36:37.463Z 2024-04-23T22:43:49.381Z\n",
       "2 2024-05-06T16:36:37.463Z 2024-04-23T22:43:49.381Z\n",
       "3 2024-05-06T16:36:37.463Z 2024-04-23T22:43:49.381Z\n",
       "4 2024-05-06T16:36:37.463Z 2024-04-23T22:43:49.381Z\n",
       "5 2024-05-06T16:36:37.463Z 2024-04-23T22:43:49.381Z\n",
       "6 2024-05-06T16:36:37.463Z 2024-04-23T22:43:49.381Z\n",
       "  sample.id                            sample.bridgingControl\n",
       "1 a35aeceb-822f-4cfd-a925-3d271ef56392 false                 \n",
       "2 a35aeceb-822f-4cfd-a925-3d271ef56392 false                 \n",
       "3 a35aeceb-822f-4cfd-a925-3d271ef56392 false                 \n",
       "4 a35aeceb-822f-4cfd-a925-3d271ef56392 false                 \n",
       "5 a35aeceb-822f-4cfd-a925-3d271ef56392 false                 \n",
       "6 a35aeceb-822f-4cfd-a925-3d271ef56392 false                 \n",
       "  sample.sampleKitGuid ⋯\n",
       "1 KT03173              ⋯\n",
       "2 KT03173              ⋯\n",
       "3 KT03173              ⋯\n",
       "4 KT03173              ⋯\n",
       "5 KT03173              ⋯\n",
       "6 KT03173              ⋯\n",
       "  lab.revisionHistory.dataHistory.CMV.Ab.Screen.Result..CMVRES..oldValue\n",
       "1 NA                                                                    \n",
       "2 NA                                                                    \n",
       "3 NA                                                                    \n",
       "4 NA                                                                    \n",
       "5 NA                                                                    \n",
       "6 NA                                                                    \n",
       "  lab.revisionHistory.dataHistory.CMV.Ab.Screen.Result..CMVRES..newValue\n",
       "1 Negative                                                              \n",
       "2 Negative                                                              \n",
       "3 Negative                                                              \n",
       "4 Negative                                                              \n",
       "5 Negative                                                              \n",
       "6 Negative                                                              \n",
       "  lab.revisionHistory.dataHistory.Volume.oldValue\n",
       "1 NA                                             \n",
       "2 NA                                             \n",
       "3 NA                                             \n",
       "4 NA                                             \n",
       "5 NA                                             \n",
       "6 NA                                             \n",
       "  lab.revisionHistory.dataHistory.Volume.newValue lab.revisionNumber\n",
       "1 200                                             1                 \n",
       "2 200                                             1                 \n",
       "3 200                                             1                 \n",
       "4 200                                             1                 \n",
       "5 200                                             1                 \n",
       "6 200                                             1                 \n",
       "  ageAtEnrollment Ages CMV      percentage percentage_clr\n",
       "1 52              52   Negative 11.288837  3.787325      \n",
       "2 52              52   Negative  9.844234  3.650396      \n",
       "3 52              52   Negative  9.802362  3.646134      \n",
       "4 52              52   Negative  9.220333  3.584922      \n",
       "5 52              52   Negative  8.500126  3.503591      \n",
       "6 52              52   Negative  5.866343  3.132742      "
      ]
     },
     "metadata": {},
     "output_type": "display_data"
    }
   ],
   "source": [
    "df <- df %>%\n",
    "  dplyr::group_by(pbmc_sample_id) %>%                       \n",
    "  dplyr::mutate(percentage = (count / sum(count)) * 100) %>% \n",
    "  dplyr::group_by(pbmc_sample_id) %>%     \n",
    "  dplyr::mutate(percentage_clr = clr_transform((percentage))) %>% \n",
    "  dplyr::ungroup() %>% as.data.frame(.)\n",
    "\n",
    "head(df)"
   ]
  },
  {
   "cell_type": "code",
   "execution_count": 41,
   "id": "0028a949-6985-474a-a386-a584e1770a5d",
   "metadata": {},
   "outputs": [],
   "source": [
    "write.csv(df,\"SF4_Freq.csv\")"
   ]
  },
  {
   "cell_type": "code",
   "execution_count": 42,
   "id": "59646400-2269-4891-834c-d6e04b0546be",
   "metadata": {},
   "outputs": [],
   "source": [
    "df<-read.csv('SF4_AIFI_L3_Counts.csv')"
   ]
  },
  {
   "cell_type": "code",
   "execution_count": null,
   "id": "e9636b53-da93-4f31-9c79-bbe67fa31ca9",
   "metadata": {},
   "outputs": [],
   "source": []
  }
 ],
 "metadata": {
  "kernelspec": {
   "display_name": "R_BRI_Figures",
   "language": "R",
   "name": "r_bri_figures"
  },
  "language_info": {
   "codemirror_mode": "r",
   "file_extension": ".r",
   "mimetype": "text/x-r-source",
   "name": "R",
   "pygments_lexer": "r",
   "version": "4.3.2"
  }
 },
 "nbformat": 4,
 "nbformat_minor": 5
}
