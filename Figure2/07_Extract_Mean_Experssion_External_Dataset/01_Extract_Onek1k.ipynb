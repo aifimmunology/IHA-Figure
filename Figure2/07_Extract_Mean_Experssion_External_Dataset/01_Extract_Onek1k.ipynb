{
 "cells": [
  {
   "cell_type": "code",
   "execution_count": 2,
   "id": "5e6e7a26-4274-4fbc-8fd8-2aecf69ad87f",
   "metadata": {},
   "outputs": [],
   "source": [
    "suppressPackageStartupMessages(library(dplyr))\n",
    "suppressPackageStartupMessages(library(tidyr))\n",
    "suppressPackageStartupMessages(library(tibble))\n",
    "suppressPackageStartupMessages(library(stringr))\n",
    "library(parallel)\n",
    "library(plyr)\n",
    "library(data.table)\n",
    "library(ggplot2)\n",
    "library(pheatmap)\n",
    "library(RColorBrewer)\n",
    "library(viridis)\n",
    "source('/home/workspace/IHA_Figure_Revision//helper_function/helper_function_IHA.r')"
   ]
  },
  {
   "cell_type": "code",
   "execution_count": 3,
   "id": "a8602732-31dd-4943-a03b-1a2a8fc82d24",
   "metadata": {},
   "outputs": [],
   "source": [
    "meta_data=read.csv(\"/home/workspace/IHA_Figure_Revision/Figure2/04_Composite_Score/Onek1k_dataset_followup/sample_meta_data.csv\")\n",
    "meta_data<-meta_data %>% filter(age>=40, age<=90)"
   ]
  },
  {
   "cell_type": "code",
   "execution_count": 4,
   "id": "da839a9b-ae56-45fd-b77e-3e86d937011d",
   "metadata": {},
   "outputs": [
    {
     "name": "stdout",
     "output_type": "stream",
     "text": [
      "[1] \"Total reading time: 43.201 seconds\"\n",
      "[1] \"The length of the list matches the length of the input path.\"\n"
     ]
    }
   ],
   "source": [
    "file_list<-paste0(\"/home/workspace/IHA_Figure_Revision/Figure2/04_Composite_Score/Onek1k_dataset_followup/sample_normalized_count_average/\",meta_data$donor_id,\".csv\")\n",
    "\n",
    "df_list<-read_pseudobulk_expression(file_list)\n"
   ]
  },
  {
   "cell_type": "code",
   "execution_count": null,
   "id": "96688d44-aa7f-479a-8237-788d652a1a22",
   "metadata": {},
   "outputs": [],
   "source": []
  },
  {
   "cell_type": "code",
   "execution_count": 5,
   "id": "f6fa10b6-8b2a-4c4a-b76a-a0fd3638db18",
   "metadata": {},
   "outputs": [],
   "source": [
    "df<-read.csv(\"/home/workspace/IHA_Figure_Revision/Figure1/02_DEG/Deseq2_Result_Y1D0.csv\")"
   ]
  },
  {
   "cell_type": "code",
   "execution_count": 6,
   "id": "a2db3b0d-0c00-49bf-b7ed-85bca7107544",
   "metadata": {},
   "outputs": [],
   "source": [
    "df<-df %>% filter(contrast=='cohort.cohortGuid')"
   ]
  },
  {
   "cell_type": "code",
   "execution_count": 7,
   "id": "2912c635-1248-4cb4-874f-97c807ad9ab4",
   "metadata": {},
   "outputs": [],
   "source": [
    "df_subset<-df %>% filter(abs(log2FoldChange)>0.1,padj<0.05)"
   ]
  },
  {
   "cell_type": "code",
   "execution_count": 8,
   "id": "b70b14bc-ffc5-41e8-96b7-a250b2717818",
   "metadata": {},
   "outputs": [],
   "source": [
    "selected_celltype<-read.csv(\"/home/workspace/IHA_Figure_Revision/Figure1/04_CompositeScore/BRI_CompositeScore_Down.csv\")"
   ]
  },
  {
   "cell_type": "code",
   "execution_count": 9,
   "id": "513892df-806f-4266-94cc-a24116a504d7",
   "metadata": {},
   "outputs": [],
   "source": [
    "keep_celltypes <- unique(selected_celltype$celltype)\n"
   ]
  },
  {
   "cell_type": "code",
   "execution_count": 10,
   "id": "c3b3c4f5-2369-470a-adff-e8b2af71eeef",
   "metadata": {},
   "outputs": [],
   "source": [
    "df_subset_filtered<-df_subset%>% filter(celltype %in% keep_celltypes)\n"
   ]
  },
  {
   "cell_type": "code",
   "execution_count": 11,
   "id": "f13274aa-b11b-43e9-9fea-497563a32f87",
   "metadata": {},
   "outputs": [],
   "source": [
    "meta_data$Ages<-meta_data$age"
   ]
  },
  {
   "cell_type": "code",
   "execution_count": 12,
   "id": "f270fde6-6503-4b9e-8f58-4582ee56fdd8",
   "metadata": {},
   "outputs": [],
   "source": [
    "meta_data<-meta_data %>% arrange(Ages)\n",
    "meta_data$pbmc_sample_id_gsubbed<-gsub(\"-\",'.',meta_data$donor_id) \n",
    "rownames(meta_data)<-meta_data$pbmc_sample_id_gsubbed\n",
    "meta_data$pbmc_sample_id_gsubbed<-paste0(\"X\",meta_data$pbmc_sample_id_gsubbed)\n"
   ]
  },
  {
   "cell_type": "code",
   "execution_count": 13,
   "id": "96fbd38e-bde6-467d-83cb-b47bd0edc95d",
   "metadata": {},
   "outputs": [
    {
     "data": {
      "text/html": [
       "90"
      ],
      "text/latex": [
       "90"
      ],
      "text/markdown": [
       "90"
      ],
      "text/plain": [
       "[1] 90"
      ]
     },
     "metadata": {},
     "output_type": "display_data"
    }
   ],
   "source": [
    "max(meta_data$Ages)"
   ]
  },
  {
   "cell_type": "code",
   "execution_count": 12,
   "id": "c76a2876-4110-47d3-8e00-5bd1aeddd37a",
   "metadata": {},
   "outputs": [],
   "source": [
    "Up_Genes<-c('SESN3','PTGER2')"
   ]
  },
  {
   "cell_type": "code",
   "execution_count": 13,
   "id": "34b90e74-385d-4f92-ac25-95d42813ee8f",
   "metadata": {},
   "outputs": [
    {
     "name": "stderr",
     "output_type": "stream",
     "text": [
      "\u001b[1m\u001b[22mJoining with `by = join_by(pbmc_sample_id_gsubbed)`\n",
      "\u001b[1m\u001b[22mJoining with `by = join_by(pbmc_sample_id_gsubbed)`\n",
      "\u001b[1m\u001b[22mJoining with `by = join_by(pbmc_sample_id_gsubbed)`\n",
      "\u001b[1m\u001b[22mJoining with `by = join_by(pbmc_sample_id_gsubbed)`\n",
      "\u001b[1m\u001b[22mJoining with `by = join_by(pbmc_sample_id_gsubbed)`\n",
      "\u001b[1m\u001b[22mJoining with `by = join_by(pbmc_sample_id_gsubbed)`\n",
      "\u001b[1m\u001b[22mJoining with `by = join_by(pbmc_sample_id_gsubbed)`\n",
      "\u001b[1m\u001b[22mJoining with `by = join_by(pbmc_sample_id_gsubbed)`\n"
     ]
    }
   ],
   "source": [
    "exp_all<-list()\n",
    "for (gene_single in Up_Genes) {\n",
    "  celltypes <- unique(df_subset_filtered %>% filter(gene == gene_single) %>%\n",
    "                      arrange(celltype)%>% select(celltype) %>% pull())\n",
    "  exp_single_gene_all_celtype <- data.frame()\n",
    "  for (celltype_single in celltypes) {\n",
    "    exp <- lapply(df_list, function(df) {\n",
    "      df <- df[gene_single, grep(celltype_single, names(df), fixed = TRUE), drop = FALSE]\n",
    "    })\n",
    "\n",
    "    exp_matrix <- do.call(cbind, exp)\n",
    "    colnames(exp_matrix) <- sub(\":.*\", \"\", colnames(exp_matrix))\n",
    "    \n",
    "    # Convert to data frame and retain row names as a new column\n",
    "    exp_df <- data.frame(exp_matrix)\n",
    "    exp_df<-as.data.frame(t(exp_df))\n",
    "    colnames(exp_df)<-\"mean_exp\"\n",
    "    \n",
    "    exp_df$pbmc_sample_id_gsubbed<-rownames(exp_df)\n",
    "    exp_df<-left_join(exp_df,meta_data)\n",
    "    \n",
    "    \n",
    "    \n",
    "    exp_df<-exp_df %>% group_by(Ages) %>% dplyr::summarise(mean_exp=mean(mean_exp) )\n",
    "    \n",
    "    exp_df<-as.data.frame(exp_df)\n",
    "    \n",
    "    rownames(exp_df)<-exp_df$Ages\n",
    "    \n",
    "    exp_df<-as.data.frame(t(exp_df[2])  )\n",
    "    rownames(exp_matrix)<-gene_single\n",
    "    exp_df$rownames <- paste0(rownames(exp_matrix), \":\", celltype_single)\n",
    "\n",
    "    # Reorder to have rownames first (optional)\n",
    "    exp_df <- exp_df[, c(\"rownames\", setdiff(names(exp_df), \"rownames\"))]\n",
    "\n",
    "    # Bind the data while keeping row names as a column\n",
    "    exp_single_gene_all_celtype <- rbind.fill(exp_single_gene_all_celtype, exp_df)\n",
    "  }\n",
    "  \n",
    "  # Optionally set the row names back if needed\n",
    "rownames(exp_single_gene_all_celtype) <- exp_single_gene_all_celtype$rownames\n",
    "exp_single_gene_all_celtype <- exp_single_gene_all_celtype[, -1]  # Remove the 'rownames' column after setting row names\n",
    "\n",
    "exp_all[[gene_single]]<-exp_single_gene_all_celtype\n",
    "}\n"
   ]
  },
  {
   "cell_type": "code",
   "execution_count": 14,
   "id": "7dd88dcb-760d-451c-a586-72d22d982cef",
   "metadata": {},
   "outputs": [],
   "source": [
    "df<-do.call(rbind,exp_all)"
   ]
  },
  {
   "cell_type": "code",
   "execution_count": 16,
   "id": "d9e2421c-237a-47c7-97d9-c4897852ce2d",
   "metadata": {},
   "outputs": [],
   "source": [
    "write.csv(df,\"Up_Selected_Onek1K.csv\")"
   ]
  },
  {
   "cell_type": "code",
   "execution_count": null,
   "id": "61b6d0e0-47e0-4b9b-803a-63e82f13f5e3",
   "metadata": {},
   "outputs": [],
   "source": []
  },
  {
   "cell_type": "code",
   "execution_count": null,
   "id": "1cf04646-8fdd-4416-9c8e-95d2c1d11c5d",
   "metadata": {},
   "outputs": [],
   "source": []
  },
  {
   "cell_type": "code",
   "execution_count": null,
   "id": "9c6574b8-effb-436f-8b5b-6a1ecf010c3d",
   "metadata": {},
   "outputs": [],
   "source": []
  }
 ],
 "metadata": {
  "kernelspec": {
   "display_name": "R_BRI_Figures",
   "language": "R",
   "name": "r_bri_figures"
  },
  "language_info": {
   "codemirror_mode": "r",
   "file_extension": ".r",
   "mimetype": "text/x-r-source",
   "name": "R",
   "pygments_lexer": "r",
   "version": "4.3.2"
  }
 },
 "nbformat": 4,
 "nbformat_minor": 5
}
