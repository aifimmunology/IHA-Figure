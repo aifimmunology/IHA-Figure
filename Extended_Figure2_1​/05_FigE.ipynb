{
 "cells": [
  {
   "cell_type": "code",
   "execution_count": 15,
   "id": "4f8df63e-14e1-4494-9b84-9450f9c531ff",
   "metadata": {},
   "outputs": [],
   "source": [
    "suppressPackageStartupMessages(library(dplyr))\n",
    "suppressPackageStartupMessages(library(tidyr))\n",
    "suppressPackageStartupMessages(library(tibble))\n",
    "suppressPackageStartupMessages(library(ggplot2))\n",
    "suppressPackageStartupMessages(library(stringr))\n",
    "library(parallel)\n",
    "library(patchwork)\n",
    "library(smplot2)\n",
    "suppressPackageStartupMessages(library(ggrepel))\n",
    "\n",
    "library(ggpubr)"
   ]
  },
  {
   "cell_type": "code",
   "execution_count": 2,
   "id": "5a6353f9-b580-4c9f-bc72-a14fc23131cb",
   "metadata": {},
   "outputs": [],
   "source": [
    "color_annotation<-read.csv('/home/jupyter/BRI_Figures_Final_V1/Color_hex_codes/Cell_Type_Color_Annotation_and_Order.csv')\n",
    "color_vector <- setNames(color_annotation$color, color_annotation$label)"
   ]
  },
  {
   "cell_type": "code",
   "execution_count": 3,
   "id": "2365be48-cc2d-411f-9ffc-c90dc75a4a2b",
   "metadata": {},
   "outputs": [],
   "source": [
    "Y1D0<-read.csv('/home/jupyter/BRI_Figures_Final_V2/Figure2/02_DEG/Deseq2_Result_Y1D0.csv')\n",
    "Y2D0<-read.csv('/home/jupyter/BRI_Figures_Final_V2/Extended_Figure2_1​/02-DEG_Y2D0/Deseq2_Result_Y2D0.csv')"
   ]
  },
  {
   "cell_type": "code",
   "execution_count": 4,
   "id": "8d19615d-fc5e-4242-8d67-99e3b055b882",
   "metadata": {},
   "outputs": [],
   "source": [
    "deg_counts_df_Y1 <- Y1D0 %>%\n",
    "  filter(contrast == 'cohort.cohortGuid') %>%\n",
    "  mutate(Expression = case_when(\n",
    "    log2FoldChange >= 0.1 & padj <= 0.05 ~ \"Up-regulated\",\n",
    "    log2FoldChange <= -0.1 & padj <= 0.05 ~ \"Down-regulated\",\n",
    "    TRUE ~ \"Unchanged\"\n",
    "  )) %>%\n",
    "  group_by(celltype, Expression) %>%\n",
    "  summarise(count = n(), .groups = 'drop') %>%\n",
    "  complete(celltype, Expression, fill = list(count = 0)) %>% \n",
    "  filter(!Expression==\"Unchanged\")%>%  as.data.frame()%>%\n",
    "  mutate(count = case_when(\n",
    "    Expression == \"Down-regulated\" ~ -count,\n",
    "    TRUE ~ count\n",
    "  ))\n",
    "\n",
    "deg_counts_df_Y2 <- Y2D0 %>%\n",
    "  filter(contrast == 'cohort.cohortGuid') %>%\n",
    "  mutate(Expression = case_when(\n",
    "    log2FoldChange >= 0.1 & padj <= 0.05 ~ \"Up-regulated\",\n",
    "    log2FoldChange <= -0.1 & padj <= 0.05 ~ \"Down-regulated\",\n",
    "    TRUE ~ \"Unchanged\"\n",
    "  )) %>%\n",
    "  group_by(celltype, Expression) %>%\n",
    "  summarise(count = n(), .groups = 'drop') %>%\n",
    "  complete(celltype, Expression, fill = list(count = 0)) %>% \n",
    "  filter(!Expression==\"Unchanged\")%>%  as.data.frame()%>%\n",
    "  mutate(count = case_when(\n",
    "    Expression == \"Down-regulated\" ~ -count,\n",
    "    TRUE ~ count\n",
    "  ))"
   ]
  },
  {
   "cell_type": "code",
   "execution_count": null,
   "id": "8b22928e-bf3d-4b6c-ace2-8ad4f2711472",
   "metadata": {},
   "outputs": [],
   "source": []
  },
  {
   "cell_type": "code",
   "execution_count": 5,
   "id": "73921dea-fbe2-4688-b376-d06dd5389dac",
   "metadata": {},
   "outputs": [],
   "source": [
    "colnames(deg_counts_df_Y1)[3]<-'Y1_DEG_Counts'\n",
    "colnames(deg_counts_df_Y2)[3]<-'Y2_DEG_Counts'"
   ]
  },
  {
   "cell_type": "code",
   "execution_count": 6,
   "id": "a9d9d742-3bf0-48de-823a-b93cd51ae9fb",
   "metadata": {},
   "outputs": [
    {
     "name": "stderr",
     "output_type": "stream",
     "text": [
      "\u001b[1m\u001b[22mJoining with `by = join_by(celltype, Expression)`\n"
     ]
    }
   ],
   "source": [
    "df<-left_join(deg_counts_df_Y1,deg_counts_df_Y2)"
   ]
  },
  {
   "cell_type": "code",
   "execution_count": 7,
   "id": "641d344e-48af-47e4-9358-ebcb7173d8ff",
   "metadata": {},
   "outputs": [],
   "source": [
    "df[is.na(df)] <- 0"
   ]
  },
  {
   "cell_type": "code",
   "execution_count": 8,
   "id": "2799022d-4061-4f2e-add4-fa59806b8ed4",
   "metadata": {},
   "outputs": [],
   "source": [
    "df <- df %>% filter(Y1_DEG_Counts != 0 | Y2_DEG_Counts != 0)"
   ]
  },
  {
   "cell_type": "code",
   "execution_count": 12,
   "id": "65fd8f65-a5b6-49c9-9a85-8fef021ee8e1",
   "metadata": {},
   "outputs": [],
   "source": [
    "top_celltype<-c('Naive CD4 Treg',\n",
    "'CM CD4 T cell',\n",
    "'Core naive CD8 T cell',\n",
    "'Core naive CD4 T cell')"
   ]
  },
  {
   "cell_type": "code",
   "execution_count": 17,
   "id": "14c5292a-622b-4709-83d8-f60b8ba2f77a",
   "metadata": {
    "scrolled": true
   },
   "outputs": [
    {
     "name": "stderr",
     "output_type": "stream",
     "text": [
      "\u001b[1m\u001b[22m`geom_smooth()` using formula = 'y ~ x'\n",
      "\u001b[1m\u001b[22m`geom_smooth()` using formula = 'y ~ x'\n"
     ]
    },
    {
     "data": {
      "image/png": "[encoded data removed]",
      "text/plain": [
       "plot without title"
      ]
     },
     "metadata": {
      "image/png": {
       "height": 106.2992,
       "width": 106.2992
      }
     },
     "output_type": "display_data"
    }
   ],
   "source": [
    "\n",
    "options(repr.plot.width = 45/25.4, repr.plot.height =45/25.4)\n",
    "\n",
    "correlation_test <- cor.test(df$Y1_DEG_Counts, df$Y2_DEG_Counts,method='pearson')\n",
    "correlation <- correlation_test$estimate\n",
    "p_value <- correlation_test$p.value\n",
    "\n",
    "p<-ggplot(data = df, mapping = aes(x = Y1_DEG_Counts, y = Y2_DEG_Counts)) +\n",
    "  geom_point(aes(fill = celltype), shape = 21, color = \"white\", size = 1.5, show.legend = FALSE) + \n",
    "  geom_smooth(method = 'lm', color = \"black\", se=FALSE,linewidth = 0.5) +\n",
    "  scale_fill_manual(values = color_vector) + \n",
    "  annotate(\"text\",  \n",
    "           x=0.2, \n",
    "           y=2,size=2,\n",
    "           label = paste(\"r =\", round(correlation, 2), \n",
    "                         \"\\np =\",signif(p_value,3)), \n",
    "           vjust = 1.1,\n",
    "           color = \"blue\") +\n",
    "  geom_text_repel(\n",
    "    data = df %>% filter(celltype%in% top_celltype),\n",
    "    box.padding = 0.5,\n",
    "    force = 0.5,\n",
    "    max.overlaps = 50,\n",
    "    nudge_x = 0.15,\n",
    "    hjust = 0.1,\n",
    "    segment.size = 0.1,\n",
    "    mapping = aes(label = celltype),\n",
    "    size = 2\n",
    "  )+\n",
    "theme_bw(base_size=6)\n",
    "p\n",
    "ggsave('FigureE.pdf',p,\n",
    "       width = 50/25.4,\n",
    "       height = 45/25.4)"
   ]
  },
  {
   "cell_type": "code",
   "execution_count": null,
   "id": "529049b2-c94b-4dc5-bdd6-d8f1dd0d9352",
   "metadata": {},
   "outputs": [],
   "source": []
  },
  {
   "cell_type": "code",
   "execution_count": null,
   "id": "81ea7cb5-0be8-492d-a33a-6f1ad4e1ed1d",
   "metadata": {},
   "outputs": [],
   "source": []
  }
 ],
 "metadata": {
  "kernelspec": {
   "display_name": "R 4",
   "language": "R",
   "name": "ir4"
  },
  "language_info": {
   "codemirror_mode": "r",
   "file_extension": ".r",
   "mimetype": "text/x-r-source",
   "name": "R",
   "pygments_lexer": "r",
   "version": "4.3.2"
  }
 },
 "nbformat": 4,
 "nbformat_minor": 5
}
