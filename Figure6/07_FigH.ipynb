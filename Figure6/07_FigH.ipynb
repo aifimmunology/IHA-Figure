{
 "cells": [
  {
   "cell_type": "code",
   "execution_count": 2,
   "id": "00ef71db-a184-493b-bb4a-5338829650dc",
   "metadata": {},
   "outputs": [
    {
     "name": "stderr",
     "output_type": "stream",
     "text": [
      "Registered S3 methods overwritten by 'ggtern':\n",
      "  method           from   \n",
      "  grid.draw.ggplot ggplot2\n",
      "  plot.ggplot      ggplot2\n",
      "  print.ggplot     ggplot2\n",
      "\n",
      "--\n",
      "Remember to cite, run citation(package = 'ggtern') for further info.\n",
      "--\n",
      "\n",
      "\n",
      "Attaching package: ‘ggtern’\n",
      "\n",
      "\n",
      "The following objects are masked from ‘package:ggplot2’:\n",
      "\n",
      "    aes, annotate, ggplot, ggplot_build, ggplot_gtable, ggplotGrob,\n",
      "    ggsave, layer_data, theme_bw, theme_classic, theme_dark,\n",
      "    theme_gray, theme_light, theme_linedraw, theme_minimal, theme_void\n",
      "\n",
      "\n",
      "Loading required package: viridisLite\n",
      "\n",
      "\n",
      "Attaching package: ‘scales’\n",
      "\n",
      "\n",
      "The following object is masked from ‘package:viridis’:\n",
      "\n",
      "    viridis_pal\n",
      "\n",
      "\n",
      "\n",
      "Attaching package: ‘rstatix’\n",
      "\n",
      "\n",
      "The following object is masked from ‘package:ggtern’:\n",
      "\n",
      "    mahalanobis_distance\n",
      "\n",
      "\n",
      "The following objects are masked from ‘package:plyr’:\n",
      "\n",
      "    desc, mutate\n",
      "\n",
      "\n",
      "The following object is masked from ‘package:stats’:\n",
      "\n",
      "    filter\n",
      "\n",
      "\n"
     ]
    }
   ],
   "source": [
    "suppressPackageStartupMessages(library(plyr))\n",
    "suppressPackageStartupMessages(library(dplyr))\n",
    "suppressPackageStartupMessages(library(tidyr))\n",
    "suppressPackageStartupMessages(library(tibble))\n",
    "library(ggplot2)\n",
    "library(\"ggtern\")\n",
    "library(viridis)\n",
    "library(scales)\n",
    "library(rstatix)\n",
    "\n",
    "library(RColorBrewer)"
   ]
  },
  {
   "cell_type": "code",
   "execution_count": 3,
   "id": "f3c6be87-a20a-4cf7-b157-1d62b8d886ec",
   "metadata": {},
   "outputs": [],
   "source": [
    "meta_data=read.csv(\"/home/jupyter/BRI_Figures_Final_V2/Dataset/scRNA_meta_data-2024-05-09.csv\")\n",
    "meta_data_subset<-meta_data %>% filter(Covid_exclusion=='no',\n",
    "                                       sample.visitName%in% c('Flu Year 1 Day 0'))\n",
    "meta_data_subset<-meta_data_subset %>% mutate(`Age Group`=case_when(cohort.cohortGuid==\"BR1\"~\"Young\", TRUE~'Older'))\n",
    "meta_data_subset$`Age Group`<-factor(meta_data_subset$`Age Group`,levels=c(\"Young\",\"Older\"))"
   ]
  },
  {
   "cell_type": "markdown",
   "id": "3691adf8-566e-4d8b-be63-a2b80ee18331",
   "metadata": {},
   "source": [
    "# Read NMF score for Year 1 Day 0 Samples"
   ]
  },
  {
   "cell_type": "code",
   "execution_count": 4,
   "id": "63141bb3-268c-47f0-8477-7ddc78a7d053",
   "metadata": {},
   "outputs": [],
   "source": [
    "df<-read.csv(\"02_NMF_CD4_T_cell_Projection/NMF_Scores_Y1D0_BRI.csv\")"
   ]
  },
  {
   "cell_type": "code",
   "execution_count": 5,
   "id": "c150be58-bec1-4456-936f-cbc52c31214c",
   "metadata": {},
   "outputs": [],
   "source": [
    "df<-df %>% filter(NMF_Scores %in% c('NMF0_Cytotoxic', 'NMF2_Th17',  \n",
    "                                                    'NMF5_Th2', 'NMF6_Tfh',  \n",
    "                                                    'NMF8_Cent_Mem', 'NMF11_Th1'))%>% \n",
    "                           filter(AIFI_L3 %in% c('CM CD4 T cell',\n",
    " 'GZMB- CD27+ EM CD4 T cell',\n",
    " 'KLRF1- GZMB+ CD27- memory CD4 T cell',\n",
    " 'GZMB- CD27- EM CD4 T cell'))"
   ]
  },
  {
   "cell_type": "code",
   "execution_count": 6,
   "id": "4dc85386-970d-4d02-9c90-07798b4f44b8",
   "metadata": {},
   "outputs": [
    {
     "name": "stderr",
     "output_type": "stream",
     "text": [
      "\u001b[1m\u001b[22m`summarise()` has grouped output by 'AIFI_L3', 'pbmc_sample_id'. You can\n",
      "override using the `.groups` argument.\n"
     ]
    }
   ],
   "source": [
    "df_median<-df %>%\n",
    "  group_by(AIFI_L3, pbmc_sample_id,NMF_Scores) %>%\n",
    "  summarise(AverageScore_median = median(AverageScore, na.rm = TRUE)) %>%\n",
    "  spread(NMF_Scores, AverageScore_median) "
   ]
  },
  {
   "cell_type": "code",
   "execution_count": 7,
   "id": "0f4103d4-5445-4e87-8664-c72554badd20",
   "metadata": {},
   "outputs": [],
   "source": [
    "df_median<-left_join(df_median,meta_data_subset,by=c('pbmc_sample_id'))"
   ]
  },
  {
   "cell_type": "code",
   "execution_count": 8,
   "id": "164a4e4b-df72-4c7f-bc74-b22bbcdf72fc",
   "metadata": {},
   "outputs": [
    {
     "data": {
      "text/html": [
       "<table class=\"dataframe\">\n",
       "<caption>A rstatix_test: 4 × 9</caption>\n",
       "<thead>\n",
       "\t<tr><th scope=col>AIFI_L3</th><th scope=col>.y.</th><th scope=col>group1</th><th scope=col>group2</th><th scope=col>n1</th><th scope=col>n2</th><th scope=col>statistic</th><th scope=col>p</th><th scope=col>adjp</th></tr>\n",
       "\t<tr><th scope=col>&lt;chr&gt;</th><th scope=col>&lt;chr&gt;</th><th scope=col>&lt;chr&gt;</th><th scope=col>&lt;chr&gt;</th><th scope=col>&lt;int&gt;</th><th scope=col>&lt;int&gt;</th><th scope=col>&lt;dbl&gt;</th><th scope=col>&lt;dbl&gt;</th><th scope=col>&lt;dbl&gt;</th></tr>\n",
       "</thead>\n",
       "<tbody>\n",
       "\t<tr><td>CM CD4 T cell                       </td><td>NMF11_Th1</td><td>BR1</td><td>BR2</td><td>47</td><td>45</td><td>1341</td><td>0.026600</td><td>0.053200</td></tr>\n",
       "\t<tr><td>GZMB- CD27+ EM CD4 T cell           </td><td>NMF11_Th1</td><td>BR1</td><td>BR2</td><td>47</td><td>45</td><td> 658</td><td>0.001620</td><td>0.004860</td></tr>\n",
       "\t<tr><td>GZMB- CD27- EM CD4 T cell           </td><td>NMF11_Th1</td><td>BR1</td><td>BR2</td><td>47</td><td>45</td><td>1476</td><td>0.000937</td><td>0.003748</td></tr>\n",
       "\t<tr><td>KLRF1- GZMB+ CD27- memory CD4 T cell</td><td>NMF11_Th1</td><td>BR1</td><td>BR2</td><td>44</td><td>44</td><td>1165</td><td>0.101000</td><td>0.101000</td></tr>\n",
       "</tbody>\n",
       "</table>\n"
      ],
      "text/latex": [
       "A rstatix\\_test: 4 × 9\n",
       "\\begin{tabular}{lllllllll}\n",
       " AIFI\\_L3 & .y. & group1 & group2 & n1 & n2 & statistic & p & adjp\\\\\n",
       " <chr> & <chr> & <chr> & <chr> & <int> & <int> & <dbl> & <dbl> & <dbl>\\\\\n",
       "\\hline\n",
       "\t CM CD4 T cell                        & NMF11\\_Th1 & BR1 & BR2 & 47 & 45 & 1341 & 0.026600 & 0.053200\\\\\n",
       "\t GZMB- CD27+ EM CD4 T cell            & NMF11\\_Th1 & BR1 & BR2 & 47 & 45 &  658 & 0.001620 & 0.004860\\\\\n",
       "\t GZMB- CD27- EM CD4 T cell            & NMF11\\_Th1 & BR1 & BR2 & 47 & 45 & 1476 & 0.000937 & 0.003748\\\\\n",
       "\t KLRF1- GZMB+ CD27- memory CD4 T cell & NMF11\\_Th1 & BR1 & BR2 & 44 & 44 & 1165 & 0.101000 & 0.101000\\\\\n",
       "\\end{tabular}\n"
      ],
      "text/markdown": [
       "\n",
       "A rstatix_test: 4 × 9\n",
       "\n",
       "| AIFI_L3 &lt;chr&gt; | .y. &lt;chr&gt; | group1 &lt;chr&gt; | group2 &lt;chr&gt; | n1 &lt;int&gt; | n2 &lt;int&gt; | statistic &lt;dbl&gt; | p &lt;dbl&gt; | adjp &lt;dbl&gt; |\n",
       "|---|---|---|---|---|---|---|---|---|\n",
       "| CM CD4 T cell                        | NMF11_Th1 | BR1 | BR2 | 47 | 45 | 1341 | 0.026600 | 0.053200 |\n",
       "| GZMB- CD27+ EM CD4 T cell            | NMF11_Th1 | BR1 | BR2 | 47 | 45 |  658 | 0.001620 | 0.004860 |\n",
       "| GZMB- CD27- EM CD4 T cell            | NMF11_Th1 | BR1 | BR2 | 47 | 45 | 1476 | 0.000937 | 0.003748 |\n",
       "| KLRF1- GZMB+ CD27- memory CD4 T cell | NMF11_Th1 | BR1 | BR2 | 44 | 44 | 1165 | 0.101000 | 0.101000 |\n",
       "\n"
      ],
      "text/plain": [
       "  AIFI_L3                              .y.       group1 group2 n1 n2 statistic\n",
       "1 CM CD4 T cell                        NMF11_Th1 BR1    BR2    47 45 1341     \n",
       "2 GZMB- CD27+ EM CD4 T cell            NMF11_Th1 BR1    BR2    47 45  658     \n",
       "3 GZMB- CD27- EM CD4 T cell            NMF11_Th1 BR1    BR2    47 45 1476     \n",
       "4 KLRF1- GZMB+ CD27- memory CD4 T cell NMF11_Th1 BR1    BR2    44 44 1165     \n",
       "  p        adjp    \n",
       "1 0.026600 0.053200\n",
       "2 0.001620 0.004860\n",
       "3 0.000937 0.003748\n",
       "4 0.101000 0.101000"
      ]
     },
     "metadata": {},
     "output_type": "display_data"
    },
    {
     "data": {
      "text/html": [
       "<table class=\"dataframe\">\n",
       "<caption>A rstatix_test: 4 × 9</caption>\n",
       "<thead>\n",
       "\t<tr><th scope=col>AIFI_L3</th><th scope=col>.y.</th><th scope=col>group1</th><th scope=col>group2</th><th scope=col>n1</th><th scope=col>n2</th><th scope=col>statistic</th><th scope=col>p</th><th scope=col>adjp</th></tr>\n",
       "\t<tr><th scope=col>&lt;chr&gt;</th><th scope=col>&lt;chr&gt;</th><th scope=col>&lt;chr&gt;</th><th scope=col>&lt;chr&gt;</th><th scope=col>&lt;int&gt;</th><th scope=col>&lt;int&gt;</th><th scope=col>&lt;dbl&gt;</th><th scope=col>&lt;dbl&gt;</th><th scope=col>&lt;dbl&gt;</th></tr>\n",
       "</thead>\n",
       "<tbody>\n",
       "\t<tr><td>CM CD4 T cell                       </td><td>NMF5_Th2</td><td>BR1</td><td>BR2</td><td>47</td><td>45</td><td> 679</td><td>0.00287</td><td>0.00861</td></tr>\n",
       "\t<tr><td>GZMB- CD27+ EM CD4 T cell           </td><td>NMF5_Th2</td><td>BR1</td><td>BR2</td><td>47</td><td>45</td><td> 588</td><td>0.00019</td><td>0.00076</td></tr>\n",
       "\t<tr><td>GZMB- CD27- EM CD4 T cell           </td><td>NMF5_Th2</td><td>BR1</td><td>BR2</td><td>47</td><td>45</td><td> 828</td><td>0.07360</td><td>0.14720</td></tr>\n",
       "\t<tr><td>KLRF1- GZMB+ CD27- memory CD4 T cell</td><td>NMF5_Th2</td><td>BR1</td><td>BR2</td><td>44</td><td>44</td><td>1014</td><td>0.70400</td><td>0.70400</td></tr>\n",
       "</tbody>\n",
       "</table>\n"
      ],
      "text/latex": [
       "A rstatix\\_test: 4 × 9\n",
       "\\begin{tabular}{lllllllll}\n",
       " AIFI\\_L3 & .y. & group1 & group2 & n1 & n2 & statistic & p & adjp\\\\\n",
       " <chr> & <chr> & <chr> & <chr> & <int> & <int> & <dbl> & <dbl> & <dbl>\\\\\n",
       "\\hline\n",
       "\t CM CD4 T cell                        & NMF5\\_Th2 & BR1 & BR2 & 47 & 45 &  679 & 0.00287 & 0.00861\\\\\n",
       "\t GZMB- CD27+ EM CD4 T cell            & NMF5\\_Th2 & BR1 & BR2 & 47 & 45 &  588 & 0.00019 & 0.00076\\\\\n",
       "\t GZMB- CD27- EM CD4 T cell            & NMF5\\_Th2 & BR1 & BR2 & 47 & 45 &  828 & 0.07360 & 0.14720\\\\\n",
       "\t KLRF1- GZMB+ CD27- memory CD4 T cell & NMF5\\_Th2 & BR1 & BR2 & 44 & 44 & 1014 & 0.70400 & 0.70400\\\\\n",
       "\\end{tabular}\n"
      ],
      "text/markdown": [
       "\n",
       "A rstatix_test: 4 × 9\n",
       "\n",
       "| AIFI_L3 &lt;chr&gt; | .y. &lt;chr&gt; | group1 &lt;chr&gt; | group2 &lt;chr&gt; | n1 &lt;int&gt; | n2 &lt;int&gt; | statistic &lt;dbl&gt; | p &lt;dbl&gt; | adjp &lt;dbl&gt; |\n",
       "|---|---|---|---|---|---|---|---|---|\n",
       "| CM CD4 T cell                        | NMF5_Th2 | BR1 | BR2 | 47 | 45 |  679 | 0.00287 | 0.00861 |\n",
       "| GZMB- CD27+ EM CD4 T cell            | NMF5_Th2 | BR1 | BR2 | 47 | 45 |  588 | 0.00019 | 0.00076 |\n",
       "| GZMB- CD27- EM CD4 T cell            | NMF5_Th2 | BR1 | BR2 | 47 | 45 |  828 | 0.07360 | 0.14720 |\n",
       "| KLRF1- GZMB+ CD27- memory CD4 T cell | NMF5_Th2 | BR1 | BR2 | 44 | 44 | 1014 | 0.70400 | 0.70400 |\n",
       "\n"
      ],
      "text/plain": [
       "  AIFI_L3                              .y.      group1 group2 n1 n2 statistic\n",
       "1 CM CD4 T cell                        NMF5_Th2 BR1    BR2    47 45  679     \n",
       "2 GZMB- CD27+ EM CD4 T cell            NMF5_Th2 BR1    BR2    47 45  588     \n",
       "3 GZMB- CD27- EM CD4 T cell            NMF5_Th2 BR1    BR2    47 45  828     \n",
       "4 KLRF1- GZMB+ CD27- memory CD4 T cell NMF5_Th2 BR1    BR2    44 44 1014     \n",
       "  p       adjp   \n",
       "1 0.00287 0.00861\n",
       "2 0.00019 0.00076\n",
       "3 0.07360 0.14720\n",
       "4 0.70400 0.70400"
      ]
     },
     "metadata": {},
     "output_type": "display_data"
    },
    {
     "data": {
      "text/html": [
       "<table class=\"dataframe\">\n",
       "<caption>A rstatix_test: 4 × 9</caption>\n",
       "<thead>\n",
       "\t<tr><th scope=col>AIFI_L3</th><th scope=col>.y.</th><th scope=col>group1</th><th scope=col>group2</th><th scope=col>n1</th><th scope=col>n2</th><th scope=col>statistic</th><th scope=col>p</th><th scope=col>adjp</th></tr>\n",
       "\t<tr><th scope=col>&lt;chr&gt;</th><th scope=col>&lt;chr&gt;</th><th scope=col>&lt;chr&gt;</th><th scope=col>&lt;chr&gt;</th><th scope=col>&lt;int&gt;</th><th scope=col>&lt;int&gt;</th><th scope=col>&lt;dbl&gt;</th><th scope=col>&lt;dbl&gt;</th><th scope=col>&lt;dbl&gt;</th></tr>\n",
       "</thead>\n",
       "<tbody>\n",
       "\t<tr><td>CM CD4 T cell                       </td><td>NMF2_Th17</td><td>BR1</td><td>BR2</td><td>47</td><td>45</td><td>1161</td><td>4.23e-01</td><td>0.8460000</td></tr>\n",
       "\t<tr><td>GZMB- CD27+ EM CD4 T cell           </td><td>NMF2_Th17</td><td>BR1</td><td>BR2</td><td>47</td><td>45</td><td>1588</td><td>2.16e-05</td><td>0.0000864</td></tr>\n",
       "\t<tr><td>GZMB- CD27- EM CD4 T cell           </td><td>NMF2_Th17</td><td>BR1</td><td>BR2</td><td>47</td><td>45</td><td>1305</td><td>5.34e-02</td><td>0.1602000</td></tr>\n",
       "\t<tr><td>KLRF1- GZMB+ CD27- memory CD4 T cell</td><td>NMF2_Th17</td><td>BR1</td><td>BR2</td><td>44</td><td>44</td><td> 985</td><td>8.90e-01</td><td>0.8900000</td></tr>\n",
       "</tbody>\n",
       "</table>\n"
      ],
      "text/latex": [
       "A rstatix\\_test: 4 × 9\n",
       "\\begin{tabular}{lllllllll}\n",
       " AIFI\\_L3 & .y. & group1 & group2 & n1 & n2 & statistic & p & adjp\\\\\n",
       " <chr> & <chr> & <chr> & <chr> & <int> & <int> & <dbl> & <dbl> & <dbl>\\\\\n",
       "\\hline\n",
       "\t CM CD4 T cell                        & NMF2\\_Th17 & BR1 & BR2 & 47 & 45 & 1161 & 4.23e-01 & 0.8460000\\\\\n",
       "\t GZMB- CD27+ EM CD4 T cell            & NMF2\\_Th17 & BR1 & BR2 & 47 & 45 & 1588 & 2.16e-05 & 0.0000864\\\\\n",
       "\t GZMB- CD27- EM CD4 T cell            & NMF2\\_Th17 & BR1 & BR2 & 47 & 45 & 1305 & 5.34e-02 & 0.1602000\\\\\n",
       "\t KLRF1- GZMB+ CD27- memory CD4 T cell & NMF2\\_Th17 & BR1 & BR2 & 44 & 44 &  985 & 8.90e-01 & 0.8900000\\\\\n",
       "\\end{tabular}\n"
      ],
      "text/markdown": [
       "\n",
       "A rstatix_test: 4 × 9\n",
       "\n",
       "| AIFI_L3 &lt;chr&gt; | .y. &lt;chr&gt; | group1 &lt;chr&gt; | group2 &lt;chr&gt; | n1 &lt;int&gt; | n2 &lt;int&gt; | statistic &lt;dbl&gt; | p &lt;dbl&gt; | adjp &lt;dbl&gt; |\n",
       "|---|---|---|---|---|---|---|---|---|\n",
       "| CM CD4 T cell                        | NMF2_Th17 | BR1 | BR2 | 47 | 45 | 1161 | 4.23e-01 | 0.8460000 |\n",
       "| GZMB- CD27+ EM CD4 T cell            | NMF2_Th17 | BR1 | BR2 | 47 | 45 | 1588 | 2.16e-05 | 0.0000864 |\n",
       "| GZMB- CD27- EM CD4 T cell            | NMF2_Th17 | BR1 | BR2 | 47 | 45 | 1305 | 5.34e-02 | 0.1602000 |\n",
       "| KLRF1- GZMB+ CD27- memory CD4 T cell | NMF2_Th17 | BR1 | BR2 | 44 | 44 |  985 | 8.90e-01 | 0.8900000 |\n",
       "\n"
      ],
      "text/plain": [
       "  AIFI_L3                              .y.       group1 group2 n1 n2 statistic\n",
       "1 CM CD4 T cell                        NMF2_Th17 BR1    BR2    47 45 1161     \n",
       "2 GZMB- CD27+ EM CD4 T cell            NMF2_Th17 BR1    BR2    47 45 1588     \n",
       "3 GZMB- CD27- EM CD4 T cell            NMF2_Th17 BR1    BR2    47 45 1305     \n",
       "4 KLRF1- GZMB+ CD27- memory CD4 T cell NMF2_Th17 BR1    BR2    44 44  985     \n",
       "  p        adjp     \n",
       "1 4.23e-01 0.8460000\n",
       "2 2.16e-05 0.0000864\n",
       "3 5.34e-02 0.1602000\n",
       "4 8.90e-01 0.8900000"
      ]
     },
     "metadata": {},
     "output_type": "display_data"
    }
   ],
   "source": [
    "df_median %>% group_by(AIFI_L3)%>% wilcox_test(NMF11_Th1~cohort.cohortGuid)%>% mutate(adjp=p.adjust(p))\n",
    "df_median %>% group_by(AIFI_L3)%>% wilcox_test(NMF5_Th2~cohort.cohortGuid)%>% mutate(adjp=p.adjust(p))\n",
    "df_median %>% group_by(AIFI_L3)%>% wilcox_test(NMF2_Th17~cohort.cohortGuid)%>% mutate(adjp=p.adjust(p))\n"
   ]
  },
  {
   "cell_type": "code",
   "execution_count": 9,
   "id": "f2c8fcf8-eceb-4107-906c-30fa75d24f9a",
   "metadata": {},
   "outputs": [],
   "source": [
    "df_median$NMF11_Th1<-scale(df_median$NMF11_Th1,center = FALSE)\n",
    "df_median$NMF5_Th2<-scale(df_median$NMF5_Th2,center = FALSE)\n",
    "df_median$NMF2_Th17<-scale(df_median$NMF2_Th17,center = FALSE)"
   ]
  },
  {
   "cell_type": "code",
   "execution_count": 10,
   "id": "88ca4bd7-7be0-4725-99d1-9248a9f60b0b",
   "metadata": {},
   "outputs": [],
   "source": [
    "centroids <- df_median %>%\n",
    "  filter(AIFI_L3 == 'CM CD4 T cell') %>%\n",
    "  group_by(`Age Group`) %>%\n",
    "  summarize(\n",
    "    NMF5_Th2 = median(NMF5_Th2, na.rm = TRUE),\n",
    "    NMF11_Th1 = median(NMF11_Th1, na.rm = TRUE),\n",
    "    NMF2_Th17 = median(NMF2_Th17, na.rm = TRUE)\n",
    "  )"
   ]
  },
  {
   "cell_type": "code",
   "execution_count": 17,
   "id": "d9a6650b-3a59-4846-9d0c-1b14ca6a39a8",
   "metadata": {
    "scrolled": true
   },
   "outputs": [
    {
     "name": "stderr",
     "output_type": "stream",
     "text": [
      "Warning message:\n",
      "“\u001b[1m\u001b[22mNo shared levels found between `names(values)` of the manual scale and the\n",
      "data's \u001b[32mcolour\u001b[39m values.”\n",
      "Warning message:\n",
      "“\u001b[1m\u001b[22mNo shared levels found between `names(values)` of the manual scale and the\n",
      "data's \u001b[32mcolour\u001b[39m values.”\n"
     ]
    },
    {
     "data": {
      "image/png": "[encoded data removed]",
      "text/plain": [
       "plot without title"
      ]
     },
     "metadata": {
      "image/png": {
       "height": 188.9764,
       "width": 188.9764
      }
     },
     "output_type": "display_data"
    }
   ],
   "source": [
    "options(repr.plot.width = 80/25.4, repr.plot.height = 80/25.4)\n",
    "\n",
    "p <- ggtern(data = df_median %>%\n",
    "              ungroup() %>%\n",
    "              filter(AIFI_L3 == 'CM CD4 T cell') %>% arrange(desc(NMF5_Th2)),\n",
    "            aes(NMF5_Th2, NMF11_Th1, NMF2_Th17,\n",
    "                color = `Age Group`,\n",
    "                fill = `Age Group`)) +\n",
    "  geom_point(size = 1,shape = 21, stroke = 0.08,color='black') +\n",
    "#\n",
    "  labs(x=\"Th2\",y=\"TH1\",z=\"TH17\")  +\n",
    "  theme_rgbw(base_size = 6) +\n",
    "scale_fill_manual(values = c(\"Older\" = '#bf812d', \"Young\" = '#35978f'))+\n",
    "scale_color_manual(values = c(\"Older\" = '#bf812d', \"Young\" = '#35978f'))+\n",
    "\n",
    "theme(tern.panel.grid.major=element_line(linewidth=0.2),\t\n",
    "tern.axis.line   = element_line(linewidth=0.2),\n",
    "     tern.axis.arrow = element_line(size = 1))\n",
    "p\n",
    "ggsave(\"FigureH.pdf\",p, width=80/25.4,height = 80/25.4)"
   ]
  },
  {
   "cell_type": "code",
   "execution_count": null,
   "id": "c8c5df46-3da9-4eb1-b7ed-69bebb59d1d1",
   "metadata": {},
   "outputs": [],
   "source": []
  }
 ],
 "metadata": {
  "kernelspec": {
   "display_name": "R 4",
   "language": "R",
   "name": "ir4"
  },
  "language_info": {
   "codemirror_mode": "r",
   "file_extension": ".r",
   "mimetype": "text/x-r-source",
   "name": "R",
   "pygments_lexer": "r",
   "version": "4.3.2"
  }
 },
 "nbformat": 4,
 "nbformat_minor": 5
}
