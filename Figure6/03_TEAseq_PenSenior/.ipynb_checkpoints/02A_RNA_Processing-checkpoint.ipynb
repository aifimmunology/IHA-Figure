{
 "cells": [
  {
   "cell_type": "code",
   "execution_count": 2,
   "id": "88cb6bd5-47c4-4629-8082-eedfeb335073",
   "metadata": {
    "tags": []
   },
   "outputs": [],
   "source": [
    "import sys\n",
    "import matplotlib.pyplot as plt\n",
    "import numpy as np\n",
    "import pandas as pd\n",
    "import scanpy as sc\n",
    "import celltypist\n",
    "import gc\n",
    "import anndata\n",
    "from celltypist import models\n",
    "import h5py\n",
    "import scipy.sparse as scs\n",
    "from multiprocessing import Pool\n",
    "from concurrent.futures import ThreadPoolExecutor, as_completed\n",
    "from tqdm import tqdm\n",
    "from adjustText import adjust_text\n",
    "import scanpy.external as sce"
   ]
  },
  {
   "cell_type": "code",
   "execution_count": 3,
   "id": "0e7ba42c-bbaa-4027-a7c9-4b9964ce2325",
   "metadata": {
    "tags": []
   },
   "outputs": [],
   "source": [
    "def gen_mpl_labels(\n",
    "    adata, groupby, exclude=(), ax=None, adjust_kwargs=None, text_kwargs=None\n",
    "):\n",
    "    if adjust_kwargs is None:\n",
    "        adjust_kwargs = {\"text_from_points\": False}\n",
    "    if text_kwargs is None:\n",
    "        text_kwargs = {}\n",
    "\n",
    "    medians = {}\n",
    "\n",
    "    for g, g_idx in adata.obs.groupby(groupby).groups.items():\n",
    "        if g in exclude:\n",
    "            continue\n",
    "        medians[g] = np.median(adata[g_idx].obsm[\"X_umap\"], axis=0)\n",
    "\n",
    "    if ax is None:\n",
    "        texts = [\n",
    "            plt.text(x=x, y=y, s=k, **text_kwargs) for k, (x, y) in medians.items()]\n",
    "    else:\n",
    "        texts = [ax.text(x=x, y=y, s=k, **text_kwargs) for k, (x, y) in medians.items()]\n",
    "\n",
    "    adjust_text(texts, **adjust_kwargs)"
   ]
  },
  {
   "cell_type": "code",
   "execution_count": 4,
   "id": "98da6e8a-c12e-4248-9ded-2164d6377449",
   "metadata": {
    "tags": []
   },
   "outputs": [],
   "source": [
    "def read_mat(h5_con):\n",
    "    mat = scs.csc_matrix(\n",
    "        (h5_con['matrix']['data'][:], # Count values\n",
    "         h5_con['matrix']['indices'][:], # Row indices\n",
    "         h5_con['matrix']['indptr'][:]), # Pointers for column positions\n",
    "        shape = tuple(h5_con['matrix']['shape'][:]) # Matrix dimensions\n",
    "    )\n",
    "    return mat\n",
    "\n",
    "\n",
    "def read_obs(h5con):\n",
    "    bc = h5con['matrix']['barcodes'][:]\n",
    "    bc = [x.decode('UTF-8') for x in bc]\n",
    "\n",
    "    # Initialized the DataFrame with cell barcodes\n",
    "    obs_df = pd.DataFrame({ 'barcodes' : bc })\n",
    "\n",
    "    # Get the list of available metadata columns\n",
    "    obs_columns = h5con['matrix']['observations'].keys()\n",
    "\n",
    "    # For each column\n",
    "    for col in obs_columns:\n",
    "        # Read the values\n",
    "        values = h5con['matrix']['observations'][col][:]\n",
    "        # Check for byte storage\n",
    "        if(isinstance(values[0], (bytes, bytearray))):\n",
    "            # Decode byte strings\n",
    "            values = [x.decode('UTF-8') for x in values]\n",
    "        # Add column to the DataFrame\n",
    "        obs_df[col] = values\n",
    "    \n",
    "    return obs_df\n",
    "# define a function to construct anndata object from a h5 file\n",
    "def read_h5_anndata(h5_file):\n",
    "    h5_con = h5py.File(h5_file, mode = 'r')\n",
    "    # extract the expression matrix\n",
    "    mat = read_mat(h5_con)\n",
    "    # extract gene names\n",
    "    genes = h5_con['matrix']['features']['name'][:]\n",
    "    genes = [x.decode('UTF-8') for x in genes]\n",
    "    # extract metadata\n",
    "    obs_df = read_obs(h5_con)\n",
    "    # construct anndata\n",
    "    adata = anndata.AnnData(mat.T,\n",
    "                             obs = obs_df)\n",
    "    # make sure the gene names aligned\n",
    "    adata.var_names = genes\n",
    "\n",
    "    adata.var_names_make_unique()\n",
    "    return adata\n",
    "def get_last_pattern(inputstr):\n",
    "    pattern = r\"[^/]+(?=$)\"\n",
    "    match = re.search(pattern, inputstr)\n",
    "    if match:\n",
    "        return match.group(0)\n",
    "    else:\n",
    "        return \"\"\n",
    "def process_file(file_name):\n",
    "    adata = read_h5_anndata(file_name)\n",
    "\n",
    "    doublet_scores=pd.read_csv('Doublet_Scores/'+adata.obs['pbmc_sample_id'][0]+'.csv', index_col=0)\n",
    "    L1_labels=pd.read_csv('Labels/'+adata.obs['pbmc_sample_id'][0]+'_L1_predicted_labels.csv', index_col=0)\n",
    "    L2_labels=pd.read_csv('Labels/'+adata.obs['pbmc_sample_id'][0]+'_L2_predicted_labels.csv', index_col=0)\n",
    "    L3_labels=pd.read_csv('Labels/'+adata.obs['pbmc_sample_id'][0]+'_L3_predicted_labels.csv', index_col=0)\n",
    "    L1_labels.columns=[ 'barcodes', 'AIFI_L1']\n",
    "    L2_labels.columns=[ 'barcodes', 'AIFI_L2']\n",
    "    L3_labels.columns=[ 'barcodes', 'AIFI_L3']\n",
    "    print(doublet_scores['barcodes'].tolist()==adata.obs['barcodes'].tolist(),\n",
    "          L1_labels['barcodes'].tolist()==adata.obs['barcodes'].tolist(),\n",
    "          L2_labels['barcodes'].tolist()==adata.obs['barcodes'].tolist(),\n",
    "          L3_labels['barcodes'].tolist()==adata.obs['barcodes'].tolist())\n",
    "    adata.obs= pd.merge(adata.obs, doublet_scores, on='barcodes', how='left')\n",
    "    adata.obs= pd.merge(adata.obs, L1_labels, on='barcodes', how='left')\n",
    "    adata.obs= pd.merge(adata.obs, L2_labels, on='barcodes', how='left')\n",
    "    adata.obs= pd.merge(adata.obs, L3_labels, on='barcodes', how='left')\n",
    "    adata.obs.index=adata.obs['barcodes']\n",
    "    adata.var[\"mito\"] = adata.var_names.str.startswith(\"MT-\")\n",
    "    sc.pp.calculate_qc_metrics(adata, qc_vars=[\"mito\"], inplace=True)\n",
    "\n",
    "    return adata"
   ]
  },
  {
   "cell_type": "markdown",
   "id": "8a758d8a-a64b-448e-9913-cba9f442358b",
   "metadata": {},
   "source": [
    "# Read MetaData"
   ]
  },
  {
   "cell_type": "code",
   "execution_count": 5,
   "id": "a700558d-60de-40bf-820f-220d03ecd871",
   "metadata": {
    "tags": []
   },
   "outputs": [],
   "source": [
    "meta_data=pd.read_csv('meta_data_GEO.csv')\n",
    "file_list=[\"GSE214546_Data/\"+x+'.h5' for x in meta_data['combined_sample_id']]\n"
   ]
  },
  {
   "cell_type": "markdown",
   "id": "ae70c485-4302-4bef-9e58-cf21505ed32d",
   "metadata": {},
   "source": [
    "# Combine RNA data"
   ]
  },
  {
   "cell_type": "code",
   "execution_count": 6,
   "id": "8d8ce6ea-b539-4e04-9ee1-c1f2e1c96252",
   "metadata": {
    "tags": []
   },
   "outputs": [
    {
     "name": "stderr",
     "output_type": "stream",
     "text": [
      "  0% 0/16 [00:00<?, ?it/s]"
     ]
    },
    {
     "name": "stdout",
     "output_type": "stream",
     "text": [
      "True True True True\n",
      "True True True True\n"
     ]
    },
    {
     "name": "stderr",
     "output_type": "stream",
     "text": [
      "  6% 1/16 [00:16<04:10, 16.67s/it]"
     ]
    },
    {
     "name": "stdout",
     "output_type": "stream",
     "text": [
      "True True True True\n",
      "True True True True\n",
      "True True True True\n",
      "True True True True\n",
      "True True True True\n",
      "True True True True\n",
      "True True True True\n",
      "True True True True\n",
      "True True True True\n",
      "True True True True\n",
      "True True True True\n",
      "True True True True\n",
      "True True True True\n",
      "True True True True\n"
     ]
    },
    {
     "name": "stderr",
     "output_type": "stream",
     "text": [
      "100% 16/16 [00:30<00:00,  1.90s/it]"
     ]
    },
    {
     "name": "stdout",
     "output_type": "stream",
     "text": [
      "CPU times: user 55.1 s, sys: 8.75 s, total: 1min 3s\n",
      "Wall time: 30.4 s\n"
     ]
    },
    {
     "name": "stderr",
     "output_type": "stream",
     "text": [
      "\n"
     ]
    }
   ],
   "source": [
    "%%time\n",
    "file_names= file_list\n",
    "h5_list = []\n",
    "with ThreadPoolExecutor(max_workers=16) as executor:\n",
    "    future_to_file = {executor.submit(process_file, file_name): file_name for file_name in file_names}\n",
    "    for future in tqdm(as_completed(future_to_file), total=len(file_names)):\n",
    "        result = future.result()\n",
    "        if result is not None:\n",
    "            h5_list.append(result)"
   ]
  },
  {
   "cell_type": "code",
   "execution_count": 7,
   "id": "354a948d-e048-4e97-a0c8-6abd8edcc22c",
   "metadata": {
    "tags": []
   },
   "outputs": [],
   "source": [
    "combined= anndata.concat(h5_list)"
   ]
  },
  {
   "cell_type": "code",
   "execution_count": 8,
   "id": "c4f9656a-fd73-4c4d-8e4c-7fc213422da6",
   "metadata": {
    "tags": []
   },
   "outputs": [],
   "source": [
    "combined=combined[(combined.obs[\"pct_counts_mito\"] <15) & (combined.obs[\"n_genes_by_counts\"] <2500) &(combined.obs[\"n_genes\"] >200) ]\n",
    "combined=combined[combined.obs['predicted_doublet']==False]"
   ]
  },
  {
   "cell_type": "markdown",
   "id": "2dcbfbb6-dae8-458c-844f-6ffa40b016fa",
   "metadata": {},
   "source": [
    "# Filter T cell only"
   ]
  },
  {
   "cell_type": "code",
   "execution_count": 9,
   "id": "c7d2a278-5a2d-4a52-9c76-19484437fb87",
   "metadata": {},
   "outputs": [],
   "source": [
    "combined_T=combined[~combined.obs['AIFI_L3'].isin([\"Platelet\",\"Plasma cell\",\"Core memory B cell\",\"Adaptive NK cell\",\n",
    "                                                  \"CD56bright NK cell\",\"ILC\",\"CD14+ cDC2\",\"HLA-DRhi cDC2\",\"pDC\",\n",
    "                                                 \"Core naive B cell\",\"ISG+ CD16 monocyte\",\"ISG+ CD14 monocyte\",\"CD95 memory B cell\",\n",
    "                                                 \"ISG+ CD56dim NK cell\",\"IL1B+ CD14 monocyte\",\"Core CD14 monocyte\",\n",
    "                                                 \"GZMK- CD56dim NK cell\",\"Erythrocyte\",\"Core CD16 monocyte\",\"GZMK+ CD56dim NK cell\",\n",
    "                                                \"ISG+ naive B cell\",\"Transitional B cell\",\"Proliferating NK cell\",\"CD27- effector B cell\"])]"
   ]
  },
  {
   "cell_type": "markdown",
   "id": "caf01a4c-b8f9-42e5-8a50-93b9bcbcb969",
   "metadata": {
    "tags": []
   },
   "source": [
    "# Processing"
   ]
  },
  {
   "cell_type": "code",
   "execution_count": 10,
   "id": "42116131-d15d-40f0-84b3-fde01bc2bfac",
   "metadata": {
    "tags": []
   },
   "outputs": [],
   "source": [
    "sc.pp.normalize_total(combined_T, target_sum=1e4)\n",
    "sc.pp.log1p(combined_T)\n",
    "sc.pp.highly_variable_genes(combined_T, min_mean=0.0125, max_mean=3, min_disp=0.5)\n",
    "combined_T.raw = combined_T\n",
    "combined_T = combined_T[:, combined_T.var.highly_variable]\n",
    "sc.pp.scale(combined_T, max_value=10)"
   ]
  },
  {
   "cell_type": "code",
   "execution_count": 11,
   "id": "e2a7b799-1cae-4462-a2b5-4de5282c51e2",
   "metadata": {
    "tags": []
   },
   "outputs": [],
   "source": [
    "sc.tl.pca(combined_T, svd_solver=\"arpack\")"
   ]
  },
  {
   "cell_type": "code",
   "execution_count": 12,
   "id": "187619f7-5ff1-40b6-9a50-ecdacb1b86a0",
   "metadata": {
    "tags": []
   },
   "outputs": [
    {
     "name": "stderr",
     "output_type": "stream",
     "text": [
      "2024-06-01 18:57:38,010 - harmonypy - INFO - Computing initial centroids with sklearn.KMeans...\n",
      "Computing initial centroids with sklearn.KMeans...\n",
      "2024-06-01 19:03:02,665 - harmonypy - INFO - Iteration 2 of 20\n",
      "Iteration 2 of 20\n",
      "2024-06-01 19:05:47,952 - harmonypy - INFO - Iteration 3 of 20\n",
      "Iteration 3 of 20\n",
      "2024-06-01 19:08:31,818 - harmonypy - INFO - Iteration 4 of 20\n",
      "Iteration 4 of 20\n",
      "2024-06-01 19:11:32,204 - harmonypy - INFO - Iteration 5 of 20\n",
      "Iteration 5 of 20\n",
      "2024-06-01 19:14:09,746 - harmonypy - INFO - Iteration 6 of 20\n",
      "Iteration 6 of 20\n",
      "2024-06-01 19:15:28,721 - harmonypy - INFO - Iteration 7 of 20\n",
      "Iteration 7 of 20\n",
      "2024-06-01 19:16:25,975 - harmonypy - INFO - Converged after 7 iterations\n",
      "Converged after 7 iterations\n"
     ]
    },
    {
     "data": {
      "application/vnd.jupyter.widget-view+json": {
       "model_id": "401118108ce54c909bc1397a7ff668c5",
       "version_major": 2,
       "version_minor": 0
      },
      "text/plain": [
       "  0%|          | 0/200 [00:00<?, ?it/s]"
      ]
     },
     "metadata": {},
     "output_type": "display_data"
    },
    {
     "name": "stdout",
     "output_type": "stream",
     "text": [
      "\tcompleted  0  /  200 epochs\n",
      "\tcompleted  20  /  200 epochs\n",
      "\tcompleted  40  /  200 epochs\n",
      "\tcompleted  60  /  200 epochs\n",
      "\tcompleted  80  /  200 epochs\n",
      "\tcompleted  100  /  200 epochs\n",
      "\tcompleted  120  /  200 epochs\n",
      "\tcompleted  140  /  200 epochs\n",
      "\tcompleted  160  /  200 epochs\n",
      "\tcompleted  180  /  200 epochs\n"
     ]
    }
   ],
   "source": [
    "sce.pp.harmony_integrate(combined_T, 'batch_id',max_iter_harmony = 20)\n",
    "sc.pp.neighbors(combined_T, n_neighbors=50,use_rep='X_pca_harmony', n_pcs=30)\n",
    "sc.tl.umap(combined_T)"
   ]
  },
  {
   "cell_type": "code",
   "execution_count": 13,
   "id": "a4ff6e3e-e21d-4c56-8428-3d07d3201e22",
   "metadata": {
    "collapsed": true,
    "jupyter": {
     "outputs_hidden": true
    }
   },
   "outputs": [
    {
     "name": "stderr",
     "output_type": "stream",
     "text": [
      "... storing 'adt_qc_flag' as categorical\n",
      "... storing 'batch_id' as categorical\n",
      "... storing 'cell_name' as categorical\n",
      "... storing 'chip_id' as categorical\n",
      "... storing 'hto_barcode' as categorical\n",
      "... storing 'hto_category' as categorical\n",
      "... storing 'original_barcodes' as categorical\n",
      "... storing 'pbmc_sample_id' as categorical\n",
      "... storing 'pool_id' as categorical\n",
      "... storing 'seurat_pbmc_type' as categorical\n",
      "... storing 'well_id' as categorical\n",
      "... storing 'AIFI_L1' as categorical\n",
      "... storing 'AIFI_L2' as categorical\n",
      "... storing 'AIFI_L3' as categorical\n"
     ]
    }
   ],
   "source": [
    "combined_T.write_h5ad('TEA_scRNA.h5ad')"
   ]
  },
  {
   "cell_type": "code",
   "execution_count": null,
   "id": "acac242a-ba78-49ca-976f-71d122e5fa3c",
   "metadata": {
    "tags": []
   },
   "outputs": [],
   "source": []
  },
  {
   "cell_type": "code",
   "execution_count": null,
   "id": "8f9d7447-6483-44d9-8306-19d93a7032af",
   "metadata": {},
   "outputs": [],
   "source": []
  }
 ],
 "metadata": {
  "kernelspec": {
   "display_name": "Python [conda env:root] *",
   "language": "python",
   "name": "conda-root-py"
  },
  "language_info": {
   "codemirror_mode": {
    "name": "ipython",
    "version": 3
   },
   "file_extension": ".py",
   "mimetype": "text/x-python",
   "name": "python",
   "nbconvert_exporter": "python",
   "pygments_lexer": "ipython3",
   "version": "3.10.13"
  }
 },
 "nbformat": 4,
 "nbformat_minor": 5
}
