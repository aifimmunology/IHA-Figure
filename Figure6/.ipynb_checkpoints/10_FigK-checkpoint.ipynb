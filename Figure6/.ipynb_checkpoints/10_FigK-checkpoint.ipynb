{
 "cells": [
  {
   "cell_type": "code",
   "execution_count": 1,
   "id": "00ef71db-a184-493b-bb4a-5338829650dc",
   "metadata": {},
   "outputs": [
    {
     "name": "stderr",
     "output_type": "stream",
     "text": [
      "Registered S3 methods overwritten by 'ggtern':\n",
      "  method           from   \n",
      "  grid.draw.ggplot ggplot2\n",
      "  plot.ggplot      ggplot2\n",
      "  print.ggplot     ggplot2\n",
      "\n",
      "--\n",
      "Remember to cite, run citation(package = 'ggtern') for further info.\n",
      "--\n",
      "\n",
      "\n",
      "Attaching package: ‘ggtern’\n",
      "\n",
      "\n",
      "The following objects are masked from ‘package:ggplot2’:\n",
      "\n",
      "    aes, annotate, ggplot, ggplot_build, ggplot_gtable, ggplotGrob,\n",
      "    ggsave, layer_data, theme_bw, theme_classic, theme_dark,\n",
      "    theme_gray, theme_light, theme_linedraw, theme_minimal, theme_void\n",
      "\n",
      "\n",
      "Loading required package: viridisLite\n",
      "\n",
      "\n",
      "Attaching package: ‘scales’\n",
      "\n",
      "\n",
      "The following object is masked from ‘package:viridis’:\n",
      "\n",
      "    viridis_pal\n",
      "\n",
      "\n"
     ]
    }
   ],
   "source": [
    "suppressPackageStartupMessages(library(plyr))\n",
    "suppressPackageStartupMessages(library(dplyr))\n",
    "suppressPackageStartupMessages(library(tidyr))\n",
    "suppressPackageStartupMessages(library(tibble))\n",
    "library(parallel)\n",
    "library(ggplot2)\n",
    "library(\"ggtern\")\n",
    "library(viridis)\n",
    "library(scales)\n",
    "library(RColorBrewer)"
   ]
  },
  {
   "cell_type": "code",
   "execution_count": 2,
   "id": "f3c6be87-a20a-4cf7-b157-1d62b8d886ec",
   "metadata": {},
   "outputs": [],
   "source": [
    "meta_data=read.csv(\"/home/jupyter/BRI_Figures_Final_V1/Dataset/SF4_meta_data-2024-05-05.csv\")\n",
    "meta_data$ageAtEnrollment[meta_data$ageAtEnrollment == '89+'] <- '90'\n",
    "meta_data$ageAtEnrollment<-as.numeric(meta_data$ageAtEnrollment)\n",
    "meta_data<-meta_data[!is.na(meta_data$ageAtEnrollment),]\n",
    "meta_data$Ages<-meta_data$ageAtEnrollment"
   ]
  },
  {
   "cell_type": "markdown",
   "id": "3691adf8-566e-4d8b-be63-a2b80ee18331",
   "metadata": {},
   "source": [
    "# Read NMF score for Year 1 Day 0 Samples"
   ]
  },
  {
   "cell_type": "code",
   "execution_count": 3,
   "id": "63141bb3-268c-47f0-8477-7ddc78a7d053",
   "metadata": {},
   "outputs": [],
   "source": [
    "df<-read.csv(\"02_NMF_CD4_T_cell_Projection/NMF_Scores_SF4.csv\")"
   ]
  },
  {
   "cell_type": "code",
   "execution_count": 4,
   "id": "c150be58-bec1-4456-936f-cbc52c31214c",
   "metadata": {},
   "outputs": [],
   "source": [
    "df<-df %>% filter(NMF_Scores %in% c('NMF0_Cytotoxic', 'NMF2_Th17',  \n",
    "                                                    'NMF5_Th2', 'NMF6_Tfh',  \n",
    "                                                    'NMF8_Cent_Mem', 'NMF11_Th1'))%>% \n",
    "                           filter(AIFI_L3 %in% c('CM CD4 T cell',\n",
    " 'GZMB- CD27+ EM CD4 T cell',\n",
    " 'KLRF1- GZMB+ CD27- memory CD4 T cell',\n",
    " 'GZMB- CD27- EM CD4 T cell'))"
   ]
  },
  {
   "cell_type": "code",
   "execution_count": 5,
   "id": "4dc85386-970d-4d02-9c90-07798b4f44b8",
   "metadata": {},
   "outputs": [
    {
     "name": "stderr",
     "output_type": "stream",
     "text": [
      "\u001b[1m\u001b[22m`summarise()` has grouped output by 'AIFI_L3', 'pbmc_sample_id'. You can\n",
      "override using the `.groups` argument.\n"
     ]
    }
   ],
   "source": [
    "df_median<-df %>%\n",
    "  group_by(AIFI_L3, pbmc_sample_id,NMF_Scores) %>%\n",
    "  summarise(AverageScore_median = median(AverageScore, na.rm = TRUE)) %>%\n",
    "  spread(NMF_Scores, AverageScore_median) "
   ]
  },
  {
   "cell_type": "code",
   "execution_count": 6,
   "id": "0f4103d4-5445-4e87-8664-c72554badd20",
   "metadata": {},
   "outputs": [],
   "source": [
    "df_median<-left_join(df_median,meta_data,by=c('pbmc_sample_id'))"
   ]
  },
  {
   "cell_type": "code",
   "execution_count": 7,
   "id": "f2c8fcf8-eceb-4107-906c-30fa75d24f9a",
   "metadata": {},
   "outputs": [],
   "source": [
    "df_median$NMF11_Th1<-scale(df_median$NMF11_Th1,center = FALSE)\n",
    "df_median$NMF5_Th2<-scale(df_median$NMF5_Th2,center = FALSE)\n",
    "df_median$NMF2_Th17<-scale(df_median$NMF2_Th17,center = FALSE)"
   ]
  },
  {
   "cell_type": "code",
   "execution_count": 13,
   "id": "e4623cd8-ac42-4c52-b910-c533acacdc31",
   "metadata": {},
   "outputs": [
    {
     "data": {
      "text/html": [
       "<style>\n",
       ".list-inline {list-style: none; margin:0; padding: 0}\n",
       ".list-inline>li {display: inline-block}\n",
       ".list-inline>li:not(:last-child)::after {content: \"\\00b7\"; padding: 0 .5ex}\n",
       "</style>\n",
       "<ol class=list-inline><li>'AIFI_L3'</li><li>'pbmc_sample_id'</li><li>'NMF0_Cytotoxic'</li><li>'NMF11_Th1'</li><li>'NMF2_Th17'</li><li>'NMF5_Th2'</li><li>'NMF6_Tfh'</li><li>'NMF8_Cent_Mem'</li><li>'X'</li><li>'lastUpdated'</li><li>'labLastModified'</li><li>'sample.id'</li><li>'sample.bridgingControl'</li><li>'sample.sampleKitGuid'</li><li>'sample.visitName'</li><li>'sample.visitDetails'</li><li>'sample.drawDate'</li><li>'sample.daysSinceFirstVisit'</li><li>'file.id'</li><li>'file.name'</li><li>'file.batchID'</li><li>'file.panel'</li><li>'file.pool'</li><li>'file.fileType'</li><li>'file.majorVersion'</li><li>'subject.id'</li><li>'subject.biologicalSex'</li><li>'subject.birthYear'</li><li>'subject.ethnicity'</li><li>'subject.partnerCode'</li><li>'subject.race'</li><li>'subject.subjectGuid'</li><li>'cohort.cohortGuid'</li><li>'lab.id'</li><li>'lab.sampleKitGuid'</li><li>'lab.labResults.CMV.Ab.Screen.Index.Value..CMVINX.'</li><li>'lab.labResults.CMV.Ab.Screen.Result..CMVRES.'</li><li>'lab.labResults.Volume'</li><li>'lab.revisionHistory.historicalRevisionNumber'</li><li>'lab.revisionHistory.modifiedDate'</li><li>'lab.revisionHistory.dataHistory.CMV.Ab.Screen.Index.Value..CMVINX..oldValue'</li><li>'lab.revisionHistory.dataHistory.CMV.Ab.Screen.Index.Value..CMVINX..newValue'</li><li>'lab.revisionHistory.dataHistory.CMV.Ab.Screen.Result..CMVRES..oldValue'</li><li>'lab.revisionHistory.dataHistory.CMV.Ab.Screen.Result..CMVRES..newValue'</li><li>'lab.revisionHistory.dataHistory.Volume.oldValue'</li><li>'lab.revisionHistory.dataHistory.Volume.newValue'</li><li>'lab.revisionNumber'</li><li>'ageAtEnrollment'</li><li>'Ages'</li></ol>\n"
      ],
      "text/latex": [
       "\\begin{enumerate*}\n",
       "\\item 'AIFI\\_L3'\n",
       "\\item 'pbmc\\_sample\\_id'\n",
       "\\item 'NMF0\\_Cytotoxic'\n",
       "\\item 'NMF11\\_Th1'\n",
       "\\item 'NMF2\\_Th17'\n",
       "\\item 'NMF5\\_Th2'\n",
       "\\item 'NMF6\\_Tfh'\n",
       "\\item 'NMF8\\_Cent\\_Mem'\n",
       "\\item 'X'\n",
       "\\item 'lastUpdated'\n",
       "\\item 'labLastModified'\n",
       "\\item 'sample.id'\n",
       "\\item 'sample.bridgingControl'\n",
       "\\item 'sample.sampleKitGuid'\n",
       "\\item 'sample.visitName'\n",
       "\\item 'sample.visitDetails'\n",
       "\\item 'sample.drawDate'\n",
       "\\item 'sample.daysSinceFirstVisit'\n",
       "\\item 'file.id'\n",
       "\\item 'file.name'\n",
       "\\item 'file.batchID'\n",
       "\\item 'file.panel'\n",
       "\\item 'file.pool'\n",
       "\\item 'file.fileType'\n",
       "\\item 'file.majorVersion'\n",
       "\\item 'subject.id'\n",
       "\\item 'subject.biologicalSex'\n",
       "\\item 'subject.birthYear'\n",
       "\\item 'subject.ethnicity'\n",
       "\\item 'subject.partnerCode'\n",
       "\\item 'subject.race'\n",
       "\\item 'subject.subjectGuid'\n",
       "\\item 'cohort.cohortGuid'\n",
       "\\item 'lab.id'\n",
       "\\item 'lab.sampleKitGuid'\n",
       "\\item 'lab.labResults.CMV.Ab.Screen.Index.Value..CMVINX.'\n",
       "\\item 'lab.labResults.CMV.Ab.Screen.Result..CMVRES.'\n",
       "\\item 'lab.labResults.Volume'\n",
       "\\item 'lab.revisionHistory.historicalRevisionNumber'\n",
       "\\item 'lab.revisionHistory.modifiedDate'\n",
       "\\item 'lab.revisionHistory.dataHistory.CMV.Ab.Screen.Index.Value..CMVINX..oldValue'\n",
       "\\item 'lab.revisionHistory.dataHistory.CMV.Ab.Screen.Index.Value..CMVINX..newValue'\n",
       "\\item 'lab.revisionHistory.dataHistory.CMV.Ab.Screen.Result..CMVRES..oldValue'\n",
       "\\item 'lab.revisionHistory.dataHistory.CMV.Ab.Screen.Result..CMVRES..newValue'\n",
       "\\item 'lab.revisionHistory.dataHistory.Volume.oldValue'\n",
       "\\item 'lab.revisionHistory.dataHistory.Volume.newValue'\n",
       "\\item 'lab.revisionNumber'\n",
       "\\item 'ageAtEnrollment'\n",
       "\\item 'Ages'\n",
       "\\end{enumerate*}\n"
      ],
      "text/markdown": [
       "1. 'AIFI_L3'\n",
       "2. 'pbmc_sample_id'\n",
       "3. 'NMF0_Cytotoxic'\n",
       "4. 'NMF11_Th1'\n",
       "5. 'NMF2_Th17'\n",
       "6. 'NMF5_Th2'\n",
       "7. 'NMF6_Tfh'\n",
       "8. 'NMF8_Cent_Mem'\n",
       "9. 'X'\n",
       "10. 'lastUpdated'\n",
       "11. 'labLastModified'\n",
       "12. 'sample.id'\n",
       "13. 'sample.bridgingControl'\n",
       "14. 'sample.sampleKitGuid'\n",
       "15. 'sample.visitName'\n",
       "16. 'sample.visitDetails'\n",
       "17. 'sample.drawDate'\n",
       "18. 'sample.daysSinceFirstVisit'\n",
       "19. 'file.id'\n",
       "20. 'file.name'\n",
       "21. 'file.batchID'\n",
       "22. 'file.panel'\n",
       "23. 'file.pool'\n",
       "24. 'file.fileType'\n",
       "25. 'file.majorVersion'\n",
       "26. 'subject.id'\n",
       "27. 'subject.biologicalSex'\n",
       "28. 'subject.birthYear'\n",
       "29. 'subject.ethnicity'\n",
       "30. 'subject.partnerCode'\n",
       "31. 'subject.race'\n",
       "32. 'subject.subjectGuid'\n",
       "33. 'cohort.cohortGuid'\n",
       "34. 'lab.id'\n",
       "35. 'lab.sampleKitGuid'\n",
       "36. 'lab.labResults.CMV.Ab.Screen.Index.Value..CMVINX.'\n",
       "37. 'lab.labResults.CMV.Ab.Screen.Result..CMVRES.'\n",
       "38. 'lab.labResults.Volume'\n",
       "39. 'lab.revisionHistory.historicalRevisionNumber'\n",
       "40. 'lab.revisionHistory.modifiedDate'\n",
       "41. 'lab.revisionHistory.dataHistory.CMV.Ab.Screen.Index.Value..CMVINX..oldValue'\n",
       "42. 'lab.revisionHistory.dataHistory.CMV.Ab.Screen.Index.Value..CMVINX..newValue'\n",
       "43. 'lab.revisionHistory.dataHistory.CMV.Ab.Screen.Result..CMVRES..oldValue'\n",
       "44. 'lab.revisionHistory.dataHistory.CMV.Ab.Screen.Result..CMVRES..newValue'\n",
       "45. 'lab.revisionHistory.dataHistory.Volume.oldValue'\n",
       "46. 'lab.revisionHistory.dataHistory.Volume.newValue'\n",
       "47. 'lab.revisionNumber'\n",
       "48. 'ageAtEnrollment'\n",
       "49. 'Ages'\n",
       "\n",
       "\n"
      ],
      "text/plain": [
       " [1] \"AIFI_L3\"                                                                    \n",
       " [2] \"pbmc_sample_id\"                                                             \n",
       " [3] \"NMF0_Cytotoxic\"                                                             \n",
       " [4] \"NMF11_Th1\"                                                                  \n",
       " [5] \"NMF2_Th17\"                                                                  \n",
       " [6] \"NMF5_Th2\"                                                                   \n",
       " [7] \"NMF6_Tfh\"                                                                   \n",
       " [8] \"NMF8_Cent_Mem\"                                                              \n",
       " [9] \"X\"                                                                          \n",
       "[10] \"lastUpdated\"                                                                \n",
       "[11] \"labLastModified\"                                                            \n",
       "[12] \"sample.id\"                                                                  \n",
       "[13] \"sample.bridgingControl\"                                                     \n",
       "[14] \"sample.sampleKitGuid\"                                                       \n",
       "[15] \"sample.visitName\"                                                           \n",
       "[16] \"sample.visitDetails\"                                                        \n",
       "[17] \"sample.drawDate\"                                                            \n",
       "[18] \"sample.daysSinceFirstVisit\"                                                 \n",
       "[19] \"file.id\"                                                                    \n",
       "[20] \"file.name\"                                                                  \n",
       "[21] \"file.batchID\"                                                               \n",
       "[22] \"file.panel\"                                                                 \n",
       "[23] \"file.pool\"                                                                  \n",
       "[24] \"file.fileType\"                                                              \n",
       "[25] \"file.majorVersion\"                                                          \n",
       "[26] \"subject.id\"                                                                 \n",
       "[27] \"subject.biologicalSex\"                                                      \n",
       "[28] \"subject.birthYear\"                                                          \n",
       "[29] \"subject.ethnicity\"                                                          \n",
       "[30] \"subject.partnerCode\"                                                        \n",
       "[31] \"subject.race\"                                                               \n",
       "[32] \"subject.subjectGuid\"                                                        \n",
       "[33] \"cohort.cohortGuid\"                                                          \n",
       "[34] \"lab.id\"                                                                     \n",
       "[35] \"lab.sampleKitGuid\"                                                          \n",
       "[36] \"lab.labResults.CMV.Ab.Screen.Index.Value..CMVINX.\"                          \n",
       "[37] \"lab.labResults.CMV.Ab.Screen.Result..CMVRES.\"                               \n",
       "[38] \"lab.labResults.Volume\"                                                      \n",
       "[39] \"lab.revisionHistory.historicalRevisionNumber\"                               \n",
       "[40] \"lab.revisionHistory.modifiedDate\"                                           \n",
       "[41] \"lab.revisionHistory.dataHistory.CMV.Ab.Screen.Index.Value..CMVINX..oldValue\"\n",
       "[42] \"lab.revisionHistory.dataHistory.CMV.Ab.Screen.Index.Value..CMVINX..newValue\"\n",
       "[43] \"lab.revisionHistory.dataHistory.CMV.Ab.Screen.Result..CMVRES..oldValue\"     \n",
       "[44] \"lab.revisionHistory.dataHistory.CMV.Ab.Screen.Result..CMVRES..newValue\"     \n",
       "[45] \"lab.revisionHistory.dataHistory.Volume.oldValue\"                            \n",
       "[46] \"lab.revisionHistory.dataHistory.Volume.newValue\"                            \n",
       "[47] \"lab.revisionNumber\"                                                         \n",
       "[48] \"ageAtEnrollment\"                                                            \n",
       "[49] \"Ages\"                                                                       "
      ]
     },
     "metadata": {},
     "output_type": "display_data"
    }
   ],
   "source": [
    "colnames(df_median)"
   ]
  },
  {
   "cell_type": "code",
   "execution_count": 51,
   "id": "167e2495-1bbd-434e-86ee-90f002c8af55",
   "metadata": {},
   "outputs": [
    {
     "data": {
      "image/png": "[encoded data removed]",
      "text/plain": [
       "plot without title"
      ]
     },
     "metadata": {
      "image/png": {
       "height": 236.2205,
       "width": 236.2205
      }
     },
     "output_type": "display_data"
    }
   ],
   "source": [
    "options(repr.plot.width = 100/25.4, repr.plot.height = 100/25.4)\n",
    "#USE THIS ONE!\n",
    "\n",
    "p <- ggtern(data = df_median %>%\n",
    "              ungroup() %>%\n",
    "              filter(AIFI_L3 == 'CM CD4 T cell') %>% arrange(desc(NMF5_Th2)),\n",
    "            aes(NMF5_Th2, NMF11_Th1, NMF2_Th17,\n",
    "                color = Ages,\n",
    "                fill = Ages)) +\n",
    "  geom_point(size = 0.6, shape = 21, alpha=0.7,stroke = 0.03, color = 'black') +  # Use shape=21 with stroke for black border\n",
    "  theme_rgbw(base_size = 6) +\n",
    "  labs(x = \"Th2\", y = \"Th1\", z = \"Th17\") +\n",
    "  scale_T_continuous(limits = c(0, 1)) +\n",
    "  scale_L_continuous(limits = c(0, 1)) +\n",
    "  scale_R_continuous(limits = c(0, 1)) +\n",
    "  scale_color_distiller(palette = \"Spectral\", direction = -1) +  # Use RdYlBu for color\n",
    "  scale_fill_distiller(palette = \"Spectral\", direction = -1) +   # Use RdYlBu for fill\n",
    "  theme(\n",
    "    tern.panel.grid.major = element_line(linewidth = 0.2),\n",
    "    tern.axis.line = element_line(linewidth = 0.2),,\n",
    "     tern.axis.arrow = element_line(size = 1)\n",
    "  )\n",
    "\n",
    "p\n",
    "ggsave(\"Figure-6I.pdf\",p, width=100/25.4,height = 100/25.4)"
   ]
  },
  {
   "cell_type": "code",
   "execution_count": null,
   "id": "ce04ab8f-83e8-4e9a-91b1-7d7c4aa8ad5d",
   "metadata": {},
   "outputs": [],
   "source": []
  }
 ],
 "metadata": {
  "kernelspec": {
   "display_name": "R 4",
   "language": "R",
   "name": "ir4"
  },
  "language_info": {
   "codemirror_mode": "r",
   "file_extension": ".r",
   "mimetype": "text/x-r-source",
   "name": "R",
   "pygments_lexer": "r",
   "version": "4.3.2"
  }
 },
 "nbformat": 4,
 "nbformat_minor": 5
}
