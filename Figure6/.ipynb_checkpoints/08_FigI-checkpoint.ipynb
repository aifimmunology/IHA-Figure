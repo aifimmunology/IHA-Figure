{
 "cells": [
  {
   "cell_type": "code",
   "execution_count": 1,
   "id": "00ef71db-a184-493b-bb4a-5338829650dc",
   "metadata": {},
   "outputs": [
    {
     "name": "stderr",
     "output_type": "stream",
     "text": [
      "\n",
      "Attaching package: ‘ggpubr’\n",
      "\n",
      "\n",
      "The following object is masked from ‘package:plyr’:\n",
      "\n",
      "    mutate\n",
      "\n",
      "\n",
      "Loading required package: viridisLite\n",
      "\n",
      "\n",
      "Attaching package: ‘scales’\n",
      "\n",
      "\n",
      "The following object is masked from ‘package:viridis’:\n",
      "\n",
      "    viridis_pal\n",
      "\n",
      "\n",
      "\n",
      "Attaching package: ‘rstatix’\n",
      "\n",
      "\n",
      "The following objects are masked from ‘package:plyr’:\n",
      "\n",
      "    desc, mutate\n",
      "\n",
      "\n",
      "The following object is masked from ‘package:stats’:\n",
      "\n",
      "    filter\n",
      "\n",
      "\n"
     ]
    }
   ],
   "source": [
    "suppressPackageStartupMessages(library(plyr))\n",
    "suppressPackageStartupMessages(library(dplyr))\n",
    "suppressPackageStartupMessages(library(tidyr))\n",
    "suppressPackageStartupMessages(library(tibble))\n",
    "library(ggplot2)\n",
    "library(\"ggpubr\")\n",
    "library(viridis)\n",
    "library(scales)\n",
    "library(rstatix)\n",
    "\n",
    "library(RColorBrewer)"
   ]
  },
  {
   "cell_type": "code",
   "execution_count": 2,
   "id": "5f0ec892-7d6e-4748-9e29-ef3a484885cd",
   "metadata": {},
   "outputs": [],
   "source": [
    "is_dark_color <- function(hex) {\n",
    "  rgb <- col2rgb(hex)\n",
    "  \n",
    "  luminance <- 0.299 * rgb[1,] + 0.587 * rgb[2,] + 0.114 * rgb[3,]\n",
    "  if(luminance < 128){\n",
    "  return('white')\n",
    "  }else{return('black')}\n",
    "}"
   ]
  },
  {
   "cell_type": "code",
   "execution_count": 3,
   "id": "3ff8375c-c61d-47ec-be9e-d96184246bbd",
   "metadata": {},
   "outputs": [],
   "source": [
    "\n",
    "color_annotation <- read.csv('../Color_hex_codes/Cell_Type_Color_Annotation_and_Order.csv')\n",
    "color_vector <- setNames(color_annotation$color, color_annotation$label)"
   ]
  },
  {
   "cell_type": "code",
   "execution_count": 4,
   "id": "f3c6be87-a20a-4cf7-b157-1d62b8d886ec",
   "metadata": {},
   "outputs": [],
   "source": [
    "meta_data=read.csv(\"/home/jupyter/BRI_Figures_Final_V2/Dataset/scRNA_meta_data-2024-05-09.csv\")\n",
    "meta_data_subset<-meta_data %>% filter(Covid_exclusion=='no',\n",
    "                                       sample.visitName%in% c('Flu Year 1 Day 0'))\n",
    "meta_data_subset<-meta_data_subset %>% mutate(`Age Group`=case_when(cohort.cohortGuid==\"BR1\"~\"Young\", TRUE~'Older'))\n",
    "meta_data_subset$`Age Group`<-factor(meta_data_subset$`Age Group`,levels=c(\"Young\",\"Older\"))"
   ]
  },
  {
   "cell_type": "markdown",
   "id": "3691adf8-566e-4d8b-be63-a2b80ee18331",
   "metadata": {},
   "source": [
    "# Read NMF score for Year 1 Day 0 Samples"
   ]
  },
  {
   "cell_type": "code",
   "execution_count": 5,
   "id": "63141bb3-268c-47f0-8477-7ddc78a7d053",
   "metadata": {},
   "outputs": [],
   "source": [
    "df<-read.csv(\"02_NMF_CD4_T_cell_Projection/NMF_Scores_Y1D0_BRI.csv\")"
   ]
  },
  {
   "cell_type": "code",
   "execution_count": 6,
   "id": "c150be58-bec1-4456-936f-cbc52c31214c",
   "metadata": {},
   "outputs": [],
   "source": [
    "df<-df %>% filter(NMF_Scores %in% c('NMF0_Cytotoxic', 'NMF2_Th17',  \n",
    "                                                    'NMF5_Th2', 'NMF6_Tfh',  \n",
    "                                                    'NMF8_Cent_Mem', 'NMF11_Th1'))%>% \n",
    "                           filter(AIFI_L3 %in% c('CM CD4 T cell',\n",
    " 'GZMB- CD27+ EM CD4 T cell',\n",
    " 'KLRF1- GZMB+ CD27- memory CD4 T cell',\n",
    " 'GZMB- CD27- EM CD4 T cell'))"
   ]
  },
  {
   "cell_type": "code",
   "execution_count": 7,
   "id": "4dc85386-970d-4d02-9c90-07798b4f44b8",
   "metadata": {},
   "outputs": [
    {
     "name": "stderr",
     "output_type": "stream",
     "text": [
      "\u001b[1m\u001b[22m`summarise()` has grouped output by 'AIFI_L3', 'pbmc_sample_id'. You can\n",
      "override using the `.groups` argument.\n"
     ]
    }
   ],
   "source": [
    "df_median<-df %>%\n",
    "  group_by(AIFI_L3, pbmc_sample_id,NMF_Scores) %>%\n",
    "  summarise(AverageScore_median = median(AverageScore, na.rm = TRUE)) %>%\n",
    "  spread(NMF_Scores, AverageScore_median) "
   ]
  },
  {
   "cell_type": "code",
   "execution_count": 8,
   "id": "0f4103d4-5445-4e87-8664-c72554badd20",
   "metadata": {},
   "outputs": [],
   "source": [
    "df<-left_join(df_median,meta_data_subset,by=c('pbmc_sample_id'))"
   ]
  },
  {
   "cell_type": "code",
   "execution_count": 11,
   "id": "5e889450-307e-4573-a27e-36c46b8c3a4f",
   "metadata": {},
   "outputs": [
    {
     "name": "stderr",
     "output_type": "stream",
     "text": [
      "Installing package into ‘/home/jupyter/libb’\n",
      "(as ‘lib’ is unspecified)\n",
      "\n"
     ]
    }
   ],
   "source": [
    "install.packages('ggbreak')"
   ]
  },
  {
   "cell_type": "code",
   "execution_count": 12,
   "id": "87e0b1fc-d6b4-4d60-90ec-bb08ea30c6f5",
   "metadata": {},
   "outputs": [
    {
     "name": "stderr",
     "output_type": "stream",
     "text": [
      "\u001b[90mggbreak v0.1.2\n",
      "\n",
      "If you use ggbreak in published research, please cite the following\n",
      "paper:\n",
      "\n",
      "S Xu, M Chen, T Feng, L Zhan, L Zhou, G Yu. Use ggbreak to effectively\n",
      "utilize plotting space to deal with large datasets and outliers.\n",
      "Frontiers in Genetics. 2021, 12:774846. doi: 10.3389/fgene.2021.774846\n",
      "\u001b[39m\n",
      "\n"
     ]
    }
   ],
   "source": [
    "library(ggbreak)\n"
   ]
  },
  {
   "cell_type": "code",
   "execution_count": 35,
   "id": "3fc55904-de36-487a-8d92-63ba9e396128",
   "metadata": {},
   "outputs": [
    {
     "data": {
      "image/png": "[encoded data removed]",
      "text/plain": [
       "plot without title"
      ]
     },
     "metadata": {
      "image/png": {
       "height": 141.7323,
       "width": 118.1102
      }
     },
     "output_type": "display_data"
    }
   ],
   "source": [
    "options(repr.plot.width = 50/25.4, repr.plot.height = 60/25.4)\n",
    "\n",
    "ggplot(df %>% filter(AIFI_L3==\"CM CD4 T cell\"), aes(x=`Age Group`, y=NMF5_Th2, fill=`Age Group`)) +\n",
    "geom_point(position = position_jitter(width = 0.2),color=\"black\", size=0.8,stroke=0) +\n",
    "theme_classic(base_size=6) +\n",
    "scale_y_break(breaks=c(0.01))"
   ]
  },
  {
   "cell_type": "code",
   "execution_count": 24,
   "id": "c8c5df46-3da9-4eb1-b7ed-69bebb59d1d1",
   "metadata": {},
   "outputs": [
    {
     "data": {
      "image/png": "[encoded data removed]",
      "text/plain": [
       "plot without title"
      ]
     },
     "metadata": {
      "image/png": {
       "height": 141.7323,
       "width": 59.0551
      }
     },
     "output_type": "display_data"
    }
   ],
   "source": [
    "options(repr.plot.width = 25/25.4, repr.plot.height = 60/25.4)\n",
    "\n",
    "p<-ggplot(df %>% filter(AIFI_L3==\"CM CD4 T cell\"), aes(x=`Age Group`, y=NMF5_Th2, fill=`Age Group`)) +\n",
    "    geom_boxplot(outlier.shape = NA,lwd=0.3) +\n",
    "geom_point(position = position_jitter(width = 0.2),color=\"black\", size=0.8,stroke=0) +\n",
    "theme_classic(base_size=6) +\n",
    "scale_y_break(breaks=c(0.05)) +  \n",
    "stat_compare_means(aes(label = paste0(\"p = \", after_stat(p.format))),\n",
    "    size=2,\n",
    "    label.x=1.25,  \n",
    "    vjust = -2)+theme(strip.background = element_rect(linewidth = 0))+\n",
    "    scale_fill_manual(values = c(\"Older\" = '#bf812d', \"Young\" = '#35978f'))+\n",
    "    scale_y_continuous(limits = c(NA, NA), \n",
    "                       expand = expansion(mult = c(0.05, 0.1)))+\n",
    "theme(legend.position=\"none\")+\n",
    "xlab('')+\n",
    "ylab('Th2 Score')+\n",
    "facet_wrap(~AIFI_L3,  scale='free_y')\n",
    "\n",
    "g <- ggplot_gtable(ggplot_build(p))\n",
    "\n",
    "strips <- which(grepl('strip-', g$layout$name))\n",
    "\n",
    "pal <- color_vector['CM CD4 T cell']\n",
    "text_color <- sapply(color_vector['CM CD4 T cell'], is_dark_color)\n",
    "\n",
    "for (i in seq_along(strips)) {\n",
    "  k <- which(grepl('rect', g$grobs[[strips[i]]]$grobs[[1]]$childrenOrder))\n",
    "  l <- which(grepl('titleGrob', g$grobs[[strips[i]]]$grobs[[1]]$childrenOrder))\n",
    "  g$grobs[[strips[i]]]$grobs[[1]]$children[[k]]$gp$fill <-  adjustcolor(pal[i], alpha.f = 0.8)\n",
    "  g$grobs[[strips[i]]]$grobs[[1]]$children[[l]]$children[[1]]$gp$col <- text_color[i]\n",
    "}\n",
    "\n",
    "plot(g)\n",
    "\n",
    "ggsave('FigureI.pdf',g,width = 25/25.4,height = 45/25.4)"
   ]
  },
  {
   "cell_type": "code",
   "execution_count": null,
   "id": "a26875f2-b92e-4032-a967-45199b50125c",
   "metadata": {},
   "outputs": [],
   "source": []
  }
 ],
 "metadata": {
  "kernelspec": {
   "display_name": "R 4",
   "language": "R",
   "name": "ir4"
  },
  "language_info": {
   "codemirror_mode": "r",
   "file_extension": ".r",
   "mimetype": "text/x-r-source",
   "name": "R",
   "pygments_lexer": "r",
   "version": "4.3.2"
  }
 },
 "nbformat": 4,
 "nbformat_minor": 5
}
