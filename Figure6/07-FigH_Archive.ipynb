{
 "cells": [
  {
   "cell_type": "code",
   "execution_count": 1,
   "id": "f26a4d90-b906-480f-a9c3-bad4f5f21637",
   "metadata": {},
   "outputs": [
    {
     "name": "stderr",
     "output_type": "stream",
     "text": [
      "\n",
      "Attaching package: ‘ggpubr’\n",
      "\n",
      "\n",
      "The following object is masked from ‘package:plyr’:\n",
      "\n",
      "    mutate\n",
      "\n",
      "\n"
     ]
    }
   ],
   "source": [
    "suppressPackageStartupMessages(library(plyr))\n",
    "suppressPackageStartupMessages(library(dplyr))\n",
    "suppressPackageStartupMessages(library(tidyr))\n",
    "suppressPackageStartupMessages(library(tibble))\n",
    "library(ggplot2)\n",
    "library(ggpubr)\n",
    "library(ggExtra)"
   ]
  },
  {
   "cell_type": "markdown",
   "id": "df656d74-bcf8-4d60-a3e1-20a6a8e2642b",
   "metadata": {},
   "source": [
    "# Get GATA3 Motif Score"
   ]
  },
  {
   "cell_type": "code",
   "execution_count": 2,
   "id": "b9df7138-afcd-4384-a49f-2ecd41c805d1",
   "metadata": {},
   "outputs": [],
   "source": [
    "meta_data<-read.csv('03_TEAseq_PenSenior/meta_data_GEO.csv')\n",
    "meta_data<-meta_data[c('combined_sample_id','subject_id.ch1')]\n",
    "colnames(meta_data)[1]<-'Sample'\n",
    "\n",
    "df<-read.csv('03_TEAseq_PenSenior/Motif_Mean_Score.csv')"
   ]
  },
  {
   "cell_type": "code",
   "execution_count": 3,
   "id": "bb9e0acf-17e5-4c61-9cc6-7820cb7c11f2",
   "metadata": {},
   "outputs": [],
   "source": [
    "df<-df %>% filter(AIFI_L3=='CM CD4 T cell') \n",
    "df_filtered<-df[grepl('Sample|GATA3',colnames(df))]"
   ]
  },
  {
   "cell_type": "code",
   "execution_count": 4,
   "id": "14dfef78-1500-4dd4-bf91-34b55e637f08",
   "metadata": {},
   "outputs": [
    {
     "name": "stderr",
     "output_type": "stream",
     "text": [
      "\u001b[1m\u001b[22mJoining with `by = join_by(Sample)`\n"
     ]
    }
   ],
   "source": [
    "Motif_Score_mean <- df_filtered %>%\n",
    "  left_join(meta_data) %>%\n",
    "  mutate('Age Group' = case_when(\n",
    "    startsWith(subject_id.ch1, \"BR2\") ~ \"Older\",\n",
    "    TRUE ~ 'Childern' \n",
    "  ))"
   ]
  },
  {
   "cell_type": "code",
   "execution_count": null,
   "id": "9ac8e397-ccc1-45fa-9439-c27b613ad871",
   "metadata": {},
   "outputs": [],
   "source": []
  },
  {
   "cell_type": "code",
   "execution_count": 5,
   "id": "8d719e15-6ed6-42a0-9934-ff8f377719e6",
   "metadata": {},
   "outputs": [],
   "source": [
    "#Motif_Score_mean$Variable<-gsub(\"motif_\",\"\",Motif_Score_mean$Variable)\n",
    "Motif_Score_mean$pbmc_sample_id<- sub(\".*_\", \"\", Motif_Score_mean$Sample)\n"
   ]
  },
  {
   "cell_type": "markdown",
   "id": "f9ba23bc-5f90-4b7a-953d-0b84293d7b29",
   "metadata": {},
   "source": [
    "# Get Th2 Score"
   ]
  },
  {
   "cell_type": "code",
   "execution_count": 6,
   "id": "584b919f-ac0e-4de1-98ba-caf095ede8f3",
   "metadata": {},
   "outputs": [],
   "source": [
    "NMF_Score<-read.csv('03_TEAseq_PenSenior/NMF_Score_CD4_T.csv')"
   ]
  },
  {
   "cell_type": "code",
   "execution_count": 7,
   "id": "b5c65a77-240f-49cf-b24a-337a0c1fdb84",
   "metadata": {},
   "outputs": [],
   "source": [
    "NMF_Score_mean<-NMF_Score%>%\n",
    "  group_by(pbmc_sample_id, AIFI_L3) %>%\n",
    "  dplyr::summarise(across(contains(\"NMF\"), ~ mean(as.numeric(.), na.rm = TRUE), \n",
    "                          .names = \"{col}\"), .groups = 'drop')"
   ]
  },
  {
   "cell_type": "code",
   "execution_count": 8,
   "id": "22d7fd41-7e63-4bf7-b756-740e1c2df0b6",
   "metadata": {},
   "outputs": [],
   "source": [
    "NMF_Score_mean<-NMF_Score_mean %>% filter(AIFI_L3=='CM CD4 T cell')"
   ]
  },
  {
   "cell_type": "markdown",
   "id": "3a292d11-4c2a-4c52-bcf6-e1ed29813d4f",
   "metadata": {},
   "source": [
    "# Combine Th2 Score and GATA3 mofit"
   ]
  },
  {
   "cell_type": "code",
   "execution_count": 9,
   "id": "9dab99e8-fc78-4118-8bd5-9bb9375136f1",
   "metadata": {},
   "outputs": [
    {
     "name": "stderr",
     "output_type": "stream",
     "text": [
      "\u001b[1m\u001b[22mJoining with `by = join_by(pbmc_sample_id)`\n"
     ]
    }
   ],
   "source": [
    "df<-left_join(NMF_Score_mean,Motif_Score_mean)"
   ]
  },
  {
   "cell_type": "code",
   "execution_count": 10,
   "id": "59a4ad10-7a5a-431a-a466-100dfe02942b",
   "metadata": {},
   "outputs": [],
   "source": [
    "df_subset<-df[,grepl('GATA3|Th2|pbmc|Sample|AIFI_L3',colnames(df))]"
   ]
  },
  {
   "cell_type": "code",
   "execution_count": 11,
   "id": "76d0b9f0-f02d-4915-966c-409dfaac518c",
   "metadata": {},
   "outputs": [],
   "source": [
    "df_subset <- left_join(df_subset, meta_data, by = c(\"Sample\" = \"Sample\")) %>%\n",
    "  mutate('Age Group' = case_when(\n",
    "    startsWith(subject_id.ch1, \"BR2\") ~ \"Older\",\n",
    "    TRUE ~ 'Childern' \n",
    "  ))\n"
   ]
  },
  {
   "cell_type": "code",
   "execution_count": 12,
   "id": "a619f193-5a8a-4a28-80cd-d8ebe265f4ef",
   "metadata": {},
   "outputs": [
    {
     "data": {
      "text/html": [
       "<table class=\"dataframe\">\n",
       "<caption>A tibble: 6 × 7</caption>\n",
       "<thead>\n",
       "\t<tr><th scope=col>pbmc_sample_id</th><th scope=col>AIFI_L3</th><th scope=col>NMF5_Th2</th><th scope=col>Sample</th><th scope=col>motif_GATA3_384</th><th scope=col>subject_id.ch1</th><th scope=col>Age Group</th></tr>\n",
       "\t<tr><th scope=col>&lt;chr&gt;</th><th scope=col>&lt;chr&gt;</th><th scope=col>&lt;dbl&gt;</th><th scope=col>&lt;chr&gt;</th><th scope=col>&lt;dbl&gt;</th><th scope=col>&lt;chr&gt;</th><th scope=col>&lt;chr&gt;</th></tr>\n",
       "</thead>\n",
       "<tbody>\n",
       "\t<tr><td>PB00124-02</td><td>CM CD4 T cell</td><td>0.01447445</td><td>GSM6611371_B076-P1_PB00124-02</td><td>-0.04995587</td><td>UP1001</td><td>Childern</td></tr>\n",
       "\t<tr><td>PB00127-02</td><td>CM CD4 T cell</td><td>0.01369823</td><td>GSM6611374_B076-P1_PB00127-02</td><td>-0.06413569</td><td>UP1004</td><td>Childern</td></tr>\n",
       "\t<tr><td>PB00172-02</td><td>CM CD4 T cell</td><td>0.01319003</td><td>GSM6611372_B069-P1_PB00172-02</td><td>-0.07342110</td><td>UP1002</td><td>Childern</td></tr>\n",
       "\t<tr><td>PB00173-02</td><td>CM CD4 T cell</td><td>0.02502390</td><td>GSM6611376_B065-P1_PB00173-02</td><td>-0.02465236</td><td>UP1006</td><td>Childern</td></tr>\n",
       "\t<tr><td>PB00182-02</td><td>CM CD4 T cell</td><td>0.02777926</td><td>GSM6611373_B069-P1_PB00182-02</td><td>-0.04287844</td><td>UP1003</td><td>Childern</td></tr>\n",
       "\t<tr><td>PB00192-02</td><td>CM CD4 T cell</td><td>0.02234688</td><td>GSM6611377_B065-P1_PB00192-02</td><td>-0.06033524</td><td>UP1007</td><td>Childern</td></tr>\n",
       "</tbody>\n",
       "</table>\n"
      ],
      "text/latex": [
       "A tibble: 6 × 7\n",
       "\\begin{tabular}{lllllll}\n",
       " pbmc\\_sample\\_id & AIFI\\_L3 & NMF5\\_Th2 & Sample & motif\\_GATA3\\_384 & subject\\_id.ch1 & Age Group\\\\\n",
       " <chr> & <chr> & <dbl> & <chr> & <dbl> & <chr> & <chr>\\\\\n",
       "\\hline\n",
       "\t PB00124-02 & CM CD4 T cell & 0.01447445 & GSM6611371\\_B076-P1\\_PB00124-02 & -0.04995587 & UP1001 & Childern\\\\\n",
       "\t PB00127-02 & CM CD4 T cell & 0.01369823 & GSM6611374\\_B076-P1\\_PB00127-02 & -0.06413569 & UP1004 & Childern\\\\\n",
       "\t PB00172-02 & CM CD4 T cell & 0.01319003 & GSM6611372\\_B069-P1\\_PB00172-02 & -0.07342110 & UP1002 & Childern\\\\\n",
       "\t PB00173-02 & CM CD4 T cell & 0.02502390 & GSM6611376\\_B065-P1\\_PB00173-02 & -0.02465236 & UP1006 & Childern\\\\\n",
       "\t PB00182-02 & CM CD4 T cell & 0.02777926 & GSM6611373\\_B069-P1\\_PB00182-02 & -0.04287844 & UP1003 & Childern\\\\\n",
       "\t PB00192-02 & CM CD4 T cell & 0.02234688 & GSM6611377\\_B065-P1\\_PB00192-02 & -0.06033524 & UP1007 & Childern\\\\\n",
       "\\end{tabular}\n"
      ],
      "text/markdown": [
       "\n",
       "A tibble: 6 × 7\n",
       "\n",
       "| pbmc_sample_id &lt;chr&gt; | AIFI_L3 &lt;chr&gt; | NMF5_Th2 &lt;dbl&gt; | Sample &lt;chr&gt; | motif_GATA3_384 &lt;dbl&gt; | subject_id.ch1 &lt;chr&gt; | Age Group &lt;chr&gt; |\n",
       "|---|---|---|---|---|---|---|\n",
       "| PB00124-02 | CM CD4 T cell | 0.01447445 | GSM6611371_B076-P1_PB00124-02 | -0.04995587 | UP1001 | Childern |\n",
       "| PB00127-02 | CM CD4 T cell | 0.01369823 | GSM6611374_B076-P1_PB00127-02 | -0.06413569 | UP1004 | Childern |\n",
       "| PB00172-02 | CM CD4 T cell | 0.01319003 | GSM6611372_B069-P1_PB00172-02 | -0.07342110 | UP1002 | Childern |\n",
       "| PB00173-02 | CM CD4 T cell | 0.02502390 | GSM6611376_B065-P1_PB00173-02 | -0.02465236 | UP1006 | Childern |\n",
       "| PB00182-02 | CM CD4 T cell | 0.02777926 | GSM6611373_B069-P1_PB00182-02 | -0.04287844 | UP1003 | Childern |\n",
       "| PB00192-02 | CM CD4 T cell | 0.02234688 | GSM6611377_B065-P1_PB00192-02 | -0.06033524 | UP1007 | Childern |\n",
       "\n"
      ],
      "text/plain": [
       "  pbmc_sample_id AIFI_L3       NMF5_Th2   Sample                       \n",
       "1 PB00124-02     CM CD4 T cell 0.01447445 GSM6611371_B076-P1_PB00124-02\n",
       "2 PB00127-02     CM CD4 T cell 0.01369823 GSM6611374_B076-P1_PB00127-02\n",
       "3 PB00172-02     CM CD4 T cell 0.01319003 GSM6611372_B069-P1_PB00172-02\n",
       "4 PB00173-02     CM CD4 T cell 0.02502390 GSM6611376_B065-P1_PB00173-02\n",
       "5 PB00182-02     CM CD4 T cell 0.02777926 GSM6611373_B069-P1_PB00182-02\n",
       "6 PB00192-02     CM CD4 T cell 0.02234688 GSM6611377_B065-P1_PB00192-02\n",
       "  motif_GATA3_384 subject_id.ch1 Age Group\n",
       "1 -0.04995587     UP1001         Childern \n",
       "2 -0.06413569     UP1004         Childern \n",
       "3 -0.07342110     UP1002         Childern \n",
       "4 -0.02465236     UP1006         Childern \n",
       "5 -0.04287844     UP1003         Childern \n",
       "6 -0.06033524     UP1007         Childern "
      ]
     },
     "metadata": {},
     "output_type": "display_data"
    }
   ],
   "source": [
    "head(df_subset)"
   ]
  },
  {
   "cell_type": "code",
   "execution_count": 22,
   "id": "bb3ab398-ed24-474f-9556-4ce2585c632a",
   "metadata": {},
   "outputs": [
    {
     "name": "stderr",
     "output_type": "stream",
     "text": [
      "\u001b[1m\u001b[22m`geom_smooth()` using formula = 'y ~ x'\n",
      "\u001b[1m\u001b[22m`geom_smooth()` using formula = 'y ~ x'\n"
     ]
    },
    {
     "data": {
      "image/png": "[encoded data removed]",
      "text/plain": [
       "plot without title"
      ]
     },
     "metadata": {
      "image/png": {
       "height": 118.1102,
       "width": 122.8346
      }
     },
     "output_type": "display_data"
    }
   ],
   "source": [
    "options(repr.plot.width = 52/25.4, repr.plot.height =50/25.4)\n",
    "correlation_tests <- df_subset %>%\n",
    "  dplyr::summarise(\n",
    "    correlation = cor(NMF5_Th2, motif_GATA3_384, method = 'spearman'),\n",
    "    p_value = cor.test(NMF5_Th2, motif_GATA3_384, method = 'spearman')$p.value\n",
    "  )\n",
    "p <- ggplot(df_subset) +\n",
    "  geom_point(aes(x = NMF5_Th2, y = motif_GATA3_384, color = `Age Group`),  shape = 16) +  \n",
    "\n",
    "  theme_classic(base_size = 6) +\n",
    "  theme(legend.position = \"none\") + \n",
    "  labs(x = \"Th2 Score\", y = \"GATA3_384 Motif\") +    \n",
    "geom_smooth(aes(x = NMF5_Th2, y = motif_GATA3_384, color = \"black\"),\n",
    "            se=FALSE, method='lm',linewidth=0.2, color='black') +\n",
    "\n",
    "    scale_color_manual(values = c(\"Older\" = '#bf812d', \"Childern\" = '#205B56'))+\n",
    "  geom_text(\n",
    "    data = correlation_tests,\n",
    "    aes(\n",
    "      x = 0.019, y = Inf,\n",
    "      label = paste(\"r =\", round(correlation, 2), \"\\np =\", format.pval(p_value, digits = 2, eps = 0.001)),\n",
    "      hjust = 1.1, vjust = 1.1\n",
    "    ),\n",
    "    inherit.aes = FALSE,\n",
    "    size = 2,\n",
    "    color = \"blue\"\n",
    "  )\n",
    "p<-ggMarginal(p, type = \"histogram\", groupColour = TRUE, groupFill = TRUE)\n",
    "p\n",
    "ggsave('FigureM.pdf',p,width = 52/25.4,height = 50/25.4)"
   ]
  },
  {
   "cell_type": "code",
   "execution_count": null,
   "id": "7399b117-cc3b-453e-b4a5-8126d73ee221",
   "metadata": {},
   "outputs": [],
   "source": []
  }
 ],
 "metadata": {
  "kernelspec": {
   "display_name": "R 4",
   "language": "R",
   "name": "ir4"
  },
  "language_info": {
   "codemirror_mode": "r",
   "file_extension": ".r",
   "mimetype": "text/x-r-source",
   "name": "R",
   "pygments_lexer": "r",
   "version": "4.3.2"
  }
 },
 "nbformat": 4,
 "nbformat_minor": 5
}
