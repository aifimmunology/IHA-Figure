{
 "cells": [
  {
   "cell_type": "code",
   "execution_count": 1,
   "id": "56f92b07-f265-46e4-aa79-8e6495c309f3",
   "metadata": {},
   "outputs": [],
   "source": [
    "suppressPackageStartupMessages(library(plyr))\n",
    "suppressPackageStartupMessages(library(dplyr))\n",
    "suppressPackageStartupMessages(library(tidyr))\n",
    "suppressPackageStartupMessages(library(tibble))\n",
    "library(parallel)"
   ]
  },
  {
   "cell_type": "code",
   "execution_count": 2,
   "id": "2a66f26c-f041-48d8-bd33-53d9616ce831",
   "metadata": {},
   "outputs": [],
   "source": [
    "meta_data=read.csv(\"/home/jupyter/BRI_Figures_Final_V1/Dataset/SF4_meta_data-2024-05-05.csv\")\n",
    "meta_data$ageAtEnrollment[meta_data$ageAtEnrollment == '89+'] <- '90'\n",
    "meta_data$ageAtEnrollment<-as.numeric(meta_data$ageAtEnrollment)\n",
    "meta_data<-meta_data[!is.na(meta_data$ageAtEnrollment),]\n",
    "meta_data$Ages<-meta_data$ageAtEnrollment"
   ]
  },
  {
   "cell_type": "code",
   "execution_count": 3,
   "id": "086e151d-7c84-404d-9529-ff1b25a5f729",
   "metadata": {},
   "outputs": [],
   "source": [
    "df_list<-mclapply(meta_data$pbmc_sample_id,function(x){\n",
    "df<-read.csv(paste0(\"/home/jupyter/BRI_Figures_Final_V1/Figure6/02_NMF_CD4_T_cell_Projection/NMF_Score_SF4/\",x,\".csv\"))\n",
    "df$pbmc_sample_id=x\n",
    "return(df)\n",
    "},mc.cores=60)"
   ]
  },
  {
   "cell_type": "code",
   "execution_count": 4,
   "id": "696ec9d2-838d-4313-8e43-6db57dbf8eb3",
   "metadata": {},
   "outputs": [],
   "source": [
    "df_combined<-do.call(rbind,df_list)\n",
    "df_combined_longformat<- pivot_longer(df_combined, cols = starts_with(\"NMF\"), names_to = \"NMF_Scores\", values_to = \"value\")"
   ]
  },
  {
   "cell_type": "code",
   "execution_count": 5,
   "id": "a79da11a-8dab-45e0-9dde-82905e87a8cc",
   "metadata": {},
   "outputs": [
    {
     "name": "stderr",
     "output_type": "stream",
     "text": [
      "\u001b[1m\u001b[22m`summarise()` has grouped output by 'pbmc_sample_id', 'NMF_Scores'. You can\n",
      "override using the `.groups` argument.\n"
     ]
    }
   ],
   "source": [
    "df_combined_longformat<-df_combined_longformat %>% group_by(pbmc_sample_id,NMF_Scores,AIFI_L3) %>% summarise(AverageScore=mean(value))"
   ]
  },
  {
   "cell_type": "code",
   "execution_count": 6,
   "id": "3f2ba3ae-74d5-4ec5-a1a7-baa48e6a79d3",
   "metadata": {},
   "outputs": [],
   "source": [
    "df_combined_longformat_filtered<-df_combined_longformat %>% filter(NMF_Scores %in% c('NMF5_Th2','NMF6_Tfh')) %>% filter(AIFI_L3 %in% c('CM CD4 T cell'))"
   ]
  },
  {
   "cell_type": "code",
   "execution_count": 8,
   "id": "af9487b1-4f54-4921-81ae-6323992c0b85",
   "metadata": {},
   "outputs": [
    {
     "name": "stderr",
     "output_type": "stream",
     "text": [
      "\u001b[1m\u001b[22mJoining with `by = join_by(pbmc_sample_id)`\n"
     ]
    }
   ],
   "source": [
    "df<-left_join(df_combined_longformat_filtered,meta_data)"
   ]
  },
  {
   "cell_type": "code",
   "execution_count": 9,
   "id": "f9bd36b5-eaf4-40a8-b83b-2b80c9dce73a",
   "metadata": {},
   "outputs": [],
   "source": [
    "write.csv(df,'Th2_Tfh_Baseline_Samples_SF4.csv')"
   ]
  },
  {
   "cell_type": "code",
   "execution_count": null,
   "id": "608217dd-b192-4d41-862f-52f8af16533d",
   "metadata": {},
   "outputs": [],
   "source": []
  }
 ],
 "metadata": {
  "kernelspec": {
   "display_name": "R 4",
   "language": "R",
   "name": "ir4"
  },
  "language_info": {
   "codemirror_mode": "r",
   "file_extension": ".r",
   "mimetype": "text/x-r-source",
   "name": "R",
   "pygments_lexer": "r",
   "version": "4.3.2"
  }
 },
 "nbformat": 4,
 "nbformat_minor": 5
}
