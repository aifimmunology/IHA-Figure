{
 "cells": [
  {
   "cell_type": "code",
   "execution_count": 23,
   "id": "17367ad9-5c7b-4fec-b8fb-ce4c2fc02acc",
   "metadata": {},
   "outputs": [
    {
     "name": "stderr",
     "output_type": "stream",
     "text": [
      "\n",
      "Attaching package: ‘reshape2’\n",
      "\n",
      "\n",
      "The following object is masked from ‘package:tidyr’:\n",
      "\n",
      "    smiths\n",
      "\n",
      "\n"
     ]
    }
   ],
   "source": [
    "suppressPackageStartupMessages(library(dplyr))\n",
    "suppressPackageStartupMessages(library(tidyr))\n",
    "suppressPackageStartupMessages(library(tibble))\n",
    "suppressPackageStartupMessages(library(stringr))\n",
    "library(parallel)\n",
    "library(reshape2)\n",
    "source('/home//jupyter/BRI_Figures_Final_V1/helper_function/helper_function_IHA.r')"
   ]
  },
  {
   "cell_type": "code",
   "execution_count": 15,
   "id": "ee79ef99-6d84-4f55-b4d9-dbbdbc02cf7d",
   "metadata": {},
   "outputs": [],
   "source": [
    "meta_data=read.csv(\"/home/jupyter/BRI_Figures_Final_V1/Dataset/SF4_meta_data-2024-05-05.csv\")"
   ]
  },
  {
   "cell_type": "code",
   "execution_count": 16,
   "id": "4ae319c9-63b0-42e6-a303-3a4bddb721e4",
   "metadata": {},
   "outputs": [],
   "source": [
    "meta_data$ageAtEnrollment[meta_data$ageAtEnrollment == '89+'] <- '90'\n",
    "meta_data$ageAtEnrollment<-as.numeric(meta_data$ageAtEnrollment)\n",
    "meta_data<-meta_data[!is.na(meta_data$ageAtEnrollment),]\n",
    "meta_data$Ages<-meta_data$ageAtEnrollment"
   ]
  },
  {
   "cell_type": "code",
   "execution_count": 17,
   "id": "56757709-6d5c-4582-b6c2-709d51a10ecd",
   "metadata": {},
   "outputs": [],
   "source": [
    "file_list<-paste0(\"/home/jupyter/BRI_Figures_Final_V1/Dataset/scRNA/SF4/Average_LogNormalized_Expression/Average_LogNormalized_Expression_of_Celltypes_by_Sample_AIFI_L3/\", meta_data$pbmc_sample_id, \".csv\")"
   ]
  },
  {
   "cell_type": "code",
   "execution_count": 18,
   "id": "723dc33b-5674-4a13-acbc-e2b850761c0e",
   "metadata": {},
   "outputs": [
    {
     "name": "stdout",
     "output_type": "stream",
     "text": [
      "[1] \"Total reading time: 14.8319999999999 seconds\"\n",
      "[1] \"The length of the list matches the length of the input path.\"\n"
     ]
    }
   ],
   "source": [
    "df_list<-read_pseudobulk_expression(file_list, mc_cores = 60)"
   ]
  },
  {
   "cell_type": "markdown",
   "id": "55812c5a-c3a6-48c8-95b8-182a8d939cb9",
   "metadata": {},
   "source": [
    "# Subset CXCR5 from CM CD4 T"
   ]
  },
  {
   "cell_type": "code",
   "execution_count": 24,
   "id": "e7c6a111-bc48-414f-a2e7-978020a4095e",
   "metadata": {},
   "outputs": [],
   "source": [
    "exp_long_format <- filter_genes_and_celltype(df_list, 'CXCR5', 'CM CD4 T cell', longformat = TRUE) \n"
   ]
  },
  {
   "cell_type": "code",
   "execution_count": 26,
   "id": "59670214-7070-4736-8235-c0c07402edb8",
   "metadata": {},
   "outputs": [
    {
     "name": "stderr",
     "output_type": "stream",
     "text": [
      "\u001b[1m\u001b[22mJoining with `by = join_by(pbmc_sample_id)`\n"
     ]
    }
   ],
   "source": [
    "exp_long_format<-left_join(exp_long_format,meta_data)"
   ]
  },
  {
   "cell_type": "code",
   "execution_count": 27,
   "id": "d544a5cf-9db4-4573-8450-e981315e7010",
   "metadata": {},
   "outputs": [],
   "source": [
    "write.csv(exp_long_format,'CXCR5_CM_CD4T_SF4.csv')"
   ]
  },
  {
   "cell_type": "code",
   "execution_count": 19,
   "id": "384dc5d5-4b68-463f-aff6-393e693648db",
   "metadata": {},
   "outputs": [],
   "source": [
    "NMF_dict <- fromJSON('NMF_dict_Top20.json')"
   ]
  },
  {
   "cell_type": "code",
   "execution_count": 20,
   "id": "bae92a59-9501-4d0e-9e8c-4f2016f2cece",
   "metadata": {},
   "outputs": [],
   "source": [
    "celltype_list <- lapply(df_list, function(df) { df <- df[NMF_dict[['NMF6_Tfh']][1:20], grep(\"CM CD4 T cell\", names(df), fixed = TRUE),drop=FALSE] })\n",
    "exp_matrix<-do.call(cbind,celltype_list)"
   ]
  },
  {
   "cell_type": "code",
   "execution_count": 8,
   "id": "36a9d51a-390e-433a-9802-eff93bfd0d34",
   "metadata": {},
   "outputs": [],
   "source": [
    "colnames(exp_matrix)<-sub(\":.*\", \"\", colnames(exp_matrix))\n",
    "rownames(meta_data_subset)<-meta_data_subset$pbmc_sample_id\n",
    "write.csv(exp_matrix,'Top20_Gex_Tfh_NMF.csv')"
   ]
  },
  {
   "cell_type": "code",
   "execution_count": null,
   "id": "9db57053-1e8a-48c4-a639-4d70f85dee6c",
   "metadata": {},
   "outputs": [],
   "source": []
  }
 ],
 "metadata": {
  "kernelspec": {
   "display_name": "R 4",
   "language": "R",
   "name": "ir4"
  },
  "language_info": {
   "codemirror_mode": "r",
   "file_extension": ".r",
   "mimetype": "text/x-r-source",
   "name": "R",
   "pygments_lexer": "r",
   "version": "4.3.2"
  }
 },
 "nbformat": 4,
 "nbformat_minor": 5
}
