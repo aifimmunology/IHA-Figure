{
 "cells": [
  {
   "cell_type": "code",
   "execution_count": 1,
   "id": "f9e91cea-3215-43bd-bf80-ef1570c201aa",
   "metadata": {},
   "outputs": [
    {
     "name": "stdout",
     "output_type": "stream",
     "text": [
      "Downloaded 'NMF.W.CD4T.csv.gz'.\n",
      "Unzipped 'NMF.W.CD4T.csv.gz' to 'NMF.W.CD4T.csv'.\n"
     ]
    }
   ],
   "source": [
    "import requests\n",
    "import gzip\n",
    "import shutil\n",
    "\n",
    "url = 'https://github.com/yyoshiaki/NMFprojection/raw/main/data/NMF.W.CD4T.csv.gz'\n",
    "gz_filename = 'NMF.W.CD4T.csv.gz'\n",
    "csv_filename = 'NMF.W.CD4T.csv'\n",
    "\n",
    "# Download the file\n",
    "response = requests.get(url, stream=True)\n",
    "if response.status_code == 200:\n",
    "    with open(gz_filename, 'wb') as file:\n",
    "        file.write(response.content)\n",
    "    print(f\"Downloaded '{gz_filename}'.\")\n",
    "else:\n",
    "    print(f\"Failed to download file. Status code: {response.status_code}\")\n",
    "\n",
    "# Unzip the .gz file\n",
    "with gzip.open(gz_filename, 'rb') as f_in:\n",
    "    with open(csv_filename, 'wb') as f_out:\n",
    "        shutil.copyfileobj(f_in, f_out)\n",
    "    print(f\"Unzipped '{gz_filename}' to '{csv_filename}'.\")\n"
   ]
  },
  {
   "cell_type": "code",
   "execution_count": null,
   "id": "658f2308-677e-4410-a8e7-9da4ceb9ab26",
   "metadata": {},
   "outputs": [],
   "source": []
  }
 ],
 "metadata": {
  "kernelspec": {
   "display_name": "Python [conda env:root] *",
   "language": "python",
   "name": "conda-root-py"
  },
  "language_info": {
   "codemirror_mode": {
    "name": "ipython",
    "version": 3
   },
   "file_extension": ".py",
   "mimetype": "text/x-python",
   "name": "python",
   "nbconvert_exporter": "python",
   "pygments_lexer": "ipython3",
   "version": "3.10.13"
  }
 },
 "nbformat": 4,
 "nbformat_minor": 5
}
