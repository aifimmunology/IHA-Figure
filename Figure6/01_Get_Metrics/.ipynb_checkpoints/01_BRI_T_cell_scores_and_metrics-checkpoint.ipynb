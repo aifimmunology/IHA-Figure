{
 "cells": [
  {
   "cell_type": "code",
   "execution_count": 52,
   "id": "f9ada9e8-e596-422a-850a-30772ddc8d0a",
   "metadata": {
    "scrolled": true
   },
   "outputs": [],
   "source": [
    "suppressPackageStartupMessages(library(dplyr))\n",
    "suppressPackageStartupMessages(library(tidyr))\n",
    "suppressPackageStartupMessages(library(tibble))\n",
    "suppressPackageStartupMessages(library(ggplot2))\n",
    "suppressPackageStartupMessages(library(stringr))\n",
    "library(ggrepel)\n",
    "library(reshape2)\n",
    "library(ggsci)\n",
    "library(rstatix)\n",
    "library(ggpubr)\n",
    "library(data.table)\n",
    "library(ggtern)\n",
    "library(viridis)\n",
    "library(scales)\n",
    "library(RColorBrewer)\n",
    "library(parallel)\n",
    "library(purrr)\n",
    "source('/home//jupyter/BRI_Figures_Final_V1/helper_function/helper_function_IHA.r')"
   ]
  },
  {
   "cell_type": "markdown",
   "id": "157b4ad9-dc4e-408d-9467-7c17bda916fa",
   "metadata": {},
   "source": [
    "# Read Meta Data of Selected Samples"
   ]
  },
  {
   "cell_type": "code",
   "execution_count": 53,
   "id": "9f578aaf-aaa1-49c4-b95a-58e014ab82df",
   "metadata": {},
   "outputs": [],
   "source": [
    "meta_data<-read.csv(\"/home/jupyter/BRI_Figures_Final_V2/Figure5/01_Frequency_Comparison/selected_samples_with_acutal_flu_year.csv\")"
   ]
  },
  {
   "cell_type": "markdown",
   "id": "c385cec9-2309-4e89-886e-82de31c2ac6d",
   "metadata": {},
   "source": [
    "# Flow Tfh Log2Fc"
   ]
  },
  {
   "cell_type": "code",
   "execution_count": 54,
   "id": "11eee789-0e15-4419-956d-be32bbb963b8",
   "metadata": {},
   "outputs": [],
   "source": [
    "freq=read.csv('/home/jupyter/BRI_Figures_Final_V1/Extended-Figure14/01_Flow_Tfh/freq_T.csv')"
   ]
  },
  {
   "cell_type": "code",
   "execution_count": 55,
   "id": "792974b9-9c54-49fc-a353-b8eab18f10b8",
   "metadata": {},
   "outputs": [],
   "source": [
    "last_chars <- sapply(freq$sample.visitName, function(string) {\n",
    "  substr(string, nchar(string), nchar(string))\n",
    "})\n",
    "freq$visit<-paste0(\"Y\",freq$Flu_Year,'-D',last_chars)\n",
    "freq<-freq %>% group_by(sample.sampleKitGuid) %>%     \n",
    "  dplyr::mutate(frequency_clr = clr_transform((frequency))) %>%\n",
    "  dplyr::ungroup()\n"
   ]
  },
  {
   "cell_type": "code",
   "execution_count": 56,
   "id": "59564df9-054a-4be2-bba3-6ebd5ca26ae3",
   "metadata": {},
   "outputs": [],
   "source": [
    "result_pd1pos <- freq %>%\n",
    "  filter(Flu_Year == '2020') %>%\n",
    "  filter(labels %in% c( \"CXCR5+ PD1+ Tfh\")) %>%\n",
    "  group_by(subject.subjectGuid) %>%\n",
    "  summarize(mean_diff = frequency_clr[visit == 'Y2020-D7'] - frequency_clr[visit == 'Y2020-D0']) %>%\n",
    "  ungroup()"
   ]
  },
  {
   "cell_type": "code",
   "execution_count": 57,
   "id": "099261c0-cc59-4f49-834f-4e5f6616c32a",
   "metadata": {},
   "outputs": [],
   "source": [
    "result_pd1neg <- freq %>%\n",
    "  filter(Flu_Year == '2020') %>%\n",
    "  filter(labels %in% c( \"CXCR5+ PD1- Tfh\")) %>%\n",
    "  group_by(subject.subjectGuid) %>%\n",
    "  summarize(mean_diff = frequency_clr[visit == 'Y2020-D7'] - frequency_clr[visit == 'Y2020-D0']) %>%\n",
    "  ungroup()"
   ]
  },
  {
   "cell_type": "code",
   "execution_count": 58,
   "id": "a1c677fd-b5f0-4bd7-9c2d-d8bba1051a71",
   "metadata": {},
   "outputs": [],
   "source": [
    "colnames(result_pd1pos)<-c(\"subject.subjectGuid\",\"flow_Tfh_PD1pos_mean_diff\")\n",
    "colnames(result_pd1neg)<-c(\"subject.subjectGuid\",\"flow_Tfh_PD1neg_mean_diff\")"
   ]
  },
  {
   "cell_type": "code",
   "execution_count": 59,
   "id": "daa1d10f-c2f6-4dfc-bab8-95308b4ad7ed",
   "metadata": {},
   "outputs": [
    {
     "name": "stderr",
     "output_type": "stream",
     "text": [
      "\u001b[1m\u001b[22mJoining with `by = join_by(subject.subjectGuid)`\n"
     ]
    }
   ],
   "source": [
    "flow_variable<-left_join(result_pd1pos,result_pd1neg)"
   ]
  },
  {
   "cell_type": "code",
   "execution_count": null,
   "id": "c8673730-fcfb-42de-92b8-d7b3a28b4799",
   "metadata": {},
   "outputs": [],
   "source": []
  },
  {
   "cell_type": "markdown",
   "id": "aecb44f4-dbe5-43bf-aa0d-51628438e8b0",
   "metadata": {},
   "source": [
    "# Composite Score"
   ]
  },
  {
   "cell_type": "code",
   "execution_count": 60,
   "id": "d4d70fdb-90dc-4f51-98ea-58fc8c78e1f7",
   "metadata": {},
   "outputs": [],
   "source": [
    "meta_data_selected_RNA_subset_D0<-meta_data %>% filter(Flu_Year==\"2020-2021\",sample.visitName\t%in%c(\"Flu Year 1 Day 0\") ) \n",
    "file_list<-paste0(\"/home/jupyter/BRI_Figures_Final_V2/Dataset/scRNA/BRI/Average_LogNormalized_Expression/Average_LogNormalized_Expression_of_Celltypes_by_Sample_AIFI_L3/\", meta_data_selected_RNA_subset_D0$pbmc_sample_id, \".csv\")"
   ]
  },
  {
   "cell_type": "code",
   "execution_count": 61,
   "id": "4ca48ea9-5282-4f3f-9a7d-2a0cd7867b47",
   "metadata": {},
   "outputs": [
    {
     "name": "stdout",
     "output_type": "stream",
     "text": [
      "[1] \"Total reading time: 5.54300000000001 seconds\"\n",
      "[1] \"The length of the list matches the length of the input path.\"\n"
     ]
    }
   ],
   "source": [
    "df_list<-read_pseudobulk_expression(file_list, mc_cores = 60)"
   ]
  },
  {
   "cell_type": "markdown",
   "id": "73099f00-3141-45ff-9363-ad33ede7a5be",
   "metadata": {},
   "source": [
    "### DESEQ2 result"
   ]
  },
  {
   "cell_type": "code",
   "execution_count": 62,
   "id": "fb3fe389-d21a-4188-80c3-6936d00f932f",
   "metadata": {},
   "outputs": [],
   "source": [
    "deseq2_result_Y1D0<-read.csv('/home/jupyter/BRI_Figures_Final_V1/Figure2/02_DEG/Deseq2_Result_Y1D0.csv')"
   ]
  },
  {
   "cell_type": "code",
   "execution_count": 63,
   "id": "05c1ad70-ea7b-4e67-83a1-3d19e532617d",
   "metadata": {},
   "outputs": [],
   "source": [
    "# filter significant genes \n",
    "deseq2_result_Y1D0_AgeGroup_sig<-deseq2_result_Y1D0 %>% \n",
    "  filter(contrast == \"cohort.cohortGuid\") %>%\n",
    "  filter(padj < 0.05,\n",
    "         abs(log2FoldChange) > 0.1)"
   ]
  },
  {
   "cell_type": "markdown",
   "id": "67d7a380-7aaa-4eb9-9d59-d34be6a5d725",
   "metadata": {},
   "source": [
    "### Get Composite Score"
   ]
  },
  {
   "cell_type": "code",
   "execution_count": 64,
   "id": "6f457c14-2a56-4f09-9c5d-5005d5fffbbe",
   "metadata": {},
   "outputs": [],
   "source": [
    "df_degs_counts<-as.data.frame(table(deseq2_result_Y1D0_AgeGroup_sig$celltype,deseq2_result_Y1D0_AgeGroup_sig$Direction))\n",
    "df_degs_counts_filtered<-df_degs_counts %>% arrange(Var1)   %>% filter(Freq>20)"
   ]
  },
  {
   "cell_type": "code",
   "execution_count": 65,
   "id": "a5dfe81e-d6b8-48a1-88f2-8aa77e9e6483",
   "metadata": {},
   "outputs": [],
   "source": [
    "score_df_list<-mclapply(unique(df_degs_counts_filtered$Var1),function(celltype_single){\n",
    "\n",
    "top_n=100\n",
    "Direction_of_DEG=\"HigherInBR2\"\n",
    "selected_genes <- deseq2_result_Y1D0_AgeGroup_sig %>%\n",
    "    filter(celltype == celltype_single,Direction==Direction_of_DEG) %>% \n",
    "    arrange(padj,desc(abs(log2FoldChange))) %>% \n",
    "    slice_head(n=top_n)%>%\n",
    "    select(gene) %>%\n",
    "    pull()\n",
    " \n",
    "long_format <- filter_genes_and_celltype(df_list, \n",
    "                                       selected_genes, \n",
    "                                       celltype_single, \n",
    "                                       longformat = TRUE)\n",
    "long_format <- left_join(long_format, meta_data_selected_RNA_subset_D0)\n",
    "# z scored (optional)\n",
    "long_format<-long_format %>% group_by(Gene) %>% \n",
    "mutate(Z_score_Mean_Expression=scale(Mean_Expression))  %>% \n",
    "                                        ungroup()\n",
    "composite_score_df<-long_format%>% \n",
    "group_by(pbmc_sample_id) %>%\n",
    "  dplyr::summarise(composite_score_sum_mean = sum(Mean_Expression),\n",
    "                   composite_score_sum_scaled_mean = sum(Z_score_Mean_Expression)) %>% as.data.frame() \n",
    "composite_score_df<-left_join(composite_score_df,meta_data_selected_RNA_subset_D0) \n",
    "composite_score_df$celltype<-celltype_single\n",
    "return(composite_score_df)\n",
    "},mc.cores=10)"
   ]
  },
  {
   "cell_type": "code",
   "execution_count": 66,
   "id": "296e4e14-1094-425c-8c94-1ede4d2f8c31",
   "metadata": {},
   "outputs": [],
   "source": [
    "composite_score_df_all<-do.call(rbind,score_df_list)"
   ]
  },
  {
   "cell_type": "code",
   "execution_count": 67,
   "id": "94e8498d-15c1-49a1-98e3-cb0b601da17d",
   "metadata": {},
   "outputs": [],
   "source": [
    "composite_score_df_all<-composite_score_df_all %>% filter (celltype==\"CM CD4 T cell\")"
   ]
  },
  {
   "cell_type": "code",
   "execution_count": 68,
   "id": "7e6410ac-1d3c-4ad7-9783-407567bfdc04",
   "metadata": {},
   "outputs": [],
   "source": [
    "composite_score_variable_Up<-composite_score_df_all[c(\"subject.subjectGuid\",\"composite_score_sum_scaled_mean\")]\n",
    "colnames(composite_score_variable_Up)<-c(\"subject.subjectGuid\",\"Up_composite_score_sum_scaled_mean\")"
   ]
  },
  {
   "cell_type": "code",
   "execution_count": null,
   "id": "4caac33a-f092-4202-a907-448f2aa7ddb4",
   "metadata": {},
   "outputs": [],
   "source": []
  },
  {
   "cell_type": "code",
   "execution_count": 69,
   "id": "27e644a1-360e-4c8b-9682-57c30254a8b9",
   "metadata": {},
   "outputs": [],
   "source": [
    "score_df_list<-mclapply(unique(df_degs_counts_filtered$Var1),function(celltype_single){\n",
    "\n",
    "top_n=100\n",
    "Direction_of_DEG=\"HigherInBR1\"\n",
    "selected_genes <- deseq2_result_Y1D0_AgeGroup_sig %>%\n",
    "    filter(celltype == celltype_single,Direction==Direction_of_DEG) %>% \n",
    "    arrange(padj,desc(abs(log2FoldChange))) %>% \n",
    "    slice_head(n=top_n)%>%\n",
    "    select(gene) %>%\n",
    "    pull()\n",
    " \n",
    "long_format <- filter_genes_and_celltype(df_list, \n",
    "                                       selected_genes, \n",
    "                                       celltype_single, \n",
    "                                       longformat = TRUE)\n",
    "long_format <- left_join(long_format, meta_data_selected_RNA_subset_D0)\n",
    "# z scored (optional)\n",
    "long_format<-long_format %>% group_by(Gene) %>% \n",
    "mutate(Z_score_Mean_Expression=scale(Mean_Expression))  %>% \n",
    "                                        ungroup()\n",
    "composite_score_df<-long_format%>% \n",
    "group_by(pbmc_sample_id) %>%\n",
    "  dplyr::summarise(composite_score_sum_mean = sum(Mean_Expression),\n",
    "                   composite_score_sum_scaled_mean = sum(Z_score_Mean_Expression)) %>% as.data.frame() \n",
    "composite_score_df<-left_join(composite_score_df,meta_data_selected_RNA_subset_D0) \n",
    "composite_score_df$celltype<-celltype_single\n",
    "return(composite_score_df)\n",
    "},mc.cores=10)"
   ]
  },
  {
   "cell_type": "code",
   "execution_count": 70,
   "id": "b03c4558-2d0a-46e0-aab7-a5fa07af90f9",
   "metadata": {},
   "outputs": [],
   "source": [
    "composite_score_df_all<-do.call(rbind,score_df_list)"
   ]
  },
  {
   "cell_type": "code",
   "execution_count": 71,
   "id": "622b8945-a5a0-4235-afd3-df9475318769",
   "metadata": {},
   "outputs": [],
   "source": [
    "composite_score_df_all<-composite_score_df_all %>% filter (celltype==\"CM CD4 T cell\")"
   ]
  },
  {
   "cell_type": "code",
   "execution_count": 72,
   "id": "350e7e35-c54f-4b10-9e38-8cbdffa6a7fc",
   "metadata": {},
   "outputs": [],
   "source": [
    "composite_score_variable_Down<-composite_score_df_all[c(\"subject.subjectGuid\",\"composite_score_sum_scaled_mean\")]\n",
    "colnames(composite_score_variable_Down)<-c(\"subject.subjectGuid\",\"Down_composite_score_sum_scaled_mean\")"
   ]
  },
  {
   "cell_type": "markdown",
   "id": "df09d020-3fca-402b-ac17-d7211bf3f1d8",
   "metadata": {},
   "source": [
    "# NMF scores"
   ]
  },
  {
   "cell_type": "code",
   "execution_count": 73,
   "id": "c5ad741c-66c0-4e7a-8fe1-d66a873afcfc",
   "metadata": {},
   "outputs": [],
   "source": [
    "meta_data_selected_RNA_subset_D0<-meta_data %>% filter(Flu_Year==\"2020-2021\",\n",
    "                                                       sample.visitName\t%in%c(\"Flu Year 1 Day 0\") ) \n",
    "\n",
    "df_list<-mclapply(meta_data_selected_RNA_subset_D0$pbmc_sample_id,function(x){\n",
    "df<-read.csv(paste0(\"/home/jupyter/BRI_Figures_Final_V1/Figure6/02_NMF_CD4_T_cell_Projection/NMF_Score_BRI/\",x,\".csv\"))\n",
    "df$pbmc_sample_id=x\n",
    "return(df)\n",
    "},mc.cores=60)\n"
   ]
  },
  {
   "cell_type": "code",
   "execution_count": 74,
   "id": "8fc3bc1b-f042-419d-9670-ad310beea69a",
   "metadata": {},
   "outputs": [],
   "source": [
    "df_combined<-do.call(rbind,df_list)"
   ]
  },
  {
   "cell_type": "code",
   "execution_count": 75,
   "id": "0c82a0b6-ffbe-4002-a9f5-fb386cd35561",
   "metadata": {},
   "outputs": [],
   "source": [
    "df_combined_longformat<- pivot_longer(df_combined, cols = starts_with(\"NMF\"), names_to = \"NMF_Scores\", values_to = \"value\")"
   ]
  },
  {
   "cell_type": "code",
   "execution_count": 76,
   "id": "ff2eb020-51bf-430d-aebd-56547bd4fb62",
   "metadata": {},
   "outputs": [
    {
     "name": "stderr",
     "output_type": "stream",
     "text": [
      "\u001b[1m\u001b[22m`summarise()` has grouped output by 'pbmc_sample_id', 'NMF_Scores'. You can\n",
      "override using the `.groups` argument.\n"
     ]
    }
   ],
   "source": [
    "df_combined_longformat<-df_combined_longformat %>% group_by(pbmc_sample_id,NMF_Scores,AIFI_L3) %>% summarise(AverageScore=mean(value))"
   ]
  },
  {
   "cell_type": "code",
   "execution_count": 77,
   "id": "ae92213a-2050-492e-bb34-766701dee4ea",
   "metadata": {},
   "outputs": [
    {
     "name": "stderr",
     "output_type": "stream",
     "text": [
      "\u001b[1m\u001b[22mJoining with `by = join_by(pbmc_sample_id)`\n"
     ]
    }
   ],
   "source": [
    "df_combined_longformat<-left_join(df_combined_longformat,meta_data_selected_RNA_subset_D0) %>% ungroup()"
   ]
  },
  {
   "cell_type": "code",
   "execution_count": 78,
   "id": "22a48c20-a780-47e2-bbe3-16bb5140e20a",
   "metadata": {},
   "outputs": [],
   "source": [
    "df_combined_longformat_filtered_TH2<-df_combined_longformat %>% filter(NMF_Scores %in% c('NMF5_Th2'))%>% \n",
    "                           filter(AIFI_L3 %in% c('CM CD4 T cell')) %>% select(subject.subjectGuid,AverageScore) %>% as.data.frame()\n",
    "df_combined_longformat_filtered_Tfh<-df_combined_longformat %>% filter(NMF_Scores %in% c('NMF6_Tfh'))%>% \n",
    "                           filter(AIFI_L3 %in% c('CM CD4 T cell'))%>% select(subject.subjectGuid,AverageScore)%>% as.data.frame()"
   ]
  },
  {
   "cell_type": "code",
   "execution_count": 79,
   "id": "ac08f98f-7735-47f6-83c5-08bbcef68137",
   "metadata": {},
   "outputs": [],
   "source": [
    "colnames(df_combined_longformat_filtered_TH2)<-c(\"subject.subjectGuid\",\"NMF_Th2\")\n",
    "colnames(df_combined_longformat_filtered_Tfh)<-c(\"subject.subjectGuid\",\"NMF_Tfh\")"
   ]
  },
  {
   "cell_type": "code",
   "execution_count": 80,
   "id": "6647d448-0c69-44db-9615-34f10a216840",
   "metadata": {},
   "outputs": [
    {
     "name": "stderr",
     "output_type": "stream",
     "text": [
      "\u001b[1m\u001b[22mJoining with `by = join_by(subject.subjectGuid)`\n"
     ]
    }
   ],
   "source": [
    "nmf_variable<-left_join(df_combined_longformat_filtered_TH2,df_combined_longformat_filtered_Tfh)"
   ]
  },
  {
   "cell_type": "code",
   "execution_count": null,
   "id": "7e45d44a-79e4-46ae-8eed-7cc105e050bf",
   "metadata": {},
   "outputs": [],
   "source": []
  },
  {
   "cell_type": "markdown",
   "id": "266231ff-e7ce-48a2-86b4-e39d3fbcbf31",
   "metadata": {},
   "source": [
    "# cell to cell interaction scores"
   ]
  },
  {
   "cell_type": "code",
   "execution_count": 81,
   "id": "ea07ac8e-2a89-41a1-a6d1-517769b5acd1",
   "metadata": {},
   "outputs": [],
   "source": [
    "meta_data_selected_RNA_subset_D0<-meta_data %>% filter(Flu_Year==\"2020-2021\",sample.visitName\t%in%c(\"Flu Year 1 Day 0\") ) \n"
   ]
  },
  {
   "cell_type": "code",
   "execution_count": 82,
   "id": "80de33bf-eff4-43c8-b0f5-2f2fe5493605",
   "metadata": {},
   "outputs": [],
   "source": [
    "combined_significant_means<-read.csv(\"/home/jupyter/BRI_Figures_Final_V1/Figure6/01_CellPhoneDB/combined_statistical_analysis_significant_means.csv\",check.names = FALSE)"
   ]
  },
  {
   "cell_type": "code",
   "execution_count": 83,
   "id": "92ae8e2c-a064-4e76-88ad-0fc4ed614caf",
   "metadata": {},
   "outputs": [],
   "source": [
    "combined_significant_means_long<-pivot_longer(\n",
    "  combined_significant_means,\n",
    "  cols = matches(\"\\\\|\"), # Select columns with pattern \"|\"\n",
    "  names_to = c(\"variable\"),\n",
    "  values_to = \"mean_interaction\"\n",
    ")"
   ]
  },
  {
   "cell_type": "code",
   "execution_count": 84,
   "id": "e19e514c-fab1-4ed7-8b0f-b2ef7b162b00",
   "metadata": {},
   "outputs": [],
   "source": [
    "combined_significant_means_long<-combined_significant_means_long[!is.na(combined_significant_means_long$mean_interaction),]"
   ]
  },
  {
   "cell_type": "code",
   "execution_count": 85,
   "id": "13536b95-6191-4618-a51b-a4acb3449942",
   "metadata": {},
   "outputs": [],
   "source": [
    "combined_significant_means_long<-combined_significant_means_long %>% filter(pbmc_sample_id%in% meta_data_selected_RNA_subset_D0$pbmc_sample_id)%>% filter(pbmc_sample_id%in% meta_data_selected_RNA_subset_D0$pbmc_sample_id)"
   ]
  },
  {
   "cell_type": "code",
   "execution_count": 86,
   "id": "e756abe8-09a5-46e3-a26f-bbd19ff4d798",
   "metadata": {},
   "outputs": [
    {
     "name": "stderr",
     "output_type": "stream",
     "text": [
      "\u001b[1m\u001b[22mJoining with `by = join_by(pbmc_sample_id)`\n"
     ]
    }
   ],
   "source": [
    "combined_significant_means_long<-left_join(combined_significant_means_long,meta_data_selected_RNA_subset_D0)"
   ]
  },
  {
   "cell_type": "code",
   "execution_count": 87,
   "id": "07a908c8-ce42-4213-b1f9-ba65618ecccd",
   "metadata": {},
   "outputs": [],
   "source": [
    "CD40LG_CD40_MEAN<-combined_significant_means_long %>% filter(interacting_pair==\"CD40LG_CD40\",\n",
    "                                                      variable==\"CM CD4 T cell|Core memory B cell\")%>% \n",
    "select(subject.subjectGuid,mean_interaction)%>% as.data.frame()\n",
    "PTPRC_CD22_MEAN<-combined_significant_means_long %>% filter(interacting_pair==\"PTPRC_CD22\",\n",
    "                                                      variable==\"CM CD4 T cell|Core memory B cell\")%>% \n",
    "select(subject.subjectGuid,mean_interaction)%>% as.data.frame()"
   ]
  },
  {
   "cell_type": "code",
   "execution_count": 88,
   "id": "0e8d68cd-51d1-4edb-90ae-e4279eea3155",
   "metadata": {},
   "outputs": [],
   "source": [
    "colnames(CD40LG_CD40_MEAN)<-c(\"subject.subjectGuid\",\"InteractionScore_CD40LG_CD40\")\n",
    "colnames(PTPRC_CD22_MEAN)<-c(\"subject.subjectGuid\",\"InteractionScore_PTPRC_CD22\")"
   ]
  },
  {
   "cell_type": "code",
   "execution_count": 89,
   "id": "dbc69794-5e7c-4b18-b1d5-c6445454fdd6",
   "metadata": {
    "scrolled": true
   },
   "outputs": [
    {
     "name": "stderr",
     "output_type": "stream",
     "text": [
      "\u001b[1m\u001b[22mJoining with `by = join_by(subject.subjectGuid)`\n"
     ]
    }
   ],
   "source": [
    "c2c_interaction_variable<-left_join(CD40LG_CD40_MEAN,PTPRC_CD22_MEAN)"
   ]
  },
  {
   "cell_type": "code",
   "execution_count": null,
   "id": "179ecf4b-cc50-4774-ad47-c769c54afa96",
   "metadata": {},
   "outputs": [],
   "source": []
  },
  {
   "cell_type": "markdown",
   "id": "b0d5ba59-aec7-45f4-8e07-5fce9f7ffd2e",
   "metadata": {},
   "source": [
    "# Mean Expression"
   ]
  },
  {
   "cell_type": "code",
   "execution_count": 90,
   "id": "993dd3ec-e5cf-40c7-8d4c-4d814a931beb",
   "metadata": {},
   "outputs": [],
   "source": [
    "meta_data_selected_RNA_subset_D0<-meta_data %>% filter(Flu_Year==\"2020-2021\",sample.visitName\t%in%c(\"Flu Year 1 Day 0\") ) \n"
   ]
  },
  {
   "cell_type": "code",
   "execution_count": 91,
   "id": "e2fe7514-9ea6-437a-82a4-8ce058393081",
   "metadata": {},
   "outputs": [
    {
     "name": "stdout",
     "output_type": "stream",
     "text": [
      "[1] \"Total reading time: 7.23699999999997 seconds\"\n",
      "[1] \"The length of the list matches the length of the input path.\"\n"
     ]
    }
   ],
   "source": [
    "aggregated_count_file_list<-paste0(\"/home/jupyter/BRI_Figures_Final_V1/Dataset/scRNA/BRI/Average_LogNormalized_Expression/Average_LogNormalized_Expression_of_Celltypes_by_Sample_AIFI_L3/\",meta_data_selected_RNA_subset_D0$pbmc_sample_id,\".csv\")\n",
    "df_list<-read_pseudobulk_expression(aggregated_count_file_list)"
   ]
  },
  {
   "cell_type": "code",
   "execution_count": 92,
   "id": "2f1fb057-38cc-4ca9-8d89-7218ad119d48",
   "metadata": {},
   "outputs": [],
   "source": [
    "selected_genes<-c(\"CD40LG\",\"CXCR5\")\n"
   ]
  },
  {
   "cell_type": "code",
   "execution_count": 93,
   "id": "7e6c67ca-558a-484f-a064-0c1184c0c482",
   "metadata": {},
   "outputs": [
    {
     "name": "stderr",
     "output_type": "stream",
     "text": [
      "Warning message:\n",
      "“The melt generic in data.table has been passed a data.frame and will attempt to redirect to the relevant reshape2 method; please note that reshape2 is superseded and is no longer actively developed, and this redirection is now deprecated. To continue using melt methods from reshape2 while both libraries are attached, e.g. melt.list, you can prepend the namespace, i.e. reshape2::melt(exp_matrix). In the next version, this warning will become an error.”\n"
     ]
    }
   ],
   "source": [
    "df<-filter_genes_and_celltype(df_list, selected_genes, c('CM CD4 T cell'), longformat = TRUE)\n"
   ]
  },
  {
   "cell_type": "code",
   "execution_count": 94,
   "id": "37e7a057-1dac-497f-807d-6123da09e77f",
   "metadata": {},
   "outputs": [
    {
     "name": "stderr",
     "output_type": "stream",
     "text": [
      "\u001b[1m\u001b[22mJoining with `by = join_by(pbmc_sample_id)`\n"
     ]
    }
   ],
   "source": [
    "df<-left_join(df,meta_data_selected_RNA_subset_D0)"
   ]
  },
  {
   "cell_type": "code",
   "execution_count": 95,
   "id": "2272e2ea-fe67-4230-a224-720e949a635c",
   "metadata": {},
   "outputs": [],
   "source": [
    "expression_CD40LG<-df %>% filter(Gene==\"CD40LG\") %>% \n",
    "select(subject.subjectGuid,Mean_Expression)%>% as.data.frame()\n",
    "\n",
    "expression_CXCR5<-df %>% filter(Gene==\"CXCR5\") %>% \n",
    "select(subject.subjectGuid,Mean_Expression)%>% as.data.frame()"
   ]
  },
  {
   "cell_type": "code",
   "execution_count": 96,
   "id": "f292a85f-7b87-43c5-a7e2-4ca338ed2f3b",
   "metadata": {},
   "outputs": [],
   "source": [
    "colnames(expression_CD40LG)<-c(\"subject.subjectGuid\",\"Mean_Expression_CD40LG\")\n",
    "colnames(expression_CXCR5)<-c(\"subject.subjectGuid\",\"Mean_Expression_CXCR5\")"
   ]
  },
  {
   "cell_type": "code",
   "execution_count": 97,
   "id": "3f704527-408b-4638-bb1b-903948295f43",
   "metadata": {},
   "outputs": [],
   "source": [
    "mean_expression_variable<-reduce(list(expression_CD40LG,expression_CXCR5), full_join, by = \"subject.subjectGuid\")"
   ]
  },
  {
   "cell_type": "markdown",
   "id": "83d9cb0e-34fa-45b2-98e4-cc3519e8c1cb",
   "metadata": {},
   "source": [
    "# Combine all together"
   ]
  },
  {
   "cell_type": "code",
   "execution_count": 98,
   "id": "76fe568c-37a0-4ded-b60a-6f47d96830f6",
   "metadata": {},
   "outputs": [],
   "source": [
    "combined_df <- reduce(list(nmf_variable,\n",
    "                           flow_variable,\n",
    "                           composite_score_variable_Down,\n",
    "                           composite_score_variable_Up,\n",
    "                           c2c_interaction_variable,\n",
    "                           mean_expression_variable), \n",
    "                      left_join, \n",
    "                      by = \"subject.subjectGuid\")"
   ]
  },
  {
   "cell_type": "code",
   "execution_count": null,
   "id": "4d63ee20-ddc6-4093-9f96-b9dc585a1e0c",
   "metadata": {},
   "outputs": [],
   "source": []
  },
  {
   "cell_type": "code",
   "execution_count": 99,
   "id": "47b5c007-553e-4880-b192-b1b51229c413",
   "metadata": {},
   "outputs": [],
   "source": [
    "write.csv(combined_df,\"BRI_Tcell_data_forcorrelation.csv\")"
   ]
  },
  {
   "cell_type": "code",
   "execution_count": null,
   "id": "df030a8e-7716-436d-a85c-a1372a5d299c",
   "metadata": {},
   "outputs": [],
   "source": []
  }
 ],
 "metadata": {
  "kernelspec": {
   "display_name": "R 4",
   "language": "R",
   "name": "ir4"
  },
  "language_info": {
   "codemirror_mode": "r",
   "file_extension": ".r",
   "mimetype": "text/x-r-source",
   "name": "R",
   "pygments_lexer": "r",
   "version": "4.3.2"
  }
 },
 "nbformat": 4,
 "nbformat_minor": 5
}
