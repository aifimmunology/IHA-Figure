{
 "cells": [
  {
   "cell_type": "code",
   "execution_count": 1,
   "id": "f9ada9e8-e596-422a-850a-30772ddc8d0a",
   "metadata": {
    "scrolled": true
   },
   "outputs": [
    {
     "name": "stderr",
     "output_type": "stream",
     "text": [
      "\n",
      "Attaching package: ‘reshape2’\n",
      "\n",
      "\n",
      "The following object is masked from ‘package:tidyr’:\n",
      "\n",
      "    smiths\n",
      "\n",
      "\n",
      "\n",
      "Attaching package: ‘rstatix’\n",
      "\n",
      "\n",
      "The following object is masked from ‘package:stats’:\n",
      "\n",
      "    filter\n",
      "\n",
      "\n",
      "\n",
      "Attaching package: ‘data.table’\n",
      "\n",
      "\n",
      "The following objects are masked from ‘package:reshape2’:\n",
      "\n",
      "    dcast, melt\n",
      "\n",
      "\n",
      "The following objects are masked from ‘package:dplyr’:\n",
      "\n",
      "    between, first, last\n",
      "\n",
      "\n",
      "Registered S3 methods overwritten by 'ggtern':\n",
      "  method           from   \n",
      "  grid.draw.ggplot ggplot2\n",
      "  plot.ggplot      ggplot2\n",
      "  print.ggplot     ggplot2\n",
      "\n",
      "--\n",
      "Remember to cite, run citation(package = 'ggtern') for further info.\n",
      "--\n",
      "\n",
      "\n",
      "Attaching package: ‘ggtern’\n",
      "\n",
      "\n",
      "The following object is masked from ‘package:rstatix’:\n",
      "\n",
      "    mahalanobis_distance\n",
      "\n",
      "\n",
      "The following objects are masked from ‘package:ggplot2’:\n",
      "\n",
      "    aes, annotate, ggplot, ggplot_build, ggplot_gtable, ggplotGrob,\n",
      "    ggsave, layer_data, theme_bw, theme_classic, theme_dark,\n",
      "    theme_gray, theme_light, theme_linedraw, theme_minimal, theme_void\n",
      "\n",
      "\n",
      "Loading required package: viridisLite\n",
      "\n",
      "\n",
      "Attaching package: ‘scales’\n",
      "\n",
      "\n",
      "The following object is masked from ‘package:viridis’:\n",
      "\n",
      "    viridis_pal\n",
      "\n",
      "\n",
      "\n",
      "Attaching package: ‘purrr’\n",
      "\n",
      "\n",
      "The following object is masked from ‘package:scales’:\n",
      "\n",
      "    discard\n",
      "\n",
      "\n",
      "The following object is masked from ‘package:data.table’:\n",
      "\n",
      "    transpose\n",
      "\n",
      "\n"
     ]
    }
   ],
   "source": [
    "suppressPackageStartupMessages(library(dplyr))\n",
    "suppressPackageStartupMessages(library(tidyr))\n",
    "suppressPackageStartupMessages(library(tibble))\n",
    "suppressPackageStartupMessages(library(ggplot2))\n",
    "suppressPackageStartupMessages(library(stringr))\n",
    "library(ggrepel)\n",
    "library(reshape2)\n",
    "library(ggsci)\n",
    "library(rstatix)\n",
    "library(ggpubr)\n",
    "library(data.table)\n",
    "library(ggtern)\n",
    "library(viridis)\n",
    "library(scales)\n",
    "library(RColorBrewer)\n",
    "library(parallel)\n",
    "library(purrr)\n",
    "source('/home//jupyter/BRI_Figures_Final_V2/helper_function/helper_function_IHA.r')"
   ]
  },
  {
   "cell_type": "markdown",
   "id": "157b4ad9-dc4e-408d-9467-7c17bda916fa",
   "metadata": {},
   "source": [
    "# Read Meta Data of Selected Samples"
   ]
  },
  {
   "cell_type": "code",
   "execution_count": 2,
   "id": "9f578aaf-aaa1-49c4-b95a-58e014ab82df",
   "metadata": {},
   "outputs": [],
   "source": [
    "meta_data=read.csv(\"/home/jupyter/BRI_Figures_Final_V2/Dataset/SF4_meta_data-2024-05-05.csv\")\n",
    "meta_data$ageAtEnrollment[meta_data$ageAtEnrollment == '89+'] <- '90'\n",
    "meta_data$ageAtEnrollment<-as.numeric(meta_data$ageAtEnrollment)\n",
    "meta_data<-meta_data[!is.na(meta_data$ageAtEnrollment),]\n",
    "meta_data$Ages<-meta_data$ageAtEnrollment\n",
    "meta_data <- meta_data[!duplicated(meta_data$sample.sampleKitGuid, fromLast = TRUE), ]\n",
    "meta_data$CMV<-meta_data$lab.revisionHistory.dataHistory.CMV.Ab.Screen.Result..CMVRES..newValue"
   ]
  },
  {
   "cell_type": "code",
   "execution_count": null,
   "id": "c8673730-fcfb-42de-92b8-d7b3a28b4799",
   "metadata": {},
   "outputs": [],
   "source": []
  },
  {
   "cell_type": "markdown",
   "id": "aecb44f4-dbe5-43bf-aa0d-51628438e8b0",
   "metadata": {},
   "source": [
    "# Composite Score"
   ]
  },
  {
   "cell_type": "code",
   "execution_count": 3,
   "id": "d4d70fdb-90dc-4f51-98ea-58fc8c78e1f7",
   "metadata": {},
   "outputs": [],
   "source": [
    "file_list<-paste0(\"/home/jupyter/BRI_Figures_Final_V2/Dataset/scRNA/SF4/Average_LogNormalized_Expression/Average_LogNormalized_Expression_of_Celltypes_by_Sample_AIFI_L3/\", meta_data$pbmc_sample_id, \".csv\")"
   ]
  },
  {
   "cell_type": "code",
   "execution_count": 4,
   "id": "4ca48ea9-5282-4f3f-9a7d-2a0cd7867b47",
   "metadata": {},
   "outputs": [
    {
     "name": "stdout",
     "output_type": "stream",
     "text": [
      "[1] \"Total reading time: 13.528 seconds\"\n",
      "[1] \"The length of the list matches the length of the input path.\"\n"
     ]
    }
   ],
   "source": [
    "df_list<-read_pseudobulk_expression(file_list, mc_cores = 60)"
   ]
  },
  {
   "cell_type": "markdown",
   "id": "73099f00-3141-45ff-9363-ad33ede7a5be",
   "metadata": {},
   "source": [
    "### DESEQ2 result"
   ]
  },
  {
   "cell_type": "code",
   "execution_count": 5,
   "id": "fb3fe389-d21a-4188-80c3-6936d00f932f",
   "metadata": {},
   "outputs": [],
   "source": [
    "deseq2_result_Y1D0<-read.csv('/home/jupyter/BRI_Figures_Final_V1/Figure2/02_DEG/Deseq2_Result_Y1D0.csv')"
   ]
  },
  {
   "cell_type": "code",
   "execution_count": 6,
   "id": "05c1ad70-ea7b-4e67-83a1-3d19e532617d",
   "metadata": {},
   "outputs": [],
   "source": [
    "# filter significant genes \n",
    "deseq2_result_Y1D0_AgeGroup_sig<-deseq2_result_Y1D0 %>% \n",
    "  filter(contrast == \"cohort.cohortGuid\") %>%\n",
    "  filter(padj < 0.05,\n",
    "         abs(log2FoldChange) > 0.1)"
   ]
  },
  {
   "cell_type": "markdown",
   "id": "67d7a380-7aaa-4eb9-9d59-d34be6a5d725",
   "metadata": {},
   "source": [
    "### Get Composite Score"
   ]
  },
  {
   "cell_type": "code",
   "execution_count": 7,
   "id": "6f457c14-2a56-4f09-9c5d-5005d5fffbbe",
   "metadata": {},
   "outputs": [],
   "source": [
    "df_degs_counts<-as.data.frame(table(deseq2_result_Y1D0_AgeGroup_sig$celltype,deseq2_result_Y1D0_AgeGroup_sig$Direction))\n",
    "df_degs_counts_filtered<-df_degs_counts %>% arrange(Var1)   %>% filter(Freq>20)"
   ]
  },
  {
   "cell_type": "code",
   "execution_count": 8,
   "id": "a5dfe81e-d6b8-48a1-88f2-8aa77e9e6483",
   "metadata": {},
   "outputs": [],
   "source": [
    "score_df_list <- mclapply(unique(df_degs_counts_filtered$Var1), function(celltype_single) {\n",
    "    top_n <- 100\n",
    "    Direction_of_DEG <- \"HigherInBR2\"\n",
    "    \n",
    "    selected_genes <- deseq2_result_Y1D0_AgeGroup_sig %>%\n",
    "        filter(celltype == celltype_single, Direction == Direction_of_DEG) %>%\n",
    "        arrange(padj, desc(abs(log2FoldChange))) %>%\n",
    "        slice_head(n = top_n) %>%\n",
    "        select(gene) %>%\n",
    "        pull()\n",
    "    \n",
    "    long_format <- filter_genes_and_celltype(df_list, selected_genes, celltype_single, longformat = TRUE) %>%\n",
    "        left_join(meta_data) %>%\n",
    "        filter(!is.na(Mean_Expression)) %>%\n",
    "        group_by(Gene) %>%\n",
    "        mutate(Z_score_Mean_Expression = scale(Mean_Expression)) %>%\n",
    "        ungroup()\n",
    "    \n",
    "    composite_score_df <- long_format %>%\n",
    "        group_by(pbmc_sample_id) %>%\n",
    "        summarise(\n",
    "            composite_score_sum_mean = sum(Mean_Expression, na.rm = TRUE),\n",
    "            composite_score_sum_scaled_mean = sum(Z_score_Mean_Expression, na.rm = TRUE)\n",
    "        ) %>%\n",
    "        left_join(meta_data) %>%\n",
    "        mutate(celltype = celltype_single) %>%\n",
    "        as.data.frame()\n",
    "    \n",
    "    return(composite_score_df)\n",
    "}, mc.cores = 10)\n"
   ]
  },
  {
   "cell_type": "code",
   "execution_count": 9,
   "id": "296e4e14-1094-425c-8c94-1ede4d2f8c31",
   "metadata": {},
   "outputs": [],
   "source": [
    "composite_score_df_all<-do.call(rbind,score_df_list)"
   ]
  },
  {
   "cell_type": "code",
   "execution_count": 10,
   "id": "94e8498d-15c1-49a1-98e3-cb0b601da17d",
   "metadata": {},
   "outputs": [],
   "source": [
    "composite_score_df_all<-composite_score_df_all %>% filter (celltype==\"CM CD4 T cell\")"
   ]
  },
  {
   "cell_type": "code",
   "execution_count": 11,
   "id": "7e6410ac-1d3c-4ad7-9783-407567bfdc04",
   "metadata": {},
   "outputs": [],
   "source": [
    "composite_score_variable<-composite_score_df_all[c(\"subject.subjectGuid\",\"composite_score_sum_scaled_mean\")]"
   ]
  },
  {
   "cell_type": "markdown",
   "id": "df09d020-3fca-402b-ac17-d7211bf3f1d8",
   "metadata": {},
   "source": [
    "# NMF scores"
   ]
  },
  {
   "cell_type": "code",
   "execution_count": 12,
   "id": "c5ad741c-66c0-4e7a-8fe1-d66a873afcfc",
   "metadata": {},
   "outputs": [],
   "source": [
    "df_list<-mclapply(meta_data$pbmc_sample_id,function(x){\n",
    "df<-read.csv(paste0(\"/home/jupyter/BRI_Figures_Final_V1/Figure6/02_NMF_CD4_T_cell_Projection/NMF_Score_SF4/\",x,\".csv\"))\n",
    "df$pbmc_sample_id=x\n",
    "return(df)\n",
    "},mc.cores=60)"
   ]
  },
  {
   "cell_type": "code",
   "execution_count": 13,
   "id": "8fc3bc1b-f042-419d-9670-ad310beea69a",
   "metadata": {},
   "outputs": [],
   "source": [
    "df_combined<-do.call(rbind,df_list)"
   ]
  },
  {
   "cell_type": "code",
   "execution_count": 14,
   "id": "0c82a0b6-ffbe-4002-a9f5-fb386cd35561",
   "metadata": {},
   "outputs": [],
   "source": [
    "df_combined_longformat<- pivot_longer(df_combined, cols = starts_with(\"NMF\"), names_to = \"NMF_Scores\", values_to = \"value\")"
   ]
  },
  {
   "cell_type": "code",
   "execution_count": 15,
   "id": "ff2eb020-51bf-430d-aebd-56547bd4fb62",
   "metadata": {},
   "outputs": [
    {
     "name": "stderr",
     "output_type": "stream",
     "text": [
      "\u001b[1m\u001b[22m`summarise()` has grouped output by 'pbmc_sample_id', 'NMF_Scores'. You can\n",
      "override using the `.groups` argument.\n"
     ]
    }
   ],
   "source": [
    "df_combined_longformat<-df_combined_longformat %>% group_by(pbmc_sample_id,NMF_Scores,AIFI_L3) %>% summarise(AverageScore=mean(value))"
   ]
  },
  {
   "cell_type": "code",
   "execution_count": 16,
   "id": "ae92213a-2050-492e-bb34-766701dee4ea",
   "metadata": {},
   "outputs": [
    {
     "name": "stderr",
     "output_type": "stream",
     "text": [
      "\u001b[1m\u001b[22mJoining with `by = join_by(pbmc_sample_id)`\n"
     ]
    }
   ],
   "source": [
    "df_combined_longformat<-left_join(df_combined_longformat,meta_data) %>% ungroup()"
   ]
  },
  {
   "cell_type": "code",
   "execution_count": 17,
   "id": "22a48c20-a780-47e2-bbe3-16bb5140e20a",
   "metadata": {},
   "outputs": [],
   "source": [
    "df_combined_longformat_filtered_TH2<-df_combined_longformat %>% filter(NMF_Scores %in% c('NMF5_Th2'))%>% \n",
    "                           filter(AIFI_L3 %in% c('CM CD4 T cell')) %>% select(subject.subjectGuid,AverageScore) %>% as.data.frame()\n",
    "df_combined_longformat_filtered_Tfh<-df_combined_longformat %>% filter(NMF_Scores %in% c('NMF6_Tfh'))%>% \n",
    "                           filter(AIFI_L3 %in% c('CM CD4 T cell'))%>% select(subject.subjectGuid,AverageScore)%>% as.data.frame()"
   ]
  },
  {
   "cell_type": "code",
   "execution_count": 18,
   "id": "ac08f98f-7735-47f6-83c5-08bbcef68137",
   "metadata": {},
   "outputs": [],
   "source": [
    "colnames(df_combined_longformat_filtered_TH2)<-c(\"subject.subjectGuid\",\"NMF_Th2\")\n",
    "colnames(df_combined_longformat_filtered_Tfh)<-c(\"subject.subjectGuid\",\"NMF_Tfh\")"
   ]
  },
  {
   "cell_type": "code",
   "execution_count": 19,
   "id": "6647d448-0c69-44db-9615-34f10a216840",
   "metadata": {},
   "outputs": [
    {
     "name": "stderr",
     "output_type": "stream",
     "text": [
      "\u001b[1m\u001b[22mJoining with `by = join_by(subject.subjectGuid)`\n"
     ]
    }
   ],
   "source": [
    "nmf_variable<-left_join(df_combined_longformat_filtered_TH2,df_combined_longformat_filtered_Tfh)"
   ]
  },
  {
   "cell_type": "markdown",
   "id": "266231ff-e7ce-48a2-86b4-e39d3fbcbf31",
   "metadata": {},
   "source": [
    "# cell to cell interaction scores"
   ]
  },
  {
   "cell_type": "code",
   "execution_count": null,
   "id": "ea07ac8e-2a89-41a1-a6d1-517769b5acd1",
   "metadata": {},
   "outputs": [],
   "source": []
  },
  {
   "cell_type": "code",
   "execution_count": 20,
   "id": "80de33bf-eff4-43c8-b0f5-2f2fe5493605",
   "metadata": {},
   "outputs": [],
   "source": [
    "combined_significant_means<-read.csv(\"/home/jupyter/Additional_analysis_Round2/cellphonedb_SF4/combined_statistical_analysis_significant_means.csv\",check.names = FALSE)"
   ]
  },
  {
   "cell_type": "code",
   "execution_count": 21,
   "id": "92ae8e2c-a064-4e76-88ad-0fc4ed614caf",
   "metadata": {},
   "outputs": [],
   "source": [
    "combined_significant_means_long<-pivot_longer(\n",
    "  combined_significant_means,\n",
    "  cols = matches(\"\\\\|\"), # Select columns with pattern \"|\"\n",
    "  names_to = c(\"variable\"),\n",
    "  values_to = \"mean_interaction\"\n",
    ")"
   ]
  },
  {
   "cell_type": "code",
   "execution_count": 22,
   "id": "e19e514c-fab1-4ed7-8b0f-b2ef7b162b00",
   "metadata": {},
   "outputs": [],
   "source": [
    "combined_significant_means_long<-combined_significant_means_long[!is.na(combined_significant_means_long$mean_interaction),]"
   ]
  },
  {
   "cell_type": "code",
   "execution_count": 23,
   "id": "13536b95-6191-4618-a51b-a4acb3449942",
   "metadata": {},
   "outputs": [],
   "source": [
    "combined_significant_means_long<-combined_significant_means_long %>% filter(pbmc_sample_id%in% meta_data$pbmc_sample_id)%>% filter(pbmc_sample_id%in% meta_data$pbmc_sample_id)"
   ]
  },
  {
   "cell_type": "code",
   "execution_count": 24,
   "id": "e756abe8-09a5-46e3-a26f-bbd19ff4d798",
   "metadata": {},
   "outputs": [
    {
     "name": "stderr",
     "output_type": "stream",
     "text": [
      "\u001b[1m\u001b[22mJoining with `by = join_by(pbmc_sample_id)`\n"
     ]
    }
   ],
   "source": [
    "combined_significant_means_long<-left_join(combined_significant_means_long,meta_data)"
   ]
  },
  {
   "cell_type": "code",
   "execution_count": 25,
   "id": "07a908c8-ce42-4213-b1f9-ba65618ecccd",
   "metadata": {},
   "outputs": [],
   "source": [
    "CD40LG_CD40_MEAN<-combined_significant_means_long %>% filter(interacting_pair==\"CD40LG_CD40\",\n",
    "                                                      variable==\"CM CD4 T cell|Core memory B cell\")%>% \n",
    "select(subject.subjectGuid,mean_interaction)%>% as.data.frame()\n",
    "PTPRC_CD22_MEAN<-combined_significant_means_long %>% filter(interacting_pair==\"PTPRC_CD22\",\n",
    "                                                      variable==\"CM CD4 T cell|Core memory B cell\")%>% \n",
    "select(subject.subjectGuid,mean_interaction)%>% as.data.frame()"
   ]
  },
  {
   "cell_type": "code",
   "execution_count": 26,
   "id": "0e8d68cd-51d1-4edb-90ae-e4279eea3155",
   "metadata": {},
   "outputs": [],
   "source": [
    "colnames(CD40LG_CD40_MEAN)<-c(\"subject.subjectGuid\",\"InteractionScore_CD40LG_CD40\")\n",
    "colnames(PTPRC_CD22_MEAN)<-c(\"subject.subjectGuid\",\"InteractionScore_PTPRC_CD22\")"
   ]
  },
  {
   "cell_type": "code",
   "execution_count": 27,
   "id": "dbc69794-5e7c-4b18-b1d5-c6445454fdd6",
   "metadata": {},
   "outputs": [
    {
     "name": "stderr",
     "output_type": "stream",
     "text": [
      "\u001b[1m\u001b[22mJoining with `by = join_by(subject.subjectGuid)`\n"
     ]
    }
   ],
   "source": [
    "c2c_interaction_variable<-left_join(CD40LG_CD40_MEAN,PTPRC_CD22_MEAN)"
   ]
  },
  {
   "cell_type": "code",
   "execution_count": null,
   "id": "179ecf4b-cc50-4774-ad47-c769c54afa96",
   "metadata": {},
   "outputs": [],
   "source": []
  },
  {
   "cell_type": "markdown",
   "id": "b0d5ba59-aec7-45f4-8e07-5fce9f7ffd2e",
   "metadata": {},
   "source": [
    "# Mean Expression"
   ]
  },
  {
   "cell_type": "code",
   "execution_count": 28,
   "id": "e2fe7514-9ea6-437a-82a4-8ce058393081",
   "metadata": {},
   "outputs": [
    {
     "name": "stdout",
     "output_type": "stream",
     "text": [
      "[1] \"Total reading time: 11.351 seconds\"\n",
      "[1] \"The length of the list matches the length of the input path.\"\n"
     ]
    }
   ],
   "source": [
    "file_list<-paste0(\"/home/jupyter/BRI_Figures_Final_V2/Dataset/scRNA/SF4/Average_LogNormalized_Expression/Average_LogNormalized_Expression_of_Celltypes_by_Sample_AIFI_L3/\", meta_data$pbmc_sample_id, \".csv\")\n",
    "df_list<-read_pseudobulk_expression(file_list)"
   ]
  },
  {
   "cell_type": "code",
   "execution_count": 29,
   "id": "2f1fb057-38cc-4ca9-8d89-7218ad119d48",
   "metadata": {},
   "outputs": [],
   "source": [
    "selected_genes<-c(\"CD40LG\",\"PTPRC\",\"CXCR5\")\n"
   ]
  },
  {
   "cell_type": "code",
   "execution_count": 30,
   "id": "7e6c67ca-558a-484f-a064-0c1184c0c482",
   "metadata": {},
   "outputs": [
    {
     "name": "stderr",
     "output_type": "stream",
     "text": [
      "Warning message:\n",
      "“The melt generic in data.table has been passed a data.frame and will attempt to redirect to the relevant reshape2 method; please note that reshape2 is superseded and is no longer actively developed, and this redirection is now deprecated. To continue using melt methods from reshape2 while both libraries are attached, e.g. melt.list, you can prepend the namespace, i.e. reshape2::melt(exp_matrix). In the next version, this warning will become an error.”\n"
     ]
    }
   ],
   "source": [
    "df<-filter_genes_and_celltype(df_list, selected_genes, c('CM CD4 T cell'), longformat = TRUE)\n"
   ]
  },
  {
   "cell_type": "code",
   "execution_count": 31,
   "id": "37e7a057-1dac-497f-807d-6123da09e77f",
   "metadata": {},
   "outputs": [
    {
     "name": "stderr",
     "output_type": "stream",
     "text": [
      "\u001b[1m\u001b[22mJoining with `by = join_by(pbmc_sample_id)`\n"
     ]
    }
   ],
   "source": [
    "df<-left_join(df,meta_data)"
   ]
  },
  {
   "cell_type": "code",
   "execution_count": 32,
   "id": "2272e2ea-fe67-4230-a224-720e949a635c",
   "metadata": {},
   "outputs": [],
   "source": [
    "expression_CD40LG<-df %>% filter(Gene==\"CD40LG\") %>% \n",
    "select(subject.subjectGuid,Mean_Expression)%>% as.data.frame()\n",
    "expression_PTPRC<-df %>% filter(Gene==\"PTPRC\") %>% \n",
    "select(subject.subjectGuid,Mean_Expression)%>% as.data.frame()\n",
    "expression_CXCR5<-df %>% filter(Gene==\"CXCR5\") %>% \n",
    "select(subject.subjectGuid,Mean_Expression)%>% as.data.frame()"
   ]
  },
  {
   "cell_type": "code",
   "execution_count": 33,
   "id": "f292a85f-7b87-43c5-a7e2-4ca338ed2f3b",
   "metadata": {},
   "outputs": [],
   "source": [
    "colnames(expression_CD40LG)<-c(\"subject.subjectGuid\",\"Mean_Expression_CD40LG\")\n",
    "colnames(expression_PTPRC)<-c(\"subject.subjectGuid\",\"Mean_Expression_PTPRC\")\n",
    "colnames(expression_CXCR5)<-c(\"subject.subjectGuid\",\"Mean_Expression_CXCR5\")"
   ]
  },
  {
   "cell_type": "code",
   "execution_count": 34,
   "id": "3f704527-408b-4638-bb1b-903948295f43",
   "metadata": {},
   "outputs": [],
   "source": [
    "mean_expression_variable<-reduce(list(expression_CD40LG,expression_PTPRC,expression_CXCR5), full_join, by = \"subject.subjectGuid\")"
   ]
  },
  {
   "cell_type": "markdown",
   "id": "9de10821-8ce3-4d64-ad6c-570fd65c409d",
   "metadata": {},
   "source": [
    "# Olink data"
   ]
  },
  {
   "cell_type": "code",
   "execution_count": 35,
   "id": "5f84fb91-8205-4567-b3d6-b30024577045",
   "metadata": {},
   "outputs": [],
   "source": [
    "Olink<-read.csv(\"/home//jupyter/BRI_Figures_Final_V1/Figure4/05_Olink/Olink_SF4.csv\")"
   ]
  },
  {
   "cell_type": "code",
   "execution_count": null,
   "id": "de765807-571e-41fa-a082-4aa2402d61d6",
   "metadata": {},
   "outputs": [],
   "source": []
  },
  {
   "cell_type": "code",
   "execution_count": 36,
   "id": "b17d2483-b198-4d05-8e76-26f3b84ca802",
   "metadata": {
    "tags": []
   },
   "outputs": [],
   "source": [
    "rownames(meta_data)<-meta_data$sample.sampleKitGuid"
   ]
  },
  {
   "cell_type": "code",
   "execution_count": 37,
   "id": "844ebb17-ce82-48eb-8acc-34cd4588e057",
   "metadata": {},
   "outputs": [],
   "source": [
    "Olink$sample.sampleKitGuid<-Olink$SampleKitGuid"
   ]
  },
  {
   "cell_type": "code",
   "execution_count": 38,
   "id": "7e078576-2c5a-48bd-a783-0c2f3a6978bb",
   "metadata": {
    "tags": []
   },
   "outputs": [],
   "source": [
    "Olink<-Olink %>% filter(sample.sampleKitGuid %in% unique(meta_data$sample.sampleKitGuid))"
   ]
  },
  {
   "cell_type": "code",
   "execution_count": 39,
   "id": "8f497747-f6e4-40b0-b4e9-9b1df0a008fd",
   "metadata": {
    "tags": []
   },
   "outputs": [],
   "source": [
    "Olink<-left_join(Olink,meta_data, by = c(\"sample.sampleKitGuid\"))"
   ]
  },
  {
   "cell_type": "code",
   "execution_count": 40,
   "id": "8e4fd91d-8dd9-43a0-932b-8af48e7c9381",
   "metadata": {},
   "outputs": [
    {
     "data": {
      "text/html": [
       "<style>\n",
       ".list-inline {list-style: none; margin:0; padding: 0}\n",
       ".list-inline>li {display: inline-block}\n",
       ".list-inline>li:not(:last-child)::after {content: \"\\00b7\"; padding: 0 .5ex}\n",
       "</style>\n",
       "<ol class=list-inline><li>'X.x'</li><li>'SampleID'</li><li>'Sample_Type'</li><li>'Index'</li><li>'OlinkID'</li><li>'UniProt'</li><li>'Assay'</li><li>'MissingFreq'</li><li>'Panel'</li><li>'Panel_Lot_Nr'</li><li>'PlateID_qry'</li><li>'QC_Warning_qry'</li><li>'LOD_qry'</li><li>'NPX_qry'</li><li>'Normalization'</li><li>'Assay_Warning'</li><li>'ExploreVersion'</li><li>'Is_plate_control'</li><li>'Well'</li><li>'Row'</li><li>'Column'</li><li>'Dilution'</li><li>'DilutionGroup'</li><li>'AssayLabel'</li><li>'SampleKitGuid'</li><li>'UniqueAssay'</li><li>'PlateMap'</li><li>'UniqueSampleID'</li><li>'is_bridge_contol'</li><li>'submission_qry'</li><li>'SampleID_ref'</li><li>'SampleID_query'</li><li>'sample_origin'</li><li>'NPX_ref'</li><li>'LOD_ref'</li><li>'QC_Warning_ref'</li><li>'PlateID_ref'</li><li>'submission_ref'</li><li>'SampleWarningBridge'</li><li>'N_Bridge'</li><li>'BatchOffset'</li><li>'NPX_bridged'</li><li>'LOD_bridged'</li><li>'BridgingDetails'</li><li>'sample.sampleKitGuid'</li><li>'X.y'</li><li>'lastUpdated'</li><li>'labLastModified'</li><li>'sample.id'</li><li>'sample.bridgingControl'</li><li>'sample.visitName'</li><li>'sample.visitDetails'</li><li>'sample.drawDate'</li><li>'sample.daysSinceFirstVisit'</li><li>'file.id'</li><li>'file.name'</li><li>'file.batchID'</li><li>'file.panel'</li><li>'file.pool'</li><li>'file.fileType'</li><li>'file.majorVersion'</li><li>'subject.id'</li><li>'subject.biologicalSex'</li><li>'subject.birthYear'</li><li>'subject.ethnicity'</li><li>'subject.partnerCode'</li><li>'subject.race'</li><li>'subject.subjectGuid'</li><li>'cohort.cohortGuid'</li><li>'lab.id'</li><li>'lab.sampleKitGuid'</li><li>'lab.labResults.CMV.Ab.Screen.Index.Value..CMVINX.'</li><li>'lab.labResults.CMV.Ab.Screen.Result..CMVRES.'</li><li>'lab.labResults.Volume'</li><li>'lab.revisionHistory.historicalRevisionNumber'</li><li>'lab.revisionHistory.modifiedDate'</li><li>'lab.revisionHistory.dataHistory.CMV.Ab.Screen.Index.Value..CMVINX..oldValue'</li><li>'lab.revisionHistory.dataHistory.CMV.Ab.Screen.Index.Value..CMVINX..newValue'</li><li>'lab.revisionHistory.dataHistory.CMV.Ab.Screen.Result..CMVRES..oldValue'</li><li>'lab.revisionHistory.dataHistory.CMV.Ab.Screen.Result..CMVRES..newValue'</li><li>'lab.revisionHistory.dataHistory.Volume.oldValue'</li><li>'lab.revisionHistory.dataHistory.Volume.newValue'</li><li>'lab.revisionNumber'</li><li>'ageAtEnrollment'</li><li>'pbmc_sample_id'</li><li>'Ages'</li><li>'CMV'</li></ol>\n"
      ],
      "text/latex": [
       "\\begin{enumerate*}\n",
       "\\item 'X.x'\n",
       "\\item 'SampleID'\n",
       "\\item 'Sample\\_Type'\n",
       "\\item 'Index'\n",
       "\\item 'OlinkID'\n",
       "\\item 'UniProt'\n",
       "\\item 'Assay'\n",
       "\\item 'MissingFreq'\n",
       "\\item 'Panel'\n",
       "\\item 'Panel\\_Lot\\_Nr'\n",
       "\\item 'PlateID\\_qry'\n",
       "\\item 'QC\\_Warning\\_qry'\n",
       "\\item 'LOD\\_qry'\n",
       "\\item 'NPX\\_qry'\n",
       "\\item 'Normalization'\n",
       "\\item 'Assay\\_Warning'\n",
       "\\item 'ExploreVersion'\n",
       "\\item 'Is\\_plate\\_control'\n",
       "\\item 'Well'\n",
       "\\item 'Row'\n",
       "\\item 'Column'\n",
       "\\item 'Dilution'\n",
       "\\item 'DilutionGroup'\n",
       "\\item 'AssayLabel'\n",
       "\\item 'SampleKitGuid'\n",
       "\\item 'UniqueAssay'\n",
       "\\item 'PlateMap'\n",
       "\\item 'UniqueSampleID'\n",
       "\\item 'is\\_bridge\\_contol'\n",
       "\\item 'submission\\_qry'\n",
       "\\item 'SampleID\\_ref'\n",
       "\\item 'SampleID\\_query'\n",
       "\\item 'sample\\_origin'\n",
       "\\item 'NPX\\_ref'\n",
       "\\item 'LOD\\_ref'\n",
       "\\item 'QC\\_Warning\\_ref'\n",
       "\\item 'PlateID\\_ref'\n",
       "\\item 'submission\\_ref'\n",
       "\\item 'SampleWarningBridge'\n",
       "\\item 'N\\_Bridge'\n",
       "\\item 'BatchOffset'\n",
       "\\item 'NPX\\_bridged'\n",
       "\\item 'LOD\\_bridged'\n",
       "\\item 'BridgingDetails'\n",
       "\\item 'sample.sampleKitGuid'\n",
       "\\item 'X.y'\n",
       "\\item 'lastUpdated'\n",
       "\\item 'labLastModified'\n",
       "\\item 'sample.id'\n",
       "\\item 'sample.bridgingControl'\n",
       "\\item 'sample.visitName'\n",
       "\\item 'sample.visitDetails'\n",
       "\\item 'sample.drawDate'\n",
       "\\item 'sample.daysSinceFirstVisit'\n",
       "\\item 'file.id'\n",
       "\\item 'file.name'\n",
       "\\item 'file.batchID'\n",
       "\\item 'file.panel'\n",
       "\\item 'file.pool'\n",
       "\\item 'file.fileType'\n",
       "\\item 'file.majorVersion'\n",
       "\\item 'subject.id'\n",
       "\\item 'subject.biologicalSex'\n",
       "\\item 'subject.birthYear'\n",
       "\\item 'subject.ethnicity'\n",
       "\\item 'subject.partnerCode'\n",
       "\\item 'subject.race'\n",
       "\\item 'subject.subjectGuid'\n",
       "\\item 'cohort.cohortGuid'\n",
       "\\item 'lab.id'\n",
       "\\item 'lab.sampleKitGuid'\n",
       "\\item 'lab.labResults.CMV.Ab.Screen.Index.Value..CMVINX.'\n",
       "\\item 'lab.labResults.CMV.Ab.Screen.Result..CMVRES.'\n",
       "\\item 'lab.labResults.Volume'\n",
       "\\item 'lab.revisionHistory.historicalRevisionNumber'\n",
       "\\item 'lab.revisionHistory.modifiedDate'\n",
       "\\item 'lab.revisionHistory.dataHistory.CMV.Ab.Screen.Index.Value..CMVINX..oldValue'\n",
       "\\item 'lab.revisionHistory.dataHistory.CMV.Ab.Screen.Index.Value..CMVINX..newValue'\n",
       "\\item 'lab.revisionHistory.dataHistory.CMV.Ab.Screen.Result..CMVRES..oldValue'\n",
       "\\item 'lab.revisionHistory.dataHistory.CMV.Ab.Screen.Result..CMVRES..newValue'\n",
       "\\item 'lab.revisionHistory.dataHistory.Volume.oldValue'\n",
       "\\item 'lab.revisionHistory.dataHistory.Volume.newValue'\n",
       "\\item 'lab.revisionNumber'\n",
       "\\item 'ageAtEnrollment'\n",
       "\\item 'pbmc\\_sample\\_id'\n",
       "\\item 'Ages'\n",
       "\\item 'CMV'\n",
       "\\end{enumerate*}\n"
      ],
      "text/markdown": [
       "1. 'X.x'\n",
       "2. 'SampleID'\n",
       "3. 'Sample_Type'\n",
       "4. 'Index'\n",
       "5. 'OlinkID'\n",
       "6. 'UniProt'\n",
       "7. 'Assay'\n",
       "8. 'MissingFreq'\n",
       "9. 'Panel'\n",
       "10. 'Panel_Lot_Nr'\n",
       "11. 'PlateID_qry'\n",
       "12. 'QC_Warning_qry'\n",
       "13. 'LOD_qry'\n",
       "14. 'NPX_qry'\n",
       "15. 'Normalization'\n",
       "16. 'Assay_Warning'\n",
       "17. 'ExploreVersion'\n",
       "18. 'Is_plate_control'\n",
       "19. 'Well'\n",
       "20. 'Row'\n",
       "21. 'Column'\n",
       "22. 'Dilution'\n",
       "23. 'DilutionGroup'\n",
       "24. 'AssayLabel'\n",
       "25. 'SampleKitGuid'\n",
       "26. 'UniqueAssay'\n",
       "27. 'PlateMap'\n",
       "28. 'UniqueSampleID'\n",
       "29. 'is_bridge_contol'\n",
       "30. 'submission_qry'\n",
       "31. 'SampleID_ref'\n",
       "32. 'SampleID_query'\n",
       "33. 'sample_origin'\n",
       "34. 'NPX_ref'\n",
       "35. 'LOD_ref'\n",
       "36. 'QC_Warning_ref'\n",
       "37. 'PlateID_ref'\n",
       "38. 'submission_ref'\n",
       "39. 'SampleWarningBridge'\n",
       "40. 'N_Bridge'\n",
       "41. 'BatchOffset'\n",
       "42. 'NPX_bridged'\n",
       "43. 'LOD_bridged'\n",
       "44. 'BridgingDetails'\n",
       "45. 'sample.sampleKitGuid'\n",
       "46. 'X.y'\n",
       "47. 'lastUpdated'\n",
       "48. 'labLastModified'\n",
       "49. 'sample.id'\n",
       "50. 'sample.bridgingControl'\n",
       "51. 'sample.visitName'\n",
       "52. 'sample.visitDetails'\n",
       "53. 'sample.drawDate'\n",
       "54. 'sample.daysSinceFirstVisit'\n",
       "55. 'file.id'\n",
       "56. 'file.name'\n",
       "57. 'file.batchID'\n",
       "58. 'file.panel'\n",
       "59. 'file.pool'\n",
       "60. 'file.fileType'\n",
       "61. 'file.majorVersion'\n",
       "62. 'subject.id'\n",
       "63. 'subject.biologicalSex'\n",
       "64. 'subject.birthYear'\n",
       "65. 'subject.ethnicity'\n",
       "66. 'subject.partnerCode'\n",
       "67. 'subject.race'\n",
       "68. 'subject.subjectGuid'\n",
       "69. 'cohort.cohortGuid'\n",
       "70. 'lab.id'\n",
       "71. 'lab.sampleKitGuid'\n",
       "72. 'lab.labResults.CMV.Ab.Screen.Index.Value..CMVINX.'\n",
       "73. 'lab.labResults.CMV.Ab.Screen.Result..CMVRES.'\n",
       "74. 'lab.labResults.Volume'\n",
       "75. 'lab.revisionHistory.historicalRevisionNumber'\n",
       "76. 'lab.revisionHistory.modifiedDate'\n",
       "77. 'lab.revisionHistory.dataHistory.CMV.Ab.Screen.Index.Value..CMVINX..oldValue'\n",
       "78. 'lab.revisionHistory.dataHistory.CMV.Ab.Screen.Index.Value..CMVINX..newValue'\n",
       "79. 'lab.revisionHistory.dataHistory.CMV.Ab.Screen.Result..CMVRES..oldValue'\n",
       "80. 'lab.revisionHistory.dataHistory.CMV.Ab.Screen.Result..CMVRES..newValue'\n",
       "81. 'lab.revisionHistory.dataHistory.Volume.oldValue'\n",
       "82. 'lab.revisionHistory.dataHistory.Volume.newValue'\n",
       "83. 'lab.revisionNumber'\n",
       "84. 'ageAtEnrollment'\n",
       "85. 'pbmc_sample_id'\n",
       "86. 'Ages'\n",
       "87. 'CMV'\n",
       "\n",
       "\n"
      ],
      "text/plain": [
       " [1] \"X.x\"                                                                        \n",
       " [2] \"SampleID\"                                                                   \n",
       " [3] \"Sample_Type\"                                                                \n",
       " [4] \"Index\"                                                                      \n",
       " [5] \"OlinkID\"                                                                    \n",
       " [6] \"UniProt\"                                                                    \n",
       " [7] \"Assay\"                                                                      \n",
       " [8] \"MissingFreq\"                                                                \n",
       " [9] \"Panel\"                                                                      \n",
       "[10] \"Panel_Lot_Nr\"                                                               \n",
       "[11] \"PlateID_qry\"                                                                \n",
       "[12] \"QC_Warning_qry\"                                                             \n",
       "[13] \"LOD_qry\"                                                                    \n",
       "[14] \"NPX_qry\"                                                                    \n",
       "[15] \"Normalization\"                                                              \n",
       "[16] \"Assay_Warning\"                                                              \n",
       "[17] \"ExploreVersion\"                                                             \n",
       "[18] \"Is_plate_control\"                                                           \n",
       "[19] \"Well\"                                                                       \n",
       "[20] \"Row\"                                                                        \n",
       "[21] \"Column\"                                                                     \n",
       "[22] \"Dilution\"                                                                   \n",
       "[23] \"DilutionGroup\"                                                              \n",
       "[24] \"AssayLabel\"                                                                 \n",
       "[25] \"SampleKitGuid\"                                                              \n",
       "[26] \"UniqueAssay\"                                                                \n",
       "[27] \"PlateMap\"                                                                   \n",
       "[28] \"UniqueSampleID\"                                                             \n",
       "[29] \"is_bridge_contol\"                                                           \n",
       "[30] \"submission_qry\"                                                             \n",
       "[31] \"SampleID_ref\"                                                               \n",
       "[32] \"SampleID_query\"                                                             \n",
       "[33] \"sample_origin\"                                                              \n",
       "[34] \"NPX_ref\"                                                                    \n",
       "[35] \"LOD_ref\"                                                                    \n",
       "[36] \"QC_Warning_ref\"                                                             \n",
       "[37] \"PlateID_ref\"                                                                \n",
       "[38] \"submission_ref\"                                                             \n",
       "[39] \"SampleWarningBridge\"                                                        \n",
       "[40] \"N_Bridge\"                                                                   \n",
       "[41] \"BatchOffset\"                                                                \n",
       "[42] \"NPX_bridged\"                                                                \n",
       "[43] \"LOD_bridged\"                                                                \n",
       "[44] \"BridgingDetails\"                                                            \n",
       "[45] \"sample.sampleKitGuid\"                                                       \n",
       "[46] \"X.y\"                                                                        \n",
       "[47] \"lastUpdated\"                                                                \n",
       "[48] \"labLastModified\"                                                            \n",
       "[49] \"sample.id\"                                                                  \n",
       "[50] \"sample.bridgingControl\"                                                     \n",
       "[51] \"sample.visitName\"                                                           \n",
       "[52] \"sample.visitDetails\"                                                        \n",
       "[53] \"sample.drawDate\"                                                            \n",
       "[54] \"sample.daysSinceFirstVisit\"                                                 \n",
       "[55] \"file.id\"                                                                    \n",
       "[56] \"file.name\"                                                                  \n",
       "[57] \"file.batchID\"                                                               \n",
       "[58] \"file.panel\"                                                                 \n",
       "[59] \"file.pool\"                                                                  \n",
       "[60] \"file.fileType\"                                                              \n",
       "[61] \"file.majorVersion\"                                                          \n",
       "[62] \"subject.id\"                                                                 \n",
       "[63] \"subject.biologicalSex\"                                                      \n",
       "[64] \"subject.birthYear\"                                                          \n",
       "[65] \"subject.ethnicity\"                                                          \n",
       "[66] \"subject.partnerCode\"                                                        \n",
       "[67] \"subject.race\"                                                               \n",
       "[68] \"subject.subjectGuid\"                                                        \n",
       "[69] \"cohort.cohortGuid\"                                                          \n",
       "[70] \"lab.id\"                                                                     \n",
       "[71] \"lab.sampleKitGuid\"                                                          \n",
       "[72] \"lab.labResults.CMV.Ab.Screen.Index.Value..CMVINX.\"                          \n",
       "[73] \"lab.labResults.CMV.Ab.Screen.Result..CMVRES.\"                               \n",
       "[74] \"lab.labResults.Volume\"                                                      \n",
       "[75] \"lab.revisionHistory.historicalRevisionNumber\"                               \n",
       "[76] \"lab.revisionHistory.modifiedDate\"                                           \n",
       "[77] \"lab.revisionHistory.dataHistory.CMV.Ab.Screen.Index.Value..CMVINX..oldValue\"\n",
       "[78] \"lab.revisionHistory.dataHistory.CMV.Ab.Screen.Index.Value..CMVINX..newValue\"\n",
       "[79] \"lab.revisionHistory.dataHistory.CMV.Ab.Screen.Result..CMVRES..oldValue\"     \n",
       "[80] \"lab.revisionHistory.dataHistory.CMV.Ab.Screen.Result..CMVRES..newValue\"     \n",
       "[81] \"lab.revisionHistory.dataHistory.Volume.oldValue\"                            \n",
       "[82] \"lab.revisionHistory.dataHistory.Volume.newValue\"                            \n",
       "[83] \"lab.revisionNumber\"                                                         \n",
       "[84] \"ageAtEnrollment\"                                                            \n",
       "[85] \"pbmc_sample_id\"                                                             \n",
       "[86] \"Ages\"                                                                       \n",
       "[87] \"CMV\"                                                                        "
      ]
     },
     "metadata": {},
     "output_type": "display_data"
    }
   ],
   "source": [
    "colnames(Olink)"
   ]
  },
  {
   "cell_type": "code",
   "execution_count": 41,
   "id": "160f486d-da07-488f-8adb-dd8fc96f13fb",
   "metadata": {},
   "outputs": [],
   "source": [
    "Olink_CXCL17<-Olink %>% filter(Assay==\"CXCL17\") %>% \n",
    "select(subject.subjectGuid,NPX_bridged)%>% as.data.frame()\n",
    "Olink_WNT9A<-Olink %>% filter(Assay==\"WNT9A\") %>% \n",
    "select(subject.subjectGuid,NPX_bridged)%>% as.data.frame()"
   ]
  },
  {
   "cell_type": "code",
   "execution_count": null,
   "id": "5cad59ff-4712-4e51-a99c-e6ad8b0f58b8",
   "metadata": {},
   "outputs": [],
   "source": []
  },
  {
   "cell_type": "code",
   "execution_count": 42,
   "id": "7beb18d1-7263-4652-aad4-00c2f686907f",
   "metadata": {},
   "outputs": [],
   "source": [
    "Olink_WNT9A<-Olink %>% filter(Assay==\"WNT9A\") %>% \n",
    "select(subject.subjectGuid,NPX_bridged,Ages)%>% as.data.frame()"
   ]
  },
  {
   "cell_type": "code",
   "execution_count": 43,
   "id": "8ce1babe-68f0-47ac-80d8-7c2e54c5bbcc",
   "metadata": {},
   "outputs": [
    {
     "name": "stderr",
     "output_type": "stream",
     "text": [
      "\u001b[1m\u001b[22m`geom_smooth()` using formula = 'y ~ x'\n"
     ]
    },
    {
     "data": {
      "image/png": "[encoded data removed]",
      "text/plain": [
       "plot without title"
      ]
     },
     "metadata": {
      "image/png": {
       "height": 420,
       "width": 420
      }
     },
     "output_type": "display_data"
    }
   ],
   "source": [
    "ggplot(data = Olink_WNT9A, aes(x = Ages, y = NPX_bridged)) + \n",
    "  geom_point(color='blue') +\n",
    "  geom_smooth(method = \"lm\", se = TRUE)"
   ]
  },
  {
   "cell_type": "code",
   "execution_count": 44,
   "id": "2f43919a-4bbe-4ecf-be07-b653ce265cad",
   "metadata": {},
   "outputs": [],
   "source": [
    "colnames(Olink_CXCL17)<-c(\"subject.subjectGuid\",\"Olink_CXCL17\")\n",
    "colnames(Olink_WNT9A)<-c(\"subject.subjectGuid\",\"Olink_WNT9A\",'Ages')"
   ]
  },
  {
   "cell_type": "code",
   "execution_count": 45,
   "id": "03ecf3c7-5005-41bc-b69b-55db4018cd9c",
   "metadata": {},
   "outputs": [
    {
     "name": "stderr",
     "output_type": "stream",
     "text": [
      "\u001b[1m\u001b[22mJoining with `by = join_by(subject.subjectGuid)`\n"
     ]
    }
   ],
   "source": [
    "Olink_variable<-left_join(Olink_CXCR17,Olink_WNT9A)"
   ]
  },
  {
   "cell_type": "markdown",
   "id": "83d9cb0e-34fa-45b2-98e4-cc3519e8c1cb",
   "metadata": {},
   "source": [
    "# Combine all together"
   ]
  },
  {
   "cell_type": "code",
   "execution_count": 46,
   "id": "76fe568c-37a0-4ded-b60a-6f47d96830f6",
   "metadata": {},
   "outputs": [],
   "source": [
    "combined_df <- reduce(list(nmf_variable,\n",
    "                           composite_score_variable,\n",
    "                           c2c_interaction_variable,\n",
    "                           mean_expression_variable,\n",
    "                           Olink_variable), left_join, by = \"subject.subjectGuid\")"
   ]
  },
  {
   "cell_type": "code",
   "execution_count": null,
   "id": "4d63ee20-ddc6-4093-9f96-b9dc585a1e0c",
   "metadata": {},
   "outputs": [],
   "source": []
  },
  {
   "cell_type": "code",
   "execution_count": 47,
   "id": "47b5c007-553e-4880-b192-b1b51229c413",
   "metadata": {},
   "outputs": [],
   "source": [
    "write.csv(combined_df,\"SF4_Tcell_data_forcorrelation.csv\")"
   ]
  },
  {
   "cell_type": "code",
   "execution_count": 48,
   "id": "33e66af9-4aef-493a-a2c7-16bbfcd75833",
   "metadata": {},
   "outputs": [
    {
     "data": {
      "text/html": [
       "<style>\n",
       ".list-inline {list-style: none; margin:0; padding: 0}\n",
       ".list-inline>li {display: inline-block}\n",
       ".list-inline>li:not(:last-child)::after {content: \"\\00b7\"; padding: 0 .5ex}\n",
       "</style>\n",
       "<ol class=list-inline><li>'subject.subjectGuid'</li><li>'NMF_Th2'</li><li>'NMF_Tfh'</li><li>'composite_score_sum_scaled_mean'</li><li>'InteractionScore_CD40LG_CD40'</li><li>'InteractionScore_PTPRC_CD22'</li><li>'Mean_Expression_CD40LG'</li><li>'Mean_Expression_PTPRC'</li><li>'Mean_Expression_CXCR5'</li><li>'Olink_CXCR17'</li><li>'Olink_WNT9A'</li><li>'Ages'</li></ol>\n"
      ],
      "text/latex": [
       "\\begin{enumerate*}\n",
       "\\item 'subject.subjectGuid'\n",
       "\\item 'NMF\\_Th2'\n",
       "\\item 'NMF\\_Tfh'\n",
       "\\item 'composite\\_score\\_sum\\_scaled\\_mean'\n",
       "\\item 'InteractionScore\\_CD40LG\\_CD40'\n",
       "\\item 'InteractionScore\\_PTPRC\\_CD22'\n",
       "\\item 'Mean\\_Expression\\_CD40LG'\n",
       "\\item 'Mean\\_Expression\\_PTPRC'\n",
       "\\item 'Mean\\_Expression\\_CXCR5'\n",
       "\\item 'Olink\\_CXCR17'\n",
       "\\item 'Olink\\_WNT9A'\n",
       "\\item 'Ages'\n",
       "\\end{enumerate*}\n"
      ],
      "text/markdown": [
       "1. 'subject.subjectGuid'\n",
       "2. 'NMF_Th2'\n",
       "3. 'NMF_Tfh'\n",
       "4. 'composite_score_sum_scaled_mean'\n",
       "5. 'InteractionScore_CD40LG_CD40'\n",
       "6. 'InteractionScore_PTPRC_CD22'\n",
       "7. 'Mean_Expression_CD40LG'\n",
       "8. 'Mean_Expression_PTPRC'\n",
       "9. 'Mean_Expression_CXCR5'\n",
       "10. 'Olink_CXCR17'\n",
       "11. 'Olink_WNT9A'\n",
       "12. 'Ages'\n",
       "\n",
       "\n"
      ],
      "text/plain": [
       " [1] \"subject.subjectGuid\"             \"NMF_Th2\"                        \n",
       " [3] \"NMF_Tfh\"                         \"composite_score_sum_scaled_mean\"\n",
       " [5] \"InteractionScore_CD40LG_CD40\"    \"InteractionScore_PTPRC_CD22\"    \n",
       " [7] \"Mean_Expression_CD40LG\"          \"Mean_Expression_PTPRC\"          \n",
       " [9] \"Mean_Expression_CXCR5\"           \"Olink_CXCR17\"                   \n",
       "[11] \"Olink_WNT9A\"                     \"Ages\"                           "
      ]
     },
     "metadata": {},
     "output_type": "display_data"
    }
   ],
   "source": [
    "colnames(combined_df)"
   ]
  },
  {
   "cell_type": "code",
   "execution_count": null,
   "id": "3b0748d4-daa5-48a4-94be-9161c8d35e0f",
   "metadata": {},
   "outputs": [],
   "source": [
    "combined_df<-read.csv)_"
   ]
  },
  {
   "cell_type": "code",
   "execution_count": 49,
   "id": "df030a8e-7716-436d-a85c-a1372a5d299c",
   "metadata": {},
   "outputs": [
    {
     "name": "stderr",
     "output_type": "stream",
     "text": [
      "\u001b[1m\u001b[22m`geom_smooth()` using formula = 'y ~ x'\n",
      "Warning message:\n",
      "“\u001b[1m\u001b[22mRemoved 5 rows containing non-finite outside the scale range (`stat_smooth()`).”\n",
      "Warning message:\n",
      "“\u001b[1m\u001b[22mRemoved 5 rows containing missing values or values outside the scale range\n",
      "(`geom_point()`).”\n"
     ]
    },
    {
     "data": {
      "image/png": "[encoded data removed]",
      "text/plain": [
       "plot without title"
      ]
     },
     "metadata": {
      "image/png": {
       "height": 420,
       "width": 420
      }
     },
     "output_type": "display_data"
    }
   ],
   "source": [
    "ggplot(data = combined_df %>% filter(NMF_Th2<0.5), aes(x = Ages, y =NMF_Tfh )) + \n",
    "  geom_point(color='blue') +\n",
    "  geom_smooth(method = \"lm\", se = TRUE)"
   ]
  },
  {
   "cell_type": "code",
   "execution_count": null,
   "id": "a45613f8-b2d1-4f3d-ac66-eabf6dea7579",
   "metadata": {},
   "outputs": [],
   "source": []
  },
  {
   "cell_type": "code",
   "execution_count": null,
   "id": "0d69147a-8a25-4020-8caf-7db9a889d5f1",
   "metadata": {},
   "outputs": [],
   "source": []
  }
 ],
 "metadata": {
  "kernelspec": {
   "display_name": "R 4",
   "language": "R",
   "name": "ir4"
  },
  "language_info": {
   "codemirror_mode": "r",
   "file_extension": ".r",
   "mimetype": "text/x-r-source",
   "name": "R",
   "pygments_lexer": "r",
   "version": "4.3.2"
  }
 },
 "nbformat": 4,
 "nbformat_minor": 5
}
