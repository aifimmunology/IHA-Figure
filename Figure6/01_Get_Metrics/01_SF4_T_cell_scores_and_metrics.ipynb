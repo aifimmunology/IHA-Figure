{
 "cells": [
  {
   "cell_type": "code",
   "execution_count": 1,
   "id": "f9ada9e8-e596-422a-850a-30772ddc8d0a",
   "metadata": {
    "scrolled": true
   },
   "outputs": [
    {
     "name": "stderr",
     "output_type": "stream",
     "text": [
      "\n",
      "Attaching package: ‘reshape2’\n",
      "\n",
      "\n",
      "The following object is masked from ‘package:tidyr’:\n",
      "\n",
      "    smiths\n",
      "\n",
      "\n",
      "\n",
      "Attaching package: ‘rstatix’\n",
      "\n",
      "\n",
      "The following object is masked from ‘package:stats’:\n",
      "\n",
      "    filter\n",
      "\n",
      "\n",
      "\n",
      "Attaching package: ‘data.table’\n",
      "\n",
      "\n",
      "The following objects are masked from ‘package:reshape2’:\n",
      "\n",
      "    dcast, melt\n",
      "\n",
      "\n",
      "The following objects are masked from ‘package:dplyr’:\n",
      "\n",
      "    between, first, last\n",
      "\n",
      "\n",
      "Registered S3 methods overwritten by 'ggtern':\n",
      "  method           from   \n",
      "  grid.draw.ggplot ggplot2\n",
      "  plot.ggplot      ggplot2\n",
      "  print.ggplot     ggplot2\n",
      "\n",
      "--\n",
      "Remember to cite, run citation(package = 'ggtern') for further info.\n",
      "--\n",
      "\n",
      "\n",
      "Attaching package: ‘ggtern’\n",
      "\n",
      "\n",
      "The following object is masked from ‘package:rstatix’:\n",
      "\n",
      "    mahalanobis_distance\n",
      "\n",
      "\n",
      "The following objects are masked from ‘package:ggplot2’:\n",
      "\n",
      "    aes, annotate, ggplot, ggplot_build, ggplot_gtable, ggplotGrob,\n",
      "    ggsave, layer_data, theme_bw, theme_classic, theme_dark,\n",
      "    theme_gray, theme_light, theme_linedraw, theme_minimal, theme_void\n",
      "\n",
      "\n",
      "Loading required package: viridisLite\n",
      "\n",
      "\n",
      "Attaching package: ‘scales’\n",
      "\n",
      "\n",
      "The following object is masked from ‘package:viridis’:\n",
      "\n",
      "    viridis_pal\n",
      "\n",
      "\n",
      "\n",
      "Attaching package: ‘purrr’\n",
      "\n",
      "\n",
      "The following object is masked from ‘package:scales’:\n",
      "\n",
      "    discard\n",
      "\n",
      "\n",
      "The following object is masked from ‘package:data.table’:\n",
      "\n",
      "    transpose\n",
      "\n",
      "\n"
     ]
    }
   ],
   "source": [
    "suppressPackageStartupMessages(library(dplyr))\n",
    "suppressPackageStartupMessages(library(tidyr))\n",
    "suppressPackageStartupMessages(library(tibble))\n",
    "suppressPackageStartupMessages(library(ggplot2))\n",
    "suppressPackageStartupMessages(library(stringr))\n",
    "library(ggrepel)\n",
    "library(reshape2)\n",
    "library(ggsci)\n",
    "library(rstatix)\n",
    "library(ggpubr)\n",
    "library(data.table)\n",
    "library(ggtern)\n",
    "library(viridis)\n",
    "library(scales)\n",
    "library(RColorBrewer)\n",
    "library(parallel)\n",
    "library(purrr)\n",
    "source('/home//jupyter/BRI_Figures_Final_V2/helper_function/helper_function_IHA.r')"
   ]
  },
  {
   "cell_type": "markdown",
   "id": "157b4ad9-dc4e-408d-9467-7c17bda916fa",
   "metadata": {},
   "source": [
    "# Read Meta Data of Selected Samples"
   ]
  },
  {
   "cell_type": "code",
   "execution_count": 2,
   "id": "9f578aaf-aaa1-49c4-b95a-58e014ab82df",
   "metadata": {},
   "outputs": [],
   "source": [
    "meta_data=read.csv(\"/home/jupyter/BRI_Figures_Final_V2/Dataset/SF4_meta_data-2024-05-05.csv\")\n",
    "meta_data$ageAtEnrollment[meta_data$ageAtEnrollment == '89+'] <- '90'\n",
    "meta_data$ageAtEnrollment<-as.numeric(meta_data$ageAtEnrollment)\n",
    "meta_data<-meta_data[!is.na(meta_data$ageAtEnrollment),]\n",
    "meta_data$Ages<-meta_data$ageAtEnrollment\n",
    "meta_data <- meta_data[!duplicated(meta_data$sample.sampleKitGuid, fromLast = TRUE), ]\n",
    "meta_data$CMV<-meta_data$lab.revisionHistory.dataHistory.CMV.Ab.Screen.Result..CMVRES..newValue"
   ]
  },
  {
   "cell_type": "code",
   "execution_count": null,
   "id": "c8673730-fcfb-42de-92b8-d7b3a28b4799",
   "metadata": {},
   "outputs": [],
   "source": []
  },
  {
   "cell_type": "markdown",
   "id": "aecb44f4-dbe5-43bf-aa0d-51628438e8b0",
   "metadata": {},
   "source": [
    "# Composite Score"
   ]
  },
  {
   "cell_type": "code",
   "execution_count": 3,
   "id": "d4d70fdb-90dc-4f51-98ea-58fc8c78e1f7",
   "metadata": {},
   "outputs": [],
   "source": [
    "file_list<-paste0(\"/home/jupyter/BRI_Figures_Final_V2/Dataset/scRNA/SF4/Average_LogNormalized_Expression/Average_LogNormalized_Expression_of_Celltypes_by_Sample_AIFI_L3/\", meta_data$pbmc_sample_id, \".csv\")"
   ]
  },
  {
   "cell_type": "code",
   "execution_count": 4,
   "id": "4ca48ea9-5282-4f3f-9a7d-2a0cd7867b47",
   "metadata": {},
   "outputs": [
    {
     "name": "stdout",
     "output_type": "stream",
     "text": [
      "[1] \"Total reading time: 11.849 seconds\"\n",
      "[1] \"The length of the list matches the length of the input path.\"\n"
     ]
    }
   ],
   "source": [
    "df_list<-read_pseudobulk_expression(file_list, mc_cores = 60)"
   ]
  },
  {
   "cell_type": "markdown",
   "id": "73099f00-3141-45ff-9363-ad33ede7a5be",
   "metadata": {},
   "source": [
    "### DESEQ2 result"
   ]
  },
  {
   "cell_type": "code",
   "execution_count": 7,
   "id": "fb3fe389-d21a-4188-80c3-6936d00f932f",
   "metadata": {},
   "outputs": [],
   "source": [
    "deseq2_result_Y1D0<-read.csv('/home/jupyter/BRI_Figures_Final_V2/Figure2/02_DEG/Deseq2_Result_Y1D0.csv')"
   ]
  },
  {
   "cell_type": "code",
   "execution_count": 8,
   "id": "05c1ad70-ea7b-4e67-83a1-3d19e532617d",
   "metadata": {},
   "outputs": [],
   "source": [
    "# filter significant genes \n",
    "deseq2_result_Y1D0_AgeGroup_sig<-deseq2_result_Y1D0 %>% \n",
    "  filter(contrast == \"cohort.cohortGuid\") %>%\n",
    "  filter(padj < 0.05,\n",
    "         abs(log2FoldChange) > 0.1)"
   ]
  },
  {
   "cell_type": "markdown",
   "id": "67d7a380-7aaa-4eb9-9d59-d34be6a5d725",
   "metadata": {},
   "source": [
    "### Get Composite Score"
   ]
  },
  {
   "cell_type": "code",
   "execution_count": 9,
   "id": "6f457c14-2a56-4f09-9c5d-5005d5fffbbe",
   "metadata": {},
   "outputs": [],
   "source": [
    "df_degs_counts<-as.data.frame(table(deseq2_result_Y1D0_AgeGroup_sig$celltype,deseq2_result_Y1D0_AgeGroup_sig$Direction))\n",
    "df_degs_counts_filtered<-df_degs_counts %>% arrange(Var1)   %>% filter(Freq>20)"
   ]
  },
  {
   "cell_type": "code",
   "execution_count": 10,
   "id": "a5dfe81e-d6b8-48a1-88f2-8aa77e9e6483",
   "metadata": {},
   "outputs": [],
   "source": [
    "score_df_list <- mclapply(unique(df_degs_counts_filtered$Var1), function(celltype_single) {\n",
    "    top_n <- 100\n",
    "    Direction_of_DEG <- \"HigherInBR2\"\n",
    "    \n",
    "    selected_genes <- deseq2_result_Y1D0_AgeGroup_sig %>%\n",
    "        filter(celltype == celltype_single, Direction == Direction_of_DEG) %>%\n",
    "        arrange(padj, desc(abs(log2FoldChange))) %>%\n",
    "        slice_head(n = top_n) %>%\n",
    "        select(gene) %>%\n",
    "        pull()\n",
    "    \n",
    "    long_format <- filter_genes_and_celltype(df_list, selected_genes, celltype_single, longformat = TRUE) %>%\n",
    "        left_join(meta_data) %>%\n",
    "        filter(!is.na(Mean_Expression)) %>%\n",
    "        group_by(Gene) %>%\n",
    "        mutate(Z_score_Mean_Expression = scale(Mean_Expression)) %>%\n",
    "        ungroup()\n",
    "    \n",
    "    composite_score_df <- long_format %>%\n",
    "        group_by(pbmc_sample_id) %>%\n",
    "        summarise(\n",
    "            composite_score_sum_mean = sum(Mean_Expression, na.rm = TRUE),\n",
    "            composite_score_sum_scaled_mean = sum(Z_score_Mean_Expression, na.rm = TRUE)\n",
    "        ) %>%\n",
    "        left_join(meta_data) %>%\n",
    "        mutate(celltype = celltype_single) %>%\n",
    "        as.data.frame()\n",
    "    \n",
    "    return(composite_score_df)\n",
    "}, mc.cores = 10)\n"
   ]
  },
  {
   "cell_type": "code",
   "execution_count": 11,
   "id": "296e4e14-1094-425c-8c94-1ede4d2f8c31",
   "metadata": {},
   "outputs": [],
   "source": [
    "composite_score_df_all<-do.call(rbind,score_df_list)"
   ]
  },
  {
   "cell_type": "code",
   "execution_count": 12,
   "id": "94e8498d-15c1-49a1-98e3-cb0b601da17d",
   "metadata": {},
   "outputs": [],
   "source": [
    "composite_score_df_all<-composite_score_df_all %>% filter (celltype==\"CM CD4 T cell\")"
   ]
  },
  {
   "cell_type": "code",
   "execution_count": 13,
   "id": "7e6410ac-1d3c-4ad7-9783-407567bfdc04",
   "metadata": {},
   "outputs": [],
   "source": [
    "composite_score_variable<-composite_score_df_all[c(\"subject.subjectGuid\",\"composite_score_sum_scaled_mean\")]"
   ]
  },
  {
   "cell_type": "markdown",
   "id": "df09d020-3fca-402b-ac17-d7211bf3f1d8",
   "metadata": {},
   "source": [
    "# NMF scores"
   ]
  },
  {
   "cell_type": "code",
   "execution_count": 14,
   "id": "c5ad741c-66c0-4e7a-8fe1-d66a873afcfc",
   "metadata": {},
   "outputs": [],
   "source": [
    "df_list<-mclapply(meta_data$pbmc_sample_id,function(x){\n",
    "df<-read.csv(paste0(\"/home/jupyter/BRI_Figures_Final_V2/Figure6/02_NMF_CD4_T_cell_Projection/NMF_Score_SF4/\",x,\".csv\"))\n",
    "df$pbmc_sample_id=x\n",
    "return(df)\n",
    "},mc.cores=60)"
   ]
  },
  {
   "cell_type": "code",
   "execution_count": 15,
   "id": "8fc3bc1b-f042-419d-9670-ad310beea69a",
   "metadata": {},
   "outputs": [],
   "source": [
    "df_combined<-do.call(rbind,df_list)"
   ]
  },
  {
   "cell_type": "code",
   "execution_count": 16,
   "id": "0c82a0b6-ffbe-4002-a9f5-fb386cd35561",
   "metadata": {},
   "outputs": [],
   "source": [
    "df_combined_longformat<- pivot_longer(df_combined, cols = starts_with(\"NMF\"), names_to = \"NMF_Scores\", values_to = \"value\")"
   ]
  },
  {
   "cell_type": "code",
   "execution_count": 17,
   "id": "ff2eb020-51bf-430d-aebd-56547bd4fb62",
   "metadata": {},
   "outputs": [
    {
     "name": "stderr",
     "output_type": "stream",
     "text": [
      "\u001b[1m\u001b[22m`summarise()` has grouped output by 'pbmc_sample_id', 'NMF_Scores'. You can\n",
      "override using the `.groups` argument.\n"
     ]
    }
   ],
   "source": [
    "df_combined_longformat<-df_combined_longformat %>% group_by(pbmc_sample_id,NMF_Scores,AIFI_L3) %>% summarise(AverageScore=mean(value))"
   ]
  },
  {
   "cell_type": "code",
   "execution_count": 18,
   "id": "ae92213a-2050-492e-bb34-766701dee4ea",
   "metadata": {},
   "outputs": [
    {
     "name": "stderr",
     "output_type": "stream",
     "text": [
      "\u001b[1m\u001b[22mJoining with `by = join_by(pbmc_sample_id)`\n"
     ]
    }
   ],
   "source": [
    "df_combined_longformat<-left_join(df_combined_longformat,meta_data) %>% ungroup()"
   ]
  },
  {
   "cell_type": "code",
   "execution_count": 19,
   "id": "22a48c20-a780-47e2-bbe3-16bb5140e20a",
   "metadata": {},
   "outputs": [],
   "source": [
    "df_combined_longformat_filtered_TH2<-df_combined_longformat %>% filter(NMF_Scores %in% c('NMF5_Th2'))%>% \n",
    "                           filter(AIFI_L3 %in% c('CM CD4 T cell')) %>% select(subject.subjectGuid,AverageScore) %>% as.data.frame()\n",
    "df_combined_longformat_filtered_Tfh<-df_combined_longformat %>% filter(NMF_Scores %in% c('NMF6_Tfh'))%>% \n",
    "                           filter(AIFI_L3 %in% c('CM CD4 T cell'))%>% select(subject.subjectGuid,AverageScore)%>% as.data.frame()"
   ]
  },
  {
   "cell_type": "code",
   "execution_count": 20,
   "id": "ac08f98f-7735-47f6-83c5-08bbcef68137",
   "metadata": {},
   "outputs": [],
   "source": [
    "colnames(df_combined_longformat_filtered_TH2)<-c(\"subject.subjectGuid\",\"NMF_Th2\")\n",
    "colnames(df_combined_longformat_filtered_Tfh)<-c(\"subject.subjectGuid\",\"NMF_Tfh\")"
   ]
  },
  {
   "cell_type": "code",
   "execution_count": 21,
   "id": "6647d448-0c69-44db-9615-34f10a216840",
   "metadata": {},
   "outputs": [
    {
     "name": "stderr",
     "output_type": "stream",
     "text": [
      "\u001b[1m\u001b[22mJoining with `by = join_by(subject.subjectGuid)`\n"
     ]
    }
   ],
   "source": [
    "nmf_variable<-left_join(df_combined_longformat_filtered_TH2,df_combined_longformat_filtered_Tfh)"
   ]
  },
  {
   "cell_type": "markdown",
   "id": "266231ff-e7ce-48a2-86b4-e39d3fbcbf31",
   "metadata": {},
   "source": [
    "# cell to cell interaction scores"
   ]
  },
  {
   "cell_type": "code",
   "execution_count": null,
   "id": "ea07ac8e-2a89-41a1-a6d1-517769b5acd1",
   "metadata": {},
   "outputs": [],
   "source": []
  },
  {
   "cell_type": "code",
   "execution_count": 23,
   "id": "80de33bf-eff4-43c8-b0f5-2f2fe5493605",
   "metadata": {},
   "outputs": [],
   "source": [
    "combined_significant_means<-read.csv(\"cellphonedb_SF4/combined_statistical_analysis_significant_means.csv\",check.names = FALSE)"
   ]
  },
  {
   "cell_type": "code",
   "execution_count": 24,
   "id": "92ae8e2c-a064-4e76-88ad-0fc4ed614caf",
   "metadata": {},
   "outputs": [],
   "source": [
    "combined_significant_means_long<-pivot_longer(\n",
    "  combined_significant_means,\n",
    "  cols = matches(\"\\\\|\"), # Select columns with pattern \"|\"\n",
    "  names_to = c(\"variable\"),\n",
    "  values_to = \"mean_interaction\"\n",
    ")"
   ]
  },
  {
   "cell_type": "code",
   "execution_count": 25,
   "id": "e19e514c-fab1-4ed7-8b0f-b2ef7b162b00",
   "metadata": {},
   "outputs": [],
   "source": [
    "combined_significant_means_long<-combined_significant_means_long[!is.na(combined_significant_means_long$mean_interaction),]"
   ]
  },
  {
   "cell_type": "code",
   "execution_count": 26,
   "id": "13536b95-6191-4618-a51b-a4acb3449942",
   "metadata": {},
   "outputs": [],
   "source": [
    "combined_significant_means_long<-combined_significant_means_long %>% filter(pbmc_sample_id%in% meta_data$pbmc_sample_id)%>% filter(pbmc_sample_id%in% meta_data$pbmc_sample_id)"
   ]
  },
  {
   "cell_type": "code",
   "execution_count": 27,
   "id": "e756abe8-09a5-46e3-a26f-bbd19ff4d798",
   "metadata": {},
   "outputs": [
    {
     "name": "stderr",
     "output_type": "stream",
     "text": [
      "\u001b[1m\u001b[22mJoining with `by = join_by(pbmc_sample_id)`\n"
     ]
    }
   ],
   "source": [
    "combined_significant_means_long<-left_join(combined_significant_means_long,meta_data)"
   ]
  },
  {
   "cell_type": "code",
   "execution_count": 28,
   "id": "07a908c8-ce42-4213-b1f9-ba65618ecccd",
   "metadata": {},
   "outputs": [],
   "source": [
    "CD40LG_CD40_MEAN<-combined_significant_means_long %>% filter(interacting_pair==\"CD40LG_CD40\",\n",
    "                                                      variable==\"CM CD4 T cell|Core memory B cell\")%>% \n",
    "select(subject.subjectGuid,mean_interaction)%>% as.data.frame()\n",
    "PTPRC_CD22_MEAN<-combined_significant_means_long %>% filter(interacting_pair==\"PTPRC_CD22\",\n",
    "                                                      variable==\"CM CD4 T cell|Core memory B cell\")%>% \n",
    "select(subject.subjectGuid,mean_interaction)%>% as.data.frame()"
   ]
  },
  {
   "cell_type": "code",
   "execution_count": 29,
   "id": "0e8d68cd-51d1-4edb-90ae-e4279eea3155",
   "metadata": {},
   "outputs": [],
   "source": [
    "colnames(CD40LG_CD40_MEAN)<-c(\"subject.subjectGuid\",\"InteractionScore_CD40LG_CD40\")\n",
    "colnames(PTPRC_CD22_MEAN)<-c(\"subject.subjectGuid\",\"InteractionScore_PTPRC_CD22\")"
   ]
  },
  {
   "cell_type": "code",
   "execution_count": 30,
   "id": "dbc69794-5e7c-4b18-b1d5-c6445454fdd6",
   "metadata": {},
   "outputs": [
    {
     "name": "stderr",
     "output_type": "stream",
     "text": [
      "\u001b[1m\u001b[22mJoining with `by = join_by(subject.subjectGuid)`\n"
     ]
    }
   ],
   "source": [
    "c2c_interaction_variable<-left_join(CD40LG_CD40_MEAN,PTPRC_CD22_MEAN)"
   ]
  },
  {
   "cell_type": "code",
   "execution_count": null,
   "id": "179ecf4b-cc50-4774-ad47-c769c54afa96",
   "metadata": {},
   "outputs": [],
   "source": []
  },
  {
   "cell_type": "markdown",
   "id": "b0d5ba59-aec7-45f4-8e07-5fce9f7ffd2e",
   "metadata": {},
   "source": [
    "# Mean Expression"
   ]
  },
  {
   "cell_type": "code",
   "execution_count": 31,
   "id": "e2fe7514-9ea6-437a-82a4-8ce058393081",
   "metadata": {},
   "outputs": [
    {
     "name": "stdout",
     "output_type": "stream",
     "text": [
      "[1] \"Total reading time: 13.117 seconds\"\n",
      "[1] \"The length of the list matches the length of the input path.\"\n"
     ]
    }
   ],
   "source": [
    "file_list<-paste0(\"/home/jupyter/BRI_Figures_Final_V2/Dataset/scRNA/SF4/Average_LogNormalized_Expression/Average_LogNormalized_Expression_of_Celltypes_by_Sample_AIFI_L3/\", meta_data$pbmc_sample_id, \".csv\")\n",
    "df_list<-read_pseudobulk_expression(file_list)"
   ]
  },
  {
   "cell_type": "code",
   "execution_count": 32,
   "id": "2f1fb057-38cc-4ca9-8d89-7218ad119d48",
   "metadata": {},
   "outputs": [],
   "source": [
    "selected_genes<-c(\"CD40LG\",\"PTPRC\",\"CXCR5\")\n"
   ]
  },
  {
   "cell_type": "code",
   "execution_count": 33,
   "id": "7e6c67ca-558a-484f-a064-0c1184c0c482",
   "metadata": {},
   "outputs": [
    {
     "name": "stderr",
     "output_type": "stream",
     "text": [
      "Warning message:\n",
      "“The melt generic in data.table has been passed a data.frame and will attempt to redirect to the relevant reshape2 method; please note that reshape2 is superseded and is no longer actively developed, and this redirection is now deprecated. To continue using melt methods from reshape2 while both libraries are attached, e.g. melt.list, you can prepend the namespace, i.e. reshape2::melt(exp_matrix). In the next version, this warning will become an error.”\n"
     ]
    }
   ],
   "source": [
    "df<-filter_genes_and_celltype(df_list, selected_genes, c('CM CD4 T cell'), longformat = TRUE)\n"
   ]
  },
  {
   "cell_type": "code",
   "execution_count": 34,
   "id": "37e7a057-1dac-497f-807d-6123da09e77f",
   "metadata": {},
   "outputs": [
    {
     "name": "stderr",
     "output_type": "stream",
     "text": [
      "\u001b[1m\u001b[22mJoining with `by = join_by(pbmc_sample_id)`\n"
     ]
    }
   ],
   "source": [
    "df<-left_join(df,meta_data)"
   ]
  },
  {
   "cell_type": "code",
   "execution_count": 35,
   "id": "2272e2ea-fe67-4230-a224-720e949a635c",
   "metadata": {},
   "outputs": [],
   "source": [
    "expression_CD40LG<-df %>% filter(Gene==\"CD40LG\") %>% \n",
    "select(subject.subjectGuid,Mean_Expression)%>% as.data.frame()\n",
    "expression_PTPRC<-df %>% filter(Gene==\"PTPRC\") %>% \n",
    "select(subject.subjectGuid,Mean_Expression)%>% as.data.frame()\n",
    "expression_CXCR5<-df %>% filter(Gene==\"CXCR5\") %>% \n",
    "select(subject.subjectGuid,Mean_Expression)%>% as.data.frame()"
   ]
  },
  {
   "cell_type": "code",
   "execution_count": 36,
   "id": "f292a85f-7b87-43c5-a7e2-4ca338ed2f3b",
   "metadata": {},
   "outputs": [],
   "source": [
    "colnames(expression_CD40LG)<-c(\"subject.subjectGuid\",\"Mean_Expression_CD40LG\")\n",
    "colnames(expression_PTPRC)<-c(\"subject.subjectGuid\",\"Mean_Expression_PTPRC\")\n",
    "colnames(expression_CXCR5)<-c(\"subject.subjectGuid\",\"Mean_Expression_CXCR5\")"
   ]
  },
  {
   "cell_type": "code",
   "execution_count": 37,
   "id": "3f704527-408b-4638-bb1b-903948295f43",
   "metadata": {},
   "outputs": [],
   "source": [
    "mean_expression_variable<-reduce(list(expression_CD40LG,expression_PTPRC,expression_CXCR5), full_join, by = \"subject.subjectGuid\")"
   ]
  },
  {
   "cell_type": "markdown",
   "id": "83d9cb0e-34fa-45b2-98e4-cc3519e8c1cb",
   "metadata": {},
   "source": [
    "# Combine all together"
   ]
  },
  {
   "cell_type": "code",
   "execution_count": 39,
   "id": "76fe568c-37a0-4ded-b60a-6f47d96830f6",
   "metadata": {},
   "outputs": [],
   "source": [
    "combined_df <- reduce(list(nmf_variable,\n",
    "                           composite_score_variable,\n",
    "                           c2c_interaction_variable,\n",
    "                           mean_expression_variable\n",
    "                           ), left_join, by = \"subject.subjectGuid\")"
   ]
  },
  {
   "cell_type": "code",
   "execution_count": 40,
   "id": "47b5c007-553e-4880-b192-b1b51229c413",
   "metadata": {},
   "outputs": [],
   "source": [
    "write.csv(combined_df,\"SF4_Tcell_data_forcorrelation.csv\")"
   ]
  },
  {
   "cell_type": "code",
   "execution_count": null,
   "id": "0d69147a-8a25-4020-8caf-7db9a889d5f1",
   "metadata": {},
   "outputs": [],
   "source": []
  }
 ],
 "metadata": {
  "kernelspec": {
   "display_name": "R 4",
   "language": "R",
   "name": "ir4"
  },
  "language_info": {
   "codemirror_mode": "r",
   "file_extension": ".r",
   "mimetype": "text/x-r-source",
   "name": "R",
   "pygments_lexer": "r",
   "version": "4.3.2"
  }
 },
 "nbformat": 4,
 "nbformat_minor": 5
}
