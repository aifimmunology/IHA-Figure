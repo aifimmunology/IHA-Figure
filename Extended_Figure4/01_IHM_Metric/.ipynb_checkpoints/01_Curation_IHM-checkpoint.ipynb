{
 "cells": [
  {
   "cell_type": "code",
   "execution_count": 1,
   "id": "07f382b8-387e-494c-901a-0bcb79964599",
   "metadata": {},
   "outputs": [
    {
     "name": "stderr",
     "output_type": "stream",
     "text": [
      "Warning message:\n",
      "“package ‘tidyverse’ was built under R version 4.3.3”\n",
      "Warning message:\n",
      "“package ‘tibble’ was built under R version 4.3.3”\n",
      "Warning message:\n",
      "“package ‘tidyr’ was built under R version 4.3.3”\n",
      "Warning message:\n",
      "“package ‘readr’ was built under R version 4.3.3”\n",
      "Warning message:\n",
      "“package ‘purrr’ was built under R version 4.3.3”\n",
      "Warning message:\n",
      "“package ‘dplyr’ was built under R version 4.3.3”\n",
      "Warning message:\n",
      "“package ‘stringr’ was built under R version 4.3.3”\n",
      "Warning message:\n",
      "“package ‘forcats’ was built under R version 4.3.3”\n",
      "Warning message:\n",
      "“package ‘lubridate’ was built under R version 4.3.3”\n",
      "Warning message:\n",
      "“package ‘data.table’ was built under R version 4.3.3”\n"
     ]
    }
   ],
   "source": [
    "\n",
    "quiet_library <- function(...) {\n",
    "    suppressPackageStartupMessages(library(...))\n",
    "}\n",
    "quiet_library('tidyverse')\n",
    "quiet_library('data.table')\n",
    "quiet_library('parallel')\n",
    "quiet_library('dplyr')"
   ]
  },
  {
   "cell_type": "code",
   "execution_count": 2,
   "id": "14308835-cc85-4b64-a697-cac376346aaf",
   "metadata": {},
   "outputs": [],
   "source": [
    "IHM_Score<-read.csv(\"SLP_Tempus_P462_IHM_surrogate_scores.txt\",sep=\"\\t\")"
   ]
  },
  {
   "cell_type": "code",
   "execution_count": 3,
   "id": "8105b5c2-898f-4ee7-8f94-889b1b1a3ab5",
   "metadata": {},
   "outputs": [],
   "source": [
    "meta_data_selected_RNA <- read.csv('/home//workspace/private/bri_figure_all_files_test/jupyter/BRI_Figures_Final_V2/Dataset/scRNA_meta_data-2024-05-09.csv')"
   ]
  },
  {
   "cell_type": "code",
   "execution_count": 4,
   "id": "29d8e28b-1ab9-4cd2-9d2d-6938b93f91c9",
   "metadata": {},
   "outputs": [],
   "source": [
    "map_values <- function(value) {\n",
    "  if (grepl(\"Standalone\", value, ignore.case = TRUE)) {\n",
    "    return(\"Stand-Alone\")\n",
    "  } else if (grepl(\"Stand-Alone\", value, ignore.case = TRUE)) {\n",
    "    return(\"Stand-Alone\")\n",
    "  } else if (grepl(\"Y1 Flu Day\", value)) {\n",
    "    value <- sub(\"80\", \"90\", value)\n",
    "    return(sub(\"Y1 Flu Day (\\\\d+).*\", \"Flu Year 1 Day \\\\1\", value))\n",
    "  } else if (grepl(\"Y2 Flu Day\", value)) {\n",
    "    value <- sub(\"80\", \"90\", value)\n",
    "    return(sub(\"Y2 Flu Day (\\\\d+).*\", \"Flu Year 2 Day \\\\1\", value))\n",
    "  } else if (grepl(\"Non-Flu Day\", value)) {\n",
    "    value <- sub(\"80\", \"90\", value)\n",
    "    return(sub(\"Non-Flu Day (\\\\d+).*\", \"Immune Variation Day \\\\1\", value))\n",
    "  } else {\n",
    "    return(value)\n",
    "  }\n",
    "}"
   ]
  },
  {
   "cell_type": "code",
   "execution_count": 5,
   "id": "8258de5b-bf7b-4987-aff2-5d82843d6a40",
   "metadata": {},
   "outputs": [],
   "source": [
    "IHM_Score$Visit<- sapply(IHM_Score$timePoint, map_values)"
   ]
  },
  {
   "cell_type": "code",
   "execution_count": 6,
   "id": "62310396-1bdd-4674-b213-f420d0b659c9",
   "metadata": {},
   "outputs": [],
   "source": [
    "meta_data_selected_RNA$Visit<-sapply(meta_data_selected_RNA$sample.visitName, map_values)"
   ]
  },
  {
   "cell_type": "code",
   "execution_count": 7,
   "id": "8122d9b6-ed32-41bd-999a-ca249a988286",
   "metadata": {},
   "outputs": [],
   "source": [
    "combined_df<-left_join(meta_data_selected_RNA,IHM_Score, by=c(\"Visit\",\"subject.subjectGuid\"=\"Sound_Life_ID\"))"
   ]
  },
  {
   "cell_type": "code",
   "execution_count": 100,
   "id": "4aeb556f-14c9-472a-b49a-5e69c0065a7b",
   "metadata": {},
   "outputs": [],
   "source": [
    "write.csv(combined_df,\"IHM_Score.csv\")"
   ]
  },
  {
   "cell_type": "code",
   "execution_count": null,
   "id": "6496faba-505d-4f8e-bb3c-ae16d40572ec",
   "metadata": {},
   "outputs": [],
   "source": []
  }
 ],
 "metadata": {
  "kernelspec": {
   "display_name": "R_BRI_Figures",
   "language": "R",
   "name": "r_bri_figures"
  },
  "language_info": {
   "codemirror_mode": "r",
   "file_extension": ".r",
   "mimetype": "text/x-r-source",
   "name": "R",
   "pygments_lexer": "r",
   "version": "4.3.2"
  }
 },
 "nbformat": 4,
 "nbformat_minor": 5
}
