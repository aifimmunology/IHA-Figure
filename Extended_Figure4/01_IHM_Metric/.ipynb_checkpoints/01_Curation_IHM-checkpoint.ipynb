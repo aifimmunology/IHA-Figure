{
 "cells": [
  {
   "cell_type": "code",
   "execution_count": 1,
   "id": "07f382b8-387e-494c-901a-0bcb79964599",
   "metadata": {},
   "outputs": [
    {
     "name": "stderr",
     "output_type": "stream",
     "text": [
      "Warning message:\n",
      "“package ‘tidyverse’ was built under R version 4.3.3”\n",
      "Warning message:\n",
      "“package ‘tibble’ was built under R version 4.3.3”\n",
      "Warning message:\n",
      "“package ‘tidyr’ was built under R version 4.3.3”\n",
      "Warning message:\n",
      "“package ‘readr’ was built under R version 4.3.3”\n",
      "Warning message:\n",
      "“package ‘purrr’ was built under R version 4.3.3”\n",
      "Warning message:\n",
      "“package ‘dplyr’ was built under R version 4.3.3”\n",
      "Warning message:\n",
      "“package ‘stringr’ was built under R version 4.3.3”\n",
      "Warning message:\n",
      "“package ‘forcats’ was built under R version 4.3.3”\n",
      "Warning message:\n",
      "“package ‘lubridate’ was built under R version 4.3.3”\n",
      "Warning message:\n",
      "“package ‘data.table’ was built under R version 4.3.3”\n"
     ]
    }
   ],
   "source": [
    "\n",
    "quiet_library <- function(...) {\n",
    "    suppressPackageStartupMessages(library(...))\n",
    "}\n",
    "quiet_library('tidyverse')\n",
    "quiet_library('data.table')\n",
    "quiet_library('parallel')\n",
    "quiet_library('dplyr')"
   ]
  },
  {
   "cell_type": "code",
   "execution_count": 2,
   "id": "14308835-cc85-4b64-a697-cac376346aaf",
   "metadata": {},
   "outputs": [],
   "source": [
    "IHM_Score<-read.csv(\"SLP_Tempus_P462_IHM_surrogate_scores.txt\",sep=\"\\t\")"
   ]
  },
  {
   "cell_type": "code",
   "execution_count": 3,
   "id": "8105b5c2-898f-4ee7-8f94-889b1b1a3ab5",
   "metadata": {},
   "outputs": [],
   "source": [
    "meta_data_selected_RNA <- read.csv('/home//workspace/private/bri_figure_all_files_test/jupyter/BRI_Figures_Final_V2/Dataset/scRNA_meta_data-2024-05-09.csv')"
   ]
  },
  {
   "cell_type": "code",
   "execution_count": 4,
   "id": "29d8e28b-1ab9-4cd2-9d2d-6938b93f91c9",
   "metadata": {},
   "outputs": [],
   "source": [
    "map_values <- function(value) {\n",
    "  if (grepl(\"Standalone\", value, ignore.case = TRUE)) {\n",
    "    return(\"Stand-Alone\")\n",
    "  } else if (grepl(\"Stand-Alone\", value, ignore.case = TRUE)) {\n",
    "    return(\"Stand-Alone\")\n",
    "  } else if (grepl(\"Y1 Flu Day\", value)) {\n",
    "    value <- sub(\"80\", \"90\", value)\n",
    "    return(sub(\"Y1 Flu Day (\\\\d+).*\", \"Flu Year 1 Day \\\\1\", value))\n",
    "  } else if (grepl(\"Y2 Flu Day\", value)) {\n",
    "    value <- sub(\"80\", \"90\", value)\n",
    "    return(sub(\"Y2 Flu Day (\\\\d+).*\", \"Flu Year 2 Day \\\\1\", value))\n",
    "  } else if (grepl(\"Non-Flu Day\", value)) {\n",
    "    value <- sub(\"80\", \"90\", value)\n",
    "    return(sub(\"Non-Flu Day (\\\\d+).*\", \"Immune Variation Day \\\\1\", value))\n",
    "  } else {\n",
    "    return(value)\n",
    "  }\n",
    "}"
   ]
  },
  {
   "cell_type": "code",
   "execution_count": 5,
   "id": "8258de5b-bf7b-4987-aff2-5d82843d6a40",
   "metadata": {},
   "outputs": [],
   "source": [
    "IHM_Score$Visit<- sapply(IHM_Score$timePoint, map_values)"
   ]
  },
  {
   "cell_type": "code",
   "execution_count": 6,
   "id": "62310396-1bdd-4674-b213-f420d0b659c9",
   "metadata": {},
   "outputs": [],
   "source": [
    "meta_data_selected_RNA$Visit<-sapply(meta_data_selected_RNA$sample.visitName, map_values)"
   ]
  },
  {
   "cell_type": "code",
   "execution_count": 7,
   "id": "8122d9b6-ed32-41bd-999a-ca249a988286",
   "metadata": {},
   "outputs": [],
   "source": [
    "combined_df<-left_join(meta_data_selected_RNA,IHM_Score, by=c(\"Visit\",\"subject.subjectGuid\"=\"Sound_Life_ID\"))"
   ]
  },
  {
   "cell_type": "code",
   "execution_count": 8,
   "id": "07e90382-a10a-47a0-8e9e-2e21d553f9a7",
   "metadata": {},
   "outputs": [
    {
     "data": {
      "text/html": [
       "<table class=\"dataframe\">\n",
       "<caption>A data.frame: 2 × 36</caption>\n",
       "<thead>\n",
       "\t<tr><th></th><th scope=col>X</th><th scope=col>Unnamed..0</th><th scope=col>lastUpdated</th><th scope=col>sample.id</th><th scope=col>sample.bridgingControl</th><th scope=col>sample.sampleKitGuid</th><th scope=col>sample.visitName</th><th scope=col>sample.visitDetails</th><th scope=col>sample.drawDate</th><th scope=col>sample.daysSinceFirstVisit</th><th scope=col>⋯</th><th scope=col>pbmc_sample_id</th><th scope=col>subject.covidVaxDose1.daysSinceFirstVisit</th><th scope=col>subject.covidVaxDose2.daysSinceFirstVisit</th><th scope=col>Covid_exclusion</th><th scope=col>subjectGuid</th><th scope=col>CMV</th><th scope=col>Visit</th><th scope=col>sample</th><th scope=col>surrogate.score</th><th scope=col>timePoint</th></tr>\n",
       "\t<tr><th></th><th scope=col>&lt;int&gt;</th><th scope=col>&lt;int&gt;</th><th scope=col>&lt;chr&gt;</th><th scope=col>&lt;chr&gt;</th><th scope=col>&lt;chr&gt;</th><th scope=col>&lt;chr&gt;</th><th scope=col>&lt;chr&gt;</th><th scope=col>&lt;chr&gt;</th><th scope=col>&lt;chr&gt;</th><th scope=col>&lt;int&gt;</th><th scope=col>⋯</th><th scope=col>&lt;chr&gt;</th><th scope=col>&lt;dbl&gt;</th><th scope=col>&lt;dbl&gt;</th><th scope=col>&lt;chr&gt;</th><th scope=col>&lt;chr&gt;</th><th scope=col>&lt;chr&gt;</th><th scope=col>&lt;chr&gt;</th><th scope=col>&lt;chr&gt;</th><th scope=col>&lt;dbl&gt;</th><th scope=col>&lt;chr&gt;</th></tr>\n",
       "</thead>\n",
       "<tbody>\n",
       "\t<tr><th scope=row>30</th><td> 28</td><td> 29</td><td>2024-05-10T17:12:44.959Z</td><td>42756527-f764-4e83-ac50-762ce216966a</td><td>False</td><td>KT00030</td><td>Flu Year 1 Day 0</td><td>N/A - Flu-Series Timepoint Only</td><td>2019-12-01T00:00:00Z</td><td>  0</td><td>⋯</td><td>PB00030-02</td><td>443</td><td>466</td><td>no</td><td>BR1013</td><td>Negative</td><td>Flu Year 1 Day 0</td><td>lib82118</td><td>-3.973</td><td>Y1 Flu Day 0  </td></tr>\n",
       "\t<tr><th scope=row>243</th><td>240</td><td>241</td><td>2024-05-10T17:12:44.959Z</td><td>97e8445b-dad3-42f9-8606-d855564ead36</td><td>False</td><td>KT00546</td><td>Flu Year 1 Day 7</td><td>N/A - Flu-Series Timepoint Only</td><td>2020-10-01T00:00:00Z</td><td>266</td><td>⋯</td><td>PB00546-01</td><td>422</td><td>450</td><td>no</td><td>BR1030</td><td>Positive</td><td>Flu Year 1 Day 7</td><td>lib82122</td><td> 0.327</td><td>Y1 Flu Day 7-9</td></tr>\n",
       "</tbody>\n",
       "</table>\n"
      ],
      "text/latex": [
       "A data.frame: 2 × 36\n",
       "\\begin{tabular}{r|lllllllllllllllllllll}\n",
       "  & X & Unnamed..0 & lastUpdated & sample.id & sample.bridgingControl & sample.sampleKitGuid & sample.visitName & sample.visitDetails & sample.drawDate & sample.daysSinceFirstVisit & ⋯ & pbmc\\_sample\\_id & subject.covidVaxDose1.daysSinceFirstVisit & subject.covidVaxDose2.daysSinceFirstVisit & Covid\\_exclusion & subjectGuid & CMV & Visit & sample & surrogate.score & timePoint\\\\\n",
       "  & <int> & <int> & <chr> & <chr> & <chr> & <chr> & <chr> & <chr> & <chr> & <int> & ⋯ & <chr> & <dbl> & <dbl> & <chr> & <chr> & <chr> & <chr> & <chr> & <dbl> & <chr>\\\\\n",
       "\\hline\n",
       "\t30 &  28 &  29 & 2024-05-10T17:12:44.959Z & 42756527-f764-4e83-ac50-762ce216966a & False & KT00030 & Flu Year 1 Day 0 & N/A - Flu-Series Timepoint Only & 2019-12-01T00:00:00Z &   0 & ⋯ & PB00030-02 & 443 & 466 & no & BR1013 & Negative & Flu Year 1 Day 0 & lib82118 & -3.973 & Y1 Flu Day 0  \\\\\n",
       "\t243 & 240 & 241 & 2024-05-10T17:12:44.959Z & 97e8445b-dad3-42f9-8606-d855564ead36 & False & KT00546 & Flu Year 1 Day 7 & N/A - Flu-Series Timepoint Only & 2020-10-01T00:00:00Z & 266 & ⋯ & PB00546-01 & 422 & 450 & no & BR1030 & Positive & Flu Year 1 Day 7 & lib82122 &  0.327 & Y1 Flu Day 7-9\\\\\n",
       "\\end{tabular}\n"
      ],
      "text/markdown": [
       "\n",
       "A data.frame: 2 × 36\n",
       "\n",
       "| <!--/--> | X &lt;int&gt; | Unnamed..0 &lt;int&gt; | lastUpdated &lt;chr&gt; | sample.id &lt;chr&gt; | sample.bridgingControl &lt;chr&gt; | sample.sampleKitGuid &lt;chr&gt; | sample.visitName &lt;chr&gt; | sample.visitDetails &lt;chr&gt; | sample.drawDate &lt;chr&gt; | sample.daysSinceFirstVisit &lt;int&gt; | ⋯ ⋯ | pbmc_sample_id &lt;chr&gt; | subject.covidVaxDose1.daysSinceFirstVisit &lt;dbl&gt; | subject.covidVaxDose2.daysSinceFirstVisit &lt;dbl&gt; | Covid_exclusion &lt;chr&gt; | subjectGuid &lt;chr&gt; | CMV &lt;chr&gt; | Visit &lt;chr&gt; | sample &lt;chr&gt; | surrogate.score &lt;dbl&gt; | timePoint &lt;chr&gt; |\n",
       "|---|---|---|---|---|---|---|---|---|---|---|---|---|---|---|---|---|---|---|---|---|---|\n",
       "| 30 |  28 |  29 | 2024-05-10T17:12:44.959Z | 42756527-f764-4e83-ac50-762ce216966a | False | KT00030 | Flu Year 1 Day 0 | N/A - Flu-Series Timepoint Only | 2019-12-01T00:00:00Z |   0 | ⋯ | PB00030-02 | 443 | 466 | no | BR1013 | Negative | Flu Year 1 Day 0 | lib82118 | -3.973 | Y1 Flu Day 0   |\n",
       "| 243 | 240 | 241 | 2024-05-10T17:12:44.959Z | 97e8445b-dad3-42f9-8606-d855564ead36 | False | KT00546 | Flu Year 1 Day 7 | N/A - Flu-Series Timepoint Only | 2020-10-01T00:00:00Z | 266 | ⋯ | PB00546-01 | 422 | 450 | no | BR1030 | Positive | Flu Year 1 Day 7 | lib82122 |  0.327 | Y1 Flu Day 7-9 |\n",
       "\n"
      ],
      "text/plain": [
       "    X   Unnamed..0 lastUpdated             \n",
       "30   28  29        2024-05-10T17:12:44.959Z\n",
       "243 240 241        2024-05-10T17:12:44.959Z\n",
       "    sample.id                            sample.bridgingControl\n",
       "30  42756527-f764-4e83-ac50-762ce216966a False                 \n",
       "243 97e8445b-dad3-42f9-8606-d855564ead36 False                 \n",
       "    sample.sampleKitGuid sample.visitName sample.visitDetails            \n",
       "30  KT00030              Flu Year 1 Day 0 N/A - Flu-Series Timepoint Only\n",
       "243 KT00546              Flu Year 1 Day 7 N/A - Flu-Series Timepoint Only\n",
       "    sample.drawDate      sample.daysSinceFirstVisit ⋯ pbmc_sample_id\n",
       "30  2019-12-01T00:00:00Z   0                        ⋯ PB00030-02    \n",
       "243 2020-10-01T00:00:00Z 266                        ⋯ PB00546-01    \n",
       "    subject.covidVaxDose1.daysSinceFirstVisit\n",
       "30  443                                      \n",
       "243 422                                      \n",
       "    subject.covidVaxDose2.daysSinceFirstVisit Covid_exclusion subjectGuid\n",
       "30  466                                       no              BR1013     \n",
       "243 450                                       no              BR1030     \n",
       "    CMV      Visit            sample   surrogate.score timePoint     \n",
       "30  Negative Flu Year 1 Day 0 lib82118 -3.973          Y1 Flu Day 0  \n",
       "243 Positive Flu Year 1 Day 7 lib82122  0.327          Y1 Flu Day 7-9"
      ]
     },
     "metadata": {},
     "output_type": "display_data"
    }
   ],
   "source": [
    "combined_df[duplicated(combined_df$pbmc_sample_id),]"
   ]
  },
  {
   "cell_type": "code",
   "execution_count": 9,
   "id": "b963d414-595b-4ec6-8254-7f7b1cf45d7b",
   "metadata": {},
   "outputs": [
    {
     "data": {
      "text/html": [
       "<table class=\"dataframe\">\n",
       "<caption>A data.frame: 11 × 5</caption>\n",
       "<thead>\n",
       "\t<tr><th scope=col>sample</th><th scope=col>surrogate.score</th><th scope=col>Sound_Life_ID</th><th scope=col>timePoint</th><th scope=col>Visit</th></tr>\n",
       "\t<tr><th scope=col>&lt;chr&gt;</th><th scope=col>&lt;dbl&gt;</th><th scope=col>&lt;chr&gt;</th><th scope=col>&lt;chr&gt;</th><th scope=col>&lt;chr&gt;</th></tr>\n",
       "</thead>\n",
       "<tbody>\n",
       "\t<tr><td>lib80396</td><td>-0.675</td><td>BR1013</td><td>Y1 Flu Day 7-9           </td><td>Flu Year 1 Day 7       </td></tr>\n",
       "\t<tr><td>lib80397</td><td>-0.848</td><td>BR1013</td><td>Y1 Flu Day 80-100        </td><td>Flu Year 1 Day 90      </td></tr>\n",
       "\t<tr><td>lib80398</td><td>-0.651</td><td>BR1013</td><td>Y2 Flu Day 0             </td><td>Flu Year 2 Day 0       </td></tr>\n",
       "\t<tr><td>lib80399</td><td> 0.139</td><td>BR1013</td><td>Y2 Flu Day 7-9           </td><td>Flu Year 2 Day 7       </td></tr>\n",
       "\t<tr><td>lib80400</td><td>-0.281</td><td>BR1013</td><td>Y2 Flu Day 80-100        </td><td>Flu Year 2 Day 90      </td></tr>\n",
       "\t<tr><td>lib80401</td><td> 0.093</td><td>BR1013</td><td>Non-Flu Day 0            </td><td>Immune Variation Day 0 </td></tr>\n",
       "\t<tr><td>lib80402</td><td> 0.134</td><td>BR1013</td><td>Non-Flu Day 7-9          </td><td>Immune Variation Day 7 </td></tr>\n",
       "\t<tr><td>lib80403</td><td> 0.213</td><td>BR1013</td><td>Non-Flu Day 80-100       </td><td>Immune Variation Day 90</td></tr>\n",
       "\t<tr><td>lib80404</td><td>-0.124</td><td>BR1013</td><td>Standalone Baseline Visit</td><td>Stand-Alone            </td></tr>\n",
       "\t<tr><td>lib81391</td><td>-4.215</td><td>BR1013</td><td>Y1 Flu Day 0             </td><td>Flu Year 1 Day 0       </td></tr>\n",
       "\t<tr><td>lib82118</td><td>-3.973</td><td>BR1013</td><td>Y1 Flu Day 0             </td><td>Flu Year 1 Day 0       </td></tr>\n",
       "</tbody>\n",
       "</table>\n"
      ],
      "text/latex": [
       "A data.frame: 11 × 5\n",
       "\\begin{tabular}{lllll}\n",
       " sample & surrogate.score & Sound\\_Life\\_ID & timePoint & Visit\\\\\n",
       " <chr> & <dbl> & <chr> & <chr> & <chr>\\\\\n",
       "\\hline\n",
       "\t lib80396 & -0.675 & BR1013 & Y1 Flu Day 7-9            & Flu Year 1 Day 7       \\\\\n",
       "\t lib80397 & -0.848 & BR1013 & Y1 Flu Day 80-100         & Flu Year 1 Day 90      \\\\\n",
       "\t lib80398 & -0.651 & BR1013 & Y2 Flu Day 0              & Flu Year 2 Day 0       \\\\\n",
       "\t lib80399 &  0.139 & BR1013 & Y2 Flu Day 7-9            & Flu Year 2 Day 7       \\\\\n",
       "\t lib80400 & -0.281 & BR1013 & Y2 Flu Day 80-100         & Flu Year 2 Day 90      \\\\\n",
       "\t lib80401 &  0.093 & BR1013 & Non-Flu Day 0             & Immune Variation Day 0 \\\\\n",
       "\t lib80402 &  0.134 & BR1013 & Non-Flu Day 7-9           & Immune Variation Day 7 \\\\\n",
       "\t lib80403 &  0.213 & BR1013 & Non-Flu Day 80-100        & Immune Variation Day 90\\\\\n",
       "\t lib80404 & -0.124 & BR1013 & Standalone Baseline Visit & Stand-Alone            \\\\\n",
       "\t lib81391 & -4.215 & BR1013 & Y1 Flu Day 0              & Flu Year 1 Day 0       \\\\\n",
       "\t lib82118 & -3.973 & BR1013 & Y1 Flu Day 0              & Flu Year 1 Day 0       \\\\\n",
       "\\end{tabular}\n"
      ],
      "text/markdown": [
       "\n",
       "A data.frame: 11 × 5\n",
       "\n",
       "| sample &lt;chr&gt; | surrogate.score &lt;dbl&gt; | Sound_Life_ID &lt;chr&gt; | timePoint &lt;chr&gt; | Visit &lt;chr&gt; |\n",
       "|---|---|---|---|---|\n",
       "| lib80396 | -0.675 | BR1013 | Y1 Flu Day 7-9            | Flu Year 1 Day 7        |\n",
       "| lib80397 | -0.848 | BR1013 | Y1 Flu Day 80-100         | Flu Year 1 Day 90       |\n",
       "| lib80398 | -0.651 | BR1013 | Y2 Flu Day 0              | Flu Year 2 Day 0        |\n",
       "| lib80399 |  0.139 | BR1013 | Y2 Flu Day 7-9            | Flu Year 2 Day 7        |\n",
       "| lib80400 | -0.281 | BR1013 | Y2 Flu Day 80-100         | Flu Year 2 Day 90       |\n",
       "| lib80401 |  0.093 | BR1013 | Non-Flu Day 0             | Immune Variation Day 0  |\n",
       "| lib80402 |  0.134 | BR1013 | Non-Flu Day 7-9           | Immune Variation Day 7  |\n",
       "| lib80403 |  0.213 | BR1013 | Non-Flu Day 80-100        | Immune Variation Day 90 |\n",
       "| lib80404 | -0.124 | BR1013 | Standalone Baseline Visit | Stand-Alone             |\n",
       "| lib81391 | -4.215 | BR1013 | Y1 Flu Day 0              | Flu Year 1 Day 0        |\n",
       "| lib82118 | -3.973 | BR1013 | Y1 Flu Day 0              | Flu Year 1 Day 0        |\n",
       "\n"
      ],
      "text/plain": [
       "   sample   surrogate.score Sound_Life_ID timePoint                \n",
       "1  lib80396 -0.675          BR1013        Y1 Flu Day 7-9           \n",
       "2  lib80397 -0.848          BR1013        Y1 Flu Day 80-100        \n",
       "3  lib80398 -0.651          BR1013        Y2 Flu Day 0             \n",
       "4  lib80399  0.139          BR1013        Y2 Flu Day 7-9           \n",
       "5  lib80400 -0.281          BR1013        Y2 Flu Day 80-100        \n",
       "6  lib80401  0.093          BR1013        Non-Flu Day 0            \n",
       "7  lib80402  0.134          BR1013        Non-Flu Day 7-9          \n",
       "8  lib80403  0.213          BR1013        Non-Flu Day 80-100       \n",
       "9  lib80404 -0.124          BR1013        Standalone Baseline Visit\n",
       "10 lib81391 -4.215          BR1013        Y1 Flu Day 0             \n",
       "11 lib82118 -3.973          BR1013        Y1 Flu Day 0             \n",
       "   Visit                  \n",
       "1  Flu Year 1 Day 7       \n",
       "2  Flu Year 1 Day 90      \n",
       "3  Flu Year 2 Day 0       \n",
       "4  Flu Year 2 Day 7       \n",
       "5  Flu Year 2 Day 90      \n",
       "6  Immune Variation Day 0 \n",
       "7  Immune Variation Day 7 \n",
       "8  Immune Variation Day 90\n",
       "9  Stand-Alone            \n",
       "10 Flu Year 1 Day 0       \n",
       "11 Flu Year 1 Day 0       "
      ]
     },
     "metadata": {},
     "output_type": "display_data"
    }
   ],
   "source": [
    "IHM_Score %>% filter(Sound_Life_ID\t\t==\"BR1013\")"
   ]
  },
  {
   "cell_type": "code",
   "execution_count": 100,
   "id": "4aeb556f-14c9-472a-b49a-5e69c0065a7b",
   "metadata": {},
   "outputs": [],
   "source": [
    "write.csv(combined_df,\"IHM_Score.csv\")"
   ]
  },
  {
   "cell_type": "code",
   "execution_count": null,
   "id": "6496faba-505d-4f8e-bb3c-ae16d40572ec",
   "metadata": {},
   "outputs": [],
   "source": []
  }
 ],
 "metadata": {
  "kernelspec": {
   "display_name": "R_BRI_Figures",
   "language": "R",
   "name": "r_bri_figures"
  },
  "language_info": {
   "codemirror_mode": "r",
   "file_extension": ".r",
   "mimetype": "text/x-r-source",
   "name": "R",
   "pygments_lexer": "r",
   "version": "4.3.2"
  }
 },
 "nbformat": 4,
 "nbformat_minor": 5
}
