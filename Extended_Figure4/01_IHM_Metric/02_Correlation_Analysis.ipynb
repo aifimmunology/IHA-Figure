{
 "cells": [
  {
   "cell_type": "code",
   "execution_count": 2,
   "id": "4277b63f-55bb-4fd1-bd09-ff3b7bb4ca68",
   "metadata": {},
   "outputs": [],
   "source": [
    "suppressPackageStartupMessages(library(dplyr))\n",
    "suppressPackageStartupMessages(library(tidyr))\n",
    "suppressPackageStartupMessages(library(tibble))\n",
    "suppressPackageStartupMessages(library(ggplot2))\n",
    "suppressPackageStartupMessages(library(stringr))\n",
    "library(ggrepel)\n",
    "library(reshape2)\n",
    "library(rstatix)\n",
    "library(ggpubr)\n",
    "library(destiny)\n",
    "set.seed(123)\n"
   ]
  },
  {
   "cell_type": "code",
   "execution_count": null,
   "id": "3d7f6651-42fa-458d-969b-2792226240fe",
   "metadata": {},
   "outputs": [],
   "source": [
    "meta_data<- read.csv('/home//workspace/private/bri_figure_all_files_test/jupyter/BRI_Figures_Final_V2/Dataset/scRNA_meta_data-2024-05-09.csv')"
   ]
  },
  {
   "cell_type": "markdown",
   "id": "ce181cf1-93fe-4b76-b234-b09864e63127",
   "metadata": {},
   "source": [
    "# IHM Score"
   ]
  },
  {
   "cell_type": "code",
   "execution_count": null,
   "id": "ff4a2669-a5d6-40d1-bcde-5cdbdffee99b",
   "metadata": {},
   "outputs": [],
   "source": [
    "IHM<-read.csv('IHM_Score.csv')%>% select(sample.sampleKitGuid,surrogate.score)\n",
    "colnames(IHM)[2]<-\"IHM_Score\"\n",
    "IHM<-IHM[!duplicated(IHM$sample.sampleKitGuid),]"
   ]
  },
  {
   "cell_type": "code",
   "execution_count": null,
   "id": "477eee26-45ef-4085-ae96-ac979e59a8a0",
   "metadata": {},
   "outputs": [],
   "source": [
    "\n"
   ]
  },
  {
   "cell_type": "markdown",
   "id": "a7752001-54b2-46ae-be7b-39d5f4204da8",
   "metadata": {},
   "source": [
    "# IMM-Age"
   ]
  },
  {
   "cell_type": "code",
   "execution_count": null,
   "id": "9372f637-e72a-495b-b295-793b54636f20",
   "metadata": {},
   "outputs": [],
   "source": [
    "IMM_Age<-read.csv(\"../02_IMM_Age_Metric/IMM_Age_Score.csv\")\n",
    "IMM_Age<-IMM_Age %>% select(SampleID,IMM_Age_Score)"
   ]
  },
  {
   "cell_type": "code",
   "execution_count": null,
   "id": "1beb75c8-b382-45f7-90a5-7e1f1b43e5c2",
   "metadata": {},
   "outputs": [],
   "source": []
  },
  {
   "cell_type": "markdown",
   "id": "727d2e66-c07e-42b8-907a-cede0f74c1a8",
   "metadata": {},
   "source": [
    "# Celltype specific RNA Metric Score (AIFI)"
   ]
  },
  {
   "cell_type": "code",
   "execution_count": null,
   "id": "a7cff294-1eda-47ed-9c4c-b907cf85e4a6",
   "metadata": {},
   "outputs": [],
   "source": [
    "composite_score_down<-read.csv('/home//workspace/private/bri_figure_all_files_test/jupyter/BRI_Figures_Final_V2/Figure1/04_CompositeScore/BRI_CompositeScore_Down.csv')%>% select(sample.sampleKitGuid,composite_score_sum_scaled_mean,celltype\t)\n",
    "composite_score_up<-read.csv('/home//workspace/private/bri_figure_all_files_test/jupyter/BRI_Figures_Final_V2/Figure1/04_CompositeScore/BRI_CompositeScore_Up.csv')%>% select(sample.sampleKitGuid,composite_score_sum_scaled_mean,celltype\t)"
   ]
  },
  {
   "cell_type": "code",
   "execution_count": null,
   "id": "95810742-18d5-416b-afab-3b91ab12b950",
   "metadata": {},
   "outputs": [],
   "source": [
    "colnames(composite_score_down)[2]<-'Composite_Score_Down'\n",
    "colnames(composite_score_up)[2]<-'Composite_Score_Up'"
   ]
  },
  {
   "cell_type": "markdown",
   "id": "7020fda6-e450-49c9-9d29-a2ea306d7d34",
   "metadata": {},
   "source": [
    "# Combine them"
   ]
  },
  {
   "cell_type": "code",
   "execution_count": null,
   "id": "a6ddc1ab-7784-4a3a-9ea5-11f51ca5f315",
   "metadata": {},
   "outputs": [],
   "source": [
    "df_combined<-left_join(composite_score_down,composite_score_up )"
   ]
  },
  {
   "cell_type": "code",
   "execution_count": null,
   "id": "b93f1904-15fc-4f7b-9a11-07138a7f3c77",
   "metadata": {},
   "outputs": [],
   "source": [
    "df_combined<-left_join(df_combined,IMM_Age,by=c(\"sample.sampleKitGuid\"=\"SampleID\"))\n",
    "df_combined<-left_join(df_combined,IHM,by=c(\"sample.sampleKitGuid\"=\"sample.sampleKitGuid\"))"
   ]
  },
  {
   "cell_type": "code",
   "execution_count": null,
   "id": "3b70cc8e-7ce2-4bf9-a330-fe2b752ae7dd",
   "metadata": {},
   "outputs": [],
   "source": [
    "df_combined<-df_combined %>% select(sample.sampleKitGuid,celltype,Composite_Score_Down,Composite_Score_Up,IMM_Age_Score,IHM_Score)"
   ]
  },
  {
   "cell_type": "code",
   "execution_count": null,
   "id": "3fc7ca75-ed45-4818-80e6-f08d68ccae54",
   "metadata": {},
   "outputs": [],
   "source": [
    "df_combined<-left_join(df_combined,meta_data,by=c(\"sample.sampleKitGuid\"=\"sample.sampleKitGuid\"))"
   ]
  },
  {
   "cell_type": "code",
   "execution_count": null,
   "id": "a85426b5-024e-4949-82f7-8e2506dddb24",
   "metadata": {},
   "outputs": [],
   "source": [
    "add_spearman_correlation <- function(data, mapping, ...) {\n",
    "  x <- eval_tidy(mapping$x, data)\n",
    "  y <- eval_tidy(mapping$y, data)\n",
    "  cor_test <- cor.test(x, y, method = \"spearman\")\n",
    "  label <- paste0(\"rho = \", round(cor_test$estimate, 2), \"\\np = \", format.pval(cor_test$p.value, digits = 2))\n",
    "  ggplot2::annotate(\"text\", x = -Inf, y = Inf, label = label, hjust = -0.1, vjust = 1.1, size = 2.5, ...)\n",
    "}"
   ]
  },
  {
   "cell_type": "code",
   "execution_count": null,
   "id": "74bfe627-07cf-40ca-87a3-f3132979aa00",
   "metadata": {},
   "outputs": [],
   "source": [
    "options(repr.plot.width = 12, repr.plot.height = 7)\n",
    "\n",
    "ggplot(data = df_combined %>% filter(sample.visitName==\"Flu Year 1 Day 0\"), aes(x = IMM_Age_Score, \n",
    "                                                                                     y = Composite_Score_Down)) + \n",
    "  geom_point(size=1, stroke=0, aes(color=`cohort.cohortGuid`\t)) +\n",
    "  theme_classic(base_size=14) +\n",
    "  geom_smooth(method=lm , color=\"black\", linewidth=0.5,  se=TRUE) +    scale_color_manual(values = c(\"Older\" = '#bf812d', \"Young\" = '#35978f'))+\n",
    "\n",
    "  theme(\n",
    "    axis.line = element_line(colour = \"black\", linewidth = 0.1),\n",
    "    legend.position = \"top\",\n",
    "    panel.grid.major = element_blank(),\n",
    "    panel.grid.minor = element_blank(),\n",
    "    panel.border = element_blank(),\n",
    "    panel.background = element_blank(),\n",
    "    strip.background = element_rect(linewidth = 0),\n",
    "    axis.title.x = element_text(margin = margin(t = 1))\n",
    "  ) +\n",
    "  facet_wrap(~celltype,  scales='free',ncol=4) +\n",
    "  stat_cor(aes(label = ..r.label..), method = \"pearson\", size = 5, label.x.npc = 'left', color='blue',label.y.npc = 'top') +\n",
    "  stat_cor(aes(label = ..p.label..), method = \"pearson\", size = 5, label.x.npc = 'left', color='blue',label.y.npc = 'top', vjust = 2.5)\n"
   ]
  },
  {
   "cell_type": "code",
   "execution_count": null,
   "id": "d5692852-56f5-4361-aac5-c237f2533de9",
   "metadata": {},
   "outputs": [],
   "source": [
    "options(repr.plot.width = 12, repr.plot.height = 7)\n",
    "\n",
    "ggplot(data = df_combined %>% filter(sample.visitName==\"Flu Year 1 Day 0\"), aes(x = IMM_Age_Score, \n",
    "                                                                                     y = Composite_Score_Up)) + \n",
    "  geom_point(size=1, stroke=0, aes(color=`cohort.cohortGuid`\t)) +\n",
    "  theme_classic(base_size=14) +\n",
    "  geom_smooth(method=lm , color=\"black\", linewidth=0.5,  se=TRUE) +    scale_color_manual(values = c(\"Older\" = '#bf812d', \"Young\" = '#35978f'))+\n",
    "\n",
    "  theme(\n",
    "    axis.line = element_line(colour = \"black\", linewidth = 0.1),\n",
    "    legend.position = \"top\",\n",
    "    panel.grid.major = element_blank(),\n",
    "    panel.grid.minor = element_blank(),\n",
    "    panel.border = element_blank(),\n",
    "    panel.background = element_blank(),\n",
    "    strip.background = element_rect(linewidth = 0),\n",
    "    axis.title.x = element_text(margin = margin(t = 1))\n",
    "  ) +\n",
    "  facet_wrap(~celltype,  scales='free',ncol=4) +\n",
    "  stat_cor(aes(label = ..r.label..), method = \"pearson\", size = 5, label.x.npc = 'left', color='blue',label.y.npc = 'top') +\n",
    "  stat_cor(aes(label = ..p.label..), method = \"pearson\", size = 5, label.x.npc = 'left', color='blue',label.y.npc = 'top', vjust = 2.5)\n"
   ]
  },
  {
   "cell_type": "code",
   "execution_count": null,
   "id": "a6f45911-31a9-4967-be9c-2014f34cd851",
   "metadata": {},
   "outputs": [],
   "source": [
    "options(repr.plot.width = 12, repr.plot.height = 7)\n",
    "\n",
    "ggplot(data = df_combined %>% filter(sample.visitName==\"Flu Year 1 Day 0\",subject.subjectGuid!=\"BR1013\"), aes(x = IHM_Score, \n",
    "                                                                                     y = Composite_Score_Down))+ \n",
    "  geom_point(size=1, stroke=0, aes(color=`cohort.cohortGuid`\t)) +\n",
    "  theme_classic(base_size=14) +\n",
    "  geom_smooth(method=lm , color=\"black\", linewidth=0.5,  se=TRUE) +    scale_color_manual(values = c(\"Older\" = '#bf812d', \"Young\" = '#35978f'))+\n",
    "\n",
    "  theme(\n",
    "    axis.line = element_line(colour = \"black\", linewidth = 0.1),\n",
    "    legend.position = \"top\",\n",
    "    panel.grid.major = element_blank(),\n",
    "    panel.grid.minor = element_blank(),\n",
    "    panel.border = element_blank(),\n",
    "    panel.background = element_blank(),\n",
    "    strip.background = element_rect(linewidth = 0),\n",
    "    axis.title.x = element_text(margin = margin(t = 1))\n",
    "  ) +\n",
    "  facet_wrap(~celltype,  scales='free',ncol=4) +\n",
    "  stat_cor(aes(label = ..r.label..), method = \"pearson\", size = 5, label.x.npc = 'left', color='blue',label.y.npc = 'top') +\n",
    "  stat_cor(aes(label = ..p.label..), method = \"pearson\", size = 5, label.x.npc = 'left', color='blue',label.y.npc = 'top', vjust = 2.5)"
   ]
  },
  {
   "cell_type": "code",
   "execution_count": null,
   "id": "d451097a-c7b4-4d12-8692-b47de3b71de7",
   "metadata": {},
   "outputs": [],
   "source": [
    "options(repr.plot.width = 12, repr.plot.height = 7)\n",
    "\n",
    "ggplot(data = df_combined %>% filter(sample.visitName==\"Flu Year 1 Day 0\",subject.subjectGuid!=\"BR1013\"), aes(x = IHM_Score, \n",
    "                                                                                     y = Composite_Score_Up))+ \n",
    "  geom_point(size=1, stroke=0, aes(color=`cohort.cohortGuid`\t)) +\n",
    "  theme_classic(base_size=14) +\n",
    "  geom_smooth(method=lm , color=\"black\", linewidth=0.5,  se=TRUE) +    scale_color_manual(values = c(\"Older\" = '#bf812d', \"Young\" = '#35978f'))+\n",
    "\n",
    "  theme(\n",
    "    axis.line = element_line(colour = \"black\", linewidth = 0.1),\n",
    "    legend.position = \"top\",\n",
    "    panel.grid.major = element_blank(),\n",
    "    panel.grid.minor = element_blank(),\n",
    "    panel.border = element_blank(),\n",
    "    panel.background = element_blank(),\n",
    "    strip.background = element_rect(linewidth = 0),\n",
    "    axis.title.x = element_text(margin = margin(t = 1))\n",
    "  ) +\n",
    "  facet_wrap(~celltype,  scales='free',ncol=4) +\n",
    "  stat_cor(aes(label = ..r.label..), method = \"pearson\", size = 5, label.x.npc = 'left', color='blue',label.y.npc = 'top') +\n",
    "  stat_cor(aes(label = ..p.label..), method = \"pearson\", size = 5, label.x.npc = 'left', color='blue',label.y.npc = 'top', vjust = 2.5)"
   ]
  },
  {
   "cell_type": "code",
   "execution_count": null,
   "id": "180394f7-51d2-4143-8269-d26433d7bf0c",
   "metadata": {},
   "outputs": [],
   "source": [
    "options(repr.plot.width = 5, repr.plot.height = 5)\n",
    "\n",
    "ggplot(data = df_combined %>% filter(sample.visitName==\"Flu Year 1 Day 0\",subject.subjectGuid!=\"BR1013\",celltype==\"CM CD4 T cell\"), \n",
    "       aes(x = IHM_Score, y = IMM_Age_Score)) + \n",
    "  geom_point(size=5, stroke=0, aes(color=`cohort.cohortGuid`\t)) +\n",
    "  theme_classic(base_size=20) +\n",
    "  geom_smooth(method=lm , color=\"black\", linewidth=0.5,  se=TRUE) +    scale_color_manual(values = c(\"Older\" = '#bf812d', \"Young\" = '#35978f'))+\n",
    "\n",
    "  theme(\n",
    "    axis.line = element_line(colour = \"black\", linewidth = 0.1),\n",
    "    legend.position = \"top\",\n",
    "    panel.grid.major = element_blank(),\n",
    "    panel.grid.minor = element_blank(),\n",
    "    panel.border = element_blank(),\n",
    "    panel.background = element_blank(),\n",
    "    strip.background = element_rect(linewidth = 0),\n",
    "    axis.title.x = element_text(margin = margin(t = 1))\n",
    "  ) +\n",
    "  stat_cor(aes(label = ..r.label..), method = \"pearson\", size = 5, label.x.npc = 'left', color='blue',label.y.npc = 'top') +\n",
    "  stat_cor(aes(label = ..p.label..), method = \"pearson\", size = 5, label.x.npc = 'left', color='blue',label.y.npc = 'top', vjust = 2.5)\n"
   ]
  },
  {
   "cell_type": "code",
   "execution_count": null,
   "id": "052b56c7-dac0-48d1-ae61-4a1df3179f73",
   "metadata": {},
   "outputs": [],
   "source": []
  },
  {
   "cell_type": "markdown",
   "id": "b56a8119-e492-40cc-806d-a5d4557aee4e",
   "metadata": {},
   "source": [
    "# Boxplot"
   ]
  },
  {
   "cell_type": "code",
   "execution_count": null,
   "id": "7e38f994-e657-4c62-8c78-c3d7e8acc090",
   "metadata": {},
   "outputs": [],
   "source": [
    "df_combined_subset<- df_combined %>% filter(sample.visitName==\"Flu Year 1 Day 0\",celltype==\"CM CD4 T cell\")"
   ]
  },
  {
   "cell_type": "code",
   "execution_count": null,
   "id": "7ef102b1-c0b1-483d-8ffd-de9e046fa946",
   "metadata": {},
   "outputs": [],
   "source": [
    "p <- ggboxplot(df_combined_subset %>% filter(subject.subjectGuid!=\"BR1013\"), x = \"cohort.cohortGuid\", y = \"IHM_Score\",\n",
    "          color = \"cohort.cohortGuid\", palette = \"jco\",\n",
    "          add = \"jitter\")\n",
    "p + stat_compare_means()"
   ]
  },
  {
   "cell_type": "code",
   "execution_count": null,
   "id": "457bd66d-c970-40ed-815b-8e9a87256a48",
   "metadata": {},
   "outputs": [],
   "source": [
    "p <- ggboxplot(df_combined_subset, x = \"cohort.cohortGuid\", y = \"IMM_Age_Score\",\n",
    "          color = \"cohort.cohortGuid\", palette = \"jco\",\n",
    "          add = \"jitter\")\n",
    "\n",
    "p + stat_compare_means()"
   ]
  },
  {
   "cell_type": "code",
   "execution_count": null,
   "id": "7ac513c9-7306-445c-bbae-03ff893c8556",
   "metadata": {},
   "outputs": [],
   "source": []
  },
  {
   "cell_type": "code",
   "execution_count": null,
   "id": "17894425-6764-4d39-8ab4-ebe20b612b5a",
   "metadata": {},
   "outputs": [],
   "source": []
  }
 ],
 "metadata": {
  "kernelspec": {
   "display_name": "R_BRI_Figures",
   "language": "R",
   "name": "r_bri_figures"
  },
  "language_info": {
   "codemirror_mode": "r",
   "file_extension": ".r",
   "mimetype": "text/x-r-source",
   "name": "R",
   "pygments_lexer": "r",
   "version": "4.3.2"
  }
 },
 "nbformat": 4,
 "nbformat_minor": 5
}
