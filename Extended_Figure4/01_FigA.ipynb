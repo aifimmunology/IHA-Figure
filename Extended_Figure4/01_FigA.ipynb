{
 "cells": [
  {
   "cell_type": "code",
   "execution_count": 1,
   "id": "a33c1d41-c287-4a40-8ba9-b22294074f34",
   "metadata": {},
   "outputs": [
    {
     "name": "stderr",
     "output_type": "stream",
     "text": [
      "Warning message:\n",
      "“package ‘tidyverse’ was built under R version 4.3.3”\n",
      "Warning message:\n",
      "“package ‘tibble’ was built under R version 4.3.3”\n",
      "Warning message:\n",
      "“package ‘tidyr’ was built under R version 4.3.3”\n",
      "Warning message:\n",
      "“package ‘readr’ was built under R version 4.3.3”\n",
      "Warning message:\n",
      "“package ‘purrr’ was built under R version 4.3.3”\n",
      "Warning message:\n",
      "“package ‘dplyr’ was built under R version 4.3.3”\n",
      "Warning message:\n",
      "“package ‘stringr’ was built under R version 4.3.3”\n",
      "Warning message:\n",
      "“package ‘forcats’ was built under R version 4.3.3”\n",
      "Warning message:\n",
      "“package ‘lubridate’ was built under R version 4.3.3”\n",
      "── \u001b[1mAttaching core tidyverse packages\u001b[22m ──────────────────────── tidyverse 2.0.0 ──\n",
      "\u001b[32m✔\u001b[39m \u001b[34mdplyr    \u001b[39m 1.1.4     \u001b[32m✔\u001b[39m \u001b[34mreadr    \u001b[39m 2.1.5\n",
      "\u001b[32m✔\u001b[39m \u001b[34mforcats  \u001b[39m 1.0.0     \u001b[32m✔\u001b[39m \u001b[34mstringr  \u001b[39m 1.5.1\n",
      "\u001b[32m✔\u001b[39m \u001b[34mggplot2  \u001b[39m 3.4.4     \u001b[32m✔\u001b[39m \u001b[34mtibble   \u001b[39m 3.2.1\n",
      "\u001b[32m✔\u001b[39m \u001b[34mlubridate\u001b[39m 1.9.3     \u001b[32m✔\u001b[39m \u001b[34mtidyr    \u001b[39m 1.3.1\n",
      "\u001b[32m✔\u001b[39m \u001b[34mpurrr    \u001b[39m 1.0.2     \n",
      "── \u001b[1mConflicts\u001b[22m ────────────────────────────────────────── tidyverse_conflicts() ──\n",
      "\u001b[31m✖\u001b[39m \u001b[34mdplyr\u001b[39m::\u001b[32mfilter()\u001b[39m masks \u001b[34mstats\u001b[39m::filter()\n",
      "\u001b[31m✖\u001b[39m \u001b[34mdplyr\u001b[39m::\u001b[32mlag()\u001b[39m    masks \u001b[34mstats\u001b[39m::lag()\n",
      "\u001b[36mℹ\u001b[39m Use the conflicted package (\u001b[3m\u001b[34m<http://conflicted.r-lib.org/>\u001b[39m\u001b[23m) to force all conflicts to become errors\n",
      "Warning message:\n",
      "“package ‘data.table’ was built under R version 4.3.3”\n",
      "\n",
      "Attaching package: ‘data.table’\n",
      "\n",
      "\n",
      "The following objects are masked from ‘package:lubridate’:\n",
      "\n",
      "    hour, isoweek, mday, minute, month, quarter, second, wday, week,\n",
      "    yday, year\n",
      "\n",
      "\n",
      "The following objects are masked from ‘package:dplyr’:\n",
      "\n",
      "    between, first, last\n",
      "\n",
      "\n",
      "The following object is masked from ‘package:purrr’:\n",
      "\n",
      "    transpose\n",
      "\n",
      "\n"
     ]
    }
   ],
   "source": [
    "library('tidyverse')\n",
    "library('data.table')\n",
    "library('parallel')\n",
    "library('dplyr')\n",
    "library('ggpubr')"
   ]
  },
  {
   "cell_type": "code",
   "execution_count": 2,
   "id": "c4d11c91-f00f-4dc1-9779-0dc4d6e40491",
   "metadata": {},
   "outputs": [],
   "source": [
    "meta_data<- read.csv('/home//workspace/IHA_Figure_Revision/Dataset/scRNA_meta_data-2024-05-09.csv')"
   ]
  },
  {
   "cell_type": "code",
   "execution_count": 3,
   "id": "9227d0af-26ed-49e9-8b15-ea87a6204507",
   "metadata": {},
   "outputs": [],
   "source": [
    "IHM<-read.csv('01_IHM_Metric/IHM_Score.csv')%>% select(sample.sampleKitGuid,surrogate.score)\n",
    "colnames(IHM)[2]<-\"IHM_Score\"\n",
    "IHM<-IHM[!duplicated(IHM$sample.sampleKitGuid),]\n"
   ]
  },
  {
   "cell_type": "code",
   "execution_count": 4,
   "id": "752ce91d-dac7-4b05-af17-c25cad6069da",
   "metadata": {},
   "outputs": [
    {
     "name": "stderr",
     "output_type": "stream",
     "text": [
      "\u001b[1m\u001b[22mJoining with `by = join_by(sample.sampleKitGuid)`\n"
     ]
    }
   ],
   "source": [
    "df<-left_join(IHM, meta_data)"
   ]
  },
  {
   "cell_type": "code",
   "execution_count": 5,
   "id": "ff215cab-8aeb-4de9-9c04-57895a395235",
   "metadata": {},
   "outputs": [],
   "source": [
    "df_subet<- df %>% filter(sample.visitName==\"Flu Year 1 Day 0\")"
   ]
  },
  {
   "cell_type": "code",
   "execution_count": 6,
   "id": "154e5252-29c7-454e-9097-44f544ca0700",
   "metadata": {},
   "outputs": [],
   "source": [
    "df_subet<-df_subet%>% mutate(`Age Group`=case_when(cohort.cohortGuid==\"BR1\"~\"Young\", TRUE~\"Older\"))\n",
    "df_subet$`Age Group`<-factor(df_subet$`Age Group`,levels=c(\"Young\",\"Older\"))"
   ]
  },
  {
   "cell_type": "code",
   "execution_count": 7,
   "id": "4fe5efeb-8bb6-434a-804c-cebf71e6193b",
   "metadata": {
    "scrolled": true
   },
   "outputs": [],
   "source": [
    "write.csv(df_subet %>% filter(subject.subjectGuid!=\"BR1013\") %>% \n",
    "          select(pbmc_sample_id, `Age Group`,IHM_Score),\n",
    "          \"/home//workspace/Source_Data/Extended_Fig4a.csv\", \n",
    "          row.names=FALSE)"
   ]
  },
  {
   "cell_type": "code",
   "execution_count": 10,
   "id": "9cc662cc-8c14-4be4-bd2f-84a5018ad3e4",
   "metadata": {},
   "outputs": [
    {
     "data": {
      "text/plain": [
       "\n",
       "BR1 BR2 \n",
       " 47  45 "
      ]
     },
     "metadata": {},
     "output_type": "display_data"
    }
   ],
   "source": [
    "table(df_subet$cohort.cohortGuid\t)"
   ]
  },
  {
   "cell_type": "code",
   "execution_count": 8,
   "id": "b29bcfb5-c71e-4a6a-bdf4-3d540ab56875",
   "metadata": {},
   "outputs": [
    {
     "name": "stderr",
     "output_type": "stream",
     "text": [
      "Warning message:\n",
      "“\u001b[1m\u001b[22mRemoved 1 rows containing non-finite values (`stat_boxplot()`).”\n",
      "Warning message:\n",
      "“\u001b[1m\u001b[22mRemoved 1 rows containing non-finite values (`stat_compare_means()`).”\n",
      "Warning message:\n",
      "“\u001b[1m\u001b[22mRemoved 1 rows containing missing values (`geom_point()`).”\n",
      "Warning message:\n",
      "“\u001b[1m\u001b[22mRemoved 1 rows containing non-finite values (`stat_boxplot()`).”\n",
      "Warning message:\n",
      "“\u001b[1m\u001b[22mRemoved 1 rows containing non-finite values (`stat_compare_means()`).”\n",
      "Warning message:\n",
      "“\u001b[1m\u001b[22mRemoved 1 rows containing missing values (`geom_point()`).”\n"
     ]
    },
    {
     "data": {
      "image/png": "[encoded data removed]",
      "text/plain": [
       "plot without title"
      ]
     },
     "metadata": {
      "image/png": {
       "height": 118.1102,
       "width": 106.2992
      }
     },
     "output_type": "display_data"
    }
   ],
   "source": [
    "options(repr.plot.width = 45/25.4, repr.plot.height =  50/25.4)\n",
    "\n",
    "p<-ggplot(df_subet %>% filter(subject.subjectGuid!=\"BR1013\") ,\n",
    "              aes(x = `Age Group`, y = IHM_Score)) +\n",
    "    geom_boxplot( lwd=0.3, outlier.shape = NA,aes(fill = `Age Group`))+\n",
    "    geom_point(aes(y = IHM_Score), \n",
    "               position = position_jitter(width = 0.2), color=\"black\", size=1, stroke=0) +\n",
    "stat_compare_means(\n",
    "  label = \"p.format\",\n",
    "  size = 1.75,\n",
    "  vjust = -0.5\n",
    ") +\n",
    "    theme_classic(base_size = 6) +\n",
    "    scale_fill_manual(values = c(\"Older\" = '#bf812d', \n",
    "                                 \"Young\" = '#35978f')) +\n",
    "    scale_y_continuous(limits = c(NA, NA), \n",
    "                       expand = expansion(mult = c(0.1, 0.15)))+\n",
    "ylab('IHM Score')+ \n",
    "theme(\n",
    "  axis.line = element_line(colour = \"black\"),\n",
    "  legend.position = \"none\",\n",
    "  legend.title = element_blank(),\n",
    "  panel.grid.major = element_blank(),\n",
    "  panel.grid.minor = element_blank(),\n",
    "  panel.border = element_blank(),\n",
    "  panel.background = element_blank(),\n",
    "  strip.background = element_rect(linewidth = 0),\n",
    "  axis.title.x = element_text(margin = margin(t = 2)),\n",
    "  panel.spacing = unit(-0.1, \"mm\"),\n",
    "  strip.text = element_text(margin = margin(b = 1, t = 1))\n",
    ")\n",
    "p\n",
    "ggsave('FigureA.pdf',p, width = 45/25.4, \n",
    "       height = 50/25.4)"
   ]
  },
  {
   "cell_type": "code",
   "execution_count": null,
   "id": "78ebfbb5-4432-458e-b881-d9562ca49769",
   "metadata": {},
   "outputs": [],
   "source": []
  },
  {
   "cell_type": "code",
   "execution_count": null,
   "id": "2df7d4a2-5f0d-4963-ba45-9fd80e1634d2",
   "metadata": {},
   "outputs": [],
   "source": []
  }
 ],
 "metadata": {
  "kernelspec": {
   "display_name": "R_BRI_Figures",
   "language": "R",
   "name": "r_bri_figures"
  },
  "language_info": {
   "codemirror_mode": "r",
   "file_extension": ".r",
   "mimetype": "text/x-r-source",
   "name": "R",
   "pygments_lexer": "r",
   "version": "4.3.2"
  }
 },
 "nbformat": 4,
 "nbformat_minor": 5
}
