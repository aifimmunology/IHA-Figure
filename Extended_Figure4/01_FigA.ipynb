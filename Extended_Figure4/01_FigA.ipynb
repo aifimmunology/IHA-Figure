{
 "cells": [
  {
   "cell_type": "code",
   "execution_count": 10,
   "id": "a33c1d41-c287-4a40-8ba9-b22294074f34",
   "metadata": {},
   "outputs": [],
   "source": [
    "library('tidyverse')\n",
    "library('data.table')\n",
    "library('parallel')\n",
    "library('dplyr')\n",
    "library('ggpubr')"
   ]
  },
  {
   "cell_type": "code",
   "execution_count": 11,
   "id": "c4d11c91-f00f-4dc1-9779-0dc4d6e40491",
   "metadata": {},
   "outputs": [],
   "source": [
    "meta_data<- read.csv('/home//workspace/IHA_Figure_Revision/Dataset/scRNA_meta_data-2024-05-09.csv')"
   ]
  },
  {
   "cell_type": "code",
   "execution_count": 12,
   "id": "9227d0af-26ed-49e9-8b15-ea87a6204507",
   "metadata": {},
   "outputs": [],
   "source": [
    "IHM<-read.csv('01_IHM_Metric/IHM_Score.csv')%>% select(sample.sampleKitGuid,surrogate.score)\n",
    "colnames(IHM)[2]<-\"IHM_Score\"\n",
    "IHM<-IHM[!duplicated(IHM$sample.sampleKitGuid),]\n"
   ]
  },
  {
   "cell_type": "code",
   "execution_count": 13,
   "id": "752ce91d-dac7-4b05-af17-c25cad6069da",
   "metadata": {},
   "outputs": [
    {
     "name": "stderr",
     "output_type": "stream",
     "text": [
      "\u001b[1m\u001b[22mJoining with `by = join_by(sample.sampleKitGuid)`\n"
     ]
    }
   ],
   "source": [
    "df<-left_join(IHM, meta_data)"
   ]
  },
  {
   "cell_type": "code",
   "execution_count": 14,
   "id": "ff215cab-8aeb-4de9-9c04-57895a395235",
   "metadata": {},
   "outputs": [],
   "source": [
    "df_subet<- df %>% filter(sample.visitName==\"Flu Year 1 Day 0\")"
   ]
  },
  {
   "cell_type": "code",
   "execution_count": 15,
   "id": "f55d99f1-d3ac-4506-a259-6624a67cefa0",
   "metadata": {},
   "outputs": [
    {
     "data": {
      "text/html": [
       "<style>\n",
       ".list-inline {list-style: none; margin:0; padding: 0}\n",
       ".list-inline>li {display: inline-block}\n",
       ".list-inline>li:not(:last-child)::after {content: \"\\00b7\"; padding: 0 .5ex}\n",
       "</style>\n",
       "<ol class=list-inline><li>'sample.sampleKitGuid'</li><li>'IHM_Score'</li><li>'X'</li><li>'Unnamed..0'</li><li>'lastUpdated'</li><li>'sample.id'</li><li>'sample.bridgingControl'</li><li>'sample.visitName'</li><li>'sample.visitDetails'</li><li>'sample.drawDate'</li><li>'sample.daysSinceFirstVisit'</li><li>'file.id'</li><li>'file.name'</li><li>'file.batchID'</li><li>'file.panel'</li><li>'file.pool'</li><li>'file.fileType'</li><li>'file.majorVersion'</li><li>'subject.id'</li><li>'subject.biologicalSex'</li><li>'subject.birthYear'</li><li>'subject.ethnicity'</li><li>'subject.partnerCode'</li><li>'subject.race'</li><li>'subject.subjectGuid'</li><li>'cohort.cohortGuid'</li><li>'sample.diseaseStatesRecordedAtVisit'</li><li>'pbmc_sample_id'</li><li>'subject.covidVaxDose1.daysSinceFirstVisit'</li><li>'subject.covidVaxDose2.daysSinceFirstVisit'</li><li>'Covid_exclusion'</li><li>'subjectGuid'</li><li>'CMV'</li></ol>\n"
      ],
      "text/latex": [
       "\\begin{enumerate*}\n",
       "\\item 'sample.sampleKitGuid'\n",
       "\\item 'IHM\\_Score'\n",
       "\\item 'X'\n",
       "\\item 'Unnamed..0'\n",
       "\\item 'lastUpdated'\n",
       "\\item 'sample.id'\n",
       "\\item 'sample.bridgingControl'\n",
       "\\item 'sample.visitName'\n",
       "\\item 'sample.visitDetails'\n",
       "\\item 'sample.drawDate'\n",
       "\\item 'sample.daysSinceFirstVisit'\n",
       "\\item 'file.id'\n",
       "\\item 'file.name'\n",
       "\\item 'file.batchID'\n",
       "\\item 'file.panel'\n",
       "\\item 'file.pool'\n",
       "\\item 'file.fileType'\n",
       "\\item 'file.majorVersion'\n",
       "\\item 'subject.id'\n",
       "\\item 'subject.biologicalSex'\n",
       "\\item 'subject.birthYear'\n",
       "\\item 'subject.ethnicity'\n",
       "\\item 'subject.partnerCode'\n",
       "\\item 'subject.race'\n",
       "\\item 'subject.subjectGuid'\n",
       "\\item 'cohort.cohortGuid'\n",
       "\\item 'sample.diseaseStatesRecordedAtVisit'\n",
       "\\item 'pbmc\\_sample\\_id'\n",
       "\\item 'subject.covidVaxDose1.daysSinceFirstVisit'\n",
       "\\item 'subject.covidVaxDose2.daysSinceFirstVisit'\n",
       "\\item 'Covid\\_exclusion'\n",
       "\\item 'subjectGuid'\n",
       "\\item 'CMV'\n",
       "\\end{enumerate*}\n"
      ],
      "text/markdown": [
       "1. 'sample.sampleKitGuid'\n",
       "2. 'IHM_Score'\n",
       "3. 'X'\n",
       "4. 'Unnamed..0'\n",
       "5. 'lastUpdated'\n",
       "6. 'sample.id'\n",
       "7. 'sample.bridgingControl'\n",
       "8. 'sample.visitName'\n",
       "9. 'sample.visitDetails'\n",
       "10. 'sample.drawDate'\n",
       "11. 'sample.daysSinceFirstVisit'\n",
       "12. 'file.id'\n",
       "13. 'file.name'\n",
       "14. 'file.batchID'\n",
       "15. 'file.panel'\n",
       "16. 'file.pool'\n",
       "17. 'file.fileType'\n",
       "18. 'file.majorVersion'\n",
       "19. 'subject.id'\n",
       "20. 'subject.biologicalSex'\n",
       "21. 'subject.birthYear'\n",
       "22. 'subject.ethnicity'\n",
       "23. 'subject.partnerCode'\n",
       "24. 'subject.race'\n",
       "25. 'subject.subjectGuid'\n",
       "26. 'cohort.cohortGuid'\n",
       "27. 'sample.diseaseStatesRecordedAtVisit'\n",
       "28. 'pbmc_sample_id'\n",
       "29. 'subject.covidVaxDose1.daysSinceFirstVisit'\n",
       "30. 'subject.covidVaxDose2.daysSinceFirstVisit'\n",
       "31. 'Covid_exclusion'\n",
       "32. 'subjectGuid'\n",
       "33. 'CMV'\n",
       "\n",
       "\n"
      ],
      "text/plain": [
       " [1] \"sample.sampleKitGuid\"                     \n",
       " [2] \"IHM_Score\"                                \n",
       " [3] \"X\"                                        \n",
       " [4] \"Unnamed..0\"                               \n",
       " [5] \"lastUpdated\"                              \n",
       " [6] \"sample.id\"                                \n",
       " [7] \"sample.bridgingControl\"                   \n",
       " [8] \"sample.visitName\"                         \n",
       " [9] \"sample.visitDetails\"                      \n",
       "[10] \"sample.drawDate\"                          \n",
       "[11] \"sample.daysSinceFirstVisit\"               \n",
       "[12] \"file.id\"                                  \n",
       "[13] \"file.name\"                                \n",
       "[14] \"file.batchID\"                             \n",
       "[15] \"file.panel\"                               \n",
       "[16] \"file.pool\"                                \n",
       "[17] \"file.fileType\"                            \n",
       "[18] \"file.majorVersion\"                        \n",
       "[19] \"subject.id\"                               \n",
       "[20] \"subject.biologicalSex\"                    \n",
       "[21] \"subject.birthYear\"                        \n",
       "[22] \"subject.ethnicity\"                        \n",
       "[23] \"subject.partnerCode\"                      \n",
       "[24] \"subject.race\"                             \n",
       "[25] \"subject.subjectGuid\"                      \n",
       "[26] \"cohort.cohortGuid\"                        \n",
       "[27] \"sample.diseaseStatesRecordedAtVisit\"      \n",
       "[28] \"pbmc_sample_id\"                           \n",
       "[29] \"subject.covidVaxDose1.daysSinceFirstVisit\"\n",
       "[30] \"subject.covidVaxDose2.daysSinceFirstVisit\"\n",
       "[31] \"Covid_exclusion\"                          \n",
       "[32] \"subjectGuid\"                              \n",
       "[33] \"CMV\"                                      "
      ]
     },
     "metadata": {},
     "output_type": "display_data"
    }
   ],
   "source": [
    "colnames(df_subet)"
   ]
  },
  {
   "cell_type": "code",
   "execution_count": 16,
   "id": "154e5252-29c7-454e-9097-44f544ca0700",
   "metadata": {},
   "outputs": [],
   "source": [
    "df_subet<-df_subet%>% mutate(`Age Group`=case_when(cohort.cohortGuid==\"BR1\"~\"Young\", TRUE~\"Older\"))\n",
    "df_subet$`Age Group`<-factor(df_subet$`Age Group`,levels=c(\"Young\",\"Older\"))"
   ]
  },
  {
   "cell_type": "code",
   "execution_count": 18,
   "id": "b29bcfb5-c71e-4a6a-bdf4-3d540ab56875",
   "metadata": {},
   "outputs": [
    {
     "name": "stderr",
     "output_type": "stream",
     "text": [
      "Warning message:\n",
      "“\u001b[1m\u001b[22mRemoved 1 rows containing non-finite values (`stat_boxplot()`).”\n",
      "Warning message:\n",
      "“\u001b[1m\u001b[22mRemoved 1 rows containing non-finite values (`stat_compare_means()`).”\n",
      "Warning message:\n",
      "“\u001b[1m\u001b[22mRemoved 1 rows containing missing values (`geom_point()`).”\n",
      "Warning message:\n",
      "“\u001b[1m\u001b[22mRemoved 1 rows containing non-finite values (`stat_boxplot()`).”\n",
      "Warning message:\n",
      "“\u001b[1m\u001b[22mRemoved 1 rows containing non-finite values (`stat_compare_means()`).”\n",
      "Warning message:\n",
      "“\u001b[1m\u001b[22mRemoved 1 rows containing missing values (`geom_point()`).”\n"
     ]
    },
    {
     "data": {
      "image/png": "[encoded data removed]",
      "text/plain": [
       "plot without title"
      ]
     },
     "metadata": {
      "image/png": {
       "height": 118.1102,
       "width": 106.2992
      }
     },
     "output_type": "display_data"
    }
   ],
   "source": [
    "options(repr.plot.width = 45/25.4, repr.plot.height =  50/25.4)\n",
    "\n",
    "p<-ggplot(df_subet %>% filter(subject.subjectGuid!=\"BR1013\") ,\n",
    "              aes(x = `Age Group`, y = IHM_Score)) +\n",
    "    geom_boxplot( lwd=0.3, outlier.shape = NA,aes(fill = `Age Group`))+\n",
    "    geom_point(aes(y = IHM_Score), \n",
    "               position = position_jitter(width = 0.2), color=\"black\", size=1, stroke=0) +\n",
    "stat_compare_means(\n",
    "  label = \"p.format\",\n",
    "  size = 1.75,\n",
    "  vjust = -0.5\n",
    ") +\n",
    "    theme_classic(base_size = 6) +\n",
    "    scale_fill_manual(values = c(\"Older\" = '#bf812d', \n",
    "                                 \"Young\" = '#35978f')) +\n",
    "    scale_y_continuous(limits = c(NA, NA), \n",
    "                       expand = expansion(mult = c(0.1, 0.15)))+\n",
    "ylab('IHM Score')+ \n",
    "theme(\n",
    "  axis.line = element_line(colour = \"black\"),\n",
    "  legend.position = \"none\",\n",
    "  legend.title = element_blank(),\n",
    "  panel.grid.major = element_blank(),\n",
    "  panel.grid.minor = element_blank(),\n",
    "  panel.border = element_blank(),\n",
    "  panel.background = element_blank(),\n",
    "  strip.background = element_rect(linewidth = 0),\n",
    "  axis.title.x = element_text(margin = margin(t = 2)),\n",
    "  panel.spacing = unit(-0.1, \"mm\"),\n",
    "  strip.text = element_text(margin = margin(b = 1, t = 1))\n",
    ")\n",
    "p\n",
    "ggsave('FigureA.pdf',p, width = 45/25.4, \n",
    "       height = 50/25.4)"
   ]
  },
  {
   "cell_type": "code",
   "execution_count": null,
   "id": "78ebfbb5-4432-458e-b881-d9562ca49769",
   "metadata": {},
   "outputs": [],
   "source": []
  },
  {
   "cell_type": "code",
   "execution_count": null,
   "id": "2df7d4a2-5f0d-4963-ba45-9fd80e1634d2",
   "metadata": {},
   "outputs": [],
   "source": []
  }
 ],
 "metadata": {
  "kernelspec": {
   "display_name": "R_BRI_Figures",
   "language": "R",
   "name": "r_bri_figures"
  },
  "language_info": {
   "codemirror_mode": "r",
   "file_extension": ".r",
   "mimetype": "text/x-r-source",
   "name": "R",
   "pygments_lexer": "r",
   "version": "4.3.2"
  }
 },
 "nbformat": 4,
 "nbformat_minor": 5
}
