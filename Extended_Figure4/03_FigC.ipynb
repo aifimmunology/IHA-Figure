{
 "cells": [
  {
   "cell_type": "code",
   "execution_count": 1,
   "id": "a33c1d41-c287-4a40-8ba9-b22294074f34",
   "metadata": {},
   "outputs": [
    {
     "name": "stderr",
     "output_type": "stream",
     "text": [
      "Warning message:\n",
      "“package ‘tidyverse’ was built under R version 4.3.3”\n",
      "Warning message:\n",
      "“package ‘tibble’ was built under R version 4.3.3”\n",
      "Warning message:\n",
      "“package ‘tidyr’ was built under R version 4.3.3”\n",
      "Warning message:\n",
      "“package ‘readr’ was built under R version 4.3.3”\n",
      "Warning message:\n",
      "“package ‘purrr’ was built under R version 4.3.3”\n",
      "Warning message:\n",
      "“package ‘dplyr’ was built under R version 4.3.3”\n",
      "Warning message:\n",
      "“package ‘stringr’ was built under R version 4.3.3”\n",
      "Warning message:\n",
      "“package ‘forcats’ was built under R version 4.3.3”\n",
      "Warning message:\n",
      "“package ‘lubridate’ was built under R version 4.3.3”\n",
      "── \u001b[1mAttaching core tidyverse packages\u001b[22m ──────────────────────── tidyverse 2.0.0 ──\n",
      "\u001b[32m✔\u001b[39m \u001b[34mdplyr    \u001b[39m 1.1.4     \u001b[32m✔\u001b[39m \u001b[34mreadr    \u001b[39m 2.1.5\n",
      "\u001b[32m✔\u001b[39m \u001b[34mforcats  \u001b[39m 1.0.0     \u001b[32m✔\u001b[39m \u001b[34mstringr  \u001b[39m 1.5.1\n",
      "\u001b[32m✔\u001b[39m \u001b[34mggplot2  \u001b[39m 3.4.4     \u001b[32m✔\u001b[39m \u001b[34mtibble   \u001b[39m 3.2.1\n",
      "\u001b[32m✔\u001b[39m \u001b[34mlubridate\u001b[39m 1.9.3     \u001b[32m✔\u001b[39m \u001b[34mtidyr    \u001b[39m 1.3.1\n",
      "\u001b[32m✔\u001b[39m \u001b[34mpurrr    \u001b[39m 1.0.2     \n",
      "── \u001b[1mConflicts\u001b[22m ────────────────────────────────────────── tidyverse_conflicts() ──\n",
      "\u001b[31m✖\u001b[39m \u001b[34mdplyr\u001b[39m::\u001b[32mfilter()\u001b[39m masks \u001b[34mstats\u001b[39m::filter()\n",
      "\u001b[31m✖\u001b[39m \u001b[34mdplyr\u001b[39m::\u001b[32mlag()\u001b[39m    masks \u001b[34mstats\u001b[39m::lag()\n",
      "\u001b[36mℹ\u001b[39m Use the conflicted package (\u001b[3m\u001b[34m<http://conflicted.r-lib.org/>\u001b[39m\u001b[23m) to force all conflicts to become errors\n",
      "Warning message:\n",
      "“package ‘data.table’ was built under R version 4.3.3”\n",
      "\n",
      "Attaching package: ‘data.table’\n",
      "\n",
      "\n",
      "The following objects are masked from ‘package:lubridate’:\n",
      "\n",
      "    hour, isoweek, mday, minute, month, quarter, second, wday, week,\n",
      "    yday, year\n",
      "\n",
      "\n",
      "The following objects are masked from ‘package:dplyr’:\n",
      "\n",
      "    between, first, last\n",
      "\n",
      "\n",
      "The following object is masked from ‘package:purrr’:\n",
      "\n",
      "    transpose\n",
      "\n",
      "\n"
     ]
    }
   ],
   "source": [
    "library('tidyverse')\n",
    "library('data.table')\n",
    "library('parallel')\n",
    "library('dplyr')\n",
    "library('ggpubr')"
   ]
  },
  {
   "cell_type": "code",
   "execution_count": 2,
   "id": "c4d11c91-f00f-4dc1-9779-0dc4d6e40491",
   "metadata": {},
   "outputs": [],
   "source": [
    "meta_data<- read.csv('/home//workspace/IHA_Figure_Revision/Dataset/scRNA_meta_data-2024-05-09.csv')"
   ]
  },
  {
   "cell_type": "code",
   "execution_count": 3,
   "id": "9227d0af-26ed-49e9-8b15-ea87a6204507",
   "metadata": {},
   "outputs": [],
   "source": [
    "IMM_Age<-read.csv(\"02_IMM_Age_Metric/IMM_Age_Score.csv\")\n",
    "IMM_Age<-IMM_Age %>% select(SampleID,IMM_Age_Score)\n",
    "colnames(IMM_Age)[1]<-\"sample.sampleKitGuid\""
   ]
  },
  {
   "cell_type": "code",
   "execution_count": 4,
   "id": "752ce91d-dac7-4b05-af17-c25cad6069da",
   "metadata": {},
   "outputs": [
    {
     "name": "stderr",
     "output_type": "stream",
     "text": [
      "\u001b[1m\u001b[22mJoining with `by = join_by(sample.sampleKitGuid)`\n"
     ]
    }
   ],
   "source": [
    "df<-left_join(IMM_Age, meta_data)"
   ]
  },
  {
   "cell_type": "code",
   "execution_count": 5,
   "id": "ff215cab-8aeb-4de9-9c04-57895a395235",
   "metadata": {},
   "outputs": [],
   "source": [
    "df_subet<- df %>% filter(sample.visitName==\"Flu Year 1 Day 0\")"
   ]
  },
  {
   "cell_type": "code",
   "execution_count": 6,
   "id": "f55d99f1-d3ac-4506-a259-6624a67cefa0",
   "metadata": {},
   "outputs": [
    {
     "data": {
      "text/html": [
       "<style>\n",
       ".list-inline {list-style: none; margin:0; padding: 0}\n",
       ".list-inline>li {display: inline-block}\n",
       ".list-inline>li:not(:last-child)::after {content: \"\\00b7\"; padding: 0 .5ex}\n",
       "</style>\n",
       "<ol class=list-inline><li>'sample.sampleKitGuid'</li><li>'IMM_Age_Score'</li><li>'X'</li><li>'Unnamed..0'</li><li>'lastUpdated'</li><li>'sample.id'</li><li>'sample.bridgingControl'</li><li>'sample.visitName'</li><li>'sample.visitDetails'</li><li>'sample.drawDate'</li><li>'sample.daysSinceFirstVisit'</li><li>'file.id'</li><li>'file.name'</li><li>'file.batchID'</li><li>'file.panel'</li><li>'file.pool'</li><li>'file.fileType'</li><li>'file.majorVersion'</li><li>'subject.id'</li><li>'subject.biologicalSex'</li><li>'subject.birthYear'</li><li>'subject.ethnicity'</li><li>'subject.partnerCode'</li><li>'subject.race'</li><li>'subject.subjectGuid'</li><li>'cohort.cohortGuid'</li><li>'sample.diseaseStatesRecordedAtVisit'</li><li>'pbmc_sample_id'</li><li>'subject.covidVaxDose1.daysSinceFirstVisit'</li><li>'subject.covidVaxDose2.daysSinceFirstVisit'</li><li>'Covid_exclusion'</li><li>'subjectGuid'</li><li>'CMV'</li></ol>\n"
      ],
      "text/latex": [
       "\\begin{enumerate*}\n",
       "\\item 'sample.sampleKitGuid'\n",
       "\\item 'IMM\\_Age\\_Score'\n",
       "\\item 'X'\n",
       "\\item 'Unnamed..0'\n",
       "\\item 'lastUpdated'\n",
       "\\item 'sample.id'\n",
       "\\item 'sample.bridgingControl'\n",
       "\\item 'sample.visitName'\n",
       "\\item 'sample.visitDetails'\n",
       "\\item 'sample.drawDate'\n",
       "\\item 'sample.daysSinceFirstVisit'\n",
       "\\item 'file.id'\n",
       "\\item 'file.name'\n",
       "\\item 'file.batchID'\n",
       "\\item 'file.panel'\n",
       "\\item 'file.pool'\n",
       "\\item 'file.fileType'\n",
       "\\item 'file.majorVersion'\n",
       "\\item 'subject.id'\n",
       "\\item 'subject.biologicalSex'\n",
       "\\item 'subject.birthYear'\n",
       "\\item 'subject.ethnicity'\n",
       "\\item 'subject.partnerCode'\n",
       "\\item 'subject.race'\n",
       "\\item 'subject.subjectGuid'\n",
       "\\item 'cohort.cohortGuid'\n",
       "\\item 'sample.diseaseStatesRecordedAtVisit'\n",
       "\\item 'pbmc\\_sample\\_id'\n",
       "\\item 'subject.covidVaxDose1.daysSinceFirstVisit'\n",
       "\\item 'subject.covidVaxDose2.daysSinceFirstVisit'\n",
       "\\item 'Covid\\_exclusion'\n",
       "\\item 'subjectGuid'\n",
       "\\item 'CMV'\n",
       "\\end{enumerate*}\n"
      ],
      "text/markdown": [
       "1. 'sample.sampleKitGuid'\n",
       "2. 'IMM_Age_Score'\n",
       "3. 'X'\n",
       "4. 'Unnamed..0'\n",
       "5. 'lastUpdated'\n",
       "6. 'sample.id'\n",
       "7. 'sample.bridgingControl'\n",
       "8. 'sample.visitName'\n",
       "9. 'sample.visitDetails'\n",
       "10. 'sample.drawDate'\n",
       "11. 'sample.daysSinceFirstVisit'\n",
       "12. 'file.id'\n",
       "13. 'file.name'\n",
       "14. 'file.batchID'\n",
       "15. 'file.panel'\n",
       "16. 'file.pool'\n",
       "17. 'file.fileType'\n",
       "18. 'file.majorVersion'\n",
       "19. 'subject.id'\n",
       "20. 'subject.biologicalSex'\n",
       "21. 'subject.birthYear'\n",
       "22. 'subject.ethnicity'\n",
       "23. 'subject.partnerCode'\n",
       "24. 'subject.race'\n",
       "25. 'subject.subjectGuid'\n",
       "26. 'cohort.cohortGuid'\n",
       "27. 'sample.diseaseStatesRecordedAtVisit'\n",
       "28. 'pbmc_sample_id'\n",
       "29. 'subject.covidVaxDose1.daysSinceFirstVisit'\n",
       "30. 'subject.covidVaxDose2.daysSinceFirstVisit'\n",
       "31. 'Covid_exclusion'\n",
       "32. 'subjectGuid'\n",
       "33. 'CMV'\n",
       "\n",
       "\n"
      ],
      "text/plain": [
       " [1] \"sample.sampleKitGuid\"                     \n",
       " [2] \"IMM_Age_Score\"                            \n",
       " [3] \"X\"                                        \n",
       " [4] \"Unnamed..0\"                               \n",
       " [5] \"lastUpdated\"                              \n",
       " [6] \"sample.id\"                                \n",
       " [7] \"sample.bridgingControl\"                   \n",
       " [8] \"sample.visitName\"                         \n",
       " [9] \"sample.visitDetails\"                      \n",
       "[10] \"sample.drawDate\"                          \n",
       "[11] \"sample.daysSinceFirstVisit\"               \n",
       "[12] \"file.id\"                                  \n",
       "[13] \"file.name\"                                \n",
       "[14] \"file.batchID\"                             \n",
       "[15] \"file.panel\"                               \n",
       "[16] \"file.pool\"                                \n",
       "[17] \"file.fileType\"                            \n",
       "[18] \"file.majorVersion\"                        \n",
       "[19] \"subject.id\"                               \n",
       "[20] \"subject.biologicalSex\"                    \n",
       "[21] \"subject.birthYear\"                        \n",
       "[22] \"subject.ethnicity\"                        \n",
       "[23] \"subject.partnerCode\"                      \n",
       "[24] \"subject.race\"                             \n",
       "[25] \"subject.subjectGuid\"                      \n",
       "[26] \"cohort.cohortGuid\"                        \n",
       "[27] \"sample.diseaseStatesRecordedAtVisit\"      \n",
       "[28] \"pbmc_sample_id\"                           \n",
       "[29] \"subject.covidVaxDose1.daysSinceFirstVisit\"\n",
       "[30] \"subject.covidVaxDose2.daysSinceFirstVisit\"\n",
       "[31] \"Covid_exclusion\"                          \n",
       "[32] \"subjectGuid\"                              \n",
       "[33] \"CMV\"                                      "
      ]
     },
     "metadata": {},
     "output_type": "display_data"
    }
   ],
   "source": [
    "colnames(df_subet)"
   ]
  },
  {
   "cell_type": "code",
   "execution_count": 7,
   "id": "154e5252-29c7-454e-9097-44f544ca0700",
   "metadata": {},
   "outputs": [],
   "source": [
    "df_subet<-df_subet%>% mutate(`Age Group`=case_when(cohort.cohortGuid==\"BR1\"~\"Young\", TRUE~\"Older\"))\n",
    "df_subet$`Age Group`<-factor(df_subet$`Age Group`,levels=c(\"Young\",\"Older\"))"
   ]
  },
  {
   "cell_type": "code",
   "execution_count": 8,
   "id": "2b78cd6e-feb2-48b5-9647-bce89194e66e",
   "metadata": {},
   "outputs": [],
   "source": [
    "write.csv(df_subet  %>% \n",
    "          select(pbmc_sample_id, `Age Group`,IMM_Age_Score),\n",
    "          \"/home//workspace/Source_Data/Extended_Fig4c.csv\", \n",
    "          row.names=FALSE)"
   ]
  },
  {
   "cell_type": "code",
   "execution_count": 13,
   "id": "b29bcfb5-c71e-4a6a-bdf4-3d540ab56875",
   "metadata": {},
   "outputs": [
    {
     "data": {
      "image/png": "[encoded data removed]",
      "text/plain": [
       "plot without title"
      ]
     },
     "metadata": {
      "image/png": {
       "height": 118.1102,
       "width": 106.2992
      }
     },
     "output_type": "display_data"
    }
   ],
   "source": [
    "options(repr.plot.width = 45/25.4, repr.plot.height =  50/25.4)\n",
    "\n",
    "p<-ggplot(df_subet  ,\n",
    "              aes(x = `Age Group`, y = IMM_Age_Score)) +\n",
    "    geom_boxplot( lwd=0.3, outlier.shape = NA,aes(fill = `Age Group`))+\n",
    "    geom_point(aes(y = IMM_Age_Score), \n",
    "               position = position_jitter(width = 0.2), color=\"black\", size=1, stroke=0) +\n",
    "stat_compare_means(\n",
    "  label = \"p.format\",\n",
    "  size = 1.75,\n",
    "  vjust = -0.5\n",
    ") +\n",
    "    theme_classic(base_size = 6) +\n",
    "    scale_fill_manual(values = c(\"Older\" = '#bf812d', \n",
    "                                 \"Young\" = '#35978f')) +\n",
    "    scale_y_continuous(limits = c(NA, NA), \n",
    "                       expand = expansion(mult = c(0.1, 0.15)))+\n",
    "ylab('IMM_Age Score')+ \n",
    "theme(\n",
    "  axis.line = element_line(colour = \"black\"),\n",
    "  legend.position = \"none\",\n",
    "  legend.title = element_blank(),\n",
    "  panel.grid.major = element_blank(),\n",
    "  panel.grid.minor = element_blank(),\n",
    "  panel.border = element_blank(),\n",
    "  panel.background = element_blank(),\n",
    "  strip.background = element_rect(linewidth = 0),\n",
    "  axis.title.x = element_text(margin = margin(t = 2)),\n",
    "  panel.spacing = unit(-0.1, \"mm\"),\n",
    "  strip.text = element_text(margin = margin(b = 1, t = 1))\n",
    ")\n",
    "p\n",
    "ggsave('FigureC.pdf',p, width = 45/25.4, \n",
    "       height = 50/25.4)"
   ]
  },
  {
   "cell_type": "code",
   "execution_count": null,
   "id": "78ebfbb5-4432-458e-b881-d9562ca49769",
   "metadata": {},
   "outputs": [],
   "source": []
  },
  {
   "cell_type": "code",
   "execution_count": null,
   "id": "2df7d4a2-5f0d-4963-ba45-9fd80e1634d2",
   "metadata": {},
   "outputs": [],
   "source": []
  }
 ],
 "metadata": {
  "kernelspec": {
   "display_name": "R_BRI_Figures",
   "language": "R",
   "name": "r_bri_figures"
  },
  "language_info": {
   "codemirror_mode": "r",
   "file_extension": ".r",
   "mimetype": "text/x-r-source",
   "name": "R",
   "pygments_lexer": "r",
   "version": "4.3.2"
  }
 },
 "nbformat": 4,
 "nbformat_minor": 5
}
