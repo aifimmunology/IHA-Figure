{
 "cells": [
  {
   "cell_type": "code",
   "execution_count": 1,
   "id": "a487970f-ccce-418a-bb72-5244f8a2f8c5",
   "metadata": {},
   "outputs": [
    {
     "name": "stderr",
     "output_type": "stream",
     "text": [
      "\n",
      "Attaching package: ‘ggpubr’\n",
      "\n",
      "\n",
      "The following object is masked from ‘package:plyr’:\n",
      "\n",
      "    mutate\n",
      "\n",
      "\n"
     ]
    }
   ],
   "source": [
    "suppressPackageStartupMessages(library(plyr))\n",
    "suppressPackageStartupMessages(library(dplyr))\n",
    "suppressPackageStartupMessages(library(tidyr))\n",
    "suppressPackageStartupMessages(library(tibble))\n",
    "library(ggplot2)\n",
    "library(ggpubr)\n",
    "is_dark_color <- function(hex) {\n",
    "  rgb <- col2rgb(hex)\n",
    "  \n",
    "  luminance <- 0.299 * rgb[1,] + 0.587 * rgb[2,] + 0.114 * rgb[3,]\n",
    "  if(luminance < 128){\n",
    "  return('white')\n",
    "  }else{return('black')}\n",
    "}"
   ]
  },
  {
   "cell_type": "code",
   "execution_count": 2,
   "id": "eaf3a426-c684-4c8d-adc4-666ebd45974f",
   "metadata": {},
   "outputs": [],
   "source": [
    "\n",
    "color_annotation <- read.csv('../Color_hex_codes/Cell_Type_Color_Annotation_and_Order.csv')\n",
    "color_vector <- setNames(color_annotation$color, color_annotation$label)"
   ]
  },
  {
   "cell_type": "code",
   "execution_count": 3,
   "id": "b939c906-6341-46ae-bd59-a3b49a70e28e",
   "metadata": {},
   "outputs": [],
   "source": [
    "df<-read.csv('01_Extract_Mean_Expression/CXCR5_CM_CD4T_BRI.csv')\n",
    "meta_data=read.csv(\"/home/jupyter/BRI_Figures_Final_V2/Dataset/scRNA_meta_data-2024-05-09.csv\")\n"
   ]
  },
  {
   "cell_type": "code",
   "execution_count": 14,
   "id": "d570d1f6-7b39-4cb3-9109-ef1523c0d02e",
   "metadata": {},
   "outputs": [],
   "source": []
  },
  {
   "cell_type": "code",
   "execution_count": 15,
   "id": "299a8953-668b-4ab3-ad18-615218996bf7",
   "metadata": {},
   "outputs": [],
   "source": []
  },
  {
   "cell_type": "code",
   "execution_count": 5,
   "id": "3d465b66-3a47-4656-8f14-b75b4dbe32bc",
   "metadata": {},
   "outputs": [],
   "source": [
    "df<-df %>% mutate(`Age Group`=case_when(cohort.cohortGuid==\"BR1\"~\"Young\", TRUE~'Older'))\n",
    "df$`Age Group`<-factor(df$`Age Group`,levels=c(\"Young\",\"Older\"))"
   ]
  },
  {
   "cell_type": "code",
   "execution_count": 12,
   "id": "114728ed-3aff-431f-b3dc-b49745287720",
   "metadata": {},
   "outputs": [
    {
     "data": {
      "image/png": "[encoded data removed]",
      "text/plain": [
       "plot without title"
      ]
     },
     "metadata": {
      "image/png": {
       "height": 106.2992,
       "width": 59.0551
      }
     },
     "output_type": "display_data"
    }
   ],
   "source": [
    "options(repr.plot.width = 25/25.4, repr.plot.height = 45/25.4)\n",
    "\n",
    "p<-ggplot(df, aes(x=`Age Group`, y=Mean_Expression, fill=`Age Group`)) +\n",
    "    geom_boxplot(outlier.shape = NA,lwd=0.3) +\n",
    "geom_point(position = position_jitter(width = 0.2),color=\"black\", size=0.8,stroke=0) +\n",
    "theme_classic(base_size=6)+  \n",
    "stat_compare_means(aes(label = paste0(\"p = \", after_stat(p.format))),\n",
    "    size=2,\n",
    "    label.x=1.25,  \n",
    "    vjust = -2)+theme(strip.background = element_rect(linewidth = 0))+\n",
    "    scale_fill_manual(values = c(\"Older\" = '#bf812d', \"Young\" = '#35978f'))+\n",
    "    scale_y_continuous(limits = c(NA, NA), \n",
    "                       expand = expansion(mult = c(0.1, 0.15)))+\n",
    "theme(legend.position=\"none\")+\n",
    "xlab('')+\n",
    "ylab('CXCR5 Expression')+\n",
    "facet_wrap(~celltype,  scale='free_y') \n",
    "\n",
    "g <- ggplot_gtable(ggplot_build(p))\n",
    "\n",
    "strips <- which(grepl('strip-', g$layout$name))\n",
    "\n",
    "pal <- color_vector['CM CD4 T cell']\n",
    "text_color <- sapply(color_vector['CM CD4 T cell'], is_dark_color)\n",
    "\n",
    "for (i in seq_along(strips)) {\n",
    "  k <- which(grepl('rect', g$grobs[[strips[i]]]$grobs[[1]]$childrenOrder))\n",
    "  l <- which(grepl('titleGrob', g$grobs[[strips[i]]]$grobs[[1]]$childrenOrder))\n",
    "  g$grobs[[strips[i]]]$grobs[[1]]$children[[k]]$gp$fill <-  adjustcolor(pal[i], alpha.f = 0.8)\n",
    "  g$grobs[[strips[i]]]$grobs[[1]]$children[[l]]$children[[1]]$gp$col <- text_color[i]\n",
    "}\n",
    "\n",
    "plot(g)\n",
    "\n",
    "ggsave('FigureA.pdf',g,width = 25/25.4,height = 45/25.4)"
   ]
  },
  {
   "cell_type": "code",
   "execution_count": null,
   "id": "51faab7e-072f-4e28-8fc0-c8644d5150dd",
   "metadata": {},
   "outputs": [],
   "source": []
  },
  {
   "cell_type": "code",
   "execution_count": null,
   "id": "6a6f2457-b473-4546-848f-cb19139c8a25",
   "metadata": {},
   "outputs": [],
   "source": []
  }
 ],
 "metadata": {
  "kernelspec": {
   "display_name": "R 4",
   "language": "R",
   "name": "ir4"
  },
  "language_info": {
   "codemirror_mode": "r",
   "file_extension": ".r",
   "mimetype": "text/x-r-source",
   "name": "R",
   "pygments_lexer": "r",
   "version": "4.3.2"
  }
 },
 "nbformat": 4,
 "nbformat_minor": 5
}
