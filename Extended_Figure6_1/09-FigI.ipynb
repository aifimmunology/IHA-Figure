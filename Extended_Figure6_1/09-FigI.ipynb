{
 "cells": [
  {
   "cell_type": "code",
   "execution_count": 1,
   "id": "29f778b3-d91f-416c-9fc1-ad259578acc5",
   "metadata": {},
   "outputs": [
    {
     "name": "stderr",
     "output_type": "stream",
     "text": [
      "\n",
      "Attaching package: ‘ggpubr’\n",
      "\n",
      "\n",
      "The following object is masked from ‘package:plyr’:\n",
      "\n",
      "    mutate\n",
      "\n",
      "\n"
     ]
    }
   ],
   "source": [
    "suppressPackageStartupMessages(library(plyr))\n",
    "suppressPackageStartupMessages(library(dplyr))\n",
    "suppressPackageStartupMessages(library(tidyr))\n",
    "suppressPackageStartupMessages(library(tibble))\n",
    "library(ggplot2)\n",
    "library(ggpubr)"
   ]
  },
  {
   "cell_type": "code",
   "execution_count": 2,
   "id": "8fa41dcc-13f3-4e72-89f1-1b3dd83fe8a9",
   "metadata": {},
   "outputs": [],
   "source": [
    "meta_data<-read.csv('/home/jupyter/BRI_Figures_Final_V2/Figure6/03_TEAseq_PenSenior/meta_data_GEO.csv')\n",
    "meta_data<-meta_data[c('combined_sample_id','subject_id.ch1')]\n",
    "colnames(meta_data)[1]<-'Sample'\n",
    "\n",
    "df<-read.csv('/home/jupyter/BRI_Figures_Final_V2/Figure6/03_TEAseq_PenSenior/Motif_Mean_Score.csv')"
   ]
  },
  {
   "cell_type": "code",
   "execution_count": 3,
   "id": "1d85461c-4d90-4969-8f9d-fb0584d84fed",
   "metadata": {},
   "outputs": [],
   "source": [
    "df<-df %>% filter(AIFI_L3=='CM CD4 T cell') \n",
    "df_filtered<-df[grepl('Sample|IRF4|STAT6',colnames(df))]"
   ]
  },
  {
   "cell_type": "code",
   "execution_count": 4,
   "id": "7ed4b9d1-6b6f-4dd9-90cd-75de464bc3dd",
   "metadata": {},
   "outputs": [
    {
     "name": "stderr",
     "output_type": "stream",
     "text": [
      "\u001b[1m\u001b[22mJoining with `by = join_by(Sample)`\n"
     ]
    }
   ],
   "source": [
    "df_filtered <- df_filtered %>%\n",
    "  left_join(meta_data) %>%\n",
    "  mutate('Age Group' = case_when(\n",
    "    startsWith(subject_id.ch1, \"BR2\") ~ \"Older\",\n",
    "    TRUE ~ 'Childern' \n",
    "  ))"
   ]
  },
  {
   "cell_type": "code",
   "execution_count": 5,
   "id": "976b0564-73e2-4767-a8e0-dc9782bbb33e",
   "metadata": {},
   "outputs": [],
   "source": [
    "df_filtered <- df_filtered %>%\n",
    "  tidyr::pivot_longer(\n",
    "    cols = starts_with(\"motif\"),\n",
    "    names_to = \"Variable\",\n",
    "    values_to = \"Value\"\n",
    "  )"
   ]
  },
  {
   "cell_type": "code",
   "execution_count": 6,
   "id": "d2ca05d1-0761-4341-94e0-e17da8d27dae",
   "metadata": {},
   "outputs": [],
   "source": [
    "df_filtered$Variable<-gsub(\"motif_\",\"\",df_filtered$Variable)"
   ]
  },
  {
   "cell_type": "code",
   "execution_count": 8,
   "id": "9409fb80-0925-4aba-bb9e-d302b9aab115",
   "metadata": {},
   "outputs": [
    {
     "data": {
      "image/png": "[encoded data removed]",
      "text/plain": [
       "plot without title"
      ]
     },
     "metadata": {
      "image/png": {
       "height": 118.1102,
       "width": 129.9213
      }
     },
     "output_type": "display_data"
    }
   ],
   "source": [
    "options(repr.plot.width = 55/25.4, repr.plot.height = 50/25.4)\n",
    "\n",
    "p<-ggplot(df_filtered, aes(x=`Age Group`, y=Value, fill=`Age Group`)) +\n",
    "    geom_boxplot(outlier.shape = NA,lwd=0.3) +\n",
    "geom_point(position = position_jitter(width = 0.2),color=\"black\", size=0.8,stroke=0) +\n",
    "theme_classic(base_size=8)+  \n",
    "stat_compare_means(aes(label = paste0(\"p = \", after_stat(p.format))),\n",
    "    size=2,\n",
    "    label.x=1.25,  \n",
    "    vjust = -2)+\n",
    "    scale_fill_manual(values = c(\"Older\" = '#bf812d', \"Childern\" = '#205B56'))+\n",
    "    scale_y_continuous(limits = c(NA, NA), \n",
    "                       expand = expansion(mult = c(0.1, 0.15)))+\n",
    "theme(legend.position=\"none\")+\n",
    "xlab('')+\n",
    "ylab('ChromVar Motif Score')+facet_wrap(~Variable)\n",
    "p\n",
    "ggsave('FigureF.pdf',p,width = 50/25.4,height = 50/25.4)"
   ]
  },
  {
   "cell_type": "code",
   "execution_count": null,
   "id": "a9423d50-fd46-40e9-9620-24b259130cad",
   "metadata": {},
   "outputs": [],
   "source": []
  },
  {
   "cell_type": "code",
   "execution_count": null,
   "id": "8bb6be06-8914-459d-926d-dbcb42c2a7d7",
   "metadata": {},
   "outputs": [],
   "source": []
  }
 ],
 "metadata": {
  "kernelspec": {
   "display_name": "R 4",
   "language": "R",
   "name": "ir4"
  },
  "language_info": {
   "codemirror_mode": "r",
   "file_extension": ".r",
   "mimetype": "text/x-r-source",
   "name": "R",
   "pygments_lexer": "r",
   "version": "4.3.2"
  }
 },
 "nbformat": 4,
 "nbformat_minor": 5
}
