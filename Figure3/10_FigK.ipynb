{
 "cells": [
  {
   "cell_type": "code",
   "execution_count": 7,
   "id": "176c3038-5afa-42c7-ac33-40d3c8be28ac",
   "metadata": {},
   "outputs": [],
   "source": [
    "library(dplyr)\n",
    "library(tidyr)\n",
    "library(tibble)\n",
    "library(ggplot2)\n",
    "library(stringr)\n",
    "library(ggrepel)\n",
    "library(ggh4x)\n",
    "library(ggpubr)"
   ]
  },
  {
   "cell_type": "code",
   "execution_count": 8,
   "id": "40567452-0aef-4b8e-83c0-0a333291b08f",
   "metadata": {},
   "outputs": [],
   "source": [
    "df<-read.csv(\"05_Olink/GZMH_KLRD1_SF4_Olink.csv\")\n",
    "\n",
    "df$CMV<-df$lab.revisionHistory.dataHistory.CMV.Ab.Screen.Result..CMVRES..newValue"
   ]
  },
  {
   "cell_type": "code",
   "execution_count": 15,
   "id": "c9c6e8c5-b952-4af3-b72a-68bc96c1b52f",
   "metadata": {},
   "outputs": [
    {
     "data": {
      "image/png": "[encoded data removed]",
      "text/plain": [
       "plot without title"
      ]
     },
     "metadata": {
      "image/png": {
       "height": 82.6772,
       "width": 59.0551
      }
     },
     "output_type": "display_data"
    }
   ],
   "source": [
    "options(repr.plot.width = 25/25.4, repr.plot.height = 35/25.4)\n",
    "p<-ggplot(df%>% filter(Assay=='GZMH'), aes(x=CMV, y=NPX_bridged,fill=CMV\t)) +\n",
    "    geom_boxplot( outlier.shape = NA,lwd=0.25) +\n",
    "geom_point(position = position_jitter(width = 0.2),\n",
    "           color=\"black\", \n",
    "           size=0.7,\n",
    "           stroke=0) +\n",
    "theme_classic(base_size=6)+  \n",
    "stat_compare_means(aes(label = paste0(\"p=\", after_stat(p.format))),\n",
    "    size=2,\n",
    "                   vjust=-0.5,\n",
    "    label.x=1.25)+theme(strip.background = element_rect(linewidth = 0.5))+\n",
    "    scale_fill_manual(values = c(\"Positive\" = '#d6604d', \n",
    "                                 \"Negative\" = '#4393c3'))+\n",
    "    scale_y_continuous(limits = c(NA, NA), \n",
    "                       expand = expansion(mult = c(0, 0.2)))+\n",
    "theme(legend.position=\"none\")+\n",
    "xlab('CMV')+\n",
    "ylab('NPX Value')+ theme(axis.text.x = element_text(angle = 90, hjust=1))+\n",
    "facet_wrap(~Assay,ncol=1 ) \n",
    "p\n",
    "ggsave('FigureK.pdf',p,width = 25/25.4,height = 35/25.4)"
   ]
  },
  {
   "cell_type": "code",
   "execution_count": null,
   "id": "0dba2c5c-2b3e-4219-98f1-b72c3782e6fa",
   "metadata": {},
   "outputs": [],
   "source": []
  },
  {
   "cell_type": "code",
   "execution_count": null,
   "id": "c651337f-5599-4891-ba5c-352fa9f8bf51",
   "metadata": {},
   "outputs": [],
   "source": []
  }
 ],
 "metadata": {
  "kernelspec": {
   "display_name": "R 4",
   "language": "R",
   "name": "ir4"
  },
  "language_info": {
   "codemirror_mode": "r",
   "file_extension": ".r",
   "mimetype": "text/x-r-source",
   "name": "R",
   "pygments_lexer": "r",
   "version": "4.3.2"
  }
 },
 "nbformat": 4,
 "nbformat_minor": 5
}
