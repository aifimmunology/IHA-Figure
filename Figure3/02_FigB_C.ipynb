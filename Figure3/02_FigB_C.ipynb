{
 "cells": [
  {
   "cell_type": "code",
   "execution_count": 1,
   "id": "4b0d936b-5023-43a3-b548-53be599fa3b6",
   "metadata": {},
   "outputs": [
    {
     "name": "stderr",
     "output_type": "stream",
     "text": [
      "/home/workspace/Aux_Envir/Python_BRI_Figures/lib/python3.11/site-packages/anndata/utils.py:429: FutureWarning: Importing read_csv from `anndata` is deprecated. Import anndata.io.read_csv instead.\n",
      "  warnings.warn(msg, FutureWarning)\n",
      "/home/workspace/Aux_Envir/Python_BRI_Figures/lib/python3.11/site-packages/anndata/utils.py:429: FutureWarning: Importing read_excel from `anndata` is deprecated. Import anndata.io.read_excel instead.\n",
      "  warnings.warn(msg, FutureWarning)\n",
      "/home/workspace/Aux_Envir/Python_BRI_Figures/lib/python3.11/site-packages/anndata/utils.py:429: FutureWarning: Importing read_hdf from `anndata` is deprecated. Import anndata.io.read_hdf instead.\n",
      "  warnings.warn(msg, FutureWarning)\n",
      "/home/workspace/Aux_Envir/Python_BRI_Figures/lib/python3.11/site-packages/anndata/utils.py:429: FutureWarning: Importing read_loom from `anndata` is deprecated. Import anndata.io.read_loom instead.\n",
      "  warnings.warn(msg, FutureWarning)\n",
      "/home/workspace/Aux_Envir/Python_BRI_Figures/lib/python3.11/site-packages/anndata/utils.py:429: FutureWarning: Importing read_mtx from `anndata` is deprecated. Import anndata.io.read_mtx instead.\n",
      "  warnings.warn(msg, FutureWarning)\n",
      "/home/workspace/Aux_Envir/Python_BRI_Figures/lib/python3.11/site-packages/anndata/utils.py:429: FutureWarning: Importing read_text from `anndata` is deprecated. Import anndata.io.read_text instead.\n",
      "  warnings.warn(msg, FutureWarning)\n",
      "/home/workspace/Aux_Envir/Python_BRI_Figures/lib/python3.11/site-packages/anndata/utils.py:429: FutureWarning: Importing read_umi_tools from `anndata` is deprecated. Import anndata.io.read_umi_tools instead.\n",
      "  warnings.warn(msg, FutureWarning)\n"
     ]
    }
   ],
   "source": [
    "import scanpy as sc\n",
    "import pandas as pd\n",
    "import os \n",
    "from tqdm import tqdm\n",
    "import matplotlib.pyplot as plt\n",
    "import matplotlib as mpl\n",
    "\n",
    "import gc\n",
    "sc.settings.n_jobs = 30\n",
    "sc._settings.settings._vector_friendly=True"
   ]
  },
  {
   "cell_type": "code",
   "execution_count": 2,
   "id": "a1ceb293-5d4c-44d5-8006-00e5bcc2b0a7",
   "metadata": {},
   "outputs": [],
   "source": [
    "color_annotation = pd.read_csv('/home/workspace/IHA_Figure_Revision/Color_hex_codes/Cell_Type_Color_Annotation_and_Order.csv')\n",
    "color_palette = {} \n",
    "\n"
   ]
  },
  {
   "cell_type": "code",
   "execution_count": 3,
   "id": "5a0c5e82-9109-4a27-9367-228a15055153",
   "metadata": {},
   "outputs": [],
   "source": [
    "adata=sc.read_h5ad(\"03_UMAP_Subsamples/adata_processed.h5ad\")"
   ]
  },
  {
   "cell_type": "code",
   "execution_count": 4,
   "id": "6608d3db-151f-4159-8d39-f42b74a14724",
   "metadata": {},
   "outputs": [
    {
     "data": {
      "text/plain": [
       "41"
      ]
     },
     "execution_count": 4,
     "metadata": {},
     "output_type": "execute_result"
    }
   ],
   "source": [
    "adata.X = None\n",
    "adata.raw = None\n",
    "adata.layers.clear\n",
    "gc.collect()"
   ]
  },
  {
   "cell_type": "code",
   "execution_count": null,
   "id": "28032dd9-2337-4e9b-92bc-0e6ab34ed785",
   "metadata": {},
   "outputs": [],
   "source": [
    "visit_list = ['Flu Year 1 Day 0','Flu Year 1 Day 90','Flu Year 2 Day 0']\n",
    "\n",
    "\n",
    "cmv_celltype = ['Adaptive NK cell', \n",
    "                'KLRF1- GZMB+ CD27- memory CD4 T cell',\n",
    "                'KLRF1- GZMB+ CD27- EM CD8 T cell',\n",
    "                'KLRF1+ GZMB+ CD27- EM CD8 T cell', \n",
    "                'KLRF1- effector Vd1 gdT', \n",
    "                'KLRF1+ effector Vd1 gdT']"
   ]
  },
  {
   "cell_type": "code",
   "execution_count": 7,
   "id": "4c9eea33-3854-420c-bbac-c133ed56a21a",
   "metadata": {},
   "outputs": [],
   "source": [
    "for cell in cmv_celltype:\n",
    "    match = color_annotation[color_annotation['label'] == cell]\n",
    "    if not match.empty:\n",
    "        color_palette[cell] = match.iloc[0]['color']\n",
    "color_palette[\"Other\"] = \"#a9a9a9\"\n"
   ]
  },
  {
   "cell_type": "code",
   "execution_count": 8,
   "id": "6296e82b-fad4-4a65-93e0-b2bad209a5ba",
   "metadata": {},
   "outputs": [],
   "source": [
    "colors = []\n",
    "\n",
    "for ct in adata.obs['AIFI_L3']:\n",
    "    if ct in cmv_celltype:\n",
    "        colors.append(ct)\n",
    "    else:\n",
    "        colors.append('Other')\n",
    "\n",
    "adata.obs['cell_type_highlight'] = colors"
   ]
  },
  {
   "cell_type": "code",
   "execution_count": null,
   "id": "14dda316-d3c4-4c46-8448-edaa5c72b401",
   "metadata": {},
   "outputs": [],
   "source": []
  },
  {
   "cell_type": "code",
   "execution_count": 9,
   "id": "3761abdd-c120-40a8-91e2-d84326ed18f2",
   "metadata": {},
   "outputs": [],
   "source": [
    "subject_adata = adata[adata.obs['subject.subjectGuid'] == 'BR1049'].copy()"
   ]
  },
  {
   "cell_type": "code",
   "execution_count": 11,
   "id": "68b8285d-4773-413b-af12-551eb7b584eb",
   "metadata": {},
   "outputs": [],
   "source": [
    "mpl.rcParams.update({\n",
    "    'font.size': 6,\n",
    "    'axes.linewidth': 0.53\n",
    "})\n",
    "nrows = 1\n",
    "ncols = 3\n",
    "fig, axes = plt.subplots(\n",
    "    nrows, ncols,\n",
    "    figsize=(60 / 25.4, 18 / 25.4),\n",
    "    gridspec_kw={'wspace': 0, 'hspace': 0}\n",
    ")\n",
    "\n",
    "plot_idx = 0\n",
    "for visit in visit_list:\n",
    "    br1_sub = subject_adata[subject_adata.obs[\"sample.visitName\"] == visit].copy()\n",
    "    ax = axes.flat[plot_idx]\n",
    "    sc.pl.umap(\n",
    "        br1_sub,\n",
    "        color=\"cell_type_highlight\",\n",
    "        palette=color_palette,\n",
    "        ax=ax, title='', size=1,\n",
    "        show=False\n",
    "    )\n",
    "    if ax.legend_:\n",
    "        ax.legend_.remove()\n",
    "    plot_idx += 1\n",
    "\n",
    "for ax in axes.flat[plot_idx:]:\n",
    "    ax.set_visible(False)\n",
    "\n",
    "for i, ax in enumerate(axes.flat):\n",
    "    row = i // ncols\n",
    "    col = i % ncols\n",
    "    if row != nrows - 1:\n",
    "        ax.set_xticks([])\n",
    "        ax.set_xticklabels([])\n",
    "        ax.set_xlabel('')\n",
    "    if col != 0:\n",
    "        ax.set_yticks([])\n",
    "        ax.set_yticklabels([])\n",
    "        ax.set_ylabel('')\n",
    "\n",
    "plt.subplots_adjust(wspace=0, hspace=0)\n",
    "plt.savefig(\"FigureB-1.pdf\", format=\"pdf\", bbox_inches=\"tight\", dpi=1000)\n",
    "plt.close()"
   ]
  },
  {
   "cell_type": "code",
   "execution_count": 14,
   "id": "995043d0-4894-4f64-9e9f-607aed5e9d30",
   "metadata": {},
   "outputs": [],
   "source": [
    "mpl.rcParams.update({\n",
    "    'font.size': 6,\n",
    "    'axes.linewidth': 0.53\n",
    "})\n",
    "cmv_values = ['Negative', 'Positive']\n",
    "nrows = 2\n",
    "ncols = 2\n",
    "fig, axes = plt.subplots(\n",
    "    nrows, ncols,\n",
    "    figsize=(60/25.4, 60/25.4),\n",
    "    gridspec_kw={'wspace': 0, 'hspace': 0}\n",
    ")\n",
    "\n",
    "plot_idx = 0\n",
    "n_cells = 30000 \n",
    "\n",
    "for cohort in [\"BR1\",\"BR2\"]:\n",
    "    adata_cohort = adata[adata.obs[\"cohort.cohortGuid\"] == cohort].to_memory()\n",
    "    for cmv in cmv_values:\n",
    "        adata_cmv = adata_cohort[adata_cohort.obs[\"subject.cmv\"] == cmv].copy()\n",
    "        br1_sub = adata_cmv.copy()\n",
    "        if plot_idx >= nrows * ncols or br1_sub.n_obs == 0:\n",
    "            continue\n",
    "        if br1_sub.n_obs > n_cells:\n",
    "            sc.pp.subsample(br1_sub, n_obs=n_cells, random_state=0)\n",
    "        ax = axes.flat[plot_idx]\n",
    "        sc.pl.umap(\n",
    "            br1_sub,\n",
    "            color=\"cell_type_highlight\",\n",
    "            palette=color_palette,\n",
    "            ax=ax, title='', size=0.15,\n",
    "            show=False,\n",
    "        )\n",
    "        if ax.legend_:\n",
    "            ax.legend_.remove()\n",
    "        plot_idx += 1\n",
    "\n",
    "for i, ax in enumerate(axes.flat):\n",
    "    row = i // ncols\n",
    "    col = i % ncols\n",
    "    if row != nrows - 1:\n",
    "        ax.set_xticks([])\n",
    "        ax.set_xticklabels([])\n",
    "        ax.set_xlabel('')\n",
    "    if col != 0:\n",
    "        ax.set_yticks([])\n",
    "        ax.set_yticklabels([])\n",
    "        ax.set_ylabel('')\n",
    "\n",
    "plt.savefig(\"FigureB-2.pdf\", format=\"pdf\", bbox_inches=\"tight\", dpi=1000)\n",
    "plt.close()"
   ]
  },
  {
   "cell_type": "code",
   "execution_count": null,
   "id": "f7f81fe6-c379-4a35-909d-c1f46cd82d05",
   "metadata": {},
   "outputs": [],
   "source": []
  },
  {
   "cell_type": "code",
   "execution_count": null,
   "id": "b2b3ef5a-6131-4f76-b297-3a39e0014e29",
   "metadata": {},
   "outputs": [],
   "source": []
  },
  {
   "cell_type": "code",
   "execution_count": null,
   "id": "e89c4e90-4f1c-4621-a66d-a86f20a331d9",
   "metadata": {},
   "outputs": [],
   "source": []
  },
  {
   "cell_type": "code",
   "execution_count": null,
   "id": "08394e0f-1ac3-4b59-85aa-4f54e3055162",
   "metadata": {},
   "outputs": [],
   "source": []
  },
  {
   "cell_type": "code",
   "execution_count": null,
   "id": "dd9d672a-57cb-4d0f-ab90-d36e8af3a2d4",
   "metadata": {},
   "outputs": [],
   "source": []
  },
  {
   "cell_type": "code",
   "execution_count": null,
   "id": "84509d34-5a16-4c53-8985-7775bce80f1c",
   "metadata": {},
   "outputs": [],
   "source": []
  },
  {
   "cell_type": "code",
   "execution_count": null,
   "id": "50d281bb-f8c8-4739-a0b6-b5246c58596d",
   "metadata": {},
   "outputs": [],
   "source": []
  },
  {
   "cell_type": "code",
   "execution_count": null,
   "id": "5c8fda15-f7ad-4ab9-97cc-c4a96c796cc6",
   "metadata": {},
   "outputs": [],
   "source": []
  }
 ],
 "metadata": {
  "kernelspec": {
   "display_name": "Python_BRI_Figures",
   "language": "python",
   "name": "python_bri_figures"
  },
  "language_info": {
   "codemirror_mode": {
    "name": "ipython",
    "version": 3
   },
   "file_extension": ".py",
   "mimetype": "text/x-python",
   "name": "python",
   "nbconvert_exporter": "python",
   "pygments_lexer": "ipython3",
   "version": "3.11.0"
  }
 },
 "nbformat": 4,
 "nbformat_minor": 5
}
