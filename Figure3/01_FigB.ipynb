{
 "cells": [
  {
   "cell_type": "code",
   "execution_count": 1,
   "id": "fd4ab8fe-5662-4188-8e33-1ea5dafb10f0",
   "metadata": {},
   "outputs": [
    {
     "name": "stderr",
     "output_type": "stream",
     "text": [
      "Loading required package: viridisLite\n",
      "\n"
     ]
    }
   ],
   "source": [
    "suppressPackageStartupMessages(library(dplyr))\n",
    "suppressPackageStartupMessages(library(tidyr))\n",
    "suppressPackageStartupMessages(library(tibble))\n",
    "suppressPackageStartupMessages(library(ggplot2))\n",
    "suppressPackageStartupMessages(library(pheatmap))\n",
    "suppressPackageStartupMessages(library(plyr))\n",
    "library(pheatmap)\n",
    "library(RColorBrewer)\n",
    "library(viridis)"
   ]
  },
  {
   "cell_type": "code",
   "execution_count": 17,
   "id": "66d95422-b581-4c7d-94bf-c4f343a858ff",
   "metadata": {},
   "outputs": [],
   "source": [
    "save_pheatmap <- function(x, filename, width=12, height=12){\n",
    "  stopifnot(!missing(x))\n",
    "  stopifnot(!missing(filename))\n",
    "  if(grepl(\".png\",filename)){\n",
    "    png(filename, width=width, height=height, units = \"in\", res=300)\n",
    "    grid::grid.newpage()\n",
    "    grid::grid.draw(x$gtable)\n",
    "    dev.off()\n",
    "  }\n",
    "  else if(grepl(\".pdf\",filename)){\n",
    "    pdf(filename, width=width, height=height)\n",
    "    grid::grid.newpage()\n",
    "    grid::grid.draw(x$gtable)\n",
    "    dev.off()\n",
    "  }\n",
    "  else{\n",
    "    print(\"Filename did not contain '.png' or '.pdf'\")\n",
    "  }}"
   ]
  },
  {
   "cell_type": "code",
   "execution_count": 6,
   "id": "9d983379-bf76-4b9e-9d99-fa42196dcdc2",
   "metadata": {},
   "outputs": [],
   "source": [
    "meta_data=read.csv(\"/home/jupyter/BRI_Figures_Final_V2/Dataset/SF4_meta_data-2024-05-05.csv\")\n",
    "meta_data$ageAtEnrollment[meta_data$ageAtEnrollment == '89+'] <- '90'\n",
    "meta_data$ageAtEnrollment<-as.numeric(meta_data$ageAtEnrollment)\n",
    "meta_data<-meta_data[!is.na(meta_data$ageAtEnrollment),]\n",
    "meta_data$Ages<-meta_data$ageAtEnrollment\n",
    "meta_data <- meta_data[!duplicated(meta_data$sample.sampleKitGuid, fromLast = TRUE), ]\n",
    "rownames(meta_data)<-meta_data$sample.sampleKitGuid"
   ]
  },
  {
   "cell_type": "code",
   "execution_count": 10,
   "id": "4dea92c0-8a39-4db8-af35-644bd6f75ec1",
   "metadata": {},
   "outputs": [],
   "source": [
    "df_input<-read.csv(\"01_Olink/SF_Selected_Olink.csv\",row.names = 1)"
   ]
  },
  {
   "cell_type": "code",
   "execution_count": 39,
   "id": "3ccde1c1-0fd4-4e47-8a78-0993c99b9e5d",
   "metadata": {},
   "outputs": [
    {
     "data": {
      "text/html": [
       "<style>\n",
       ".list-inline {list-style: none; margin:0; padding: 0}\n",
       ".list-inline>li {display: inline-block}\n",
       ".list-inline>li:not(:last-child)::after {content: \"\\00b7\"; padding: 0 .5ex}\n",
       "</style>\n",
       "<ol class=list-inline><li>'CXCL17'</li><li>'LTBP2'</li><li>'EDA2R'</li><li>'WNT9A'</li><li>'SCARF2'</li><li>'GDF15'</li><li>'SOST'</li><li>'WFDC2'</li><li>'ACTA2'</li><li>'NEFL'</li><li>'CTSV'</li><li>'RET'</li><li>'PROK1'</li><li>'PAEP'</li><li>'TNF'</li><li>'IL6'</li><li>'IL1B'</li><li>'IL11'</li></ol>\n"
      ],
      "text/latex": [
       "\\begin{enumerate*}\n",
       "\\item 'CXCL17'\n",
       "\\item 'LTBP2'\n",
       "\\item 'EDA2R'\n",
       "\\item 'WNT9A'\n",
       "\\item 'SCARF2'\n",
       "\\item 'GDF15'\n",
       "\\item 'SOST'\n",
       "\\item 'WFDC2'\n",
       "\\item 'ACTA2'\n",
       "\\item 'NEFL'\n",
       "\\item 'CTSV'\n",
       "\\item 'RET'\n",
       "\\item 'PROK1'\n",
       "\\item 'PAEP'\n",
       "\\item 'TNF'\n",
       "\\item 'IL6'\n",
       "\\item 'IL1B'\n",
       "\\item 'IL11'\n",
       "\\end{enumerate*}\n"
      ],
      "text/markdown": [
       "1. 'CXCL17'\n",
       "2. 'LTBP2'\n",
       "3. 'EDA2R'\n",
       "4. 'WNT9A'\n",
       "5. 'SCARF2'\n",
       "6. 'GDF15'\n",
       "7. 'SOST'\n",
       "8. 'WFDC2'\n",
       "9. 'ACTA2'\n",
       "10. 'NEFL'\n",
       "11. 'CTSV'\n",
       "12. 'RET'\n",
       "13. 'PROK1'\n",
       "14. 'PAEP'\n",
       "15. 'TNF'\n",
       "16. 'IL6'\n",
       "17. 'IL1B'\n",
       "18. 'IL11'\n",
       "\n",
       "\n"
      ],
      "text/plain": [
       " [1] \"CXCL17\" \"LTBP2\"  \"EDA2R\"  \"WNT9A\"  \"SCARF2\" \"GDF15\"  \"SOST\"   \"WFDC2\" \n",
       " [9] \"ACTA2\"  \"NEFL\"   \"CTSV\"   \"RET\"    \"PROK1\"  \"PAEP\"   \"TNF\"    \"IL6\"   \n",
       "[17] \"IL1B\"   \"IL11\"  "
      ]
     },
     "metadata": {},
     "output_type": "display_data"
    }
   ],
   "source": [
    "rownames(df_input)"
   ]
  },
  {
   "cell_type": "code",
   "execution_count": null,
   "id": "bc11c153-a71c-40dd-8ff7-3efe6f1f1c2a",
   "metadata": {},
   "outputs": [],
   "source": [
    "column_order<-meta_data %>% filter(lab.sampleKitGuid %in% colnames(df_input)) %>% arrange(Ages)\n",
    "\n",
    "df_input<-df_input[,column_order$sample.sampleKitGuid]\n",
    "\n",
    "df_input<-df_input %>% drop_na()\n",
    "\n",
    "annotation<-column_order %>% select(Ages)\n",
    "rownames(annotation)<-column_order$sample.sampleKitGuid"
   ]
  },
  {
   "cell_type": "code",
   "execution_count": 31,
   "id": "48118ce4-50e3-4da2-a26d-59b9675d4fff",
   "metadata": {},
   "outputs": [],
   "source": [
    "row_annotation<-as.data.frame(rownames(df_input))"
   ]
  },
  {
   "cell_type": "code",
   "execution_count": 32,
   "id": "80a7b9a3-7b4c-4d7d-ae79-ff8c2fbf67fb",
   "metadata": {},
   "outputs": [],
   "source": [
    "row_annotation$Group<-c(rep(c(\"Up in Older\"),10),rep(c(\"Up in Younger\"),4),rep(c(\"Inflammatory\"),4))\n",
    "rownames(row_annotation)<-rownames(df_input)"
   ]
  },
  {
   "cell_type": "code",
   "execution_count": 36,
   "id": "3bc77a69-2e1b-478b-9938-9994da3bdcca",
   "metadata": {},
   "outputs": [],
   "source": [
    "row_annotation<-row_annotation[\"Group\"]"
   ]
  },
  {
   "cell_type": "code",
   "execution_count": 15,
   "id": "5dc7a867-db61-40ac-9082-8340ff7fbdbf",
   "metadata": {},
   "outputs": [],
   "source": [
    "breaks_sequence <- seq(-1, 1, length.out = 100)"
   ]
  },
  {
   "cell_type": "code",
   "execution_count": 38,
   "id": "c34ebd75-fdd5-44d4-ab2e-f77c17240b86",
   "metadata": {},
   "outputs": [
    {
     "data": {
      "text/html": [
       "<strong>png:</strong> 2"
      ],
      "text/latex": [
       "\\textbf{png:} 2"
      ],
      "text/markdown": [
       "**png:** 2"
      ],
      "text/plain": [
       "png \n",
       "  2 "
      ]
     },
     "metadata": {},
     "output_type": "display_data"
    },
    {
     "data": {
      "image/png": "[encoded data removed]",
      "text/plain": [
       "plot without title"
      ]
     },
     "metadata": {
      "image/png": {
       "height": 141.7323,
       "width": 283.4646
      }
     },
     "output_type": "display_data"
    }
   ],
   "source": [
    "options(repr.plot.width = 120/25.4, repr.plot.height =  60/25.4)\n",
    "\n",
    "p<-pheatmap(df_input, \n",
    "         breaks=breaks_sequence,\n",
    "         cluster_rows=FALSE, \n",
    "         annotation=annotation,         annotation_row=row_annotation,\n",
    "         fontsize = 6,\n",
    "         cluster_cols=FALSE,\n",
    "         gaps_row = c(10,14),\n",
    "         show_colnames=FALSE,color= cividis(100),\n",
    "         border_color=NA,\n",
    "         scale='row')\n",
    "p\n",
    "save_pheatmap(p,'FigureB.pdf', width=120/25.4, height=60/25.4)"
   ]
  },
  {
   "cell_type": "code",
   "execution_count": null,
   "id": "0edd340b-5c38-4fc4-ab94-5801cc437810",
   "metadata": {},
   "outputs": [],
   "source": []
  }
 ],
 "metadata": {
  "kernelspec": {
   "display_name": "R 4",
   "language": "R",
   "name": "ir4"
  },
  "language_info": {
   "codemirror_mode": "r",
   "file_extension": ".r",
   "mimetype": "text/x-r-source",
   "name": "R",
   "pygments_lexer": "r",
   "version": "4.3.2"
  }
 },
 "nbformat": 4,
 "nbformat_minor": 5
}
