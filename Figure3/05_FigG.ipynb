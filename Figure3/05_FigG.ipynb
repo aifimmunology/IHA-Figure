{
 "cells": [
  {
   "cell_type": "code",
   "execution_count": 1,
   "id": "1cfa4289-df24-4307-ae36-135cac75e47f",
   "metadata": {},
   "outputs": [
    {
     "name": "stderr",
     "output_type": "stream",
     "text": [
      "Warning message:\n",
      "“package ‘dplyr’ was built under R version 4.3.3”\n",
      "\n",
      "Attaching package: ‘dplyr’\n",
      "\n",
      "\n",
      "The following objects are masked from ‘package:stats’:\n",
      "\n",
      "    filter, lag\n",
      "\n",
      "\n",
      "The following objects are masked from ‘package:base’:\n",
      "\n",
      "    intersect, setdiff, setequal, union\n",
      "\n",
      "\n",
      "Warning message:\n",
      "“package ‘tidyr’ was built under R version 4.3.3”\n",
      "Warning message:\n",
      "“package ‘tibble’ was built under R version 4.3.3”\n",
      "Warning message:\n",
      "“package ‘stringr’ was built under R version 4.3.3”\n"
     ]
    }
   ],
   "source": [
    "library(dplyr)\n",
    "library(tidyr)\n",
    "library(tibble)\n",
    "library(ggplot2)\n",
    "library(stringr)\n",
    "library(ggrepel)\n",
    "library(ggh4x)\n",
    "library(ggpubr)"
   ]
  },
  {
   "cell_type": "code",
   "execution_count": 2,
   "id": "bf9a51bd-6116-46f4-96b1-fc9abdc26485",
   "metadata": {},
   "outputs": [],
   "source": [
    "df<-read.csv('04_FlowData/NK_Flow.csv',check.names = FALSE)\n"
   ]
  },
  {
   "cell_type": "code",
   "execution_count": 3,
   "id": "8edb86d3-13a6-4ff5-b266-abdc9579a0a7",
   "metadata": {},
   "outputs": [
    {
     "data": {
      "image/png": "[encoded data removed]",
      "text/plain": [
       "plot without title"
      ]
     },
     "metadata": {
      "image/png": {
       "height": 106.2992,
       "width": 70.8661
      }
     },
     "output_type": "display_data"
    }
   ],
   "source": [
    "options(repr.plot.width = 30/25.4, repr.plot.height = 45/25.4)\n",
    "df$`Age Group`<-factor(df$`Age Group`,levels=c(\"Young\",\"Older\"))\n",
    "df$group=paste0(df$CMV,'-',df$`Age Group`)\n",
    "df$group=factor(df$group,levels=c(\"Negative-Young\",\"Positive-Young\",\"Negative-Older\", \"Positive-Older\"))\n",
    "my_comparisons <- list(c(\"Negative-Young\", \"Positive-Young\"),c(\"Negative-Older\", \"Positive-Older\"),c(\"Positive-Young\", \"Positive-Older\"))\n",
    "p<-ggplot(df, aes(x=group, y=`NKG2C MFI`,fill=CMV\t)) +\n",
    "    geom_boxplot( aes(fill=`Age Group`\t),outlier.shape = NA,lwd=0.3) +\n",
    "geom_point(position = position_jitter(width = 0.2),color=\"black\", size=0.7,stroke=0) +\n",
    "theme_classic(base_size=6)+  \n",
    "stat_compare_means(aes(label = paste0(\"p=\", after_stat(p.format))),comparisons=my_comparisons[1],\n",
    "    size=2.2,label.y=20000,\n",
    "    vjust = -0.5)+  \n",
    "stat_compare_means(aes(label = paste0(\"p=\", after_stat(p.format))),comparisons=my_comparisons[2],\n",
    "    size=2.2,label.y=15000,\n",
    "    vjust = -0.5)+  \n",
    "stat_compare_means(aes(label = paste0(\"p=\", after_stat(p.format))),comparisons=my_comparisons[3],\n",
    "    size=2.2, label.y=26000,\n",
    "    vjust = -0.5)+theme(strip.background = element_rect(linewidth = 0.5))+\n",
    "    scale_fill_manual(values = c(\"Older\" = '#bf812d', \"Young\" = '#35978f'))+\n",
    "    scale_y_continuous(limits = c(NA, NA), \n",
    "                       expand = expansion(mult = c(0, 0.11)))+\n",
    "theme(legend.position=\"none\")+\n",
    "xlab('CMV')+\n",
    "ylab('NKG2C MFI')+ theme(axis.text.x = element_text(angle = 90, hjust=1))\n",
    "p\n",
    "ggsave('FigureF.pdf',p,width = 30/25.4,height = 45/25.4)"
   ]
  },
  {
   "cell_type": "code",
   "execution_count": 4,
   "id": "417584df-ae9e-4581-8d11-3e39a96a6437",
   "metadata": {},
   "outputs": [],
   "source": [
    "write.csv(df %>% select(Subject,AIFI_L3,CMV,`Age Group`,`NKG2C MFI`),\n",
    "          \"/home//workspace/Source_Data/Fig3g.csv\", row.names=FALSE)"
   ]
  },
  {
   "cell_type": "code",
   "execution_count": null,
   "id": "569112aa-5f9b-47f1-821e-744edc824f99",
   "metadata": {},
   "outputs": [],
   "source": []
  }
 ],
 "metadata": {
  "kernelspec": {
   "display_name": "R_BRI_Figures",
   "language": "R",
   "name": "r_bri_figures"
  },
  "language_info": {
   "codemirror_mode": "r",
   "file_extension": ".r",
   "mimetype": "text/x-r-source",
   "name": "R",
   "pygments_lexer": "r",
   "version": "4.3.2"
  }
 },
 "nbformat": 4,
 "nbformat_minor": 5
}
