{
 "cells": [
  {
   "cell_type": "code",
   "execution_count": 1,
   "id": "d9ee3c7d-8f87-4764-a928-0a962eaca07d",
   "metadata": {},
   "outputs": [
    {
     "name": "stderr",
     "output_type": "stream",
     "text": [
      "Warning message:\n",
      "“package ‘dplyr’ was built under R version 4.3.3”\n",
      "\n",
      "Attaching package: ‘dplyr’\n",
      "\n",
      "\n",
      "The following objects are masked from ‘package:stats’:\n",
      "\n",
      "    filter, lag\n",
      "\n",
      "\n",
      "The following objects are masked from ‘package:base’:\n",
      "\n",
      "    intersect, setdiff, setequal, union\n",
      "\n",
      "\n",
      "Warning message:\n",
      "“package ‘tidyr’ was built under R version 4.3.3”\n",
      "Warning message:\n",
      "“package ‘tibble’ was built under R version 4.3.3”\n",
      "Warning message:\n",
      "“package ‘stringr’ was built under R version 4.3.3”\n"
     ]
    }
   ],
   "source": [
    "library(dplyr)\n",
    "library(tidyr)\n",
    "library(tibble)\n",
    "library(ggplot2)\n",
    "library(stringr)\n",
    "library(ggrepel)\n",
    "library(ggh4x)\n",
    "library(ggpubr)\n",
    "source('../../helper_function/helper_function_IHA.r')"
   ]
  },
  {
   "cell_type": "code",
   "execution_count": 2,
   "id": "fdc0eedf-a085-47ef-8e48-6a003df4f65a",
   "metadata": {},
   "outputs": [],
   "source": [
    "df<-read.csv('EXP-01073 NK IH Analysis.csv',check.names = FALSE)\n",
    "df<-df[1:48,1:23]\n",
    "colnames(df)[7]<-'origin'"
   ]
  },
  {
   "cell_type": "code",
   "execution_count": 3,
   "id": "5ee21f2c-89e8-4e19-bff0-6910b90e6953",
   "metadata": {},
   "outputs": [],
   "source": [
    "df <- df %>% dplyr::mutate(`Age Group` = case_when(\n",
    "  Cohort == \"BR1\" ~ \"Young\",\n",
    "  Cohort == \"BR2\" ~ \"Older\",\n",
    "  TRUE ~ NA_character_\n",
    "))\n",
    "df$`Age Group`<-factor(df$`Age Group`,levels=c(\"Young\",\"Older\"))"
   ]
  },
  {
   "cell_type": "code",
   "execution_count": 4,
   "id": "5e697ae7-a50c-4bcd-8593-5ddd52a01466",
   "metadata": {},
   "outputs": [],
   "source": [
    "df$AIFI_L3<-'Adaptive NK'"
   ]
  },
  {
   "cell_type": "code",
   "execution_count": 5,
   "id": "9c1e4bd4-8099-4bec-b6f9-3d15a32c5b5d",
   "metadata": {},
   "outputs": [],
   "source": [
    "selected_counts<-df[c('CD56Hi','Adaptive NK','Proliferating','Granzyme K+','Granzyme K-')]#+1\n",
    "percentages <- selected_counts / rowSums(selected_counts) * 100\n",
    "clr_transformed <- t(apply(percentages, 1, clr_transform))"
   ]
  },
  {
   "cell_type": "code",
   "execution_count": 6,
   "id": "02bec09e-2c0b-428e-8a73-acde8ea7f628",
   "metadata": {},
   "outputs": [],
   "source": [
    "colnames(clr_transformed)<-paste0(\"clr_\",colnames(clr_transformed))"
   ]
  },
  {
   "cell_type": "code",
   "execution_count": 7,
   "id": "4538550e-ddea-4b1e-b37f-0ca8786da085",
   "metadata": {},
   "outputs": [],
   "source": [
    "df<-cbind(df,clr_transformed)"
   ]
  },
  {
   "cell_type": "code",
   "execution_count": 8,
   "id": "a4305aa6-a259-4b0a-ac4b-ba8ab24b2a28",
   "metadata": {},
   "outputs": [],
   "source": [
    "write.csv(df,\"NK_Flow.csv\")"
   ]
  },
  {
   "cell_type": "code",
   "execution_count": null,
   "id": "5069dcaa-db30-4caf-8c63-4c7969bdacbd",
   "metadata": {},
   "outputs": [],
   "source": []
  }
 ],
 "metadata": {
  "kernelspec": {
   "display_name": "R_BRI_Figures",
   "language": "R",
   "name": "r_bri_figures"
  },
  "language_info": {
   "codemirror_mode": "r",
   "file_extension": ".r",
   "mimetype": "text/x-r-source",
   "name": "R",
   "pygments_lexer": "r",
   "version": "4.3.2"
  }
 },
 "nbformat": 4,
 "nbformat_minor": 5
}
