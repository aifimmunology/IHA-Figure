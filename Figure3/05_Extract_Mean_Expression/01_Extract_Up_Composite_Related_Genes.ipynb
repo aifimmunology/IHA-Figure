{
 "cells": [
  {
   "cell_type": "code",
   "execution_count": 28,
   "id": "769c1a1a-3a09-4cf7-9ab6-68a6aeadf026",
   "metadata": {},
   "outputs": [],
   "source": [
    "suppressPackageStartupMessages(library(dplyr))\n",
    "suppressPackageStartupMessages(library(tidyr))\n",
    "suppressPackageStartupMessages(library(tibble))\n",
    "suppressPackageStartupMessages(library(reshape2))\n",
    "suppressPackageStartupMessages(library(parallel))\n",
    "suppressPackageStartupMessages(library(plyr))\n",
    "source('/home/jupyter/BRI_Figures_Final_V2/helper_function/helper_function_IHA.r')"
   ]
  },
  {
   "cell_type": "code",
   "execution_count": 1,
   "id": "2c58da6b-ef35-4c2b-b918-d9b6511adb75",
   "metadata": {},
   "outputs": [],
   "source": [
    "meta_data=read.csv(\"/home/jupyter/BRI_Figures_Final_V2/Dataset/SF4_meta_data-2024-05-05.csv\")\n",
    "meta_data$ageAtEnrollment[meta_data$ageAtEnrollment == '89+'] <- '90'\n",
    "meta_data$ageAtEnrollment<-as.numeric(meta_data$ageAtEnrollment)\n",
    "meta_data<-meta_data[!is.na(meta_data$ageAtEnrollment),]\n",
    "meta_data$Ages<-meta_data$ageAtEnrollment\n",
    "meta_data <- meta_data[!duplicated(meta_data$sample.sampleKitGuid, fromLast = TRUE), ]\n",
    "rownames(meta_data)<-meta_data$sample.sampleKitGuid"
   ]
  },
  {
   "cell_type": "code",
   "execution_count": 3,
   "id": "fb648edd-9fbf-4f87-92b5-6b036de191a5",
   "metadata": {},
   "outputs": [],
   "source": [
    "file_list<-paste0(\"/home/jupyter/BRI_Figures/Dataset/scRNA/SF4/Average_LogNormalized_Expression/Average_LogNormalized_Expression_of_Celltypes_by_Sample_AIFI_L3/\", meta_data$pbmc_sample_id, \".csv\")"
   ]
  },
  {
   "cell_type": "code",
   "execution_count": 24,
   "id": "94b8165c-2836-464e-8f76-286ec7fc1d57",
   "metadata": {},
   "outputs": [
    {
     "name": "stdout",
     "output_type": "stream",
     "text": [
      "[1] \"Total reading time: 17.463 seconds\"\n",
      "[1] \"The length of the list matches the length of the input path.\"\n"
     ]
    }
   ],
   "source": [
    "df_list<-read_pseudobulk_expression(file_list, mc_cores = 60)"
   ]
  },
  {
   "cell_type": "code",
   "execution_count": 44,
   "id": "bba98c68-4b09-4cc9-b77a-e43fdc107981",
   "metadata": {},
   "outputs": [],
   "source": [
    "gene_list<-list(c(\"IRF3\"),c(\"ID3\"),\n",
    "                c(\"LGALS1\"),c(\"GZMK\"))\n",
    "names(gene_list)<-c(\"Core naive CD4 T cell\",\"Core naive CD8 T cell\",\n",
    "                    \"CM CD4 T cell\",\"GZMB- CD27+ EM CD4 T cell\")"
   ]
  },
  {
   "cell_type": "code",
   "execution_count": 45,
   "id": "c359dda2-9d2e-4d39-bb34-f53bb2ce8449",
   "metadata": {},
   "outputs": [
    {
     "data": {
      "text/html": [
       "<strong>Core naive CD4 T cell:</strong> 'IRF3'"
      ],
      "text/latex": [
       "\\textbf{Core naive CD4 T cell:} 'IRF3'"
      ],
      "text/markdown": [
       "**Core naive CD4 T cell:** 'IRF3'"
      ],
      "text/plain": [
       "Core naive CD4 T cell \n",
       "               \"IRF3\" "
      ]
     },
     "metadata": {},
     "output_type": "display_data"
    }
   ],
   "source": [
    "unlist(gene_list[1])"
   ]
  },
  {
   "cell_type": "code",
   "execution_count": 46,
   "id": "d262223d-6d76-4394-8c90-333d427331de",
   "metadata": {},
   "outputs": [
    {
     "name": "stderr",
     "output_type": "stream",
     "text": [
      "\u001b[1m\u001b[22mJoining with `by = join_by(pbmc_sample_id)`\n",
      "Warning message in FUN(X[[i]], ...):\n",
      "“Cell type Core naive CD8 T cell not found in the dataframe.”\n",
      "\u001b[1m\u001b[22mJoining with `by = join_by(pbmc_sample_id)`\n",
      "\u001b[1m\u001b[22mJoining with `by = join_by(pbmc_sample_id)`\n",
      "\u001b[1m\u001b[22mJoining with `by = join_by(pbmc_sample_id)`\n"
     ]
    }
   ],
   "source": [
    "expression_list <- list()\n",
    "\n",
    "for (i in seq_along(gene_list)) {\n",
    "  gene_names <- unlist(gene_list[[i]])\n",
    "  cell_type <- names(gene_list)[i]\n",
    "  \n",
    "  df <- filter_genes_and_celltype(df_list, gene_names, cell_type, longformat = TRUE)\n",
    "  df <- left_join(df, meta_data)\n",
    "  \n",
    "  expression_list[[cell_type]] <- df\n",
    "}"
   ]
  },
  {
   "cell_type": "code",
   "execution_count": 47,
   "id": "4e327d85-ebdf-401b-83c8-9e41df1f7849",
   "metadata": {},
   "outputs": [],
   "source": [
    "df<-do.call(rbind,expression_list)"
   ]
  },
  {
   "cell_type": "code",
   "execution_count": 48,
   "id": "b4540c78-9ea6-4168-a029-1732b515ed87",
   "metadata": {},
   "outputs": [],
   "source": [
    "write.csv(df,'Up_Selected_Genes.csv')"
   ]
  },
  {
   "cell_type": "code",
   "execution_count": null,
   "id": "a3974178-53be-455b-b297-fef3b473dd75",
   "metadata": {},
   "outputs": [],
   "source": []
  }
 ],
 "metadata": {
  "kernelspec": {
   "display_name": "R 4",
   "language": "R",
   "name": "ir4"
  },
  "language_info": {
   "codemirror_mode": "r",
   "file_extension": ".r",
   "mimetype": "text/x-r-source",
   "name": "R",
   "pygments_lexer": "r",
   "version": "4.3.2"
  }
 },
 "nbformat": 4,
 "nbformat_minor": 5
}
