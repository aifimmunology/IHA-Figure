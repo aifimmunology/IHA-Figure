{
 "cells": [
  {
   "cell_type": "code",
   "execution_count": 54,
   "id": "9f2a5b55-89c4-49bd-aee7-e60a2921a440",
   "metadata": {},
   "outputs": [],
   "source": [
    "suppressPackageStartupMessages(library(dplyr))\n",
    "suppressPackageStartupMessages(library(tidyr))\n",
    "suppressPackageStartupMessages(library(tibble))\n",
    "suppressPackageStartupMessages(library(stringr))\n",
    "library(parallel)\n",
    "library(ggplot2)\n",
    "library(ggh4x)\n",
    "library(grid)\n",
    "library(\"cowplot\")\n",
    "library(patchwork)\n",
    "is_dark_color <- function(hex) {\n",
    "  rgb <- col2rgb(hex)\n",
    "  \n",
    "  luminance <- 0.299 * rgb[1,] + 0.587 * rgb[2,] + 0.114 * rgb[3,]\n",
    "  if(luminance < 128){\n",
    "  return('white')\n",
    "  }else{return('black')}\n",
    "}\n"
   ]
  },
  {
   "cell_type": "code",
   "execution_count": 55,
   "id": "7e69c87f-9913-4a76-9841-456781b9a824",
   "metadata": {},
   "outputs": [],
   "source": [
    "color_annotation<-read.csv('../Color_hex_codes/Cell_Type_Color_Annotation_and_Order.csv')\n",
    "color_vector <- setNames(color_annotation$color, color_annotation$label)"
   ]
  },
  {
   "cell_type": "code",
   "execution_count": 56,
   "id": "274c7922-eb55-44bf-b829-d4fb6d76620e",
   "metadata": {},
   "outputs": [],
   "source": [
    "df<-read.csv(\"04_DEG_AgeGroup_CMVneg_vs_CMVpos/ZBTB38_Addaptive_NK_BRI_OverTime.csv\")"
   ]
  },
  {
   "cell_type": "code",
   "execution_count": 57,
   "id": "4fd8854a-66cd-4426-a1c7-f4cc3fd712f6",
   "metadata": {},
   "outputs": [],
   "source": [
    "df <- df %>% dplyr::mutate(`Age Group` = case_when(\n",
    "  cohort.cohortGuid == \"BR1\" ~ \"Young\",\n",
    "  cohort.cohortGuid == \"BR2\" ~ \"Older\",\n",
    "  TRUE ~ NA_character_\n",
    "))\n",
    "df$`Age Group`<-factor(df$`Age Group`,levels=c(\"Young\",\"Older\"))"
   ]
  },
  {
   "cell_type": "code",
   "execution_count": 58,
   "id": "4a517ae8-0f49-43e7-9730-81a3d41052db",
   "metadata": {},
   "outputs": [],
   "source": [
    "df$AIFI_L3<-\"Adaptive NK\""
   ]
  },
  {
   "cell_type": "code",
   "execution_count": 59,
   "id": "c59828df-be91-4d14-845c-0e14fa13d550",
   "metadata": {},
   "outputs": [],
   "source": [
    "p1 <- ggplot(df %>% filter(CMV==\"Positive\"),  aes(sample.daysSinceFirstVisit, Mean_Expression, group = `Age Group`, color = `Age Group`)) +\n",
    "geom_line(aes(group = interaction(`Age Group`, subject.subjectGuid)), \n",
    "              linewidth=0.1, \n",
    "              alpha=0.4,\n",
    "              linetype =1)+\n",
    "  ylab('') +\n",
    "  theme_bw(base_size = 8) +\n",
    "  theme(\n",
    "    axis.line = element_line(colour = \"black\"),\n",
    "    panel.grid.major = element_blank(),\n",
    "    panel.grid.minor = element_blank(),\n",
    "    panel.border = element_blank(),\n",
    "    panel.background = element_blank()\n",
    "  ) + \n",
    "  scale_color_manual(values = c(\"Older\" = '#bf812d', \"Young\" = '#35978f')) +\n",
    "  geom_smooth(method = \"lm\", se = TRUE, linewidth = 0.3) +\n",
    "  facet_wrap2(~AIFI_L3, axes = \"all\", remove_labels = \"all\", ncol = 1, scale = 'free_y') +\n",
    "  theme(\n",
    "    panel.grid.major = element_blank(),\n",
    "    panel.grid.minor = element_blank(),\n",
    "    strip.background = element_rect(fill = adjustcolor(color_vector[\"Adaptive NK cell\"], alpha.f = 0.8), color = NA),\n",
    "    strip.text = element_text(color = is_dark_color(adjustcolor(color_vector[\"Adaptive NK cell\"], alpha.f = 0.8)))\n",
    "  ) +\n",
    "  xlab('') +\n",
    "  theme(legend.position = \"none\")"
   ]
  },
  {
   "cell_type": "code",
   "execution_count": 60,
   "id": "88374c42-8df0-475d-9f87-3270ad940337",
   "metadata": {},
   "outputs": [
    {
     "name": "stderr",
     "output_type": "stream",
     "text": [
      "\u001b[1m\u001b[22m`geom_smooth()` using formula = 'y ~ x'\n"
     ]
    }
   ],
   "source": [
    "p2 <- ggplot(df %>% filter(CMV==\"Positive\"),  aes(Mean_Expression, fill = `Age Group`, group = `Age Group`,color = `Age Group`)) +\n",
    "  geom_density(alpha = 0.5, linewidth = 0.5) +\n",
    "  scale_fill_manual(values = c(\"Older\" = '#bf812d', \"Young\" = '#35978f')) +\n",
    "  scale_color_manual(values = c(\"Older\" = '#bf812d', \"Young\" = '#35978f')) +\n",
    "  coord_flip() +\n",
    "  theme_void(base_size = 8) +\n",
    "  theme(legend.position = \"none\") +\n",
    "  theme(plot.margin = margin(0, 0, 0, -1, \"mm\"))\n",
    "\n",
    "combined_plot <- plot_grid(p1, p2, ncol = 2, rel_widths = c(10, 0.4), align = 'h', axis = 'tb')"
   ]
  },
  {
   "cell_type": "code",
   "execution_count": 65,
   "id": "a77f304b-cacb-425b-bf22-7b30a50ddab8",
   "metadata": {},
   "outputs": [
    {
     "data": {
      "image/png": "[encoded data removed]",
      "text/plain": [
       "plot without title"
      ]
     },
     "metadata": {
      "image/png": {
       "height": 94.4882,
       "width": 94.4882
      }
     },
     "output_type": "display_data"
    }
   ],
   "source": [
    "options(repr.plot.width = 40/25.4, repr.plot.height = 40/25.4)\n",
    "\n",
    "combined_plot\n",
    "ggsave('FigureG.pdf',combined_plot,width = 40/25.4,height = 40/25.4)"
   ]
  },
  {
   "cell_type": "code",
   "execution_count": null,
   "id": "1835f16d-0bc6-44ef-9577-ae42074b5e8f",
   "metadata": {},
   "outputs": [],
   "source": []
  },
  {
   "cell_type": "code",
   "execution_count": null,
   "id": "601fd09a-ab7b-4987-b047-f427cfe145dc",
   "metadata": {},
   "outputs": [],
   "source": []
  },
  {
   "cell_type": "code",
   "execution_count": null,
   "id": "64eaa875-1472-454f-ba02-cd355e3043a0",
   "metadata": {},
   "outputs": [],
   "source": []
  }
 ],
 "metadata": {
  "kernelspec": {
   "display_name": "R 4",
   "language": "R",
   "name": "ir4"
  },
  "language_info": {
   "codemirror_mode": "r",
   "file_extension": ".r",
   "mimetype": "text/x-r-source",
   "name": "R",
   "pygments_lexer": "r",
   "version": "4.3.2"
  }
 },
 "nbformat": 4,
 "nbformat_minor": 5
}
