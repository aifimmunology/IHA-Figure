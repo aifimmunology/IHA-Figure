{
 "cells": [
  {
   "cell_type": "code",
   "execution_count": 1,
   "id": "d4e2334a-d0ee-4515-b5e4-250691d38f59",
   "metadata": {},
   "outputs": [
    {
     "name": "stderr",
     "output_type": "stream",
     "text": [
      "Loading required package: viridisLite\n",
      "\n"
     ]
    }
   ],
   "source": [
    "suppressPackageStartupMessages(library(dplyr))\n",
    "suppressPackageStartupMessages(library(tidyr))\n",
    "suppressPackageStartupMessages(library(tibble))\n",
    "suppressPackageStartupMessages(library(ggplot2))\n",
    "suppressPackageStartupMessages(library(pheatmap))\n",
    "suppressPackageStartupMessages(library(plyr))\n",
    "library(pheatmap)\n",
    "library(RColorBrewer)\n",
    "library(viridis)"
   ]
  },
  {
   "cell_type": "code",
   "execution_count": 2,
   "id": "eabd67c1-d094-4172-ad68-97659f711400",
   "metadata": {},
   "outputs": [],
   "source": [
    "save_pheatmap <- function(x, filename, width=12, height=12){\n",
    "  stopifnot(!missing(x))\n",
    "  stopifnot(!missing(filename))\n",
    "  if(grepl(\".png\",filename)){\n",
    "    png(filename, width=width, height=height, units = \"in\", res=300)\n",
    "    grid::grid.newpage()\n",
    "    grid::grid.draw(x$gtable)\n",
    "    dev.off()\n",
    "  }\n",
    "  else if(grepl(\".pdf\",filename)){\n",
    "    pdf(filename, width=width, height=height)\n",
    "    grid::grid.newpage()\n",
    "    grid::grid.draw(x$gtable)\n",
    "    dev.off()\n",
    "  }\n",
    "  else{\n",
    "    print(\"Filename did not contain '.png' or '.pdf'\")\n",
    "  }}"
   ]
  },
  {
   "cell_type": "code",
   "execution_count": 3,
   "id": "1070e052-b2fd-4b82-8109-2292630014dd",
   "metadata": {},
   "outputs": [],
   "source": [
    "meta_data=read.csv(\"/home/jupyter/BRI_Figures_Final_V2/Dataset/SF4_meta_data-2024-05-05.csv\")\n",
    "meta_data$ageAtEnrollment[meta_data$ageAtEnrollment == '89+'] <- '90'\n",
    "meta_data$ageAtEnrollment<-as.numeric(meta_data$ageAtEnrollment)\n",
    "meta_data<-meta_data[!is.na(meta_data$ageAtEnrollment),]\n",
    "meta_data$Ages<-meta_data$ageAtEnrollment\n",
    "meta_data <- meta_data[!duplicated(meta_data$sample.sampleKitGuid, fromLast = TRUE), ]\n",
    "rownames(meta_data)<-meta_data$sample.sampleKitGuid"
   ]
  },
  {
   "cell_type": "code",
   "execution_count": 4,
   "id": "459f31ce-c084-45e3-ab8b-175c2fee6af9",
   "metadata": {},
   "outputs": [],
   "source": [
    "df_input<-read.csv(\"05_Extract_Mean_Expression/Up_Selected_Genes.csv\",row.names = 1)"
   ]
  },
  {
   "cell_type": "code",
   "execution_count": 5,
   "id": "77872a91-4c0d-427b-8da1-ac7041315d30",
   "metadata": {},
   "outputs": [],
   "source": [
    "df_input_wide <- df_input[c('Gene','Mean_Expression','pbmc_sample_id')] %>%\n",
    "  pivot_wider(names_from = pbmc_sample_id, values_from = Mean_Expression) %>% as.data.frame()"
   ]
  },
  {
   "cell_type": "code",
   "execution_count": 6,
   "id": "c277a158-ca73-491d-821a-8d8cd1faf10c",
   "metadata": {},
   "outputs": [],
   "source": [
    "rownames(df_input_wide)<-df_input_wide$Gene"
   ]
  },
  {
   "cell_type": "code",
   "execution_count": 7,
   "id": "71a11161-4963-452f-afd2-c11ed35e365a",
   "metadata": {},
   "outputs": [
    {
     "data": {
      "text/html": [
       "<table class=\"dataframe\">\n",
       "<caption>A data.frame: 4 × 234</caption>\n",
       "<thead>\n",
       "\t<tr><th></th><th scope=col>Gene</th><th scope=col>PB03173-001</th><th scope=col>PB03180-001</th><th scope=col>PB03195-001</th><th scope=col>PB03199-003</th><th scope=col>PB03203-003</th><th scope=col>PB03146-001</th><th scope=col>PB03147-001</th><th scope=col>PB03152-001</th><th scope=col>PB03156-001</th><th scope=col>⋯</th><th scope=col>PB03333-003</th><th scope=col>PB03321-003</th><th scope=col>PB03320-003</th><th scope=col>PB03315-003</th><th scope=col>PB03304-003</th><th scope=col>PB03296-001</th><th scope=col>PB03293-003</th><th scope=col>PB03210-003</th><th scope=col>PB03209-003</th><th scope=col>PB03207-003</th></tr>\n",
       "\t<tr><th></th><th scope=col>&lt;chr&gt;</th><th scope=col>&lt;dbl&gt;</th><th scope=col>&lt;dbl&gt;</th><th scope=col>&lt;dbl&gt;</th><th scope=col>&lt;dbl&gt;</th><th scope=col>&lt;dbl&gt;</th><th scope=col>&lt;dbl&gt;</th><th scope=col>&lt;dbl&gt;</th><th scope=col>&lt;dbl&gt;</th><th scope=col>&lt;dbl&gt;</th><th scope=col>⋯</th><th scope=col>&lt;dbl&gt;</th><th scope=col>&lt;dbl&gt;</th><th scope=col>&lt;dbl&gt;</th><th scope=col>&lt;dbl&gt;</th><th scope=col>&lt;dbl&gt;</th><th scope=col>&lt;dbl&gt;</th><th scope=col>&lt;dbl&gt;</th><th scope=col>&lt;dbl&gt;</th><th scope=col>&lt;dbl&gt;</th><th scope=col>&lt;dbl&gt;</th></tr>\n",
       "</thead>\n",
       "<tbody>\n",
       "\t<tr><th scope=row>IRF3</th><td>IRF3  </td><td>1.1903974</td><td>1.0644003</td><td>1.0975732</td><td>1.1195974</td><td>1.0676592</td><td>1.0427128</td><td>0.89850119</td><td>1.0661636</td><td>1.0548625</td><td>⋯</td><td>1.3396641</td><td>1.2442234</td><td>1.3269551</td><td>1.3025364</td><td>1.3404040</td><td>1.0770234</td><td>1.2827030</td><td>1.1944097</td><td>1.0917149</td><td>1.3055304</td></tr>\n",
       "\t<tr><th scope=row>ID3</th><td>ID3   </td><td>0.2251038</td><td>0.2136842</td><td>0.2820865</td><td>0.1844021</td><td>0.1673685</td><td>0.1073331</td><td>0.09798812</td><td>0.1903999</td><td>0.2089436</td><td>⋯</td><td>0.2211719</td><td>0.1964474</td><td>0.2577631</td><td>0.1129271</td><td>0.0000000</td><td>0.1924534</td><td>0.1048936</td><td>0.2040562</td><td>0.2169008</td><td>0.2752191</td></tr>\n",
       "\t<tr><th scope=row>LGALS1</th><td>LGALS1</td><td>0.3674502</td><td>0.1943014</td><td>0.2857434</td><td>0.2405386</td><td>0.1680182</td><td>0.1633414</td><td>0.36988288</td><td>0.2656332</td><td>0.4018186</td><td>⋯</td><td>0.2522578</td><td>0.3970453</td><td>0.3358070</td><td>0.1624765</td><td>0.2900857</td><td>0.2894179</td><td>0.2038661</td><td>0.3492907</td><td>0.3133983</td><td>0.2995798</td></tr>\n",
       "\t<tr><th scope=row>GZMK</th><td>GZMK  </td><td>0.3405368</td><td>0.1622969</td><td>0.2993325</td><td>0.3077026</td><td>0.2603327</td><td>0.3382257</td><td>0.29875429</td><td>0.4154397</td><td>0.1300459</td><td>⋯</td><td>0.1087148</td><td>0.3896169</td><td>0.2316252</td><td>0.3372377</td><td>0.1445742</td><td>0.2762748</td><td>0.5111800</td><td>0.5157790</td><td>0.3827629</td><td>0.5338199</td></tr>\n",
       "</tbody>\n",
       "</table>\n"
      ],
      "text/latex": [
       "A data.frame: 4 × 234\n",
       "\\begin{tabular}{r|lllllllllllllllllllll}\n",
       "  & Gene & PB03173-001 & PB03180-001 & PB03195-001 & PB03199-003 & PB03203-003 & PB03146-001 & PB03147-001 & PB03152-001 & PB03156-001 & ⋯ & PB03333-003 & PB03321-003 & PB03320-003 & PB03315-003 & PB03304-003 & PB03296-001 & PB03293-003 & PB03210-003 & PB03209-003 & PB03207-003\\\\\n",
       "  & <chr> & <dbl> & <dbl> & <dbl> & <dbl> & <dbl> & <dbl> & <dbl> & <dbl> & <dbl> & ⋯ & <dbl> & <dbl> & <dbl> & <dbl> & <dbl> & <dbl> & <dbl> & <dbl> & <dbl> & <dbl>\\\\\n",
       "\\hline\n",
       "\tIRF3 & IRF3   & 1.1903974 & 1.0644003 & 1.0975732 & 1.1195974 & 1.0676592 & 1.0427128 & 0.89850119 & 1.0661636 & 1.0548625 & ⋯ & 1.3396641 & 1.2442234 & 1.3269551 & 1.3025364 & 1.3404040 & 1.0770234 & 1.2827030 & 1.1944097 & 1.0917149 & 1.3055304\\\\\n",
       "\tID3 & ID3    & 0.2251038 & 0.2136842 & 0.2820865 & 0.1844021 & 0.1673685 & 0.1073331 & 0.09798812 & 0.1903999 & 0.2089436 & ⋯ & 0.2211719 & 0.1964474 & 0.2577631 & 0.1129271 & 0.0000000 & 0.1924534 & 0.1048936 & 0.2040562 & 0.2169008 & 0.2752191\\\\\n",
       "\tLGALS1 & LGALS1 & 0.3674502 & 0.1943014 & 0.2857434 & 0.2405386 & 0.1680182 & 0.1633414 & 0.36988288 & 0.2656332 & 0.4018186 & ⋯ & 0.2522578 & 0.3970453 & 0.3358070 & 0.1624765 & 0.2900857 & 0.2894179 & 0.2038661 & 0.3492907 & 0.3133983 & 0.2995798\\\\\n",
       "\tGZMK & GZMK   & 0.3405368 & 0.1622969 & 0.2993325 & 0.3077026 & 0.2603327 & 0.3382257 & 0.29875429 & 0.4154397 & 0.1300459 & ⋯ & 0.1087148 & 0.3896169 & 0.2316252 & 0.3372377 & 0.1445742 & 0.2762748 & 0.5111800 & 0.5157790 & 0.3827629 & 0.5338199\\\\\n",
       "\\end{tabular}\n"
      ],
      "text/markdown": [
       "\n",
       "A data.frame: 4 × 234\n",
       "\n",
       "| <!--/--> | Gene &lt;chr&gt; | PB03173-001 &lt;dbl&gt; | PB03180-001 &lt;dbl&gt; | PB03195-001 &lt;dbl&gt; | PB03199-003 &lt;dbl&gt; | PB03203-003 &lt;dbl&gt; | PB03146-001 &lt;dbl&gt; | PB03147-001 &lt;dbl&gt; | PB03152-001 &lt;dbl&gt; | PB03156-001 &lt;dbl&gt; | ⋯ ⋯ | PB03333-003 &lt;dbl&gt; | PB03321-003 &lt;dbl&gt; | PB03320-003 &lt;dbl&gt; | PB03315-003 &lt;dbl&gt; | PB03304-003 &lt;dbl&gt; | PB03296-001 &lt;dbl&gt; | PB03293-003 &lt;dbl&gt; | PB03210-003 &lt;dbl&gt; | PB03209-003 &lt;dbl&gt; | PB03207-003 &lt;dbl&gt; |\n",
       "|---|---|---|---|---|---|---|---|---|---|---|---|---|---|---|---|---|---|---|---|---|---|\n",
       "| IRF3 | IRF3   | 1.1903974 | 1.0644003 | 1.0975732 | 1.1195974 | 1.0676592 | 1.0427128 | 0.89850119 | 1.0661636 | 1.0548625 | ⋯ | 1.3396641 | 1.2442234 | 1.3269551 | 1.3025364 | 1.3404040 | 1.0770234 | 1.2827030 | 1.1944097 | 1.0917149 | 1.3055304 |\n",
       "| ID3 | ID3    | 0.2251038 | 0.2136842 | 0.2820865 | 0.1844021 | 0.1673685 | 0.1073331 | 0.09798812 | 0.1903999 | 0.2089436 | ⋯ | 0.2211719 | 0.1964474 | 0.2577631 | 0.1129271 | 0.0000000 | 0.1924534 | 0.1048936 | 0.2040562 | 0.2169008 | 0.2752191 |\n",
       "| LGALS1 | LGALS1 | 0.3674502 | 0.1943014 | 0.2857434 | 0.2405386 | 0.1680182 | 0.1633414 | 0.36988288 | 0.2656332 | 0.4018186 | ⋯ | 0.2522578 | 0.3970453 | 0.3358070 | 0.1624765 | 0.2900857 | 0.2894179 | 0.2038661 | 0.3492907 | 0.3133983 | 0.2995798 |\n",
       "| GZMK | GZMK   | 0.3405368 | 0.1622969 | 0.2993325 | 0.3077026 | 0.2603327 | 0.3382257 | 0.29875429 | 0.4154397 | 0.1300459 | ⋯ | 0.1087148 | 0.3896169 | 0.2316252 | 0.3372377 | 0.1445742 | 0.2762748 | 0.5111800 | 0.5157790 | 0.3827629 | 0.5338199 |\n",
       "\n"
      ],
      "text/plain": [
       "       Gene   PB03173-001 PB03180-001 PB03195-001 PB03199-003 PB03203-003\n",
       "IRF3   IRF3   1.1903974   1.0644003   1.0975732   1.1195974   1.0676592  \n",
       "ID3    ID3    0.2251038   0.2136842   0.2820865   0.1844021   0.1673685  \n",
       "LGALS1 LGALS1 0.3674502   0.1943014   0.2857434   0.2405386   0.1680182  \n",
       "GZMK   GZMK   0.3405368   0.1622969   0.2993325   0.3077026   0.2603327  \n",
       "       PB03146-001 PB03147-001 PB03152-001 PB03156-001 ⋯ PB03333-003\n",
       "IRF3   1.0427128   0.89850119  1.0661636   1.0548625   ⋯ 1.3396641  \n",
       "ID3    0.1073331   0.09798812  0.1903999   0.2089436   ⋯ 0.2211719  \n",
       "LGALS1 0.1633414   0.36988288  0.2656332   0.4018186   ⋯ 0.2522578  \n",
       "GZMK   0.3382257   0.29875429  0.4154397   0.1300459   ⋯ 0.1087148  \n",
       "       PB03321-003 PB03320-003 PB03315-003 PB03304-003 PB03296-001 PB03293-003\n",
       "IRF3   1.2442234   1.3269551   1.3025364   1.3404040   1.0770234   1.2827030  \n",
       "ID3    0.1964474   0.2577631   0.1129271   0.0000000   0.1924534   0.1048936  \n",
       "LGALS1 0.3970453   0.3358070   0.1624765   0.2900857   0.2894179   0.2038661  \n",
       "GZMK   0.3896169   0.2316252   0.3372377   0.1445742   0.2762748   0.5111800  \n",
       "       PB03210-003 PB03209-003 PB03207-003\n",
       "IRF3   1.1944097   1.0917149   1.3055304  \n",
       "ID3    0.2040562   0.2169008   0.2752191  \n",
       "LGALS1 0.3492907   0.3133983   0.2995798  \n",
       "GZMK   0.5157790   0.3827629   0.5338199  "
      ]
     },
     "metadata": {},
     "output_type": "display_data"
    }
   ],
   "source": [
    "df_input_wide"
   ]
  },
  {
   "cell_type": "code",
   "execution_count": 8,
   "id": "61b2b9b0-33fc-42ed-b502-e2bbf3377b43",
   "metadata": {},
   "outputs": [],
   "source": [
    "meta_data<-meta_data %>% filter(pbmc_sample_id %in% colnames(df_input_wide))%>% \n",
    "arrange(Ages)"
   ]
  },
  {
   "cell_type": "code",
   "execution_count": 9,
   "id": "cc48294a-6fdc-47aa-9aa8-99f53e1c421c",
   "metadata": {},
   "outputs": [],
   "source": [
    "df_input_wide<-df_input_wide[meta_data$pbmc_sample_id]"
   ]
  },
  {
   "cell_type": "code",
   "execution_count": 33,
   "id": "51d5d739-d6ea-4c6d-a8df-942a46441b14",
   "metadata": {},
   "outputs": [],
   "source": [
    "annotation<-meta_data %>% select(Ages)\n",
    "rownames(annotation)<-meta_data$pbmc_sample_id"
   ]
  },
  {
   "cell_type": "code",
   "execution_count": 18,
   "id": "071f9ea5-8eab-49cc-b6aa-9c6fde045aa7",
   "metadata": {},
   "outputs": [],
   "source": [
    "row_annotation<-as.data.frame(rownames(df_input_wide))\n",
    "row_annotation$Group<-c(\"Core naive CD4 T cell\",\"Core naive CD8 T cell\",\n",
    "                    \"CM CD4 T cell\",\"GZMB- CD27+ EM CD4 T cell\")\n",
    "rownames(row_annotation)<-rownames(df_input_wide)\n",
    "row_annotation<-row_annotation[\"Group\"]"
   ]
  },
  {
   "cell_type": "code",
   "execution_count": 19,
   "id": "e041cc6b-1f3b-4877-978f-005d7c4d6fe0",
   "metadata": {},
   "outputs": [],
   "source": [
    "breaks_sequence <- seq(-1, 1, length.out = 100)"
   ]
  },
  {
   "cell_type": "code",
   "execution_count": null,
   "id": "0f89e185-c803-4706-a36e-b934fd355075",
   "metadata": {},
   "outputs": [],
   "source": []
  },
  {
   "cell_type": "code",
   "execution_count": null,
   "id": "8ba0b1d0-7744-4e63-a991-aae6dae2fae9",
   "metadata": {},
   "outputs": [],
   "source": []
  },
  {
   "cell_type": "code",
   "execution_count": 48,
   "id": "741a8d6f-6680-45d4-94a8-992d0ec649be",
   "metadata": {},
   "outputs": [
    {
     "data": {
      "text/html": [
       "<strong>png:</strong> 2"
      ],
      "text/latex": [
       "\\textbf{png:} 2"
      ],
      "text/markdown": [
       "**png:** 2"
      ],
      "text/plain": [
       "png \n",
       "  2 "
      ]
     },
     "metadata": {},
     "output_type": "display_data"
    },
    {
     "data": {
      "image/png": "[encoded data removed]",
      "text/plain": [
       "plot without title"
      ]
     },
     "metadata": {
      "image/png": {
       "height": 141.7323,
       "width": 283.4646
      }
     },
     "output_type": "display_data"
    }
   ],
   "source": [
    "options(repr.plot.width = 120/25.4, repr.plot.height =  60/25.4)\n",
    "\n",
    "p<-pheatmap(df_input_wide[rownames(annotation)], \n",
    "         breaks=breaks_sequence,\n",
    "         cluster_rows=FALSE,\n",
    "         annotation=annotation,\n",
    "         annotation_row=row_annotation,\n",
    "         fontsize = 6,\n",
    "         cluster_cols=FALSE,\n",
    "         show_colnames=FALSE,color= \n",
    "            inferno(100),\n",
    "         border_color=NA,\n",
    "         scale='row')\n",
    "p\n",
    "\n",
    "save_pheatmap(p,' ', width=120/25.4, height=60/25.4)"
   ]
  },
  {
   "cell_type": "code",
   "execution_count": null,
   "id": "dd6b3e52-604f-4ea9-b3e8-7eaa2eedb2db",
   "metadata": {},
   "outputs": [],
   "source": []
  }
 ],
 "metadata": {
  "kernelspec": {
   "display_name": "R 4",
   "language": "R",
   "name": "ir4"
  },
  "language_info": {
   "codemirror_mode": "r",
   "file_extension": ".r",
   "mimetype": "text/x-r-source",
   "name": "R",
   "pygments_lexer": "r",
   "version": "4.3.2"
  }
 },
 "nbformat": 4,
 "nbformat_minor": 5
}
