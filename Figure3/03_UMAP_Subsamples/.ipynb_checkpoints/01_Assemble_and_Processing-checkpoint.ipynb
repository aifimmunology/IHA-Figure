{
 "cells": [
  {
   "cell_type": "code",
   "execution_count": 1,
   "id": "2c14b73f-6015-48ee-a309-f86dd9daa734",
   "metadata": {
    "scrolled": true
   },
   "outputs": [
    {
     "name": "stderr",
     "output_type": "stream",
     "text": [
      "/home/workspace/Aux_Envir/Python_BRI_Figures/lib/python3.11/site-packages/anndata/utils.py:429: FutureWarning: Importing read_csv from `anndata` is deprecated. Import anndata.io.read_csv instead.\n",
      "  warnings.warn(msg, FutureWarning)\n",
      "/home/workspace/Aux_Envir/Python_BRI_Figures/lib/python3.11/site-packages/anndata/utils.py:429: FutureWarning: Importing read_excel from `anndata` is deprecated. Import anndata.io.read_excel instead.\n",
      "  warnings.warn(msg, FutureWarning)\n",
      "/home/workspace/Aux_Envir/Python_BRI_Figures/lib/python3.11/site-packages/anndata/utils.py:429: FutureWarning: Importing read_hdf from `anndata` is deprecated. Import anndata.io.read_hdf instead.\n",
      "  warnings.warn(msg, FutureWarning)\n",
      "/home/workspace/Aux_Envir/Python_BRI_Figures/lib/python3.11/site-packages/anndata/utils.py:429: FutureWarning: Importing read_loom from `anndata` is deprecated. Import anndata.io.read_loom instead.\n",
      "  warnings.warn(msg, FutureWarning)\n",
      "/home/workspace/Aux_Envir/Python_BRI_Figures/lib/python3.11/site-packages/anndata/utils.py:429: FutureWarning: Importing read_mtx from `anndata` is deprecated. Import anndata.io.read_mtx instead.\n",
      "  warnings.warn(msg, FutureWarning)\n",
      "/home/workspace/Aux_Envir/Python_BRI_Figures/lib/python3.11/site-packages/anndata/utils.py:429: FutureWarning: Importing read_text from `anndata` is deprecated. Import anndata.io.read_text instead.\n",
      "  warnings.warn(msg, FutureWarning)\n",
      "/home/workspace/Aux_Envir/Python_BRI_Figures/lib/python3.11/site-packages/anndata/utils.py:429: FutureWarning: Importing read_umi_tools from `anndata` is deprecated. Import anndata.io.read_umi_tools instead.\n",
      "  warnings.warn(msg, FutureWarning)\n"
     ]
    }
   ],
   "source": [
    "import scanpy as sc\n",
    "import pandas as pd\n",
    "import os \n",
    "import anndata \n",
    "from concurrent.futures import ThreadPoolExecutor, as_completed,ProcessPoolExecutor\n",
    "from tqdm import tqdm\n",
    "import matplotlib.pyplot as plt\n",
    "sc.settings.n_jobs = 30\n"
   ]
  },
  {
   "cell_type": "code",
   "execution_count": 6,
   "id": "6ebfc3e6-fee1-42c3-bed4-4707bb734c2e",
   "metadata": {},
   "outputs": [],
   "source": [
    "meta_data=pd.read_csv(\"/home/workspace/IHA_Figure_Revision/Dataset/scRNA_meta_data-2024-05-09.csv\")"
   ]
  },
  {
   "cell_type": "code",
   "execution_count": 7,
   "id": "049514e1-201a-41e4-a80e-25495ace17e1",
   "metadata": {},
   "outputs": [
    {
     "name": "stdout",
     "output_type": "stream",
     "text": [
      "CPU times: user 127 μs, sys: 120 μs, total: 247 μs\n",
      "Wall time: 253 μs\n"
     ]
    }
   ],
   "source": [
    "%%time\n",
    "file_names= ['/home/workspace/IHA_Figure_Revision/Dataset/scRNA/BRI/h5ad/sample_h5ad/'+x+\".h5ad\" for x in meta_data['pbmc_sample_id'].tolist()]\n",
    "adata_list = []"
   ]
  },
  {
   "cell_type": "code",
   "execution_count": null,
   "id": "ea5511be-cd97-4266-b19c-6275cb59cd67",
   "metadata": {},
   "outputs": [
    {
     "name": "stderr",
     "output_type": "stream",
     "text": [
      "  8%|▊         | 72/868 [00:03<00:31, 24.93it/s]"
     ]
    }
   ],
   "source": [
    "def load_and_subsample(fp):\n",
    "    adata = sc.read_h5ad(fp)\n",
    "    if adata.shape[0] > 2000:\n",
    "        sc.pp.subsample(adata, n_obs=2000, random_state=3030)\n",
    "    return adata\n",
    "\n",
    "with ProcessPoolExecutor(max_workers=30) as executor:\n",
    "    futures = [executor.submit(load_and_subsample,file) for file in file_names]\n",
    "    \n",
    "    for future in tqdm(as_completed(futures), total=len(futures)):\n",
    "        adata = future.result()\n",
    "        if adata is not None:\n",
    "            adata_list.append(adata)"
   ]
  },
  {
   "cell_type": "code",
   "execution_count": null,
   "id": "324a90bd-a03c-454d-b729-d7bf175f543e",
   "metadata": {},
   "outputs": [],
   "source": [
    "%%time\n",
    "def chunked_concat(lst, chunk_size=10):\n",
    "    chunks = [lst[i:i + chunk_size] for i in range(0, len(lst), chunk_size)]\n",
    "    merged = [anndata.concat(chunk, axis=0, merge=\"same\", index_unique=None) for chunk in chunks]\n",
    "    return anndata.concat(merged, axis=0, merge=\"same\", index_unique=None)\n",
    "\n",
    "sampled_adata = chunked_concat(adata_list, chunk_size=10)"
   ]
  },
  {
   "cell_type": "code",
   "execution_count": null,
   "id": "2c7dfc6e-514a-4873-9d5d-f85acefa7fe8",
   "metadata": {},
   "outputs": [],
   "source": [
    "sampled_adata.write_h5ad(\"adata.h5ad\")"
   ]
  },
  {
   "cell_type": "code",
   "execution_count": 2,
   "id": "698f5fcb-95a2-406f-8998-2615351ea94c",
   "metadata": {},
   "outputs": [],
   "source": [
    "sampled_adata=sc.read_h5ad(\"adata.h5ad\")"
   ]
  },
  {
   "cell_type": "code",
   "execution_count": 3,
   "id": "aa2d68d9-c33b-441b-a30e-10b6c649c827",
   "metadata": {},
   "outputs": [],
   "source": [
    "pattern = 'B cell|monocyte|pDC|cDC|Plasm'\n",
    "sampled_adata_subset = sampled_adata[~sampled_adata.obs['AIFI_L3'].str.contains(pattern, na=False)].copy()"
   ]
  },
  {
   "cell_type": "code",
   "execution_count": 4,
   "id": "4c1c7727-4e2d-49ec-a18a-f80ae6b44a83",
   "metadata": {},
   "outputs": [],
   "source": [
    "del sampled_adata"
   ]
  },
  {
   "cell_type": "code",
   "execution_count": 5,
   "id": "a4b1b273-da2c-4c7c-9dbf-9b440074c017",
   "metadata": {},
   "outputs": [
    {
     "name": "stderr",
     "output_type": "stream",
     "text": [
      "/home/workspace/Aux_Envir/Python_BRI_Figures/lib/python3.11/site-packages/scanpy/preprocessing/_scale.py:318: UserWarning: Received a view of an AnnData. Making a copy.\n",
      "  view_to_actual(adata)\n",
      "IOStream.flush timed out\n",
      "IOStream.flush timed out\n",
      "IOStream.flush timed out\n"
     ]
    },
    {
     "name": "stdout",
     "output_type": "stream",
     "text": [
      "CPU times: user 5h 10min 32s, sys: 13min 27s, total: 5h 24min\n",
      "Wall time: 37min 9s\n"
     ]
    },
    {
     "name": "stderr",
     "output_type": "stream",
     "text": [
      "IOStream.flush timed out\n"
     ]
    }
   ],
   "source": [
    "%%time\n",
    "sampled_adata_subset.raw=sampled_adata_subset\n",
    "sc.pp.normalize_total(sampled_adata_subset, target_sum=1e4)\n",
    "sc.pp.log1p(sampled_adata_subset)\n",
    "\n",
    "sc.pp.highly_variable_genes(sampled_adata_subset)\n",
    "sampled_adata_subset = sampled_adata_subset[:, sampled_adata_subset.var_names[sampled_adata_subset.var['highly_variable']]]\n",
    "\n",
    "sc.pp.scale(sampled_adata_subset)\n",
    "sc.tl.pca(sampled_adata_subset, svd_solver='arpack')\n",
    "sc.pp.neighbors(sampled_adata_subset, n_neighbors=50,use_rep='X_pca', n_pcs=20)\n",
    "sc.tl.umap(sampled_adata_subset,min_dist=0.45,random_state=0)"
   ]
  },
  {
   "cell_type": "code",
   "execution_count": null,
   "id": "4cd0bbeb-188f-494c-a36e-14b739b49310",
   "metadata": {},
   "outputs": [],
   "source": [
    "sampled_adata_subset.write_h5ad(\"adata_processed.h5ad\")"
   ]
  },
  {
   "cell_type": "code",
   "execution_count": null,
   "id": "7b185a0f-e6c5-4ba1-a6be-c38e7929988c",
   "metadata": {},
   "outputs": [],
   "source": []
  }
 ],
 "metadata": {
  "kernelspec": {
   "display_name": "Python_BRI_Figures",
   "language": "python",
   "name": "python_bri_figures"
  },
  "language_info": {
   "codemirror_mode": {
    "name": "ipython",
    "version": 3
   },
   "file_extension": ".py",
   "mimetype": "text/x-python",
   "name": "python",
   "nbconvert_exporter": "python",
   "pygments_lexer": "ipython3",
   "version": "3.11.0"
  }
 },
 "nbformat": 4,
 "nbformat_minor": 5
}
