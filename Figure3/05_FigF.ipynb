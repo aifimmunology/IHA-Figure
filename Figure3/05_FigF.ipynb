{
 "cells": [
  {
   "cell_type": "code",
   "execution_count": 2,
   "id": "d45aba0d-055c-47f1-b508-f9768178c969",
   "metadata": {},
   "outputs": [
    {
     "name": "stderr",
     "output_type": "stream",
     "text": [
      "\n",
      "Attaching package: ‘dplyr’\n",
      "\n",
      "\n",
      "The following objects are masked from ‘package:stats’:\n",
      "\n",
      "    filter, lag\n",
      "\n",
      "\n",
      "The following objects are masked from ‘package:base’:\n",
      "\n",
      "    intersect, setdiff, setequal, union\n",
      "\n",
      "\n"
     ]
    }
   ],
   "source": [
    "library(dplyr)\n",
    "library(tidyr)\n",
    "library(tibble)\n",
    "library(ggplot2)\n",
    "library(stringr)\n",
    "library(ggstream)\n",
    "library(geomtextpath)\n",
    "library(ggrepel)\n",
    "\n",
    "library(bbplot)\n",
    "source('/home//jupyter/BRI_Figures_Final_V2/helper_function/helper_function_IHA.r')"
   ]
  },
  {
   "cell_type": "code",
   "execution_count": 3,
   "id": "e6d6f425-8369-4afe-bddd-183ae12ce470",
   "metadata": {},
   "outputs": [],
   "source": [
    "color_annotation<-read.csv('../Color_hex_codes/Cell_Type_Color_Annotation_and_Order.csv')\n",
    "color_annotation$label<-gsub(\" cell\",'',color_annotation$label)\n",
    "color_vector <- setNames(color_annotation$color, color_annotation$label)"
   ]
  },
  {
   "cell_type": "code",
   "execution_count": 4,
   "id": "bd3cd10e-5e23-4b8c-90ed-f9d744b2a3c4",
   "metadata": {},
   "outputs": [],
   "source": [
    "df<-read.csv(\"04_Composite_Score/SF4_CompositeScore_Up.csv\")"
   ]
  },
  {
   "cell_type": "code",
   "execution_count": 5,
   "id": "d771abea-67e3-4908-84c0-aee2dde84b78",
   "metadata": {},
   "outputs": [],
   "source": [
    "df$celltype<-gsub(\" cell\",'',df$celltype)"
   ]
  },
  {
   "cell_type": "code",
   "execution_count": 6,
   "id": "7c51ce50-f0ac-42ce-9c92-50b9db82146b",
   "metadata": {},
   "outputs": [],
   "source": [
    "df <- df %>% group_by(celltype)%>%\n",
    "  arrange(desc(Ages))%>%\n",
    "  mutate(label = ifelse(row_number() == 1 & \n",
    "                        Ages == max(Ages), \n",
    "                        as.character(celltype), \n",
    "                        NA_character_))"
   ]
  },
  {
   "cell_type": "code",
   "execution_count": 25,
   "id": "0b452c7c-b06c-4d13-aff9-2f2e00f2930b",
   "metadata": {},
   "outputs": [
    {
     "name": "stderr",
     "output_type": "stream",
     "text": [
      "\u001b[1m\u001b[22m`geom_smooth()` using method = 'loess' and formula = 'y ~ x'\n",
      "\u001b[1m\u001b[22m`geom_smooth()` using method = 'loess' and formula = 'y ~ x'\n"
     ]
    },
    {
     "data": {
      "image/png": "[encoded data removed]",
      "text/plain": [
       "plot without title"
      ]
     },
     "metadata": {
      "image/png": {
       "height": 82.6772,
       "width": 129.9213
      }
     },
     "output_type": "display_data"
    }
   ],
   "source": [
    "options(repr.plot.width = 55/25.4, repr.plot.height = 35/25.4)\n",
    "\n",
    "p <- ggplot(data = df, aes(x = Ages, \n",
    "                           y = composite_score_sum_scaled_mean, label=celltype,color = celltype, group = celltype)) +\n",
    "  geom_smooth(se = TRUE, fill = \"#E0E0E0\", \n",
    "              linewidth = 0.5) +\n",
    "  theme_classic(base_size = 6) +\n",
    "  scale_color_manual(values = color_vector)  +\n",
    "  theme_classic(base_size = 6) +\n",
    "  theme(legend.position = \"none\")+\n",
    " geom_vline(xintercept = 60)+ylab(\"Age Composite Metric\") \n",
    "\n",
    "\n",
    "p\n",
    "\n",
    "ggsave('FigureF.pdf',p,width = 55/25.4,height = 35/25.4)"
   ]
  },
  {
   "cell_type": "code",
   "execution_count": 18,
   "id": "4333e75f-c1f8-43aa-9490-c58b90ad274b",
   "metadata": {},
   "outputs": [
    {
     "name": "stderr",
     "output_type": "stream",
     "text": [
      "\u001b[1m\u001b[22m`geom_smooth()` using method = 'loess' and formula = 'y ~ x'\n"
     ]
    },
    {
     "data": {
      "text/html": [
       "<table class=\"dataframe\">\n",
       "<caption>A data.frame: 8 × 15</caption>\n",
       "<thead>\n",
       "\t<tr><th></th><th scope=col>colour</th><th scope=col>x</th><th scope=col>y</th><th scope=col>ymin</th><th scope=col>ymax</th><th scope=col>se</th><th scope=col>flipped_aes</th><th scope=col>label</th><th scope=col>group</th><th scope=col>PANEL</th><th scope=col>fill</th><th scope=col>linewidth</th><th scope=col>linetype</th><th scope=col>weight</th><th scope=col>alpha</th></tr>\n",
       "\t<tr><th></th><th scope=col>&lt;chr&gt;</th><th scope=col>&lt;dbl&gt;</th><th scope=col>&lt;dbl&gt;</th><th scope=col>&lt;dbl&gt;</th><th scope=col>&lt;dbl&gt;</th><th scope=col>&lt;dbl&gt;</th><th scope=col>&lt;lgl&gt;</th><th scope=col>&lt;chr&gt;</th><th scope=col>&lt;int&gt;</th><th scope=col>&lt;fct&gt;</th><th scope=col>&lt;chr&gt;</th><th scope=col>&lt;dbl&gt;</th><th scope=col>&lt;dbl&gt;</th><th scope=col>&lt;dbl&gt;</th><th scope=col>&lt;dbl&gt;</th></tr>\n",
       "</thead>\n",
       "<tbody>\n",
       "\t<tr><th scope=row>400</th><td>#233C5B</td><td>90</td><td>-1.3518888</td><td> -5.25209085</td><td> 2.548313</td><td>1.979379</td><td>FALSE</td><td>GZMB- CD27- EM CD4 T</td><td>5</td><td>1</td><td>#E0E0E0</td><td>0.5</td><td>1</td><td>1</td><td>0.4</td></tr>\n",
       "\t<tr><th scope=row>80</th><td>#6793A4</td><td>90</td><td> 0.1370174</td><td>-15.34618040</td><td>15.620215</td><td>7.857827</td><td>FALSE</td><td>CM CD4 T            </td><td>1</td><td>1</td><td>#E0E0E0</td><td>0.5</td><td>1</td><td>1</td><td>0.4</td></tr>\n",
       "\t<tr><th scope=row>480</th><td>#406B9C</td><td>90</td><td> 1.7061131</td><td> -2.61169366</td><td> 6.023920</td><td>2.191316</td><td>FALSE</td><td>GZMB- CD27+ EM CD4 T</td><td>6</td><td>1</td><td>#E0E0E0</td><td>0.5</td><td>1</td><td>1</td><td>0.4</td></tr>\n",
       "\t<tr><th scope=row>560</th><td>#95BDA1</td><td>90</td><td> 2.7087849</td><td> -1.80730884</td><td> 7.224879</td><td>2.291948</td><td>FALSE</td><td>GZMK+ CD27+ EM CD8 T</td><td>7</td><td>1</td><td>#E0E0E0</td><td>0.5</td><td>1</td><td>1</td><td>0.4</td></tr>\n",
       "\t<tr><th scope=row>160</th><td>#6D9F5E</td><td>90</td><td> 7.7449652</td><td> -2.93180731</td><td>18.421738</td><td>5.418412</td><td>FALSE</td><td>CM CD8 T            </td><td>2</td><td>1</td><td>#E0E0E0</td><td>0.5</td><td>1</td><td>1</td><td>0.4</td></tr>\n",
       "\t<tr><th scope=row>320</th><td>#63A686</td><td>90</td><td>13.2797620</td><td>  0.05516185</td><td>26.504362</td><td>6.711422</td><td>FALSE</td><td>Core naive CD8 T    </td><td>4</td><td>1</td><td>#E0E0E0</td><td>0.5</td><td>1</td><td>1</td><td>0.4</td></tr>\n",
       "\t<tr><th scope=row>640</th><td>#8EB5D7</td><td>90</td><td>19.3843870</td><td>  8.83258157</td><td>29.936192</td><td>5.354991</td><td>FALSE</td><td>Naive CD4 Treg      </td><td>8</td><td>1</td><td>#E0E0E0</td><td>0.5</td><td>1</td><td>1</td><td>0.4</td></tr>\n",
       "\t<tr><th scope=row>240</th><td>#597FC6</td><td>90</td><td>22.0735350</td><td>  7.17489883</td><td>36.972171</td><td>7.561158</td><td>FALSE</td><td>Core naive CD4 T    </td><td>3</td><td>1</td><td>#E0E0E0</td><td>0.5</td><td>1</td><td>1</td><td>0.4</td></tr>\n",
       "</tbody>\n",
       "</table>\n"
      ],
      "text/latex": [
       "A data.frame: 8 × 15\n",
       "\\begin{tabular}{r|lllllllllllllll}\n",
       "  & colour & x & y & ymin & ymax & se & flipped\\_aes & label & group & PANEL & fill & linewidth & linetype & weight & alpha\\\\\n",
       "  & <chr> & <dbl> & <dbl> & <dbl> & <dbl> & <dbl> & <lgl> & <chr> & <int> & <fct> & <chr> & <dbl> & <dbl> & <dbl> & <dbl>\\\\\n",
       "\\hline\n",
       "\t400 & \\#233C5B & 90 & -1.3518888 &  -5.25209085 &  2.548313 & 1.979379 & FALSE & GZMB- CD27- EM CD4 T & 5 & 1 & \\#E0E0E0 & 0.5 & 1 & 1 & 0.4\\\\\n",
       "\t80 & \\#6793A4 & 90 &  0.1370174 & -15.34618040 & 15.620215 & 7.857827 & FALSE & CM CD4 T             & 1 & 1 & \\#E0E0E0 & 0.5 & 1 & 1 & 0.4\\\\\n",
       "\t480 & \\#406B9C & 90 &  1.7061131 &  -2.61169366 &  6.023920 & 2.191316 & FALSE & GZMB- CD27+ EM CD4 T & 6 & 1 & \\#E0E0E0 & 0.5 & 1 & 1 & 0.4\\\\\n",
       "\t560 & \\#95BDA1 & 90 &  2.7087849 &  -1.80730884 &  7.224879 & 2.291948 & FALSE & GZMK+ CD27+ EM CD8 T & 7 & 1 & \\#E0E0E0 & 0.5 & 1 & 1 & 0.4\\\\\n",
       "\t160 & \\#6D9F5E & 90 &  7.7449652 &  -2.93180731 & 18.421738 & 5.418412 & FALSE & CM CD8 T             & 2 & 1 & \\#E0E0E0 & 0.5 & 1 & 1 & 0.4\\\\\n",
       "\t320 & \\#63A686 & 90 & 13.2797620 &   0.05516185 & 26.504362 & 6.711422 & FALSE & Core naive CD8 T     & 4 & 1 & \\#E0E0E0 & 0.5 & 1 & 1 & 0.4\\\\\n",
       "\t640 & \\#8EB5D7 & 90 & 19.3843870 &   8.83258157 & 29.936192 & 5.354991 & FALSE & Naive CD4 Treg       & 8 & 1 & \\#E0E0E0 & 0.5 & 1 & 1 & 0.4\\\\\n",
       "\t240 & \\#597FC6 & 90 & 22.0735350 &   7.17489883 & 36.972171 & 7.561158 & FALSE & Core naive CD4 T     & 3 & 1 & \\#E0E0E0 & 0.5 & 1 & 1 & 0.4\\\\\n",
       "\\end{tabular}\n"
      ],
      "text/markdown": [
       "\n",
       "A data.frame: 8 × 15\n",
       "\n",
       "| <!--/--> | colour &lt;chr&gt; | x &lt;dbl&gt; | y &lt;dbl&gt; | ymin &lt;dbl&gt; | ymax &lt;dbl&gt; | se &lt;dbl&gt; | flipped_aes &lt;lgl&gt; | label &lt;chr&gt; | group &lt;int&gt; | PANEL &lt;fct&gt; | fill &lt;chr&gt; | linewidth &lt;dbl&gt; | linetype &lt;dbl&gt; | weight &lt;dbl&gt; | alpha &lt;dbl&gt; |\n",
       "|---|---|---|---|---|---|---|---|---|---|---|---|---|---|---|---|\n",
       "| 400 | #233C5B | 90 | -1.3518888 |  -5.25209085 |  2.548313 | 1.979379 | FALSE | GZMB- CD27- EM CD4 T | 5 | 1 | #E0E0E0 | 0.5 | 1 | 1 | 0.4 |\n",
       "| 80 | #6793A4 | 90 |  0.1370174 | -15.34618040 | 15.620215 | 7.857827 | FALSE | CM CD4 T             | 1 | 1 | #E0E0E0 | 0.5 | 1 | 1 | 0.4 |\n",
       "| 480 | #406B9C | 90 |  1.7061131 |  -2.61169366 |  6.023920 | 2.191316 | FALSE | GZMB- CD27+ EM CD4 T | 6 | 1 | #E0E0E0 | 0.5 | 1 | 1 | 0.4 |\n",
       "| 560 | #95BDA1 | 90 |  2.7087849 |  -1.80730884 |  7.224879 | 2.291948 | FALSE | GZMK+ CD27+ EM CD8 T | 7 | 1 | #E0E0E0 | 0.5 | 1 | 1 | 0.4 |\n",
       "| 160 | #6D9F5E | 90 |  7.7449652 |  -2.93180731 | 18.421738 | 5.418412 | FALSE | CM CD8 T             | 2 | 1 | #E0E0E0 | 0.5 | 1 | 1 | 0.4 |\n",
       "| 320 | #63A686 | 90 | 13.2797620 |   0.05516185 | 26.504362 | 6.711422 | FALSE | Core naive CD8 T     | 4 | 1 | #E0E0E0 | 0.5 | 1 | 1 | 0.4 |\n",
       "| 640 | #8EB5D7 | 90 | 19.3843870 |   8.83258157 | 29.936192 | 5.354991 | FALSE | Naive CD4 Treg       | 8 | 1 | #E0E0E0 | 0.5 | 1 | 1 | 0.4 |\n",
       "| 240 | #597FC6 | 90 | 22.0735350 |   7.17489883 | 36.972171 | 7.561158 | FALSE | Core naive CD4 T     | 3 | 1 | #E0E0E0 | 0.5 | 1 | 1 | 0.4 |\n",
       "\n"
      ],
      "text/plain": [
       "    colour  x  y          ymin         ymax      se       flipped_aes\n",
       "400 #233C5B 90 -1.3518888  -5.25209085  2.548313 1.979379 FALSE      \n",
       "80  #6793A4 90  0.1370174 -15.34618040 15.620215 7.857827 FALSE      \n",
       "480 #406B9C 90  1.7061131  -2.61169366  6.023920 2.191316 FALSE      \n",
       "560 #95BDA1 90  2.7087849  -1.80730884  7.224879 2.291948 FALSE      \n",
       "160 #6D9F5E 90  7.7449652  -2.93180731 18.421738 5.418412 FALSE      \n",
       "320 #63A686 90 13.2797620   0.05516185 26.504362 6.711422 FALSE      \n",
       "640 #8EB5D7 90 19.3843870   8.83258157 29.936192 5.354991 FALSE      \n",
       "240 #597FC6 90 22.0735350   7.17489883 36.972171 7.561158 FALSE      \n",
       "    label                group PANEL fill    linewidth linetype weight alpha\n",
       "400 GZMB- CD27- EM CD4 T 5     1     #E0E0E0 0.5       1        1      0.4  \n",
       "80  CM CD4 T             1     1     #E0E0E0 0.5       1        1      0.4  \n",
       "480 GZMB- CD27+ EM CD4 T 6     1     #E0E0E0 0.5       1        1      0.4  \n",
       "560 GZMK+ CD27+ EM CD8 T 7     1     #E0E0E0 0.5       1        1      0.4  \n",
       "160 CM CD8 T             2     1     #E0E0E0 0.5       1        1      0.4  \n",
       "320 Core naive CD8 T     4     1     #E0E0E0 0.5       1        1      0.4  \n",
       "640 Naive CD4 Treg       8     1     #E0E0E0 0.5       1        1      0.4  \n",
       "240 Core naive CD4 T     3     1     #E0E0E0 0.5       1        1      0.4  "
      ]
     },
     "metadata": {},
     "output_type": "display_data"
    }
   ],
   "source": [
    "plot_data <- ggplot_build(p)$data[[1]]\n",
    "\n",
    "# Step 2: Get the fitted values at the last time point\n",
    "last_time_point <- max(plot_data$x)\n",
    "fitted_at_last <- plot_data[plot_data$x == last_time_point, ]\n",
    "\n",
    "# Order the fitted values and display the order\n",
    "ordered_fitted <- fitted_at_last[order(fitted_at_last$y), ]\n",
    "ordered_fitted[c(\"y\",\"label\")] %>% arrange(desc(y))"
   ]
  },
  {
   "cell_type": "code",
   "execution_count": 23,
   "id": "d20b0b59-aed5-4c6b-bc3b-0dd1d0d1e4ee",
   "metadata": {},
   "outputs": [
    {
     "data": {
      "text/html": [
       "<table class=\"dataframe\">\n",
       "<caption>A data.frame: 8 × 2</caption>\n",
       "<thead>\n",
       "\t<tr><th scope=col>y</th><th scope=col>label</th></tr>\n",
       "\t<tr><th scope=col>&lt;dbl&gt;</th><th scope=col>&lt;chr&gt;</th></tr>\n",
       "</thead>\n",
       "<tbody>\n",
       "\t<tr><td>22.0735350</td><td>Core naive CD4 T    </td></tr>\n",
       "\t<tr><td>19.3843870</td><td>Naive CD4 Treg      </td></tr>\n",
       "\t<tr><td>13.2797620</td><td>Core naive CD8 T    </td></tr>\n",
       "\t<tr><td> 7.7449652</td><td>CM CD8 T            </td></tr>\n",
       "\t<tr><td> 2.7087849</td><td>GZMK+ CD27+ EM CD8 T</td></tr>\n",
       "\t<tr><td> 1.7061131</td><td>GZMB- CD27+ EM CD4 T</td></tr>\n",
       "\t<tr><td> 0.1370174</td><td>CM CD4 T            </td></tr>\n",
       "\t<tr><td>-1.3518888</td><td>GZMB- CD27- EM CD4 T</td></tr>\n",
       "</tbody>\n",
       "</table>\n"
      ],
      "text/latex": [
       "A data.frame: 8 × 2\n",
       "\\begin{tabular}{ll}\n",
       " y & label\\\\\n",
       " <dbl> & <chr>\\\\\n",
       "\\hline\n",
       "\t 22.0735350 & Core naive CD4 T    \\\\\n",
       "\t 19.3843870 & Naive CD4 Treg      \\\\\n",
       "\t 13.2797620 & Core naive CD8 T    \\\\\n",
       "\t  7.7449652 & CM CD8 T            \\\\\n",
       "\t  2.7087849 & GZMK+ CD27+ EM CD8 T\\\\\n",
       "\t  1.7061131 & GZMB- CD27+ EM CD4 T\\\\\n",
       "\t  0.1370174 & CM CD4 T            \\\\\n",
       "\t -1.3518888 & GZMB- CD27- EM CD4 T\\\\\n",
       "\\end{tabular}\n"
      ],
      "text/markdown": [
       "\n",
       "A data.frame: 8 × 2\n",
       "\n",
       "| y &lt;dbl&gt; | label &lt;chr&gt; |\n",
       "|---|---|\n",
       "| 22.0735350 | Core naive CD4 T     |\n",
       "| 19.3843870 | Naive CD4 Treg       |\n",
       "| 13.2797620 | Core naive CD8 T     |\n",
       "|  7.7449652 | CM CD8 T             |\n",
       "|  2.7087849 | GZMK+ CD27+ EM CD8 T |\n",
       "|  1.7061131 | GZMB- CD27+ EM CD4 T |\n",
       "|  0.1370174 | CM CD4 T             |\n",
       "| -1.3518888 | GZMB- CD27- EM CD4 T |\n",
       "\n"
      ],
      "text/plain": [
       "  y          label               \n",
       "1 22.0735350 Core naive CD4 T    \n",
       "2 19.3843870 Naive CD4 Treg      \n",
       "3 13.2797620 Core naive CD8 T    \n",
       "4  7.7449652 CM CD8 T            \n",
       "5  2.7087849 GZMK+ CD27+ EM CD8 T\n",
       "6  1.7061131 GZMB- CD27+ EM CD4 T\n",
       "7  0.1370174 CM CD4 T            \n",
       "8 -1.3518888 GZMB- CD27- EM CD4 T"
      ]
     },
     "metadata": {},
     "output_type": "display_data"
    }
   ],
   "source": []
  },
  {
   "cell_type": "code",
   "execution_count": null,
   "id": "72291f27-250a-48d9-bfe5-550c84022582",
   "metadata": {},
   "outputs": [],
   "source": []
  }
 ],
 "metadata": {
  "kernelspec": {
   "display_name": "R 4",
   "language": "R",
   "name": "ir4"
  },
  "language_info": {
   "codemirror_mode": "r",
   "file_extension": ".r",
   "mimetype": "text/x-r-source",
   "name": "R",
   "pygments_lexer": "r",
   "version": "4.3.2"
  }
 },
 "nbformat": 4,
 "nbformat_minor": 5
}
