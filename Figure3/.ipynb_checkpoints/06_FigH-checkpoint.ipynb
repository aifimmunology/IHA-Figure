{
 "cells": [
  {
   "cell_type": "code",
   "execution_count": 18,
   "id": "6b2f0073-f400-44fb-b1c7-f5819c9abb42",
   "metadata": {},
   "outputs": [
    {
     "name": "stderr",
     "output_type": "stream",
     "text": [
      "Warning message:\n",
      "“package ‘scales’ was built under R version 4.3.3”\n",
      "Warning message:\n",
      "“package ‘RColorBrewer’ was built under R version 4.3.3”\n"
     ]
    }
   ],
   "source": [
    "library(dplyr)\n",
    "library(tidyr)\n",
    "library(tibble)\n",
    "library(ggplot2)\n",
    "library(stringr)\n",
    "library(ggrepel)\n",
    "library(ggpubr)\n",
    "library(scales)\n",
    "library(RColorBrewer)"
   ]
  },
  {
   "cell_type": "code",
   "execution_count": 2,
   "id": "7cbdf4ff-fd28-4315-9598-a1d1fd9f4d4f",
   "metadata": {},
   "outputs": [],
   "source": [
    "\n",
    "\n",
    "keep_celltypes <- c('Adaptive NK cell', \n",
    "                    'KLRF1- GZMB+ CD27- memory CD4 T cell',\n",
    "                    'KLRF1- GZMB+ CD27- EM CD8 T cell',\n",
    "                    'KLRF1+ GZMB+ CD27- EM CD8 T cell', \n",
    "                    'KLRF1- effector Vd1 gdT', \n",
    "                    'KLRF1+ effector Vd1 gdT')\n",
    "     "
   ]
  },
  {
   "cell_type": "markdown",
   "id": "73076f78-c805-4489-8858-aa7fb6e6899b",
   "metadata": {},
   "source": [
    "# Read DEG Result"
   ]
  },
  {
   "cell_type": "code",
   "execution_count": 3,
   "id": "1d8472db-14d6-4ae9-a2cb-d93de20a1e43",
   "metadata": {},
   "outputs": [],
   "source": [
    "df_CMV<- read.csv('/home//workspace/IHA_Figure_Revision/Figure1/02_DEG/Deseq2_Result_Y1D0.csv')\n",
    "df_CMV <- df_CMV %>% filter(celltype %in% keep_celltypes) \n",
    "df_CMV_counts <- df_CMV %>%\n",
    "  filter(contrast == 'CMV') %>%\n",
    "  mutate(Expression = case_when(\n",
    "    log2FoldChange >= 0.1 & padj <= 0.05 ~ \"Differentially Expressed\",\n",
    "    log2FoldChange <= -0.1 & padj <= 0.05 ~ \"Differentially Expressed\",\n",
    "    TRUE ~ \"Unchanged\"\n",
    "  )) %>%\n",
    "  group_by(celltype) %>%\n",
    "  summarise(total_count = sum(Expression == \"Differentially Expressed\"), .groups = 'drop') %>%\n",
    "  as.data.frame()\n",
    "     "
   ]
  },
  {
   "cell_type": "code",
   "execution_count": 4,
   "id": "37eda338-933d-42f4-b329-4277f13ce691",
   "metadata": {},
   "outputs": [],
   "source": [
    "df_CMV_counts$deg_type <- 'CMV+ vs CMV-'\n"
   ]
  },
  {
   "cell_type": "code",
   "execution_count": 5,
   "id": "c50479f6-5e31-4904-8986-bb7b16c47e4e",
   "metadata": {},
   "outputs": [],
   "source": [
    "df_Age_CMV_pos<-read.csv(\"05_DEG_CMV_Pos_Only/Deseq2_Result_Y1D0_CMV_Pos.csv\")"
   ]
  },
  {
   "cell_type": "code",
   "execution_count": 6,
   "id": "6932c949-ddb9-46ca-ae26-dc3a6ec1b932",
   "metadata": {},
   "outputs": [],
   "source": [
    "df_Age_CMV_pos <- df_Age_CMV_pos %>% filter(celltype %in% keep_celltypes) \n"
   ]
  },
  {
   "cell_type": "code",
   "execution_count": 7,
   "id": "5d025430-ed17-4ba5-828f-d12e7d8d18ef",
   "metadata": {},
   "outputs": [],
   "source": [
    "df_Age_CMV_pos_counts <- df_Age_CMV_pos %>%\n",
    "  filter(contrast == 'cohort.cohortGuid') %>%\n",
    "  mutate(Expression = case_when(\n",
    "    log2FoldChange >= 0.1 & padj <= 0.05 ~ \"Differentially Expressed\",\n",
    "    log2FoldChange <= -0.1 & padj <= 0.05 ~ \"Differentially Expressed\",\n",
    "    TRUE ~ \"Unchanged\"\n",
    "  )) %>%\n",
    "  group_by(celltype) %>%\n",
    "  summarise(total_count = sum(Expression == \"Differentially Expressed\"), .groups = 'drop') %>%\n",
    "  as.data.frame()"
   ]
  },
  {
   "cell_type": "code",
   "execution_count": 8,
   "id": "baeec0c3-d503-4c6f-9280-b83d424ec444",
   "metadata": {},
   "outputs": [],
   "source": [
    "df_Age_CMV_pos_counts$deg_type <- 'Young-Old CMV+'\n"
   ]
  },
  {
   "cell_type": "code",
   "execution_count": 9,
   "id": "c39dab7f-796c-4647-a217-965705aee96f",
   "metadata": {},
   "outputs": [
    {
     "data": {
      "text/html": [
       "<table class=\"dataframe\">\n",
       "<caption>A data.frame: 6 × 3</caption>\n",
       "<thead>\n",
       "\t<tr><th scope=col>celltype</th><th scope=col>total_count</th><th scope=col>deg_type</th></tr>\n",
       "\t<tr><th scope=col>&lt;chr&gt;</th><th scope=col>&lt;int&gt;</th><th scope=col>&lt;chr&gt;</th></tr>\n",
       "</thead>\n",
       "<tbody>\n",
       "\t<tr><td>Adaptive NK cell                    </td><td>2</td><td>Young-Old CMV+</td></tr>\n",
       "\t<tr><td>KLRF1+ GZMB+ CD27- EM CD8 T cell    </td><td>1</td><td>Young-Old CMV+</td></tr>\n",
       "\t<tr><td>KLRF1+ effector Vd1 gdT             </td><td>0</td><td>Young-Old CMV+</td></tr>\n",
       "\t<tr><td>KLRF1- GZMB+ CD27- EM CD8 T cell    </td><td>3</td><td>Young-Old CMV+</td></tr>\n",
       "\t<tr><td>KLRF1- GZMB+ CD27- memory CD4 T cell</td><td>0</td><td>Young-Old CMV+</td></tr>\n",
       "\t<tr><td>KLRF1- effector Vd1 gdT             </td><td>0</td><td>Young-Old CMV+</td></tr>\n",
       "</tbody>\n",
       "</table>\n"
      ],
      "text/latex": [
       "A data.frame: 6 × 3\n",
       "\\begin{tabular}{lll}\n",
       " celltype & total\\_count & deg\\_type\\\\\n",
       " <chr> & <int> & <chr>\\\\\n",
       "\\hline\n",
       "\t Adaptive NK cell                     & 2 & Young-Old CMV+\\\\\n",
       "\t KLRF1+ GZMB+ CD27- EM CD8 T cell     & 1 & Young-Old CMV+\\\\\n",
       "\t KLRF1+ effector Vd1 gdT              & 0 & Young-Old CMV+\\\\\n",
       "\t KLRF1- GZMB+ CD27- EM CD8 T cell     & 3 & Young-Old CMV+\\\\\n",
       "\t KLRF1- GZMB+ CD27- memory CD4 T cell & 0 & Young-Old CMV+\\\\\n",
       "\t KLRF1- effector Vd1 gdT              & 0 & Young-Old CMV+\\\\\n",
       "\\end{tabular}\n"
      ],
      "text/markdown": [
       "\n",
       "A data.frame: 6 × 3\n",
       "\n",
       "| celltype &lt;chr&gt; | total_count &lt;int&gt; | deg_type &lt;chr&gt; |\n",
       "|---|---|---|\n",
       "| Adaptive NK cell                     | 2 | Young-Old CMV+ |\n",
       "| KLRF1+ GZMB+ CD27- EM CD8 T cell     | 1 | Young-Old CMV+ |\n",
       "| KLRF1+ effector Vd1 gdT              | 0 | Young-Old CMV+ |\n",
       "| KLRF1- GZMB+ CD27- EM CD8 T cell     | 3 | Young-Old CMV+ |\n",
       "| KLRF1- GZMB+ CD27- memory CD4 T cell | 0 | Young-Old CMV+ |\n",
       "| KLRF1- effector Vd1 gdT              | 0 | Young-Old CMV+ |\n",
       "\n"
      ],
      "text/plain": [
       "  celltype                             total_count deg_type      \n",
       "1 Adaptive NK cell                     2           Young-Old CMV+\n",
       "2 KLRF1+ GZMB+ CD27- EM CD8 T cell     1           Young-Old CMV+\n",
       "3 KLRF1+ effector Vd1 gdT              0           Young-Old CMV+\n",
       "4 KLRF1- GZMB+ CD27- EM CD8 T cell     3           Young-Old CMV+\n",
       "5 KLRF1- GZMB+ CD27- memory CD4 T cell 0           Young-Old CMV+\n",
       "6 KLRF1- effector Vd1 gdT              0           Young-Old CMV+"
      ]
     },
     "metadata": {},
     "output_type": "display_data"
    }
   ],
   "source": [
    "df_Age_CMV_pos_counts"
   ]
  },
  {
   "cell_type": "code",
   "execution_count": 10,
   "id": "1422bf4e-a0f5-49b6-b2bc-f01d24476702",
   "metadata": {},
   "outputs": [
    {
     "data": {
      "text/html": [
       "<table class=\"dataframe\">\n",
       "<caption>A data.frame: 6 × 3</caption>\n",
       "<thead>\n",
       "\t<tr><th scope=col>celltype</th><th scope=col>total_count</th><th scope=col>deg_type</th></tr>\n",
       "\t<tr><th scope=col>&lt;chr&gt;</th><th scope=col>&lt;int&gt;</th><th scope=col>&lt;chr&gt;</th></tr>\n",
       "</thead>\n",
       "<tbody>\n",
       "\t<tr><td>Adaptive NK cell                    </td><td>63</td><td>CMV+ vs CMV-</td></tr>\n",
       "\t<tr><td>KLRF1+ GZMB+ CD27- EM CD8 T cell    </td><td>23</td><td>CMV+ vs CMV-</td></tr>\n",
       "\t<tr><td>KLRF1+ effector Vd1 gdT             </td><td> 7</td><td>CMV+ vs CMV-</td></tr>\n",
       "\t<tr><td>KLRF1- GZMB+ CD27- EM CD8 T cell    </td><td>56</td><td>CMV+ vs CMV-</td></tr>\n",
       "\t<tr><td>KLRF1- GZMB+ CD27- memory CD4 T cell</td><td> 8</td><td>CMV+ vs CMV-</td></tr>\n",
       "\t<tr><td>KLRF1- effector Vd1 gdT             </td><td> 3</td><td>CMV+ vs CMV-</td></tr>\n",
       "</tbody>\n",
       "</table>\n"
      ],
      "text/latex": [
       "A data.frame: 6 × 3\n",
       "\\begin{tabular}{lll}\n",
       " celltype & total\\_count & deg\\_type\\\\\n",
       " <chr> & <int> & <chr>\\\\\n",
       "\\hline\n",
       "\t Adaptive NK cell                     & 63 & CMV+ vs CMV-\\\\\n",
       "\t KLRF1+ GZMB+ CD27- EM CD8 T cell     & 23 & CMV+ vs CMV-\\\\\n",
       "\t KLRF1+ effector Vd1 gdT              &  7 & CMV+ vs CMV-\\\\\n",
       "\t KLRF1- GZMB+ CD27- EM CD8 T cell     & 56 & CMV+ vs CMV-\\\\\n",
       "\t KLRF1- GZMB+ CD27- memory CD4 T cell &  8 & CMV+ vs CMV-\\\\\n",
       "\t KLRF1- effector Vd1 gdT              &  3 & CMV+ vs CMV-\\\\\n",
       "\\end{tabular}\n"
      ],
      "text/markdown": [
       "\n",
       "A data.frame: 6 × 3\n",
       "\n",
       "| celltype &lt;chr&gt; | total_count &lt;int&gt; | deg_type &lt;chr&gt; |\n",
       "|---|---|---|\n",
       "| Adaptive NK cell                     | 63 | CMV+ vs CMV- |\n",
       "| KLRF1+ GZMB+ CD27- EM CD8 T cell     | 23 | CMV+ vs CMV- |\n",
       "| KLRF1+ effector Vd1 gdT              |  7 | CMV+ vs CMV- |\n",
       "| KLRF1- GZMB+ CD27- EM CD8 T cell     | 56 | CMV+ vs CMV- |\n",
       "| KLRF1- GZMB+ CD27- memory CD4 T cell |  8 | CMV+ vs CMV- |\n",
       "| KLRF1- effector Vd1 gdT              |  3 | CMV+ vs CMV- |\n",
       "\n"
      ],
      "text/plain": [
       "  celltype                             total_count deg_type    \n",
       "1 Adaptive NK cell                     63          CMV+ vs CMV-\n",
       "2 KLRF1+ GZMB+ CD27- EM CD8 T cell     23          CMV+ vs CMV-\n",
       "3 KLRF1+ effector Vd1 gdT               7          CMV+ vs CMV-\n",
       "4 KLRF1- GZMB+ CD27- EM CD8 T cell     56          CMV+ vs CMV-\n",
       "5 KLRF1- GZMB+ CD27- memory CD4 T cell  8          CMV+ vs CMV-\n",
       "6 KLRF1- effector Vd1 gdT               3          CMV+ vs CMV-"
      ]
     },
     "metadata": {},
     "output_type": "display_data"
    }
   ],
   "source": [
    "df_CMV_counts"
   ]
  },
  {
   "cell_type": "code",
   "execution_count": 15,
   "id": "a2c48fbe-3352-4ee6-8a59-a13c29d573a5",
   "metadata": {},
   "outputs": [],
   "source": [
    "df_combined <- rbind(df_Age_CMV_pos_counts,df_CMV_counts)\n",
    "df_combined$celltype<-factor(df_combined$celltype,levels=rev(keep_celltypes))"
   ]
  },
  {
   "cell_type": "markdown",
   "id": "9246dda4-5709-48c2-8e77-9fe006205e35",
   "metadata": {},
   "source": [
    "# Plotting"
   ]
  },
  {
   "cell_type": "code",
   "execution_count": 25,
   "id": "f83c640f-9ad8-415e-a2dd-3a09b659411f",
   "metadata": {},
   "outputs": [
    {
     "data": {
      "image/png": "[encoded data removed]",
      "text/plain": [
       "plot without title"
      ]
     },
     "metadata": {
      "image/png": {
       "height": 188.9764,
       "width": 118.1102
      }
     },
     "output_type": "display_data"
    }
   ],
   "source": [
    "\n",
    "options(repr.plot.width = 50/25.4, repr.plot.height = 80/25.4)\n",
    "max_deg_number<-max(df_combined$total_count)\n",
    "p <- df_combined %>% ggplot(aes(y=celltype,x=deg_type, fill = total_count))+\n",
    "    geom_tile()+\n",
    "  theme_bw(base_size = 6) +\n",
    "  theme(legend.position = \"bottom\") + \n",
    "  theme(axis.text.x = element_text(angle = 90, vjust = 0.5, hjust = 1)) +\n",
    "  theme(plot.margin = grid::unit(c(0, 0, 0, -0.25), \"mm\")) +\n",
    "  scale_y_discrete(labels = function(x) gsub(\" cell\", \"\", x)) +\n",
    "scale_fill_gradientn(\n",
    "    colours = c(\"white\", brewer.pal(9, \"Blues\")[0:9]),\n",
    "    values = rescale(c(0, seq(1, max_deg_number, length.out = 9))),\n",
    "    limits = c(0, max_deg_number)\n",
    "  )\n",
    "p\n",
    "ggsave('FigureG.pdf',p,width = 50/25.4,height =  80/25.4)"
   ]
  },
  {
   "cell_type": "code",
   "execution_count": null,
   "id": "65b23e80-65d3-4795-b6f8-a185d647c0e4",
   "metadata": {},
   "outputs": [],
   "source": []
  }
 ],
 "metadata": {
  "kernelspec": {
   "display_name": "R_BRI_Figures",
   "language": "R",
   "name": "r_bri_figures"
  },
  "language_info": {
   "codemirror_mode": "r",
   "file_extension": ".r",
   "mimetype": "text/x-r-source",
   "name": "R",
   "pygments_lexer": "r",
   "version": "4.3.2"
  }
 },
 "nbformat": 4,
 "nbformat_minor": 5
}
