{
 "cells": [
  {
   "cell_type": "code",
   "execution_count": 1,
   "id": "a607278e-8546-4885-b030-be2b0e304815",
   "metadata": {},
   "outputs": [
    {
     "name": "stderr",
     "output_type": "stream",
     "text": [
      "Loading required package: S4Vectors\n",
      "\n",
      "Loading required package: stats4\n",
      "\n",
      "Loading required package: BiocGenerics\n",
      "\n",
      "\n",
      "Attaching package: ‘BiocGenerics’\n",
      "\n",
      "\n",
      "The following objects are masked from ‘package:dplyr’:\n",
      "\n",
      "    combine, intersect, setdiff, union\n",
      "\n",
      "\n",
      "The following objects are masked from ‘package:stats’:\n",
      "\n",
      "    IQR, mad, sd, var, xtabs\n",
      "\n",
      "\n",
      "The following objects are masked from ‘package:base’:\n",
      "\n",
      "    anyDuplicated, aperm, append, as.data.frame, basename, cbind,\n",
      "    colnames, dirname, do.call, duplicated, eval, evalq, Filter, Find,\n",
      "    get, grep, grepl, intersect, is.unsorted, lapply, Map, mapply,\n",
      "    match, mget, order, paste, pmax, pmax.int, pmin, pmin.int,\n",
      "    Position, rank, rbind, Reduce, rownames, sapply, setdiff, sort,\n",
      "    table, tapply, union, unique, unsplit, which.max, which.min\n",
      "\n",
      "\n",
      "\n",
      "Attaching package: ‘S4Vectors’\n",
      "\n",
      "\n",
      "The following object is masked from ‘package:tidyr’:\n",
      "\n",
      "    expand\n",
      "\n",
      "\n",
      "The following objects are masked from ‘package:dplyr’:\n",
      "\n",
      "    first, rename\n",
      "\n",
      "\n",
      "The following object is masked from ‘package:utils’:\n",
      "\n",
      "    findMatches\n",
      "\n",
      "\n",
      "The following objects are masked from ‘package:base’:\n",
      "\n",
      "    expand.grid, I, unname\n",
      "\n",
      "\n",
      "Loading required package: IRanges\n",
      "\n",
      "\n",
      "Attaching package: ‘IRanges’\n",
      "\n",
      "\n",
      "The following objects are masked from ‘package:dplyr’:\n",
      "\n",
      "    collapse, desc, slice\n",
      "\n",
      "\n",
      "Loading required package: GenomicRanges\n",
      "\n",
      "Loading required package: GenomeInfoDb\n",
      "\n",
      "Loading required package: SummarizedExperiment\n",
      "\n",
      "Loading required package: MatrixGenerics\n",
      "\n",
      "Loading required package: matrixStats\n",
      "\n",
      "\n",
      "Attaching package: ‘matrixStats’\n",
      "\n",
      "\n",
      "The following object is masked from ‘package:dplyr’:\n",
      "\n",
      "    count\n",
      "\n",
      "\n",
      "\n",
      "Attaching package: ‘MatrixGenerics’\n",
      "\n",
      "\n",
      "The following objects are masked from ‘package:matrixStats’:\n",
      "\n",
      "    colAlls, colAnyNAs, colAnys, colAvgsPerRowSet, colCollapse,\n",
      "    colCounts, colCummaxs, colCummins, colCumprods, colCumsums,\n",
      "    colDiffs, colIQRDiffs, colIQRs, colLogSumExps, colMadDiffs,\n",
      "    colMads, colMaxs, colMeans2, colMedians, colMins, colOrderStats,\n",
      "    colProds, colQuantiles, colRanges, colRanks, colSdDiffs, colSds,\n",
      "    colSums2, colTabulates, colVarDiffs, colVars, colWeightedMads,\n",
      "    colWeightedMeans, colWeightedMedians, colWeightedSds,\n",
      "    colWeightedVars, rowAlls, rowAnyNAs, rowAnys, rowAvgsPerColSet,\n",
      "    rowCollapse, rowCounts, rowCummaxs, rowCummins, rowCumprods,\n",
      "    rowCumsums, rowDiffs, rowIQRDiffs, rowIQRs, rowLogSumExps,\n",
      "    rowMadDiffs, rowMads, rowMaxs, rowMeans2, rowMedians, rowMins,\n",
      "    rowOrderStats, rowProds, rowQuantiles, rowRanges, rowRanks,\n",
      "    rowSdDiffs, rowSds, rowSums2, rowTabulates, rowVarDiffs, rowVars,\n",
      "    rowWeightedMads, rowWeightedMeans, rowWeightedMedians,\n",
      "    rowWeightedSds, rowWeightedVars\n",
      "\n",
      "\n",
      "Loading required package: Biobase\n",
      "\n",
      "Welcome to Bioconductor\n",
      "\n",
      "    Vignettes contain introductory material; view with\n",
      "    'browseVignettes()'. To cite Bioconductor, see\n",
      "    'citation(\"Biobase\")', and for packages 'citation(\"pkgname\")'.\n",
      "\n",
      "\n",
      "\n",
      "Attaching package: ‘Biobase’\n",
      "\n",
      "\n",
      "The following object is masked from ‘package:MatrixGenerics’:\n",
      "\n",
      "    rowMedians\n",
      "\n",
      "\n",
      "The following objects are masked from ‘package:matrixStats’:\n",
      "\n",
      "    anyMissing, rowMedians\n",
      "\n",
      "\n"
     ]
    }
   ],
   "source": [
    "suppressPackageStartupMessages(library(dplyr))\n",
    "suppressPackageStartupMessages(library(tidyr))\n",
    "suppressPackageStartupMessages(library(tibble))\n",
    "suppressPackageStartupMessages(library(stringr))\n",
    "library(parallel)\n",
    "library(DESeq2)\n",
    "library(hise)\n",
    "source('/home//jupyter/BRI_Figures_Final_V1/helper_function/helper_function_IHA.r')"
   ]
  },
  {
   "cell_type": "markdown",
   "id": "4be5c0b9-7368-416b-8c16-0f7c22875f18",
   "metadata": {},
   "source": [
    "# Read Meta Data"
   ]
  },
  {
   "cell_type": "code",
   "execution_count": 18,
   "id": "402f843c-e730-43d5-af85-c5b7acce30bc",
   "metadata": {},
   "outputs": [],
   "source": [
    "meta_data=read.csv(\"/home/jupyter/BRI_Figures_Final_V1/Dataset/SF4_meta_data-2024-05-05.csv\")\n",
    "meta_data$ageAtEnrollment[meta_data$ageAtEnrollment == '89+'] <- '90'\n",
    "meta_data$ageAtEnrollment<-as.numeric(meta_data$ageAtEnrollment)\n",
    "meta_data<-meta_data[!is.na(meta_data$ageAtEnrollment),]\n",
    "meta_data$Ages<-meta_data$ageAtEnrollment\n",
    "meta_data <- meta_data[!duplicated(meta_data$sample.sampleKitGuid, fromLast = TRUE), ]\n",
    "meta_data$CMV<-meta_data$lab.revisionHistory.dataHistory.CMV.Ab.Screen.Result..CMVRES..newValue"
   ]
  },
  {
   "cell_type": "markdown",
   "id": "4f43a8bb-2e29-4066-adbf-d4619be3acb8",
   "metadata": {},
   "source": [
    "# Perform Deseq2 on Year 1 Day 0 samples"
   ]
  },
  {
   "cell_type": "code",
   "execution_count": 19,
   "id": "e3dd9eb4-7405-43b0-b3fb-78e1c1f2a616",
   "metadata": {},
   "outputs": [],
   "source": [
    "filtered_gene_set<-read.csv(\"fitlered_gene_SF4.csv\")"
   ]
  },
  {
   "cell_type": "code",
   "execution_count": 20,
   "id": "b81c0e7e-5360-44ab-a955-763f62507555",
   "metadata": {},
   "outputs": [
    {
     "name": "stdout",
     "output_type": "stream",
     "text": [
      "[1] \"Total reading time: 10.675 seconds\"\n",
      "[1] \"The length of the list matches the length of the input path.\"\n"
     ]
    }
   ],
   "source": [
    "aggregated_count_file_list<-paste0(\"/home/jupyter/BRI_Figures_Final_V1/Dataset/scRNA/SF4/Aggregated_Count/Aggregated_Raw_Expression_of_Celltypes_by_Sample_AIFI_L3/\",meta_data$pbmc_sample_id,\".csv\")\n",
    "\n",
    "df_list<-read_pseudobulk_expression(aggregated_count_file_list)"
   ]
  },
  {
   "cell_type": "code",
   "execution_count": 21,
   "id": "91ac94b4-ae3f-419b-b6fa-b64b8c996bb9",
   "metadata": {},
   "outputs": [],
   "source": [
    "celltypes <- unique(unlist(lapply(df_list, names)))\n",
    "celltypes<-unique(sub(\".*:\", \"\", celltypes))"
   ]
  },
  {
   "cell_type": "code",
   "execution_count": 22,
   "id": "bd6b2461-617c-4907-8286-6154a4b93cec",
   "metadata": {},
   "outputs": [
    {
     "data": {
      "text/html": [
       "71"
      ],
      "text/latex": [
       "71"
      ],
      "text/markdown": [
       "71"
      ],
      "text/plain": [
       "[1] 71"
      ]
     },
     "metadata": {},
     "output_type": "display_data"
    }
   ],
   "source": [
    "length(celltypes)"
   ]
  },
  {
   "cell_type": "code",
   "execution_count": 28,
   "id": "60fb5fc6-ac25-4e07-bd04-586ff03a7791",
   "metadata": {
    "scrolled": true
   },
   "outputs": [],
   "source": [
    "res_list<-mclapply(celltypes, function(celltype){\n",
    "    celltype_list <- lapply(df_list, function(df) { df <- df[, grep(celltype, names(df), fixed = TRUE),drop=FALSE] })\n",
    "    exp_matrix<-do.call(cbind,celltype_list)\n",
    "    colnames(exp_matrix)<-sub(\":.*\", \"\", colnames(exp_matrix))\n",
    "    rownames(meta_data)<-meta_data$pbmc_sample_id\n",
    "    filtered_gene_set_filtered<-filtered_gene_set%>% filter(AIFI_L3==celltype)%>% select(gene) %>%pull()\n",
    "    \n",
    "    res=deseq2_analysis(exp_matrix,\n",
    "                     meta_data=meta_data,\n",
    "                     filtered_gene_set=filtered_gene_set_filtered,\n",
    "                     formula= ~  ageAtEnrollment+subject.biologicalSex+CMV,\n",
    "                     comparisons=list(c(\"CMV\", \"Positive\", \"Negative\")),\n",
    "                     celltype=celltype)\n",
    "    return(res)\n",
    "},mc.cores=60)"
   ]
  },
  {
   "cell_type": "code",
   "execution_count": 29,
   "id": "c42430f2-e644-41ea-bb8e-48dcff413cec",
   "metadata": {
    "scrolled": true
   },
   "outputs": [],
   "source": [
    "res_all<-do.call(rbind,res_list)"
   ]
  },
  {
   "cell_type": "code",
   "execution_count": 30,
   "id": "d1521d60-5802-426c-a247-a9bd32bf876a",
   "metadata": {},
   "outputs": [],
   "source": [
    "write.csv(res_all,\"Deseq2_Result_SF4.csv\")"
   ]
  }
 ],
 "metadata": {
  "kernelspec": {
   "display_name": "R 4",
   "language": "R",
   "name": "ir4"
  },
  "language_info": {
   "codemirror_mode": "r",
   "file_extension": ".r",
   "mimetype": "text/x-r-source",
   "name": "R",
   "pygments_lexer": "r",
   "version": "4.3.2"
  }
 },
 "nbformat": 4,
 "nbformat_minor": 5
}
