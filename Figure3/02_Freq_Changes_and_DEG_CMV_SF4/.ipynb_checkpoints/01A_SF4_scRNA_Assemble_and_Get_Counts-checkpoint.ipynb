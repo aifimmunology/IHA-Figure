{
 "cells": [
  {
   "cell_type": "code",
   "execution_count": 3,
   "id": "3a875ca8-6633-4c32-a0da-82fceeab3d67",
   "metadata": {},
   "outputs": [
    {
     "name": "stdout",
     "output_type": "stream",
     "text": [
      "Current working directory: /home/jupyter/Additional_Analysis/CMV_Tao\n"
     ]
    }
   ],
   "source": [
    "import pandas as pd \n",
    "import numpy as np \n",
    "import scanpy as sc\n",
    "import matplotlib.pyplot as plt\n",
    "import concurrent.futures\n",
    "import pickle\n",
    "import warnings\n",
    "from datetime import date\n",
    "import hisepy\n",
    "import os\n",
    "import shutil\n",
    "from concurrent.futures import ThreadPoolExecutor, as_completed,ProcessPoolExecutor\n",
    "from tqdm import tqdm\n",
    "import anndata\n",
    "import milopy\n",
    "import milopy.core as milo\n",
    "import gc\n",
    "warnings.filterwarnings(\"ignore\")\n",
    "sc.settings.n_jobs = 60\n",
    "print(\"Current working directory:\", os.getcwd())"
   ]
  },
  {
   "cell_type": "markdown",
   "id": "138286ed-bb2d-400f-ad54-5ca54405a6dc",
   "metadata": {},
   "source": [
    "# Read MetaData"
   ]
  },
  {
   "cell_type": "code",
   "execution_count": 4,
   "id": "31c53fcd-45b7-494a-8924-954f09cbc234",
   "metadata": {},
   "outputs": [],
   "source": [
    "meta_data=pd.read_csv(\"/home/jupyter/BRI_Figures/Dataset/SF4_meta_data-2024-05-05.csv\")"
   ]
  },
  {
   "cell_type": "markdown",
   "id": "6cde623e-28ed-4e65-8359-1c05458ee314",
   "metadata": {},
   "source": [
    "# Assemble Year 1 Day 0"
   ]
  },
  {
   "cell_type": "code",
   "execution_count": 3,
   "id": "8a2f89e7-44b2-4460-9224-5667d504955e",
   "metadata": {},
   "outputs": [],
   "source": []
  },
  {
   "cell_type": "code",
   "execution_count": 5,
   "id": "5d7f2fc7-de4f-4fbf-b87a-2c570eab82f0",
   "metadata": {},
   "outputs": [
    {
     "name": "stderr",
     "output_type": "stream",
     "text": [
      "100% 235/235 [08:46<00:00,  2.24s/it]"
     ]
    },
    {
     "name": "stdout",
     "output_type": "stream",
     "text": [
      "CPU times: user 31.4 s, sys: 1min 15s, total: 1min 47s\n",
      "Wall time: 9min 12s\n"
     ]
    },
    {
     "name": "stderr",
     "output_type": "stream",
     "text": [
      "\n"
     ]
    }
   ],
   "source": [
    "%%time\n",
    "file_names= ['/home/jupyter/BRI_Figures/Dataset/scRNA/SF4/h5ad/'+x+\".h5ad\" for x in meta_data['pbmc_sample_id'].tolist()]\n",
    "adata_list = []\n",
    "with ThreadPoolExecutor(max_workers=10) as executor:\n",
    "    future_to_file = {executor.submit(sc.read_h5ad, file_name): file_name for file_name in file_names}\n",
    "    for future in tqdm(as_completed(future_to_file), total=len(file_names)):\n",
    "        result = future.result()\n",
    "        if result is not None:\n",
    "            adata_list.append(result)"
   ]
  },
  {
   "cell_type": "code",
   "execution_count": 8,
   "id": "11d76630-2aa1-46b5-b774-d0a4ee64921f",
   "metadata": {},
   "outputs": [],
   "source": [
    "adata = anndata.concat(adata_list,join='outer')"
   ]
  },
  {
   "cell_type": "code",
   "execution_count": 23,
   "id": "667d3d30-716e-4510-a410-fe7263276931",
   "metadata": {},
   "outputs": [],
   "source": [
    "adata=adata[~adata.obs['cmv_status'].isna()]"
   ]
  },
  {
   "cell_type": "code",
   "execution_count": 26,
   "id": "cfa607bc-5431-469d-91be-7db4110897a7",
   "metadata": {},
   "outputs": [
    {
     "name": "stdout",
     "output_type": "stream",
     "text": [
      "GZMK+ CD56dim NK cell\n",
      "GZMK- CD56dim NK cell\n",
      "Proliferating NK cell\n",
      "CD56bright NK cell\n",
      "ISG+ CD56dim NK cell\n",
      "Adaptive NK cell\n",
      "CD95 memory B cell\n",
      "Transitional B cell\n",
      "Core memory B cell\n",
      "Activated memory B cell\n",
      "CD27- effector B cell\n",
      "ISG+ naive B cell\n",
      "CD27+ effector B cell\n",
      "Core naive B cell\n",
      "Early memory B cell\n",
      "Type 2 polarized memory B cell\n",
      "GZMK+ Vd2 gdT\n",
      "CD8aa\n",
      "GZMK- CD27+ EM CD8 T cell\n",
      "KLRF1+ GZMB+ CD27- EM CD8 T cell\n",
      "Memory CD8 Treg\n",
      "CD4 MAIT\n",
      "SOX4+ Vd1 gdT\n",
      "KLRB1+ memory CD8 Treg\n",
      "GZMB+ Vd2 gdT\n",
      "GZMB- CD27+ EM CD4 T cell\n",
      "GZMK+ memory CD4 Treg\n",
      "KLRB1+ memory CD4 Treg\n",
      "CM CD4 T cell\n",
      "GZMK+ CD27+ EM CD8 T cell\n",
      "Core naive CD8 T cell\n",
      "SOX4+ naive CD4 T cell\n",
      "KLRF1+ effector Vd1 gdT\n",
      "ISG+ naive CD8 T cell\n",
      "CD8 MAIT\n",
      "CM CD8 T cell\n",
      "ISG+ naive CD4 T cell\n",
      "Proliferating T cell\n",
      "SOX4+ naive CD8 T cell\n",
      "Core naive CD4 T cell\n",
      "ISG+ memory CD8 T cell\n",
      "Naive Vd1 gdT\n",
      "KLRF1- GZMB+ CD27- EM CD8 T cell\n",
      "Naive CD4 Treg\n",
      "GZMB- CD27- EM CD4 T cell\n",
      "ISG+ memory CD4 T cell\n",
      "ISG+ MAIT\n",
      "Memory CD4 Treg\n",
      "DN T cell\n",
      "HLA-DRhi cDC2\n",
      "CD14+ cDC2\n",
      "ISG+ CD16 monocyte\n",
      "Intermediate monocyte\n",
      "C1Q+ CD16 monocyte\n",
      "Core CD14 monocyte\n",
      "IL1B+ CD14 monocyte\n",
      "ISG+ CD14 monocyte\n",
      "Core CD16 monocyte\n",
      "Platelet\n",
      "pDC\n",
      "BaEoMaP cell\n",
      "ILC\n",
      "ASDC\n",
      "KLRF1- GZMB+ CD27- memory CD4 T cell\n",
      "ISG+ cDC2\n",
      "Plasma cell\n",
      "CLP cell\n",
      "CMP cell\n",
      "cDC1\n",
      "KLRF1- effector Vd1 gdT\n",
      "Erythrocyte\n"
     ]
    }
   ],
   "source": [
    "fitlered_gene=pd.DataFrame()\n",
    "for i in adata.obs['celltypist_l3'].unique():\n",
    "    print(i)\n",
    "    adata_subset=adata[adata.obs['celltypist_l3']==i]\n",
    "    sc.pp.filter_genes(adata_subset, min_cells=round(np.shape(adata_subset.X)[0]*0.1))\n",
    "    gene_list=pd.DataFrame(list(adata_subset.var.index))\n",
    "    gene_list.columns=['gene']\n",
    "    gene_list['AIFI_L3']=i\n",
    "    fitlered_gene=pd.concat([fitlered_gene,gene_list])"
   ]
  },
  {
   "cell_type": "code",
   "execution_count": 27,
   "id": "b4c95c18-d584-49b9-b7d1-d94f2549e635",
   "metadata": {},
   "outputs": [],
   "source": [
    "fitlered_gene.to_csv(\"fitlered_gene_SF4.csv\")"
   ]
  },
  {
   "cell_type": "markdown",
   "id": "fbb37c93-f065-4594-a9f9-52a5e38563c3",
   "metadata": {},
   "source": [
    "# Get Counts"
   ]
  },
  {
   "cell_type": "code",
   "execution_count": 6,
   "id": "987b1c49-5236-4895-a535-40959b1c5de6",
   "metadata": {},
   "outputs": [],
   "source": [
    "file_names= ['/home/jupyter/BRI_Figures/Dataset/scRNA/SF4/h5ad/'+x+\".h5ad\" for x in meta_data['pbmc_sample_id'].tolist()]"
   ]
  },
  {
   "cell_type": "code",
   "execution_count": 10,
   "id": "4f85e68f-7612-44a0-bd89-5ed5fe09f2af",
   "metadata": {},
   "outputs": [],
   "source": [
    "def get_counts(sample_id):\n",
    "    adata = sc.read_h5ad('/home/jupyter/BRI_Figures/Dataset/scRNA/SF4/h5ad/'+sample_id+\".h5ad\", backed='r')\n",
    "    counts_df = pd.DataFrame(adata.obs[\"celltypist_l3\"].value_counts()).reset_index()\n",
    "    counts_df['pbmc_sample_id'] = sample_id\n",
    "    return counts_df"
   ]
  },
  {
   "cell_type": "code",
   "execution_count": 11,
   "id": "8fa5dd9a-0566-4031-b9c9-6a3df2b039eb",
   "metadata": {},
   "outputs": [
    {
     "name": "stderr",
     "output_type": "stream",
     "text": [
      "100% 235/235 [00:00<00:00, 378.95it/s]\n"
     ]
    }
   ],
   "source": [
    "with concurrent.futures.ProcessPoolExecutor(max_workers=60) as executor:\n",
    "    results = list(tqdm(executor.map(get_counts, meta_data['pbmc_sample_id']), total=len(meta_data['pbmc_sample_id'])))"
   ]
  },
  {
   "cell_type": "code",
   "execution_count": 12,
   "id": "5e33d6c0-0916-401c-a26d-4ffc27955590",
   "metadata": {},
   "outputs": [],
   "source": [
    "final_df = pd.concat(results, ignore_index=True)\n",
    "final_df.to_csv(\"SF4_AIFI_L3_Counts.csv\")"
   ]
  },
  {
   "cell_type": "code",
   "execution_count": null,
   "id": "e1e64fac-f2f9-42ad-b70f-56b617ca5c32",
   "metadata": {},
   "outputs": [],
   "source": []
  }
 ],
 "metadata": {
  "kernelspec": {
   "display_name": "Python [conda env:root] *",
   "language": "python",
   "name": "conda-root-py"
  },
  "language_info": {
   "codemirror_mode": {
    "name": "ipython",
    "version": 3
   },
   "file_extension": ".py",
   "mimetype": "text/x-python",
   "name": "python",
   "nbconvert_exporter": "python",
   "pygments_lexer": "ipython3",
   "version": "3.10.13"
  }
 },
 "nbformat": 4,
 "nbformat_minor": 5
}
