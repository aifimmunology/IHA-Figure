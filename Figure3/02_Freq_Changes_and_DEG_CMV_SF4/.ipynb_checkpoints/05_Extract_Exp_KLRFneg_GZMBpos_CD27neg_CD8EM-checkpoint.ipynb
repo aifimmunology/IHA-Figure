{
 "cells": [
  {
   "cell_type": "code",
   "execution_count": 127,
   "id": "f3d66384-8494-45b4-a580-97c5a4602a7e",
   "metadata": {},
   "outputs": [],
   "source": [
    "suppressPackageStartupMessages(library(dplyr))\n",
    "suppressPackageStartupMessages(library(tidyr))\n",
    "suppressPackageStartupMessages(library(tibble))\n",
    "suppressPackageStartupMessages(library(stringr))\n",
    "library(parallel)\n",
    "library(pheatmap)\n",
    "library(RColorBrewer)\n",
    "library(viridis)\n",
    "source('/home/jupyter/BRI_Figures_Final_V1/helper_function/helper_function_IHA.r')"
   ]
  },
  {
   "cell_type": "code",
   "execution_count": 128,
   "id": "403ceb98-f929-417f-97ae-3559e0d5de9e",
   "metadata": {},
   "outputs": [],
   "source": [
    "df_BR1 <- read.csv(\"Deseq2_Result_BR1_CMVpos_vs_CMVneg.csv\")\n",
    "df_BR2 <- read.csv(\"Deseq2_Result_BR2_CMVpos_vs_CMVneg.csv\")\n",
    "\n",
    "df_BR1_filtered <- df_BR1 %>% filter(abs(log2FoldChange) > 0.1, padj < 0.05,celltype=='Adaptive NK cell')\n",
    "df_BR2_filtered <- df_BR2 %>% filter(abs(log2FoldChange) > 0.1, padj < 0.05,celltype=='Adaptive NK cell')\n"
   ]
  },
  {
   "cell_type": "code",
   "execution_count": 129,
   "id": "27efbd32-f8a1-4537-94c6-6aff68520c35",
   "metadata": {},
   "outputs": [],
   "source": [
    "write.csv(df_BR1_filtered,'test.csv')"
   ]
  },
  {
   "cell_type": "code",
   "execution_count": 130,
   "id": "20add39c-4d72-452d-9bf6-37e9c9d73e74",
   "metadata": {},
   "outputs": [],
   "source": [
    "df_BR1_filtered<-df_BR1_filtered %>% \n",
    "  group_by(Direction) %>% \n",
    "  top_n(5, wt = abs(log2FoldChange)*-log10(padj))"
   ]
  },
  {
   "cell_type": "code",
   "execution_count": 131,
   "id": "49c53c4d-bfb7-4a1d-93f9-202d86923f62",
   "metadata": {},
   "outputs": [],
   "source": [
    "df_BR2_filtered<-df_BR2_filtered %>% \n",
    "  group_by(Direction) %>% \n",
    "  top_n(5, wt = abs(log2FoldChange)*-log10(padj))"
   ]
  },
  {
   "cell_type": "code",
   "execution_count": 132,
   "id": "964d94e2-c88d-4f23-9c96-5cde7938c7a9",
   "metadata": {},
   "outputs": [],
   "source": [
    "meta_data=read.csv(\"/home/jupyter/BRI_Figures_Final_V1/Dataset/scRNA_meta_data-2024-05-09.csv\")"
   ]
  },
  {
   "cell_type": "code",
   "execution_count": 133,
   "id": "12ccf2d2-90d0-4fe8-9b55-30ff59afa6ce",
   "metadata": {},
   "outputs": [
    {
     "name": "stdout",
     "output_type": "stream",
     "text": [
      "[1] \"Total reading time: 6.37800000000061 seconds\"\n",
      "[1] \"The length of the list matches the length of the input path.\"\n"
     ]
    }
   ],
   "source": [
    "meta_data_subset=meta_data %>% filter(sample.visitName==\"Flu Year 1 Day 0\")\n",
    "file_list<-paste0(\"/home/jupyter/BRI_Figures_Final_V1/Dataset/scRNA/BRI/Average_LogNormalized_Expression/Average_LogNormalized_Expression_of_Celltypes_by_Sample_AIFI_L3/\",meta_data_subset$pbmc_sample_id,\".csv\")\n",
    "\n",
    "df_list<-read_pseudobulk_expression(file_list)"
   ]
  },
  {
   "cell_type": "code",
   "execution_count": 134,
   "id": "b31e06fd-277a-4a9e-ba10-72f9d5e1ec2f",
   "metadata": {},
   "outputs": [],
   "source": [
    "  \n",
    "celltype_list <- lapply(df_list, function(df) { df <- df[unique(c(df_BR2_filtered$gene,c(df_BR1_filtered$gene))), grep('Adaptive NK cell', names(df), fixed = TRUE),drop=FALSE] })\n"
   ]
  },
  {
   "cell_type": "code",
   "execution_count": 135,
   "id": "d5a6d26b-8c29-4eb9-b289-e63f22724b70",
   "metadata": {},
   "outputs": [],
   "source": [
    "exp_matrix<-do.call(cbind,celltype_list)\n",
    "\n",
    "colnames(exp_matrix)<-sub(\":.*\", \"\", colnames(exp_matrix))\n",
    "rownames(meta_data_subset)<-meta_data_subset$pbmc_sample_id"
   ]
  },
  {
   "cell_type": "code",
   "execution_count": 136,
   "id": "11aaa8de-6d62-4a55-8770-ac8a01792af3",
   "metadata": {},
   "outputs": [],
   "source": [
    "write.csv(exp_matrix,\"exp_matrix_adaptive_nk.csv\")"
   ]
  },
  {
   "cell_type": "code",
   "execution_count": 137,
   "id": "6c538ec1-da67-4d1a-98a3-8de88f44cba4",
   "metadata": {},
   "outputs": [],
   "source": [
    "# Get unique values from both vectors\n",
    "unique_values <- union(df_BR1_filtered$gene, df_BR2_filtered$gene)\n",
    "\n",
    "# Create a vector to store overlap information\n",
    "overlap_info <- sapply(unique_values, function(value) {\n",
    "  if (value %in% df_BR1_filtered$gene && value %in% df_BR2_filtered$gene) {\n",
    "    return(\"Overlap\")\n",
    "  } else if (value %in% df_BR1_filtered$gene) {\n",
    "    return(\"Only in Young\")\n",
    "  } else {\n",
    "    return(\"Only in Older\")\n",
    "  }\n",
    "})\n"
   ]
  },
  {
   "cell_type": "code",
   "execution_count": 138,
   "id": "b533402d-1bb9-4792-9cc0-621a50589ba8",
   "metadata": {},
   "outputs": [],
   "source": [
    "df <- data.frame(Unique_Values = unique_values, Overlap_Info = overlap_info, stringsAsFactors = FALSE)"
   ]
  },
  {
   "cell_type": "code",
   "execution_count": 141,
   "id": "68d40c4e-e5c6-41d6-b2b1-ad9a70d24bb3",
   "metadata": {},
   "outputs": [],
   "source": [
    "write.csv(df,\"gene_overlaps.csv\")"
   ]
  },
  {
   "cell_type": "code",
   "execution_count": null,
   "id": "872ac1eb-6f7b-4ab8-8d8f-42dc6a0c8d4b",
   "metadata": {},
   "outputs": [],
   "source": []
  }
 ],
 "metadata": {
  "kernelspec": {
   "display_name": "R 4",
   "language": "R",
   "name": "ir4"
  },
  "language_info": {
   "codemirror_mode": "r",
   "file_extension": ".r",
   "mimetype": "text/x-r-source",
   "name": "R",
   "pygments_lexer": "r",
   "version": "4.3.2"
  }
 },
 "nbformat": 4,
 "nbformat_minor": 5
}
