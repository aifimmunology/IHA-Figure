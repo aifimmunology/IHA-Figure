{
 "cells": [
  {
   "cell_type": "code",
   "execution_count": 1,
   "id": "178c86c8-4795-45fd-826f-b9d065c99fa2",
   "metadata": {},
   "outputs": [
    {
     "name": "stderr",
     "output_type": "stream",
     "text": [
      "Warning message:\n",
      "“package ‘plyr’ was built under R version 4.3.3”\n",
      "Warning message:\n",
      "“package ‘dplyr’ was built under R version 4.3.3”\n",
      "Warning message:\n",
      "“package ‘tidyr’ was built under R version 4.3.3”\n",
      "Warning message:\n",
      "“package ‘tibble’ was built under R version 4.3.3”\n",
      "Warning message:\n",
      "“package ‘reshape2’ was built under R version 4.3.3”\n",
      "\n",
      "Attaching package: ‘reshape2’\n",
      "\n",
      "\n",
      "The following object is masked from ‘package:tidyr’:\n",
      "\n",
      "    smiths\n",
      "\n",
      "\n",
      "Warning message:\n",
      "“package ‘patchwork’ was built under R version 4.3.3”\n",
      "\n",
      "Attaching package: ‘ggpubr’\n",
      "\n",
      "\n",
      "The following object is masked from ‘package:plyr’:\n",
      "\n",
      "    mutate\n",
      "\n",
      "\n",
      "Warning message:\n",
      "“package ‘rstatix’ was built under R version 4.3.3”\n",
      "\n",
      "Attaching package: ‘rstatix’\n",
      "\n",
      "\n",
      "The following objects are masked from ‘package:plyr’:\n",
      "\n",
      "    desc, mutate\n",
      "\n",
      "\n",
      "The following object is masked from ‘package:stats’:\n",
      "\n",
      "    filter\n",
      "\n",
      "\n"
     ]
    }
   ],
   "source": [
    "suppressPackageStartupMessages(library(plyr))\n",
    "suppressPackageStartupMessages(library(dplyr))\n",
    "suppressPackageStartupMessages(library(tidyr))\n",
    "suppressPackageStartupMessages(library(tibble))\n",
    "library(parallel)\n",
    "library(reshape2)\n",
    "library(ggplot2)\n",
    "library(patchwork)\n",
    "library(ggpubr)\n",
    "library(rstatix)\n",
    "source('../../helper_function/helper_function_IHA.r')"
   ]
  },
  {
   "cell_type": "code",
   "execution_count": 3,
   "id": "30900f8f-e587-49e9-aa3f-e363afa351ff",
   "metadata": {},
   "outputs": [],
   "source": [
    "meta_data=read.csv(\"../../Dataset/SF4_meta_data-2024-05-05.csv\")\n",
    "meta_data$ageAtEnrollment[meta_data$ageAtEnrollment == '89+'] <- '90'\n",
    "meta_data$ageAtEnrollment<-as.numeric(meta_data$ageAtEnrollment)\n",
    "meta_data<-meta_data[!is.na(meta_data$ageAtEnrollment),]\n",
    "meta_data$Ages<-meta_data$ageAtEnrollment\n",
    "#meta_data <- meta_data[!duplicated(meta_data$sample.sampleKitGuid, fromLast = TRUE), ]"
   ]
  },
  {
   "cell_type": "code",
   "execution_count": 4,
   "id": "73db1b99-44a1-49cb-9b68-5f37054feb1a",
   "metadata": {},
   "outputs": [
    {
     "data": {
      "text/plain": [
       "\n",
       "Negative Positive \n",
       "      98      136 "
      ]
     },
     "metadata": {},
     "output_type": "display_data"
    }
   ],
   "source": [
    "table(meta_data$lab.revisionHistory.dataHistory.CMV.Ab.Screen.Result..CMVRES..newValue)"
   ]
  },
  {
   "cell_type": "code",
   "execution_count": 5,
   "id": "c986846e-aac6-4292-82fa-a6fcb82d9c98",
   "metadata": {},
   "outputs": [],
   "source": [
    "count_data<-read.csv(\"SF4_AIFI_L3_Counts.csv\")"
   ]
  },
  {
   "cell_type": "code",
   "execution_count": 5,
   "id": "b4f488a5-fa2c-4f33-b825-aef60f3bc653",
   "metadata": {},
   "outputs": [
    {
     "data": {
      "text/html": [
       "<table class=\"dataframe\">\n",
       "<caption>A data.frame: 6 × 6</caption>\n",
       "<thead>\n",
       "\t<tr><th></th><th scope=col>X</th><th scope=col>celltypist_l3</th><th scope=col>count</th><th scope=col>pbmc_sample_id</th><th scope=col>percentage</th><th scope=col>percentage_clr</th></tr>\n",
       "\t<tr><th></th><th scope=col>&lt;int&gt;</th><th scope=col>&lt;chr&gt;</th><th scope=col>&lt;int&gt;</th><th scope=col>&lt;chr&gt;</th><th scope=col>&lt;dbl&gt;</th><th scope=col>&lt;dbl&gt;</th></tr>\n",
       "</thead>\n",
       "<tbody>\n",
       "\t<tr><th scope=row>1</th><td>0</td><td>GZMK- CD56dim NK cell    </td><td>2696</td><td>PB03173-001</td><td>11.288837</td><td>3.787325</td></tr>\n",
       "\t<tr><th scope=row>2</th><td>1</td><td>Core naive B cell        </td><td>2351</td><td>PB03173-001</td><td> 9.844234</td><td>3.650396</td></tr>\n",
       "\t<tr><th scope=row>3</th><td>2</td><td>CM CD4 T cell            </td><td>2341</td><td>PB03173-001</td><td> 9.802362</td><td>3.646134</td></tr>\n",
       "\t<tr><th scope=row>4</th><td>3</td><td>GZMB- CD27+ EM CD4 T cell</td><td>2202</td><td>PB03173-001</td><td> 9.220333</td><td>3.584922</td></tr>\n",
       "\t<tr><th scope=row>5</th><td>4</td><td>GZMB- CD27- EM CD4 T cell</td><td>2030</td><td>PB03173-001</td><td> 8.500126</td><td>3.503591</td></tr>\n",
       "\t<tr><th scope=row>6</th><td>5</td><td>GZMK+ Vd2 gdT            </td><td>1401</td><td>PB03173-001</td><td> 5.866343</td><td>3.132742</td></tr>\n",
       "</tbody>\n",
       "</table>\n"
      ],
      "text/latex": [
       "A data.frame: 6 × 6\n",
       "\\begin{tabular}{r|llllll}\n",
       "  & X & celltypist\\_l3 & count & pbmc\\_sample\\_id & percentage & percentage\\_clr\\\\\n",
       "  & <int> & <chr> & <int> & <chr> & <dbl> & <dbl>\\\\\n",
       "\\hline\n",
       "\t1 & 0 & GZMK- CD56dim NK cell     & 2696 & PB03173-001 & 11.288837 & 3.787325\\\\\n",
       "\t2 & 1 & Core naive B cell         & 2351 & PB03173-001 &  9.844234 & 3.650396\\\\\n",
       "\t3 & 2 & CM CD4 T cell             & 2341 & PB03173-001 &  9.802362 & 3.646134\\\\\n",
       "\t4 & 3 & GZMB- CD27+ EM CD4 T cell & 2202 & PB03173-001 &  9.220333 & 3.584922\\\\\n",
       "\t5 & 4 & GZMB- CD27- EM CD4 T cell & 2030 & PB03173-001 &  8.500126 & 3.503591\\\\\n",
       "\t6 & 5 & GZMK+ Vd2 gdT             & 1401 & PB03173-001 &  5.866343 & 3.132742\\\\\n",
       "\\end{tabular}\n"
      ],
      "text/markdown": [
       "\n",
       "A data.frame: 6 × 6\n",
       "\n",
       "| <!--/--> | X &lt;int&gt; | celltypist_l3 &lt;chr&gt; | count &lt;int&gt; | pbmc_sample_id &lt;chr&gt; | percentage &lt;dbl&gt; | percentage_clr &lt;dbl&gt; |\n",
       "|---|---|---|---|---|---|---|\n",
       "| 1 | 0 | GZMK- CD56dim NK cell     | 2696 | PB03173-001 | 11.288837 | 3.787325 |\n",
       "| 2 | 1 | Core naive B cell         | 2351 | PB03173-001 |  9.844234 | 3.650396 |\n",
       "| 3 | 2 | CM CD4 T cell             | 2341 | PB03173-001 |  9.802362 | 3.646134 |\n",
       "| 4 | 3 | GZMB- CD27+ EM CD4 T cell | 2202 | PB03173-001 |  9.220333 | 3.584922 |\n",
       "| 5 | 4 | GZMB- CD27- EM CD4 T cell | 2030 | PB03173-001 |  8.500126 | 3.503591 |\n",
       "| 6 | 5 | GZMK+ Vd2 gdT             | 1401 | PB03173-001 |  5.866343 | 3.132742 |\n",
       "\n"
      ],
      "text/plain": [
       "  X celltypist_l3             count pbmc_sample_id percentage percentage_clr\n",
       "1 0 GZMK- CD56dim NK cell     2696  PB03173-001    11.288837  3.787325      \n",
       "2 1 Core naive B cell         2351  PB03173-001     9.844234  3.650396      \n",
       "3 2 CM CD4 T cell             2341  PB03173-001     9.802362  3.646134      \n",
       "4 3 GZMB- CD27+ EM CD4 T cell 2202  PB03173-001     9.220333  3.584922      \n",
       "5 4 GZMB- CD27- EM CD4 T cell 2030  PB03173-001     8.500126  3.503591      \n",
       "6 5 GZMK+ Vd2 gdT             1401  PB03173-001     5.866343  3.132742      "
      ]
     },
     "metadata": {},
     "output_type": "display_data"
    }
   ],
   "source": [
    "count_data <- count_data %>%\n",
    "  dplyr::group_by(pbmc_sample_id) %>%                       \n",
    "  dplyr::mutate(percentage = (count / sum(count)) * 100) %>% \n",
    "  dplyr::group_by(pbmc_sample_id) %>%     \n",
    "  dplyr::mutate(percentage_clr = clr_transform((percentage))) %>% \n",
    "  dplyr::ungroup() %>% as.data.frame(.)\n",
    "\n",
    "head(count_data)"
   ]
  },
  {
   "cell_type": "code",
   "execution_count": 6,
   "id": "36d50408-120f-4d2b-a5f9-3c6caa31e174",
   "metadata": {},
   "outputs": [],
   "source": [
    "meta_data<-meta_data %>% filter(lab.revisionHistory.dataHistory.CMV.Ab.Screen.Result..CMVRES..newValue%in% c(\"Negative\",'Positive'))"
   ]
  },
  {
   "cell_type": "code",
   "execution_count": 7,
   "id": "bd8aafbb-6694-45c1-ab0a-374a790ae9c7",
   "metadata": {},
   "outputs": [],
   "source": [
    "meta_data$CMV<-meta_data$lab.revisionHistory.dataHistory.CMV.Ab.Screen.Result..CMVRES..newValue"
   ]
  },
  {
   "cell_type": "code",
   "execution_count": 8,
   "id": "601b82fd-4482-429e-a55b-bd30234e1acf",
   "metadata": {},
   "outputs": [],
   "source": [
    "count_data<-count_data %>% filter(pbmc_sample_id %in% meta_data$pbmc_sample_id)"
   ]
  },
  {
   "cell_type": "code",
   "execution_count": 9,
   "id": "c242e81d-7fea-4b90-bd9d-43898030f7f3",
   "metadata": {},
   "outputs": [],
   "source": [
    "count_data<-left_join(count_data,meta_data,by=c(\"pbmc_sample_id\"))"
   ]
  },
  {
   "cell_type": "code",
   "execution_count": 10,
   "id": "1cabd736-2e4e-4098-9660-cbf1e255d3ca",
   "metadata": {},
   "outputs": [],
   "source": [
    "count_data<-count_data %>% group_by(sample.sampleKitGuid) %>%\n",
    "  dplyr::mutate(percentage = (count / sum(count)) * 100) %>% \n",
    "  ungroup()%>% \n",
    "  group_by(sample.sampleKitGuid) %>%     \n",
    "  dplyr::mutate(AIFI_L3_clr = clr_transform((percentage))) %>%\n",
    "  dplyr::ungroup()"
   ]
  },
  {
   "cell_type": "code",
   "execution_count": 11,
   "id": "16b176a9-4421-4f73-bec5-643c1889bd31",
   "metadata": {
    "collapsed": true,
    "jupyter": {
     "outputs_hidden": true
    }
   },
   "outputs": [
    {
     "name": "stderr",
     "output_type": "stream",
     "text": [
      "\u001b[1m\u001b[22m`summarise()` has grouped output by 'celltypist_l3'. You can override using the\n",
      "`.groups` argument.\n",
      "Warning message:\n",
      "“\u001b[1m\u001b[22mThere were 7 warnings in `mutate()`.\n",
      "The first warning was:\n",
      "\u001b[1m\u001b[22m\u001b[36mℹ\u001b[39m In argument: `log2fc = log2(Positive/Negative)`.\n",
      "\u001b[36mℹ\u001b[39m In group 3: `celltypist_l3 = \"Adaptive NK cell\"`.\n",
      "Caused by warning:\n",
      "\u001b[33m!\u001b[39m NaNs produced\n",
      "\u001b[1m\u001b[22m\u001b[36mℹ\u001b[39m Run `dplyr::last_dplyr_warnings()` to see the 6 remaining warnings.”\n"
     ]
    }
   ],
   "source": [
    "log2fc<-count_data %>%\n",
    "  select(percentage,AIFI_L3_clr, celltypist_l3, cohort.cohortGuid, subject.biologicalSex, CMV) %>%\n",
    "  group_by(celltypist_l3, CMV) %>%\n",
    "  summarise(mean_AIFI_L3_clr = median(AIFI_L3_clr, na.rm = TRUE)) %>%\n",
    "  spread(CMV, mean_AIFI_L3_clr) %>%\n",
    "  mutate(log2fc = log2(`Positive` / `Negative`)) %>%\n",
    "  mutate(delta_change = `Positive` - `Negative`) "
   ]
  },
  {
   "cell_type": "code",
   "execution_count": 12,
   "id": "ef7cce18-4384-4c50-8b4c-6b19d37b588c",
   "metadata": {},
   "outputs": [],
   "source": [
    "STAT<-count_data %>%\n",
    "  select(AIFI_L3_clr,celltypist_l3, cohort.cohortGuid,subject.biologicalSex,CMV) %>%\n",
    "  group_by(celltypist_l3)  %>%\n",
    "  wilcox_test(AIFI_L3_clr ~ CMV\n",
    "             ) %>%\n",
    "  adjust_pvalue(method='BH') %>%\n",
    "  add_significance() %>% as.data.frame()"
   ]
  },
  {
   "cell_type": "code",
   "execution_count": 13,
   "id": "44c0ffc2-87fa-4043-b0a2-57b58f928629",
   "metadata": {},
   "outputs": [
    {
     "name": "stderr",
     "output_type": "stream",
     "text": [
      "\u001b[1m\u001b[22mJoining with `by = join_by(celltypist_l3)`\n"
     ]
    }
   ],
   "source": [
    "STAT<-left_join(STAT,log2fc)"
   ]
  },
  {
   "cell_type": "code",
   "execution_count": 14,
   "id": "2eb4be08-635f-45bd-903e-3ca072386d37",
   "metadata": {},
   "outputs": [],
   "source": [
    "colnames(STAT)[1]<-\"AIFI_L3\""
   ]
  },
  {
   "cell_type": "code",
   "execution_count": null,
   "id": "6459c326-3ac1-4666-8375-ced32b2ed5ed",
   "metadata": {},
   "outputs": [],
   "source": []
  },
  {
   "cell_type": "markdown",
   "id": "0b6bb94f-63af-4855-8c2f-7ba68cbc8700",
   "metadata": {},
   "source": [
    "# Get DEG Number"
   ]
  },
  {
   "cell_type": "code",
   "execution_count": 15,
   "id": "c041cbaf-7fac-4150-a2be-cb69966689a3",
   "metadata": {},
   "outputs": [],
   "source": [
    "DEG_res<-read.csv(\"Deseq2_Result_SF4.csv\")"
   ]
  },
  {
   "cell_type": "code",
   "execution_count": 16,
   "id": "7473c218-1ee3-43af-8510-3805d0d14d10",
   "metadata": {},
   "outputs": [],
   "source": [
    "DEG_res_signi<-DEG_res %>% filter(padj<0.05,abs(log2FoldChange)>0.1)"
   ]
  },
  {
   "cell_type": "code",
   "execution_count": 17,
   "id": "2fb5eeb8-8760-4cab-a4c4-2f4c4791a19a",
   "metadata": {},
   "outputs": [],
   "source": [
    "DEG_counts<-as.data.frame(table(DEG_res_signi$contrast,DEG_res_signi$celltype))"
   ]
  },
  {
   "cell_type": "code",
   "execution_count": 18,
   "id": "c1972da4-5396-484c-9019-27d8d04d5649",
   "metadata": {},
   "outputs": [],
   "source": [
    "colnames(DEG_counts)<-c(\"factor\",\"AIFI_L3\",\"DEG_Counts\")"
   ]
  },
  {
   "cell_type": "code",
   "execution_count": null,
   "id": "3ce2165e-aeb5-443b-8099-f9129f79edee",
   "metadata": {},
   "outputs": [],
   "source": []
  },
  {
   "cell_type": "markdown",
   "id": "723da748-1b9d-4556-a15c-69f71e1b0fbc",
   "metadata": {},
   "source": [
    "# Combine STAT\n"
   ]
  },
  {
   "cell_type": "code",
   "execution_count": 19,
   "id": "b2eefd9c-5e3e-4ceb-a460-bc0f171afe49",
   "metadata": {},
   "outputs": [
    {
     "name": "stderr",
     "output_type": "stream",
     "text": [
      "\u001b[1m\u001b[22mJoining with `by = join_by(AIFI_L3)`\n"
     ]
    }
   ],
   "source": [
    "STAT<-left_join(STAT,DEG_counts )"
   ]
  },
  {
   "cell_type": "code",
   "execution_count": 20,
   "id": "d3fcc432-8868-4bb5-a9bc-a590508414f2",
   "metadata": {},
   "outputs": [],
   "source": [
    "STAT<-STAT%>%\n",
    "  mutate(adjP_degs_combined_value = if_else(DEG_Counts != 0,\n",
    "                                            -log10(p.adj)  * DEG_Counts * 0.1,\n",
    "                                            -log10(p.adj)  * 0.1))"
   ]
  },
  {
   "cell_type": "code",
   "execution_count": 21,
   "id": "aee42d2e-1abd-49c9-b18e-f3c6c9fc7f4d",
   "metadata": {},
   "outputs": [],
   "source": [
    "write.csv(STAT,\"DEG_counts_and_Frequency_Changes.csv\")"
   ]
  },
  {
   "cell_type": "code",
   "execution_count": null,
   "id": "84953058-b6c9-4d9e-9093-04c8e3c81510",
   "metadata": {},
   "outputs": [],
   "source": []
  }
 ],
 "metadata": {
  "kernelspec": {
   "display_name": "R_BRI_Figures",
   "language": "R",
   "name": "r_bri_figures"
  },
  "language_info": {
   "codemirror_mode": "r",
   "file_extension": ".r",
   "mimetype": "text/x-r-source",
   "name": "R",
   "pygments_lexer": "r",
   "version": "4.3.2"
  }
 },
 "nbformat": 4,
 "nbformat_minor": 5
}
