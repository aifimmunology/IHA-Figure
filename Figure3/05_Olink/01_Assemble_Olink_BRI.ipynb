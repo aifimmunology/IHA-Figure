{
 "cells": [
  {
   "cell_type": "code",
   "execution_count": 1,
   "id": "dd794d10-7e12-4399-be2b-59f18860dec6",
   "metadata": {
    "tags": []
   },
   "outputs": [],
   "source": [
    "suppressPackageStartupMessages(library(readxl))\n",
    "suppressPackageStartupMessages(library(dplyr))\n",
    "suppressPackageStartupMessages(library(tidyr))\n",
    "suppressPackageStartupMessages(library(tibble))\n",
    "suppressPackageStartupMessages(library(parallel))\n",
    "suppressPackageStartupMessages(library(plyr))\n",
    "suppressPackageStartupMessages(library(stringr))"
   ]
  },
  {
   "cell_type": "markdown",
   "id": "66d96a8b-de1e-403a-91c0-0740e1788992",
   "metadata": {},
   "source": [
    "# Assemble Data"
   ]
  },
  {
   "cell_type": "code",
   "execution_count": 2,
   "id": "e1cd6559-deae-44ef-891c-d1654029cbf5",
   "metadata": {
    "tags": []
   },
   "outputs": [],
   "source": [
    "uuid<-read.csv(\"/home//jupyter/BRI_Figures_Final_V1/Dataset/Olink_BRI_uuid.csv\")"
   ]
  },
  {
   "cell_type": "code",
   "execution_count": 3,
   "id": "3a8c17a8-93e3-421c-b519-c8f8761f085e",
   "metadata": {
    "tags": []
   },
   "outputs": [],
   "source": [
    "first_batch<-read_excel('/home//jupyter/BRI_Figures_Final_V1/Dataset/Olink/20201752_Skene_1820_NPX_2020-12-03.xlsx')"
   ]
  },
  {
   "cell_type": "code",
   "execution_count": 4,
   "id": "3aa14c89-7558-410c-89ce-c5a2520e754d",
   "metadata": {},
   "outputs": [],
   "source": [
    "csv_files <- list.files(path = '/home/jupyter/BRI_Figures_Final_V1/Dataset/Olink/',pattern = \"\\\\.csv$\")\n",
    "csv_data_list <- lapply(paste0('/home/jupyter/BRI_Figures_Final_V1/Dataset/Olink/',csv_files), read.csv)"
   ]
  },
  {
   "cell_type": "code",
   "execution_count": 5,
   "id": "a054c638-843f-4289-9a3f-129d5e07b581",
   "metadata": {},
   "outputs": [],
   "source": [
    "csv_data_list[[3]]$sample.sampleKitGuid<-csv_data_list[[3]]$SampleKitGuid\n",
    "csv_data_list[[4]]$sample.sampleKitGuid<-csv_data_list[[4]]$SampleKitGuid\n",
    "csv_data_list[[5]]$sample.sampleKitGuid<-csv_data_list[[5]]$SampleKitGuid"
   ]
  },
  {
   "cell_type": "code",
   "execution_count": 6,
   "id": "53d516f8-43ae-4f88-b9b8-4227f6b430fe",
   "metadata": {},
   "outputs": [],
   "source": [
    "csv_data_list[[1]]$batch<-\"Bridged_Batch_1\"\n",
    "csv_data_list[[2]]$batch<-\"Bridged_Batch_2\"\n",
    "csv_data_list[[3]]$batch<-\"Bridged_Batch_3\"\n",
    "csv_data_list[[4]]$batch<-\"Bridged_Batch_4\"\n",
    "csv_data_list[[5]]$batch<-\"Bridged_Batch_5\""
   ]
  },
  {
   "cell_type": "code",
   "execution_count": 7,
   "id": "1011370a-b08e-4928-a28d-b881dd59e7c8",
   "metadata": {
    "tags": []
   },
   "outputs": [],
   "source": [
    "first_batch$sample.sampleKitGuid<-paste0(\"KT\",str_sub(first_batch$SampleID,3,7))\n",
    "first_batch$NPX_bridged<-first_batch$NPX\n",
    "first_batch$batch<-\"First_Batch\""
   ]
  },
  {
   "cell_type": "code",
   "execution_count": 8,
   "id": "90b6d7b1-a22c-461e-b14c-62028eea28c3",
   "metadata": {},
   "outputs": [],
   "source": [
    "csv_data_list <- c(csv_data_list, list(first_batch))"
   ]
  },
  {
   "cell_type": "code",
   "execution_count": 9,
   "id": "2aabfcf5-5f34-4276-8b41-e1429484fc1c",
   "metadata": {
    "tags": []
   },
   "outputs": [],
   "source": [
    "all<-do.call(rbind.fill,csv_data_list)"
   ]
  },
  {
   "cell_type": "code",
   "execution_count": 10,
   "id": "be4d1e00-0d88-4b4a-90cc-127cd925c1a1",
   "metadata": {
    "tags": []
   },
   "outputs": [],
   "source": [
    "all<-all%>% filter(!(Panel%in% c('Cardiometabolic','Neurology','Oncology')&Assay %in% c('TNF',\"IL6\",\"CXCL8\")))"
   ]
  },
  {
   "cell_type": "code",
   "execution_count": 11,
   "id": "9f9da0b5-d715-4ba5-9f54-bbd8e7042ab9",
   "metadata": {
    "tags": []
   },
   "outputs": [],
   "source": [
    "Olink<-unique(all[c(\"sample.sampleKitGuid\",\"NPX_bridged\",\"Assay\",'batch')])"
   ]
  },
  {
   "cell_type": "code",
   "execution_count": 12,
   "id": "a341d4b6-38be-412f-b029-a62b46fe1f94",
   "metadata": {
    "tags": []
   },
   "outputs": [],
   "source": [
    "write.csv(Olink,'Olink_BRI.csv')"
   ]
  },
  {
   "cell_type": "code",
   "execution_count": null,
   "id": "f97fba6b-84ff-4cdc-ac0b-ffd7c1b889a8",
   "metadata": {},
   "outputs": [],
   "source": []
  }
 ],
 "metadata": {
  "kernelspec": {
   "display_name": "R 4",
   "language": "R",
   "name": "ir4"
  },
  "language_info": {
   "codemirror_mode": "r",
   "file_extension": ".r",
   "mimetype": "text/x-r-source",
   "name": "R",
   "pygments_lexer": "r",
   "version": "4.3.2"
  }
 },
 "nbformat": 4,
 "nbformat_minor": 5
}
