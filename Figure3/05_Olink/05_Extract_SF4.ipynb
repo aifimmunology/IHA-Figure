{
 "cells": [
  {
   "cell_type": "code",
   "execution_count": 37,
   "id": "23bfe269-ffb1-4cd6-a63c-dd8d521fad22",
   "metadata": {},
   "outputs": [],
   "source": [
    "suppressPackageStartupMessages(library(readxl))\n",
    "suppressPackageStartupMessages(library(dplyr))\n",
    "suppressPackageStartupMessages(library(tidyr))\n",
    "suppressPackageStartupMessages(library(tibble))\n",
    "suppressPackageStartupMessages(library(parallel))\n",
    "suppressPackageStartupMessages(library(plyr))\n",
    "suppressPackageStartupMessages(library(stringr))"
   ]
  },
  {
   "cell_type": "code",
   "execution_count": 38,
   "id": "21ec659f-38ff-4881-9260-382cfb2c8447",
   "metadata": {},
   "outputs": [],
   "source": [
    "meta_data=read.csv(\"/home/jupyter/BRI_Figures_Final_V1/Dataset/SF4_meta_data-2024-05-05.csv\")\n",
    "meta_data$ageAtEnrollment[meta_data$ageAtEnrollment == '89+'] <- '90'\n",
    "meta_data$ageAtEnrollment<-as.numeric(meta_data$ageAtEnrollment)\n",
    "meta_data<-meta_data[!is.na(meta_data$ageAtEnrollment),]\n",
    "meta_data$Ages<-meta_data$ageAtEnrollment\n",
    "meta_data <- meta_data[!duplicated(meta_data$sample.sampleKitGuid, fromLast = TRUE), ]"
   ]
  },
  {
   "cell_type": "code",
   "execution_count": 39,
   "id": "a6facf24-5af3-4d32-8554-652bf8e284bd",
   "metadata": {},
   "outputs": [],
   "source": [
    "Olink_df<-read.csv('Olink_SF4.csv')"
   ]
  },
  {
   "cell_type": "code",
   "execution_count": 40,
   "id": "47f10efb-05eb-4a93-8529-fa52a76c92cd",
   "metadata": {},
   "outputs": [],
   "source": [
    "protein_list<-c(\"GZMH\",'KLRD1')"
   ]
  },
  {
   "cell_type": "code",
   "execution_count": 41,
   "id": "cca894b1-0937-48fc-b0e5-c68c04b58c4c",
   "metadata": {},
   "outputs": [],
   "source": [
    "Olink_df_subset<-Olink_df %>% filter(Assay %in% protein_list) %>% filter(SampleKitGuid %in% unique(meta_data$sample.sampleKitGuid)) "
   ]
  },
  {
   "cell_type": "code",
   "execution_count": 42,
   "id": "13f39c4d-e1ca-43b3-a46b-55ad4137c630",
   "metadata": {},
   "outputs": [],
   "source": [
    "Olink_df_subset<-left_join(Olink_df_subset,meta_data,by=c(\"SampleKitGuid\"=\"sample.sampleKitGuid\"))"
   ]
  },
  {
   "cell_type": "code",
   "execution_count": 43,
   "id": "a3c69f81-3989-4054-8473-7f366330b38f",
   "metadata": {},
   "outputs": [],
   "source": [
    "write.csv(Olink_df_subset,\"GZMH_KLRD1_SF4_Olink.csv\")"
   ]
  },
  {
   "cell_type": "code",
   "execution_count": null,
   "id": "b1a9e268-3c2b-49db-bb36-878f11543717",
   "metadata": {},
   "outputs": [],
   "source": []
  }
 ],
 "metadata": {
  "kernelspec": {
   "display_name": "R 4",
   "language": "R",
   "name": "ir4"
  },
  "language_info": {
   "codemirror_mode": "r",
   "file_extension": ".r",
   "mimetype": "text/x-r-source",
   "name": "R",
   "pygments_lexer": "r",
   "version": "4.3.2"
  }
 },
 "nbformat": 4,
 "nbformat_minor": 5
}
