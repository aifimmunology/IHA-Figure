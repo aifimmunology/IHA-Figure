{
 "cells": [
  {
   "cell_type": "code",
   "execution_count": 1,
   "id": "23bfe269-ffb1-4cd6-a63c-dd8d521fad22",
   "metadata": {},
   "outputs": [],
   "source": [
    "suppressPackageStartupMessages(library(readxl))\n",
    "suppressPackageStartupMessages(library(dplyr))\n",
    "suppressPackageStartupMessages(library(tidyr))\n",
    "suppressPackageStartupMessages(library(tibble))\n",
    "suppressPackageStartupMessages(library(parallel))\n",
    "suppressPackageStartupMessages(library(plyr))\n",
    "suppressPackageStartupMessages(library(stringr))"
   ]
  },
  {
   "cell_type": "code",
   "execution_count": 7,
   "id": "21ec659f-38ff-4881-9260-382cfb2c8447",
   "metadata": {},
   "outputs": [],
   "source": [
    "meta_data=read.csv(\"/home/jupyter/BRI_Figures_Final_V1//Dataset/scRNA_meta_data-2024-05-09.csv\")"
   ]
  },
  {
   "cell_type": "code",
   "execution_count": 2,
   "id": "a6facf24-5af3-4d32-8554-652bf8e284bd",
   "metadata": {},
   "outputs": [],
   "source": [
    "Olink_df<-read.csv('Olink_BRI.csv')"
   ]
  },
  {
   "cell_type": "code",
   "execution_count": 3,
   "id": "47f10efb-05eb-4a93-8529-fa52a76c92cd",
   "metadata": {},
   "outputs": [],
   "source": [
    "protein_list<-c(\"GZMH\",\"FCRL6\",\"SERPINA9\",\"FCRL3\",\"KLRD1\",\n",
    "                \"LHB\",'MSR1','CD6','TNF','CD8A')"
   ]
  },
  {
   "cell_type": "code",
   "execution_count": 4,
   "id": "6e273890-f898-4b88-b85d-fad703694032",
   "metadata": {},
   "outputs": [],
   "source": [
    "donor<-\"BR1049\""
   ]
  },
  {
   "cell_type": "code",
   "execution_count": 10,
   "id": "13f39c4d-e1ca-43b3-a46b-55ad4137c630",
   "metadata": {},
   "outputs": [],
   "source": [
    "Olink_df<-left_join(Olink_df,meta_data,by=c(\"sample.sampleKitGuid\"))"
   ]
  },
  {
   "cell_type": "code",
   "execution_count": 15,
   "id": "0f09d85b-cf6e-48b5-9f38-897dd028a163",
   "metadata": {},
   "outputs": [],
   "source": [
    "Olink_df_subset<-Olink_df %>% filter(Assay %in% protein_list,subjectGuid==donor) %>% filter (!sample.visitName%in% c('Flu Year 1 Day 7',\n",
    "                                                              'Flu Year 2 Day 7'))%>% \n",
    "filter(Covid_exclusion=='no',sample.daysSinceFirstVisit<600)"
   ]
  },
  {
   "cell_type": "code",
   "execution_count": 17,
   "id": "a3c69f81-3989-4054-8473-7f366330b38f",
   "metadata": {},
   "outputs": [],
   "source": [
    "write.csv(Olink_df_subset,\"BR1049_10_Olink.csv\")"
   ]
  },
  {
   "cell_type": "code",
   "execution_count": null,
   "id": "8d068de3-a628-40b6-abdb-b7e03c28f2c4",
   "metadata": {},
   "outputs": [],
   "source": []
  }
 ],
 "metadata": {
  "kernelspec": {
   "display_name": "R 4",
   "language": "R",
   "name": "ir4"
  },
  "language_info": {
   "codemirror_mode": "r",
   "file_extension": ".r",
   "mimetype": "text/x-r-source",
   "name": "R",
   "pygments_lexer": "r",
   "version": "4.3.2"
  }
 },
 "nbformat": 4,
 "nbformat_minor": 5
}
