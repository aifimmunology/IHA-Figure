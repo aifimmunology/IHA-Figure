{
 "cells": [
  {
   "cell_type": "code",
   "execution_count": 1,
   "id": "3a875ca8-6633-4c32-a0da-82fceeab3d67",
   "metadata": {},
   "outputs": [
    {
     "name": "stdout",
     "output_type": "stream",
     "text": [
      "Current working directory: /home/jupyter/BRI_Figures_Final_V2/Figure3/02_UMAP\n"
     ]
    }
   ],
   "source": [
    "import pandas as pd \n",
    "import numpy as np \n",
    "import scanpy as sc\n",
    "import matplotlib.pyplot as plt\n",
    "import concurrent.futures\n",
    "import pickle\n",
    "import warnings\n",
    "from datetime import date\n",
    "import hisepy\n",
    "import os\n",
    "import shutil\n",
    "from concurrent.futures import ThreadPoolExecutor, as_completed,ProcessPoolExecutor\n",
    "from tqdm import tqdm\n",
    "import anndata\n",
    "import gc\n",
    "warnings.filterwarnings(\"ignore\")\n",
    "sc.settings.n_jobs = 60\n",
    "print(\"Current working directory:\", os.getcwd())"
   ]
  },
  {
   "cell_type": "code",
   "execution_count": 2,
   "id": "43aed236-27a2-45c3-8fca-510b804ba944",
   "metadata": {},
   "outputs": [],
   "source": [
    "meta_data_SF4 = pd.read_csv(\"/home/jupyter/BRI_Figures_Final_V2/Dataset/SF4_meta_data-2024-05-05.csv\")"
   ]
  },
  {
   "cell_type": "markdown",
   "id": "138286ed-bb2d-400f-ad54-5ca54405a6dc",
   "metadata": {},
   "source": [
    "# Read MetaData"
   ]
  },
  {
   "cell_type": "code",
   "execution_count": 3,
   "id": "31c53fcd-45b7-494a-8924-954f09cbc234",
   "metadata": {},
   "outputs": [],
   "source": [
    "meta_data_SF4 = pd.read_csv(\"/home/jupyter/BRI_Figures_Final_V2/Dataset/SF4_meta_data-2024-05-05.csv\")\n",
    "meta_data_SF4['ageAtEnrollment'] = meta_data_SF4['ageAtEnrollment'].replace('89+', '90')\n",
    "meta_data_SF4['ageAtEnrollment'] = pd.to_numeric(meta_data_SF4['ageAtEnrollment'], errors='coerce')\n",
    "meta_data_SF4 = meta_data_SF4.dropna(subset=['ageAtEnrollment'])\n",
    "meta_data_SF4['Ages'] = meta_data_SF4['ageAtEnrollment']\n",
    "meta_data_SF4 = meta_data_SF4.drop_duplicates(subset='sample.sampleKitGuid', keep='last')"
   ]
  },
  {
   "cell_type": "markdown",
   "id": "6cde623e-28ed-4e65-8359-1c05458ee314",
   "metadata": {},
   "source": [
    "# Assemble Year 1 Day 0"
   ]
  },
  {
   "cell_type": "code",
   "execution_count": 5,
   "id": "5d7f2fc7-de4f-4fbf-b87a-2c570eab82f0",
   "metadata": {},
   "outputs": [
    {
     "name": "stderr",
     "output_type": "stream",
     "text": [
      "100% 233/233 [09:32<00:00,  2.46s/it] "
     ]
    },
    {
     "name": "stdout",
     "output_type": "stream",
     "text": [
      "CPU times: user 33.9 s, sys: 1min 3s, total: 1min 37s\n",
      "Wall time: 9min 33s\n"
     ]
    },
    {
     "name": "stderr",
     "output_type": "stream",
     "text": [
      "\n"
     ]
    }
   ],
   "source": [
    "%%time\n",
    "file_names= ['/home/jupyter/BRI_Figures_Final_V2/Dataset/scRNA/SF4/h5ad/'+x+\".h5ad\" for x in meta_data_SF4['pbmc_sample_id'].tolist()]\n",
    "adata_list = []\n",
    "with ThreadPoolExecutor(max_workers=60) as executor:\n",
    "    future_to_file = {executor.submit(sc.read_h5ad, file_name): file_name for file_name in file_names}\n",
    "    for future in tqdm(as_completed(future_to_file), total=len(file_names)):\n",
    "        result = future.result()\n",
    "        if result is not None:\n",
    "            adata_list.append(result)"
   ]
  },
  {
   "cell_type": "code",
   "execution_count": 7,
   "id": "11d76630-2aa1-46b5-b774-d0a4ee64921f",
   "metadata": {},
   "outputs": [],
   "source": [
    "adata = anndata.concat(adata_list,join='outer')"
   ]
  },
  {
   "cell_type": "code",
   "execution_count": 8,
   "id": "22db80f7-69f5-43c6-88d9-45953f8d3ac2",
   "metadata": {},
   "outputs": [],
   "source": [
    "adata.write_h5ad('SF4_raw.h5ad')"
   ]
  },
  {
   "cell_type": "code",
   "execution_count": 4,
   "id": "d0a0248d-1dad-4db3-88bb-04b49b3e2350",
   "metadata": {},
   "outputs": [],
   "source": [
    "adata=sc.read_h5ad('SF4_raw.h5ad')"
   ]
  },
  {
   "cell_type": "code",
   "execution_count": 5,
   "id": "e1e64fac-f2f9-42ad-b70f-56b617ca5c32",
   "metadata": {},
   "outputs": [],
   "source": [
    "#adata.raw=adata\n",
    "sc.pp.normalize_total(adata, target_sum=1e4)\n",
    "sc.pp.log1p(adata)"
   ]
  },
  {
   "cell_type": "code",
   "execution_count": 6,
   "id": "6804c1ac-a31a-4f04-839b-40f8e7e5eab5",
   "metadata": {},
   "outputs": [],
   "source": [
    "igl_genes = [gene for gene in adata.var_names if gene.startswith(\"IGL\")]\n",
    "igk_genes = [gene for gene in adata.var_names if gene.startswith(\"IGK\")]\n",
    "ighc_genes = [gene for gene in adata.var_names if gene.startswith(\"IGH\")]\n",
    "exl_genes = igl_genes + igk_genes + ighc_genes\n",
    "\n",
    "mask = ~adata.var_names.isin(exl_genes)\n",
    "adata = adata[:, mask]"
   ]
  },
  {
   "cell_type": "code",
   "execution_count": null,
   "id": "8b4e26d6-691d-420f-9d73-6bb278419293",
   "metadata": {
    "tags": []
   },
   "outputs": [],
   "source": [
    "sc.pp.highly_variable_genes(adata)\n",
    "adata = adata[:, adata.var_names[adata.var['highly_variable']]]"
   ]
  },
  {
   "cell_type": "code",
   "execution_count": 10,
   "id": "c33fa7a4-13e3-4cea-9a08-211df25aa14e",
   "metadata": {
    "tags": []
   },
   "outputs": [
    {
     "name": "stdout",
     "output_type": "stream",
     "text": [
      "CPU times: user 2h 42min 30s, sys: 54min 33s, total: 3h 37min 4s\n",
      "Wall time: 24min 54s\n"
     ]
    }
   ],
   "source": [
    "%%time\n",
    "sc.pp.scale(adata)\n",
    "sc.tl.pca(adata, svd_solver='arpack')\n",
    "sc.pp.neighbors(adata, n_neighbors=50,use_rep='X_pca', n_pcs=30)"
   ]
  },
  {
   "cell_type": "code",
   "execution_count": null,
   "id": "b7f4d048-e981-4f8e-8c58-0e849070e080",
   "metadata": {
    "tags": []
   },
   "outputs": [
    {
     "data": {
      "application/vnd.jupyter.widget-view+json": {
       "model_id": "2f1a0978328648b5989507b625b2ef57",
       "version_major": 2,
       "version_minor": 0
      },
      "text/plain": [
       "  0%|          | 0/200 [00:00<?, ?it/s]"
      ]
     },
     "metadata": {},
     "output_type": "display_data"
    }
   ],
   "source": [
    "%%time\n",
    "sc.tl.umap(adata,min_dist=0.45,random_state=0)"
   ]
  },
  {
   "cell_type": "code",
   "execution_count": null,
   "id": "b375aa59-5271-44b6-92e1-8953a82a93c9",
   "metadata": {},
   "outputs": [],
   "source": [
    "adata.write_h5ad('SF4_LogNormalizaed_Scaled.h5ad')"
   ]
  }
 ],
 "metadata": {
  "kernelspec": {
   "display_name": "Python [conda env:root] *",
   "language": "python",
   "name": "conda-root-py"
  },
  "language_info": {
   "codemirror_mode": {
    "name": "ipython",
    "version": 3
   },
   "file_extension": ".py",
   "mimetype": "text/x-python",
   "name": "python",
   "nbconvert_exporter": "python",
   "pygments_lexer": "ipython3",
   "version": "3.10.13"
  }
 },
 "nbformat": 4,
 "nbformat_minor": 5
}
