{
 "cells": [
  {
   "cell_type": "code",
   "execution_count": 2,
   "id": "176c3038-5afa-42c7-ac33-40d3c8be28ac",
   "metadata": {},
   "outputs": [
    {
     "name": "stderr",
     "output_type": "stream",
     "text": [
      "\n",
      "Attaching package: ‘dplyr’\n",
      "\n",
      "\n",
      "The following objects are masked from ‘package:stats’:\n",
      "\n",
      "    filter, lag\n",
      "\n",
      "\n",
      "The following objects are masked from ‘package:base’:\n",
      "\n",
      "    intersect, setdiff, setequal, union\n",
      "\n",
      "\n"
     ]
    }
   ],
   "source": [
    "library(dplyr)\n",
    "library(tidyr)\n",
    "library(tibble)\n",
    "library(ggplot2)\n",
    "library(stringr)\n",
    "library(ggrepel)\n",
    "library(ggh4x)\n",
    "library(ggpubr)"
   ]
  },
  {
   "cell_type": "code",
   "execution_count": 3,
   "id": "40567452-0aef-4b8e-83c0-0a333291b08f",
   "metadata": {},
   "outputs": [],
   "source": [
    "df<-read.csv(\"05_Olink/GZMH_KLRD1_Y1D0_BRI_Olink.csv\")\n",
    "df <- df %>% dplyr::mutate(`Age Group` = case_when(\n",
    "  cohort.cohortGuid == \"BR1\" ~ \"Young\",\n",
    "  cohort.cohortGuid == \"BR2\" ~ \"Older\",\n",
    "  TRUE ~ NA_character_\n",
    "))\n",
    "df$`Age Group`<-factor(df$`Age Group`,levels=c(\"Young\",\"Older\"))\n"
   ]
  },
  {
   "cell_type": "code",
   "execution_count": 11,
   "id": "c9c6e8c5-b952-4af3-b72a-68bc96c1b52f",
   "metadata": {},
   "outputs": [
    {
     "data": {
      "image/png": "[encoded data removed]",
      "text/plain": [
       "plot without title"
      ]
     },
     "metadata": {
      "image/png": {
       "height": 82.6772,
       "width": 101.5748
      }
     },
     "output_type": "display_data"
    }
   ],
   "source": [
    "options(repr.plot.width = 43/25.4, repr.plot.height = 35/25.4)\n",
    "p<-ggplot(df %>% filter(Assay=='GZMH'), aes(x=CMV, y=NPX_bridged,fill=CMV\t)) +\n",
    "    geom_boxplot( outlier.shape = NA,lwd=0.25) +\n",
    "geom_point(position = position_jitter(width = 0.2), aes( color = `Age Group`), size=0.7,stroke=0) +\n",
    "theme_classic(base_size=6)+  \n",
    "stat_compare_means(aes(label = paste0(\"p=\", after_stat(p.format))),\n",
    "    size=2,\n",
    "                   vjust=-0.5,\n",
    "    label.x=1.25)+theme(strip.background = element_rect(linewidth = 0.5))+\n",
    "    scale_fill_manual(values = c(\"Positive\" = '#d6604d', \"Negative\" = '#4393c3'))+\n",
    "  scale_color_manual(values = c(\"Older\" = '#bf812d', \"Young\" = '#35978f')) +\n",
    "\n",
    "    scale_y_continuous(limits = c(NA, NA), \n",
    "                       expand = expansion(mult = c(0, 0.2)))+\n",
    "xlab('CMV')+\n",
    "ylab('NPX Value')+ theme(axis.text.x = element_text(angle = 90, hjust=1))+\n",
    "facet_wrap(~Assay,ncol=1 ) \n",
    "p\n",
    "ggsave('FigureJ.pdf',p,width = 43/25.4,height = 35/25.4)"
   ]
  },
  {
   "cell_type": "code",
   "execution_count": null,
   "id": "0dba2c5c-2b3e-4219-98f1-b72c3782e6fa",
   "metadata": {},
   "outputs": [],
   "source": []
  }
 ],
 "metadata": {
  "kernelspec": {
   "display_name": "R 4",
   "language": "R",
   "name": "ir4"
  },
  "language_info": {
   "codemirror_mode": "r",
   "file_extension": ".r",
   "mimetype": "text/x-r-source",
   "name": "R",
   "pygments_lexer": "r",
   "version": "4.3.2"
  }
 },
 "nbformat": 4,
 "nbformat_minor": 5
}
