{
 "cells": [
  {
   "cell_type": "code",
   "execution_count": 1,
   "id": "4ba4073a-1f8b-43e5-96a5-f6edb94fe8c9",
   "metadata": {},
   "outputs": [
    {
     "name": "stderr",
     "output_type": "stream",
     "text": [
      "Loading required package: viridisLite\n",
      "\n",
      "\n",
      "Attaching package: ‘scales’\n",
      "\n",
      "\n",
      "The following object is masked from ‘package:viridis’:\n",
      "\n",
      "    viridis_pal\n",
      "\n",
      "\n",
      "\n",
      "Attaching package: ‘purrr’\n",
      "\n",
      "\n",
      "The following object is masked from ‘package:scales’:\n",
      "\n",
      "    discard\n",
      "\n",
      "\n",
      "\n",
      "Attaching package: ‘igraph’\n",
      "\n",
      "\n",
      "The following objects are masked from ‘package:purrr’:\n",
      "\n",
      "    compose, simplify\n",
      "\n",
      "\n",
      "The following object is masked from ‘package:tibble’:\n",
      "\n",
      "    as_data_frame\n",
      "\n",
      "\n",
      "The following object is masked from ‘package:tidyr’:\n",
      "\n",
      "    crossing\n",
      "\n",
      "\n",
      "The following objects are masked from ‘package:dplyr’:\n",
      "\n",
      "    as_data_frame, groups, union\n",
      "\n",
      "\n",
      "The following objects are masked from ‘package:stats’:\n",
      "\n",
      "    decompose, spectrum\n",
      "\n",
      "\n",
      "The following object is masked from ‘package:base’:\n",
      "\n",
      "    union\n",
      "\n",
      "\n",
      "\n",
      "Attaching package: ‘rstatix’\n",
      "\n",
      "\n",
      "The following object is masked from ‘package:stats’:\n",
      "\n",
      "    filter\n",
      "\n",
      "\n",
      "corrplot 0.85 loaded\n",
      "\n",
      "Registered S3 method overwritten by 'GGally':\n",
      "  method from   \n",
      "  +.gg   ggplot2\n",
      "\n"
     ]
    }
   ],
   "source": [
    "suppressPackageStartupMessages(library(dplyr))\n",
    "suppressPackageStartupMessages(library(tidyr))\n",
    "suppressPackageStartupMessages(library(tibble))\n",
    "suppressPackageStartupMessages(library(stringr))\n",
    "library(viridis)\n",
    "library(scales)\n",
    "library(RColorBrewer)\n",
    "library(parallel)\n",
    "library(purrr)\n",
    "library(ggplot2)\n",
    "library(igraph)\n",
    "library(ggraph)\n",
    "library(colormap)\n",
    "library(rstatix)\n",
    "library(corrplot)\n",
    "library(GGally)\n",
    "options(warn=-1)\n",
    "\n",
    "mid_rescaler <- function(mid = 0) {\n",
    "  function(x, to = c(0, 1), from = range(x, na.rm = TRUE)) {\n",
    "    scales::rescale_mid(x, to, from, mid)\n",
    "  }\n",
    "}\n",
    "cor.mtest <- function(mat, conf.level = 0.95) {\n",
    "  mat <- as.matrix(mat)\n",
    "  n <- ncol(mat)\n",
    "  p.mat <- matrix(NA, n, n)\n",
    "  diag(p.mat) <- 0\n",
    "  for (i in 1:(n - 1)) {\n",
    "    for (j in (i + 1):n) {\n",
    "      tmp <- cor.test(mat[, i], mat[, j], \n",
    "                      method='spearman',\n",
    "                      conf.level = conf.level)\n",
    "      p.mat[i, j] <- p.mat[j, i] <- tmp$p.value\n",
    "    }\n",
    "  }\n",
    "  colnames(p.mat) <- rownames(p.mat) <- colnames(mat)\n",
    "  p.mat\n",
    "}"
   ]
  },
  {
   "cell_type": "code",
   "execution_count": null,
   "id": "e752ab42-4fd5-45af-8846-c0cf26a24a9f",
   "metadata": {},
   "outputs": [],
   "source": []
  },
  {
   "cell_type": "code",
   "execution_count": 2,
   "id": "171f559e-a630-4997-b475-3df888f4603e",
   "metadata": {},
   "outputs": [],
   "source": [
    "T_cell_data<-read.csv(\"01_Get_Metrics/BRI_Tcell_data_forcorrelation.csv\")\n",
    "T_cell_data<-T_cell_data[,-1]\n",
    "B_cell_data<-read.csv(\"01_Get_Metrics/BRI_Bcell_data_forcorrelation.csv\",check.names = FALSE)\n",
    "B_cell_data<-B_cell_data[,-1]\n"
   ]
  },
  {
   "cell_type": "code",
   "execution_count": 3,
   "id": "056a70bc-2326-4ca0-966c-3eb00c0c4a58",
   "metadata": {},
   "outputs": [],
   "source": [
    "new_colnames <- names(T_cell_data)\n",
    "new_colnames[2:length(new_colnames)] <- str_c(\"T_\", new_colnames[2:length(new_colnames)])\n",
    "names(T_cell_data) <- new_colnames\n",
    "\n",
    "new_colnames <- names(B_cell_data)\n",
    "new_colnames[2:length(new_colnames)] <- str_c(\"B_\", new_colnames[2:length(new_colnames)])\n",
    "names(B_cell_data) <- new_colnames"
   ]
  },
  {
   "cell_type": "code",
   "execution_count": 4,
   "id": "3db23199-e22d-4423-aa31-4fc104d47612",
   "metadata": {},
   "outputs": [
    {
     "name": "stderr",
     "output_type": "stream",
     "text": [
      "\u001b[1m\u001b[22mJoining with `by = join_by(subject.subjectGuid)`\n"
     ]
    }
   ],
   "source": [
    "combined_df<-left_join(T_cell_data,B_cell_data)"
   ]
  },
  {
   "cell_type": "code",
   "execution_count": 5,
   "id": "e6eefa8a-fae9-4c85-8d7f-3d391eb41633",
   "metadata": {},
   "outputs": [],
   "source": [
    "\n",
    "combined_df<-combined_df[ , -which(names(combined_df) %in% \n",
    "                                   c('B_CoreMemoryB_HALLMARK_MYC_TARGETS_V2','B_CoreMemoryB_Freq_Fold_Changes',\n",
    "                                     'B_CoreMemoryB_HALLMARK_ALLOGRAFT_REJECTION',\n",
    "                                     'B_CoreMemoryB_HALLMARK_MTORC1_SIGNALING',\n",
    "                                     #'B_MSD_phuket_fold_change',\n",
    "                                     'T_flow_Tfh_PD1pos_mean_diff',\n",
    "                                     'T_flow_Tfh_PD1neg_mean_diff'))]"
   ]
  },
  {
   "cell_type": "code",
   "execution_count": 6,
   "id": "0b4c09d7-7e45-4ebd-9001-55e8f9db73bd",
   "metadata": {},
   "outputs": [],
   "source": [
    "meta_data<-read.csv(\"/home/jupyter/BRI_Figures_Final_V2/Figure5/01_Frequency_Comparison/selected_samples_with_acutal_flu_year.csv\")"
   ]
  },
  {
   "cell_type": "code",
   "execution_count": 7,
   "id": "bf8f07e2-f780-4b9b-ada1-fc728bb7c2ce",
   "metadata": {},
   "outputs": [],
   "source": [
    "meta_data$Ages<-meta_data$subject.birthYear\n"
   ]
  },
  {
   "cell_type": "code",
   "execution_count": 8,
   "id": "f1950cb9-dc4c-4a75-8420-c57ca3ab5398",
   "metadata": {},
   "outputs": [
    {
     "name": "stderr",
     "output_type": "stream",
     "text": [
      "\u001b[1m\u001b[22mJoining with `by = join_by(subject.subjectGuid)`\n"
     ]
    }
   ],
   "source": [
    "combined_df<-left_join(combined_df,unique(meta_data[c('subject.subjectGuid','Ages')]))"
   ]
  },
  {
   "cell_type": "code",
   "execution_count": 9,
   "id": "bd7dbab5-f1c3-4ca8-b395-da12185ab919",
   "metadata": {},
   "outputs": [],
   "source": [
    "combined_df<-combined_df %>% filter(T_NMF_Th2<0.1)"
   ]
  },
  {
   "cell_type": "code",
   "execution_count": 10,
   "id": "7afbfb6f-25cf-4408-982b-d2dbcd61f95c",
   "metadata": {},
   "outputs": [],
   "source": [
    "replacements <- c(\"T_NMF_Th2\" = \"CM CD4 T-Th2 Score\",\n",
    "                  \"T_NMF_Tfh\" = \"CM CD4 T-Tfh Score\",\n",
    "                  \n",
    "                  \"Mock\" = \"Mock\",\n",
    "                  \n",
    "                  \"Ages\" = \"Biological Ages\",\n",
    "                  \"T_Down_composite_score_sum_scaled_mean\" = \"CM CD4 T-Age Composite Metric(Down)\",\n",
    "                  \"T_Up_composite_score_sum_scaled_mean\" = \"CM CD4 T-Age Composite Metric(Up)\",\n",
    "                  \n",
    "                  \"T_InteractionScore_CD40LG_CD40\" = \"CM CD4 T/Core memory B-CD40LG_CD40 Interaction Score\",\n",
    "                  \"T_InteractionScore_PTPRC_CD22\" = \"CM CD4 T/Core memory B-PTPRC_CD22 Interaction Score\",\n",
    "                  \"T_Mean_Expression_CD40LG\" = \"CM CD4 T-CD40LG Mean Expression\",\n",
    "                  \"T_Mean_Expression_CXCR5\" = \"CM CD4 T-CXCR5 Mean Expression\",\n",
    "                  \n",
    "                  \"B_CoreMemoryB_HALLMARK_TNFA_SIGNALING_VIA_NFKB\" = \"Core memory B-TNFA SIGNALING VIA NFKB Pathway Score\",\n",
    "                  \"B_CoreMemoryB_HALLMARK_PI3K_AKT_MTOR_SIGNALING\" = \"Core memory B-PI3K AKT MTOR SIGNALING Pathway Score\",\n",
    "                  \"B_CoreMemoryB_HALLMARK_MYC_TARGETS_V1\" = \"Core memory B-MYC TARGETS V1 Pathway Score\",\n",
    "                  \"B_HAI_phuket_day7\" = \"HAI Assay-Day 7 Inhibition\",\n",
    "                  \"B_HAI_fold_change\"= \"HAI Assay-Day 7/0 Fold Change\",\n",
    "                  \"B_Mean_Expression_CD19\" = \"CD27 effector B-CD19 Mean Expression\",\n",
    "                  \"B_Plasma_Freq_Fold_Changes\" = \"Plasma Cell-Day7/Day0 Frequency(CLR) Changes\"\n",
    "             \n",
    "                 )"
   ]
  },
  {
   "cell_type": "code",
   "execution_count": null,
   "id": "037c39aa-b0c0-435d-97c3-83f1b6292727",
   "metadata": {},
   "outputs": [],
   "source": []
  }
 ],
 "metadata": {
  "kernelspec": {
   "display_name": "R 4",
   "language": "R",
   "name": "ir4"
  },
  "language_info": {
   "codemirror_mode": "r",
   "file_extension": ".r",
   "mimetype": "text/x-r-source",
   "name": "R",
   "pygments_lexer": "r",
   "version": "4.3.2"
  }
 },
 "nbformat": 4,
 "nbformat_minor": 5
}
