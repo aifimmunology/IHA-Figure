{
 "cells": [
  {
   "cell_type": "code",
   "execution_count": 1,
   "id": "3bc983cb-bb28-4b0a-b163-80856751d898",
   "metadata": {},
   "outputs": [
    {
     "name": "stderr",
     "output_type": "stream",
     "text": [
      "Loading required package: viridisLite\n",
      "\n",
      "\n",
      "Attaching package: ‘scales’\n",
      "\n",
      "\n",
      "The following object is masked from ‘package:viridis’:\n",
      "\n",
      "    viridis_pal\n",
      "\n",
      "\n",
      "\n",
      "Attaching package: ‘purrr’\n",
      "\n",
      "\n",
      "The following object is masked from ‘package:scales’:\n",
      "\n",
      "    discard\n",
      "\n",
      "\n",
      "\n",
      "Attaching package: ‘igraph’\n",
      "\n",
      "\n",
      "The following objects are masked from ‘package:purrr’:\n",
      "\n",
      "    compose, simplify\n",
      "\n",
      "\n",
      "The following object is masked from ‘package:tibble’:\n",
      "\n",
      "    as_data_frame\n",
      "\n",
      "\n",
      "The following object is masked from ‘package:tidyr’:\n",
      "\n",
      "    crossing\n",
      "\n",
      "\n",
      "The following objects are masked from ‘package:dplyr’:\n",
      "\n",
      "    as_data_frame, groups, union\n",
      "\n",
      "\n",
      "The following objects are masked from ‘package:stats’:\n",
      "\n",
      "    decompose, spectrum\n",
      "\n",
      "\n",
      "The following object is masked from ‘package:base’:\n",
      "\n",
      "    union\n",
      "\n",
      "\n",
      "\n",
      "Attaching package: ‘rstatix’\n",
      "\n",
      "\n",
      "The following object is masked from ‘package:stats’:\n",
      "\n",
      "    filter\n",
      "\n",
      "\n",
      "corrplot 0.85 loaded\n",
      "\n",
      "Registered S3 method overwritten by 'GGally':\n",
      "  method from   \n",
      "  +.gg   ggplot2\n",
      "\n"
     ]
    }
   ],
   "source": [
    "suppressPackageStartupMessages(library(dplyr))\n",
    "suppressPackageStartupMessages(library(tidyr))\n",
    "suppressPackageStartupMessages(library(tibble))\n",
    "suppressPackageStartupMessages(library(stringr))\n",
    "library(viridis)\n",
    "library(scales)\n",
    "library(RColorBrewer)\n",
    "library(parallel)\n",
    "library(purrr)\n",
    "library(ggplot2)\n",
    "library(igraph)\n",
    "library(ggraph)\n",
    "library(colormap)\n",
    "library(rstatix)\n",
    "library(corrplot)\n",
    "library(GGally)\n",
    "options(warn=-1)\n",
    "\n",
    "mid_rescaler <- function(mid = 0) {\n",
    "  function(x, to = c(0, 1), from = range(x, na.rm = TRUE)) {\n",
    "    scales::rescale_mid(x, to, from, mid)\n",
    "  }\n",
    "}\n",
    "cor.mtest <- function(mat, conf.level = 0.95) {\n",
    "  mat <- as.matrix(mat)\n",
    "  n <- ncol(mat)\n",
    "  p.mat <- matrix(NA, n, n)\n",
    "  diag(p.mat) <- 0\n",
    "  for (i in 1:(n - 1)) {\n",
    "    for (j in (i + 1):n) {\n",
    "      tmp <- cor.test(mat[, i], mat[, j], \n",
    "                      method='spearman',\n",
    "                      conf.level = conf.level)\n",
    "      p.mat[i, j] <- p.mat[j, i] <- tmp$p.value\n",
    "    }\n",
    "  }\n",
    "  colnames(p.mat) <- rownames(p.mat) <- colnames(mat)\n",
    "  p.mat\n",
    "}"
   ]
  },
  {
   "cell_type": "code",
   "execution_count": null,
   "id": "5dea5a83-42ac-4cdb-bdab-e0b77a30b40d",
   "metadata": {},
   "outputs": [],
   "source": []
  },
  {
   "cell_type": "code",
   "execution_count": 2,
   "id": "16f60fe0-8e9d-4c3b-ac2c-bcedc9c2bda7",
   "metadata": {},
   "outputs": [],
   "source": [
    "SF4_data<-read.csv(\"01_Get_Metrics/SF4_Tcell_data_forcorrelation.csv\",check.names = FALSE)\n"
   ]
  },
  {
   "cell_type": "code",
   "execution_count": 3,
   "id": "9feb7033-83e6-4ba6-936a-6256a49ca2f7",
   "metadata": {},
   "outputs": [],
   "source": [
    "correlation_tests <- SF4_data %>% select(NMF_Th2,InteractionScore_CD40LG_CD40) %>% \n",
    "  dplyr::summarise(\n",
    "    correlation = cor( NMF_Th2,InteractionScore_CD40LG_CD40\t, method = 'spearman', use = \"pairwise.complete.obs\"),\n",
    "    p_value = cor.test(InteractionScore_CD40LG_CD40\t, NMF_Th2, method = 'spearman')$p.value\n",
    "  )"
   ]
  },
  {
   "cell_type": "code",
   "execution_count": 4,
   "id": "972555d8-ec98-4d8a-8902-8faa63521261",
   "metadata": {},
   "outputs": [
    {
     "data": {
      "text/html": [
       "<table class=\"dataframe\">\n",
       "<caption>A data.frame: 1 × 2</caption>\n",
       "<thead>\n",
       "\t<tr><th scope=col>correlation</th><th scope=col>p_value</th></tr>\n",
       "\t<tr><th scope=col>&lt;dbl&gt;</th><th scope=col>&lt;dbl&gt;</th></tr>\n",
       "</thead>\n",
       "<tbody>\n",
       "\t<tr><td>-0.1669278</td><td>0.01070233</td></tr>\n",
       "</tbody>\n",
       "</table>\n"
      ],
      "text/latex": [
       "A data.frame: 1 × 2\n",
       "\\begin{tabular}{ll}\n",
       " correlation & p\\_value\\\\\n",
       " <dbl> & <dbl>\\\\\n",
       "\\hline\n",
       "\t -0.1669278 & 0.01070233\\\\\n",
       "\\end{tabular}\n"
      ],
      "text/markdown": [
       "\n",
       "A data.frame: 1 × 2\n",
       "\n",
       "| correlation &lt;dbl&gt; | p_value &lt;dbl&gt; |\n",
       "|---|---|\n",
       "| -0.1669278 | 0.01070233 |\n",
       "\n"
      ],
      "text/plain": [
       "  correlation p_value   \n",
       "1 -0.1669278  0.01070233"
      ]
     },
     "metadata": {},
     "output_type": "display_data"
    }
   ],
   "source": [
    "correlation_tests"
   ]
  },
  {
   "cell_type": "code",
   "execution_count": 20,
   "id": "bb7c3890-ccee-462e-b385-0fa5d301ceb3",
   "metadata": {},
   "outputs": [
    {
     "name": "stderr",
     "output_type": "stream",
     "text": [
      "\u001b[1m\u001b[22m`geom_smooth()` using formula = 'y ~ x'\n",
      "\u001b[1m\u001b[22m`geom_smooth()` using formula = 'y ~ x'\n"
     ]
    },
    {
     "data": {
      "image/png": "[encoded data removed]",
      "text/plain": [
       "plot without title"
      ]
     },
     "metadata": {
      "image/png": {
       "height": 94.4882,
       "width": 94.4882
      }
     },
     "output_type": "display_data"
    }
   ],
   "source": [
    "options(repr.plot.width = 40/25.4, repr.plot.height =40/25.4)\n",
    "\n",
    "SF4_data$Variable<-'InteractionScore_CD40LG_CD40'\n",
    "\n",
    "p <- ggplot(data = SF4_data %>% select(NMF_Th2,InteractionScore_CD40LG_CD40,Variable),\n",
    "            aes(x = InteractionScore_CD40LG_CD40, y = NMF_Th2)) +\n",
    "  geom_point(size = 1, stroke = 0.25) +\n",
    "  geom_smooth(method = 'lm', color = \"black\", se = FALSE, linewidth = 0.5) +\n",
    "  facet_wrap(~ Variable, scales = \"free_x\", labeller = labeller(Variable = c(\n",
    "      \"InteractionScore_CD40LG_CD40\" = \"CM CD4 T/Core memory B\\nCD40LG_CD40\\nInteraction Score\"\n",
    "\n",
    "  ))) +\n",
    "  theme_classic(base_size = 6) +\n",
    "  ylab('CM CD4 T Th2 Score') +\n",
    "  xlab('Correlated Score/Metric/Changes') +\n",
    "  geom_text(\n",
    "    data = correlation_tests,\n",
    "    aes(\n",
    "      x = Inf, y = Inf,\n",
    "      label = paste(\"r =\", round(correlation, 2), \"\\np =\", format.pval(p_value, digits = 2, eps = 0.001)),\n",
    "      hjust = 1.1, vjust = 1.1\n",
    "    ),\n",
    "    inherit.aes = FALSE,\n",
    "    size = 2,\n",
    "    color = \"blue\")+theme(\n",
    "          panel.border = element_blank())+\n",
    "  theme(\n",
    "    strip.background = element_rect(colour = \"black\", size = 0.15),\n",
    "          axis.line = element_line(size = 0.15)  # Adjust the size for both x and y axis\n",
    "  )\n",
    "print(p)\n",
    "ggsave(\"FigureC.pdf\",p, width=40/25.4,height = 40/25.4)"
   ]
  },
  {
   "cell_type": "code",
   "execution_count": null,
   "id": "39571158-15b2-4d00-838d-3df43c4803b1",
   "metadata": {},
   "outputs": [],
   "source": []
  }
 ],
 "metadata": {
  "kernelspec": {
   "display_name": "R 4",
   "language": "R",
   "name": "ir4"
  },
  "language_info": {
   "codemirror_mode": "r",
   "file_extension": ".r",
   "mimetype": "text/x-r-source",
   "name": "R",
   "pygments_lexer": "r",
   "version": "4.3.2"
  }
 },
 "nbformat": 4,
 "nbformat_minor": 5
}
