{
 "cells": [
  {
   "cell_type": "code",
   "execution_count": 25,
   "id": "4ba4073a-1f8b-43e5-96a5-f6edb94fe8c9",
   "metadata": {},
   "outputs": [],
   "source": [
    "suppressPackageStartupMessages(library(dplyr))\n",
    "suppressPackageStartupMessages(library(tidyr))\n",
    "suppressPackageStartupMessages(library(tibble))\n",
    "suppressPackageStartupMessages(library(stringr))\n",
    "library(viridis)\n",
    "library(scales)\n",
    "library(RColorBrewer)\n",
    "library(parallel)\n",
    "library(purrr)\n",
    "library(ggplot2)\n",
    "library(igraph)\n",
    "library(ggraph)\n",
    "library(colormap)\n",
    "library(rstatix)\n",
    "library(corrplot)\n",
    "library(GGally)\n",
    "options(warn=-1)\n",
    "\n",
    "mid_rescaler <- function(mid = 0) {\n",
    "  function(x, to = c(0, 1), from = range(x, na.rm = TRUE)) {\n",
    "    scales::rescale_mid(x, to, from, mid)\n",
    "  }\n",
    "}\n",
    "cor.mtest <- function(mat, conf.level = 0.95) {\n",
    "  mat <- as.matrix(mat)\n",
    "  n <- ncol(mat)\n",
    "  p.mat <- matrix(NA, n, n)\n",
    "  diag(p.mat) <- 0\n",
    "  for (i in 1:(n - 1)) {\n",
    "    for (j in (i + 1):n) {\n",
    "      tmp <- cor.test(mat[, i], mat[, j], \n",
    "                      method='spearman',\n",
    "                      conf.level = conf.level)\n",
    "      p.mat[i, j] <- p.mat[j, i] <- tmp$p.value\n",
    "    }\n",
    "  }\n",
    "  colnames(p.mat) <- rownames(p.mat) <- colnames(mat)\n",
    "  p.mat\n",
    "}"
   ]
  },
  {
   "cell_type": "code",
   "execution_count": null,
   "id": "e752ab42-4fd5-45af-8846-c0cf26a24a9f",
   "metadata": {},
   "outputs": [],
   "source": []
  },
  {
   "cell_type": "code",
   "execution_count": 26,
   "id": "171f559e-a630-4997-b475-3df888f4603e",
   "metadata": {},
   "outputs": [],
   "source": [
    "T_cell_data<-read.csv(\"01_Get_Metrics/BRI_Tcell_data_forcorrelation.csv\")\n",
    "T_cell_data<-T_cell_data[,-1]\n",
    "B_cell_data<-read.csv(\"01_Get_Metrics/BRI_Bcell_data_forcorrelation.csv\",check.names = FALSE)\n",
    "B_cell_data<-B_cell_data[,-1]\n"
   ]
  },
  {
   "cell_type": "code",
   "execution_count": 27,
   "id": "056a70bc-2326-4ca0-966c-3eb00c0c4a58",
   "metadata": {},
   "outputs": [],
   "source": [
    "new_colnames <- names(T_cell_data)\n",
    "new_colnames[2:length(new_colnames)] <- str_c(\"T_\", new_colnames[2:length(new_colnames)])\n",
    "names(T_cell_data) <- new_colnames\n",
    "\n",
    "new_colnames <- names(B_cell_data)\n",
    "new_colnames[2:length(new_colnames)] <- str_c(\"B_\", new_colnames[2:length(new_colnames)])\n",
    "names(B_cell_data) <- new_colnames"
   ]
  },
  {
   "cell_type": "code",
   "execution_count": 28,
   "id": "3db23199-e22d-4423-aa31-4fc104d47612",
   "metadata": {},
   "outputs": [
    {
     "name": "stderr",
     "output_type": "stream",
     "text": [
      "\u001b[1m\u001b[22mJoining with `by = join_by(subject.subjectGuid)`\n"
     ]
    }
   ],
   "source": [
    "combined_df<-left_join(T_cell_data,B_cell_data)"
   ]
  },
  {
   "cell_type": "code",
   "execution_count": 29,
   "id": "e6eefa8a-fae9-4c85-8d7f-3d391eb41633",
   "metadata": {},
   "outputs": [],
   "source": [
    "\n",
    "combined_df<-combined_df[ , -which(names(combined_df) %in% \n",
    "                                   c('B_CoreMemoryB_HALLMARK_MYC_TARGETS_V2','B_CoreMemoryB_Freq_Fold_Changes',\n",
    "                                     'B_CoreMemoryB_HALLMARK_ALLOGRAFT_REJECTION',\n",
    "                                     'B_CoreMemoryB_HALLMARK_MTORC1_SIGNALING',\n",
    "                                     #'B_MSD_phuket_fold_change',\n",
    "                                     'T_flow_Tfh_PD1pos_mean_diff',\n",
    "                                     'T_flow_Tfh_PD1neg_mean_diff'))]"
   ]
  },
  {
   "cell_type": "code",
   "execution_count": 30,
   "id": "0b4c09d7-7e45-4ebd-9001-55e8f9db73bd",
   "metadata": {},
   "outputs": [],
   "source": [
    "meta_data<-read.csv(\"/home/jupyter/BRI_Figures_Final_V2/Figure5/01_Frequency_Comparison/selected_samples_with_acutal_flu_year.csv\")"
   ]
  },
  {
   "cell_type": "code",
   "execution_count": 31,
   "id": "bf8f07e2-f780-4b9b-ada1-fc728bb7c2ce",
   "metadata": {},
   "outputs": [],
   "source": [
    "meta_data$Ages<-meta_data$subject.birthYear\n"
   ]
  },
  {
   "cell_type": "code",
   "execution_count": 32,
   "id": "f1950cb9-dc4c-4a75-8420-c57ca3ab5398",
   "metadata": {},
   "outputs": [
    {
     "name": "stderr",
     "output_type": "stream",
     "text": [
      "\u001b[1m\u001b[22mJoining with `by = join_by(subject.subjectGuid)`\n"
     ]
    }
   ],
   "source": [
    "combined_df<-left_join(combined_df,unique(meta_data[c('subject.subjectGuid','Ages')]))"
   ]
  },
  {
   "cell_type": "code",
   "execution_count": 33,
   "id": "bd7dbab5-f1c3-4ca8-b395-da12185ab919",
   "metadata": {},
   "outputs": [],
   "source": [
    "combined_df<-combined_df %>% filter(T_NMF_Th2<0.1)"
   ]
  },
  {
   "cell_type": "code",
   "execution_count": 34,
   "id": "7afbfb6f-25cf-4408-982b-d2dbcd61f95c",
   "metadata": {},
   "outputs": [],
   "source": [
    "replacements <- c(\"T_NMF_Th2\" = \"CM CD4 T-Th2 Score\",\n",
    "                  \"T_NMF_Tfh\" = \"CM CD4 T-Tfh Score\",\n",
    "                  \n",
    "                  \"Mock\" = \"Mock\",\n",
    "                  \n",
    "                  \"Ages\" = \"Biological Ages\",\n",
    "                  \"T_Down_composite_score_sum_scaled_mean\" = \"CM CD4 T-Age Composite Metric (Down)\",\n",
    "                  \"T_Up_composite_score_sum_scaled_mean\" = \"CM CD4 T-Age Composite Metric (Up)\",\n",
    "                  \n",
    "                  \"T_InteractionScore_CD40LG_CD40\" = \"CM CD4 T/Core memory B-CD40LG_CD40 Interaction Score\",\n",
    "                  \"T_InteractionScore_PTPRC_CD22\" = \"CM CD4 T/Core memory B-PTPRC_CD22 Interaction Score\",\n",
    "                  \"T_Mean_Expression_CD40LG\" = \"CM CD4 T-CD40LG Mean Expression\",\n",
    "                  \"T_Mean_Expression_CXCR5\" = \"CM CD4 T-CXCR5 Mean Expression\",\n",
    "                  \n",
    "                  \"B_CoreMemoryB_HALLMARK_TNFA_SIGNALING_VIA_NFKB\" = \"Core memory B-TNFA SIGNALING VIA NFKB Pathway Score\",\n",
    "                  \"B_CoreMemoryB_HALLMARK_PI3K_AKT_MTOR_SIGNALING\" = \"Core memory B-PI3K AKT MTOR SIGNALING Pathway Score\",\n",
    "                  \"B_CoreMemoryB_HALLMARK_MYC_TARGETS_V1\" = \"Core memory B-MYC TARGETS V1 Pathway Score\",\n",
    "                  \"B_HAI_phuket_day7\" = \"HAI Assay-Day 7 Inhibition\",\n",
    "                  \"B_HAI_fold_change\"= \"HAI Assay-Day 7/0 Delta Change\",\n",
    "                  \"B_Mean_Expression_CD19\" = \"CD27 effector B-CD19 Mean Expression\",\n",
    "                  \"B_Plasma_Freq_Fold_Changes\" = \"Plasma Cell-Day7/Day0 Frequency(CLR) Changes\"\n",
    "             \n",
    "                 )"
   ]
  },
  {
   "cell_type": "code",
   "execution_count": 35,
   "id": "037c39aa-b0c0-435d-97c3-83f1b6292727",
   "metadata": {},
   "outputs": [],
   "source": [
    "colnames(combined_df) <- ifelse(colnames(combined_df) %in% names(replacements), replacements[colnames(combined_df)], colnames(combined_df))"
   ]
  },
  {
   "cell_type": "code",
   "execution_count": 36,
   "id": "89ddf673-e737-4523-8331-25ae56697474",
   "metadata": {},
   "outputs": [
    {
     "data": {
      "text/html": [
       "<style>\n",
       ".list-inline {list-style: none; margin:0; padding: 0}\n",
       ".list-inline>li {display: inline-block}\n",
       ".list-inline>li:not(:last-child)::after {content: \"\\00b7\"; padding: 0 .5ex}\n",
       "</style>\n",
       "<ol class=list-inline><li>'subject.subjectGuid'</li><li>'CM CD4 T-Th2 Score'</li><li>'CM CD4 T-Tfh Score'</li><li>'CM CD4 T-Age Composite Metric (Down)'</li><li>'CM CD4 T-Age Composite Metric (Up)'</li><li>'CM CD4 T/Core memory B-CD40LG_CD40 Interaction Score'</li><li>'CM CD4 T/Core memory B-PTPRC_CD22 Interaction Score'</li><li>'CM CD4 T-CD40LG Mean Expression'</li><li>'CM CD4 T-CXCR5 Mean Expression'</li><li>'Core memory B-TNFA SIGNALING VIA NFKB Pathway Score'</li><li>'Core memory B-PI3K AKT MTOR SIGNALING Pathway Score'</li><li>'Core memory B-MYC TARGETS V1 Pathway Score'</li><li>'B_MSD_phuket_fold_change'</li><li>'HAI Assay-Day 7/0 Delta Change'</li><li>'Plasma Cell-Day7/Day0 Frequency(CLR) Changes'</li><li>'B_Mean_Expression_IGHG3'</li><li>'CD27 effector B-CD19 Mean Expression'</li><li>'Biological Ages'</li></ol>\n"
      ],
      "text/latex": [
       "\\begin{enumerate*}\n",
       "\\item 'subject.subjectGuid'\n",
       "\\item 'CM CD4 T-Th2 Score'\n",
       "\\item 'CM CD4 T-Tfh Score'\n",
       "\\item 'CM CD4 T-Age Composite Metric (Down)'\n",
       "\\item 'CM CD4 T-Age Composite Metric (Up)'\n",
       "\\item 'CM CD4 T/Core memory B-CD40LG\\_CD40 Interaction Score'\n",
       "\\item 'CM CD4 T/Core memory B-PTPRC\\_CD22 Interaction Score'\n",
       "\\item 'CM CD4 T-CD40LG Mean Expression'\n",
       "\\item 'CM CD4 T-CXCR5 Mean Expression'\n",
       "\\item 'Core memory B-TNFA SIGNALING VIA NFKB Pathway Score'\n",
       "\\item 'Core memory B-PI3K AKT MTOR SIGNALING Pathway Score'\n",
       "\\item 'Core memory B-MYC TARGETS V1 Pathway Score'\n",
       "\\item 'B\\_MSD\\_phuket\\_fold\\_change'\n",
       "\\item 'HAI Assay-Day 7/0 Delta Change'\n",
       "\\item 'Plasma Cell-Day7/Day0 Frequency(CLR) Changes'\n",
       "\\item 'B\\_Mean\\_Expression\\_IGHG3'\n",
       "\\item 'CD27 effector B-CD19 Mean Expression'\n",
       "\\item 'Biological Ages'\n",
       "\\end{enumerate*}\n"
      ],
      "text/markdown": [
       "1. 'subject.subjectGuid'\n",
       "2. 'CM CD4 T-Th2 Score'\n",
       "3. 'CM CD4 T-Tfh Score'\n",
       "4. 'CM CD4 T-Age Composite Metric (Down)'\n",
       "5. 'CM CD4 T-Age Composite Metric (Up)'\n",
       "6. 'CM CD4 T/Core memory B-CD40LG_CD40 Interaction Score'\n",
       "7. 'CM CD4 T/Core memory B-PTPRC_CD22 Interaction Score'\n",
       "8. 'CM CD4 T-CD40LG Mean Expression'\n",
       "9. 'CM CD4 T-CXCR5 Mean Expression'\n",
       "10. 'Core memory B-TNFA SIGNALING VIA NFKB Pathway Score'\n",
       "11. 'Core memory B-PI3K AKT MTOR SIGNALING Pathway Score'\n",
       "12. 'Core memory B-MYC TARGETS V1 Pathway Score'\n",
       "13. 'B_MSD_phuket_fold_change'\n",
       "14. 'HAI Assay-Day 7/0 Delta Change'\n",
       "15. 'Plasma Cell-Day7/Day0 Frequency(CLR) Changes'\n",
       "16. 'B_Mean_Expression_IGHG3'\n",
       "17. 'CD27 effector B-CD19 Mean Expression'\n",
       "18. 'Biological Ages'\n",
       "\n",
       "\n"
      ],
      "text/plain": [
       " [1] \"subject.subjectGuid\"                                 \n",
       " [2] \"CM CD4 T-Th2 Score\"                                  \n",
       " [3] \"CM CD4 T-Tfh Score\"                                  \n",
       " [4] \"CM CD4 T-Age Composite Metric (Down)\"                \n",
       " [5] \"CM CD4 T-Age Composite Metric (Up)\"                  \n",
       " [6] \"CM CD4 T/Core memory B-CD40LG_CD40 Interaction Score\"\n",
       " [7] \"CM CD4 T/Core memory B-PTPRC_CD22 Interaction Score\" \n",
       " [8] \"CM CD4 T-CD40LG Mean Expression\"                     \n",
       " [9] \"CM CD4 T-CXCR5 Mean Expression\"                      \n",
       "[10] \"Core memory B-TNFA SIGNALING VIA NFKB Pathway Score\" \n",
       "[11] \"Core memory B-PI3K AKT MTOR SIGNALING Pathway Score\" \n",
       "[12] \"Core memory B-MYC TARGETS V1 Pathway Score\"          \n",
       "[13] \"B_MSD_phuket_fold_change\"                            \n",
       "[14] \"HAI Assay-Day 7/0 Delta Change\"                      \n",
       "[15] \"Plasma Cell-Day7/Day0 Frequency(CLR) Changes\"        \n",
       "[16] \"B_Mean_Expression_IGHG3\"                             \n",
       "[17] \"CD27 effector B-CD19 Mean Expression\"                \n",
       "[18] \"Biological Ages\"                                     "
      ]
     },
     "metadata": {},
     "output_type": "display_data"
    }
   ],
   "source": [
    "colnames(combined_df)"
   ]
  },
  {
   "cell_type": "code",
   "execution_count": 57,
   "id": "b2ee44c3-040f-482d-bdc3-4625a8d03a07",
   "metadata": {},
   "outputs": [
    {
     "data": {
      "text/html": [
       "<table class=\"dataframe\">\n",
       "<caption>A tibble: 6 × 3</caption>\n",
       "<thead>\n",
       "\t<tr><th scope=col>CM CD4 T-Th2 Score</th><th scope=col>Variable</th><th scope=col>Value</th></tr>\n",
       "\t<tr><th scope=col>&lt;dbl&gt;</th><th scope=col>&lt;chr&gt;</th><th scope=col>&lt;dbl&gt;</th></tr>\n",
       "</thead>\n",
       "<tbody>\n",
       "\t<tr><td>0.02061264</td><td>CM CD4 T-Age Composite Metric (Up)                  </td><td>  9.808068</td></tr>\n",
       "\t<tr><td>0.02061264</td><td>CM CD4 T/Core memory B-CD40LG_CD40 Interaction Score</td><td>  0.581000</td></tr>\n",
       "\t<tr><td>0.02061264</td><td>Core memory B-TNFA SIGNALING VIA NFKB Pathway Score </td><td>  3.440999</td></tr>\n",
       "\t<tr><td>0.02061264</td><td>HAI Assay-Day 7/0 Delta Change                      </td><td>        NA</td></tr>\n",
       "\t<tr><td>0.01594233</td><td>CM CD4 T-Age Composite Metric (Up)                  </td><td>-54.998541</td></tr>\n",
       "\t<tr><td>0.01594233</td><td>CM CD4 T/Core memory B-CD40LG_CD40 Interaction Score</td><td>  0.628000</td></tr>\n",
       "</tbody>\n",
       "</table>\n"
      ],
      "text/latex": [
       "A tibble: 6 × 3\n",
       "\\begin{tabular}{lll}\n",
       " CM CD4 T-Th2 Score & Variable & Value\\\\\n",
       " <dbl> & <chr> & <dbl>\\\\\n",
       "\\hline\n",
       "\t 0.02061264 & CM CD4 T-Age Composite Metric (Up)                   &   9.808068\\\\\n",
       "\t 0.02061264 & CM CD4 T/Core memory B-CD40LG\\_CD40 Interaction Score &   0.581000\\\\\n",
       "\t 0.02061264 & Core memory B-TNFA SIGNALING VIA NFKB Pathway Score  &   3.440999\\\\\n",
       "\t 0.02061264 & HAI Assay-Day 7/0 Delta Change                       &         NA\\\\\n",
       "\t 0.01594233 & CM CD4 T-Age Composite Metric (Up)                   & -54.998541\\\\\n",
       "\t 0.01594233 & CM CD4 T/Core memory B-CD40LG\\_CD40 Interaction Score &   0.628000\\\\\n",
       "\\end{tabular}\n"
      ],
      "text/markdown": [
       "\n",
       "A tibble: 6 × 3\n",
       "\n",
       "| CM CD4 T-Th2 Score &lt;dbl&gt; | Variable &lt;chr&gt; | Value &lt;dbl&gt; |\n",
       "|---|---|---|\n",
       "| 0.02061264 | CM CD4 T-Age Composite Metric (Up)                   |   9.808068 |\n",
       "| 0.02061264 | CM CD4 T/Core memory B-CD40LG_CD40 Interaction Score |   0.581000 |\n",
       "| 0.02061264 | Core memory B-TNFA SIGNALING VIA NFKB Pathway Score  |   3.440999 |\n",
       "| 0.02061264 | HAI Assay-Day 7/0 Delta Change                       |         NA |\n",
       "| 0.01594233 | CM CD4 T-Age Composite Metric (Up)                   | -54.998541 |\n",
       "| 0.01594233 | CM CD4 T/Core memory B-CD40LG_CD40 Interaction Score |   0.628000 |\n",
       "\n"
      ],
      "text/plain": [
       "  CM CD4 T-Th2 Score Variable                                            \n",
       "1 0.02061264         CM CD4 T-Age Composite Metric (Up)                  \n",
       "2 0.02061264         CM CD4 T/Core memory B-CD40LG_CD40 Interaction Score\n",
       "3 0.02061264         Core memory B-TNFA SIGNALING VIA NFKB Pathway Score \n",
       "4 0.02061264         HAI Assay-Day 7/0 Delta Change                      \n",
       "5 0.01594233         CM CD4 T-Age Composite Metric (Up)                  \n",
       "6 0.01594233         CM CD4 T/Core memory B-CD40LG_CD40 Interaction Score\n",
       "  Value     \n",
       "1   9.808068\n",
       "2   0.581000\n",
       "3   3.440999\n",
       "4         NA\n",
       "5 -54.998541\n",
       "6   0.628000"
      ]
     },
     "metadata": {},
     "output_type": "display_data"
    }
   ],
   "source": [
    "df_long<-combined_df %>%\n",
    "  dplyr::select(\n",
    "    `CM CD4 T-Th2 Score`,\n",
    "    `CM CD4 T-Age Composite Metric (Up)`,\n",
    "    `CM CD4 T/Core memory B-CD40LG_CD40 Interaction Score`,\n",
    "    `Core memory B-TNFA SIGNALING VIA NFKB Pathway Score`,\n",
    "    `HAI Assay-Day 7/0 Delta Change`\n",
    "  ) %>%\n",
    "  tidyr::pivot_longer(\n",
    "      col=2:5,\n",
    "    names_to = \"Variable\",\n",
    "    values_to = \"Value\"\n",
    "  )\n",
    "head(df_long)"
   ]
  },
  {
   "cell_type": "code",
   "execution_count": 60,
   "id": "a810692d-cbf7-4d07-991a-a8db1b6331f7",
   "metadata": {},
   "outputs": [
    {
     "data": {
      "text/html": [
       "<table class=\"dataframe\">\n",
       "<caption>A tibble: 4 × 3</caption>\n",
       "<thead>\n",
       "\t<tr><th scope=col>Variable</th><th scope=col>correlation</th><th scope=col>p_value</th></tr>\n",
       "\t<tr><th scope=col>&lt;chr&gt;</th><th scope=col>&lt;dbl&gt;</th><th scope=col>&lt;dbl&gt;</th></tr>\n",
       "</thead>\n",
       "<tbody>\n",
       "\t<tr><td>CM CD4 T-Age Composite Metric (Up)                  </td><td> 0.2770772</td><td>0.0235154887</td></tr>\n",
       "\t<tr><td>CM CD4 T/Core memory B-CD40LG_CD40 Interaction Score</td><td>-0.2687833</td><td>0.0278546382</td></tr>\n",
       "\t<tr><td>Core memory B-TNFA SIGNALING VIA NFKB Pathway Score </td><td>-0.4260117</td><td>0.0003681318</td></tr>\n",
       "\t<tr><td>HAI Assay-Day 7/0 Delta Change                      </td><td>-0.3146422</td><td>0.0428851901</td></tr>\n",
       "</tbody>\n",
       "</table>\n"
      ],
      "text/latex": [
       "A tibble: 4 × 3\n",
       "\\begin{tabular}{lll}\n",
       " Variable & correlation & p\\_value\\\\\n",
       " <chr> & <dbl> & <dbl>\\\\\n",
       "\\hline\n",
       "\t CM CD4 T-Age Composite Metric (Up)                   &  0.2770772 & 0.0235154887\\\\\n",
       "\t CM CD4 T/Core memory B-CD40LG\\_CD40 Interaction Score & -0.2687833 & 0.0278546382\\\\\n",
       "\t Core memory B-TNFA SIGNALING VIA NFKB Pathway Score  & -0.4260117 & 0.0003681318\\\\\n",
       "\t HAI Assay-Day 7/0 Delta Change                       & -0.3146422 & 0.0428851901\\\\\n",
       "\\end{tabular}\n"
      ],
      "text/markdown": [
       "\n",
       "A tibble: 4 × 3\n",
       "\n",
       "| Variable &lt;chr&gt; | correlation &lt;dbl&gt; | p_value &lt;dbl&gt; |\n",
       "|---|---|---|\n",
       "| CM CD4 T-Age Composite Metric (Up)                   |  0.2770772 | 0.0235154887 |\n",
       "| CM CD4 T/Core memory B-CD40LG_CD40 Interaction Score | -0.2687833 | 0.0278546382 |\n",
       "| Core memory B-TNFA SIGNALING VIA NFKB Pathway Score  | -0.4260117 | 0.0003681318 |\n",
       "| HAI Assay-Day 7/0 Delta Change                       | -0.3146422 | 0.0428851901 |\n",
       "\n"
      ],
      "text/plain": [
       "  Variable                                             correlation p_value     \n",
       "1 CM CD4 T-Age Composite Metric (Up)                    0.2770772  0.0235154887\n",
       "2 CM CD4 T/Core memory B-CD40LG_CD40 Interaction Score -0.2687833  0.0278546382\n",
       "3 Core memory B-TNFA SIGNALING VIA NFKB Pathway Score  -0.4260117  0.0003681318\n",
       "4 HAI Assay-Day 7/0 Delta Change                       -0.3146422  0.0428851901"
      ]
     },
     "metadata": {},
     "output_type": "display_data"
    }
   ],
   "source": [
    "correlation_tests"
   ]
  },
  {
   "cell_type": "code",
   "execution_count": 83,
   "id": "9be765c4-3342-4943-9676-d3dc7aff3934",
   "metadata": {},
   "outputs": [
    {
     "name": "stderr",
     "output_type": "stream",
     "text": [
      "\u001b[1m\u001b[22m`geom_smooth()` using formula = 'y ~ x'\n",
      "\u001b[1m\u001b[22m`geom_smooth()` using formula = 'y ~ x'\n"
     ]
    },
    {
     "data": {
      "image/png": "[encoded data removed]",
      "text/plain": [
       "plot without title"
      ]
     },
     "metadata": {
      "image/png": {
       "height": 170.0787,
       "width": 177.1654
      }
     },
     "output_type": "display_data"
    }
   ],
   "source": [
    "options(repr.plot.width = 75/25.4, repr.plot.height =72/25.4)\n",
    "\n",
    "correlation_tests <- df_long %>% #filter(Variable=='Core_Memory_B_TNFA_SIGNALING_VIA_NFKB_Pathway') %>%\n",
    "  dplyr::group_by(Variable) %>%\n",
    "  dplyr::summarise(\n",
    "    correlation = cor( `CM CD4 T-Th2 Score`,Value, method = 'spearman', use = \"pairwise.complete.obs\"),\n",
    "    p_value = cor.test(Value, `CM CD4 T-Th2 Score`, method = 'spearman')$p.value\n",
    "  )\n",
    "\n",
    "p <- ggplot(data = df_long ,#%>% filter(Variable=='Core_Memory_B_TNFA_SIGNALING_VIA_NFKB_Pathway'),\n",
    "            aes(x = Value, y = `CM CD4 T-Th2 Score`)) +\n",
    "  geom_point(size = 1, stroke = 0.25) +\n",
    "  geom_smooth(method = 'lm', color = \"black\", se = FALSE, linewidth = 0.5) +\n",
    "  facet_wrap(~ Variable, scales = \"free_x\", labeller = labeller(Variable = c(\n",
    "    \"CM CD4 T-Age Composite Metric (Up)\" = \"CM CD4 T\\nAge Composite Metric\\n(Up)\",\n",
    "      \"CM CD4 T/Core memory B-CD40LG_CD40 Interaction Score\" = \"CM CD4 T/Core memory B\\nCD40LG_CD40\\nInteraction Score\",\n",
    "      \"Core memory B-TNFA SIGNALING VIA NFKB Pathway Score\" = \"Core memory B\\nTNFA SIGNALING VIA\\nNFKB Pathway\",\n",
    "      \"HAI Assay-Day 7/0 Delta Change\" = \"HAI Assay\\nDay 7/0 Delta Change\"\n",
    "  ))) +\n",
    "  theme_classic(base_size = 8) +\n",
    "  ylab('CM CD4 T\\nTh2 Score') +\n",
    "  xlab('Correlated Score/Metric/Changes') +\n",
    "  geom_text(\n",
    "    data = correlation_tests,\n",
    "    aes(\n",
    "      x = Inf, y = Inf,\n",
    "      label = paste(\"r =\", round(correlation, 2), \"\\np =\", format.pval(p_value, digits = 2, eps = 0.001)),\n",
    "      hjust = 1.1, vjust = 1.1\n",
    "    ),\n",
    "    inherit.aes = FALSE,\n",
    "    size = 2,\n",
    "    color = \"blue\")+theme(\n",
    "          panel.border = element_blank())+\n",
    "  theme(\n",
    "    strip.background = element_rect(colour = \"black\", size = 0.15),\n",
    "          axis.line = element_line(size = 0.15)  # Adjust the size for both x and y axis\n",
    "  )\n",
    "print(p)\n",
    "ggsave(\"FigureB.pdf\",p, width=75/25.4,height = 70/25.4)"
   ]
  },
  {
   "cell_type": "code",
   "execution_count": null,
   "id": "9111d038-5116-4789-a2c3-cd8390076ffd",
   "metadata": {},
   "outputs": [],
   "source": []
  }
 ],
 "metadata": {
  "kernelspec": {
   "display_name": "R 4",
   "language": "R",
   "name": "ir4"
  },
  "language_info": {
   "codemirror_mode": "r",
   "file_extension": ".r",
   "mimetype": "text/x-r-source",
   "name": "R",
   "pygments_lexer": "r",
   "version": "4.3.2"
  }
 },
 "nbformat": 4,
 "nbformat_minor": 5
}
