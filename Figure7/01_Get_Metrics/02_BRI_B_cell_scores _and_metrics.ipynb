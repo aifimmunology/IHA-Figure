{
 "cells": [
  {
   "cell_type": "code",
   "execution_count": 75,
   "id": "1046ea6a-bf4c-4aad-bccd-3b059438779b",
   "metadata": {},
   "outputs": [],
   "source": [
    "suppressPackageStartupMessages(library(dplyr))\n",
    "suppressPackageStartupMessages(library(tidyr))\n",
    "suppressPackageStartupMessages(library(tibble))\n",
    "suppressPackageStartupMessages(library(ggplot2))\n",
    "suppressPackageStartupMessages(library(stringr))\n",
    "library(ggrepel)\n",
    "library(reshape2)\n",
    "library(ggsci)\n",
    "library(rstatix)\n",
    "library(ggpubr)\n",
    "library(data.table)\n",
    "library(ggtern)\n",
    "library(viridis)\n",
    "library(scales)\n",
    "library(RColorBrewer)\n",
    "library(parallel)\n",
    "library(purrr)\n",
    "source('/home//jupyter/BRI_Figures_Final_V2/helper_function/helper_function_IHA.r')"
   ]
  },
  {
   "cell_type": "code",
   "execution_count": 76,
   "id": "6e6ba95f-0ba0-4784-965b-c5ca183f7832",
   "metadata": {},
   "outputs": [],
   "source": [
    "meta_data=read.csv(\"/home/jupyter/BRI_Figures_Final_V2/Figure5/01_Frequency_Comparison/selected_samples_with_acutal_flu_year.csv\")"
   ]
  },
  {
   "cell_type": "markdown",
   "id": "d139de2c-fae8-4405-93d9-ee84f0bd3905",
   "metadata": {},
   "source": [
    "# Get Pathway Scores"
   ]
  },
  {
   "cell_type": "code",
   "execution_count": 77,
   "id": "e53f2a50-04c8-4e31-8892-bdfdfa1789a4",
   "metadata": {},
   "outputs": [],
   "source": [
    "# SLEA - assigning pathway scores\n",
    "doSLEA <- function(expressionSet, geneSet) {\n",
    "  # scale expression\n",
    "  exprsMat <- expressionSet\n",
    "  #exprsMat <- t(scale(t(exprsMat)))\n",
    "  # extract expression of leGenes of each geneset\n",
    "  comm <- intersect(geneSet, rownames(expressionSet))\n",
    "  gsDF <- exprsMat[comm, ]\n",
    "  # calculate mean expression per sample\n",
    "  gsM <- colMeans(gsDF)\n",
    "  # extract random genes of size of the geneSet from full probeset and calculate mean\n",
    "  # and perform this for 'n' permutations\n",
    "  nperm <- lapply(1:1000, function(j) {\n",
    "    # set seed for every permutation\n",
    "    set.seed(j)\n",
    "    rGSDF <- exprsMat[sample.int(nrow(exprsMat),length(comm)), ]\n",
    "    rGSM <- colMeans(rGSDF)\n",
    "    return(value = rGSM)\n",
    "  })\n",
    "  permDF <- do.call(rbind, nperm)\n",
    "  zscore <- (gsM - colMeans(permDF)) / apply(permDF,2,sd)\n",
    "  sleaDF <- zscore %>% as.data.frame()\n",
    "  return(value = sleaDF)\n",
    "}"
   ]
  },
  {
   "cell_type": "code",
   "execution_count": 78,
   "id": "8eae33c3-2b23-4e3a-b039-83bfca84f85d",
   "metadata": {},
   "outputs": [],
   "source": [
    "meta_data_selected_RNA_subset_D0<-meta_data %>% filter(Flu_Year==\"2020-2021\",sample.visitName\t%in%c(\"Flu Year 1 Day 7\") ) \n"
   ]
  },
  {
   "cell_type": "code",
   "execution_count": 79,
   "id": "87a479d2-0d69-406b-9931-91d0b7f7d1a7",
   "metadata": {},
   "outputs": [
    {
     "name": "stdout",
     "output_type": "stream",
     "text": [
      "[1] \"Total reading time: 5.47800000000001 seconds\"\n",
      "[1] \"The length of the list matches the length of the input path.\"\n"
     ]
    }
   ],
   "source": [
    "file_list<-paste0(\"/home/jupyter/BRI_Figures_Final_V2/Dataset/scRNA/BRI/Average_LogNormalized_Expression/Average_LogNormalized_Expression_of_Celltypes_by_Sample_AIFI_L3/\",meta_data_selected_RNA_subset_D0$pbmc_sample_id,\".csv\")\n",
    "\n",
    "df_list<-read_pseudobulk_expression(file_list)\n"
   ]
  },
  {
   "cell_type": "code",
   "execution_count": 80,
   "id": "da16f820-2423-4e51-9bf8-70ac9c697b36",
   "metadata": {},
   "outputs": [],
   "source": [
    "background_gene<-read.csv('/home/jupyter/BRI_Figures_Final_V2/Figure5/02_DEGs_and_EnrichmentAnalysis/filtered_gene_Y2020-2021_Y2021-2022_D7.csv') %>% filter(AIFI_L3=='Core memory B cell')"
   ]
  },
  {
   "cell_type": "code",
   "execution_count": 81,
   "id": "1dda8ed4-8a6b-4ed4-b34c-18275ba646d3",
   "metadata": {},
   "outputs": [],
   "source": [
    "Selected_Pathways<-c(\"HALLMARK_TNFA_SIGNALING_VIA_NFKB\",\n",
    "                     'HALLMARK_PI3K_AKT_MTOR_SIGNALING',\n",
    "                     \"HALLMARK_MTORC1_SIGNALING\",\n",
    "                    'HALLMARK_MYC_TARGETS_V1',\n",
    "                     'HALLMARK_MYC_TARGETS_V2',\n",
    "                     'HALLMARK_ALLOGRAFT_REJECTION')"
   ]
  },
  {
   "cell_type": "code",
   "execution_count": 82,
   "id": "62f44ad0-01fe-41ca-8588-6e9665eebdd9",
   "metadata": {},
   "outputs": [
    {
     "name": "stderr",
     "output_type": "stream",
     "text": [
      "\u001b[1m\u001b[22mJoining with `by = join_by(pbmc_sample_id)`\n",
      "\u001b[1m\u001b[22mJoining with `by = join_by(pbmc_sample_id)`\n",
      "\u001b[1m\u001b[22mJoining with `by = join_by(pbmc_sample_id)`\n",
      "\u001b[1m\u001b[22mJoining with `by = join_by(pbmc_sample_id)`\n",
      "\u001b[1m\u001b[22mJoining with `by = join_by(pbmc_sample_id)`\n",
      "\u001b[1m\u001b[22mJoining with `by = join_by(pbmc_sample_id)`\n"
     ]
    }
   ],
   "source": [
    "res_list<-list()\n",
    "for (pathway_single in Selected_Pathways){\n",
    "gene_set<-read.csv('/home/jupyter/BRI_Figures_Final_V2/Figure5/02_DEGs_and_EnrichmentAnalysis/gsea_result_all.csv') %>% \n",
    "filter(pathway==pathway_single,\n",
    "celltype=='Core memory B cell')\n",
    "gene_vector <- eval(parse(text = gene_set$leadingEdge))\n",
    "\n",
    "  \n",
    "celltype_list <- lapply(df_list, function(df) { df <- df[background_gene$gene, grep('Core memory B cell', names(df), fixed = TRUE),drop=FALSE] })\n",
    "\n",
    "\n",
    "exp_matrix<-do.call(cbind,celltype_list)\n",
    "colnames(exp_matrix)<-sub(\":.*\", \"\", colnames(exp_matrix))\n",
    "rownames(meta_data)<-meta_data$pbmc_sample_id\n",
    "\n",
    "res<-doSLEA(exp_matrix,gene_vector)\n",
    "\n",
    "res$pbmc_sample_id<-rownames(res)\n",
    "res<-left_join(res,meta_data)\n",
    "\n",
    "res<-res[c('subject.subjectGuid','.')]\n",
    "colnames(res)<-c('subject.subjectGuid',paste0(\"CoreMemoryB_\",pathway_single))\n",
    "res_list[[pathway_single]]<-res\n",
    "    \n",
    "}"
   ]
  },
  {
   "cell_type": "code",
   "execution_count": 83,
   "id": "7e1d9a7e-5e96-4835-bbbd-ca9c3fdd90d7",
   "metadata": {},
   "outputs": [],
   "source": [
    "pathway_variable<- reduce(res_list, full_join, by = \"subject.subjectGuid\")"
   ]
  },
  {
   "cell_type": "markdown",
   "id": "6ec23dd6-f434-4f68-a383-17a3fc6d3a9c",
   "metadata": {},
   "source": [
    "# HAI assay phuket Delta changes"
   ]
  },
  {
   "cell_type": "code",
   "execution_count": 84,
   "id": "8ecd91e5-8bf8-493d-b703-b4a6302936cd",
   "metadata": {},
   "outputs": [],
   "source": [
    "df<-read.csv(\"/home//jupyter/BRI_Figures_Final_V2/Extended_Figure5_1//05_HAI/FC_phuket.csv\")"
   ]
  },
  {
   "cell_type": "code",
   "execution_count": 85,
   "id": "109d46f4-12b9-44d6-a320-21745fbe36e1",
   "metadata": {},
   "outputs": [],
   "source": [
    "df<-df[c('subject.subjectGuid','fold_change')]"
   ]
  },
  {
   "cell_type": "code",
   "execution_count": 86,
   "id": "f97c9d70-4a66-42d5-8ea5-d6e41672d5fe",
   "metadata": {},
   "outputs": [],
   "source": [
    "colnames(df)<-c(c('subject.subjectGuid','HAI_fold_change'))"
   ]
  },
  {
   "cell_type": "code",
   "execution_count": 87,
   "id": "f8443894-7bf5-428a-87ea-993510d1b9f7",
   "metadata": {},
   "outputs": [],
   "source": [
    "HAI_variable<-df"
   ]
  },
  {
   "cell_type": "markdown",
   "id": "a568bc38-5f9e-408c-af6f-f7b9310de63c",
   "metadata": {},
   "source": [
    "# MSD assay phuket Fold Changes"
   ]
  },
  {
   "cell_type": "code",
   "execution_count": 88,
   "id": "1b279752-260c-4d50-869f-b540ddcd2855",
   "metadata": {},
   "outputs": [],
   "source": [
    "df<-read.csv('/home//jupyter/BRI_Figures_Final_V2/Figure5/04_MSD/MSD_Normalized_Y2020-2021_Phuket.csv')"
   ]
  },
  {
   "cell_type": "code",
   "execution_count": 89,
   "id": "8cc1bb12-7ff1-4d10-91b9-dc3aaa6dab2d",
   "metadata": {},
   "outputs": [],
   "source": [
    "df<-df %>% filter(Visit=='Flu Year 1 Day 7')"
   ]
  },
  {
   "cell_type": "code",
   "execution_count": 90,
   "id": "af0c2d59-48b5-43c7-8e5b-180ed0dc0006",
   "metadata": {},
   "outputs": [],
   "source": [
    "df<-df[c('subject.subjectGuid','Normalized_Concentration')]"
   ]
  },
  {
   "cell_type": "code",
   "execution_count": 91,
   "id": "be980bf7-a533-47a2-9351-2c4278d7af08",
   "metadata": {},
   "outputs": [],
   "source": [
    "colnames(df)<-c(c('subject.subjectGuid','MSD_phuket_fold_change'))"
   ]
  },
  {
   "cell_type": "code",
   "execution_count": 92,
   "id": "1b168d25-8328-4f91-a7e7-eeea955db4d4",
   "metadata": {},
   "outputs": [],
   "source": [
    "MSD_variable<-df"
   ]
  },
  {
   "cell_type": "markdown",
   "id": "16b62ac0-3e31-4f25-9def-6265edf1700e",
   "metadata": {},
   "source": [
    "# Frequency Changes"
   ]
  },
  {
   "cell_type": "code",
   "execution_count": 129,
   "id": "c52ca8d5-1e21-4096-90f1-145b80d452c1",
   "metadata": {},
   "outputs": [],
   "source": [
    "df<-read.csv('/home//jupyter/BRI_Figures_Final_V2/Figure5/01_Frequency_Comparison/freq_actual_flu_year_1_D0_D7.csv')"
   ]
  },
  {
   "cell_type": "code",
   "execution_count": 134,
   "id": "14f9edc3-49dc-4ae9-914c-d5a7719b022d",
   "metadata": {},
   "outputs": [],
   "source": [
    "df_CoreMemoryB<-df %>% filter(Flu_Year=='2020-2021',AIFI_L3=='Core memory B cell') %>%  \n",
    "select(subject.subjectGuid,AIFI_L3_clr,Flu_Day)%>%\n",
    "  dplyr::group_by(subject.subjectGuid) %>%\n",
    "  tidyr::spread(Flu_Day, AIFI_L3_clr) %>%\n",
    "  dplyr::mutate( CoreMemoryB_Freq_Fold_Changes = `Day 7` - `Day 0`) %>% \n",
    "  select(subject.subjectGuid,CoreMemoryB_Freq_Fold_Changes)\n",
    "\n",
    "df_Plasma<-df %>% filter(Flu_Year=='2020-2021',AIFI_L3=='Plasma cell') %>%  \n",
    "select(subject.subjectGuid,AIFI_L3_clr,Flu_Day)%>%\n",
    "  dplyr::group_by(subject.subjectGuid) %>%\n",
    "  tidyr::spread(Flu_Day, AIFI_L3_clr) %>%\n",
    "  dplyr::mutate( Plasma_Freq_Fold_Changes = `Day 7` - `Day 0`)%>% \n",
    "  select(subject.subjectGuid,Plasma_Freq_Fold_Changes)\n",
    "\n",
    "df_CD95memB<-df %>% filter(Flu_Year=='2020-2021',AIFI_L3=='CD95 memory B cell') %>%  \n",
    "select(subject.subjectGuid,AIFI_L3_clr,Flu_Day)%>%\n",
    "  dplyr::group_by(subject.subjectGuid) %>%\n",
    "  tidyr::spread(Flu_Day, AIFI_L3_clr) %>%\n",
    "  dplyr::mutate( CD95memB_Freq_Fold_Changes = `Day 7` - `Day 0`)%>% \n",
    "  select(subject.subjectGuid,CD95memB_Freq_Fold_Changes)"
   ]
  },
  {
   "cell_type": "code",
   "execution_count": 135,
   "id": "0564fe6b-7723-47bb-9400-d1c97a9c7a74",
   "metadata": {},
   "outputs": [
    {
     "name": "stderr",
     "output_type": "stream",
     "text": [
      "\u001b[1m\u001b[22mJoining with `by = join_by(subject.subjectGuid)`\n",
      "\u001b[1m\u001b[22mJoining with `by = join_by(subject.subjectGuid)`\n"
     ]
    }
   ],
   "source": [
    "scRNA_Fold_Change_variable<-left_join(df_Plasma,df_CoreMemoryB)\n",
    "scRNA_Fold_Change_variable<-left_join(scRNA_Fold_Change_variable,df_CD95memB)"
   ]
  },
  {
   "cell_type": "markdown",
   "id": "3a66e04b-0363-4ee4-a9b9-fe387acfc4d5",
   "metadata": {},
   "source": [
    "# Mean Expression  CD27- effector B"
   ]
  },
  {
   "cell_type": "code",
   "execution_count": 136,
   "id": "34e82bc6-8e88-4ce4-9271-d1b52a7fd3d8",
   "metadata": {},
   "outputs": [],
   "source": [
    "meta_data_selected_RNA_subset_D7<-meta_data %>% filter(Flu_Year==\"2020-2021\",sample.visitName\t%in%c(\"Flu Year 1 Day 7\") ) \n"
   ]
  },
  {
   "cell_type": "code",
   "execution_count": 137,
   "id": "489c19b5-8ca9-4581-8d35-4db4cdc7f474",
   "metadata": {},
   "outputs": [
    {
     "name": "stdout",
     "output_type": "stream",
     "text": [
      "[1] \"Total reading time: 5.73400000000004 seconds\"\n",
      "[1] \"The length of the list matches the length of the input path.\"\n"
     ]
    }
   ],
   "source": [
    "aggregated_count_file_list<-paste0(\"/home/jupyter/BRI_Figures_Final_V2/Dataset/scRNA/BRI/Average_LogNormalized_Expression/Average_LogNormalized_Expression_of_Celltypes_by_Sample_AIFI_L3/\",meta_data_selected_RNA_subset_D0$pbmc_sample_id,\".csv\")\n",
    "df_list<-read_pseudobulk_expression(aggregated_count_file_list)"
   ]
  },
  {
   "cell_type": "code",
   "execution_count": 138,
   "id": "d61e2485-7da5-4182-93df-2c64978a960f",
   "metadata": {},
   "outputs": [],
   "source": [
    "selected_genes<-c(\"IGHG3\",\"CD19\")\n"
   ]
  },
  {
   "cell_type": "code",
   "execution_count": 139,
   "id": "f3467af6-bec4-4198-924b-c49642e27d02",
   "metadata": {},
   "outputs": [
    {
     "name": "stderr",
     "output_type": "stream",
     "text": [
      "Warning message:\n",
      "“The melt generic in data.table has been passed a data.frame and will attempt to redirect to the relevant reshape2 method; please note that reshape2 is superseded and is no longer actively developed, and this redirection is now deprecated. To continue using melt methods from reshape2 while both libraries are attached, e.g. melt.list, you can prepend the namespace, i.e. reshape2::melt(exp_matrix). In the next version, this warning will become an error.”\n"
     ]
    }
   ],
   "source": [
    "df<-filter_genes_and_celltype(df_list, selected_genes, c('CD27- effector B cell'), longformat = TRUE)\n"
   ]
  },
  {
   "cell_type": "code",
   "execution_count": 140,
   "id": "a1706c4f-ea04-4e75-b66e-1f2d6591f517",
   "metadata": {},
   "outputs": [
    {
     "name": "stderr",
     "output_type": "stream",
     "text": [
      "\u001b[1m\u001b[22mJoining with `by = join_by(pbmc_sample_id)`\n"
     ]
    }
   ],
   "source": [
    "df<-left_join(df,meta_data_selected_RNA_subset_D7)"
   ]
  },
  {
   "cell_type": "code",
   "execution_count": 141,
   "id": "7f4cc19b-093d-46e1-8a27-838daf4769e6",
   "metadata": {},
   "outputs": [],
   "source": [
    "expression_IGHG3<-df %>% filter(Gene==\"IGHG3\") %>% \n",
    "select(subject.subjectGuid,Mean_Expression)%>% as.data.frame()\n",
    "\n",
    "expression_CD19<-df %>% filter(Gene==\"CD19\") %>% \n",
    "select(subject.subjectGuid,Mean_Expression)%>% as.data.frame()"
   ]
  },
  {
   "cell_type": "code",
   "execution_count": 142,
   "id": "91ed4096-a48c-4298-99a4-23eddbecf97a",
   "metadata": {},
   "outputs": [],
   "source": [
    "colnames(expression_IGHG3)<-c(\"subject.subjectGuid\",\"Mean_Expression_IGHG3_CD27negB\")\n",
    "colnames(expression_CD19)<-c(\"subject.subjectGuid\",\"Mean_Expression_CD19_CD27negB\")"
   ]
  },
  {
   "cell_type": "code",
   "execution_count": 143,
   "id": "5d6396a5-4b11-4a19-8779-9cc96ece79b8",
   "metadata": {},
   "outputs": [],
   "source": [
    "mean_expression_variable_CD27negB<-reduce(list(expression_IGHG3,expression_CD19), full_join, by = \"subject.subjectGuid\")"
   ]
  },
  {
   "cell_type": "markdown",
   "id": "1df15b29-aeac-46dd-8e87-d3603f7fab58",
   "metadata": {},
   "source": [
    "# Mean Expression CD95 memory"
   ]
  },
  {
   "cell_type": "code",
   "execution_count": 144,
   "id": "ebb92777-7613-486c-bd2e-e297c2821afe",
   "metadata": {},
   "outputs": [],
   "source": [
    "meta_data_selected_RNA_subset_D7<-meta_data %>% filter(Flu_Year==\"2020-2021\",sample.visitName\t%in%c(\"Flu Year 1 Day 7\") ) \n"
   ]
  },
  {
   "cell_type": "code",
   "execution_count": 145,
   "id": "815ddd76-f96e-4945-8b80-c9bdc84c181e",
   "metadata": {},
   "outputs": [
    {
     "name": "stdout",
     "output_type": "stream",
     "text": [
      "[1] \"Total reading time: 5.82299999999998 seconds\"\n",
      "[1] \"The length of the list matches the length of the input path.\"\n"
     ]
    }
   ],
   "source": [
    "aggregated_count_file_list<-paste0(\"/home/jupyter/BRI_Figures_Final_V2/Dataset/scRNA/BRI/Average_LogNormalized_Expression/Average_LogNormalized_Expression_of_Celltypes_by_Sample_AIFI_L3/\",meta_data_selected_RNA_subset_D0$pbmc_sample_id,\".csv\")\n",
    "df_list<-read_pseudobulk_expression(aggregated_count_file_list)"
   ]
  },
  {
   "cell_type": "code",
   "execution_count": 146,
   "id": "f05a9940-d51f-4d2a-8c55-5a3dc4cad48c",
   "metadata": {},
   "outputs": [],
   "source": [
    "selected_genes<-c(\"IGHG4\")\n"
   ]
  },
  {
   "cell_type": "code",
   "execution_count": 147,
   "id": "6552c429-0f18-46d8-9fb5-8153f3fab602",
   "metadata": {},
   "outputs": [
    {
     "name": "stderr",
     "output_type": "stream",
     "text": [
      "Warning message:\n",
      "“The melt generic in data.table has been passed a data.frame and will attempt to redirect to the relevant reshape2 method; please note that reshape2 is superseded and is no longer actively developed, and this redirection is now deprecated. To continue using melt methods from reshape2 while both libraries are attached, e.g. melt.list, you can prepend the namespace, i.e. reshape2::melt(exp_matrix). In the next version, this warning will become an error.”\n"
     ]
    }
   ],
   "source": [
    "df<-filter_genes_and_celltype(df_list, selected_genes, c('CD95 memory B cell'), longformat = TRUE)\n"
   ]
  },
  {
   "cell_type": "code",
   "execution_count": 148,
   "id": "38f753b8-baee-46fb-ac31-8c2de9ae3040",
   "metadata": {},
   "outputs": [
    {
     "name": "stderr",
     "output_type": "stream",
     "text": [
      "\u001b[1m\u001b[22mJoining with `by = join_by(pbmc_sample_id)`\n"
     ]
    }
   ],
   "source": [
    "df<-left_join(df,meta_data_selected_RNA_subset_D7)"
   ]
  },
  {
   "cell_type": "code",
   "execution_count": 149,
   "id": "2f55a424-63d8-4a60-b25a-34da49ea425f",
   "metadata": {},
   "outputs": [],
   "source": [
    "expression_IGHG4<-df %>% filter(Gene==\"IGHG4\") %>% \n",
    "select(subject.subjectGuid,Mean_Expression)%>% as.data.frame()\n"
   ]
  },
  {
   "cell_type": "code",
   "execution_count": 150,
   "id": "ea4d169b-c94b-4c79-918d-a386269f50b8",
   "metadata": {},
   "outputs": [],
   "source": [
    "colnames(expression_IGHG4)<-c(\"subject.subjectGuid\",\"Mean_Expression_IGHG4_CD95memB\")\n"
   ]
  },
  {
   "cell_type": "code",
   "execution_count": 151,
   "id": "df6b87a0-8cf8-4ab5-9f42-25a26dbb8a25",
   "metadata": {},
   "outputs": [],
   "source": [
    "mean_expression_variable_CD95memB<-expression_IGHG4"
   ]
  },
  {
   "cell_type": "markdown",
   "id": "6d260adf-4fce-4044-9f43-eee06ecef745",
   "metadata": {},
   "source": [
    "# Mean Expression Core Mem B"
   ]
  },
  {
   "cell_type": "code",
   "execution_count": 152,
   "id": "f2521073-46d4-4b08-b918-cb2483f774b0",
   "metadata": {},
   "outputs": [],
   "source": [
    "meta_data_selected_RNA_subset_D7<-meta_data %>% filter(Flu_Year==\"2020-2021\",sample.visitName\t%in%c(\"Flu Year 1 Day 7\") ) \n"
   ]
  },
  {
   "cell_type": "code",
   "execution_count": 153,
   "id": "4b666cbf-fe31-45c1-bc0f-d5e2f40a252c",
   "metadata": {},
   "outputs": [
    {
     "name": "stdout",
     "output_type": "stream",
     "text": [
      "[1] \"Total reading time: 5.59299999999996 seconds\"\n",
      "[1] \"The length of the list matches the length of the input path.\"\n"
     ]
    }
   ],
   "source": [
    "aggregated_count_file_list<-paste0(\"/home/jupyter/BRI_Figures_Final_V2/Dataset/scRNA/BRI/Average_LogNormalized_Expression/Average_LogNormalized_Expression_of_Celltypes_by_Sample_AIFI_L3/\",meta_data_selected_RNA_subset_D0$pbmc_sample_id,\".csv\")\n",
    "df_list<-read_pseudobulk_expression(aggregated_count_file_list)"
   ]
  },
  {
   "cell_type": "code",
   "execution_count": 154,
   "id": "f142f094-ba14-40ed-a238-b3336e12058b",
   "metadata": {},
   "outputs": [],
   "source": [
    "selected_genes<-c(\"IGHG4\")\n"
   ]
  },
  {
   "cell_type": "code",
   "execution_count": 155,
   "id": "da410827-6624-4c18-ab0f-319d5f039ff3",
   "metadata": {},
   "outputs": [
    {
     "name": "stderr",
     "output_type": "stream",
     "text": [
      "Warning message:\n",
      "“The melt generic in data.table has been passed a data.frame and will attempt to redirect to the relevant reshape2 method; please note that reshape2 is superseded and is no longer actively developed, and this redirection is now deprecated. To continue using melt methods from reshape2 while both libraries are attached, e.g. melt.list, you can prepend the namespace, i.e. reshape2::melt(exp_matrix). In the next version, this warning will become an error.”\n"
     ]
    }
   ],
   "source": [
    "df<-filter_genes_and_celltype(df_list, selected_genes, c('Core memory B cell'), longformat = TRUE)\n"
   ]
  },
  {
   "cell_type": "code",
   "execution_count": 156,
   "id": "7f944364-07f1-48bf-a616-e02797e3a052",
   "metadata": {},
   "outputs": [
    {
     "name": "stderr",
     "output_type": "stream",
     "text": [
      "\u001b[1m\u001b[22mJoining with `by = join_by(pbmc_sample_id)`\n"
     ]
    }
   ],
   "source": [
    "df<-left_join(df,meta_data_selected_RNA_subset_D7)"
   ]
  },
  {
   "cell_type": "code",
   "execution_count": 157,
   "id": "07953ac6-e6f1-4c28-9733-fad5988d8812",
   "metadata": {},
   "outputs": [],
   "source": [
    "expression_IGHG4<-df %>% filter(Gene==\"IGHG4\") %>% \n",
    "select(subject.subjectGuid,Mean_Expression)%>% as.data.frame()\n"
   ]
  },
  {
   "cell_type": "code",
   "execution_count": 158,
   "id": "90125716-bf1a-45b3-9207-842b88110f3a",
   "metadata": {},
   "outputs": [],
   "source": [
    "colnames(expression_IGHG4)<-c(\"subject.subjectGuid\",\"Mean_Expression_IGHG4_CorememB\")\n"
   ]
  },
  {
   "cell_type": "code",
   "execution_count": 159,
   "id": "84d28734-46a2-4fe5-aad9-8ef64e6069d0",
   "metadata": {},
   "outputs": [],
   "source": [
    "mean_expression_variable_CorememB<-expression_IGHG4"
   ]
  },
  {
   "cell_type": "markdown",
   "id": "962118d0-f764-4746-9012-37a809f0c8af",
   "metadata": {},
   "source": [
    "# Combine them together"
   ]
  },
  {
   "cell_type": "code",
   "execution_count": 160,
   "id": "49af9bf1-6c0c-4cf9-b66b-57a90f525229",
   "metadata": {},
   "outputs": [],
   "source": [
    "combined_df <- reduce(list(pathway_variable,\n",
    "                           MSD_variable,\n",
    "                          HAI_variable,\n",
    "                          scRNA_Fold_Change_variable,\n",
    "                           mean_expression_variable_CorememB,\n",
    "                           mean_expression_variable_CD95memB,\n",
    "                           mean_expression_variable_CD27negB), \n",
    "                      full_join, \n",
    "                      by = \"subject.subjectGuid\")"
   ]
  },
  {
   "cell_type": "code",
   "execution_count": 161,
   "id": "4dfbe493-60a5-42a2-9256-27d5817a1315",
   "metadata": {},
   "outputs": [],
   "source": [
    "write.csv(combined_df,\n",
    "          \"BRI_Bcell_data_forcorrelation.csv\")"
   ]
  },
  {
   "cell_type": "code",
   "execution_count": null,
   "id": "6f3e0689-9c10-443d-bf06-586c477fa004",
   "metadata": {},
   "outputs": [],
   "source": []
  },
  {
   "cell_type": "code",
   "execution_count": null,
   "id": "7bf1ac32-c571-423a-b6ca-d2c12073f639",
   "metadata": {},
   "outputs": [],
   "source": []
  },
  {
   "cell_type": "code",
   "execution_count": null,
   "id": "29874a80-c843-427b-869a-a0f0b88daa57",
   "metadata": {},
   "outputs": [],
   "source": []
  },
  {
   "cell_type": "code",
   "execution_count": null,
   "id": "bba6d2e3-64a7-48fa-968d-735d2417c721",
   "metadata": {},
   "outputs": [],
   "source": []
  },
  {
   "cell_type": "code",
   "execution_count": null,
   "id": "df06e40f-9b61-4ca8-be5a-5b9627a4461e",
   "metadata": {},
   "outputs": [],
   "source": []
  },
  {
   "cell_type": "code",
   "execution_count": null,
   "id": "8fccb858-48c8-496c-b3cf-06b7a3eef0ea",
   "metadata": {},
   "outputs": [],
   "source": []
  },
  {
   "cell_type": "code",
   "execution_count": null,
   "id": "dc03b828-ccdf-4204-8e38-73718590de7f",
   "metadata": {},
   "outputs": [],
   "source": []
  }
 ],
 "metadata": {
  "kernelspec": {
   "display_name": "R 4",
   "language": "R",
   "name": "ir4"
  },
  "language_info": {
   "codemirror_mode": "r",
   "file_extension": ".r",
   "mimetype": "text/x-r-source",
   "name": "R",
   "pygments_lexer": "r",
   "version": "4.3.2"
  }
 },
 "nbformat": 4,
 "nbformat_minor": 5
}
