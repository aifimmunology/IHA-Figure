{
 "cells": [
  {
   "cell_type": "code",
   "execution_count": 1,
   "id": "4ba4073a-1f8b-43e5-96a5-f6edb94fe8c9",
   "metadata": {},
   "outputs": [
    {
     "name": "stderr",
     "output_type": "stream",
     "text": [
      "Loading required package: viridisLite\n",
      "\n",
      "\n",
      "Attaching package: ‘scales’\n",
      "\n",
      "\n",
      "The following object is masked from ‘package:viridis’:\n",
      "\n",
      "    viridis_pal\n",
      "\n",
      "\n",
      "\n",
      "Attaching package: ‘purrr’\n",
      "\n",
      "\n",
      "The following object is masked from ‘package:scales’:\n",
      "\n",
      "    discard\n",
      "\n",
      "\n",
      "\n",
      "Attaching package: ‘igraph’\n",
      "\n",
      "\n",
      "The following objects are masked from ‘package:purrr’:\n",
      "\n",
      "    compose, simplify\n",
      "\n",
      "\n",
      "The following object is masked from ‘package:tibble’:\n",
      "\n",
      "    as_data_frame\n",
      "\n",
      "\n",
      "The following object is masked from ‘package:tidyr’:\n",
      "\n",
      "    crossing\n",
      "\n",
      "\n",
      "The following objects are masked from ‘package:dplyr’:\n",
      "\n",
      "    as_data_frame, groups, union\n",
      "\n",
      "\n",
      "The following objects are masked from ‘package:stats’:\n",
      "\n",
      "    decompose, spectrum\n",
      "\n",
      "\n",
      "The following object is masked from ‘package:base’:\n",
      "\n",
      "    union\n",
      "\n",
      "\n",
      "Loading required package: survival\n",
      "\n",
      "\n",
      "Attaching package: ‘coin’\n",
      "\n",
      "\n",
      "The following object is masked from ‘package:scales’:\n",
      "\n",
      "    pvalue\n",
      "\n",
      "\n",
      "\n",
      "Attaching package: ‘rstatix’\n",
      "\n",
      "\n",
      "The following objects are masked from ‘package:coin’:\n",
      "\n",
      "    chisq_test, friedman_test, kruskal_test, sign_test, wilcox_test\n",
      "\n",
      "\n",
      "The following object is masked from ‘package:stats’:\n",
      "\n",
      "    filter\n",
      "\n",
      "\n",
      "corrplot 0.85 loaded\n",
      "\n",
      "Registered S3 method overwritten by 'GGally':\n",
      "  method from   \n",
      "  +.gg   ggplot2\n",
      "\n"
     ]
    }
   ],
   "source": [
    "suppressPackageStartupMessages(library(dplyr))\n",
    "suppressPackageStartupMessages(library(tidyr))\n",
    "suppressPackageStartupMessages(library(tibble))\n",
    "suppressPackageStartupMessages(library(stringr))\n",
    "library(viridis)\n",
    "library(scales)\n",
    "library(RColorBrewer)\n",
    "library(parallel)\n",
    "library(purrr)\n",
    "library(ggplot2)\n",
    "library(igraph)\n",
    "library(ggraph)\n",
    "library(coin)\n",
    "library(colormap)\n",
    "library(rstatix)\n",
    "library(corrplot)\n",
    "library(GGally)\n",
    "options(warn=-1)\n",
    "\n",
    "mid_rescaler <- function(mid = 0) {\n",
    "  function(x, to = c(0, 1), from = range(x, na.rm = TRUE)) {\n",
    "    scales::rescale_mid(x, to, from, mid)\n",
    "  }\n",
    "}\n",
    "cor.mtest <- function(mat, conf.level = 0.95) {\n",
    "  mat <- as.matrix(mat)\n",
    "  n <- ncol(mat)\n",
    "  p.mat <- matrix(NA, n, n)\n",
    "  diag(p.mat) <- 0\n",
    "  for (i in 1:(n - 1)) {\n",
    "    for (j in (i + 1):n) {\n",
    "      tmp <- cor.test(mat[, i], mat[, j], \n",
    "                      method='spearman',\n",
    "                      conf.level = conf.level)\n",
    "      p.mat[i, j] <- p.mat[j, i] <- tmp$p.value\n",
    "    }\n",
    "  }\n",
    "  colnames(p.mat) <- rownames(p.mat) <- colnames(mat)\n",
    "  p.mat\n",
    "}"
   ]
  },
  {
   "cell_type": "code",
   "execution_count": 2,
   "id": "171f559e-a630-4997-b475-3df888f4603e",
   "metadata": {},
   "outputs": [],
   "source": [
    "T_cell_data<-read.csv(\"01_Get_Metrics/BRI_Tcell_data_forcorrelation.csv\")\n",
    "T_cell_data<-T_cell_data[,-1]\n",
    "B_cell_data<-read.csv(\"01_Get_Metrics/BRI_Bcell_data_forcorrelation.csv\",check.names = FALSE)\n",
    "B_cell_data<-B_cell_data[,-1]\n"
   ]
  },
  {
   "cell_type": "code",
   "execution_count": 3,
   "id": "056a70bc-2326-4ca0-966c-3eb00c0c4a58",
   "metadata": {},
   "outputs": [],
   "source": [
    "new_colnames <- names(T_cell_data)\n",
    "new_colnames[2:length(new_colnames)] <- str_c(\"T_\", new_colnames[2:length(new_colnames)])\n",
    "names(T_cell_data) <- new_colnames\n",
    "\n",
    "new_colnames <- names(B_cell_data)\n",
    "new_colnames[2:length(new_colnames)] <- str_c(\"B_\", new_colnames[2:length(new_colnames)])\n",
    "names(B_cell_data) <- new_colnames"
   ]
  },
  {
   "cell_type": "code",
   "execution_count": 4,
   "id": "3db23199-e22d-4423-aa31-4fc104d47612",
   "metadata": {},
   "outputs": [
    {
     "name": "stderr",
     "output_type": "stream",
     "text": [
      "\u001b[1m\u001b[22mJoining with `by = join_by(subject.subjectGuid)`\n"
     ]
    }
   ],
   "source": [
    "combined_df<-left_join(T_cell_data,B_cell_data)"
   ]
  },
  {
   "cell_type": "code",
   "execution_count": 5,
   "id": "e6eefa8a-fae9-4c85-8d7f-3d391eb41633",
   "metadata": {},
   "outputs": [],
   "source": [
    "\n",
    "combined_df<-combined_df[ , -which(names(combined_df) %in% \n",
    "                                   c('B_CoreMemoryB_HALLMARK_MYC_TARGETS_V2',\n",
    "                                     #'B_CoreMemoryB_Freq_Fold_Changes',\n",
    "                                     'B_CoreMemoryB_HALLMARK_ALLOGRAFT_REJECTION',\n",
    "                                     'B_CoreMemoryB_HALLMARK_MTORC1_SIGNALING',\n",
    "                                     #'B_MSD_phuket_fold_change',\n",
    "                                     'T_flow_Tfh_PD1pos_mean_diff',\n",
    "                                     'T_flow_Tfh_PD1neg_mean_diff'))]"
   ]
  },
  {
   "cell_type": "code",
   "execution_count": 6,
   "id": "0b4c09d7-7e45-4ebd-9001-55e8f9db73bd",
   "metadata": {},
   "outputs": [],
   "source": [
    "meta_data<-read.csv(\"/home/jupyter/BRI_Figures_Final_V2/Figure5/01_Frequency_Comparison/selected_samples_with_acutal_flu_year.csv\")"
   ]
  },
  {
   "cell_type": "code",
   "execution_count": 7,
   "id": "bf8f07e2-f780-4b9b-ada1-fc728bb7c2ce",
   "metadata": {},
   "outputs": [],
   "source": [
    "meta_data$Ages<-meta_data$subject.birthYear\n"
   ]
  },
  {
   "cell_type": "code",
   "execution_count": 8,
   "id": "f1950cb9-dc4c-4a75-8420-c57ca3ab5398",
   "metadata": {},
   "outputs": [
    {
     "name": "stderr",
     "output_type": "stream",
     "text": [
      "\u001b[1m\u001b[22mJoining with `by = join_by(subject.subjectGuid)`\n"
     ]
    }
   ],
   "source": [
    "combined_df<-left_join(combined_df,unique(meta_data[c('subject.subjectGuid','Ages')]))"
   ]
  },
  {
   "cell_type": "code",
   "execution_count": 9,
   "id": "bd7dbab5-f1c3-4ca8-b395-da12185ab919",
   "metadata": {},
   "outputs": [],
   "source": [
    "combined_df<-combined_df %>% filter(T_NMF_Th2<0.1)"
   ]
  },
  {
   "cell_type": "code",
   "execution_count": 10,
   "id": "d639c75a-ac2c-4a01-842d-f514c7208bec",
   "metadata": {},
   "outputs": [
    {
     "data": {
      "text/html": [
       "<style>\n",
       ".list-inline {list-style: none; margin:0; padding: 0}\n",
       ".list-inline>li {display: inline-block}\n",
       ".list-inline>li:not(:last-child)::after {content: \"\\00b7\"; padding: 0 .5ex}\n",
       "</style>\n",
       "<ol class=list-inline><li>'subject.subjectGuid'</li><li>'T_NMF_Th2'</li><li>'T_NMF_Tfh'</li><li>'T_Down_composite_score_sum_scaled_mean'</li><li>'T_Up_composite_score_sum_scaled_mean'</li><li>'T_InteractionScore_CD40LG_CD40'</li><li>'T_InteractionScore_PTPRC_CD22'</li><li>'T_Mean_Expression_CD40LG'</li><li>'T_Mean_Expression_CXCR5'</li><li>'B_CoreMemoryB_HALLMARK_TNFA_SIGNALING_VIA_NFKB'</li><li>'B_CoreMemoryB_HALLMARK_PI3K_AKT_MTOR_SIGNALING'</li><li>'B_CoreMemoryB_HALLMARK_MYC_TARGETS_V1'</li><li>'B_MSD_phuket_fold_change'</li><li>'B_HAI_fold_change'</li><li>'B_Plasma_Freq_Fold_Changes'</li><li>'B_CoreMemoryB_Freq_Fold_Changes'</li><li>'B_CD95memB_Freq_Fold_Changes'</li><li>'B_Mean_Expression_IGHG4_CorememB'</li><li>'B_Mean_Expression_IGHG4_CD95memB'</li><li>'B_Mean_Expression_IGHG3_CD27negB'</li><li>'B_Mean_Expression_CD19_CD27negB'</li><li>'Ages'</li></ol>\n"
      ],
      "text/latex": [
       "\\begin{enumerate*}\n",
       "\\item 'subject.subjectGuid'\n",
       "\\item 'T\\_NMF\\_Th2'\n",
       "\\item 'T\\_NMF\\_Tfh'\n",
       "\\item 'T\\_Down\\_composite\\_score\\_sum\\_scaled\\_mean'\n",
       "\\item 'T\\_Up\\_composite\\_score\\_sum\\_scaled\\_mean'\n",
       "\\item 'T\\_InteractionScore\\_CD40LG\\_CD40'\n",
       "\\item 'T\\_InteractionScore\\_PTPRC\\_CD22'\n",
       "\\item 'T\\_Mean\\_Expression\\_CD40LG'\n",
       "\\item 'T\\_Mean\\_Expression\\_CXCR5'\n",
       "\\item 'B\\_CoreMemoryB\\_HALLMARK\\_TNFA\\_SIGNALING\\_VIA\\_NFKB'\n",
       "\\item 'B\\_CoreMemoryB\\_HALLMARK\\_PI3K\\_AKT\\_MTOR\\_SIGNALING'\n",
       "\\item 'B\\_CoreMemoryB\\_HALLMARK\\_MYC\\_TARGETS\\_V1'\n",
       "\\item 'B\\_MSD\\_phuket\\_fold\\_change'\n",
       "\\item 'B\\_HAI\\_fold\\_change'\n",
       "\\item 'B\\_Plasma\\_Freq\\_Fold\\_Changes'\n",
       "\\item 'B\\_CoreMemoryB\\_Freq\\_Fold\\_Changes'\n",
       "\\item 'B\\_CD95memB\\_Freq\\_Fold\\_Changes'\n",
       "\\item 'B\\_Mean\\_Expression\\_IGHG4\\_CorememB'\n",
       "\\item 'B\\_Mean\\_Expression\\_IGHG4\\_CD95memB'\n",
       "\\item 'B\\_Mean\\_Expression\\_IGHG3\\_CD27negB'\n",
       "\\item 'B\\_Mean\\_Expression\\_CD19\\_CD27negB'\n",
       "\\item 'Ages'\n",
       "\\end{enumerate*}\n"
      ],
      "text/markdown": [
       "1. 'subject.subjectGuid'\n",
       "2. 'T_NMF_Th2'\n",
       "3. 'T_NMF_Tfh'\n",
       "4. 'T_Down_composite_score_sum_scaled_mean'\n",
       "5. 'T_Up_composite_score_sum_scaled_mean'\n",
       "6. 'T_InteractionScore_CD40LG_CD40'\n",
       "7. 'T_InteractionScore_PTPRC_CD22'\n",
       "8. 'T_Mean_Expression_CD40LG'\n",
       "9. 'T_Mean_Expression_CXCR5'\n",
       "10. 'B_CoreMemoryB_HALLMARK_TNFA_SIGNALING_VIA_NFKB'\n",
       "11. 'B_CoreMemoryB_HALLMARK_PI3K_AKT_MTOR_SIGNALING'\n",
       "12. 'B_CoreMemoryB_HALLMARK_MYC_TARGETS_V1'\n",
       "13. 'B_MSD_phuket_fold_change'\n",
       "14. 'B_HAI_fold_change'\n",
       "15. 'B_Plasma_Freq_Fold_Changes'\n",
       "16. 'B_CoreMemoryB_Freq_Fold_Changes'\n",
       "17. 'B_CD95memB_Freq_Fold_Changes'\n",
       "18. 'B_Mean_Expression_IGHG4_CorememB'\n",
       "19. 'B_Mean_Expression_IGHG4_CD95memB'\n",
       "20. 'B_Mean_Expression_IGHG3_CD27negB'\n",
       "21. 'B_Mean_Expression_CD19_CD27negB'\n",
       "22. 'Ages'\n",
       "\n",
       "\n"
      ],
      "text/plain": [
       " [1] \"subject.subjectGuid\"                           \n",
       " [2] \"T_NMF_Th2\"                                     \n",
       " [3] \"T_NMF_Tfh\"                                     \n",
       " [4] \"T_Down_composite_score_sum_scaled_mean\"        \n",
       " [5] \"T_Up_composite_score_sum_scaled_mean\"          \n",
       " [6] \"T_InteractionScore_CD40LG_CD40\"                \n",
       " [7] \"T_InteractionScore_PTPRC_CD22\"                 \n",
       " [8] \"T_Mean_Expression_CD40LG\"                      \n",
       " [9] \"T_Mean_Expression_CXCR5\"                       \n",
       "[10] \"B_CoreMemoryB_HALLMARK_TNFA_SIGNALING_VIA_NFKB\"\n",
       "[11] \"B_CoreMemoryB_HALLMARK_PI3K_AKT_MTOR_SIGNALING\"\n",
       "[12] \"B_CoreMemoryB_HALLMARK_MYC_TARGETS_V1\"         \n",
       "[13] \"B_MSD_phuket_fold_change\"                      \n",
       "[14] \"B_HAI_fold_change\"                             \n",
       "[15] \"B_Plasma_Freq_Fold_Changes\"                    \n",
       "[16] \"B_CoreMemoryB_Freq_Fold_Changes\"               \n",
       "[17] \"B_CD95memB_Freq_Fold_Changes\"                  \n",
       "[18] \"B_Mean_Expression_IGHG4_CorememB\"              \n",
       "[19] \"B_Mean_Expression_IGHG4_CD95memB\"              \n",
       "[20] \"B_Mean_Expression_IGHG3_CD27negB\"              \n",
       "[21] \"B_Mean_Expression_CD19_CD27negB\"               \n",
       "[22] \"Ages\"                                          "
      ]
     },
     "metadata": {},
     "output_type": "display_data"
    }
   ],
   "source": [
    "colnames(combined_df)"
   ]
  },
  {
   "cell_type": "code",
   "execution_count": 11,
   "id": "a8d11ce9-d0c8-48ba-82ee-f82dff96035d",
   "metadata": {},
   "outputs": [
    {
     "data": {
      "text/plain": [
       "\n",
       "\tAsymptotic Spearman Correlation Test\n",
       "\n",
       "data:  T_NMF_Th2 by T_Down_composite_score_sum_scaled_mean\n",
       "Z = -4.0254, p-value = 5.688e-05\n",
       "alternative hypothesis: true rho is not equal to 0\n"
      ]
     },
     "metadata": {},
     "output_type": "display_data"
    },
    {
     "data": {
      "text/plain": [
       "\n",
       "\tAsymptotic Spearman Correlation Test\n",
       "\n",
       "data:  T_NMF_Th2 by T_Up_composite_score_sum_scaled_mean\n",
       "Z = 2.251, p-value = 0.02439\n",
       "alternative hypothesis: true rho is not equal to 0\n"
      ]
     },
     "metadata": {},
     "output_type": "display_data"
    },
    {
     "data": {
      "text/plain": [
       "\n",
       "\tAsymptotic Spearman Correlation Test\n",
       "\n",
       "data:  T_NMF_Tfh by T_Down_composite_score_sum_scaled_mean\n",
       "Z = 6.4638, p-value = 1.021e-10\n",
       "alternative hypothesis: true rho is not equal to 0\n"
      ]
     },
     "metadata": {},
     "output_type": "display_data"
    },
    {
     "data": {
      "text/plain": [
       "\n",
       "\tAsymptotic Spearman Correlation Test\n",
       "\n",
       "data:  T_NMF_Tfh by T_Up_composite_score_sum_scaled_mean\n",
       "Z = -1.4016, p-value = 0.161\n",
       "alternative hypothesis: true rho is not equal to 0\n"
      ]
     },
     "metadata": {},
     "output_type": "display_data"
    },
    {
     "data": {
      "text/plain": [
       "\n",
       "\tAsymptotic Spearman Correlation Test\n",
       "\n",
       "data:  T_Mean_Expression_CXCR5 by\n",
       "\t B_CoreMemoryB_HALLMARK_TNFA_SIGNALING_VIA_NFKB\n",
       "Z = 2.2896, p-value = 0.02205\n",
       "alternative hypothesis: true rho is not equal to 0\n"
      ]
     },
     "metadata": {},
     "output_type": "display_data"
    }
   ],
   "source": [
    "spearman_test(T_NMF_Th2 ~ T_Down_composite_score_sum_scaled_mean, data = combined_df)\n",
    "spearman_test(T_NMF_Th2 ~ T_Up_composite_score_sum_scaled_mean, data = combined_df)\n",
    "spearman_test(T_NMF_Tfh ~ T_Down_composite_score_sum_scaled_mean, data = combined_df)\n",
    "spearman_test(T_NMF_Tfh ~ T_Up_composite_score_sum_scaled_mean, data = combined_df)\n",
    "spearman_test(T_Mean_Expression_CXCR5 ~ B_CoreMemoryB_HALLMARK_TNFA_SIGNALING_VIA_NFKB, data = combined_df)\n"
   ]
  },
  {
   "cell_type": "code",
   "execution_count": 12,
   "id": "146540a9-8561-4d47-99b2-f4451695609c",
   "metadata": {},
   "outputs": [],
   "source": [
    "cor_matrix <- as.data.frame(cor(combined_df[2:dim(combined_df)[2]],method='spearman', use = \"pairwise.complete.obs\"))\n",
    "cor_matrix$from<-rownames(cor_matrix)\n",
    "cor_matrix <- cor_matrix[, c(ncol(cor_matrix), 1:(ncol(cor_matrix)-1))]\n",
    "\n",
    "# Transform the adjacency matrix in a long format\n",
    "connect <- as.data.frame(cor_matrix) %>%\n",
    "  gather(key=\"to\", value=\"value\", -1) %>%\n",
    "  mutate(to = gsub(\"\\\\.\", \" \",to)) %>%\n",
    "  na.omit() "
   ]
  },
  {
   "cell_type": "code",
   "execution_count": 13,
   "id": "ddc27a37-f2fa-4764-836b-5c6af1d1c0e7",
   "metadata": {},
   "outputs": [],
   "source": [
    "p_matrix <- cor.mtest(combined_df[2:dim(combined_df)[2]])\n",
    "\n",
    "# Convert p_matrix to data frame and add row names\n",
    "p_matrix <- as.data.frame(p_matrix)\n",
    "p_matrix$from <- rownames(p_matrix)\n",
    "p_matrix <- p_matrix[, c(ncol(p_matrix), 1:(ncol(p_matrix)-1))]\n",
    "\n",
    "# Transform the adjacency matrix in a long format\n",
    "connect <- as.data.frame(cor_matrix) %>% \n",
    "  gather(key=\"to\", value=\"cor_value\", -1) %>%\n",
    "  mutate(to = gsub(\"\\\\.\", \" \",to)) %>%\n",
    "  na.omit()\n",
    "\n",
    "# Transform p_matrix to long format\n",
    "p_values_long <- as.data.frame(p_matrix) %>%\n",
    "  gather(key=\"to\", value=\"p_value\", -1) %>%\n",
    "  mutate(to = gsub(\"\\\\.\", \" \",to)) %>%\n",
    "  na.omit()"
   ]
  },
  {
   "cell_type": "code",
   "execution_count": 14,
   "id": "48323e59-4f56-4861-99c1-b38b11f75417",
   "metadata": {},
   "outputs": [],
   "source": [
    "connect$p_value<-p_values_long$p_value"
   ]
  },
  {
   "cell_type": "code",
   "execution_count": 15,
   "id": "edda25e7-f207-430e-ba99-2788190de7a7",
   "metadata": {},
   "outputs": [],
   "source": [
    "write.csv(connect,\"connect_all.csv\")"
   ]
  },
  {
   "cell_type": "code",
   "execution_count": 16,
   "id": "a1367dfd-cde1-4fca-aaad-477da0d6bf0f",
   "metadata": {},
   "outputs": [],
   "source": [
    "connect<-connect %>% filter(from%in% c('T_NMF_Tfh','T_NMF_Th2'))\n"
   ]
  },
  {
   "cell_type": "code",
   "execution_count": 17,
   "id": "73ce548e-450f-4643-99da-ccfa3903be13",
   "metadata": {},
   "outputs": [],
   "source": [
    "write.csv(connect,\"connect.csv\")"
   ]
  },
  {
   "cell_type": "code",
   "execution_count": 18,
   "id": "7282f4da-ee7a-4089-8df5-4a1b1a0ad3e2",
   "metadata": {},
   "outputs": [],
   "source": [
    "#connect <- connect %>% filter(p_value < 0.01)\n",
    "connect<-connect %>% filter(from%in% c('T_NMF_Tfh','T_NMF_Th2'))\n",
    "connect <- connect %>% filter(p_value < 0.05)"
   ]
  },
  {
   "cell_type": "code",
   "execution_count": 19,
   "id": "e7e6022f-0d8b-48c2-82b8-1a80f423b0d7",
   "metadata": {},
   "outputs": [],
   "source": [
    "gap_mock<-data.frame( from = \"T_NMF_Th2\",\n",
    "                     to = \"Mock\",\n",
    "                     cor_value = 1,\n",
    "                     p_value=1)"
   ]
  },
  {
   "cell_type": "code",
   "execution_count": 20,
   "id": "613a4c3e-5f89-43b9-ad90-66052148de18",
   "metadata": {},
   "outputs": [],
   "source": [
    "connect<-rbind(connect,gap_mock)"
   ]
  },
  {
   "cell_type": "code",
   "execution_count": 21,
   "id": "4fbc0e63-2549-4105-9990-91543a67a5bf",
   "metadata": {},
   "outputs": [
    {
     "data": {
      "text/html": [
       "<table class=\"dataframe\">\n",
       "<caption>A data.frame: 23 × 4</caption>\n",
       "<thead>\n",
       "\t<tr><th scope=col>from</th><th scope=col>to</th><th scope=col>cor_value</th><th scope=col>p_value</th></tr>\n",
       "\t<tr><th scope=col>&lt;chr&gt;</th><th scope=col>&lt;chr&gt;</th><th scope=col>&lt;dbl&gt;</th><th scope=col>&lt;dbl&gt;</th></tr>\n",
       "</thead>\n",
       "<tbody>\n",
       "\t<tr><td>T_NMF_Th2</td><td>T_NMF_Th2                                     </td><td> 1.0000000</td><td>0.000000e+00</td></tr>\n",
       "\t<tr><td>T_NMF_Tfh</td><td>T_NMF_Th2                                     </td><td>-0.3267220</td><td>7.202220e-03</td></tr>\n",
       "\t<tr><td>T_NMF_Th2</td><td>T_NMF_Tfh                                     </td><td>-0.3267220</td><td>7.202220e-03</td></tr>\n",
       "\t<tr><td>T_NMF_Tfh</td><td>T_NMF_Tfh                                     </td><td> 1.0000000</td><td>0.000000e+00</td></tr>\n",
       "\t<tr><td>T_NMF_Th2</td><td>T_Down_composite_score_sum_scaled_mean        </td><td>-0.4954905</td><td>2.592940e-05</td></tr>\n",
       "\t<tr><td>T_NMF_Tfh</td><td>T_Down_composite_score_sum_scaled_mean        </td><td> 0.7956341</td><td>0.000000e+00</td></tr>\n",
       "\t<tr><td>T_NMF_Th2</td><td>T_Up_composite_score_sum_scaled_mean          </td><td> 0.2770772</td><td>2.351549e-02</td></tr>\n",
       "\t<tr><td>T_NMF_Th2</td><td>T_InteractionScore_CD40LG_CD40                </td><td>-0.2687833</td><td>2.785464e-02</td></tr>\n",
       "\t<tr><td>T_NMF_Th2</td><td>T_InteractionScore_PTPRC_CD22                 </td><td>-0.5201289</td><td>6.446608e-06</td></tr>\n",
       "\t<tr><td>T_NMF_Tfh</td><td>T_InteractionScore_PTPRC_CD22                 </td><td> 0.7806124</td><td>6.764131e-15</td></tr>\n",
       "\t<tr><td>T_NMF_Th2</td><td>T_Mean_Expression_CXCR5                       </td><td>-0.4320776</td><td>2.980550e-04</td></tr>\n",
       "\t<tr><td>T_NMF_Tfh</td><td>T_Mean_Expression_CXCR5                       </td><td> 0.5686408</td><td>8.528623e-07</td></tr>\n",
       "\t<tr><td>T_NMF_Th2</td><td>B_CoreMemoryB_HALLMARK_TNFA_SIGNALING_VIA_NFKB</td><td>-0.4260117</td><td>3.681318e-04</td></tr>\n",
       "\t<tr><td>T_NMF_Tfh</td><td>B_CoreMemoryB_HALLMARK_TNFA_SIGNALING_VIA_NFKB</td><td> 0.5627345</td><td>1.153117e-06</td></tr>\n",
       "\t<tr><td>T_NMF_Th2</td><td>B_CoreMemoryB_HALLMARK_PI3K_AKT_MTOR_SIGNALING</td><td>-0.2438343</td><td>4.700273e-02</td></tr>\n",
       "\t<tr><td>T_NMF_Tfh</td><td>B_CoreMemoryB_HALLMARK_PI3K_AKT_MTOR_SIGNALING</td><td> 0.3857052</td><td>1.368167e-03</td></tr>\n",
       "\t<tr><td>T_NMF_Th2</td><td>B_CoreMemoryB_HALLMARK_MYC_TARGETS_V1         </td><td>-0.3028574</td><td>1.301783e-02</td></tr>\n",
       "\t<tr><td>T_NMF_Tfh</td><td>B_CoreMemoryB_HALLMARK_MYC_TARGETS_V1         </td><td> 0.4405380</td><td>2.206411e-04</td></tr>\n",
       "\t<tr><td>T_NMF_Th2</td><td>B_HAI_fold_change                             </td><td>-0.3146422</td><td>4.288519e-02</td></tr>\n",
       "\t<tr><td>T_NMF_Th2</td><td>B_Mean_Expression_IGHG4_CorememB              </td><td> 0.2617128</td><td>3.269730e-02</td></tr>\n",
       "\t<tr><td>T_NMF_Th2</td><td>B_Mean_Expression_IGHG4_CD95memB              </td><td> 0.2437944</td><td>4.703967e-02</td></tr>\n",
       "\t<tr><td>T_NMF_Th2</td><td>Ages                                          </td><td>-0.3639536</td><td>2.465097e-03</td></tr>\n",
       "\t<tr><td>T_NMF_Th2</td><td>Mock                                          </td><td> 1.0000000</td><td>1.000000e+00</td></tr>\n",
       "</tbody>\n",
       "</table>\n"
      ],
      "text/latex": [
       "A data.frame: 23 × 4\n",
       "\\begin{tabular}{llll}\n",
       " from & to & cor\\_value & p\\_value\\\\\n",
       " <chr> & <chr> & <dbl> & <dbl>\\\\\n",
       "\\hline\n",
       "\t T\\_NMF\\_Th2 & T\\_NMF\\_Th2                                      &  1.0000000 & 0.000000e+00\\\\\n",
       "\t T\\_NMF\\_Tfh & T\\_NMF\\_Th2                                      & -0.3267220 & 7.202220e-03\\\\\n",
       "\t T\\_NMF\\_Th2 & T\\_NMF\\_Tfh                                      & -0.3267220 & 7.202220e-03\\\\\n",
       "\t T\\_NMF\\_Tfh & T\\_NMF\\_Tfh                                      &  1.0000000 & 0.000000e+00\\\\\n",
       "\t T\\_NMF\\_Th2 & T\\_Down\\_composite\\_score\\_sum\\_scaled\\_mean         & -0.4954905 & 2.592940e-05\\\\\n",
       "\t T\\_NMF\\_Tfh & T\\_Down\\_composite\\_score\\_sum\\_scaled\\_mean         &  0.7956341 & 0.000000e+00\\\\\n",
       "\t T\\_NMF\\_Th2 & T\\_Up\\_composite\\_score\\_sum\\_scaled\\_mean           &  0.2770772 & 2.351549e-02\\\\\n",
       "\t T\\_NMF\\_Th2 & T\\_InteractionScore\\_CD40LG\\_CD40                 & -0.2687833 & 2.785464e-02\\\\\n",
       "\t T\\_NMF\\_Th2 & T\\_InteractionScore\\_PTPRC\\_CD22                  & -0.5201289 & 6.446608e-06\\\\\n",
       "\t T\\_NMF\\_Tfh & T\\_InteractionScore\\_PTPRC\\_CD22                  &  0.7806124 & 6.764131e-15\\\\\n",
       "\t T\\_NMF\\_Th2 & T\\_Mean\\_Expression\\_CXCR5                        & -0.4320776 & 2.980550e-04\\\\\n",
       "\t T\\_NMF\\_Tfh & T\\_Mean\\_Expression\\_CXCR5                        &  0.5686408 & 8.528623e-07\\\\\n",
       "\t T\\_NMF\\_Th2 & B\\_CoreMemoryB\\_HALLMARK\\_TNFA\\_SIGNALING\\_VIA\\_NFKB & -0.4260117 & 3.681318e-04\\\\\n",
       "\t T\\_NMF\\_Tfh & B\\_CoreMemoryB\\_HALLMARK\\_TNFA\\_SIGNALING\\_VIA\\_NFKB &  0.5627345 & 1.153117e-06\\\\\n",
       "\t T\\_NMF\\_Th2 & B\\_CoreMemoryB\\_HALLMARK\\_PI3K\\_AKT\\_MTOR\\_SIGNALING & -0.2438343 & 4.700273e-02\\\\\n",
       "\t T\\_NMF\\_Tfh & B\\_CoreMemoryB\\_HALLMARK\\_PI3K\\_AKT\\_MTOR\\_SIGNALING &  0.3857052 & 1.368167e-03\\\\\n",
       "\t T\\_NMF\\_Th2 & B\\_CoreMemoryB\\_HALLMARK\\_MYC\\_TARGETS\\_V1          & -0.3028574 & 1.301783e-02\\\\\n",
       "\t T\\_NMF\\_Tfh & B\\_CoreMemoryB\\_HALLMARK\\_MYC\\_TARGETS\\_V1          &  0.4405380 & 2.206411e-04\\\\\n",
       "\t T\\_NMF\\_Th2 & B\\_HAI\\_fold\\_change                              & -0.3146422 & 4.288519e-02\\\\\n",
       "\t T\\_NMF\\_Th2 & B\\_Mean\\_Expression\\_IGHG4\\_CorememB               &  0.2617128 & 3.269730e-02\\\\\n",
       "\t T\\_NMF\\_Th2 & B\\_Mean\\_Expression\\_IGHG4\\_CD95memB               &  0.2437944 & 4.703967e-02\\\\\n",
       "\t T\\_NMF\\_Th2 & Ages                                           & -0.3639536 & 2.465097e-03\\\\\n",
       "\t T\\_NMF\\_Th2 & Mock                                           &  1.0000000 & 1.000000e+00\\\\\n",
       "\\end{tabular}\n"
      ],
      "text/markdown": [
       "\n",
       "A data.frame: 23 × 4\n",
       "\n",
       "| from &lt;chr&gt; | to &lt;chr&gt; | cor_value &lt;dbl&gt; | p_value &lt;dbl&gt; |\n",
       "|---|---|---|---|\n",
       "| T_NMF_Th2 | T_NMF_Th2                                      |  1.0000000 | 0.000000e+00 |\n",
       "| T_NMF_Tfh | T_NMF_Th2                                      | -0.3267220 | 7.202220e-03 |\n",
       "| T_NMF_Th2 | T_NMF_Tfh                                      | -0.3267220 | 7.202220e-03 |\n",
       "| T_NMF_Tfh | T_NMF_Tfh                                      |  1.0000000 | 0.000000e+00 |\n",
       "| T_NMF_Th2 | T_Down_composite_score_sum_scaled_mean         | -0.4954905 | 2.592940e-05 |\n",
       "| T_NMF_Tfh | T_Down_composite_score_sum_scaled_mean         |  0.7956341 | 0.000000e+00 |\n",
       "| T_NMF_Th2 | T_Up_composite_score_sum_scaled_mean           |  0.2770772 | 2.351549e-02 |\n",
       "| T_NMF_Th2 | T_InteractionScore_CD40LG_CD40                 | -0.2687833 | 2.785464e-02 |\n",
       "| T_NMF_Th2 | T_InteractionScore_PTPRC_CD22                  | -0.5201289 | 6.446608e-06 |\n",
       "| T_NMF_Tfh | T_InteractionScore_PTPRC_CD22                  |  0.7806124 | 6.764131e-15 |\n",
       "| T_NMF_Th2 | T_Mean_Expression_CXCR5                        | -0.4320776 | 2.980550e-04 |\n",
       "| T_NMF_Tfh | T_Mean_Expression_CXCR5                        |  0.5686408 | 8.528623e-07 |\n",
       "| T_NMF_Th2 | B_CoreMemoryB_HALLMARK_TNFA_SIGNALING_VIA_NFKB | -0.4260117 | 3.681318e-04 |\n",
       "| T_NMF_Tfh | B_CoreMemoryB_HALLMARK_TNFA_SIGNALING_VIA_NFKB |  0.5627345 | 1.153117e-06 |\n",
       "| T_NMF_Th2 | B_CoreMemoryB_HALLMARK_PI3K_AKT_MTOR_SIGNALING | -0.2438343 | 4.700273e-02 |\n",
       "| T_NMF_Tfh | B_CoreMemoryB_HALLMARK_PI3K_AKT_MTOR_SIGNALING |  0.3857052 | 1.368167e-03 |\n",
       "| T_NMF_Th2 | B_CoreMemoryB_HALLMARK_MYC_TARGETS_V1          | -0.3028574 | 1.301783e-02 |\n",
       "| T_NMF_Tfh | B_CoreMemoryB_HALLMARK_MYC_TARGETS_V1          |  0.4405380 | 2.206411e-04 |\n",
       "| T_NMF_Th2 | B_HAI_fold_change                              | -0.3146422 | 4.288519e-02 |\n",
       "| T_NMF_Th2 | B_Mean_Expression_IGHG4_CorememB               |  0.2617128 | 3.269730e-02 |\n",
       "| T_NMF_Th2 | B_Mean_Expression_IGHG4_CD95memB               |  0.2437944 | 4.703967e-02 |\n",
       "| T_NMF_Th2 | Ages                                           | -0.3639536 | 2.465097e-03 |\n",
       "| T_NMF_Th2 | Mock                                           |  1.0000000 | 1.000000e+00 |\n",
       "\n"
      ],
      "text/plain": [
       "   from      to                                             cor_value \n",
       "1  T_NMF_Th2 T_NMF_Th2                                       1.0000000\n",
       "2  T_NMF_Tfh T_NMF_Th2                                      -0.3267220\n",
       "3  T_NMF_Th2 T_NMF_Tfh                                      -0.3267220\n",
       "4  T_NMF_Tfh T_NMF_Tfh                                       1.0000000\n",
       "5  T_NMF_Th2 T_Down_composite_score_sum_scaled_mean         -0.4954905\n",
       "6  T_NMF_Tfh T_Down_composite_score_sum_scaled_mean          0.7956341\n",
       "7  T_NMF_Th2 T_Up_composite_score_sum_scaled_mean            0.2770772\n",
       "8  T_NMF_Th2 T_InteractionScore_CD40LG_CD40                 -0.2687833\n",
       "9  T_NMF_Th2 T_InteractionScore_PTPRC_CD22                  -0.5201289\n",
       "10 T_NMF_Tfh T_InteractionScore_PTPRC_CD22                   0.7806124\n",
       "11 T_NMF_Th2 T_Mean_Expression_CXCR5                        -0.4320776\n",
       "12 T_NMF_Tfh T_Mean_Expression_CXCR5                         0.5686408\n",
       "13 T_NMF_Th2 B_CoreMemoryB_HALLMARK_TNFA_SIGNALING_VIA_NFKB -0.4260117\n",
       "14 T_NMF_Tfh B_CoreMemoryB_HALLMARK_TNFA_SIGNALING_VIA_NFKB  0.5627345\n",
       "15 T_NMF_Th2 B_CoreMemoryB_HALLMARK_PI3K_AKT_MTOR_SIGNALING -0.2438343\n",
       "16 T_NMF_Tfh B_CoreMemoryB_HALLMARK_PI3K_AKT_MTOR_SIGNALING  0.3857052\n",
       "17 T_NMF_Th2 B_CoreMemoryB_HALLMARK_MYC_TARGETS_V1          -0.3028574\n",
       "18 T_NMF_Tfh B_CoreMemoryB_HALLMARK_MYC_TARGETS_V1           0.4405380\n",
       "19 T_NMF_Th2 B_HAI_fold_change                              -0.3146422\n",
       "20 T_NMF_Th2 B_Mean_Expression_IGHG4_CorememB                0.2617128\n",
       "21 T_NMF_Th2 B_Mean_Expression_IGHG4_CD95memB                0.2437944\n",
       "22 T_NMF_Th2 Ages                                           -0.3639536\n",
       "23 T_NMF_Th2 Mock                                            1.0000000\n",
       "   p_value     \n",
       "1  0.000000e+00\n",
       "2  7.202220e-03\n",
       "3  7.202220e-03\n",
       "4  0.000000e+00\n",
       "5  2.592940e-05\n",
       "6  0.000000e+00\n",
       "7  2.351549e-02\n",
       "8  2.785464e-02\n",
       "9  6.446608e-06\n",
       "10 6.764131e-15\n",
       "11 2.980550e-04\n",
       "12 8.528623e-07\n",
       "13 3.681318e-04\n",
       "14 1.153117e-06\n",
       "15 4.700273e-02\n",
       "16 1.368167e-03\n",
       "17 1.301783e-02\n",
       "18 2.206411e-04\n",
       "19 4.288519e-02\n",
       "20 3.269730e-02\n",
       "21 4.703967e-02\n",
       "22 2.465097e-03\n",
       "23 1.000000e+00"
      ]
     },
     "metadata": {},
     "output_type": "display_data"
    }
   ],
   "source": [
    "connect"
   ]
  },
  {
   "cell_type": "code",
   "execution_count": 22,
   "id": "7afbfb6f-25cf-4408-982b-d2dbcd61f95c",
   "metadata": {},
   "outputs": [],
   "source": [
    "replacements <- c(\"T_NMF_Th2\" = \"CM CD4 T-Th2 Scores\",\n",
    "                  \"T_NMF_Tfh\" = \"CM CD4 T-Tfh Scores\",\n",
    "                  \n",
    "                  \"Mock\" = \"Mock\",\n",
    "                  \n",
    "                  \"Ages\" = \"Biological Ages\",\n",
    "                  \"T_Down_composite_score_sum_scaled_mean\" = \"CM CD4 T-Age Composite Metric(Down)\",\n",
    "                  \"T_Up_composite_score_sum_scaled_mean\" = \"CM CD4 T-Age Composite Metric(Up)\",\n",
    "                  \n",
    "                  \"T_InteractionScore_CD40LG_CD40\" = \"CM CD4 T/Core memory B-CD40LG_CD40 Interaction Score\",\n",
    "                  \"T_InteractionScore_PTPRC_CD22\" = \"CM CD4 T/Core memory B-PTPRC_CD22 Interaction Score\",\n",
    "                  \"T_Mean_Expression_CD40LG\" = \"CM CD4 T-CD40LG Mean Expression\",\n",
    "                  \"T_Mean_Expression_CXCR5\" = \"CM CD4 T-CXCR5 Mean Expression\",\n",
    "                  \n",
    "                  \"B_CoreMemoryB_HALLMARK_TNFA_SIGNALING_VIA_NFKB\" = \"Core memory B-TNFA SIGNALING VIA NFKB Pathway Score\",\n",
    "                  \"B_CoreMemoryB_HALLMARK_PI3K_AKT_MTOR_SIGNALING\" = \"Core memory B-PI3K AKT MTOR SIGNALING Pathway Score\",\n",
    "                  \"B_CoreMemoryB_HALLMARK_MYC_TARGETS_V1\" = \"Core memory B-MYC TARGETS V1 Pathway Score\",\n",
    "                  \"B_Mean_Expression_CD19\" = \"CD27 effector B-CD19 Mean Expression\",\n",
    "                  \"B_Mean_Expression_IGHG4_CorememB\" = \"Core memory B-IGHG4 Mean Expression\",\n",
    "                  \"B_Mean_Expression_IGHG4_CD95memB\" = \"CD95 memory B-IGHG4 Mean Expression\",\n",
    "                  \"B_HAI_phuket_day7\" = \"HAI Assay-Day 7 Inhibition\",\n",
    "                  \"B_HAI_fold_change\"= \"HAI Assay-Day 7/0 Fold Change\",\n",
    "\n",
    "                  \"B_Plasma_Freq_Fold_Changes\" = \"Plasma Cell-Day7/Day0 Frequency(CLR) Changes\"\n",
    "             \n",
    "                 )"
   ]
  },
  {
   "cell_type": "code",
   "execution_count": 23,
   "id": "508943eb-7e8b-4386-a329-96cb4e691745",
   "metadata": {},
   "outputs": [],
   "source": [
    "connect <- connect %>%\n",
    "  mutate(to = if_else(to %in% names(replacements), replacements[to], to))\n",
    "connect_addon<-connect %>% filter(from=='T_NMF_Th2',to==\"CM CD4 T-Tfh Scores\")\n",
    "connect_addon$to<-\"T_NMF_Tfh\"\n",
    "\n",
    "connect<-connect %>% filter(!to %in%c(\"CM CD4 T-Tfh Scores\",\"CM CD4 T-Th2 Scores\") )\n",
    "\n",
    "connect<-rbind(connect,connect_addon)"
   ]
  },
  {
   "cell_type": "code",
   "execution_count": 24,
   "id": "1697feb0-fb4b-40b3-b373-bd688ecf0abc",
   "metadata": {},
   "outputs": [],
   "source": [
    "options(repr.plot.width = 5, repr.plot.height = 6)\n",
    "# Number of connection per person\n",
    "c( as.character(connect$from), as.character(connect$to)) %>%\n",
    "  as.tibble() %>%\n",
    "  group_by(value) %>%\n",
    "  summarize(n=n()) -> coauth\n",
    "colnames(coauth) <- c(\"name\", \"n\")\n",
    "#dim(coauth)\n",
    "\n",
    "# Create a graph object with igraph\n",
    "mygraph <- graph_from_data_frame( connect, vertices = coauth, directed = FALSE )\n",
    "\n",
    "# Find community\n",
    "com <- walktrap.community(mygraph)\n",
    "#max(com$membership)\n",
    "#Reorder dataset and make the graph\n",
    "coauth <- coauth %>% \n",
    "  mutate( grp = com$membership) %>%\n",
    "  mutate(name = if_else(name %in% names(name), replacements[name], name))\n",
    "\n"
   ]
  },
  {
   "cell_type": "code",
   "execution_count": 25,
   "id": "9ee94cf9-09ff-4712-b631-2eaae1fda0bc",
   "metadata": {},
   "outputs": [],
   "source": [
    "coauth$name<-factor(coauth$name,levels=c(c(\"T_NMF_Tfh\",\"T_NMF_Th2\"),replacements))\n",
    "coauth<-coauth %>%  arrange(name)"
   ]
  },
  {
   "cell_type": "raw",
   "id": "122c095f-bb14-423f-b667-fac7654b2da9",
   "metadata": {},
   "source": [
    "\n",
    "connect <- connect %>%\n",
    "  filter(from %in% coauth$name) %>%\n",
    "  filter(to %in% coauth$name)"
   ]
  },
  {
   "cell_type": "code",
   "execution_count": 26,
   "id": "f4e68565-aa05-4ff3-8308-7ad32bc2be97",
   "metadata": {},
   "outputs": [],
   "source": [
    "\n",
    "coauth <- coauth %>%\n",
    "  mutate(cat = case_when(\n",
    "    str_starts(name, 'Core') ~ \"B cell\",\n",
    "    str_starts(name, 'CM CD4 T') ~ \"T cell\", \n",
    "    str_starts(name, 'CM CD4 T-Tfh') ~ \"Cell States\", \n",
    "    str_starts(name, 'CM CD4 T-Th2') ~ \"Cell States\", \n",
    "    TRUE ~ 'Others'\n",
    "  ))\n",
    "# Create a graph object with igraph\n",
    "mygraph <- graph_from_data_frame( connect, vertices = coauth, directed = FALSE )\n",
    "\n",
    "# prepare a vector of n color in the viridis scale\n",
    "mycolor <- colormap(colormap=colormaps$viridis, nshades=max(coauth$grp))\n",
    "mycolor <- sample(mycolor, length(mycolor))"
   ]
  },
  {
   "cell_type": "code",
   "execution_count": 27,
   "id": "251f720e-ce76-472e-b3d0-fc3857a8f768",
   "metadata": {},
   "outputs": [],
   "source": [
    "diverging_palette <- colorRampPalette(c('#67001F', '#B2182B', \n",
    "                                            '#D6604D', '#F4A582', \n",
    "                                            '#FDDBC7', '#FFFFFF',\n",
    "                                            '#D1E5F0', '#92C5DE', \n",
    "                                            '#4393C3', '#2166AC', \n",
    "                                            '#053061'))(500)"
   ]
  },
  {
   "cell_type": "code",
   "execution_count": 28,
   "id": "e4479eca-b3e8-4302-b402-7052c2e1978c",
   "metadata": {},
   "outputs": [],
   "source": [
    "connect<-connect %>% arrange(from,to)"
   ]
  },
  {
   "cell_type": "code",
   "execution_count": null,
   "id": "f0075929-e8d1-494c-98fa-9ec2005b1fd9",
   "metadata": {},
   "outputs": [],
   "source": []
  },
  {
   "cell_type": "code",
   "execution_count": 95,
   "id": "619a9ebd-6ac5-4c08-a20b-47cc2a43e525",
   "metadata": {},
   "outputs": [
    {
     "data": {
      "image/png": "[encoded data removed]",
      "text/plain": [
       "plot without title"
      ]
     },
     "metadata": {
      "image/png": {
       "height": 354.3307,
       "width": 188.9764
      }
     },
     "output_type": "display_data"
    }
   ],
   "source": [
    "options(repr.plot.width = 80/25.4, repr.plot.height = 150/25.4)\n",
    "\n",
    "p<-ggraph(mygraph, layout=\"linear\") + \n",
    "  geom_edge_arc(aes(colour = cor_value),angle_calc='cross', strength =  0.8, \n",
    "                edge_alpha=0.8, edge_width=0.5) +\n",
    "  geom_node_point(aes( color=cat),size=2,stroke=0) +\n",
    "  scale_edge_color_gradientn(colors = rev(diverging_palette) ,\n",
    "                             rescaler = ~ scales::rescale_mid(.x, mid = -0)) +\n",
    "  geom_node_text(aes(label=name), \n",
    "               angle=90, hjust=1, \n",
    "               nudge_y = -1.1, \n",
    "               size=2.3) +\n",
    "  theme_void(base_size=8) +\n",
    "  theme(\n",
    "    plot.margin=unit(c(0,0,0.4,0), \"null\"),\n",
    "    panel.spacing=unit(c(0,0,3.4,0), \"null\")\n",
    "  ) +\n",
    "  expand_limits(x = c(-1.2, 1.2), y = c(-5.6, 1.2))\n",
    "p\n",
    "ggsave(\"FigureA.pdf\",width = 80/25.4, height = 80/25.4)"
   ]
  },
  {
   "cell_type": "code",
   "execution_count": null,
   "id": "4d946f76-3f84-4028-abe4-548f0934bc06",
   "metadata": {},
   "outputs": [],
   "source": []
  },
  {
   "cell_type": "code",
   "execution_count": null,
   "id": "c612ad00-4a84-42eb-a2ea-51059f9096d5",
   "metadata": {},
   "outputs": [],
   "source": []
  },
  {
   "cell_type": "code",
   "execution_count": null,
   "id": "037c39aa-b0c0-435d-97c3-83f1b6292727",
   "metadata": {},
   "outputs": [],
   "source": []
  }
 ],
 "metadata": {
  "kernelspec": {
   "display_name": "R 4",
   "language": "R",
   "name": "ir4"
  },
  "language_info": {
   "codemirror_mode": "r",
   "file_extension": ".r",
   "mimetype": "text/x-r-source",
   "name": "R",
   "pygments_lexer": "r",
   "version": "4.3.2"
  }
 },
 "nbformat": 4,
 "nbformat_minor": 5
}
