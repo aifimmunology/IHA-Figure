{
 "cells": [
  {
   "cell_type": "code",
   "execution_count": 1,
   "id": "e7d6f712-a238-489f-b2a6-502722c50294",
   "metadata": {},
   "outputs": [
    {
     "name": "stdout",
     "output_type": "stream",
     "text": [
      "Current working directory: /home/jupyter/BRI_Figures_Final_V2/Figure2/02_DEG\n"
     ]
    }
   ],
   "source": [
    "import pandas as pd \n",
    "import numpy as np \n",
    "import scanpy as sc\n",
    "import matplotlib.pyplot as plt\n",
    "import concurrent.futures\n",
    "import pickle\n",
    "import warnings\n",
    "from datetime import date\n",
    "import hisepy\n",
    "import os\n",
    "import shutil\n",
    "from concurrent.futures import ThreadPoolExecutor, as_completed,ProcessPoolExecutor\n",
    "from tqdm import tqdm\n",
    "import anndata\n",
    "import gc\n",
    "warnings.filterwarnings(\"ignore\")\n",
    "sc.settings.n_jobs = 60\n",
    "print(\"Current working directory:\", os.getcwd())"
   ]
  },
  {
   "cell_type": "markdown",
   "id": "79a654fc-f356-4960-ad7a-9eaecc9c4293",
   "metadata": {},
   "source": [
    "# Read MetaData"
   ]
  },
  {
   "cell_type": "code",
   "execution_count": 3,
   "id": "bd8d8fa4-762e-4216-b1b8-74d9e433e481",
   "metadata": {},
   "outputs": [],
   "source": [
    "meta_data=pd.read_csv(\"/home/jupyter/BRI_Figures_Final_V2/Dataset/scRNA_meta_data-2024-05-09.csv\")"
   ]
  },
  {
   "cell_type": "markdown",
   "id": "06661ad0-e3e5-42e8-8752-e61daa6fb950",
   "metadata": {},
   "source": [
    "# Assemble Data"
   ]
  },
  {
   "cell_type": "code",
   "execution_count": 4,
   "id": "365271a1-2990-4dde-87d4-cdcd4094ba10",
   "metadata": {},
   "outputs": [],
   "source": [
    "meta_data_subset=meta_data[meta_data['sample.visitName'].isin(['Flu Year 1 Day 0'])]"
   ]
  },
  {
   "cell_type": "code",
   "execution_count": 5,
   "id": "5c5e2e83-dc8f-437e-bb57-d3cbdbf18dab",
   "metadata": {},
   "outputs": [],
   "source": [
    "meta_data_subset=meta_data_subset[meta_data_subset['Covid_exclusion']=='no']"
   ]
  },
  {
   "cell_type": "code",
   "execution_count": 6,
   "id": "7b8e2aa9-f346-4287-ad30-57413d242b9a",
   "metadata": {},
   "outputs": [
    {
     "name": "stderr",
     "output_type": "stream",
     "text": [
      "100% 92/92 [02:29<00:00,  1.62s/it] "
     ]
    },
    {
     "name": "stdout",
     "output_type": "stream",
     "text": [
      "CPU times: user 16.2 s, sys: 21.4 s, total: 37.7 s\n",
      "Wall time: 2min 30s\n"
     ]
    },
    {
     "name": "stderr",
     "output_type": "stream",
     "text": [
      "\n"
     ]
    }
   ],
   "source": [
    "%%time\n",
    "file_names= ['/home/jupyter/BRI_Figures_Final_V2/Dataset/scRNA/BRI/h5ad/sample_h5ad/'+x+\".h5ad\" for x in meta_data_subset['pbmc_sample_id'].tolist()]\n",
    "adata_list = []\n",
    "with ThreadPoolExecutor(max_workers=30) as executor:\n",
    "    future_to_file = {executor.submit(sc.read_h5ad, file_name): file_name for file_name in file_names}\n",
    "    for future in tqdm(as_completed(future_to_file), total=len(file_names)):\n",
    "        result = future.result()\n",
    "        if result is not None:\n",
    "            adata_list.append(result)"
   ]
  },
  {
   "cell_type": "code",
   "execution_count": 7,
   "id": "e536cec1-7611-4a08-b25b-47d80785c3a8",
   "metadata": {},
   "outputs": [
    {
     "data": {
      "text/plain": [
       "0"
      ]
     },
     "execution_count": 7,
     "metadata": {},
     "output_type": "execute_result"
    }
   ],
   "source": [
    "adata = anndata.concat(adata_list)\n",
    "del adata_list \n",
    "gc.collect()"
   ]
  },
  {
   "cell_type": "markdown",
   "id": "87d3f9dc-0841-45c3-b7e6-7548a6395c12",
   "metadata": {},
   "source": [
    "# Read Files and filter genes for DESEQ2"
   ]
  },
  {
   "cell_type": "code",
   "execution_count": 8,
   "id": "e95e1574-1aac-463f-9bde-d2bcacab9b42",
   "metadata": {},
   "outputs": [
    {
     "name": "stdout",
     "output_type": "stream",
     "text": [
      "GZMB- CD27+ EM CD4 T cell\n",
      "ISG+ CD14 monocyte\n",
      "GZMK+ Vd2 gdT\n",
      "GZMB- CD27- EM CD4 T cell\n",
      "CD56bright NK cell\n",
      "Early memory B cell\n",
      "Core naive B cell\n",
      "CLP cell\n",
      "ISG+ memory CD8 T cell\n",
      "IL1B+ CD14 monocyte\n",
      "Proliferating T cell\n",
      "Activated memory B cell\n",
      "KLRF1+ GZMB+ CD27- EM CD8 T cell\n",
      "C1Q+ CD16 monocyte\n",
      "ISG+ naive CD4 T cell\n",
      "ASDC\n",
      "CM CD4 T cell\n",
      "CD8aa\n",
      "Intermediate monocyte\n",
      "Type 2 polarized memory B cell\n",
      "ISG+ CD16 monocyte\n",
      "Core naive CD8 T cell\n",
      "GZMK+ CD56dim NK cell\n",
      "KLRF1+ effector Vd1 gdT\n",
      "Core CD14 monocyte\n",
      "ISG+ naive B cell\n",
      "Naive Vd1 gdT\n",
      "Transitional B cell\n",
      "Core naive CD4 T cell\n",
      "ISG+ MAIT\n",
      "CM CD8 T cell\n",
      "HLA-DRhi cDC2\n",
      "Core memory B cell\n",
      "ISG+ CD56dim NK cell\n",
      "pDC\n",
      "GZMK+ CD27+ EM CD8 T cell\n",
      "Core CD16 monocyte\n",
      "CD95 memory B cell\n",
      "cDC1\n",
      "Memory CD8 Treg\n",
      "GZMK- CD56dim NK cell\n",
      "Platelet\n",
      "CD27+ effector B cell\n",
      "GZMB+ Vd2 gdT\n",
      "ISG+ cDC2\n",
      "Naive CD4 Treg\n",
      "SOX4+ naive CD8 T cell\n",
      "Adaptive NK cell\n",
      "Memory CD4 Treg\n",
      "GZMK- CD27+ EM CD8 T cell\n",
      "CD14+ cDC2\n",
      "SOX4+ naive CD4 T cell\n",
      "ILC\n",
      "Plasma cell\n",
      "KLRF1- GZMB+ CD27- EM CD8 T cell\n",
      "Proliferating NK cell\n",
      "KLRF1- GZMB+ CD27- memory CD4 T cell\n",
      "Erythrocyte\n",
      "KLRB1+ memory CD8 Treg\n",
      "ISG+ naive CD8 T cell\n",
      "CD27- effector B cell\n",
      "GZMK+ memory CD4 Treg\n",
      "CD8 MAIT\n",
      "ISG+ memory CD4 T cell\n",
      "KLRB1+ memory CD4 Treg\n",
      "DN T cell\n",
      "CD4 MAIT\n",
      "CMP cell\n",
      "SOX4+ Vd1 gdT\n",
      "BaEoMaP cell\n",
      "KLRF1- effector Vd1 gdT\n"
     ]
    }
   ],
   "source": [
    "fitlered_gene=pd.DataFrame()\n",
    "for i in adata.obs['AIFI_L3'].unique():\n",
    "    print(i)\n",
    "    adata_subset=adata[adata.obs['AIFI_L3']==i]\n",
    "    sc.pp.filter_genes(adata_subset, min_cells=round(np.shape(adata_subset.X)[0]*0.1))\n",
    "    gene_list=pd.DataFrame(list(adata_subset.var.index))\n",
    "    gene_list.columns=['gene']\n",
    "    gene_list['AIFI_L3']=i\n",
    "    fitlered_gene=pd.concat([fitlered_gene,gene_list])"
   ]
  },
  {
   "cell_type": "code",
   "execution_count": 9,
   "id": "b5923272-1d53-474f-ba59-1549aff41abc",
   "metadata": {},
   "outputs": [],
   "source": [
    "fitlered_gene.to_csv(\"filtered_gene_Y1D0.csv\")"
   ]
  },
  {
   "cell_type": "code",
   "execution_count": null,
   "id": "5ceff1c9-ebdd-4a41-9427-d2ef1c4d8e01",
   "metadata": {},
   "outputs": [],
   "source": []
  },
  {
   "cell_type": "code",
   "execution_count": null,
   "id": "6e15fde2-5f72-4b0f-98d1-510882a98c47",
   "metadata": {},
   "outputs": [],
   "source": []
  }
 ],
 "metadata": {
  "kernelspec": {
   "display_name": "Python [conda env:root] *",
   "language": "python",
   "name": "conda-root-py"
  },
  "language_info": {
   "codemirror_mode": {
    "name": "ipython",
    "version": 3
   },
   "file_extension": ".py",
   "mimetype": "text/x-python",
   "name": "python",
   "nbconvert_exporter": "python",
   "pygments_lexer": "ipython3",
   "version": "3.10.13"
  }
 },
 "nbformat": 4,
 "nbformat_minor": 5
}
