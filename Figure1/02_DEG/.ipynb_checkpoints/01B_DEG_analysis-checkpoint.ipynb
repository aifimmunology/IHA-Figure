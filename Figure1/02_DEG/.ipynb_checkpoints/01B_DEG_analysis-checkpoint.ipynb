{
 "cells": [
  {
   "cell_type": "code",
   "execution_count": 1,
   "id": "a607278e-8546-4885-b030-be2b0e304815",
   "metadata": {},
   "outputs": [
    {
     "name": "stderr",
     "output_type": "stream",
     "text": [
      "Loading required package: S4Vectors\n",
      "\n",
      "Loading required package: stats4\n",
      "\n",
      "Loading required package: BiocGenerics\n",
      "\n",
      "\n",
      "Attaching package: ‘BiocGenerics’\n",
      "\n",
      "\n",
      "The following objects are masked from ‘package:dplyr’:\n",
      "\n",
      "    combine, intersect, setdiff, union\n",
      "\n",
      "\n",
      "The following objects are masked from ‘package:stats’:\n",
      "\n",
      "    IQR, mad, sd, var, xtabs\n",
      "\n",
      "\n",
      "The following objects are masked from ‘package:base’:\n",
      "\n",
      "    anyDuplicated, aperm, append, as.data.frame, basename, cbind,\n",
      "    colnames, dirname, do.call, duplicated, eval, evalq, Filter, Find,\n",
      "    get, grep, grepl, intersect, is.unsorted, lapply, Map, mapply,\n",
      "    match, mget, order, paste, pmax, pmax.int, pmin, pmin.int,\n",
      "    Position, rank, rbind, Reduce, rownames, sapply, setdiff, sort,\n",
      "    table, tapply, union, unique, unsplit, which.max, which.min\n",
      "\n",
      "\n",
      "\n",
      "Attaching package: ‘S4Vectors’\n",
      "\n",
      "\n",
      "The following object is masked from ‘package:tidyr’:\n",
      "\n",
      "    expand\n",
      "\n",
      "\n",
      "The following objects are masked from ‘package:dplyr’:\n",
      "\n",
      "    first, rename\n",
      "\n",
      "\n",
      "The following object is masked from ‘package:utils’:\n",
      "\n",
      "    findMatches\n",
      "\n",
      "\n",
      "The following objects are masked from ‘package:base’:\n",
      "\n",
      "    expand.grid, I, unname\n",
      "\n",
      "\n",
      "Loading required package: IRanges\n",
      "\n",
      "\n",
      "Attaching package: ‘IRanges’\n",
      "\n",
      "\n",
      "The following objects are masked from ‘package:dplyr’:\n",
      "\n",
      "    collapse, desc, slice\n",
      "\n",
      "\n",
      "Loading required package: GenomicRanges\n",
      "\n",
      "Loading required package: GenomeInfoDb\n",
      "\n",
      "Loading required package: SummarizedExperiment\n",
      "\n",
      "Loading required package: MatrixGenerics\n",
      "\n",
      "Loading required package: matrixStats\n",
      "\n",
      "\n",
      "Attaching package: ‘matrixStats’\n",
      "\n",
      "\n",
      "The following object is masked from ‘package:dplyr’:\n",
      "\n",
      "    count\n",
      "\n",
      "\n",
      "\n",
      "Attaching package: ‘MatrixGenerics’\n",
      "\n",
      "\n",
      "The following objects are masked from ‘package:matrixStats’:\n",
      "\n",
      "    colAlls, colAnyNAs, colAnys, colAvgsPerRowSet, colCollapse,\n",
      "    colCounts, colCummaxs, colCummins, colCumprods, colCumsums,\n",
      "    colDiffs, colIQRDiffs, colIQRs, colLogSumExps, colMadDiffs,\n",
      "    colMads, colMaxs, colMeans2, colMedians, colMins, colOrderStats,\n",
      "    colProds, colQuantiles, colRanges, colRanks, colSdDiffs, colSds,\n",
      "    colSums2, colTabulates, colVarDiffs, colVars, colWeightedMads,\n",
      "    colWeightedMeans, colWeightedMedians, colWeightedSds,\n",
      "    colWeightedVars, rowAlls, rowAnyNAs, rowAnys, rowAvgsPerColSet,\n",
      "    rowCollapse, rowCounts, rowCummaxs, rowCummins, rowCumprods,\n",
      "    rowCumsums, rowDiffs, rowIQRDiffs, rowIQRs, rowLogSumExps,\n",
      "    rowMadDiffs, rowMads, rowMaxs, rowMeans2, rowMedians, rowMins,\n",
      "    rowOrderStats, rowProds, rowQuantiles, rowRanges, rowRanks,\n",
      "    rowSdDiffs, rowSds, rowSums2, rowTabulates, rowVarDiffs, rowVars,\n",
      "    rowWeightedMads, rowWeightedMeans, rowWeightedMedians,\n",
      "    rowWeightedSds, rowWeightedVars\n",
      "\n",
      "\n",
      "Loading required package: Biobase\n",
      "\n",
      "Welcome to Bioconductor\n",
      "\n",
      "    Vignettes contain introductory material; view with\n",
      "    'browseVignettes()'. To cite Bioconductor, see\n",
      "    'citation(\"Biobase\")', and for packages 'citation(\"pkgname\")'.\n",
      "\n",
      "\n",
      "\n",
      "Attaching package: ‘Biobase’\n",
      "\n",
      "\n",
      "The following object is masked from ‘package:MatrixGenerics’:\n",
      "\n",
      "    rowMedians\n",
      "\n",
      "\n",
      "The following objects are masked from ‘package:matrixStats’:\n",
      "\n",
      "    anyMissing, rowMedians\n",
      "\n",
      "\n"
     ]
    }
   ],
   "source": [
    "suppressPackageStartupMessages(library(dplyr))\n",
    "suppressPackageStartupMessages(library(tidyr))\n",
    "suppressPackageStartupMessages(library(tibble))\n",
    "suppressPackageStartupMessages(library(stringr))\n",
    "library(parallel)\n",
    "library(DESeq2)\n",
    "library(hise)\n",
    "source('/home//jupyter/BRI_Figures_Final_V2/helper_function/helper_function_IHA.r')"
   ]
  },
  {
   "cell_type": "markdown",
   "id": "4be5c0b9-7368-416b-8c16-0f7c22875f18",
   "metadata": {},
   "source": [
    "# Read Meta Data"
   ]
  },
  {
   "cell_type": "code",
   "execution_count": 2,
   "id": "e68d98b3-3160-4b4f-97d9-1e13c0da81ef",
   "metadata": {},
   "outputs": [],
   "source": [
    "meta_data=read.csv(\"/home/jupyter/BRI_Figures_Final_V2/Dataset/scRNA_meta_data-2024-05-09.csv\")"
   ]
  },
  {
   "cell_type": "code",
   "execution_count": 26,
   "id": "5710b188-6792-4c87-8d71-1044071bf995",
   "metadata": {},
   "outputs": [],
   "source": [
    "df<-as.data.frame(table(meta_data$subject.subjectGuid))"
   ]
  },
  {
   "cell_type": "code",
   "execution_count": 25,
   "id": "08890b53-8ece-4206-b643-ceeb3c9fd9de",
   "metadata": {},
   "outputs": [],
   "source": [
    "df$sub<-df$Var1"
   ]
  },
  {
   "cell_type": "code",
   "execution_count": 31,
   "id": "ef839137-2fcb-477a-8336-2a5a5ece7f22",
   "metadata": {},
   "outputs": [],
   "source": [
    "df$cohort<-substr(as.character(df$Var1),1,3)"
   ]
  },
  {
   "cell_type": "code",
   "execution_count": 34,
   "id": "19444955-b843-4887-8d19-cf7167b90192",
   "metadata": {},
   "outputs": [
    {
     "data": {
      "text/plain": [
       "\n",
       "BR1 BR2 \n",
       " 49  47 "
      ]
     },
     "metadata": {},
     "output_type": "display_data"
    }
   ],
   "source": [
    "table (df$cohort)"
   ]
  },
  {
   "cell_type": "markdown",
   "id": "4f43a8bb-2e29-4066-adbf-d4619be3acb8",
   "metadata": {},
   "source": [
    "# Perform Deseq2 on Year 1 Day 0 samples"
   ]
  },
  {
   "cell_type": "code",
   "execution_count": 3,
   "id": "e3dd9eb4-7405-43b0-b3fb-78e1c1f2a616",
   "metadata": {},
   "outputs": [],
   "source": [
    "filtered_gene_set<-read.csv(\"filtered_gene_Y1D0.csv\")"
   ]
  },
  {
   "cell_type": "code",
   "execution_count": 9,
   "id": "b738bf6c-247d-465f-9c5f-4f05da36fc70",
   "metadata": {},
   "outputs": [],
   "source": [
    "meta_data_subset=meta_data %>% filter(sample.visitName==\"Flu Year 1 Day 0\",Covid_exclusion=='no')\n"
   ]
  },
  {
   "cell_type": "code",
   "execution_count": 12,
   "id": "26192b95-5eed-4a59-afce-a6bcfa534af8",
   "metadata": {},
   "outputs": [
    {
     "data": {
      "text/plain": [
       "\n",
       "Negative Positive \n",
       "      50       42 "
      ]
     },
     "metadata": {},
     "output_type": "display_data"
    }
   ],
   "source": [
    "table(meta_data_subset$CMV)"
   ]
  },
  {
   "cell_type": "code",
   "execution_count": 7,
   "id": "b81c0e7e-5360-44ab-a955-763f62507555",
   "metadata": {},
   "outputs": [
    {
     "name": "stdout",
     "output_type": "stream",
     "text": [
      "[1] \"Total reading time: 14.875 seconds\"\n",
      "[1] \"The length of the list matches the length of the input path.\"\n"
     ]
    }
   ],
   "source": [
    "meta_data_subset=meta_data %>% filter(sample.visitName==\"Flu Year 1 Day 0\")\n",
    "\n",
    "aggregated_count_file_list<-paste0(\"/home/jupyter/BRI_Figures_Final_V2/Dataset/scRNA/BRI/Aggregated_Count/Aggregated_Raw_Expression_of_Celltypes_by_Sample_AIFI_L3/\",meta_data_subset$pbmc_sample_id,\".csv\")\n",
    "\n",
    "df_list<-read_pseudobulk_expression(aggregated_count_file_list)"
   ]
  },
  {
   "cell_type": "code",
   "execution_count": 8,
   "id": "91ac94b4-ae3f-419b-b6fa-b64b8c996bb9",
   "metadata": {},
   "outputs": [],
   "source": [
    "celltypes <- unique(unlist(lapply(df_list, names)))\n",
    "celltypes<-unique(sub(\".*:\", \"\", celltypes))"
   ]
  },
  {
   "cell_type": "code",
   "execution_count": 10,
   "id": "60fb5fc6-ac25-4e07-bd04-586ff03a7791",
   "metadata": {
    "scrolled": true
   },
   "outputs": [],
   "source": [
    "res_list<-mclapply(celltypes, function(celltype){\n",
    "    print(celltype)\n",
    "    celltype_list <- lapply(df_list, function(df) { df <- df[, grep(celltype, names(df), fixed = TRUE),drop=FALSE] })\n",
    "    exp_matrix<-do.call(cbind,celltype_list)\n",
    "    colnames(exp_matrix)<-sub(\":.*\", \"\", colnames(exp_matrix))\n",
    "    rownames(meta_data_subset)<-meta_data_subset$pbmc_sample_id\n",
    "    filtered_gene_set_filtered<-filtered_gene_set%>% filter(AIFI_L3==celltype)%>% select(gene) %>%pull()\n",
    "    \n",
    "    res=deseq2_analysis(exp_matrix,\n",
    "                     meta_data=meta_data_subset,\n",
    "                     filtered_gene_set=filtered_gene_set_filtered,\n",
    "                     formula= ~  cohort.cohortGuid+subject.biologicalSex+CMV,\n",
    "                     comparisons=list(c(\"subject.biologicalSex\", \"Male\", \"Female\"),\n",
    "                                      c(\"cohort.cohortGuid\", \"BR2\", \"BR1\"),\n",
    "                                      c(\"CMV\", \"Positive\", \"Negative\")),\n",
    "                     celltype=celltype)\n",
    "    return(res)\n",
    "},mc.cores=60)"
   ]
  },
  {
   "cell_type": "code",
   "execution_count": 11,
   "id": "c42430f2-e644-41ea-bb8e-48dcff413cec",
   "metadata": {
    "scrolled": true
   },
   "outputs": [],
   "source": [
    "res_all<-do.call(rbind,res_list)"
   ]
  },
  {
   "cell_type": "code",
   "execution_count": 12,
   "id": "d1521d60-5802-426c-a247-a9bd32bf876a",
   "metadata": {},
   "outputs": [],
   "source": [
    "write.csv(res_all,\"Deseq2_Result_Y1D0.csv\")"
   ]
  }
 ],
 "metadata": {
  "kernelspec": {
   "display_name": "R 4",
   "language": "R",
   "name": "ir4"
  },
  "language_info": {
   "codemirror_mode": "r",
   "file_extension": ".r",
   "mimetype": "text/x-r-source",
   "name": "R",
   "pygments_lexer": "r",
   "version": "4.3.2"
  }
 },
 "nbformat": 4,
 "nbformat_minor": 5
}
