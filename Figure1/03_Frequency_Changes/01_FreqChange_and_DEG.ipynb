{
 "cells": [
  {
   "cell_type": "code",
   "execution_count": 68,
   "id": "2bb275a7-bba3-4f65-8cd3-69d7b385d92c",
   "metadata": {},
   "outputs": [],
   "source": [
    "suppressPackageStartupMessages(library(dplyr))\n",
    "suppressPackageStartupMessages(library(tidyr))\n",
    "suppressPackageStartupMessages(library(tibble))\n",
    "suppressPackageStartupMessages(library(ggplot2))\n",
    "suppressPackageStartupMessages(library(stringr))\n",
    "library(ggrepel)\n",
    "library(reshape2)\n",
    "library(ggsci)\n",
    "library(rstatix)\n",
    "library(ggpubr)\n",
    "library(hise)"
   ]
  },
  {
   "cell_type": "code",
   "execution_count": 69,
   "id": "74e8cce3-696b-4808-ac01-83e78413337e",
   "metadata": {},
   "outputs": [],
   "source": [
    "source(\"../..//helper_function//helper_function_IHA.r\")"
   ]
  },
  {
   "cell_type": "markdown",
   "id": "2e254a0f-61f4-4807-aed7-c09a217590d7",
   "metadata": {},
   "source": [
    "# Get DEG Number"
   ]
  },
  {
   "cell_type": "code",
   "execution_count": 70,
   "id": "2366f4a7-9322-4795-a86e-1173248335fc",
   "metadata": {},
   "outputs": [],
   "source": [
    "DEG_res<-read.csv(\"../02_DEG/Deseq2_Result_Y1D0.csv\")"
   ]
  },
  {
   "cell_type": "code",
   "execution_count": 71,
   "id": "aa7a4214-7d7b-43aa-86a1-835d202fa3fa",
   "metadata": {},
   "outputs": [],
   "source": [
    "DEG_res_signi<-DEG_res %>% filter(padj<0.05,abs(log2FoldChange)>0.1)"
   ]
  },
  {
   "cell_type": "code",
   "execution_count": 72,
   "id": "917e6575-9176-4008-a730-789dcf030f43",
   "metadata": {},
   "outputs": [],
   "source": [
    "DEG_counts<-as.data.frame(table(DEG_res_signi$contrast,DEG_res_signi$celltype))"
   ]
  },
  {
   "cell_type": "code",
   "execution_count": 73,
   "id": "b1eed6c7-93ef-4411-9467-85cb249b2dd6",
   "metadata": {},
   "outputs": [],
   "source": [
    "colnames(DEG_counts)<-c(\"factor\",\"AIFI_L3\",\"DEG_Counts\")"
   ]
  },
  {
   "cell_type": "markdown",
   "id": "79bbc57e-8370-472f-a8e1-f365cd99da78",
   "metadata": {},
   "source": [
    "# Get Freq"
   ]
  },
  {
   "cell_type": "code",
   "execution_count": 74,
   "id": "6ac1ba22-6654-4bdb-b7b9-bef468dadbcb",
   "metadata": {},
   "outputs": [],
   "source": [
    "BRI_Freq_Data<-read.csv(\"../../Dataset/diha_AIFI_L3_frequencies_2024-05-05.csv\")"
   ]
  },
  {
   "cell_type": "raw",
   "id": "72e8e506-9461-4bae-a557-a4faa62d6a01",
   "metadata": {},
   "source": [
    "BRI_Freq_Data<-BRI_Freq_Data %>% complete_with_pseudocount(sample_col  = \"sample.sampleKitGuid\",\n",
    "  count_col   = \"AIFI_L3_count\",\n",
    "  var_col     = \"AIFI_L3\",\n",
    "  pseudocount = 1) %>% arrange(AIFI_L3_count)"
   ]
  },
  {
   "cell_type": "code",
   "execution_count": 75,
   "id": "d87dcc7d-f816-4a8b-9a6e-b7829dcfa3af",
   "metadata": {},
   "outputs": [],
   "source": [
    "BRI_Freq_Data<-BRI_Freq_Data %>% group_by(sample.sampleKitGuid) %>%\n",
    "  dplyr::mutate(percentage = (AIFI_L3_count / sum(AIFI_L3_count)) * 100) %>% \n",
    "  dplyr::mutate(AIFI_L3_clr = clr_transform(percentage)) %>% ungroup()"
   ]
  },
  {
   "cell_type": "code",
   "execution_count": 76,
   "id": "8a4f88f4-1a3b-4e58-8831-a9b599946566",
   "metadata": {},
   "outputs": [],
   "source": [
    "BRI_Freq_Data_subset<-BRI_Freq_Data %>% filter(sample.visitName==\"Flu Year 1 Day 0\")"
   ]
  },
  {
   "cell_type": "markdown",
   "id": "8bf10440-a0cb-48b3-b70f-a594c1050cf6",
   "metadata": {},
   "source": [
    "### AgeGroup"
   ]
  },
  {
   "cell_type": "code",
   "execution_count": 77,
   "id": "b9451860-ee5d-4e3b-b9c0-5bc6c7105669",
   "metadata": {},
   "outputs": [
    {
     "name": "stderr",
     "output_type": "stream",
     "text": [
      "\u001b[1m\u001b[22m`summarise()` has grouped output by 'AIFI_L3'. You can override using the\n",
      "`.groups` argument.\n",
      "Warning message:\n",
      "“\u001b[1m\u001b[22mThere were 4 warnings in `mutate()`.\n",
      "The first warning was:\n",
      "\u001b[1m\u001b[22m\u001b[36mℹ\u001b[39m In argument: `log2fc = log2(BR2/BR1)`.\n",
      "\u001b[36mℹ\u001b[39m In group 3: `AIFI_L3 = \"Adaptive NK cell\"`.\n",
      "Caused by warning:\n",
      "\u001b[33m!\u001b[39m NaNs produced\n",
      "\u001b[1m\u001b[22m\u001b[36mℹ\u001b[39m Run `dplyr::last_dplyr_warnings()` to see the 3 remaining warnings.”\n",
      "\u001b[1m\u001b[22mJoining with `by = join_by(AIFI_L3)`\n"
     ]
    }
   ],
   "source": [
    "#compute freq changes\n",
    "freq_changes<-BRI_Freq_Data_subset %>%\n",
    "  select(percentage, AIFI_L3_clr,AIFI_L3, cohort.cohortGuid, subject.biologicalSex, subject.cmv) %>%\n",
    "  group_by(AIFI_L3, cohort.cohortGuid) %>%\n",
    "  summarise(mean_AIFI_L3_clr = median(AIFI_L3_clr, na.rm = TRUE)) %>%\n",
    "  spread(cohort.cohortGuid, mean_AIFI_L3_clr) %>%\n",
    "  mutate(log2fc = log2(`BR2` / `BR1`)) %>%\n",
    "  mutate(delta_change = `BR2` - `BR1`) \n",
    "#compute freq changes p values\n",
    "\n",
    "freq_changes_STAT<-BRI_Freq_Data_subset %>%\n",
    "  select(AIFI_L3_clr,AIFI_L3, cohort.cohortGuid,subject.biologicalSex,subject.cmv) %>%\n",
    "  group_by(AIFI_L3)  %>%\n",
    "  wilcox_test(AIFI_L3_clr ~ cohort.cohortGuid) %>%\n",
    "  adjust_pvalue(method='BH') %>%\n",
    "  add_significance() %>% as.data.frame()\n",
    "\n",
    "df<-left_join(freq_changes_STAT,freq_changes)"
   ]
  },
  {
   "cell_type": "code",
   "execution_count": 78,
   "id": "c0daf195-a630-4c88-9326-5f9b77e36dcc",
   "metadata": {},
   "outputs": [
    {
     "name": "stderr",
     "output_type": "stream",
     "text": [
      "\u001b[1m\u001b[22mJoining with `by = join_by(AIFI_L3)`\n"
     ]
    }
   ],
   "source": [
    "df<-left_join(df,DEG_counts %>% filter(factor==\"cohort.cohortGuid\"))"
   ]
  },
  {
   "cell_type": "code",
   "execution_count": 79,
   "id": "7dedbc8f-2ec5-47df-b006-7fdc5936e402",
   "metadata": {},
   "outputs": [],
   "source": [
    "df<-df%>%\n",
    "  mutate(adjP_degs_combined_value = if_else(DEG_Counts != 0,\n",
    "                                            -log10(p.adj)  * DEG_Counts ,\n",
    "                                            -log10(p.adj)  ))"
   ]
  },
  {
   "cell_type": "code",
   "execution_count": 80,
   "id": "2b08cda7-7df1-403e-83a8-8bfbf63a5099",
   "metadata": {},
   "outputs": [],
   "source": [
    "write.csv(df,'FreqChanges_and_DEG.csv')"
   ]
  },
  {
   "cell_type": "code",
   "execution_count": null,
   "id": "900a6f6e-3adf-417f-978e-345a221c12d8",
   "metadata": {},
   "outputs": [],
   "source": []
  }
 ],
 "metadata": {
  "kernelspec": {
   "display_name": "R_BRI_Figures",
   "language": "R",
   "name": "r_bri_figures"
  },
  "language_info": {
   "codemirror_mode": "r",
   "file_extension": ".r",
   "mimetype": "text/x-r-source",
   "name": "R",
   "pygments_lexer": "r",
   "version": "4.3.2"
  }
 },
 "nbformat": 4,
 "nbformat_minor": 5
}
