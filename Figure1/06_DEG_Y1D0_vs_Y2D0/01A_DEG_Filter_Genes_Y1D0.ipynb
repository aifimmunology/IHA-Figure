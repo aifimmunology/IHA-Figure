{
 "cells": [
  {
   "cell_type": "code",
   "execution_count": 16,
   "id": "e7d6f712-a238-489f-b2a6-502722c50294",
   "metadata": {},
   "outputs": [
    {
     "name": "stdout",
     "output_type": "stream",
     "text": [
      "Current working directory: /home/workspace/IHA_Figure_Revision/Figure1/06_DEG_Y1D0_vs_Y2D0\n"
     ]
    }
   ],
   "source": [
    "import pandas as pd \n",
    "import numpy as np \n",
    "import scanpy as sc\n",
    "import matplotlib.pyplot as plt\n",
    "import concurrent.futures\n",
    "import pickle\n",
    "import warnings\n",
    "from datetime import date\n",
    "import hisepy\n",
    "import os\n",
    "import shutil\n",
    "from concurrent.futures import ThreadPoolExecutor, as_completed,ProcessPoolExecutor\n",
    "from tqdm import tqdm\n",
    "import anndata\n",
    "import gc\n",
    "warnings.filterwarnings(\"ignore\")\n",
    "sc.settings.n_jobs = 60\n",
    "print(\"Current working directory:\", os.getcwd())"
   ]
  },
  {
   "cell_type": "markdown",
   "id": "79a654fc-f356-4960-ad7a-9eaecc9c4293",
   "metadata": {},
   "source": [
    "# Read MetaData"
   ]
  },
  {
   "cell_type": "code",
   "execution_count": 17,
   "id": "bd8d8fa4-762e-4216-b1b8-74d9e433e481",
   "metadata": {},
   "outputs": [],
   "source": [
    "meta_data=pd.read_csv(\"//home/workspace/IHA_Figure_Revision/Dataset/scRNA_meta_data-2024-05-09.csv\")"
   ]
  },
  {
   "cell_type": "markdown",
   "id": "06661ad0-e3e5-42e8-8752-e61daa6fb950",
   "metadata": {},
   "source": [
    "# Assemble Data"
   ]
  },
  {
   "cell_type": "code",
   "execution_count": 18,
   "id": "365271a1-2990-4dde-87d4-cdcd4094ba10",
   "metadata": {},
   "outputs": [],
   "source": [
    "meta_data_subset=meta_data[meta_data['sample.visitName'].isin(['Flu Year 1 Day 0','Flu Year 2 Day 0'])]"
   ]
  },
  {
   "cell_type": "code",
   "execution_count": 19,
   "id": "5c5e2e83-dc8f-437e-bb57-d3cbdbf18dab",
   "metadata": {},
   "outputs": [],
   "source": [
    "meta_data_subset=meta_data_subset[meta_data_subset['Covid_exclusion']=='no']"
   ]
  },
  {
   "cell_type": "code",
   "execution_count": 20,
   "id": "35c933d8-6aa9-4b1c-ba86-825033c650fb",
   "metadata": {},
   "outputs": [],
   "source": [
    "subject=meta_data_subset['subject.subjectGuid'].value_counts()[meta_data_subset['subject.subjectGuid'].value_counts()==2]"
   ]
  },
  {
   "cell_type": "code",
   "execution_count": 21,
   "id": "c9d3a287-5526-4848-a166-25d2cf7b1c9e",
   "metadata": {},
   "outputs": [],
   "source": [
    "meta_data_subset=meta_data_subset[meta_data_subset['subject.subjectGuid'].isin(subject.index.tolist())] "
   ]
  },
  {
   "cell_type": "code",
   "execution_count": 22,
   "id": "7b8e2aa9-f346-4287-ad30-57413d242b9a",
   "metadata": {},
   "outputs": [
    {
     "name": "stderr",
     "output_type": "stream",
     "text": [
      "100%|██████████| 168/168 [02:44<00:00,  1.02it/s]"
     ]
    },
    {
     "name": "stdout",
     "output_type": "stream",
     "text": [
      "CPU times: user 31.3 s, sys: 37.1 s, total: 1min 8s\n",
      "Wall time: 2min 44s\n"
     ]
    },
    {
     "name": "stderr",
     "output_type": "stream",
     "text": [
      "\n"
     ]
    }
   ],
   "source": [
    "%%time\n",
    "file_names= ['/home/workspace/IHA_Figure_Revision/Dataset/scRNA/BRI/h5ad/sample_h5ad/'+x+\".h5ad\" for x in meta_data_subset['pbmc_sample_id'].tolist()]\n",
    "adata_list = []\n",
    "with ThreadPoolExecutor(max_workers=10) as executor:\n",
    "    future_to_file = {executor.submit(sc.read_h5ad, file_name): file_name for file_name in file_names}\n",
    "    for future in tqdm(as_completed(future_to_file), total=len(file_names)):\n",
    "        result = future.result()\n",
    "        if result is not None:\n",
    "            adata_list.append(result)"
   ]
  },
  {
   "cell_type": "code",
   "execution_count": null,
   "id": "e536cec1-7611-4a08-b25b-47d80785c3a8",
   "metadata": {},
   "outputs": [],
   "source": [
    "adata = anndata.concat(adata_list)\n",
    "del adata_list \n",
    "gc.collect()"
   ]
  },
  {
   "cell_type": "markdown",
   "id": "87d3f9dc-0841-45c3-b7e6-7548a6395c12",
   "metadata": {},
   "source": [
    "# Read Files and filter genes for DESEQ2"
   ]
  },
  {
   "cell_type": "code",
   "execution_count": null,
   "id": "e95e1574-1aac-463f-9bde-d2bcacab9b42",
   "metadata": {},
   "outputs": [],
   "source": [
    "fitlered_gene=pd.DataFrame()\n",
    "for i in adata.obs['AIFI_L3'].unique():\n",
    "    print(i)\n",
    "    adata_subset=adata[adata.obs['AIFI_L3']==i]\n",
    "    sc.pp.filter_genes(adata_subset, min_cells=round(np.shape(adata_subset.X)[0]*0.1))\n",
    "    gene_list=pd.DataFrame(list(adata_subset.var.index))\n",
    "    gene_list.columns=['gene']\n",
    "    gene_list['AIFI_L3']=i\n",
    "    fitlered_gene=pd.concat([fitlered_gene,gene_list])"
   ]
  },
  {
   "cell_type": "code",
   "execution_count": null,
   "id": "b5923272-1d53-474f-ba59-1549aff41abc",
   "metadata": {},
   "outputs": [],
   "source": [
    "fitlered_gene.to_csv(\"filtered_gene.csv\")"
   ]
  },
  {
   "cell_type": "code",
   "execution_count": null,
   "id": "5ceff1c9-ebdd-4a41-9427-d2ef1c4d8e01",
   "metadata": {},
   "outputs": [],
   "source": []
  },
  {
   "cell_type": "code",
   "execution_count": null,
   "id": "6e15fde2-5f72-4b0f-98d1-510882a98c47",
   "metadata": {},
   "outputs": [],
   "source": []
  }
 ],
 "metadata": {
  "kernelspec": {
   "display_name": "Python_BRI_Figures",
   "language": "python",
   "name": "python_bri_figures"
  },
  "language_info": {
   "codemirror_mode": {
    "name": "ipython",
    "version": 3
   },
   "file_extension": ".py",
   "mimetype": "text/x-python",
   "name": "python",
   "nbconvert_exporter": "python",
   "pygments_lexer": "ipython3",
   "version": "3.11.0"
  }
 },
 "nbformat": 4,
 "nbformat_minor": 5
}
