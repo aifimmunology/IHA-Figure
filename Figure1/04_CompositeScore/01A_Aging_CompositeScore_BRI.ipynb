{
 "cells": [
  {
   "cell_type": "code",
   "execution_count": 1,
   "id": "e503a4b8-9631-4f43-8c51-65fcd6488ded",
   "metadata": {},
   "outputs": [
    {
     "name": "stderr",
     "output_type": "stream",
     "text": [
      "\n",
      "Attaching package: ‘reshape2’\n",
      "\n",
      "\n",
      "The following object is masked from ‘package:tidyr’:\n",
      "\n",
      "    smiths\n",
      "\n",
      "\n",
      "\n",
      "Attaching package: ‘rstatix’\n",
      "\n",
      "\n",
      "The following object is masked from ‘package:stats’:\n",
      "\n",
      "    filter\n",
      "\n",
      "\n"
     ]
    }
   ],
   "source": [
    "suppressPackageStartupMessages(library(dplyr))\n",
    "suppressPackageStartupMessages(library(tidyr))\n",
    "suppressPackageStartupMessages(library(tibble))\n",
    "suppressPackageStartupMessages(library(ggplot2))\n",
    "suppressPackageStartupMessages(library(stringr))\n",
    "library(parallel)\n",
    "library(reshape2)\n",
    "library(ggsci)\n",
    "library(rstatix)\n",
    "library(grid)\n",
    "library(RColorBrewer)\n",
    "library(hise)\n",
    "source('/home//jupyter/BRI_Figures_Final_V2/helper_function/helper_function_IHA.r')\n"
   ]
  },
  {
   "cell_type": "markdown",
   "id": "52123712-661a-4ce9-b4db-e0032fcc23fe",
   "metadata": {},
   "source": [
    "# Read Mean Expression Data"
   ]
  },
  {
   "cell_type": "code",
   "execution_count": 2,
   "id": "4e5b593f-e1f5-4450-a6dc-093d21beb8f9",
   "metadata": {},
   "outputs": [],
   "source": [
    "meta_data=read.csv(\"/home/jupyter/BRI_Figures_Final_V2/Dataset/scRNA_meta_data-2024-05-09.csv\")"
   ]
  },
  {
   "cell_type": "code",
   "execution_count": 3,
   "id": "cf26c6af-cfae-4cd3-84c5-85dc01a84b45",
   "metadata": {},
   "outputs": [],
   "source": [
    "meta_data$Ages<-as.numeric(substr(meta_data$sample.drawDate,1,4))-meta_data$subject.birthYear"
   ]
  },
  {
   "cell_type": "code",
   "execution_count": 4,
   "id": "076c880c-40f5-4932-a3d9-30c061c0a725",
   "metadata": {},
   "outputs": [],
   "source": [
    "meta_data_subset<-meta_data %>% filter(Covid_exclusion=='no',\n",
    "                                       !sample.visitName%in% c('Flu Year 1 Day 7',\n",
    "                                                               'Flu Year 2 Day 7'))%>% \n",
    "                                filter(sample.daysSinceFirstVisit<600)"
   ]
  },
  {
   "cell_type": "code",
   "execution_count": 5,
   "id": "3797d0fa-4c5c-436d-aea4-cfdab515adc0",
   "metadata": {},
   "outputs": [],
   "source": [
    "file_list<-paste0(\"/home/jupyter/BRI_Figures_Final_V2/Dataset/scRNA/BRI/Average_LogNormalized_Expression/Average_LogNormalized_Expression_of_Celltypes_by_Sample_AIFI_L3/\", meta_data_subset$pbmc_sample_id, \".csv\")"
   ]
  },
  {
   "cell_type": "code",
   "execution_count": 6,
   "id": "e74fc739-683b-4b6f-9702-bd332ff2b01c",
   "metadata": {},
   "outputs": [
    {
     "name": "stdout",
     "output_type": "stream",
     "text": [
      "[1] \"Total reading time: 54.649 seconds\"\n",
      "[1] \"The length of the list matches the length of the input path.\"\n"
     ]
    }
   ],
   "source": [
    "df_list<-read_pseudobulk_expression(file_list, mc_cores = 60)"
   ]
  },
  {
   "cell_type": "markdown",
   "id": "152bb670-b5ab-45c0-99d7-617ea4cce1f3",
   "metadata": {},
   "source": [
    "# Read Deseq2 Result"
   ]
  },
  {
   "cell_type": "code",
   "execution_count": 7,
   "id": "779f56d2-10ac-4d72-a03c-22ece0c0237c",
   "metadata": {},
   "outputs": [],
   "source": [
    "deseq2_result_Y1D0<-read.csv('/home/jupyter/BRI_Figures_Final_V2/Figure2/02_DEG/Deseq2_Result_Y1D0.csv')"
   ]
  },
  {
   "cell_type": "code",
   "execution_count": 8,
   "id": "ef8c7557-e18a-4b49-a42e-3bb264eb8ab4",
   "metadata": {},
   "outputs": [],
   "source": [
    "# filter significant genes \n",
    "deseq2_result_Y1D0_AgeGroup_sig<-deseq2_result_Y1D0 %>% \n",
    "  filter(contrast == \"cohort.cohortGuid\") %>%\n",
    "  filter(padj < 0.05, \n",
    "         abs(log2FoldChange) > 0.1)"
   ]
  },
  {
   "cell_type": "markdown",
   "id": "072945e2-dd9b-4c8b-a13b-a211eb1190f3",
   "metadata": {},
   "source": [
    "# Filter Genes and CellTypes"
   ]
  },
  {
   "cell_type": "code",
   "execution_count": 9,
   "id": "03344363-a54b-416e-a924-72e8debb983d",
   "metadata": {},
   "outputs": [],
   "source": [
    "df_degs_counts<-as.data.frame(table(deseq2_result_Y1D0_AgeGroup_sig$celltype,\n",
    "                                    deseq2_result_Y1D0_AgeGroup_sig$Direction))"
   ]
  },
  {
   "cell_type": "code",
   "execution_count": 12,
   "id": "ef0e09e4-0c1e-4020-a1d9-31c63331f74b",
   "metadata": {},
   "outputs": [],
   "source": [
    "df_degs_counts_filtered<-df_degs_counts %>% filter(Var2==\"HigherInBR2\") %>% arrange(Var1)   %>% filter(Freq>20)"
   ]
  },
  {
   "cell_type": "markdown",
   "id": "bbdb52fd-d15c-47e5-96ad-1d9df0ef722f",
   "metadata": {},
   "source": [
    "# Construct Composite Score"
   ]
  },
  {
   "cell_type": "code",
   "execution_count": 12,
   "id": "160ee7dc-17bb-41d0-8d04-241a279541b2",
   "metadata": {},
   "outputs": [],
   "source": [
    "score_df_list <- mclapply(unique(df_degs_counts_filtered$Var1), function(celltype_single) {\n",
    "  #get mean expression of DEG genes\n",
    "  top_n <- 100\n",
    "  Direction_of_DEG <- \"HigherInBR2\"\n",
    "  \n",
    "  selected_genes <- deseq2_result_Y1D0_AgeGroup_sig %>%\n",
    "    filter(celltype == celltype_single, Direction == Direction_of_DEG) %>% \n",
    "    arrange(padj, desc(abs(log2FoldChange))) %>% \n",
    "    slice_head(n = top_n) %>%\n",
    "    select(gene) %>%\n",
    "    pull()\n",
    "  \n",
    "  long_format <- filter_genes_and_celltype(df_list, \n",
    "                                           selected_genes, \n",
    "                                           celltype_single, \n",
    "                                           longformat = TRUE)\n",
    "  long_format <- left_join(long_format, meta_data)\n",
    "  \n",
    "  long_format <- long_format %>%\n",
    "    group_by(Gene) %>%\n",
    "    mutate(Z_score_Mean_Expression = scale(Mean_Expression)) %>%\n",
    "    ungroup()\n",
    "    \n",
    " \n",
    "  #construct compostite score by sum of z scored mean expression\n",
    "  composite_score_df <- long_format %>%\n",
    "    group_by(pbmc_sample_id) %>%\n",
    "    summarise(composite_score_sum_mean = sum(Mean_Expression, na.rm = TRUE),\n",
    "              composite_score_sum_scaled_mean = sum(Z_score_Mean_Expression, na.rm = TRUE)) %>%\n",
    "    as.data.frame()\n",
    "  \n",
    "  composite_score_df <- left_join(composite_score_df, meta_data)\n",
    "  composite_score_df$celltype <- celltype_single\n",
    "  \n",
    "  return(composite_score_df)\n",
    "}, mc.cores = 10)"
   ]
  },
  {
   "cell_type": "code",
   "execution_count": 13,
   "id": "1f30eb38-bd2e-4d6a-a0ae-6839b9588b04",
   "metadata": {},
   "outputs": [],
   "source": [
    "composite_score_df_all<-do.call(rbind,score_df_list)"
   ]
  },
  {
   "cell_type": "code",
   "execution_count": 14,
   "id": "20d505d9-a7a3-469d-a359-90b2bb226df7",
   "metadata": {},
   "outputs": [],
   "source": [
    "composite_score_df_all<-composite_score_df_all %>% \n",
    "                        mutate(AgeGroup=case_when(cohort.cohortGuid==\"BR1\"~\"Young\", TRUE~'Older'))"
   ]
  },
  {
   "cell_type": "code",
   "execution_count": 15,
   "id": "c485fd30-a357-4b68-927f-3afa86d2adc3",
   "metadata": {},
   "outputs": [],
   "source": [
    "write.csv(composite_score_df_all,'BRI_CompositeScore_Up.csv')"
   ]
  },
  {
   "cell_type": "code",
   "execution_count": null,
   "id": "445e0f1c-3e6b-4168-aa71-ac5cc68c7563",
   "metadata": {},
   "outputs": [],
   "source": []
  },
  {
   "cell_type": "code",
   "execution_count": 16,
   "id": "156217bd-8c14-4efb-bdec-4ce1658c4e1a",
   "metadata": {},
   "outputs": [],
   "source": [
    "score_df_list <- mclapply(unique(df_degs_counts_filtered$Var1), function(celltype_single) {\n",
    "  #get mean expression of DEG genes\n",
    "  top_n <- 100\n",
    "  Direction_of_DEG <- \"HigherInBR1\"\n",
    "  \n",
    "  selected_genes <- deseq2_result_Y1D0_AgeGroup_sig %>%\n",
    "    filter(celltype == celltype_single, Direction == Direction_of_DEG) %>% \n",
    "    arrange(padj, desc(abs(log2FoldChange))) %>% \n",
    "    slice_head(n = top_n) %>%\n",
    "    select(gene) %>%\n",
    "    pull()\n",
    "  \n",
    "  long_format <- filter_genes_and_celltype(df_list, \n",
    "                                           selected_genes, \n",
    "                                           celltype_single, \n",
    "                                           longformat = TRUE)\n",
    "  long_format <- left_join(long_format, meta_data)\n",
    "  \n",
    "  long_format <- long_format %>%\n",
    "    group_by(Gene) %>%\n",
    "    mutate(Z_score_Mean_Expression = scale(Mean_Expression)) %>%\n",
    "    ungroup()\n",
    "    \n",
    " \n",
    "  #construct compostite score by sum of z scored mean expression\n",
    "  composite_score_df <- long_format %>%\n",
    "    group_by(pbmc_sample_id) %>%\n",
    "    summarise(composite_score_sum_mean = sum(Mean_Expression, na.rm = TRUE),\n",
    "              composite_score_sum_scaled_mean = sum(Z_score_Mean_Expression, na.rm = TRUE)) %>%\n",
    "    as.data.frame()\n",
    "  \n",
    "  composite_score_df <- left_join(composite_score_df, meta_data)\n",
    "  composite_score_df$celltype <- celltype_single\n",
    "  \n",
    "  return(composite_score_df)\n",
    "}, mc.cores = 10)"
   ]
  },
  {
   "cell_type": "code",
   "execution_count": 17,
   "id": "959a40b9-fd38-4398-b264-9ce7c085b673",
   "metadata": {},
   "outputs": [],
   "source": [
    "composite_score_df_all<-do.call(rbind,score_df_list)"
   ]
  },
  {
   "cell_type": "code",
   "execution_count": 18,
   "id": "21cc479d-32a6-42f5-8b35-c3fc67be9793",
   "metadata": {},
   "outputs": [],
   "source": [
    "composite_score_df_all<-composite_score_df_all %>% \n",
    "                        mutate(AgeGroup=case_when(cohort.cohortGuid==\"BR1\"~\"Young\", TRUE~'Older'))"
   ]
  },
  {
   "cell_type": "code",
   "execution_count": 19,
   "id": "a705c4bc-460d-47a1-8027-015b9aac4af5",
   "metadata": {},
   "outputs": [],
   "source": [
    "write.csv(composite_score_df_all,'BRI_CompositeScore_Down.csv')"
   ]
  },
  {
   "cell_type": "code",
   "execution_count": null,
   "id": "1f17c7f5-d0e1-422f-ba0f-6846e9f67a8d",
   "metadata": {},
   "outputs": [],
   "source": []
  }
 ],
 "metadata": {
  "kernelspec": {
   "display_name": "R 4",
   "language": "R",
   "name": "ir4"
  },
  "language_info": {
   "codemirror_mode": "r",
   "file_extension": ".r",
   "mimetype": "text/x-r-source",
   "name": "R",
   "pygments_lexer": "r",
   "version": "4.3.2"
  }
 },
 "nbformat": 4,
 "nbformat_minor": 5
}
