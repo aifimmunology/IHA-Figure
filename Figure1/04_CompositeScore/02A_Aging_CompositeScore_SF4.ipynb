{
 "cells": [
  {
   "cell_type": "code",
   "execution_count": 1,
   "id": "96b1db1e-6b40-4c08-9077-d733dd2b5769",
   "metadata": {},
   "outputs": [
    {
     "name": "stderr",
     "output_type": "stream",
     "text": [
      "\n",
      "Attaching package: ‘reshape2’\n",
      "\n",
      "\n",
      "The following object is masked from ‘package:tidyr’:\n",
      "\n",
      "    smiths\n",
      "\n",
      "\n"
     ]
    }
   ],
   "source": [
    "suppressPackageStartupMessages(library(dplyr))\n",
    "suppressPackageStartupMessages(library(tidyr))\n",
    "suppressPackageStartupMessages(library(tibble))\n",
    "suppressPackageStartupMessages(library(ggplot2))\n",
    "suppressPackageStartupMessages(library(stringr))\n",
    "library(parallel)\n",
    "library(reshape2)\n",
    "library(hise)\n",
    "source('/home//jupyter/BRI_Figures_Final_V2/helper_function/helper_function_IHA.r')"
   ]
  },
  {
   "cell_type": "markdown",
   "id": "affd44a1-628e-4a67-b07a-ba1d093b530c",
   "metadata": {},
   "source": [
    "# Read Mean Expression Data"
   ]
  },
  {
   "cell_type": "code",
   "execution_count": 2,
   "id": "f8674c23-1599-49e1-8d4c-67c34c658ddb",
   "metadata": {},
   "outputs": [],
   "source": [
    "meta_data=read.csv(\"/home/jupyter/BRI_Figures_Final_V2/Dataset/SF4_meta_data-2024-05-05.csv\")"
   ]
  },
  {
   "cell_type": "code",
   "execution_count": 3,
   "id": "bf578d5f-cbb7-4c34-a7c0-f772df87b9b8",
   "metadata": {},
   "outputs": [],
   "source": [
    "meta_data$ageAtEnrollment[meta_data$ageAtEnrollment == '89+'] <- '90'\n",
    "meta_data$ageAtEnrollment<-as.numeric(meta_data$ageAtEnrollment)\n",
    "meta_data<-meta_data[!is.na(meta_data$ageAtEnrollment),]\n",
    "meta_data$Ages<-meta_data$ageAtEnrollment"
   ]
  },
  {
   "cell_type": "code",
   "execution_count": 4,
   "id": "b266dfff-737c-4d89-a32b-36b63d4884be",
   "metadata": {},
   "outputs": [],
   "source": [
    "file_list<-paste0(\"/home/jupyter/BRI_Figures_Final_V2/Dataset/scRNA/SF4/Average_LogNormalized_Expression/Average_LogNormalized_Expression_of_Celltypes_by_Sample_AIFI_L3/\", meta_data$pbmc_sample_id, \".csv\")"
   ]
  },
  {
   "cell_type": "code",
   "execution_count": 5,
   "id": "90b7a622-93af-4efb-96db-dbd0e3d1fbde",
   "metadata": {},
   "outputs": [
    {
     "name": "stdout",
     "output_type": "stream",
     "text": [
      "[1] \"Total reading time: 19.604 seconds\"\n",
      "[1] \"The length of the list matches the length of the input path.\"\n"
     ]
    }
   ],
   "source": [
    "df_list<-read_pseudobulk_expression(file_list, mc_cores = 60)"
   ]
  },
  {
   "cell_type": "markdown",
   "id": "7d40cbef-17ff-41f8-b779-c7b60d74d090",
   "metadata": {},
   "source": [
    "# Read Deseq2 Result"
   ]
  },
  {
   "cell_type": "code",
   "execution_count": 6,
   "id": "55477b50-f526-49fb-9608-42e87f4ae50b",
   "metadata": {},
   "outputs": [],
   "source": [
    "deseq2_result_Y1D0<-read.csv('/home/jupyter/BRI_Figures_Final_V2/Figure2/02_DEG/Deseq2_Result_Y1D0.csv')"
   ]
  },
  {
   "cell_type": "code",
   "execution_count": 7,
   "id": "fec291e1-d734-4d9e-845d-04d8094fe4ae",
   "metadata": {},
   "outputs": [],
   "source": [
    "# filter significant genes \n",
    "deseq2_result_Y1D0_AgeGroup_sig<-deseq2_result_Y1D0 %>% \n",
    "  filter(contrast == \"cohort.cohortGuid\") %>%\n",
    "  filter(padj < 0.05, \n",
    "         abs(log2FoldChange) > 0.1)\n"
   ]
  },
  {
   "cell_type": "markdown",
   "id": "a7049cb6-f957-499c-b143-0c1c6f99c941",
   "metadata": {},
   "source": [
    "# Filter Genes and CellTypes"
   ]
  },
  {
   "cell_type": "code",
   "execution_count": 8,
   "id": "771d4c29-0935-4fc9-bb62-ec895cf8921e",
   "metadata": {},
   "outputs": [],
   "source": [
    "df_degs_counts<-as.data.frame(table(deseq2_result_Y1D0_AgeGroup_sig$celltype,\n",
    "                                    deseq2_result_Y1D0_AgeGroup_sig$Direction))"
   ]
  },
  {
   "cell_type": "code",
   "execution_count": 9,
   "id": "65e35791-17c4-4dfa-b138-74789ecfdd4a",
   "metadata": {},
   "outputs": [],
   "source": [
    "df_degs_counts_filtered<-df_degs_counts %>% filter(Var2==\"HigherInBR2\") %>% arrange(Var1)   %>% filter(Freq>20)"
   ]
  },
  {
   "cell_type": "markdown",
   "id": "919729ab-3554-4b5a-a08c-6fa1f4a40775",
   "metadata": {},
   "source": [
    "# Construct Composite Score"
   ]
  },
  {
   "cell_type": "code",
   "execution_count": 10,
   "id": "64cb8b6a-573b-492a-b735-91e3a9c1d5b8",
   "metadata": {},
   "outputs": [],
   "source": [
    "score_df_list <- mclapply(unique(df_degs_counts_filtered$Var1), function(celltype_single) {\n",
    "    top_n <- 100\n",
    "    Direction_of_DEG <- \"HigherInBR2\"\n",
    "    \n",
    "    selected_genes <- deseq2_result_Y1D0_AgeGroup_sig %>%\n",
    "        filter(celltype == celltype_single, Direction == Direction_of_DEG) %>%\n",
    "        arrange(padj, desc(abs(log2FoldChange))) %>%\n",
    "        slice_head(n = top_n) %>%\n",
    "        select(gene) %>%\n",
    "        pull()\n",
    "    \n",
    "    long_format <- filter_genes_and_celltype(df_list, selected_genes, celltype_single, longformat = TRUE) %>%\n",
    "        left_join(meta_data) %>%\n",
    "        filter(!is.na(Mean_Expression)) %>%\n",
    "        group_by(Gene) %>%\n",
    "        mutate(Z_score_Mean_Expression = scale(Mean_Expression)) %>%\n",
    "        ungroup()\n",
    "    \n",
    "    composite_score_df <- long_format %>%\n",
    "        group_by(pbmc_sample_id) %>%\n",
    "        summarise(\n",
    "            composite_score_sum_mean = sum(Mean_Expression, na.rm = TRUE),\n",
    "            composite_score_sum_scaled_mean = sum(Z_score_Mean_Expression, na.rm = TRUE)\n",
    "        ) %>%\n",
    "        left_join(meta_data) %>%\n",
    "        mutate(celltype = celltype_single) %>%\n",
    "        as.data.frame()\n",
    "    \n",
    "    return(composite_score_df)\n",
    "}, mc.cores = 10)\n"
   ]
  },
  {
   "cell_type": "code",
   "execution_count": 11,
   "id": "6f2a3506-c34a-4253-a1d3-3936a987d423",
   "metadata": {},
   "outputs": [],
   "source": [
    "composite_score_df_all<-do.call(rbind,score_df_list)"
   ]
  },
  {
   "cell_type": "code",
   "execution_count": 12,
   "id": "b2efd63f-44ec-4d63-99f7-bb80df8667c5",
   "metadata": {},
   "outputs": [],
   "source": [
    "write.csv(composite_score_df_all,'SF4_CompositeScore.csv')"
   ]
  },
  {
   "cell_type": "code",
   "execution_count": null,
   "id": "13375083-ed1b-4abc-af10-9ec045ff4aa9",
   "metadata": {},
   "outputs": [],
   "source": []
  },
  {
   "cell_type": "code",
   "execution_count": null,
   "id": "a33887bc-f11b-43ad-a3f0-f8b2d0379154",
   "metadata": {},
   "outputs": [],
   "source": []
  }
 ],
 "metadata": {
  "kernelspec": {
   "display_name": "R 4",
   "language": "R",
   "name": "ir4"
  },
  "language_info": {
   "codemirror_mode": "r",
   "file_extension": ".r",
   "mimetype": "text/x-r-source",
   "name": "R",
   "pygments_lexer": "r",
   "version": "4.3.2"
  }
 },
 "nbformat": 4,
 "nbformat_minor": 5
}
