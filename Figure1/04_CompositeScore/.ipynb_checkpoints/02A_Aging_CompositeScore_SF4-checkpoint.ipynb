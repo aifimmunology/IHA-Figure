{
 "cells": [
  {
   "cell_type": "code",
   "execution_count": 2,
   "id": "96b1db1e-6b40-4c08-9077-d733dd2b5769",
   "metadata": {},
   "outputs": [
    {
     "name": "stderr",
     "output_type": "stream",
     "text": [
      "\n",
      "Attaching package: ‘reshape2’\n",
      "\n",
      "\n",
      "The following object is masked from ‘package:tidyr’:\n",
      "\n",
      "    smiths\n",
      "\n",
      "\n"
     ]
    }
   ],
   "source": [
    "suppressPackageStartupMessages(library(dplyr))\n",
    "suppressPackageStartupMessages(library(tidyr))\n",
    "suppressPackageStartupMessages(library(tibble))\n",
    "suppressPackageStartupMessages(library(ggplot2))\n",
    "suppressPackageStartupMessages(library(stringr))\n",
    "library(parallel)\n",
    "library(reshape2)\n",
    "library(hise)\n",
    "source('/home//jupyter/BRI_Figures_Final_V1/helper_function/helper_function_IHA.r')"
   ]
  },
  {
   "cell_type": "markdown",
   "id": "affd44a1-628e-4a67-b07a-ba1d093b530c",
   "metadata": {},
   "source": [
    "# Read Mean Expression Data"
   ]
  },
  {
   "cell_type": "code",
   "execution_count": 35,
   "id": "f8674c23-1599-49e1-8d4c-67c34c658ddb",
   "metadata": {},
   "outputs": [],
   "source": [
    "meta_data=read.csv(\"/home/jupyter/BRI_Figures_Final_V1/Dataset/SF4_meta_data-2024-05-05.csv\")"
   ]
  },
  {
   "cell_type": "code",
   "execution_count": 36,
   "id": "bf578d5f-cbb7-4c34-a7c0-f772df87b9b8",
   "metadata": {},
   "outputs": [],
   "source": [
    "meta_data$ageAtEnrollment[meta_data$ageAtEnrollment == '89+'] <- '90'\n",
    "meta_data$ageAtEnrollment<-as.numeric(meta_data$ageAtEnrollment)\n",
    "meta_data<-meta_data[!is.na(meta_data$ageAtEnrollment),]\n",
    "meta_data$Ages<-meta_data$ageAtEnrollment"
   ]
  },
  {
   "cell_type": "code",
   "execution_count": 37,
   "id": "b266dfff-737c-4d89-a32b-36b63d4884be",
   "metadata": {},
   "outputs": [],
   "source": [
    "file_list<-paste0(\"/home/jupyter/BRI_Figures_Final_V1/Dataset/scRNA/SF4/Average_LogNormalized_Expression/Average_LogNormalized_Expression_of_Celltypes_by_Sample_AIFI_L3/\", meta_data$pbmc_sample_id, \".csv\")"
   ]
  },
  {
   "cell_type": "code",
   "execution_count": 38,
   "id": "90b7a622-93af-4efb-96db-dbd0e3d1fbde",
   "metadata": {},
   "outputs": [
    {
     "name": "stdout",
     "output_type": "stream",
     "text": [
      "[1] \"Total reading time: 11.653 seconds\"\n",
      "[1] \"The length of the list matches the length of the input path.\"\n"
     ]
    }
   ],
   "source": [
    "df_list<-read_pseudobulk_expression(file_list, mc_cores = 60)"
   ]
  },
  {
   "cell_type": "markdown",
   "id": "7d40cbef-17ff-41f8-b779-c7b60d74d090",
   "metadata": {},
   "source": [
    "# Read Deseq2 Result"
   ]
  },
  {
   "cell_type": "code",
   "execution_count": 39,
   "id": "55477b50-f526-49fb-9608-42e87f4ae50b",
   "metadata": {},
   "outputs": [],
   "source": [
    "deseq2_result_Y1D0<-read.csv('/home/jupyter/BRI_Figures_Final_V1/Figure2/02_DEG/Deseq2_Result_Y1D0.csv')"
   ]
  },
  {
   "cell_type": "code",
   "execution_count": 40,
   "id": "fec291e1-d734-4d9e-845d-04d8094fe4ae",
   "metadata": {},
   "outputs": [],
   "source": [
    "# filter significant genes \n",
    "deseq2_result_Y1D0_AgeGroup_sig<-deseq2_result_Y1D0 %>% \n",
    "  filter(contrast == \"cohort.cohortGuid\") %>%\n",
    "  filter(padj < 0.05, \n",
    "         abs(log2FoldChange) > 0.1)\n"
   ]
  },
  {
   "cell_type": "markdown",
   "id": "a7049cb6-f957-499c-b143-0c1c6f99c941",
   "metadata": {},
   "source": [
    "# Filter Genes and CellTypes"
   ]
  },
  {
   "cell_type": "code",
   "execution_count": 41,
   "id": "771d4c29-0935-4fc9-bb62-ec895cf8921e",
   "metadata": {},
   "outputs": [],
   "source": [
    "df_degs_counts<-as.data.frame(table(deseq2_result_Y1D0_AgeGroup_sig$celltype,\n",
    "                                    deseq2_result_Y1D0_AgeGroup_sig$Direction))"
   ]
  },
  {
   "cell_type": "code",
   "execution_count": 42,
   "id": "65e35791-17c4-4dfa-b138-74789ecfdd4a",
   "metadata": {},
   "outputs": [],
   "source": [
    "df_degs_counts_filtered<-df_degs_counts %>% filter(Var2==\"HigherInBR2\") %>% arrange(Var1)   %>% filter(Freq>20)"
   ]
  },
  {
   "cell_type": "markdown",
   "id": "919729ab-3554-4b5a-a08c-6fa1f4a40775",
   "metadata": {},
   "source": [
    "# Construct Composite Score"
   ]
  },
  {
   "cell_type": "code",
   "execution_count": 52,
   "id": "64cb8b6a-573b-492a-b735-91e3a9c1d5b8",
   "metadata": {},
   "outputs": [],
   "source": [
    "score_df_list <- mclapply(unique(df_degs_counts_filtered$Var1), function(celltype_single) {\n",
    "    top_n <- 100\n",
    "    Direction_of_DEG <- \"HigherInBR2\"\n",
    "    \n",
    "    selected_genes <- deseq2_result_Y1D0_AgeGroup_sig %>%\n",
    "        filter(celltype == celltype_single, Direction == Direction_of_DEG) %>%\n",
    "        arrange(padj, desc(abs(log2FoldChange))) %>%\n",
    "        slice_head(n = top_n) %>%\n",
    "        select(gene) %>%\n",
    "        pull()\n",
    "    \n",
    "    long_format <- filter_genes_and_celltype(df_list, selected_genes, celltype_single, longformat = TRUE) %>%\n",
    "        left_join(meta_data) %>%\n",
    "        filter(!is.na(Mean_Expression)) %>%\n",
    "        group_by(Gene) %>%\n",
    "        mutate(Z_score_Mean_Expression = scale(Mean_Expression)) %>%\n",
    "        ungroup()\n",
    "    \n",
    "    composite_score_df <- long_format %>%\n",
    "        group_by(pbmc_sample_id) %>%\n",
    "        summarise(\n",
    "            composite_score_sum_mean = sum(Mean_Expression, na.rm = TRUE),\n",
    "            composite_score_sum_scaled_mean = sum(Z_score_Mean_Expression, na.rm = TRUE)\n",
    "        ) %>%\n",
    "        left_join(meta_data) %>%\n",
    "        mutate(celltype = celltype_single) %>%\n",
    "        as.data.frame()\n",
    "    \n",
    "    return(composite_score_df)\n",
    "}, mc.cores = 10)\n"
   ]
  },
  {
   "cell_type": "code",
   "execution_count": 53,
   "id": "6f2a3506-c34a-4253-a1d3-3936a987d423",
   "metadata": {},
   "outputs": [],
   "source": [
    "composite_score_df_all<-do.call(rbind,score_df_list)"
   ]
  },
  {
   "cell_type": "code",
   "execution_count": 54,
   "id": "b2efd63f-44ec-4d63-99f7-bb80df8667c5",
   "metadata": {},
   "outputs": [],
   "source": [
    "write.csv(composite_score_df_all,'SF4_CompositeScore.csv')"
   ]
  },
  {
   "cell_type": "code",
   "execution_count": null,
   "id": "13375083-ed1b-4abc-af10-9ec045ff4aa9",
   "metadata": {},
   "outputs": [],
   "source": []
  },
  {
   "cell_type": "markdown",
   "id": "0d4e8b77-3799-4002-8b48-e47ba9c0a56e",
   "metadata": {},
   "source": [
    "# Upload Files"
   ]
  },
  {
   "cell_type": "code",
   "execution_count": 3,
   "id": "04e77b71-5162-4692-97a4-b181638001ef",
   "metadata": {},
   "outputs": [],
   "source": [
    "input_uuid_meta_data=pull(read.csv(\"/home/jupyter/BRI_Figures_Final_V1/Dataset/scRNA_BRI_meta_data_uuid.csv\")['id'])\n",
    "input_uuid_pesudobulk=pull(read.csv(\"/home/jupyter/BRI_Figures_Final_V1/Dataset/scRNA_SF4_Average_LogNormalized_Expression_uuid.csv\")['id'])\n"
   ]
  },
  {
   "cell_type": "code",
   "execution_count": 5,
   "id": "cd9444e9-5e0f-448d-94ec-624c3e231728",
   "metadata": {},
   "outputs": [
    {
     "data": {
      "text/html": [
       "'Cert-Pro_IHA_Figures_Files_2024-06-10_from_-home-jupyter-BRI_Figures_Final_V1-Figure2-04_CompositeScore-01A_Aging_CompositeScore_SF4_ipynb'"
      ],
      "text/latex": [
       "'Cert-Pro\\_IHA\\_Figures\\_Files\\_2024-06-10\\_from\\_-home-jupyter-BRI\\_Figures\\_Final\\_V1-Figure2-04\\_CompositeScore-01A\\_Aging\\_CompositeScore\\_SF4\\_ipynb'"
      ],
      "text/markdown": [
       "'Cert-Pro_IHA_Figures_Files_2024-06-10_from_-home-jupyter-BRI_Figures_Final_V1-Figure2-04_CompositeScore-01A_Aging_CompositeScore_SF4_ipynb'"
      ],
      "text/plain": [
       "[1] \"Cert-Pro_IHA_Figures_Files_2024-06-10_from_-home-jupyter-BRI_Figures_Final_V1-Figure2-04_CompositeScore-01A_Aging_CompositeScore_SF4_ipynb\""
      ]
     },
     "metadata": {},
     "output_type": "display_data"
    }
   ],
   "source": [
    "study_space_uuid <- 'de025812-5e73-4b3c-9c3b-6d0eac412f2a'\n",
    "date_today <- Sys.Date()\n",
    "working_dir <- getwd()\n",
    "notebook_name <- basename(\"BRI_Figures_Final_V1/Figure2/04_CompositeScore/01A_Aging_CompositeScore_SF4.ipynb\")  \n",
    "\n",
    "title <- sprintf(\"Cert-Pro_IHA_Figures_Files_%s_from_%s/%s\", date_today, working_dir, notebook_name)\n",
    "title <- str_replace_all(title, c(\"/\" = \"-\", \"\\\\.\" = \"_\"))\n",
    "\n",
    "title"
   ]
  },
  {
   "cell_type": "code",
   "execution_count": 7,
   "id": "85083c62-87d4-4b59-88c7-d85ae73ceac0",
   "metadata": {
    "scrolled": true
   },
   "outputs": [
    {
     "name": "stdout",
     "output_type": "stream",
     "text": [
      "[1] \"Cannot determine the current notebook.\"\n",
      "[1] \"1) /home/jupyter/BRI_Figures_Final_V1/Figure2/04_CompositeScore/02A_Aging_CompositeScore_SF4.ipynb\"\n",
      "[1] \"2) /home/jupyter/BRI_Figures_Final_V1/Figure2/04_CompositeScore/01A_Aging_CompositeScore_BRI.ipynb\"\n",
      "[1] \"3) /home/jupyter/BRI_Figures_Final_V1/Figure2/02_DEG/02B_DEG_analysis.ipynb\"\n"
     ]
    },
    {
     "name": "stdin",
     "output_type": "stream",
     "text": [
      "Please select (1-3)  1\n"
     ]
    },
    {
     "name": "stderr",
     "output_type": "stream",
     "text": [
      "You are trying to upload the following files:  /home/jupyter/BRI_Figures_Final_V1/Figure2/04_CompositeScore/SF4_CompositeScore.csv\n",
      "\n"
     ]
    },
    {
     "name": "stdin",
     "output_type": "stream",
     "text": [
      "(y/n) Y\n"
     ]
    },
    {
     "data": {
      "text/html": [
       "<dl>\n",
       "\t<dt>$files</dt>\n",
       "\t\t<dd><ol>\n",
       "\t<li>'/home/jupyter/BRI_Figures_Final_V1/Figure2/04_CompositeScore/SF4_CompositeScore.csv'</li>\n",
       "</ol>\n",
       "</dd>\n",
       "\t<dt>$traceId</dt>\n",
       "\t\t<dd>'09a01a59-026e-491f-a652-63b11cd5aa43'</dd>\n",
       "</dl>\n"
      ],
      "text/latex": [
       "\\begin{description}\n",
       "\\item[\\$files] \\begin{enumerate}\n",
       "\\item '/home/jupyter/BRI\\_Figures\\_Final\\_V1/Figure2/04\\_CompositeScore/SF4\\_CompositeScore.csv'\n",
       "\\end{enumerate}\n",
       "\n",
       "\\item[\\$traceId] '09a01a59-026e-491f-a652-63b11cd5aa43'\n",
       "\\end{description}\n"
      ],
      "text/markdown": [
       "$files\n",
       ":   1. '/home/jupyter/BRI_Figures_Final_V1/Figure2/04_CompositeScore/SF4_CompositeScore.csv'\n",
       "\n",
       "\n",
       "\n",
       "$traceId\n",
       ":   '09a01a59-026e-491f-a652-63b11cd5aa43'\n",
       "\n",
       "\n"
      ],
      "text/plain": [
       "$files\n",
       "$files[[1]]\n",
       "[1] \"/home/jupyter/BRI_Figures_Final_V1/Figure2/04_CompositeScore/SF4_CompositeScore.csv\"\n",
       "\n",
       "\n",
       "$traceId\n",
       "[1] \"09a01a59-026e-491f-a652-63b11cd5aa43\"\n"
      ]
     },
     "metadata": {},
     "output_type": "display_data"
    }
   ],
   "source": [
    "uploadFiles(\n",
    "  list('/home/jupyter/BRI_Figures_Final_V1/Figure2/04_CompositeScore/SF4_CompositeScore.csv'),\n",
    "  studySpaceId = 'de025812-5e73-4b3c-9c3b-6d0eac412f2a',\n",
    "  title = title, fileTypes = list('csv'),destination=title,\n",
    "  inputFileIds = as.list(c(input_uuid_meta_data,input_uuid_pesudobulk))\n",
    ")"
   ]
  },
  {
   "cell_type": "code",
   "execution_count": null,
   "id": "a33887bc-f11b-43ad-a3f0-f8b2d0379154",
   "metadata": {},
   "outputs": [],
   "source": []
  }
 ],
 "metadata": {
  "kernelspec": {
   "display_name": "R 4",
   "language": "R",
   "name": "ir4"
  },
  "language_info": {
   "codemirror_mode": "r",
   "file_extension": ".r",
   "mimetype": "text/x-r-source",
   "name": "R",
   "pygments_lexer": "r",
   "version": "4.3.2"
  }
 },
 "nbformat": 4,
 "nbformat_minor": 5
}
