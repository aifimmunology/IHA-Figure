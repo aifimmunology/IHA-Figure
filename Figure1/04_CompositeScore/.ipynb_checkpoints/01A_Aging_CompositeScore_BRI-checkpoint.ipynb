{
 "cells": [
  {
   "cell_type": "code",
   "execution_count": 2,
   "id": "e503a4b8-9631-4f43-8c51-65fcd6488ded",
   "metadata": {},
   "outputs": [
    {
     "name": "stderr",
     "output_type": "stream",
     "text": [
      "\n",
      "Attaching package: ‘reshape2’\n",
      "\n",
      "\n",
      "The following object is masked from ‘package:tidyr’:\n",
      "\n",
      "    smiths\n",
      "\n",
      "\n",
      "\n",
      "Attaching package: ‘rstatix’\n",
      "\n",
      "\n",
      "The following object is masked from ‘package:stats’:\n",
      "\n",
      "    filter\n",
      "\n",
      "\n"
     ]
    }
   ],
   "source": [
    "suppressPackageStartupMessages(library(dplyr))\n",
    "suppressPackageStartupMessages(library(tidyr))\n",
    "suppressPackageStartupMessages(library(tibble))\n",
    "suppressPackageStartupMessages(library(ggplot2))\n",
    "suppressPackageStartupMessages(library(stringr))\n",
    "library(parallel)\n",
    "library(reshape2)\n",
    "library(ggsci)\n",
    "library(rstatix)\n",
    "library(grid)\n",
    "library(RColorBrewer)\n",
    "library(hise)\n",
    "source('/home//jupyter/BRI_Figures_Final_V1/helper_function/helper_function_IHA.r')\n"
   ]
  },
  {
   "cell_type": "markdown",
   "id": "52123712-661a-4ce9-b4db-e0032fcc23fe",
   "metadata": {},
   "source": [
    "# Read Mean Expression Data"
   ]
  },
  {
   "cell_type": "code",
   "execution_count": 22,
   "id": "4e5b593f-e1f5-4450-a6dc-093d21beb8f9",
   "metadata": {},
   "outputs": [],
   "source": [
    "meta_data=read.csv(\"/home/jupyter/BRI_Figures_Final_V1/Dataset/scRNA_meta_data-2024-05-09.csv\")"
   ]
  },
  {
   "cell_type": "code",
   "execution_count": 23,
   "id": "cf26c6af-cfae-4cd3-84c5-85dc01a84b45",
   "metadata": {},
   "outputs": [],
   "source": [
    "meta_data$Ages<-as.numeric(substr(meta_data$sample.drawDate,1,4))-meta_data$subject.birthYear"
   ]
  },
  {
   "cell_type": "code",
   "execution_count": 24,
   "id": "076c880c-40f5-4932-a3d9-30c061c0a725",
   "metadata": {},
   "outputs": [],
   "source": [
    "meta_data_subset<-meta_data %>% filter(Covid_exclusion=='no',\n",
    "                                       !sample.visitName%in% c('Flu Year 1 Day 7',\n",
    "                                                               'Flu Year 2 Day 7'))%>% \n",
    "                                filter(sample.daysSinceFirstVisit<600)"
   ]
  },
  {
   "cell_type": "code",
   "execution_count": 25,
   "id": "3797d0fa-4c5c-436d-aea4-cfdab515adc0",
   "metadata": {},
   "outputs": [],
   "source": [
    "file_list<-paste0(\"/home/jupyter/BRI_Figures_Final_V1/Dataset/scRNA/BRI/Average_LogNormalized_Expression/Average_LogNormalized_Expression_of_Celltypes_by_Sample_AIFI_L3/\", meta_data_subset$pbmc_sample_id, \".csv\")"
   ]
  },
  {
   "cell_type": "code",
   "execution_count": 26,
   "id": "e74fc739-683b-4b6f-9702-bd332ff2b01c",
   "metadata": {},
   "outputs": [
    {
     "name": "stdout",
     "output_type": "stream",
     "text": [
      "[1] \"Total reading time: 45.3299999999999 seconds\"\n",
      "[1] \"The length of the list matches the length of the input path.\"\n"
     ]
    }
   ],
   "source": [
    "df_list<-read_pseudobulk_expression(file_list, mc_cores = 60)"
   ]
  },
  {
   "cell_type": "markdown",
   "id": "152bb670-b5ab-45c0-99d7-617ea4cce1f3",
   "metadata": {},
   "source": [
    "# Read Deseq2 Result"
   ]
  },
  {
   "cell_type": "code",
   "execution_count": 27,
   "id": "779f56d2-10ac-4d72-a03c-22ece0c0237c",
   "metadata": {},
   "outputs": [],
   "source": [
    "deseq2_result_Y1D0<-read.csv('/home/jupyter/BRI_Figures_Final_V1/Figure2/02_DEG/Deseq2_Result_Y1D0.csv')"
   ]
  },
  {
   "cell_type": "code",
   "execution_count": 28,
   "id": "ef8c7557-e18a-4b49-a42e-3bb264eb8ab4",
   "metadata": {},
   "outputs": [],
   "source": [
    "# filter significant genes \n",
    "deseq2_result_Y1D0_AgeGroup_sig<-deseq2_result_Y1D0 %>% \n",
    "  filter(contrast == \"cohort.cohortGuid\") %>%\n",
    "  filter(padj < 0.05, \n",
    "         abs(log2FoldChange) > 0.1)"
   ]
  },
  {
   "cell_type": "markdown",
   "id": "072945e2-dd9b-4c8b-a13b-a211eb1190f3",
   "metadata": {},
   "source": [
    "# Filter Genes and CellTypes"
   ]
  },
  {
   "cell_type": "code",
   "execution_count": 29,
   "id": "03344363-a54b-416e-a924-72e8debb983d",
   "metadata": {},
   "outputs": [],
   "source": [
    "df_degs_counts<-as.data.frame(table(deseq2_result_Y1D0_AgeGroup_sig$celltype,\n",
    "                                    deseq2_result_Y1D0_AgeGroup_sig$Direction))"
   ]
  },
  {
   "cell_type": "code",
   "execution_count": 30,
   "id": "ef0e09e4-0c1e-4020-a1d9-31c63331f74b",
   "metadata": {},
   "outputs": [],
   "source": [
    "df_degs_counts_filtered<-df_degs_counts %>% filter(Var2==\"HigherInBR2\") %>% arrange(Var1)   %>% filter(Freq>20)"
   ]
  },
  {
   "cell_type": "markdown",
   "id": "bbdb52fd-d15c-47e5-96ad-1d9df0ef722f",
   "metadata": {},
   "source": [
    "# Construct Composite Score"
   ]
  },
  {
   "cell_type": "code",
   "execution_count": 88,
   "id": "160ee7dc-17bb-41d0-8d04-241a279541b2",
   "metadata": {},
   "outputs": [],
   "source": [
    "score_df_list <- mclapply(unique(df_degs_counts_filtered$Var1), function(celltype_single) {\n",
    "  #get mean expression of DEG genes\n",
    "  top_n <- 100\n",
    "  Direction_of_DEG <- \"HigherInBR2\"\n",
    "  \n",
    "  selected_genes <- deseq2_result_Y1D0_AgeGroup_sig %>%\n",
    "    filter(celltype == celltype_single, Direction == Direction_of_DEG) %>% \n",
    "    arrange(padj, desc(abs(log2FoldChange))) %>% \n",
    "    slice_head(n = top_n) %>%\n",
    "    select(gene) %>%\n",
    "    pull()\n",
    "  \n",
    "  long_format <- filter_genes_and_celltype(df_list, \n",
    "                                           selected_genes, \n",
    "                                           celltype_single, \n",
    "                                           longformat = TRUE)\n",
    "  long_format <- left_join(long_format, meta_data)\n",
    "  \n",
    "  long_format <- long_format %>%\n",
    "    group_by(Gene) %>%\n",
    "    mutate(Z_score_Mean_Expression = scale(Mean_Expression)) %>%\n",
    "    ungroup()\n",
    "    \n",
    " \n",
    "  #construct compostite score by sum of z scored mean expression\n",
    "  composite_score_df <- long_format %>%\n",
    "    group_by(pbmc_sample_id) %>%\n",
    "    summarise(composite_score_sum_mean = sum(Mean_Expression, na.rm = TRUE),\n",
    "              composite_score_sum_scaled_mean = sum(Z_score_Mean_Expression, na.rm = TRUE)) %>%\n",
    "    as.data.frame()\n",
    "  \n",
    "  composite_score_df <- left_join(composite_score_df, meta_data)\n",
    "  composite_score_df$celltype <- celltype_single\n",
    "  \n",
    "  return(composite_score_df)\n",
    "}, mc.cores = 10)"
   ]
  },
  {
   "cell_type": "code",
   "execution_count": 89,
   "id": "1f30eb38-bd2e-4d6a-a0ae-6839b9588b04",
   "metadata": {},
   "outputs": [],
   "source": [
    "composite_score_df_all<-do.call(rbind,score_df_list)"
   ]
  },
  {
   "cell_type": "code",
   "execution_count": 90,
   "id": "20d505d9-a7a3-469d-a359-90b2bb226df7",
   "metadata": {},
   "outputs": [],
   "source": [
    "composite_score_df_all<-composite_score_df_all %>% \n",
    "                        mutate(AgeGroup=case_when(cohort.cohortGuid==\"BR1\"~\"Young\", TRUE~'Older'))"
   ]
  },
  {
   "cell_type": "code",
   "execution_count": 91,
   "id": "c485fd30-a357-4b68-927f-3afa86d2adc3",
   "metadata": {},
   "outputs": [],
   "source": [
    "write.csv(composite_score_df_all,'BRI_CompositeScore.csv')"
   ]
  },
  {
   "cell_type": "code",
   "execution_count": null,
   "id": "a742c1ae-aa11-467c-89f1-77fdb3408350",
   "metadata": {},
   "outputs": [],
   "source": []
  },
  {
   "cell_type": "markdown",
   "id": "ca06e32a-d0e1-4ee4-91ee-c3c5c79ac2c2",
   "metadata": {},
   "source": [
    "# Upload Files"
   ]
  },
  {
   "cell_type": "code",
   "execution_count": 3,
   "id": "31c4608b-5be4-4f8e-b217-f8396661f123",
   "metadata": {},
   "outputs": [],
   "source": [
    "input_uuid_meta_data=pull(read.csv(\"/home/jupyter/BRI_Figures_Final_V1/Dataset/scRNA_BRI_meta_data_uuid.csv\")['id'])\n",
    "input_uuid_pesudobulk=pull(read.csv(\"/home/jupyter/BRI_Figures_Final_V1/Dataset/scRNA_BRI_Average_LogNormalized_Expression_uuid.csv\")['id'])\n"
   ]
  },
  {
   "cell_type": "code",
   "execution_count": 6,
   "id": "3c6ed861-8526-4a9d-b6e0-35f0e03ad9dd",
   "metadata": {},
   "outputs": [
    {
     "data": {
      "text/html": [
       "'Cert-Pro_IHA_Figures_Files_2024-06-10_from_-home-jupyter-BRI_Figures_Final_V1-Figure2-04_CompositeScore-01A_Aging_CompositeScore_BRI_ipynb'"
      ],
      "text/latex": [
       "'Cert-Pro\\_IHA\\_Figures\\_Files\\_2024-06-10\\_from\\_-home-jupyter-BRI\\_Figures\\_Final\\_V1-Figure2-04\\_CompositeScore-01A\\_Aging\\_CompositeScore\\_BRI\\_ipynb'"
      ],
      "text/markdown": [
       "'Cert-Pro_IHA_Figures_Files_2024-06-10_from_-home-jupyter-BRI_Figures_Final_V1-Figure2-04_CompositeScore-01A_Aging_CompositeScore_BRI_ipynb'"
      ],
      "text/plain": [
       "[1] \"Cert-Pro_IHA_Figures_Files_2024-06-10_from_-home-jupyter-BRI_Figures_Final_V1-Figure2-04_CompositeScore-01A_Aging_CompositeScore_BRI_ipynb\""
      ]
     },
     "metadata": {},
     "output_type": "display_data"
    }
   ],
   "source": [
    "study_space_uuid <- 'de025812-5e73-4b3c-9c3b-6d0eac412f2a'\n",
    "date_today <- Sys.Date()\n",
    "working_dir <- getwd()\n",
    "notebook_name <- basename(\"BRI_Figures_Final_V1/Figure2/04_CompositeScore/01A_Aging_CompositeScore_BRI.ipynb\")  \n",
    "\n",
    "title <- sprintf(\"Cert-Pro_IHA_Figures_Files_%s_from_%s/%s\", date_today, working_dir, notebook_name)\n",
    "title <- str_replace_all(title, c(\"/\" = \"-\", \"\\\\.\" = \"_\"))\n",
    "\n",
    "title"
   ]
  },
  {
   "cell_type": "code",
   "execution_count": 7,
   "id": "a8d6f6ea-bf4a-4708-a797-d3cbd2c208a9",
   "metadata": {
    "scrolled": true
   },
   "outputs": [
    {
     "name": "stdout",
     "output_type": "stream",
     "text": [
      "[1] \"Cannot determine the current notebook.\"\n",
      "[1] \"1) /home/jupyter/BRI_Figures_Final_V1/Figure2/04_CompositeScore/01A_Aging_CompositeScore_BRI.ipynb\"\n",
      "[1] \"2) /home/jupyter/BRI_Figures_Final_V1/Figure2/02_DEG/02B_DEG_analysis.ipynb\"\n",
      "[1] \"3) /home/jupyter/BRI_Figures_Final_V1/Figure2/03_Frequency_Changes/01_FreqChange_and_DEG.ipynb\"\n"
     ]
    },
    {
     "name": "stdin",
     "output_type": "stream",
     "text": [
      "Please select (1-3)  1\n"
     ]
    },
    {
     "name": "stderr",
     "output_type": "stream",
     "text": [
      "You are trying to upload the following files:  /home/jupyter/BRI_Figures_Final_V1/Figure2/04_CompositeScore/BRI_CompositeScore.csv\n",
      "\n"
     ]
    },
    {
     "name": "stdin",
     "output_type": "stream",
     "text": [
      "(y/n) y\n"
     ]
    },
    {
     "data": {
      "text/html": [
       "<dl>\n",
       "\t<dt>$files</dt>\n",
       "\t\t<dd><ol>\n",
       "\t<li>'/home/jupyter/BRI_Figures_Final_V1/Figure2/04_CompositeScore/BRI_CompositeScore.csv'</li>\n",
       "</ol>\n",
       "</dd>\n",
       "\t<dt>$traceId</dt>\n",
       "\t\t<dd>'a37a4cf9-158b-4a6e-ba31-1ebbe67f13df'</dd>\n",
       "</dl>\n"
      ],
      "text/latex": [
       "\\begin{description}\n",
       "\\item[\\$files] \\begin{enumerate}\n",
       "\\item '/home/jupyter/BRI\\_Figures\\_Final\\_V1/Figure2/04\\_CompositeScore/BRI\\_CompositeScore.csv'\n",
       "\\end{enumerate}\n",
       "\n",
       "\\item[\\$traceId] 'a37a4cf9-158b-4a6e-ba31-1ebbe67f13df'\n",
       "\\end{description}\n"
      ],
      "text/markdown": [
       "$files\n",
       ":   1. '/home/jupyter/BRI_Figures_Final_V1/Figure2/04_CompositeScore/BRI_CompositeScore.csv'\n",
       "\n",
       "\n",
       "\n",
       "$traceId\n",
       ":   'a37a4cf9-158b-4a6e-ba31-1ebbe67f13df'\n",
       "\n",
       "\n"
      ],
      "text/plain": [
       "$files\n",
       "$files[[1]]\n",
       "[1] \"/home/jupyter/BRI_Figures_Final_V1/Figure2/04_CompositeScore/BRI_CompositeScore.csv\"\n",
       "\n",
       "\n",
       "$traceId\n",
       "[1] \"a37a4cf9-158b-4a6e-ba31-1ebbe67f13df\"\n"
      ]
     },
     "metadata": {},
     "output_type": "display_data"
    }
   ],
   "source": [
    "uploadFiles(\n",
    "  list('/home/jupyter/BRI_Figures_Final_V1/Figure2/04_CompositeScore/BRI_CompositeScore.csv'),\n",
    "  studySpaceId = 'de025812-5e73-4b3c-9c3b-6d0eac412f2a',\n",
    "  title = title, fileTypes = list('csv'),destination=title,\n",
    "  inputFileIds = as.list(c(input_uuid_meta_data,input_uuid_pesudobulk))\n",
    ")"
   ]
  },
  {
   "cell_type": "code",
   "execution_count": null,
   "id": "ad2ceb07-1db1-4f6d-b118-38555c7e59d6",
   "metadata": {},
   "outputs": [],
   "source": []
  }
 ],
 "metadata": {
  "kernelspec": {
   "display_name": "R 4",
   "language": "R",
   "name": "ir4"
  },
  "language_info": {
   "codemirror_mode": "r",
   "file_extension": ".r",
   "mimetype": "text/x-r-source",
   "name": "R",
   "pygments_lexer": "r",
   "version": "4.3.2"
  }
 },
 "nbformat": 4,
 "nbformat_minor": 5
}
