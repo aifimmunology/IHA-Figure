{
 "cells": [
  {
   "cell_type": "code",
   "execution_count": 3,
   "id": "a607278e-8546-4885-b030-be2b0e304815",
   "metadata": {},
   "outputs": [],
   "source": [
    "suppressPackageStartupMessages(library(dplyr))\n",
    "suppressPackageStartupMessages(library(tidyr))\n",
    "suppressPackageStartupMessages(library(tibble))\n",
    "suppressPackageStartupMessages(library(stringr))\n",
    "library(parallel)\n",
    "library(DESeq2)\n",
    "library(hise)\n",
    "source('/home//jupyter/BRI_Figures_Final_V1//helper_function/helper_function_IHA.r')"
   ]
  },
  {
   "cell_type": "markdown",
   "id": "4be5c0b9-7368-416b-8c16-0f7c22875f18",
   "metadata": {},
   "source": [
    "# Read Meta Data"
   ]
  },
  {
   "cell_type": "code",
   "execution_count": 4,
   "id": "e68d98b3-3160-4b4f-97d9-1e13c0da81ef",
   "metadata": {},
   "outputs": [],
   "source": [
    "meta_data=read.csv(\"/home/jupyter/BRI_Figures_Final_V1/Dataset/scRNA_meta_data-2024-05-09.csv\")"
   ]
  },
  {
   "cell_type": "markdown",
   "id": "4f43a8bb-2e29-4066-adbf-d4619be3acb8",
   "metadata": {},
   "source": [
    "# Perform Deseq2 on Year 1 Day 0 samples"
   ]
  },
  {
   "cell_type": "code",
   "execution_count": 5,
   "id": "e3dd9eb4-7405-43b0-b3fb-78e1c1f2a616",
   "metadata": {},
   "outputs": [],
   "source": [
    "filtered_gene_set<-read.csv(\"filtered_gene_Y2D0.csv\")"
   ]
  },
  {
   "cell_type": "code",
   "execution_count": 6,
   "id": "b81c0e7e-5360-44ab-a955-763f62507555",
   "metadata": {},
   "outputs": [
    {
     "name": "stdout",
     "output_type": "stream",
     "text": [
      "[1] \"Total reading time: 11.631 seconds\"\n",
      "[1] \"The length of the list matches the length of the input path.\"\n"
     ]
    }
   ],
   "source": [
    "meta_data_subset=meta_data %>% filter(sample.visitName==\"Flu Year 2 Day 0\")\n",
    "\n",
    "aggregated_count_file_list<-paste0(\"/home/jupyter/BRI_Figures_Final_V1/Dataset/scRNA/BRI/Aggregated_Count/Aggregated_Raw_Expression_of_Celltypes_by_Sample_AIFI_L3/\",meta_data_subset$pbmc_sample_id,\".csv\")\n",
    "\n",
    "df_list<-read_pseudobulk_expression(aggregated_count_file_list)"
   ]
  },
  {
   "cell_type": "code",
   "execution_count": 7,
   "id": "91ac94b4-ae3f-419b-b6fa-b64b8c996bb9",
   "metadata": {},
   "outputs": [],
   "source": [
    "celltypes <- unique(unlist(lapply(df_list, names)))\n",
    "celltypes<-unique(sub(\".*:\", \"\", celltypes))"
   ]
  },
  {
   "cell_type": "code",
   "execution_count": 8,
   "id": "bd6b2461-617c-4907-8286-6154a4b93cec",
   "metadata": {},
   "outputs": [
    {
     "data": {
      "text/html": [
       "71"
      ],
      "text/latex": [
       "71"
      ],
      "text/markdown": [
       "71"
      ],
      "text/plain": [
       "[1] 71"
      ]
     },
     "metadata": {},
     "output_type": "display_data"
    }
   ],
   "source": [
    "length(celltypes)"
   ]
  },
  {
   "cell_type": "code",
   "execution_count": 9,
   "id": "60fb5fc6-ac25-4e07-bd04-586ff03a7791",
   "metadata": {
    "scrolled": true
   },
   "outputs": [],
   "source": [
    "res_list<-mclapply(celltypes, function(celltype){\n",
    "    print(celltype)\n",
    "    celltype_list <- lapply(df_list, function(df) { df <- df[, grep(celltype, names(df), fixed = TRUE),drop=FALSE] })\n",
    "    exp_matrix<-do.call(cbind,celltype_list)\n",
    "    colnames(exp_matrix)<-sub(\":.*\", \"\", colnames(exp_matrix))\n",
    "    rownames(meta_data_subset)<-meta_data_subset$pbmc_sample_id\n",
    "    filtered_gene_set_filtered<-filtered_gene_set%>% filter(AIFI_L3==celltype)%>% select(gene) %>%pull()\n",
    "    \n",
    "    res=deseq2_analysis(exp_matrix,\n",
    "                     meta_data=meta_data_subset,\n",
    "                     filtered_gene_set=filtered_gene_set_filtered,\n",
    "                     formula= ~  cohort.cohortGuid+subject.biologicalSex+CMV,\n",
    "                     comparisons=list(c(\"subject.biologicalSex\", \"Male\", \"Female\"),\n",
    "                                      c(\"cohort.cohortGuid\", \"BR2\", \"BR1\"),\n",
    "                                      c(\"CMV\", \"Positive\", \"Negative\")),\n",
    "                     celltype=celltype)\n",
    "    return(res)\n",
    "},mc.cores=60)"
   ]
  },
  {
   "cell_type": "code",
   "execution_count": 10,
   "id": "c42430f2-e644-41ea-bb8e-48dcff413cec",
   "metadata": {
    "scrolled": true
   },
   "outputs": [],
   "source": [
    "res_all<-do.call(rbind,res_list)"
   ]
  },
  {
   "cell_type": "code",
   "execution_count": 11,
   "id": "d1521d60-5802-426c-a247-a9bd32bf876a",
   "metadata": {},
   "outputs": [],
   "source": [
    "write.csv(res_all,\"Deseq2_Result_Y2D0.csv\")"
   ]
  },
  {
   "cell_type": "markdown",
   "id": "8c8504ca-2040-42c6-b5ac-980d3e2de2c6",
   "metadata": {},
   "source": [
    "# Upload Files"
   ]
  },
  {
   "cell_type": "code",
   "execution_count": 12,
   "id": "8458eccc-2de5-4951-9b9c-a7de8784340e",
   "metadata": {},
   "outputs": [],
   "source": [
    "input_uuid_meta_data=pull(read.csv(\"/home/jupyter/BRI_Figures_Final_V1/Dataset/scRNA_BRI_meta_data_uuid.csv\")['id'])\n",
    "input_uuid_h5ad=pull(read.csv(\"/home/jupyter/BRI_Figures_Final_V1/Dataset/scRNA_BRI_h5ad_uuid.csv\")['id'])\n"
   ]
  },
  {
   "cell_type": "code",
   "execution_count": 14,
   "id": "91e1afcc-4ec7-4bdd-9aa7-5677c278e215",
   "metadata": {},
   "outputs": [
    {
     "data": {
      "text/html": [
       "'Cert-Pro_IHA_Figures_Files_2024-06-11_from_-home-jupyter-BRI_Figures_Final_V1-Extended-Figure7-01-DEG-01B_DEG_analysis_ipynb'"
      ],
      "text/latex": [
       "'Cert-Pro\\_IHA\\_Figures\\_Files\\_2024-06-11\\_from\\_-home-jupyter-BRI\\_Figures\\_Final\\_V1-Extended-Figure7-01-DEG-01B\\_DEG\\_analysis\\_ipynb'"
      ],
      "text/markdown": [
       "'Cert-Pro_IHA_Figures_Files_2024-06-11_from_-home-jupyter-BRI_Figures_Final_V1-Extended-Figure7-01-DEG-01B_DEG_analysis_ipynb'"
      ],
      "text/plain": [
       "[1] \"Cert-Pro_IHA_Figures_Files_2024-06-11_from_-home-jupyter-BRI_Figures_Final_V1-Extended-Figure7-01-DEG-01B_DEG_analysis_ipynb\""
      ]
     },
     "metadata": {},
     "output_type": "display_data"
    }
   ],
   "source": [
    "study_space_uuid <- 'de025812-5e73-4b3c-9c3b-6d0eac412f2a'\n",
    "date_today <- Sys.Date()\n",
    "working_dir <- getwd()\n",
    "notebook_name <- basename(\"BRI_Figures_Final_V1/Extended-Figure7/01-DEG/01B_DEG_analysis.ipynb\")  \n",
    "\n",
    "title <- sprintf(\"Cert-Pro_IHA_Figures_Files_%s_from_%s/%s\", date_today, working_dir, notebook_name)\n",
    "title <- str_replace_all(title, c(\"/\" = \"-\", \"\\\\.\" = \"_\"))\n",
    "\n",
    "title"
   ]
  },
  {
   "cell_type": "code",
   "execution_count": 15,
   "id": "d36cf1a6-3c03-46d6-ba30-7c6281520c97",
   "metadata": {
    "scrolled": true
   },
   "outputs": [
    {
     "name": "stdout",
     "output_type": "stream",
     "text": [
      "[1] \"Cannot determine the current notebook.\"\n",
      "[1] \"1) /home/jupyter/BRI_Figures_Final_V1/Extended-Figure7/01-DEG/01B_DEG_analysis.ipynb\"\n",
      "[1] \"2) /home/jupyter/BRI_Figures_Final_V1/Extended-Figure7/01-DEG/01A_DEG_Filter_Genes.ipynb\"\n",
      "[1] \"3) /home/jupyter/IHA-Figures_Final_V1/Figure2/04_CompositeScore/02A_Aging_CompositeScore_SF4.ipynb\"\n"
     ]
    },
    {
     "name": "stdin",
     "output_type": "stream",
     "text": [
      "Please select (1-3)  1\n"
     ]
    },
    {
     "name": "stderr",
     "output_type": "stream",
     "text": [
      "You are trying to upload the following files:  /home/jupyter/BRI_Figures_Final_V1/Extended-Figure7/01-DEG/Deseq2_Result_Y2D0.csv\n",
      "\n"
     ]
    },
    {
     "name": "stdin",
     "output_type": "stream",
     "text": [
      "(y/n) y\n"
     ]
    },
    {
     "data": {
      "text/html": [
       "<dl>\n",
       "\t<dt>$files</dt>\n",
       "\t\t<dd><ol>\n",
       "\t<li>'/home/jupyter/BRI_Figures_Final_V1/Extended-Figure7/01-DEG/Deseq2_Result_Y2D0.csv'</li>\n",
       "</ol>\n",
       "</dd>\n",
       "\t<dt>$traceId</dt>\n",
       "\t\t<dd>'71c0c925-0a9a-40ad-86df-75cfbdc98263'</dd>\n",
       "</dl>\n"
      ],
      "text/latex": [
       "\\begin{description}\n",
       "\\item[\\$files] \\begin{enumerate}\n",
       "\\item '/home/jupyter/BRI\\_Figures\\_Final\\_V1/Extended-Figure7/01-DEG/Deseq2\\_Result\\_Y2D0.csv'\n",
       "\\end{enumerate}\n",
       "\n",
       "\\item[\\$traceId] '71c0c925-0a9a-40ad-86df-75cfbdc98263'\n",
       "\\end{description}\n"
      ],
      "text/markdown": [
       "$files\n",
       ":   1. '/home/jupyter/BRI_Figures_Final_V1/Extended-Figure7/01-DEG/Deseq2_Result_Y2D0.csv'\n",
       "\n",
       "\n",
       "\n",
       "$traceId\n",
       ":   '71c0c925-0a9a-40ad-86df-75cfbdc98263'\n",
       "\n",
       "\n"
      ],
      "text/plain": [
       "$files\n",
       "$files[[1]]\n",
       "[1] \"/home/jupyter/BRI_Figures_Final_V1/Extended-Figure7/01-DEG/Deseq2_Result_Y2D0.csv\"\n",
       "\n",
       "\n",
       "$traceId\n",
       "[1] \"71c0c925-0a9a-40ad-86df-75cfbdc98263\"\n"
      ]
     },
     "metadata": {},
     "output_type": "display_data"
    }
   ],
   "source": [
    "uploadFiles(\n",
    "  list('/home/jupyter/BRI_Figures_Final_V1/Extended-Figure7/01-DEG/Deseq2_Result_Y2D0.csv'),\n",
    "  studySpaceId = 'de025812-5e73-4b3c-9c3b-6d0eac412f2a',\n",
    "  title = title, fileTypes = list('csv'),destination=title,\n",
    "  inputFileIds = as.list(c(input_uuid_meta_data,input_uuid_h5ad))\n",
    ")"
   ]
  },
  {
   "cell_type": "code",
   "execution_count": null,
   "id": "652b95f7-8564-4e24-82f5-ecc947ac6891",
   "metadata": {},
   "outputs": [],
   "source": []
  }
 ],
 "metadata": {
  "kernelspec": {
   "display_name": "R 4",
   "language": "R",
   "name": "ir4"
  },
  "language_info": {
   "codemirror_mode": "r",
   "file_extension": ".r",
   "mimetype": "text/x-r-source",
   "name": "R",
   "pygments_lexer": "r",
   "version": "4.3.2"
  }
 },
 "nbformat": 4,
 "nbformat_minor": 5
}
