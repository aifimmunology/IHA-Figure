{
 "cells": [
  {
   "cell_type": "code",
   "execution_count": 12,
   "id": "fea17e64-4d5d-4790-afab-4f3f3abd8ac8",
   "metadata": {
    "scrolled": true
   },
   "outputs": [],
   "source": [
    "suppressPackageStartupMessages(library(dplyr))\n",
    "suppressPackageStartupMessages(library(tidyr))\n",
    "suppressPackageStartupMessages(library(tibble))\n",
    "suppressPackageStartupMessages(library(ggplot2))\n",
    "suppressPackageStartupMessages(library(stringr))\n",
    "library(grid)\n",
    "library('ggh4x')\n",
    "library(\"cowplot\")\n",
    "library(patchwork)\n",
    "library(rstatix)\n",
    "library(ggpubr)\n",
    "library(corrplot)"
   ]
  },
  {
   "cell_type": "code",
   "execution_count": 3,
   "id": "a108ea88-1cb9-4298-bf2c-085932c200d6",
   "metadata": {},
   "outputs": [],
   "source": [
    "is_dark_color <- function(hex) {\n",
    "  rgb <- col2rgb(hex)\n",
    "  \n",
    "  luminance <- 0.299 * rgb[1,] + 0.587 * rgb[2,] + 0.114 * rgb[3,]\n",
    "  \n",
    "  if(luminance < 128){\n",
    "  \n",
    "  return('white')\n",
    "      \n",
    "  }else{return('black')}\n",
    "}"
   ]
  },
  {
   "cell_type": "markdown",
   "id": "c7748864-a858-44fc-ad4c-321a8de1c96a",
   "metadata": {},
   "source": [
    "# Read color hex code for cell types"
   ]
  },
  {
   "cell_type": "code",
   "execution_count": 4,
   "id": "8d2375e6-876e-4cb5-9c67-1345994d78e8",
   "metadata": {},
   "outputs": [],
   "source": [
    "color_annotation<-read.csv('/home//workspace/IHA_Figure_Revision/Color_hex_codes/Cell_Type_Color_Annotation_and_Order.csv')\n",
    "color_vector <- setNames(color_annotation$color, color_annotation$label)"
   ]
  },
  {
   "cell_type": "markdown",
   "id": "0a12d236-8c39-4157-95a5-f651e592f007",
   "metadata": {},
   "source": [
    "# Read CompositeScore"
   ]
  },
  {
   "cell_type": "code",
   "execution_count": 5,
   "id": "8f4605d0-4cc2-4dd9-a082-43c1b6d8dc60",
   "metadata": {},
   "outputs": [],
   "source": [
    "df<-read.csv('/home//workspace/IHA_Figure_Revision/Figure1/04_CompositeScore/BRI_CompositeScore_Up.csv')"
   ]
  },
  {
   "cell_type": "markdown",
   "id": "bcbcb8a4-0ff1-4696-8054-9dd62a4e0ad9",
   "metadata": {},
   "source": [
    "# Plotting"
   ]
  },
  {
   "cell_type": "code",
   "execution_count": 6,
   "id": "9dd89274-72e7-465f-b85c-89cad932adda",
   "metadata": {},
   "outputs": [],
   "source": [
    "celltype_order<-c(\"Core naive CD8 T cell\",\"CM CD8 T cell\",\"GZMK+ CD27+ EM CD8 T cell\",\"Naive CD4 Treg\",\n",
    "                 \"Core naive CD4 T cell\",\"CM CD4 T cell\",\"GZMB- CD27- EM CD4 T cell\",\"GZMB- CD27+ EM CD4 T cell\")\n",
    "df$celltype<-factor(df$celltype,levels=celltype_order)"
   ]
  },
  {
   "cell_type": "code",
   "execution_count": 7,
   "id": "ce147568-aadf-4c65-82e4-a371a66dc184",
   "metadata": {},
   "outputs": [],
   "source": [
    "df$`Age Group`=df$`AgeGroup`\n",
    "df$`Age Group`=factor(df$`Age Group`,level=c('Young','Older'))\n"
   ]
  },
  {
   "cell_type": "code",
   "execution_count": 8,
   "id": "f820fd9c-da89-412e-8965-57dc0d72a913",
   "metadata": {},
   "outputs": [],
   "source": [
    "# there is one outlier we removed \n",
    "df<-df %>% group_by(celltype)  %>% filter(composite_score_sum_scaled_mean>min(composite_score_sum_scaled_mean))"
   ]
  },
  {
   "cell_type": "code",
   "execution_count": 11,
   "id": "c1e13b65-1cf0-4cbb-87a4-f066aa5b0c5a",
   "metadata": {},
   "outputs": [],
   "source": [
    "df$RNA_Age_Metric_Up<-df$composite_score_sum_scaled_mean\n",
    "df_clean <- df %>%\n",
    "  select(celltype, RNA_Age_Metric_Up, sample.daysSinceFirstVisit, AgeGroup) %>%\n",
    "  mutate(across(everything(), ~ gsub(\"[\\r\\n]+\", \" \", .)))  # removes newlines\n",
    "\n",
    "write.csv(df_clean, \"/home/workspace/Source_Data/Fig1g.csv\",\n",
    "          row.names = FALSE )"
   ]
  },
  {
   "cell_type": "code",
   "execution_count": 9,
   "id": "6d10676b-039e-42bc-aef8-99ec01512e11",
   "metadata": {},
   "outputs": [
    {
     "name": "stderr",
     "output_type": "stream",
     "text": [
      "\u001b[1m\u001b[22m`geom_smooth()` using formula = 'y ~ x'\n",
      "\u001b[1m\u001b[22m`geom_smooth()` using formula = 'y ~ x'\n",
      "\u001b[1m\u001b[22m`geom_smooth()` using formula = 'y ~ x'\n",
      "\u001b[1m\u001b[22m`geom_smooth()` using formula = 'y ~ x'\n",
      "\u001b[1m\u001b[22m`geom_smooth()` using formula = 'y ~ x'\n",
      "\u001b[1m\u001b[22m`geom_smooth()` using formula = 'y ~ x'\n",
      "\u001b[1m\u001b[22m`geom_smooth()` using formula = 'y ~ x'\n",
      "\u001b[1m\u001b[22m`geom_smooth()` using formula = 'y ~ x'\n"
     ]
    }
   ],
   "source": [
    "plot_list <- list()\n",
    "for (selected_celltype in celltype_order) {\n",
    "    df_sub <- df %>%\n",
    "        filter(celltype == selected_celltype)\n",
    "    max_value <- max(df_sub$composite_score_sum_scaled_mean, na.rm = TRUE)\n",
    "df_sub$celltype<-gsub(\" cell\",\"\",df_sub$celltype)\n",
    "    p1 <- ggplot(df_sub, aes(sample.daysSinceFirstVisit, composite_score_sum_scaled_mean, color = AgeGroup)) +\n",
    "        geom_line(aes(group = interaction(\n",
    "            `Age Group`,\n",
    "            subject.subjectGuid\n",
    "        )), linewidth = 0.1, alpha = 0.5, linetype = 1) +\n",
    "        ylab(\"\") +\n",
    "        theme_bw(base_size = 6) +\n",
    "        theme(\n",
    "            axis.line = element_line(colour = \"black\"),\n",
    "            panel.grid.major = element_blank(), \n",
    "            panel.grid.minor = element_blank(), \n",
    "            panel.border = element_blank(), \n",
    "            panel.background = element_blank()\n",
    "        ) +\n",
    "        scale_color_manual(values = c(\n",
    "            Older = \"#bf812d\",\n",
    "            Young = \"#35978f\"\n",
    "        ))  +geom_smooth(method = \"lm\", se = TRUE, linewidth = 0.3) +\n",
    "\n",
    "  stat_cor(data = df_sub %>% filter(`Age Group` == \"Older\"),\n",
    "           method = \"spearman\",\n",
    "           label.x.npc = \"left\",\n",
    "            label.y = max_value * 1.1,\n",
    "           size = 1.76, color = '#bf812d') +\n",
    "  stat_cor(data = df_sub %>% filter(`Age Group` == \"Young\"),\n",
    "           method = \"spearman\",\n",
    "           label.x.npc = \"left\",\n",
    "           label.y = max_value * 1.37,\n",
    "           size = 1.76, color = '#35978f') +\n",
    "        facet_wrap2(~celltype, axes = \"all\", remove_labels = \"all\", ncol = 1, scale = \"free_y\") +\n",
    "        theme(\n",
    "            panel.grid.major = element_blank(),\n",
    "            panel.grid.minor = element_blank(), \n",
    "            strip.background = element_rect(fill = adjustcolor(color_vector[selected_celltype], alpha.f = 0.8), color = NA),\n",
    "            strip.text = element_text(color = is_dark_color(adjustcolor(color_vector[selected_celltype], alpha.f = 0.8)))\n",
    "        ) +\n",
    "        xlab(\"\") +\n",
    "        theme(legend.position = \"none\")+\n",
    "    scale_y_continuous(expand = expansion(mult = c(0.1, 0.15)))\n",
    "\n",
    "    p2 <- ggplot(df_sub, aes(composite_score_sum_scaled_mean, fill = `Age Group`, color = `Age Group`)) +\n",
    "        geom_density(alpha = 0.5, linewidth = 0.5) +\n",
    "        scale_fill_manual(values = c(Older = \"#bf812d\", Young = \"#35978f\")) +\n",
    "        scale_color_manual(values = c(Older = \"#bf812d\", Young = \"#35978f\")) +\n",
    "        coord_flip() +  scale_x_continuous(expand = expansion(mult = c(0.1, 0.15))) +\n",
    "\n",
    "        theme_void(base_size = 6) +\n",
    "        theme(legend.position = \"none\") +\n",
    "        theme(plot.margin = margin(0, 0, 0, -1, \"mm\"))\n",
    "\n",
    "    combined_plot <- plot_grid(p1, p2, ncol = 2, rel_widths = c(10, 0.4), align = \"h\", axis = \"tb\")\n",
    "    plot_list[[selected_celltype]] <- combined_plot\n",
    "}"
   ]
  },
  {
   "cell_type": "code",
   "execution_count": null,
   "id": "96d2204c-6635-48c3-82de-37030f35e98b",
   "metadata": {},
   "outputs": [],
   "source": [
    "options(repr.plot.width = 115/25.4, repr.plot.height = 55/25.4)\n",
    "\n",
    "p<-plot_grid(plot_list[[1]],plot_list[[2]],plot_list[[3]], plot_list[[4]],\n",
    "             plot_list[[5]], plot_list[[6]],plot_list[[7]], plot_list[[8]], \n",
    "             ncol = 4, rel_widths = c(5, 5, 5, 5), \n",
    "             align = 'h', axis = 'lr')\n",
    "p\n"
   ]
  },
  {
   "cell_type": "code",
   "execution_count": null,
   "id": "929ca6a4-2d58-4a68-9236-bb42e85d66ba",
   "metadata": {},
   "outputs": [],
   "source": [
    "ggsave('FigureG.pdf',p,width = 115/25.4,height = 55/25.4)"
   ]
  },
  {
   "cell_type": "code",
   "execution_count": null,
   "id": "765271a4-8b50-4390-bcf1-452ca73ae126",
   "metadata": {},
   "outputs": [],
   "source": []
  }
 ],
 "metadata": {
  "kernelspec": {
   "display_name": "R_BRI_Figures",
   "language": "R",
   "name": "r_bri_figures"
  },
  "language_info": {
   "codemirror_mode": "r",
   "file_extension": ".r",
   "mimetype": "text/x-r-source",
   "name": "R",
   "pygments_lexer": "r",
   "version": "4.3.2"
  }
 },
 "nbformat": 4,
 "nbformat_minor": 5
}
