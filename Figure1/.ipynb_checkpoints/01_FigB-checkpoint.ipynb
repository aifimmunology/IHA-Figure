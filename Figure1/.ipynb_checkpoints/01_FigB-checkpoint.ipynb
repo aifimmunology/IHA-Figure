{
 "cells": [
  {
   "cell_type": "code",
   "execution_count": 1,
   "id": "377b4b51-b997-4c24-aa7d-fed7eed66811",
   "metadata": {},
   "outputs": [
    {
     "name": "stderr",
     "output_type": "stream",
     "text": [
      "Warning message:\n",
      "“package ‘cowplot’ was built under R version 4.3.3”\n",
      "Warning message:\n",
      "“package ‘dplyr’ was built under R version 4.3.3”\n",
      "Warning message:\n",
      "“package ‘tidyr’ was built under R version 4.3.3”\n",
      "Warning message:\n",
      "“package ‘tibble’ was built under R version 4.3.3”\n",
      "Warning message:\n",
      "“package ‘patchwork’ was built under R version 4.3.3”\n",
      "Warning message:\n",
      "“package ‘plyr’ was built under R version 4.3.3”\n",
      "Warning message:\n",
      "“package ‘stringr’ was built under R version 4.3.3”\n"
     ]
    }
   ],
   "source": [
    "library(\"cowplot\")\n",
    "suppressPackageStartupMessages(library(ggrepel))\n",
    "suppressPackageStartupMessages(library(dplyr))\n",
    "suppressPackageStartupMessages(library(tidyr))\n",
    "suppressPackageStartupMessages(library(tibble))\n",
    "suppressPackageStartupMessages(library(ggplot2))\n",
    "suppressPackageStartupMessages(library(parallel))\n",
    "suppressPackageStartupMessages(library(patchwork))\n",
    "suppressPackageStartupMessages(library(plyr))\n",
    "suppressPackageStartupMessages(library(stringr))"
   ]
  },
  {
   "cell_type": "code",
   "execution_count": 2,
   "id": "f66dfe86-1836-4b27-bf91-be98c62f777c",
   "metadata": {},
   "outputs": [],
   "source": [
    "Olink_Result<-read.csv('01_Olink_Analysis/Olink_lm_Result.csv')"
   ]
  },
  {
   "cell_type": "code",
   "execution_count": 3,
   "id": "d1ab2020-1790-420d-bbfd-46d2afbf7a8e",
   "metadata": {},
   "outputs": [],
   "source": [
    "Olink_Result<-Olink_Result %>% filter(factor=='Age')\n"
   ]
  },
  {
   "cell_type": "code",
   "execution_count": 4,
   "id": "3d784d7e-b36b-4364-80e9-d87afda7ed03",
   "metadata": {
    "tags": []
   },
   "outputs": [],
   "source": [
    "data <- Olink_Result%>% dplyr::mutate(Expression = case_when(delta_changes_Age >=0.1 & padj <= 0.05 ~ \"Up-Older\",\n",
    "                                                     delta_changes_Age <= -0.1 & padj <= 0.05 ~ \"Up-Young\",\n",
    "                                                     TRUE ~ \"Unchanged\"))\n",
    "\n",
    "top <- 10\n",
    "top_genes <- data %>%\n",
    "  filter(Expression %in% c('Up-Older', 'Up-Young')) %>%\n",
    "  group_by(Expression) %>%\n",
    "  arrange(padj, desc(abs(delta_changes_Age))) %>%\n",
    "  slice_head(n = top) %>%\n",
    "  ungroup()"
   ]
  },
  {
   "cell_type": "code",
   "execution_count": 5,
   "id": "d4047d3f-5c1a-49b7-969d-636d96ca5277",
   "metadata": {
    "scrolled": true,
    "tags": []
   },
   "outputs": [
    {
     "data": {
      "image/png": "[encoded data removed]",
      "text/plain": [
       "plot without title"
      ]
     },
     "metadata": {
      "image/png": {
       "height": 82.6772,
       "width": 141.7323
      }
     },
     "output_type": "display_data"
    }
   ],
   "source": [
    "options(repr.plot.width = 60/25.4, repr.plot.height = 35/25.4)\n",
    "\n",
    "p <- ggplot(data, aes(delta_changes_Age, -log10(padj))) +\n",
    "  geom_point(aes(color = Expression), size = 0.8, stroke = 0, show.legend = FALSE) +\n",
    "  xlab(expression(\"Delta Changes\")) + \n",
    "  ylab(expression(\"-log\"[10]*\"P-adjuted\")) +\n",
    "  scale_color_manual(values = c(\"Up-Older\" = '#bf812d', \"Unchanged\" = \"gray50\", \"Up-Young\" = '#35978f')) +\n",
    "  guides(colour = guide_legend(override.aes = list(size = 1.5)), alpha = \"none\") +\n",
    "  geom_text_repel(\n",
    "    data = top_genes,\n",
    "    box.padding = 0.5,\n",
    "    force = 0.5,\n",
    "    max.overlaps = 50,\n",
    "    nudge_x = 0.15,\n",
    "    hjust = 0.1,\n",
    "    segment.size = 0.1,\n",
    "    mapping = aes(label = Assay),\n",
    "    size = 2\n",
    "  ) +\n",
    "  theme(legend.position = \"none\") +\n",
    "  theme_classic(base_size = 8)+\n",
    "  scale_y_continuous(expand = expansion(mult = c(0.05, 0.5)))\n",
    "\n",
    "p\n",
    "\n",
    "ggsave(filename = \"FigureB.pdf\", plot = p, width = 60/25.4, height = 35/25.4)"
   ]
  },
  {
   "cell_type": "code",
   "execution_count": null,
   "id": "fc4a6d2e-dd5b-4723-807b-40707871758e",
   "metadata": {},
   "outputs": [],
   "source": []
  },
  {
   "cell_type": "code",
   "execution_count": null,
   "id": "efb11d21-ebad-481d-8a4f-d7bf6de0cbe5",
   "metadata": {},
   "outputs": [],
   "source": []
  },
  {
   "cell_type": "code",
   "execution_count": null,
   "id": "a0acde33-529a-4ce3-a0ad-25c2b6f0e60c",
   "metadata": {},
   "outputs": [],
   "source": []
  }
 ],
 "metadata": {
  "kernelspec": {
   "display_name": "R_BRI_Figures",
   "language": "R",
   "name": "r_bri_figures"
  },
  "language_info": {
   "codemirror_mode": "r",
   "file_extension": ".r",
   "mimetype": "text/x-r-source",
   "name": "R",
   "pygments_lexer": "r",
   "version": "4.3.2"
  }
 },
 "nbformat": 4,
 "nbformat_minor": 5
}
