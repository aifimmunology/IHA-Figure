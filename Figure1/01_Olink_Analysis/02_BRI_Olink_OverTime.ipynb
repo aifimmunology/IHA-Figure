{
 "cells": [
  {
   "cell_type": "code",
   "execution_count": 2,
   "id": "091d4e11-3b51-4b24-88db-ba894f8b833b",
   "metadata": {},
   "outputs": [],
   "source": [
    "library(\"ggpubr\")\n",
    "library(\"cowplot\")\n",
    "library(\"tidyverse\")\n",
    "library(parallel)\n",
    "suppressPackageStartupMessages(library(ggrepel))\n",
    "library(lme4)\n",
    "suppressPackageStartupMessages(library(readxl))\n",
    "suppressPackageStartupMessages(library(dplyr))\n",
    "suppressPackageStartupMessages(library(tidyr))\n",
    "suppressPackageStartupMessages(library(tibble))\n",
    "suppressPackageStartupMessages(library(ggplot2))\n",
    "suppressPackageStartupMessages(library(parallel))\n",
    "suppressPackageStartupMessages(library(patchwork))\n",
    "suppressPackageStartupMessages(library(plyr))\n",
    "suppressPackageStartupMessages(library(stringr))"
   ]
  },
  {
   "cell_type": "code",
   "execution_count": 3,
   "id": "a2339727-a023-4b57-808e-2b20d5b61971",
   "metadata": {},
   "outputs": [],
   "source": [
    "Olink<-read.csv(\"Olink_BRI.csv\")"
   ]
  },
  {
   "cell_type": "code",
   "execution_count": 6,
   "id": "beb42162-bf9e-4eb1-9912-65be6481f068",
   "metadata": {},
   "outputs": [
    {
     "data": {
      "text/html": [
       "<table class=\"dataframe\">\n",
       "<caption>A data.frame: 1 × 1</caption>\n",
       "<thead>\n",
       "\t<tr><th></th><th scope=col>sample.sampleKitGuid</th></tr>\n",
       "\t<tr><th></th><th scope=col>&lt;chr&gt;</th></tr>\n",
       "</thead>\n",
       "<tbody>\n",
       "\t<tr><th scope=row>1</th><td>NA</td></tr>\n",
       "</tbody>\n",
       "</table>\n"
      ],
      "text/latex": [
       "A data.frame: 1 × 1\n",
       "\\begin{tabular}{r|l}\n",
       "  & sample.sampleKitGuid\\\\\n",
       "  & <chr>\\\\\n",
       "\\hline\n",
       "\t1 & NA\\\\\n",
       "\\end{tabular}\n"
      ],
      "text/markdown": [
       "\n",
       "A data.frame: 1 × 1\n",
       "\n",
       "| <!--/--> | sample.sampleKitGuid &lt;chr&gt; |\n",
       "|---|---|\n",
       "| 1 | NA |\n",
       "\n"
      ],
      "text/plain": [
       "  sample.sampleKitGuid\n",
       "1 NA                  "
      ]
     },
     "metadata": {},
     "output_type": "display_data"
    }
   ],
   "source": [
    "Olink %>% filter(Assay==\"SHBG\") %>% select(sample.sampleKitGuid\t) %>% unique(.)"
   ]
  },
  {
   "cell_type": "code",
   "execution_count": 3,
   "id": "5e2a8fa6-f61c-4f28-b42e-7465ac6707cb",
   "metadata": {},
   "outputs": [],
   "source": [
    "meta<-read.csv('/home/jupyter/BRI_Figures_Final_V2/Dataset/scRNA_meta_data-2024-05-09.csv')\n"
   ]
  },
  {
   "cell_type": "code",
   "execution_count": 4,
   "id": "1db2e47e-e868-4f49-839c-24f81e06acab",
   "metadata": {
    "tags": []
   },
   "outputs": [],
   "source": [
    "rownames(meta)<-meta$sample.sampleKitGuid"
   ]
  },
  {
   "cell_type": "code",
   "execution_count": 5,
   "id": "0e97d3e7-ad0f-495b-bea4-30e3b839184b",
   "metadata": {
    "tags": []
   },
   "outputs": [],
   "source": [
    "Olink<-Olink %>% filter(sample.sampleKitGuid %in% unique(meta$sample.sampleKitGuid))"
   ]
  },
  {
   "cell_type": "code",
   "execution_count": 6,
   "id": "b037d49e-4ede-4723-8ca6-7234daa34c81",
   "metadata": {
    "tags": []
   },
   "outputs": [],
   "source": [
    "Olink<-left_join(Olink,meta, by = c(\"sample.sampleKitGuid\"))"
   ]
  },
  {
   "cell_type": "code",
   "execution_count": 9,
   "id": "277693b5-375e-4d70-a903-be2ac84909e8",
   "metadata": {},
   "outputs": [],
   "source": [
    "Olink_Selected<-Olink %>% \n",
    "filter(Covid_exclusion=='no',sample.daysSinceFirstVisit<600)%>% \n",
    "filter(!sample.visitName%in% c('Flu Year 1 Day 7','Flu Year 2 Day 7'))%>% \n",
    "filter(Assay %in% c('CXCL17','WNT9A'))"
   ]
  },
  {
   "cell_type": "code",
   "execution_count": 10,
   "id": "b1b1d981-d85b-4e49-80f5-7662094e25e0",
   "metadata": {},
   "outputs": [],
   "source": [
    "write.csv(Olink_Selected,'selected_protein_OverTime.csv')"
   ]
  },
  {
   "cell_type": "code",
   "execution_count": null,
   "id": "77e340a2-99fd-4237-ad6c-f2b9f578caf6",
   "metadata": {},
   "outputs": [],
   "source": []
  }
 ],
 "metadata": {
  "kernelspec": {
   "display_name": "R_BRI_Figures",
   "language": "R",
   "name": "r_bri_figures"
  },
  "language_info": {
   "codemirror_mode": "r",
   "file_extension": ".r",
   "mimetype": "text/x-r-source",
   "name": "R",
   "pygments_lexer": "r",
   "version": "4.3.2"
  }
 },
 "nbformat": 4,
 "nbformat_minor": 5
}
