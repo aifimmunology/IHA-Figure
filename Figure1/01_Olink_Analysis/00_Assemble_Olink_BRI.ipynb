{
 "cells": [
  {
   "cell_type": "code",
   "execution_count": 1,
   "id": "6852d0fa-80cf-4508-9da0-fc85208d6a3c",
   "metadata": {
    "tags": []
   },
   "outputs": [
    {
     "name": "stderr",
     "output_type": "stream",
     "text": [
      "Warning message:\n",
      "“package ‘readxl’ was built under R version 4.3.3”\n",
      "Warning message:\n",
      "“package ‘dplyr’ was built under R version 4.3.3”\n",
      "Warning message:\n",
      "“package ‘tidyr’ was built under R version 4.3.3”\n",
      "Warning message:\n",
      "“package ‘tibble’ was built under R version 4.3.3”\n",
      "Warning message:\n",
      "“package ‘plyr’ was built under R version 4.3.3”\n",
      "Warning message:\n",
      "“package ‘stringr’ was built under R version 4.3.3”\n"
     ]
    }
   ],
   "source": [
    "suppressPackageStartupMessages(library(readxl))\n",
    "suppressPackageStartupMessages(library(dplyr))\n",
    "suppressPackageStartupMessages(library(tidyr))\n",
    "suppressPackageStartupMessages(library(tibble))\n",
    "suppressPackageStartupMessages(library(plyr))\n",
    "suppressPackageStartupMessages(library(stringr))"
   ]
  },
  {
   "cell_type": "markdown",
   "id": "0078296d-096d-462d-b370-41790262dfcd",
   "metadata": {},
   "source": [
    "# Assemble Data"
   ]
  },
  {
   "cell_type": "code",
   "execution_count": 26,
   "id": "9171272e-9dfc-4fc6-ab87-f488377e4622",
   "metadata": {
    "tags": []
   },
   "outputs": [],
   "source": [
    "uuid<-read.csv(\"/home/workspace/private/bri_figure_all_files_test/jupyter/BRI_Figures_Final_V2/Dataset//Olink_BRI_uuid.csv\")"
   ]
  },
  {
   "cell_type": "code",
   "execution_count": 27,
   "id": "279d064f-bacd-40d6-a164-3ba2da7fb81a",
   "metadata": {
    "tags": []
   },
   "outputs": [],
   "source": [
    "first_batch<-read_excel('/home/workspace/private/bri_figure_all_files_test/jupyter/BRI_Figures_Final_V2/Dataset/Olink/20201752_Skene_1820_NPX_2020-12-03.xlsx')"
   ]
  },
  {
   "cell_type": "code",
   "execution_count": 28,
   "id": "474680c8-d160-4b00-94a6-cb8efa47db88",
   "metadata": {},
   "outputs": [],
   "source": [
    "csv_files <- list.files(path = '/home/workspace/private/bri_figure_all_files_test/jupyter/BRI_Figures_Final_V2/Dataset/Olink/',pattern = \"\\\\.csv$\")\n",
    "csv_data_list <- lapply(paste0('/home/workspace/private/bri_figure_all_files_test/jupyter/BRI_Figures_Final_V2/Dataset/Olink/',csv_files), read.csv)"
   ]
  },
  {
   "cell_type": "code",
   "execution_count": 29,
   "id": "b485c8ad-f4c3-4cef-87db-9b95b423a346",
   "metadata": {},
   "outputs": [],
   "source": [
    "csv_data_list[[3]]$sample.sampleKitGuid<-csv_data_list[[3]]$SampleKitGuid\n",
    "csv_data_list[[4]]$sample.sampleKitGuid<-csv_data_list[[4]]$SampleKitGuid\n",
    "csv_data_list[[5]]$sample.sampleKitGuid<-csv_data_list[[5]]$SampleKitGuid"
   ]
  },
  {
   "cell_type": "code",
   "execution_count": 30,
   "id": "e89334bd-967e-4c98-8837-c7530fd3545b",
   "metadata": {},
   "outputs": [],
   "source": [
    "csv_data_list[[1]]$batch<-\"Bridged_Batch_1\"\n",
    "csv_data_list[[2]]$batch<-\"Bridged_Batch_2\"\n",
    "csv_data_list[[3]]$batch<-\"Bridged_Batch_3\"\n",
    "csv_data_list[[4]]$batch<-\"Bridged_Batch_4\"\n",
    "csv_data_list[[5]]$batch<-\"Bridged_Batch_5\""
   ]
  },
  {
   "cell_type": "code",
   "execution_count": 31,
   "id": "9519b701-0849-4603-bb19-a42403209fc7",
   "metadata": {
    "tags": []
   },
   "outputs": [],
   "source": [
    "first_batch$sample.sampleKitGuid<-paste0(\"KT\",str_sub(first_batch$SampleID,3,7))\n",
    "first_batch$NPX_bridged<-first_batch$NPX\n",
    "first_batch$batch<-\"First_Batch\""
   ]
  },
  {
   "cell_type": "code",
   "execution_count": 32,
   "id": "5353548b-916c-456d-a317-5adf269b0c57",
   "metadata": {},
   "outputs": [],
   "source": [
    "csv_data_list <- c(csv_data_list, list(first_batch))"
   ]
  },
  {
   "cell_type": "code",
   "execution_count": 33,
   "id": "b67f0458-6cb4-498f-9e13-ac008ed29fc9",
   "metadata": {
    "tags": []
   },
   "outputs": [],
   "source": [
    "all<-do.call(rbind.fill,csv_data_list)"
   ]
  },
  {
   "cell_type": "code",
   "execution_count": 34,
   "id": "2bed3dd0-1da9-4d72-bc1c-a0587c13542e",
   "metadata": {
    "tags": []
   },
   "outputs": [],
   "source": [
    "all<-all%>% filter(!(Panel%in% c('Cardiometabolic','Neurology','Oncology')&Assay %in% c('TNF',\"IL6\",\"CXCL8\")))"
   ]
  },
  {
   "cell_type": "code",
   "execution_count": 35,
   "id": "4295c698-2138-4449-adca-6bf4d0a817a9",
   "metadata": {
    "tags": []
   },
   "outputs": [],
   "source": [
    "Olink<-unique(all[c(\"sample.sampleKitGuid\",\"NPX_bridged\",\"Assay\",'batch')])"
   ]
  },
  {
   "cell_type": "code",
   "execution_count": 38,
   "id": "ae2f8688-02ca-4bad-a77e-09091f0d0579",
   "metadata": {
    "tags": []
   },
   "outputs": [],
   "source": [
    "write.csv(Olink,'Olink_BRI.csv')"
   ]
  },
  {
   "cell_type": "code",
   "execution_count": null,
   "id": "6e52e571-2333-417e-960c-4af56f9666b8",
   "metadata": {},
   "outputs": [],
   "source": []
  },
  {
   "cell_type": "code",
   "execution_count": null,
   "id": "f1f46500-fac6-49e4-98b3-d41eb2e5ad5f",
   "metadata": {},
   "outputs": [],
   "source": []
  },
  {
   "cell_type": "code",
   "execution_count": null,
   "id": "8ba14a78-08c3-44e4-bb21-e0b8f372abe2",
   "metadata": {},
   "outputs": [],
   "source": []
  },
  {
   "cell_type": "code",
   "execution_count": null,
   "id": "36c34bfd-6420-447d-bef6-02d92c9ddf52",
   "metadata": {},
   "outputs": [],
   "source": []
  },
  {
   "cell_type": "code",
   "execution_count": null,
   "id": "3fecdb57-fc43-44a8-8ef3-dc70ed15aef3",
   "metadata": {},
   "outputs": [],
   "source": []
  },
  {
   "cell_type": "code",
   "execution_count": null,
   "id": "96ee674b-f839-4d4c-9d0d-3cc7bc035b16",
   "metadata": {},
   "outputs": [],
   "source": []
  },
  {
   "cell_type": "code",
   "execution_count": null,
   "id": "bb64be7c-cec9-49ad-9c83-1d1b127a8841",
   "metadata": {},
   "outputs": [],
   "source": []
  },
  {
   "cell_type": "code",
   "execution_count": null,
   "id": "eefd5c8d-ef89-4c2c-8793-87b0ff477e6d",
   "metadata": {},
   "outputs": [],
   "source": []
  }
 ],
 "metadata": {
  "kernelspec": {
   "display_name": "R_BRI_Figures",
   "language": "R",
   "name": "r_bri_figures"
  },
  "language_info": {
   "codemirror_mode": "r",
   "file_extension": ".r",
   "mimetype": "text/x-r-source",
   "name": "R",
   "pygments_lexer": "r",
   "version": "4.3.2"
  }
 },
 "nbformat": 4,
 "nbformat_minor": 5
}
