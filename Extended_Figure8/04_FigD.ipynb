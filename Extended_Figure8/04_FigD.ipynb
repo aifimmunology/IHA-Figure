{
 "cells": [
  {
   "cell_type": "code",
   "execution_count": 1,
   "id": "fce88a02-1f01-4189-8a27-ffa945f4a361",
   "metadata": {},
   "outputs": [
    {
     "name": "stderr",
     "output_type": "stream",
     "text": [
      "Warning message:\n",
      "“package ‘dplyr’ was built under R version 4.3.3”\n",
      "Warning message:\n",
      "“package ‘tidyr’ was built under R version 4.3.3”\n",
      "Warning message:\n",
      "“package ‘tibble’ was built under R version 4.3.3”\n",
      "Warning message:\n",
      "“package ‘stringr’ was built under R version 4.3.3”\n",
      "Warning message:\n",
      "“package ‘rstatix’ was built under R version 4.3.3”\n",
      "\n",
      "Attaching package: ‘rstatix’\n",
      "\n",
      "\n",
      "The following object is masked from ‘package:stats’:\n",
      "\n",
      "    filter\n",
      "\n",
      "\n"
     ]
    }
   ],
   "source": [
    "suppressPackageStartupMessages(library(dplyr))\n",
    "suppressPackageStartupMessages(library(tidyr))\n",
    "suppressPackageStartupMessages(library(tibble))\n",
    "suppressPackageStartupMessages(library(ggplot2))\n",
    "suppressPackageStartupMessages(library(stringr))\n",
    "library(rstatix)\n",
    "library(ggh4x)\n",
    "is_dark_color <- function(hex) {\n",
    "  rgb <- col2rgb(hex)\n",
    "  \n",
    "  luminance <- 0.299 * rgb[1,] + 0.587 * rgb[2,] + 0.114 * rgb[3,]\n",
    "  if(luminance < 128){\n",
    "  return('white')\n",
    "  }else{return('black')}\n",
    "}\n",
    "   "
   ]
  },
  {
   "cell_type": "code",
   "execution_count": 2,
   "id": "757048eb-faf9-4c00-b814-dfa6965bb13f",
   "metadata": {},
   "outputs": [],
   "source": [
    "\n",
    "color_annotation <- read.csv('../Color_hex_codes/Cell_Type_Color_Annotation_and_Order.csv')\n",
    "color_vector <- setNames(color_annotation$color, color_annotation$label)"
   ]
  },
  {
   "cell_type": "markdown",
   "id": "a14b37fa-1c57-4960-9b80-29620f434ed1",
   "metadata": {},
   "source": [
    "# Read CXCR5 expression for Confirmation Cohorts(SF4)"
   ]
  },
  {
   "cell_type": "code",
   "execution_count": 3,
   "id": "630bd490-8997-4c64-b58f-90f13d49be92",
   "metadata": {},
   "outputs": [],
   "source": [
    "df<-read.csv('03_Extract_Mean_Expression//CXCR5_CM_CD4T_SF4.csv')\n",
    "df$celltype <- gsub(\"cell\", \"\", df$celltype)"
   ]
  },
  {
   "cell_type": "markdown",
   "id": "551dd8a1-c1a9-4c57-a59a-9ff1e988f210",
   "metadata": {},
   "source": [
    "# Plotting"
   ]
  },
  {
   "cell_type": "code",
   "execution_count": 4,
   "id": "1b5f3168-c55a-4456-a86e-09625e5c2211",
   "metadata": {},
   "outputs": [
    {
     "name": "stderr",
     "output_type": "stream",
     "text": [
      "Warning message:\n",
      "“\u001b[1m\u001b[22mThere was 1 warning in `dplyr::summarise()`.\n",
      "\u001b[1m\u001b[22m\u001b[36mℹ\u001b[39m In argument: `p_value = cor.test(Ages, Mean_Expression, method =\n",
      "  \"spearman\")$p.value`.\n",
      "Caused by warning in `cor.test.default()`:\n",
      "\u001b[33m!\u001b[39m Cannot compute exact p-value with ties”\n"
     ]
    }
   ],
   "source": [
    "options(repr.plot.width = 50/25.4, repr.plot.height = 45/25.4)\n",
    "correlation_tests <- df %>% #filter(Variable=='Core_Memory_B_TNFA_SIGNALING_VIA_NFKB_Pathway') %>%\n",
    "  dplyr::summarise(\n",
    "    correlation = cor(Ages, Mean_Expression, method = 'spearman'),\n",
    "    p_value = cor.test(Ages, Mean_Expression, method = 'spearman')$p.value\n",
    "  )\n"
   ]
  },
  {
   "cell_type": "code",
   "execution_count": 8,
   "id": "acb75cd3-9186-43db-acb9-d5ee7e7dcf5a",
   "metadata": {},
   "outputs": [],
   "source": [
    "write.csv(df%>% select(pbmc_sample_id,celltype,Gene,\n",
    "                       Mean_Expression,Ages),\n",
    "          \"/home//workspace/Source_Data/Extended_Fig8d.csv\",\n",
    "          row.names=FALSE)"
   ]
  },
  {
   "cell_type": "code",
   "execution_count": 5,
   "id": "81410f20-616d-4fab-a9ac-14d48cbf53c9",
   "metadata": {},
   "outputs": [
    {
     "name": "stderr",
     "output_type": "stream",
     "text": [
      "\u001b[1m\u001b[22m`geom_smooth()` using method = 'loess' and formula = 'y ~ x'\n"
     ]
    },
    {
     "data": {
      "image/png": "[encoded data removed]",
      "text/plain": [
       "plot without title"
      ]
     },
     "metadata": {
      "image/png": {
       "height": 106.2992,
       "width": 118.1102
      }
     },
     "output_type": "display_data"
    }
   ],
   "source": [
    "p <- ggplot(df, \n",
    "            aes(Ages, Mean_Expression)) +\n",
    "    geom_point(size = 0.8, stroke = 0) +\n",
    "    geom_smooth(se=TRUE, linewidth=0.5, color='blue') +\n",
    "    theme_classic(base_size = 6)  +\n",
    "    xlab('Ages') + \n",
    "    ylab('CXCR5 Expression')+theme(strip.background = element_rect(linewidth = 0))+\n",
    "  geom_text(\n",
    "    data = correlation_tests,\n",
    "    aes(\n",
    "      x = Inf, y = Inf,\n",
    "      label = paste(\"r =\", round(correlation, 2), \"\\np =\", format.pval(p_value, digits = 3, eps = 0.0000000000000001)),\n",
    "      hjust = 1.1, vjust = 1.1\n",
    "    ),\n",
    "    inherit.aes = FALSE,\n",
    "    size = 2,\n",
    "    color = \"blue\"\n",
    "  )+\n",
    "facet_wrap2(~celltype, axes = \"all\", remove_labels = \"all\", ncol=1, scale='free_y') \n",
    "\n",
    "g <- ggplot_gtable(ggplot_build(p))\n",
    "\n",
    "strips <- which(grepl('strip-', g$layout$name))\n",
    "\n",
    "pal <- color_vector['CM CD4 T cell']\n",
    "text_color <- sapply(color_vector['CM CD4 T cell'], is_dark_color)\n",
    "\n",
    "for (i in seq_along(strips)) {\n",
    "  k <- which(grepl('rect', g$grobs[[strips[i]]]$grobs[[1]]$childrenOrder))\n",
    "  l <- which(grepl('titleGrob', g$grobs[[strips[i]]]$grobs[[1]]$childrenOrder))\n",
    "  g$grobs[[strips[i]]]$grobs[[1]]$children[[k]]$gp$fill <-  adjustcolor(pal[i], alpha.f = 0.8)\n",
    "  g$grobs[[strips[i]]]$grobs[[1]]$children[[l]]$children[[1]]$gp$col <- text_color[i]\n",
    "}\n",
    "\n",
    "plot(g)\n",
    "ggsave('FigureD.pdf',g,width = 45/25.4,height = 45/25.4)"
   ]
  },
  {
   "cell_type": "code",
   "execution_count": null,
   "id": "a7d8dee4-0828-4234-8e2f-7886c74b9e31",
   "metadata": {},
   "outputs": [],
   "source": []
  }
 ],
 "metadata": {
  "kernelspec": {
   "display_name": "R_BRI_Figures",
   "language": "R",
   "name": "r_bri_figures"
  },
  "language_info": {
   "codemirror_mode": "r",
   "file_extension": ".r",
   "mimetype": "text/x-r-source",
   "name": "R",
   "pygments_lexer": "r",
   "version": "4.3.2"
  }
 },
 "nbformat": 4,
 "nbformat_minor": 5
}
