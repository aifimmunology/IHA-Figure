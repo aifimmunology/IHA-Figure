{
 "cells": [
  {
   "cell_type": "code",
   "execution_count": 1,
   "id": "b8b94d1b-6ae9-481e-9a19-339182cd0d4a",
   "metadata": {},
   "outputs": [
    {
     "name": "stderr",
     "output_type": "stream",
     "text": [
      "Warning message:\n",
      "“package ‘dplyr’ was built under R version 4.3.3”\n",
      "Warning message:\n",
      "“package ‘tidyr’ was built under R version 4.3.3”\n",
      "Warning message:\n",
      "“package ‘tibble’ was built under R version 4.3.3”\n",
      "Warning message:\n",
      "“package ‘patchwork’ was built under R version 4.3.3”\n",
      "Warning message:\n",
      "“package ‘stringr’ was built under R version 4.3.3”\n",
      "Warning message:\n",
      "“package ‘plyr’ was built under R version 4.3.3”\n",
      "------------------------------------------------------------------------------\n",
      "\n",
      "You have loaded plyr after dplyr - this is likely to cause problems.\n",
      "If you need functions from both plyr and dplyr, please load plyr first, then dplyr:\n",
      "library(plyr); library(dplyr)\n",
      "\n",
      "------------------------------------------------------------------------------\n",
      "\n",
      "\n",
      "Attaching package: ‘plyr’\n",
      "\n",
      "\n",
      "The following objects are masked from ‘package:dplyr’:\n",
      "\n",
      "    arrange, count, desc, failwith, id, mutate, rename, summarise,\n",
      "    summarize\n",
      "\n",
      "\n",
      "Warning message:\n",
      "“package ‘purrr’ was built under R version 4.3.3”\n",
      "\n",
      "Attaching package: ‘purrr’\n",
      "\n",
      "\n",
      "The following object is masked from ‘package:plyr’:\n",
      "\n",
      "    compact\n",
      "\n",
      "\n",
      "Warning message:\n",
      "“package ‘rstatix’ was built under R version 4.3.3”\n",
      "\n",
      "Attaching package: ‘rstatix’\n",
      "\n",
      "\n",
      "The following objects are masked from ‘package:plyr’:\n",
      "\n",
      "    desc, mutate\n",
      "\n",
      "\n",
      "The following object is masked from ‘package:stats’:\n",
      "\n",
      "    filter\n",
      "\n",
      "\n",
      "Loading required package: ggplot2\n",
      "\n",
      "\n",
      "Attaching package: ‘ggpubr’\n",
      "\n",
      "\n",
      "The following object is masked from ‘package:plyr’:\n",
      "\n",
      "    mutate\n",
      "\n",
      "\n",
      "Warning message:\n",
      "“package ‘ggsci’ was built under R version 4.3.3”\n"
     ]
    }
   ],
   "source": [
    "suppressPackageStartupMessages(library(dplyr))\n",
    "suppressPackageStartupMessages(library(tidyr))\n",
    "suppressPackageStartupMessages(library(tibble))\n",
    "suppressPackageStartupMessages(library(patchwork))\n",
    "suppressPackageStartupMessages(library(stringr))\n",
    "library(plyr)\n",
    "library(purrr)\n",
    "library(rstatix)\n",
    "library(ggpubr)\n",
    "library(ggsci)\n",
    "library(ggrepel)\n",
    "source('../helper_function/helper_function_IHA.r')"
   ]
  },
  {
   "cell_type": "code",
   "execution_count": 2,
   "id": "3c7868fb-52d7-4d76-bdd5-1b36dc79bf98",
   "metadata": {},
   "outputs": [],
   "source": [
    "freq=read.csv('01_Flow_Tfh/freq_T.csv')"
   ]
  },
  {
   "cell_type": "code",
   "execution_count": 3,
   "id": "91b01b86-60f5-47f7-842f-58ba6054ab3a",
   "metadata": {},
   "outputs": [],
   "source": [
    "last_chars <- sapply(freq$sample.visitName, function(string) {\n",
    "  substr(string, nchar(string), nchar(string))\n",
    "})\n",
    "freq$visit<-paste0(\"Y\",freq$Flu_Year,'-D',last_chars)\n",
    "freq<-freq %>% group_by(sample.sampleKitGuid) %>%     \n",
    "  dplyr::mutate(frequency_clr = clr_transform((frequency))) %>%\n",
    "  dplyr::ungroup()"
   ]
  },
  {
   "cell_type": "code",
   "execution_count": 4,
   "id": "29df4dbb-554f-4420-8ea2-422c86954b94",
   "metadata": {},
   "outputs": [],
   "source": [
    "Year='2020'"
   ]
  },
  {
   "cell_type": "code",
   "execution_count": 5,
   "id": "6795b08d-bae5-41bb-8941-04de44d4b204",
   "metadata": {},
   "outputs": [],
   "source": [
    "freq_2020_Tfh<-freq %>% filter(Flu_Year==Year) %>% filter(labels %in% c(\"CXCR5+ PD1+ CD38+ ICOS+ Tfh\"))\n"
   ]
  },
  {
   "cell_type": "code",
   "execution_count": 6,
   "id": "d3380ce5-aa8d-4a38-92f2-2a32976d39bd",
   "metadata": {},
   "outputs": [],
   "source": [
    "freq_2020_Tfh$Group<-paste0(freq_2020_Tfh$cohort.cohortGuid,'_',freq_2020_Tfh$visit)"
   ]
  },
  {
   "cell_type": "code",
   "execution_count": 7,
   "id": "43e2fb8c-3c15-4448-9123-18f1b329dbd7",
   "metadata": {},
   "outputs": [],
   "source": [
    "freq_2020_Tfh <- freq_2020_Tfh %>% dplyr::mutate(`Age Group` = case_when(\n",
    "  cohort.cohortGuid == \"BR1\" ~ \"Young\",\n",
    "  cohort.cohortGuid == \"BR2\" ~ \"Older\",\n",
    "  TRUE ~ NA_character_\n",
    "))\n",
    "freq_2020_Tfh$`Age Group`<-factor(freq_2020_Tfh$`Age Group`,levels=c(\"Young\",\"Older\"))"
   ]
  },
  {
   "cell_type": "code",
   "execution_count": 8,
   "id": "e2857800-5b3e-45a9-8cb3-aa5f4939e4b9",
   "metadata": {},
   "outputs": [],
   "source": [
    "freq_2020_Tfh$Group<-paste0(freq_2020_Tfh$`Age Group`,'_',freq_2020_Tfh$visit)"
   ]
  },
  {
   "cell_type": "code",
   "execution_count": 9,
   "id": "35e90d1b-7681-4cf0-93e5-4275915adf55",
   "metadata": {},
   "outputs": [],
   "source": [
    "freq_2020_Tfh$Group<-factor(freq_2020_Tfh$Group,levels=c('Young_Y2020-D0','Young_Y2020-D7',\n",
    "                                                        'Older_Y2020-D0','Older_Y2020-D7'))"
   ]
  },
  {
   "cell_type": "code",
   "execution_count": 10,
   "id": "f8d3a055-fb16-4d5f-864c-a89699bda7db",
   "metadata": {},
   "outputs": [],
   "source": [
    "\n",
    "write.csv(freq_2020_Tfh  %>% select(subject.subjectGuid,Group,`Age Group`,labels,frequency_clr),\n",
    "          \"/home//workspace/Source_Data/Extended_Fig8a.csv\",row.names=FALSE)"
   ]
  },
  {
   "cell_type": "code",
   "execution_count": 12,
   "id": "672f6ca4-fda5-42d8-a918-e5e155534fc9",
   "metadata": {},
   "outputs": [
    {
     "data": {
      "text/plain": [
       "\n",
       "Young Older \n",
       "   44    45 "
      ]
     },
     "metadata": {},
     "output_type": "display_data"
    }
   ],
   "source": [
    "table(freq_2020_Tfh$`Age Group`)/2"
   ]
  },
  {
   "cell_type": "code",
   "execution_count": 14,
   "id": "d6ed6ef5-fae9-4b93-84d8-076ceec0a036",
   "metadata": {},
   "outputs": [
    {
     "data": {
      "image/png": "[encoded data removed]",
      "text/plain": [
       "plot without title"
      ]
     },
     "metadata": {
      "image/png": {
       "height": 122.8346,
       "width": 118.1102
      }
     },
     "output_type": "display_data"
    }
   ],
   "source": [
    "options(repr.plot.width = 50/25.4, repr.plot.height = 52/25.4)\n",
    "\n",
    "p<-ggplot(freq_2020_Tfh %>% arrange(subject.subjectGuid), aes(x=Group, y=frequency_clr, fill=`Age Group`)) +\n",
    "   geom_boxplot(outlier.shape = NA,lwd=0.3) +\n",
    "geom_point(position = position_jitter(width = 0.2),color=\"black\", size=0.8,stroke=0) +\n",
    "theme_classic(base_size=6)+  \n",
    "stat_compare_means( label = \"p.format\",method='wilcox.test',paired=TRUE,size=2.5,\n",
    "  comparisons = list(c(\"Older_Y2020-D0\", \"Older_Y2020-D7\")))+  \n",
    "stat_compare_means( label = \"p.format\",method='wilcox.test',paired=TRUE,size=2.5,\n",
    "  comparisons = list(c(\"Young_Y2020-D0\", \"Young_Y2020-D7\")))+  \n",
    "stat_compare_means(aes(label = paste0(\"p = \", after_stat(p.format))),\n",
    "                   method='wilcox.test',size=2.5,\n",
    "                   paired=FALSE,label.y=-0.25,\n",
    "  comparisons = list(c(\"Older_Y2020-D0\", \"Young_Y2020-D0\")))+  \n",
    "stat_compare_means(aes(label = paste0(\"p = \", after_stat(p.format))),\n",
    "                   method='wilcox.test',\n",
    "                   paired=FALSE,label.y=0.5,size=2.5,\n",
    "  comparisons = list(c(\"Older_Y2020-D7\", \"Young_Y2020-D7\")))+\n",
    "    scale_fill_manual(values = c(\"Older\" = '#bf812d', \"Young\" = '#35978f'))+\n",
    "    scale_y_continuous(limits = c(NA, NA),\n",
    "                       expand = expansion(mult = c(0.1, 0.15)))+\n",
    "theme(legend.position=\"none\")+\n",
    "xlab('')+\n",
    "ylab('Frequency-CLR')+\n",
    "facet_wrap(~labels,  scale='free_y') +theme(\n",
    "panel.border = element_blank())   + \n",
    "scale_x_discrete(labels = c(\"Older_Y2020-D0\" = \"Older\\nDay 0\", \n",
    "                              \"Older_Y2020-D7\" = \"Older\\nDay 7\",\n",
    "                              \"Young_Y2020-D0\" = \"Young\\nDay 0\",\n",
    "                              \"Young_Y2020-D7\" = \"Young\\nDay 7\")) \n",
    "p\n",
    "ggsave('FigureA.pdf',p,width = 50/25.4,height = 54/25.4)"
   ]
  },
  {
   "cell_type": "code",
   "execution_count": null,
   "id": "0473bfe7-bf96-44e6-adde-dd1ef388e5db",
   "metadata": {},
   "outputs": [],
   "source": []
  }
 ],
 "metadata": {
  "kernelspec": {
   "display_name": "R_BRI_Figures",
   "language": "R",
   "name": "r_bri_figures"
  },
  "language_info": {
   "codemirror_mode": "r",
   "file_extension": ".r",
   "mimetype": "text/x-r-source",
   "name": "R",
   "pygments_lexer": "r",
   "version": "4.3.2"
  }
 },
 "nbformat": 4,
 "nbformat_minor": 5
}
