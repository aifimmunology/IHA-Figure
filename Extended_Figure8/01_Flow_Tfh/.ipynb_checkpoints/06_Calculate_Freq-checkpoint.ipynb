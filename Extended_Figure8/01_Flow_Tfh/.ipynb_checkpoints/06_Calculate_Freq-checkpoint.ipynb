{
 "cells": [
  {
   "cell_type": "code",
   "execution_count": 1,
   "id": "dc9f5a78-1d4b-49d7-9b8b-eacf1493fa5d",
   "metadata": {
    "tags": []
   },
   "outputs": [
    {
     "name": "stderr",
     "output_type": "stream",
     "text": [
      "Seed set to 0\n"
     ]
    }
   ],
   "source": [
    "import pandas as pd\n",
    "import numpy as np\n",
    "import re\n",
    "import scanpy as sc\n",
    "import anndata\n",
    "from concurrent.futures import ProcessPoolExecutor,ThreadPoolExecutor, as_completed\n",
    "from tqdm import tqdm\n",
    "import copy\n",
    "import matplotlib.pyplot as plt\n",
    "sc.settings.n_jobs = 60\n",
    "import scyan\n",
    "import os"
   ]
  },
  {
   "cell_type": "code",
   "execution_count": 2,
   "id": "dcae3eb9-5752-438b-a336-6bc1e863e0e7",
   "metadata": {},
   "outputs": [],
   "source": [
    "def read_one(file_path):\n",
    "    adata = scyan.read_csv(file_path,\n",
    "                        marker_regex='^cd|^hla|tcr|ig|^ccr|klrg|^cx', \n",
    "                        exclude_markers=None)\n",
    "    adata.obs[\"batch\"] = re.findall( 'B\\\\d\\\\d\\\\d', file_path)[0]\n",
    "    adata.obs[\"panel\"] = re.findall( 'PB1|PT1|PM1|PS1', file_path)[0]\n",
    "\n",
    "    return adata"
   ]
  },
  {
   "cell_type": "markdown",
   "id": "12d9186f-4f24-4eed-87dd-6873d8714da4",
   "metadata": {},
   "source": [
    "# Assemble All "
   ]
  },
  {
   "cell_type": "code",
   "execution_count": 3,
   "id": "3fe96f27-f703-45f6-ad9e-b183a2cbd06b",
   "metadata": {
    "tags": []
   },
   "outputs": [],
   "source": [
    "meta_data=pd.read_csv('/home/jupyter/BRI_Figures/Dataset/FlowCyto_BRI_uuid.csv')"
   ]
  },
  {
   "cell_type": "code",
   "execution_count": 4,
   "id": "cd7f5975-fb5f-423d-a10e-cbc43c4615e8",
   "metadata": {},
   "outputs": [],
   "source": [
    "meta_data['pbmc_sample_id'] = meta_data['file.name'].apply(lambda x: re.search(r'PB([^_]+)', x).group(1) if re.search(r'PB([^_]+)', x) else None)\n",
    "meta_data['pbmc_sample_id']=[\"PB\" +x for x in meta_data['pbmc_sample_id']]\n",
    "meta_data = meta_data.drop_duplicates(subset=['sample.sampleKitGuid'], keep='first').sort_values(by='sample.sampleKitGuid').reset_index(drop=True)"
   ]
  },
  {
   "cell_type": "code",
   "execution_count": 5,
   "id": "70d07835-5a0b-47e7-b2ee-e2184a81484c",
   "metadata": {
    "tags": []
   },
   "outputs": [],
   "source": [
    "meta_data_selected_RNA=pd.read_csv('/home/jupyter/BRI_Figures/Dataset/scRNA_meta_data-2024-05-09.csv')"
   ]
  },
  {
   "cell_type": "code",
   "execution_count": 6,
   "id": "b4c0932b-4e50-4734-9691-3588fbc80e74",
   "metadata": {},
   "outputs": [],
   "source": [
    "conditions = [\n",
    "    (meta_data_selected_RNA['sample.drawDate'] <= '2020-07-01'),\n",
    "    (meta_data_selected_RNA['sample.drawDate'] > '2020-07-01') & (meta_data_selected_RNA['sample.drawDate'] <= '2021-07-01'),\n",
    "    (meta_data_selected_RNA['sample.drawDate'] > '2021-07-01') & (meta_data_selected_RNA['sample.drawDate'] <= '2022-07-01'),\n",
    "    (meta_data_selected_RNA['sample.drawDate'] > '2022-07-01') & (meta_data_selected_RNA['sample.drawDate'] <= '2023-07-01')\n",
    "]\n",
    "\n",
    "choices = ['2019', '2020', '2021', '2022']\n",
    "\n",
    "meta_data_selected_RNA['Flu_Year'] = np.select(conditions, choices, default=np.nan)"
   ]
  },
  {
   "cell_type": "code",
   "execution_count": 7,
   "id": "93936e09-933b-4d91-8fae-6165ab177b74",
   "metadata": {},
   "outputs": [],
   "source": [
    "meta_data_selected_RNA=meta_data_selected_RNA.query(\"Flu_Year.isin(['2020','2021']) &`sample.visitName`.isin(['Flu Year 1 Day 0','Flu Year 1 Day 7','Flu Year 2 Day 0','Flu Year 2 Day 7'])\")"
   ]
  },
  {
   "cell_type": "code",
   "execution_count": 8,
   "id": "6b4db715-6ce1-4b85-bc86-e07e3e14836e",
   "metadata": {},
   "outputs": [],
   "source": [
    "meta_data_selected_RNA = pd.merge(meta_data_selected_RNA, meta_data, how='left', left_on=['sample.visitName', 'subject.subjectGuid'], right_on=['sample.visitName', 'subject.subjectGuid'])"
   ]
  },
  {
   "cell_type": "code",
   "execution_count": 9,
   "id": "710dc9d9-52c4-4bea-9b51-cc1ef92507f9",
   "metadata": {},
   "outputs": [],
   "source": [
    "meta_data=meta_data[meta_data['pbmc_sample_id'].isin(meta_data_selected_RNA['pbmc_sample_id_y'])]"
   ]
  },
  {
   "cell_type": "code",
   "execution_count": 10,
   "id": "1d334944-d3b8-434f-8751-b97b480a4f4c",
   "metadata": {
    "tags": []
   },
   "outputs": [],
   "source": [
    "#no day 7 sample on this years sample for this donor\n",
    "meta_data=meta_data.query(\"~(`subject.subjectGuid`=='BR1026' & `sample.visitName`=='Flu Year 1 Day 0')\")"
   ]
  },
  {
   "cell_type": "markdown",
   "id": "cf3d8f26-6f29-4680-8edb-8736b097acc2",
   "metadata": {
    "tags": []
   },
   "source": [
    "# Read Data"
   ]
  },
  {
   "cell_type": "code",
   "execution_count": 11,
   "id": "8411d86c-d6a2-45b6-bb5d-0c948732715d",
   "metadata": {
    "tags": []
   },
   "outputs": [
    {
     "name": "stderr",
     "output_type": "stream",
     "text": [
      "100% 314/314 [04:00<00:00,  1.31it/s]"
     ]
    },
    {
     "name": "stdout",
     "output_type": "stream",
     "text": [
      "CPU times: user 15min 47s, sys: 1min 47s, total: 17min 35s\n",
      "Wall time: 4min\n"
     ]
    },
    {
     "name": "stderr",
     "output_type": "stream",
     "text": [
      "\n"
     ]
    }
   ],
   "source": [
    "%%time\n",
    "file_names= [\"/home/jupyter/BRI_Figures/Dataset/FlowCyto/\"+ os.path.basename(x) for x in meta_data.reset_index()[\"file.name\"]]\n",
    "adata_list = []\n",
    "with ThreadPoolExecutor(max_workers=60) as executor:\n",
    "    future_to_file = {executor.submit(read_one, file_name): file_name for file_name in file_names}\n",
    "    for future in tqdm(as_completed(future_to_file), total=len(file_names)):\n",
    "        result = future.result()\n",
    "        if result is not None:\n",
    "            adata_list.append(result)"
   ]
  },
  {
   "cell_type": "code",
   "execution_count": 12,
   "id": "9b32aac0-ddb0-4c85-ac39-807bd06f2b9d",
   "metadata": {
    "tags": []
   },
   "outputs": [
    {
     "name": "stderr",
     "output_type": "stream",
     "text": [
      "/opt/conda/lib/python3.10/site-packages/anndata/_core/anndata.py:1828: UserWarning: Observation names are not unique. To make them unique, call `.obs_names_make_unique`.\n",
      "  utils.warn_names_duplicates(\"obs\")\n"
     ]
    }
   ],
   "source": [
    "adata = anndata.concat(adata_list)\n",
    "adata.obs.index=adata.obs[\"barcode\"].tolist()"
   ]
  },
  {
   "cell_type": "code",
   "execution_count": 13,
   "id": "297a9954-3f76-476a-8b58-a6f81fb0f011",
   "metadata": {
    "scrolled": true
   },
   "outputs": [
    {
     "data": {
      "text/plain": [
       "labels\n",
       "naive_cd4_t_cells    14564020\n",
       "myeloid_cells        10790869\n",
       "Unknown               9741378\n",
       "em_cd4_t_cells        9099846\n",
       "cm_cd4_t_cells        8997829\n",
       "cd56mid_nk_cells      8296546\n",
       "b_cells               6473858\n",
       "em_cd8_t_cells        5662379\n",
       "naive_cd8_t_cells     5650478\n",
       "temra_cd8_t_cells     4220975\n",
       "gd_t_cells            2400148\n",
       "memory_treg           1979230\n",
       "debris                1264353\n",
       "naive_treg             985046\n",
       "cm_cd8_t_cells         872910\n",
       "cd56hi_nk_cells        751737\n",
       "dn_t_cells             747772\n",
       "temra_cd4_t_cells      565121\n",
       "dp_t_cells             429865\n",
       "cd103_cd8_t_cells      410426\n",
       "cd103_cd4_t_cells      174497\n",
       "ilc_like_cells          66160\n",
       "Name: count, dtype: int64"
      ]
     },
     "execution_count": 13,
     "metadata": {},
     "output_type": "execute_result"
    }
   ],
   "source": [
    "adata.obs['labels'].value_counts()"
   ]
  },
  {
   "cell_type": "code",
   "execution_count": null,
   "id": "2e1c6f7e-7a49-47f3-bf92-20b8d0810800",
   "metadata": {},
   "outputs": [],
   "source": []
  },
  {
   "cell_type": "markdown",
   "id": "b54f96ca-20f9-4949-b79d-691b652e37fe",
   "metadata": {},
   "source": [
    "# Read h5 of CM CD4 T "
   ]
  },
  {
   "cell_type": "code",
   "execution_count": 14,
   "id": "38a4f8b8-ed17-4c52-b579-5e132ae24693",
   "metadata": {
    "tags": []
   },
   "outputs": [],
   "source": [
    "adata_CM_CD4=sc.read_h5ad('adata_cm_cd4_leiden_var15_umap.h5ad')\n",
    "adata_pdcd1_cxcr5_tfh=sc.read_h5ad('adata_pdcd1_cxcr5_tfh.h5ad')"
   ]
  },
  {
   "cell_type": "code",
   "execution_count": 15,
   "id": "699cb4e5-39e4-4e99-a437-397a559d9380",
   "metadata": {},
   "outputs": [],
   "source": [
    "adata.obs['labels']=adata.obs['labels'].astype(str)\n"
   ]
  },
  {
   "cell_type": "code",
   "execution_count": 16,
   "id": "34ea8bbc-29c4-4fb5-b1ce-a17030974fc1",
   "metadata": {
    "tags": []
   },
   "outputs": [],
   "source": [
    "adata.obs.loc[adata.obs['barcode'].isin(adata_CM_CD4.obs[adata_CM_CD4.obs['leiden_res_1.5']=='0']['barcode']), 'labels'] = 'CXCR5+ PD1- Tfh'\n",
    "adata.obs.loc[adata.obs['barcode'].isin(adata_CM_CD4.obs[adata_CM_CD4.obs['leiden_res_1.5']=='11']['barcode']), 'labels'] = 'CXCR5+ PD1+ Tfh'\n",
    "adata.obs.loc[adata.obs['barcode'].isin(adata_pdcd1_cxcr5_tfh.obs[adata_pdcd1_cxcr5_tfh.obs['leiden_res_1_subset']=='3']['barcode']), 'labels'] = 'CXCR5+ PD1+ CD38+ ICOS+ Tfh'"
   ]
  },
  {
   "cell_type": "code",
   "execution_count": 17,
   "id": "5197fe6c-4108-4598-9e1b-9b8e026cab70",
   "metadata": {
    "tags": []
   },
   "outputs": [],
   "source": [
    "counts=adata.obs[['labels','sample_id']].value_counts().unstack()"
   ]
  },
  {
   "cell_type": "code",
   "execution_count": 18,
   "id": "e01146db-41a9-4b64-8557-f1bac0bc1cef",
   "metadata": {
    "tags": []
   },
   "outputs": [],
   "source": [
    "counts.to_csv('Counts.csv')"
   ]
  },
  {
   "cell_type": "markdown",
   "id": "fdbd3ed8-f808-4ff5-aa20-cda6d82fd322",
   "metadata": {},
   "source": [
    "# Calculate Frequency"
   ]
  },
  {
   "cell_type": "code",
   "execution_count": 19,
   "id": "6e29c819-6f79-4471-83b0-f53a78dbb00a",
   "metadata": {
    "tags": []
   },
   "outputs": [],
   "source": [
    "counts=pd.read_csv('Counts.csv')"
   ]
  },
  {
   "cell_type": "code",
   "execution_count": 20,
   "id": "c667049a-2840-4663-8fce-6b1f592f1c4b",
   "metadata": {
    "tags": []
   },
   "outputs": [],
   "source": [
    "T_cells=['CXCR5+ PD1+ Tfh',\n",
    " 'CXCR5+ PD1- Tfh','CXCR5+ PD1+ CD38+ ICOS+ Tfh',\n",
    " 'cd103_cd4_t_cells',\n",
    " 'cd103_cd8_t_cells',\n",
    " 'cm_cd4_t_cells',\n",
    " 'cm_cd8_t_cells',\n",
    " 'dn_t_cells',\n",
    " 'dp_t_cells',\n",
    " 'em_cd4_t_cells',\n",
    " 'em_cd8_t_cells',\n",
    " 'gd_t_cells',\n",
    " 'memory_treg',\n",
    " 'naive_cd4_t_cells',\n",
    " 'naive_cd8_t_cells',\n",
    " 'naive_treg',\n",
    " 'temra_cd4_t_cells']\n",
    "CD4_T_cells=['CXCR5+ PD1+ Tfh','CXCR5+ PD1+ CD38+ ICOS+ Tfh',\n",
    " 'CXCR5+ PD1- Tfh',\n",
    " 'cd103_cd4_t_cells',\n",
    " 'cm_cd4_t_cells',\n",
    " 'em_cd4_t_cells',\n",
    " 'memory_treg',\n",
    " 'naive_cd4_t_cells',\n",
    " 'naive_treg',\n",
    " 'temra_cd4_t_cells']"
   ]
  },
  {
   "cell_type": "code",
   "execution_count": 21,
   "id": "5ccf4d68-9d5d-4935-8464-12e0d6bfb1bd",
   "metadata": {},
   "outputs": [],
   "source": [
    "counts_T=counts[counts['labels'].isin(T_cells)]\n"
   ]
  },
  {
   "cell_type": "markdown",
   "id": "4817a8da-15cc-4065-99d4-f6d7a5d864be",
   "metadata": {},
   "source": [
    "### Freq in total T"
   ]
  },
  {
   "cell_type": "code",
   "execution_count": 22,
   "id": "bda7f698-4ec1-46d7-8158-2b7bde5775a9",
   "metadata": {
    "tags": []
   },
   "outputs": [],
   "source": [
    "counts_T=counts[counts['labels'].isin(T_cells)]\n",
    "counts_T.index=counts_T['labels']\n",
    "counts_T=counts_T.iloc[:,1:315]\n",
    "frequency_matrix_T = counts_T.div(counts_T.sum(axis=0), axis=1)"
   ]
  },
  {
   "cell_type": "code",
   "execution_count": 23,
   "id": "61383ce9-4b44-4860-bd93-af29f3e5ecca",
   "metadata": {
    "tags": []
   },
   "outputs": [],
   "source": [
    "frequency_matrix_reset = frequency_matrix_T.reset_index()\n",
    "frequency_matrix_long = frequency_matrix_reset.melt(id_vars='labels', var_name='sample_id', value_name='frequency')"
   ]
  },
  {
   "cell_type": "code",
   "execution_count": 24,
   "id": "fced6ae0-e2fc-457f-93c9-ffb5d0ecbd90",
   "metadata": {
    "tags": []
   },
   "outputs": [],
   "source": [
    "frequency_matrix_long['sample.sampleKitGuid']=['KT'+element.split('-')[0].replace(\"PB\", \"\") for element in frequency_matrix_long['sample_id']]\n",
    "metaData=meta_data_selected_RNA[['sample.sampleKitGuid_x','sample.visitName','subject.biologicalSex_x',\n",
    "                        'cohort.cohortGuid_x','CMV' ,'subject.subjectGuid',\n",
    "                        'Flu_Year']]\n",
    "metaData.columns=['sample.sampleKitGuid','sample.visitName','subject.biologicalSex',\n",
    "                        'cohort.cohortGuid','CMV' ,'subject.subjectGuid',\n",
    "                        'Flu_Year']"
   ]
  },
  {
   "cell_type": "code",
   "execution_count": 25,
   "id": "b3ceebc4-bcc3-4ac0-8852-734de9bc7abc",
   "metadata": {
    "tags": []
   },
   "outputs": [],
   "source": [
    "frequency_matrix_long=frequency_matrix_long.merge(metaData, on='sample.sampleKitGuid', how='left')"
   ]
  },
  {
   "cell_type": "code",
   "execution_count": 26,
   "id": "7028a553-9e8f-4e7f-a8ea-2ab9d3ac2c4e",
   "metadata": {
    "tags": []
   },
   "outputs": [],
   "source": [
    "frequency_matrix_long.to_csv('freq_T.csv')"
   ]
  },
  {
   "cell_type": "markdown",
   "id": "9a334705-3005-4a70-9c45-eef28ed93745",
   "metadata": {},
   "source": [
    "### Freq in total CD4 T"
   ]
  },
  {
   "cell_type": "code",
   "execution_count": 27,
   "id": "519c7087-f597-4244-a657-51797d5dd6c0",
   "metadata": {
    "tags": []
   },
   "outputs": [],
   "source": [
    "counts_T=counts[counts['labels'].isin(CD4_T_cells)]\n",
    "counts_T.index=counts_T['labels']\n",
    "counts_T=counts_T.iloc[:,1:315]\n",
    "frequency_matrix_T = counts_T.div(counts_T.sum(axis=0), axis=1)"
   ]
  },
  {
   "cell_type": "code",
   "execution_count": 28,
   "id": "5a5a40b4-5374-4b16-a0d8-418dd827a9b4",
   "metadata": {
    "tags": []
   },
   "outputs": [],
   "source": [
    "frequency_matrix_reset = frequency_matrix_T.reset_index()\n",
    "frequency_matrix_long = frequency_matrix_reset.melt(id_vars='labels', var_name='sample_id', value_name='frequency')"
   ]
  },
  {
   "cell_type": "code",
   "execution_count": 29,
   "id": "dbbd8489-b8f5-455b-8f13-17b0de8dd899",
   "metadata": {
    "tags": []
   },
   "outputs": [],
   "source": [
    "frequency_matrix_long['sample.sampleKitGuid']=['KT'+element.split('-')[0].replace(\"PB\", \"\") for element in frequency_matrix_long['sample_id']]\n"
   ]
  },
  {
   "cell_type": "code",
   "execution_count": 30,
   "id": "f88bfef9-6561-4372-8e80-985c12b3457c",
   "metadata": {},
   "outputs": [],
   "source": [
    "metaData=meta_data_selected_RNA[['sample.sampleKitGuid_x','sample.visitName','subject.biologicalSex_x',\n",
    "                        'cohort.cohortGuid_x','CMV' ,'subject.subjectGuid',\n",
    "                        'Flu_Year']]\n",
    "metaData.columns=['sample.sampleKitGuid','sample.visitName','subject.biologicalSex',\n",
    "                        'cohort.cohortGuid','CMV' ,'subject.subjectGuid',\n",
    "                        'Flu_Year']"
   ]
  },
  {
   "cell_type": "code",
   "execution_count": 31,
   "id": "75b5f7fe-9ef9-4e0f-882a-04d7e8c2a2be",
   "metadata": {
    "tags": []
   },
   "outputs": [],
   "source": [
    "frequency_matrix_long=frequency_matrix_long.merge(metaData, on='sample.sampleKitGuid', how='left')"
   ]
  },
  {
   "cell_type": "code",
   "execution_count": 32,
   "id": "86fa3a6a-f507-4f76-8a0a-7467c1cfed5f",
   "metadata": {
    "tags": []
   },
   "outputs": [],
   "source": [
    "frequency_matrix_long.to_csv('freq_CD4_T.csv')"
   ]
  },
  {
   "cell_type": "code",
   "execution_count": null,
   "id": "df8fe919-f12b-4c7c-923a-40f369e7c635",
   "metadata": {},
   "outputs": [],
   "source": []
  }
 ],
 "metadata": {
  "kernelspec": {
   "display_name": "Python [conda env:root] *",
   "language": "python",
   "name": "conda-root-py"
  },
  "language_info": {
   "codemirror_mode": {
    "name": "ipython",
    "version": 3
   },
   "file_extension": ".py",
   "mimetype": "text/x-python",
   "name": "python",
   "nbconvert_exporter": "python",
   "pygments_lexer": "ipython3",
   "version": "3.10.13"
  }
 },
 "nbformat": 4,
 "nbformat_minor": 5
}
