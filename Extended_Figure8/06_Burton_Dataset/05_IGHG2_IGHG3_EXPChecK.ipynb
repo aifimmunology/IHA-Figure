{
 "cells": [
  {
   "cell_type": "code",
   "execution_count": 1,
   "id": "2f5cbc9d-393d-4829-827d-31ac9c857a8a",
   "metadata": {},
   "outputs": [
    {
     "name": "stderr",
     "output_type": "stream",
     "text": [
      "/home/workspace/Aux_Envir/Python_BRI_Figures/lib/python3.11/site-packages/anndata/utils.py:429: FutureWarning: Importing read_csv from `anndata` is deprecated. Import anndata.io.read_csv instead.\n",
      "  warnings.warn(msg, FutureWarning)\n",
      "/home/workspace/Aux_Envir/Python_BRI_Figures/lib/python3.11/site-packages/anndata/utils.py:429: FutureWarning: Importing read_excel from `anndata` is deprecated. Import anndata.io.read_excel instead.\n",
      "  warnings.warn(msg, FutureWarning)\n",
      "/home/workspace/Aux_Envir/Python_BRI_Figures/lib/python3.11/site-packages/anndata/utils.py:429: FutureWarning: Importing read_hdf from `anndata` is deprecated. Import anndata.io.read_hdf instead.\n",
      "  warnings.warn(msg, FutureWarning)\n",
      "/home/workspace/Aux_Envir/Python_BRI_Figures/lib/python3.11/site-packages/anndata/utils.py:429: FutureWarning: Importing read_loom from `anndata` is deprecated. Import anndata.io.read_loom instead.\n",
      "  warnings.warn(msg, FutureWarning)\n",
      "/home/workspace/Aux_Envir/Python_BRI_Figures/lib/python3.11/site-packages/anndata/utils.py:429: FutureWarning: Importing read_mtx from `anndata` is deprecated. Import anndata.io.read_mtx instead.\n",
      "  warnings.warn(msg, FutureWarning)\n",
      "/home/workspace/Aux_Envir/Python_BRI_Figures/lib/python3.11/site-packages/anndata/utils.py:429: FutureWarning: Importing read_text from `anndata` is deprecated. Import anndata.io.read_text instead.\n",
      "  warnings.warn(msg, FutureWarning)\n",
      "/home/workspace/Aux_Envir/Python_BRI_Figures/lib/python3.11/site-packages/anndata/utils.py:429: FutureWarning: Importing read_umi_tools from `anndata` is deprecated. Import anndata.io.read_umi_tools instead.\n",
      "  warnings.warn(msg, FutureWarning)\n"
     ]
    }
   ],
   "source": [
    "import scanpy as sc\n",
    "import pandas as pd \n",
    "import numpy as np\n",
    "import sys\n",
    "import matplotlib.pyplot as plt\n",
    "import gc\n",
    "import anndata\n",
    "from adjustText import adjust_text\n",
    "import seaborn as sns\n",
    "from scipy.stats import mannwhitneyu\n",
    "import magic\n",
    "\n",
    "def grouped_obs_sum_raw(adata_filt, group_key, layer=None, gene_symbols=None):\n",
    "    if layer is not None:\n",
    "        getX = lambda x: x.layers[layer]\n",
    "    else:\n",
    "        getX = lambda x: x.X\n",
    "    if gene_symbols is not None:\n",
    "        idx = adata_filt.var_names.isin(gene_symbols)\n",
    "        new_idx = adata_filt.var_names[idx]\n",
    "    else:\n",
    "        new_idx = adata_filt.var_names\n",
    "    grouped = adata_filt.obs.groupby(group_key)\n",
    "    out = pd.DataFrame(\n",
    "        np.zeros((len(new_idx), len(grouped)), dtype=np.float64),\n",
    "        columns=list(grouped.groups.keys()),\n",
    "        index=new_idx\n",
    "    )\n",
    "    for group, idx in grouped.indices.items():\n",
    "        X = getX(adata_filt[idx])\n",
    "        out[group] = np.ravel(X.sum(axis=0, dtype=np.float64))\n",
    "    return out\n",
    "\n",
    "def grouped_obs_mean(adata_filt, group_key, layer=None, gene_symbols=None):\n",
    "    if layer is not None:\n",
    "        getX = lambda x: x.layers[layer]\n",
    "    else:\n",
    "        getX = lambda x: x.X\n",
    "    if gene_symbols is not None:\n",
    "        idx = adata_filt.var_names.isin(gene_symbols)\n",
    "        new_idx = adata_filt.var_names[idx]\n",
    "    else:\n",
    "        new_idx = adata_filt.var_names\n",
    "    grouped = adata_filt.obs.groupby(group_key)\n",
    "    out = pd.DataFrame(\n",
    "        np.zeros((len(new_idx), len(grouped)), dtype=np.float64),\n",
    "        columns=list(grouped.groups.keys()),\n",
    "        index=new_idx\n",
    "    )\n",
    "    for group, idx in grouped.indices.items():\n",
    "        X = getX(adata_filt[idx])\n",
    "        out[group] = np.ravel(X.mean(axis=0, dtype=np.float64))\n",
    "    return out"
   ]
  },
  {
   "cell_type": "code",
   "execution_count": 2,
   "id": "33294982-7f56-438b-bd54-ca60224c0f45",
   "metadata": {},
   "outputs": [],
   "source": [
    "adata=sc.read_h5ad(\"adata_processed.h5ad\")"
   ]
  },
  {
   "cell_type": "code",
   "execution_count": 3,
   "id": "fa4d903a-2f08-4a5b-8f96-c569603ccf90",
   "metadata": {},
   "outputs": [],
   "source": [
    "adata.obs['sample']=[x + \"_\" + y for x, y in zip(adata.obs['donor'], adata.obs['days'])]"
   ]
  },
  {
   "cell_type": "code",
   "execution_count": 6,
   "id": "c1522847-628a-4ce9-9ab1-b94b019dfa71",
   "metadata": {},
   "outputs": [
    {
     "name": "stdout",
     "output_type": "stream",
     "text": [
      "WARNING: adata.X seems to be already log-transformed.\n"
     ]
    },
    {
     "name": "stderr",
     "output_type": "stream",
     "text": [
      "/home/workspace/Aux_Envir/Python_BRI_Figures/lib/python3.11/site-packages/scanpy/preprocessing/_normalization.py:207: UserWarning: Received a view of an AnnData. Making a copy.\n",
      "  view_to_actual(adata)\n"
     ]
    }
   ],
   "source": [
    "gene_name = 'IGHG3'\n",
    "\n",
    "adata_subset = adata[adata.obs[\"AIFI_L3\"] == \"Core memory B cell\"]\n",
    "adata_subset=adata_subset[adata_subset.obs[\"days\"]==\"d0\"]\n",
    "\n",
    "raw_count_sum = grouped_obs_sum_raw(adata_subset, \"sample\")\n",
    "sc.pp.normalize_total(adata_subset, target_sum=1e4)\n",
    "sc.pp.log1p(adata_subset)\n",
    "normalized_count_average = grouped_obs_mean(adata_subset, \"sample\")\n",
    "\n",
    "df_exp = pd.DataFrame(normalized_count_average.loc[gene_name, :])\n",
    "metadata = adata_subset.obs[[\"sample\", \"days\",\"donor\", \"age_group\"]].drop_duplicates()\n",
    "metadata.index = metadata['sample'].tolist()\n",
    "\n",
    "merged_df = pd.merge(df_exp, metadata, left_index=True, right_index=True)\n",
    "\n",
    "stat, p_value = mannwhitneyu(\n",
    "    merged_df[merged_df['age_group'] == 'old'][gene_name],\n",
    "    merged_df[merged_df['age_group'] == 'young'][gene_name]\n",
    ")\n",
    "\n",
    "# sns.boxplot(x='age_group', y=gene_name, data=merged_df, palette='Set2')\n",
    "# sns.stripplot(x='age_group', y=gene_name, data=merged_df, color='black', alpha=0.6, jitter=True)\n",
    "# plt.text(0.5, merged_df[gene_name].max() + 0.4, f'p = {p_value}', ha='center')\n",
    "# plt.title(f'Boxplot of {gene_name} Expression (Donor Level)')\n",
    "# plt.show()\n",
    "\n",
    "gene_expression = pd.DataFrame(adata_subset[:, gene_name].X, columns=[gene_name])\n",
    "gene_expression[\"sample\"] = adata_subset.obs[\"sample\"].tolist()\n",
    "gene_expression.index = gene_expression['sample'].tolist()\n",
    "\n",
    "gene_expression_df = pd.merge(gene_expression, metadata, left_index=True, right_index=True)\n",
    "\n",
    "stat, p_value = mannwhitneyu(\n",
    "    gene_expression_df[gene_expression_df['age_group'] == 'old'][gene_name],\n",
    "    gene_expression_df[gene_expression_df['age_group'] == 'young'][gene_name]\n",
    ")\n",
    "\n",
    "#sns.boxplot(x='age_group', y=gene_name, data=gene_expression_df, palette='Set2')\n",
    "#sns.stripplot(x='age_group', y=gene_name, data=gene_expression_df, color='black', alpha=0.6, jitter=True)\n",
    "\n",
    "#plt.text(0.5, gene_expression_df[gene_name].max() + 0.5, f'p = {p_value}', ha='center')\n",
    "#plt.title(f'Boxplot of {gene_name} Expression (Single-Cell Level)')\n",
    "#plt.show()"
   ]
  },
  {
   "cell_type": "code",
   "execution_count": 7,
   "id": "162f7757-4ed9-4706-a4cb-f026b43d8465",
   "metadata": {},
   "outputs": [],
   "source": [
    "merged_df_IGHG3=merged_df"
   ]
  },
  {
   "cell_type": "code",
   "execution_count": 8,
   "id": "458e97ea-7ff9-417a-94e8-23e6205a2a0a",
   "metadata": {},
   "outputs": [
    {
     "name": "stderr",
     "output_type": "stream",
     "text": [
      "/home/workspace/Aux_Envir/Python_BRI_Figures/lib/python3.11/site-packages/scanpy/preprocessing/_normalization.py:207: UserWarning: Received a view of an AnnData. Making a copy.\n",
      "  view_to_actual(adata)\n"
     ]
    },
    {
     "name": "stdout",
     "output_type": "stream",
     "text": [
      "WARNING: adata.X seems to be already log-transformed.\n"
     ]
    }
   ],
   "source": [
    "gene_name = 'IGHG2'\n",
    "\n",
    "adata_subset = adata[adata.obs[\"AIFI_L3\"] == \"Core memory B cell\"]\n",
    "adata_subset=adata_subset[adata_subset.obs[\"days\"]==\"d0\"]\n",
    "\n",
    "raw_count_sum = grouped_obs_sum_raw(adata_subset, \"sample\")\n",
    "sc.pp.normalize_total(adata_subset, target_sum=1e4)\n",
    "sc.pp.log1p(adata_subset)\n",
    "normalized_count_average = grouped_obs_mean(adata_subset, \"sample\")\n",
    "\n",
    "df_exp = pd.DataFrame(normalized_count_average.loc[gene_name, :])\n",
    "metadata = adata_subset.obs[[\"sample\", \"days\",\"donor\", \"age_group\"]].drop_duplicates()\n",
    "metadata.index = metadata['sample'].tolist()\n",
    "\n",
    "merged_df = pd.merge(df_exp, metadata, left_index=True, right_index=True)\n",
    "\n",
    "stat, p_value = mannwhitneyu(\n",
    "    merged_df[merged_df['age_group'] == 'old'][gene_name],\n",
    "    merged_df[merged_df['age_group'] == 'young'][gene_name]\n",
    ")\n",
    "\n",
    "# sns.boxplot(x='age_group', y=gene_name, data=merged_df, palette='Set2')\n",
    "# plt.text(0.5, merged_df[gene_name].max() + 0.4, f'p = {p_value}', ha='center')\n",
    "# plt.title(f'Boxplot of {gene_name} Expression (Donor Level)')\n",
    "# plt.show()\n",
    "\n",
    "gene_expression = pd.DataFrame(adata_subset[:, gene_name].X, columns=[gene_name])\n",
    "gene_expression[\"sample\"] = adata_subset.obs[\"sample\"].tolist()\n",
    "gene_expression.index = gene_expression['sample'].tolist()\n",
    "\n",
    "gene_expression_df = pd.merge(gene_expression, metadata, left_index=True, right_index=True)\n",
    "\n",
    "stat, p_value = mannwhitneyu(\n",
    "    gene_expression_df[gene_expression_df['age_group'] == 'old'][gene_name],\n",
    "    gene_expression_df[gene_expression_df['age_group'] == 'young'][gene_name]\n",
    ")\n",
    "\n",
    "# sns.boxplot(x='age_group', y=gene_name, data=gene_expression_df, palette='Set2')\n",
    "# plt.text(0.5, gene_expression_df[gene_name].max() + 0.5, f'p = {p_value}', ha='center')\n",
    "# plt.title(f'Boxplot of {gene_name} Expression (Single-Cell Level)')\n",
    "# plt.show()"
   ]
  },
  {
   "cell_type": "code",
   "execution_count": 9,
   "id": "4dbfc603-182f-4664-8253-7719d0254025",
   "metadata": {},
   "outputs": [],
   "source": [
    "merged_df_IGHG2=merged_df"
   ]
  },
  {
   "cell_type": "code",
   "execution_count": 10,
   "id": "1745103f-5660-47e9-b309-1c258ea7ca56",
   "metadata": {},
   "outputs": [],
   "source": [
    "result = pd.merge(merged_df_IGHG2, merged_df_IGHG3,  how='inner')"
   ]
  },
  {
   "cell_type": "code",
   "execution_count": 11,
   "id": "9e6c9472-c0ef-49b5-bbd3-f7e8f5838f5d",
   "metadata": {},
   "outputs": [],
   "source": [
    "result[\"IGHG2_IGHG3_Ratio\"]=result[\"IGHG2\"]/result[\"IGHG3\"]"
   ]
  },
  {
   "cell_type": "code",
   "execution_count": 12,
   "id": "293d2cfe-197a-4e61-94e9-2ffceb986e02",
   "metadata": {},
   "outputs": [],
   "source": [
    "result = result.dropna()"
   ]
  },
  {
   "cell_type": "code",
   "execution_count": 13,
   "id": "a07b320b-7345-4603-848e-feca147a89f0",
   "metadata": {},
   "outputs": [
    {
     "name": "stderr",
     "output_type": "stream",
     "text": [
      "/tmp/ipykernel_8675/875090730.py:6: FutureWarning: \n",
      "\n",
      "Passing `palette` without assigning `hue` is deprecated and will be removed in v0.14.0. Assign the `x` variable to `hue` and set `legend=False` for the same effect.\n",
      "\n",
      "  sns.boxplot(x='age_group', y='IGHG2_IGHG3_Ratio', data=result, palette='Set2')\n"
     ]
    },
    {
     "data": {
      "image/png": "[encoded data removed]",
      "text/plain": [
       "<Figure size 640x480 with 1 Axes>"
      ]
     },
     "metadata": {},
     "output_type": "display_data"
    }
   ],
   "source": [
    "stat, p_value = mannwhitneyu(\n",
    "    result[result['age_group'] == 'old']['IGHG2_IGHG3_Ratio'],\n",
    "    result[result['age_group'] == 'young']['IGHG2_IGHG3_Ratio']\n",
    ")\n",
    "\n",
    "sns.boxplot(x='age_group', y='IGHG2_IGHG3_Ratio', data=result, palette='Set2')\n",
    "sns.stripplot(x='age_group', y='IGHG2_IGHG3_Ratio', data=result, color='black', alpha=0.6, jitter=True)\n",
    "\n",
    "plt.text(0.5, result['IGHG2_IGHG3_Ratio'].max() + 0.4, f'p = {p_value}', ha='center')\n",
    "plt.title(f'Boxplot of IGHG2_IGHG3_Ratio Expression (Donor Level)')\n",
    "plt.show()"
   ]
  },
  {
   "cell_type": "code",
   "execution_count": 14,
   "id": "7f7c07e9-27bd-45f5-a78c-3ffc965b7079",
   "metadata": {},
   "outputs": [],
   "source": [
    "result.to_csv(\"IGHG2_IGHG3_Ratio.csv\")"
   ]
  },
  {
   "cell_type": "code",
   "execution_count": null,
   "id": "5a5c3090-5bd8-4cb5-acb1-31fcad5b55d0",
   "metadata": {},
   "outputs": [],
   "source": []
  },
  {
   "cell_type": "code",
   "execution_count": null,
   "id": "a25c243d-2319-4326-8106-1c606150cae6",
   "metadata": {},
   "outputs": [],
   "source": []
  },
  {
   "cell_type": "code",
   "execution_count": null,
   "id": "56a18758-1502-4a9b-b46c-2b726af86104",
   "metadata": {},
   "outputs": [],
   "source": []
  },
  {
   "cell_type": "code",
   "execution_count": null,
   "id": "0e182e71-7903-477e-a8ad-697b6dccb017",
   "metadata": {},
   "outputs": [],
   "source": []
  },
  {
   "cell_type": "code",
   "execution_count": null,
   "id": "df51fc43-5efc-45ec-8e64-8d88b1ecfdf4",
   "metadata": {},
   "outputs": [],
   "source": []
  },
  {
   "cell_type": "code",
   "execution_count": null,
   "id": "127840a0-4a49-4e7d-8887-072b014300da",
   "metadata": {},
   "outputs": [],
   "source": []
  },
  {
   "cell_type": "code",
   "execution_count": null,
   "id": "0b1b9ade-7c92-4a6d-bd3c-ca405d69b79d",
   "metadata": {},
   "outputs": [],
   "source": []
  }
 ],
 "metadata": {
  "kernelspec": {
   "display_name": "Python_BRI_Figures",
   "language": "python",
   "name": "python_bri_figures"
  },
  "language_info": {
   "codemirror_mode": {
    "name": "ipython",
    "version": 3
   },
   "file_extension": ".py",
   "mimetype": "text/x-python",
   "name": "python",
   "nbconvert_exporter": "python",
   "pygments_lexer": "ipython3",
   "version": "3.11.0"
  }
 },
 "nbformat": 4,
 "nbformat_minor": 5
}
