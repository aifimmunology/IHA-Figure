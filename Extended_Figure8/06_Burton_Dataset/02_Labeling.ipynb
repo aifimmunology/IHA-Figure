{
 "cells": [
  {
   "cell_type": "code",
   "execution_count": 62,
   "id": "b910295a-7024-4866-b50f-a9aff076277e",
   "metadata": {},
   "outputs": [
    {
     "name": "stderr",
     "output_type": "stream",
     "text": [
      "📂 Storing models in /home/workspace/.celltypist/data/models\n",
      "⏩ Skipping [1/54]: Immune_All_Low.pkl (file exists)\n",
      "⏩ Skipping [2/54]: Immune_All_High.pkl (file exists)\n",
      "⏩ Skipping [3/54]: Adult_COVID19_PBMC.pkl (file exists)\n",
      "⏩ Skipping [4/54]: Adult_CynomolgusMacaque_Hippocampus.pkl (file exists)\n",
      "⏩ Skipping [5/54]: Adult_Human_MTG.pkl (file exists)\n",
      "⏩ Skipping [6/54]: Adult_Human_PancreaticIslet.pkl (file exists)\n",
      "⏩ Skipping [7/54]: Adult_Human_PrefrontalCortex.pkl (file exists)\n",
      "⏩ Skipping [8/54]: Adult_Human_Skin.pkl (file exists)\n",
      "⏩ Skipping [9/54]: Adult_Human_Vascular.pkl (file exists)\n",
      "⏩ Skipping [10/54]: Adult_Mouse_Gut.pkl (file exists)\n",
      "⏩ Skipping [11/54]: Adult_Mouse_OlfactoryBulb.pkl (file exists)\n",
      "⏩ Skipping [12/54]: Adult_Pig_Hippocampus.pkl (file exists)\n",
      "⏩ Skipping [13/54]: Adult_RhesusMacaque_Hippocampus.pkl (file exists)\n",
      "⏩ Skipping [14/54]: Autopsy_COVID19_Lung.pkl (file exists)\n",
      "⏩ Skipping [15/54]: COVID19_HumanChallenge_Blood.pkl (file exists)\n",
      "⏩ Skipping [16/54]: COVID19_Immune_Landscape.pkl (file exists)\n",
      "⏩ Skipping [17/54]: Cells_Adult_Breast.pkl (file exists)\n",
      "⏩ Skipping [18/54]: Cells_Fetal_Lung.pkl (file exists)\n",
      "⏩ Skipping [19/54]: Cells_Human_Tonsil.pkl (file exists)\n",
      "⏩ Skipping [20/54]: Cells_Intestinal_Tract.pkl (file exists)\n",
      "⏩ Skipping [21/54]: Cells_Lung_Airway.pkl (file exists)\n",
      "⏩ Skipping [22/54]: Developing_Human_Brain.pkl (file exists)\n",
      "⏩ Skipping [23/54]: Developing_Human_Gonads.pkl (file exists)\n",
      "⏩ Skipping [24/54]: Developing_Human_Hippocampus.pkl (file exists)\n",
      "⏩ Skipping [25/54]: Developing_Human_Organs.pkl (file exists)\n",
      "⏩ Skipping [26/54]: Developing_Human_Thymus.pkl (file exists)\n",
      "⏩ Skipping [27/54]: Developing_Mouse_Brain.pkl (file exists)\n",
      "⏩ Skipping [28/54]: Developing_Mouse_Hippocampus.pkl (file exists)\n",
      "⏩ Skipping [29/54]: Fetal_Human_AdrenalGlands.pkl (file exists)\n",
      "⏩ Skipping [30/54]: Fetal_Human_Pancreas.pkl (file exists)\n",
      "⏩ Skipping [31/54]: Fetal_Human_Pituitary.pkl (file exists)\n",
      "⏩ Skipping [32/54]: Fetal_Human_Retina.pkl (file exists)\n",
      "⏩ Skipping [33/54]: Fetal_Human_Skin.pkl (file exists)\n",
      "⏩ Skipping [34/54]: Healthy_Adult_Heart.pkl (file exists)\n",
      "⏩ Skipping [35/54]: Healthy_COVID19_PBMC.pkl (file exists)\n",
      "⏩ Skipping [36/54]: Healthy_Human_Liver.pkl (file exists)\n",
      "⏩ Skipping [37/54]: Healthy_Mouse_Liver.pkl (file exists)\n",
      "⏩ Skipping [38/54]: Human_AdultAged_Hippocampus.pkl (file exists)\n",
      "⏩ Skipping [39/54]: Human_Colorectal_Cancer.pkl (file exists)\n",
      "⏩ Skipping [40/54]: Human_Developmental_Retina.pkl (file exists)\n",
      "⏩ Skipping [41/54]: Human_Embryonic_YolkSac.pkl (file exists)\n",
      "⏩ Skipping [42/54]: Human_Endometrium_Atlas.pkl (file exists)\n",
      "⏩ Skipping [43/54]: Human_IPF_Lung.pkl (file exists)\n",
      "⏩ Skipping [44/54]: Human_Longitudinal_Hippocampus.pkl (file exists)\n",
      "⏩ Skipping [45/54]: Human_Lung_Atlas.pkl (file exists)\n",
      "⏩ Skipping [46/54]: Human_PF_Lung.pkl (file exists)\n",
      "⏩ Skipping [47/54]: Human_Placenta_Decidua.pkl (file exists)\n",
      "⏩ Skipping [48/54]: Lethal_COVID19_Lung.pkl (file exists)\n",
      "⏩ Skipping [49/54]: Mouse_Dentate_Gyrus.pkl (file exists)\n",
      "⏩ Skipping [50/54]: Mouse_Isocortex_Hippocampus.pkl (file exists)\n",
      "⏩ Skipping [51/54]: Mouse_Postnatal_DentateGyrus.pkl (file exists)\n",
      "⏩ Skipping [52/54]: Mouse_Whole_Brain.pkl (file exists)\n",
      "⏩ Skipping [53/54]: Nuclei_Lung_Airway.pkl (file exists)\n",
      "⏩ Skipping [54/54]: Pan_Fetal_Human.pkl (file exists)\n"
     ]
    }
   ],
   "source": [
    "import scanpy as sc\n",
    "import pandas as pd \n",
    "import numpy as np\n",
    "import sys\n",
    "import matplotlib.pyplot as plt\n",
    "import celltypist\n",
    "import gc\n",
    "import anndata\n",
    "from celltypist import models\n",
    "import h5py\n",
    "import scipy.sparse as scs\n",
    "from multiprocessing import Pool\n",
    "import os\n",
    "models.download_models()"
   ]
  },
  {
   "cell_type": "code",
   "execution_count": 63,
   "id": "4437525b-054a-4f96-aa5f-a68c237e958a",
   "metadata": {},
   "outputs": [],
   "source": [
    "pbmc=sc.read_h5ad('adata.h5ad')"
   ]
  },
  {
   "cell_type": "code",
   "execution_count": 64,
   "id": "ee3c37e1-69ba-4b76-a548-380ede49b2eb",
   "metadata": {},
   "outputs": [],
   "source": [
    "pbmc.raw=pbmc"
   ]
  },
  {
   "cell_type": "code",
   "execution_count": 65,
   "id": "e80d3a63-8caf-4689-b631-77a3a2e3c72c",
   "metadata": {},
   "outputs": [
    {
     "name": "stderr",
     "output_type": "stream",
     "text": [
      "🔬 Input data has 952 cells and 58051 genes\n",
      "🔗 Matching reference genes in the model\n",
      "🧬 1059 features used for prediction\n",
      "⚖️ Scaling input data\n",
      "🖋️ Predicting labels\n",
      "✅ Prediction done!\n",
      "🔬 Input data has 952 cells and 58051 genes\n",
      "🔗 Matching reference genes in the model\n",
      "🧬 1835 features used for prediction\n",
      "⚖️ Scaling input data\n",
      "🖋️ Predicting labels\n",
      "✅ Prediction done!\n",
      "🔬 Input data has 952 cells and 58051 genes\n",
      "🔗 Matching reference genes in the model\n",
      "🧬 2380 features used for prediction\n",
      "⚖️ Scaling input data\n",
      "🖋️ Predicting labels\n",
      "✅ Prediction done!\n"
     ]
    }
   ],
   "source": [
    "sc.pp.normalize_total(pbmc, target_sum=1e4)\n",
    "sc.pp.log1p(pbmc)\n",
    "\n",
    "# Annotations\n",
    "levels = ['L1', 'L2', 'L3', 'L3.5']\n",
    "models = {'L1': '/home//workspace/private/bri_figure_all_files_test/jupyter/BRI_Figures_Final_V2/Dataset/Celltypist_Models/ref_pbmc_clean_celltypist_model_AIFI_L1_2024-04-18.pkl',\n",
    "          'L2': '/home//workspace/private/bri_figure_all_files_test/jupyter/BRI_Figures_Final_V2/Dataset/Celltypist_Models/ref_pbmc_clean_celltypist_model_AIFI_L2_2024-04-19.pkl',\n",
    "          'L3': '/home//workspace/private/bri_figure_all_files_test/jupyter/BRI_Figures_Final_V2/Dataset/Celltypist_Models/ref_pbmc_clean_celltypist_model_AIFI_L3_2024-04-19.pkl'}\n",
    "predictions = {}\n",
    "\n",
    "for level, model_type in models.items():\n",
    "    model_file = models[level]\n",
    "    predictions[level] = celltypist.annotate(pbmc, model=model_file)"
   ]
  },
  {
   "cell_type": "code",
   "execution_count": 66,
   "id": "9b06d4ba-5542-484f-9489-66035e17f1c2",
   "metadata": {},
   "outputs": [],
   "source": [
    "pbmc.obs['AIFI_L1']=predictions['L1'].predicted_labels.reset_index()['predicted_labels'].tolist()\n",
    "pbmc.obs['AIFI_L2']=predictions['L2'].predicted_labels.reset_index()['predicted_labels'].tolist()\n",
    "pbmc.obs['AIFI_L3']=predictions['L3'].predicted_labels.reset_index()['predicted_labels'].tolist()"
   ]
  },
  {
   "cell_type": "code",
   "execution_count": 67,
   "id": "be3ac8ba-4d7a-4853-be9a-79f6ee64525a",
   "metadata": {},
   "outputs": [],
   "source": [
    "split_columns = pbmc.obs.index.str.split('_', expand=True).to_frame(index=False)\n",
    "split_columns.columns=['donor', 'days', 'age_group', 'cDNA', 'well']\n"
   ]
  },
  {
   "cell_type": "code",
   "execution_count": 68,
   "id": "85729d16-556f-416c-a3fa-08ffeec4f642",
   "metadata": {},
   "outputs": [],
   "source": [
    "# Merge without caring about matching indices\n",
    "result = pd.concat([pbmc.obs.reset_index(drop=True), split_columns.reset_index(drop=True)], axis=1)\n",
    "result.index = pbmc.obs.index"
   ]
  },
  {
   "cell_type": "code",
   "execution_count": 69,
   "id": "c1e0473a-add1-4f46-ae46-fa7ea86c0867",
   "metadata": {},
   "outputs": [],
   "source": [
    "pbmc.obs=result"
   ]
  },
  {
   "cell_type": "code",
   "execution_count": 70,
   "id": "cf0eb4a6-7a06-45a7-9f7e-dcf0614d107e",
   "metadata": {},
   "outputs": [],
   "source": [
    "pbmc=pbmc.raw.to_adata()"
   ]
  },
  {
   "cell_type": "code",
   "execution_count": 72,
   "id": "36d89368-8436-4d47-b63c-72839948d505",
   "metadata": {},
   "outputs": [
    {
     "name": "stderr",
     "output_type": "stream",
     "text": [
      "... storing 'AIFI_L1' as categorical\n",
      "... storing 'AIFI_L2' as categorical\n",
      "... storing 'AIFI_L3' as categorical\n",
      "... storing 'donor' as categorical\n",
      "... storing 'days' as categorical\n",
      "... storing 'age_group' as categorical\n",
      "... storing 'cDNA' as categorical\n",
      "... storing 'well' as categorical\n"
     ]
    }
   ],
   "source": [
    "pbmc.write_h5ad(\"adata_annoatated.h5ad\")"
   ]
  },
  {
   "cell_type": "code",
   "execution_count": null,
   "id": "eb42b7da-5d7d-41f8-b3a6-97211baf03a4",
   "metadata": {},
   "outputs": [],
   "source": []
  }
 ],
 "metadata": {
  "kernelspec": {
   "display_name": "Python_BRI_Figures",
   "language": "python",
   "name": "python_bri_figures"
  },
  "language_info": {
   "codemirror_mode": {
    "name": "ipython",
    "version": 3
   },
   "file_extension": ".py",
   "mimetype": "text/x-python",
   "name": "python",
   "nbconvert_exporter": "python",
   "pygments_lexer": "ipython3",
   "version": "3.11.0"
  }
 },
 "nbformat": 4,
 "nbformat_minor": 5
}
