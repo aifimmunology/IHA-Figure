{
 "cells": [
  {
   "cell_type": "code",
   "execution_count": 110,
   "id": "7b04a9af-dfc7-4491-b2fd-b67116c2732f",
   "metadata": {},
   "outputs": [],
   "source": [
    "import scanpy as sc\n",
    "import pandas as pd \n",
    "import numpy as np\n",
    "import mygene \n",
    "from gprofiler import GProfiler\n"
   ]
  },
  {
   "cell_type": "code",
   "execution_count": 149,
   "id": "5ec7794d-7759-404c-a2f8-2330fe98d287",
   "metadata": {},
   "outputs": [],
   "source": [
    "df = pd.read_csv('GSE167823_GEO_supporting_processed_data_file_raw_count_matrix.csv.gz',index_col=0).transpose()\n"
   ]
  },
  {
   "cell_type": "code",
   "execution_count": 117,
   "id": "67f356b8-a169-4ac2-b2fc-2fe804c85a0f",
   "metadata": {},
   "outputs": [
    {
     "name": "stderr",
     "output_type": "stream",
     "text": [
      "Input sequence provided is already in string format. No operation performed\n",
      "Input sequence provided is already in string format. No operation performed\n",
      "29 input query terms found dup hits:\t[('ENSG00000228044', 2), ('ENSG00000226506', 2), ('ENSG00000261600', 2), ('ENSG00000234162', 2), ('E\n",
      "1921 input query terms found no hit:\t['ENSG00000238009', 'ENSG00000241670', 'ENSG00000236743', 'ENSG00000278566', 'ENSG00000224813', 'ENS\n"
     ]
    }
   ],
   "source": [
    "mg = mygene.MyGeneInfo()\n",
    "\n",
    "gene_info = mg.querymany(df.columns.tolist(), scopes='ensembl.gene', fields='symbol,name', species='human')\n"
   ]
  },
  {
   "cell_type": "code",
   "execution_count": 118,
   "id": "f9eef38f-5325-4a3f-aa08-649aad541e7c",
   "metadata": {},
   "outputs": [],
   "source": [
    "gene_info = pd.DataFrame(gene_info)\n"
   ]
  },
  {
   "cell_type": "code",
   "execution_count": null,
   "id": "1740fcd7-5c53-4e5d-9ae0-a41496b70081",
   "metadata": {},
   "outputs": [],
   "source": []
  },
  {
   "cell_type": "code",
   "execution_count": 119,
   "id": "414cc4b8-b38f-4d0b-8890-afeb077efe0c",
   "metadata": {},
   "outputs": [],
   "source": [
    "gene_list_full=df.columns.tolist()\n",
    "gene_info_missing=gene_info[gene_info['notfound']==True]"
   ]
  },
  {
   "cell_type": "code",
   "execution_count": 120,
   "id": "d887b227-0df4-4cb1-af11-4c073839e094",
   "metadata": {},
   "outputs": [],
   "source": [
    "additional_info=pd.read_csv(\"lncipedia_5_2_ensembl_92_genes.txt\",sep=\"\\t\")\n",
    "additional_info['query'] = additional_info['ensemblGeneID'].str.replace(r'\\..*', '', regex=True)\n",
    "additional_info=additional_info[additional_info['query'].isin(gene_info_missing['query'].tolist())]"
   ]
  },
  {
   "cell_type": "code",
   "execution_count": 121,
   "id": "7b28fd81-bb4a-4505-aa65-9a0de6af0440",
   "metadata": {},
   "outputs": [],
   "source": [
    "gene_info = gene_info.merge(additional_info, on='query', how='left')\n"
   ]
  },
  {
   "cell_type": "code",
   "execution_count": 122,
   "id": "c955dcf7-31a7-4c89-b8ff-15ad1ace2b2f",
   "metadata": {},
   "outputs": [],
   "source": [
    "gene_info['symbol'] = gene_info['symbol'].combine_first(gene_info['lncipediaGeneID'])\n"
   ]
  },
  {
   "cell_type": "code",
   "execution_count": 123,
   "id": "b65ff203-d9df-46c3-8d8f-8a24e20b2677",
   "metadata": {},
   "outputs": [],
   "source": [
    "gene_info['symbol'] = gene_info['symbol'].fillna(gene_info['query'])"
   ]
  },
  {
   "cell_type": "code",
   "execution_count": 125,
   "id": "a07a5376-b7f0-4b46-9eee-d0f176938eb6",
   "metadata": {},
   "outputs": [],
   "source": [
    "gene_info = gene_info.drop_duplicates(subset='query', keep=False)"
   ]
  },
  {
   "cell_type": "code",
   "execution_count": 127,
   "id": "513647b4-bcb5-4e28-9fd2-3402cd40268d",
   "metadata": {},
   "outputs": [],
   "source": [
    "mapping_dict = dict(zip(gene_info['query'].tolist(), gene_info['symbol'].tolist()))\n"
   ]
  },
  {
   "cell_type": "code",
   "execution_count": 150,
   "id": "d1c315b8-1102-477f-9156-8a59d0a72ef5",
   "metadata": {},
   "outputs": [],
   "source": [
    "def are_columns_identical(col1, col2):\n",
    "    return df[col1].equals(df[col2])\n",
    "\n",
    "new_columns = []\n",
    "for col in df.columns:\n",
    "    new_name = mapping_dict.get(col, col)\n",
    "    \n",
    "    if new_name in new_columns:\n",
    "        duplicate_found = any(are_columns_identical(existing_col, col) for existing_col in df.columns[:new_columns.index(new_name)])\n",
    "        if duplicate_found:\n",
    "            new_name = col\n",
    "\n",
    "    new_columns.append(new_name)\n",
    "\n",
    "df.columns = new_columns"
   ]
  },
  {
   "cell_type": "code",
   "execution_count": 151,
   "id": "9fc5a0a0-8de9-42b4-81b5-87a7e043ceed",
   "metadata": {},
   "outputs": [
    {
     "name": "stderr",
     "output_type": "stream",
     "text": [
      "/home/workspace/Aux_Envir/Python_BRI_Figures/lib/python3.11/site-packages/anndata/_core/anndata.py:1758: UserWarning: Variable names are not unique. To make them unique, call `.var_names_make_unique`.\n",
      "  utils.warn_names_duplicates(\"var\")\n"
     ]
    }
   ],
   "source": [
    "adata = sc.AnnData(df)"
   ]
  },
  {
   "cell_type": "code",
   "execution_count": 162,
   "id": "441edd57-0587-4688-bdd8-3f52d3aee598",
   "metadata": {},
   "outputs": [],
   "source": [
    "adata.write_h5ad(\"adata.h5ad\")"
   ]
  },
  {
   "cell_type": "code",
   "execution_count": null,
   "id": "ea83cd6a-fe23-4522-8306-5526e6c23811",
   "metadata": {},
   "outputs": [],
   "source": []
  }
 ],
 "metadata": {
  "kernelspec": {
   "display_name": "Python_BRI_Figures",
   "language": "python",
   "name": "python_bri_figures"
  },
  "language_info": {
   "codemirror_mode": {
    "name": "ipython",
    "version": 3
   },
   "file_extension": ".py",
   "mimetype": "text/x-python",
   "name": "python",
   "nbconvert_exporter": "python",
   "pygments_lexer": "ipython3",
   "version": "3.11.0"
  }
 },
 "nbformat": 4,
 "nbformat_minor": 5
}
