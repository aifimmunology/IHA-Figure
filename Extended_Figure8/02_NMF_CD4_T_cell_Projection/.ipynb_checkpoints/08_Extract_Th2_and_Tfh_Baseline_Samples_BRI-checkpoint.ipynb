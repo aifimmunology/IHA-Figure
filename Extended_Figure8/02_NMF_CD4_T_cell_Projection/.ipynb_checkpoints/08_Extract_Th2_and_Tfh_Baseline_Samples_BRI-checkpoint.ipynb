{
 "cells": [
  {
   "cell_type": "code",
   "execution_count": 2,
   "id": "56f92b07-f265-46e4-aa79-8e6495c309f3",
   "metadata": {},
   "outputs": [],
   "source": [
    "suppressPackageStartupMessages(library(plyr))\n",
    "suppressPackageStartupMessages(library(dplyr))\n",
    "suppressPackageStartupMessages(library(tidyr))\n",
    "suppressPackageStartupMessages(library(tibble))\n",
    "library(parallel)"
   ]
  },
  {
   "cell_type": "code",
   "execution_count": 5,
   "id": "2a66f26c-f041-48d8-bd33-53d9616ce831",
   "metadata": {},
   "outputs": [],
   "source": [
    "meta_data=read.csv(\"/home/jupyter/BRI_Figures_Final_V1/Dataset/scRNA_meta_data-2024-05-09.csv\")\n",
    "meta_data_subset<-meta_data %>% \n",
    "filter(Covid_exclusion=='no',sample.daysSinceFirstVisit<600) %>%\n",
    "filter(!sample.visitName%in% c('Flu Year 1 Day 7',\n",
    "                              'Flu Year 2 Day 7'))"
   ]
  },
  {
   "cell_type": "code",
   "execution_count": 8,
   "id": "086e151d-7c84-404d-9529-ff1b25a5f729",
   "metadata": {},
   "outputs": [],
   "source": [
    "df_list<-mclapply(meta_data_subset$pbmc_sample_id,function(x){\n",
    "df<-read.csv(paste0(\"/home/jupyter/BRI_Figures_Final_V1/Figure6/02_NMF_CD4_T_cell_Projection/NMF_Score_BRI/\",x,\".csv\"))\n",
    "df$pbmc_sample_id=x\n",
    "return(df)\n",
    "},mc.cores=60)"
   ]
  },
  {
   "cell_type": "code",
   "execution_count": 9,
   "id": "696ec9d2-838d-4313-8e43-6db57dbf8eb3",
   "metadata": {},
   "outputs": [],
   "source": [
    "df_combined<-do.call(rbind,df_list)\n",
    "df_combined_longformat<- pivot_longer(df_combined, cols = starts_with(\"NMF\"), names_to = \"NMF_Scores\", values_to = \"value\")"
   ]
  },
  {
   "cell_type": "code",
   "execution_count": 12,
   "id": "a79da11a-8dab-45e0-9dde-82905e87a8cc",
   "metadata": {},
   "outputs": [
    {
     "name": "stderr",
     "output_type": "stream",
     "text": [
      "\u001b[1m\u001b[22m`summarise()` has grouped output by 'pbmc_sample_id', 'NMF_Scores'. You can\n",
      "override using the `.groups` argument.\n"
     ]
    }
   ],
   "source": [
    "df_combined_longformat<-df_combined_longformat %>% group_by(pbmc_sample_id,NMF_Scores,AIFI_L3) %>% summarise(AverageScore=mean(value))"
   ]
  },
  {
   "cell_type": "code",
   "execution_count": 13,
   "id": "3f2ba3ae-74d5-4ec5-a1a7-baa48e6a79d3",
   "metadata": {},
   "outputs": [],
   "source": [
    "df_combined_longformat_filtered<-df_combined_longformat %>% filter(NMF_Scores %in% c('NMF5_Th2','NMF6_Tfh')) %>% filter(AIFI_L3 %in% c('CM CD4 T cell'))"
   ]
  },
  {
   "cell_type": "code",
   "execution_count": 17,
   "id": "af9487b1-4f54-4921-81ae-6323992c0b85",
   "metadata": {},
   "outputs": [
    {
     "name": "stderr",
     "output_type": "stream",
     "text": [
      "\u001b[1m\u001b[22mJoining with `by = join_by(pbmc_sample_id)`\n"
     ]
    }
   ],
   "source": [
    "df<-left_join(df_combined_longformat_filtered,meta_data_subset)"
   ]
  },
  {
   "cell_type": "code",
   "execution_count": null,
   "id": "f9bd36b5-eaf4-40a8-b83b-2b80c9dce73a",
   "metadata": {},
   "outputs": [],
   "source": [
    "write.csv(df,'Th2_Tfh_Baseline_Samples_BRI.csv')"
   ]
  }
 ],
 "metadata": {
  "kernelspec": {
   "display_name": "R 4",
   "language": "R",
   "name": "ir4"
  },
  "language_info": {
   "codemirror_mode": "r",
   "file_extension": ".r",
   "mimetype": "text/x-r-source",
   "name": "R",
   "pygments_lexer": "r",
   "version": "4.3.2"
  }
 },
 "nbformat": 4,
 "nbformat_minor": 5
}
