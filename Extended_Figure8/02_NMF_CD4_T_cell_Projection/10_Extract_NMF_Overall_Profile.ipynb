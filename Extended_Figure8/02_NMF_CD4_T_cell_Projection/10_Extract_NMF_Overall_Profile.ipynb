{
 "cells": [
  {
   "cell_type": "code",
   "execution_count": 23,
   "id": "a8afee0a-aa5b-4d14-96cb-7648b351cc38",
   "metadata": {},
   "outputs": [],
   "source": [
    "suppressPackageStartupMessages(library(plyr))\n",
    "suppressPackageStartupMessages(library(dplyr))\n",
    "suppressPackageStartupMessages(library(tidyr))\n",
    "suppressPackageStartupMessages(library(tibble))\n",
    "library(parallel)"
   ]
  },
  {
   "cell_type": "markdown",
   "id": "0f778e4c-fd62-44e5-9980-6523d65ab50c",
   "metadata": {},
   "source": [
    "# BR1"
   ]
  },
  {
   "cell_type": "code",
   "execution_count": 24,
   "id": "4962f177-644b-46f3-8173-94825efaef90",
   "metadata": {},
   "outputs": [],
   "source": [
    "meta_data=read.csv(\"/home/jupyter/BRI_Figures_Final_V1/Dataset/scRNA_meta_data-2024-05-09.csv\")\n",
    "meta_data_subset<-meta_data %>% filter(Covid_exclusion=='no',\n",
    "                                       sample.visitName%in% c('Flu Year 1 Day 0'))"
   ]
  },
  {
   "cell_type": "code",
   "execution_count": 25,
   "id": "e55d8685-efab-4694-a8ba-750ed3bebf05",
   "metadata": {},
   "outputs": [],
   "source": [
    "df_list<-mclapply(meta_data_subset$pbmc_sample_id,function(x){\n",
    "df<-read.csv(paste0(\"/home/jupyter/BRI_Figures_Final_V1/Figure6/02_NMF_CD4_T_cell_Projection/NMF_Score_BRI/\",x,\".csv\"))\n",
    "df$pbmc_sample_id=x\n",
    "return(df)\n",
    "},mc.cores=60)"
   ]
  },
  {
   "cell_type": "code",
   "execution_count": 26,
   "id": "a16dd325-6d57-41b3-8dde-1b33f5476e1e",
   "metadata": {},
   "outputs": [],
   "source": [
    "df_combined<-do.call(rbind,df_list)\n",
    "df_combined_longformat<- pivot_longer(df_combined, cols = starts_with(\"NMF\"), names_to = \"NMF_Scores\", values_to = \"value\")"
   ]
  },
  {
   "cell_type": "markdown",
   "id": "f0a9eda4-0d30-4e9c-bc79-ca3c01de9c44",
   "metadata": {},
   "source": [
    "### Get Mean NMF scores"
   ]
  },
  {
   "cell_type": "code",
   "execution_count": 27,
   "id": "af16a16e-b058-4761-a724-d33e95d8c910",
   "metadata": {},
   "outputs": [
    {
     "name": "stderr",
     "output_type": "stream",
     "text": [
      "\u001b[1m\u001b[22m`summarise()` has grouped output by 'NMF_Scores'. You can override using the\n",
      "`.groups` argument.\n"
     ]
    }
   ],
   "source": [
    "df_combined_longformat <- df_combined_longformat %>%\n",
    "  group_by(NMF_Scores, AIFI_L3) %>%\n",
    "  summarise(\n",
    "    AverageScore = mean(value),\n",
    "    FractionNonZero = sum(value != 0) / n()\n",
    "  )"
   ]
  },
  {
   "cell_type": "code",
   "execution_count": 29,
   "id": "bb71e491-f630-4028-a494-25646f737ece",
   "metadata": {},
   "outputs": [],
   "source": [
    "df_combined_longformat_filtered<-df_combined_longformat %>% filter(NMF_Scores %in% c('NMF11_Th1','NMF5_Th2','NMF6_Tfh','NMF2_Th17')) %>% filter(AIFI_L3 %in% c('CM CD4 T cell','GZMB- CD27+ EM CD4 T cell',\n",
    "                                                                            'GZMB- CD27- EM CD4 T cell','KLRF1- GZMB+ CD27- memory CD4 T cell'))"
   ]
  },
  {
   "cell_type": "code",
   "execution_count": 30,
   "id": "6bc5ec3d-b796-49ac-8560-d79f05a82721",
   "metadata": {},
   "outputs": [],
   "source": [
    "write.csv(df_combined_longformat_filtered,'NMF_Profile_Y1D0.csv')"
   ]
  },
  {
   "cell_type": "code",
   "execution_count": 9,
   "id": "4895b5a7-4a6d-4a15-9b0e-0737bffffea1",
   "metadata": {},
   "outputs": [],
   "source": []
  },
  {
   "cell_type": "code",
   "execution_count": null,
   "id": "a7e059aa-785c-4a84-93c1-088cb4cce7b6",
   "metadata": {},
   "outputs": [],
   "source": []
  }
 ],
 "metadata": {
  "kernelspec": {
   "display_name": "R 4",
   "language": "R",
   "name": "ir4"
  },
  "language_info": {
   "codemirror_mode": "r",
   "file_extension": ".r",
   "mimetype": "text/x-r-source",
   "name": "R",
   "pygments_lexer": "r",
   "version": "4.3.2"
  }
 },
 "nbformat": 4,
 "nbformat_minor": 5
}
