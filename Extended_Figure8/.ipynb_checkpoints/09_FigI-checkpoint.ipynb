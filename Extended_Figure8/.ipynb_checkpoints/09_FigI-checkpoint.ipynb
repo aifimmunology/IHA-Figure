{
 "cells": [
  {
   "cell_type": "code",
   "execution_count": 7,
   "id": "a92b1d6e-1e23-40de-a9b9-62462ac3a6cb",
   "metadata": {},
   "outputs": [],
   "source": [
    "suppressPackageStartupMessages(library(plyr))\n",
    "suppressPackageStartupMessages(library(dplyr))\n",
    "suppressPackageStartupMessages(library(tidyr))\n",
    "suppressPackageStartupMessages(library(tibble))\n",
    "library(ggplot2)\n",
    "library(ggpubr)\n",
    "is_dark_color <- function(hex) {\n",
    "  rgb <- col2rgb(hex)\n",
    "  \n",
    "  luminance <- 0.299 * rgb[1,] + 0.587 * rgb[2,] + 0.114 * rgb[3,]\n",
    "  if(luminance < 128){\n",
    "  return('white')\n",
    "  }else{return('black')}\n",
    "}\n",
    "\n",
    "color_annotation <- read.csv('../Color_hex_codes/Cell_Type_Color_Annotation_and_Order.csv')\n",
    "color_vector <- setNames(color_annotation$color, color_annotation$label)"
   ]
  },
  {
   "cell_type": "markdown",
   "id": "93dd965f-48fc-475c-8019-4da2c177e9da",
   "metadata": {},
   "source": [
    "# Sample level"
   ]
  },
  {
   "cell_type": "code",
   "execution_count": 12,
   "id": "89d67e15-d468-4066-88f3-4e79590a768f",
   "metadata": {},
   "outputs": [],
   "source": [
    "df<-read.csv(\"06_Burton_Dataset/CD40_Exp_Sample.csv\") %>% filter(days==\"d0\")\n",
    "df$AIFI_L3<-\"Core memroy B cell\""
   ]
  },
  {
   "cell_type": "code",
   "execution_count": 17,
   "id": "02103708-d061-4eb6-bd55-8ed8f6ae4cf0",
   "metadata": {},
   "outputs": [],
   "source": [
    "df$age_group<-factor(df$age_group,levels=c(\"young\",\"old\"))"
   ]
  },
  {
   "cell_type": "code",
   "execution_count": 25,
   "id": "9c8c6306-461d-456c-8c98-02b7f677573a",
   "metadata": {},
   "outputs": [
    {
     "data": {
      "image/png": "[encoded data removed]",
      "text/plain": [
       "plot without title"
      ]
     },
     "metadata": {
      "image/png": {
       "height": 106.2992,
       "width": 70.8661
      }
     },
     "output_type": "display_data"
    }
   ],
   "source": [
    "options(repr.plot.width = 30/25.4, repr.plot.height = 45/25.4)\n",
    "\n",
    "p<-ggplot(df, aes(x=`age_group`, y=CD40, fill=`age_group`)) +\n",
    "    geom_boxplot(outlier.shape = NA,lwd=0.3) +\n",
    "geom_point(position = position_jitter(width = 0.2),color=\"black\", size=0.8,stroke=0) +\n",
    "theme_classic(base_size=6)+  \n",
    "stat_compare_means(aes(label = paste0(\"p = \", after_stat(p.format))),\n",
    "    size=2,\n",
    "    label.x=1.25,  \n",
    "    vjust = -2)+theme(strip.background = element_rect(linewidth = 0))+\n",
    "    scale_fill_manual(values = c(\"old\" = '#bf812d', \"young\" = '#35978f'))+\n",
    "    scale_y_continuous(limits = c(NA, NA), \n",
    "                       expand = expansion(mult = c(0.1, 0.15)))+\n",
    "theme(legend.position=\"none\")+\n",
    "xlab('')+\n",
    "ylab('CD40 Exp')+\n",
    "facet_wrap(~AIFI_L3,  scale='free_y') \n",
    "\n",
    "g <- ggplot_gtable(ggplot_build(p))\n",
    "\n",
    "strips <- which(grepl('strip-', g$layout$name))\n",
    "\n",
    "pal <- color_vector['CM CD4 T cell']\n",
    "text_color <- sapply(color_vector['CM CD4 T cell'], is_dark_color)\n",
    "\n",
    "for (i in seq_along(strips)) {\n",
    "  k <- which(grepl('rect', g$grobs[[strips[i]]]$grobs[[1]]$childrenOrder))\n",
    "  l <- which(grepl('titleGrob', g$grobs[[strips[i]]]$grobs[[1]]$childrenOrder))\n",
    "  g$grobs[[strips[i]]]$grobs[[1]]$children[[k]]$gp$fill <-  adjustcolor(pal[i], alpha.f = 0.8)\n",
    "  g$grobs[[strips[i]]]$grobs[[1]]$children[[l]]$children[[1]]$gp$col <- text_color[i]\n",
    "}\n",
    "\n",
    "plot(g)\n",
    "\n",
    "ggsave('FigureI-1.pdf',g,width = 30/25.4,height = 45/25.4)"
   ]
  },
  {
   "cell_type": "markdown",
   "id": "ea8ffd97-59ef-4b7c-ada5-995d0b8558ec",
   "metadata": {},
   "source": [
    "# Single cell level"
   ]
  },
  {
   "cell_type": "code",
   "execution_count": null,
   "id": "4adc6cfe-fd12-4a3b-bbf9-2586f4ead694",
   "metadata": {},
   "outputs": [],
   "source": []
  },
  {
   "cell_type": "code",
   "execution_count": 26,
   "id": "175df6f7-8cbb-48e0-9e76-160ffe8077d9",
   "metadata": {},
   "outputs": [],
   "source": [
    "df<-read.csv(\"06_Burton_Dataset/CD40_Exp_SingleCell.csv\") %>% filter(days==\"d0\")\n",
    "df$AIFI_L3<-\"Core memroy B cell\"\n",
    "df$age_group<-factor(df$age_group,levels=c(\"young\",\"old\"))"
   ]
  },
  {
   "cell_type": "code",
   "execution_count": 27,
   "id": "a989534a-e6c9-4b9b-9cb0-15fda895a18d",
   "metadata": {},
   "outputs": [
    {
     "name": "stderr",
     "output_type": "stream",
     "text": [
      "Warning message in geom_violin(outlier.shape = NA, lwd = 0.3):\n",
      "“\u001b[1m\u001b[22mIgnoring unknown parameters: `outlier.shape`”\n"
     ]
    },
    {
     "data": {
      "image/png": "[encoded data removed]",
      "text/plain": [
       "plot without title"
      ]
     },
     "metadata": {
      "image/png": {
       "height": 106.2992,
       "width": 70.8661
      }
     },
     "output_type": "display_data"
    }
   ],
   "source": [
    "options(repr.plot.width = 30/25.4, repr.plot.height = 45/25.4)\n",
    "\n",
    "p<-ggplot(df, aes(x=`age_group`, y=CD40, fill=`age_group`)) +\n",
    "    geom_violin(outlier.shape = NA,lwd=0.3) +\n",
    "geom_point(position = position_jitter(width = 0.2),color=\"black\", size=0.8,stroke=0) +\n",
    "theme_classic(base_size=6)+  \n",
    "stat_compare_means(aes(label = paste0(\"p = \", after_stat(p.format))),\n",
    "    size=2,\n",
    "    label.x=1.25,  \n",
    "    vjust = -2)+theme(strip.background = element_rect(linewidth = 0))+\n",
    "    scale_fill_manual(values = c(\"old\" = '#bf812d', \"young\" = '#35978f'))+\n",
    "    scale_y_continuous(limits = c(NA, NA), \n",
    "                       expand = expansion(mult = c(0.1, 0.15)))+\n",
    "theme(legend.position=\"none\")+\n",
    "xlab('')+\n",
    "ylab('CD40 Exp')+\n",
    "facet_wrap(~AIFI_L3,  scale='free_y') \n",
    "\n",
    "g <- ggplot_gtable(ggplot_build(p))\n",
    "\n",
    "strips <- which(grepl('strip-', g$layout$name))\n",
    "\n",
    "pal <- color_vector['CM CD4 T cell']\n",
    "text_color <- sapply(color_vector['CM CD4 T cell'], is_dark_color)\n",
    "\n",
    "for (i in seq_along(strips)) {\n",
    "  k <- which(grepl('rect', g$grobs[[strips[i]]]$grobs[[1]]$childrenOrder))\n",
    "  l <- which(grepl('titleGrob', g$grobs[[strips[i]]]$grobs[[1]]$childrenOrder))\n",
    "  g$grobs[[strips[i]]]$grobs[[1]]$children[[k]]$gp$fill <-  adjustcolor(pal[i], alpha.f = 0.8)\n",
    "  g$grobs[[strips[i]]]$grobs[[1]]$children[[l]]$children[[1]]$gp$col <- text_color[i]\n",
    "}\n",
    "\n",
    "plot(g)\n",
    "\n",
    "ggsave('FigureI-2.pdf',g,width = 30/25.4,height = 45/25.4)"
   ]
  },
  {
   "cell_type": "code",
   "execution_count": null,
   "id": "702177fc-eaf5-4e9d-99f5-ac5e4c6b1953",
   "metadata": {},
   "outputs": [],
   "source": []
  },
  {
   "cell_type": "code",
   "execution_count": null,
   "id": "486f7570-78d5-46d5-8b6f-b986619e2902",
   "metadata": {},
   "outputs": [],
   "source": []
  }
 ],
 "metadata": {
  "kernelspec": {
   "display_name": "R_BRI_Figures",
   "language": "R",
   "name": "r_bri_figures"
  },
  "language_info": {
   "codemirror_mode": "r",
   "file_extension": ".r",
   "mimetype": "text/x-r-source",
   "name": "R",
   "pygments_lexer": "r",
   "version": "4.3.2"
  }
 },
 "nbformat": 4,
 "nbformat_minor": 5
}
