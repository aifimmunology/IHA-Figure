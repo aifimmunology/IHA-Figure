{
 "cells": [
  {
   "cell_type": "code",
   "execution_count": 2,
   "id": "f184c186-c4ba-4b1d-8b96-755a62acdc68",
   "metadata": {},
   "outputs": [
    {
     "name": "stderr",
     "output_type": "stream",
     "text": [
      "Warning message:\n",
      "“package ‘plyr’ was built under R version 4.3.3”\n",
      "Warning message:\n",
      "“package ‘dplyr’ was built under R version 4.3.3”\n",
      "Warning message:\n",
      "“package ‘tidyr’ was built under R version 4.3.3”\n",
      "Warning message:\n",
      "“package ‘tibble’ was built under R version 4.3.3”\n",
      "\n",
      "Attaching package: ‘ggpubr’\n",
      "\n",
      "\n",
      "The following object is masked from ‘package:plyr’:\n",
      "\n",
      "    mutate\n",
      "\n",
      "\n"
     ]
    }
   ],
   "source": [
    "suppressPackageStartupMessages(library(plyr))\n",
    "suppressPackageStartupMessages(library(dplyr))\n",
    "suppressPackageStartupMessages(library(tidyr))\n",
    "suppressPackageStartupMessages(library(tibble))\n",
    "library(ggplot2)\n",
    "library(ggpubr)\n"
   ]
  },
  {
   "cell_type": "code",
   "execution_count": 3,
   "id": "2931f9a3-2833-4f93-b27f-85b477f935b0",
   "metadata": {},
   "outputs": [],
   "source": [
    "df<-read.csv(\"04_CD4_CXCR5_MFI/Baseline flow data - CD4+ CXCR5 MFI.csv\")"
   ]
  },
  {
   "cell_type": "code",
   "execution_count": 4,
   "id": "f34dd947-cf6f-4b28-accc-ba367a8ad7b9",
   "metadata": {},
   "outputs": [],
   "source": [
    "df_BR1<-df[c(\"BR1\")]\n",
    "df_BR2<-df[c(\"BR2\")]\n",
    "colnames(df_BR1)<-\"MFI\"\n",
    "colnames(df_BR2)<-\"MFI\""
   ]
  },
  {
   "cell_type": "code",
   "execution_count": 5,
   "id": "362e66b5-67eb-47e1-8c56-0cd4d83be430",
   "metadata": {},
   "outputs": [],
   "source": [
    "df_BR1$`Age Group`=\"Young\"\n",
    "df_BR2$`Age Group`=\"Older\""
   ]
  },
  {
   "cell_type": "code",
   "execution_count": 6,
   "id": "536e2453-c0b3-42df-826e-6161fd663b79",
   "metadata": {},
   "outputs": [],
   "source": [
    "df<-rbind(df_BR1,df_BR2)"
   ]
  },
  {
   "cell_type": "code",
   "execution_count": 10,
   "id": "7f36b728-ca66-4f28-b42b-d109a8223718",
   "metadata": {},
   "outputs": [],
   "source": [
    "df$`Age Group`<-factor(df$`Age Group`,levels=c(\"Young\",\"Older\"))"
   ]
  },
  {
   "cell_type": "code",
   "execution_count": 13,
   "id": "3dadf7ef-a124-4817-bd23-035accace308",
   "metadata": {},
   "outputs": [
    {
     "data": {
      "image/png": "[encoded data removed]",
      "text/plain": [
       "plot without title"
      ]
     },
     "metadata": {
      "image/png": {
       "height": 106.2992,
       "width": 70.8661
      }
     },
     "output_type": "display_data"
    }
   ],
   "source": [
    "options(repr.plot.width = 30/25.4, repr.plot.height = 45/25.4)\n",
    "\n",
    "p<-ggplot(df, aes(x=`Age Group`, y=MFI, fill=`Age Group`)) +\n",
    "    geom_boxplot(outlier.shape = NA,lwd=0.3) +\n",
    "geom_point(position = position_jitter(width = 0.2),color=\"black\", size=0.8,stroke=0) +\n",
    "theme_classic(base_size=6)+  \n",
    "stat_compare_means(aes(label = paste0(\"p = \", after_stat(p.format))),\n",
    "    size=2,\n",
    "    label.x=1.25,  \n",
    "    vjust = -2)+theme(strip.background = element_rect(linewidth = 0))+\n",
    "    scale_fill_manual(values = c(\"Young\" = '#bf812d', \"Older\" = '#35978f'))+\n",
    "    scale_y_continuous(limits = c(NA, NA), \n",
    "                       expand = expansion(mult = c(0.1, 0.15)))+\n",
    "theme(legend.position=\"none\")+\n",
    "xlab('')+\n",
    "ylab('CD4+ CXCR5 MFI')\n",
    "\n",
    "\n",
    "p\n",
    "ggsave('FigureE.pdf',p,width = 30/25.4,height = 45/25.4)"
   ]
  },
  {
   "cell_type": "code",
   "execution_count": null,
   "id": "9ba7221f-8cb0-486b-bb92-88d187fc5bfb",
   "metadata": {},
   "outputs": [],
   "source": []
  }
 ],
 "metadata": {
  "kernelspec": {
   "display_name": "R_BRI_Figures",
   "language": "R",
   "name": "r_bri_figures"
  },
  "language_info": {
   "codemirror_mode": "r",
   "file_extension": ".r",
   "mimetype": "text/x-r-source",
   "name": "R",
   "pygments_lexer": "r",
   "version": "4.3.2"
  }
 },
 "nbformat": 4,
 "nbformat_minor": 5
}
