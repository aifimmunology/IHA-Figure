{
 "cells": [
  {
   "cell_type": "code",
   "execution_count": 1,
   "id": "a92b1d6e-1e23-40de-a9b9-62462ac3a6cb",
   "metadata": {},
   "outputs": [
    {
     "name": "stderr",
     "output_type": "stream",
     "text": [
      "Warning message:\n",
      "“package ‘plyr’ was built under R version 4.3.3”\n",
      "Warning message:\n",
      "“package ‘dplyr’ was built under R version 4.3.3”\n",
      "Warning message:\n",
      "“package ‘tidyr’ was built under R version 4.3.3”\n",
      "Warning message:\n",
      "“package ‘tibble’ was built under R version 4.3.3”\n",
      "\n",
      "Attaching package: ‘ggpubr’\n",
      "\n",
      "\n",
      "The following object is masked from ‘package:plyr’:\n",
      "\n",
      "    mutate\n",
      "\n",
      "\n"
     ]
    }
   ],
   "source": [
    "suppressPackageStartupMessages(library(plyr))\n",
    "suppressPackageStartupMessages(library(dplyr))\n",
    "suppressPackageStartupMessages(library(tidyr))\n",
    "suppressPackageStartupMessages(library(tibble))\n",
    "library(ggplot2)\n",
    "library(ggpubr)\n",
    "is_dark_color <- function(hex) {\n",
    "  rgb <- col2rgb(hex)\n",
    "  \n",
    "  luminance <- 0.299 * rgb[1,] + 0.587 * rgb[2,] + 0.114 * rgb[3,]\n",
    "  if(luminance < 128){\n",
    "  return('white')\n",
    "  }else{return('black')}\n",
    "}\n",
    "\n",
    "color_annotation <- read.csv('../Color_hex_codes/Cell_Type_Color_Annotation_and_Order.csv')\n",
    "color_vector <- setNames(color_annotation$color, color_annotation$label)"
   ]
  },
  {
   "cell_type": "markdown",
   "id": "93dd965f-48fc-475c-8019-4da2c177e9da",
   "metadata": {},
   "source": [
    "# Sample level"
   ]
  },
  {
   "cell_type": "code",
   "execution_count": 2,
   "id": "89d67e15-d468-4066-88f3-4e79590a768f",
   "metadata": {},
   "outputs": [],
   "source": [
    "df<-read.csv(\"06_Burton_Dataset/IGHG2_IGHG3_Ratio.csv\") %>% filter(days==\"d0\")\n",
    "df$AIFI_L3<-\"Core memroy B cell\""
   ]
  },
  {
   "cell_type": "code",
   "execution_count": 3,
   "id": "02103708-d061-4eb6-bd55-8ed8f6ae4cf0",
   "metadata": {},
   "outputs": [],
   "source": [
    "df$age_group<-factor(df$age_group,levels=c(\"young\",\"old\"))"
   ]
  },
  {
   "cell_type": "code",
   "execution_count": 6,
   "id": "6608bf08-9c4b-4cb0-905f-67c66b40a0b1",
   "metadata": {},
   "outputs": [
    {
     "data": {
      "text/html": [
       "<table class=\"dataframe\">\n",
       "<caption>A data.frame: 16 × 9</caption>\n",
       "<thead>\n",
       "\t<tr><th scope=col>X</th><th scope=col>IGHG2</th><th scope=col>sample</th><th scope=col>days</th><th scope=col>donor</th><th scope=col>age_group</th><th scope=col>IGHG3</th><th scope=col>IGHG2_IGHG3_Ratio</th><th scope=col>AIFI_L3</th></tr>\n",
       "\t<tr><th scope=col>&lt;int&gt;</th><th scope=col>&lt;dbl&gt;</th><th scope=col>&lt;chr&gt;</th><th scope=col>&lt;chr&gt;</th><th scope=col>&lt;chr&gt;</th><th scope=col>&lt;fct&gt;</th><th scope=col>&lt;dbl&gt;</th><th scope=col>&lt;dbl&gt;</th><th scope=col>&lt;chr&gt;</th></tr>\n",
       "</thead>\n",
       "<tbody>\n",
       "\t<tr><td> 1</td><td>0.49029547</td><td>520P_d0</td><td>d0</td><td>520P</td><td>old  </td><td>0.3916156</td><td>1.25198152</td><td>Core memroy B cell</td></tr>\n",
       "\t<tr><td> 2</td><td>0.11497553</td><td>526W_d0</td><td>d0</td><td>526W</td><td>old  </td><td>0.2000996</td><td>0.57459148</td><td>Core memroy B cell</td></tr>\n",
       "\t<tr><td> 3</td><td>0.63501842</td><td>536G_d0</td><td>d0</td><td>536G</td><td>old  </td><td>0.3880103</td><td>1.63660216</td><td>Core memroy B cell</td></tr>\n",
       "\t<tr><td> 4</td><td>0.56974114</td><td>541M_d0</td><td>d0</td><td>541M</td><td>old  </td><td>0.5688947</td><td>1.00148784</td><td>Core memroy B cell</td></tr>\n",
       "\t<tr><td> 5</td><td>0.23940581</td><td>543P_d0</td><td>d0</td><td>543P</td><td>old  </td><td>0.3176161</td><td>0.75375847</td><td>Core memroy B cell</td></tr>\n",
       "\t<tr><td> 6</td><td>0.12987752</td><td>544Q_d0</td><td>d0</td><td>544Q</td><td>old  </td><td>0.2228264</td><td>0.58286419</td><td>Core memroy B cell</td></tr>\n",
       "\t<tr><td> 7</td><td>0.66339147</td><td>545R_d0</td><td>d0</td><td>545R</td><td>old  </td><td>0.3349369</td><td>1.98064637</td><td>Core memroy B cell</td></tr>\n",
       "\t<tr><td> 8</td><td>0.27013731</td><td>559G_d0</td><td>d0</td><td>559G</td><td>young</td><td>1.0006030</td><td>0.26997452</td><td>Core memroy B cell</td></tr>\n",
       "\t<tr><td> 9</td><td>0.58457266</td><td>562K_d0</td><td>d0</td><td>562K</td><td>young</td><td>0.6237279</td><td>0.93722392</td><td>Core memroy B cell</td></tr>\n",
       "\t<tr><td>10</td><td>0.45313238</td><td>568R_d0</td><td>d0</td><td>568R</td><td>young</td><td>0.2106981</td><td>2.15062434</td><td>Core memroy B cell</td></tr>\n",
       "\t<tr><td>11</td><td>0.76952364</td><td>594V_d0</td><td>d0</td><td>594V</td><td>young</td><td>1.5726045</td><td>0.48933068</td><td>Core memroy B cell</td></tr>\n",
       "\t<tr><td>12</td><td>0.04460177</td><td>602D_d0</td><td>d0</td><td>602D</td><td>young</td><td>1.6235018</td><td>0.02747257</td><td>Core memroy B cell</td></tr>\n",
       "\t<tr><td>13</td><td>0.45093514</td><td>622A_d0</td><td>d0</td><td>622A</td><td>young</td><td>0.2746757</td><td>1.64169999</td><td>Core memroy B cell</td></tr>\n",
       "\t<tr><td>14</td><td>0.10731202</td><td>627F_d0</td><td>d0</td><td>627F</td><td>young</td><td>0.6721482</td><td>0.15965530</td><td>Core memroy B cell</td></tr>\n",
       "\t<tr><td>15</td><td>0.44984043</td><td>637R_d0</td><td>d0</td><td>637R</td><td>young</td><td>2.4895093</td><td>0.18069441</td><td>Core memroy B cell</td></tr>\n",
       "\t<tr><td>17</td><td>0.40428421</td><td>660R_d0</td><td>d0</td><td>660R</td><td>old  </td><td>0.2555024</td><td>1.58231066</td><td>Core memroy B cell</td></tr>\n",
       "</tbody>\n",
       "</table>\n"
      ],
      "text/latex": [
       "A data.frame: 16 × 9\n",
       "\\begin{tabular}{lllllllll}\n",
       " X & IGHG2 & sample & days & donor & age\\_group & IGHG3 & IGHG2\\_IGHG3\\_Ratio & AIFI\\_L3\\\\\n",
       " <int> & <dbl> & <chr> & <chr> & <chr> & <fct> & <dbl> & <dbl> & <chr>\\\\\n",
       "\\hline\n",
       "\t  1 & 0.49029547 & 520P\\_d0 & d0 & 520P & old   & 0.3916156 & 1.25198152 & Core memroy B cell\\\\\n",
       "\t  2 & 0.11497553 & 526W\\_d0 & d0 & 526W & old   & 0.2000996 & 0.57459148 & Core memroy B cell\\\\\n",
       "\t  3 & 0.63501842 & 536G\\_d0 & d0 & 536G & old   & 0.3880103 & 1.63660216 & Core memroy B cell\\\\\n",
       "\t  4 & 0.56974114 & 541M\\_d0 & d0 & 541M & old   & 0.5688947 & 1.00148784 & Core memroy B cell\\\\\n",
       "\t  5 & 0.23940581 & 543P\\_d0 & d0 & 543P & old   & 0.3176161 & 0.75375847 & Core memroy B cell\\\\\n",
       "\t  6 & 0.12987752 & 544Q\\_d0 & d0 & 544Q & old   & 0.2228264 & 0.58286419 & Core memroy B cell\\\\\n",
       "\t  7 & 0.66339147 & 545R\\_d0 & d0 & 545R & old   & 0.3349369 & 1.98064637 & Core memroy B cell\\\\\n",
       "\t  8 & 0.27013731 & 559G\\_d0 & d0 & 559G & young & 1.0006030 & 0.26997452 & Core memroy B cell\\\\\n",
       "\t  9 & 0.58457266 & 562K\\_d0 & d0 & 562K & young & 0.6237279 & 0.93722392 & Core memroy B cell\\\\\n",
       "\t 10 & 0.45313238 & 568R\\_d0 & d0 & 568R & young & 0.2106981 & 2.15062434 & Core memroy B cell\\\\\n",
       "\t 11 & 0.76952364 & 594V\\_d0 & d0 & 594V & young & 1.5726045 & 0.48933068 & Core memroy B cell\\\\\n",
       "\t 12 & 0.04460177 & 602D\\_d0 & d0 & 602D & young & 1.6235018 & 0.02747257 & Core memroy B cell\\\\\n",
       "\t 13 & 0.45093514 & 622A\\_d0 & d0 & 622A & young & 0.2746757 & 1.64169999 & Core memroy B cell\\\\\n",
       "\t 14 & 0.10731202 & 627F\\_d0 & d0 & 627F & young & 0.6721482 & 0.15965530 & Core memroy B cell\\\\\n",
       "\t 15 & 0.44984043 & 637R\\_d0 & d0 & 637R & young & 2.4895093 & 0.18069441 & Core memroy B cell\\\\\n",
       "\t 17 & 0.40428421 & 660R\\_d0 & d0 & 660R & old   & 0.2555024 & 1.58231066 & Core memroy B cell\\\\\n",
       "\\end{tabular}\n"
      ],
      "text/markdown": [
       "\n",
       "A data.frame: 16 × 9\n",
       "\n",
       "| X &lt;int&gt; | IGHG2 &lt;dbl&gt; | sample &lt;chr&gt; | days &lt;chr&gt; | donor &lt;chr&gt; | age_group &lt;fct&gt; | IGHG3 &lt;dbl&gt; | IGHG2_IGHG3_Ratio &lt;dbl&gt; | AIFI_L3 &lt;chr&gt; |\n",
       "|---|---|---|---|---|---|---|---|---|\n",
       "|  1 | 0.49029547 | 520P_d0 | d0 | 520P | old   | 0.3916156 | 1.25198152 | Core memroy B cell |\n",
       "|  2 | 0.11497553 | 526W_d0 | d0 | 526W | old   | 0.2000996 | 0.57459148 | Core memroy B cell |\n",
       "|  3 | 0.63501842 | 536G_d0 | d0 | 536G | old   | 0.3880103 | 1.63660216 | Core memroy B cell |\n",
       "|  4 | 0.56974114 | 541M_d0 | d0 | 541M | old   | 0.5688947 | 1.00148784 | Core memroy B cell |\n",
       "|  5 | 0.23940581 | 543P_d0 | d0 | 543P | old   | 0.3176161 | 0.75375847 | Core memroy B cell |\n",
       "|  6 | 0.12987752 | 544Q_d0 | d0 | 544Q | old   | 0.2228264 | 0.58286419 | Core memroy B cell |\n",
       "|  7 | 0.66339147 | 545R_d0 | d0 | 545R | old   | 0.3349369 | 1.98064637 | Core memroy B cell |\n",
       "|  8 | 0.27013731 | 559G_d0 | d0 | 559G | young | 1.0006030 | 0.26997452 | Core memroy B cell |\n",
       "|  9 | 0.58457266 | 562K_d0 | d0 | 562K | young | 0.6237279 | 0.93722392 | Core memroy B cell |\n",
       "| 10 | 0.45313238 | 568R_d0 | d0 | 568R | young | 0.2106981 | 2.15062434 | Core memroy B cell |\n",
       "| 11 | 0.76952364 | 594V_d0 | d0 | 594V | young | 1.5726045 | 0.48933068 | Core memroy B cell |\n",
       "| 12 | 0.04460177 | 602D_d0 | d0 | 602D | young | 1.6235018 | 0.02747257 | Core memroy B cell |\n",
       "| 13 | 0.45093514 | 622A_d0 | d0 | 622A | young | 0.2746757 | 1.64169999 | Core memroy B cell |\n",
       "| 14 | 0.10731202 | 627F_d0 | d0 | 627F | young | 0.6721482 | 0.15965530 | Core memroy B cell |\n",
       "| 15 | 0.44984043 | 637R_d0 | d0 | 637R | young | 2.4895093 | 0.18069441 | Core memroy B cell |\n",
       "| 17 | 0.40428421 | 660R_d0 | d0 | 660R | old   | 0.2555024 | 1.58231066 | Core memroy B cell |\n",
       "\n"
      ],
      "text/plain": [
       "   X  IGHG2      sample  days donor age_group IGHG3     IGHG2_IGHG3_Ratio\n",
       "1   1 0.49029547 520P_d0 d0   520P  old       0.3916156 1.25198152       \n",
       "2   2 0.11497553 526W_d0 d0   526W  old       0.2000996 0.57459148       \n",
       "3   3 0.63501842 536G_d0 d0   536G  old       0.3880103 1.63660216       \n",
       "4   4 0.56974114 541M_d0 d0   541M  old       0.5688947 1.00148784       \n",
       "5   5 0.23940581 543P_d0 d0   543P  old       0.3176161 0.75375847       \n",
       "6   6 0.12987752 544Q_d0 d0   544Q  old       0.2228264 0.58286419       \n",
       "7   7 0.66339147 545R_d0 d0   545R  old       0.3349369 1.98064637       \n",
       "8   8 0.27013731 559G_d0 d0   559G  young     1.0006030 0.26997452       \n",
       "9   9 0.58457266 562K_d0 d0   562K  young     0.6237279 0.93722392       \n",
       "10 10 0.45313238 568R_d0 d0   568R  young     0.2106981 2.15062434       \n",
       "11 11 0.76952364 594V_d0 d0   594V  young     1.5726045 0.48933068       \n",
       "12 12 0.04460177 602D_d0 d0   602D  young     1.6235018 0.02747257       \n",
       "13 13 0.45093514 622A_d0 d0   622A  young     0.2746757 1.64169999       \n",
       "14 14 0.10731202 627F_d0 d0   627F  young     0.6721482 0.15965530       \n",
       "15 15 0.44984043 637R_d0 d0   637R  young     2.4895093 0.18069441       \n",
       "16 17 0.40428421 660R_d0 d0   660R  old       0.2555024 1.58231066       \n",
       "   AIFI_L3           \n",
       "1  Core memroy B cell\n",
       "2  Core memroy B cell\n",
       "3  Core memroy B cell\n",
       "4  Core memroy B cell\n",
       "5  Core memroy B cell\n",
       "6  Core memroy B cell\n",
       "7  Core memroy B cell\n",
       "8  Core memroy B cell\n",
       "9  Core memroy B cell\n",
       "10 Core memroy B cell\n",
       "11 Core memroy B cell\n",
       "12 Core memroy B cell\n",
       "13 Core memroy B cell\n",
       "14 Core memroy B cell\n",
       "15 Core memroy B cell\n",
       "16 Core memroy B cell"
      ]
     },
     "metadata": {},
     "output_type": "display_data"
    }
   ],
   "source": [
    "df"
   ]
  },
  {
   "cell_type": "code",
   "execution_count": 4,
   "id": "485e22ba-fce6-4cbf-a825-fae0d4e91ef1",
   "metadata": {},
   "outputs": [
    {
     "data": {
      "text/plain": [
       "\n",
       "young   old \n",
       "    8     8 "
      ]
     },
     "metadata": {},
     "output_type": "display_data"
    }
   ],
   "source": [
    "table(df$age_group)"
   ]
  },
  {
   "cell_type": "code",
   "execution_count": 9,
   "id": "9c8c6306-461d-456c-8c98-02b7f677573a",
   "metadata": {},
   "outputs": [
    {
     "data": {
      "image/png": "[encoded data removed]",
      "text/plain": [
       "plot without title"
      ]
     },
     "metadata": {
      "image/png": {
       "height": 106.2992,
       "width": 70.8661
      }
     },
     "output_type": "display_data"
    }
   ],
   "source": [
    "options(repr.plot.width = 30/25.4, repr.plot.height = 45/25.4)\n",
    "\n",
    "p<-ggplot(df, aes(x=`age_group`, y=IGHG2_IGHG3_Ratio, fill=`age_group`)) +\n",
    "    geom_boxplot(outlier.shape = NA,lwd=0.3) +\n",
    "geom_point(position = position_jitter(width = 0.2),color=\"black\", size=0.8,stroke=0) +\n",
    "theme_classic(base_size=6)+  \n",
    "stat_compare_means(aes(label = paste0(\"p = \", after_stat(p.format))),\n",
    "    size=2,\n",
    "    label.x=1.25,  \n",
    "    vjust = -2)+theme(strip.background = element_rect(linewidth = 0))+\n",
    "    scale_fill_manual(values = c(\"old\" = '#bf812d', \"young\" = '#35978f'))+\n",
    "    scale_y_continuous(limits = c(NA, NA), \n",
    "                       expand = expansion(mult = c(0.1, 0.15)))+\n",
    "theme(legend.position=\"none\")+\n",
    "xlab('')+\n",
    "ylab('IGHG2/IGHG3 Exp Raito')+\n",
    "facet_wrap(~AIFI_L3,  scale='free_y') \n",
    "\n",
    "g <- ggplot_gtable(ggplot_build(p))\n",
    "\n",
    "strips <- which(grepl('strip-', g$layout$name))\n",
    "\n",
    "pal <- color_vector['CM CD4 T cell']\n",
    "text_color <- sapply(color_vector['CM CD4 T cell'], is_dark_color)\n",
    "\n",
    "for (i in seq_along(strips)) {\n",
    "  k <- which(grepl('rect', g$grobs[[strips[i]]]$grobs[[1]]$childrenOrder))\n",
    "  l <- which(grepl('titleGrob', g$grobs[[strips[i]]]$grobs[[1]]$childrenOrder))\n",
    "  g$grobs[[strips[i]]]$grobs[[1]]$children[[k]]$gp$fill <-  adjustcolor(pal[i], alpha.f = 0.8)\n",
    "  g$grobs[[strips[i]]]$grobs[[1]]$children[[l]]$children[[1]]$gp$col <- text_color[i]\n",
    "}\n",
    "\n",
    "plot(g)\n",
    "\n",
    "ggsave('FigureJ.pdf',g,width = 30/25.4,height = 45/25.4)"
   ]
  },
  {
   "cell_type": "code",
   "execution_count": null,
   "id": "702177fc-eaf5-4e9d-99f5-ac5e4c6b1953",
   "metadata": {},
   "outputs": [],
   "source": []
  },
  {
   "cell_type": "code",
   "execution_count": null,
   "id": "486f7570-78d5-46d5-8b6f-b986619e2902",
   "metadata": {},
   "outputs": [],
   "source": []
  }
 ],
 "metadata": {
  "kernelspec": {
   "display_name": "R_BRI_Figures",
   "language": "R",
   "name": "r_bri_figures"
  },
  "language_info": {
   "codemirror_mode": "r",
   "file_extension": ".r",
   "mimetype": "text/x-r-source",
   "name": "R",
   "pygments_lexer": "r",
   "version": "4.3.2"
  }
 },
 "nbformat": 4,
 "nbformat_minor": 5
}
