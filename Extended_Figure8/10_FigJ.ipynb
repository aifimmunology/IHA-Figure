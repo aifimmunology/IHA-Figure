{
 "cells": [
  {
   "cell_type": "code",
   "execution_count": 17,
   "id": "a92b1d6e-1e23-40de-a9b9-62462ac3a6cb",
   "metadata": {},
   "outputs": [
    {
     "name": "stderr",
     "output_type": "stream",
     "text": [
      "Warning message:\n",
      "“package ‘patchwork’ was built under R version 4.3.3”\n"
     ]
    }
   ],
   "source": [
    "suppressPackageStartupMessages(library(plyr))\n",
    "suppressPackageStartupMessages(library(dplyr))\n",
    "suppressPackageStartupMessages(library(tidyr))\n",
    "suppressPackageStartupMessages(library(tibble))\n",
    "suppressPackageStartupMessages(library(patchwork))\n",
    "\n",
    "library(ggplot2)\n",
    "library(ggpubr)\n",
    "is_dark_color <- function(hex) {\n",
    "  rgb <- col2rgb(hex)\n",
    "  \n",
    "  luminance <- 0.299 * rgb[1,] + 0.587 * rgb[2,] + 0.114 * rgb[3,]\n",
    "  if(luminance < 128){\n",
    "  return('white')\n",
    "  }else{return('black')}\n",
    "}\n",
    "\n",
    "color_annotation <- read.csv('../Color_hex_codes/Cell_Type_Color_Annotation_and_Order.csv')\n",
    "color_vector <- setNames(color_annotation$color, color_annotation$label)"
   ]
  },
  {
   "cell_type": "code",
   "execution_count": 7,
   "id": "ffb5f538-ef60-4bf9-be59-7d9d000744bc",
   "metadata": {},
   "outputs": [],
   "source": [
    "df<-read.csv(\"07_Flow_CD40LG_MFI/CD40L MFI on 24hr CD4 populations.xlsx - 24hr CD4 Populations.csv\")"
   ]
  },
  {
   "cell_type": "code",
   "execution_count": 8,
   "id": "3d756022-f38a-4235-87a2-745c005cfa67",
   "metadata": {},
   "outputs": [],
   "source": [
    "colnames(df)[1]<-\"DonorID\""
   ]
  },
  {
   "cell_type": "code",
   "execution_count": 9,
   "id": "f6373561-885f-424d-9008-2c19b25598a7",
   "metadata": {},
   "outputs": [],
   "source": [
    "df<-df %>% mutate(`Age Group`=case_when(startsWith(DonorID,\"BR1\") ~\"Young\" , TRUE ~\"Older\"))\n",
    "df$`Age Group`<-factor(df$`Age Group`,levels=c(\"Young\",\"Older\"))"
   ]
  },
  {
   "cell_type": "code",
   "execution_count": 10,
   "id": "d41960ff-2b22-470d-b232-f9ccf33e36a6",
   "metadata": {},
   "outputs": [
    {
     "data": {
      "text/plain": [
       "\n",
       "Young Older \n",
       "   16    16 "
      ]
     },
     "metadata": {},
     "output_type": "display_data"
    }
   ],
   "source": [
    "table(df$`Age Group`)"
   ]
  },
  {
   "cell_type": "code",
   "execution_count": 13,
   "id": "bd268e38-9ca9-4826-a897-b5bb7c101d9b",
   "metadata": {},
   "outputs": [
    {
     "data": {
      "image/png": "[encoded data removed]",
      "text/plain": [
       "plot without title"
      ]
     },
     "metadata": {
      "image/png": {
       "height": 106.2992,
       "width": 70.8661
      }
     },
     "output_type": "display_data"
    }
   ],
   "source": [
    "options(repr.plot.width = 30/25.4, repr.plot.height = 45/25.4)\n",
    "\n",
    "p1<-ggplot(df, aes(x=`Age Group`, y=`CD27.CD4.EM.CD40L.MFI`, fill=`Age Group`)) +\n",
    "    geom_boxplot(outlier.shape = NA,lwd=0.3) +\n",
    "geom_point(position = position_jitter(width = 0.2),color=\"black\", size=0.8,stroke=0) +\n",
    "theme_classic(base_size=6)+  \n",
    "stat_compare_means(aes(label = paste0(\"p = \", after_stat(p.format))),\n",
    "    size=2,\n",
    "    label.x=1.25,  \n",
    "    vjust = -1)+theme(strip.background = element_rect(linewidth = 0))+\n",
    "    scale_fill_manual(values = c(\"Older\" = '#bf812d', \"Young\" = '#35978f'))+\n",
    "    scale_y_continuous(limits = c(NA, NA), \n",
    "                       expand = expansion(mult = c(0.1, 0.15)))+\n",
    "theme(legend.position=\"none\")+\n",
    "xlab('')+\n",
    "ylab('CD40LG MFI')+ggtitle(\"CD27+CD4 EM\")\n",
    "p1"
   ]
  },
  {
   "cell_type": "code",
   "execution_count": 14,
   "id": "488b3820-06ac-482b-b92c-c2edecd80fda",
   "metadata": {},
   "outputs": [
    {
     "data": {
      "image/png": "[encoded data removed]",
      "text/plain": [
       "plot without title"
      ]
     },
     "metadata": {
      "image/png": {
       "height": 106.2992,
       "width": 70.8661
      }
     },
     "output_type": "display_data"
    }
   ],
   "source": [
    "options(repr.plot.width = 30/25.4, repr.plot.height = 45/25.4)\n",
    "\n",
    "p2<-ggplot(df, aes(x=`Age Group`, y=`CD27..CD4.EM.CD40L.MFI`, fill=`Age Group`)) +\n",
    "    geom_boxplot(outlier.shape = NA,lwd=0.3) +\n",
    "geom_point(position = position_jitter(width = 0.2),color=\"black\", size=0.8,stroke=0) +\n",
    "theme_classic(base_size=6)+  \n",
    "stat_compare_means(aes(label = paste0(\"p = \", after_stat(p.format))),\n",
    "    size=2,\n",
    "    label.x=1.25,  \n",
    "    vjust = -1)+theme(strip.background = element_rect(linewidth = 0))+\n",
    "    scale_fill_manual(values = c(\"Older\" = '#bf812d', \"Young\" = '#35978f'))+\n",
    "    scale_y_continuous(limits = c(NA, NA), \n",
    "                       expand = expansion(mult = c(0.1, 0.15)))+\n",
    "theme(legend.position=\"none\")+\n",
    "xlab('')+\n",
    "ylab('CD40LG MFI')+ggtitle(\"CD27-CD4 EM\")\n",
    "p2"
   ]
  },
  {
   "cell_type": "code",
   "execution_count": 15,
   "id": "94cddd5d-5cd4-47c6-8f0d-48ab9fa51ed4",
   "metadata": {},
   "outputs": [
    {
     "data": {
      "image/png": "[encoded data removed]",
      "text/plain": [
       "plot without title"
      ]
     },
     "metadata": {
      "image/png": {
       "height": 106.2992,
       "width": 70.8661
      }
     },
     "output_type": "display_data"
    }
   ],
   "source": [
    "options(repr.plot.width = 30/25.4, repr.plot.height = 45/25.4)\n",
    "\n",
    "p3<-ggplot(df, aes(x=`Age Group`, y=`CD4.CM`, fill=`Age Group`)) +\n",
    "    geom_boxplot(outlier.shape = NA,lwd=0.3) +\n",
    "geom_point(position = position_jitter(width = 0.2),color=\"black\", size=0.8,stroke=0) +\n",
    "theme_classic(base_size=6)+  \n",
    "stat_compare_means(aes(label = paste0(\"p = \", after_stat(p.format))),\n",
    "    size=2,\n",
    "    label.x=1.25,  \n",
    "    vjust = -1)+theme(strip.background = element_rect(linewidth = 0))+\n",
    "    scale_fill_manual(values = c(\"Older\" = '#bf812d', \"Young\" = '#35978f'))+\n",
    "    scale_y_continuous(limits = c(NA, NA), \n",
    "                       expand = expansion(mult = c(0.1, 0.15)))+\n",
    "theme(legend.position=\"none\")+\n",
    "xlab('')+\n",
    "ylab('CD40LG MFI')+ggtitle(\"CD4 CM\")\n",
    "p3"
   ]
  },
  {
   "cell_type": "code",
   "execution_count": 21,
   "id": "95bc2ef2-5ba4-4fb2-bf72-83cf71e0dd91",
   "metadata": {},
   "outputs": [],
   "source": [
    "options(repr.plot.width = 80/25.4, repr.plot.height = 45/25.4)\n",
    "\n",
    "p<-p1+p2+p3\n",
    "ggsave(\"FigureJ.pdf\",\n",
    "       p,\n",
    "       width=80/25.4,\n",
    "       height = 45/25.4)\n"
   ]
  },
  {
   "cell_type": "code",
   "execution_count": null,
   "id": "84a2f041-c04b-4104-8fe0-1ff638c090aa",
   "metadata": {},
   "outputs": [],
   "source": []
  }
 ],
 "metadata": {
  "kernelspec": {
   "display_name": "R_BRI_Figures",
   "language": "R",
   "name": "r_bri_figures"
  },
  "language_info": {
   "codemirror_mode": "r",
   "file_extension": ".r",
   "mimetype": "text/x-r-source",
   "name": "R",
   "pygments_lexer": "r",
   "version": "4.3.2"
  }
 },
 "nbformat": 4,
 "nbformat_minor": 5
}
