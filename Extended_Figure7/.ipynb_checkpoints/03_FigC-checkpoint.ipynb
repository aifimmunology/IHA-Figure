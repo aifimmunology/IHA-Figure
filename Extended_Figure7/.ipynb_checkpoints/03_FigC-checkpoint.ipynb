{
 "cells": [
  {
   "cell_type": "code",
   "execution_count": 2,
   "id": "351a75fd-61de-4a87-9dae-2f79bcd65867",
   "metadata": {},
   "outputs": [],
   "source": [
    "suppressPackageStartupMessages(library(dplyr))\n",
    "suppressPackageStartupMessages(library(tidyr))\n",
    "suppressPackageStartupMessages(library(tibble))\n",
    "suppressPackageStartupMessages(library(ggplot2))\n",
    "suppressPackageStartupMessages(library(stringr))\n",
    "library(parallel)\n",
    "library(reshape2)\n",
    "library(ggalluvial)\n",
    "\n",
    "library(rstatix)\n",
    "library(ggpubr)\n",
    "library(ggplot2) \n",
    "source('/home//jupyter/BRI_Figures_Final_V2//helper_function/helper_function_IHA.r')"
   ]
  },
  {
   "cell_type": "markdown",
   "id": "6876b658-4aad-4c03-bc9f-d16496887ed0",
   "metadata": {},
   "source": [
    "# Read Interaction Scores"
   ]
  },
  {
   "cell_type": "code",
   "execution_count": 4,
   "id": "fbc27bb8-c000-43c5-b30c-52101b6efeff",
   "metadata": {},
   "outputs": [],
   "source": [
    "meta_data=read.csv(\"/home/jupyter/BRI_Figures_Final_V2/Dataset/scRNA_meta_data-2024-05-09.csv\")\n",
    "df<-read.csv('03_CellPhoneDB/combined_statistical_analysis_significant_means.csv',check.names = FALSE)"
   ]
  },
  {
   "cell_type": "code",
   "execution_count": 5,
   "id": "598dbc62-ee5a-468f-85d9-cb9f26bb27fe",
   "metadata": {},
   "outputs": [],
   "source": [
    "df<-pivot_longer(\n",
    "  df,\n",
    "  cols = matches(\"\\\\|\"), # Select columns with pattern \"|\"\n",
    "  names_to = c(\"variable\"),\n",
    "  values_to = \"mean_interaction\"\n",
    ")"
   ]
  },
  {
   "cell_type": "code",
   "execution_count": 6,
   "id": "5d824101-c812-4c66-9355-8731d9b422b0",
   "metadata": {},
   "outputs": [],
   "source": [
    "df<-df[!is.na(df$mean_interaction),]"
   ]
  },
  {
   "cell_type": "code",
   "execution_count": 7,
   "id": "a89b2199-e02e-47a7-b5cf-c06407634783",
   "metadata": {},
   "outputs": [
    {
     "name": "stderr",
     "output_type": "stream",
     "text": [
      "\u001b[1m\u001b[22mJoining with `by = join_by(pbmc_sample_id)`\n"
     ]
    }
   ],
   "source": [
    "df<-left_join(df,meta_data) %>% \n",
    "filter(sample.visitName %in% c(\"Flu Year 1 Day 0\"))"
   ]
  },
  {
   "cell_type": "code",
   "execution_count": 8,
   "id": "98061e3b-079d-4ea8-8757-ee0af5a8af19",
   "metadata": {},
   "outputs": [],
   "source": [
    "selected_pairs<-c('CD40LG_CD40','PTPRC_CD22','SEMA4D_CD72','CD86_CD28','APP_CD74')\n",
    "df<- df %>% filter(variable%in% c('CM CD4 T cell|Core memory B cell',\n",
    "                                                                                         'Core memory B cell|CM CD4 T cell'))%>% \n",
    "filter(interacting_pair %in% selected_pairs)"
   ]
  },
  {
   "cell_type": "code",
   "execution_count": 9,
   "id": "92a064af-093f-4e4b-883a-f5a24ca24af8",
   "metadata": {},
   "outputs": [
    {
     "data": {
      "text/html": [
       "<style>\n",
       ".list-inline {list-style: none; margin:0; padding: 0}\n",
       ".list-inline>li {display: inline-block}\n",
       ".list-inline>li:not(:last-child)::after {content: \"\\00b7\"; padding: 0 .5ex}\n",
       "</style>\n",
       "<ol class=list-inline><li>'id_cp_interaction'</li><li>'interacting_pair'</li><li>'partner_a'</li><li>'partner_b'</li><li>'gene_a'</li><li>'gene_b'</li><li>'secreted'</li><li>'receptor_a'</li><li>'receptor_b'</li><li>'annotation_strategy'</li><li>'is_integrin'</li><li>'directionality'</li><li>'classification'</li><li>'rank'</li><li>'pbmc_sample_id'</li><li>'variable'</li><li>'mean_interaction'</li><li>'X'</li><li>'Unnamed..0'</li><li>'lastUpdated'</li><li>'sample.id'</li><li>'sample.bridgingControl'</li><li>'sample.sampleKitGuid'</li><li>'sample.visitName'</li><li>'sample.visitDetails'</li><li>'sample.drawDate'</li><li>'sample.daysSinceFirstVisit'</li><li>'file.id'</li><li>'file.name'</li><li>'file.batchID'</li><li>'file.panel'</li><li>'file.pool'</li><li>'file.fileType'</li><li>'file.majorVersion'</li><li>'subject.id'</li><li>'subject.biologicalSex'</li><li>'subject.birthYear'</li><li>'subject.ethnicity'</li><li>'subject.partnerCode'</li><li>'subject.race'</li><li>'subject.subjectGuid'</li><li>'cohort.cohortGuid'</li><li>'sample.diseaseStatesRecordedAtVisit'</li><li>'subject.covidVaxDose1.daysSinceFirstVisit'</li><li>'subject.covidVaxDose2.daysSinceFirstVisit'</li><li>'Covid_exclusion'</li><li>'subjectGuid'</li><li>'CMV'</li></ol>\n"
      ],
      "text/latex": [
       "\\begin{enumerate*}\n",
       "\\item 'id\\_cp\\_interaction'\n",
       "\\item 'interacting\\_pair'\n",
       "\\item 'partner\\_a'\n",
       "\\item 'partner\\_b'\n",
       "\\item 'gene\\_a'\n",
       "\\item 'gene\\_b'\n",
       "\\item 'secreted'\n",
       "\\item 'receptor\\_a'\n",
       "\\item 'receptor\\_b'\n",
       "\\item 'annotation\\_strategy'\n",
       "\\item 'is\\_integrin'\n",
       "\\item 'directionality'\n",
       "\\item 'classification'\n",
       "\\item 'rank'\n",
       "\\item 'pbmc\\_sample\\_id'\n",
       "\\item 'variable'\n",
       "\\item 'mean\\_interaction'\n",
       "\\item 'X'\n",
       "\\item 'Unnamed..0'\n",
       "\\item 'lastUpdated'\n",
       "\\item 'sample.id'\n",
       "\\item 'sample.bridgingControl'\n",
       "\\item 'sample.sampleKitGuid'\n",
       "\\item 'sample.visitName'\n",
       "\\item 'sample.visitDetails'\n",
       "\\item 'sample.drawDate'\n",
       "\\item 'sample.daysSinceFirstVisit'\n",
       "\\item 'file.id'\n",
       "\\item 'file.name'\n",
       "\\item 'file.batchID'\n",
       "\\item 'file.panel'\n",
       "\\item 'file.pool'\n",
       "\\item 'file.fileType'\n",
       "\\item 'file.majorVersion'\n",
       "\\item 'subject.id'\n",
       "\\item 'subject.biologicalSex'\n",
       "\\item 'subject.birthYear'\n",
       "\\item 'subject.ethnicity'\n",
       "\\item 'subject.partnerCode'\n",
       "\\item 'subject.race'\n",
       "\\item 'subject.subjectGuid'\n",
       "\\item 'cohort.cohortGuid'\n",
       "\\item 'sample.diseaseStatesRecordedAtVisit'\n",
       "\\item 'subject.covidVaxDose1.daysSinceFirstVisit'\n",
       "\\item 'subject.covidVaxDose2.daysSinceFirstVisit'\n",
       "\\item 'Covid\\_exclusion'\n",
       "\\item 'subjectGuid'\n",
       "\\item 'CMV'\n",
       "\\end{enumerate*}\n"
      ],
      "text/markdown": [
       "1. 'id_cp_interaction'\n",
       "2. 'interacting_pair'\n",
       "3. 'partner_a'\n",
       "4. 'partner_b'\n",
       "5. 'gene_a'\n",
       "6. 'gene_b'\n",
       "7. 'secreted'\n",
       "8. 'receptor_a'\n",
       "9. 'receptor_b'\n",
       "10. 'annotation_strategy'\n",
       "11. 'is_integrin'\n",
       "12. 'directionality'\n",
       "13. 'classification'\n",
       "14. 'rank'\n",
       "15. 'pbmc_sample_id'\n",
       "16. 'variable'\n",
       "17. 'mean_interaction'\n",
       "18. 'X'\n",
       "19. 'Unnamed..0'\n",
       "20. 'lastUpdated'\n",
       "21. 'sample.id'\n",
       "22. 'sample.bridgingControl'\n",
       "23. 'sample.sampleKitGuid'\n",
       "24. 'sample.visitName'\n",
       "25. 'sample.visitDetails'\n",
       "26. 'sample.drawDate'\n",
       "27. 'sample.daysSinceFirstVisit'\n",
       "28. 'file.id'\n",
       "29. 'file.name'\n",
       "30. 'file.batchID'\n",
       "31. 'file.panel'\n",
       "32. 'file.pool'\n",
       "33. 'file.fileType'\n",
       "34. 'file.majorVersion'\n",
       "35. 'subject.id'\n",
       "36. 'subject.biologicalSex'\n",
       "37. 'subject.birthYear'\n",
       "38. 'subject.ethnicity'\n",
       "39. 'subject.partnerCode'\n",
       "40. 'subject.race'\n",
       "41. 'subject.subjectGuid'\n",
       "42. 'cohort.cohortGuid'\n",
       "43. 'sample.diseaseStatesRecordedAtVisit'\n",
       "44. 'subject.covidVaxDose1.daysSinceFirstVisit'\n",
       "45. 'subject.covidVaxDose2.daysSinceFirstVisit'\n",
       "46. 'Covid_exclusion'\n",
       "47. 'subjectGuid'\n",
       "48. 'CMV'\n",
       "\n",
       "\n"
      ],
      "text/plain": [
       " [1] \"id_cp_interaction\"                        \n",
       " [2] \"interacting_pair\"                         \n",
       " [3] \"partner_a\"                                \n",
       " [4] \"partner_b\"                                \n",
       " [5] \"gene_a\"                                   \n",
       " [6] \"gene_b\"                                   \n",
       " [7] \"secreted\"                                 \n",
       " [8] \"receptor_a\"                               \n",
       " [9] \"receptor_b\"                               \n",
       "[10] \"annotation_strategy\"                      \n",
       "[11] \"is_integrin\"                              \n",
       "[12] \"directionality\"                           \n",
       "[13] \"classification\"                           \n",
       "[14] \"rank\"                                     \n",
       "[15] \"pbmc_sample_id\"                           \n",
       "[16] \"variable\"                                 \n",
       "[17] \"mean_interaction\"                         \n",
       "[18] \"X\"                                        \n",
       "[19] \"Unnamed..0\"                               \n",
       "[20] \"lastUpdated\"                              \n",
       "[21] \"sample.id\"                                \n",
       "[22] \"sample.bridgingControl\"                   \n",
       "[23] \"sample.sampleKitGuid\"                     \n",
       "[24] \"sample.visitName\"                         \n",
       "[25] \"sample.visitDetails\"                      \n",
       "[26] \"sample.drawDate\"                          \n",
       "[27] \"sample.daysSinceFirstVisit\"               \n",
       "[28] \"file.id\"                                  \n",
       "[29] \"file.name\"                                \n",
       "[30] \"file.batchID\"                             \n",
       "[31] \"file.panel\"                               \n",
       "[32] \"file.pool\"                                \n",
       "[33] \"file.fileType\"                            \n",
       "[34] \"file.majorVersion\"                        \n",
       "[35] \"subject.id\"                               \n",
       "[36] \"subject.biologicalSex\"                    \n",
       "[37] \"subject.birthYear\"                        \n",
       "[38] \"subject.ethnicity\"                        \n",
       "[39] \"subject.partnerCode\"                      \n",
       "[40] \"subject.race\"                             \n",
       "[41] \"subject.subjectGuid\"                      \n",
       "[42] \"cohort.cohortGuid\"                        \n",
       "[43] \"sample.diseaseStatesRecordedAtVisit\"      \n",
       "[44] \"subject.covidVaxDose1.daysSinceFirstVisit\"\n",
       "[45] \"subject.covidVaxDose2.daysSinceFirstVisit\"\n",
       "[46] \"Covid_exclusion\"                          \n",
       "[47] \"subjectGuid\"                              \n",
       "[48] \"CMV\"                                      "
      ]
     },
     "metadata": {},
     "output_type": "display_data"
    }
   ],
   "source": [
    "colnames(df)"
   ]
  },
  {
   "cell_type": "markdown",
   "id": "9510977c-786d-409a-acf0-9894e4e96ade",
   "metadata": {},
   "source": [
    "# Group Comparison"
   ]
  },
  {
   "cell_type": "code",
   "execution_count": 10,
   "id": "2b6009ae-d668-49d1-8921-0c38217d8623",
   "metadata": {},
   "outputs": [],
   "source": [
    "stat<-df %>% group_by(sample.visitName,interacting_pair) %>% wilcox_test(mean_interaction~cohort.cohortGuid)"
   ]
  },
  {
   "cell_type": "code",
   "execution_count": 11,
   "id": "7253710e-3f70-471b-b87f-921ef5eb7e95",
   "metadata": {},
   "outputs": [],
   "source": [
    "stat$p<-round(stat$p,4)"
   ]
  },
  {
   "cell_type": "code",
   "execution_count": 12,
   "id": "c0a88082-4543-4d30-847a-cad5c0ad03cb",
   "metadata": {},
   "outputs": [
    {
     "data": {
      "text/html": [
       "<table class=\"dataframe\">\n",
       "<caption>A rstatix_test: 5 × 9</caption>\n",
       "<thead>\n",
       "\t<tr><th scope=col>interacting_pair</th><th scope=col>sample.visitName</th><th scope=col>.y.</th><th scope=col>group1</th><th scope=col>group2</th><th scope=col>n1</th><th scope=col>n2</th><th scope=col>statistic</th><th scope=col>p</th></tr>\n",
       "\t<tr><th scope=col>&lt;chr&gt;</th><th scope=col>&lt;chr&gt;</th><th scope=col>&lt;chr&gt;</th><th scope=col>&lt;chr&gt;</th><th scope=col>&lt;chr&gt;</th><th scope=col>&lt;int&gt;</th><th scope=col>&lt;int&gt;</th><th scope=col>&lt;dbl&gt;</th><th scope=col>&lt;dbl&gt;</th></tr>\n",
       "</thead>\n",
       "<tbody>\n",
       "\t<tr><td>APP_CD74   </td><td>Flu Year 1 Day 0</td><td>mean_interaction</td><td>BR1</td><td>BR2</td><td>40</td><td>38</td><td>1075.0</td><td>0.0017</td></tr>\n",
       "\t<tr><td>CD40LG_CD40</td><td>Flu Year 1 Day 0</td><td>mean_interaction</td><td>BR1</td><td>BR2</td><td>47</td><td>45</td><td>1417.5</td><td>0.0050</td></tr>\n",
       "\t<tr><td>CD86_CD28  </td><td>Flu Year 1 Day 0</td><td>mean_interaction</td><td>BR1</td><td>BR2</td><td>44</td><td>43</td><td>1099.0</td><td>0.1950</td></tr>\n",
       "\t<tr><td>PTPRC_CD22 </td><td>Flu Year 1 Day 0</td><td>mean_interaction</td><td>BR1</td><td>BR2</td><td>47</td><td>45</td><td>1371.0</td><td>0.0145</td></tr>\n",
       "\t<tr><td>SEMA4D_CD72</td><td>Flu Year 1 Day 0</td><td>mean_interaction</td><td>BR1</td><td>BR2</td><td>46</td><td>41</td><td>1182.0</td><td>0.0425</td></tr>\n",
       "</tbody>\n",
       "</table>\n"
      ],
      "text/latex": [
       "A rstatix\\_test: 5 × 9\n",
       "\\begin{tabular}{lllllllll}\n",
       " interacting\\_pair & sample.visitName & .y. & group1 & group2 & n1 & n2 & statistic & p\\\\\n",
       " <chr> & <chr> & <chr> & <chr> & <chr> & <int> & <int> & <dbl> & <dbl>\\\\\n",
       "\\hline\n",
       "\t APP\\_CD74    & Flu Year 1 Day 0 & mean\\_interaction & BR1 & BR2 & 40 & 38 & 1075.0 & 0.0017\\\\\n",
       "\t CD40LG\\_CD40 & Flu Year 1 Day 0 & mean\\_interaction & BR1 & BR2 & 47 & 45 & 1417.5 & 0.0050\\\\\n",
       "\t CD86\\_CD28   & Flu Year 1 Day 0 & mean\\_interaction & BR1 & BR2 & 44 & 43 & 1099.0 & 0.1950\\\\\n",
       "\t PTPRC\\_CD22  & Flu Year 1 Day 0 & mean\\_interaction & BR1 & BR2 & 47 & 45 & 1371.0 & 0.0145\\\\\n",
       "\t SEMA4D\\_CD72 & Flu Year 1 Day 0 & mean\\_interaction & BR1 & BR2 & 46 & 41 & 1182.0 & 0.0425\\\\\n",
       "\\end{tabular}\n"
      ],
      "text/markdown": [
       "\n",
       "A rstatix_test: 5 × 9\n",
       "\n",
       "| interacting_pair &lt;chr&gt; | sample.visitName &lt;chr&gt; | .y. &lt;chr&gt; | group1 &lt;chr&gt; | group2 &lt;chr&gt; | n1 &lt;int&gt; | n2 &lt;int&gt; | statistic &lt;dbl&gt; | p &lt;dbl&gt; |\n",
       "|---|---|---|---|---|---|---|---|---|\n",
       "| APP_CD74    | Flu Year 1 Day 0 | mean_interaction | BR1 | BR2 | 40 | 38 | 1075.0 | 0.0017 |\n",
       "| CD40LG_CD40 | Flu Year 1 Day 0 | mean_interaction | BR1 | BR2 | 47 | 45 | 1417.5 | 0.0050 |\n",
       "| CD86_CD28   | Flu Year 1 Day 0 | mean_interaction | BR1 | BR2 | 44 | 43 | 1099.0 | 0.1950 |\n",
       "| PTPRC_CD22  | Flu Year 1 Day 0 | mean_interaction | BR1 | BR2 | 47 | 45 | 1371.0 | 0.0145 |\n",
       "| SEMA4D_CD72 | Flu Year 1 Day 0 | mean_interaction | BR1 | BR2 | 46 | 41 | 1182.0 | 0.0425 |\n",
       "\n"
      ],
      "text/plain": [
       "  interacting_pair sample.visitName .y.              group1 group2 n1 n2\n",
       "1 APP_CD74         Flu Year 1 Day 0 mean_interaction BR1    BR2    40 38\n",
       "2 CD40LG_CD40      Flu Year 1 Day 0 mean_interaction BR1    BR2    47 45\n",
       "3 CD86_CD28        Flu Year 1 Day 0 mean_interaction BR1    BR2    44 43\n",
       "4 PTPRC_CD22       Flu Year 1 Day 0 mean_interaction BR1    BR2    47 45\n",
       "5 SEMA4D_CD72      Flu Year 1 Day 0 mean_interaction BR1    BR2    46 41\n",
       "  statistic p     \n",
       "1 1075.0    0.0017\n",
       "2 1417.5    0.0050\n",
       "3 1099.0    0.1950\n",
       "4 1371.0    0.0145\n",
       "5 1182.0    0.0425"
      ]
     },
     "metadata": {},
     "output_type": "display_data"
    }
   ],
   "source": [
    "stat"
   ]
  },
  {
   "cell_type": "markdown",
   "id": "92a63993-4928-4128-b056-17eefbcd4bcf",
   "metadata": {},
   "source": [
    "# Plotting"
   ]
  },
  {
   "cell_type": "code",
   "execution_count": 13,
   "id": "4851ec98-44e7-40be-9a33-d65b871d9255",
   "metadata": {},
   "outputs": [
    {
     "name": "stderr",
     "output_type": "stream",
     "text": [
      "\u001b[1m\u001b[22m`summarise()` has grouped output by 'interacting_pair', 'variable',\n",
      "'sample.visitName'. You can override using the `.groups` argument.\n"
     ]
    }
   ],
   "source": [
    "df_plotting<-df  %>% group_by(interacting_pair,variable) %>% \n",
    "mutate(scaled_interaction_score=scale(mean_interaction)) %>% group_by(interacting_pair,variable,sample.visitName,cohort.cohortGuid)%>% summarise(median_interation_score=median(scaled_interaction_score))"
   ]
  },
  {
   "cell_type": "code",
   "execution_count": 14,
   "id": "7bb057f5-61ba-4990-8638-9e5574b31fac",
   "metadata": {},
   "outputs": [],
   "source": [
    "df_plotting$T_cell<-result <- sapply(strsplit(df_plotting$interacting_pair, \"_\"), `[`, 1)\n",
    "df_plotting$B_cell<-result <- sapply(strsplit(df_plotting$interacting_pair, \"_\"), `[`, 2)\n",
    "df_plotting$T_cell<-factor(df_plotting$T_cell,levels=unique(df_plotting$T_cell))\n",
    "df_plotting$B_cell<-factor(df_plotting$B_cell,levels=unique(df_plotting$B_cell))"
   ]
  },
  {
   "cell_type": "code",
   "execution_count": 16,
   "id": "ee7a6f08-5e2c-4614-a533-0c8ed5d713dc",
   "metadata": {},
   "outputs": [
    {
     "data": {
      "image/png": "[encoded data removed]",
      "text/plain": [
       "plot without title"
      ]
     },
     "metadata": {
      "image/png": {
       "height": 94.4882,
       "width": 236.2205
      }
     },
     "output_type": "display_data"
    }
   ],
   "source": [
    "options(repr.plot.width = 100/25.4, repr.plot.height =  40/25.4)\n",
    "\n",
    "p<-ggplot(data = df_plotting %>% arrange(T_cell,B_cell,median_interation_score),\n",
    "       aes(axis1 = T_cell, axis2 = B_cell)) +\n",
    "  geom_alluvium(aes(fill = median_interation_score),size=1,width=0.1,\n",
    "                alpha = 1, decreasing = FALSE, curve_type = \"sigmoid\",\n",
    "                knot.pos = 1, knot.prop = FALSE\n",
    ")+\n",
    "  scale_fill_distiller(palette = \"PuOr\")  +\n",
    "  geom_stratum(size=0.1, width = 0.5) +\n",
    "  geom_text(stat = \"stratum\",size=2 ,\n",
    "            aes(label = after_stat(stratum))) +\n",
    "  theme_void(base_size=8)+facet_wrap(~sample.visitName+\n",
    "                                     cohort.cohortGuid,\n",
    "                                     ncol=4)\n",
    "p\n",
    "ggsave(\"FigureD.pdf\",p, width=100/25.4,height = 40/25.4)"
   ]
  },
  {
   "cell_type": "code",
   "execution_count": null,
   "id": "e9eb9c47-d123-4ca4-b6e3-bdff5f44a6b8",
   "metadata": {},
   "outputs": [],
   "source": []
  }
 ],
 "metadata": {
  "kernelspec": {
   "display_name": "R 4",
   "language": "R",
   "name": "ir4"
  },
  "language_info": {
   "codemirror_mode": "r",
   "file_extension": ".r",
   "mimetype": "text/x-r-source",
   "name": "R",
   "pygments_lexer": "r",
   "version": "4.3.2"
  }
 },
 "nbformat": 4,
 "nbformat_minor": 5
}
