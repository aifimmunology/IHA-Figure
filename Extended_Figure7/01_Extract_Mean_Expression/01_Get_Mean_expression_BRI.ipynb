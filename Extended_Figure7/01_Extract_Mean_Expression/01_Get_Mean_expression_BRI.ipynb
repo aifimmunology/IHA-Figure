{
 "cells": [
  {
   "cell_type": "code",
   "execution_count": 1,
   "id": "17367ad9-5c7b-4fec-b8fb-ce4c2fc02acc",
   "metadata": {},
   "outputs": [
    {
     "name": "stderr",
     "output_type": "stream",
     "text": [
      "\n",
      "Attaching package: ‘reshape2’\n",
      "\n",
      "\n",
      "The following object is masked from ‘package:tidyr’:\n",
      "\n",
      "    smiths\n",
      "\n",
      "\n"
     ]
    }
   ],
   "source": [
    "suppressPackageStartupMessages(library(dplyr))\n",
    "suppressPackageStartupMessages(library(tidyr))\n",
    "suppressPackageStartupMessages(library(tibble))\n",
    "suppressPackageStartupMessages(library(stringr))\n",
    "library(parallel)\n",
    "library(reshape2)\n",
    "source('/home//jupyter/BRI_Figures_Final_V2/helper_function/helper_function_IHA.r')"
   ]
  },
  {
   "cell_type": "code",
   "execution_count": 2,
   "id": "ee79ef99-6d84-4f55-b4d9-dbbdbc02cf7d",
   "metadata": {},
   "outputs": [],
   "source": [
    "meta_data=read.csv(\"/home/jupyter/BRI_Figures_Final_V2/Dataset/scRNA_meta_data-2024-05-09.csv\")\n",
    "meta_data_subset<-meta_data %>% filter(Covid_exclusion=='no',\n",
    "                                       sample.visitName%in% c('Flu Year 1 Day 0'))"
   ]
  },
  {
   "cell_type": "code",
   "execution_count": 3,
   "id": "56757709-6d5c-4582-b6c2-709d51a10ecd",
   "metadata": {},
   "outputs": [],
   "source": [
    "file_list<-paste0(\"/home/jupyter/BRI_Figures_Final_V2/Dataset/scRNA/BRI/Average_LogNormalized_Expression/Average_LogNormalized_Expression_of_Celltypes_by_Sample_AIFI_L3/\", \n",
    "                  meta_data_subset$pbmc_sample_id, \".csv\")"
   ]
  },
  {
   "cell_type": "code",
   "execution_count": 4,
   "id": "723dc33b-5674-4a13-acbc-e2b850761c0e",
   "metadata": {},
   "outputs": [
    {
     "name": "stdout",
     "output_type": "stream",
     "text": [
      "[1] \"Total reading time: 11.398 seconds\"\n",
      "[1] \"The length of the list matches the length of the input path.\"\n"
     ]
    }
   ],
   "source": [
    "df_list<-read_pseudobulk_expression(file_list, mc_cores = 60)"
   ]
  },
  {
   "cell_type": "markdown",
   "id": "55812c5a-c3a6-48c8-95b8-182a8d939cb9",
   "metadata": {},
   "source": [
    "# Subset CXCR5 from CM CD4 T"
   ]
  },
  {
   "cell_type": "code",
   "execution_count": 5,
   "id": "e7c6a111-bc48-414f-a2e7-978020a4095e",
   "metadata": {},
   "outputs": [],
   "source": [
    "exp_long_format <- filter_genes_and_celltype(df_list, 'CD40LG', 'CM CD4 T cell', longformat = TRUE) "
   ]
  },
  {
   "cell_type": "code",
   "execution_count": 6,
   "id": "59670214-7070-4736-8235-c0c07402edb8",
   "metadata": {},
   "outputs": [
    {
     "name": "stderr",
     "output_type": "stream",
     "text": [
      "\u001b[1m\u001b[22mJoining with `by = join_by(pbmc_sample_id)`\n"
     ]
    }
   ],
   "source": [
    "exp_long_format<-left_join(exp_long_format,meta_data)"
   ]
  },
  {
   "cell_type": "code",
   "execution_count": 7,
   "id": "d544a5cf-9db4-4573-8450-e981315e7010",
   "metadata": {},
   "outputs": [],
   "source": [
    "write.csv(exp_long_format,'CD40LG_CM_CD4T_BRI.csv')"
   ]
  },
  {
   "cell_type": "code",
   "execution_count": null,
   "id": "3e7b9e30-a422-4d79-a72e-d5c7784bf18f",
   "metadata": {},
   "outputs": [],
   "source": []
  },
  {
   "cell_type": "markdown",
   "id": "1108e0bc-05d0-4bd2-8da7-aea80650bb79",
   "metadata": {},
   "source": [
    "# Subset CD40 from Core Mem B\n"
   ]
  },
  {
   "cell_type": "code",
   "execution_count": 10,
   "id": "b97b95b3-49d2-44fc-8ac6-b00eee0f5ad0",
   "metadata": {},
   "outputs": [],
   "source": [
    "exp_long_format <- filter_genes_and_celltype(df_list, 'CD40', 'Core memory B cell', longformat = TRUE) "
   ]
  },
  {
   "cell_type": "code",
   "execution_count": 11,
   "id": "347b5903-b4f1-47f8-beec-679dd1e8504f",
   "metadata": {},
   "outputs": [
    {
     "name": "stderr",
     "output_type": "stream",
     "text": [
      "\u001b[1m\u001b[22mJoining with `by = join_by(pbmc_sample_id)`\n"
     ]
    }
   ],
   "source": [
    "exp_long_format<-left_join(exp_long_format,meta_data)"
   ]
  },
  {
   "cell_type": "code",
   "execution_count": 12,
   "id": "5952b368-37e9-4262-82e4-bac14e393dc0",
   "metadata": {},
   "outputs": [],
   "source": [
    "write.csv(exp_long_format,'CD40_CoreB_BRI.csv')"
   ]
  },
  {
   "cell_type": "code",
   "execution_count": null,
   "id": "5211604d-292c-44e1-aaa7-63bc40e33667",
   "metadata": {},
   "outputs": [],
   "source": []
  }
 ],
 "metadata": {
  "kernelspec": {
   "display_name": "R 4",
   "language": "R",
   "name": "ir4"
  },
  "language_info": {
   "codemirror_mode": "r",
   "file_extension": ".r",
   "mimetype": "text/x-r-source",
   "name": "R",
   "pygments_lexer": "r",
   "version": "4.3.2"
  }
 },
 "nbformat": 4,
 "nbformat_minor": 5
}
