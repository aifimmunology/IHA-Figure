{
 "cells": [
  {
   "cell_type": "code",
   "execution_count": 2,
   "id": "42562d6b-422f-4780-ad94-bc7cfb0f423a",
   "metadata": {},
   "outputs": [
    {
     "name": "stderr",
     "output_type": "stream",
     "text": [
      "/home/workspace/Aux_Envir/Python_BRI_Figures/lib/python3.11/site-packages/anndata/utils.py:429: FutureWarning: Importing read_csv from `anndata` is deprecated. Import anndata.io.read_csv instead.\n",
      "  warnings.warn(msg, FutureWarning)\n",
      "/home/workspace/Aux_Envir/Python_BRI_Figures/lib/python3.11/site-packages/anndata/utils.py:429: FutureWarning: Importing read_excel from `anndata` is deprecated. Import anndata.io.read_excel instead.\n",
      "  warnings.warn(msg, FutureWarning)\n",
      "/home/workspace/Aux_Envir/Python_BRI_Figures/lib/python3.11/site-packages/anndata/utils.py:429: FutureWarning: Importing read_hdf from `anndata` is deprecated. Import anndata.io.read_hdf instead.\n",
      "  warnings.warn(msg, FutureWarning)\n",
      "/home/workspace/Aux_Envir/Python_BRI_Figures/lib/python3.11/site-packages/anndata/utils.py:429: FutureWarning: Importing read_loom from `anndata` is deprecated. Import anndata.io.read_loom instead.\n",
      "  warnings.warn(msg, FutureWarning)\n",
      "/home/workspace/Aux_Envir/Python_BRI_Figures/lib/python3.11/site-packages/anndata/utils.py:429: FutureWarning: Importing read_mtx from `anndata` is deprecated. Import anndata.io.read_mtx instead.\n",
      "  warnings.warn(msg, FutureWarning)\n",
      "/home/workspace/Aux_Envir/Python_BRI_Figures/lib/python3.11/site-packages/anndata/utils.py:429: FutureWarning: Importing read_text from `anndata` is deprecated. Import anndata.io.read_text instead.\n",
      "  warnings.warn(msg, FutureWarning)\n",
      "/home/workspace/Aux_Envir/Python_BRI_Figures/lib/python3.11/site-packages/anndata/utils.py:429: FutureWarning: Importing read_umi_tools from `anndata` is deprecated. Import anndata.io.read_umi_tools instead.\n",
      "  warnings.warn(msg, FutureWarning)\n"
     ]
    },
    {
     "name": "stdout",
     "output_type": "stream",
     "text": [
      "Current working directory: /home/workspace/IHA_Figure_Revision/Extended_Figure7\n"
     ]
    }
   ],
   "source": [
    "import pandas as pd \n",
    "import numpy as np \n",
    "import scanpy as sc\n",
    "import matplotlib.pyplot as plt\n",
    "from datetime import date\n",
    "import shutil\n",
    "from adjustText import adjust_text\n",
    "import warnings\n",
    "import anndata\n",
    "import gc\n",
    "import os\n",
    "import matplotlib as mpl\n",
    " \n",
    "warnings.filterwarnings(\"ignore\")\n",
    "sc.settings.n_jobs = 60\n",
    "sc._settings.settings._vector_friendly=True\n",
    "\n",
    "print(\"Current working directory:\", os.getcwd())\n",
    "\n",
    "colors=pd.read_csv('/home/workspace/IHA_Figure_Revision/Color_hex_codes/Cell_Type_Color_Annotation_and_Order.csv')\n",
    "color_dict=dict(zip(colors.label, colors.color))"
   ]
  },
  {
   "cell_type": "code",
   "execution_count": 3,
   "id": "990d1bbc-dec8-4e76-b4b2-470c8627ca7f",
   "metadata": {},
   "outputs": [],
   "source": [
    "def gen_mpl_labels(adata, groupby, exclude=(), ax=None, adjust_kwargs=None, text_kwargs=None, offset=(0.05, 0.05)):\n",
    "    if adjust_kwargs is None:\n",
    "        adjust_kwargs = {\n",
    "            \"arrowprops\": {\"arrowstyle\": \"->\", \"color\": 'r'}, \n",
    "            \"expand_points\": (1.2, 1.2), \n",
    "            \"force_points\": 0.5\n",
    "        }\n",
    "    if text_kwargs is None:\n",
    "        text_kwargs = {}\n",
    "\n",
    "    highest_density_points = {}\n",
    "\n",
    "    for g, g_idx in adata.obs.groupby(groupby).groups.items():\n",
    "        if g in exclude:\n",
    "            continue\n",
    "        points = adata[g_idx].obsm[\"X_umap\"]\n",
    "        hist, xedges, yedges = np.histogram2d(points[:, 0], points[:, 1], bins=[50, 50])\n",
    "        max_bin = np.unravel_index(np.argmax(hist), hist.shape)\n",
    "        highest_density_point = [\n",
    "            (xedges[max_bin[0]] + xedges[max_bin[0]+1])/2 + offset[0], \n",
    "            (yedges[max_bin[1]] + yedges[max_bin[1]+1])/2 + offset[1]\n",
    "        ]\n",
    "        highest_density_points[g] = highest_density_point\n",
    "\n",
    "    if ax is None:\n",
    "        ax = plt.gca()\n",
    "\n",
    "    texts = [\n",
    "        ax.text(x=x, y=y, s=k, **text_kwargs) for k, (x, y) in highest_density_points.items()\n",
    "    ]\n",
    "\n",
    "    adjust_text(texts, **adjust_kwargs)"
   ]
  },
  {
   "cell_type": "code",
   "execution_count": 4,
   "id": "8ee42da1-0556-42f6-a127-868a24ef3203",
   "metadata": {},
   "outputs": [],
   "source": [
    "adata=sc.read_h5ad(\"01_Burton_Dataset/adata_processed.h5ad\")"
   ]
  },
  {
   "cell_type": "code",
   "execution_count": 5,
   "id": "65613f71-cfcb-4331-afdc-b30b5202ffcd",
   "metadata": {},
   "outputs": [],
   "source": [
    "selected_celltype = [\n",
    "    'CD95 memory B cell',\n",
    "    'CD27+ effector B cell',\n",
    "    'Plasma cell',\n",
    "    'CD27- effector B cell',\n",
    "    'Core memory B cell'\n",
    "]\n",
    "\n",
    "with plt.rc_context({\n",
    "    'figure.figsize': (60/25.4, 60/25.4),\n",
    "    'figure.dpi': 500,\n",
    "    'figure.frameon': False\n",
    "}):\n",
    "    adata.obs['AIFI_L3_Highlight'] = np.where(\n",
    "        adata.obs['AIFI_L3'].isin(selected_celltype),\n",
    "        adata.obs['AIFI_L3'],\n",
    "        'other'\n",
    "    )\n",
    "    color_dict['other'] = '#a9a9a9'\n",
    "    sc.pl.umap(\n",
    "        adata,\n",
    "        color='AIFI_L3',\n",
    "        size=20,\n",
    "        show=False,\n",
    "        frameon=False,\n",
    "        legend_loc=None\n",
    "    )\n",
    "    plt.savefig(\n",
    "        \"FigureG.pdf\",\n",
    "        format=\"pdf\",\n",
    "        bbox_inches=\"tight\",\n",
    "        dpi=1000\n",
    "    )\n",
    "    plt.close()"
   ]
  },
  {
   "cell_type": "code",
   "execution_count": null,
   "id": "08cae2c6-9365-4a78-80a6-597f3c79580e",
   "metadata": {},
   "outputs": [],
   "source": []
  },
  {
   "cell_type": "code",
   "execution_count": null,
   "id": "78228e48-5a24-4ddf-a695-f8669664400b",
   "metadata": {},
   "outputs": [],
   "source": []
  },
  {
   "cell_type": "code",
   "execution_count": null,
   "id": "a47abcda-4119-496d-bf6e-426f4a3d2ef3",
   "metadata": {},
   "outputs": [],
   "source": []
  }
 ],
 "metadata": {
  "kernelspec": {
   "display_name": "Python_BRI_Figures",
   "language": "python",
   "name": "python_bri_figures"
  },
  "language_info": {
   "codemirror_mode": {
    "name": "ipython",
    "version": 3
   },
   "file_extension": ".py",
   "mimetype": "text/x-python",
   "name": "python",
   "nbconvert_exporter": "python",
   "pygments_lexer": "ipython3",
   "version": "3.11.0"
  }
 },
 "nbformat": 4,
 "nbformat_minor": 5
}
