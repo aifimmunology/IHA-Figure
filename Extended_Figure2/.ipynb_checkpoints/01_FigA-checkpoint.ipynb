{
 "cells": [
  {
   "cell_type": "code",
   "execution_count": 1,
   "id": "274f96ac-a8dd-4dd9-8bb4-c1eae9ad2268",
   "metadata": {},
   "outputs": [
    {
     "name": "stdout",
     "output_type": "stream",
     "text": [
      "Current working directory: /home/jupyter/BRI_Figures_Final_V2/Figure1\n"
     ]
    }
   ],
   "source": [
    "import pandas as pd \n",
    "import numpy as np \n",
    "import scanpy as sc\n",
    "import matplotlib.pyplot as plt\n",
    "from adjustText import adjust_text\n",
    "import concurrent.futures\n",
    "import pickle\n",
    "import warnings\n",
    "from datetime import date\n",
    "import hisepy\n",
    "import os\n",
    "import shutil\n",
    "warnings.filterwarnings(\"ignore\")\n",
    "sc.settings.n_jobs = 60\n",
    "print(\"Current working directory:\", os.getcwd())"
   ]
  },
  {
   "cell_type": "code",
   "execution_count": null,
   "id": "3bff4707-36ba-402f-9b79-b51f0f96ef5c",
   "metadata": {},
   "outputs": [],
   "source": []
  },
  {
   "cell_type": "code",
   "execution_count": 2,
   "id": "5864cd80-0ae9-421d-a5b6-23a6c31857e7",
   "metadata": {},
   "outputs": [],
   "source": [
    "age_young = '#35978F'\n",
    "age_old = '#BF812D'\n",
    "age_ped = '#205B56'\n",
    "\n",
    "sex_male = '#5AAE61'\n",
    "sex_female = '#9970AB'\n",
    "\n",
    "cmv_pos = '#d6604d'\n",
    "cmv_neg = '#4393c3'"
   ]
  },
  {
   "cell_type": "code",
   "execution_count": 3,
   "id": "a7c93d54-4fe7-4140-a8f8-9dcdf1d2c178",
   "metadata": {},
   "outputs": [],
   "source": [
    "adata=sc.read_h5ad('reference/AIFI_Ref_reprocessed.h5ad')\n"
   ]
  },
  {
   "cell_type": "code",
   "execution_count": 13,
   "id": "d9c25f30-7194-4514-b69e-026acc7426d1",
   "metadata": {},
   "outputs": [
    {
     "data": {
      "image/png": "[encoded data removed]",
      "text/plain": [
       "<Figure size 200x200 with 1 Axes>"
      ]
     },
     "metadata": {},
     "output_type": "display_data"
    }
   ],
   "source": [
    "counts = adata.obs['cohort.cohortGuid'].value_counts()\n",
    "plt.figure(figsize=(2,2))\n",
    "\n",
    "# Define the colors for the slices\n",
    "color_dict = {'BR1': age_young, 'BR2': age_old, 'UP1': age_ped}\n",
    "colors = [color_dict[i] for i in counts.index]\n",
    "\n",
    "plt.pie(counts, \n",
    "        colors=colors,\n",
    "        textprops={'color': 'white', \n",
    "                   'fontsize': 5}\n",
    "       )\n",
    "\n",
    "plt.savefig(\"FigureA-1.pdf\",\n",
    "            dpi=200, \n",
    "            bbox_inches='tight',\n",
    "            transparent=True)\n",
    "plt.show()"
   ]
  },
  {
   "cell_type": "code",
   "execution_count": 14,
   "id": "8214710c-bc7b-4514-a5b0-d5e3d61ec976",
   "metadata": {},
   "outputs": [
    {
     "data": {
      "image/png": "[encoded data removed]",
      "text/plain": [
       "<Figure size 200x200 with 1 Axes>"
      ]
     },
     "metadata": {},
     "output_type": "display_data"
    }
   ],
   "source": [
    "\n",
    "counts = adata.obs['subject.biologicalSex'].value_counts()\n",
    "plt.figure(figsize=(2,2))\n",
    "\n",
    "# Define the colors for the slices\n",
    "color_dict = {'Male': sex_male, 'Female': sex_female}\n",
    "colors = [color_dict[i] for i in counts.index]\n",
    "\n",
    "plt.pie(counts,\n",
    "        colors=colors   \n",
    "\n",
    "       )\n",
    "\n",
    "\n",
    "plt.savefig(\"FigureA-2.pdf\",  \n",
    "            dpi=200, \n",
    "            bbox_inches='tight', \n",
    "            transparent=True)\n",
    "plt.show()"
   ]
  },
  {
   "cell_type": "code",
   "execution_count": 16,
   "id": "9ae2b19f-628b-41a6-9bcc-544e2137dc26",
   "metadata": {},
   "outputs": [
    {
     "data": {
      "image/png": "[encoded data removed]",
      "text/plain": [
       "<Figure size 200x200 with 1 Axes>"
      ]
     },
     "metadata": {},
     "output_type": "display_data"
    }
   ],
   "source": [
    "counts = adata.obs['subject.cmv'].value_counts()\n",
    "plt.figure(figsize=(2,2))\n",
    "\n",
    "# Define the colors for the slices\n",
    "color_dict = {'Positive': cmv_pos, 'Negative': cmv_neg}\n",
    "colors = [color_dict[i] for i in counts.index]\n",
    "\n",
    "plt.pie(counts, \n",
    "        colors=colors\n",
    "\n",
    "       )\n",
    "\n",
    "\n",
    "plt.savefig(\"FigureA-3.pdf\",  \n",
    "            dpi=200, \n",
    "            bbox_inches='tight', \n",
    "            transparent=True)\n",
    "plt.show()"
   ]
  },
  {
   "cell_type": "code",
   "execution_count": null,
   "id": "9c950556-90f6-4701-9f6b-2a56d3a08849",
   "metadata": {},
   "outputs": [],
   "source": []
  }
 ],
 "metadata": {
  "kernelspec": {
   "display_name": "Python [conda env:root] *",
   "language": "python",
   "name": "conda-root-py"
  },
  "language_info": {
   "codemirror_mode": {
    "name": "ipython",
    "version": 3
   },
   "file_extension": ".py",
   "mimetype": "text/x-python",
   "name": "python",
   "nbconvert_exporter": "python",
   "pygments_lexer": "ipython3",
   "version": "3.10.13"
  }
 },
 "nbformat": 4,
 "nbformat_minor": 5
}
