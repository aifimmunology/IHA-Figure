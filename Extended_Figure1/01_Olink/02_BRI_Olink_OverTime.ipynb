{
 "cells": [
  {
   "cell_type": "code",
   "execution_count": 1,
   "id": "091d4e11-3b51-4b24-88db-ba894f8b833b",
   "metadata": {},
   "outputs": [
    {
     "name": "stderr",
     "output_type": "stream",
     "text": [
      "Loading required package: ggplot2\n",
      "\n",
      "\n",
      "Attaching package: ‘cowplot’\n",
      "\n",
      "\n",
      "The following object is masked from ‘package:ggpubr’:\n",
      "\n",
      "    get_legend\n",
      "\n",
      "\n",
      "── \u001b[1mAttaching core tidyverse packages\u001b[22m ──────────────────────── tidyverse 2.0.0 ──\n",
      "\u001b[32m✔\u001b[39m \u001b[34mdplyr    \u001b[39m 1.1.4     \u001b[32m✔\u001b[39m \u001b[34mreadr    \u001b[39m 2.1.5\n",
      "\u001b[32m✔\u001b[39m \u001b[34mforcats  \u001b[39m 1.0.0     \u001b[32m✔\u001b[39m \u001b[34mstringr  \u001b[39m 1.5.1\n",
      "\u001b[32m✔\u001b[39m \u001b[34mlubridate\u001b[39m 1.9.3     \u001b[32m✔\u001b[39m \u001b[34mtibble   \u001b[39m 3.2.1\n",
      "\u001b[32m✔\u001b[39m \u001b[34mpurrr    \u001b[39m 1.0.2     \u001b[32m✔\u001b[39m \u001b[34mtidyr    \u001b[39m 1.3.1\n",
      "── \u001b[1mConflicts\u001b[22m ────────────────────────────────────────── tidyverse_conflicts() ──\n",
      "\u001b[31m✖\u001b[39m \u001b[34mdplyr\u001b[39m::\u001b[32mfilter()\u001b[39m    masks \u001b[34mstats\u001b[39m::filter()\n",
      "\u001b[31m✖\u001b[39m \u001b[34mdplyr\u001b[39m::\u001b[32mlag()\u001b[39m       masks \u001b[34mstats\u001b[39m::lag()\n",
      "\u001b[31m✖\u001b[39m \u001b[34mlubridate\u001b[39m::\u001b[32mstamp()\u001b[39m masks \u001b[34mcowplot\u001b[39m::stamp()\n",
      "\u001b[36mℹ\u001b[39m Use the conflicted package (\u001b[3m\u001b[34m<http://conflicted.r-lib.org/>\u001b[39m\u001b[23m) to force all conflicts to become errors\n",
      "Loading required package: Matrix\n",
      "\n",
      "\n",
      "Attaching package: ‘Matrix’\n",
      "\n",
      "\n",
      "The following objects are masked from ‘package:tidyr’:\n",
      "\n",
      "    expand, pack, unpack\n",
      "\n",
      "\n"
     ]
    }
   ],
   "source": [
    "library(\"ggpubr\")\n",
    "library(\"cowplot\")\n",
    "library(\"tidyverse\")\n",
    "library(parallel)\n",
    "suppressPackageStartupMessages(library(ggrepel))\n",
    "library(lme4)\n",
    "suppressPackageStartupMessages(library(readxl))\n",
    "suppressPackageStartupMessages(library(dplyr))\n",
    "suppressPackageStartupMessages(library(tidyr))\n",
    "suppressPackageStartupMessages(library(tibble))\n",
    "suppressPackageStartupMessages(library(ggplot2))\n",
    "suppressPackageStartupMessages(library(parallel))\n",
    "suppressPackageStartupMessages(library(patchwork))\n",
    "suppressPackageStartupMessages(library(plyr))\n",
    "suppressPackageStartupMessages(library(stringr))"
   ]
  },
  {
   "cell_type": "code",
   "execution_count": 2,
   "id": "a2339727-a023-4b57-808e-2b20d5b61971",
   "metadata": {},
   "outputs": [],
   "source": [
    "Olink<-read.csv(\"/home//jupyter/BRI_Figures_Final_V2/Figure2/01_Olink_Analysis/Olink_BRI.csv\")"
   ]
  },
  {
   "cell_type": "code",
   "execution_count": 3,
   "id": "5e2a8fa6-f61c-4f28-b42e-7465ac6707cb",
   "metadata": {},
   "outputs": [],
   "source": [
    "meta<-read.csv('/home/jupyter/BRI_Figures_Final_V2/Dataset/scRNA_meta_data-2024-05-09.csv')\n"
   ]
  },
  {
   "cell_type": "code",
   "execution_count": 4,
   "id": "1db2e47e-e868-4f49-839c-24f81e06acab",
   "metadata": {
    "tags": []
   },
   "outputs": [],
   "source": [
    "rownames(meta)<-meta$sample.sampleKitGuid"
   ]
  },
  {
   "cell_type": "code",
   "execution_count": 5,
   "id": "0e97d3e7-ad0f-495b-bea4-30e3b839184b",
   "metadata": {
    "tags": []
   },
   "outputs": [],
   "source": [
    "Olink<-Olink %>% filter(sample.sampleKitGuid %in% unique(meta$sample.sampleKitGuid))"
   ]
  },
  {
   "cell_type": "code",
   "execution_count": 6,
   "id": "b037d49e-4ede-4723-8ca6-7234daa34c81",
   "metadata": {
    "tags": []
   },
   "outputs": [],
   "source": [
    "Olink<-left_join(Olink,meta, by = c(\"sample.sampleKitGuid\"))"
   ]
  },
  {
   "cell_type": "code",
   "execution_count": 7,
   "id": "277693b5-375e-4d70-a903-be2ac84909e8",
   "metadata": {},
   "outputs": [],
   "source": [
    "Olink_single<-Olink %>% \n",
    "filter(Covid_exclusion=='no',sample.daysSinceFirstVisit<600)%>% \n",
    "filter(!sample.visitName%in% c('Flu Year 1 Day 7','Flu Year 2 Day 7'))%>% \n",
    "filter(Assay%in% c('TNF','IL6','IL1B','IL11'))"
   ]
  },
  {
   "cell_type": "code",
   "execution_count": 8,
   "id": "b1b1d981-d85b-4e49-80f5-7662094e25e0",
   "metadata": {},
   "outputs": [],
   "source": [
    "write.csv(Olink_single,'selected_protein_OverTime.csv')"
   ]
  },
  {
   "cell_type": "code",
   "execution_count": 18,
   "id": "e7c3b2af-c226-4455-ab92-a9a20120e7d3",
   "metadata": {},
   "outputs": [],
   "source": []
  },
  {
   "cell_type": "code",
   "execution_count": null,
   "id": "77e340a2-99fd-4237-ad6c-f2b9f578caf6",
   "metadata": {},
   "outputs": [],
   "source": []
  }
 ],
 "metadata": {
  "kernelspec": {
   "display_name": "R 4",
   "language": "R",
   "name": "ir4"
  },
  "language_info": {
   "codemirror_mode": "r",
   "file_extension": ".r",
   "mimetype": "text/x-r-source",
   "name": "R",
   "pygments_lexer": "r",
   "version": "4.3.2"
  }
 },
 "nbformat": 4,
 "nbformat_minor": 5
}
