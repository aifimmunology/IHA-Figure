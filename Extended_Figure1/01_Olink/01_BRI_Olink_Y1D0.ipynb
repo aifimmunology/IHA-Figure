{
 "cells": [
  {
   "cell_type": "code",
   "execution_count": 9,
   "id": "0d8b9036-d039-4f6b-8615-5588c724bc7d",
   "metadata": {},
   "outputs": [],
   "source": [
    "library(lme4)\n",
    "suppressPackageStartupMessages(library(dplyr))\n",
    "suppressPackageStartupMessages(library(tidyr))\n",
    "suppressPackageStartupMessages(library(tibble))\n",
    "suppressPackageStartupMessages(library(plyr))\n",
    "suppressPackageStartupMessages(library(stringr))\n",
    "suppressPackageStartupMessages(library(parallel))"
   ]
  },
  {
   "cell_type": "code",
   "execution_count": 1,
   "id": "32e1af1f-1d65-47fa-b104-bb8c9f7bbcf9",
   "metadata": {},
   "outputs": [],
   "source": [
    "Olink<-read.csv(\"/home//jupyter/BRI_Figures_Final_V2/Figure2/01_Olink_Analysis/Olink_BRI.csv\")"
   ]
  },
  {
   "cell_type": "code",
   "execution_count": 4,
   "id": "e8565bd3-142f-421b-a576-1db8967e5365",
   "metadata": {},
   "outputs": [
    {
     "data": {
      "text/html": [
       "<style>\n",
       ".list-inline {list-style: none; margin:0; padding: 0}\n",
       ".list-inline>li {display: inline-block}\n",
       ".list-inline>li:not(:last-child)::after {content: \"\\00b7\"; padding: 0 .5ex}\n",
       "</style>\n",
       "<ol class=list-inline><li>84</li><li>32</li></ol>\n"
      ],
      "text/latex": [
       "\\begin{enumerate*}\n",
       "\\item 84\n",
       "\\item 32\n",
       "\\end{enumerate*}\n"
      ],
      "text/markdown": [
       "1. 84\n",
       "2. 32\n",
       "\n",
       "\n"
      ],
      "text/plain": [
       "[1] 84 32"
      ]
     },
     "metadata": {},
     "output_type": "display_data"
    }
   ],
   "source": [
    "meta<-read.csv('/home/jupyter/BRI_Figures_Final_V2/Dataset/scRNA_meta_data-2024-05-09.csv')\n",
    "meta_sub<-meta %>% filter(sample.visitName=='Flu Year 2 Day 0')\n",
    "dim(meta_sub)"
   ]
  },
  {
   "cell_type": "code",
   "execution_count": 5,
   "id": "ad0fecef-1abc-466d-ad68-07576d45b97a",
   "metadata": {
    "tags": []
   },
   "outputs": [],
   "source": [
    "rownames(meta)<-meta$sample.sampleKitGuid"
   ]
  },
  {
   "cell_type": "code",
   "execution_count": 6,
   "id": "de5d4547-56ce-4d98-8296-014a9e920028",
   "metadata": {
    "tags": []
   },
   "outputs": [],
   "source": [
    "Olink<-Olink %>% filter(sample.sampleKitGuid %in% unique(meta$sample.sampleKitGuid))"
   ]
  },
  {
   "cell_type": "code",
   "execution_count": 7,
   "id": "faa6809f-4da2-49ff-91bb-dc64921bfac3",
   "metadata": {
    "tags": []
   },
   "outputs": [],
   "source": [
    "Olink<-left_join(Olink,meta, by = c(\"sample.sampleKitGuid\"))"
   ]
  },
  {
   "cell_type": "code",
   "execution_count": 13,
   "id": "12a47476-2600-467d-a442-4a065ef5dbb9",
   "metadata": {},
   "outputs": [],
   "source": [
    "Olink_sub<-Olink %>%filter(sample.visitName == 'Flu Year 2 Day 0')"
   ]
  },
  {
   "cell_type": "code",
   "execution_count": null,
   "id": "83aa448d-43bb-4cb1-869f-d657c81c1f04",
   "metadata": {},
   "outputs": [],
   "source": []
  },
  {
   "cell_type": "code",
   "execution_count": 21,
   "id": "0379bc1b-84c4-4698-aa87-7d2d1b87bc42",
   "metadata": {},
   "outputs": [],
   "source": [
    "# remove these protein since there are only 6 vaild samples samples \n",
    "olink_to_remove<-as.data.frame(table(Olink_sub$Assay)) %>% filter(Freq==6) %>% select(Var1)%>% pull()"
   ]
  },
  {
   "cell_type": "code",
   "execution_count": 22,
   "id": "41ac48de-7bd3-4aac-81f2-4ce85e1344b1",
   "metadata": {},
   "outputs": [],
   "source": [
    "Olink<-Olink %>% filter(!Assay %in% olink_to_remove)"
   ]
  },
  {
   "cell_type": "code",
   "execution_count": 23,
   "id": "4922cfc9-7b35-4a41-8d66-3d7254cfda7d",
   "metadata": {
    "tags": []
   },
   "outputs": [],
   "source": [
    "res_list <- mclapply(unique(Olink$Assay), function(x) {\n",
    "  Olink_sub <- Olink %>%filter(sample.visitName == 'Flu Year 2 Day 0', Assay == x)\n",
    "  Olink_sub$NPX_bridged <- as.numeric(Olink_sub$NPX_bridged)\n",
    "  Olink_sub <- Olink_sub[!is.na(Olink_sub$NPX_bridged), ]\n",
    "  \n",
    "  res <- lm(NPX_bridged ~ cohort.cohortGuid + CMV + subject.biologicalSex, data = Olink_sub)\n",
    "  res <- as.data.frame(summary(res)$coefficients)[2:4, ]\n",
    "  res$factor <- c('Age', 'CMV', 'Sex')\n",
    "  res$Assay <- x\n",
    "\n",
    "  res$Log2FC_Age <- Olink_sub %>%\n",
    "    dplyr::group_by(Assay, cohort.cohortGuid) %>%\n",
    "    dplyr::summarise(Mean_Expression = mean(NPX_bridged, na.rm = TRUE)) %>%\n",
    "    spread(cohort.cohortGuid, Mean_Expression) %>%\n",
    "    mutate(Log2FC = log2(BR2 / BR1)) %>%\n",
    "    ungroup() %>%\n",
    "    select(Log2FC) %>%\n",
    "    pull()\n",
    "  \n",
    "  res$delta_changes_Age <- Olink_sub %>%\n",
    "    dplyr::group_by(Assay, cohort.cohortGuid) %>%\n",
    "    dplyr::summarise(Mean_Expression = mean(NPX_bridged, na.rm = TRUE)) %>%\n",
    "    spread(cohort.cohortGuid, Mean_Expression) %>%\n",
    "    mutate(diff = BR2 - BR1) %>%\n",
    "    select(diff) %>%\n",
    "    pull()\n",
    "\n",
    "  res$Log2FC_CMV <- Olink_sub %>%\n",
    "    dplyr::group_by(Assay, CMV) %>%\n",
    "    dplyr::summarise(Mean_Expression = mean(NPX_bridged, na.rm = TRUE)) %>%\n",
    "    spread(CMV, Mean_Expression) %>%\n",
    "    mutate(Log2FC = log2(Positive / Negative)) %>%\n",
    "    ungroup() %>%\n",
    "    select(Log2FC) %>%\n",
    "    pull()\n",
    "  \n",
    "  res$delta_changes_CMV <- Olink_sub %>%\n",
    "    dplyr::group_by(Assay, CMV) %>%\n",
    "    dplyr::summarise(Mean_Expression = mean(NPX_bridged, na.rm = TRUE)) %>%\n",
    "    spread(CMV, Mean_Expression) %>%\n",
    "    mutate(diff = Positive - Negative) %>%\n",
    "    select(diff) %>%\n",
    "    pull()\n",
    "\n",
    "  res$Log2FC_Sex <- Olink_sub %>%\n",
    "    dplyr::group_by(Assay, subject.biologicalSex) %>%\n",
    "    dplyr::summarise(Mean_Expression = mean(NPX_bridged, na.rm = TRUE)) %>%\n",
    "    spread(subject.biologicalSex, Mean_Expression) %>%\n",
    "    mutate(Log2FC = log2(Female / Male)) %>%\n",
    "    ungroup() %>%\n",
    "    select(Log2FC) %>%\n",
    "    pull()\n",
    "  \n",
    "  res$delta_changes_Sex <- Olink_sub %>%\n",
    "    dplyr::group_by(Assay, subject.biologicalSex) %>%\n",
    "    dplyr::summarise(Mean_Expression = mean(NPX_bridged, na.rm = TRUE)) %>%\n",
    "    spread(subject.biologicalSex, Mean_Expression) %>%\n",
    "    mutate(diff = Female - Male) %>%\n",
    "    select(diff) %>%\n",
    "    pull()\n",
    "\n",
    "  return(res)\n",
    "}, mc.cores = 60)"
   ]
  },
  {
   "cell_type": "code",
   "execution_count": 24,
   "id": "18210090-a862-4ac9-9b95-0b50e9a7ae7b",
   "metadata": {
    "tags": []
   },
   "outputs": [],
   "source": [
    "res_all<-do.call(rbind,res_list)\n",
    "res_all<-res_all %>%group_by(factor) %>% mutate(padj=p.adjust(`Pr(>|t|)`))\n",
    "write.csv(res_all,\"Olink_lm_Result.csv\")"
   ]
  },
  {
   "cell_type": "code",
   "execution_count": null,
   "id": "a5467698-7b5e-4d5b-b77c-ef889c06feb2",
   "metadata": {},
   "outputs": [],
   "source": []
  }
 ],
 "metadata": {
  "kernelspec": {
   "display_name": "R 4",
   "language": "R",
   "name": "ir4"
  },
  "language_info": {
   "codemirror_mode": "r",
   "file_extension": ".r",
   "mimetype": "text/x-r-source",
   "name": "R",
   "pygments_lexer": "r",
   "version": "4.3.2"
  }
 },
 "nbformat": 4,
 "nbformat_minor": 5
}
