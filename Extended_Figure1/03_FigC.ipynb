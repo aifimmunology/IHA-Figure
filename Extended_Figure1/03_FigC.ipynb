{
 "cells": [
  {
   "cell_type": "code",
   "execution_count": 1,
   "id": "19de71cc-6c43-4637-aa11-cc0da82da6b0",
   "metadata": {},
   "outputs": [
    {
     "name": "stderr",
     "output_type": "stream",
     "text": [
      "Warning message:\n",
      "“package ‘cowplot’ was built under R version 4.3.3”\n",
      "Warning message:\n",
      "“package ‘dplyr’ was built under R version 4.3.3”\n",
      "Warning message:\n",
      "“package ‘tidyr’ was built under R version 4.3.3”\n",
      "Warning message:\n",
      "“package ‘tibble’ was built under R version 4.3.3”\n",
      "Warning message:\n",
      "“package ‘patchwork’ was built under R version 4.3.3”\n",
      "Warning message:\n",
      "“package ‘plyr’ was built under R version 4.3.3”\n",
      "Warning message:\n",
      "“package ‘stringr’ was built under R version 4.3.3”\n"
     ]
    }
   ],
   "source": [
    "library(\"cowplot\")\n",
    "suppressPackageStartupMessages(library(ggrepel))\n",
    "suppressPackageStartupMessages(library(dplyr))\n",
    "suppressPackageStartupMessages(library(tidyr))\n",
    "suppressPackageStartupMessages(library(tibble))\n",
    "suppressPackageStartupMessages(library(ggplot2))\n",
    "suppressPackageStartupMessages(library(parallel))\n",
    "suppressPackageStartupMessages(library(patchwork))\n",
    "suppressPackageStartupMessages(library(plyr))\n",
    "suppressPackageStartupMessages(library(stringr))"
   ]
  },
  {
   "cell_type": "code",
   "execution_count": 2,
   "id": "30ba5ef7-b1ff-4559-a641-1c0b8eee3a4c",
   "metadata": {
    "scrolled": true
   },
   "outputs": [],
   "source": [
    "Y1_Res<-read.csv(\"../Figure1/01_Olink_Analysis/Olink_lm_Result.csv\")\n",
    "Y2_Res<-read.csv(\"01_Olink/Olink_lm_Result.csv\")"
   ]
  },
  {
   "cell_type": "code",
   "execution_count": 3,
   "id": "9f546f80-573c-420e-a7c3-8d7031fc4c86",
   "metadata": {},
   "outputs": [],
   "source": [
    "Y1_Res<-Y1_Res %>% filter(factor=='Age') %>% select(Assay,delta_changes_Age,padj)\n",
    "Y2_Res<-Y2_Res %>% filter(factor=='Age')%>% select(Assay,delta_changes_Age,padj)"
   ]
  },
  {
   "cell_type": "code",
   "execution_count": 4,
   "id": "b8fc8480-3319-4a34-8788-29742a3faa46",
   "metadata": {},
   "outputs": [],
   "source": [
    "df<-left_join(Y1_Res,Y2_Res,by=c('Assay'))\n",
    "colnames(df)<-c('Assay','delta_changes_Age_Y1','padj_Y1','delta_changes_Age_Y2','padj_Y2')"
   ]
  },
  {
   "cell_type": "code",
   "execution_count": null,
   "id": "475bfca9-6a48-4aff-b082-0ebe7997eb31",
   "metadata": {},
   "outputs": [],
   "source": []
  },
  {
   "cell_type": "code",
   "execution_count": 5,
   "id": "97d4e31e-3c21-440f-bbe3-63c6a656c233",
   "metadata": {},
   "outputs": [],
   "source": [
    "TOP_Proteins<-c('CXCL17','LTBP2','EDA2R','WNT9A','SCARF2',\n",
    "                'GDF15','SOST','WFDC2','ACTA2','NEFL',\n",
    "                'CTSV','RET','PROK1','PAEP')"
   ]
  },
  {
   "cell_type": "code",
   "execution_count": 9,
   "id": "6ab937f7-ad2b-4808-b06d-8dd65ad59029",
   "metadata": {},
   "outputs": [],
   "source": [
    "write.csv(df %>% select(Assay,delta_changes_Age_Y1,delta_changes_Age_Y2)%>%\n",
    "  mutate(across(where(is.character), ~ gsub(\"[\\r\\n]+\", \" \", .))) ,\n",
    "          \"/home//workspace/Source_Data/Extended_Fig1c.csv\", \n",
    "          row.names=FALSE)"
   ]
  },
  {
   "cell_type": "code",
   "execution_count": null,
   "id": "32cd2940-3a5e-4532-9b51-8878479bafe9",
   "metadata": {},
   "outputs": [],
   "source": [
    "\n",
    "options(repr.plot.width = 60/25.4, repr.plot.height =60/25.4)\n",
    "\n",
    "correlation_test <- cor.test(df$delta_changes_Age_Y1, df$delta_changes_Age_Y2,method='spearman')\n",
    "correlation <- correlation_test$estimate\n",
    "p_value <- correlation_test$p.value\n",
    "\n",
    "\n",
    "p<-ggplot(df, aes(x=delta_changes_Age_Y1, y=delta_changes_Age_Y2)) + \n",
    "  geom_point(size=0.5,stroke=0)+\n",
    "  geom_smooth(method = 'lm', color = \"black\", se=FALSE,linewidth = 0.5) +\n",
    "  annotate(\"text\",  \n",
    "           x=0.2, \n",
    "           y=2,\n",
    "           label = paste(\"r =\", round(correlation, 2), \n",
    "                         \"\\np =\",signif(p_value,3)), \n",
    "           vjust = 1.1,\n",
    "           color = \"blue\") +\n",
    "theme_bw(base_size=8)+\n",
    "  geom_text_repel(\n",
    "    data = df %>% filter(Assay%in% TOP_Proteins),\n",
    "    box.padding = 0.5,\n",
    "    force = 0.5,\n",
    "    max.overlaps = 50,\n",
    "    nudge_x = 0.15,\n",
    "    hjust = 0.1,\n",
    "    segment.size = 0.1,\n",
    "    mapping = aes(label = Assay),\n",
    "    size = 2\n",
    "  )\n",
    "p\n",
    "ggsave('FigureC.pdf',p,width = 45/25.4,height = 45/25.4)"
   ]
  },
  {
   "cell_type": "code",
   "execution_count": null,
   "id": "117069a8-9345-4054-ad63-c08075281b54",
   "metadata": {},
   "outputs": [],
   "source": []
  }
 ],
 "metadata": {
  "kernelspec": {
   "display_name": "R_BRI_Figures",
   "language": "R",
   "name": "r_bri_figures"
  },
  "language_info": {
   "codemirror_mode": "r",
   "file_extension": ".r",
   "mimetype": "text/x-r-source",
   "name": "R",
   "pygments_lexer": "r",
   "version": "4.3.2"
  }
 },
 "nbformat": 4,
 "nbformat_minor": 5
}
