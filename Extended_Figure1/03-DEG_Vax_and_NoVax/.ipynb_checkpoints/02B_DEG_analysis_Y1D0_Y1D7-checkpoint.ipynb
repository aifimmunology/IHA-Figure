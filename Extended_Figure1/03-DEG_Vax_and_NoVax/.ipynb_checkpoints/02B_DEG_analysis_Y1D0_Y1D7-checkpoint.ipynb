{
 "cells": [
  {
   "cell_type": "code",
   "execution_count": 5,
   "id": "a607278e-8546-4885-b030-be2b0e304815",
   "metadata": {
    "scrolled": true
   },
   "outputs": [
    {
     "name": "stderr",
     "output_type": "stream",
     "text": [
      "Loading required package: S4Vectors\n",
      "\n",
      "Loading required package: stats4\n",
      "\n",
      "Loading required package: BiocGenerics\n",
      "\n",
      "\n",
      "Attaching package: ‘BiocGenerics’\n",
      "\n",
      "\n",
      "The following objects are masked from ‘package:dplyr’:\n",
      "\n",
      "    combine, intersect, setdiff, union\n",
      "\n",
      "\n",
      "The following objects are masked from ‘package:stats’:\n",
      "\n",
      "    IQR, mad, sd, var, xtabs\n",
      "\n",
      "\n",
      "The following objects are masked from ‘package:base’:\n",
      "\n",
      "    anyDuplicated, aperm, append, as.data.frame, basename, cbind,\n",
      "    colnames, dirname, do.call, duplicated, eval, evalq, Filter, Find,\n",
      "    get, grep, grepl, intersect, is.unsorted, lapply, Map, mapply,\n",
      "    match, mget, order, paste, pmax, pmax.int, pmin, pmin.int,\n",
      "    Position, rank, rbind, Reduce, rownames, sapply, setdiff, sort,\n",
      "    table, tapply, union, unique, unsplit, which.max, which.min\n",
      "\n",
      "\n",
      "\n",
      "Attaching package: ‘S4Vectors’\n",
      "\n",
      "\n",
      "The following object is masked from ‘package:tidyr’:\n",
      "\n",
      "    expand\n",
      "\n",
      "\n",
      "The following objects are masked from ‘package:dplyr’:\n",
      "\n",
      "    first, rename\n",
      "\n",
      "\n",
      "The following object is masked from ‘package:utils’:\n",
      "\n",
      "    findMatches\n",
      "\n",
      "\n",
      "The following objects are masked from ‘package:base’:\n",
      "\n",
      "    expand.grid, I, unname\n",
      "\n",
      "\n",
      "Loading required package: IRanges\n",
      "\n",
      "\n",
      "Attaching package: ‘IRanges’\n",
      "\n",
      "\n",
      "The following objects are masked from ‘package:dplyr’:\n",
      "\n",
      "    collapse, desc, slice\n",
      "\n",
      "\n",
      "Loading required package: GenomicRanges\n",
      "\n",
      "Loading required package: GenomeInfoDb\n",
      "\n",
      "Loading required package: SummarizedExperiment\n",
      "\n",
      "Loading required package: MatrixGenerics\n",
      "\n",
      "Loading required package: matrixStats\n",
      "\n",
      "\n",
      "Attaching package: ‘matrixStats’\n",
      "\n",
      "\n",
      "The following object is masked from ‘package:dplyr’:\n",
      "\n",
      "    count\n",
      "\n",
      "\n",
      "\n",
      "Attaching package: ‘MatrixGenerics’\n",
      "\n",
      "\n",
      "The following objects are masked from ‘package:matrixStats’:\n",
      "\n",
      "    colAlls, colAnyNAs, colAnys, colAvgsPerRowSet, colCollapse,\n",
      "    colCounts, colCummaxs, colCummins, colCumprods, colCumsums,\n",
      "    colDiffs, colIQRDiffs, colIQRs, colLogSumExps, colMadDiffs,\n",
      "    colMads, colMaxs, colMeans2, colMedians, colMins, colOrderStats,\n",
      "    colProds, colQuantiles, colRanges, colRanks, colSdDiffs, colSds,\n",
      "    colSums2, colTabulates, colVarDiffs, colVars, colWeightedMads,\n",
      "    colWeightedMeans, colWeightedMedians, colWeightedSds,\n",
      "    colWeightedVars, rowAlls, rowAnyNAs, rowAnys, rowAvgsPerColSet,\n",
      "    rowCollapse, rowCounts, rowCummaxs, rowCummins, rowCumprods,\n",
      "    rowCumsums, rowDiffs, rowIQRDiffs, rowIQRs, rowLogSumExps,\n",
      "    rowMadDiffs, rowMads, rowMaxs, rowMeans2, rowMedians, rowMins,\n",
      "    rowOrderStats, rowProds, rowQuantiles, rowRanges, rowRanks,\n",
      "    rowSdDiffs, rowSds, rowSums2, rowTabulates, rowVarDiffs, rowVars,\n",
      "    rowWeightedMads, rowWeightedMeans, rowWeightedMedians,\n",
      "    rowWeightedSds, rowWeightedVars\n",
      "\n",
      "\n",
      "Loading required package: Biobase\n",
      "\n",
      "Welcome to Bioconductor\n",
      "\n",
      "    Vignettes contain introductory material; view with\n",
      "    'browseVignettes()'. To cite Bioconductor, see\n",
      "    'citation(\"Biobase\")', and for packages 'citation(\"pkgname\")'.\n",
      "\n",
      "\n",
      "\n",
      "Attaching package: ‘Biobase’\n",
      "\n",
      "\n",
      "The following object is masked from ‘package:MatrixGenerics’:\n",
      "\n",
      "    rowMedians\n",
      "\n",
      "\n",
      "The following objects are masked from ‘package:matrixStats’:\n",
      "\n",
      "    anyMissing, rowMedians\n",
      "\n",
      "\n"
     ]
    }
   ],
   "source": [
    "suppressPackageStartupMessages(library(dplyr))\n",
    "suppressPackageStartupMessages(library(tidyr))\n",
    "suppressPackageStartupMessages(library(tibble))\n",
    "suppressPackageStartupMessages(library(stringr))\n",
    "library(parallel)\n",
    "library(DESeq2)\n",
    "library(hise)\n",
    "source('/home//jupyter/BRI_Figures_Final_V1//helper_function/helper_function_IHA.r')"
   ]
  },
  {
   "cell_type": "markdown",
   "id": "4be5c0b9-7368-416b-8c16-0f7c22875f18",
   "metadata": {},
   "source": [
    "# Read Meta Data"
   ]
  },
  {
   "cell_type": "code",
   "execution_count": 2,
   "id": "e68d98b3-3160-4b4f-97d9-1e13c0da81ef",
   "metadata": {},
   "outputs": [],
   "source": [
    "meta_data=read.csv(\"/home/jupyter/BRI_Figures_Final_V1/Dataset/scRNA_meta_data-2024-05-09.csv\")"
   ]
  },
  {
   "cell_type": "markdown",
   "id": "4f43a8bb-2e29-4066-adbf-d4619be3acb8",
   "metadata": {},
   "source": [
    "# Perform Deseq2 on Year 1 Day 0 samples vs Year 1 Day 7 samples"
   ]
  },
  {
   "cell_type": "code",
   "execution_count": 3,
   "id": "e3dd9eb4-7405-43b0-b3fb-78e1c1f2a616",
   "metadata": {},
   "outputs": [],
   "source": [
    "filtered_gene_set<-read.csv(\"filtered_gene_Y1D0_Y1D7.csv\")"
   ]
  },
  {
   "cell_type": "code",
   "execution_count": 6,
   "id": "b81c0e7e-5360-44ab-a955-763f62507555",
   "metadata": {},
   "outputs": [
    {
     "name": "stdout",
     "output_type": "stream",
     "text": [
      "[1] \"Total reading time: 18.153 seconds\"\n",
      "[1] \"The length of the list matches the length of the input path.\"\n"
     ]
    }
   ],
   "source": [
    "meta_data_subset=meta_data %>% filter(sample.visitName %in% c(\"Flu Year 1 Day 0\",\"Flu Year 1 Day 7\"))\n",
    "\n",
    "aggregated_count_file_list<-paste0(\"/home/jupyter/BRI_Figures_Final_V1/Dataset/scRNA/BRI/Aggregated_Count/Aggregated_Raw_Expression_of_Celltypes_by_Sample_AIFI_L3/\",meta_data_subset$pbmc_sample_id,\".csv\")\n",
    "\n",
    "df_list<-read_pseudobulk_expression(aggregated_count_file_list)"
   ]
  },
  {
   "cell_type": "code",
   "execution_count": 7,
   "id": "91ac94b4-ae3f-419b-b6fa-b64b8c996bb9",
   "metadata": {},
   "outputs": [],
   "source": [
    "celltypes <- unique(unlist(lapply(df_list, names)))\n",
    "celltypes<-unique(sub(\".*:\", \"\", celltypes))"
   ]
  },
  {
   "cell_type": "code",
   "execution_count": 9,
   "id": "bd6b2461-617c-4907-8286-6154a4b93cec",
   "metadata": {},
   "outputs": [
    {
     "data": {
      "text/html": [
       "184"
      ],
      "text/latex": [
       "184"
      ],
      "text/markdown": [
       "184"
      ],
      "text/plain": [
       "[1] 184"
      ]
     },
     "metadata": {},
     "output_type": "display_data"
    }
   ],
   "source": [
    "length(celltypes)"
   ]
  },
  {
   "cell_type": "code",
   "execution_count": 10,
   "id": "60fb5fc6-ac25-4e07-bd04-586ff03a7791",
   "metadata": {
    "scrolled": true
   },
   "outputs": [
    {
     "name": "stdout",
     "output_type": "stream",
     "text": [
      "[1] \"ASDC\"\n"
     ]
    },
    {
     "name": "stderr",
     "output_type": "stream",
     "text": [
      "converting counts to integer mode\n",
      "\n",
      "Warning message in DESeqDataSet(se, design = design, ignoreRank):\n",
      "“some variables in design formula are characters, converting to factors”\n",
      "  Note: levels of factors in the design contain characters other than\n",
      "  letters, numbers, '_' and '.'. It is recommended (but not required) to use\n",
      "  only letters, numbers, and delimiters '_' or '.', as these are safe characters\n",
      "  for column names in R. [This is a message, not a warning or an error]\n",
      "\n",
      "estimating size factors\n",
      "\n",
      "  Note: levels of factors in the design contain characters other than\n",
      "  letters, numbers, '_' and '.'. It is recommended (but not required) to use\n",
      "  only letters, numbers, and delimiters '_' or '.', as these are safe characters\n",
      "  for column names in R. [This is a message, not a warning or an error]\n",
      "\n",
      "estimating dispersions\n",
      "\n",
      "gene-wise dispersion estimates\n",
      "\n"
     ]
    }
   ],
   "source": [
    "res_list<-list()\n",
    "for (celltype in celltypes){\n",
    "    \n",
    "    print(celltype)\n",
    "    celltype_list <- lapply(df_list, function(df) { df <- df[, grep(celltype, names(df), fixed = TRUE),drop=FALSE] })\n",
    "    exp_matrix<-do.call(cbind,celltype_list)\n",
    "    colnames(exp_matrix)<-sub(\":.*\", \"\", colnames(exp_matrix))\n",
    "    rownames(meta_data_subset)<-meta_data_subset$pbmc_sample_id\n",
    "    filtered_gene_set_filtered<-filtered_gene_set%>% filter(AIFI_L3==celltype)%>% select(gene) %>%pull()\n",
    "    \n",
    "    res=deseq2_analysis(exp_matrix,\n",
    "                     meta_data=meta_data_subset,\n",
    "                     filtered_gene_set=filtered_gene_set_filtered,\n",
    "                     formula= ~subject.subjectGuid+sample.visitName,\n",
    "                     comparisons=list(c(\"sample.visitName\", \"Flu Year 1 Day 7\", \"Flu Year 1 Day 0\")),\n",
    "                     celltype=celltype)\n",
    "    res_list[[celltype]]=res\n",
    "}"
   ]
  },
  {
   "cell_type": "code",
   "execution_count": null,
   "id": "c42430f2-e644-41ea-bb8e-48dcff413cec",
   "metadata": {
    "scrolled": true
   },
   "outputs": [],
   "source": [
    "res_all<-do.call(rbind,res_list)"
   ]
  },
  {
   "cell_type": "code",
   "execution_count": null,
   "id": "d1521d60-5802-426c-a247-a9bd32bf876a",
   "metadata": {},
   "outputs": [],
   "source": [
    "write.csv(res_all,\"Deseq2_Result_Y1D0_Y1D7.csv\")"
   ]
  },
  {
   "cell_type": "markdown",
   "id": "8c8504ca-2040-42c6-b5ac-980d3e2de2c6",
   "metadata": {},
   "source": [
    "# Upload Files"
   ]
  },
  {
   "cell_type": "code",
   "execution_count": 12,
   "id": "8458eccc-2de5-4951-9b9c-a7de8784340e",
   "metadata": {},
   "outputs": [],
   "source": [
    "input_uuid_meta_data=pull(read.csv(\"/home/jupyter/BRI_Figures_Final_V1/Dataset/scRNA_BRI_meta_data_uuid.csv\")['id'])\n",
    "input_uuid_h5ad=pull(read.csv(\"/home/jupyter/BRI_Figures_Final_V1/Dataset/scRNA_BRI_h5ad_uuid.csv\")['id'])\n"
   ]
  },
  {
   "cell_type": "code",
   "execution_count": 14,
   "id": "91e1afcc-4ec7-4bdd-9aa7-5677c278e215",
   "metadata": {},
   "outputs": [
    {
     "data": {
      "text/html": [
       "'Cert-Pro_IHA_Figures_Files_2024-06-11_from_-home-jupyter-BRI_Figures_Final_V1-Extended-Figure7-01-DEG-01B_DEG_analysis_ipynb'"
      ],
      "text/latex": [
       "'Cert-Pro\\_IHA\\_Figures\\_Files\\_2024-06-11\\_from\\_-home-jupyter-BRI\\_Figures\\_Final\\_V1-Extended-Figure7-01-DEG-01B\\_DEG\\_analysis\\_ipynb'"
      ],
      "text/markdown": [
       "'Cert-Pro_IHA_Figures_Files_2024-06-11_from_-home-jupyter-BRI_Figures_Final_V1-Extended-Figure7-01-DEG-01B_DEG_analysis_ipynb'"
      ],
      "text/plain": [
       "[1] \"Cert-Pro_IHA_Figures_Files_2024-06-11_from_-home-jupyter-BRI_Figures_Final_V1-Extended-Figure7-01-DEG-01B_DEG_analysis_ipynb\""
      ]
     },
     "metadata": {},
     "output_type": "display_data"
    }
   ],
   "source": [
    "study_space_uuid <- 'de025812-5e73-4b3c-9c3b-6d0eac412f2a'\n",
    "date_today <- Sys.Date()\n",
    "working_dir <- getwd()\n",
    "notebook_name <- basename(\"BRI_Figures_Final_V1/Extended-Figure7/01-DEG/01B_DEG_analysis.ipynb\")  \n",
    "\n",
    "title <- sprintf(\"Cert-Pro_IHA_Figures_Files_%s_from_%s/%s\", date_today, working_dir, notebook_name)\n",
    "title <- str_replace_all(title, c(\"/\" = \"-\", \"\\\\.\" = \"_\"))\n",
    "\n",
    "title"
   ]
  },
  {
   "cell_type": "code",
   "execution_count": 15,
   "id": "d36cf1a6-3c03-46d6-ba30-7c6281520c97",
   "metadata": {
    "scrolled": true
   },
   "outputs": [
    {
     "name": "stdout",
     "output_type": "stream",
     "text": [
      "[1] \"Cannot determine the current notebook.\"\n",
      "[1] \"1) /home/jupyter/BRI_Figures_Final_V1/Extended-Figure7/01-DEG/01B_DEG_analysis.ipynb\"\n",
      "[1] \"2) /home/jupyter/BRI_Figures_Final_V1/Extended-Figure7/01-DEG/01A_DEG_Filter_Genes.ipynb\"\n",
      "[1] \"3) /home/jupyter/IHA-Figures_Final_V1/Figure2/04_CompositeScore/02A_Aging_CompositeScore_SF4.ipynb\"\n"
     ]
    },
    {
     "name": "stdin",
     "output_type": "stream",
     "text": [
      "Please select (1-3)  1\n"
     ]
    },
    {
     "name": "stderr",
     "output_type": "stream",
     "text": [
      "You are trying to upload the following files:  /home/jupyter/BRI_Figures_Final_V1/Extended-Figure7/01-DEG/Deseq2_Result_Y2D0.csv\n",
      "\n"
     ]
    },
    {
     "name": "stdin",
     "output_type": "stream",
     "text": [
      "(y/n) y\n"
     ]
    },
    {
     "data": {
      "text/html": [
       "<dl>\n",
       "\t<dt>$files</dt>\n",
       "\t\t<dd><ol>\n",
       "\t<li>'/home/jupyter/BRI_Figures_Final_V1/Extended-Figure7/01-DEG/Deseq2_Result_Y2D0.csv'</li>\n",
       "</ol>\n",
       "</dd>\n",
       "\t<dt>$traceId</dt>\n",
       "\t\t<dd>'71c0c925-0a9a-40ad-86df-75cfbdc98263'</dd>\n",
       "</dl>\n"
      ],
      "text/latex": [
       "\\begin{description}\n",
       "\\item[\\$files] \\begin{enumerate}\n",
       "\\item '/home/jupyter/BRI\\_Figures\\_Final\\_V1/Extended-Figure7/01-DEG/Deseq2\\_Result\\_Y2D0.csv'\n",
       "\\end{enumerate}\n",
       "\n",
       "\\item[\\$traceId] '71c0c925-0a9a-40ad-86df-75cfbdc98263'\n",
       "\\end{description}\n"
      ],
      "text/markdown": [
       "$files\n",
       ":   1. '/home/jupyter/BRI_Figures_Final_V1/Extended-Figure7/01-DEG/Deseq2_Result_Y2D0.csv'\n",
       "\n",
       "\n",
       "\n",
       "$traceId\n",
       ":   '71c0c925-0a9a-40ad-86df-75cfbdc98263'\n",
       "\n",
       "\n"
      ],
      "text/plain": [
       "$files\n",
       "$files[[1]]\n",
       "[1] \"/home/jupyter/BRI_Figures_Final_V1/Extended-Figure7/01-DEG/Deseq2_Result_Y2D0.csv\"\n",
       "\n",
       "\n",
       "$traceId\n",
       "[1] \"71c0c925-0a9a-40ad-86df-75cfbdc98263\"\n"
      ]
     },
     "metadata": {},
     "output_type": "display_data"
    }
   ],
   "source": [
    "uploadFiles(\n",
    "  list('/home/jupyter/BRI_Figures_Final_V1/Extended-Figure7/01-DEG/Deseq2_Result_Y2D0.csv'),\n",
    "  studySpaceId = 'de025812-5e73-4b3c-9c3b-6d0eac412f2a',\n",
    "  title = title, fileTypes = list('csv'),destination=title,\n",
    "  inputFileIds = as.list(c(input_uuid_meta_data,input_uuid_h5ad))\n",
    ")"
   ]
  },
  {
   "cell_type": "code",
   "execution_count": null,
   "id": "652b95f7-8564-4e24-82f5-ecc947ac6891",
   "metadata": {},
   "outputs": [],
   "source": []
  }
 ],
 "metadata": {
  "kernelspec": {
   "display_name": "R 4",
   "language": "R",
   "name": "ir4"
  },
  "language_info": {
   "codemirror_mode": "r",
   "file_extension": ".r",
   "mimetype": "text/x-r-source",
   "name": "R",
   "pygments_lexer": "r",
   "version": "4.3.2"
  }
 },
 "nbformat": 4,
 "nbformat_minor": 5
}
