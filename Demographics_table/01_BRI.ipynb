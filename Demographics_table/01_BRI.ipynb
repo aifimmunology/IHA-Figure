{
 "cells": [
  {
   "cell_type": "code",
   "execution_count": 20,
   "id": "92de0757-f9c0-4b7b-8d7b-4be9a1632ad2",
   "metadata": {},
   "outputs": [
    {
     "name": "stderr",
     "output_type": "stream",
     "text": [
      "\n",
      "Attaching package: ‘dplyr’\n",
      "\n",
      "\n",
      "The following objects are masked from ‘package:stats’:\n",
      "\n",
      "    filter, lag\n",
      "\n",
      "\n",
      "The following objects are masked from ‘package:base’:\n",
      "\n",
      "    intersect, setdiff, setequal, union\n",
      "\n",
      "\n"
     ]
    }
   ],
   "source": [
    "library(gtsummary)\n",
    "library(dplyr)"
   ]
  },
  {
   "cell_type": "code",
   "execution_count": 21,
   "id": "4d8fcd1f-33b8-47cc-8ba4-34a28ff2edd3",
   "metadata": {},
   "outputs": [],
   "source": [
    "meta_data<-read.csv(\"/home//jupyter//BRI_Figures_Final_V2/Dataset/scRNA_meta_data-2024-05-09.csv\")"
   ]
  },
  {
   "cell_type": "code",
   "execution_count": 31,
   "id": "49409921-396c-4711-ad02-c98912f3ac62",
   "metadata": {},
   "outputs": [],
   "source": [
    "meta_data_selected<-meta_data %>% select(subject.subjectGuid,CMV,\n",
    "                                         cohort.cohortGuid,subject.race,\n",
    "                                         subject.biologicalSex,subject.ethnicity ) %>% unique()%>% \n",
    " dplyr::mutate(`Age Group` = case_when(\n",
    "  cohort.cohortGuid == \"BR1\" ~ \"Young\",\n",
    "  cohort.cohortGuid == \"BR2\" ~ \"Older\",\n",
    "  TRUE ~ NA_character_))%>%\n",
    "                                     select(subject.biologicalSex,CMV,`Age Group`,\n",
    "                                         subject.race,\n",
    "                                         subject.ethnicity )"
   ]
  },
  {
   "cell_type": "code",
   "execution_count": 32,
   "id": "affe2d62-2192-4cf8-b041-7b31433e8e77",
   "metadata": {},
   "outputs": [],
   "source": [
    "meta_data_selected$`Age Group`<-factor(meta_data_selected$`Age Group`,levels=c('Young',\"Older\"))"
   ]
  },
  {
   "cell_type": "code",
   "execution_count": 33,
   "id": "5e47d946-b6d4-4e52-9e77-6608acf15df0",
   "metadata": {},
   "outputs": [],
   "source": [
    "summary_table <- tbl_summary(meta_data_selected,by='Age Group')\n",
    "\n",
    "as_gt(summary_table) %>%\n",
    "  gt::gtsave(filename = \"sound_life_demographic_table.html\")"
   ]
  },
  {
   "cell_type": "code",
   "execution_count": null,
   "id": "16053917-230b-41b2-82b3-667147a8f940",
   "metadata": {},
   "outputs": [],
   "source": []
  }
 ],
 "metadata": {
  "kernelspec": {
   "display_name": "R 4",
   "language": "R",
   "name": "ir4"
  },
  "language_info": {
   "codemirror_mode": "r",
   "file_extension": ".r",
   "mimetype": "text/x-r-source",
   "name": "R",
   "pygments_lexer": "r",
   "version": "4.3.2"
  }
 },
 "nbformat": 4,
 "nbformat_minor": 5
}
