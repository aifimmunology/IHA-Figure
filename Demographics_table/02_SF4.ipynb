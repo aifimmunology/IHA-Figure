{
 "cells": [
  {
   "cell_type": "code",
   "execution_count": 14,
   "id": "92de0757-f9c0-4b7b-8d7b-4be9a1632ad2",
   "metadata": {},
   "outputs": [
    {
     "name": "stderr",
     "output_type": "stream",
     "text": [
      "\n",
      "Attaching package: ‘dplyr’\n",
      "\n",
      "\n",
      "The following objects are masked from ‘package:stats’:\n",
      "\n",
      "    filter, lag\n",
      "\n",
      "\n",
      "The following objects are masked from ‘package:base’:\n",
      "\n",
      "    intersect, setdiff, setequal, union\n",
      "\n",
      "\n"
     ]
    }
   ],
   "source": [
    "library(gtsummary)\n",
    "library(dplyr)"
   ]
  },
  {
   "cell_type": "code",
   "execution_count": 15,
   "id": "4d8fcd1f-33b8-47cc-8ba4-34a28ff2edd3",
   "metadata": {},
   "outputs": [],
   "source": [
    "meta_data<-read.csv(\"/home//jupyter//BRI_Figures_Final_V2/Dataset/SF4_meta_data-2024-05-05.csv\")"
   ]
  },
  {
   "cell_type": "code",
   "execution_count": 17,
   "id": "4e39ecab-111c-44db-8d7f-0eb27cdf2f32",
   "metadata": {},
   "outputs": [],
   "source": [
    "meta_data$CMV<-meta_data$lab.revisionHistory.dataHistory.CMV.Ab.Screen.Result..CMVRES..newValue"
   ]
  },
  {
   "cell_type": "code",
   "execution_count": 21,
   "id": "e9e28c22-0133-45d4-a5a0-b2c78c86a04b",
   "metadata": {},
   "outputs": [],
   "source": [
    "meta_data$ageAtEnrollment[meta_data$ageAtEnrollment==\"89+\"]<-\"90\"\n",
    "meta_data$Ages=as.numeric(meta_data$ageAtEnrollment)"
   ]
  },
  {
   "cell_type": "code",
   "execution_count": 35,
   "id": "49409921-396c-4711-ad02-c98912f3ac62",
   "metadata": {},
   "outputs": [],
   "source": [
    "meta_data_selected<-meta_data %>% select(subject.subjectGuid,CMV,\n",
    "                                        subject.race,Ages,\n",
    "                                         subject.biologicalSex,subject.ethnicity ) %>% unique()%>% \n",
    " dplyr::mutate(`Age Range` = case_when(\n",
    "     Ages >= 40 & Ages <= 49 ~ \"40~49\",\n",
    "     Ages >= 50 & Ages <= 59 ~ \"50~59\",\n",
    "     Ages >= 60 & Ages <= 69 ~ \"60~69\",\n",
    "     Ages >= 70 & Ages <= 79 ~ \"70~79\",\n",
    "     Ages >= 80 & Ages <= 89 ~ \"80~89\",\n",
    "      Ages == 90 ~ \"89+\",\n",
    "     TRUE ~ \"Unknown\"))%>% filter(`Age Range`!=\"Unknown\") %>% \n",
    "                                     select(subject.biologicalSex,CMV,`Age Range`,\n",
    "                                         subject.race,\n",
    "                                         subject.ethnicity )"
   ]
  },
  {
   "cell_type": "code",
   "execution_count": 39,
   "id": "5e47d946-b6d4-4e52-9e77-6608acf15df0",
   "metadata": {},
   "outputs": [],
   "source": [
    "summary_table <- tbl_summary(meta_data_selected,by='Age Range') |>add_overall()\n",
    "\n",
    "as_gt(summary_table) %>%\n",
    "  gt::gtsave(filename = \"follow_up_demographic_table.html\")"
   ]
  },
  {
   "cell_type": "code",
   "execution_count": 38,
   "id": "16053917-230b-41b2-82b3-667147a8f940",
   "metadata": {},
   "outputs": [],
   "source": []
  },
  {
   "cell_type": "code",
   "execution_count": null,
   "id": "976156bd-dc3f-4569-9cab-fc1a26bdf3e9",
   "metadata": {},
   "outputs": [],
   "source": []
  }
 ],
 "metadata": {
  "kernelspec": {
   "display_name": "R 4",
   "language": "R",
   "name": "ir4"
  },
  "language_info": {
   "codemirror_mode": "r",
   "file_extension": ".r",
   "mimetype": "text/x-r-source",
   "name": "R",
   "pygments_lexer": "r",
   "version": "4.3.2"
  }
 },
 "nbformat": 4,
 "nbformat_minor": 5
}
