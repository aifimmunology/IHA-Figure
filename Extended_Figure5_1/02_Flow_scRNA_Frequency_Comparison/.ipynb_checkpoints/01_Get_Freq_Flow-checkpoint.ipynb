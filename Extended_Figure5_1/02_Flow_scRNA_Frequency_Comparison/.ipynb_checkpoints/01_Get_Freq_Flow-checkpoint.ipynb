{
 "cells": [
  {
   "cell_type": "code",
   "execution_count": 6,
   "id": "88077f10-4662-4194-9660-ae4f3871df46",
   "metadata": {},
   "outputs": [],
   "source": [
    "require(tidyverse)\n",
    "require(ggplot2)\n",
    "require(data.table)\n",
    "require(viridis)\n",
    "require(viridis)\n",
    "require(corrplot)\n",
    "require(reshape2)\n",
    "source('Marla_function.r')"
   ]
  },
  {
   "cell_type": "code",
   "execution_count": 7,
   "id": "e762c68a-c952-4392-905b-13892dec04f7",
   "metadata": {},
   "outputs": [],
   "source": [
    "###### USER INPUTS ######\n",
    "\n",
    "images.path <- \"\"\n",
    "dat.path <- \"/home/jupyter/BRI_Figures_Final_V2/Dataset/B_cell_clustered_flow/IHA_01089_PBMC_flow_bcell_clustered_dat.csv\"\n",
    "path <- \"\"\n",
    "\n",
    "factors <- c(\"cell_type\", \"donor\", \"timepoint\", \"group\", \"isotype\", \"cluster\", \"meta\", \"non_B\")\n",
    "\n",
    "donors <- c(\"BR1025\",\"BR1031\",\"BR1032\",\"BR1047\",\"BR1050\",\"BR1057\",\n",
    "            \"BR2013\",\"BR2021\",\"BR2023\",\"BR2039\",\"BR2044\",\"BR2051\")\n",
    "\n",
    "times <- c(\"day0\", \"day7\", \"day90\")\n",
    "time.colors <- c(\"#3E5641\", \"#A84D38\", \"#DE8A68\") %>% setNames(times) \n",
    "\n",
    "groups <- c(\"BR1\", \"BR2\")\n",
    "group.colors <- c(\"#C8E8C4\", \"#34236E\") %>% setNames(groups) \n",
    "\n",
    "active.factors <- c(\"CD69_pos\", \"CXCR3_pos\")\n",
    "active.colors <- pnw_palette(\"Bay\", 2) %>% as.vector() %>% setNames(active.factors)\n",
    "\n",
    "all.cols <- c(\"CD183\", \"CD69\",\t\"Lin\", \"CD19\", \"CD45RB\", \"CD24\", \"CD20\", \"HLA_DR\",\t\"CD27\",\t\"CD10\",\t\n",
    "              \"CD21\", \"CD73\", \"CD95\", \"CD11c\", \"CD23\", \"CD32\", \"CD38\",\n",
    "              \"IgG\", \"IgA\", \"IgD\", \"IgM\")\n",
    "\n",
    "surface.markers <- c(\"CD183\", \"CD69\",\t\"Lin\", \"CD19\", \"CD45RB\",\t\"CD24\", \"CD20\",\t\"HLA_DR\",\t\"CD27\",\t\"CD10\",\t\n",
    "                     \"CD21\", \"CD73\", \"CD95\", \"CD11c\", \"CD23\", \"CD32\", \"CD38\",\n",
    "                     \"IgG\", \"IgA\", \"IgD\", \"IgM\")\n",
    "\n",
    "pal <- cal_palette(name=\"lupinus\", n=6, type=\"continuous\")\n",
    "pal2 <- cal_palette(name=\"canary\", n=6, type=\"continuous\")\n",
    "donor.colors <- c(pal, pal2) %>% setNames(donors)\n",
    "\n",
    "subsets.orig <- c(\"CD11c_Effector\", \"Early_Memory\", \"Core_Memory\", \"CD95_Memory\", \"T2MBC\",\n",
    "             \"Transitional\", \"Naive\", \n",
    "             \"Plasma\")\n",
    "subsets <- c(\"CD27_neg_Effector\", \"CD27_pos_Effector\", \"Early_Memory\", \"Core_Memory\", \"CD95_Memory\", \"T2MBC\",\n",
    "             \"Transitional\", \"Naive\", \n",
    "             \"Plasma\")\n",
    "subset.colors <- c(\"#F9B5AC\", \"#861D31\", \"#C4E2E1\", \"#338481\", \"#263FA6\", \"#02F2BE\", \"#805D93\", \"#CF7C63\", \"#323949\") %>% setNames(subsets)\n",
    "\n",
    "isotypes <- c(\"IgD\", \"IgMD\", \"IgM\", \"IgG\", \"IgA\", \"ND\", \"surface_Ig-\")\n",
    "isotype.colors <- c(\"#664A5B\", \"#C05746\", \"#4D7184\", \"#8DB979\", \"#012A36\", \"#D1D2D4\", \"#ED7D3B\") %>% setNames(isotypes)\n",
    "isotype.channels <- isotypes[c(1, 3, 4, 5)]"
   ]
  },
  {
   "cell_type": "code",
   "execution_count": 65,
   "id": "2ca0ce8e-5e42-44ce-b1bf-30d433c1bb80",
   "metadata": {},
   "outputs": [
    {
     "name": "stdout",
     "output_type": "stream",
     "text": [
      "[1] \"Setting cutoffs CXCR3+ B cells\"\n"
     ]
    },
    {
     "name": "stderr",
     "output_type": "stream",
     "text": [
      "Warning message:\n",
      "“\u001b[1m\u001b[22mRemoved 765 rows containing missing values or values outside the scale range\n",
      "(`geom_point()`).”\n",
      "Warning message:\n",
      "“\u001b[1m\u001b[22mRemoved 765 rows containing missing values or values outside the scale range\n",
      "(`geom_point()`).”\n"
     ]
    },
    {
     "name": "stdout",
     "output_type": "stream",
     "text": [
      "[1] \"Setting cutoffs CD69+ B cells\"\n"
     ]
    },
    {
     "name": "stderr",
     "output_type": "stream",
     "text": [
      "Warning message:\n",
      "“\u001b[1m\u001b[22mRemoved 5 rows containing missing values or values outside the scale range\n",
      "(`geom_point()`).”\n",
      "Warning message:\n",
      "“\u001b[1m\u001b[22mRemoved 5 rows containing missing values or values outside the scale range\n",
      "(`geom_point()`).”\n"
     ]
    },
    {
     "name": "stdout",
     "output_type": "stream",
     "text": [
      "[1] \"Setting cutoffs CD27+ B cells\"\n"
     ]
    },
    {
     "name": "stderr",
     "output_type": "stream",
     "text": [
      "Warning message:\n",
      "“\u001b[1m\u001b[22mRemoved 1 row containing missing values or values outside the scale range\n",
      "(`geom_point()`).”\n",
      "Warning message:\n",
      "“\u001b[1m\u001b[22mRemoved 1 row containing missing values or values outside the scale range\n",
      "(`geom_point()`).”\n",
      "Warning message:\n",
      "“\u001b[1m\u001b[22mRemoved 1 row containing missing values or values outside the scale range\n",
      "(`geom_point()`).”\n",
      "Warning message in grid.Call.graphics(C_points, x$x, x$y, x$pch, x$size):\n",
      "“semi-transparency is not supported on this device: reported only once per page”\n",
      "Warning message:\n",
      "“\u001b[1m\u001b[22mRemoved 1 row containing missing values or values outside the scale range\n",
      "(`geom_point()`).”\n"
     ]
    }
   ],
   "source": [
    "# upload data\n",
    "dat <- fread(dat.path) %>%\n",
    "  as.data.table() %>%\n",
    "  .[non_B==T, meta:=\"NA\"] %>% \n",
    "  .[meta==\"RBposCD27neg_Early_Memory\", meta:=\"Early_Memory\"] %>%\n",
    "  .[meta==\"RBposCD27pos_Memory\", meta:=\"Core_Memory\"] %>% \n",
    "  .[, `:=`(donor=factor(donor, levels=donors),\n",
    "           cell_type=factor(cell_type), \n",
    "           timepoint=factor(timepoint, levels=times), \n",
    "           group=factor(group, levels=groups),\n",
    "           isotype=factor(isotype, levels=isotypes), \n",
    "           meta=factor(meta, levels=subsets.orig))] %>%\n",
    "  setCutoffsMarkers() %>% \n",
    "  .[, `:=`(donor=factor(donor, levels=donors),\n",
    "           cell_type=factor(cell_type), \n",
    "           timepoint=factor(timepoint, levels=times), \n",
    "           group=factor(group, levels=groups),\n",
    "           isotype=factor(isotype, levels=isotypes), \n",
    "           meta=factor(meta, levels=subsets.orig))] %>% \n",
    "  .[meta==\"CD11c_Effector\" & CD27_pos==F, meta:=\"CD27_neg_Effector\"] %>%\n",
    "  .[meta==\"CD11c_Effector\" & CD27_pos==T, meta:=\"CD27_pos_Effector\"] %>% \n",
    "  .[, `:=`(donor=factor(donor, levels=donors),\n",
    "           cell_type=factor(cell_type), \n",
    "           timepoint=factor(timepoint, levels=times), \n",
    "           group=factor(group, levels=groups),\n",
    "           isotype=factor(isotype, levels=isotypes), \n",
    "           meta=factor(meta, levels=subsets))]\n"
   ]
  },
  {
   "cell_type": "code",
   "execution_count": 66,
   "id": "8d41c3f1-e3ee-4758-95d6-a69a2d60d327",
   "metadata": {},
   "outputs": [],
   "source": [
    "dat<-dat[is.na(meta), meta:=\"non_B\"]"
   ]
  },
  {
   "cell_type": "code",
   "execution_count": 69,
   "id": "914edac1-d1d3-4aa7-b3d4-dc63711e2ffc",
   "metadata": {},
   "outputs": [],
   "source": [
    "df_freq<-as.data.frame(table(dat$donor,dat$timepoint,dat$meta))"
   ]
  },
  {
   "cell_type": "code",
   "execution_count": 70,
   "id": "957ab1ea-1cd6-4d73-a771-31e084700372",
   "metadata": {},
   "outputs": [],
   "source": [
    "colnames(df_freq)<-c(\"donor\",\"timepoint\",'celltype',\"Counts\")"
   ]
  },
  {
   "cell_type": "code",
   "execution_count": null,
   "id": "ede23913-a7da-4336-8a88-97acdc9c2309",
   "metadata": {},
   "outputs": [],
   "source": []
  }
 ],
 "metadata": {
  "kernelspec": {
   "display_name": "R 4",
   "language": "R",
   "name": "ir4"
  },
  "language_info": {
   "codemirror_mode": "r",
   "file_extension": ".r",
   "mimetype": "text/x-r-source",
   "name": "R",
   "pygments_lexer": "r",
   "version": "4.3.2"
  }
 },
 "nbformat": 4,
 "nbformat_minor": 5
}
