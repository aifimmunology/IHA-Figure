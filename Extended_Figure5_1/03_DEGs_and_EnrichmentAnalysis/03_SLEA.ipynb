{
 "cells": [
  {
   "cell_type": "code",
   "execution_count": 1,
   "id": "2ad6fd00-c222-47ca-9dbe-34ea44fee937",
   "metadata": {},
   "outputs": [
    {
     "name": "stderr",
     "output_type": "stream",
     "text": [
      "\n",
      "Attaching package: ‘data.table’\n",
      "\n",
      "\n",
      "The following objects are masked from ‘package:dplyr’:\n",
      "\n",
      "    between, first, last\n",
      "\n",
      "\n"
     ]
    }
   ],
   "source": [
    "suppressPackageStartupMessages(library(dplyr))\n",
    "suppressPackageStartupMessages(library(tidyr))\n",
    "suppressPackageStartupMessages(library(tibble))\n",
    "suppressPackageStartupMessages(library(stringr))\n",
    "library(parallel)\n",
    "library(fgsea)\n",
    "library(data.table)\n",
    "source('/home//jupyter/BRI_Figures_Final_V2/helper_function/helper_function_IHA.r')"
   ]
  },
  {
   "cell_type": "code",
   "execution_count": 2,
   "id": "be7251b6-73f5-4409-8219-7c1e8bb09be8",
   "metadata": {},
   "outputs": [],
   "source": [
    "library(robustbase)"
   ]
  },
  {
   "cell_type": "code",
   "execution_count": 14,
   "id": "663bf0d0-7cce-4047-932d-5ee8a7aa9385",
   "metadata": {},
   "outputs": [],
   "source": [
    "# SLEA - assigning pathway scores\n",
    "doSLEA <- function(expressionSet, geneSet) {\n",
    "  # scale expression\n",
    "  exprsMat <- expressionSet\n",
    "  # extract expression of leGenes of each geneset\n",
    "  comm <- intersect(geneSet, rownames(exprsMat))\n",
    "  gsDF <- exprsMat[comm, ]\n",
    "  # calculate mean expression per sample\n",
    "  gsM <- colMeans(gsDF, na.rm = TRUE)\n",
    "  # extract random genes of size of the geneSet from full probeset and calculate mean\n",
    "  # and perform this for 'n' permutations\n",
    "  nperm <- lapply(1:1000, function(j) {\n",
    "    # set seed for every permutation\n",
    "    set.seed(j)\n",
    "    rGSDF <- exprsMat[sample.int(nrow(exprsMat),length(comm)), ]\n",
    "    rGSM <- colMeans(rGSDF)\n",
    "    return(value = rGSM)\n",
    "  })\n",
    "  permDF <- do.call(rbind, nperm)\n",
    "  zscore <- (gsM - colMeans(permDF, na.rm = TRUE)) / apply(permDF,2,sd, na.rm = TRUE)\n",
    "  sleaDF <- zscore %>% as.data.frame()\n",
    "  return(value = sleaDF)\n",
    "}"
   ]
  },
  {
   "cell_type": "code",
   "execution_count": 4,
   "id": "564d1f09-9cb2-4df0-a7a3-34b01ff286ac",
   "metadata": {},
   "outputs": [],
   "source": [
    "meta_data=read.csv(\"/home/jupyter/BRI_Figures_Final_V2/Extended-Figure4//01_Frequency_Comparison/selected_samples_with_acutal_flu_year.csv\")"
   ]
  },
  {
   "cell_type": "code",
   "execution_count": 5,
   "id": "8c91f889-e387-4ffa-9860-87fe549c140d",
   "metadata": {},
   "outputs": [
    {
     "name": "stdout",
     "output_type": "stream",
     "text": [
      "[1] \"Total reading time: 24.465 seconds\"\n",
      "[1] \"The length of the list matches the length of the input path.\"\n"
     ]
    }
   ],
   "source": [
    "file_list<-paste0(\"/home/jupyter/BRI_Figures_Final_V2/Dataset/scRNA/BRI/Average_LogNormalized_Expression/Average_LogNormalized_Expression_of_Celltypes_by_Sample_AIFI_L3/\",meta_data$pbmc_sample_id,\".csv\")\n",
    "\n",
    "df_list<-read_pseudobulk_expression(file_list)\n"
   ]
  },
  {
   "cell_type": "code",
   "execution_count": 11,
   "id": "861860de-f801-4d87-87aa-c4aeb6df7908",
   "metadata": {},
   "outputs": [],
   "source": [
    "background_gene<-read.csv('filtered_gene_Y2020-2021_Y2021-2022_D7.csv') "
   ]
  },
  {
   "cell_type": "code",
   "execution_count": 15,
   "id": "e0cca70b-3a88-4eca-8ea2-cbee8082c838",
   "metadata": {},
   "outputs": [
    {
     "name": "stderr",
     "output_type": "stream",
     "text": [
      "\u001b[1m\u001b[22mJoining with `by = join_by(pbmc_sample_id)`\n",
      "\u001b[1m\u001b[22m`summarise()` has grouped output by 'Flu_Year', 'Flu_Day'. You can override\n",
      "using the `.groups` argument.\n",
      "\u001b[1m\u001b[22mJoining with `by = join_by(pbmc_sample_id)`\n",
      "\u001b[1m\u001b[22m`summarise()` has grouped output by 'Flu_Year', 'Flu_Day'. You can override\n",
      "using the `.groups` argument.\n",
      "\u001b[1m\u001b[22mJoining with `by = join_by(pbmc_sample_id)`\n",
      "\u001b[1m\u001b[22m`summarise()` has grouped output by 'Flu_Year', 'Flu_Day'. You can override\n",
      "using the `.groups` argument.\n",
      "\u001b[1m\u001b[22mJoining with `by = join_by(pbmc_sample_id)`\n",
      "\u001b[1m\u001b[22m`summarise()` has grouped output by 'Flu_Year', 'Flu_Day'. You can override\n",
      "using the `.groups` argument.\n",
      "\u001b[1m\u001b[22mJoining with `by = join_by(pbmc_sample_id)`\n",
      "\u001b[1m\u001b[22m`summarise()` has grouped output by 'Flu_Year', 'Flu_Day'. You can override\n",
      "using the `.groups` argument.\n",
      "\u001b[1m\u001b[22mJoining with `by = join_by(pbmc_sample_id)`\n",
      "\u001b[1m\u001b[22m`summarise()` has grouped output by 'Flu_Year', 'Flu_Day'. You can override\n",
      "using the `.groups` argument.\n",
      "\u001b[1m\u001b[22mJoining with `by = join_by(pbmc_sample_id)`\n",
      "\u001b[1m\u001b[22m`summarise()` has grouped output by 'Flu_Year', 'Flu_Day'. You can override\n",
      "using the `.groups` argument.\n",
      "\u001b[1m\u001b[22mJoining with `by = join_by(pbmc_sample_id)`\n",
      "\u001b[1m\u001b[22m`summarise()` has grouped output by 'Flu_Year', 'Flu_Day'. You can override\n",
      "using the `.groups` argument.\n",
      "\u001b[1m\u001b[22mJoining with `by = join_by(pbmc_sample_id)`\n",
      "\u001b[1m\u001b[22m`summarise()` has grouped output by 'Flu_Year', 'Flu_Day'. You can override\n",
      "using the `.groups` argument.\n",
      "\u001b[1m\u001b[22mJoining with `by = join_by(pbmc_sample_id)`\n",
      "\u001b[1m\u001b[22m`summarise()` has grouped output by 'Flu_Year', 'Flu_Day'. You can override\n",
      "using the `.groups` argument.\n",
      "\u001b[1m\u001b[22mJoining with `by = join_by(pbmc_sample_id)`\n",
      "\u001b[1m\u001b[22m`summarise()` has grouped output by 'Flu_Year', 'Flu_Day'. You can override\n",
      "using the `.groups` argument.\n",
      "\u001b[1m\u001b[22mJoining with `by = join_by(pbmc_sample_id)`\n",
      "\u001b[1m\u001b[22m`summarise()` has grouped output by 'Flu_Year', 'Flu_Day'. You can override\n",
      "using the `.groups` argument.\n",
      "\u001b[1m\u001b[22mJoining with `by = join_by(pbmc_sample_id)`\n",
      "\u001b[1m\u001b[22m`summarise()` has grouped output by 'Flu_Year', 'Flu_Day'. You can override\n",
      "using the `.groups` argument.\n",
      "\u001b[1m\u001b[22mJoining with `by = join_by(pbmc_sample_id)`\n",
      "\u001b[1m\u001b[22m`summarise()` has grouped output by 'Flu_Year', 'Flu_Day'. You can override\n",
      "using the `.groups` argument.\n",
      "\u001b[1m\u001b[22mJoining with `by = join_by(pbmc_sample_id)`\n",
      "\u001b[1m\u001b[22m`summarise()` has grouped output by 'Flu_Year', 'Flu_Day'. You can override\n",
      "using the `.groups` argument.\n",
      "\u001b[1m\u001b[22mJoining with `by = join_by(pbmc_sample_id)`\n",
      "\u001b[1m\u001b[22m`summarise()` has grouped output by 'Flu_Year', 'Flu_Day'. You can override\n",
      "using the `.groups` argument.\n",
      "\u001b[1m\u001b[22mJoining with `by = join_by(pbmc_sample_id)`\n",
      "\u001b[1m\u001b[22m`summarise()` has grouped output by 'Flu_Year', 'Flu_Day'. You can override\n",
      "using the `.groups` argument.\n"
     ]
    }
   ],
   "source": [
    "combined_df <- data.frame()\n",
    "\n",
    "for (celltype_single in c('CD27+ effector B cell', 'Core memory B cell', 'Plasma cell')) {\n",
    "  \n",
    "  background_gene_sub <- background_gene %>% filter(AIFI_L3 == celltype_single)\n",
    "  \n",
    "  celltype_list <- lapply(df_list, function(df) {\n",
    "    df <- df[background_gene_sub$gene, grep(celltype_single, names(df), fixed = TRUE), drop = FALSE]\n",
    "  })\n",
    "  \n",
    "  exp_matrix <- do.call(cbind, celltype_list)\n",
    "  \n",
    "  colnames(exp_matrix) <- sub(\":.*\", \"\", colnames(exp_matrix))\n",
    "  rownames(meta_data) <- meta_data$pbmc_sample_id\n",
    "  \n",
    "  gene_set <- read.csv('gsea_result.csv') %>% filter(celltype == celltype_single) %>% arrange(NES)\n",
    "  \n",
    "  for (pathway_single in gene_set$pathway) {\n",
    "    gene_set_sub <- gene_set %>% filter(pathway == pathway_single)\n",
    "    gene_vector <- eval(parse(text = gene_set_sub$leadingEdge))\n",
    "    res <- doSLEA(exp_matrix, gene_vector)\n",
    "    colnames(res) <- \"pathway_score\"\n",
    "    res$pbmc_sample_id <- rownames(res)\n",
    "    res <- left_join(res, meta_data)\n",
    "    \n",
    "    res_summary <- res %>% group_by(Flu_Year, Flu_Day, cohort.cohortGuid) %>% \n",
    "      summarise(mean_pathway_score = mean(pathway_score))\n",
    "    res_summary$celltype <- celltype_single\n",
    "    res_summary$pathway <- pathway_single\n",
    "    \n",
    "    combined_df <- rbind(combined_df, res_summary)\n",
    "  }\n",
    "}\n"
   ]
  },
  {
   "cell_type": "code",
   "execution_count": 16,
   "id": "2d562c72-6b9d-404c-a1ec-0209d8b2aebe",
   "metadata": {},
   "outputs": [],
   "source": [
    "write.csv(combined_df,\"SLEA_3_Bcells.csv\")"
   ]
  },
  {
   "cell_type": "code",
   "execution_count": null,
   "id": "0dad23df-200b-4d9e-86da-76919e7b20dd",
   "metadata": {},
   "outputs": [],
   "source": []
  },
  {
   "cell_type": "code",
   "execution_count": null,
   "id": "5e7ca31e-790b-40f0-a3ed-968e8d65a45b",
   "metadata": {},
   "outputs": [],
   "source": []
  }
 ],
 "metadata": {
  "kernelspec": {
   "display_name": "R 4",
   "language": "R",
   "name": "ir4"
  },
  "language_info": {
   "codemirror_mode": "r",
   "file_extension": ".r",
   "mimetype": "text/x-r-source",
   "name": "R",
   "pygments_lexer": "r",
   "version": "4.3.2"
  }
 },
 "nbformat": 4,
 "nbformat_minor": 5
}
