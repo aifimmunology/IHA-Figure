{
 "cells": [
  {
   "cell_type": "code",
   "execution_count": 1,
   "id": "791edffe-a235-40dc-9c19-a87fb56ae276",
   "metadata": {},
   "outputs": [
    {
     "name": "stderr",
     "output_type": "stream",
     "text": [
      "\n",
      "Attaching package: ‘data.table’\n",
      "\n",
      "\n",
      "The following objects are masked from ‘package:dplyr’:\n",
      "\n",
      "    between, first, last\n",
      "\n",
      "\n"
     ]
    }
   ],
   "source": [
    "suppressPackageStartupMessages(library(dplyr))\n",
    "suppressPackageStartupMessages(library(tidyr))\n",
    "suppressPackageStartupMessages(library(tibble))\n",
    "suppressPackageStartupMessages(library(stringr))\n",
    "library(parallel)\n",
    "library(fgsea)\n",
    "library(data.table)\n",
    "source('/home//jupyter/BRI_Figures_Final_V2/helper_function/helper_function_IHA.r')"
   ]
  },
  {
   "cell_type": "code",
   "execution_count": 2,
   "id": "fa56c925-1bcd-4df8-8bd0-e68c4162f4ec",
   "metadata": {},
   "outputs": [],
   "source": [
    "meta_data=read.csv(\"/home/jupyter/BRI_Figures_Final_V2/Figure5/01_Frequency_Comparison/selected_samples_with_acutal_flu_year.csv\")"
   ]
  },
  {
   "cell_type": "code",
   "execution_count": 3,
   "id": "da9b2cb5-f077-4390-920c-050ab98d9273",
   "metadata": {},
   "outputs": [
    {
     "name": "stdout",
     "output_type": "stream",
     "text": [
      "[1] \"Total reading time: 32.927 seconds\"\n",
      "[1] \"The length of the list matches the length of the input path.\"\n"
     ]
    }
   ],
   "source": [
    "file_list<-paste0(\"/home/jupyter/BRI_Figures_Final_V2/Dataset/scRNA/BRI/Average_LogNormalized_Expression/Average_LogNormalized_Expression_of_Celltypes_by_Sample_AIFI_L3/\",meta_data$pbmc_sample_id,\".csv\")\n",
    "\n",
    "df_list<-read_pseudobulk_expression(file_list)"
   ]
  },
  {
   "cell_type": "code",
   "execution_count": 4,
   "id": "13775be6-86df-47ef-8d15-537d77f1636e",
   "metadata": {},
   "outputs": [],
   "source": [
    "genes_of_interest <- c(\"IGHM\", \"IGHD\", \"IGHG1\", \"IGHG2\", \"IGHG3\", \"IGHG4\", \"CD19\", \"TBX21\", \"ZEB2\", \"MS4A1\", \"ITGAX\", \"XBP1\", \"DAPP1\", \"FCRL5\", \"BATF\")\n",
    "\n"
   ]
  },
  {
   "cell_type": "code",
   "execution_count": 5,
   "id": "18d72039-111b-46ac-8abb-e54b9f6977c4",
   "metadata": {},
   "outputs": [
    {
     "data": {
      "text/html": [
       "15"
      ],
      "text/latex": [
       "15"
      ],
      "text/markdown": [
       "15"
      ],
      "text/plain": [
       "[1] 15"
      ]
     },
     "metadata": {},
     "output_type": "display_data"
    }
   ],
   "source": [
    "length(genes_of_interest)"
   ]
  },
  {
   "cell_type": "code",
   "execution_count": 6,
   "id": "8e6fba38-aef6-49b7-bdc7-542f34108838",
   "metadata": {},
   "outputs": [],
   "source": [
    "  \n",
    "celltype_list <- lapply(df_list, function(df) { df <- df[genes_of_interest, grep('Core memory B cell', names(df), fixed = TRUE),drop=FALSE] })\n"
   ]
  },
  {
   "cell_type": "code",
   "execution_count": 7,
   "id": "ce61c081-a44c-4efd-829c-c70b128b4585",
   "metadata": {},
   "outputs": [],
   "source": [
    "exp_matrix<-do.call(cbind,celltype_list)\n",
    "\n",
    "colnames(exp_matrix)<-sub(\":.*\", \"\", colnames(exp_matrix))\n",
    "rownames(meta_data)<-meta_data$pbmc_sample_id"
   ]
  },
  {
   "cell_type": "code",
   "execution_count": 8,
   "id": "fbe95b14-e765-49d5-9781-5a3b72810f24",
   "metadata": {},
   "outputs": [],
   "source": [
    "exp_matrix<-exp_matrix[meta_data$pbmc_sample_id]"
   ]
  },
  {
   "cell_type": "code",
   "execution_count": 9,
   "id": "c8ff4e13-a437-4ba8-9da8-fca51c8a11ca",
   "metadata": {},
   "outputs": [],
   "source": [
    "rownames(exp_matrix)<-paste0(\"Gene_\",rownames(exp_matrix))"
   ]
  },
  {
   "cell_type": "code",
   "execution_count": 10,
   "id": "0d069658-d352-466b-9a21-54a5c6a37cc6",
   "metadata": {},
   "outputs": [],
   "source": [
    "df<-cbind(meta_data,t(exp_matrix))"
   ]
  },
  {
   "cell_type": "code",
   "execution_count": 11,
   "id": "558beaef-ec31-40f9-8a19-dc43f2d00869",
   "metadata": {},
   "outputs": [
    {
     "name": "stderr",
     "output_type": "stream",
     "text": [
      "\u001b[1m\u001b[22m`summarise()` has grouped output by 'Flu_Year', 'Flu_Day'. You can override\n",
      "using the `.groups` argument.\n"
     ]
    }
   ],
   "source": [
    "\n",
    "averaged_df <- df %>%\n",
    "  group_by(Flu_Year, Flu_Day, cohort.cohortGuid) %>%\n",
    "  summarise(across(starts_with(\"Gene\"), mean))"
   ]
  },
  {
   "cell_type": "code",
   "execution_count": 12,
   "id": "22a7213d-3afb-4731-90c8-05afb6db28bc",
   "metadata": {},
   "outputs": [],
   "source": [
    "averaged_df<-averaged_df %>% arrange(cohort.cohortGuid,Flu_Year,Flu_Day)"
   ]
  },
  {
   "cell_type": "code",
   "execution_count": 13,
   "id": "f79a488d-1421-469e-b229-848a6b50c1ac",
   "metadata": {},
   "outputs": [],
   "source": [
    "write.csv(averaged_df,\"selected_gene_CoreB.csv\")\n"
   ]
  },
  {
   "cell_type": "code",
   "execution_count": null,
   "id": "00ebb478-a85b-4898-82e5-5a3c4f91f8aa",
   "metadata": {},
   "outputs": [],
   "source": []
  }
 ],
 "metadata": {
  "kernelspec": {
   "display_name": "R 4",
   "language": "R",
   "name": "ir4"
  },
  "language_info": {
   "codemirror_mode": "r",
   "file_extension": ".r",
   "mimetype": "text/x-r-source",
   "name": "R",
   "pygments_lexer": "r",
   "version": "4.3.2"
  }
 },
 "nbformat": 4,
 "nbformat_minor": 5
}
