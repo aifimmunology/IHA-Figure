{
 "cells": [
  {
   "cell_type": "code",
   "execution_count": 18,
   "id": "2eb508a3-0e00-4488-89aa-41b100513a94",
   "metadata": {},
   "outputs": [
    {
     "name": "stderr",
     "output_type": "stream",
     "text": [
      "\n",
      "Attaching package: ‘rstatix’\n",
      "\n",
      "\n",
      "The following object is masked from ‘package:stats’:\n",
      "\n",
      "    filter\n",
      "\n",
      "\n"
     ]
    }
   ],
   "source": [
    "suppressPackageStartupMessages(library(dplyr))\n",
    "suppressPackageStartupMessages(library(tidyr))\n",
    "suppressPackageStartupMessages(library(tibble))\n",
    "suppressPackageStartupMessages(library(stringr))\n",
    "library(parallel)\n",
    "library(rstatix)\n",
    "library(data.table)\n",
    "source('/home//jupyter/BRI_Figures_Final_V2/helper_function/helper_function_IHA.r')"
   ]
  },
  {
   "cell_type": "code",
   "execution_count": 6,
   "id": "78840c57-d0f1-45fd-9ba9-657fc38c8112",
   "metadata": {},
   "outputs": [],
   "source": [
    "meta_data=read.csv(\"/home/jupyter/BRI_Figures_Final_V2/Figure5/01_Frequency_Comparison/selected_samples_with_acutal_flu_year.csv\")"
   ]
  },
  {
   "cell_type": "code",
   "execution_count": 7,
   "id": "0df14723-6b75-4f2f-9e0e-39d535909b07",
   "metadata": {},
   "outputs": [
    {
     "name": "stdout",
     "output_type": "stream",
     "text": [
      "[1] \"Total reading time: 32.976 seconds\"\n",
      "[1] \"The length of the list matches the length of the input path.\"\n"
     ]
    }
   ],
   "source": [
    "file_list<-paste0(\"/home/jupyter/BRI_Figures_Final_V2/Dataset/scRNA/BRI/Average_LogNormalized_Expression/Average_LogNormalized_Expression_of_Celltypes_by_Sample_AIFI_L3/\",meta_data$pbmc_sample_id,\".csv\")\n",
    "\n",
    "df_list<-read_pseudobulk_expression(file_list)"
   ]
  },
  {
   "cell_type": "code",
   "execution_count": 8,
   "id": "d2639283-5ff1-48d5-b687-140940b00feb",
   "metadata": {},
   "outputs": [],
   "source": [
    "genes_of_interest <- c( \"IGHG1\", \"IGHG2\",\"IGHG3\", \"IGHG4\",\"IGHM\",\"IGHD\")\n",
    "\n"
   ]
  },
  {
   "cell_type": "code",
   "execution_count": 9,
   "id": "1d7a8f6d-5ae2-4cd1-b908-466d415bba4a",
   "metadata": {},
   "outputs": [
    {
     "data": {
      "text/html": [
       "6"
      ],
      "text/latex": [
       "6"
      ],
      "text/markdown": [
       "6"
      ],
      "text/plain": [
       "[1] 6"
      ]
     },
     "metadata": {},
     "output_type": "display_data"
    }
   ],
   "source": [
    "length(genes_of_interest)"
   ]
  },
  {
   "cell_type": "code",
   "execution_count": 10,
   "id": "6e559932-20e7-4370-b41e-0eccf6e777a0",
   "metadata": {},
   "outputs": [],
   "source": [
    "  \n",
    "celltype_list <- lapply(df_list, function(df) { df <- df[genes_of_interest, grep('Core memory B cell', names(df), fixed = TRUE),drop=FALSE] })\n"
   ]
  },
  {
   "cell_type": "code",
   "execution_count": 11,
   "id": "8020e4e3-4023-4bf8-b972-111fe8984b37",
   "metadata": {},
   "outputs": [],
   "source": [
    "exp_matrix<-do.call(cbind,celltype_list)\n",
    "\n",
    "colnames(exp_matrix)<-sub(\":.*\", \"\", colnames(exp_matrix))\n",
    "rownames(meta_data)<-meta_data$pbmc_sample_id"
   ]
  },
  {
   "cell_type": "code",
   "execution_count": 12,
   "id": "1573e52e-17be-4248-a595-109813965a1c",
   "metadata": {},
   "outputs": [],
   "source": [
    "meta_data<-meta_data %>% filter(Flu_Year=='2020-2021',Flu_Day=='Day 7')"
   ]
  },
  {
   "cell_type": "code",
   "execution_count": 13,
   "id": "5a0376e0-f300-4f50-b098-d775b2e090dc",
   "metadata": {},
   "outputs": [],
   "source": [
    "exp_matrix<-exp_matrix[meta_data$pbmc_sample_id]"
   ]
  },
  {
   "cell_type": "code",
   "execution_count": 14,
   "id": "c26466ff-2b27-45bd-ac71-c6a8d226ea8f",
   "metadata": {},
   "outputs": [
    {
     "name": "stderr",
     "output_type": "stream",
     "text": [
      "Warning message:\n",
      "“The melt generic in data.table has been passed a data.frame and will attempt to redirect to the relevant reshape2 method; please note that reshape2 is superseded and is no longer actively developed, and this redirection is now deprecated. To continue using melt methods from reshape2 while both libraries are attached, e.g. melt.list, you can prepend the namespace, i.e. reshape2::melt(exp_matrix). In the next version, this warning will become an error.”\n"
     ]
    }
   ],
   "source": [
    "    exp_matrix$RowNames <- rownames(exp_matrix)\n",
    "    long_format <- melt(exp_matrix, id.vars = \"RowNames\")\n",
    "    colnames(long_format) <- c('Gene', 'pbmc_sample_id', 'Mean_Expression')\n"
   ]
  },
  {
   "cell_type": "code",
   "execution_count": 15,
   "id": "f1a07ff3-ba38-42ff-9fc9-09b24d49c47f",
   "metadata": {},
   "outputs": [
    {
     "name": "stderr",
     "output_type": "stream",
     "text": [
      "\u001b[1m\u001b[22mJoining with `by = join_by(pbmc_sample_id)`\n"
     ]
    }
   ],
   "source": [
    "long_format<-left_join(long_format,meta_data) "
   ]
  },
  {
   "cell_type": "code",
   "execution_count": 16,
   "id": "cb6ce050-779f-4dee-afa0-5c4551f2b117",
   "metadata": {},
   "outputs": [
    {
     "data": {
      "text/html": [
       "<style>\n",
       ".list-inline {list-style: none; margin:0; padding: 0}\n",
       ".list-inline>li {display: inline-block}\n",
       ".list-inline>li:not(:last-child)::after {content: \"\\00b7\"; padding: 0 .5ex}\n",
       "</style>\n",
       "<ol class=list-inline><li>'Gene'</li><li>'pbmc_sample_id'</li><li>'Mean_Expression'</li><li>'X.1'</li><li>'X'</li><li>'Unnamed..0'</li><li>'lastUpdated'</li><li>'sample.id'</li><li>'sample.bridgingControl'</li><li>'sample.sampleKitGuid'</li><li>'sample.visitName'</li><li>'sample.visitDetails'</li><li>'sample.drawDate'</li><li>'sample.daysSinceFirstVisit'</li><li>'file.id'</li><li>'file.name'</li><li>'file.batchID'</li><li>'file.panel'</li><li>'file.pool'</li><li>'file.fileType'</li><li>'file.majorVersion'</li><li>'subject.id'</li><li>'subject.biologicalSex'</li><li>'subject.birthYear'</li><li>'subject.ethnicity'</li><li>'subject.partnerCode'</li><li>'subject.race'</li><li>'subject.subjectGuid'</li><li>'cohort.cohortGuid'</li><li>'sample.diseaseStatesRecordedAtVisit'</li><li>'subject.covidVaxDose1.daysSinceFirstVisit'</li><li>'subject.covidVaxDose2.daysSinceFirstVisit'</li><li>'Covid_exclusion'</li><li>'subjectGuid'</li><li>'CMV'</li><li>'Flu_Year'</li><li>'Flu_Day'</li></ol>\n"
      ],
      "text/latex": [
       "\\begin{enumerate*}\n",
       "\\item 'Gene'\n",
       "\\item 'pbmc\\_sample\\_id'\n",
       "\\item 'Mean\\_Expression'\n",
       "\\item 'X.1'\n",
       "\\item 'X'\n",
       "\\item 'Unnamed..0'\n",
       "\\item 'lastUpdated'\n",
       "\\item 'sample.id'\n",
       "\\item 'sample.bridgingControl'\n",
       "\\item 'sample.sampleKitGuid'\n",
       "\\item 'sample.visitName'\n",
       "\\item 'sample.visitDetails'\n",
       "\\item 'sample.drawDate'\n",
       "\\item 'sample.daysSinceFirstVisit'\n",
       "\\item 'file.id'\n",
       "\\item 'file.name'\n",
       "\\item 'file.batchID'\n",
       "\\item 'file.panel'\n",
       "\\item 'file.pool'\n",
       "\\item 'file.fileType'\n",
       "\\item 'file.majorVersion'\n",
       "\\item 'subject.id'\n",
       "\\item 'subject.biologicalSex'\n",
       "\\item 'subject.birthYear'\n",
       "\\item 'subject.ethnicity'\n",
       "\\item 'subject.partnerCode'\n",
       "\\item 'subject.race'\n",
       "\\item 'subject.subjectGuid'\n",
       "\\item 'cohort.cohortGuid'\n",
       "\\item 'sample.diseaseStatesRecordedAtVisit'\n",
       "\\item 'subject.covidVaxDose1.daysSinceFirstVisit'\n",
       "\\item 'subject.covidVaxDose2.daysSinceFirstVisit'\n",
       "\\item 'Covid\\_exclusion'\n",
       "\\item 'subjectGuid'\n",
       "\\item 'CMV'\n",
       "\\item 'Flu\\_Year'\n",
       "\\item 'Flu\\_Day'\n",
       "\\end{enumerate*}\n"
      ],
      "text/markdown": [
       "1. 'Gene'\n",
       "2. 'pbmc_sample_id'\n",
       "3. 'Mean_Expression'\n",
       "4. 'X.1'\n",
       "5. 'X'\n",
       "6. 'Unnamed..0'\n",
       "7. 'lastUpdated'\n",
       "8. 'sample.id'\n",
       "9. 'sample.bridgingControl'\n",
       "10. 'sample.sampleKitGuid'\n",
       "11. 'sample.visitName'\n",
       "12. 'sample.visitDetails'\n",
       "13. 'sample.drawDate'\n",
       "14. 'sample.daysSinceFirstVisit'\n",
       "15. 'file.id'\n",
       "16. 'file.name'\n",
       "17. 'file.batchID'\n",
       "18. 'file.panel'\n",
       "19. 'file.pool'\n",
       "20. 'file.fileType'\n",
       "21. 'file.majorVersion'\n",
       "22. 'subject.id'\n",
       "23. 'subject.biologicalSex'\n",
       "24. 'subject.birthYear'\n",
       "25. 'subject.ethnicity'\n",
       "26. 'subject.partnerCode'\n",
       "27. 'subject.race'\n",
       "28. 'subject.subjectGuid'\n",
       "29. 'cohort.cohortGuid'\n",
       "30. 'sample.diseaseStatesRecordedAtVisit'\n",
       "31. 'subject.covidVaxDose1.daysSinceFirstVisit'\n",
       "32. 'subject.covidVaxDose2.daysSinceFirstVisit'\n",
       "33. 'Covid_exclusion'\n",
       "34. 'subjectGuid'\n",
       "35. 'CMV'\n",
       "36. 'Flu_Year'\n",
       "37. 'Flu_Day'\n",
       "\n",
       "\n"
      ],
      "text/plain": [
       " [1] \"Gene\"                                     \n",
       " [2] \"pbmc_sample_id\"                           \n",
       " [3] \"Mean_Expression\"                          \n",
       " [4] \"X.1\"                                      \n",
       " [5] \"X\"                                        \n",
       " [6] \"Unnamed..0\"                               \n",
       " [7] \"lastUpdated\"                              \n",
       " [8] \"sample.id\"                                \n",
       " [9] \"sample.bridgingControl\"                   \n",
       "[10] \"sample.sampleKitGuid\"                     \n",
       "[11] \"sample.visitName\"                         \n",
       "[12] \"sample.visitDetails\"                      \n",
       "[13] \"sample.drawDate\"                          \n",
       "[14] \"sample.daysSinceFirstVisit\"               \n",
       "[15] \"file.id\"                                  \n",
       "[16] \"file.name\"                                \n",
       "[17] \"file.batchID\"                             \n",
       "[18] \"file.panel\"                               \n",
       "[19] \"file.pool\"                                \n",
       "[20] \"file.fileType\"                            \n",
       "[21] \"file.majorVersion\"                        \n",
       "[22] \"subject.id\"                               \n",
       "[23] \"subject.biologicalSex\"                    \n",
       "[24] \"subject.birthYear\"                        \n",
       "[25] \"subject.ethnicity\"                        \n",
       "[26] \"subject.partnerCode\"                      \n",
       "[27] \"subject.race\"                             \n",
       "[28] \"subject.subjectGuid\"                      \n",
       "[29] \"cohort.cohortGuid\"                        \n",
       "[30] \"sample.diseaseStatesRecordedAtVisit\"      \n",
       "[31] \"subject.covidVaxDose1.daysSinceFirstVisit\"\n",
       "[32] \"subject.covidVaxDose2.daysSinceFirstVisit\"\n",
       "[33] \"Covid_exclusion\"                          \n",
       "[34] \"subjectGuid\"                              \n",
       "[35] \"CMV\"                                      \n",
       "[36] \"Flu_Year\"                                 \n",
       "[37] \"Flu_Day\"                                  "
      ]
     },
     "metadata": {},
     "output_type": "display_data"
    }
   ],
   "source": [
    "colnames(long_format)"
   ]
  },
  {
   "cell_type": "code",
   "execution_count": 19,
   "id": "c70a1053-f125-4467-bbe7-cc3b0fbb6454",
   "metadata": {},
   "outputs": [
    {
     "data": {
      "text/html": [
       "<table class=\"dataframe\">\n",
       "<caption>A rstatix_test: 6 × 8</caption>\n",
       "<thead>\n",
       "\t<tr><th></th><th scope=col>Gene</th><th scope=col>.y.</th><th scope=col>group1</th><th scope=col>group2</th><th scope=col>n1</th><th scope=col>n2</th><th scope=col>statistic</th><th scope=col>p</th></tr>\n",
       "\t<tr><th></th><th scope=col>&lt;chr&gt;</th><th scope=col>&lt;chr&gt;</th><th scope=col>&lt;chr&gt;</th><th scope=col>&lt;chr&gt;</th><th scope=col>&lt;int&gt;</th><th scope=col>&lt;int&gt;</th><th scope=col>&lt;dbl&gt;</th><th scope=col>&lt;dbl&gt;</th></tr>\n",
       "</thead>\n",
       "<tbody>\n",
       "\t<tr><th scope=row>1</th><td>IGHD </td><td>Mean_Expression</td><td>BR1</td><td>BR2</td><td>26</td><td>42</td><td>641</td><td>0.235</td></tr>\n",
       "\t<tr><th scope=row>2</th><td>IGHG1</td><td>Mean_Expression</td><td>BR1</td><td>BR2</td><td>26</td><td>42</td><td>570</td><td>0.768</td></tr>\n",
       "\t<tr><th scope=row>3</th><td>IGHG2</td><td>Mean_Expression</td><td>BR1</td><td>BR2</td><td>26</td><td>42</td><td>612</td><td>0.411</td></tr>\n",
       "\t<tr><th scope=row>4</th><td>IGHG3</td><td>Mean_Expression</td><td>BR1</td><td>BR2</td><td>26</td><td>42</td><td>513</td><td>0.684</td></tr>\n",
       "\t<tr><th scope=row>5</th><td>IGHG4</td><td>Mean_Expression</td><td>BR1</td><td>BR2</td><td>26</td><td>42</td><td>581</td><td>0.665</td></tr>\n",
       "\t<tr><th scope=row>6</th><td>IGHM </td><td>Mean_Expression</td><td>BR1</td><td>BR2</td><td>26</td><td>42</td><td>632</td><td>0.283</td></tr>\n",
       "</tbody>\n",
       "</table>\n"
      ],
      "text/latex": [
       "A rstatix\\_test: 6 × 8\n",
       "\\begin{tabular}{r|llllllll}\n",
       "  & Gene & .y. & group1 & group2 & n1 & n2 & statistic & p\\\\\n",
       "  & <chr> & <chr> & <chr> & <chr> & <int> & <int> & <dbl> & <dbl>\\\\\n",
       "\\hline\n",
       "\t1 & IGHD  & Mean\\_Expression & BR1 & BR2 & 26 & 42 & 641 & 0.235\\\\\n",
       "\t2 & IGHG1 & Mean\\_Expression & BR1 & BR2 & 26 & 42 & 570 & 0.768\\\\\n",
       "\t3 & IGHG2 & Mean\\_Expression & BR1 & BR2 & 26 & 42 & 612 & 0.411\\\\\n",
       "\t4 & IGHG3 & Mean\\_Expression & BR1 & BR2 & 26 & 42 & 513 & 0.684\\\\\n",
       "\t5 & IGHG4 & Mean\\_Expression & BR1 & BR2 & 26 & 42 & 581 & 0.665\\\\\n",
       "\t6 & IGHM  & Mean\\_Expression & BR1 & BR2 & 26 & 42 & 632 & 0.283\\\\\n",
       "\\end{tabular}\n"
      ],
      "text/markdown": [
       "\n",
       "A rstatix_test: 6 × 8\n",
       "\n",
       "| <!--/--> | Gene &lt;chr&gt; | .y. &lt;chr&gt; | group1 &lt;chr&gt; | group2 &lt;chr&gt; | n1 &lt;int&gt; | n2 &lt;int&gt; | statistic &lt;dbl&gt; | p &lt;dbl&gt; |\n",
       "|---|---|---|---|---|---|---|---|---|\n",
       "| 1 | IGHD  | Mean_Expression | BR1 | BR2 | 26 | 42 | 641 | 0.235 |\n",
       "| 2 | IGHG1 | Mean_Expression | BR1 | BR2 | 26 | 42 | 570 | 0.768 |\n",
       "| 3 | IGHG2 | Mean_Expression | BR1 | BR2 | 26 | 42 | 612 | 0.411 |\n",
       "| 4 | IGHG3 | Mean_Expression | BR1 | BR2 | 26 | 42 | 513 | 0.684 |\n",
       "| 5 | IGHG4 | Mean_Expression | BR1 | BR2 | 26 | 42 | 581 | 0.665 |\n",
       "| 6 | IGHM  | Mean_Expression | BR1 | BR2 | 26 | 42 | 632 | 0.283 |\n",
       "\n"
      ],
      "text/plain": [
       "  Gene  .y.             group1 group2 n1 n2 statistic p    \n",
       "1 IGHD  Mean_Expression BR1    BR2    26 42 641       0.235\n",
       "2 IGHG1 Mean_Expression BR1    BR2    26 42 570       0.768\n",
       "3 IGHG2 Mean_Expression BR1    BR2    26 42 612       0.411\n",
       "4 IGHG3 Mean_Expression BR1    BR2    26 42 513       0.684\n",
       "5 IGHG4 Mean_Expression BR1    BR2    26 42 581       0.665\n",
       "6 IGHM  Mean_Expression BR1    BR2    26 42 632       0.283"
      ]
     },
     "metadata": {},
     "output_type": "display_data"
    }
   ],
   "source": [
    "long_format %>% group_by(Gene)%>% wilcox_test(Mean_Expression~cohort.cohortGuid)"
   ]
  },
  {
   "cell_type": "code",
   "execution_count": 20,
   "id": "3b1d0ec7-8618-45f1-849b-b25c229d9013",
   "metadata": {},
   "outputs": [],
   "source": [
    "write.csv(long_format,\"IGHG1_IGHG2_CoreB.csv\")"
   ]
  },
  {
   "cell_type": "code",
   "execution_count": null,
   "id": "0805db4f-ebd4-4753-af5c-35adb84b446c",
   "metadata": {},
   "outputs": [],
   "source": []
  }
 ],
 "metadata": {
  "kernelspec": {
   "display_name": "R 4",
   "language": "R",
   "name": "ir4"
  },
  "language_info": {
   "codemirror_mode": "r",
   "file_extension": ".r",
   "mimetype": "text/x-r-source",
   "name": "R",
   "pygments_lexer": "r",
   "version": "4.3.2"
  }
 },
 "nbformat": 4,
 "nbformat_minor": 5
}
