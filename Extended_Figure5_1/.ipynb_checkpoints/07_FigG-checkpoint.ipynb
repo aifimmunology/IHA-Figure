{
 "cells": [
  {
   "cell_type": "code",
   "execution_count": 1,
   "id": "735a1e19-7d66-4be2-a7d5-616f6c174697",
   "metadata": {
    "scrolled": true
   },
   "outputs": [
    {
     "name": "stderr",
     "output_type": "stream",
     "text": [
      "------------------------------------------------------------------------------\n",
      "\n",
      "You have loaded plyr after dplyr - this is likely to cause problems.\n",
      "If you need functions from both plyr and dplyr, please load plyr first, then dplyr:\n",
      "library(plyr); library(dplyr)\n",
      "\n",
      "------------------------------------------------------------------------------\n",
      "\n",
      "\n",
      "Attaching package: ‘plyr’\n",
      "\n",
      "\n",
      "The following objects are masked from ‘package:dplyr’:\n",
      "\n",
      "    arrange, count, desc, failwith, id, mutate, rename, summarise,\n",
      "    summarize\n",
      "\n",
      "\n",
      "\n",
      "Attaching package: ‘purrr’\n",
      "\n",
      "\n",
      "The following object is masked from ‘package:plyr’:\n",
      "\n",
      "    compact\n",
      "\n",
      "\n",
      "\n",
      "Attaching package: ‘rstatix’\n",
      "\n",
      "\n",
      "The following objects are masked from ‘package:plyr’:\n",
      "\n",
      "    desc, mutate\n",
      "\n",
      "\n",
      "The following object is masked from ‘package:stats’:\n",
      "\n",
      "    filter\n",
      "\n",
      "\n",
      "Loading required package: ggplot2\n",
      "\n",
      "\n",
      "Attaching package: ‘ggpubr’\n",
      "\n",
      "\n",
      "The following object is masked from ‘package:plyr’:\n",
      "\n",
      "    mutate\n",
      "\n",
      "\n"
     ]
    }
   ],
   "source": [
    "suppressPackageStartupMessages(library(dplyr))\n",
    "suppressPackageStartupMessages(library(tidyr))\n",
    "suppressPackageStartupMessages(library(tibble))\n",
    "suppressPackageStartupMessages(library(patchwork))\n",
    "suppressPackageStartupMessages(library(stringr))\n",
    "library(plyr)\n",
    "\n",
    "library(purrr)\n",
    "library(rstatix)\n",
    "library(ggpubr)\n",
    "library(ggsci)\n",
    "library(ggrepel)\n",
    "source('/home//jupyter/BRI_Figures/helper_function/helper_function_IHA.r')"
   ]
  },
  {
   "cell_type": "code",
   "execution_count": 2,
   "id": "d7ab7fba-3e67-45a3-a8fd-83bfd5ad6bb9",
   "metadata": {},
   "outputs": [],
   "source": [
    "\n",
    "is_dark_color <- function(hex) {\n",
    "  rgb <- col2rgb(hex)\n",
    "  \n",
    "  luminance <- 0.299 * rgb[1,] + 0.587 * rgb[2,] + 0.114 * rgb[3,]\n",
    "  if(luminance < 128){\n",
    "  return('white')\n",
    "  } else {return('black')}\n",
    "}"
   ]
  },
  {
   "cell_type": "code",
   "execution_count": 3,
   "id": "53efe2e8-228a-4a9e-a707-1a677d500c61",
   "metadata": {},
   "outputs": [],
   "source": [
    "color_annotation<-read.csv('../Color_hex_codes/Cell_Type_Color_Annotation_and_Order.csv')\n",
    "color_annotation$label<-gsub(' cell','',color_annotation$label)\n",
    "color_vector <- setNames(color_annotation$color, color_annotation$label)"
   ]
  },
  {
   "cell_type": "code",
   "execution_count": 7,
   "id": "78c44914-2686-42fe-9046-2707ffe6f233",
   "metadata": {},
   "outputs": [],
   "source": [
    "df=read.csv('03_DEGs_and_EnrichmentAnalysis/IGHG1_IGHG2_CoreB.csv')"
   ]
  },
  {
   "cell_type": "code",
   "execution_count": 15,
   "id": "12324258-752e-46ae-b765-acdfc26b6b51",
   "metadata": {},
   "outputs": [],
   "source": [
    "df<-df %>% filter(Gene=='IGHG1')"
   ]
  },
  {
   "cell_type": "code",
   "execution_count": 16,
   "id": "55cd372e-2338-430e-8109-083fb6b4babb",
   "metadata": {},
   "outputs": [],
   "source": [
    "df <- df %>% dplyr::mutate(`Age Group` = case_when(\n",
    "  cohort.cohortGuid == \"BR1\" ~ \"Young\",\n",
    "  cohort.cohortGuid == \"BR2\" ~ \"Older\",\n",
    "  TRUE ~ NA_character_\n",
    "))\n",
    "df$`Age Group`<-factor(df$`Age Group`,levels=c(\"Young\",\"Older\"))"
   ]
  },
  {
   "cell_type": "code",
   "execution_count": 17,
   "id": "20058410-86e0-424a-badd-d1eeff54f2fc",
   "metadata": {},
   "outputs": [],
   "source": [
    "df$Group<-paste0(df$`Age Group`,'_',df$Flu_Day)"
   ]
  },
  {
   "cell_type": "code",
   "execution_count": 23,
   "id": "c3f89cc6-39a3-4960-b008-106a04acff15",
   "metadata": {},
   "outputs": [],
   "source": [
    "df$celltype<-\"Core memory B\""
   ]
  },
  {
   "cell_type": "code",
   "execution_count": 32,
   "id": "57ea6cfb-319d-4b65-b07f-b877f486f6ae",
   "metadata": {},
   "outputs": [
    {
     "data": {
      "image/png": "[encoded data removed]",
      "text/plain": [
       "plot without title"
      ]
     },
     "metadata": {
      "image/png": {
       "height": 94.4882,
       "width": 94.4882
      }
     },
     "output_type": "display_data"
    }
   ],
   "source": [
    "options(repr.plot.width = 40/25.4, repr.plot.height = 40/25.4)\n",
    "\n",
    "\n",
    "p<-ggplot(df, aes(x=`Age Group`, y=Mean_Expression, fill=`Age Group`)) +\n",
    "   geom_boxplot(outlier.shape = NA,lwd=0.3) +\n",
    "geom_jitter(color=\"black\", size=0.8,stroke=0) +\n",
    "theme_classic(base_size=6)+  \n",
    "stat_compare_means( label = \"p.format\",method='wilcox.test',size=2.2) +\n",
    "    scale_fill_manual(values = c(\"Older\" = '#bf812d', \"Young\" = '#35978f'))+\n",
    "    scale_y_continuous(limits = c(NA, NA),\n",
    "                       expand = expansion(mult = c(0.1, 0.15)))+\n",
    "theme(legend.position=\"none\")+\n",
    "xlab('')+\n",
    "ylab('Mean Exp')+\n",
    "facet_wrap(~celltype,  ncol=1, scale='free_y') +theme(\n",
    "panel.border = element_blank())   +\n",
    "    theme(axis.line = element_line(colour = \"black\", linewidth = 0.1),\n",
    "          legend.position = \"top\",\n",
    "          legend.title = element_blank(),\n",
    "          panel.grid.major = element_blank(),\n",
    "          panel.grid.minor = element_blank(),\n",
    "          panel.border = element_blank(),\n",
    "          panel.background = element_blank(),\n",
    "          strip.background = element_rect(linewidth = 0),\n",
    "          axis.title.x = element_text(margin = margin(t = 1)))\n",
    "p\n",
    "\n",
    "\n"
   ]
  },
  {
   "cell_type": "code",
   "execution_count": 34,
   "id": "3f7f91fc-29a1-4c2a-a664-896fb5094997",
   "metadata": {
    "scrolled": true
   },
   "outputs": [
    {
     "data": {
      "image/png": "[encoded data removed]",
      "text/plain": [
       "plot without title"
      ]
     },
     "metadata": {
      "image/png": {
       "height": 94.4882,
       "width": 94.4882
      }
     },
     "output_type": "display_data"
    }
   ],
   "source": [
    "plot <- ggplot_gtable(ggplot_build(p))\n",
    "\n",
    "strips <- which(grepl('strip-', plot$layout$name))\n",
    "strip_labels <- sapply(strips, function(i) {\n",
    "  plot$grobs[[i]]$grobs[[1]]$children[[2]]$children[[1]]$label\n",
    "})\n",
    "strip_labels<-gsub(' cell','',strip_labels)\n",
    "\n",
    "pal <- color_vector[strip_labels]\n",
    "text_color <- sapply(color_vector[strip_labels], is_dark_color)\n",
    "\n",
    "strip_names <- plot$layout$name[strips]\n",
    "\n",
    "\n",
    "for (i in seq_along(strips)) {\n",
    "  strip_name <- strip_names[i]\n",
    "\n",
    "  \n",
    "  k <- which(grepl('rect', plot$grobs[[strips[i]]]$grobs[[1]]$childrenOrder))\n",
    "  l <- which(grepl('titleGrob', plot$grobs[[strips[i]]]$grobs[[1]]$childrenOrder))\n",
    "  \n",
    "  adjusted_color <- adjustcolor(pal[i], alpha.f = 0.8)\n",
    "  \n",
    "  plot$grobs[[strips[i]]]$grobs[[1]]$children[[k]]$gp$fill <- adjusted_color\n",
    "  plot$grobs[[strips[i]]]$grobs[[1]]$children[[l]]$children[[1]]$gp$col <- text_color[i]\n",
    "}\n",
    "\n",
    "plot(plot)\n",
    "ggsave('FigureG.pdf',plot,width = 40/25.4,height = 40/25.4)"
   ]
  },
  {
   "cell_type": "code",
   "execution_count": null,
   "id": "dfb0ceb7-e2a8-4463-9690-c50293e6a428",
   "metadata": {},
   "outputs": [],
   "source": []
  }
 ],
 "metadata": {
  "kernelspec": {
   "display_name": "R 4",
   "language": "R",
   "name": "ir4"
  },
  "language_info": {
   "codemirror_mode": "r",
   "file_extension": ".r",
   "mimetype": "text/x-r-source",
   "name": "R",
   "pygments_lexer": "r",
   "version": "4.3.2"
  }
 },
 "nbformat": 4,
 "nbformat_minor": 5
}
