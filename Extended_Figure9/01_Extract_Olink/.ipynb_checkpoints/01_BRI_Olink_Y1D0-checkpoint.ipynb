{
 "cells": [
  {
   "cell_type": "code",
   "execution_count": 3,
   "id": "0d8b9036-d039-4f6b-8615-5588c724bc7d",
   "metadata": {},
   "outputs": [],
   "source": [
    "library(lme4)\n",
    "suppressPackageStartupMessages(library(dplyr))\n",
    "suppressPackageStartupMessages(library(tidyr))\n",
    "suppressPackageStartupMessages(library(tibble))\n",
    "suppressPackageStartupMessages(library(plyr))\n",
    "suppressPackageStartupMessages(library(stringr))"
   ]
  },
  {
   "cell_type": "code",
   "execution_count": 5,
   "id": "32e1af1f-1d65-47fa-b104-bb8c9f7bbcf9",
   "metadata": {},
   "outputs": [],
   "source": [
    "Olink<-read.csv(\"/home//workspace/IHA_Figure_Revision/Figure1/01_Olink_Analysis/Olink_BRI.csv\")"
   ]
  },
  {
   "cell_type": "code",
   "execution_count": 7,
   "id": "e8565bd3-142f-421b-a576-1db8967e5365",
   "metadata": {},
   "outputs": [
    {
     "data": {
      "text/html": [
       "<style>\n",
       ".list-inline {list-style: none; margin:0; padding: 0}\n",
       ".list-inline>li {display: inline-block}\n",
       ".list-inline>li:not(:last-child)::after {content: \"\\00b7\"; padding: 0 .5ex}\n",
       "</style>\n",
       "<ol class=list-inline><li>92</li><li>32</li></ol>\n"
      ],
      "text/latex": [
       "\\begin{enumerate*}\n",
       "\\item 92\n",
       "\\item 32\n",
       "\\end{enumerate*}\n"
      ],
      "text/markdown": [
       "1. 92\n",
       "2. 32\n",
       "\n",
       "\n"
      ],
      "text/plain": [
       "[1] 92 32"
      ]
     },
     "metadata": {},
     "output_type": "display_data"
    }
   ],
   "source": [
    "meta<-read.csv('../../Dataset/scRNA_meta_data-2024-05-09.csv')\n",
    "meta_sub<-meta %>% filter(sample.visitName=='Flu Year 1 Day 0')\n",
    "dim(meta_sub)"
   ]
  },
  {
   "cell_type": "code",
   "execution_count": 8,
   "id": "ad0fecef-1abc-466d-ad68-07576d45b97a",
   "metadata": {
    "tags": []
   },
   "outputs": [],
   "source": [
    "rownames(meta)<-meta$sample.sampleKitGuid"
   ]
  },
  {
   "cell_type": "code",
   "execution_count": 9,
   "id": "de5d4547-56ce-4d98-8296-014a9e920028",
   "metadata": {
    "tags": []
   },
   "outputs": [],
   "source": [
    "Olink<-Olink %>% filter(sample.sampleKitGuid %in% unique(meta$sample.sampleKitGuid))"
   ]
  },
  {
   "cell_type": "code",
   "execution_count": 10,
   "id": "faa6809f-4da2-49ff-91bb-dc64921bfac3",
   "metadata": {
    "tags": []
   },
   "outputs": [],
   "source": [
    "Olink<-left_join(Olink,meta, by = c(\"sample.sampleKitGuid\"))"
   ]
  },
  {
   "cell_type": "code",
   "execution_count": 12,
   "id": "c08914ce-b35f-4fe5-9728-24095a0145ad",
   "metadata": {},
   "outputs": [],
   "source": [
    "Olink_sub<-Olink %>% filter(Assay%in%c(\"IL4\",\"IL13\")) %>% filter(sample.sampleKitGuid %in% meta_sub$sample.sampleKitGuid )"
   ]
  },
  {
   "cell_type": "code",
   "execution_count": 13,
   "id": "c6ae46c7-ef60-4b91-a210-26c239a6b829",
   "metadata": {},
   "outputs": [],
   "source": [
    "write.csv(Olink_sub,\"BRI_Selected.csv\")"
   ]
  },
  {
   "cell_type": "code",
   "execution_count": null,
   "id": "979e0f35-b3aa-40e6-83fb-bb479f643648",
   "metadata": {},
   "outputs": [],
   "source": []
  }
 ],
 "metadata": {
  "kernelspec": {
   "display_name": "R_BRI_Figures",
   "language": "R",
   "name": "r_bri_figures"
  },
  "language_info": {
   "codemirror_mode": "r",
   "file_extension": ".r",
   "mimetype": "text/x-r-source",
   "name": "R",
   "pygments_lexer": "r",
   "version": "4.3.2"
  }
 },
 "nbformat": 4,
 "nbformat_minor": 5
}
