{
 "cells": [
  {
   "cell_type": "code",
   "execution_count": 1,
   "id": "037e677c-3b35-4526-96e0-ebfdefc059fe",
   "metadata": {},
   "outputs": [
    {
     "name": "stderr",
     "output_type": "stream",
     "text": [
      "Warning message:\n",
      "“package ‘data.table’ was built under R version 4.3.3”\n",
      "Loading required package: viridisLite\n",
      "\n",
      "Warning message:\n",
      "“package ‘viridisLite’ was built under R version 4.3.3”\n",
      "Warning message:\n",
      "“package ‘patchwork’ was built under R version 4.3.3”\n",
      "Warning message:\n",
      "“package ‘reshape2’ was built under R version 4.3.3”\n",
      "\n",
      "Attaching package: ‘reshape2’\n",
      "\n",
      "\n",
      "The following objects are masked from ‘package:data.table’:\n",
      "\n",
      "    dcast, melt\n",
      "\n",
      "\n",
      "Warning message:\n",
      "“package ‘gridExtra’ was built under R version 4.3.3”\n",
      "Warning message:\n",
      "“package ‘ggrastr’ was built under R version 4.3.3”\n",
      "Warning message:\n",
      "“package ‘dplyr’ was built under R version 4.3.3”\n",
      "\n",
      "Attaching package: ‘dplyr’\n",
      "\n",
      "\n",
      "The following object is masked from ‘package:gridExtra’:\n",
      "\n",
      "    combine\n",
      "\n",
      "\n",
      "The following objects are masked from ‘package:data.table’:\n",
      "\n",
      "    between, first, last\n",
      "\n",
      "\n",
      "The following objects are masked from ‘package:stats’:\n",
      "\n",
      "    filter, lag\n",
      "\n",
      "\n",
      "The following objects are masked from ‘package:base’:\n",
      "\n",
      "    intersect, setdiff, setequal, union\n",
      "\n",
      "\n"
     ]
    }
   ],
   "source": [
    "library(data.table)\n",
    "library(ggplot2)\n",
    "library(viridis)\n",
    "library(patchwork)\n",
    "library(reshape2)\n",
    "library(gridExtra)\n",
    "library(ggpubr)\n",
    "library(ggrastr)\n",
    "library(dplyr)\n",
    "\n",
    "set.seed(42)\n",
    "clr_transform <- function(x) {\n",
    "  if (length(x) == 0) {\n",
    "    return(NA)  # return NA for empty vectors\n",
    "  }\n",
    "  geom_mean <- exp(mean(log(x)))\n",
    "  return(log(x / geom_mean))\n",
    "}\n",
    "get_density <- function(x, y, ...) {\n",
    "    dens <- MASS::kde2d(x, y, ...)\n",
    "    ix <- findInterval(x, dens$x)\n",
    "    iy <- findInterval(y, dens$y)\n",
    "    ii <- cbind(ix, iy)\n",
    "    return(dens$z[ii])\n",
    "  } "
   ]
  },
  {
   "cell_type": "code",
   "execution_count": null,
   "id": "d83dd986-5264-4584-b00d-12efbfeb56e6",
   "metadata": {},
   "outputs": [],
   "source": []
  },
  {
   "cell_type": "code",
   "execution_count": 2,
   "id": "823acfca-07b5-4d68-b10c-3d1088e4538f",
   "metadata": {},
   "outputs": [
    {
     "name": "stderr",
     "output_type": "stream",
     "text": [
      "\u001b[1mRows: \u001b[22m\u001b[34m6937027\u001b[39m \u001b[1mColumns: \u001b[22m\u001b[34m32\u001b[39m\n",
      "\u001b[36m──\u001b[39m \u001b[1mColumn specification\u001b[22m \u001b[36m────────────────────────────────────────────────────────\u001b[39m\n",
      "\u001b[1mDelimiter:\u001b[22m \",\"\n",
      "\u001b[31mchr\u001b[39m (10): condition, donor, time, group, cell_type, L1, L2, L3, L4, Final_Ce...\n",
      "\u001b[32mdbl\u001b[39m (22): FSC, FSC-H, SSC, SSC-B, SSC-B-H, SSC-H, CCR7, IFNg, CD3, CD45RA, C...\n",
      "\n",
      "\u001b[36mℹ\u001b[39m Use `spec()` to retrieve the full column specification for this data.\n",
      "\u001b[36mℹ\u001b[39m Specify the column types or set `show_col_types = FALSE` to quiet this message.\n"
     ]
    }
   ],
   "source": [
    "meta_data <- read.csv(\"/home//workspace/IHA_Figure_Revision/Dataset/scRNA_meta_data-2024-05-09.csv\")\n",
    "df<-readr::read_csv('../Figure5/04_TCR_Stim_Exp/annotated1.csv')\n",
    "df<-left_join(df,unique(meta_data[c('subjectGuid','CMV')]),\n",
    "              by =c(\"donor\"=\"subjectGuid\"))"
   ]
  },
  {
   "cell_type": "code",
   "execution_count": null,
   "id": "05787852-ea9e-445c-8293-4cea0a7f79a9",
   "metadata": {},
   "outputs": [],
   "source": []
  },
  {
   "cell_type": "code",
   "execution_count": 3,
   "id": "9001d4d7-54e7-4fbb-8765-64a3c3d07b97",
   "metadata": {},
   "outputs": [],
   "source": [
    "df_subset<-df%>% as.data.frame() %>% filter(L1==\"CD4+\", L2==\"Memory\",\n",
    "                                            condition==\"TCR\",\n",
    "                                 donor %in% c(\"BR1044\",\"BR2036\"))"
   ]
  },
  {
   "cell_type": "code",
   "execution_count": 8,
   "id": "018f2421-cf42-43c5-87ea-406b4c5d1e84",
   "metadata": {},
   "outputs": [],
   "source": [
    "x_intercept <- 3.3\n",
    "y_intercept <- 3\n",
    "\n",
    "\n",
    "df_subset$Group <- paste0(df_subset$condition, \"-\", df_subset$L1, \" \", df_subset$L2, \"-\", df_subset$donor)\n",
    "df_subset <- df_subset %>%\n",
    "    group_by(Group) %>%\n",
    "    mutate(density = get_density(IL4, IFNg, n = 100)) %>%\n",
    "    ungroup()\n",
    "\n",
    "df_subset <- df_subset %>%\n",
    "    mutate(region = case_when(IL4 >= x_intercept & IFNg >= y_intercept ~ \"Q1\", \n",
    "                              IL4 < x_intercept & IFNg >= y_intercept ~ \"Q2\", \n",
    "                              IL4 < x_intercept & IFNg <\n",
    "        y_intercept ~ \"Q3\", IL4 >= x_intercept & IFNg < y_intercept ~ \"Q4\"))\n",
    "\n",
    "region_pct <- df_subset %>%\n",
    "    group_by(Group, region) %>%\n",
    "    summarise(percent = round(n()/nrow(df_subset[df_subset$Group == unique(Group), ]) * 100, 2), .groups = \"drop\")\n",
    "\n",
    "corners <- df_subset %>%\n",
    "    summarise(x_min = min(IL4), x_max = max(IL4), y_min = min(IFNg), y_max = max(IFNg)) %>%\n",
    "    tidyr::crossing(region = c(\"Q1\", \"Q2\", \"Q3\", \"Q4\")) %>%\n",
    "    mutate(x = case_when(region == \"Q1\" ~ x_max, region == \"Q2\" ~ x_min, \n",
    "                         region == \"Q3\" ~ x_min, region == \"Q4\" ~ x_max), \n",
    "           y = case_when(region == \"Q1\" ~y_max, region == \"Q2\" ~ y_max, \n",
    "                         region == \"Q3\" ~ y_min, region == \"Q4\" ~ y_min), \n",
    "           offset = 0.12 * (x_max - x_min), x = ifelse(region %in% c(\"Q2\",\"Q3\"), \n",
    "                                                       x + offset, x - offset), \n",
    "           y = ifelse(region %in% c(\"Q3\", \"Q4\"), \n",
    "                      y + offset, y - offset)) %>%select(region, x, y)\n",
    "\n",
    "region_pct <- left_join(region_pct, corners, by = c(\"region\"))\n",
    "dens <- MASS::kde2d(df_subset$IL4, df_subset$IFNg, n = 100)\n",
    "\n",
    "p <- ggplot(df_subset, aes(x = IL4, y = IFNg)) +\n",
    "  theme(legend.position = \"right\") +\n",
    "  # other regions (including Q4 density)\n",
    "  geom_point_rast(\n",
    "    data   = df_subset,\n",
    "    aes(color = ifelse(region == \"Q1\", density, NA)),\n",
    "    size   = 0.1,\n",
    "    stroke = 0\n",
    "  ) +\n",
    "  # Q2 in blue, larger\n",
    "  geom_point_rast(\n",
    "    data   = subset(df_subset, region == \"Q1\"),\n",
    "    aes(x = IL4, y = IFNg),\n",
    "    size   = 0.7,\n",
    "    color  = \"#0072B2\",\n",
    "    stroke = 0) +\n",
    "  scale_color_viridis(\n",
    "    option   = \"H\",\n",
    "    name     = \"Density\",\n",
    "    direction = 1,\n",
    "    na.value = \"grey80\") +\n",
    "  geom_vline(xintercept = x_intercept,size = 0.3) +\n",
    "  geom_hline(yintercept = y_intercept,size=0.3) +\n",
    "  geom_text(\n",
    "    data = region_pct,\n",
    "    aes(x = x,\n",
    "        y = y,\n",
    "        label = paste0(percent, \"%\")),\n",
    "    inherit.aes = FALSE,\n",
    "    size = 2.1)+stat_density_2d(\n",
    "  data   = df_subset,\n",
    "  aes(x = IL4, y = IFNg),\n",
    "  geom   = \"contour\",\n",
    "  color  = \"black\",\n",
    "  breaks = seq(0, max(dens$z), length.out = 40)[-1],  \n",
    "  size   = 0.05\n",
    ") +\n",
    "  facet_wrap(~ Group, ncol = 2) +\n",
    "  theme_minimal(base_size = 6) +\n",
    "  theme(\n",
    "    axis.title = element_text(color = \"black\"),\n",
    "    axis.text  = element_text(color = \"black\"),\n",
    "    legend.position = \"none\")\n",
    "\n"
   ]
  },
  {
   "cell_type": "code",
   "execution_count": 10,
   "id": "7092758c-1a47-46c3-9801-f22934ad271e",
   "metadata": {},
   "outputs": [
    {
     "data": {
      "image/png": "[encoded data removed]",
      "text/plain": [
       "plot without title"
      ]
     },
     "metadata": {
      "image/png": {
       "height": 70.8661,
       "width": 129.9213
      }
     },
     "output_type": "display_data"
    }
   ],
   "source": [
    "options(repr.plot.width = 55/25.4, repr.plot.height = 30/25.4)\n",
    "\n",
    "p\n",
    "\n",
    "ggsave(\"FigureE.pdf\",\n",
    "       p,\n",
    "       width=55/25.4,\n",
    "       height = 30/25.4)"
   ]
  },
  {
   "cell_type": "code",
   "execution_count": 11,
   "id": "76168b46-6bb2-4d19-b26b-d8655407d3cf",
   "metadata": {},
   "outputs": [],
   "source": [
    "df_subset<-df%>% as.data.frame() %>% filter(L1==\"CD8+\", L2==\"Memory\",condition==\"TCR\",\n",
    "                                 donor %in% c(\"BR1044\",\"BR2036\"))"
   ]
  },
  {
   "cell_type": "code",
   "execution_count": 12,
   "id": "1bb78e1b-8ee3-4311-8c6e-d0e6f1b0a05a",
   "metadata": {},
   "outputs": [],
   "source": [
    "x_intercept <- 3.1\n",
    "y_intercept <- 3\n",
    "\n",
    "\n",
    "df_subset$Group <- paste0(df_subset$condition, \"-\", df_subset$L1, \" \", df_subset$L2, \"-\", df_subset$donor)\n",
    "df_subset <- df_subset %>%\n",
    "    group_by(Group) %>%\n",
    "    mutate(density = get_density(IL4, IFNg, n = 100)) %>%\n",
    "    ungroup()\n",
    "\n",
    "df_subset <- df_subset %>%\n",
    "    mutate(region = case_when(IL4 >= x_intercept & IFNg >= y_intercept ~ \"Q1\", \n",
    "                              IL4 < x_intercept & IFNg >= y_intercept ~ \"Q2\", \n",
    "                              IL4 < x_intercept & IFNg <\n",
    "        y_intercept ~ \"Q3\", IL4 >= x_intercept & IFNg < y_intercept ~ \"Q4\"))\n",
    "\n",
    "region_pct <- df_subset %>%\n",
    "    group_by(Group, region) %>%\n",
    "    summarise(percent = round(n()/nrow(df_subset[df_subset$Group == unique(Group), ]) * 100, 2), .groups = \"drop\")\n",
    "\n",
    "corners <- df_subset %>%\n",
    "    summarise(x_min = min(IL4), x_max = max(IL4), y_min = min(IFNg), y_max = max(IFNg)) %>%\n",
    "    tidyr::crossing(region = c(\"Q1\", \"Q2\", \"Q3\", \"Q4\")) %>%\n",
    "    mutate(x = case_when(region == \"Q1\" ~ x_max, region == \"Q2\" ~ x_min, \n",
    "                         region == \"Q3\" ~ x_min, region == \"Q4\" ~ x_max), \n",
    "           y = case_when(region == \"Q1\" ~y_max, region == \"Q2\" ~ y_max, \n",
    "                         region == \"Q3\" ~ y_min, region == \"Q4\" ~ y_min), \n",
    "           offset = 0.12 * (x_max - x_min), x = ifelse(region %in% c(\"Q2\",\"Q3\"), \n",
    "                                                       x + offset, x - offset), \n",
    "           y = ifelse(region %in% c(\"Q3\", \"Q4\"), \n",
    "                      y + offset, y - offset)) %>%select(region, x, y)\n",
    "\n",
    "region_pct <- left_join(region_pct, corners, by = c(\"region\"))\n",
    "dens <- MASS::kde2d(df_subset$IL4, df_subset$IFNg, n = 100)\n",
    "\n",
    "p <- ggplot(df_subset, aes(x = IL4, y = IFNg)) +\n",
    "  theme(legend.position = \"right\") +\n",
    "  # other regions (including Q4 density)\n",
    "  geom_point_rast(\n",
    "    data   = df_subset,\n",
    "    aes(color = ifelse(region == \"Q1\", density, NA)),\n",
    "    size   = 0.1,\n",
    "    stroke = 0\n",
    "  ) +\n",
    "  # Q2 in blue, larger\n",
    "  geom_point_rast(\n",
    "    data   = subset(df_subset, region == \"Q1\"),\n",
    "    aes(x = IL4, y = IFNg),\n",
    "    size   = 0.7,\n",
    "    color  = \"#0072B2\",\n",
    "    stroke = 0) +\n",
    "  scale_color_viridis(\n",
    "    option   = \"H\",\n",
    "    name     = \"Density\",\n",
    "    direction = 1,\n",
    "    na.value = \"grey80\") +\n",
    "  geom_vline(xintercept = x_intercept,size = 0.3) +\n",
    "  geom_hline(yintercept = y_intercept,size=0.3) +\n",
    "  geom_text(\n",
    "    data = region_pct,\n",
    "    aes(x = x,\n",
    "        y = y,\n",
    "        label = paste0(percent, \"%\")),\n",
    "    inherit.aes = FALSE,\n",
    "    size = 2.1)+stat_density_2d(\n",
    "  data   = df_subset,\n",
    "  aes(x = IL4, y = IFNg),\n",
    "  geom   = \"contour\",\n",
    "  color  = \"black\",\n",
    "  breaks = seq(0, max(dens$z), length.out = 40)[-1],  \n",
    "  size   = 0.05\n",
    ") +\n",
    "  facet_wrap(~ Group, ncol = 2) +\n",
    "  theme_minimal(base_size = 6) +\n",
    "  theme(\n",
    "    axis.title = element_text(color = \"black\"),\n",
    "    axis.text  = element_text(color = \"black\"),\n",
    "    legend.position = \"none\")\n",
    "\n"
   ]
  },
  {
   "cell_type": "code",
   "execution_count": 13,
   "id": "cf6f1b2e-1dd6-4d82-8008-11c45f7bbef8",
   "metadata": {},
   "outputs": [
    {
     "data": {
      "image/png": "[encoded data removed]",
      "text/plain": [
       "plot without title"
      ]
     },
     "metadata": {
      "image/png": {
       "height": 70.8661,
       "width": 129.9213
      }
     },
     "output_type": "display_data"
    }
   ],
   "source": [
    "options(repr.plot.width = 55/25.4, repr.plot.height = 30/25.4)\n",
    "\n",
    "p\n",
    "\n",
    "ggsave(\"FigureE.pdf\",\n",
    "       p,\n",
    "       width=55/25.4,\n",
    "       height = 30/25.4)"
   ]
  },
  {
   "cell_type": "code",
   "execution_count": null,
   "id": "6a9c96a9-98aa-4754-8507-463ba43256fb",
   "metadata": {},
   "outputs": [],
   "source": []
  },
  {
   "cell_type": "code",
   "execution_count": null,
   "id": "9dfde9a3-b201-428d-abdc-cf064791d8a4",
   "metadata": {},
   "outputs": [],
   "source": []
  },
  {
   "cell_type": "code",
   "execution_count": null,
   "id": "f53f9257-31c3-4821-9f6e-19d4548600f7",
   "metadata": {},
   "outputs": [],
   "source": []
  },
  {
   "cell_type": "code",
   "execution_count": null,
   "id": "95cc3a1b-a417-441f-b566-4588e6e5b82e",
   "metadata": {},
   "outputs": [],
   "source": []
  }
 ],
 "metadata": {
  "kernelspec": {
   "display_name": "R_BRI_Figures",
   "language": "R",
   "name": "r_bri_figures"
  },
  "language_info": {
   "codemirror_mode": "r",
   "file_extension": ".r",
   "mimetype": "text/x-r-source",
   "name": "R",
   "pygments_lexer": "r",
   "version": "4.3.2"
  }
 },
 "nbformat": 4,
 "nbformat_minor": 5
}
