{
 "cells": [
  {
   "cell_type": "code",
   "execution_count": 2,
   "id": "f8bc5154-5208-4d93-b9da-0a99dde2264a",
   "metadata": {},
   "outputs": [],
   "source": [
    "library('tidyverse')\n",
    "library(\"hise\")\n",
    "library('data.table')\n",
    "library('parallel')\n",
    "library('dplyr')\n",
    "library(patchwork)\n",
    "library(ggplot2)\n",
    "library(arrow)\n",
    "set.seed(123)\n",
    "\n",
    "Sys.setenv( TZ=\"Etc/GMT+1\")\n",
    "options(warn = -1)"
   ]
  },
  {
   "cell_type": "code",
   "execution_count": 9,
   "id": "6c20f929-a1fb-494f-bc42-4fa433f16bfc",
   "metadata": {},
   "outputs": [
    {
     "data": {
      "text/html": [],
      "text/latex": [],
      "text/markdown": [],
      "text/plain": [
       "logical(0)"
      ]
     },
     "metadata": {},
     "output_type": "display_data"
    }
   ],
   "source": [
    "pesudo_time_df"
   ]
  },
  {
   "cell_type": "code",
   "execution_count": 11,
   "id": "0c272d5b-615c-4e38-8328-dbc28ff9dd12",
   "metadata": {},
   "outputs": [],
   "source": [
    "pesudo_time_df<-as.data.frame(read_parquet('02_TEAseq_CD8_T_cells_traj/pesudo_time_df.csv'))\n",
    "pesudo_time_df<-pesudo_time_df[!is.na(pesudo_time_df$AIFI_L3),]\n",
    "pesudo_time_df <- pesudo_time_df %>%\n",
    "  mutate(cohort.x = case_when(\n",
    "    startsWith(subject_id.ch1, \"BR2\") ~ \"BR2\",\n",
    "    TRUE ~ 'UP1' \n",
    "  ))"
   ]
  },
  {
   "cell_type": "code",
   "execution_count": 14,
   "id": "00a91eec-9ea9-466b-9140-28fa968d2224",
   "metadata": {},
   "outputs": [
    {
     "data": {
      "text/html": [
       "<style>\n",
       ".list-inline {list-style: none; margin:0; padding: 0}\n",
       ".list-inline>li {display: inline-block}\n",
       ".list-inline>li:not(:last-child)::after {content: \"\\00b7\"; padding: 0 .5ex}\n",
       "</style>\n",
       "<ol class=list-inline><li>'Core naive CD8 T cell'</li><li>'GZMK+ CD27+ EM CD8 T cell'</li><li>'CM CD8 T cell'</li><li>'GZMK- CD27+ EM CD8 T cell'</li><li>'KLRF1+ GZMB+ CD27- EM CD8 T cell'</li><li>'KLRF1- GZMB+ CD27- EM CD8 T cell'</li></ol>\n"
      ],
      "text/latex": [
       "\\begin{enumerate*}\n",
       "\\item 'Core naive CD8 T cell'\n",
       "\\item 'GZMK+ CD27+ EM CD8 T cell'\n",
       "\\item 'CM CD8 T cell'\n",
       "\\item 'GZMK- CD27+ EM CD8 T cell'\n",
       "\\item 'KLRF1+ GZMB+ CD27- EM CD8 T cell'\n",
       "\\item 'KLRF1- GZMB+ CD27- EM CD8 T cell'\n",
       "\\end{enumerate*}\n"
      ],
      "text/markdown": [
       "1. 'Core naive CD8 T cell'\n",
       "2. 'GZMK+ CD27+ EM CD8 T cell'\n",
       "3. 'CM CD8 T cell'\n",
       "4. 'GZMK- CD27+ EM CD8 T cell'\n",
       "5. 'KLRF1+ GZMB+ CD27- EM CD8 T cell'\n",
       "6. 'KLRF1- GZMB+ CD27- EM CD8 T cell'\n",
       "\n",
       "\n"
      ],
      "text/plain": [
       "[1] \"Core naive CD8 T cell\"            \"GZMK+ CD27+ EM CD8 T cell\"       \n",
       "[3] \"CM CD8 T cell\"                    \"GZMK- CD27+ EM CD8 T cell\"       \n",
       "[5] \"KLRF1+ GZMB+ CD27- EM CD8 T cell\" \"KLRF1- GZMB+ CD27- EM CD8 T cell\""
      ]
     },
     "metadata": {},
     "output_type": "display_data"
    }
   ],
   "source": [
    "unique(pesudo_time_df$AIFI_L3)"
   ]
  },
  {
   "cell_type": "code",
   "execution_count": 15,
   "id": "14aad114-9ff4-482c-a1e5-9616a5b9ab02",
   "metadata": {},
   "outputs": [],
   "source": [
    "pseudo_time_df_subset<-pesudo_time_df%>% filter(grepl(\"1\",curve.assignments))"
   ]
  },
  {
   "cell_type": "code",
   "execution_count": 16,
   "id": "9f79dce5-5703-4afc-be77-430c31174e35",
   "metadata": {},
   "outputs": [],
   "source": [
    "pseudo_time_df_subset <- pseudo_time_df_subset %>%\n",
    "  mutate(mean_pseudo_time = rowMeans(select(., pesudo_time_1)))"
   ]
  },
  {
   "cell_type": "code",
   "execution_count": 17,
   "id": "40fa857c-099b-4159-96ba-b68fa537222f",
   "metadata": {},
   "outputs": [
    {
     "data": {
      "text/html": [
       "20.8237983408314"
      ],
      "text/latex": [
       "20.8237983408314"
      ],
      "text/markdown": [
       "20.8237983408314"
      ],
      "text/plain": [
       "[1] 20.8238"
      ]
     },
     "metadata": {},
     "output_type": "display_data"
    }
   ],
   "source": [
    "max(pseudo_time_df_subset$pesudo_time_1)"
   ]
  },
  {
   "cell_type": "code",
   "execution_count": 24,
   "id": "8e8a1658-4474-4ad1-9d54-c2ae0f773444",
   "metadata": {},
   "outputs": [
    {
     "data": {
      "text/html": [
       "<style>\n",
       ".list-inline {list-style: none; margin:0; padding: 0}\n",
       ".list-inline>li {display: inline-block}\n",
       ".list-inline>li:not(:last-child)::after {content: \"\\00b7\"; padding: 0 .5ex}\n",
       "</style>\n",
       "<ol class=list-inline><li>'motif_GATA3_384'</li><li>'motif_STAT6_776'</li><li>'motif_STAT5A_774'</li><li>'motif_IRF4_632'</li><li>'motif_TBX21_780'</li><li>'motif_EOMES_788'</li></ol>\n"
      ],
      "text/latex": [
       "\\begin{enumerate*}\n",
       "\\item 'motif\\_GATA3\\_384'\n",
       "\\item 'motif\\_STAT6\\_776'\n",
       "\\item 'motif\\_STAT5A\\_774'\n",
       "\\item 'motif\\_IRF4\\_632'\n",
       "\\item 'motif\\_TBX21\\_780'\n",
       "\\item 'motif\\_EOMES\\_788'\n",
       "\\end{enumerate*}\n"
      ],
      "text/markdown": [
       "1. 'motif_GATA3_384'\n",
       "2. 'motif_STAT6_776'\n",
       "3. 'motif_STAT5A_774'\n",
       "4. 'motif_IRF4_632'\n",
       "5. 'motif_TBX21_780'\n",
       "6. 'motif_EOMES_788'\n",
       "\n",
       "\n"
      ],
      "text/plain": [
       "[1] \"motif_GATA3_384\"  \"motif_STAT6_776\"  \"motif_STAT5A_774\" \"motif_IRF4_632\"  \n",
       "[5] \"motif_TBX21_780\"  \"motif_EOMES_788\" "
      ]
     },
     "metadata": {},
     "output_type": "display_data"
    }
   ],
   "source": [
    "patterns <- c(\"GATA3\", \"STAT6\", \"STAT5A\", \"IRF4\",\"TBX21\",\"EOME\")\n",
    "\n",
    "matched_cols <- unlist(lapply(patterns, function(p) {\n",
    "  colnames(pseudo_time_df_subset)[grepl(p, colnames(pseudo_time_df_subset))]\n",
    "}))\n",
    "\n",
    "matched_cols\n"
   ]
  },
  {
   "cell_type": "code",
   "execution_count": 25,
   "id": "30e6d3b8-094c-4789-b772-f3dac6f62d58",
   "metadata": {},
   "outputs": [
    {
     "name": "stderr",
     "output_type": "stream",
     "text": [
      "\u001b[1m\u001b[22mNew names:\n",
      "\u001b[36m•\u001b[39m `...1` -> `...63`\n",
      "\u001b[1m\u001b[22mNew names:\n",
      "\u001b[36m•\u001b[39m `...1` -> `...63`\n",
      "\u001b[1m\u001b[22mNew names:\n",
      "\u001b[36m•\u001b[39m `...1` -> `...63`\n",
      "\u001b[1m\u001b[22mNew names:\n",
      "\u001b[36m•\u001b[39m `...1` -> `...63`\n",
      "\u001b[1m\u001b[22mNew names:\n",
      "\u001b[36m•\u001b[39m `...1` -> `...63`\n",
      "\u001b[1m\u001b[22mNew names:\n",
      "\u001b[36m•\u001b[39m `...1` -> `...63`\n"
     ]
    }
   ],
   "source": [
    "subset_data <- pseudo_time_df_subset %>%\n",
    "  group_by(AIFI_L3) %>%\n",
    "  group_modify(~ slice(.x, sample(nrow(.x), size = min(nrow(.x), 10000)))) %>%\n",
    "  ungroup()"
   ]
  },
  {
   "cell_type": "code",
   "execution_count": 51,
   "id": "f1e1696e-452c-41bd-939f-b7b9136b5044",
   "metadata": {},
   "outputs": [
    {
     "name": "stderr",
     "output_type": "stream",
     "text": [
      "\u001b[1m\u001b[22m`geom_smooth()` using formula = 'y ~ x'\n",
      "\u001b[1m\u001b[22m`geom_smooth()` using formula = 'y ~ x'\n",
      "\u001b[1m\u001b[22m`geom_smooth()` using formula = 'y ~ x'\n",
      "\u001b[1m\u001b[22m`geom_smooth()` using formula = 'y ~ x'\n",
      "\u001b[1m\u001b[22m`geom_smooth()` using formula = 'y ~ x'\n",
      "\u001b[1m\u001b[22m`geom_smooth()` using formula = 'y ~ x'\n"
     ]
    }
   ],
   "source": [
    "p_list <- list()\n",
    "for (i in matched_cols) {\n",
    "  \n",
    "  p <- ggplot(subset_data, aes(pesudo_time_1, !!as.name(i), color = Age_Group)) +\n",
    "    geom_smooth(method = \"loess\", aes(group = Age_Group, color = Age_Group), se = FALSE)\n",
    "  \n",
    "  smoothed_data <- ggplot_build(p)$data[[1]]\n",
    "  \n",
    "  smoothed_A <- smoothed_data[smoothed_data$colour == '#F8766D', c(\"x\", \"y\")]\n",
    "  smoothed_B <- smoothed_data[smoothed_data$colour == '#00BFC4', c(\"x\", \"y\")]\n",
    "  \n",
    "  merged_data <- cbind(smoothed_A, smoothed_B)    \n",
    "  colnames(merged_data) <- c(\"x.A\", \"y.A\", \"x.B\", \"y.B\")\n",
    "  merged_data$diff <- merged_data$y.B - merged_data$y.A  \n",
    "  \n",
    "  y_limit <- max(abs(range(merged_data$diff)))\n",
    "  \n",
    "  is_last <- i == tail(matched_cols, 1)\n",
    "  \n",
    "  p_list[[i]] <-ggplot(merged_data, aes(x = x.A, y = diff)) +\n",
    "  geom_area(data = subset(merged_data, diff >= 0), fill = \"#bf812d\", alpha = 0.8) +\n",
    "  geom_area(data = subset(merged_data, diff <= 0), fill = \"#35978f\", alpha = 0.8) +\n",
    "  geom_line(color = \"black\", size = 0.1) +\n",
    "  geom_hline(yintercept = 0, linewidth = 0.2, color = \"black\") +\n",
    "  labs(\n",
    "    y = NULL,\n",
    "    x = if (is_last) \"pesudo_time\" else NULL\n",
    "  ) +\n",
    "  theme_classic(base_size = 6) +\n",
    "  theme(\n",
    "    axis.title.x = if (is_last) element_text() else element_blank(),\n",
    "    axis.text.x  = if (is_last) element_text() else element_blank(),\n",
    "    axis.ticks.x = if (is_last) element_line() else element_blank(),\n",
    "    axis.title.y       = element_blank(),\n",
    "    axis.title.y.right = element_text(size = 6, angle = 0),\n",
    "    axis.text.y.right  = element_blank(),\n",
    "    axis.ticks.y.right = element_blank()\n",
    "  ) +\n",
    "  scale_y_continuous(\n",
    "    limits  = c(-0.32, 0.34),\n",
    "    sec.axis = sec_axis(~., name = str_extract(i, \"(?<=_)[^_]+(?=_)\"))\n",
    "  ) +\n",
    "  theme(plot.margin = margin(0, 0, 0, -1.2, \"cm\")) +\n",
    "  xlim(0, 21)\n",
    "\n",
    "\n",
    "}"
   ]
  },
  {
   "cell_type": "code",
   "execution_count": 52,
   "id": "1f52ee5b-2892-4957-a572-8462eedf46cc",
   "metadata": {},
   "outputs": [
    {
     "data": {
      "image/png": "[encoded data removed]",
      "text/plain": [
       "plot without title"
      ]
     },
     "metadata": {
      "image/png": {
       "height": 141.7323,
       "width": 188.9764
      }
     },
     "output_type": "display_data"
    }
   ],
   "source": [
    "options(repr.plot.width = 80/25.4, repr.plot.height =60/25.4)\n",
    "\n",
    "p_combined<-wrap_plots(p_list,ncol=1)+ \n",
    "  plot_layout(guides = \"collect\")\n",
    "\n",
    "p_combined"
   ]
  },
  {
   "cell_type": "code",
   "execution_count": 53,
   "id": "6b85dbb8-ab49-46f3-9139-8ec53706ee27",
   "metadata": {},
   "outputs": [],
   "source": [
    "summary_range<-subset_data %>% group_by(AIFI_L3) %>% summarize(\n",
    "  max_range = quantile(pesudo_time_1, 0.95),\n",
    "  min_range = quantile(pesudo_time_1, 0.05)\n",
    ")"
   ]
  },
  {
   "cell_type": "code",
   "execution_count": 54,
   "id": "d2025686-ee92-43c0-abef-e09fc2d44814",
   "metadata": {},
   "outputs": [],
   "source": [
    "celltype_order<-summary_range %>% arrange(min_range) %>% select(AIFI_L3) %>% pull() "
   ]
  },
  {
   "cell_type": "code",
   "execution_count": 55,
   "id": "1de78488-7a57-4133-8562-b53de2e0b910",
   "metadata": {},
   "outputs": [
    {
     "data": {
      "text/html": [
       "<style>\n",
       ".list-inline {list-style: none; margin:0; padding: 0}\n",
       ".list-inline>li {display: inline-block}\n",
       ".list-inline>li:not(:last-child)::after {content: \"\\00b7\"; padding: 0 .5ex}\n",
       "</style>\n",
       "<ol class=list-inline><li>Core naive CD8 T cell</li><li>CM CD8 T cell</li><li>GZMK- CD27+ EM CD8 T cell</li><li>GZMK+ CD27+ EM CD8 T cell</li><li>KLRF1+ GZMB+ CD27- EM CD8 T cell</li><li>KLRF1- GZMB+ CD27- EM CD8 T cell</li></ol>\n",
       "\n",
       "<details>\n",
       "\t<summary style=display:list-item;cursor:pointer>\n",
       "\t\t<strong>Levels</strong>:\n",
       "\t</summary>\n",
       "\t<style>\n",
       "\t.list-inline {list-style: none; margin:0; padding: 0}\n",
       "\t.list-inline>li {display: inline-block}\n",
       "\t.list-inline>li:not(:last-child)::after {content: \"\\00b7\"; padding: 0 .5ex}\n",
       "\t</style>\n",
       "\t<ol class=list-inline><li>'Core naive CD8 T cell'</li><li>'CM CD8 T cell'</li><li>'GZMK- CD27+ EM CD8 T cell'</li><li>'GZMK+ CD27+ EM CD8 T cell'</li><li>'KLRF1+ GZMB+ CD27- EM CD8 T cell'</li><li>'KLRF1- GZMB+ CD27- EM CD8 T cell'</li></ol>\n",
       "</details>"
      ],
      "text/latex": [
       "\\begin{enumerate*}\n",
       "\\item Core naive CD8 T cell\n",
       "\\item CM CD8 T cell\n",
       "\\item GZMK- CD27+ EM CD8 T cell\n",
       "\\item GZMK+ CD27+ EM CD8 T cell\n",
       "\\item KLRF1+ GZMB+ CD27- EM CD8 T cell\n",
       "\\item KLRF1- GZMB+ CD27- EM CD8 T cell\n",
       "\\end{enumerate*}\n",
       "\n",
       "\\emph{Levels}: \\begin{enumerate*}\n",
       "\\item 'Core naive CD8 T cell'\n",
       "\\item 'CM CD8 T cell'\n",
       "\\item 'GZMK- CD27+ EM CD8 T cell'\n",
       "\\item 'GZMK+ CD27+ EM CD8 T cell'\n",
       "\\item 'KLRF1+ GZMB+ CD27- EM CD8 T cell'\n",
       "\\item 'KLRF1- GZMB+ CD27- EM CD8 T cell'\n",
       "\\end{enumerate*}\n"
      ],
      "text/markdown": [
       "1. Core naive CD8 T cell\n",
       "2. CM CD8 T cell\n",
       "3. GZMK- CD27+ EM CD8 T cell\n",
       "4. GZMK+ CD27+ EM CD8 T cell\n",
       "5. KLRF1+ GZMB+ CD27- EM CD8 T cell\n",
       "6. KLRF1- GZMB+ CD27- EM CD8 T cell\n",
       "\n",
       "\n",
       "\n",
       "**Levels**: 1. 'Core naive CD8 T cell'\n",
       "2. 'CM CD8 T cell'\n",
       "3. 'GZMK- CD27+ EM CD8 T cell'\n",
       "4. 'GZMK+ CD27+ EM CD8 T cell'\n",
       "5. 'KLRF1+ GZMB+ CD27- EM CD8 T cell'\n",
       "6. 'KLRF1- GZMB+ CD27- EM CD8 T cell'\n",
       "\n",
       "\n"
      ],
      "text/plain": [
       "[1] Core naive CD8 T cell            CM CD8 T cell                   \n",
       "[3] GZMK- CD27+ EM CD8 T cell        GZMK+ CD27+ EM CD8 T cell       \n",
       "[5] KLRF1+ GZMB+ CD27- EM CD8 T cell KLRF1- GZMB+ CD27- EM CD8 T cell\n",
       "6 Levels: Core naive CD8 T cell CM CD8 T cell ... KLRF1- GZMB+ CD27- EM CD8 T cell"
      ]
     },
     "metadata": {},
     "output_type": "display_data"
    }
   ],
   "source": [
    "celltype_order"
   ]
  },
  {
   "cell_type": "code",
   "execution_count": 56,
   "id": "eb1ba658-282f-4495-9304-6b7c17928d2f",
   "metadata": {},
   "outputs": [],
   "source": [
    "subset_data$AIFI_L3<-factor(subset_data$AIFI_L3,levels=celltype_order)"
   ]
  },
  {
   "cell_type": "code",
   "execution_count": 57,
   "id": "347e84e1-bd0d-42cc-bc69-8b5f21a2014f",
   "metadata": {},
   "outputs": [
    {
     "name": "stderr",
     "output_type": "stream",
     "text": [
      "Picking joint bandwidth of 0.197\n",
      "\n"
     ]
    },
    {
     "data": {
      "image/png": "[encoded data removed]",
      "text/plain": [
       "plot without title"
      ]
     },
     "metadata": {
      "image/png": {
       "height": 120,
       "width": 720
      }
     },
     "output_type": "display_data"
    }
   ],
   "source": [
    "options(repr.plot.width = 12, repr.plot.height =2)\n",
    "summary_range<-subset_data %>% group_by(AIFI_L3) %>% summarize(\n",
    "  max_range = quantile(pesudo_time_1, 0.95),\n",
    "  min_range = quantile(pesudo_time_1, 0.05)\n",
    ")\n",
    "library(ggridges)\n",
    "\n",
    "p1 <- ggplot(subset_data, aes(x = pesudo_time_1, y = AIFI_L3)) +\n",
    "  geom_density_ridges_gradient(scale = 1.45, rel_min_height = 0.01, linewidth = 0.1) +\n",
    "  scale_fill_viridis_c(option = \"D\") +\n",
    "  scale_y_discrete(\n",
    "    name = \"Cell type\",\n",
    "    position = \"right\",\n",
    "    labels = function(x) str_wrap(x, width = 28)\n",
    "  ) +\n",
    "  theme_ridges(center_axis_labels = TRUE) +\n",
    "  theme_bw(base_size = 5) +\n",
    "  labs(x = \"Pseudotime\", fill = \"Pseudotime\") +\n",
    "  theme(\n",
    "    axis.text.y = element_text(size = 5),\n",
    "    axis.title.x = element_blank(),\n",
    "    axis.text.x = element_blank(),\n",
    "    axis.ticks.x = element_blank()\n",
    "  ) +\n",
    "  xlim(0, 21)\n",
    "\n",
    "p1"
   ]
  },
  {
   "cell_type": "raw",
   "id": "02161217-5876-4096-b364-5e6dd5a0eeae",
   "metadata": {},
   "source": [
    "options(repr.plot.width = 12, repr.plot.height =2)\n",
    "summary_range<-subset_data %>% group_by(celltype_new) %>% summarize(\n",
    "  max_range = quantile(pesudo_time_1, 0.95),\n",
    "  min_range = quantile(pesudo_time_1, 0.05)\n",
    ")\n",
    "p1<-ggplot(\n",
    "  summary_range %>% mutate(celltype_new = fct_reorder(celltype_new, min_range)), \n",
    "  aes(x = celltype_new)\n",
    ")+  geom_linerange(aes(ymin = min_range, ymax = max_range), linetype = 1, color = \"black\") +\n",
    "  geom_point(aes(y = min_range), size = 3, color = \"red\") +\n",
    "  geom_point(aes(y = max_range), size = 3, color = \"red\") +\n",
    "  theme_bw() +\n",
    "  coord_flip()+xlab(\"\")+ylab(\"\")+\n",
    "    theme(\n",
    "      axis.title.x =  element_blank(),\n",
    "      axis.text.x =  element_blank(),\n",
    "      axis.ticks.x =  element_blank()\n",
    "    ) +ylim(0,19)\n",
    "p1"
   ]
  },
  {
   "cell_type": "code",
   "execution_count": 58,
   "id": "2aa75951-a8ac-46b1-b677-c851a9302c04",
   "metadata": {},
   "outputs": [
    {
     "name": "stderr",
     "output_type": "stream",
     "text": [
      "Picking joint bandwidth of 0.197\n",
      "\n",
      "Picking joint bandwidth of 0.197\n",
      "\n"
     ]
    },
    {
     "data": {
      "image/png": "[encoded data removed]",
      "text/plain": [
       "plot without title"
      ]
     },
     "metadata": {
      "image/png": {
       "height": 153.5433,
       "width": 212.5984
      }
     },
     "output_type": "display_data"
    }
   ],
   "source": [
    "options(repr.plot.width = 90/25.4, repr.plot.height =65/25.4)\n",
    "\n",
    "p_combined_final<-p1 / p_combined+ plot_layout(heights = c(0.25, 1))\n",
    "p_combined_final\n",
    "ggsave(\"FigureE.pdf\", \n",
    "       p_combined_final, \n",
    "       width =  90/25.4, \n",
    "       height = 65/25.4)\n"
   ]
  },
  {
   "cell_type": "code",
   "execution_count": null,
   "id": "d4efd47e-2827-4cda-bea0-8d09bb9b390f",
   "metadata": {},
   "outputs": [],
   "source": []
  },
  {
   "cell_type": "code",
   "execution_count": null,
   "id": "3cff0f08-e430-4d9e-b8a4-aec0a8f9d008",
   "metadata": {},
   "outputs": [],
   "source": []
  }
 ],
 "metadata": {
  "kernelspec": {
   "display_name": "R_BRI_Figures",
   "language": "R",
   "name": "r_bri_figures"
  },
  "language_info": {
   "codemirror_mode": "r",
   "file_extension": ".r",
   "mimetype": "text/x-r-source",
   "name": "R",
   "pygments_lexer": "r",
   "version": "4.3.2"
  }
 },
 "nbformat": 4,
 "nbformat_minor": 5
}
