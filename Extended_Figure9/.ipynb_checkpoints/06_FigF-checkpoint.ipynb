{
 "cells": [
  {
   "cell_type": "code",
   "execution_count": 1,
   "id": "65eb7c74-8017-4ac8-ad76-2cb473068dbb",
   "metadata": {},
   "outputs": [
    {
     "name": "stderr",
     "output_type": "stream",
     "text": [
      "Warning message:\n",
      "“package ‘arrow’ was built under R version 4.3.3”\n",
      "\n",
      "Attaching package: ‘arrow’\n",
      "\n",
      "\n",
      "The following object is masked from ‘package:utils’:\n",
      "\n",
      "    timestamp\n",
      "\n",
      "\n",
      "Warning message:\n",
      "“package ‘tidyverse’ was built under R version 4.3.3”\n",
      "Warning message:\n",
      "“package ‘tibble’ was built under R version 4.3.3”\n",
      "Warning message:\n",
      "“package ‘tidyr’ was built under R version 4.3.3”\n",
      "Warning message:\n",
      "“package ‘readr’ was built under R version 4.3.3”\n",
      "Warning message:\n",
      "“package ‘purrr’ was built under R version 4.3.3”\n",
      "Warning message:\n",
      "“package ‘dplyr’ was built under R version 4.3.3”\n",
      "Warning message:\n",
      "“package ‘stringr’ was built under R version 4.3.3”\n",
      "Warning message:\n",
      "“package ‘forcats’ was built under R version 4.3.3”\n",
      "Warning message:\n",
      "“package ‘lubridate’ was built under R version 4.3.3”\n",
      "── \u001b[1mAttaching core tidyverse packages\u001b[22m ──────────────────────── tidyverse 2.0.0 ──\n",
      "\u001b[32m✔\u001b[39m \u001b[34mdplyr    \u001b[39m 1.1.4     \u001b[32m✔\u001b[39m \u001b[34mreadr    \u001b[39m 2.1.5\n",
      "\u001b[32m✔\u001b[39m \u001b[34mforcats  \u001b[39m 1.0.0     \u001b[32m✔\u001b[39m \u001b[34mstringr  \u001b[39m 1.5.1\n",
      "\u001b[32m✔\u001b[39m \u001b[34mggplot2  \u001b[39m 3.4.4     \u001b[32m✔\u001b[39m \u001b[34mtibble   \u001b[39m 3.2.1\n",
      "\u001b[32m✔\u001b[39m \u001b[34mlubridate\u001b[39m 1.9.3     \u001b[32m✔\u001b[39m \u001b[34mtidyr    \u001b[39m 1.3.1\n",
      "\u001b[32m✔\u001b[39m \u001b[34mpurrr    \u001b[39m 1.0.2     \n",
      "── \u001b[1mConflicts\u001b[22m ────────────────────────────────────────── tidyverse_conflicts() ──\n",
      "\u001b[31m✖\u001b[39m \u001b[34mlubridate\u001b[39m::\u001b[32mduration()\u001b[39m masks \u001b[34marrow\u001b[39m::duration()\n",
      "\u001b[31m✖\u001b[39m \u001b[34mdplyr\u001b[39m::\u001b[32mfilter()\u001b[39m       masks \u001b[34mstats\u001b[39m::filter()\n",
      "\u001b[31m✖\u001b[39m \u001b[34mdplyr\u001b[39m::\u001b[32mlag()\u001b[39m          masks \u001b[34mstats\u001b[39m::lag()\n",
      "\u001b[36mℹ\u001b[39m Use the conflicted package (\u001b[3m\u001b[34m<http://conflicted.r-lib.org/>\u001b[39m\u001b[23m) to force all conflicts to become errors\n",
      "Warning message:\n",
      "“package ‘data.table’ was built under R version 4.3.3”\n",
      "\n",
      "Attaching package: ‘data.table’\n",
      "\n",
      "\n",
      "The following objects are masked from ‘package:lubridate’:\n",
      "\n",
      "    hour, isoweek, mday, minute, month, quarter, second, wday, week,\n",
      "    yday, year\n",
      "\n",
      "\n",
      "The following objects are masked from ‘package:dplyr’:\n",
      "\n",
      "    between, first, last\n",
      "\n",
      "\n",
      "The following object is masked from ‘package:purrr’:\n",
      "\n",
      "    transpose\n",
      "\n",
      "\n",
      "Warning message:\n",
      "“package ‘patchwork’ was built under R version 4.3.3”\n",
      "Warning message:\n",
      "“package ‘reshape2’ was built under R version 4.3.3”\n",
      "\n",
      "Attaching package: ‘reshape2’\n",
      "\n",
      "\n",
      "The following objects are masked from ‘package:data.table’:\n",
      "\n",
      "    dcast, melt\n",
      "\n",
      "\n",
      "The following object is masked from ‘package:tidyr’:\n",
      "\n",
      "    smiths\n",
      "\n",
      "\n",
      "Warning message:\n",
      "“package ‘gridExtra’ was built under R version 4.3.3”\n",
      "\n",
      "Attaching package: ‘gridExtra’\n",
      "\n",
      "\n",
      "The following object is masked from ‘package:dplyr’:\n",
      "\n",
      "    combine\n",
      "\n",
      "\n",
      "Warning message:\n",
      "“package ‘pheatmap’ was built under R version 4.3.3”\n",
      "Warning message:\n",
      "“package ‘RColorBrewer’ was built under R version 4.3.3”\n",
      "Loading required package: viridisLite\n",
      "\n",
      "Warning message:\n",
      "“package ‘viridisLite’ was built under R version 4.3.3”\n"
     ]
    }
   ],
   "source": [
    "library(arrow)\n",
    "library(tidyverse)\n",
    "library(data.table)\n",
    "library(ggplot2)\n",
    "library(patchwork)\n",
    "library(reshape2)\n",
    "library(gridExtra)\n",
    "library(parallel)\n",
    "library(ggpubr)\n",
    "library(pheatmap)\n",
    "library(RColorBrewer)\n",
    "library(viridis)\n",
    "set.seed(42)"
   ]
  },
  {
   "cell_type": "code",
   "execution_count": 2,
   "id": "5f5f1f07-bc25-41ab-bddf-a0e49f362811",
   "metadata": {},
   "outputs": [],
   "source": [
    "clr_transform <- function(x) {\n",
    "  if (length(x) == 0) {\n",
    "    return(NA)  # return NA for empty vectors\n",
    "  }\n",
    "  geom_mean <- exp(mean(log(x)))\n",
    "  return(log(x / geom_mean))\n",
    "}\n",
    "\n",
    "save_pheatmap <- function(x, filename, width=12, height=12){\n",
    "  stopifnot(!missing(x))\n",
    "  stopifnot(!missing(filename))\n",
    "  if(grepl(\".png\",filename)){\n",
    "    png(filename, width=width, height=height, units = \"in\", res=300)\n",
    "    grid::grid.newpage()\n",
    "    grid::grid.draw(x$gtable)\n",
    "    dev.off()\n",
    "  }\n",
    "  else if(grepl(\".pdf\",filename)){\n",
    "    pdf(filename, width=width, height=height)\n",
    "    grid::grid.newpage()\n",
    "    grid::grid.draw(x$gtable)\n",
    "    dev.off()\n",
    "  }\n",
    "  else{\n",
    "    print(\"Filename did not contain '.png' or '.pdf'\")\n",
    "  }}"
   ]
  },
  {
   "cell_type": "code",
   "execution_count": 3,
   "id": "19798e23-a27c-4c9f-9357-e392919638bd",
   "metadata": {},
   "outputs": [],
   "source": [
    "meta_data <- read.csv(\"/home//workspace/IHA_Figure_Revision/Dataset/scRNA_meta_data-2024-05-09.csv\")"
   ]
  },
  {
   "cell_type": "code",
   "execution_count": 4,
   "id": "a47714e2-a555-48ce-9d7c-3e313fb491e0",
   "metadata": {},
   "outputs": [
    {
     "name": "stderr",
     "output_type": "stream",
     "text": [
      "\u001b[1mRows: \u001b[22m\u001b[34m6937027\u001b[39m \u001b[1mColumns: \u001b[22m\u001b[34m32\u001b[39m\n",
      "\u001b[36m──\u001b[39m \u001b[1mColumn specification\u001b[22m \u001b[36m────────────────────────────────────────────────────────\u001b[39m\n",
      "\u001b[1mDelimiter:\u001b[22m \",\"\n",
      "\u001b[31mchr\u001b[39m (10): condition, donor, time, group, cell_type, L1, L2, L3, L4, Final_Ce...\n",
      "\u001b[32mdbl\u001b[39m (22): FSC, FSC-H, SSC, SSC-B, SSC-B-H, SSC-H, CCR7, IFNg, CD3, CD45RA, C...\n",
      "\n",
      "\u001b[36mℹ\u001b[39m Use `spec()` to retrieve the full column specification for this data.\n",
      "\u001b[36mℹ\u001b[39m Specify the column types or set `show_col_types = FALSE` to quiet this message.\n"
     ]
    }
   ],
   "source": [
    "df<-readr::read_csv('../Figure5/04_TCR_Stim_Exp/annotated1.csv')"
   ]
  },
  {
   "cell_type": "code",
   "execution_count": 5,
   "id": "62cd2d24-2e72-427c-81cf-507de8fd9156",
   "metadata": {},
   "outputs": [
    {
     "name": "stderr",
     "output_type": "stream",
     "text": [
      "\u001b[1m\u001b[22m`summarise()` has grouped output by 'donor', 'condition'. You can override\n",
      "using the `.groups` argument.\n"
     ]
    }
   ],
   "source": [
    "freq_df<-df %>%\n",
    "    group_by(donor, condition, Final_Celltype) %>%\n",
    "    summarise(count = n()) %>%\n",
    "    group_by(donor, condition) %>%\n",
    "    dplyr::mutate(percentage = (count/sum(count)) * 100) %>%\n",
    "    dplyr::mutate(percentage_clr = clr_transform((percentage)))"
   ]
  },
  {
   "cell_type": "code",
   "execution_count": 6,
   "id": "eed73fdf-6ac8-433b-9cfa-ce6721d65bdd",
   "metadata": {},
   "outputs": [],
   "source": [
    "freq_df$cohort<-substr(freq_df$donor,1,3)"
   ]
  },
  {
   "cell_type": "code",
   "execution_count": 7,
   "id": "b65b2fac-f11e-476e-a9af-da332a3c3eef",
   "metadata": {},
   "outputs": [],
   "source": [
    "freq_df<-left_join(freq_df,unique(meta_data[c('subjectGuid','CMV')]),\n",
    "                   by =c(\"donor\"=\"subjectGuid\"))"
   ]
  },
  {
   "cell_type": "code",
   "execution_count": 8,
   "id": "e0cb28a3-d444-4c81-b9bf-8a96dcaada42",
   "metadata": {},
   "outputs": [],
   "source": [
    "freq_df_subset<-freq_df %>%\n",
    "    filter(grepl(\"IL4\\\\+\", Final_Celltype), \n",
    "           grepl(\"IFNg\\\\+\", Final_Celltype), grepl(\"CD8\", Final_Celltype),\n",
    "            grepl(\"CD27\\\\+\", Final_Celltype),\n",
    "           grepl(\"TCR\", condition),\n",
    "           !grepl(\"Other\", Final_Celltype)) %>% ungroup()"
   ]
  },
  {
   "cell_type": "code",
   "execution_count": 9,
   "id": "fd8eec0a-0047-44b7-9ef9-44bd221234a6",
   "metadata": {},
   "outputs": [],
   "source": [
    "freq_df_subset<-freq_df_subset %>% mutate(`Age Group`=case_when(cohort==\"BR1\"~\"Young\", TRUE~'Older'))\n",
    "freq_df_subset$`Age Group`<-factor(freq_df_subset$`Age Group`,levels=c(\"Young\",\"Older\"))"
   ]
  },
  {
   "cell_type": "code",
   "execution_count": 14,
   "id": "462ae408-00d2-421a-b016-6c8a1e4f29f1",
   "metadata": {},
   "outputs": [
    {
     "data": {
      "image/png": "[encoded data removed]",
      "text/plain": [
       "plot without title"
      ]
     },
     "metadata": {
      "image/png": {
       "height": 70.8661,
       "width": 165.3543
      }
     },
     "output_type": "display_data"
    }
   ],
   "source": [
    "options(repr.plot.width = 70/25.4, repr.plot.height = 30/25.4)\n",
    "\n",
    "p<-ggplot(freq_df_subset, aes( x = `Age Group`, y = percentage_clr, fill=`Age Group`)) +\n",
    "    geom_boxplot(outlier.shape = NA,lwd=0.3) +\n",
    "geom_point(position = position_jitter(width = 0.2),color=\"black\", size=0.8,stroke=0) +\n",
    "theme_classic(base_size=6)+  \n",
    "stat_compare_means(aes(label = paste0(\"p = \", after_stat(p.format))),\n",
    "    size=2,\n",
    "    label.x=1.25,  \n",
    "    vjust = 0.5)+\n",
    "    scale_fill_manual(values = c(\"Older\" = '#bf812d', \"Young\" = '#35978f'))+\n",
    "    scale_y_continuous(limits = c(NA, NA), \n",
    "                       expand = expansion(mult = c(0.1, 0.15)))+\n",
    "theme(legend.position=\"none\")+\n",
    "xlab('')+\n",
    "ylab('Frequency (CLR)')+facet_wrap(~Final_Celltype,scale=\"free\")\n",
    "\n",
    "\n",
    "p\n",
    "ggsave('FigureA.pdf',p,width = 60/25.4,height = 30/25.4)"
   ]
  },
  {
   "cell_type": "code",
   "execution_count": null,
   "id": "5a2c31ff-06bb-4253-8ebf-94b44b2505ce",
   "metadata": {},
   "outputs": [],
   "source": []
  },
  {
   "cell_type": "code",
   "execution_count": null,
   "id": "3cf7d188-8eb3-46b0-9cda-8108125f7603",
   "metadata": {},
   "outputs": [],
   "source": []
  }
 ],
 "metadata": {
  "kernelspec": {
   "display_name": "R_BRI_Figures",
   "language": "R",
   "name": "r_bri_figures"
  },
  "language_info": {
   "codemirror_mode": "r",
   "file_extension": ".r",
   "mimetype": "text/x-r-source",
   "name": "R",
   "pygments_lexer": "r",
   "version": "4.3.2"
  }
 },
 "nbformat": 4,
 "nbformat_minor": 5
}
