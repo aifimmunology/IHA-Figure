{
 "cells": [
  {
   "cell_type": "code",
   "execution_count": 1,
   "id": "fef90823-d133-41f5-92a4-2fe6065fa8e1",
   "metadata": {},
   "outputs": [
    {
     "name": "stderr",
     "output_type": "stream",
     "text": [
      "Warning message:\n",
      "“package ‘dplyr’ was built under R version 4.3.3”\n",
      "Warning message:\n",
      "“package ‘tidyr’ was built under R version 4.3.3”\n",
      "Warning message:\n",
      "“package ‘tibble’ was built under R version 4.3.3”\n",
      "Warning message:\n",
      "“package ‘pheatmap’ was built under R version 4.3.3”\n",
      "Warning message:\n",
      "“package ‘plyr’ was built under R version 4.3.3”\n",
      "Warning message:\n",
      "“package ‘RColorBrewer’ was built under R version 4.3.3”\n",
      "Loading required package: viridisLite\n",
      "\n",
      "Warning message:\n",
      "“package ‘viridisLite’ was built under R version 4.3.3”\n"
     ]
    }
   ],
   "source": [
    "suppressPackageStartupMessages(library(dplyr))\n",
    "suppressPackageStartupMessages(library(tidyr))\n",
    "suppressPackageStartupMessages(library(tibble))\n",
    "suppressPackageStartupMessages(library(ggplot2))\n",
    "suppressPackageStartupMessages(library(pheatmap))\n",
    "suppressPackageStartupMessages(library(plyr))\n",
    "library(pheatmap)\n",
    "library(RColorBrewer)\n",
    "library(viridis)"
   ]
  },
  {
   "cell_type": "code",
   "execution_count": 2,
   "id": "91e06341-2898-41ac-a915-24cbb3b303b4",
   "metadata": {},
   "outputs": [],
   "source": [
    "save_pheatmap <- function(x, filename, width=12, height=12){\n",
    "  stopifnot(!missing(x))\n",
    "  stopifnot(!missing(filename))\n",
    "  if(grepl(\".png\",filename)){\n",
    "    png(filename, width=width, height=height, units = \"in\", res=300)\n",
    "    grid::grid.newpage()\n",
    "    grid::grid.draw(x$gtable)\n",
    "    dev.off()\n",
    "  }\n",
    "  else if(grepl(\".pdf\",filename)){\n",
    "    pdf(filename, width=width, height=height)\n",
    "    grid::grid.newpage()\n",
    "    grid::grid.draw(x$gtable)\n",
    "    dev.off()\n",
    "  }\n",
    "  else{\n",
    "    print(\"Filename did not contain '.png' or '.pdf'\")\n",
    "  }}"
   ]
  },
  {
   "cell_type": "code",
   "execution_count": 5,
   "id": "81fd64e2-3b78-4681-a52f-204ddbfb7404",
   "metadata": {},
   "outputs": [],
   "source": [
    "df<-read.csv(\"01_Extract_Olink/SF_Selected_Olink.csv\",row.names = 1)\n",
    "Top_annotation<-read.csv(\"01_Extract_Olink/col_annotation_sf.csv\",row.names = 1)"
   ]
  },
  {
   "cell_type": "code",
   "execution_count": 6,
   "id": "afd71d75-ed28-4b46-8705-7076c67939e8",
   "metadata": {},
   "outputs": [
    {
     "data": {
      "text/html": [
       "<strong>pdf:</strong> 2"
      ],
      "text/latex": [
       "\\textbf{pdf:} 2"
      ],
      "text/markdown": [
       "**pdf:** 2"
      ],
      "text/plain": [
       "pdf \n",
       "  2 "
      ]
     },
     "metadata": {},
     "output_type": "display_data"
    },
    {
     "data": {
      "image/png": "[encoded data removed]",
      "text/plain": [
       "plot without title"
      ]
     },
     "metadata": {
      "image/png": {
       "height": 94.4882,
       "width": 354.3307
      }
     },
     "output_type": "display_data"
    }
   ],
   "source": [
    "options(repr.plot.width = 150/25.4, repr.plot.height =  40/25.4)\n",
    "breaks_sequence <- seq(-1, 1, length.out = 100)\n",
    "p<-pheatmap(df, \n",
    "         breaks=breaks_sequence,\n",
    "         cluster_rows=FALSE, \n",
    "         annotation=Top_annotation,         \n",
    "         fontsize = 6,\n",
    "         cluster_cols=FALSE,\n",
    "         gaps_row = c(1,4,7),\n",
    "         show_colnames=FALSE,color= cividis(100),\n",
    "         border_color=NA,\n",
    "         scale='row')\n",
    "p\n",
    "save_pheatmap(p,'FigureI.pdf', width=150/25.4, height=40/25.4)"
   ]
  },
  {
   "cell_type": "code",
   "execution_count": 10,
   "id": "f640649a-465e-414d-ac37-a16434b3022e",
   "metadata": {},
   "outputs": [],
   "source": [
    "write.csv(df  ,\n",
    "          \"/home//workspace/Source_Data/Extended_Fig9b_1.csv\")\n",
    "write.csv(Top_annotation  ,\n",
    "          \"/home//workspace/Source_Data/Extended_Fig9b_2.csv\")"
   ]
  },
  {
   "cell_type": "code",
   "execution_count": null,
   "id": "d9dd8dd5-5d20-4a78-bcf2-feb84a134b46",
   "metadata": {},
   "outputs": [],
   "source": []
  }
 ],
 "metadata": {
  "kernelspec": {
   "display_name": "R_BRI_Figures",
   "language": "R",
   "name": "r_bri_figures"
  },
  "language_info": {
   "codemirror_mode": "r",
   "file_extension": ".r",
   "mimetype": "text/x-r-source",
   "name": "R",
   "pygments_lexer": "r",
   "version": "4.3.2"
  }
 },
 "nbformat": 4,
 "nbformat_minor": 5
}
