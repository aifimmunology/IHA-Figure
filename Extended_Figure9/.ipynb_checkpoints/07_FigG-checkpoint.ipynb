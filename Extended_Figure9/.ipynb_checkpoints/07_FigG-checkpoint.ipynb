{
 "cells": [
  {
   "cell_type": "code",
   "execution_count": 44,
   "id": "77606dac-06c6-4e9b-8872-7979638c95a4",
   "metadata": {},
   "outputs": [],
   "source": [
    "library(hise)\n",
    "library(dplyr)\n",
    "library(ggplot2)\n",
    "library(stats)\n",
    "library(tidyverse)\n",
    "library(readxl)\n",
    "library(parallel)\n",
    "library(ggpubr)\n",
    "clr_transform <- function(x) {\n",
    "  if (length(x) == 0) {\n",
    "    return(NA)  # return NA for empty vectors\n",
    "  }\n",
    "  geom_mean <- exp(mean(log(x)))\n",
    "  return(log(x / geom_mean))\n",
    "}"
   ]
  },
  {
   "cell_type": "code",
   "execution_count": 45,
   "id": "6b67bde7-5b5a-42d5-a8c1-6a6d70a394d1",
   "metadata": {},
   "outputs": [],
   "source": [
    "df<-read.csv(\"../Figure4/10_Isotype_MSD/Isotype_MSD_Processed.csv\")"
   ]
  },
  {
   "cell_type": "code",
   "execution_count": 46,
   "id": "be1b37a8-11ab-44a2-86c4-b318b0d443e3",
   "metadata": {},
   "outputs": [],
   "source": [
    "df_filtered<-df %>%\n",
    "    group_by(Assay, Isotype, subjectGuid) %>%\n",
    "    mutate(count = n()) %>%\n",
    "    filter(count == 2)"
   ]
  },
  {
   "cell_type": "code",
   "execution_count": 47,
   "id": "9f6b05d7-4dd0-4ff3-8657-1470a6d61803",
   "metadata": {},
   "outputs": [],
   "source": [
    "Ratio<-df_filtered %>% ungroup() %>% filter(Isotype %in% c(\"IgG2\",\"IgG3\")) %>%\n",
    "    group_by(Assay, Flu_Day, subjectGuid) %>%\n",
    "    mutate(count = n()) %>%\n",
    "    filter(count == 2)%>% ungroup() %>% \n",
    "group_by(subjectGuid,Flu_Day,Assay) %>% \n",
    "arrange(Isotype) %>%\n",
    "mutate(IgG2_IgG3_Ratio= first(`log.10.Calc..Conc..Mean`)/`log.10.Calc..Conc..Mean` )"
   ]
  },
  {
   "cell_type": "code",
   "execution_count": 48,
   "id": "57dc1eee-7609-4abc-9116-1103b61ffafa",
   "metadata": {},
   "outputs": [
    {
     "name": "stderr",
     "output_type": "stream",
     "text": [
      "\u001b[1mRows: \u001b[22m\u001b[34m6937027\u001b[39m \u001b[1mColumns: \u001b[22m\u001b[34m32\u001b[39m\n",
      "\u001b[36m──\u001b[39m \u001b[1mColumn specification\u001b[22m \u001b[36m────────────────────────────────────────────────────────\u001b[39m\n",
      "\u001b[1mDelimiter:\u001b[22m \",\"\n",
      "\u001b[31mchr\u001b[39m (10): condition, donor, time, group, cell_type, L1, L2, L3, L4, Final_Ce...\n",
      "\u001b[32mdbl\u001b[39m (22): FSC, FSC-H, SSC, SSC-B, SSC-B-H, SSC-H, CCR7, IFNg, CD3, CD45RA, C...\n",
      "\n",
      "\u001b[36mℹ\u001b[39m Use `spec()` to retrieve the full column specification for this data.\n",
      "\u001b[36mℹ\u001b[39m Specify the column types or set `show_col_types = FALSE` to quiet this message.\n"
     ]
    }
   ],
   "source": [
    "meta_data <- read.csv(\"/home//workspace/IHA_Figure_Revision/Dataset/scRNA_meta_data-2024-05-09.csv\")\n",
    "df<-readr::read_csv('../Figure5/04_TCR_Stim_Exp/annotated1.csv')\n",
    "df<-left_join(df,unique(meta_data[c('subjectGuid','CMV')]),\n",
    "              by =c(\"donor\"=\"subjectGuid\"))"
   ]
  },
  {
   "cell_type": "code",
   "execution_count": 49,
   "id": "ac38c031-dfcf-4946-81ae-5c08fe4d4a0c",
   "metadata": {},
   "outputs": [],
   "source": [
    "Ratio_subset<-df_filtered %>% ungroup() %>% filter(Isotype %in% c(\"IgG2\",\"IgG3\")) %>%\n",
    "    group_by(Assay, Flu_Day, subjectGuid) %>%\n",
    "    mutate(count = n()) %>%\n",
    "    filter(count == 2)%>% ungroup() %>% \n",
    "group_by(subjectGuid,Flu_Day,Assay) %>% \n",
    "arrange(Isotype) %>%\n",
    "mutate(IgG2_IgG3_Ratio= first(`log.10.Calc..Conc..Mean`)/`log.10.Calc..Conc..Mean` )%>%\n",
    "    filter(Isotype == \"IgG3\",Assay==\"Flu B/Phuket HA\")"
   ]
  },
  {
   "cell_type": "code",
   "execution_count": 50,
   "id": "8a295dde-903f-4cf9-bbf8-a52885a1aa11",
   "metadata": {},
   "outputs": [
    {
     "name": "stderr",
     "output_type": "stream",
     "text": [
      "\u001b[1m\u001b[22m`summarise()` has grouped output by 'donor', 'condition'. You can override\n",
      "using the `.groups` argument.\n"
     ]
    }
   ],
   "source": [
    "freq_df<-df %>%\n",
    "    mutate(Final_Celltype=paste(L4,L2,L1))%>%\n",
    "    group_by(donor, condition, Final_Celltype) %>%\n",
    "    summarise(count = n()) %>%\n",
    "    group_by(donor, condition) %>%\n",
    "    dplyr::mutate(percentage = (count/sum(count)) * 100) %>%\n",
    "    dplyr::mutate(percentage_clr = clr_transform((percentage)))"
   ]
  },
  {
   "cell_type": "code",
   "execution_count": 51,
   "id": "391a55dc-19ce-4006-90f0-e39cda969986",
   "metadata": {
    "scrolled": true
   },
   "outputs": [
    {
     "name": "stderr",
     "output_type": "stream",
     "text": [
      "Warning message in left_join(freq_df %>% filter(condition == \"TCR\"), Ratio_subset, :\n",
      "“\u001b[1m\u001b[22mDetected an unexpected many-to-many relationship between `x` and `y`.\n",
      "\u001b[36mℹ\u001b[39m Row 1 of `x` matches multiple rows in `y`.\n",
      "\u001b[36mℹ\u001b[39m Row 1 of `y` matches multiple rows in `x`.\n",
      "\u001b[36mℹ\u001b[39m If a many-to-many relationship is expected, set `relationship =\n",
      "  \"many-to-many\"` to silence this warning.”\n"
     ]
    }
   ],
   "source": [
    "df_combined<-left_join(freq_df %>% filter(condition==\"TCR\"),Ratio_subset , \n",
    "                       by =c(\"donor\"=\"subjectGuid\"))"
   ]
  },
  {
   "cell_type": "code",
   "execution_count": 56,
   "id": "dc69673a-dec4-464a-87d0-7a962eb25f1d",
   "metadata": {},
   "outputs": [
    {
     "data": {
      "text/html": [
       "<style>\n",
       ".list-inline {list-style: none; margin:0; padding: 0}\n",
       ".list-inline>li {display: inline-block}\n",
       ".list-inline>li:not(:last-child)::after {content: \"\\00b7\"; padding: 0 .5ex}\n",
       "</style>\n",
       "<ol class=list-inline><li>'IFNg+ IL4+ Memory CD4+'</li><li>'IFNg+ IL4+ Memory CD8+'</li><li>'IFNg+ IL4- Memory CD4+'</li><li>'IFNg+ IL4- Memory CD8+'</li><li>'IFNg- IL4+ Memory CD4+'</li><li>'IFNg- IL4+ Memory CD8+'</li><li>'IFNg- IL4- Memory CD4+'</li><li>'IFNg- IL4- Memory CD8+'</li><li>'NA Naive CD4+'</li><li>'NA Naive CD8+'</li></ol>\n"
      ],
      "text/latex": [
       "\\begin{enumerate*}\n",
       "\\item 'IFNg+ IL4+ Memory CD4+'\n",
       "\\item 'IFNg+ IL4+ Memory CD8+'\n",
       "\\item 'IFNg+ IL4- Memory CD4+'\n",
       "\\item 'IFNg+ IL4- Memory CD8+'\n",
       "\\item 'IFNg- IL4+ Memory CD4+'\n",
       "\\item 'IFNg- IL4+ Memory CD8+'\n",
       "\\item 'IFNg- IL4- Memory CD4+'\n",
       "\\item 'IFNg- IL4- Memory CD8+'\n",
       "\\item 'NA Naive CD4+'\n",
       "\\item 'NA Naive CD8+'\n",
       "\\end{enumerate*}\n"
      ],
      "text/markdown": [
       "1. 'IFNg+ IL4+ Memory CD4+'\n",
       "2. 'IFNg+ IL4+ Memory CD8+'\n",
       "3. 'IFNg+ IL4- Memory CD4+'\n",
       "4. 'IFNg+ IL4- Memory CD8+'\n",
       "5. 'IFNg- IL4+ Memory CD4+'\n",
       "6. 'IFNg- IL4+ Memory CD8+'\n",
       "7. 'IFNg- IL4- Memory CD4+'\n",
       "8. 'IFNg- IL4- Memory CD8+'\n",
       "9. 'NA Naive CD4+'\n",
       "10. 'NA Naive CD8+'\n",
       "\n",
       "\n"
      ],
      "text/plain": [
       " [1] \"IFNg+ IL4+ Memory CD4+\" \"IFNg+ IL4+ Memory CD8+\" \"IFNg+ IL4- Memory CD4+\"\n",
       " [4] \"IFNg+ IL4- Memory CD8+\" \"IFNg- IL4+ Memory CD4+\" \"IFNg- IL4+ Memory CD8+\"\n",
       " [7] \"IFNg- IL4- Memory CD4+\" \"IFNg- IL4- Memory CD8+\" \"NA Naive CD4+\"         \n",
       "[10] \"NA Naive CD8+\"         "
      ]
     },
     "metadata": {},
     "output_type": "display_data"
    }
   ],
   "source": [
    "unique(df_combined$Final_Celltype)\n"
   ]
  },
  {
   "cell_type": "code",
   "execution_count": 60,
   "id": "fa1d403b-1a6d-41dd-9f21-7d3979c7ea5a",
   "metadata": {},
   "outputs": [
    {
     "name": "stderr",
     "output_type": "stream",
     "text": [
      "\u001b[1m\u001b[22m`geom_smooth()` using formula = 'y ~ x'\n",
      "\u001b[1m\u001b[22m`geom_smooth()` using formula = 'y ~ x'\n"
     ]
    },
    {
     "data": {
      "image/png": "[encoded data removed]",
      "text/plain": [
       "plot without title"
      ]
     },
     "metadata": {
      "image/png": {
       "height": 106.2992,
       "width": 106.2992
      }
     },
     "output_type": "display_data"
    }
   ],
   "source": [
    "\n",
    "\n",
    "options(repr.plot.width = 40/25.4, repr.plot.height =  60/25.4)\n",
    "\n",
    "p <- ggplot(data = df_combined %>%filter(!is.na(Flu_Day ),Flu_Day==\"Day_7\",Final_Celltype==\"IFNg+ IL4+ Memory CD8+\") %>% \n",
    "    filter(grepl(\"IL4\\\\+\", Final_Celltype), grepl(\"IFNg\\\\+\", Final_Celltype)),mapping = aes(y = IgG2_IgG3_Ratio, x = percentage_clr)) +\n",
    "  geom_point(size = 0.6, stroke = 0.25) +\n",
    "  geom_smooth(method = 'lm', color = \"black\", se = FALSE, linewidth = 0.5) +\n",
    "  stat_cor(\n",
    "    method = \"spearman\",\n",
    "    aes(label = paste0(\"R = \", ..r.., \"\\nP = \", ..p..)),\n",
    "    label.x.npc = \"left\", \n",
    "    label.y.npc = \"top\",   output.type = \"text\",\n",
    "color =\"blue\",\n",
    "    size = 1.76\n",
    "  ) +\n",
    "  theme_bw(base_size = 6) + scale_y_continuous(expand = expansion(mult = c(0.05, 0.35))) + theme(\n",
    "  axis.title   = element_text(color = \"black\"),\n",
    "  axis.text    = element_text(color = \"black\"),\n",
    "    strip.text.x      = element_text(margin = margin(t = 1, b = 1))\n",
    "\n",
    "\n",
    ")+xlab(\"Frequency (CLR)\")\n",
    "options(repr.plot.width = 45/25.4, repr.plot.height =  45/25.4)\n",
    "\n",
    "p\n",
    "ggsave('FigureJ.pdf',\n",
    "       p, width = 45/25.4,\n",
    "       height = 45/25.4)"
   ]
  },
  {
   "cell_type": "code",
   "execution_count": null,
   "id": "08a90d34-143c-4d49-9113-1222b0cf617e",
   "metadata": {},
   "outputs": [],
   "source": []
  }
 ],
 "metadata": {
  "kernelspec": {
   "display_name": "R_BRI_Figures",
   "language": "R",
   "name": "r_bri_figures"
  },
  "language_info": {
   "codemirror_mode": "r",
   "file_extension": ".r",
   "mimetype": "text/x-r-source",
   "name": "R",
   "pygments_lexer": "r",
   "version": "4.3.2"
  }
 },
 "nbformat": 4,
 "nbformat_minor": 5
}
